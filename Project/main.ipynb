{
 "cells": [
  {
   "cell_type": "markdown",
   "metadata": {},
   "source": [
    "# \"Chill Havana\" Project\n",
    "### Análisis de Bares y Restaurantes en La Habana"
   ]
  },
  {
   "cell_type": "markdown",
   "metadata": {},
   "source": [
    "Un día como cualquiera salía un grupo de jóvenes de su escuela con ganas de pasar un rato chill con los colegas, algo para picar y una musiquita de fondo. Ya todos habían dado el sí cuando alguien soltó la misma pregunta de siempre: Loco, ¿pero a dónde vamos? Nada, que esa era la pregunta que casi siempre cortaba todo el rollo. Buscar el sitio ideal para las vibes del momento era bastante complicado, en ningún sitio ponían toda la info necesaria. "
   ]
  },
  {
   "cell_type": "markdown",
   "metadata": {},
   "source": [
    "-\"Tú busca en MenúCuba, ella en Instagram y yo la dirección en Maps, y ojalá salga todo!\""
   ]
  },
  {
   "cell_type": "markdown",
   "metadata": {},
   "source": [
    "¿Nunca has sentido tremendo agobio de escoger a qué lugar salir? Pues ellos sí y decidieron que era la última vez. ¿Qué es lo más importante para ti a la hora de elegir? ¿La variedad del menú? ¿Un plato específico? ¿La ubicación? ¿La valoración de otras personas? \n",
    "Nada, que tú puedes elegir lo que quieras porque para eso aquella tarde nació el proyecto \"Chill Havana\"."
   ]
  },
  {
   "cell_type": "markdown",
   "metadata": {},
   "source": [
    "Al final, después de tanto debate, ese día no salieron, se quedaron pensando y organizando sus ideas. Sí, sí, ellos se tomaron el problema como algo personal, pero tranqui, tenían su arma secreta: el amiguito del grupo que le sabía a la tecnología. Estaba clarísimo, querían hacer una página web que tuviera datos sobre más de 200 bares y restaurantes de La Habana para que cualquiera que quisiera elegir un lugar pudiera encontrar allí todo lo necesario para decidirse por el más adecuado para la ocasión.\n",
    "Oye, que el proyecto era tremenda idea eh. ¿Cómo crees que cambiaría las cosas tener un sitio web tan guay?"
   ]
  },
  {
   "cell_type": "code",
   "execution_count": 68,
   "metadata": {},
   "outputs": [],
   "source": [
    "#Crear el dataframe con los json para el trabajo con las bibliotecas de Python\n",
    "import glob\n",
    "import json\n",
    "import pandas as pd\n",
    "import matplotlib.pyplot as plt\n",
    "import folium\n",
    "import plotly.express as px\n",
    "import numpy as np\n",
    "import warnings\n",
    "warnings.filterwarnings(\"ignore\")\n",
    "\n",
    "def crear_data_frame():\n",
    "    ruta = \"C:/Users/andre/Desktop/Chill_Havana_Project/Jsons\"\n",
    "    data = []\n",
    "    for archivo in glob.glob(ruta + \"/*.json\"):\n",
    "        with open(archivo, 'r', encoding='utf-8') as f:\n",
    "            contenido = json.load(f)\n",
    "            data.append(contenido)\n",
    "            \n",
    "    df = pd.DataFrame(data)\n",
    "    return df\n",
    "\n",
    "df = crear_data_frame()\n",
    "#print(df['name'])"
   ]
  },
  {
   "cell_type": "markdown",
   "metadata": {},
   "source": [
    "El grupo seleccionó tres municipios cabecera por ser los más frecuentados por ellos y por muchos habaneros: Plaza de la Revolución, Playa y Centro Habana, de estos tres analizaron 30 establecimientos y del resto solo 10, pero antes de lanzarse a la creación de su página web, se dieron cuenta de que había una pregunta crucial que necesitaban responder: ¿Qué tipo de establecimiento predominaba más en La Habana: bar, restaurante o bar-restaurante? \n",
    "Un día, mientras revisaban las respuestas, uno de los chicos del grupo se dio cuenta de algo. -\"¡Espera! Entre los sitios de los cuales tenemos información hay más restaurantes que los otros dos tipos, podríamos enfocar nuestro proyecto en destacar los mejores lugares para comer.\"\n",
    "Fue entonces cuando se dieron cuenta de que no solo querían crear una página web; querían entender el sistema gastronómico de La Habana."
   ]
  },
  {
   "cell_type": "code",
   "execution_count": 8,
   "metadata": {},
   "outputs": [
    {
     "data": {
      "application/vnd.plotly.v1+json": {
       "config": {
        "plotlyServerURL": "https://plot.ly"
       },
       "data": [
        {
         "domain": {
          "x": [
           0,
           1
          ],
          "y": [
           0,
           1
          ]
         },
         "hole": 0.1,
         "hovertemplate": "Tipo de Establecimiento=%{label}<br>Cantidad=%{value}<extra></extra>",
         "labels": [
          "restaurante",
          "bar - restaurante",
          "bar"
         ],
         "legendgroup": "",
         "name": "",
         "showlegend": true,
         "type": "pie",
         "values": [
          125,
          74,
          2
         ]
        }
       ],
       "layout": {
        "legend": {
         "tracegroupgap": 0
        },
        "template": {
         "data": {
          "bar": [
           {
            "error_x": {
             "color": "#2a3f5f"
            },
            "error_y": {
             "color": "#2a3f5f"
            },
            "marker": {
             "line": {
              "color": "#E5ECF6",
              "width": 0.5
             },
             "pattern": {
              "fillmode": "overlay",
              "size": 10,
              "solidity": 0.2
             }
            },
            "type": "bar"
           }
          ],
          "barpolar": [
           {
            "marker": {
             "line": {
              "color": "#E5ECF6",
              "width": 0.5
             },
             "pattern": {
              "fillmode": "overlay",
              "size": 10,
              "solidity": 0.2
             }
            },
            "type": "barpolar"
           }
          ],
          "carpet": [
           {
            "aaxis": {
             "endlinecolor": "#2a3f5f",
             "gridcolor": "white",
             "linecolor": "white",
             "minorgridcolor": "white",
             "startlinecolor": "#2a3f5f"
            },
            "baxis": {
             "endlinecolor": "#2a3f5f",
             "gridcolor": "white",
             "linecolor": "white",
             "minorgridcolor": "white",
             "startlinecolor": "#2a3f5f"
            },
            "type": "carpet"
           }
          ],
          "choropleth": [
           {
            "colorbar": {
             "outlinewidth": 0,
             "ticks": ""
            },
            "type": "choropleth"
           }
          ],
          "contour": [
           {
            "colorbar": {
             "outlinewidth": 0,
             "ticks": ""
            },
            "colorscale": [
             [
              0,
              "#0d0887"
             ],
             [
              0.1111111111111111,
              "#46039f"
             ],
             [
              0.2222222222222222,
              "#7201a8"
             ],
             [
              0.3333333333333333,
              "#9c179e"
             ],
             [
              0.4444444444444444,
              "#bd3786"
             ],
             [
              0.5555555555555556,
              "#d8576b"
             ],
             [
              0.6666666666666666,
              "#ed7953"
             ],
             [
              0.7777777777777778,
              "#fb9f3a"
             ],
             [
              0.8888888888888888,
              "#fdca26"
             ],
             [
              1,
              "#f0f921"
             ]
            ],
            "type": "contour"
           }
          ],
          "contourcarpet": [
           {
            "colorbar": {
             "outlinewidth": 0,
             "ticks": ""
            },
            "type": "contourcarpet"
           }
          ],
          "heatmap": [
           {
            "colorbar": {
             "outlinewidth": 0,
             "ticks": ""
            },
            "colorscale": [
             [
              0,
              "#0d0887"
             ],
             [
              0.1111111111111111,
              "#46039f"
             ],
             [
              0.2222222222222222,
              "#7201a8"
             ],
             [
              0.3333333333333333,
              "#9c179e"
             ],
             [
              0.4444444444444444,
              "#bd3786"
             ],
             [
              0.5555555555555556,
              "#d8576b"
             ],
             [
              0.6666666666666666,
              "#ed7953"
             ],
             [
              0.7777777777777778,
              "#fb9f3a"
             ],
             [
              0.8888888888888888,
              "#fdca26"
             ],
             [
              1,
              "#f0f921"
             ]
            ],
            "type": "heatmap"
           }
          ],
          "heatmapgl": [
           {
            "colorbar": {
             "outlinewidth": 0,
             "ticks": ""
            },
            "colorscale": [
             [
              0,
              "#0d0887"
             ],
             [
              0.1111111111111111,
              "#46039f"
             ],
             [
              0.2222222222222222,
              "#7201a8"
             ],
             [
              0.3333333333333333,
              "#9c179e"
             ],
             [
              0.4444444444444444,
              "#bd3786"
             ],
             [
              0.5555555555555556,
              "#d8576b"
             ],
             [
              0.6666666666666666,
              "#ed7953"
             ],
             [
              0.7777777777777778,
              "#fb9f3a"
             ],
             [
              0.8888888888888888,
              "#fdca26"
             ],
             [
              1,
              "#f0f921"
             ]
            ],
            "type": "heatmapgl"
           }
          ],
          "histogram": [
           {
            "marker": {
             "pattern": {
              "fillmode": "overlay",
              "size": 10,
              "solidity": 0.2
             }
            },
            "type": "histogram"
           }
          ],
          "histogram2d": [
           {
            "colorbar": {
             "outlinewidth": 0,
             "ticks": ""
            },
            "colorscale": [
             [
              0,
              "#0d0887"
             ],
             [
              0.1111111111111111,
              "#46039f"
             ],
             [
              0.2222222222222222,
              "#7201a8"
             ],
             [
              0.3333333333333333,
              "#9c179e"
             ],
             [
              0.4444444444444444,
              "#bd3786"
             ],
             [
              0.5555555555555556,
              "#d8576b"
             ],
             [
              0.6666666666666666,
              "#ed7953"
             ],
             [
              0.7777777777777778,
              "#fb9f3a"
             ],
             [
              0.8888888888888888,
              "#fdca26"
             ],
             [
              1,
              "#f0f921"
             ]
            ],
            "type": "histogram2d"
           }
          ],
          "histogram2dcontour": [
           {
            "colorbar": {
             "outlinewidth": 0,
             "ticks": ""
            },
            "colorscale": [
             [
              0,
              "#0d0887"
             ],
             [
              0.1111111111111111,
              "#46039f"
             ],
             [
              0.2222222222222222,
              "#7201a8"
             ],
             [
              0.3333333333333333,
              "#9c179e"
             ],
             [
              0.4444444444444444,
              "#bd3786"
             ],
             [
              0.5555555555555556,
              "#d8576b"
             ],
             [
              0.6666666666666666,
              "#ed7953"
             ],
             [
              0.7777777777777778,
              "#fb9f3a"
             ],
             [
              0.8888888888888888,
              "#fdca26"
             ],
             [
              1,
              "#f0f921"
             ]
            ],
            "type": "histogram2dcontour"
           }
          ],
          "mesh3d": [
           {
            "colorbar": {
             "outlinewidth": 0,
             "ticks": ""
            },
            "type": "mesh3d"
           }
          ],
          "parcoords": [
           {
            "line": {
             "colorbar": {
              "outlinewidth": 0,
              "ticks": ""
             }
            },
            "type": "parcoords"
           }
          ],
          "pie": [
           {
            "automargin": true,
            "type": "pie"
           }
          ],
          "scatter": [
           {
            "fillpattern": {
             "fillmode": "overlay",
             "size": 10,
             "solidity": 0.2
            },
            "type": "scatter"
           }
          ],
          "scatter3d": [
           {
            "line": {
             "colorbar": {
              "outlinewidth": 0,
              "ticks": ""
             }
            },
            "marker": {
             "colorbar": {
              "outlinewidth": 0,
              "ticks": ""
             }
            },
            "type": "scatter3d"
           }
          ],
          "scattercarpet": [
           {
            "marker": {
             "colorbar": {
              "outlinewidth": 0,
              "ticks": ""
             }
            },
            "type": "scattercarpet"
           }
          ],
          "scattergeo": [
           {
            "marker": {
             "colorbar": {
              "outlinewidth": 0,
              "ticks": ""
             }
            },
            "type": "scattergeo"
           }
          ],
          "scattergl": [
           {
            "marker": {
             "colorbar": {
              "outlinewidth": 0,
              "ticks": ""
             }
            },
            "type": "scattergl"
           }
          ],
          "scattermapbox": [
           {
            "marker": {
             "colorbar": {
              "outlinewidth": 0,
              "ticks": ""
             }
            },
            "type": "scattermapbox"
           }
          ],
          "scatterpolar": [
           {
            "marker": {
             "colorbar": {
              "outlinewidth": 0,
              "ticks": ""
             }
            },
            "type": "scatterpolar"
           }
          ],
          "scatterpolargl": [
           {
            "marker": {
             "colorbar": {
              "outlinewidth": 0,
              "ticks": ""
             }
            },
            "type": "scatterpolargl"
           }
          ],
          "scatterternary": [
           {
            "marker": {
             "colorbar": {
              "outlinewidth": 0,
              "ticks": ""
             }
            },
            "type": "scatterternary"
           }
          ],
          "surface": [
           {
            "colorbar": {
             "outlinewidth": 0,
             "ticks": ""
            },
            "colorscale": [
             [
              0,
              "#0d0887"
             ],
             [
              0.1111111111111111,
              "#46039f"
             ],
             [
              0.2222222222222222,
              "#7201a8"
             ],
             [
              0.3333333333333333,
              "#9c179e"
             ],
             [
              0.4444444444444444,
              "#bd3786"
             ],
             [
              0.5555555555555556,
              "#d8576b"
             ],
             [
              0.6666666666666666,
              "#ed7953"
             ],
             [
              0.7777777777777778,
              "#fb9f3a"
             ],
             [
              0.8888888888888888,
              "#fdca26"
             ],
             [
              1,
              "#f0f921"
             ]
            ],
            "type": "surface"
           }
          ],
          "table": [
           {
            "cells": {
             "fill": {
              "color": "#EBF0F8"
             },
             "line": {
              "color": "white"
             }
            },
            "header": {
             "fill": {
              "color": "#C8D4E3"
             },
             "line": {
              "color": "white"
             }
            },
            "type": "table"
           }
          ]
         },
         "layout": {
          "annotationdefaults": {
           "arrowcolor": "#2a3f5f",
           "arrowhead": 0,
           "arrowwidth": 1
          },
          "autotypenumbers": "strict",
          "coloraxis": {
           "colorbar": {
            "outlinewidth": 0,
            "ticks": ""
           }
          },
          "colorscale": {
           "diverging": [
            [
             0,
             "#8e0152"
            ],
            [
             0.1,
             "#c51b7d"
            ],
            [
             0.2,
             "#de77ae"
            ],
            [
             0.3,
             "#f1b6da"
            ],
            [
             0.4,
             "#fde0ef"
            ],
            [
             0.5,
             "#f7f7f7"
            ],
            [
             0.6,
             "#e6f5d0"
            ],
            [
             0.7,
             "#b8e186"
            ],
            [
             0.8,
             "#7fbc41"
            ],
            [
             0.9,
             "#4d9221"
            ],
            [
             1,
             "#276419"
            ]
           ],
           "sequential": [
            [
             0,
             "#0d0887"
            ],
            [
             0.1111111111111111,
             "#46039f"
            ],
            [
             0.2222222222222222,
             "#7201a8"
            ],
            [
             0.3333333333333333,
             "#9c179e"
            ],
            [
             0.4444444444444444,
             "#bd3786"
            ],
            [
             0.5555555555555556,
             "#d8576b"
            ],
            [
             0.6666666666666666,
             "#ed7953"
            ],
            [
             0.7777777777777778,
             "#fb9f3a"
            ],
            [
             0.8888888888888888,
             "#fdca26"
            ],
            [
             1,
             "#f0f921"
            ]
           ],
           "sequentialminus": [
            [
             0,
             "#0d0887"
            ],
            [
             0.1111111111111111,
             "#46039f"
            ],
            [
             0.2222222222222222,
             "#7201a8"
            ],
            [
             0.3333333333333333,
             "#9c179e"
            ],
            [
             0.4444444444444444,
             "#bd3786"
            ],
            [
             0.5555555555555556,
             "#d8576b"
            ],
            [
             0.6666666666666666,
             "#ed7953"
            ],
            [
             0.7777777777777778,
             "#fb9f3a"
            ],
            [
             0.8888888888888888,
             "#fdca26"
            ],
            [
             1,
             "#f0f921"
            ]
           ]
          },
          "colorway": [
           "#636efa",
           "#EF553B",
           "#00cc96",
           "#ab63fa",
           "#FFA15A",
           "#19d3f3",
           "#FF6692",
           "#B6E880",
           "#FF97FF",
           "#FECB52"
          ],
          "font": {
           "color": "#2a3f5f"
          },
          "geo": {
           "bgcolor": "white",
           "lakecolor": "white",
           "landcolor": "#E5ECF6",
           "showlakes": true,
           "showland": true,
           "subunitcolor": "white"
          },
          "hoverlabel": {
           "align": "left"
          },
          "hovermode": "closest",
          "mapbox": {
           "style": "light"
          },
          "paper_bgcolor": "white",
          "plot_bgcolor": "#E5ECF6",
          "polar": {
           "angularaxis": {
            "gridcolor": "white",
            "linecolor": "white",
            "ticks": ""
           },
           "bgcolor": "#E5ECF6",
           "radialaxis": {
            "gridcolor": "white",
            "linecolor": "white",
            "ticks": ""
           }
          },
          "scene": {
           "xaxis": {
            "backgroundcolor": "#E5ECF6",
            "gridcolor": "white",
            "gridwidth": 2,
            "linecolor": "white",
            "showbackground": true,
            "ticks": "",
            "zerolinecolor": "white"
           },
           "yaxis": {
            "backgroundcolor": "#E5ECF6",
            "gridcolor": "white",
            "gridwidth": 2,
            "linecolor": "white",
            "showbackground": true,
            "ticks": "",
            "zerolinecolor": "white"
           },
           "zaxis": {
            "backgroundcolor": "#E5ECF6",
            "gridcolor": "white",
            "gridwidth": 2,
            "linecolor": "white",
            "showbackground": true,
            "ticks": "",
            "zerolinecolor": "white"
           }
          },
          "shapedefaults": {
           "line": {
            "color": "#2a3f5f"
           }
          },
          "ternary": {
           "aaxis": {
            "gridcolor": "white",
            "linecolor": "white",
            "ticks": ""
           },
           "baxis": {
            "gridcolor": "white",
            "linecolor": "white",
            "ticks": ""
           },
           "bgcolor": "#E5ECF6",
           "caxis": {
            "gridcolor": "white",
            "linecolor": "white",
            "ticks": ""
           }
          },
          "title": {
           "x": 0.05
          },
          "xaxis": {
           "automargin": true,
           "gridcolor": "white",
           "linecolor": "white",
           "ticks": "",
           "title": {
            "standoff": 15
           },
           "zerolinecolor": "white",
           "zerolinewidth": 2
          },
          "yaxis": {
           "automargin": true,
           "gridcolor": "white",
           "linecolor": "white",
           "ticks": "",
           "title": {
            "standoff": 15
           },
           "zerolinecolor": "white",
           "zerolinewidth": 2
          }
         }
        },
        "title": {
         "text": "Porcentaje de Tipos de Establecimientos en La Habana"
        }
       }
      }
     },
     "metadata": {},
     "output_type": "display_data"
    }
   ],
   "source": [
    "# Contar los tipos de establecimientos\n",
    "tipo_establecimientos = df['type_of_establishment'].value_counts().reset_index()\n",
    "tipo_establecimientos.columns = ['Tipo de Establecimiento', 'Cantidad']\n",
    "\n",
    "fig = px.pie(tipo_establecimientos, \n",
    "            values='Cantidad', \n",
    "            names='Tipo de Establecimiento', \n",
    "            title='Porcentaje de Tipos de Establecimientos en La Habana',\n",
    "            hole=0.1)\n",
    "fig.show()"
   ]
  },
  {
   "cell_type": "markdown",
   "metadata": {},
   "source": [
    "Mientras trabajaban en ello, Ana, la más tranquila, tuvo una idea. -\"¿Y si en lugar de poner las direcciones de los lugares, incluimos un mapa interactivo con las ubicaciones exactas?\".\n",
    "Todos hemos tenido experiencias frustrantes tratando de encontrar lugares solo con direcciones, puesto que muchas veces no son calles de nuestro conocimiento, por lo que tener una web con los establecimientos perfectamente localizados hace más fácil ubicarse y visualizar sus puntos de referencia cercanos al destino deseado. ¿Quién sabe? Quizás después se te antoja un heladito o sentarte en el malecón.\""
   ]
  },
  {
   "cell_type": "code",
   "execution_count": 9,
   "metadata": {},
   "outputs": [
    {
     "data": {
      "text/html": [
       "<div style=\"width:100%;\"><div style=\"position:relative;width:100%;height:0;padding-bottom:60%;\"><span style=\"color:#565656\">Make this Notebook Trusted to load map: File -> Trust Notebook</span><iframe srcdoc=\"&lt;!DOCTYPE html&gt;\n",
       "&lt;html&gt;\n",
       "&lt;head&gt;\n",
       "    \n",
       "    &lt;meta http-equiv=&quot;content-type&quot; content=&quot;text/html; charset=UTF-8&quot; /&gt;\n",
       "    \n",
       "        &lt;script&gt;\n",
       "            L_NO_TOUCH = false;\n",
       "            L_DISABLE_3D = false;\n",
       "        &lt;/script&gt;\n",
       "    \n",
       "    &lt;style&gt;html, body {width: 100%;height: 100%;margin: 0;padding: 0;}&lt;/style&gt;\n",
       "    &lt;style&gt;#map {position:absolute;top:0;bottom:0;right:0;left:0;}&lt;/style&gt;\n",
       "    &lt;script src=&quot;https://cdn.jsdelivr.net/npm/leaflet@1.9.3/dist/leaflet.js&quot;&gt;&lt;/script&gt;\n",
       "    &lt;script src=&quot;https://code.jquery.com/jquery-3.7.1.min.js&quot;&gt;&lt;/script&gt;\n",
       "    &lt;script src=&quot;https://cdn.jsdelivr.net/npm/bootstrap@5.2.2/dist/js/bootstrap.bundle.min.js&quot;&gt;&lt;/script&gt;\n",
       "    &lt;script src=&quot;https://cdnjs.cloudflare.com/ajax/libs/Leaflet.awesome-markers/2.0.2/leaflet.awesome-markers.js&quot;&gt;&lt;/script&gt;\n",
       "    &lt;link rel=&quot;stylesheet&quot; href=&quot;https://cdn.jsdelivr.net/npm/leaflet@1.9.3/dist/leaflet.css&quot;/&gt;\n",
       "    &lt;link rel=&quot;stylesheet&quot; href=&quot;https://cdn.jsdelivr.net/npm/bootstrap@5.2.2/dist/css/bootstrap.min.css&quot;/&gt;\n",
       "    &lt;link rel=&quot;stylesheet&quot; href=&quot;https://netdna.bootstrapcdn.com/bootstrap/3.0.0/css/bootstrap-glyphicons.css&quot;/&gt;\n",
       "    &lt;link rel=&quot;stylesheet&quot; href=&quot;https://cdn.jsdelivr.net/npm/@fortawesome/fontawesome-free@6.2.0/css/all.min.css&quot;/&gt;\n",
       "    &lt;link rel=&quot;stylesheet&quot; href=&quot;https://cdnjs.cloudflare.com/ajax/libs/Leaflet.awesome-markers/2.0.2/leaflet.awesome-markers.css&quot;/&gt;\n",
       "    &lt;link rel=&quot;stylesheet&quot; href=&quot;https://cdn.jsdelivr.net/gh/python-visualization/folium/folium/templates/leaflet.awesome.rotate.min.css&quot;/&gt;\n",
       "    \n",
       "            &lt;meta name=&quot;viewport&quot; content=&quot;width=device-width,\n",
       "                initial-scale=1.0, maximum-scale=1.0, user-scalable=no&quot; /&gt;\n",
       "            &lt;style&gt;\n",
       "                #map_3d8c657be72ab866f4b991eaf6375e72 {\n",
       "                    position: relative;\n",
       "                    width: 100.0%;\n",
       "                    height: 100.0%;\n",
       "                    left: 0.0%;\n",
       "                    top: 0.0%;\n",
       "                }\n",
       "                .leaflet-container { font-size: 1rem; }\n",
       "            &lt;/style&gt;\n",
       "        \n",
       "&lt;/head&gt;\n",
       "&lt;body&gt;\n",
       "    \n",
       "    \n",
       "            &lt;div class=&quot;folium-map&quot; id=&quot;map_3d8c657be72ab866f4b991eaf6375e72&quot; &gt;&lt;/div&gt;\n",
       "        \n",
       "&lt;/body&gt;\n",
       "&lt;script&gt;\n",
       "    \n",
       "    \n",
       "            var map_3d8c657be72ab866f4b991eaf6375e72 = L.map(\n",
       "                &quot;map_3d8c657be72ab866f4b991eaf6375e72&quot;,\n",
       "                {\n",
       "                    center: [23.1136, -82.3666],\n",
       "                    crs: L.CRS.EPSG3857,\n",
       "                    ...{\n",
       "  &quot;zoom&quot;: 12,\n",
       "  &quot;zoomControl&quot;: true,\n",
       "  &quot;preferCanvas&quot;: false,\n",
       "}\n",
       "\n",
       "                }\n",
       "            );\n",
       "\n",
       "            \n",
       "\n",
       "        \n",
       "    \n",
       "            var tile_layer_2d22e3a910ad6dfc80c47e8642d7d3dc = L.tileLayer(\n",
       "                &quot;https://tile.openstreetmap.org/{z}/{x}/{y}.png&quot;,\n",
       "                {\n",
       "  &quot;minZoom&quot;: 0,\n",
       "  &quot;maxZoom&quot;: 19,\n",
       "  &quot;maxNativeZoom&quot;: 19,\n",
       "  &quot;noWrap&quot;: false,\n",
       "  &quot;attribution&quot;: &quot;\\u0026copy; \\u003ca href=\\&quot;https://www.openstreetmap.org/copyright\\&quot;\\u003eOpenStreetMap\\u003c/a\\u003e contributors&quot;,\n",
       "  &quot;subdomains&quot;: &quot;abc&quot;,\n",
       "  &quot;detectRetina&quot;: false,\n",
       "  &quot;tms&quot;: false,\n",
       "  &quot;opacity&quot;: 1,\n",
       "}\n",
       "\n",
       "            );\n",
       "        \n",
       "    \n",
       "            tile_layer_2d22e3a910ad6dfc80c47e8642d7d3dc.addTo(map_3d8c657be72ab866f4b991eaf6375e72);\n",
       "        \n",
       "    \n",
       "            var marker_2e852ab84d722e76d2b6ec299a26a38d = L.marker(\n",
       "                [23.12361712886297, -82.4271050650417],\n",
       "                {\n",
       "}\n",
       "            ).addTo(map_3d8c657be72ab866f4b991eaf6375e72);\n",
       "        \n",
       "    \n",
       "            var icon_096508f365e74dc2e091618f3e12ecf2 = L.AwesomeMarkers.icon(\n",
       "                {\n",
       "  &quot;markerColor&quot;: &quot;darkblue&quot;,\n",
       "  &quot;iconColor&quot;: &quot;white&quot;,\n",
       "  &quot;icon&quot;: &quot;info-sign&quot;,\n",
       "  &quot;prefix&quot;: &quot;glyphicon&quot;,\n",
       "  &quot;extraClasses&quot;: &quot;fa-rotate-0&quot;,\n",
       "}\n",
       "            );\n",
       "            marker_2e852ab84d722e76d2b6ec299a26a38d.setIcon(icon_096508f365e74dc2e091618f3e12ecf2);\n",
       "        \n",
       "    \n",
       "        var popup_fc90ab5fb888b6c9022073b55ceba4af = L.popup({\n",
       "  &quot;maxWidth&quot;: &quot;100%&quot;,\n",
       "});\n",
       "\n",
       "        \n",
       "            \n",
       "                var html_9aa6f73a8d2495003144d0253994e1e1 = $(`&lt;div id=&quot;html_9aa6f73a8d2495003144d0253994e1e1&quot; style=&quot;width: 100.0%; height: 100.0%;&quot;&gt;28 y Mar&lt;/div&gt;`)[0];\n",
       "                popup_fc90ab5fb888b6c9022073b55ceba4af.setContent(html_9aa6f73a8d2495003144d0253994e1e1);\n",
       "            \n",
       "        \n",
       "\n",
       "        marker_2e852ab84d722e76d2b6ec299a26a38d.bindPopup(popup_fc90ab5fb888b6c9022073b55ceba4af)\n",
       "        ;\n",
       "\n",
       "        \n",
       "    \n",
       "    \n",
       "            var marker_3f5711fce35a22ee310d33fb487981a6 = L.marker(\n",
       "                [23.12805874474967, -82.33435589367647],\n",
       "                {\n",
       "}\n",
       "            ).addTo(map_3d8c657be72ab866f4b991eaf6375e72);\n",
       "        \n",
       "    \n",
       "            var icon_1046cb1a6495a27576645c43c281cad8 = L.AwesomeMarkers.icon(\n",
       "                {\n",
       "  &quot;markerColor&quot;: &quot;darkblue&quot;,\n",
       "  &quot;iconColor&quot;: &quot;white&quot;,\n",
       "  &quot;icon&quot;: &quot;info-sign&quot;,\n",
       "  &quot;prefix&quot;: &quot;glyphicon&quot;,\n",
       "  &quot;extraClasses&quot;: &quot;fa-rotate-0&quot;,\n",
       "}\n",
       "            );\n",
       "            marker_3f5711fce35a22ee310d33fb487981a6.setIcon(icon_1046cb1a6495a27576645c43c281cad8);\n",
       "        \n",
       "    \n",
       "        var popup_3d5d99ed01529f5269f65ad87d1b5ad1 = L.popup({\n",
       "  &quot;maxWidth&quot;: &quot;100%&quot;,\n",
       "});\n",
       "\n",
       "        \n",
       "            \n",
       "                var html_f7a975f610b92c7857c4aa6629f37493 = $(`&lt;div id=&quot;html_f7a975f610b92c7857c4aa6629f37493&quot; style=&quot;width: 100.0%; height: 100.0%;&quot;&gt;2KFÉ&lt;/div&gt;`)[0];\n",
       "                popup_3d5d99ed01529f5269f65ad87d1b5ad1.setContent(html_f7a975f610b92c7857c4aa6629f37493);\n",
       "            \n",
       "        \n",
       "\n",
       "        marker_3f5711fce35a22ee310d33fb487981a6.bindPopup(popup_3d5d99ed01529f5269f65ad87d1b5ad1)\n",
       "        ;\n",
       "\n",
       "        \n",
       "    \n",
       "    \n",
       "            var marker_06f4f22aee930d85f463cd3d979efcec = L.marker(\n",
       "                [23.12374503719618, -82.32320046326254],\n",
       "                {\n",
       "}\n",
       "            ).addTo(map_3d8c657be72ab866f4b991eaf6375e72);\n",
       "        \n",
       "    \n",
       "            var icon_4b22a11d70b2be2867cb3c1ca39ca649 = L.AwesomeMarkers.icon(\n",
       "                {\n",
       "  &quot;markerColor&quot;: &quot;darkblue&quot;,\n",
       "  &quot;iconColor&quot;: &quot;white&quot;,\n",
       "  &quot;icon&quot;: &quot;info-sign&quot;,\n",
       "  &quot;prefix&quot;: &quot;glyphicon&quot;,\n",
       "  &quot;extraClasses&quot;: &quot;fa-rotate-0&quot;,\n",
       "}\n",
       "            );\n",
       "            marker_06f4f22aee930d85f463cd3d979efcec.setIcon(icon_4b22a11d70b2be2867cb3c1ca39ca649);\n",
       "        \n",
       "    \n",
       "        var popup_a334b9bf031fcab8f25418726eb24346 = L.popup({\n",
       "  &quot;maxWidth&quot;: &quot;100%&quot;,\n",
       "});\n",
       "\n",
       "        \n",
       "            \n",
       "                var html_5471b0a3d932dd7b3ca5bfbd205f19c4 = $(`&lt;div id=&quot;html_5471b0a3d932dd7b3ca5bfbd205f19c4&quot; style=&quot;width: 100.0%; height: 100.0%;&quot;&gt;5ta Billar&lt;/div&gt;`)[0];\n",
       "                popup_a334b9bf031fcab8f25418726eb24346.setContent(html_5471b0a3d932dd7b3ca5bfbd205f19c4);\n",
       "            \n",
       "        \n",
       "\n",
       "        marker_06f4f22aee930d85f463cd3d979efcec.bindPopup(popup_a334b9bf031fcab8f25418726eb24346)\n",
       "        ;\n",
       "\n",
       "        \n",
       "    \n",
       "    \n",
       "            var marker_c5ffa583d90dc1e436ef633186f36aff = L.marker(\n",
       "                [23.07275737968528, -82.43208755151812],\n",
       "                {\n",
       "}\n",
       "            ).addTo(map_3d8c657be72ab866f4b991eaf6375e72);\n",
       "        \n",
       "    \n",
       "            var icon_576db73043c95713ec5d99424efc9caf = L.AwesomeMarkers.icon(\n",
       "                {\n",
       "  &quot;markerColor&quot;: &quot;darkblue&quot;,\n",
       "  &quot;iconColor&quot;: &quot;white&quot;,\n",
       "  &quot;icon&quot;: &quot;info-sign&quot;,\n",
       "  &quot;prefix&quot;: &quot;glyphicon&quot;,\n",
       "  &quot;extraClasses&quot;: &quot;fa-rotate-0&quot;,\n",
       "}\n",
       "            );\n",
       "            marker_c5ffa583d90dc1e436ef633186f36aff.setIcon(icon_576db73043c95713ec5d99424efc9caf);\n",
       "        \n",
       "    \n",
       "        var popup_cff88f1c6c49a2cee9f7d51f27cdaedd = L.popup({\n",
       "  &quot;maxWidth&quot;: &quot;100%&quot;,\n",
       "});\n",
       "\n",
       "        \n",
       "            \n",
       "                var html_4bd51bacd320040a5418712d77ea794b = $(`&lt;div id=&quot;html_4bd51bacd320040a5418712d77ea794b&quot; style=&quot;width: 100.0%; height: 100.0%;&quot;&gt;A&amp;J Fast Food&lt;/div&gt;`)[0];\n",
       "                popup_cff88f1c6c49a2cee9f7d51f27cdaedd.setContent(html_4bd51bacd320040a5418712d77ea794b);\n",
       "            \n",
       "        \n",
       "\n",
       "        marker_c5ffa583d90dc1e436ef633186f36aff.bindPopup(popup_cff88f1c6c49a2cee9f7d51f27cdaedd)\n",
       "        ;\n",
       "\n",
       "        \n",
       "    \n",
       "    \n",
       "            var marker_4927e173de4a013176501fae64ca38ca = L.marker(\n",
       "                [23.057838724569645, -82.38286186315446],\n",
       "                {\n",
       "}\n",
       "            ).addTo(map_3d8c657be72ab866f4b991eaf6375e72);\n",
       "        \n",
       "    \n",
       "            var icon_2afbdfebbb802fe46ab2a85328fa2e24 = L.AwesomeMarkers.icon(\n",
       "                {\n",
       "  &quot;markerColor&quot;: &quot;darkblue&quot;,\n",
       "  &quot;iconColor&quot;: &quot;white&quot;,\n",
       "  &quot;icon&quot;: &quot;info-sign&quot;,\n",
       "  &quot;prefix&quot;: &quot;glyphicon&quot;,\n",
       "  &quot;extraClasses&quot;: &quot;fa-rotate-0&quot;,\n",
       "}\n",
       "            );\n",
       "            marker_4927e173de4a013176501fae64ca38ca.setIcon(icon_2afbdfebbb802fe46ab2a85328fa2e24);\n",
       "        \n",
       "    \n",
       "        var popup_0dcde1633182256b1a76c97981d85fcb = L.popup({\n",
       "  &quot;maxWidth&quot;: &quot;100%&quot;,\n",
       "});\n",
       "\n",
       "        \n",
       "            \n",
       "                var html_1a91af70d3522a43921ae31fa73019ee = $(`&lt;div id=&quot;html_1a91af70d3522a43921ae31fa73019ee&quot; style=&quot;width: 100.0%; height: 100.0%;&quot;&gt;Abuelo D&#x27;Oro&lt;/div&gt;`)[0];\n",
       "                popup_0dcde1633182256b1a76c97981d85fcb.setContent(html_1a91af70d3522a43921ae31fa73019ee);\n",
       "            \n",
       "        \n",
       "\n",
       "        marker_4927e173de4a013176501fae64ca38ca.bindPopup(popup_0dcde1633182256b1a76c97981d85fcb)\n",
       "        ;\n",
       "\n",
       "        \n",
       "    \n",
       "    \n",
       "            var marker_4cfb51343a6202bf2063f703a5a3ba44 = L.marker(\n",
       "                [23.16213337258811, -82.29442813615995],\n",
       "                {\n",
       "}\n",
       "            ).addTo(map_3d8c657be72ab866f4b991eaf6375e72);\n",
       "        \n",
       "    \n",
       "            var icon_eef2542c822b82a5997a45a31ddfe178 = L.AwesomeMarkers.icon(\n",
       "                {\n",
       "  &quot;markerColor&quot;: &quot;darkblue&quot;,\n",
       "  &quot;iconColor&quot;: &quot;white&quot;,\n",
       "  &quot;icon&quot;: &quot;info-sign&quot;,\n",
       "  &quot;prefix&quot;: &quot;glyphicon&quot;,\n",
       "  &quot;extraClasses&quot;: &quot;fa-rotate-0&quot;,\n",
       "}\n",
       "            );\n",
       "            marker_4cfb51343a6202bf2063f703a5a3ba44.setIcon(icon_eef2542c822b82a5997a45a31ddfe178);\n",
       "        \n",
       "    \n",
       "        var popup_d13c44650ec39b15cf6ea28e63532588 = L.popup({\n",
       "  &quot;maxWidth&quot;: &quot;100%&quot;,\n",
       "});\n",
       "\n",
       "        \n",
       "            \n",
       "                var html_9fef4733f2d7b0f97701a3eba83b9ecb = $(`&lt;div id=&quot;html_9fef4733f2d7b0f97701a3eba83b9ecb&quot; style=&quot;width: 100.0%; height: 100.0%;&quot;&gt;Aires de Cojimar&lt;/div&gt;`)[0];\n",
       "                popup_d13c44650ec39b15cf6ea28e63532588.setContent(html_9fef4733f2d7b0f97701a3eba83b9ecb);\n",
       "            \n",
       "        \n",
       "\n",
       "        marker_4cfb51343a6202bf2063f703a5a3ba44.bindPopup(popup_d13c44650ec39b15cf6ea28e63532588)\n",
       "        ;\n",
       "\n",
       "        \n",
       "    \n",
       "    \n",
       "            var marker_2494244a05afc5e9ad9b0757a3a1abae = L.marker(\n",
       "                [23.155282399334702, -82.27081842086241],\n",
       "                {\n",
       "}\n",
       "            ).addTo(map_3d8c657be72ab866f4b991eaf6375e72);\n",
       "        \n",
       "    \n",
       "            var icon_7da92ab7eb045b63fb648ec7b62692e1 = L.AwesomeMarkers.icon(\n",
       "                {\n",
       "  &quot;markerColor&quot;: &quot;darkblue&quot;,\n",
       "  &quot;iconColor&quot;: &quot;white&quot;,\n",
       "  &quot;icon&quot;: &quot;info-sign&quot;,\n",
       "  &quot;prefix&quot;: &quot;glyphicon&quot;,\n",
       "  &quot;extraClasses&quot;: &quot;fa-rotate-0&quot;,\n",
       "}\n",
       "            );\n",
       "            marker_2494244a05afc5e9ad9b0757a3a1abae.setIcon(icon_7da92ab7eb045b63fb648ec7b62692e1);\n",
       "        \n",
       "    \n",
       "        var popup_47cda38156c0538745a83373b0c4334d = L.popup({\n",
       "  &quot;maxWidth&quot;: &quot;100%&quot;,\n",
       "});\n",
       "\n",
       "        \n",
       "            \n",
       "                var html_01bd61be8b81a86e38a2ba232325c210 = $(`&lt;div id=&quot;html_01bd61be8b81a86e38a2ba232325c210&quot; style=&quot;width: 100.0%; height: 100.0%;&quot;&gt;Al Campestre&lt;/div&gt;`)[0];\n",
       "                popup_47cda38156c0538745a83373b0c4334d.setContent(html_01bd61be8b81a86e38a2ba232325c210);\n",
       "            \n",
       "        \n",
       "\n",
       "        marker_2494244a05afc5e9ad9b0757a3a1abae.bindPopup(popup_47cda38156c0538745a83373b0c4334d)\n",
       "        ;\n",
       "\n",
       "        \n",
       "    \n",
       "    \n",
       "            var marker_4f1e71e2eade4732e72052fa6fcf7ac3 = L.marker(\n",
       "                [23.118857756567763, -82.42952136001638],\n",
       "                {\n",
       "}\n",
       "            ).addTo(map_3d8c657be72ab866f4b991eaf6375e72);\n",
       "        \n",
       "    \n",
       "            var icon_978b2db371916ac1b4def6add631cb68 = L.AwesomeMarkers.icon(\n",
       "                {\n",
       "  &quot;markerColor&quot;: &quot;darkblue&quot;,\n",
       "  &quot;iconColor&quot;: &quot;white&quot;,\n",
       "  &quot;icon&quot;: &quot;info-sign&quot;,\n",
       "  &quot;prefix&quot;: &quot;glyphicon&quot;,\n",
       "  &quot;extraClasses&quot;: &quot;fa-rotate-0&quot;,\n",
       "}\n",
       "            );\n",
       "            marker_4f1e71e2eade4732e72052fa6fcf7ac3.setIcon(icon_978b2db371916ac1b4def6add631cb68);\n",
       "        \n",
       "    \n",
       "        var popup_30672a629e509d2c92a7ae7d6122709b = L.popup({\n",
       "  &quot;maxWidth&quot;: &quot;100%&quot;,\n",
       "});\n",
       "\n",
       "        \n",
       "            \n",
       "                var html_c593bb77ee7d5a10c61ec90b8416285c = $(`&lt;div id=&quot;html_c593bb77ee7d5a10c61ec90b8416285c&quot; style=&quot;width: 100.0%; height: 100.0%;&quot;&gt;Amalfi&lt;/div&gt;`)[0];\n",
       "                popup_30672a629e509d2c92a7ae7d6122709b.setContent(html_c593bb77ee7d5a10c61ec90b8416285c);\n",
       "            \n",
       "        \n",
       "\n",
       "        marker_4f1e71e2eade4732e72052fa6fcf7ac3.bindPopup(popup_30672a629e509d2c92a7ae7d6122709b)\n",
       "        ;\n",
       "\n",
       "        \n",
       "    \n",
       "    \n",
       "            var marker_20f3ea7bce30fa4b4b2eae2e60168e3d = L.marker(\n",
       "                [23.098281020180526, -82.26561429377226],\n",
       "                {\n",
       "}\n",
       "            ).addTo(map_3d8c657be72ab866f4b991eaf6375e72);\n",
       "        \n",
       "    \n",
       "            var icon_02ba780ce6e45e681e59a66922146bc5 = L.AwesomeMarkers.icon(\n",
       "                {\n",
       "  &quot;markerColor&quot;: &quot;darkblue&quot;,\n",
       "  &quot;iconColor&quot;: &quot;white&quot;,\n",
       "  &quot;icon&quot;: &quot;info-sign&quot;,\n",
       "  &quot;prefix&quot;: &quot;glyphicon&quot;,\n",
       "  &quot;extraClasses&quot;: &quot;fa-rotate-0&quot;,\n",
       "}\n",
       "            );\n",
       "            marker_20f3ea7bce30fa4b4b2eae2e60168e3d.setIcon(icon_02ba780ce6e45e681e59a66922146bc5);\n",
       "        \n",
       "    \n",
       "        var popup_80e4c8c0771362a087ac3311c388e72c = L.popup({\n",
       "  &quot;maxWidth&quot;: &quot;100%&quot;,\n",
       "});\n",
       "\n",
       "        \n",
       "            \n",
       "                var html_e0e74cf236019bc7a975f995293bc7ac = $(`&lt;div id=&quot;html_e0e74cf236019bc7a975f995293bc7ac&quot; style=&quot;width: 100.0%; height: 100.0%;&quot;&gt;Anillo Habanero&lt;/div&gt;`)[0];\n",
       "                popup_80e4c8c0771362a087ac3311c388e72c.setContent(html_e0e74cf236019bc7a975f995293bc7ac);\n",
       "            \n",
       "        \n",
       "\n",
       "        marker_20f3ea7bce30fa4b4b2eae2e60168e3d.bindPopup(popup_80e4c8c0771362a087ac3311c388e72c)\n",
       "        ;\n",
       "\n",
       "        \n",
       "    \n",
       "    \n",
       "            var marker_38ba4c35921d66ed8074bede8a5cab81 = L.marker(\n",
       "                [23.141810755681387, -82.355151334157],\n",
       "                {\n",
       "}\n",
       "            ).addTo(map_3d8c657be72ab866f4b991eaf6375e72);\n",
       "        \n",
       "    \n",
       "            var icon_d16086a76a5f4483b4fcaceb5627e99f = L.AwesomeMarkers.icon(\n",
       "                {\n",
       "  &quot;markerColor&quot;: &quot;darkblue&quot;,\n",
       "  &quot;iconColor&quot;: &quot;white&quot;,\n",
       "  &quot;icon&quot;: &quot;info-sign&quot;,\n",
       "  &quot;prefix&quot;: &quot;glyphicon&quot;,\n",
       "  &quot;extraClasses&quot;: &quot;fa-rotate-0&quot;,\n",
       "}\n",
       "            );\n",
       "            marker_38ba4c35921d66ed8074bede8a5cab81.setIcon(icon_d16086a76a5f4483b4fcaceb5627e99f);\n",
       "        \n",
       "    \n",
       "        var popup_3798ac2145e9c5e0b5656adc009e366f = L.popup({\n",
       "  &quot;maxWidth&quot;: &quot;100%&quot;,\n",
       "});\n",
       "\n",
       "        \n",
       "            \n",
       "                var html_e49ec6b453f826973fa45b5120526d13 = $(`&lt;div id=&quot;html_e49ec6b453f826973fa45b5120526d13&quot; style=&quot;width: 100.0%; height: 100.0%;&quot;&gt;Antojos&lt;/div&gt;`)[0];\n",
       "                popup_3798ac2145e9c5e0b5656adc009e366f.setContent(html_e49ec6b453f826973fa45b5120526d13);\n",
       "            \n",
       "        \n",
       "\n",
       "        marker_38ba4c35921d66ed8074bede8a5cab81.bindPopup(popup_3798ac2145e9c5e0b5656adc009e366f)\n",
       "        ;\n",
       "\n",
       "        \n",
       "    \n",
       "    \n",
       "            var marker_c72a239f56a5440b247daf8117722a94 = L.marker(\n",
       "                [23.052367619389422, -82.46068306676176],\n",
       "                {\n",
       "}\n",
       "            ).addTo(map_3d8c657be72ab866f4b991eaf6375e72);\n",
       "        \n",
       "    \n",
       "            var icon_60bdfd1c778b0db807d974b51e29db17 = L.AwesomeMarkers.icon(\n",
       "                {\n",
       "  &quot;markerColor&quot;: &quot;darkblue&quot;,\n",
       "  &quot;iconColor&quot;: &quot;white&quot;,\n",
       "  &quot;icon&quot;: &quot;info-sign&quot;,\n",
       "  &quot;prefix&quot;: &quot;glyphicon&quot;,\n",
       "  &quot;extraClasses&quot;: &quot;fa-rotate-0&quot;,\n",
       "}\n",
       "            );\n",
       "            marker_c72a239f56a5440b247daf8117722a94.setIcon(icon_60bdfd1c778b0db807d974b51e29db17);\n",
       "        \n",
       "    \n",
       "        var popup_6f5003e166efd544ff1b617958a14afc = L.popup({\n",
       "  &quot;maxWidth&quot;: &quot;100%&quot;,\n",
       "});\n",
       "\n",
       "        \n",
       "            \n",
       "                var html_3cdca6e8eaa0bde449432df4d25e1562 = $(`&lt;div id=&quot;html_3cdca6e8eaa0bde449432df4d25e1562&quot; style=&quot;width: 100.0%; height: 100.0%;&quot;&gt;Aroma de Café&lt;/div&gt;`)[0];\n",
       "                popup_6f5003e166efd544ff1b617958a14afc.setContent(html_3cdca6e8eaa0bde449432df4d25e1562);\n",
       "            \n",
       "        \n",
       "\n",
       "        marker_c72a239f56a5440b247daf8117722a94.bindPopup(popup_6f5003e166efd544ff1b617958a14afc)\n",
       "        ;\n",
       "\n",
       "        \n",
       "    \n",
       "    \n",
       "            var marker_b87b169f9283082de0b1b97a10a001d8 = L.marker(\n",
       "                [23.128994860348442, -82.39670541533232],\n",
       "                {\n",
       "}\n",
       "            ).addTo(map_3d8c657be72ab866f4b991eaf6375e72);\n",
       "        \n",
       "    \n",
       "            var icon_a7cb1792272cc5e57b07c50baf05b511 = L.AwesomeMarkers.icon(\n",
       "                {\n",
       "  &quot;markerColor&quot;: &quot;darkblue&quot;,\n",
       "  &quot;iconColor&quot;: &quot;white&quot;,\n",
       "  &quot;icon&quot;: &quot;info-sign&quot;,\n",
       "  &quot;prefix&quot;: &quot;glyphicon&quot;,\n",
       "  &quot;extraClasses&quot;: &quot;fa-rotate-0&quot;,\n",
       "}\n",
       "            );\n",
       "            marker_b87b169f9283082de0b1b97a10a001d8.setIcon(icon_a7cb1792272cc5e57b07c50baf05b511);\n",
       "        \n",
       "    \n",
       "        var popup_6c745d4d80c344895fd539f4e0d36337 = L.popup({\n",
       "  &quot;maxWidth&quot;: &quot;100%&quot;,\n",
       "});\n",
       "\n",
       "        \n",
       "            \n",
       "                var html_1028ec333f48f9385ad9d7231afb656b = $(`&lt;div id=&quot;html_1028ec333f48f9385ad9d7231afb656b&quot; style=&quot;width: 100.0%; height: 100.0%;&quot;&gt;Asia de Cuba&lt;/div&gt;`)[0];\n",
       "                popup_6c745d4d80c344895fd539f4e0d36337.setContent(html_1028ec333f48f9385ad9d7231afb656b);\n",
       "            \n",
       "        \n",
       "\n",
       "        marker_b87b169f9283082de0b1b97a10a001d8.bindPopup(popup_6c745d4d80c344895fd539f4e0d36337)\n",
       "        ;\n",
       "\n",
       "        \n",
       "    \n",
       "    \n",
       "            var marker_08e2dd27504a682e1b08191e3207bd1b = L.marker(\n",
       "                [23.07540405820975, -82.35821067834236],\n",
       "                {\n",
       "}\n",
       "            ).addTo(map_3d8c657be72ab866f4b991eaf6375e72);\n",
       "        \n",
       "    \n",
       "            var icon_38ccc7354705938b8c8fc32d0efde073 = L.AwesomeMarkers.icon(\n",
       "                {\n",
       "  &quot;markerColor&quot;: &quot;darkblue&quot;,\n",
       "  &quot;iconColor&quot;: &quot;white&quot;,\n",
       "  &quot;icon&quot;: &quot;info-sign&quot;,\n",
       "  &quot;prefix&quot;: &quot;glyphicon&quot;,\n",
       "  &quot;extraClasses&quot;: &quot;fa-rotate-0&quot;,\n",
       "}\n",
       "            );\n",
       "            marker_08e2dd27504a682e1b08191e3207bd1b.setIcon(icon_38ccc7354705938b8c8fc32d0efde073);\n",
       "        \n",
       "    \n",
       "        var popup_d50bc17d439b713746ebf752da8ff99c = L.popup({\n",
       "  &quot;maxWidth&quot;: &quot;100%&quot;,\n",
       "});\n",
       "\n",
       "        \n",
       "            \n",
       "                var html_999e26a208a4c6c07fa69b61513ff702 = $(`&lt;div id=&quot;html_999e26a208a4c6c07fa69b61513ff702&quot; style=&quot;width: 100.0%; height: 100.0%;&quot;&gt;Atlanta&lt;/div&gt;`)[0];\n",
       "                popup_d50bc17d439b713746ebf752da8ff99c.setContent(html_999e26a208a4c6c07fa69b61513ff702);\n",
       "            \n",
       "        \n",
       "\n",
       "        marker_08e2dd27504a682e1b08191e3207bd1b.bindPopup(popup_d50bc17d439b713746ebf752da8ff99c)\n",
       "        ;\n",
       "\n",
       "        \n",
       "    \n",
       "    \n",
       "            var marker_f51b2f5d5afa7b6f8c834500db92e1ef = L.marker(\n",
       "                [23.140032524116656, -82.37801794949878],\n",
       "                {\n",
       "}\n",
       "            ).addTo(map_3d8c657be72ab866f4b991eaf6375e72);\n",
       "        \n",
       "    \n",
       "            var icon_aa8089c225582d74b9e6f636fda6d6b3 = L.AwesomeMarkers.icon(\n",
       "                {\n",
       "  &quot;markerColor&quot;: &quot;darkblue&quot;,\n",
       "  &quot;iconColor&quot;: &quot;white&quot;,\n",
       "  &quot;icon&quot;: &quot;info-sign&quot;,\n",
       "  &quot;prefix&quot;: &quot;glyphicon&quot;,\n",
       "  &quot;extraClasses&quot;: &quot;fa-rotate-0&quot;,\n",
       "}\n",
       "            );\n",
       "            marker_f51b2f5d5afa7b6f8c834500db92e1ef.setIcon(icon_aa8089c225582d74b9e6f636fda6d6b3);\n",
       "        \n",
       "    \n",
       "        var popup_0642f3d3c190ad6c536aa4b0af02c290 = L.popup({\n",
       "  &quot;maxWidth&quot;: &quot;100%&quot;,\n",
       "});\n",
       "\n",
       "        \n",
       "            \n",
       "                var html_f1e39552ee3414e8a92e83b477cc9de8 = $(`&lt;div id=&quot;html_f1e39552ee3414e8a92e83b477cc9de8&quot; style=&quot;width: 100.0%; height: 100.0%;&quot;&gt;Macarena&lt;/div&gt;`)[0];\n",
       "                popup_0642f3d3c190ad6c536aa4b0af02c290.setContent(html_f1e39552ee3414e8a92e83b477cc9de8);\n",
       "            \n",
       "        \n",
       "\n",
       "        marker_f51b2f5d5afa7b6f8c834500db92e1ef.bindPopup(popup_0642f3d3c190ad6c536aa4b0af02c290)\n",
       "        ;\n",
       "\n",
       "        \n",
       "    \n",
       "    \n",
       "            var marker_c117f27cc5c4e4c79e76d6288af34f31 = L.marker(\n",
       "                [23.09481372818826, -82.41919746499825],\n",
       "                {\n",
       "}\n",
       "            ).addTo(map_3d8c657be72ab866f4b991eaf6375e72);\n",
       "        \n",
       "    \n",
       "            var icon_32289b96facaaa015da533f30a69eab0 = L.AwesomeMarkers.icon(\n",
       "                {\n",
       "  &quot;markerColor&quot;: &quot;darkblue&quot;,\n",
       "  &quot;iconColor&quot;: &quot;white&quot;,\n",
       "  &quot;icon&quot;: &quot;info-sign&quot;,\n",
       "  &quot;prefix&quot;: &quot;glyphicon&quot;,\n",
       "  &quot;extraClasses&quot;: &quot;fa-rotate-0&quot;,\n",
       "}\n",
       "            );\n",
       "            marker_c117f27cc5c4e4c79e76d6288af34f31.setIcon(icon_32289b96facaaa015da533f30a69eab0);\n",
       "        \n",
       "    \n",
       "        var popup_d1d1a59d54e5c82739f2feedc55a1d5d = L.popup({\n",
       "  &quot;maxWidth&quot;: &quot;100%&quot;,\n",
       "});\n",
       "\n",
       "        \n",
       "            \n",
       "                var html_b8827bc167034c655fead167ab58855e = $(`&lt;div id=&quot;html_b8827bc167034c655fead167ab58855e&quot; style=&quot;width: 100.0%; height: 100.0%;&quot;&gt;Bar Tropicana&lt;/div&gt;`)[0];\n",
       "                popup_d1d1a59d54e5c82739f2feedc55a1d5d.setContent(html_b8827bc167034c655fead167ab58855e);\n",
       "            \n",
       "        \n",
       "\n",
       "        marker_c117f27cc5c4e4c79e76d6288af34f31.bindPopup(popup_d1d1a59d54e5c82739f2feedc55a1d5d)\n",
       "        ;\n",
       "\n",
       "        \n",
       "    \n",
       "    \n",
       "            var marker_9886c3f711d9a9917b2ce6b22bf12730 = L.marker(\n",
       "                [23.165680191088374, -82.28273010731503],\n",
       "                {\n",
       "}\n",
       "            ).addTo(map_3d8c657be72ab866f4b991eaf6375e72);\n",
       "        \n",
       "    \n",
       "            var icon_343018311e7d9949650276ae9d6b537d = L.AwesomeMarkers.icon(\n",
       "                {\n",
       "  &quot;markerColor&quot;: &quot;darkblue&quot;,\n",
       "  &quot;iconColor&quot;: &quot;white&quot;,\n",
       "  &quot;icon&quot;: &quot;info-sign&quot;,\n",
       "  &quot;prefix&quot;: &quot;glyphicon&quot;,\n",
       "  &quot;extraClasses&quot;: &quot;fa-rotate-0&quot;,\n",
       "}\n",
       "            );\n",
       "            marker_9886c3f711d9a9917b2ce6b22bf12730.setIcon(icon_343018311e7d9949650276ae9d6b537d);\n",
       "        \n",
       "    \n",
       "        var popup_3ccda2e6c1c4bfbaa600fe7a2f29a2e5 = L.popup({\n",
       "  &quot;maxWidth&quot;: &quot;100%&quot;,\n",
       "});\n",
       "\n",
       "        \n",
       "            \n",
       "                var html_77b5baf050890028abf732ba79e1c94d = $(`&lt;div id=&quot;html_77b5baf050890028abf732ba79e1c94d&quot; style=&quot;width: 100.0%; height: 100.0%;&quot;&gt;Beer para creer&lt;/div&gt;`)[0];\n",
       "                popup_3ccda2e6c1c4bfbaa600fe7a2f29a2e5.setContent(html_77b5baf050890028abf732ba79e1c94d);\n",
       "            \n",
       "        \n",
       "\n",
       "        marker_9886c3f711d9a9917b2ce6b22bf12730.bindPopup(popup_3ccda2e6c1c4bfbaa600fe7a2f29a2e5)\n",
       "        ;\n",
       "\n",
       "        \n",
       "    \n",
       "    \n",
       "            var marker_94be22e2a1400631b838a3d8a3ee6d62 = L.marker(\n",
       "                [23.14155904081577, -82.40118050679031],\n",
       "                {\n",
       "}\n",
       "            ).addTo(map_3d8c657be72ab866f4b991eaf6375e72);\n",
       "        \n",
       "    \n",
       "            var icon_cd98ae6abcd3b0f4c0f6baef8257a38d = L.AwesomeMarkers.icon(\n",
       "                {\n",
       "  &quot;markerColor&quot;: &quot;darkblue&quot;,\n",
       "  &quot;iconColor&quot;: &quot;white&quot;,\n",
       "  &quot;icon&quot;: &quot;info-sign&quot;,\n",
       "  &quot;prefix&quot;: &quot;glyphicon&quot;,\n",
       "  &quot;extraClasses&quot;: &quot;fa-rotate-0&quot;,\n",
       "}\n",
       "            );\n",
       "            marker_94be22e2a1400631b838a3d8a3ee6d62.setIcon(icon_cd98ae6abcd3b0f4c0f6baef8257a38d);\n",
       "        \n",
       "    \n",
       "        var popup_c2a84433c25c00afcbcb4b24d39fac06 = L.popup({\n",
       "  &quot;maxWidth&quot;: &quot;100%&quot;,\n",
       "});\n",
       "\n",
       "        \n",
       "            \n",
       "                var html_423866a6075412d0ea02c5949bc92d82 = $(`&lt;div id=&quot;html_423866a6075412d0ea02c5949bc92d82&quot; style=&quot;width: 100.0%; height: 100.0%;&quot;&gt;Beirut&lt;/div&gt;`)[0];\n",
       "                popup_c2a84433c25c00afcbcb4b24d39fac06.setContent(html_423866a6075412d0ea02c5949bc92d82);\n",
       "            \n",
       "        \n",
       "\n",
       "        marker_94be22e2a1400631b838a3d8a3ee6d62.bindPopup(popup_c2a84433c25c00afcbcb4b24d39fac06)\n",
       "        ;\n",
       "\n",
       "        \n",
       "    \n",
       "    \n",
       "            var marker_c2db78124b1cc9a23c12ecdce4d59b8d = L.marker(\n",
       "                [23.12046138313826, -82.41683832082161],\n",
       "                {\n",
       "}\n",
       "            ).addTo(map_3d8c657be72ab866f4b991eaf6375e72);\n",
       "        \n",
       "    \n",
       "            var icon_08f4f1bafa2820806a5e6b9eb5c984bb = L.AwesomeMarkers.icon(\n",
       "                {\n",
       "  &quot;markerColor&quot;: &quot;darkblue&quot;,\n",
       "  &quot;iconColor&quot;: &quot;white&quot;,\n",
       "  &quot;icon&quot;: &quot;info-sign&quot;,\n",
       "  &quot;prefix&quot;: &quot;glyphicon&quot;,\n",
       "  &quot;extraClasses&quot;: &quot;fa-rotate-0&quot;,\n",
       "}\n",
       "            );\n",
       "            marker_c2db78124b1cc9a23c12ecdce4d59b8d.setIcon(icon_08f4f1bafa2820806a5e6b9eb5c984bb);\n",
       "        \n",
       "    \n",
       "        var popup_2fbf6ae9c7ca56d5fbd5f07d25ccdb06 = L.popup({\n",
       "  &quot;maxWidth&quot;: &quot;100%&quot;,\n",
       "});\n",
       "\n",
       "        \n",
       "            \n",
       "                var html_4dd288f33e9b0bf9a71a17f0764cba5e = $(`&lt;div id=&quot;html_4dd288f33e9b0bf9a71a17f0764cba5e&quot; style=&quot;width: 100.0%; height: 100.0%;&quot;&gt;Bocattas&lt;/div&gt;`)[0];\n",
       "                popup_2fbf6ae9c7ca56d5fbd5f07d25ccdb06.setContent(html_4dd288f33e9b0bf9a71a17f0764cba5e);\n",
       "            \n",
       "        \n",
       "\n",
       "        marker_c2db78124b1cc9a23c12ecdce4d59b8d.bindPopup(popup_2fbf6ae9c7ca56d5fbd5f07d25ccdb06)\n",
       "        ;\n",
       "\n",
       "        \n",
       "    \n",
       "    \n",
       "            var marker_d97f03db3e006101c613bee8006ff146 = L.marker(\n",
       "                [23.14067652925281, -82.37851087833417],\n",
       "                {\n",
       "}\n",
       "            ).addTo(map_3d8c657be72ab866f4b991eaf6375e72);\n",
       "        \n",
       "    \n",
       "            var icon_d9825774374af9785a20dec3fc675079 = L.AwesomeMarkers.icon(\n",
       "                {\n",
       "  &quot;markerColor&quot;: &quot;darkblue&quot;,\n",
       "  &quot;iconColor&quot;: &quot;white&quot;,\n",
       "  &quot;icon&quot;: &quot;info-sign&quot;,\n",
       "  &quot;prefix&quot;: &quot;glyphicon&quot;,\n",
       "  &quot;extraClasses&quot;: &quot;fa-rotate-0&quot;,\n",
       "}\n",
       "            );\n",
       "            marker_d97f03db3e006101c613bee8006ff146.setIcon(icon_d9825774374af9785a20dec3fc675079);\n",
       "        \n",
       "    \n",
       "        var popup_1cab566ca7c5f4dd376285431e493e21 = L.popup({\n",
       "  &quot;maxWidth&quot;: &quot;100%&quot;,\n",
       "});\n",
       "\n",
       "        \n",
       "            \n",
       "                var html_8e8ce7fc467e4421f5b06694d2bb7868 = $(`&lt;div id=&quot;html_8e8ce7fc467e4421f5b06694d2bb7868&quot; style=&quot;width: 100.0%; height: 100.0%;&quot;&gt;Bok2&lt;/div&gt;`)[0];\n",
       "                popup_1cab566ca7c5f4dd376285431e493e21.setContent(html_8e8ce7fc467e4421f5b06694d2bb7868);\n",
       "            \n",
       "        \n",
       "\n",
       "        marker_d97f03db3e006101c613bee8006ff146.bindPopup(popup_1cab566ca7c5f4dd376285431e493e21)\n",
       "        ;\n",
       "\n",
       "        \n",
       "    \n",
       "    \n",
       "            var marker_74e7e194ef3f827f5224bb2563528f9a = L.marker(\n",
       "                [23.113345376993024, -82.43984071467096],\n",
       "                {\n",
       "}\n",
       "            ).addTo(map_3d8c657be72ab866f4b991eaf6375e72);\n",
       "        \n",
       "    \n",
       "            var icon_dfe9150485a7c68a6c877ea9881e17d1 = L.AwesomeMarkers.icon(\n",
       "                {\n",
       "  &quot;markerColor&quot;: &quot;darkblue&quot;,\n",
       "  &quot;iconColor&quot;: &quot;white&quot;,\n",
       "  &quot;icon&quot;: &quot;info-sign&quot;,\n",
       "  &quot;prefix&quot;: &quot;glyphicon&quot;,\n",
       "  &quot;extraClasses&quot;: &quot;fa-rotate-0&quot;,\n",
       "}\n",
       "            );\n",
       "            marker_74e7e194ef3f827f5224bb2563528f9a.setIcon(icon_dfe9150485a7c68a6c877ea9881e17d1);\n",
       "        \n",
       "    \n",
       "        var popup_109c338fa3bf47a8b090ebd7168d098a = L.popup({\n",
       "  &quot;maxWidth&quot;: &quot;100%&quot;,\n",
       "});\n",
       "\n",
       "        \n",
       "            \n",
       "                var html_15e4cca55fa45052ec26b581cf7563e4 = $(`&lt;div id=&quot;html_15e4cca55fa45052ec26b581cf7563e4&quot; style=&quot;width: 100.0%; height: 100.0%;&quot;&gt;Bom Apetite&lt;/div&gt;`)[0];\n",
       "                popup_109c338fa3bf47a8b090ebd7168d098a.setContent(html_15e4cca55fa45052ec26b581cf7563e4);\n",
       "            \n",
       "        \n",
       "\n",
       "        marker_74e7e194ef3f827f5224bb2563528f9a.bindPopup(popup_109c338fa3bf47a8b090ebd7168d098a)\n",
       "        ;\n",
       "\n",
       "        \n",
       "    \n",
       "    \n",
       "            var marker_ec3935fa67fb756f75c6d0b6bb7d81ca = L.marker(\n",
       "                [23.137430101331596, -82.35973216484062],\n",
       "                {\n",
       "}\n",
       "            ).addTo(map_3d8c657be72ab866f4b991eaf6375e72);\n",
       "        \n",
       "    \n",
       "            var icon_f9cb27a0716f1e78ffcb72a74eb48c52 = L.AwesomeMarkers.icon(\n",
       "                {\n",
       "  &quot;markerColor&quot;: &quot;darkblue&quot;,\n",
       "  &quot;iconColor&quot;: &quot;white&quot;,\n",
       "  &quot;icon&quot;: &quot;info-sign&quot;,\n",
       "  &quot;prefix&quot;: &quot;glyphicon&quot;,\n",
       "  &quot;extraClasses&quot;: &quot;fa-rotate-0&quot;,\n",
       "}\n",
       "            );\n",
       "            marker_ec3935fa67fb756f75c6d0b6bb7d81ca.setIcon(icon_f9cb27a0716f1e78ffcb72a74eb48c52);\n",
       "        \n",
       "    \n",
       "        var popup_fc52aa0b8ea981d01e247804d1560caf = L.popup({\n",
       "  &quot;maxWidth&quot;: &quot;100%&quot;,\n",
       "});\n",
       "\n",
       "        \n",
       "            \n",
       "                var html_8af60f01d62fc45ea52a10d1ea06f07f = $(`&lt;div id=&quot;html_8af60f01d62fc45ea52a10d1ea06f07f&quot; style=&quot;width: 100.0%; height: 100.0%;&quot;&gt;Bone&#x27;Ma 62&lt;/div&gt;`)[0];\n",
       "                popup_fc52aa0b8ea981d01e247804d1560caf.setContent(html_8af60f01d62fc45ea52a10d1ea06f07f);\n",
       "            \n",
       "        \n",
       "\n",
       "        marker_ec3935fa67fb756f75c6d0b6bb7d81ca.bindPopup(popup_fc52aa0b8ea981d01e247804d1560caf)\n",
       "        ;\n",
       "\n",
       "        \n",
       "    \n",
       "    \n",
       "            var marker_364da79a489fbf598b2f43c170d15890 = L.marker(\n",
       "                [23.12076655269561, -82.37262902250966],\n",
       "                {\n",
       "}\n",
       "            ).addTo(map_3d8c657be72ab866f4b991eaf6375e72);\n",
       "        \n",
       "    \n",
       "            var icon_d83c93309f13ff882008774e1797da3c = L.AwesomeMarkers.icon(\n",
       "                {\n",
       "  &quot;markerColor&quot;: &quot;darkblue&quot;,\n",
       "  &quot;iconColor&quot;: &quot;white&quot;,\n",
       "  &quot;icon&quot;: &quot;info-sign&quot;,\n",
       "  &quot;prefix&quot;: &quot;glyphicon&quot;,\n",
       "  &quot;extraClasses&quot;: &quot;fa-rotate-0&quot;,\n",
       "}\n",
       "            );\n",
       "            marker_364da79a489fbf598b2f43c170d15890.setIcon(icon_d83c93309f13ff882008774e1797da3c);\n",
       "        \n",
       "    \n",
       "        var popup_3db2de6c714519894dcac8796f672f77 = L.popup({\n",
       "  &quot;maxWidth&quot;: &quot;100%&quot;,\n",
       "});\n",
       "\n",
       "        \n",
       "            \n",
       "                var html_18ff9d6f356bd07dc79cfd7072b7b16e = $(`&lt;div id=&quot;html_18ff9d6f356bd07dc79cfd7072b7b16e&quot; style=&quot;width: 100.0%; height: 100.0%;&quot;&gt;Brutal Habana&lt;/div&gt;`)[0];\n",
       "                popup_3db2de6c714519894dcac8796f672f77.setContent(html_18ff9d6f356bd07dc79cfd7072b7b16e);\n",
       "            \n",
       "        \n",
       "\n",
       "        marker_364da79a489fbf598b2f43c170d15890.bindPopup(popup_3db2de6c714519894dcac8796f672f77)\n",
       "        ;\n",
       "\n",
       "        \n",
       "    \n",
       "    \n",
       "            var marker_64b7e0b3e357b406c08e47f4c75a10e0 = L.marker(\n",
       "                [23.09939463317276, -82.3324060073085],\n",
       "                {\n",
       "}\n",
       "            ).addTo(map_3d8c657be72ab866f4b991eaf6375e72);\n",
       "        \n",
       "    \n",
       "            var icon_132898a9e5056dc1a64946a71ac6ef56 = L.AwesomeMarkers.icon(\n",
       "                {\n",
       "  &quot;markerColor&quot;: &quot;darkblue&quot;,\n",
       "  &quot;iconColor&quot;: &quot;white&quot;,\n",
       "  &quot;icon&quot;: &quot;info-sign&quot;,\n",
       "  &quot;prefix&quot;: &quot;glyphicon&quot;,\n",
       "  &quot;extraClasses&quot;: &quot;fa-rotate-0&quot;,\n",
       "}\n",
       "            );\n",
       "            marker_64b7e0b3e357b406c08e47f4c75a10e0.setIcon(icon_132898a9e5056dc1a64946a71ac6ef56);\n",
       "        \n",
       "    \n",
       "        var popup_157c84f70a18ab62a77cbedd3f32551e = L.popup({\n",
       "  &quot;maxWidth&quot;: &quot;100%&quot;,\n",
       "});\n",
       "\n",
       "        \n",
       "            \n",
       "                var html_ecda0ede4f4ba6be23e2ae81f1ed2d9f = $(`&lt;div id=&quot;html_ecda0ede4f4ba6be23e2ae81f1ed2d9f&quot; style=&quot;width: 100.0%; height: 100.0%;&quot;&gt;Buena Vibra&lt;/div&gt;`)[0];\n",
       "                popup_157c84f70a18ab62a77cbedd3f32551e.setContent(html_ecda0ede4f4ba6be23e2ae81f1ed2d9f);\n",
       "            \n",
       "        \n",
       "\n",
       "        marker_64b7e0b3e357b406c08e47f4c75a10e0.bindPopup(popup_157c84f70a18ab62a77cbedd3f32551e)\n",
       "        ;\n",
       "\n",
       "        \n",
       "    \n",
       "    \n",
       "            var marker_73118cc5359dd5fedade903ab94194fc = L.marker(\n",
       "                [23.143218246225477, -82.37817617833404],\n",
       "                {\n",
       "}\n",
       "            ).addTo(map_3d8c657be72ab866f4b991eaf6375e72);\n",
       "        \n",
       "    \n",
       "            var icon_6777e0d7061e149627feb64997ee64d5 = L.AwesomeMarkers.icon(\n",
       "                {\n",
       "  &quot;markerColor&quot;: &quot;darkblue&quot;,\n",
       "  &quot;iconColor&quot;: &quot;white&quot;,\n",
       "  &quot;icon&quot;: &quot;info-sign&quot;,\n",
       "  &quot;prefix&quot;: &quot;glyphicon&quot;,\n",
       "  &quot;extraClasses&quot;: &quot;fa-rotate-0&quot;,\n",
       "}\n",
       "            );\n",
       "            marker_73118cc5359dd5fedade903ab94194fc.setIcon(icon_6777e0d7061e149627feb64997ee64d5);\n",
       "        \n",
       "    \n",
       "        var popup_90ec67bc99729a6c0bf9cc23f708b86b = L.popup({\n",
       "  &quot;maxWidth&quot;: &quot;100%&quot;,\n",
       "});\n",
       "\n",
       "        \n",
       "            \n",
       "                var html_34935562f569c1fc7c521cca299c73ee = $(`&lt;div id=&quot;html_34935562f569c1fc7c521cca299c73ee&quot; style=&quot;width: 100.0%; height: 100.0%;&quot;&gt;Bueníssimo heladería&lt;/div&gt;`)[0];\n",
       "                popup_90ec67bc99729a6c0bf9cc23f708b86b.setContent(html_34935562f569c1fc7c521cca299c73ee);\n",
       "            \n",
       "        \n",
       "\n",
       "        marker_73118cc5359dd5fedade903ab94194fc.bindPopup(popup_90ec67bc99729a6c0bf9cc23f708b86b)\n",
       "        ;\n",
       "\n",
       "        \n",
       "    \n",
       "    \n",
       "            var marker_51c333caa87cf42da7c27a81ed8c32c0 = L.marker(\n",
       "                [23.136606572526283, -82.36299826271366],\n",
       "                {\n",
       "}\n",
       "            ).addTo(map_3d8c657be72ab866f4b991eaf6375e72);\n",
       "        \n",
       "    \n",
       "            var icon_cfab42bf179176f2baadde443d0f9c3a = L.AwesomeMarkers.icon(\n",
       "                {\n",
       "  &quot;markerColor&quot;: &quot;darkblue&quot;,\n",
       "  &quot;iconColor&quot;: &quot;white&quot;,\n",
       "  &quot;icon&quot;: &quot;info-sign&quot;,\n",
       "  &quot;prefix&quot;: &quot;glyphicon&quot;,\n",
       "  &quot;extraClasses&quot;: &quot;fa-rotate-0&quot;,\n",
       "}\n",
       "            );\n",
       "            marker_51c333caa87cf42da7c27a81ed8c32c0.setIcon(icon_cfab42bf179176f2baadde443d0f9c3a);\n",
       "        \n",
       "    \n",
       "        var popup_36b49b4e7ef5eb66849eb70d4ba17d1e = L.popup({\n",
       "  &quot;maxWidth&quot;: &quot;100%&quot;,\n",
       "});\n",
       "\n",
       "        \n",
       "            \n",
       "                var html_26824ed6cf8e6b2bd5cc8082f6738a89 = $(`&lt;div id=&quot;html_26824ed6cf8e6b2bd5cc8082f6738a89&quot; style=&quot;width: 100.0%; height: 100.0%;&quot;&gt;Café Bulevar&lt;/div&gt;`)[0];\n",
       "                popup_36b49b4e7ef5eb66849eb70d4ba17d1e.setContent(html_26824ed6cf8e6b2bd5cc8082f6738a89);\n",
       "            \n",
       "        \n",
       "\n",
       "        marker_51c333caa87cf42da7c27a81ed8c32c0.bindPopup(popup_36b49b4e7ef5eb66849eb70d4ba17d1e)\n",
       "        ;\n",
       "\n",
       "        \n",
       "    \n",
       "    \n",
       "            var marker_0016bdccd9181813390dc2071116767c = L.marker(\n",
       "                [23.118089959620736, -82.4323885782618],\n",
       "                {\n",
       "}\n",
       "            ).addTo(map_3d8c657be72ab866f4b991eaf6375e72);\n",
       "        \n",
       "    \n",
       "            var icon_f0a17c48c3c0991ba601b6887215ca8e = L.AwesomeMarkers.icon(\n",
       "                {\n",
       "  &quot;markerColor&quot;: &quot;darkblue&quot;,\n",
       "  &quot;iconColor&quot;: &quot;white&quot;,\n",
       "  &quot;icon&quot;: &quot;info-sign&quot;,\n",
       "  &quot;prefix&quot;: &quot;glyphicon&quot;,\n",
       "  &quot;extraClasses&quot;: &quot;fa-rotate-0&quot;,\n",
       "}\n",
       "            );\n",
       "            marker_0016bdccd9181813390dc2071116767c.setIcon(icon_f0a17c48c3c0991ba601b6887215ca8e);\n",
       "        \n",
       "    \n",
       "        var popup_4d4c8e2da1841f87ab043bddb2e47fe2 = L.popup({\n",
       "  &quot;maxWidth&quot;: &quot;100%&quot;,\n",
       "});\n",
       "\n",
       "        \n",
       "            \n",
       "                var html_7d71563c3117744ff9796f881abed6b1 = $(`&lt;div id=&quot;html_7d71563c3117744ff9796f881abed6b1&quot; style=&quot;width: 100.0%; height: 100.0%;&quot;&gt;Café literario La Copa&lt;/div&gt;`)[0];\n",
       "                popup_4d4c8e2da1841f87ab043bddb2e47fe2.setContent(html_7d71563c3117744ff9796f881abed6b1);\n",
       "            \n",
       "        \n",
       "\n",
       "        marker_0016bdccd9181813390dc2071116767c.bindPopup(popup_4d4c8e2da1841f87ab043bddb2e47fe2)\n",
       "        ;\n",
       "\n",
       "        \n",
       "    \n",
       "    \n",
       "            var marker_08d01753d6ce5103ff148ce6c4a96334 = L.marker(\n",
       "                [23.062585294878723, -82.36389982686543],\n",
       "                {\n",
       "}\n",
       "            ).addTo(map_3d8c657be72ab866f4b991eaf6375e72);\n",
       "        \n",
       "    \n",
       "            var icon_bf345e75c2ebc27e25ead22d537c92ef = L.AwesomeMarkers.icon(\n",
       "                {\n",
       "  &quot;markerColor&quot;: &quot;darkblue&quot;,\n",
       "  &quot;iconColor&quot;: &quot;white&quot;,\n",
       "  &quot;icon&quot;: &quot;info-sign&quot;,\n",
       "  &quot;prefix&quot;: &quot;glyphicon&quot;,\n",
       "  &quot;extraClasses&quot;: &quot;fa-rotate-0&quot;,\n",
       "}\n",
       "            );\n",
       "            marker_08d01753d6ce5103ff148ce6c4a96334.setIcon(icon_bf345e75c2ebc27e25ead22d537c92ef);\n",
       "        \n",
       "    \n",
       "        var popup_70daf972c484cd7c0bb6d06fe3af0653 = L.popup({\n",
       "  &quot;maxWidth&quot;: &quot;100%&quot;,\n",
       "});\n",
       "\n",
       "        \n",
       "            \n",
       "                var html_8d1f5335d80f2f21976b0d5e64a4e036 = $(`&lt;div id=&quot;html_8d1f5335d80f2f21976b0d5e64a4e036&quot; style=&quot;width: 100.0%; height: 100.0%;&quot;&gt;Pizzería Los Atrevidos&lt;/div&gt;`)[0];\n",
       "                popup_70daf972c484cd7c0bb6d06fe3af0653.setContent(html_8d1f5335d80f2f21976b0d5e64a4e036);\n",
       "            \n",
       "        \n",
       "\n",
       "        marker_08d01753d6ce5103ff148ce6c4a96334.bindPopup(popup_70daf972c484cd7c0bb6d06fe3af0653)\n",
       "        ;\n",
       "\n",
       "        \n",
       "    \n",
       "    \n",
       "            var marker_fcb030ae6ca895a8cb6b0eac0b4b07b9 = L.marker(\n",
       "                [23.084914482920695, -82.42430664968636],\n",
       "                {\n",
       "}\n",
       "            ).addTo(map_3d8c657be72ab866f4b991eaf6375e72);\n",
       "        \n",
       "    \n",
       "            var icon_d87e9cd13c9bc1b0f6d6d89a56d4ddf7 = L.AwesomeMarkers.icon(\n",
       "                {\n",
       "  &quot;markerColor&quot;: &quot;darkblue&quot;,\n",
       "  &quot;iconColor&quot;: &quot;white&quot;,\n",
       "  &quot;icon&quot;: &quot;info-sign&quot;,\n",
       "  &quot;prefix&quot;: &quot;glyphicon&quot;,\n",
       "  &quot;extraClasses&quot;: &quot;fa-rotate-0&quot;,\n",
       "}\n",
       "            );\n",
       "            marker_fcb030ae6ca895a8cb6b0eac0b4b07b9.setIcon(icon_d87e9cd13c9bc1b0f6d6d89a56d4ddf7);\n",
       "        \n",
       "    \n",
       "        var popup_ecaeb901f3025ffce399a5f1d1e36696 = L.popup({\n",
       "  &quot;maxWidth&quot;: &quot;100%&quot;,\n",
       "});\n",
       "\n",
       "        \n",
       "            \n",
       "                var html_6297b3dc1718ca25962c9b636dedfc09 = $(`&lt;div id=&quot;html_6297b3dc1718ca25962c9b636dedfc09&quot; style=&quot;width: 100.0%; height: 100.0%;&quot;&gt;Cafeteria Obelisco&lt;/div&gt;`)[0];\n",
       "                popup_ecaeb901f3025ffce399a5f1d1e36696.setContent(html_6297b3dc1718ca25962c9b636dedfc09);\n",
       "            \n",
       "        \n",
       "\n",
       "        marker_fcb030ae6ca895a8cb6b0eac0b4b07b9.bindPopup(popup_ecaeb901f3025ffce399a5f1d1e36696)\n",
       "        ;\n",
       "\n",
       "        \n",
       "    \n",
       "    \n",
       "            var marker_df9d43d01c03c7da0004af27e139749f = L.marker(\n",
       "                [23.142051017464148, -82.35552776299248],\n",
       "                {\n",
       "}\n",
       "            ).addTo(map_3d8c657be72ab866f4b991eaf6375e72);\n",
       "        \n",
       "    \n",
       "            var icon_bfac3a4a7b212cdd5ba643809fc1bea4 = L.AwesomeMarkers.icon(\n",
       "                {\n",
       "  &quot;markerColor&quot;: &quot;darkblue&quot;,\n",
       "  &quot;iconColor&quot;: &quot;white&quot;,\n",
       "  &quot;icon&quot;: &quot;info-sign&quot;,\n",
       "  &quot;prefix&quot;: &quot;glyphicon&quot;,\n",
       "  &quot;extraClasses&quot;: &quot;fa-rotate-0&quot;,\n",
       "}\n",
       "            );\n",
       "            marker_df9d43d01c03c7da0004af27e139749f.setIcon(icon_bfac3a4a7b212cdd5ba643809fc1bea4);\n",
       "        \n",
       "    \n",
       "        var popup_fd594b7b8b379b4106a5dcbd637c6758 = L.popup({\n",
       "  &quot;maxWidth&quot;: &quot;100%&quot;,\n",
       "});\n",
       "\n",
       "        \n",
       "            \n",
       "                var html_0dfc9a518d0ba03d8f7bf35bc2641742 = $(`&lt;div id=&quot;html_0dfc9a518d0ba03d8f7bf35bc2641742&quot; style=&quot;width: 100.0%; height: 100.0%;&quot;&gt;Café Del Ángel&lt;/div&gt;`)[0];\n",
       "                popup_fd594b7b8b379b4106a5dcbd637c6758.setContent(html_0dfc9a518d0ba03d8f7bf35bc2641742);\n",
       "            \n",
       "        \n",
       "\n",
       "        marker_df9d43d01c03c7da0004af27e139749f.bindPopup(popup_fd594b7b8b379b4106a5dcbd637c6758)\n",
       "        ;\n",
       "\n",
       "        \n",
       "    \n",
       "    \n",
       "            var marker_571ebbb5724e68896353b23d2f68191b = L.marker(\n",
       "                [23.13914835979573, -82.40088382065566],\n",
       "                {\n",
       "}\n",
       "            ).addTo(map_3d8c657be72ab866f4b991eaf6375e72);\n",
       "        \n",
       "    \n",
       "            var icon_3893b5479a67ff8755d9f9780e580f0f = L.AwesomeMarkers.icon(\n",
       "                {\n",
       "  &quot;markerColor&quot;: &quot;darkblue&quot;,\n",
       "  &quot;iconColor&quot;: &quot;white&quot;,\n",
       "  &quot;icon&quot;: &quot;info-sign&quot;,\n",
       "  &quot;prefix&quot;: &quot;glyphicon&quot;,\n",
       "  &quot;extraClasses&quot;: &quot;fa-rotate-0&quot;,\n",
       "}\n",
       "            );\n",
       "            marker_571ebbb5724e68896353b23d2f68191b.setIcon(icon_3893b5479a67ff8755d9f9780e580f0f);\n",
       "        \n",
       "    \n",
       "        var popup_023f569704d4fea24a218361c148aaf3 = L.popup({\n",
       "  &quot;maxWidth&quot;: &quot;100%&quot;,\n",
       "});\n",
       "\n",
       "        \n",
       "            \n",
       "                var html_599c9a751400742865715f50e7320d35 = $(`&lt;div id=&quot;html_599c9a751400742865715f50e7320d35&quot; style=&quot;width: 100.0%; height: 100.0%;&quot;&gt;Café D La Esquina&lt;/div&gt;`)[0];\n",
       "                popup_023f569704d4fea24a218361c148aaf3.setContent(html_599c9a751400742865715f50e7320d35);\n",
       "            \n",
       "        \n",
       "\n",
       "        marker_571ebbb5724e68896353b23d2f68191b.bindPopup(popup_023f569704d4fea24a218361c148aaf3)\n",
       "        ;\n",
       "\n",
       "        \n",
       "    \n",
       "    \n",
       "            var marker_98775bfccd1edc0475f01ca11f3463e4 = L.marker(\n",
       "                [23.142946607469362, -82.3545654068682],\n",
       "                {\n",
       "}\n",
       "            ).addTo(map_3d8c657be72ab866f4b991eaf6375e72);\n",
       "        \n",
       "    \n",
       "            var icon_640ccd53f1fdae58a370b26e27dd0517 = L.AwesomeMarkers.icon(\n",
       "                {\n",
       "  &quot;markerColor&quot;: &quot;darkblue&quot;,\n",
       "  &quot;iconColor&quot;: &quot;white&quot;,\n",
       "  &quot;icon&quot;: &quot;info-sign&quot;,\n",
       "  &quot;prefix&quot;: &quot;glyphicon&quot;,\n",
       "  &quot;extraClasses&quot;: &quot;fa-rotate-0&quot;,\n",
       "}\n",
       "            );\n",
       "            marker_98775bfccd1edc0475f01ca11f3463e4.setIcon(icon_640ccd53f1fdae58a370b26e27dd0517);\n",
       "        \n",
       "    \n",
       "        var popup_9c9399d0f5685f480c8be3875c9cced2 = L.popup({\n",
       "  &quot;maxWidth&quot;: &quot;100%&quot;,\n",
       "});\n",
       "\n",
       "        \n",
       "            \n",
       "                var html_1763d68c1a1ece30e39d5e724440b993 = $(`&lt;div id=&quot;html_1763d68c1a1ece30e39d5e724440b993&quot; style=&quot;width: 100.0%; height: 100.0%;&quot;&gt;Café Fortuna Joe&lt;/div&gt;`)[0];\n",
       "                popup_9c9399d0f5685f480c8be3875c9cced2.setContent(html_1763d68c1a1ece30e39d5e724440b993);\n",
       "            \n",
       "        \n",
       "\n",
       "        marker_98775bfccd1edc0475f01ca11f3463e4.bindPopup(popup_9c9399d0f5685f480c8be3875c9cced2)\n",
       "        ;\n",
       "\n",
       "        \n",
       "    \n",
       "    \n",
       "            var marker_04f331606428f135ad538c944955c1f8 = L.marker(\n",
       "                [23.02223192051713, -82.39913129234107],\n",
       "                {\n",
       "}\n",
       "            ).addTo(map_3d8c657be72ab866f4b991eaf6375e72);\n",
       "        \n",
       "    \n",
       "            var icon_308a1d103c1235cd95030b4d2537b998 = L.AwesomeMarkers.icon(\n",
       "                {\n",
       "  &quot;markerColor&quot;: &quot;darkblue&quot;,\n",
       "  &quot;iconColor&quot;: &quot;white&quot;,\n",
       "  &quot;icon&quot;: &quot;info-sign&quot;,\n",
       "  &quot;prefix&quot;: &quot;glyphicon&quot;,\n",
       "  &quot;extraClasses&quot;: &quot;fa-rotate-0&quot;,\n",
       "}\n",
       "            );\n",
       "            marker_04f331606428f135ad538c944955c1f8.setIcon(icon_308a1d103c1235cd95030b4d2537b998);\n",
       "        \n",
       "    \n",
       "        var popup_424b9ef8c377e03791c9646d3812de4b = L.popup({\n",
       "  &quot;maxWidth&quot;: &quot;100%&quot;,\n",
       "});\n",
       "\n",
       "        \n",
       "            \n",
       "                var html_07f3663c7151599c2e29895b6ebc7962 = $(`&lt;div id=&quot;html_07f3663c7151599c2e29895b6ebc7962&quot; style=&quot;width: 100.0%; height: 100.0%;&quot;&gt;Café Tilin&lt;/div&gt;`)[0];\n",
       "                popup_424b9ef8c377e03791c9646d3812de4b.setContent(html_07f3663c7151599c2e29895b6ebc7962);\n",
       "            \n",
       "        \n",
       "\n",
       "        marker_04f331606428f135ad538c944955c1f8.bindPopup(popup_424b9ef8c377e03791c9646d3812de4b)\n",
       "        ;\n",
       "\n",
       "        \n",
       "    \n",
       "    \n",
       "            var marker_705badc71ac635ad86665f249935c56d = L.marker(\n",
       "                [23.079664361938153, -82.31965649386221],\n",
       "                {\n",
       "}\n",
       "            ).addTo(map_3d8c657be72ab866f4b991eaf6375e72);\n",
       "        \n",
       "    \n",
       "            var icon_aad3f2da9d04a24e4119008f339ddc3b = L.AwesomeMarkers.icon(\n",
       "                {\n",
       "  &quot;markerColor&quot;: &quot;darkblue&quot;,\n",
       "  &quot;iconColor&quot;: &quot;white&quot;,\n",
       "  &quot;icon&quot;: &quot;info-sign&quot;,\n",
       "  &quot;prefix&quot;: &quot;glyphicon&quot;,\n",
       "  &quot;extraClasses&quot;: &quot;fa-rotate-0&quot;,\n",
       "}\n",
       "            );\n",
       "            marker_705badc71ac635ad86665f249935c56d.setIcon(icon_aad3f2da9d04a24e4119008f339ddc3b);\n",
       "        \n",
       "    \n",
       "        var popup_c4e74a088012290c42853981e178d576 = L.popup({\n",
       "  &quot;maxWidth&quot;: &quot;100%&quot;,\n",
       "});\n",
       "\n",
       "        \n",
       "            \n",
       "                var html_0b7f00ea5a2f0475473c448e4b999905 = $(`&lt;div id=&quot;html_0b7f00ea5a2f0475473c448e4b999905&quot; style=&quot;width: 100.0%; height: 100.0%;&quot;&gt;Café Toscano&lt;/div&gt;`)[0];\n",
       "                popup_c4e74a088012290c42853981e178d576.setContent(html_0b7f00ea5a2f0475473c448e4b999905);\n",
       "            \n",
       "        \n",
       "\n",
       "        marker_705badc71ac635ad86665f249935c56d.bindPopup(popup_c4e74a088012290c42853981e178d576)\n",
       "        ;\n",
       "\n",
       "        \n",
       "    \n",
       "    \n",
       "            var marker_8047f02a4bf6e3b76db5e57395c84488 = L.marker(\n",
       "                [23.115259266660882, -82.43418842082183],\n",
       "                {\n",
       "}\n",
       "            ).addTo(map_3d8c657be72ab866f4b991eaf6375e72);\n",
       "        \n",
       "    \n",
       "            var icon_5397acc2097466013321f34ec26df3ed = L.AwesomeMarkers.icon(\n",
       "                {\n",
       "  &quot;markerColor&quot;: &quot;darkblue&quot;,\n",
       "  &quot;iconColor&quot;: &quot;white&quot;,\n",
       "  &quot;icon&quot;: &quot;info-sign&quot;,\n",
       "  &quot;prefix&quot;: &quot;glyphicon&quot;,\n",
       "  &quot;extraClasses&quot;: &quot;fa-rotate-0&quot;,\n",
       "}\n",
       "            );\n",
       "            marker_8047f02a4bf6e3b76db5e57395c84488.setIcon(icon_5397acc2097466013321f34ec26df3ed);\n",
       "        \n",
       "    \n",
       "        var popup_86313326d1845db6b9a1f72d2af14480 = L.popup({\n",
       "  &quot;maxWidth&quot;: &quot;100%&quot;,\n",
       "});\n",
       "\n",
       "        \n",
       "            \n",
       "                var html_6814a5b02c63fe030a30ea94e56dd58a = $(`&lt;div id=&quot;html_6814a5b02c63fe030a30ea94e56dd58a&quot; style=&quot;width: 100.0%; height: 100.0%;&quot;&gt;Café Clington&lt;/div&gt;`)[0];\n",
       "                popup_86313326d1845db6b9a1f72d2af14480.setContent(html_6814a5b02c63fe030a30ea94e56dd58a);\n",
       "            \n",
       "        \n",
       "\n",
       "        marker_8047f02a4bf6e3b76db5e57395c84488.bindPopup(popup_86313326d1845db6b9a1f72d2af14480)\n",
       "        ;\n",
       "\n",
       "        \n",
       "    \n",
       "    \n",
       "            var marker_b59e4429c1769ffd208093bd899fcf06 = L.marker(\n",
       "                [23.143094606584455, -82.39921161808243],\n",
       "                {\n",
       "}\n",
       "            ).addTo(map_3d8c657be72ab866f4b991eaf6375e72);\n",
       "        \n",
       "    \n",
       "            var icon_78843cefaabc2d65c8b9231a4283572c = L.AwesomeMarkers.icon(\n",
       "                {\n",
       "  &quot;markerColor&quot;: &quot;darkblue&quot;,\n",
       "  &quot;iconColor&quot;: &quot;white&quot;,\n",
       "  &quot;icon&quot;: &quot;info-sign&quot;,\n",
       "  &quot;prefix&quot;: &quot;glyphicon&quot;,\n",
       "  &quot;extraClasses&quot;: &quot;fa-rotate-0&quot;,\n",
       "}\n",
       "            );\n",
       "            marker_b59e4429c1769ffd208093bd899fcf06.setIcon(icon_78843cefaabc2d65c8b9231a4283572c);\n",
       "        \n",
       "    \n",
       "        var popup_f3f38820ae9420cb952e61f6df33ff03 = L.popup({\n",
       "  &quot;maxWidth&quot;: &quot;100%&quot;,\n",
       "});\n",
       "\n",
       "        \n",
       "            \n",
       "                var html_1203449315cbef20cf11087873306fae = $(`&lt;div id=&quot;html_1203449315cbef20cf11087873306fae&quot; style=&quot;width: 100.0%; height: 100.0%;&quot;&gt;Casa Mía Paladar&lt;/div&gt;`)[0];\n",
       "                popup_f3f38820ae9420cb952e61f6df33ff03.setContent(html_1203449315cbef20cf11087873306fae);\n",
       "            \n",
       "        \n",
       "\n",
       "        marker_b59e4429c1769ffd208093bd899fcf06.bindPopup(popup_f3f38820ae9420cb952e61f6df33ff03)\n",
       "        ;\n",
       "\n",
       "        \n",
       "    \n",
       "    \n",
       "            var marker_5c014f017302c520448c73f973fe2994 = L.marker(\n",
       "                [23.131291003595813, -82.40481170717004],\n",
       "                {\n",
       "}\n",
       "            ).addTo(map_3d8c657be72ab866f4b991eaf6375e72);\n",
       "        \n",
       "    \n",
       "            var icon_7590f492afdd07180d911321a23df96f = L.AwesomeMarkers.icon(\n",
       "                {\n",
       "  &quot;markerColor&quot;: &quot;darkblue&quot;,\n",
       "  &quot;iconColor&quot;: &quot;white&quot;,\n",
       "  &quot;icon&quot;: &quot;info-sign&quot;,\n",
       "  &quot;prefix&quot;: &quot;glyphicon&quot;,\n",
       "  &quot;extraClasses&quot;: &quot;fa-rotate-0&quot;,\n",
       "}\n",
       "            );\n",
       "            marker_5c014f017302c520448c73f973fe2994.setIcon(icon_7590f492afdd07180d911321a23df96f);\n",
       "        \n",
       "    \n",
       "        var popup_eaf09b8c507a65f8b77f50b9a548c093 = L.popup({\n",
       "  &quot;maxWidth&quot;: &quot;100%&quot;,\n",
       "});\n",
       "\n",
       "        \n",
       "            \n",
       "                var html_85562108a12b843ab9722f831af3fef6 = $(`&lt;div id=&quot;html_85562108a12b843ab9722f831af3fef6&quot; style=&quot;width: 100.0%; height: 100.0%;&quot;&gt;Coco Blue y la Zorra Pelua&lt;/div&gt;`)[0];\n",
       "                popup_eaf09b8c507a65f8b77f50b9a548c093.setContent(html_85562108a12b843ab9722f831af3fef6);\n",
       "            \n",
       "        \n",
       "\n",
       "        marker_5c014f017302c520448c73f973fe2994.bindPopup(popup_eaf09b8c507a65f8b77f50b9a548c093)\n",
       "        ;\n",
       "\n",
       "        \n",
       "    \n",
       "    \n",
       "            var marker_e284ed7c5dabcd5cf7529d3947ed3349 = L.marker(\n",
       "                [23.071157091647542, -82.43553263563338],\n",
       "                {\n",
       "}\n",
       "            ).addTo(map_3d8c657be72ab866f4b991eaf6375e72);\n",
       "        \n",
       "    \n",
       "            var icon_2b627abbf150fa6f06ab7aacd3b7fc4e = L.AwesomeMarkers.icon(\n",
       "                {\n",
       "  &quot;markerColor&quot;: &quot;darkblue&quot;,\n",
       "  &quot;iconColor&quot;: &quot;white&quot;,\n",
       "  &quot;icon&quot;: &quot;info-sign&quot;,\n",
       "  &quot;prefix&quot;: &quot;glyphicon&quot;,\n",
       "  &quot;extraClasses&quot;: &quot;fa-rotate-0&quot;,\n",
       "}\n",
       "            );\n",
       "            marker_e284ed7c5dabcd5cf7529d3947ed3349.setIcon(icon_2b627abbf150fa6f06ab7aacd3b7fc4e);\n",
       "        \n",
       "    \n",
       "        var popup_4c14cda66636624c072eba3aa5c90f62 = L.popup({\n",
       "  &quot;maxWidth&quot;: &quot;100%&quot;,\n",
       "});\n",
       "\n",
       "        \n",
       "            \n",
       "                var html_be0be18c205a281932a9e71d345c1129 = $(`&lt;div id=&quot;html_be0be18c205a281932a9e71d345c1129&quot; style=&quot;width: 100.0%; height: 100.0%;&quot;&gt;Colesterol 5.1&lt;/div&gt;`)[0];\n",
       "                popup_4c14cda66636624c072eba3aa5c90f62.setContent(html_be0be18c205a281932a9e71d345c1129);\n",
       "            \n",
       "        \n",
       "\n",
       "        marker_e284ed7c5dabcd5cf7529d3947ed3349.bindPopup(popup_4c14cda66636624c072eba3aa5c90f62)\n",
       "        ;\n",
       "\n",
       "        \n",
       "    \n",
       "    \n",
       "            var marker_1d8d6bbb0c0ecf172d812486769afeed = L.marker(\n",
       "                [23.136810792066857, -82.36139565096036],\n",
       "                {\n",
       "}\n",
       "            ).addTo(map_3d8c657be72ab866f4b991eaf6375e72);\n",
       "        \n",
       "    \n",
       "            var icon_7a92cb6ec1159793a47d5a06e11c1f3d = L.AwesomeMarkers.icon(\n",
       "                {\n",
       "  &quot;markerColor&quot;: &quot;darkblue&quot;,\n",
       "  &quot;iconColor&quot;: &quot;white&quot;,\n",
       "  &quot;icon&quot;: &quot;info-sign&quot;,\n",
       "  &quot;prefix&quot;: &quot;glyphicon&quot;,\n",
       "  &quot;extraClasses&quot;: &quot;fa-rotate-0&quot;,\n",
       "}\n",
       "            );\n",
       "            marker_1d8d6bbb0c0ecf172d812486769afeed.setIcon(icon_7a92cb6ec1159793a47d5a06e11c1f3d);\n",
       "        \n",
       "    \n",
       "        var popup_fe06e56eee9734d85a3150cbdb981f02 = L.popup({\n",
       "  &quot;maxWidth&quot;: &quot;100%&quot;,\n",
       "});\n",
       "\n",
       "        \n",
       "            \n",
       "                var html_e5386a6758f6c23e47a528b0f5d4fa65 = $(`&lt;div id=&quot;html_e5386a6758f6c23e47a528b0f5d4fa65&quot; style=&quot;width: 100.0%; height: 100.0%;&quot;&gt;Cohmar Café&lt;/div&gt;`)[0];\n",
       "                popup_fe06e56eee9734d85a3150cbdb981f02.setContent(html_e5386a6758f6c23e47a528b0f5d4fa65);\n",
       "            \n",
       "        \n",
       "\n",
       "        marker_1d8d6bbb0c0ecf172d812486769afeed.bindPopup(popup_fe06e56eee9734d85a3150cbdb981f02)\n",
       "        ;\n",
       "\n",
       "        \n",
       "    \n",
       "    \n",
       "            var marker_e1ba04ec917cc40e7718e92b2ce330cd = L.marker(\n",
       "                [23.089713179451753, -82.37605099342609],\n",
       "                {\n",
       "}\n",
       "            ).addTo(map_3d8c657be72ab866f4b991eaf6375e72);\n",
       "        \n",
       "    \n",
       "            var icon_fcad2aed712af517444cc10a8d19b226 = L.AwesomeMarkers.icon(\n",
       "                {\n",
       "  &quot;markerColor&quot;: &quot;darkblue&quot;,\n",
       "  &quot;iconColor&quot;: &quot;white&quot;,\n",
       "  &quot;icon&quot;: &quot;info-sign&quot;,\n",
       "  &quot;prefix&quot;: &quot;glyphicon&quot;,\n",
       "  &quot;extraClasses&quot;: &quot;fa-rotate-0&quot;,\n",
       "}\n",
       "            );\n",
       "            marker_e1ba04ec917cc40e7718e92b2ce330cd.setIcon(icon_fcad2aed712af517444cc10a8d19b226);\n",
       "        \n",
       "    \n",
       "        var popup_30da041ac517b6cc7484827da24b6a00 = L.popup({\n",
       "  &quot;maxWidth&quot;: &quot;100%&quot;,\n",
       "});\n",
       "\n",
       "        \n",
       "            \n",
       "                var html_9976be939b2a0fd1974751be66ebe5be = $(`&lt;div id=&quot;html_9976be939b2a0fd1974751be66ebe5be&quot; style=&quot;width: 100.0%; height: 100.0%;&quot;&gt;Crispy Chicken&lt;/div&gt;`)[0];\n",
       "                popup_30da041ac517b6cc7484827da24b6a00.setContent(html_9976be939b2a0fd1974751be66ebe5be);\n",
       "            \n",
       "        \n",
       "\n",
       "        marker_e1ba04ec917cc40e7718e92b2ce330cd.bindPopup(popup_30da041ac517b6cc7484827da24b6a00)\n",
       "        ;\n",
       "\n",
       "        \n",
       "    \n",
       "    \n",
       "            var marker_3cb0724426a1bd2d0029bc5dad78278e = L.marker(\n",
       "                [23.045720488391616, -82.27010112894351],\n",
       "                {\n",
       "}\n",
       "            ).addTo(map_3d8c657be72ab866f4b991eaf6375e72);\n",
       "        \n",
       "    \n",
       "            var icon_356a1f4fabee416bd7ce04fea9369dde = L.AwesomeMarkers.icon(\n",
       "                {\n",
       "  &quot;markerColor&quot;: &quot;darkblue&quot;,\n",
       "  &quot;iconColor&quot;: &quot;white&quot;,\n",
       "  &quot;icon&quot;: &quot;info-sign&quot;,\n",
       "  &quot;prefix&quot;: &quot;glyphicon&quot;,\n",
       "  &quot;extraClasses&quot;: &quot;fa-rotate-0&quot;,\n",
       "}\n",
       "            );\n",
       "            marker_3cb0724426a1bd2d0029bc5dad78278e.setIcon(icon_356a1f4fabee416bd7ce04fea9369dde);\n",
       "        \n",
       "    \n",
       "        var popup_17144c7d556d1c28dbefbdd39a737ea9 = L.popup({\n",
       "  &quot;maxWidth&quot;: &quot;100%&quot;,\n",
       "});\n",
       "\n",
       "        \n",
       "            \n",
       "                var html_216206796463e5044fb99a70ce1b3689 = $(`&lt;div id=&quot;html_216206796463e5044fb99a70ce1b3689&quot; style=&quot;width: 100.0%; height: 100.0%;&quot;&gt;Crystal&lt;/div&gt;`)[0];\n",
       "                popup_17144c7d556d1c28dbefbdd39a737ea9.setContent(html_216206796463e5044fb99a70ce1b3689);\n",
       "            \n",
       "        \n",
       "\n",
       "        marker_3cb0724426a1bd2d0029bc5dad78278e.bindPopup(popup_17144c7d556d1c28dbefbdd39a737ea9)\n",
       "        ;\n",
       "\n",
       "        \n",
       "    \n",
       "    \n",
       "            var marker_4d8f939efbca16d0f21cfa5588aef3b6 = L.marker(\n",
       "                [23.13687569067757, -82.39995132251141],\n",
       "                {\n",
       "}\n",
       "            ).addTo(map_3d8c657be72ab866f4b991eaf6375e72);\n",
       "        \n",
       "    \n",
       "            var icon_1b83d7978b56a117876baebf6a108f73 = L.AwesomeMarkers.icon(\n",
       "                {\n",
       "  &quot;markerColor&quot;: &quot;darkblue&quot;,\n",
       "  &quot;iconColor&quot;: &quot;white&quot;,\n",
       "  &quot;icon&quot;: &quot;info-sign&quot;,\n",
       "  &quot;prefix&quot;: &quot;glyphicon&quot;,\n",
       "  &quot;extraClasses&quot;: &quot;fa-rotate-0&quot;,\n",
       "}\n",
       "            );\n",
       "            marker_4d8f939efbca16d0f21cfa5588aef3b6.setIcon(icon_1b83d7978b56a117876baebf6a108f73);\n",
       "        \n",
       "    \n",
       "        var popup_beb702a76544aefb11a444d2ee7cd226 = L.popup({\n",
       "  &quot;maxWidth&quot;: &quot;100%&quot;,\n",
       "});\n",
       "\n",
       "        \n",
       "            \n",
       "                var html_03c8f0a822fb23db6aa03400c10d19b7 = $(`&lt;div id=&quot;html_03c8f0a822fb23db6aa03400c10d19b7&quot; style=&quot;width: 100.0%; height: 100.0%;&quot;&gt;Decamerón&lt;/div&gt;`)[0];\n",
       "                popup_beb702a76544aefb11a444d2ee7cd226.setContent(html_03c8f0a822fb23db6aa03400c10d19b7);\n",
       "            \n",
       "        \n",
       "\n",
       "        marker_4d8f939efbca16d0f21cfa5588aef3b6.bindPopup(popup_beb702a76544aefb11a444d2ee7cd226)\n",
       "        ;\n",
       "\n",
       "        \n",
       "    \n",
       "    \n",
       "            var marker_9bf8c524686eb4a2bbe9b7d4e59b1099 = L.marker(\n",
       "                [23.140047889777367, -82.38107827833426],\n",
       "                {\n",
       "}\n",
       "            ).addTo(map_3d8c657be72ab866f4b991eaf6375e72);\n",
       "        \n",
       "    \n",
       "            var icon_a9a9dcb1a92e534e5c61605738708dea = L.AwesomeMarkers.icon(\n",
       "                {\n",
       "  &quot;markerColor&quot;: &quot;darkblue&quot;,\n",
       "  &quot;iconColor&quot;: &quot;white&quot;,\n",
       "  &quot;icon&quot;: &quot;info-sign&quot;,\n",
       "  &quot;prefix&quot;: &quot;glyphicon&quot;,\n",
       "  &quot;extraClasses&quot;: &quot;fa-rotate-0&quot;,\n",
       "}\n",
       "            );\n",
       "            marker_9bf8c524686eb4a2bbe9b7d4e59b1099.setIcon(icon_a9a9dcb1a92e534e5c61605738708dea);\n",
       "        \n",
       "    \n",
       "        var popup_0d524d66384ed79c65e6aaeb347114e0 = L.popup({\n",
       "  &quot;maxWidth&quot;: &quot;100%&quot;,\n",
       "});\n",
       "\n",
       "        \n",
       "            \n",
       "                var html_e8e764d4d1c84c4e286556962da142cb = $(`&lt;div id=&quot;html_e8e764d4d1c84c4e286556962da142cb&quot; style=&quot;width: 100.0%; height: 100.0%;&quot;&gt;Distrito 25&lt;/div&gt;`)[0];\n",
       "                popup_0d524d66384ed79c65e6aaeb347114e0.setContent(html_e8e764d4d1c84c4e286556962da142cb);\n",
       "            \n",
       "        \n",
       "\n",
       "        marker_9bf8c524686eb4a2bbe9b7d4e59b1099.bindPopup(popup_0d524d66384ed79c65e6aaeb347114e0)\n",
       "        ;\n",
       "\n",
       "        \n",
       "    \n",
       "    \n",
       "            var marker_ab11be741b6823f1ec64b3170f46c0cf = L.marker(\n",
       "                [23.060193567010185, -82.3364931353467],\n",
       "                {\n",
       "}\n",
       "            ).addTo(map_3d8c657be72ab866f4b991eaf6375e72);\n",
       "        \n",
       "    \n",
       "            var icon_e09da7eb6678640d6a22587130881f50 = L.AwesomeMarkers.icon(\n",
       "                {\n",
       "  &quot;markerColor&quot;: &quot;darkblue&quot;,\n",
       "  &quot;iconColor&quot;: &quot;white&quot;,\n",
       "  &quot;icon&quot;: &quot;info-sign&quot;,\n",
       "  &quot;prefix&quot;: &quot;glyphicon&quot;,\n",
       "  &quot;extraClasses&quot;: &quot;fa-rotate-0&quot;,\n",
       "}\n",
       "            );\n",
       "            marker_ab11be741b6823f1ec64b3170f46c0cf.setIcon(icon_e09da7eb6678640d6a22587130881f50);\n",
       "        \n",
       "    \n",
       "        var popup_23e6523f6ab618c85c9e766f98b6fdee = L.popup({\n",
       "  &quot;maxWidth&quot;: &quot;100%&quot;,\n",
       "});\n",
       "\n",
       "        \n",
       "            \n",
       "                var html_19ade9b3e95d74c3d7cd26246ed8f5e6 = $(`&lt;div id=&quot;html_19ade9b3e95d74c3d7cd26246ed8f5e6&quot; style=&quot;width: 100.0%; height: 100.0%;&quot;&gt;DiVino Restaurante&lt;/div&gt;`)[0];\n",
       "                popup_23e6523f6ab618c85c9e766f98b6fdee.setContent(html_19ade9b3e95d74c3d7cd26246ed8f5e6);\n",
       "            \n",
       "        \n",
       "\n",
       "        marker_ab11be741b6823f1ec64b3170f46c0cf.bindPopup(popup_23e6523f6ab618c85c9e766f98b6fdee)\n",
       "        ;\n",
       "\n",
       "        \n",
       "    \n",
       "    \n",
       "            var marker_a89360be362d211f484aaec3c0bac805 = L.marker(\n",
       "                [23.08648320188595, -82.36489814950129],\n",
       "                {\n",
       "}\n",
       "            ).addTo(map_3d8c657be72ab866f4b991eaf6375e72);\n",
       "        \n",
       "    \n",
       "            var icon_e65dc153444cb7a5d1e2e240cea1d93a = L.AwesomeMarkers.icon(\n",
       "                {\n",
       "  &quot;markerColor&quot;: &quot;darkblue&quot;,\n",
       "  &quot;iconColor&quot;: &quot;white&quot;,\n",
       "  &quot;icon&quot;: &quot;info-sign&quot;,\n",
       "  &quot;prefix&quot;: &quot;glyphicon&quot;,\n",
       "  &quot;extraClasses&quot;: &quot;fa-rotate-0&quot;,\n",
       "}\n",
       "            );\n",
       "            marker_a89360be362d211f484aaec3c0bac805.setIcon(icon_e65dc153444cb7a5d1e2e240cea1d93a);\n",
       "        \n",
       "    \n",
       "        var popup_64c2b59115e16f7983eb8847ee8a1892 = L.popup({\n",
       "  &quot;maxWidth&quot;: &quot;100%&quot;,\n",
       "});\n",
       "\n",
       "        \n",
       "            \n",
       "                var html_5f207bdbfcfaf6caebe4c49081e5b8aa = $(`&lt;div id=&quot;html_5f207bdbfcfaf6caebe4c49081e5b8aa&quot; style=&quot;width: 100.0%; height: 100.0%;&quot;&gt;D&#x27;Mitu&lt;/div&gt;`)[0];\n",
       "                popup_64c2b59115e16f7983eb8847ee8a1892.setContent(html_5f207bdbfcfaf6caebe4c49081e5b8aa);\n",
       "            \n",
       "        \n",
       "\n",
       "        marker_a89360be362d211f484aaec3c0bac805.bindPopup(popup_64c2b59115e16f7983eb8847ee8a1892)\n",
       "        ;\n",
       "\n",
       "        \n",
       "    \n",
       "    \n",
       "            var marker_82ac6e9734c6fc93de7a38bb56b16e4d = L.marker(\n",
       "                [23.132130469362888, -82.35198190548067],\n",
       "                {\n",
       "}\n",
       "            ).addTo(map_3d8c657be72ab866f4b991eaf6375e72);\n",
       "        \n",
       "    \n",
       "            var icon_89950bb168406791991cbc2636392f79 = L.AwesomeMarkers.icon(\n",
       "                {\n",
       "  &quot;markerColor&quot;: &quot;darkblue&quot;,\n",
       "  &quot;iconColor&quot;: &quot;white&quot;,\n",
       "  &quot;icon&quot;: &quot;info-sign&quot;,\n",
       "  &quot;prefix&quot;: &quot;glyphicon&quot;,\n",
       "  &quot;extraClasses&quot;: &quot;fa-rotate-0&quot;,\n",
       "}\n",
       "            );\n",
       "            marker_82ac6e9734c6fc93de7a38bb56b16e4d.setIcon(icon_89950bb168406791991cbc2636392f79);\n",
       "        \n",
       "    \n",
       "        var popup_7b19329aa5f886765a61369e77b7d2c4 = L.popup({\n",
       "  &quot;maxWidth&quot;: &quot;100%&quot;,\n",
       "});\n",
       "\n",
       "        \n",
       "            \n",
       "                var html_a3e5bf69a0f4150240d76e28c51c8778 = $(`&lt;div id=&quot;html_a3e5bf69a0f4150240d76e28c51c8778&quot; style=&quot;width: 100.0%; height: 100.0%;&quot;&gt;Doña Alicia&lt;/div&gt;`)[0];\n",
       "                popup_7b19329aa5f886765a61369e77b7d2c4.setContent(html_a3e5bf69a0f4150240d76e28c51c8778);\n",
       "            \n",
       "        \n",
       "\n",
       "        marker_82ac6e9734c6fc93de7a38bb56b16e4d.bindPopup(popup_7b19329aa5f886765a61369e77b7d2c4)\n",
       "        ;\n",
       "\n",
       "        \n",
       "    \n",
       "    \n",
       "            var marker_c09e47718f9482f7c2bd9ece63a190db = L.marker(\n",
       "                [23.065174820392418, -82.3755823766412],\n",
       "                {\n",
       "}\n",
       "            ).addTo(map_3d8c657be72ab866f4b991eaf6375e72);\n",
       "        \n",
       "    \n",
       "            var icon_14ab1655ae4b1fd2c3fcbe79c2a078f4 = L.AwesomeMarkers.icon(\n",
       "                {\n",
       "  &quot;markerColor&quot;: &quot;darkblue&quot;,\n",
       "  &quot;iconColor&quot;: &quot;white&quot;,\n",
       "  &quot;icon&quot;: &quot;info-sign&quot;,\n",
       "  &quot;prefix&quot;: &quot;glyphicon&quot;,\n",
       "  &quot;extraClasses&quot;: &quot;fa-rotate-0&quot;,\n",
       "}\n",
       "            );\n",
       "            marker_c09e47718f9482f7c2bd9ece63a190db.setIcon(icon_14ab1655ae4b1fd2c3fcbe79c2a078f4);\n",
       "        \n",
       "    \n",
       "        var popup_f3adf6e0cfe9ed7601c71a03b8e9c735 = L.popup({\n",
       "  &quot;maxWidth&quot;: &quot;100%&quot;,\n",
       "});\n",
       "\n",
       "        \n",
       "            \n",
       "                var html_fdb3e17ff3482779c30eb22ac2b6f337 = $(`&lt;div id=&quot;html_fdb3e17ff3482779c30eb22ac2b6f337&quot; style=&quot;width: 100.0%; height: 100.0%;&quot;&gt;Doña Almira&lt;/div&gt;`)[0];\n",
       "                popup_f3adf6e0cfe9ed7601c71a03b8e9c735.setContent(html_fdb3e17ff3482779c30eb22ac2b6f337);\n",
       "            \n",
       "        \n",
       "\n",
       "        marker_c09e47718f9482f7c2bd9ece63a190db.bindPopup(popup_f3adf6e0cfe9ed7601c71a03b8e9c735)\n",
       "        ;\n",
       "\n",
       "        \n",
       "    \n",
       "    \n",
       "            var marker_496506b52e2037854f871bd15dfd98d5 = L.marker(\n",
       "                [23.138392393516753, -82.37023852767982],\n",
       "                {\n",
       "}\n",
       "            ).addTo(map_3d8c657be72ab866f4b991eaf6375e72);\n",
       "        \n",
       "    \n",
       "            var icon_ecaf66bd0bbd8f1d9a9b659593bc8208 = L.AwesomeMarkers.icon(\n",
       "                {\n",
       "  &quot;markerColor&quot;: &quot;darkblue&quot;,\n",
       "  &quot;iconColor&quot;: &quot;white&quot;,\n",
       "  &quot;icon&quot;: &quot;info-sign&quot;,\n",
       "  &quot;prefix&quot;: &quot;glyphicon&quot;,\n",
       "  &quot;extraClasses&quot;: &quot;fa-rotate-0&quot;,\n",
       "}\n",
       "            );\n",
       "            marker_496506b52e2037854f871bd15dfd98d5.setIcon(icon_ecaf66bd0bbd8f1d9a9b659593bc8208);\n",
       "        \n",
       "    \n",
       "        var popup_6f900ccc219022a63334dde14ec462c6 = L.popup({\n",
       "  &quot;maxWidth&quot;: &quot;100%&quot;,\n",
       "});\n",
       "\n",
       "        \n",
       "            \n",
       "                var html_084248c4a54166a5d7b89a98bba202c5 = $(`&lt;div id=&quot;html_084248c4a54166a5d7b89a98bba202c5&quot; style=&quot;width: 100.0%; height: 100.0%;&quot;&gt;Doña Lis Pizza&lt;/div&gt;`)[0];\n",
       "                popup_6f900ccc219022a63334dde14ec462c6.setContent(html_084248c4a54166a5d7b89a98bba202c5);\n",
       "            \n",
       "        \n",
       "\n",
       "        marker_496506b52e2037854f871bd15dfd98d5.bindPopup(popup_6f900ccc219022a63334dde14ec462c6)\n",
       "        ;\n",
       "\n",
       "        \n",
       "    \n",
       "    \n",
       "            var marker_d6ffd430ff7b73922f6dcc8edc0855c4 = L.marker(\n",
       "                [23.07552643657392, -82.35874254913283],\n",
       "                {\n",
       "}\n",
       "            ).addTo(map_3d8c657be72ab866f4b991eaf6375e72);\n",
       "        \n",
       "    \n",
       "            var icon_b8bca69ece7de60b67c646ccba8f9b4f = L.AwesomeMarkers.icon(\n",
       "                {\n",
       "  &quot;markerColor&quot;: &quot;darkblue&quot;,\n",
       "  &quot;iconColor&quot;: &quot;white&quot;,\n",
       "  &quot;icon&quot;: &quot;info-sign&quot;,\n",
       "  &quot;prefix&quot;: &quot;glyphicon&quot;,\n",
       "  &quot;extraClasses&quot;: &quot;fa-rotate-0&quot;,\n",
       "}\n",
       "            );\n",
       "            marker_d6ffd430ff7b73922f6dcc8edc0855c4.setIcon(icon_b8bca69ece7de60b67c646ccba8f9b4f);\n",
       "        \n",
       "    \n",
       "        var popup_7c81f9640c608fd353f97645a08d0056 = L.popup({\n",
       "  &quot;maxWidth&quot;: &quot;100%&quot;,\n",
       "});\n",
       "\n",
       "        \n",
       "            \n",
       "                var html_d8ce1cf11d8c6a5bcdb3ae83b2685cc2 = $(`&lt;div id=&quot;html_d8ce1cf11d8c6a5bcdb3ae83b2685cc2&quot; style=&quot;width: 100.0%; height: 100.0%;&quot;&gt;Don Burguer&lt;/div&gt;`)[0];\n",
       "                popup_7c81f9640c608fd353f97645a08d0056.setContent(html_d8ce1cf11d8c6a5bcdb3ae83b2685cc2);\n",
       "            \n",
       "        \n",
       "\n",
       "        marker_d6ffd430ff7b73922f6dcc8edc0855c4.bindPopup(popup_7c81f9640c608fd353f97645a08d0056)\n",
       "        ;\n",
       "\n",
       "        \n",
       "    \n",
       "    \n",
       "            var marker_abe0df22ef458a84aebee551da61e308 = L.marker(\n",
       "                [23.096667207456722, -82.32652150730858],\n",
       "                {\n",
       "}\n",
       "            ).addTo(map_3d8c657be72ab866f4b991eaf6375e72);\n",
       "        \n",
       "    \n",
       "            var icon_27a37f4746fda18656e18cedd4175815 = L.AwesomeMarkers.icon(\n",
       "                {\n",
       "  &quot;markerColor&quot;: &quot;darkblue&quot;,\n",
       "  &quot;iconColor&quot;: &quot;white&quot;,\n",
       "  &quot;icon&quot;: &quot;info-sign&quot;,\n",
       "  &quot;prefix&quot;: &quot;glyphicon&quot;,\n",
       "  &quot;extraClasses&quot;: &quot;fa-rotate-0&quot;,\n",
       "}\n",
       "            );\n",
       "            marker_abe0df22ef458a84aebee551da61e308.setIcon(icon_27a37f4746fda18656e18cedd4175815);\n",
       "        \n",
       "    \n",
       "        var popup_412c422e012e096c59cc941cb65e1b06 = L.popup({\n",
       "  &quot;maxWidth&quot;: &quot;100%&quot;,\n",
       "});\n",
       "\n",
       "        \n",
       "            \n",
       "                var html_d6036efaec647e5cd59a56d8946658dd = $(`&lt;div id=&quot;html_d6036efaec647e5cd59a56d8946658dd&quot; style=&quot;width: 100.0%; height: 100.0%;&quot;&gt;Don Balbino&#x27;s&lt;/div&gt;`)[0];\n",
       "                popup_412c422e012e096c59cc941cb65e1b06.setContent(html_d6036efaec647e5cd59a56d8946658dd);\n",
       "            \n",
       "        \n",
       "\n",
       "        marker_abe0df22ef458a84aebee551da61e308.bindPopup(popup_412c422e012e096c59cc941cb65e1b06)\n",
       "        ;\n",
       "\n",
       "        \n",
       "    \n",
       "    \n",
       "            var marker_8c40085e5e1c09f4674f6b49bb201233 = L.marker(\n",
       "                [23.049910435608876, -82.26518902893379],\n",
       "                {\n",
       "}\n",
       "            ).addTo(map_3d8c657be72ab866f4b991eaf6375e72);\n",
       "        \n",
       "    \n",
       "            var icon_c4886f18210174421bf9ec9bbf1632a3 = L.AwesomeMarkers.icon(\n",
       "                {\n",
       "  &quot;markerColor&quot;: &quot;darkblue&quot;,\n",
       "  &quot;iconColor&quot;: &quot;white&quot;,\n",
       "  &quot;icon&quot;: &quot;info-sign&quot;,\n",
       "  &quot;prefix&quot;: &quot;glyphicon&quot;,\n",
       "  &quot;extraClasses&quot;: &quot;fa-rotate-0&quot;,\n",
       "}\n",
       "            );\n",
       "            marker_8c40085e5e1c09f4674f6b49bb201233.setIcon(icon_c4886f18210174421bf9ec9bbf1632a3);\n",
       "        \n",
       "    \n",
       "        var popup_6b458f5d42d90d269ff66f65028397b2 = L.popup({\n",
       "  &quot;maxWidth&quot;: &quot;100%&quot;,\n",
       "});\n",
       "\n",
       "        \n",
       "            \n",
       "                var html_58d33da0c383fa311e57ef11685b4cda = $(`&lt;div id=&quot;html_58d33da0c383fa311e57ef11685b4cda&quot; style=&quot;width: 100.0%; height: 100.0%;&quot;&gt;Don Omar&lt;/div&gt;`)[0];\n",
       "                popup_6b458f5d42d90d269ff66f65028397b2.setContent(html_58d33da0c383fa311e57ef11685b4cda);\n",
       "            \n",
       "        \n",
       "\n",
       "        marker_8c40085e5e1c09f4674f6b49bb201233.bindPopup(popup_6b458f5d42d90d269ff66f65028397b2)\n",
       "        ;\n",
       "\n",
       "        \n",
       "    \n",
       "    \n",
       "            var marker_74ccff3ef6a5896e06ae070951c2c93e = L.marker(\n",
       "                [23.078091931411176, -82.31932677141849],\n",
       "                {\n",
       "}\n",
       "            ).addTo(map_3d8c657be72ab866f4b991eaf6375e72);\n",
       "        \n",
       "    \n",
       "            var icon_0067e5ce5a3114a199233f8ec05a8c6c = L.AwesomeMarkers.icon(\n",
       "                {\n",
       "  &quot;markerColor&quot;: &quot;darkblue&quot;,\n",
       "  &quot;iconColor&quot;: &quot;white&quot;,\n",
       "  &quot;icon&quot;: &quot;info-sign&quot;,\n",
       "  &quot;prefix&quot;: &quot;glyphicon&quot;,\n",
       "  &quot;extraClasses&quot;: &quot;fa-rotate-0&quot;,\n",
       "}\n",
       "            );\n",
       "            marker_74ccff3ef6a5896e06ae070951c2c93e.setIcon(icon_0067e5ce5a3114a199233f8ec05a8c6c);\n",
       "        \n",
       "    \n",
       "        var popup_adf67e39e3e39845230ea295b16192ed = L.popup({\n",
       "  &quot;maxWidth&quot;: &quot;100%&quot;,\n",
       "});\n",
       "\n",
       "        \n",
       "            \n",
       "                var html_fc7dd8e410f3baeea154c8ee11e689c1 = $(`&lt;div id=&quot;html_fc7dd8e410f3baeea154c8ee11e689c1&quot; style=&quot;width: 100.0%; height: 100.0%;&quot;&gt;Don Timbon&lt;/div&gt;`)[0];\n",
       "                popup_adf67e39e3e39845230ea295b16192ed.setContent(html_fc7dd8e410f3baeea154c8ee11e689c1);\n",
       "            \n",
       "        \n",
       "\n",
       "        marker_74ccff3ef6a5896e06ae070951c2c93e.bindPopup(popup_adf67e39e3e39845230ea295b16192ed)\n",
       "        ;\n",
       "\n",
       "        \n",
       "    \n",
       "    \n",
       "            var marker_b0b4639cdf22ab1c08952c921598d186 = L.marker(\n",
       "                [23.13389533564469, -82.37685653415737],\n",
       "                {\n",
       "}\n",
       "            ).addTo(map_3d8c657be72ab866f4b991eaf6375e72);\n",
       "        \n",
       "    \n",
       "            var icon_2312a2853d100f1f7c7aaa5f2072c705 = L.AwesomeMarkers.icon(\n",
       "                {\n",
       "  &quot;markerColor&quot;: &quot;darkblue&quot;,\n",
       "  &quot;iconColor&quot;: &quot;white&quot;,\n",
       "  &quot;icon&quot;: &quot;info-sign&quot;,\n",
       "  &quot;prefix&quot;: &quot;glyphicon&quot;,\n",
       "  &quot;extraClasses&quot;: &quot;fa-rotate-0&quot;,\n",
       "}\n",
       "            );\n",
       "            marker_b0b4639cdf22ab1c08952c921598d186.setIcon(icon_2312a2853d100f1f7c7aaa5f2072c705);\n",
       "        \n",
       "    \n",
       "        var popup_98bc161b4c752fa1c5f22effe25b38a9 = L.popup({\n",
       "  &quot;maxWidth&quot;: &quot;100%&quot;,\n",
       "});\n",
       "\n",
       "        \n",
       "            \n",
       "                var html_a89b6de055b3936da0da41701a790885 = $(`&lt;div id=&quot;html_a89b6de055b3936da0da41701a790885&quot; style=&quot;width: 100.0%; height: 100.0%;&quot;&gt;Doping pizza&lt;/div&gt;`)[0];\n",
       "                popup_98bc161b4c752fa1c5f22effe25b38a9.setContent(html_a89b6de055b3936da0da41701a790885);\n",
       "            \n",
       "        \n",
       "\n",
       "        marker_b0b4639cdf22ab1c08952c921598d186.bindPopup(popup_98bc161b4c752fa1c5f22effe25b38a9)\n",
       "        ;\n",
       "\n",
       "        \n",
       "    \n",
       "    \n",
       "            var marker_5e50a42601ee06f97ae54d319962bb4f = L.marker(\n",
       "                [23.11433698105626, -82.41322840010747],\n",
       "                {\n",
       "}\n",
       "            ).addTo(map_3d8c657be72ab866f4b991eaf6375e72);\n",
       "        \n",
       "    \n",
       "            var icon_d36365b9f6801c432d3cfe5b28b898aa = L.AwesomeMarkers.icon(\n",
       "                {\n",
       "  &quot;markerColor&quot;: &quot;darkblue&quot;,\n",
       "  &quot;iconColor&quot;: &quot;white&quot;,\n",
       "  &quot;icon&quot;: &quot;info-sign&quot;,\n",
       "  &quot;prefix&quot;: &quot;glyphicon&quot;,\n",
       "  &quot;extraClasses&quot;: &quot;fa-rotate-0&quot;,\n",
       "}\n",
       "            );\n",
       "            marker_5e50a42601ee06f97ae54d319962bb4f.setIcon(icon_d36365b9f6801c432d3cfe5b28b898aa);\n",
       "        \n",
       "    \n",
       "        var popup_9e6a086bb99f24f2084e4c14659fa837 = L.popup({\n",
       "  &quot;maxWidth&quot;: &quot;100%&quot;,\n",
       "});\n",
       "\n",
       "        \n",
       "            \n",
       "                var html_9cf3c7c1a38acc87e5739156a5943f6b = $(`&lt;div id=&quot;html_9cf3c7c1a38acc87e5739156a5943f6b&quot; style=&quot;width: 100.0%; height: 100.0%;&quot;&gt;D&#x27;kmino&lt;/div&gt;`)[0];\n",
       "                popup_9e6a086bb99f24f2084e4c14659fa837.setContent(html_9cf3c7c1a38acc87e5739156a5943f6b);\n",
       "            \n",
       "        \n",
       "\n",
       "        marker_5e50a42601ee06f97ae54d319962bb4f.bindPopup(popup_9e6a086bb99f24f2084e4c14659fa837)\n",
       "        ;\n",
       "\n",
       "        \n",
       "    \n",
       "    \n",
       "            var marker_b2b7e605fc300f784119e8222ab41c35 = L.marker(\n",
       "                [23.131548646310556, -82.39857068812692],\n",
       "                {\n",
       "}\n",
       "            ).addTo(map_3d8c657be72ab866f4b991eaf6375e72);\n",
       "        \n",
       "    \n",
       "            var icon_63e660fe256800ff2e61ab98157cdb65 = L.AwesomeMarkers.icon(\n",
       "                {\n",
       "  &quot;markerColor&quot;: &quot;darkblue&quot;,\n",
       "  &quot;iconColor&quot;: &quot;white&quot;,\n",
       "  &quot;icon&quot;: &quot;info-sign&quot;,\n",
       "  &quot;prefix&quot;: &quot;glyphicon&quot;,\n",
       "  &quot;extraClasses&quot;: &quot;fa-rotate-0&quot;,\n",
       "}\n",
       "            );\n",
       "            marker_b2b7e605fc300f784119e8222ab41c35.setIcon(icon_63e660fe256800ff2e61ab98157cdb65);\n",
       "        \n",
       "    \n",
       "        var popup_e64785af95873c813918cdaa54fad5c3 = L.popup({\n",
       "  &quot;maxWidth&quot;: &quot;100%&quot;,\n",
       "});\n",
       "\n",
       "        \n",
       "            \n",
       "                var html_3832dfe390dc6b23f756f743aa899252 = $(`&lt;div id=&quot;html_3832dfe390dc6b23f756f743aa899252&quot; style=&quot;width: 100.0%; height: 100.0%;&quot;&gt;El Vampirito&lt;/div&gt;`)[0];\n",
       "                popup_e64785af95873c813918cdaa54fad5c3.setContent(html_3832dfe390dc6b23f756f743aa899252);\n",
       "            \n",
       "        \n",
       "\n",
       "        marker_b2b7e605fc300f784119e8222ab41c35.bindPopup(popup_e64785af95873c813918cdaa54fad5c3)\n",
       "        ;\n",
       "\n",
       "        \n",
       "    \n",
       "    \n",
       "            var marker_6c7e560da3fceb685bf3c4d02ab8d966 = L.marker(\n",
       "                [23.10580877950669, -82.38890539182955],\n",
       "                {\n",
       "}\n",
       "            ).addTo(map_3d8c657be72ab866f4b991eaf6375e72);\n",
       "        \n",
       "    \n",
       "            var icon_91a483ecae33086d8e3f7bf4b8321bb5 = L.AwesomeMarkers.icon(\n",
       "                {\n",
       "  &quot;markerColor&quot;: &quot;darkblue&quot;,\n",
       "  &quot;iconColor&quot;: &quot;white&quot;,\n",
       "  &quot;icon&quot;: &quot;info-sign&quot;,\n",
       "  &quot;prefix&quot;: &quot;glyphicon&quot;,\n",
       "  &quot;extraClasses&quot;: &quot;fa-rotate-0&quot;,\n",
       "}\n",
       "            );\n",
       "            marker_6c7e560da3fceb685bf3c4d02ab8d966.setIcon(icon_91a483ecae33086d8e3f7bf4b8321bb5);\n",
       "        \n",
       "    \n",
       "        var popup_17bb83d50266e55337cfaee4d4bdd4c1 = L.popup({\n",
       "  &quot;maxWidth&quot;: &quot;100%&quot;,\n",
       "});\n",
       "\n",
       "        \n",
       "            \n",
       "                var html_1507b5178545fcc2d249d577945a0a8f = $(`&lt;div id=&quot;html_1507b5178545fcc2d249d577945a0a8f&quot; style=&quot;width: 100.0%; height: 100.0%;&quot;&gt;El Batazo&lt;/div&gt;`)[0];\n",
       "                popup_17bb83d50266e55337cfaee4d4bdd4c1.setContent(html_1507b5178545fcc2d249d577945a0a8f);\n",
       "            \n",
       "        \n",
       "\n",
       "        marker_6c7e560da3fceb685bf3c4d02ab8d966.bindPopup(popup_17bb83d50266e55337cfaee4d4bdd4c1)\n",
       "        ;\n",
       "\n",
       "        \n",
       "    \n",
       "    \n",
       "            var marker_c99ecdf53c416114cfc836832854cf24 = L.marker(\n",
       "                [23.131150637521987, -82.40805233415749],\n",
       "                {\n",
       "}\n",
       "            ).addTo(map_3d8c657be72ab866f4b991eaf6375e72);\n",
       "        \n",
       "    \n",
       "            var icon_0f30c40f60028263cd3b8920c45b4847 = L.AwesomeMarkers.icon(\n",
       "                {\n",
       "  &quot;markerColor&quot;: &quot;darkblue&quot;,\n",
       "  &quot;iconColor&quot;: &quot;white&quot;,\n",
       "  &quot;icon&quot;: &quot;info-sign&quot;,\n",
       "  &quot;prefix&quot;: &quot;glyphicon&quot;,\n",
       "  &quot;extraClasses&quot;: &quot;fa-rotate-0&quot;,\n",
       "}\n",
       "            );\n",
       "            marker_c99ecdf53c416114cfc836832854cf24.setIcon(icon_0f30c40f60028263cd3b8920c45b4847);\n",
       "        \n",
       "    \n",
       "        var popup_5a20b6c8cdee61ad2bbd961103e40c73 = L.popup({\n",
       "  &quot;maxWidth&quot;: &quot;100%&quot;,\n",
       "});\n",
       "\n",
       "        \n",
       "            \n",
       "                var html_3c589caf480a71a4ce2bc06b4b422b94 = $(`&lt;div id=&quot;html_3c589caf480a71a4ce2bc06b4b422b94&quot; style=&quot;width: 100.0%; height: 100.0%;&quot;&gt;El Bejuco&lt;/div&gt;`)[0];\n",
       "                popup_5a20b6c8cdee61ad2bbd961103e40c73.setContent(html_3c589caf480a71a4ce2bc06b4b422b94);\n",
       "            \n",
       "        \n",
       "\n",
       "        marker_c99ecdf53c416114cfc836832854cf24.bindPopup(popup_5a20b6c8cdee61ad2bbd961103e40c73)\n",
       "        ;\n",
       "\n",
       "        \n",
       "    \n",
       "    \n",
       "            var marker_c0557d764f3a8b848838c15989feb493 = L.marker(\n",
       "                [23.124494370316903, -82.30417726451671],\n",
       "                {\n",
       "}\n",
       "            ).addTo(map_3d8c657be72ab866f4b991eaf6375e72);\n",
       "        \n",
       "    \n",
       "            var icon_b490cd05889c2baa336c81ed4ed59753 = L.AwesomeMarkers.icon(\n",
       "                {\n",
       "  &quot;markerColor&quot;: &quot;darkblue&quot;,\n",
       "  &quot;iconColor&quot;: &quot;white&quot;,\n",
       "  &quot;icon&quot;: &quot;info-sign&quot;,\n",
       "  &quot;prefix&quot;: &quot;glyphicon&quot;,\n",
       "  &quot;extraClasses&quot;: &quot;fa-rotate-0&quot;,\n",
       "}\n",
       "            );\n",
       "            marker_c0557d764f3a8b848838c15989feb493.setIcon(icon_b490cd05889c2baa336c81ed4ed59753);\n",
       "        \n",
       "    \n",
       "        var popup_95865a45b2961a63f917021a0ee42eb7 = L.popup({\n",
       "  &quot;maxWidth&quot;: &quot;100%&quot;,\n",
       "});\n",
       "\n",
       "        \n",
       "            \n",
       "                var html_8e37151b97dd7712bdacabbe3ca24f75 = $(`&lt;div id=&quot;html_8e37151b97dd7712bdacabbe3ca24f75&quot; style=&quot;width: 100.0%; height: 100.0%;&quot;&gt;El Faro&lt;/div&gt;`)[0];\n",
       "                popup_95865a45b2961a63f917021a0ee42eb7.setContent(html_8e37151b97dd7712bdacabbe3ca24f75);\n",
       "            \n",
       "        \n",
       "\n",
       "        marker_c0557d764f3a8b848838c15989feb493.bindPopup(popup_95865a45b2961a63f917021a0ee42eb7)\n",
       "        ;\n",
       "\n",
       "        \n",
       "    \n",
       "    \n",
       "            var marker_9479a89989a5bb481f082c7985eaffdd = L.marker(\n",
       "                [23.140043632958008, -82.39049077833423],\n",
       "                {\n",
       "}\n",
       "            ).addTo(map_3d8c657be72ab866f4b991eaf6375e72);\n",
       "        \n",
       "    \n",
       "            var icon_b88f20c2ab952a79a795182904da944d = L.AwesomeMarkers.icon(\n",
       "                {\n",
       "  &quot;markerColor&quot;: &quot;darkblue&quot;,\n",
       "  &quot;iconColor&quot;: &quot;white&quot;,\n",
       "  &quot;icon&quot;: &quot;info-sign&quot;,\n",
       "  &quot;prefix&quot;: &quot;glyphicon&quot;,\n",
       "  &quot;extraClasses&quot;: &quot;fa-rotate-0&quot;,\n",
       "}\n",
       "            );\n",
       "            marker_9479a89989a5bb481f082c7985eaffdd.setIcon(icon_b88f20c2ab952a79a795182904da944d);\n",
       "        \n",
       "    \n",
       "        var popup_208b1ab54de106f66e9b69463572e480 = L.popup({\n",
       "  &quot;maxWidth&quot;: &quot;100%&quot;,\n",
       "});\n",
       "\n",
       "        \n",
       "            \n",
       "                var html_010ed93f44aab893c71d1000d4a84168 = $(`&lt;div id=&quot;html_010ed93f44aab893c71d1000d4a84168&quot; style=&quot;width: 100.0%; height: 100.0%;&quot;&gt;El Idilio&lt;/div&gt;`)[0];\n",
       "                popup_208b1ab54de106f66e9b69463572e480.setContent(html_010ed93f44aab893c71d1000d4a84168);\n",
       "            \n",
       "        \n",
       "\n",
       "        marker_9479a89989a5bb481f082c7985eaffdd.bindPopup(popup_208b1ab54de106f66e9b69463572e480)\n",
       "        ;\n",
       "\n",
       "        \n",
       "    \n",
       "    \n",
       "            var marker_49cc717abdd39c31de47d0c77b7e9fff = L.marker(\n",
       "                [23.124478883457773, -82.31947367832976],\n",
       "                {\n",
       "}\n",
       "            ).addTo(map_3d8c657be72ab866f4b991eaf6375e72);\n",
       "        \n",
       "    \n",
       "            var icon_d93cc364bf5ab1031f32f57349c8ced9 = L.AwesomeMarkers.icon(\n",
       "                {\n",
       "  &quot;markerColor&quot;: &quot;darkblue&quot;,\n",
       "  &quot;iconColor&quot;: &quot;white&quot;,\n",
       "  &quot;icon&quot;: &quot;info-sign&quot;,\n",
       "  &quot;prefix&quot;: &quot;glyphicon&quot;,\n",
       "  &quot;extraClasses&quot;: &quot;fa-rotate-0&quot;,\n",
       "}\n",
       "            );\n",
       "            marker_49cc717abdd39c31de47d0c77b7e9fff.setIcon(icon_d93cc364bf5ab1031f32f57349c8ced9);\n",
       "        \n",
       "    \n",
       "        var popup_5d26fd814ae921fca2fb02bc2efdc203 = L.popup({\n",
       "  &quot;maxWidth&quot;: &quot;100%&quot;,\n",
       "});\n",
       "\n",
       "        \n",
       "            \n",
       "                var html_e8ab02d15fe7e240729483b08693ac62 = $(`&lt;div id=&quot;html_e8ab02d15fe7e240729483b08693ac62&quot; style=&quot;width: 100.0%; height: 100.0%;&quot;&gt;El Pavo&lt;/div&gt;`)[0];\n",
       "                popup_5d26fd814ae921fca2fb02bc2efdc203.setContent(html_e8ab02d15fe7e240729483b08693ac62);\n",
       "            \n",
       "        \n",
       "\n",
       "        marker_49cc717abdd39c31de47d0c77b7e9fff.bindPopup(popup_5d26fd814ae921fca2fb02bc2efdc203)\n",
       "        ;\n",
       "\n",
       "        \n",
       "    \n",
       "    \n",
       "            var marker_d863221d31bfe7834fa76c50e6956b3d = L.marker(\n",
       "                [23.11052702904802, -82.39914526484186],\n",
       "                {\n",
       "}\n",
       "            ).addTo(map_3d8c657be72ab866f4b991eaf6375e72);\n",
       "        \n",
       "    \n",
       "            var icon_7973fce23cefcd03584ab10eb9848ee9 = L.AwesomeMarkers.icon(\n",
       "                {\n",
       "  &quot;markerColor&quot;: &quot;darkblue&quot;,\n",
       "  &quot;iconColor&quot;: &quot;white&quot;,\n",
       "  &quot;icon&quot;: &quot;info-sign&quot;,\n",
       "  &quot;prefix&quot;: &quot;glyphicon&quot;,\n",
       "  &quot;extraClasses&quot;: &quot;fa-rotate-0&quot;,\n",
       "}\n",
       "            );\n",
       "            marker_d863221d31bfe7834fa76c50e6956b3d.setIcon(icon_7973fce23cefcd03584ab10eb9848ee9);\n",
       "        \n",
       "    \n",
       "        var popup_a74b6341e5d7940b4a228199f98309d5 = L.popup({\n",
       "  &quot;maxWidth&quot;: &quot;100%&quot;,\n",
       "});\n",
       "\n",
       "        \n",
       "            \n",
       "                var html_0ad558c65488ab05d10205d0acaeb6bd = $(`&lt;div id=&quot;html_0ad558c65488ab05d10205d0acaeb6bd&quot; style=&quot;width: 100.0%; height: 100.0%;&quot;&gt;El Pelícano&lt;/div&gt;`)[0];\n",
       "                popup_a74b6341e5d7940b4a228199f98309d5.setContent(html_0ad558c65488ab05d10205d0acaeb6bd);\n",
       "            \n",
       "        \n",
       "\n",
       "        marker_d863221d31bfe7834fa76c50e6956b3d.bindPopup(popup_a74b6341e5d7940b4a228199f98309d5)\n",
       "        ;\n",
       "\n",
       "        \n",
       "    \n",
       "    \n",
       "            var marker_77cf7ddffdf0a2db92e40df5f21bd67b = L.marker(\n",
       "                [23.139923880574944, -82.38105453418326],\n",
       "                {\n",
       "}\n",
       "            ).addTo(map_3d8c657be72ab866f4b991eaf6375e72);\n",
       "        \n",
       "    \n",
       "            var icon_85c20cc6bd54a4c59d39661b18b6b9d1 = L.AwesomeMarkers.icon(\n",
       "                {\n",
       "  &quot;markerColor&quot;: &quot;darkblue&quot;,\n",
       "  &quot;iconColor&quot;: &quot;white&quot;,\n",
       "  &quot;icon&quot;: &quot;info-sign&quot;,\n",
       "  &quot;prefix&quot;: &quot;glyphicon&quot;,\n",
       "  &quot;extraClasses&quot;: &quot;fa-rotate-0&quot;,\n",
       "}\n",
       "            );\n",
       "            marker_77cf7ddffdf0a2db92e40df5f21bd67b.setIcon(icon_85c20cc6bd54a4c59d39661b18b6b9d1);\n",
       "        \n",
       "    \n",
       "        var popup_b85ee28d771e6514ee2301ea5de39252 = L.popup({\n",
       "  &quot;maxWidth&quot;: &quot;100%&quot;,\n",
       "});\n",
       "\n",
       "        \n",
       "            \n",
       "                var html_8d7fc134d99461852396b2d4b12a7da1 = $(`&lt;div id=&quot;html_8d7fc134d99461852396b2d4b12a7da1&quot; style=&quot;width: 100.0%; height: 100.0%;&quot;&gt;El Pilón&lt;/div&gt;`)[0];\n",
       "                popup_b85ee28d771e6514ee2301ea5de39252.setContent(html_8d7fc134d99461852396b2d4b12a7da1);\n",
       "            \n",
       "        \n",
       "\n",
       "        marker_77cf7ddffdf0a2db92e40df5f21bd67b.bindPopup(popup_b85ee28d771e6514ee2301ea5de39252)\n",
       "        ;\n",
       "\n",
       "        \n",
       "    \n",
       "    \n",
       "            var marker_60a2648dc48f2ff644dbe6c4b3a36d77 = L.marker(\n",
       "                [23.13385424944992, -82.36160649338726],\n",
       "                {\n",
       "}\n",
       "            ).addTo(map_3d8c657be72ab866f4b991eaf6375e72);\n",
       "        \n",
       "    \n",
       "            var icon_6dd8270f02bcf6ce314cac33bb76acdd = L.AwesomeMarkers.icon(\n",
       "                {\n",
       "  &quot;markerColor&quot;: &quot;darkblue&quot;,\n",
       "  &quot;iconColor&quot;: &quot;white&quot;,\n",
       "  &quot;icon&quot;: &quot;info-sign&quot;,\n",
       "  &quot;prefix&quot;: &quot;glyphicon&quot;,\n",
       "  &quot;extraClasses&quot;: &quot;fa-rotate-0&quot;,\n",
       "}\n",
       "            );\n",
       "            marker_60a2648dc48f2ff644dbe6c4b3a36d77.setIcon(icon_6dd8270f02bcf6ce314cac33bb76acdd);\n",
       "        \n",
       "    \n",
       "        var popup_969b595febf757874e230fef2ac81d71 = L.popup({\n",
       "  &quot;maxWidth&quot;: &quot;100%&quot;,\n",
       "});\n",
       "\n",
       "        \n",
       "            \n",
       "                var html_1d58924fb6d7f9f448b36a753fc309b2 = $(`&lt;div id=&quot;html_1d58924fb6d7f9f448b36a753fc309b2&quot; style=&quot;width: 100.0%; height: 100.0%;&quot;&gt;El pórtico&lt;/div&gt;`)[0];\n",
       "                popup_969b595febf757874e230fef2ac81d71.setContent(html_1d58924fb6d7f9f448b36a753fc309b2);\n",
       "            \n",
       "        \n",
       "\n",
       "        marker_60a2648dc48f2ff644dbe6c4b3a36d77.bindPopup(popup_969b595febf757874e230fef2ac81d71)\n",
       "        ;\n",
       "\n",
       "        \n",
       "    \n",
       "    \n",
       "            var marker_1657656350ef967e3265f46f865130b6 = L.marker(\n",
       "                [23.11835682709935, -82.3775341306507],\n",
       "                {\n",
       "}\n",
       "            ).addTo(map_3d8c657be72ab866f4b991eaf6375e72);\n",
       "        \n",
       "    \n",
       "            var icon_0bcf34424777d7c52bb76f3975ad5f06 = L.AwesomeMarkers.icon(\n",
       "                {\n",
       "  &quot;markerColor&quot;: &quot;darkblue&quot;,\n",
       "  &quot;iconColor&quot;: &quot;white&quot;,\n",
       "  &quot;icon&quot;: &quot;info-sign&quot;,\n",
       "  &quot;prefix&quot;: &quot;glyphicon&quot;,\n",
       "  &quot;extraClasses&quot;: &quot;fa-rotate-0&quot;,\n",
       "}\n",
       "            );\n",
       "            marker_1657656350ef967e3265f46f865130b6.setIcon(icon_0bcf34424777d7c52bb76f3975ad5f06);\n",
       "        \n",
       "    \n",
       "        var popup_8cbd03b37a75bf11f538977ddf9e0d76 = L.popup({\n",
       "  &quot;maxWidth&quot;: &quot;100%&quot;,\n",
       "});\n",
       "\n",
       "        \n",
       "            \n",
       "                var html_ce868aa66fe12582671b07bcd9029642 = $(`&lt;div id=&quot;html_ce868aa66fe12582671b07bcd9029642&quot; style=&quot;width: 100.0%; height: 100.0%;&quot;&gt;El Rápido&lt;/div&gt;`)[0];\n",
       "                popup_8cbd03b37a75bf11f538977ddf9e0d76.setContent(html_ce868aa66fe12582671b07bcd9029642);\n",
       "            \n",
       "        \n",
       "\n",
       "        marker_1657656350ef967e3265f46f865130b6.bindPopup(popup_8cbd03b37a75bf11f538977ddf9e0d76)\n",
       "        ;\n",
       "\n",
       "        \n",
       "    \n",
       "    \n",
       "            var marker_127ab771c51d93df6a643316c68a70bf = L.marker(\n",
       "                [23.142914181352282, -82.3993675071695],\n",
       "                {\n",
       "}\n",
       "            ).addTo(map_3d8c657be72ab866f4b991eaf6375e72);\n",
       "        \n",
       "    \n",
       "            var icon_6268690de0d16d7c96a49ed161ba53ac = L.AwesomeMarkers.icon(\n",
       "                {\n",
       "  &quot;markerColor&quot;: &quot;darkblue&quot;,\n",
       "  &quot;iconColor&quot;: &quot;white&quot;,\n",
       "  &quot;icon&quot;: &quot;info-sign&quot;,\n",
       "  &quot;prefix&quot;: &quot;glyphicon&quot;,\n",
       "  &quot;extraClasses&quot;: &quot;fa-rotate-0&quot;,\n",
       "}\n",
       "            );\n",
       "            marker_127ab771c51d93df6a643316c68a70bf.setIcon(icon_6268690de0d16d7c96a49ed161ba53ac);\n",
       "        \n",
       "    \n",
       "        var popup_30f23613baaff869dee9c0c88b65196e = L.popup({\n",
       "  &quot;maxWidth&quot;: &quot;100%&quot;,\n",
       "});\n",
       "\n",
       "        \n",
       "            \n",
       "                var html_5007a6b96a383dc0cee514cdf803f0f0 = $(`&lt;div id=&quot;html_5007a6b96a383dc0cee514cdf803f0f0&quot; style=&quot;width: 100.0%; height: 100.0%;&quot;&gt;El Tablazo&lt;/div&gt;`)[0];\n",
       "                popup_30f23613baaff869dee9c0c88b65196e.setContent(html_5007a6b96a383dc0cee514cdf803f0f0);\n",
       "            \n",
       "        \n",
       "\n",
       "        marker_127ab771c51d93df6a643316c68a70bf.bindPopup(popup_30f23613baaff869dee9c0c88b65196e)\n",
       "        ;\n",
       "\n",
       "        \n",
       "    \n",
       "    \n",
       "            var marker_050ca2cdc5ba2ebaf0cc55c7ec05b734 = L.marker(\n",
       "                [23.004387110083822, -82.32730012513493],\n",
       "                {\n",
       "}\n",
       "            ).addTo(map_3d8c657be72ab866f4b991eaf6375e72);\n",
       "        \n",
       "    \n",
       "            var icon_02ee8c9576952a0670309cafd036a81c = L.AwesomeMarkers.icon(\n",
       "                {\n",
       "  &quot;markerColor&quot;: &quot;darkblue&quot;,\n",
       "  &quot;iconColor&quot;: &quot;white&quot;,\n",
       "  &quot;icon&quot;: &quot;info-sign&quot;,\n",
       "  &quot;prefix&quot;: &quot;glyphicon&quot;,\n",
       "  &quot;extraClasses&quot;: &quot;fa-rotate-0&quot;,\n",
       "}\n",
       "            );\n",
       "            marker_050ca2cdc5ba2ebaf0cc55c7ec05b734.setIcon(icon_02ee8c9576952a0670309cafd036a81c);\n",
       "        \n",
       "    \n",
       "        var popup_df0d53b7dd6748d773829aa65bcbd4c5 = L.popup({\n",
       "  &quot;maxWidth&quot;: &quot;100%&quot;,\n",
       "});\n",
       "\n",
       "        \n",
       "            \n",
       "                var html_62ae6d4b2f8d7a17e7a88027b71ea1e1 = $(`&lt;div id=&quot;html_62ae6d4b2f8d7a17e7a88027b71ea1e1&quot; style=&quot;width: 100.0%; height: 100.0%;&quot;&gt;El Vaquerito&lt;/div&gt;`)[0];\n",
       "                popup_df0d53b7dd6748d773829aa65bcbd4c5.setContent(html_62ae6d4b2f8d7a17e7a88027b71ea1e1);\n",
       "            \n",
       "        \n",
       "\n",
       "        marker_050ca2cdc5ba2ebaf0cc55c7ec05b734.bindPopup(popup_df0d53b7dd6748d773829aa65bcbd4c5)\n",
       "        ;\n",
       "\n",
       "        \n",
       "    \n",
       "    \n",
       "            var marker_a3e804c97edded94ae8d036e25831a64 = L.marker(\n",
       "                [23.16201335878783, -82.29718375783479],\n",
       "                {\n",
       "}\n",
       "            ).addTo(map_3d8c657be72ab866f4b991eaf6375e72);\n",
       "        \n",
       "    \n",
       "            var icon_69489c2086bef8317eb184f8028200e5 = L.AwesomeMarkers.icon(\n",
       "                {\n",
       "  &quot;markerColor&quot;: &quot;darkblue&quot;,\n",
       "  &quot;iconColor&quot;: &quot;white&quot;,\n",
       "  &quot;icon&quot;: &quot;info-sign&quot;,\n",
       "  &quot;prefix&quot;: &quot;glyphicon&quot;,\n",
       "  &quot;extraClasses&quot;: &quot;fa-rotate-0&quot;,\n",
       "}\n",
       "            );\n",
       "            marker_a3e804c97edded94ae8d036e25831a64.setIcon(icon_69489c2086bef8317eb184f8028200e5);\n",
       "        \n",
       "    \n",
       "        var popup_6d6c5698590aefdc2ca27a422adf055e = L.popup({\n",
       "  &quot;maxWidth&quot;: &quot;100%&quot;,\n",
       "});\n",
       "\n",
       "        \n",
       "            \n",
       "                var html_5b72632663873c624666db584844f761 = $(`&lt;div id=&quot;html_5b72632663873c624666db584844f761&quot; style=&quot;width: 100.0%; height: 100.0%;&quot;&gt;El Ajiaco&lt;/div&gt;`)[0];\n",
       "                popup_6d6c5698590aefdc2ca27a422adf055e.setContent(html_5b72632663873c624666db584844f761);\n",
       "            \n",
       "        \n",
       "\n",
       "        marker_a3e804c97edded94ae8d036e25831a64.bindPopup(popup_6d6c5698590aefdc2ca27a422adf055e)\n",
       "        ;\n",
       "\n",
       "        \n",
       "    \n",
       "    \n",
       "            var marker_c351b5d705fb13a00093b91708df22d8 = L.marker(\n",
       "                [23.04303644487019, -82.26306815148284],\n",
       "                {\n",
       "}\n",
       "            ).addTo(map_3d8c657be72ab866f4b991eaf6375e72);\n",
       "        \n",
       "    \n",
       "            var icon_e68161443d44fe483b4b659d4b5d10e0 = L.AwesomeMarkers.icon(\n",
       "                {\n",
       "  &quot;markerColor&quot;: &quot;darkblue&quot;,\n",
       "  &quot;iconColor&quot;: &quot;white&quot;,\n",
       "  &quot;icon&quot;: &quot;info-sign&quot;,\n",
       "  &quot;prefix&quot;: &quot;glyphicon&quot;,\n",
       "  &quot;extraClasses&quot;: &quot;fa-rotate-0&quot;,\n",
       "}\n",
       "            );\n",
       "            marker_c351b5d705fb13a00093b91708df22d8.setIcon(icon_e68161443d44fe483b4b659d4b5d10e0);\n",
       "        \n",
       "    \n",
       "        var popup_d896db75cdfb68d682cb82372d1373ed = L.popup({\n",
       "  &quot;maxWidth&quot;: &quot;100%&quot;,\n",
       "});\n",
       "\n",
       "        \n",
       "            \n",
       "                var html_ae92835e59ded5ffa06e7f0b88134f89 = $(`&lt;div id=&quot;html_ae92835e59ded5ffa06e7f0b88134f89&quot; style=&quot;width: 100.0%; height: 100.0%;&quot;&gt;El Bache&lt;/div&gt;`)[0];\n",
       "                popup_d896db75cdfb68d682cb82372d1373ed.setContent(html_ae92835e59ded5ffa06e7f0b88134f89);\n",
       "            \n",
       "        \n",
       "\n",
       "        marker_c351b5d705fb13a00093b91708df22d8.bindPopup(popup_d896db75cdfb68d682cb82372d1373ed)\n",
       "        ;\n",
       "\n",
       "        \n",
       "    \n",
       "    \n",
       "            var marker_d66513ee9799e19d62c6902f55b92798 = L.marker(\n",
       "                [23.138245258561607, -82.37855093616108],\n",
       "                {\n",
       "}\n",
       "            ).addTo(map_3d8c657be72ab866f4b991eaf6375e72);\n",
       "        \n",
       "    \n",
       "            var icon_d0d77b1aa06736590bfa7ff42a370763 = L.AwesomeMarkers.icon(\n",
       "                {\n",
       "  &quot;markerColor&quot;: &quot;darkblue&quot;,\n",
       "  &quot;iconColor&quot;: &quot;white&quot;,\n",
       "  &quot;icon&quot;: &quot;info-sign&quot;,\n",
       "  &quot;prefix&quot;: &quot;glyphicon&quot;,\n",
       "  &quot;extraClasses&quot;: &quot;fa-rotate-0&quot;,\n",
       "}\n",
       "            );\n",
       "            marker_d66513ee9799e19d62c6902f55b92798.setIcon(icon_d0d77b1aa06736590bfa7ff42a370763);\n",
       "        \n",
       "    \n",
       "        var popup_ce50677d63fbe7959e41fc250974ec84 = L.popup({\n",
       "  &quot;maxWidth&quot;: &quot;100%&quot;,\n",
       "});\n",
       "\n",
       "        \n",
       "            \n",
       "                var html_1245158050802c30daf6f780d012c542 = $(`&lt;div id=&quot;html_1245158050802c30daf6f780d012c542&quot; style=&quot;width: 100.0%; height: 100.0%;&quot;&gt;El Biky&lt;/div&gt;`)[0];\n",
       "                popup_ce50677d63fbe7959e41fc250974ec84.setContent(html_1245158050802c30daf6f780d012c542);\n",
       "            \n",
       "        \n",
       "\n",
       "        marker_d66513ee9799e19d62c6902f55b92798.bindPopup(popup_ce50677d63fbe7959e41fc250974ec84)\n",
       "        ;\n",
       "\n",
       "        \n",
       "    \n",
       "    \n",
       "            var marker_2c53a6e124b0b5a6233db3fdef379c9c = L.marker(\n",
       "                [23.141509790555908, -82.374230422513],\n",
       "                {\n",
       "}\n",
       "            ).addTo(map_3d8c657be72ab866f4b991eaf6375e72);\n",
       "        \n",
       "    \n",
       "            var icon_0e5dff7c5153c0bf2618f1ede21706f6 = L.AwesomeMarkers.icon(\n",
       "                {\n",
       "  &quot;markerColor&quot;: &quot;darkblue&quot;,\n",
       "  &quot;iconColor&quot;: &quot;white&quot;,\n",
       "  &quot;icon&quot;: &quot;info-sign&quot;,\n",
       "  &quot;prefix&quot;: &quot;glyphicon&quot;,\n",
       "  &quot;extraClasses&quot;: &quot;fa-rotate-0&quot;,\n",
       "}\n",
       "            );\n",
       "            marker_2c53a6e124b0b5a6233db3fdef379c9c.setIcon(icon_0e5dff7c5153c0bf2618f1ede21706f6);\n",
       "        \n",
       "    \n",
       "        var popup_6e273cf3cfb1528951af0d03db85c36f = L.popup({\n",
       "  &quot;maxWidth&quot;: &quot;100%&quot;,\n",
       "});\n",
       "\n",
       "        \n",
       "            \n",
       "                var html_8a6122c1147645c78ef31d5a2cea5187 = $(`&lt;div id=&quot;html_8a6122c1147645c78ef31d5a2cea5187&quot; style=&quot;width: 100.0%; height: 100.0%;&quot;&gt;El Bleko&lt;/div&gt;`)[0];\n",
       "                popup_6e273cf3cfb1528951af0d03db85c36f.setContent(html_8a6122c1147645c78ef31d5a2cea5187);\n",
       "            \n",
       "        \n",
       "\n",
       "        marker_2c53a6e124b0b5a6233db3fdef379c9c.bindPopup(popup_6e273cf3cfb1528951af0d03db85c36f)\n",
       "        ;\n",
       "\n",
       "        \n",
       "    \n",
       "    \n",
       "            var marker_2d53a2db07d21d6bdaf8e2e1e742b5ad = L.marker(\n",
       "                [23.15801520544494, -82.27622310019264],\n",
       "                {\n",
       "}\n",
       "            ).addTo(map_3d8c657be72ab866f4b991eaf6375e72);\n",
       "        \n",
       "    \n",
       "            var icon_5788fc075b05f88092e5380c3d84bb19 = L.AwesomeMarkers.icon(\n",
       "                {\n",
       "  &quot;markerColor&quot;: &quot;darkblue&quot;,\n",
       "  &quot;iconColor&quot;: &quot;white&quot;,\n",
       "  &quot;icon&quot;: &quot;info-sign&quot;,\n",
       "  &quot;prefix&quot;: &quot;glyphicon&quot;,\n",
       "  &quot;extraClasses&quot;: &quot;fa-rotate-0&quot;,\n",
       "}\n",
       "            );\n",
       "            marker_2d53a2db07d21d6bdaf8e2e1e742b5ad.setIcon(icon_5788fc075b05f88092e5380c3d84bb19);\n",
       "        \n",
       "    \n",
       "        var popup_bb652dba5c65b5283fe78d1928dd77a7 = L.popup({\n",
       "  &quot;maxWidth&quot;: &quot;100%&quot;,\n",
       "});\n",
       "\n",
       "        \n",
       "            \n",
       "                var html_e17a2e0258b36b6176c871cda5e0c5d1 = $(`&lt;div id=&quot;html_e17a2e0258b36b6176c871cda5e0c5d1&quot; style=&quot;width: 100.0%; height: 100.0%;&quot;&gt;El Chanchullero de Alamar&lt;/div&gt;`)[0];\n",
       "                popup_bb652dba5c65b5283fe78d1928dd77a7.setContent(html_e17a2e0258b36b6176c871cda5e0c5d1);\n",
       "            \n",
       "        \n",
       "\n",
       "        marker_2d53a2db07d21d6bdaf8e2e1e742b5ad.bindPopup(popup_bb652dba5c65b5283fe78d1928dd77a7)\n",
       "        ;\n",
       "\n",
       "        \n",
       "    \n",
       "    \n",
       "            var marker_2d484e50750952c9e2835e3a9ad8147f = L.marker(\n",
       "                [23.047603170195543, -82.25536750725202],\n",
       "                {\n",
       "}\n",
       "            ).addTo(map_3d8c657be72ab866f4b991eaf6375e72);\n",
       "        \n",
       "    \n",
       "            var icon_9764183322c241cefbc3877616cc0c52 = L.AwesomeMarkers.icon(\n",
       "                {\n",
       "  &quot;markerColor&quot;: &quot;darkblue&quot;,\n",
       "  &quot;iconColor&quot;: &quot;white&quot;,\n",
       "  &quot;icon&quot;: &quot;info-sign&quot;,\n",
       "  &quot;prefix&quot;: &quot;glyphicon&quot;,\n",
       "  &quot;extraClasses&quot;: &quot;fa-rotate-0&quot;,\n",
       "}\n",
       "            );\n",
       "            marker_2d484e50750952c9e2835e3a9ad8147f.setIcon(icon_9764183322c241cefbc3877616cc0c52);\n",
       "        \n",
       "    \n",
       "        var popup_f60fcf6c7b2a70a88b4b74b4bf73a8c8 = L.popup({\n",
       "  &quot;maxWidth&quot;: &quot;100%&quot;,\n",
       "});\n",
       "\n",
       "        \n",
       "            \n",
       "                var html_aa514048fedc41d3ec71e475f2ad650f = $(`&lt;div id=&quot;html_aa514048fedc41d3ec71e475f2ad650f&quot; style=&quot;width: 100.0%; height: 100.0%;&quot;&gt;El Cocal&lt;/div&gt;`)[0];\n",
       "                popup_f60fcf6c7b2a70a88b4b74b4bf73a8c8.setContent(html_aa514048fedc41d3ec71e475f2ad650f);\n",
       "            \n",
       "        \n",
       "\n",
       "        marker_2d484e50750952c9e2835e3a9ad8147f.bindPopup(popup_f60fcf6c7b2a70a88b4b74b4bf73a8c8)\n",
       "        ;\n",
       "\n",
       "        \n",
       "    \n",
       "    \n",
       "            var marker_3a695e2a51ea77a44f4d1a5c8a437fae = L.marker(\n",
       "                [23.13868395778652, -82.37729863616106],\n",
       "                {\n",
       "}\n",
       "            ).addTo(map_3d8c657be72ab866f4b991eaf6375e72);\n",
       "        \n",
       "    \n",
       "            var icon_cfa9ee17d456d808efb45351f2f492b5 = L.AwesomeMarkers.icon(\n",
       "                {\n",
       "  &quot;markerColor&quot;: &quot;darkblue&quot;,\n",
       "  &quot;iconColor&quot;: &quot;white&quot;,\n",
       "  &quot;icon&quot;: &quot;info-sign&quot;,\n",
       "  &quot;prefix&quot;: &quot;glyphicon&quot;,\n",
       "  &quot;extraClasses&quot;: &quot;fa-rotate-0&quot;,\n",
       "}\n",
       "            );\n",
       "            marker_3a695e2a51ea77a44f4d1a5c8a437fae.setIcon(icon_cfa9ee17d456d808efb45351f2f492b5);\n",
       "        \n",
       "    \n",
       "        var popup_64ff47d46aaf6dc5bee7912ed5714e29 = L.popup({\n",
       "  &quot;maxWidth&quot;: &quot;100%&quot;,\n",
       "});\n",
       "\n",
       "        \n",
       "            \n",
       "                var html_4f6011246b9e557b97be942af29fd777 = $(`&lt;div id=&quot;html_4f6011246b9e557b97be942af29fd777&quot; style=&quot;width: 100.0%; height: 100.0%;&quot;&gt;El cuarto de Tula&lt;/div&gt;`)[0];\n",
       "                popup_64ff47d46aaf6dc5bee7912ed5714e29.setContent(html_4f6011246b9e557b97be942af29fd777);\n",
       "            \n",
       "        \n",
       "\n",
       "        marker_3a695e2a51ea77a44f4d1a5c8a437fae.bindPopup(popup_64ff47d46aaf6dc5bee7912ed5714e29)\n",
       "        ;\n",
       "\n",
       "        \n",
       "    \n",
       "    \n",
       "            var marker_84f2c6e9f0ab43b48341cdf02f191054 = L.marker(\n",
       "                [23.044555828697288, -82.24838136423335],\n",
       "                {\n",
       "}\n",
       "            ).addTo(map_3d8c657be72ab866f4b991eaf6375e72);\n",
       "        \n",
       "    \n",
       "            var icon_a64e43e65bd75037e63623ee737e2a57 = L.AwesomeMarkers.icon(\n",
       "                {\n",
       "  &quot;markerColor&quot;: &quot;darkblue&quot;,\n",
       "  &quot;iconColor&quot;: &quot;white&quot;,\n",
       "  &quot;icon&quot;: &quot;info-sign&quot;,\n",
       "  &quot;prefix&quot;: &quot;glyphicon&quot;,\n",
       "  &quot;extraClasses&quot;: &quot;fa-rotate-0&quot;,\n",
       "}\n",
       "            );\n",
       "            marker_84f2c6e9f0ab43b48341cdf02f191054.setIcon(icon_a64e43e65bd75037e63623ee737e2a57);\n",
       "        \n",
       "    \n",
       "        var popup_a56ca99dac8eb1f60a4238e15f30ab9a = L.popup({\n",
       "  &quot;maxWidth&quot;: &quot;100%&quot;,\n",
       "});\n",
       "\n",
       "        \n",
       "            \n",
       "                var html_26a671fa10ce56f0466e006c0f22f8d3 = $(`&lt;div id=&quot;html_26a671fa10ce56f0466e006c0f22f8d3&quot; style=&quot;width: 100.0%; height: 100.0%;&quot;&gt;El Desafío&lt;/div&gt;`)[0];\n",
       "                popup_a56ca99dac8eb1f60a4238e15f30ab9a.setContent(html_26a671fa10ce56f0466e006c0f22f8d3);\n",
       "            \n",
       "        \n",
       "\n",
       "        marker_84f2c6e9f0ab43b48341cdf02f191054.bindPopup(popup_a56ca99dac8eb1f60a4238e15f30ab9a)\n",
       "        ;\n",
       "\n",
       "        \n",
       "    \n",
       "    \n",
       "            var marker_b5527f8393917006c1b116460f2e2bc6 = L.marker(\n",
       "                [23.12434231472738, -82.4041494469193],\n",
       "                {\n",
       "}\n",
       "            ).addTo(map_3d8c657be72ab866f4b991eaf6375e72);\n",
       "        \n",
       "    \n",
       "            var icon_2ab8c44c73cd59b1a9f7d18164f2d369 = L.AwesomeMarkers.icon(\n",
       "                {\n",
       "  &quot;markerColor&quot;: &quot;darkblue&quot;,\n",
       "  &quot;iconColor&quot;: &quot;white&quot;,\n",
       "  &quot;icon&quot;: &quot;info-sign&quot;,\n",
       "  &quot;prefix&quot;: &quot;glyphicon&quot;,\n",
       "  &quot;extraClasses&quot;: &quot;fa-rotate-0&quot;,\n",
       "}\n",
       "            );\n",
       "            marker_b5527f8393917006c1b116460f2e2bc6.setIcon(icon_2ab8c44c73cd59b1a9f7d18164f2d369);\n",
       "        \n",
       "    \n",
       "        var popup_37e967c060de2ba055232a0c5ac0d7d1 = L.popup({\n",
       "  &quot;maxWidth&quot;: &quot;100%&quot;,\n",
       "});\n",
       "\n",
       "        \n",
       "            \n",
       "                var html_0d0d19fb6259a6776106623848635d5a = $(`&lt;div id=&quot;html_0d0d19fb6259a6776106623848635d5a&quot; style=&quot;width: 100.0%; height: 100.0%;&quot;&gt;El Farallón&lt;/div&gt;`)[0];\n",
       "                popup_37e967c060de2ba055232a0c5ac0d7d1.setContent(html_0d0d19fb6259a6776106623848635d5a);\n",
       "            \n",
       "        \n",
       "\n",
       "        marker_b5527f8393917006c1b116460f2e2bc6.bindPopup(popup_37e967c060de2ba055232a0c5ac0d7d1)\n",
       "        ;\n",
       "\n",
       "        \n",
       "    \n",
       "    \n",
       "            var marker_8591e15ca2191c8d24e91162ca36e5f4 = L.marker(\n",
       "                [23.11556412986255, -82.43678182320103],\n",
       "                {\n",
       "}\n",
       "            ).addTo(map_3d8c657be72ab866f4b991eaf6375e72);\n",
       "        \n",
       "    \n",
       "            var icon_5bbebb747e53f40a64d47dc2f53149f9 = L.AwesomeMarkers.icon(\n",
       "                {\n",
       "  &quot;markerColor&quot;: &quot;darkblue&quot;,\n",
       "  &quot;iconColor&quot;: &quot;white&quot;,\n",
       "  &quot;icon&quot;: &quot;info-sign&quot;,\n",
       "  &quot;prefix&quot;: &quot;glyphicon&quot;,\n",
       "  &quot;extraClasses&quot;: &quot;fa-rotate-0&quot;,\n",
       "}\n",
       "            );\n",
       "            marker_8591e15ca2191c8d24e91162ca36e5f4.setIcon(icon_5bbebb747e53f40a64d47dc2f53149f9);\n",
       "        \n",
       "    \n",
       "        var popup_d9567a5cc8fdc2fc0108426ee8e16357 = L.popup({\n",
       "  &quot;maxWidth&quot;: &quot;100%&quot;,\n",
       "});\n",
       "\n",
       "        \n",
       "            \n",
       "                var html_6d611452064b798b7175cc573bae28d1 = $(`&lt;div id=&quot;html_6d611452064b798b7175cc573bae28d1&quot; style=&quot;width: 100.0%; height: 100.0%;&quot;&gt;El Gabán&lt;/div&gt;`)[0];\n",
       "                popup_d9567a5cc8fdc2fc0108426ee8e16357.setContent(html_6d611452064b798b7175cc573bae28d1);\n",
       "            \n",
       "        \n",
       "\n",
       "        marker_8591e15ca2191c8d24e91162ca36e5f4.bindPopup(popup_d9567a5cc8fdc2fc0108426ee8e16357)\n",
       "        ;\n",
       "\n",
       "        \n",
       "    \n",
       "    \n",
       "            var marker_214361520e54056ceee3f7539cedd710 = L.marker(\n",
       "                [23.12937954129776, -82.30898529375422],\n",
       "                {\n",
       "}\n",
       "            ).addTo(map_3d8c657be72ab866f4b991eaf6375e72);\n",
       "        \n",
       "    \n",
       "            var icon_68bc8700f45064a0c5a7fb8043209b21 = L.AwesomeMarkers.icon(\n",
       "                {\n",
       "  &quot;markerColor&quot;: &quot;darkblue&quot;,\n",
       "  &quot;iconColor&quot;: &quot;white&quot;,\n",
       "  &quot;icon&quot;: &quot;info-sign&quot;,\n",
       "  &quot;prefix&quot;: &quot;glyphicon&quot;,\n",
       "  &quot;extraClasses&quot;: &quot;fa-rotate-0&quot;,\n",
       "}\n",
       "            );\n",
       "            marker_214361520e54056ceee3f7539cedd710.setIcon(icon_68bc8700f45064a0c5a7fb8043209b21);\n",
       "        \n",
       "    \n",
       "        var popup_559e431500d193689668b7b34abc0c71 = L.popup({\n",
       "  &quot;maxWidth&quot;: &quot;100%&quot;,\n",
       "});\n",
       "\n",
       "        \n",
       "            \n",
       "                var html_645675e6f920f1ae8a4788dcd58e8325 = $(`&lt;div id=&quot;html_645675e6f920f1ae8a4788dcd58e8325&quot; style=&quot;width: 100.0%; height: 100.0%;&quot;&gt;El Mexicano&lt;/div&gt;`)[0];\n",
       "                popup_559e431500d193689668b7b34abc0c71.setContent(html_645675e6f920f1ae8a4788dcd58e8325);\n",
       "            \n",
       "        \n",
       "\n",
       "        marker_214361520e54056ceee3f7539cedd710.bindPopup(popup_559e431500d193689668b7b34abc0c71)\n",
       "        ;\n",
       "\n",
       "        \n",
       "    \n",
       "    \n",
       "            var marker_b6907875561162c88ec10e39d848fdb0 = L.marker(\n",
       "                [23.08636901084588, -82.4625362784828],\n",
       "                {\n",
       "}\n",
       "            ).addTo(map_3d8c657be72ab866f4b991eaf6375e72);\n",
       "        \n",
       "    \n",
       "            var icon_8292526f243c3cfa617ed03dc44469e8 = L.AwesomeMarkers.icon(\n",
       "                {\n",
       "  &quot;markerColor&quot;: &quot;darkblue&quot;,\n",
       "  &quot;iconColor&quot;: &quot;white&quot;,\n",
       "  &quot;icon&quot;: &quot;info-sign&quot;,\n",
       "  &quot;prefix&quot;: &quot;glyphicon&quot;,\n",
       "  &quot;extraClasses&quot;: &quot;fa-rotate-0&quot;,\n",
       "}\n",
       "            );\n",
       "            marker_b6907875561162c88ec10e39d848fdb0.setIcon(icon_8292526f243c3cfa617ed03dc44469e8);\n",
       "        \n",
       "    \n",
       "        var popup_eafd9ccf729b287a3e247b26d1955c94 = L.popup({\n",
       "  &quot;maxWidth&quot;: &quot;100%&quot;,\n",
       "});\n",
       "\n",
       "        \n",
       "            \n",
       "                var html_ceb6367fcb6b2ca1f321971f7fd6e1ef = $(`&lt;div id=&quot;html_ceb6367fcb6b2ca1f321971f7fd6e1ef&quot; style=&quot;width: 100.0%; height: 100.0%;&quot;&gt;El Palenque&lt;/div&gt;`)[0];\n",
       "                popup_eafd9ccf729b287a3e247b26d1955c94.setContent(html_ceb6367fcb6b2ca1f321971f7fd6e1ef);\n",
       "            \n",
       "        \n",
       "\n",
       "        marker_b6907875561162c88ec10e39d848fdb0.bindPopup(popup_eafd9ccf729b287a3e247b26d1955c94)\n",
       "        ;\n",
       "\n",
       "        \n",
       "    \n",
       "    \n",
       "            var marker_b035f0e19bd01b881f3ffb4a11531ae0 = L.marker(\n",
       "                [23.10204562544961, -82.34136591354408],\n",
       "                {\n",
       "}\n",
       "            ).addTo(map_3d8c657be72ab866f4b991eaf6375e72);\n",
       "        \n",
       "    \n",
       "            var icon_7954393afe4454e1533fdd4f7a314180 = L.AwesomeMarkers.icon(\n",
       "                {\n",
       "  &quot;markerColor&quot;: &quot;darkblue&quot;,\n",
       "  &quot;iconColor&quot;: &quot;white&quot;,\n",
       "  &quot;icon&quot;: &quot;info-sign&quot;,\n",
       "  &quot;prefix&quot;: &quot;glyphicon&quot;,\n",
       "  &quot;extraClasses&quot;: &quot;fa-rotate-0&quot;,\n",
       "}\n",
       "            );\n",
       "            marker_b035f0e19bd01b881f3ffb4a11531ae0.setIcon(icon_7954393afe4454e1533fdd4f7a314180);\n",
       "        \n",
       "    \n",
       "        var popup_36f8478498c4b2a1e9a46103d2a571c3 = L.popup({\n",
       "  &quot;maxWidth&quot;: &quot;100%&quot;,\n",
       "});\n",
       "\n",
       "        \n",
       "            \n",
       "                var html_0c617949d59dc1f25f141fac190d2bd7 = $(`&lt;div id=&quot;html_0c617949d59dc1f25f141fac190d2bd7&quot; style=&quot;width: 100.0%; height: 100.0%;&quot;&gt;El Pecado&lt;/div&gt;`)[0];\n",
       "                popup_36f8478498c4b2a1e9a46103d2a571c3.setContent(html_0c617949d59dc1f25f141fac190d2bd7);\n",
       "            \n",
       "        \n",
       "\n",
       "        marker_b035f0e19bd01b881f3ffb4a11531ae0.bindPopup(popup_36f8478498c4b2a1e9a46103d2a571c3)\n",
       "        ;\n",
       "\n",
       "        \n",
       "    \n",
       "    \n",
       "            var marker_c1e1ddfcd27d81cc368e7a53629f12a7 = L.marker(\n",
       "                [23.072260531147528, -82.22660851736715],\n",
       "                {\n",
       "}\n",
       "            ).addTo(map_3d8c657be72ab866f4b991eaf6375e72);\n",
       "        \n",
       "    \n",
       "            var icon_55ecafa80f7d985475f6e0c2d983d241 = L.AwesomeMarkers.icon(\n",
       "                {\n",
       "  &quot;markerColor&quot;: &quot;darkblue&quot;,\n",
       "  &quot;iconColor&quot;: &quot;white&quot;,\n",
       "  &quot;icon&quot;: &quot;info-sign&quot;,\n",
       "  &quot;prefix&quot;: &quot;glyphicon&quot;,\n",
       "  &quot;extraClasses&quot;: &quot;fa-rotate-0&quot;,\n",
       "}\n",
       "            );\n",
       "            marker_c1e1ddfcd27d81cc368e7a53629f12a7.setIcon(icon_55ecafa80f7d985475f6e0c2d983d241);\n",
       "        \n",
       "    \n",
       "        var popup_82cf0e2aaac3064d0a5addbf603c99d5 = L.popup({\n",
       "  &quot;maxWidth&quot;: &quot;100%&quot;,\n",
       "});\n",
       "\n",
       "        \n",
       "            \n",
       "                var html_feae5d52032727560200d370dadc443a = $(`&lt;div id=&quot;html_feae5d52032727560200d370dadc443a&quot; style=&quot;width: 100.0%; height: 100.0%;&quot;&gt;El Pellizco&lt;/div&gt;`)[0];\n",
       "                popup_82cf0e2aaac3064d0a5addbf603c99d5.setContent(html_feae5d52032727560200d370dadc443a);\n",
       "            \n",
       "        \n",
       "\n",
       "        marker_c1e1ddfcd27d81cc368e7a53629f12a7.bindPopup(popup_82cf0e2aaac3064d0a5addbf603c99d5)\n",
       "        ;\n",
       "\n",
       "        \n",
       "    \n",
       "    \n",
       "            var marker_a46a8342aabd6802693ccbd3d4a0936e = L.marker(\n",
       "                [23.124905240397386, -82.42134057564077],\n",
       "                {\n",
       "}\n",
       "            ).addTo(map_3d8c657be72ab866f4b991eaf6375e72);\n",
       "        \n",
       "    \n",
       "            var icon_d92ba465091fe43aa9f1a396b8a4e91b = L.AwesomeMarkers.icon(\n",
       "                {\n",
       "  &quot;markerColor&quot;: &quot;darkblue&quot;,\n",
       "  &quot;iconColor&quot;: &quot;white&quot;,\n",
       "  &quot;icon&quot;: &quot;info-sign&quot;,\n",
       "  &quot;prefix&quot;: &quot;glyphicon&quot;,\n",
       "  &quot;extraClasses&quot;: &quot;fa-rotate-0&quot;,\n",
       "}\n",
       "            );\n",
       "            marker_a46a8342aabd6802693ccbd3d4a0936e.setIcon(icon_d92ba465091fe43aa9f1a396b8a4e91b);\n",
       "        \n",
       "    \n",
       "        var popup_22502c39dd7a0d32ee5fe17c35d69861 = L.popup({\n",
       "  &quot;maxWidth&quot;: &quot;100%&quot;,\n",
       "});\n",
       "\n",
       "        \n",
       "            \n",
       "                var html_7be88e6a81d1e6ac543d8f34067bd0a6 = $(`&lt;div id=&quot;html_7be88e6a81d1e6ac543d8f34067bd0a6&quot; style=&quot;width: 100.0%; height: 100.0%;&quot;&gt;El Tocororo&lt;/div&gt;`)[0];\n",
       "                popup_22502c39dd7a0d32ee5fe17c35d69861.setContent(html_7be88e6a81d1e6ac543d8f34067bd0a6);\n",
       "            \n",
       "        \n",
       "\n",
       "        marker_a46a8342aabd6802693ccbd3d4a0936e.bindPopup(popup_22502c39dd7a0d32ee5fe17c35d69861)\n",
       "        ;\n",
       "\n",
       "        \n",
       "    \n",
       "    \n",
       "            var marker_4da69ebab10523900995a3ad23056bcd = L.marker(\n",
       "                [23.08023772075543, -82.32083560917445],\n",
       "                {\n",
       "}\n",
       "            ).addTo(map_3d8c657be72ab866f4b991eaf6375e72);\n",
       "        \n",
       "    \n",
       "            var icon_6610137b667dfad4a8270774b1383374 = L.AwesomeMarkers.icon(\n",
       "                {\n",
       "  &quot;markerColor&quot;: &quot;darkblue&quot;,\n",
       "  &quot;iconColor&quot;: &quot;white&quot;,\n",
       "  &quot;icon&quot;: &quot;info-sign&quot;,\n",
       "  &quot;prefix&quot;: &quot;glyphicon&quot;,\n",
       "  &quot;extraClasses&quot;: &quot;fa-rotate-0&quot;,\n",
       "}\n",
       "            );\n",
       "            marker_4da69ebab10523900995a3ad23056bcd.setIcon(icon_6610137b667dfad4a8270774b1383374);\n",
       "        \n",
       "    \n",
       "        var popup_5a21151a4f70ba5d441d5945e14b0e72 = L.popup({\n",
       "  &quot;maxWidth&quot;: &quot;100%&quot;,\n",
       "});\n",
       "\n",
       "        \n",
       "            \n",
       "                var html_6805b78e3209a5ff446069f18aef972a = $(`&lt;div id=&quot;html_6805b78e3209a5ff446069f18aef972a&quot; style=&quot;width: 100.0%; height: 100.0%;&quot;&gt;El Tráfico&lt;/div&gt;`)[0];\n",
       "                popup_5a21151a4f70ba5d441d5945e14b0e72.setContent(html_6805b78e3209a5ff446069f18aef972a);\n",
       "            \n",
       "        \n",
       "\n",
       "        marker_4da69ebab10523900995a3ad23056bcd.bindPopup(popup_5a21151a4f70ba5d441d5945e14b0e72)\n",
       "        ;\n",
       "\n",
       "        \n",
       "    \n",
       "    \n",
       "            var marker_f12ac3c44256c15cd2d802b36ac26d3b = L.marker(\n",
       "                [23.171538273047627, -82.2534967783034],\n",
       "                {\n",
       "}\n",
       "            ).addTo(map_3d8c657be72ab866f4b991eaf6375e72);\n",
       "        \n",
       "    \n",
       "            var icon_7e806aa2594e5d473a6be014339390da = L.AwesomeMarkers.icon(\n",
       "                {\n",
       "  &quot;markerColor&quot;: &quot;darkblue&quot;,\n",
       "  &quot;iconColor&quot;: &quot;white&quot;,\n",
       "  &quot;icon&quot;: &quot;info-sign&quot;,\n",
       "  &quot;prefix&quot;: &quot;glyphicon&quot;,\n",
       "  &quot;extraClasses&quot;: &quot;fa-rotate-0&quot;,\n",
       "}\n",
       "            );\n",
       "            marker_f12ac3c44256c15cd2d802b36ac26d3b.setIcon(icon_7e806aa2594e5d473a6be014339390da);\n",
       "        \n",
       "    \n",
       "        var popup_8e1191a4c8d224e4d5918de2d3e0275a = L.popup({\n",
       "  &quot;maxWidth&quot;: &quot;100%&quot;,\n",
       "});\n",
       "\n",
       "        \n",
       "            \n",
       "                var html_bfd446f70164d6be15abe7581ea8fc21 = $(`&lt;div id=&quot;html_bfd446f70164d6be15abe7581ea8fc21&quot; style=&quot;width: 100.0%; height: 100.0%;&quot;&gt;El Triangulo&lt;/div&gt;`)[0];\n",
       "                popup_8e1191a4c8d224e4d5918de2d3e0275a.setContent(html_bfd446f70164d6be15abe7581ea8fc21);\n",
       "            \n",
       "        \n",
       "\n",
       "        marker_f12ac3c44256c15cd2d802b36ac26d3b.bindPopup(popup_8e1191a4c8d224e4d5918de2d3e0275a)\n",
       "        ;\n",
       "\n",
       "        \n",
       "    \n",
       "    \n",
       "            var marker_3c9a912db8ffcabd1e9f397d5a5bab9e = L.marker(\n",
       "                [23.00580536023271, -82.39597846641877],\n",
       "                {\n",
       "}\n",
       "            ).addTo(map_3d8c657be72ab866f4b991eaf6375e72);\n",
       "        \n",
       "    \n",
       "            var icon_c251f45747245712067b49215ba13412 = L.AwesomeMarkers.icon(\n",
       "                {\n",
       "  &quot;markerColor&quot;: &quot;darkblue&quot;,\n",
       "  &quot;iconColor&quot;: &quot;white&quot;,\n",
       "  &quot;icon&quot;: &quot;info-sign&quot;,\n",
       "  &quot;prefix&quot;: &quot;glyphicon&quot;,\n",
       "  &quot;extraClasses&quot;: &quot;fa-rotate-0&quot;,\n",
       "}\n",
       "            );\n",
       "            marker_3c9a912db8ffcabd1e9f397d5a5bab9e.setIcon(icon_c251f45747245712067b49215ba13412);\n",
       "        \n",
       "    \n",
       "        var popup_07c8a053af81204cc9349907768813b8 = L.popup({\n",
       "  &quot;maxWidth&quot;: &quot;100%&quot;,\n",
       "});\n",
       "\n",
       "        \n",
       "            \n",
       "                var html_0b06027beee62051a58eee0e431ff4f5 = $(`&lt;div id=&quot;html_0b06027beee62051a58eee0e431ff4f5&quot; style=&quot;width: 100.0%; height: 100.0%;&quot;&gt;Entabla2&lt;/div&gt;`)[0];\n",
       "                popup_07c8a053af81204cc9349907768813b8.setContent(html_0b06027beee62051a58eee0e431ff4f5);\n",
       "            \n",
       "        \n",
       "\n",
       "        marker_3c9a912db8ffcabd1e9f397d5a5bab9e.bindPopup(popup_07c8a053af81204cc9349907768813b8)\n",
       "        ;\n",
       "\n",
       "        \n",
       "    \n",
       "    \n",
       "            var marker_5e3a69137f79c2aa7d16a8c95f288588 = L.marker(\n",
       "                [23.142552151033268, -82.39853187833533],\n",
       "                {\n",
       "}\n",
       "            ).addTo(map_3d8c657be72ab866f4b991eaf6375e72);\n",
       "        \n",
       "    \n",
       "            var icon_f55c02934265fce2e0c58c574b63a547 = L.AwesomeMarkers.icon(\n",
       "                {\n",
       "  &quot;markerColor&quot;: &quot;darkblue&quot;,\n",
       "  &quot;iconColor&quot;: &quot;white&quot;,\n",
       "  &quot;icon&quot;: &quot;info-sign&quot;,\n",
       "  &quot;prefix&quot;: &quot;glyphicon&quot;,\n",
       "  &quot;extraClasses&quot;: &quot;fa-rotate-0&quot;,\n",
       "}\n",
       "            );\n",
       "            marker_5e3a69137f79c2aa7d16a8c95f288588.setIcon(icon_f55c02934265fce2e0c58c574b63a547);\n",
       "        \n",
       "    \n",
       "        var popup_db13e2f012e8a89c8f6499e674cf3b96 = L.popup({\n",
       "  &quot;maxWidth&quot;: &quot;100%&quot;,\n",
       "});\n",
       "\n",
       "        \n",
       "            \n",
       "                var html_9c46b1005b0aaf9114fe8472ce698ffd = $(`&lt;div id=&quot;html_9c46b1005b0aaf9114fe8472ce698ffd&quot; style=&quot;width: 100.0%; height: 100.0%;&quot;&gt;Esquina D&#x27; Fraile&lt;/div&gt;`)[0];\n",
       "                popup_db13e2f012e8a89c8f6499e674cf3b96.setContent(html_9c46b1005b0aaf9114fe8472ce698ffd);\n",
       "            \n",
       "        \n",
       "\n",
       "        marker_5e3a69137f79c2aa7d16a8c95f288588.bindPopup(popup_db13e2f012e8a89c8f6499e674cf3b96)\n",
       "        ;\n",
       "\n",
       "        \n",
       "    \n",
       "    \n",
       "            var marker_8bd54c2cd797a9c3db081e9357330f69 = L.marker(\n",
       "                [23.120002043016232, -82.41824799824474],\n",
       "                {\n",
       "}\n",
       "            ).addTo(map_3d8c657be72ab866f4b991eaf6375e72);\n",
       "        \n",
       "    \n",
       "            var icon_c2b24b77ea8942af3edac6b584847830 = L.AwesomeMarkers.icon(\n",
       "                {\n",
       "  &quot;markerColor&quot;: &quot;darkblue&quot;,\n",
       "  &quot;iconColor&quot;: &quot;white&quot;,\n",
       "  &quot;icon&quot;: &quot;info-sign&quot;,\n",
       "  &quot;prefix&quot;: &quot;glyphicon&quot;,\n",
       "  &quot;extraClasses&quot;: &quot;fa-rotate-0&quot;,\n",
       "}\n",
       "            );\n",
       "            marker_8bd54c2cd797a9c3db081e9357330f69.setIcon(icon_c2b24b77ea8942af3edac6b584847830);\n",
       "        \n",
       "    \n",
       "        var popup_8fdb0c038907155684589d47798c4fde = L.popup({\n",
       "  &quot;maxWidth&quot;: &quot;100%&quot;,\n",
       "});\n",
       "\n",
       "        \n",
       "            \n",
       "                var html_57a809db2ead86fd73e1fbb8c0d19e89 = $(`&lt;div id=&quot;html_57a809db2ead86fd73e1fbb8c0d19e89&quot; style=&quot;width: 100.0%; height: 100.0%;&quot;&gt;Fellini&lt;/div&gt;`)[0];\n",
       "                popup_8fdb0c038907155684589d47798c4fde.setContent(html_57a809db2ead86fd73e1fbb8c0d19e89);\n",
       "            \n",
       "        \n",
       "\n",
       "        marker_8bd54c2cd797a9c3db081e9357330f69.bindPopup(popup_8fdb0c038907155684589d47798c4fde)\n",
       "        ;\n",
       "\n",
       "        \n",
       "    \n",
       "    \n",
       "            var marker_5d5351cc273dedc6e575411d213373a0 = L.marker(\n",
       "                [23.134776558921473, -82.36387247467647],\n",
       "                {\n",
       "}\n",
       "            ).addTo(map_3d8c657be72ab866f4b991eaf6375e72);\n",
       "        \n",
       "    \n",
       "            var icon_a0b7c45bd5279a44a36759167794c843 = L.AwesomeMarkers.icon(\n",
       "                {\n",
       "  &quot;markerColor&quot;: &quot;darkblue&quot;,\n",
       "  &quot;iconColor&quot;: &quot;white&quot;,\n",
       "  &quot;icon&quot;: &quot;info-sign&quot;,\n",
       "  &quot;prefix&quot;: &quot;glyphicon&quot;,\n",
       "  &quot;extraClasses&quot;: &quot;fa-rotate-0&quot;,\n",
       "}\n",
       "            );\n",
       "            marker_5d5351cc273dedc6e575411d213373a0.setIcon(icon_a0b7c45bd5279a44a36759167794c843);\n",
       "        \n",
       "    \n",
       "        var popup_bb9f76589cdfbc619f6e85d73f37961f = L.popup({\n",
       "  &quot;maxWidth&quot;: &quot;100%&quot;,\n",
       "});\n",
       "\n",
       "        \n",
       "            \n",
       "                var html_c15c6233566a3cd17a563d8a9830129f = $(`&lt;div id=&quot;html_c15c6233566a3cd17a563d8a9830129f&quot; style=&quot;width: 100.0%; height: 100.0%;&quot;&gt;Fénix Dorado&lt;/div&gt;`)[0];\n",
       "                popup_bb9f76589cdfbc619f6e85d73f37961f.setContent(html_c15c6233566a3cd17a563d8a9830129f);\n",
       "            \n",
       "        \n",
       "\n",
       "        marker_5d5351cc273dedc6e575411d213373a0.bindPopup(popup_bb9f76589cdfbc619f6e85d73f37961f)\n",
       "        ;\n",
       "\n",
       "        \n",
       "    \n",
       "    \n",
       "            var marker_b77705b54137ad153888fa9feb5e3bea = L.marker(\n",
       "                [23.017771727070862, -82.48798172513514],\n",
       "                {\n",
       "}\n",
       "            ).addTo(map_3d8c657be72ab866f4b991eaf6375e72);\n",
       "        \n",
       "    \n",
       "            var icon_17284b56cb9021509bbd1dd29d12c37e = L.AwesomeMarkers.icon(\n",
       "                {\n",
       "  &quot;markerColor&quot;: &quot;darkblue&quot;,\n",
       "  &quot;iconColor&quot;: &quot;white&quot;,\n",
       "  &quot;icon&quot;: &quot;info-sign&quot;,\n",
       "  &quot;prefix&quot;: &quot;glyphicon&quot;,\n",
       "  &quot;extraClasses&quot;: &quot;fa-rotate-0&quot;,\n",
       "}\n",
       "            );\n",
       "            marker_b77705b54137ad153888fa9feb5e3bea.setIcon(icon_17284b56cb9021509bbd1dd29d12c37e);\n",
       "        \n",
       "    \n",
       "        var popup_9761aa5c34c94b30d7264598702c1cef = L.popup({\n",
       "  &quot;maxWidth&quot;: &quot;100%&quot;,\n",
       "});\n",
       "\n",
       "        \n",
       "            \n",
       "                var html_7f7396ca2fa4a5cdc9ff4f11cc0b428f = $(`&lt;div id=&quot;html_7f7396ca2fa4a5cdc9ff4f11cc0b428f&quot; style=&quot;width: 100.0%; height: 100.0%;&quot;&gt;Finca La Pinta&lt;/div&gt;`)[0];\n",
       "                popup_9761aa5c34c94b30d7264598702c1cef.setContent(html_7f7396ca2fa4a5cdc9ff4f11cc0b428f);\n",
       "            \n",
       "        \n",
       "\n",
       "        marker_b77705b54137ad153888fa9feb5e3bea.bindPopup(popup_9761aa5c34c94b30d7264598702c1cef)\n",
       "        ;\n",
       "\n",
       "        \n",
       "    \n",
       "    \n",
       "            var marker_58198169900cb29115e97f60001e5714 = L.marker(\n",
       "                [23.136227081972006, -82.36206873376179],\n",
       "                {\n",
       "}\n",
       "            ).addTo(map_3d8c657be72ab866f4b991eaf6375e72);\n",
       "        \n",
       "    \n",
       "            var icon_c08e2b516455c5a59066f77ce1a4d576 = L.AwesomeMarkers.icon(\n",
       "                {\n",
       "  &quot;markerColor&quot;: &quot;darkblue&quot;,\n",
       "  &quot;iconColor&quot;: &quot;white&quot;,\n",
       "  &quot;icon&quot;: &quot;info-sign&quot;,\n",
       "  &quot;prefix&quot;: &quot;glyphicon&quot;,\n",
       "  &quot;extraClasses&quot;: &quot;fa-rotate-0&quot;,\n",
       "}\n",
       "            );\n",
       "            marker_58198169900cb29115e97f60001e5714.setIcon(icon_c08e2b516455c5a59066f77ce1a4d576);\n",
       "        \n",
       "    \n",
       "        var popup_7f9d55586724158644bd1930d033016d = L.popup({\n",
       "  &quot;maxWidth&quot;: &quot;100%&quot;,\n",
       "});\n",
       "\n",
       "        \n",
       "            \n",
       "                var html_f0335a12bf660027314b67dde55407b5 = $(`&lt;div id=&quot;html_f0335a12bf660027314b67dde55407b5&quot; style=&quot;width: 100.0%; height: 100.0%;&quot;&gt;Fin de Siglo&lt;/div&gt;`)[0];\n",
       "                popup_7f9d55586724158644bd1930d033016d.setContent(html_f0335a12bf660027314b67dde55407b5);\n",
       "            \n",
       "        \n",
       "\n",
       "        marker_58198169900cb29115e97f60001e5714.bindPopup(popup_7f9d55586724158644bd1930d033016d)\n",
       "        ;\n",
       "\n",
       "        \n",
       "    \n",
       "    \n",
       "            var marker_503a8b634b86c216a6ac5f2bedcaff0a = L.marker(\n",
       "                [23.139257303539583, -82.38130662264366],\n",
       "                {\n",
       "}\n",
       "            ).addTo(map_3d8c657be72ab866f4b991eaf6375e72);\n",
       "        \n",
       "    \n",
       "            var icon_aa5149c93d67f83325acc49f22387120 = L.AwesomeMarkers.icon(\n",
       "                {\n",
       "  &quot;markerColor&quot;: &quot;darkblue&quot;,\n",
       "  &quot;iconColor&quot;: &quot;white&quot;,\n",
       "  &quot;icon&quot;: &quot;info-sign&quot;,\n",
       "  &quot;prefix&quot;: &quot;glyphicon&quot;,\n",
       "  &quot;extraClasses&quot;: &quot;fa-rotate-0&quot;,\n",
       "}\n",
       "            );\n",
       "            marker_503a8b634b86c216a6ac5f2bedcaff0a.setIcon(icon_aa5149c93d67f83325acc49f22387120);\n",
       "        \n",
       "    \n",
       "        var popup_d1a6a2a4bb7772a3cd524149a97ee7fa = L.popup({\n",
       "  &quot;maxWidth&quot;: &quot;100%&quot;,\n",
       "});\n",
       "\n",
       "        \n",
       "            \n",
       "                var html_c00ab179394e24a5701cc8d0bdfaec1f = $(`&lt;div id=&quot;html_c00ab179394e24a5701cc8d0bdfaec1f&quot; style=&quot;width: 100.0%; height: 100.0%;&quot;&gt;Fonda La Paila&lt;/div&gt;`)[0];\n",
       "                popup_d1a6a2a4bb7772a3cd524149a97ee7fa.setContent(html_c00ab179394e24a5701cc8d0bdfaec1f);\n",
       "            \n",
       "        \n",
       "\n",
       "        marker_503a8b634b86c216a6ac5f2bedcaff0a.bindPopup(popup_d1a6a2a4bb7772a3cd524149a97ee7fa)\n",
       "        ;\n",
       "\n",
       "        \n",
       "    \n",
       "    \n",
       "            var marker_aa78d2f93961b6e5d4f76bc3d4a48ded = L.marker(\n",
       "                [23.10836341952027, -82.43424715134823],\n",
       "                {\n",
       "}\n",
       "            ).addTo(map_3d8c657be72ab866f4b991eaf6375e72);\n",
       "        \n",
       "    \n",
       "            var icon_1b0d36dcda0b189233adc3a3637dd1cd = L.AwesomeMarkers.icon(\n",
       "                {\n",
       "  &quot;markerColor&quot;: &quot;darkblue&quot;,\n",
       "  &quot;iconColor&quot;: &quot;white&quot;,\n",
       "  &quot;icon&quot;: &quot;info-sign&quot;,\n",
       "  &quot;prefix&quot;: &quot;glyphicon&quot;,\n",
       "  &quot;extraClasses&quot;: &quot;fa-rotate-0&quot;,\n",
       "}\n",
       "            );\n",
       "            marker_aa78d2f93961b6e5d4f76bc3d4a48ded.setIcon(icon_1b0d36dcda0b189233adc3a3637dd1cd);\n",
       "        \n",
       "    \n",
       "        var popup_0c73d4e7304d3690493d9ea2e9b1a2e3 = L.popup({\n",
       "  &quot;maxWidth&quot;: &quot;100%&quot;,\n",
       "});\n",
       "\n",
       "        \n",
       "            \n",
       "                var html_8ae56371b802ae97d9fec253d028fc19 = $(`&lt;div id=&quot;html_8ae56371b802ae97d9fec253d028fc19&quot; style=&quot;width: 100.0%; height: 100.0%;&quot;&gt;Food Master&lt;/div&gt;`)[0];\n",
       "                popup_0c73d4e7304d3690493d9ea2e9b1a2e3.setContent(html_8ae56371b802ae97d9fec253d028fc19);\n",
       "            \n",
       "        \n",
       "\n",
       "        marker_aa78d2f93961b6e5d4f76bc3d4a48ded.bindPopup(popup_0c73d4e7304d3690493d9ea2e9b1a2e3)\n",
       "        ;\n",
       "\n",
       "        \n",
       "    \n",
       "    \n",
       "            var marker_0dfad3d5f102301ae923bd367f95664d = L.marker(\n",
       "                [23.111808672085502, -82.44090092922819],\n",
       "                {\n",
       "}\n",
       "            ).addTo(map_3d8c657be72ab866f4b991eaf6375e72);\n",
       "        \n",
       "    \n",
       "            var icon_67c84be9b03c78d72e91026b9d641b9b = L.AwesomeMarkers.icon(\n",
       "                {\n",
       "  &quot;markerColor&quot;: &quot;darkblue&quot;,\n",
       "  &quot;iconColor&quot;: &quot;white&quot;,\n",
       "  &quot;icon&quot;: &quot;info-sign&quot;,\n",
       "  &quot;prefix&quot;: &quot;glyphicon&quot;,\n",
       "  &quot;extraClasses&quot;: &quot;fa-rotate-0&quot;,\n",
       "}\n",
       "            );\n",
       "            marker_0dfad3d5f102301ae923bd367f95664d.setIcon(icon_67c84be9b03c78d72e91026b9d641b9b);\n",
       "        \n",
       "    \n",
       "        var popup_73038ad04325ce5b20371036cdd990cb = L.popup({\n",
       "  &quot;maxWidth&quot;: &quot;100%&quot;,\n",
       "});\n",
       "\n",
       "        \n",
       "            \n",
       "                var html_550e457024397bdba9332800f721ae61 = $(`&lt;div id=&quot;html_550e457024397bdba9332800f721ae61&quot; style=&quot;width: 100.0%; height: 100.0%;&quot;&gt;FoodTruck Pelegrin&lt;/div&gt;`)[0];\n",
       "                popup_73038ad04325ce5b20371036cdd990cb.setContent(html_550e457024397bdba9332800f721ae61);\n",
       "            \n",
       "        \n",
       "\n",
       "        marker_0dfad3d5f102301ae923bd367f95664d.bindPopup(popup_73038ad04325ce5b20371036cdd990cb)\n",
       "        ;\n",
       "\n",
       "        \n",
       "    \n",
       "    \n",
       "            var marker_cae5b834f5e6abb2892131122cc12ceb = L.marker(\n",
       "                [23.12226101881169, -82.40508001808305],\n",
       "                {\n",
       "}\n",
       "            ).addTo(map_3d8c657be72ab866f4b991eaf6375e72);\n",
       "        \n",
       "    \n",
       "            var icon_6c4a86c64d18730f81cbcf8f6573b825 = L.AwesomeMarkers.icon(\n",
       "                {\n",
       "  &quot;markerColor&quot;: &quot;darkblue&quot;,\n",
       "  &quot;iconColor&quot;: &quot;white&quot;,\n",
       "  &quot;icon&quot;: &quot;info-sign&quot;,\n",
       "  &quot;prefix&quot;: &quot;glyphicon&quot;,\n",
       "  &quot;extraClasses&quot;: &quot;fa-rotate-0&quot;,\n",
       "}\n",
       "            );\n",
       "            marker_cae5b834f5e6abb2892131122cc12ceb.setIcon(icon_6c4a86c64d18730f81cbcf8f6573b825);\n",
       "        \n",
       "    \n",
       "        var popup_e3f28a38e208b7ca52e00219bf98f5f4 = L.popup({\n",
       "  &quot;maxWidth&quot;: &quot;100%&quot;,\n",
       "});\n",
       "\n",
       "        \n",
       "            \n",
       "                var html_1307a0fd4bd59477b2cd1f141a79daba = $(`&lt;div id=&quot;html_1307a0fd4bd59477b2cd1f141a79daba&quot; style=&quot;width: 100.0%; height: 100.0%;&quot;&gt;Fuumiyaki&lt;/div&gt;`)[0];\n",
       "                popup_e3f28a38e208b7ca52e00219bf98f5f4.setContent(html_1307a0fd4bd59477b2cd1f141a79daba);\n",
       "            \n",
       "        \n",
       "\n",
       "        marker_cae5b834f5e6abb2892131122cc12ceb.bindPopup(popup_e3f28a38e208b7ca52e00219bf98f5f4)\n",
       "        ;\n",
       "\n",
       "        \n",
       "    \n",
       "    \n",
       "            var marker_1e83b2f129ff8214d022d414872cceea = L.marker(\n",
       "                [23.13605979859447, -82.36264764949895],\n",
       "                {\n",
       "}\n",
       "            ).addTo(map_3d8c657be72ab866f4b991eaf6375e72);\n",
       "        \n",
       "    \n",
       "            var icon_672174e5fde2bb187fde576248fb0a1f = L.AwesomeMarkers.icon(\n",
       "                {\n",
       "  &quot;markerColor&quot;: &quot;darkblue&quot;,\n",
       "  &quot;iconColor&quot;: &quot;white&quot;,\n",
       "  &quot;icon&quot;: &quot;info-sign&quot;,\n",
       "  &quot;prefix&quot;: &quot;glyphicon&quot;,\n",
       "  &quot;extraClasses&quot;: &quot;fa-rotate-0&quot;,\n",
       "}\n",
       "            );\n",
       "            marker_1e83b2f129ff8214d022d414872cceea.setIcon(icon_672174e5fde2bb187fde576248fb0a1f);\n",
       "        \n",
       "    \n",
       "        var popup_71236c6adc85b47c07a9eaa7654bbf82 = L.popup({\n",
       "  &quot;maxWidth&quot;: &quot;100%&quot;,\n",
       "});\n",
       "\n",
       "        \n",
       "            \n",
       "                var html_8e4a64d38458d43d919c9f70c52a0143 = $(`&lt;div id=&quot;html_8e4a64d38458d43d919c9f70c52a0143&quot; style=&quot;width: 100.0%; height: 100.0%;&quot;&gt;Galy Café&lt;/div&gt;`)[0];\n",
       "                popup_71236c6adc85b47c07a9eaa7654bbf82.setContent(html_8e4a64d38458d43d919c9f70c52a0143);\n",
       "            \n",
       "        \n",
       "\n",
       "        marker_1e83b2f129ff8214d022d414872cceea.bindPopup(popup_71236c6adc85b47c07a9eaa7654bbf82)\n",
       "        ;\n",
       "\n",
       "        \n",
       "    \n",
       "    \n",
       "            var marker_f85835471a5f762f985cce11d16ecc10 = L.marker(\n",
       "                [23.137384204567816, -82.30805504947449],\n",
       "                {\n",
       "}\n",
       "            ).addTo(map_3d8c657be72ab866f4b991eaf6375e72);\n",
       "        \n",
       "    \n",
       "            var icon_6d728504f41adafb1d413b3ee84ffc0d = L.AwesomeMarkers.icon(\n",
       "                {\n",
       "  &quot;markerColor&quot;: &quot;darkblue&quot;,\n",
       "  &quot;iconColor&quot;: &quot;white&quot;,\n",
       "  &quot;icon&quot;: &quot;info-sign&quot;,\n",
       "  &quot;prefix&quot;: &quot;glyphicon&quot;,\n",
       "  &quot;extraClasses&quot;: &quot;fa-rotate-0&quot;,\n",
       "}\n",
       "            );\n",
       "            marker_f85835471a5f762f985cce11d16ecc10.setIcon(icon_6d728504f41adafb1d413b3ee84ffc0d);\n",
       "        \n",
       "    \n",
       "        var popup_ea8c5495ea2aada547efebd7c8046817 = L.popup({\n",
       "  &quot;maxWidth&quot;: &quot;100%&quot;,\n",
       "});\n",
       "\n",
       "        \n",
       "            \n",
       "                var html_224ac5fb74d4f9f36d19328116c1ecdf = $(`&lt;div id=&quot;html_224ac5fb74d4f9f36d19328116c1ecdf&quot; style=&quot;width: 100.0%; height: 100.0%;&quot;&gt;GaraG&lt;/div&gt;`)[0];\n",
       "                popup_ea8c5495ea2aada547efebd7c8046817.setContent(html_224ac5fb74d4f9f36d19328116c1ecdf);\n",
       "            \n",
       "        \n",
       "\n",
       "        marker_f85835471a5f762f985cce11d16ecc10.bindPopup(popup_ea8c5495ea2aada547efebd7c8046817)\n",
       "        ;\n",
       "\n",
       "        \n",
       "    \n",
       "    \n",
       "            var marker_989a434ec48bb4d166c1aca1fda60429 = L.marker(\n",
       "                [23.134985027583145, -82.36378331935656],\n",
       "                {\n",
       "}\n",
       "            ).addTo(map_3d8c657be72ab866f4b991eaf6375e72);\n",
       "        \n",
       "    \n",
       "            var icon_f3729848af1311816a65399d06b22671 = L.AwesomeMarkers.icon(\n",
       "                {\n",
       "  &quot;markerColor&quot;: &quot;darkblue&quot;,\n",
       "  &quot;iconColor&quot;: &quot;white&quot;,\n",
       "  &quot;icon&quot;: &quot;info-sign&quot;,\n",
       "  &quot;prefix&quot;: &quot;glyphicon&quot;,\n",
       "  &quot;extraClasses&quot;: &quot;fa-rotate-0&quot;,\n",
       "}\n",
       "            );\n",
       "            marker_989a434ec48bb4d166c1aca1fda60429.setIcon(icon_f3729848af1311816a65399d06b22671);\n",
       "        \n",
       "    \n",
       "        var popup_6df2c829069c3b947bb82ac1dfa74c1a = L.popup({\n",
       "  &quot;maxWidth&quot;: &quot;100%&quot;,\n",
       "});\n",
       "\n",
       "        \n",
       "            \n",
       "                var html_e91f8640162dd23bb6cbf9db62920ccc = $(`&lt;div id=&quot;html_e91f8640162dd23bb6cbf9db62920ccc&quot; style=&quot;width: 100.0%; height: 100.0%;&quot;&gt;Guang Zhou&lt;/div&gt;`)[0];\n",
       "                popup_6df2c829069c3b947bb82ac1dfa74c1a.setContent(html_e91f8640162dd23bb6cbf9db62920ccc);\n",
       "            \n",
       "        \n",
       "\n",
       "        marker_989a434ec48bb4d166c1aca1fda60429.bindPopup(popup_6df2c829069c3b947bb82ac1dfa74c1a)\n",
       "        ;\n",
       "\n",
       "        \n",
       "    \n",
       "    \n",
       "            var marker_2ca8ed054d8d934ebdd38bd5ffc677a4 = L.marker(\n",
       "                [23.139273167960297, -82.38864216668844],\n",
       "                {\n",
       "}\n",
       "            ).addTo(map_3d8c657be72ab866f4b991eaf6375e72);\n",
       "        \n",
       "    \n",
       "            var icon_1f252a16912e61cf69e0f1fbe97950fe = L.AwesomeMarkers.icon(\n",
       "                {\n",
       "  &quot;markerColor&quot;: &quot;darkblue&quot;,\n",
       "  &quot;iconColor&quot;: &quot;white&quot;,\n",
       "  &quot;icon&quot;: &quot;info-sign&quot;,\n",
       "  &quot;prefix&quot;: &quot;glyphicon&quot;,\n",
       "  &quot;extraClasses&quot;: &quot;fa-rotate-0&quot;,\n",
       "}\n",
       "            );\n",
       "            marker_2ca8ed054d8d934ebdd38bd5ffc677a4.setIcon(icon_1f252a16912e61cf69e0f1fbe97950fe);\n",
       "        \n",
       "    \n",
       "        var popup_4320d4dde6eb8bdfef7aec2996b31161 = L.popup({\n",
       "  &quot;maxWidth&quot;: &quot;100%&quot;,\n",
       "});\n",
       "\n",
       "        \n",
       "            \n",
       "                var html_32076ba55813e31b05dc69839b333817 = $(`&lt;div id=&quot;html_32076ba55813e31b05dc69839b333817&quot; style=&quot;width: 100.0%; height: 100.0%;&quot;&gt;Habana Blues&lt;/div&gt;`)[0];\n",
       "                popup_4320d4dde6eb8bdfef7aec2996b31161.setContent(html_32076ba55813e31b05dc69839b333817);\n",
       "            \n",
       "        \n",
       "\n",
       "        marker_2ca8ed054d8d934ebdd38bd5ffc677a4.bindPopup(popup_4320d4dde6eb8bdfef7aec2996b31161)\n",
       "        ;\n",
       "\n",
       "        \n",
       "    \n",
       "    \n",
       "            var marker_f24260a8fa79d77752730b158791b0f4 = L.marker(\n",
       "                [23.137485628241393, -82.35639192066344],\n",
       "                {\n",
       "}\n",
       "            ).addTo(map_3d8c657be72ab866f4b991eaf6375e72);\n",
       "        \n",
       "    \n",
       "            var icon_ab1e699f2236a0096b839e37f2cc8faf = L.AwesomeMarkers.icon(\n",
       "                {\n",
       "  &quot;markerColor&quot;: &quot;darkblue&quot;,\n",
       "  &quot;iconColor&quot;: &quot;white&quot;,\n",
       "  &quot;icon&quot;: &quot;info-sign&quot;,\n",
       "  &quot;prefix&quot;: &quot;glyphicon&quot;,\n",
       "  &quot;extraClasses&quot;: &quot;fa-rotate-0&quot;,\n",
       "}\n",
       "            );\n",
       "            marker_f24260a8fa79d77752730b158791b0f4.setIcon(icon_ab1e699f2236a0096b839e37f2cc8faf);\n",
       "        \n",
       "    \n",
       "        var popup_c9deb7c46d3b9c687e0e93533ebb913b = L.popup({\n",
       "  &quot;maxWidth&quot;: &quot;100%&quot;,\n",
       "});\n",
       "\n",
       "        \n",
       "            \n",
       "                var html_62a33b48011ab8002226ed53377df38d = $(`&lt;div id=&quot;html_62a33b48011ab8002226ed53377df38d&quot; style=&quot;width: 100.0%; height: 100.0%;&quot;&gt;Habana Tokio&lt;/div&gt;`)[0];\n",
       "                popup_c9deb7c46d3b9c687e0e93533ebb913b.setContent(html_62a33b48011ab8002226ed53377df38d);\n",
       "            \n",
       "        \n",
       "\n",
       "        marker_f24260a8fa79d77752730b158791b0f4.bindPopup(popup_c9deb7c46d3b9c687e0e93533ebb913b)\n",
       "        ;\n",
       "\n",
       "        \n",
       "    \n",
       "    \n",
       "            var marker_e04cb8b78bbabc00d32d65819dfe12dc = L.marker(\n",
       "                [23.142049436581914, -82.39508647982898],\n",
       "                {\n",
       "}\n",
       "            ).addTo(map_3d8c657be72ab866f4b991eaf6375e72);\n",
       "        \n",
       "    \n",
       "            var icon_86281a26faecda3d041eaac8df88e60f = L.AwesomeMarkers.icon(\n",
       "                {\n",
       "  &quot;markerColor&quot;: &quot;darkblue&quot;,\n",
       "  &quot;iconColor&quot;: &quot;white&quot;,\n",
       "  &quot;icon&quot;: &quot;info-sign&quot;,\n",
       "  &quot;prefix&quot;: &quot;glyphicon&quot;,\n",
       "  &quot;extraClasses&quot;: &quot;fa-rotate-0&quot;,\n",
       "}\n",
       "            );\n",
       "            marker_e04cb8b78bbabc00d32d65819dfe12dc.setIcon(icon_86281a26faecda3d041eaac8df88e60f);\n",
       "        \n",
       "    \n",
       "        var popup_fa61a3b9e3952cc44faee186a678317c = L.popup({\n",
       "  &quot;maxWidth&quot;: &quot;100%&quot;,\n",
       "});\n",
       "\n",
       "        \n",
       "            \n",
       "                var html_63e3808fa46e72fba55719b622fb11bc = $(`&lt;div id=&quot;html_63e3808fa46e72fba55719b622fb11bc&quot; style=&quot;width: 100.0%; height: 100.0%;&quot;&gt;Hábitat&lt;/div&gt;`)[0];\n",
       "                popup_fa61a3b9e3952cc44faee186a678317c.setContent(html_63e3808fa46e72fba55719b622fb11bc);\n",
       "            \n",
       "        \n",
       "\n",
       "        marker_e04cb8b78bbabc00d32d65819dfe12dc.bindPopup(popup_fa61a3b9e3952cc44faee186a678317c)\n",
       "        ;\n",
       "\n",
       "        \n",
       "    \n",
       "    \n",
       "            var marker_3d61573f9948ab02e4fd00047a4d5b19 = L.marker(\n",
       "                [23.131235737365408, -82.37630082066377],\n",
       "                {\n",
       "}\n",
       "            ).addTo(map_3d8c657be72ab866f4b991eaf6375e72);\n",
       "        \n",
       "    \n",
       "            var icon_47d8656166b37d1eacbfc2c390eef3ef = L.AwesomeMarkers.icon(\n",
       "                {\n",
       "  &quot;markerColor&quot;: &quot;darkblue&quot;,\n",
       "  &quot;iconColor&quot;: &quot;white&quot;,\n",
       "  &quot;icon&quot;: &quot;info-sign&quot;,\n",
       "  &quot;prefix&quot;: &quot;glyphicon&quot;,\n",
       "  &quot;extraClasses&quot;: &quot;fa-rotate-0&quot;,\n",
       "}\n",
       "            );\n",
       "            marker_3d61573f9948ab02e4fd00047a4d5b19.setIcon(icon_47d8656166b37d1eacbfc2c390eef3ef);\n",
       "        \n",
       "    \n",
       "        var popup_ca3216eaac735b63c0963feecf8623e0 = L.popup({\n",
       "  &quot;maxWidth&quot;: &quot;100%&quot;,\n",
       "});\n",
       "\n",
       "        \n",
       "            \n",
       "                var html_352394181f09fe18c1ffbc1e420bf3c3 = $(`&lt;div id=&quot;html_352394181f09fe18c1ffbc1e420bf3c3&quot; style=&quot;width: 100.0%; height: 100.0%;&quot;&gt;Hamburgo&lt;/div&gt;`)[0];\n",
       "                popup_ca3216eaac735b63c0963feecf8623e0.setContent(html_352394181f09fe18c1ffbc1e420bf3c3);\n",
       "            \n",
       "        \n",
       "\n",
       "        marker_3d61573f9948ab02e4fd00047a4d5b19.bindPopup(popup_ca3216eaac735b63c0963feecf8623e0)\n",
       "        ;\n",
       "\n",
       "        \n",
       "    \n",
       "    \n",
       "            var marker_cefe568bb5e08fb13619a1d1f7c93d4e = L.marker(\n",
       "                [23.157394129476703, -82.28044181790841],\n",
       "                {\n",
       "}\n",
       "            ).addTo(map_3d8c657be72ab866f4b991eaf6375e72);\n",
       "        \n",
       "    \n",
       "            var icon_4e37129a9c11339b054869a99e87012e = L.AwesomeMarkers.icon(\n",
       "                {\n",
       "  &quot;markerColor&quot;: &quot;darkblue&quot;,\n",
       "  &quot;iconColor&quot;: &quot;white&quot;,\n",
       "  &quot;icon&quot;: &quot;info-sign&quot;,\n",
       "  &quot;prefix&quot;: &quot;glyphicon&quot;,\n",
       "  &quot;extraClasses&quot;: &quot;fa-rotate-0&quot;,\n",
       "}\n",
       "            );\n",
       "            marker_cefe568bb5e08fb13619a1d1f7c93d4e.setIcon(icon_4e37129a9c11339b054869a99e87012e);\n",
       "        \n",
       "    \n",
       "        var popup_a28a3ca8280e0ea4dac2855dd89fe94b = L.popup({\n",
       "  &quot;maxWidth&quot;: &quot;100%&quot;,\n",
       "});\n",
       "\n",
       "        \n",
       "            \n",
       "                var html_97de361e2e9039c123c0a9750e6e018d = $(`&lt;div id=&quot;html_97de361e2e9039c123c0a9750e6e018d&quot; style=&quot;width: 100.0%; height: 100.0%;&quot;&gt;Ranchon Hanoi&lt;/div&gt;`)[0];\n",
       "                popup_a28a3ca8280e0ea4dac2855dd89fe94b.setContent(html_97de361e2e9039c123c0a9750e6e018d);\n",
       "            \n",
       "        \n",
       "\n",
       "        marker_cefe568bb5e08fb13619a1d1f7c93d4e.bindPopup(popup_a28a3ca8280e0ea4dac2855dd89fe94b)\n",
       "        ;\n",
       "\n",
       "        \n",
       "    \n",
       "    \n",
       "            var marker_677e36af96b63b63db5d7341286e604b = L.marker(\n",
       "                [23.102013500945667, -82.43068481917766],\n",
       "                {\n",
       "}\n",
       "            ).addTo(map_3d8c657be72ab866f4b991eaf6375e72);\n",
       "        \n",
       "    \n",
       "            var icon_79b38b4a7163881b2f54894c869b6327 = L.AwesomeMarkers.icon(\n",
       "                {\n",
       "  &quot;markerColor&quot;: &quot;darkblue&quot;,\n",
       "  &quot;iconColor&quot;: &quot;white&quot;,\n",
       "  &quot;icon&quot;: &quot;info-sign&quot;,\n",
       "  &quot;prefix&quot;: &quot;glyphicon&quot;,\n",
       "  &quot;extraClasses&quot;: &quot;fa-rotate-0&quot;,\n",
       "}\n",
       "            );\n",
       "            marker_677e36af96b63b63db5d7341286e604b.setIcon(icon_79b38b4a7163881b2f54894c869b6327);\n",
       "        \n",
       "    \n",
       "        var popup_baaf7aa186b3470df32eea41a1161810 = L.popup({\n",
       "  &quot;maxWidth&quot;: &quot;100%&quot;,\n",
       "});\n",
       "\n",
       "        \n",
       "            \n",
       "                var html_282f41f933b688c9081949f4d46918a3 = $(`&lt;div id=&quot;html_282f41f933b688c9081949f4d46918a3&quot; style=&quot;width: 100.0%; height: 100.0%;&quot;&gt;Home Deli&lt;/div&gt;`)[0];\n",
       "                popup_baaf7aa186b3470df32eea41a1161810.setContent(html_282f41f933b688c9081949f4d46918a3);\n",
       "            \n",
       "        \n",
       "\n",
       "        marker_677e36af96b63b63db5d7341286e604b.bindPopup(popup_baaf7aa186b3470df32eea41a1161810)\n",
       "        ;\n",
       "\n",
       "        \n",
       "    \n",
       "    \n",
       "            var marker_995d1ac313d31a8bfba2d89c5526f451 = L.marker(\n",
       "                [23.135420733511385, -82.37831753600521],\n",
       "                {\n",
       "}\n",
       "            ).addTo(map_3d8c657be72ab866f4b991eaf6375e72);\n",
       "        \n",
       "    \n",
       "            var icon_0631f8a16bfe0b24c40556016ca09c4e = L.AwesomeMarkers.icon(\n",
       "                {\n",
       "  &quot;markerColor&quot;: &quot;darkblue&quot;,\n",
       "  &quot;iconColor&quot;: &quot;white&quot;,\n",
       "  &quot;icon&quot;: &quot;info-sign&quot;,\n",
       "  &quot;prefix&quot;: &quot;glyphicon&quot;,\n",
       "  &quot;extraClasses&quot;: &quot;fa-rotate-0&quot;,\n",
       "}\n",
       "            );\n",
       "            marker_995d1ac313d31a8bfba2d89c5526f451.setIcon(icon_0631f8a16bfe0b24c40556016ca09c4e);\n",
       "        \n",
       "    \n",
       "        var popup_f6b81228a535c97629598b114cb53ff7 = L.popup({\n",
       "  &quot;maxWidth&quot;: &quot;100%&quot;,\n",
       "});\n",
       "\n",
       "        \n",
       "            \n",
       "                var html_07f2d4bf036f12293d0474debd6d0dd4 = $(`&lt;div id=&quot;html_07f2d4bf036f12293d0474debd6d0dd4&quot; style=&quot;width: 100.0%; height: 100.0%;&quot;&gt;Infanta 560&lt;/div&gt;`)[0];\n",
       "                popup_f6b81228a535c97629598b114cb53ff7.setContent(html_07f2d4bf036f12293d0474debd6d0dd4);\n",
       "            \n",
       "        \n",
       "\n",
       "        marker_995d1ac313d31a8bfba2d89c5526f451.bindPopup(popup_f6b81228a535c97629598b114cb53ff7)\n",
       "        ;\n",
       "\n",
       "        \n",
       "    \n",
       "    \n",
       "            var marker_1676ab3f393ee313838375a727e752da = L.marker(\n",
       "                [23.138905560172887, -82.37656169182799],\n",
       "                {\n",
       "}\n",
       "            ).addTo(map_3d8c657be72ab866f4b991eaf6375e72);\n",
       "        \n",
       "    \n",
       "            var icon_1202422bcd193b7370f7c621769dc60c = L.AwesomeMarkers.icon(\n",
       "                {\n",
       "  &quot;markerColor&quot;: &quot;darkblue&quot;,\n",
       "  &quot;iconColor&quot;: &quot;white&quot;,\n",
       "  &quot;icon&quot;: &quot;info-sign&quot;,\n",
       "  &quot;prefix&quot;: &quot;glyphicon&quot;,\n",
       "  &quot;extraClasses&quot;: &quot;fa-rotate-0&quot;,\n",
       "}\n",
       "            );\n",
       "            marker_1676ab3f393ee313838375a727e752da.setIcon(icon_1202422bcd193b7370f7c621769dc60c);\n",
       "        \n",
       "    \n",
       "        var popup_6173dadc4cf567d127490e915fbffb22 = L.popup({\n",
       "  &quot;maxWidth&quot;: &quot;100%&quot;,\n",
       "});\n",
       "\n",
       "        \n",
       "            \n",
       "                var html_541f2b8cbb6fe12cc1a3192e88ae6c8e = $(`&lt;div id=&quot;html_541f2b8cbb6fe12cc1a3192e88ae6c8e&quot; style=&quot;width: 100.0%; height: 100.0%;&quot;&gt;Ivonne Café&lt;/div&gt;`)[0];\n",
       "                popup_6173dadc4cf567d127490e915fbffb22.setContent(html_541f2b8cbb6fe12cc1a3192e88ae6c8e);\n",
       "            \n",
       "        \n",
       "\n",
       "        marker_1676ab3f393ee313838375a727e752da.bindPopup(popup_6173dadc4cf567d127490e915fbffb22)\n",
       "        ;\n",
       "\n",
       "        \n",
       "    \n",
       "    \n",
       "            var marker_71dd5281c5644e6e45fb87f53c35a6a0 = L.marker(\n",
       "                [23.166692944550768, -82.27760819382989],\n",
       "                {\n",
       "}\n",
       "            ).addTo(map_3d8c657be72ab866f4b991eaf6375e72);\n",
       "        \n",
       "    \n",
       "            var icon_b49764ce6e7907ea739c860948dddf81 = L.AwesomeMarkers.icon(\n",
       "                {\n",
       "  &quot;markerColor&quot;: &quot;darkblue&quot;,\n",
       "  &quot;iconColor&quot;: &quot;white&quot;,\n",
       "  &quot;icon&quot;: &quot;info-sign&quot;,\n",
       "  &quot;prefix&quot;: &quot;glyphicon&quot;,\n",
       "  &quot;extraClasses&quot;: &quot;fa-rotate-0&quot;,\n",
       "}\n",
       "            );\n",
       "            marker_71dd5281c5644e6e45fb87f53c35a6a0.setIcon(icon_b49764ce6e7907ea739c860948dddf81);\n",
       "        \n",
       "    \n",
       "        var popup_5f71cd997d02e76bc31e5dc0a7749461 = L.popup({\n",
       "  &quot;maxWidth&quot;: &quot;100%&quot;,\n",
       "});\n",
       "\n",
       "        \n",
       "            \n",
       "                var html_3dd51421eebc5cd3de521543e7837b89 = $(`&lt;div id=&quot;html_3dd51421eebc5cd3de521543e7837b89&quot; style=&quot;width: 100.0%; height: 100.0%;&quot;&gt;JacKafé&lt;/div&gt;`)[0];\n",
       "                popup_5f71cd997d02e76bc31e5dc0a7749461.setContent(html_3dd51421eebc5cd3de521543e7837b89);\n",
       "            \n",
       "        \n",
       "\n",
       "        marker_71dd5281c5644e6e45fb87f53c35a6a0.bindPopup(popup_5f71cd997d02e76bc31e5dc0a7749461)\n",
       "        ;\n",
       "\n",
       "        \n",
       "    \n",
       "    \n",
       "            var marker_d8cd83b84585e77088a4531481d2012e = L.marker(\n",
       "                [23.08829101929028, -82.3777419915061],\n",
       "                {\n",
       "}\n",
       "            ).addTo(map_3d8c657be72ab866f4b991eaf6375e72);\n",
       "        \n",
       "    \n",
       "            var icon_012648692a30502aa82b9a1de8030237 = L.AwesomeMarkers.icon(\n",
       "                {\n",
       "  &quot;markerColor&quot;: &quot;darkblue&quot;,\n",
       "  &quot;iconColor&quot;: &quot;white&quot;,\n",
       "  &quot;icon&quot;: &quot;info-sign&quot;,\n",
       "  &quot;prefix&quot;: &quot;glyphicon&quot;,\n",
       "  &quot;extraClasses&quot;: &quot;fa-rotate-0&quot;,\n",
       "}\n",
       "            );\n",
       "            marker_d8cd83b84585e77088a4531481d2012e.setIcon(icon_012648692a30502aa82b9a1de8030237);\n",
       "        \n",
       "    \n",
       "        var popup_4c58a468da2d02f17a1333dd05e91a06 = L.popup({\n",
       "  &quot;maxWidth&quot;: &quot;100%&quot;,\n",
       "});\n",
       "\n",
       "        \n",
       "            \n",
       "                var html_e53fdb069130f4f3ea0180e81ca86322 = $(`&lt;div id=&quot;html_e53fdb069130f4f3ea0180e81ca86322&quot; style=&quot;width: 100.0%; height: 100.0%;&quot;&gt;Joe&#x27;s Burguer&lt;/div&gt;`)[0];\n",
       "                popup_4c58a468da2d02f17a1333dd05e91a06.setContent(html_e53fdb069130f4f3ea0180e81ca86322);\n",
       "            \n",
       "        \n",
       "\n",
       "        marker_d8cd83b84585e77088a4531481d2012e.bindPopup(popup_4c58a468da2d02f17a1333dd05e91a06)\n",
       "        ;\n",
       "\n",
       "        \n",
       "    \n",
       "    \n",
       "            var marker_276b49d58e009574cf8698c8417c1ef9 = L.marker(\n",
       "                [23.120895150022783, -82.37362585134757],\n",
       "                {\n",
       "}\n",
       "            ).addTo(map_3d8c657be72ab866f4b991eaf6375e72);\n",
       "        \n",
       "    \n",
       "            var icon_1f435564280aefdfc50cfcf2e0ee6554 = L.AwesomeMarkers.icon(\n",
       "                {\n",
       "  &quot;markerColor&quot;: &quot;darkblue&quot;,\n",
       "  &quot;iconColor&quot;: &quot;white&quot;,\n",
       "  &quot;icon&quot;: &quot;info-sign&quot;,\n",
       "  &quot;prefix&quot;: &quot;glyphicon&quot;,\n",
       "  &quot;extraClasses&quot;: &quot;fa-rotate-0&quot;,\n",
       "}\n",
       "            );\n",
       "            marker_276b49d58e009574cf8698c8417c1ef9.setIcon(icon_1f435564280aefdfc50cfcf2e0ee6554);\n",
       "        \n",
       "    \n",
       "        var popup_4375a30758dcc0ccaa81b7bca7579f2c = L.popup({\n",
       "  &quot;maxWidth&quot;: &quot;100%&quot;,\n",
       "});\n",
       "\n",
       "        \n",
       "            \n",
       "                var html_18874769ed629f3272ec8f96ab729438 = $(`&lt;div id=&quot;html_18874769ed629f3272ec8f96ab729438&quot; style=&quot;width: 100.0%; height: 100.0%;&quot;&gt;Jorgito&#x27;s Pizza&lt;/div&gt;`)[0];\n",
       "                popup_4375a30758dcc0ccaa81b7bca7579f2c.setContent(html_18874769ed629f3272ec8f96ab729438);\n",
       "            \n",
       "        \n",
       "\n",
       "        marker_276b49d58e009574cf8698c8417c1ef9.bindPopup(popup_4375a30758dcc0ccaa81b7bca7579f2c)\n",
       "        ;\n",
       "\n",
       "        \n",
       "    \n",
       "    \n",
       "            var marker_c817c9a03204acdf236601fe7efc24f2 = L.marker(\n",
       "                [23.130053196144022, -82.41351684242505],\n",
       "                {\n",
       "}\n",
       "            ).addTo(map_3d8c657be72ab866f4b991eaf6375e72);\n",
       "        \n",
       "    \n",
       "            var icon_4dc541306dfbe8055afe914ca89cc369 = L.AwesomeMarkers.icon(\n",
       "                {\n",
       "  &quot;markerColor&quot;: &quot;darkblue&quot;,\n",
       "  &quot;iconColor&quot;: &quot;white&quot;,\n",
       "  &quot;icon&quot;: &quot;info-sign&quot;,\n",
       "  &quot;prefix&quot;: &quot;glyphicon&quot;,\n",
       "  &quot;extraClasses&quot;: &quot;fa-rotate-0&quot;,\n",
       "}\n",
       "            );\n",
       "            marker_c817c9a03204acdf236601fe7efc24f2.setIcon(icon_4dc541306dfbe8055afe914ca89cc369);\n",
       "        \n",
       "    \n",
       "        var popup_a586571d4faf8ebe22f2a922fcf0078b = L.popup({\n",
       "  &quot;maxWidth&quot;: &quot;100%&quot;,\n",
       "});\n",
       "\n",
       "        \n",
       "            \n",
       "                var html_0c098be5436d41b0fe295f921913a644 = $(`&lt;div id=&quot;html_0c098be5436d41b0fe295f921913a644&quot; style=&quot;width: 100.0%; height: 100.0%;&quot;&gt;Jota_Jota&lt;/div&gt;`)[0];\n",
       "                popup_a586571d4faf8ebe22f2a922fcf0078b.setContent(html_0c098be5436d41b0fe295f921913a644);\n",
       "            \n",
       "        \n",
       "\n",
       "        marker_c817c9a03204acdf236601fe7efc24f2.bindPopup(popup_a586571d4faf8ebe22f2a922fcf0078b)\n",
       "        ;\n",
       "\n",
       "        \n",
       "    \n",
       "    \n",
       "            var marker_44e3b88d37621973f3a3b82e283e3bce = L.marker(\n",
       "                [23.072350868212965, -82.46030204960273],\n",
       "                {\n",
       "}\n",
       "            ).addTo(map_3d8c657be72ab866f4b991eaf6375e72);\n",
       "        \n",
       "    \n",
       "            var icon_cf2ea222dcde1cf8247f0d0b58e7770f = L.AwesomeMarkers.icon(\n",
       "                {\n",
       "  &quot;markerColor&quot;: &quot;darkblue&quot;,\n",
       "  &quot;iconColor&quot;: &quot;white&quot;,\n",
       "  &quot;icon&quot;: &quot;info-sign&quot;,\n",
       "  &quot;prefix&quot;: &quot;glyphicon&quot;,\n",
       "  &quot;extraClasses&quot;: &quot;fa-rotate-0&quot;,\n",
       "}\n",
       "            );\n",
       "            marker_44e3b88d37621973f3a3b82e283e3bce.setIcon(icon_cf2ea222dcde1cf8247f0d0b58e7770f);\n",
       "        \n",
       "    \n",
       "        var popup_3d3ce91d36f1c7d9b6ce7628b1e6fad6 = L.popup({\n",
       "  &quot;maxWidth&quot;: &quot;100%&quot;,\n",
       "});\n",
       "\n",
       "        \n",
       "            \n",
       "                var html_c3b3574f274d0ab2ed13251258828e93 = $(`&lt;div id=&quot;html_c3b3574f274d0ab2ed13251258828e93&quot; style=&quot;width: 100.0%; height: 100.0%;&quot;&gt;Juanky&#x27;s Pan&lt;/div&gt;`)[0];\n",
       "                popup_3d3ce91d36f1c7d9b6ce7628b1e6fad6.setContent(html_c3b3574f274d0ab2ed13251258828e93);\n",
       "            \n",
       "        \n",
       "\n",
       "        marker_44e3b88d37621973f3a3b82e283e3bce.bindPopup(popup_3d3ce91d36f1c7d9b6ce7628b1e6fad6)\n",
       "        ;\n",
       "\n",
       "        \n",
       "    \n",
       "    \n",
       "            var marker_86bdbabe52e8bc57f62f915c1bc2173c = L.marker(\n",
       "                [23.139644726614794, -82.3755633828391],\n",
       "                {\n",
       "}\n",
       "            ).addTo(map_3d8c657be72ab866f4b991eaf6375e72);\n",
       "        \n",
       "    \n",
       "            var icon_65559d2954fb5bed75b9bdac4fa2ec72 = L.AwesomeMarkers.icon(\n",
       "                {\n",
       "  &quot;markerColor&quot;: &quot;darkblue&quot;,\n",
       "  &quot;iconColor&quot;: &quot;white&quot;,\n",
       "  &quot;icon&quot;: &quot;info-sign&quot;,\n",
       "  &quot;prefix&quot;: &quot;glyphicon&quot;,\n",
       "  &quot;extraClasses&quot;: &quot;fa-rotate-0&quot;,\n",
       "}\n",
       "            );\n",
       "            marker_86bdbabe52e8bc57f62f915c1bc2173c.setIcon(icon_65559d2954fb5bed75b9bdac4fa2ec72);\n",
       "        \n",
       "    \n",
       "        var popup_443a3cc78122e9cc5733094c8f7fd168 = L.popup({\n",
       "  &quot;maxWidth&quot;: &quot;100%&quot;,\n",
       "});\n",
       "\n",
       "        \n",
       "            \n",
       "                var html_e45f14f3e3cbd1a4e1c337d949fbcd05 = $(`&lt;div id=&quot;html_e45f14f3e3cbd1a4e1c337d949fbcd05&quot; style=&quot;width: 100.0%; height: 100.0%;&quot;&gt;Kasa Takos&lt;/div&gt;`)[0];\n",
       "                popup_443a3cc78122e9cc5733094c8f7fd168.setContent(html_e45f14f3e3cbd1a4e1c337d949fbcd05);\n",
       "            \n",
       "        \n",
       "\n",
       "        marker_86bdbabe52e8bc57f62f915c1bc2173c.bindPopup(popup_443a3cc78122e9cc5733094c8f7fd168)\n",
       "        ;\n",
       "\n",
       "        \n",
       "    \n",
       "    \n",
       "            var marker_6a007bf7c022b1df43b6a747ddfc40fa = L.marker(\n",
       "                [23.006576332931576, -82.39373693105946],\n",
       "                {\n",
       "}\n",
       "            ).addTo(map_3d8c657be72ab866f4b991eaf6375e72);\n",
       "        \n",
       "    \n",
       "            var icon_d2036ec222a1617bd9360cd25667fd69 = L.AwesomeMarkers.icon(\n",
       "                {\n",
       "  &quot;markerColor&quot;: &quot;darkblue&quot;,\n",
       "  &quot;iconColor&quot;: &quot;white&quot;,\n",
       "  &quot;icon&quot;: &quot;info-sign&quot;,\n",
       "  &quot;prefix&quot;: &quot;glyphicon&quot;,\n",
       "  &quot;extraClasses&quot;: &quot;fa-rotate-0&quot;,\n",
       "}\n",
       "            );\n",
       "            marker_6a007bf7c022b1df43b6a747ddfc40fa.setIcon(icon_d2036ec222a1617bd9360cd25667fd69);\n",
       "        \n",
       "    \n",
       "        var popup_34583593d9c3492d661415894d26c487 = L.popup({\n",
       "  &quot;maxWidth&quot;: &quot;100%&quot;,\n",
       "});\n",
       "\n",
       "        \n",
       "            \n",
       "                var html_6b452eff9012fb75965a7b9139f88624 = $(`&lt;div id=&quot;html_6b452eff9012fb75965a7b9139f88624&quot; style=&quot;width: 100.0%; height: 100.0%;&quot;&gt;Kmpary&lt;/div&gt;`)[0];\n",
       "                popup_34583593d9c3492d661415894d26c487.setContent(html_6b452eff9012fb75965a7b9139f88624);\n",
       "            \n",
       "        \n",
       "\n",
       "        marker_6a007bf7c022b1df43b6a747ddfc40fa.bindPopup(popup_34583593d9c3492d661415894d26c487)\n",
       "        ;\n",
       "\n",
       "        \n",
       "    \n",
       "    \n",
       "            var marker_f6bf4f5c60aaaf08cf56148264dac48e = L.marker(\n",
       "                [23.16957153159522, -82.13720147859289],\n",
       "                {\n",
       "}\n",
       "            ).addTo(map_3d8c657be72ab866f4b991eaf6375e72);\n",
       "        \n",
       "    \n",
       "            var icon_c74913b56793df26fcb320ac43409e86 = L.AwesomeMarkers.icon(\n",
       "                {\n",
       "  &quot;markerColor&quot;: &quot;darkblue&quot;,\n",
       "  &quot;iconColor&quot;: &quot;white&quot;,\n",
       "  &quot;icon&quot;: &quot;info-sign&quot;,\n",
       "  &quot;prefix&quot;: &quot;glyphicon&quot;,\n",
       "  &quot;extraClasses&quot;: &quot;fa-rotate-0&quot;,\n",
       "}\n",
       "            );\n",
       "            marker_f6bf4f5c60aaaf08cf56148264dac48e.setIcon(icon_c74913b56793df26fcb320ac43409e86);\n",
       "        \n",
       "    \n",
       "        var popup_09f64d23fc6b42e2c24c77c441ed7560 = L.popup({\n",
       "  &quot;maxWidth&quot;: &quot;100%&quot;,\n",
       "});\n",
       "\n",
       "        \n",
       "            \n",
       "                var html_266390bd88d63f943b0551beb8a33b3e = $(`&lt;div id=&quot;html_266390bd88d63f943b0551beb8a33b3e&quot; style=&quot;width: 100.0%; height: 100.0%;&quot;&gt;Kopas&lt;/div&gt;`)[0];\n",
       "                popup_09f64d23fc6b42e2c24c77c441ed7560.setContent(html_266390bd88d63f943b0551beb8a33b3e);\n",
       "            \n",
       "        \n",
       "\n",
       "        marker_f6bf4f5c60aaaf08cf56148264dac48e.bindPopup(popup_09f64d23fc6b42e2c24c77c441ed7560)\n",
       "        ;\n",
       "\n",
       "        \n",
       "    \n",
       "    \n",
       "            var marker_d950c3ee6742517965c285571ae1d687 = L.marker(\n",
       "                [23.07978553070381, -82.3203789919885],\n",
       "                {\n",
       "}\n",
       "            ).addTo(map_3d8c657be72ab866f4b991eaf6375e72);\n",
       "        \n",
       "    \n",
       "            var icon_5dfe44f74e80836d3822f34592fc71d9 = L.AwesomeMarkers.icon(\n",
       "                {\n",
       "  &quot;markerColor&quot;: &quot;darkblue&quot;,\n",
       "  &quot;iconColor&quot;: &quot;white&quot;,\n",
       "  &quot;icon&quot;: &quot;info-sign&quot;,\n",
       "  &quot;prefix&quot;: &quot;glyphicon&quot;,\n",
       "  &quot;extraClasses&quot;: &quot;fa-rotate-0&quot;,\n",
       "}\n",
       "            );\n",
       "            marker_d950c3ee6742517965c285571ae1d687.setIcon(icon_5dfe44f74e80836d3822f34592fc71d9);\n",
       "        \n",
       "    \n",
       "        var popup_632729c916f41392de879482280d6fd0 = L.popup({\n",
       "  &quot;maxWidth&quot;: &quot;100%&quot;,\n",
       "});\n",
       "\n",
       "        \n",
       "            \n",
       "                var html_52acb631d852e0dab50872f3755cb19f = $(`&lt;div id=&quot;html_52acb631d852e0dab50872f3755cb19f&quot; style=&quot;width: 100.0%; height: 100.0%;&quot;&gt;KY-13&lt;/div&gt;`)[0];\n",
       "                popup_632729c916f41392de879482280d6fd0.setContent(html_52acb631d852e0dab50872f3755cb19f);\n",
       "            \n",
       "        \n",
       "\n",
       "        marker_d950c3ee6742517965c285571ae1d687.bindPopup(popup_632729c916f41392de879482280d6fd0)\n",
       "        ;\n",
       "\n",
       "        \n",
       "    \n",
       "    \n",
       "            var marker_7f5cedaf8c2bf71c8354dc3ade76b7f3 = L.marker(\n",
       "                [23.121985720348754, -82.3738952629934],\n",
       "                {\n",
       "}\n",
       "            ).addTo(map_3d8c657be72ab866f4b991eaf6375e72);\n",
       "        \n",
       "    \n",
       "            var icon_75a4654c583f914307f9a7a598d62c42 = L.AwesomeMarkers.icon(\n",
       "                {\n",
       "  &quot;markerColor&quot;: &quot;darkblue&quot;,\n",
       "  &quot;iconColor&quot;: &quot;white&quot;,\n",
       "  &quot;icon&quot;: &quot;info-sign&quot;,\n",
       "  &quot;prefix&quot;: &quot;glyphicon&quot;,\n",
       "  &quot;extraClasses&quot;: &quot;fa-rotate-0&quot;,\n",
       "}\n",
       "            );\n",
       "            marker_7f5cedaf8c2bf71c8354dc3ade76b7f3.setIcon(icon_75a4654c583f914307f9a7a598d62c42);\n",
       "        \n",
       "    \n",
       "        var popup_61f3220fe41dd139e446bf01ca1773c3 = L.popup({\n",
       "  &quot;maxWidth&quot;: &quot;100%&quot;,\n",
       "});\n",
       "\n",
       "        \n",
       "            \n",
       "                var html_fcaf14e7f3f41fc02bfec80336189f60 = $(`&lt;div id=&quot;html_fcaf14e7f3f41fc02bfec80336189f60&quot; style=&quot;width: 100.0%; height: 100.0%;&quot;&gt;La Barrita Onbazar&lt;/div&gt;`)[0];\n",
       "                popup_61f3220fe41dd139e446bf01ca1773c3.setContent(html_fcaf14e7f3f41fc02bfec80336189f60);\n",
       "            \n",
       "        \n",
       "\n",
       "        marker_7f5cedaf8c2bf71c8354dc3ade76b7f3.bindPopup(popup_61f3220fe41dd139e446bf01ca1773c3)\n",
       "        ;\n",
       "\n",
       "        \n",
       "    \n",
       "    \n",
       "            var marker_c68cb81806ba2a640f46c00bd3667a87 = L.marker(\n",
       "                [23.13993175557732, -82.38537118924619],\n",
       "                {\n",
       "}\n",
       "            ).addTo(map_3d8c657be72ab866f4b991eaf6375e72);\n",
       "        \n",
       "    \n",
       "            var icon_bc7e6b4939cc0ae73e6af1247dd78b7f = L.AwesomeMarkers.icon(\n",
       "                {\n",
       "  &quot;markerColor&quot;: &quot;darkblue&quot;,\n",
       "  &quot;iconColor&quot;: &quot;white&quot;,\n",
       "  &quot;icon&quot;: &quot;info-sign&quot;,\n",
       "  &quot;prefix&quot;: &quot;glyphicon&quot;,\n",
       "  &quot;extraClasses&quot;: &quot;fa-rotate-0&quot;,\n",
       "}\n",
       "            );\n",
       "            marker_c68cb81806ba2a640f46c00bd3667a87.setIcon(icon_bc7e6b4939cc0ae73e6af1247dd78b7f);\n",
       "        \n",
       "    \n",
       "        var popup_7b7e15d0220a5257ec25a08dea40120b = L.popup({\n",
       "  &quot;maxWidth&quot;: &quot;100%&quot;,\n",
       "});\n",
       "\n",
       "        \n",
       "            \n",
       "                var html_ae729cf770422578a001a351d71f58d0 = $(`&lt;div id=&quot;html_ae729cf770422578a001a351d71f58d0&quot; style=&quot;width: 100.0%; height: 100.0%;&quot;&gt;La Carreta&lt;/div&gt;`)[0];\n",
       "                popup_7b7e15d0220a5257ec25a08dea40120b.setContent(html_ae729cf770422578a001a351d71f58d0);\n",
       "            \n",
       "        \n",
       "\n",
       "        marker_c68cb81806ba2a640f46c00bd3667a87.bindPopup(popup_7b7e15d0220a5257ec25a08dea40120b)\n",
       "        ;\n",
       "\n",
       "        \n",
       "    \n",
       "    \n",
       "            var marker_a6b89f6332b75707b8f14792c6eff542 = L.marker(\n",
       "                [23.135892638151837, -82.40453312083959],\n",
       "                {\n",
       "}\n",
       "            ).addTo(map_3d8c657be72ab866f4b991eaf6375e72);\n",
       "        \n",
       "    \n",
       "            var icon_f665ee84c96671f587c820cfaff4cdc9 = L.AwesomeMarkers.icon(\n",
       "                {\n",
       "  &quot;markerColor&quot;: &quot;darkblue&quot;,\n",
       "  &quot;iconColor&quot;: &quot;white&quot;,\n",
       "  &quot;icon&quot;: &quot;info-sign&quot;,\n",
       "  &quot;prefix&quot;: &quot;glyphicon&quot;,\n",
       "  &quot;extraClasses&quot;: &quot;fa-rotate-0&quot;,\n",
       "}\n",
       "            );\n",
       "            marker_a6b89f6332b75707b8f14792c6eff542.setIcon(icon_f665ee84c96671f587c820cfaff4cdc9);\n",
       "        \n",
       "    \n",
       "        var popup_8b90396d2a38db521c5272d9eb4535f8 = L.popup({\n",
       "  &quot;maxWidth&quot;: &quot;100%&quot;,\n",
       "});\n",
       "\n",
       "        \n",
       "            \n",
       "                var html_18f195978f1ef1b98266f886361d8659 = $(`&lt;div id=&quot;html_18f195978f1ef1b98266f886361d8659&quot; style=&quot;width: 100.0%; height: 100.0%;&quot;&gt;La Catedral&lt;/div&gt;`)[0];\n",
       "                popup_8b90396d2a38db521c5272d9eb4535f8.setContent(html_18f195978f1ef1b98266f886361d8659);\n",
       "            \n",
       "        \n",
       "\n",
       "        marker_a6b89f6332b75707b8f14792c6eff542.bindPopup(popup_8b90396d2a38db521c5272d9eb4535f8)\n",
       "        ;\n",
       "\n",
       "        \n",
       "    \n",
       "    \n",
       "            var marker_514700d4ccaadb9dba0213ccd98b4455 = L.marker(\n",
       "                [23.10190135728949, -82.37499586631485],\n",
       "                {\n",
       "}\n",
       "            ).addTo(map_3d8c657be72ab866f4b991eaf6375e72);\n",
       "        \n",
       "    \n",
       "            var icon_02b8f95ca4edc5ad51c5b404276c7897 = L.AwesomeMarkers.icon(\n",
       "                {\n",
       "  &quot;markerColor&quot;: &quot;darkblue&quot;,\n",
       "  &quot;iconColor&quot;: &quot;white&quot;,\n",
       "  &quot;icon&quot;: &quot;info-sign&quot;,\n",
       "  &quot;prefix&quot;: &quot;glyphicon&quot;,\n",
       "  &quot;extraClasses&quot;: &quot;fa-rotate-0&quot;,\n",
       "}\n",
       "            );\n",
       "            marker_514700d4ccaadb9dba0213ccd98b4455.setIcon(icon_02b8f95ca4edc5ad51c5b404276c7897);\n",
       "        \n",
       "    \n",
       "        var popup_18d80860debe1c9614991a387848ac9b = L.popup({\n",
       "  &quot;maxWidth&quot;: &quot;100%&quot;,\n",
       "});\n",
       "\n",
       "        \n",
       "            \n",
       "                var html_eec8493bf2d7b4d0c50a5373b40ae48b = $(`&lt;div id=&quot;html_eec8493bf2d7b4d0c50a5373b40ae48b&quot; style=&quot;width: 100.0%; height: 100.0%;&quot;&gt;Lacret 559&lt;/div&gt;`)[0];\n",
       "                popup_18d80860debe1c9614991a387848ac9b.setContent(html_eec8493bf2d7b4d0c50a5373b40ae48b);\n",
       "            \n",
       "        \n",
       "\n",
       "        marker_514700d4ccaadb9dba0213ccd98b4455.bindPopup(popup_18d80860debe1c9614991a387848ac9b)\n",
       "        ;\n",
       "\n",
       "        \n",
       "    \n",
       "    \n",
       "            var marker_ec65b20588509b89838e64c5f9b6ae61 = L.marker(\n",
       "                [23.124529609158262, -82.3276779397017],\n",
       "                {\n",
       "}\n",
       "            ).addTo(map_3d8c657be72ab866f4b991eaf6375e72);\n",
       "        \n",
       "    \n",
       "            var icon_90b33c86b2663ab103ad59483ca2622a = L.AwesomeMarkers.icon(\n",
       "                {\n",
       "  &quot;markerColor&quot;: &quot;darkblue&quot;,\n",
       "  &quot;iconColor&quot;: &quot;white&quot;,\n",
       "  &quot;icon&quot;: &quot;info-sign&quot;,\n",
       "  &quot;prefix&quot;: &quot;glyphicon&quot;,\n",
       "  &quot;extraClasses&quot;: &quot;fa-rotate-0&quot;,\n",
       "}\n",
       "            );\n",
       "            marker_ec65b20588509b89838e64c5f9b6ae61.setIcon(icon_90b33c86b2663ab103ad59483ca2622a);\n",
       "        \n",
       "    \n",
       "        var popup_36cfb28bce2f5a400706e5fac2c16a8d = L.popup({\n",
       "  &quot;maxWidth&quot;: &quot;100%&quot;,\n",
       "});\n",
       "\n",
       "        \n",
       "            \n",
       "                var html_ff337025e0bc4da39d5c312c9a4f642b = $(`&lt;div id=&quot;html_ff337025e0bc4da39d5c312c9a4f642b&quot; style=&quot;width: 100.0%; height: 100.0%;&quot;&gt;La Guitarreta&lt;/div&gt;`)[0];\n",
       "                popup_36cfb28bce2f5a400706e5fac2c16a8d.setContent(html_ff337025e0bc4da39d5c312c9a4f642b);\n",
       "            \n",
       "        \n",
       "\n",
       "        marker_ec65b20588509b89838e64c5f9b6ae61.bindPopup(popup_36cfb28bce2f5a400706e5fac2c16a8d)\n",
       "        ;\n",
       "\n",
       "        \n",
       "    \n",
       "    \n",
       "            var marker_9d3eacd8ab21c69502501146abf92847 = L.marker(\n",
       "                [23.135543401312233, -82.3644565648407],\n",
       "                {\n",
       "}\n",
       "            ).addTo(map_3d8c657be72ab866f4b991eaf6375e72);\n",
       "        \n",
       "    \n",
       "            var icon_a83fddb7579f26af2a132d09281695f0 = L.AwesomeMarkers.icon(\n",
       "                {\n",
       "  &quot;markerColor&quot;: &quot;darkblue&quot;,\n",
       "  &quot;iconColor&quot;: &quot;white&quot;,\n",
       "  &quot;icon&quot;: &quot;info-sign&quot;,\n",
       "  &quot;prefix&quot;: &quot;glyphicon&quot;,\n",
       "  &quot;extraClasses&quot;: &quot;fa-rotate-0&quot;,\n",
       "}\n",
       "            );\n",
       "            marker_9d3eacd8ab21c69502501146abf92847.setIcon(icon_a83fddb7579f26af2a132d09281695f0);\n",
       "        \n",
       "    \n",
       "        var popup_4d9b60503ede05a3323e2cf6aa854c8a = L.popup({\n",
       "  &quot;maxWidth&quot;: &quot;100%&quot;,\n",
       "});\n",
       "\n",
       "        \n",
       "            \n",
       "                var html_71dfeb53973cdce94d2b240aad3c5865 = $(`&lt;div id=&quot;html_71dfeb53973cdce94d2b240aad3c5865&quot; style=&quot;width: 100.0%; height: 100.0%;&quot;&gt;La Juliana&lt;/div&gt;`)[0];\n",
       "                popup_4d9b60503ede05a3323e2cf6aa854c8a.setContent(html_71dfeb53973cdce94d2b240aad3c5865);\n",
       "            \n",
       "        \n",
       "\n",
       "        marker_9d3eacd8ab21c69502501146abf92847.bindPopup(popup_4d9b60503ede05a3323e2cf6aa854c8a)\n",
       "        ;\n",
       "\n",
       "        \n",
       "    \n",
       "    \n",
       "            var marker_998294a1f5a727120cfc7176de2ffa86 = L.marker(\n",
       "                [23.11990973944172, -82.38314468033592],\n",
       "                {\n",
       "}\n",
       "            ).addTo(map_3d8c657be72ab866f4b991eaf6375e72);\n",
       "        \n",
       "    \n",
       "            var icon_d80eb56aec0e3b0eb18bedc9fabd2bc4 = L.AwesomeMarkers.icon(\n",
       "                {\n",
       "  &quot;markerColor&quot;: &quot;darkblue&quot;,\n",
       "  &quot;iconColor&quot;: &quot;white&quot;,\n",
       "  &quot;icon&quot;: &quot;info-sign&quot;,\n",
       "  &quot;prefix&quot;: &quot;glyphicon&quot;,\n",
       "  &quot;extraClasses&quot;: &quot;fa-rotate-0&quot;,\n",
       "}\n",
       "            );\n",
       "            marker_998294a1f5a727120cfc7176de2ffa86.setIcon(icon_d80eb56aec0e3b0eb18bedc9fabd2bc4);\n",
       "        \n",
       "    \n",
       "        var popup_6f85aa83943f06286ef75d3953f2a74d = L.popup({\n",
       "  &quot;maxWidth&quot;: &quot;100%&quot;,\n",
       "});\n",
       "\n",
       "        \n",
       "            \n",
       "                var html_a8029cfc6455c345273bb5d990882611 = $(`&lt;div id=&quot;html_a8029cfc6455c345273bb5d990882611&quot; style=&quot;width: 100.0%; height: 100.0%;&quot;&gt;La Lola&lt;/div&gt;`)[0];\n",
       "                popup_6f85aa83943f06286ef75d3953f2a74d.setContent(html_a8029cfc6455c345273bb5d990882611);\n",
       "            \n",
       "        \n",
       "\n",
       "        marker_998294a1f5a727120cfc7176de2ffa86.bindPopup(popup_6f85aa83943f06286ef75d3953f2a74d)\n",
       "        ;\n",
       "\n",
       "        \n",
       "    \n",
       "    \n",
       "            var marker_f282e12203b1274f82c9a694f77ea16f = L.marker(\n",
       "                [23.134370150762123, -82.3682591198702],\n",
       "                {\n",
       "}\n",
       "            ).addTo(map_3d8c657be72ab866f4b991eaf6375e72);\n",
       "        \n",
       "    \n",
       "            var icon_a6a794374490e83d5f3ad7dcd01e1451 = L.AwesomeMarkers.icon(\n",
       "                {\n",
       "  &quot;markerColor&quot;: &quot;darkblue&quot;,\n",
       "  &quot;iconColor&quot;: &quot;white&quot;,\n",
       "  &quot;icon&quot;: &quot;info-sign&quot;,\n",
       "  &quot;prefix&quot;: &quot;glyphicon&quot;,\n",
       "  &quot;extraClasses&quot;: &quot;fa-rotate-0&quot;,\n",
       "}\n",
       "            );\n",
       "            marker_f282e12203b1274f82c9a694f77ea16f.setIcon(icon_a6a794374490e83d5f3ad7dcd01e1451);\n",
       "        \n",
       "    \n",
       "        var popup_c2ae6311242149a96a393a2c69af42ed = L.popup({\n",
       "  &quot;maxWidth&quot;: &quot;100%&quot;,\n",
       "});\n",
       "\n",
       "        \n",
       "            \n",
       "                var html_550683dce9111c5c5fa05dd24d28e65d = $(`&lt;div id=&quot;html_550683dce9111c5c5fa05dd24d28e65d&quot; style=&quot;width: 100.0%; height: 100.0%;&quot;&gt;Mimosa&lt;/div&gt;`)[0];\n",
       "                popup_c2ae6311242149a96a393a2c69af42ed.setContent(html_550683dce9111c5c5fa05dd24d28e65d);\n",
       "            \n",
       "        \n",
       "\n",
       "        marker_f282e12203b1274f82c9a694f77ea16f.bindPopup(popup_c2ae6311242149a96a393a2c69af42ed)\n",
       "        ;\n",
       "\n",
       "        \n",
       "    \n",
       "    \n",
       "            var marker_7097ea02b6b3f6ff8b29098b6945e92b = L.marker(\n",
       "                [23.127810894630507, -82.39959798623943],\n",
       "                {\n",
       "}\n",
       "            ).addTo(map_3d8c657be72ab866f4b991eaf6375e72);\n",
       "        \n",
       "    \n",
       "            var icon_fd640728fda0563500a55bd212f3f865 = L.AwesomeMarkers.icon(\n",
       "                {\n",
       "  &quot;markerColor&quot;: &quot;darkblue&quot;,\n",
       "  &quot;iconColor&quot;: &quot;white&quot;,\n",
       "  &quot;icon&quot;: &quot;info-sign&quot;,\n",
       "  &quot;prefix&quot;: &quot;glyphicon&quot;,\n",
       "  &quot;extraClasses&quot;: &quot;fa-rotate-0&quot;,\n",
       "}\n",
       "            );\n",
       "            marker_7097ea02b6b3f6ff8b29098b6945e92b.setIcon(icon_fd640728fda0563500a55bd212f3f865);\n",
       "        \n",
       "    \n",
       "        var popup_86d099f53de23be3570316d334b54c8f = L.popup({\n",
       "  &quot;maxWidth&quot;: &quot;100%&quot;,\n",
       "});\n",
       "\n",
       "        \n",
       "            \n",
       "                var html_8076269f6104da1f49338bde2afb303c = $(`&lt;div id=&quot;html_8076269f6104da1f49338bde2afb303c&quot; style=&quot;width: 100.0%; height: 100.0%;&quot;&gt;La Pelota&lt;/div&gt;`)[0];\n",
       "                popup_86d099f53de23be3570316d334b54c8f.setContent(html_8076269f6104da1f49338bde2afb303c);\n",
       "            \n",
       "        \n",
       "\n",
       "        marker_7097ea02b6b3f6ff8b29098b6945e92b.bindPopup(popup_86d099f53de23be3570316d334b54c8f)\n",
       "        ;\n",
       "\n",
       "        \n",
       "    \n",
       "    \n",
       "            var marker_cad52085a3e8fde7c0f1736561154bd8 = L.marker(\n",
       "                [23.1055829712021, -82.35832236452364],\n",
       "                {\n",
       "}\n",
       "            ).addTo(map_3d8c657be72ab866f4b991eaf6375e72);\n",
       "        \n",
       "    \n",
       "            var icon_2bbcf56d6184e994a06a76c53ef4ff88 = L.AwesomeMarkers.icon(\n",
       "                {\n",
       "  &quot;markerColor&quot;: &quot;darkblue&quot;,\n",
       "  &quot;iconColor&quot;: &quot;white&quot;,\n",
       "  &quot;icon&quot;: &quot;info-sign&quot;,\n",
       "  &quot;prefix&quot;: &quot;glyphicon&quot;,\n",
       "  &quot;extraClasses&quot;: &quot;fa-rotate-0&quot;,\n",
       "}\n",
       "            );\n",
       "            marker_cad52085a3e8fde7c0f1736561154bd8.setIcon(icon_2bbcf56d6184e994a06a76c53ef4ff88);\n",
       "        \n",
       "    \n",
       "        var popup_66987ea5e573114249a297b76e9ca5fa = L.popup({\n",
       "  &quot;maxWidth&quot;: &quot;100%&quot;,\n",
       "});\n",
       "\n",
       "        \n",
       "            \n",
       "                var html_4193d30b315af6f3c682af03d5c9664b = $(`&lt;div id=&quot;html_4193d30b315af6f3c682af03d5c9664b&quot; style=&quot;width: 100.0%; height: 100.0%;&quot;&gt;La Ronda&lt;/div&gt;`)[0];\n",
       "                popup_66987ea5e573114249a297b76e9ca5fa.setContent(html_4193d30b315af6f3c682af03d5c9664b);\n",
       "            \n",
       "        \n",
       "\n",
       "        marker_cad52085a3e8fde7c0f1736561154bd8.bindPopup(popup_66987ea5e573114249a297b76e9ca5fa)\n",
       "        ;\n",
       "\n",
       "        \n",
       "    \n",
       "    \n",
       "            var marker_c0b59a2e06bb01444653a50f5f632456 = L.marker(\n",
       "                [23.11469533090789, -82.38140701647916],\n",
       "                {\n",
       "}\n",
       "            ).addTo(map_3d8c657be72ab866f4b991eaf6375e72);\n",
       "        \n",
       "    \n",
       "            var icon_4faee7d4ca0ba2e83fee86e54d47a388 = L.AwesomeMarkers.icon(\n",
       "                {\n",
       "  &quot;markerColor&quot;: &quot;darkblue&quot;,\n",
       "  &quot;iconColor&quot;: &quot;white&quot;,\n",
       "  &quot;icon&quot;: &quot;info-sign&quot;,\n",
       "  &quot;prefix&quot;: &quot;glyphicon&quot;,\n",
       "  &quot;extraClasses&quot;: &quot;fa-rotate-0&quot;,\n",
       "}\n",
       "            );\n",
       "            marker_c0b59a2e06bb01444653a50f5f632456.setIcon(icon_4faee7d4ca0ba2e83fee86e54d47a388);\n",
       "        \n",
       "    \n",
       "        var popup_80a546fc07bf276977cf85a3031e4287 = L.popup({\n",
       "  &quot;maxWidth&quot;: &quot;100%&quot;,\n",
       "});\n",
       "\n",
       "        \n",
       "            \n",
       "                var html_3526575959d9ecb0770bce9269c8208c = $(`&lt;div id=&quot;html_3526575959d9ecb0770bce9269c8208c&quot; style=&quot;width: 100.0%; height: 100.0%;&quot;&gt;La Casona del Cerro&lt;/div&gt;`)[0];\n",
       "                popup_80a546fc07bf276977cf85a3031e4287.setContent(html_3526575959d9ecb0770bce9269c8208c);\n",
       "            \n",
       "        \n",
       "\n",
       "        marker_c0b59a2e06bb01444653a50f5f632456.bindPopup(popup_80a546fc07bf276977cf85a3031e4287)\n",
       "        ;\n",
       "\n",
       "        \n",
       "    \n",
       "    \n",
       "            var marker_108ef4ac7b76d123ff4274d55b920353 = L.marker(\n",
       "                [23.105644168847277, -82.44212999530603],\n",
       "                {\n",
       "}\n",
       "            ).addTo(map_3d8c657be72ab866f4b991eaf6375e72);\n",
       "        \n",
       "    \n",
       "            var icon_b55dd79dd65acf7197b841c9772c828b = L.AwesomeMarkers.icon(\n",
       "                {\n",
       "  &quot;markerColor&quot;: &quot;darkblue&quot;,\n",
       "  &quot;iconColor&quot;: &quot;white&quot;,\n",
       "  &quot;icon&quot;: &quot;info-sign&quot;,\n",
       "  &quot;prefix&quot;: &quot;glyphicon&quot;,\n",
       "  &quot;extraClasses&quot;: &quot;fa-rotate-0&quot;,\n",
       "}\n",
       "            );\n",
       "            marker_108ef4ac7b76d123ff4274d55b920353.setIcon(icon_b55dd79dd65acf7197b841c9772c828b);\n",
       "        \n",
       "    \n",
       "        var popup_f649a0747fee0b812058f16e0bb9c9a5 = L.popup({\n",
       "  &quot;maxWidth&quot;: &quot;100%&quot;,\n",
       "});\n",
       "\n",
       "        \n",
       "            \n",
       "                var html_653a0e707c2527106f04dd5c0b520999 = $(`&lt;div id=&quot;html_653a0e707c2527106f04dd5c0b520999&quot; style=&quot;width: 100.0%; height: 100.0%;&quot;&gt;La Catrina&lt;/div&gt;`)[0];\n",
       "                popup_f649a0747fee0b812058f16e0bb9c9a5.setContent(html_653a0e707c2527106f04dd5c0b520999);\n",
       "            \n",
       "        \n",
       "\n",
       "        marker_108ef4ac7b76d123ff4274d55b920353.bindPopup(popup_f649a0747fee0b812058f16e0bb9c9a5)\n",
       "        ;\n",
       "\n",
       "        \n",
       "    \n",
       "    \n",
       "            var marker_e90a0ac8e6623f5ce669f1050418adce = L.marker(\n",
       "                [23.113948715307984, -82.42577878487478],\n",
       "                {\n",
       "}\n",
       "            ).addTo(map_3d8c657be72ab866f4b991eaf6375e72);\n",
       "        \n",
       "    \n",
       "            var icon_c0177bedb4645963a92a39027580a7e1 = L.AwesomeMarkers.icon(\n",
       "                {\n",
       "  &quot;markerColor&quot;: &quot;darkblue&quot;,\n",
       "  &quot;iconColor&quot;: &quot;white&quot;,\n",
       "  &quot;icon&quot;: &quot;info-sign&quot;,\n",
       "  &quot;prefix&quot;: &quot;glyphicon&quot;,\n",
       "  &quot;extraClasses&quot;: &quot;fa-rotate-0&quot;,\n",
       "}\n",
       "            );\n",
       "            marker_e90a0ac8e6623f5ce669f1050418adce.setIcon(icon_c0177bedb4645963a92a39027580a7e1);\n",
       "        \n",
       "    \n",
       "        var popup_8262354e611416ff55e76e94f8b274d2 = L.popup({\n",
       "  &quot;maxWidth&quot;: &quot;100%&quot;,\n",
       "});\n",
       "\n",
       "        \n",
       "            \n",
       "                var html_a33fa64d5544ec460fed2244ed686452 = $(`&lt;div id=&quot;html_a33fa64d5544ec460fed2244ed686452&quot; style=&quot;width: 100.0%; height: 100.0%;&quot;&gt;La Chucheria&lt;/div&gt;`)[0];\n",
       "                popup_8262354e611416ff55e76e94f8b274d2.setContent(html_a33fa64d5544ec460fed2244ed686452);\n",
       "            \n",
       "        \n",
       "\n",
       "        marker_e90a0ac8e6623f5ce669f1050418adce.bindPopup(popup_8262354e611416ff55e76e94f8b274d2)\n",
       "        ;\n",
       "\n",
       "        \n",
       "    \n",
       "    \n",
       "            var marker_1a856c85e11b5a67ad815897ff2f0938 = L.marker(\n",
       "                [23.099966714430586, -82.37927216484684],\n",
       "                {\n",
       "}\n",
       "            ).addTo(map_3d8c657be72ab866f4b991eaf6375e72);\n",
       "        \n",
       "    \n",
       "            var icon_eb847f7d8846e9c5523cf51cd645f9b7 = L.AwesomeMarkers.icon(\n",
       "                {\n",
       "  &quot;markerColor&quot;: &quot;darkblue&quot;,\n",
       "  &quot;iconColor&quot;: &quot;white&quot;,\n",
       "  &quot;icon&quot;: &quot;info-sign&quot;,\n",
       "  &quot;prefix&quot;: &quot;glyphicon&quot;,\n",
       "  &quot;extraClasses&quot;: &quot;fa-rotate-0&quot;,\n",
       "}\n",
       "            );\n",
       "            marker_1a856c85e11b5a67ad815897ff2f0938.setIcon(icon_eb847f7d8846e9c5523cf51cd645f9b7);\n",
       "        \n",
       "    \n",
       "        var popup_c47b1d3c3522fc57a606d3ebecdf9cf9 = L.popup({\n",
       "  &quot;maxWidth&quot;: &quot;100%&quot;,\n",
       "});\n",
       "\n",
       "        \n",
       "            \n",
       "                var html_860a489805defa7094ad0d66ca87d4ca = $(`&lt;div id=&quot;html_860a489805defa7094ad0d66ca87d4ca&quot; style=&quot;width: 100.0%; height: 100.0%;&quot;&gt;La Esquinita&lt;/div&gt;`)[0];\n",
       "                popup_c47b1d3c3522fc57a606d3ebecdf9cf9.setContent(html_860a489805defa7094ad0d66ca87d4ca);\n",
       "            \n",
       "        \n",
       "\n",
       "        marker_1a856c85e11b5a67ad815897ff2f0938.bindPopup(popup_c47b1d3c3522fc57a606d3ebecdf9cf9)\n",
       "        ;\n",
       "\n",
       "        \n",
       "    \n",
       "    \n",
       "            var marker_1bf22321a0b56c36a8fce8f0557e2069 = L.marker(\n",
       "                [23.13770661497965, -82.35930123279326],\n",
       "                {\n",
       "}\n",
       "            ).addTo(map_3d8c657be72ab866f4b991eaf6375e72);\n",
       "        \n",
       "    \n",
       "            var icon_6284399eeb4453fd129159ef675da559 = L.AwesomeMarkers.icon(\n",
       "                {\n",
       "  &quot;markerColor&quot;: &quot;darkblue&quot;,\n",
       "  &quot;iconColor&quot;: &quot;white&quot;,\n",
       "  &quot;icon&quot;: &quot;info-sign&quot;,\n",
       "  &quot;prefix&quot;: &quot;glyphicon&quot;,\n",
       "  &quot;extraClasses&quot;: &quot;fa-rotate-0&quot;,\n",
       "}\n",
       "            );\n",
       "            marker_1bf22321a0b56c36a8fce8f0557e2069.setIcon(icon_6284399eeb4453fd129159ef675da559);\n",
       "        \n",
       "    \n",
       "        var popup_6d1c4aa823ed42971976d2df4481a5ae = L.popup({\n",
       "  &quot;maxWidth&quot;: &quot;100%&quot;,\n",
       "});\n",
       "\n",
       "        \n",
       "            \n",
       "                var html_64e90ee8757d735e3e08ba9143bbe6cb = $(`&lt;div id=&quot;html_64e90ee8757d735e3e08ba9143bbe6cb&quot; style=&quot;width: 100.0%; height: 100.0%;&quot;&gt;La Francesa&lt;/div&gt;`)[0];\n",
       "                popup_6d1c4aa823ed42971976d2df4481a5ae.setContent(html_64e90ee8757d735e3e08ba9143bbe6cb);\n",
       "            \n",
       "        \n",
       "\n",
       "        marker_1bf22321a0b56c36a8fce8f0557e2069.bindPopup(popup_6d1c4aa823ed42971976d2df4481a5ae)\n",
       "        ;\n",
       "\n",
       "        \n",
       "    \n",
       "    \n",
       "            var marker_ddfd92bb4a11df58cfae28f509c6bbd2 = L.marker(\n",
       "                [22.967133915154772, -82.38463772280829],\n",
       "                {\n",
       "}\n",
       "            ).addTo(map_3d8c657be72ab866f4b991eaf6375e72);\n",
       "        \n",
       "    \n",
       "            var icon_adbd3f078e0590ee2ea24ea633ab7870 = L.AwesomeMarkers.icon(\n",
       "                {\n",
       "  &quot;markerColor&quot;: &quot;darkblue&quot;,\n",
       "  &quot;iconColor&quot;: &quot;white&quot;,\n",
       "  &quot;icon&quot;: &quot;info-sign&quot;,\n",
       "  &quot;prefix&quot;: &quot;glyphicon&quot;,\n",
       "  &quot;extraClasses&quot;: &quot;fa-rotate-0&quot;,\n",
       "}\n",
       "            );\n",
       "            marker_ddfd92bb4a11df58cfae28f509c6bbd2.setIcon(icon_adbd3f078e0590ee2ea24ea633ab7870);\n",
       "        \n",
       "    \n",
       "        var popup_601ca324b3904cc127cdcc8571422463 = L.popup({\n",
       "  &quot;maxWidth&quot;: &quot;100%&quot;,\n",
       "});\n",
       "\n",
       "        \n",
       "            \n",
       "                var html_8b3c206edd8026373dd597de1d8f30f0 = $(`&lt;div id=&quot;html_8b3c206edd8026373dd597de1d8f30f0&quot; style=&quot;width: 100.0%; height: 100.0%;&quot;&gt;La Gordy&lt;/div&gt;`)[0];\n",
       "                popup_601ca324b3904cc127cdcc8571422463.setContent(html_8b3c206edd8026373dd597de1d8f30f0);\n",
       "            \n",
       "        \n",
       "\n",
       "        marker_ddfd92bb4a11df58cfae28f509c6bbd2.bindPopup(popup_601ca324b3904cc127cdcc8571422463)\n",
       "        ;\n",
       "\n",
       "        \n",
       "    \n",
       "    \n",
       "            var marker_7a38963fc5d8f2776ac80b4621d4ef9e = L.marker(\n",
       "                [23.114066413722455, -82.43957767341712],\n",
       "                {\n",
       "}\n",
       "            ).addTo(map_3d8c657be72ab866f4b991eaf6375e72);\n",
       "        \n",
       "    \n",
       "            var icon_89ae44874876a746814c2a14e875275b = L.AwesomeMarkers.icon(\n",
       "                {\n",
       "  &quot;markerColor&quot;: &quot;darkblue&quot;,\n",
       "  &quot;iconColor&quot;: &quot;white&quot;,\n",
       "  &quot;icon&quot;: &quot;info-sign&quot;,\n",
       "  &quot;prefix&quot;: &quot;glyphicon&quot;,\n",
       "  &quot;extraClasses&quot;: &quot;fa-rotate-0&quot;,\n",
       "}\n",
       "            );\n",
       "            marker_7a38963fc5d8f2776ac80b4621d4ef9e.setIcon(icon_89ae44874876a746814c2a14e875275b);\n",
       "        \n",
       "    \n",
       "        var popup_e99141e432292a5364cc0522c18226ef = L.popup({\n",
       "  &quot;maxWidth&quot;: &quot;100%&quot;,\n",
       "});\n",
       "\n",
       "        \n",
       "            \n",
       "                var html_b190bc1d33793f90f7c7b3cc0ad17e2f = $(`&lt;div id=&quot;html_b190bc1d33793f90f7c7b3cc0ad17e2f&quot; style=&quot;width: 100.0%; height: 100.0%;&quot;&gt;La Marina&lt;/div&gt;`)[0];\n",
       "                popup_e99141e432292a5364cc0522c18226ef.setContent(html_b190bc1d33793f90f7c7b3cc0ad17e2f);\n",
       "            \n",
       "        \n",
       "\n",
       "        marker_7a38963fc5d8f2776ac80b4621d4ef9e.bindPopup(popup_e99141e432292a5364cc0522c18226ef)\n",
       "        ;\n",
       "\n",
       "        \n",
       "    \n",
       "    \n",
       "            var marker_d492c9690d181409827c48d1db60747b = L.marker(\n",
       "                [23.07138320836101, -82.4600607155514],\n",
       "                {\n",
       "}\n",
       "            ).addTo(map_3d8c657be72ab866f4b991eaf6375e72);\n",
       "        \n",
       "    \n",
       "            var icon_728d9b42579fca26edef6009dc39378b = L.AwesomeMarkers.icon(\n",
       "                {\n",
       "  &quot;markerColor&quot;: &quot;darkblue&quot;,\n",
       "  &quot;iconColor&quot;: &quot;white&quot;,\n",
       "  &quot;icon&quot;: &quot;info-sign&quot;,\n",
       "  &quot;prefix&quot;: &quot;glyphicon&quot;,\n",
       "  &quot;extraClasses&quot;: &quot;fa-rotate-0&quot;,\n",
       "}\n",
       "            );\n",
       "            marker_d492c9690d181409827c48d1db60747b.setIcon(icon_728d9b42579fca26edef6009dc39378b);\n",
       "        \n",
       "    \n",
       "        var popup_b57a2e8d588f63a629835bccd3a500f4 = L.popup({\n",
       "  &quot;maxWidth&quot;: &quot;100%&quot;,\n",
       "});\n",
       "\n",
       "        \n",
       "            \n",
       "                var html_2c977561744f5a83ff47784ecb9eefca = $(`&lt;div id=&quot;html_2c977561744f5a83ff47784ecb9eefca&quot; style=&quot;width: 100.0%; height: 100.0%;&quot;&gt;La Mia Pizza&lt;/div&gt;`)[0];\n",
       "                popup_b57a2e8d588f63a629835bccd3a500f4.setContent(html_2c977561744f5a83ff47784ecb9eefca);\n",
       "            \n",
       "        \n",
       "\n",
       "        marker_d492c9690d181409827c48d1db60747b.bindPopup(popup_b57a2e8d588f63a629835bccd3a500f4)\n",
       "        ;\n",
       "\n",
       "        \n",
       "    \n",
       "    \n",
       "            var marker_56a926241469402158532927692d347e = L.marker(\n",
       "                [23.025201021634437, -82.46433927310295],\n",
       "                {\n",
       "}\n",
       "            ).addTo(map_3d8c657be72ab866f4b991eaf6375e72);\n",
       "        \n",
       "    \n",
       "            var icon_2d5d513cb4ca763393aa220c8776e00d = L.AwesomeMarkers.icon(\n",
       "                {\n",
       "  &quot;markerColor&quot;: &quot;darkblue&quot;,\n",
       "  &quot;iconColor&quot;: &quot;white&quot;,\n",
       "  &quot;icon&quot;: &quot;info-sign&quot;,\n",
       "  &quot;prefix&quot;: &quot;glyphicon&quot;,\n",
       "  &quot;extraClasses&quot;: &quot;fa-rotate-0&quot;,\n",
       "}\n",
       "            );\n",
       "            marker_56a926241469402158532927692d347e.setIcon(icon_2d5d513cb4ca763393aa220c8776e00d);\n",
       "        \n",
       "    \n",
       "        var popup_850374bb24a363986a460e23b7e1b5b1 = L.popup({\n",
       "  &quot;maxWidth&quot;: &quot;100%&quot;,\n",
       "});\n",
       "\n",
       "        \n",
       "            \n",
       "                var html_687cb9692e295cffc6f3839e5a7d432b = $(`&lt;div id=&quot;html_687cb9692e295cffc6f3839e5a7d432b&quot; style=&quot;width: 100.0%; height: 100.0%;&quot;&gt;La Novia&lt;/div&gt;`)[0];\n",
       "                popup_850374bb24a363986a460e23b7e1b5b1.setContent(html_687cb9692e295cffc6f3839e5a7d432b);\n",
       "            \n",
       "        \n",
       "\n",
       "        marker_56a926241469402158532927692d347e.bindPopup(popup_850374bb24a363986a460e23b7e1b5b1)\n",
       "        ;\n",
       "\n",
       "        \n",
       "    \n",
       "    \n",
       "            var marker_a90b2b27e5ec10f2eae32e0949d80c5e = L.marker(\n",
       "                [23.0906213981348, -82.37667411357992],\n",
       "                {\n",
       "}\n",
       "            ).addTo(map_3d8c657be72ab866f4b991eaf6375e72);\n",
       "        \n",
       "    \n",
       "            var icon_5fc98e176742ab4839fc389a5eccc885 = L.AwesomeMarkers.icon(\n",
       "                {\n",
       "  &quot;markerColor&quot;: &quot;darkblue&quot;,\n",
       "  &quot;iconColor&quot;: &quot;white&quot;,\n",
       "  &quot;icon&quot;: &quot;info-sign&quot;,\n",
       "  &quot;prefix&quot;: &quot;glyphicon&quot;,\n",
       "  &quot;extraClasses&quot;: &quot;fa-rotate-0&quot;,\n",
       "}\n",
       "            );\n",
       "            marker_a90b2b27e5ec10f2eae32e0949d80c5e.setIcon(icon_5fc98e176742ab4839fc389a5eccc885);\n",
       "        \n",
       "    \n",
       "        var popup_f465e3b3f6bd79a6213812d700ff4d22 = L.popup({\n",
       "  &quot;maxWidth&quot;: &quot;100%&quot;,\n",
       "});\n",
       "\n",
       "        \n",
       "            \n",
       "                var html_2006f7f0f5a1f8d9cd33ab169c01e1b7 = $(`&lt;div id=&quot;html_2006f7f0f5a1f8d9cd33ab169c01e1b7&quot; style=&quot;width: 100.0%; height: 100.0%;&quot;&gt;La Patrona&lt;/div&gt;`)[0];\n",
       "                popup_f465e3b3f6bd79a6213812d700ff4d22.setContent(html_2006f7f0f5a1f8d9cd33ab169c01e1b7);\n",
       "            \n",
       "        \n",
       "\n",
       "        marker_a90b2b27e5ec10f2eae32e0949d80c5e.bindPopup(popup_f465e3b3f6bd79a6213812d700ff4d22)\n",
       "        ;\n",
       "\n",
       "        \n",
       "    \n",
       "    \n",
       "            var marker_944ceea8b31eaa1ccb8ac3828f066a00 = L.marker(\n",
       "                [23.14216967937676, -82.35348719182778],\n",
       "                {\n",
       "}\n",
       "            ).addTo(map_3d8c657be72ab866f4b991eaf6375e72);\n",
       "        \n",
       "    \n",
       "            var icon_fbc336a5b5ca6f674cb41ddb70352410 = L.AwesomeMarkers.icon(\n",
       "                {\n",
       "  &quot;markerColor&quot;: &quot;darkblue&quot;,\n",
       "  &quot;iconColor&quot;: &quot;white&quot;,\n",
       "  &quot;icon&quot;: &quot;info-sign&quot;,\n",
       "  &quot;prefix&quot;: &quot;glyphicon&quot;,\n",
       "  &quot;extraClasses&quot;: &quot;fa-rotate-0&quot;,\n",
       "}\n",
       "            );\n",
       "            marker_944ceea8b31eaa1ccb8ac3828f066a00.setIcon(icon_fbc336a5b5ca6f674cb41ddb70352410);\n",
       "        \n",
       "    \n",
       "        var popup_71f3078db26937c4340d78bd555d7eb9 = L.popup({\n",
       "  &quot;maxWidth&quot;: &quot;100%&quot;,\n",
       "});\n",
       "\n",
       "        \n",
       "            \n",
       "                var html_54d047919986aae8790c3b6002829956 = $(`&lt;div id=&quot;html_54d047919986aae8790c3b6002829956&quot; style=&quot;width: 100.0%; height: 100.0%;&quot;&gt;La República&lt;/div&gt;`)[0];\n",
       "                popup_71f3078db26937c4340d78bd555d7eb9.setContent(html_54d047919986aae8790c3b6002829956);\n",
       "            \n",
       "        \n",
       "\n",
       "        marker_944ceea8b31eaa1ccb8ac3828f066a00.bindPopup(popup_71f3078db26937c4340d78bd555d7eb9)\n",
       "        ;\n",
       "\n",
       "        \n",
       "    \n",
       "    \n",
       "            var marker_8bde833b732566eb112d94269802a5dc = L.marker(\n",
       "                [23.09090965711562, -82.37153742065038],\n",
       "                {\n",
       "}\n",
       "            ).addTo(map_3d8c657be72ab866f4b991eaf6375e72);\n",
       "        \n",
       "    \n",
       "            var icon_d8994488360c3c8b83161de79bc989e4 = L.AwesomeMarkers.icon(\n",
       "                {\n",
       "  &quot;markerColor&quot;: &quot;darkblue&quot;,\n",
       "  &quot;iconColor&quot;: &quot;white&quot;,\n",
       "  &quot;icon&quot;: &quot;info-sign&quot;,\n",
       "  &quot;prefix&quot;: &quot;glyphicon&quot;,\n",
       "  &quot;extraClasses&quot;: &quot;fa-rotate-0&quot;,\n",
       "}\n",
       "            );\n",
       "            marker_8bde833b732566eb112d94269802a5dc.setIcon(icon_d8994488360c3c8b83161de79bc989e4);\n",
       "        \n",
       "    \n",
       "        var popup_221fd14cdfd18efe65d3deb597feae47 = L.popup({\n",
       "  &quot;maxWidth&quot;: &quot;100%&quot;,\n",
       "});\n",
       "\n",
       "        \n",
       "            \n",
       "                var html_23aa602e48f69a356108268e0b650bf5 = $(`&lt;div id=&quot;html_23aa602e48f69a356108268e0b650bf5&quot; style=&quot;width: 100.0%; height: 100.0%;&quot;&gt;La Rosa De Ortega&lt;/div&gt;`)[0];\n",
       "                popup_221fd14cdfd18efe65d3deb597feae47.setContent(html_23aa602e48f69a356108268e0b650bf5);\n",
       "            \n",
       "        \n",
       "\n",
       "        marker_8bde833b732566eb112d94269802a5dc.bindPopup(popup_221fd14cdfd18efe65d3deb597feae47)\n",
       "        ;\n",
       "\n",
       "        \n",
       "    \n",
       "    \n",
       "            var marker_099f7aef56668e380d71ac1cce4972af = L.marker(\n",
       "                [23.167411943757887, -82.29565904965052],\n",
       "                {\n",
       "}\n",
       "            ).addTo(map_3d8c657be72ab866f4b991eaf6375e72);\n",
       "        \n",
       "    \n",
       "            var icon_a08e550b7d3d379e775a8f343269b3b4 = L.AwesomeMarkers.icon(\n",
       "                {\n",
       "  &quot;markerColor&quot;: &quot;darkblue&quot;,\n",
       "  &quot;iconColor&quot;: &quot;white&quot;,\n",
       "  &quot;icon&quot;: &quot;info-sign&quot;,\n",
       "  &quot;prefix&quot;: &quot;glyphicon&quot;,\n",
       "  &quot;extraClasses&quot;: &quot;fa-rotate-0&quot;,\n",
       "}\n",
       "            );\n",
       "            marker_099f7aef56668e380d71ac1cce4972af.setIcon(icon_a08e550b7d3d379e775a8f343269b3b4);\n",
       "        \n",
       "    \n",
       "        var popup_b361510d0c6c449d629762b18ba7b5a8 = L.popup({\n",
       "  &quot;maxWidth&quot;: &quot;100%&quot;,\n",
       "});\n",
       "\n",
       "        \n",
       "            \n",
       "                var html_fb8c59de8370c5c4fc3b3de578f26754 = $(`&lt;div id=&quot;html_fb8c59de8370c5c4fc3b3de578f26754&quot; style=&quot;width: 100.0%; height: 100.0%;&quot;&gt;La ruta de Hemingway&lt;/div&gt;`)[0];\n",
       "                popup_b361510d0c6c449d629762b18ba7b5a8.setContent(html_fb8c59de8370c5c4fc3b3de578f26754);\n",
       "            \n",
       "        \n",
       "\n",
       "        marker_099f7aef56668e380d71ac1cce4972af.bindPopup(popup_b361510d0c6c449d629762b18ba7b5a8)\n",
       "        ;\n",
       "\n",
       "        \n",
       "    \n",
       "    \n",
       "            var marker_4bb9ec4e84acb8503d701e9848ebe349 = L.marker(\n",
       "                [23.139161565291754, -82.35008076299259],\n",
       "                {\n",
       "}\n",
       "            ).addTo(map_3d8c657be72ab866f4b991eaf6375e72);\n",
       "        \n",
       "    \n",
       "            var icon_8fea927978124cd344550c76f4953b60 = L.AwesomeMarkers.icon(\n",
       "                {\n",
       "  &quot;markerColor&quot;: &quot;darkblue&quot;,\n",
       "  &quot;iconColor&quot;: &quot;white&quot;,\n",
       "  &quot;icon&quot;: &quot;info-sign&quot;,\n",
       "  &quot;prefix&quot;: &quot;glyphicon&quot;,\n",
       "  &quot;extraClasses&quot;: &quot;fa-rotate-0&quot;,\n",
       "}\n",
       "            );\n",
       "            marker_4bb9ec4e84acb8503d701e9848ebe349.setIcon(icon_8fea927978124cd344550c76f4953b60);\n",
       "        \n",
       "    \n",
       "        var popup_23374a6bfc7ba1bd37a31b0b6f9fe523 = L.popup({\n",
       "  &quot;maxWidth&quot;: &quot;100%&quot;,\n",
       "});\n",
       "\n",
       "        \n",
       "            \n",
       "                var html_5d7cc37e3d0a42abb1f97aab26c05a3c = $(`&lt;div id=&quot;html_5d7cc37e3d0a42abb1f97aab26c05a3c&quot; style=&quot;width: 100.0%; height: 100.0%;&quot;&gt;La Torre De Marfil&lt;/div&gt;`)[0];\n",
       "                popup_23374a6bfc7ba1bd37a31b0b6f9fe523.setContent(html_5d7cc37e3d0a42abb1f97aab26c05a3c);\n",
       "            \n",
       "        \n",
       "\n",
       "        marker_4bb9ec4e84acb8503d701e9848ebe349.bindPopup(popup_23374a6bfc7ba1bd37a31b0b6f9fe523)\n",
       "        ;\n",
       "\n",
       "        \n",
       "    \n",
       "    \n",
       "            var marker_fee99ec817e2c1072ff79700f0e15119 = L.marker(\n",
       "                [23.081534878689336, -82.42156649198839],\n",
       "                {\n",
       "}\n",
       "            ).addTo(map_3d8c657be72ab866f4b991eaf6375e72);\n",
       "        \n",
       "    \n",
       "            var icon_1a5ee1239ed756e61bf36f9066c7bd3e = L.AwesomeMarkers.icon(\n",
       "                {\n",
       "  &quot;markerColor&quot;: &quot;darkblue&quot;,\n",
       "  &quot;iconColor&quot;: &quot;white&quot;,\n",
       "  &quot;icon&quot;: &quot;info-sign&quot;,\n",
       "  &quot;prefix&quot;: &quot;glyphicon&quot;,\n",
       "  &quot;extraClasses&quot;: &quot;fa-rotate-0&quot;,\n",
       "}\n",
       "            );\n",
       "            marker_fee99ec817e2c1072ff79700f0e15119.setIcon(icon_1a5ee1239ed756e61bf36f9066c7bd3e);\n",
       "        \n",
       "    \n",
       "        var popup_03f8a551347a2c53f8d39495a95e313c = L.popup({\n",
       "  &quot;maxWidth&quot;: &quot;100%&quot;,\n",
       "});\n",
       "\n",
       "        \n",
       "            \n",
       "                var html_ebebe5f6790facbe5e4cb31e81a15da6 = $(`&lt;div id=&quot;html_ebebe5f6790facbe5e4cb31e81a15da6&quot; style=&quot;width: 100.0%; height: 100.0%;&quot;&gt;La Yaya&lt;/div&gt;`)[0];\n",
       "                popup_03f8a551347a2c53f8d39495a95e313c.setContent(html_ebebe5f6790facbe5e4cb31e81a15da6);\n",
       "            \n",
       "        \n",
       "\n",
       "        marker_fee99ec817e2c1072ff79700f0e15119.bindPopup(popup_03f8a551347a2c53f8d39495a95e313c)\n",
       "        ;\n",
       "\n",
       "        \n",
       "    \n",
       "    \n",
       "            var marker_697c02ccd098ab4025da716723dc2139 = L.marker(\n",
       "                [23.119358590376347, -82.37193704950933],\n",
       "                {\n",
       "}\n",
       "            ).addTo(map_3d8c657be72ab866f4b991eaf6375e72);\n",
       "        \n",
       "    \n",
       "            var icon_d4efc2bb00da90eefc666fcd0e37a28b = L.AwesomeMarkers.icon(\n",
       "                {\n",
       "  &quot;markerColor&quot;: &quot;darkblue&quot;,\n",
       "  &quot;iconColor&quot;: &quot;white&quot;,\n",
       "  &quot;icon&quot;: &quot;info-sign&quot;,\n",
       "  &quot;prefix&quot;: &quot;glyphicon&quot;,\n",
       "  &quot;extraClasses&quot;: &quot;fa-rotate-0&quot;,\n",
       "}\n",
       "            );\n",
       "            marker_697c02ccd098ab4025da716723dc2139.setIcon(icon_d4efc2bb00da90eefc666fcd0e37a28b);\n",
       "        \n",
       "    \n",
       "        var popup_b205f52c3a29599531ba8e2d25f73f17 = L.popup({\n",
       "  &quot;maxWidth&quot;: &quot;100%&quot;,\n",
       "});\n",
       "\n",
       "        \n",
       "            \n",
       "                var html_b37fe9008f2c05a65014b0cd9698acd8 = $(`&lt;div id=&quot;html_b37fe9008f2c05a65014b0cd9698acd8&quot; style=&quot;width: 100.0%; height: 100.0%;&quot;&gt;Leyendhabana&lt;/div&gt;`)[0];\n",
       "                popup_b205f52c3a29599531ba8e2d25f73f17.setContent(html_b37fe9008f2c05a65014b0cd9698acd8);\n",
       "            \n",
       "        \n",
       "\n",
       "        marker_697c02ccd098ab4025da716723dc2139.bindPopup(popup_b205f52c3a29599531ba8e2d25f73f17)\n",
       "        ;\n",
       "\n",
       "        \n",
       "    \n",
       "    \n",
       "            var marker_19613cc62c56932c42279509f4eaffdb = L.marker(\n",
       "                [23.141360421965942, -82.35554676484041],\n",
       "                {\n",
       "}\n",
       "            ).addTo(map_3d8c657be72ab866f4b991eaf6375e72);\n",
       "        \n",
       "    \n",
       "            var icon_f8cca949ba807477ab8b289ebe247259 = L.AwesomeMarkers.icon(\n",
       "                {\n",
       "  &quot;markerColor&quot;: &quot;darkblue&quot;,\n",
       "  &quot;iconColor&quot;: &quot;white&quot;,\n",
       "  &quot;icon&quot;: &quot;info-sign&quot;,\n",
       "  &quot;prefix&quot;: &quot;glyphicon&quot;,\n",
       "  &quot;extraClasses&quot;: &quot;fa-rotate-0&quot;,\n",
       "}\n",
       "            );\n",
       "            marker_19613cc62c56932c42279509f4eaffdb.setIcon(icon_f8cca949ba807477ab8b289ebe247259);\n",
       "        \n",
       "    \n",
       "        var popup_6e041b5902245f596ff5167a136bac58 = L.popup({\n",
       "  &quot;maxWidth&quot;: &quot;100%&quot;,\n",
       "});\n",
       "\n",
       "        \n",
       "            \n",
       "                var html_26b3a83aedc7c87097a1142025d2fd27 = $(`&lt;div id=&quot;html_26b3a83aedc7c87097a1142025d2fd27&quot; style=&quot;width: 100.0%; height: 100.0%;&quot;&gt;Lo de Monik&lt;/div&gt;`)[0];\n",
       "                popup_6e041b5902245f596ff5167a136bac58.setContent(html_26b3a83aedc7c87097a1142025d2fd27);\n",
       "            \n",
       "        \n",
       "\n",
       "        marker_19613cc62c56932c42279509f4eaffdb.bindPopup(popup_6e041b5902245f596ff5167a136bac58)\n",
       "        ;\n",
       "\n",
       "        \n",
       "    \n",
       "    \n",
       "            var marker_084ab5ab259492eba6cd5f0f4083a635 = L.marker(\n",
       "                [23.047931165777534, -82.33276437842358],\n",
       "                {\n",
       "}\n",
       "            ).addTo(map_3d8c657be72ab866f4b991eaf6375e72);\n",
       "        \n",
       "    \n",
       "            var icon_9fd545c4dd2a27c613b0b2c14851d96e = L.AwesomeMarkers.icon(\n",
       "                {\n",
       "  &quot;markerColor&quot;: &quot;darkblue&quot;,\n",
       "  &quot;iconColor&quot;: &quot;white&quot;,\n",
       "  &quot;icon&quot;: &quot;info-sign&quot;,\n",
       "  &quot;prefix&quot;: &quot;glyphicon&quot;,\n",
       "  &quot;extraClasses&quot;: &quot;fa-rotate-0&quot;,\n",
       "}\n",
       "            );\n",
       "            marker_084ab5ab259492eba6cd5f0f4083a635.setIcon(icon_9fd545c4dd2a27c613b0b2c14851d96e);\n",
       "        \n",
       "    \n",
       "        var popup_3296f271c87cb372ff036408c995c44f = L.popup({\n",
       "  &quot;maxWidth&quot;: &quot;100%&quot;,\n",
       "});\n",
       "\n",
       "        \n",
       "            \n",
       "                var html_fa14b1c01790898558db8dad41ee37a7 = $(`&lt;div id=&quot;html_fa14b1c01790898558db8dad41ee37a7&quot; style=&quot;width: 100.0%; height: 100.0%;&quot;&gt;Los caneyes&lt;/div&gt;`)[0];\n",
       "                popup_3296f271c87cb372ff036408c995c44f.setContent(html_fa14b1c01790898558db8dad41ee37a7);\n",
       "            \n",
       "        \n",
       "\n",
       "        marker_084ab5ab259492eba6cd5f0f4083a635.bindPopup(popup_3296f271c87cb372ff036408c995c44f)\n",
       "        ;\n",
       "\n",
       "        \n",
       "    \n",
       "    \n",
       "            var marker_04a0481fd600ed50586d0c9609a51a0c = L.marker(\n",
       "                [23.149876102274252, -82.3559954456767],\n",
       "                {\n",
       "}\n",
       "            ).addTo(map_3d8c657be72ab866f4b991eaf6375e72);\n",
       "        \n",
       "    \n",
       "            var icon_5474cd5c47f7c39b2cc51336054cdd40 = L.AwesomeMarkers.icon(\n",
       "                {\n",
       "  &quot;markerColor&quot;: &quot;darkblue&quot;,\n",
       "  &quot;iconColor&quot;: &quot;white&quot;,\n",
       "  &quot;icon&quot;: &quot;info-sign&quot;,\n",
       "  &quot;prefix&quot;: &quot;glyphicon&quot;,\n",
       "  &quot;extraClasses&quot;: &quot;fa-rotate-0&quot;,\n",
       "}\n",
       "            );\n",
       "            marker_04a0481fd600ed50586d0c9609a51a0c.setIcon(icon_5474cd5c47f7c39b2cc51336054cdd40);\n",
       "        \n",
       "    \n",
       "        var popup_a0bdd708aa9eb3694e2712fb741daee8 = L.popup({\n",
       "  &quot;maxWidth&quot;: &quot;100%&quot;,\n",
       "});\n",
       "\n",
       "        \n",
       "            \n",
       "                var html_3c958e9add3e3e771db74bf190a01d15 = $(`&lt;div id=&quot;html_3c958e9add3e3e771db74bf190a01d15&quot; style=&quot;width: 100.0%; height: 100.0%;&quot;&gt;Los Doce Apóstoles&lt;/div&gt;`)[0];\n",
       "                popup_a0bdd708aa9eb3694e2712fb741daee8.setContent(html_3c958e9add3e3e771db74bf190a01d15);\n",
       "            \n",
       "        \n",
       "\n",
       "        marker_04a0481fd600ed50586d0c9609a51a0c.bindPopup(popup_a0bdd708aa9eb3694e2712fb741daee8)\n",
       "        ;\n",
       "\n",
       "        \n",
       "    \n",
       "    \n",
       "            var marker_a791bb17b23cf6093f57d3fb7251ee70 = L.marker(\n",
       "                [23.08427961422461, -82.43597367849351],\n",
       "                {\n",
       "}\n",
       "            ).addTo(map_3d8c657be72ab866f4b991eaf6375e72);\n",
       "        \n",
       "    \n",
       "            var icon_3ee5f970f42f09d3eeafcbde70e65104 = L.AwesomeMarkers.icon(\n",
       "                {\n",
       "  &quot;markerColor&quot;: &quot;darkblue&quot;,\n",
       "  &quot;iconColor&quot;: &quot;white&quot;,\n",
       "  &quot;icon&quot;: &quot;info-sign&quot;,\n",
       "  &quot;prefix&quot;: &quot;glyphicon&quot;,\n",
       "  &quot;extraClasses&quot;: &quot;fa-rotate-0&quot;,\n",
       "}\n",
       "            );\n",
       "            marker_a791bb17b23cf6093f57d3fb7251ee70.setIcon(icon_3ee5f970f42f09d3eeafcbde70e65104);\n",
       "        \n",
       "    \n",
       "        var popup_12ccf1fa4f306ebbbd19f82bbe5f8f35 = L.popup({\n",
       "  &quot;maxWidth&quot;: &quot;100%&quot;,\n",
       "});\n",
       "\n",
       "        \n",
       "            \n",
       "                var html_46b234410ffc9284ccc79909f287efcb = $(`&lt;div id=&quot;html_46b234410ffc9284ccc79909f287efcb&quot; style=&quot;width: 100.0%; height: 100.0%;&quot;&gt;Los Taticos&lt;/div&gt;`)[0];\n",
       "                popup_12ccf1fa4f306ebbbd19f82bbe5f8f35.setContent(html_46b234410ffc9284ccc79909f287efcb);\n",
       "            \n",
       "        \n",
       "\n",
       "        marker_a791bb17b23cf6093f57d3fb7251ee70.bindPopup(popup_12ccf1fa4f306ebbbd19f82bbe5f8f35)\n",
       "        ;\n",
       "\n",
       "        \n",
       "    \n",
       "    \n",
       "            var marker_c5295b29038933c90a8f4010f9e3a30a = L.marker(\n",
       "                [23.121788587624902, -82.4257877361619],\n",
       "                {\n",
       "}\n",
       "            ).addTo(map_3d8c657be72ab866f4b991eaf6375e72);\n",
       "        \n",
       "    \n",
       "            var icon_4abfe42f55ccd4fd57ff796fbdddfa12 = L.AwesomeMarkers.icon(\n",
       "                {\n",
       "  &quot;markerColor&quot;: &quot;darkblue&quot;,\n",
       "  &quot;iconColor&quot;: &quot;white&quot;,\n",
       "  &quot;icon&quot;: &quot;info-sign&quot;,\n",
       "  &quot;prefix&quot;: &quot;glyphicon&quot;,\n",
       "  &quot;extraClasses&quot;: &quot;fa-rotate-0&quot;,\n",
       "}\n",
       "            );\n",
       "            marker_c5295b29038933c90a8f4010f9e3a30a.setIcon(icon_4abfe42f55ccd4fd57ff796fbdddfa12);\n",
       "        \n",
       "    \n",
       "        var popup_04bef8a5e0239b08d9ea7ae4046af2a9 = L.popup({\n",
       "  &quot;maxWidth&quot;: &quot;100%&quot;,\n",
       "});\n",
       "\n",
       "        \n",
       "            \n",
       "                var html_2baf657d7e5fd3bac23295ff7a383c7d = $(`&lt;div id=&quot;html_2baf657d7e5fd3bac23295ff7a383c7d&quot; style=&quot;width: 100.0%; height: 100.0%;&quot;&gt;Luly Bar Café&lt;/div&gt;`)[0];\n",
       "                popup_04bef8a5e0239b08d9ea7ae4046af2a9.setContent(html_2baf657d7e5fd3bac23295ff7a383c7d);\n",
       "            \n",
       "        \n",
       "\n",
       "        marker_c5295b29038933c90a8f4010f9e3a30a.bindPopup(popup_04bef8a5e0239b08d9ea7ae4046af2a9)\n",
       "        ;\n",
       "\n",
       "        \n",
       "    \n",
       "    \n",
       "            var marker_b99d3100f5078b79d63aab45ea5c2bd2 = L.marker(\n",
       "                [23.093509305513987, -82.36480264180305],\n",
       "                {\n",
       "}\n",
       "            ).addTo(map_3d8c657be72ab866f4b991eaf6375e72);\n",
       "        \n",
       "    \n",
       "            var icon_4993b97770ce4221c89a8c6597b1795c = L.AwesomeMarkers.icon(\n",
       "                {\n",
       "  &quot;markerColor&quot;: &quot;darkblue&quot;,\n",
       "  &quot;iconColor&quot;: &quot;white&quot;,\n",
       "  &quot;icon&quot;: &quot;info-sign&quot;,\n",
       "  &quot;prefix&quot;: &quot;glyphicon&quot;,\n",
       "  &quot;extraClasses&quot;: &quot;fa-rotate-0&quot;,\n",
       "}\n",
       "            );\n",
       "            marker_b99d3100f5078b79d63aab45ea5c2bd2.setIcon(icon_4993b97770ce4221c89a8c6597b1795c);\n",
       "        \n",
       "    \n",
       "        var popup_9ab9d5792d02310a6a676c230aa2ad96 = L.popup({\n",
       "  &quot;maxWidth&quot;: &quot;100%&quot;,\n",
       "});\n",
       "\n",
       "        \n",
       "            \n",
       "                var html_b2d128255a8bffeeeb9a72ae931703d0 = $(`&lt;div id=&quot;html_b2d128255a8bffeeeb9a72ae931703d0&quot; style=&quot;width: 100.0%; height: 100.0%;&quot;&gt;Luly Hamburguesas&lt;/div&gt;`)[0];\n",
       "                popup_9ab9d5792d02310a6a676c230aa2ad96.setContent(html_b2d128255a8bffeeeb9a72ae931703d0);\n",
       "            \n",
       "        \n",
       "\n",
       "        marker_b99d3100f5078b79d63aab45ea5c2bd2.bindPopup(popup_9ab9d5792d02310a6a676c230aa2ad96)\n",
       "        ;\n",
       "\n",
       "        \n",
       "    \n",
       "    \n",
       "            var marker_f04730540478650547049918ce9955da = L.marker(\n",
       "                [23.079473928614, -82.36211812904808],\n",
       "                {\n",
       "}\n",
       "            ).addTo(map_3d8c657be72ab866f4b991eaf6375e72);\n",
       "        \n",
       "    \n",
       "            var icon_fcf5715cdb6e9e780af21ff2036b1e80 = L.AwesomeMarkers.icon(\n",
       "                {\n",
       "  &quot;markerColor&quot;: &quot;darkblue&quot;,\n",
       "  &quot;iconColor&quot;: &quot;white&quot;,\n",
       "  &quot;icon&quot;: &quot;info-sign&quot;,\n",
       "  &quot;prefix&quot;: &quot;glyphicon&quot;,\n",
       "  &quot;extraClasses&quot;: &quot;fa-rotate-0&quot;,\n",
       "}\n",
       "            );\n",
       "            marker_f04730540478650547049918ce9955da.setIcon(icon_fcf5715cdb6e9e780af21ff2036b1e80);\n",
       "        \n",
       "    \n",
       "        var popup_40ba7daee257afaa33cb7ec9ff5137f6 = L.popup({\n",
       "  &quot;maxWidth&quot;: &quot;100%&quot;,\n",
       "});\n",
       "\n",
       "        \n",
       "            \n",
       "                var html_31732c6c3880ff41cfd69e0b200f4f21 = $(`&lt;div id=&quot;html_31732c6c3880ff41cfd69e0b200f4f21&quot; style=&quot;width: 100.0%; height: 100.0%;&quot;&gt;Magic&#x27;s Cream &amp; Burguer&lt;/div&gt;`)[0];\n",
       "                popup_40ba7daee257afaa33cb7ec9ff5137f6.setContent(html_31732c6c3880ff41cfd69e0b200f4f21);\n",
       "            \n",
       "        \n",
       "\n",
       "        marker_f04730540478650547049918ce9955da.bindPopup(popup_40ba7daee257afaa33cb7ec9ff5137f6)\n",
       "        ;\n",
       "\n",
       "        \n",
       "    \n",
       "    \n",
       "            var marker_71e40e1e88d5ecd191250406cbee8587 = L.marker(\n",
       "                [23.047306531006058, -82.2683502866321],\n",
       "                {\n",
       "}\n",
       "            ).addTo(map_3d8c657be72ab866f4b991eaf6375e72);\n",
       "        \n",
       "    \n",
       "            var icon_c18b6499edba0c5e0e6443098e0d0ccd = L.AwesomeMarkers.icon(\n",
       "                {\n",
       "  &quot;markerColor&quot;: &quot;darkblue&quot;,\n",
       "  &quot;iconColor&quot;: &quot;white&quot;,\n",
       "  &quot;icon&quot;: &quot;info-sign&quot;,\n",
       "  &quot;prefix&quot;: &quot;glyphicon&quot;,\n",
       "  &quot;extraClasses&quot;: &quot;fa-rotate-0&quot;,\n",
       "}\n",
       "            );\n",
       "            marker_71e40e1e88d5ecd191250406cbee8587.setIcon(icon_c18b6499edba0c5e0e6443098e0d0ccd);\n",
       "        \n",
       "    \n",
       "        var popup_29e6c4f7ee9ffca8e2b16129f5e3ecc6 = L.popup({\n",
       "  &quot;maxWidth&quot;: &quot;100%&quot;,\n",
       "});\n",
       "\n",
       "        \n",
       "            \n",
       "                var html_a662a4340998a5a8da38931d8556d81e = $(`&lt;div id=&quot;html_a662a4340998a5a8da38931d8556d81e&quot; style=&quot;width: 100.0%; height: 100.0%;&quot;&gt;Martínez Club&lt;/div&gt;`)[0];\n",
       "                popup_29e6c4f7ee9ffca8e2b16129f5e3ecc6.setContent(html_a662a4340998a5a8da38931d8556d81e);\n",
       "            \n",
       "        \n",
       "\n",
       "        marker_71e40e1e88d5ecd191250406cbee8587.bindPopup(popup_29e6c4f7ee9ffca8e2b16129f5e3ecc6)\n",
       "        ;\n",
       "\n",
       "        \n",
       "    \n",
       "    \n",
       "            var marker_2fc5e49d8ef361e02682f316f8fa04d7 = L.marker(\n",
       "                [23.142433620136078, -82.39923307575508],\n",
       "                {\n",
       "}\n",
       "            ).addTo(map_3d8c657be72ab866f4b991eaf6375e72);\n",
       "        \n",
       "    \n",
       "            var icon_8992910692c19873d1d9c944a1d7143d = L.AwesomeMarkers.icon(\n",
       "                {\n",
       "  &quot;markerColor&quot;: &quot;darkblue&quot;,\n",
       "  &quot;iconColor&quot;: &quot;white&quot;,\n",
       "  &quot;icon&quot;: &quot;info-sign&quot;,\n",
       "  &quot;prefix&quot;: &quot;glyphicon&quot;,\n",
       "  &quot;extraClasses&quot;: &quot;fa-rotate-0&quot;,\n",
       "}\n",
       "            );\n",
       "            marker_2fc5e49d8ef361e02682f316f8fa04d7.setIcon(icon_8992910692c19873d1d9c944a1d7143d);\n",
       "        \n",
       "    \n",
       "        var popup_6f502dea37aa11cb7375bd6112304796 = L.popup({\n",
       "  &quot;maxWidth&quot;: &quot;100%&quot;,\n",
       "});\n",
       "\n",
       "        \n",
       "            \n",
       "                var html_8e22b044ff7451086f788e0c4d7a3c46 = $(`&lt;div id=&quot;html_8e22b044ff7451086f788e0c4d7a3c46&quot; style=&quot;width: 100.0%; height: 100.0%;&quot;&gt;Mar Adentro&lt;/div&gt;`)[0];\n",
       "                popup_6f502dea37aa11cb7375bd6112304796.setContent(html_8e22b044ff7451086f788e0c4d7a3c46);\n",
       "            \n",
       "        \n",
       "\n",
       "        marker_2fc5e49d8ef361e02682f316f8fa04d7.bindPopup(popup_6f502dea37aa11cb7375bd6112304796)\n",
       "        ;\n",
       "\n",
       "        \n",
       "    \n",
       "    \n",
       "            var marker_d7a064cc842fc44e367f2a301d303c4b = L.marker(\n",
       "                [23.052069154835742, -82.27571196298325],\n",
       "                {\n",
       "}\n",
       "            ).addTo(map_3d8c657be72ab866f4b991eaf6375e72);\n",
       "        \n",
       "    \n",
       "            var icon_570ace0e57e845d30b7a135d6f202b56 = L.AwesomeMarkers.icon(\n",
       "                {\n",
       "  &quot;markerColor&quot;: &quot;darkblue&quot;,\n",
       "  &quot;iconColor&quot;: &quot;white&quot;,\n",
       "  &quot;icon&quot;: &quot;info-sign&quot;,\n",
       "  &quot;prefix&quot;: &quot;glyphicon&quot;,\n",
       "  &quot;extraClasses&quot;: &quot;fa-rotate-0&quot;,\n",
       "}\n",
       "            );\n",
       "            marker_d7a064cc842fc44e367f2a301d303c4b.setIcon(icon_570ace0e57e845d30b7a135d6f202b56);\n",
       "        \n",
       "    \n",
       "        var popup_12ff09e9af8523595eff4780471e203a = L.popup({\n",
       "  &quot;maxWidth&quot;: &quot;100%&quot;,\n",
       "});\n",
       "\n",
       "        \n",
       "            \n",
       "                var html_63a64d89e90a5ffe389812dded98db46 = $(`&lt;div id=&quot;html_63a64d89e90a5ffe389812dded98db46&quot; style=&quot;width: 100.0%; height: 100.0%;&quot;&gt;McCesar&#x27;s&lt;/div&gt;`)[0];\n",
       "                popup_12ff09e9af8523595eff4780471e203a.setContent(html_63a64d89e90a5ffe389812dded98db46);\n",
       "            \n",
       "        \n",
       "\n",
       "        marker_d7a064cc842fc44e367f2a301d303c4b.bindPopup(popup_12ff09e9af8523595eff4780471e203a)\n",
       "        ;\n",
       "\n",
       "        \n",
       "    \n",
       "    \n",
       "            var marker_9e721a383e2362c7df956849cb67dcc9 = L.marker(\n",
       "                [23.117726284857962, -82.4422860238811],\n",
       "                {\n",
       "}\n",
       "            ).addTo(map_3d8c657be72ab866f4b991eaf6375e72);\n",
       "        \n",
       "    \n",
       "            var icon_46feab3f423eb5361e74d13665719a06 = L.AwesomeMarkers.icon(\n",
       "                {\n",
       "  &quot;markerColor&quot;: &quot;darkblue&quot;,\n",
       "  &quot;iconColor&quot;: &quot;white&quot;,\n",
       "  &quot;icon&quot;: &quot;info-sign&quot;,\n",
       "  &quot;prefix&quot;: &quot;glyphicon&quot;,\n",
       "  &quot;extraClasses&quot;: &quot;fa-rotate-0&quot;,\n",
       "}\n",
       "            );\n",
       "            marker_9e721a383e2362c7df956849cb67dcc9.setIcon(icon_46feab3f423eb5361e74d13665719a06);\n",
       "        \n",
       "    \n",
       "        var popup_9a2fd2ac0deb0fd727f2a610e89d263a = L.popup({\n",
       "  &quot;maxWidth&quot;: &quot;100%&quot;,\n",
       "});\n",
       "\n",
       "        \n",
       "            \n",
       "                var html_94ef7a6ff8fd8d7986b7dd9698895007 = $(`&lt;div id=&quot;html_94ef7a6ff8fd8d7986b7dd9698895007&quot; style=&quot;width: 100.0%; height: 100.0%;&quot;&gt;Mercy bar&lt;/div&gt;`)[0];\n",
       "                popup_9a2fd2ac0deb0fd727f2a610e89d263a.setContent(html_94ef7a6ff8fd8d7986b7dd9698895007);\n",
       "            \n",
       "        \n",
       "\n",
       "        marker_9e721a383e2362c7df956849cb67dcc9.bindPopup(popup_9a2fd2ac0deb0fd727f2a610e89d263a)\n",
       "        ;\n",
       "\n",
       "        \n",
       "    \n",
       "    \n",
       "            var marker_d199bfab906b4fa61c39b7de7bb524a6 = L.marker(\n",
       "                [23.089222353439702, -82.36048697833665],\n",
       "                {\n",
       "}\n",
       "            ).addTo(map_3d8c657be72ab866f4b991eaf6375e72);\n",
       "        \n",
       "    \n",
       "            var icon_bec4bacff794d23565502d220bcfd49e = L.AwesomeMarkers.icon(\n",
       "                {\n",
       "  &quot;markerColor&quot;: &quot;darkblue&quot;,\n",
       "  &quot;iconColor&quot;: &quot;white&quot;,\n",
       "  &quot;icon&quot;: &quot;info-sign&quot;,\n",
       "  &quot;prefix&quot;: &quot;glyphicon&quot;,\n",
       "  &quot;extraClasses&quot;: &quot;fa-rotate-0&quot;,\n",
       "}\n",
       "            );\n",
       "            marker_d199bfab906b4fa61c39b7de7bb524a6.setIcon(icon_bec4bacff794d23565502d220bcfd49e);\n",
       "        \n",
       "    \n",
       "        var popup_96dd9da7eb010a92daccfcc160d7a4e9 = L.popup({\n",
       "  &quot;maxWidth&quot;: &quot;100%&quot;,\n",
       "});\n",
       "\n",
       "        \n",
       "            \n",
       "                var html_6c9f33253db9b4ef1f98e57abc867672 = $(`&lt;div id=&quot;html_6c9f33253db9b4ef1f98e57abc867672&quot; style=&quot;width: 100.0%; height: 100.0%;&quot;&gt;Mirador de Acosta&lt;/div&gt;`)[0];\n",
       "                popup_96dd9da7eb010a92daccfcc160d7a4e9.setContent(html_6c9f33253db9b4ef1f98e57abc867672);\n",
       "            \n",
       "        \n",
       "\n",
       "        marker_d199bfab906b4fa61c39b7de7bb524a6.bindPopup(popup_96dd9da7eb010a92daccfcc160d7a4e9)\n",
       "        ;\n",
       "\n",
       "        \n",
       "    \n",
       "    \n",
       "            var marker_54db18ad4e643b0437805547b8f5d514 = L.marker(\n",
       "                [23.044400677473934, -82.26562109644043],\n",
       "                {\n",
       "}\n",
       "            ).addTo(map_3d8c657be72ab866f4b991eaf6375e72);\n",
       "        \n",
       "    \n",
       "            var icon_abaea5ed8eee6e72d723286ba8eda93a = L.AwesomeMarkers.icon(\n",
       "                {\n",
       "  &quot;markerColor&quot;: &quot;darkblue&quot;,\n",
       "  &quot;iconColor&quot;: &quot;white&quot;,\n",
       "  &quot;icon&quot;: &quot;info-sign&quot;,\n",
       "  &quot;prefix&quot;: &quot;glyphicon&quot;,\n",
       "  &quot;extraClasses&quot;: &quot;fa-rotate-0&quot;,\n",
       "}\n",
       "            );\n",
       "            marker_54db18ad4e643b0437805547b8f5d514.setIcon(icon_abaea5ed8eee6e72d723286ba8eda93a);\n",
       "        \n",
       "    \n",
       "        var popup_aa7d75d0dddfd8aa6ab2d1df3171b7d5 = L.popup({\n",
       "  &quot;maxWidth&quot;: &quot;100%&quot;,\n",
       "});\n",
       "\n",
       "        \n",
       "            \n",
       "                var html_c1a03788913f2df2241616409a818f47 = $(`&lt;div id=&quot;html_c1a03788913f2df2241616409a818f47&quot; style=&quot;width: 100.0%; height: 100.0%;&quot;&gt;Mi terraza&lt;/div&gt;`)[0];\n",
       "                popup_aa7d75d0dddfd8aa6ab2d1df3171b7d5.setContent(html_c1a03788913f2df2241616409a818f47);\n",
       "            \n",
       "        \n",
       "\n",
       "        marker_54db18ad4e643b0437805547b8f5d514.bindPopup(popup_aa7d75d0dddfd8aa6ab2d1df3171b7d5)\n",
       "        ;\n",
       "\n",
       "        \n",
       "    \n",
       "    \n",
       "            var marker_032686dd443b772bfd42d952ffcb47be = L.marker(\n",
       "                [23.120752030449403, -82.43046798998091],\n",
       "                {\n",
       "}\n",
       "            ).addTo(map_3d8c657be72ab866f4b991eaf6375e72);\n",
       "        \n",
       "    \n",
       "            var icon_fd69e7b6f3c22c25bdb27f7377fb3d8c = L.AwesomeMarkers.icon(\n",
       "                {\n",
       "  &quot;markerColor&quot;: &quot;darkblue&quot;,\n",
       "  &quot;iconColor&quot;: &quot;white&quot;,\n",
       "  &quot;icon&quot;: &quot;info-sign&quot;,\n",
       "  &quot;prefix&quot;: &quot;glyphicon&quot;,\n",
       "  &quot;extraClasses&quot;: &quot;fa-rotate-0&quot;,\n",
       "}\n",
       "            );\n",
       "            marker_032686dd443b772bfd42d952ffcb47be.setIcon(icon_fd69e7b6f3c22c25bdb27f7377fb3d8c);\n",
       "        \n",
       "    \n",
       "        var popup_3b03049fe897e99d734fca46720decba = L.popup({\n",
       "  &quot;maxWidth&quot;: &quot;100%&quot;,\n",
       "});\n",
       "\n",
       "        \n",
       "            \n",
       "                var html_f53383bce6638ea7059f8b30e2574ead = $(`&lt;div id=&quot;html_f53383bce6638ea7059f8b30e2574ead&quot; style=&quot;width: 100.0%; height: 100.0%;&quot;&gt;MM&lt;/div&gt;`)[0];\n",
       "                popup_3b03049fe897e99d734fca46720decba.setContent(html_f53383bce6638ea7059f8b30e2574ead);\n",
       "            \n",
       "        \n",
       "\n",
       "        marker_032686dd443b772bfd42d952ffcb47be.bindPopup(popup_3b03049fe897e99d734fca46720decba)\n",
       "        ;\n",
       "\n",
       "        \n",
       "    \n",
       "    \n",
       "            var marker_f631b970b8f202651abfd044371a4d6b = L.marker(\n",
       "                [23.089493726076963, -82.42170004354693],\n",
       "                {\n",
       "}\n",
       "            ).addTo(map_3d8c657be72ab866f4b991eaf6375e72);\n",
       "        \n",
       "    \n",
       "            var icon_90c426e51c9497efec3eed61e8eed498 = L.AwesomeMarkers.icon(\n",
       "                {\n",
       "  &quot;markerColor&quot;: &quot;darkblue&quot;,\n",
       "  &quot;iconColor&quot;: &quot;white&quot;,\n",
       "  &quot;icon&quot;: &quot;info-sign&quot;,\n",
       "  &quot;prefix&quot;: &quot;glyphicon&quot;,\n",
       "  &quot;extraClasses&quot;: &quot;fa-rotate-0&quot;,\n",
       "}\n",
       "            );\n",
       "            marker_f631b970b8f202651abfd044371a4d6b.setIcon(icon_90c426e51c9497efec3eed61e8eed498);\n",
       "        \n",
       "    \n",
       "        var popup_500fb4556e26414913b32bfe9bed16c9 = L.popup({\n",
       "  &quot;maxWidth&quot;: &quot;100%&quot;,\n",
       "});\n",
       "\n",
       "        \n",
       "            \n",
       "                var html_64e4a539cf262bbdf1095b6a1ef7277a = $(`&lt;div id=&quot;html_64e4a539cf262bbdf1095b6a1ef7277a&quot; style=&quot;width: 100.0%; height: 100.0%;&quot;&gt;MM Cafeteria&lt;/div&gt;`)[0];\n",
       "                popup_500fb4556e26414913b32bfe9bed16c9.setContent(html_64e4a539cf262bbdf1095b6a1ef7277a);\n",
       "            \n",
       "        \n",
       "\n",
       "        marker_f631b970b8f202651abfd044371a4d6b.bindPopup(popup_500fb4556e26414913b32bfe9bed16c9)\n",
       "        ;\n",
       "\n",
       "        \n",
       "    \n",
       "    \n",
       "            var marker_ada00435c0805ff2f644a5d7a09ccb78 = L.marker(\n",
       "                [23.11213749973173, -82.41048087665507],\n",
       "                {\n",
       "}\n",
       "            ).addTo(map_3d8c657be72ab866f4b991eaf6375e72);\n",
       "        \n",
       "    \n",
       "            var icon_c458a5fbb18688fa7bee74c42a8d3ed1 = L.AwesomeMarkers.icon(\n",
       "                {\n",
       "  &quot;markerColor&quot;: &quot;darkblue&quot;,\n",
       "  &quot;iconColor&quot;: &quot;white&quot;,\n",
       "  &quot;icon&quot;: &quot;info-sign&quot;,\n",
       "  &quot;prefix&quot;: &quot;glyphicon&quot;,\n",
       "  &quot;extraClasses&quot;: &quot;fa-rotate-0&quot;,\n",
       "}\n",
       "            );\n",
       "            marker_ada00435c0805ff2f644a5d7a09ccb78.setIcon(icon_c458a5fbb18688fa7bee74c42a8d3ed1);\n",
       "        \n",
       "    \n",
       "        var popup_6c0fe8199df77bc0dbe61fe376c4cb1d = L.popup({\n",
       "  &quot;maxWidth&quot;: &quot;100%&quot;,\n",
       "});\n",
       "\n",
       "        \n",
       "            \n",
       "                var html_b1c14b8de273c7914fa8d2d68c6af94c = $(`&lt;div id=&quot;html_b1c14b8de273c7914fa8d2d68c6af94c&quot; style=&quot;width: 100.0%; height: 100.0%;&quot;&gt;Mokalex&lt;/div&gt;`)[0];\n",
       "                popup_6c0fe8199df77bc0dbe61fe376c4cb1d.setContent(html_b1c14b8de273c7914fa8d2d68c6af94c);\n",
       "            \n",
       "        \n",
       "\n",
       "        marker_ada00435c0805ff2f644a5d7a09ccb78.bindPopup(popup_6c0fe8199df77bc0dbe61fe376c4cb1d)\n",
       "        ;\n",
       "\n",
       "        \n",
       "    \n",
       "    \n",
       "            var marker_71cd3bac37f75f237fdbbe690a503e66 = L.marker(\n",
       "                [23.13771148492377, -82.36400171839173],\n",
       "                {\n",
       "}\n",
       "            ).addTo(map_3d8c657be72ab866f4b991eaf6375e72);\n",
       "        \n",
       "    \n",
       "            var icon_6104fe9fada4abd3cc2ac106029d905b = L.AwesomeMarkers.icon(\n",
       "                {\n",
       "  &quot;markerColor&quot;: &quot;darkblue&quot;,\n",
       "  &quot;iconColor&quot;: &quot;white&quot;,\n",
       "  &quot;icon&quot;: &quot;info-sign&quot;,\n",
       "  &quot;prefix&quot;: &quot;glyphicon&quot;,\n",
       "  &quot;extraClasses&quot;: &quot;fa-rotate-0&quot;,\n",
       "}\n",
       "            );\n",
       "            marker_71cd3bac37f75f237fdbbe690a503e66.setIcon(icon_6104fe9fada4abd3cc2ac106029d905b);\n",
       "        \n",
       "    \n",
       "        var popup_a80cf2d9bb0920ee41b818459e0008a9 = L.popup({\n",
       "  &quot;maxWidth&quot;: &quot;100%&quot;,\n",
       "});\n",
       "\n",
       "        \n",
       "            \n",
       "                var html_93438cf111ffab47ee8b93868b2c0837 = $(`&lt;div id=&quot;html_93438cf111ffab47ee8b93868b2c0837&quot; style=&quot;width: 100.0%; height: 100.0%;&quot;&gt;Mundo Pizza&lt;/div&gt;`)[0];\n",
       "                popup_a80cf2d9bb0920ee41b818459e0008a9.setContent(html_93438cf111ffab47ee8b93868b2c0837);\n",
       "            \n",
       "        \n",
       "\n",
       "        marker_71cd3bac37f75f237fdbbe690a503e66.bindPopup(popup_a80cf2d9bb0920ee41b818459e0008a9)\n",
       "        ;\n",
       "\n",
       "        \n",
       "    \n",
       "    \n",
       "            var marker_16f5bd1f708e28ab4c9ad1978ab63b4e = L.marker(\n",
       "                [23.140326626649397, -82.35251446299252],\n",
       "                {\n",
       "}\n",
       "            ).addTo(map_3d8c657be72ab866f4b991eaf6375e72);\n",
       "        \n",
       "    \n",
       "            var icon_f027f6301382251db87dc332e8f383a5 = L.AwesomeMarkers.icon(\n",
       "                {\n",
       "  &quot;markerColor&quot;: &quot;darkblue&quot;,\n",
       "  &quot;iconColor&quot;: &quot;white&quot;,\n",
       "  &quot;icon&quot;: &quot;info-sign&quot;,\n",
       "  &quot;prefix&quot;: &quot;glyphicon&quot;,\n",
       "  &quot;extraClasses&quot;: &quot;fa-rotate-0&quot;,\n",
       "}\n",
       "            );\n",
       "            marker_16f5bd1f708e28ab4c9ad1978ab63b4e.setIcon(icon_f027f6301382251db87dc332e8f383a5);\n",
       "        \n",
       "    \n",
       "        var popup_2955acefe8deb2c9db461a0d0c9e0fa4 = L.popup({\n",
       "  &quot;maxWidth&quot;: &quot;100%&quot;,\n",
       "});\n",
       "\n",
       "        \n",
       "            \n",
       "                var html_65109b54215e95c2e91a2f0d840eb6b5 = $(`&lt;div id=&quot;html_65109b54215e95c2e91a2f0d840eb6b5&quot; style=&quot;width: 100.0%; height: 100.0%;&quot;&gt;Mythos&lt;/div&gt;`)[0];\n",
       "                popup_2955acefe8deb2c9db461a0d0c9e0fa4.setContent(html_65109b54215e95c2e91a2f0d840eb6b5);\n",
       "            \n",
       "        \n",
       "\n",
       "        marker_16f5bd1f708e28ab4c9ad1978ab63b4e.bindPopup(popup_2955acefe8deb2c9db461a0d0c9e0fa4)\n",
       "        ;\n",
       "\n",
       "        \n",
       "    \n",
       "    \n",
       "            var marker_f452e0f0c08b723682978261d5e91854 = L.marker(\n",
       "                [23.089346944948087, -82.36006598018456],\n",
       "                {\n",
       "}\n",
       "            ).addTo(map_3d8c657be72ab866f4b991eaf6375e72);\n",
       "        \n",
       "    \n",
       "            var icon_a94fe7ca011fdd34e3b3c257d8940a18 = L.AwesomeMarkers.icon(\n",
       "                {\n",
       "  &quot;markerColor&quot;: &quot;darkblue&quot;,\n",
       "  &quot;iconColor&quot;: &quot;white&quot;,\n",
       "  &quot;icon&quot;: &quot;info-sign&quot;,\n",
       "  &quot;prefix&quot;: &quot;glyphicon&quot;,\n",
       "  &quot;extraClasses&quot;: &quot;fa-rotate-0&quot;,\n",
       "}\n",
       "            );\n",
       "            marker_f452e0f0c08b723682978261d5e91854.setIcon(icon_a94fe7ca011fdd34e3b3c257d8940a18);\n",
       "        \n",
       "    \n",
       "        var popup_d7383240340d73838ae6813b15a5192d = L.popup({\n",
       "  &quot;maxWidth&quot;: &quot;100%&quot;,\n",
       "});\n",
       "\n",
       "        \n",
       "            \n",
       "                var html_8952cfc15089a85bf60e35c015e134ea = $(`&lt;div id=&quot;html_8952cfc15089a85bf60e35c015e134ea&quot; style=&quot;width: 100.0%; height: 100.0%;&quot;&gt;Nel Paradiso&lt;/div&gt;`)[0];\n",
       "                popup_d7383240340d73838ae6813b15a5192d.setContent(html_8952cfc15089a85bf60e35c015e134ea);\n",
       "            \n",
       "        \n",
       "\n",
       "        marker_f452e0f0c08b723682978261d5e91854.bindPopup(popup_d7383240340d73838ae6813b15a5192d)\n",
       "        ;\n",
       "\n",
       "        \n",
       "    \n",
       "    \n",
       "            var marker_1eb2d86317bb725d39256d456e3833fc = L.marker(\n",
       "                [23.05199571820644, -82.33216728909895],\n",
       "                {\n",
       "}\n",
       "            ).addTo(map_3d8c657be72ab866f4b991eaf6375e72);\n",
       "        \n",
       "    \n",
       "            var icon_b9bf4e41f56dc5bf1d009a63edaf67dc = L.AwesomeMarkers.icon(\n",
       "                {\n",
       "  &quot;markerColor&quot;: &quot;darkblue&quot;,\n",
       "  &quot;iconColor&quot;: &quot;white&quot;,\n",
       "  &quot;icon&quot;: &quot;info-sign&quot;,\n",
       "  &quot;prefix&quot;: &quot;glyphicon&quot;,\n",
       "  &quot;extraClasses&quot;: &quot;fa-rotate-0&quot;,\n",
       "}\n",
       "            );\n",
       "            marker_1eb2d86317bb725d39256d456e3833fc.setIcon(icon_b9bf4e41f56dc5bf1d009a63edaf67dc);\n",
       "        \n",
       "    \n",
       "        var popup_6430e86097a821aa93b456a95029bf85 = L.popup({\n",
       "  &quot;maxWidth&quot;: &quot;100%&quot;,\n",
       "});\n",
       "\n",
       "        \n",
       "            \n",
       "                var html_2d8d09d47316fce074a8368d37393019 = $(`&lt;div id=&quot;html_2d8d09d47316fce074a8368d37393019&quot; style=&quot;width: 100.0%; height: 100.0%;&quot;&gt;Comida Criolla Ocho Vías&lt;/div&gt;`)[0];\n",
       "                popup_6430e86097a821aa93b456a95029bf85.setContent(html_2d8d09d47316fce074a8368d37393019);\n",
       "            \n",
       "        \n",
       "\n",
       "        marker_1eb2d86317bb725d39256d456e3833fc.bindPopup(popup_6430e86097a821aa93b456a95029bf85)\n",
       "        ;\n",
       "\n",
       "        \n",
       "    \n",
       "    \n",
       "            var marker_c4f48d2ac87af171486ce3551290f405 = L.marker(\n",
       "                [23.043767256568298, -82.25328207851484],\n",
       "                {\n",
       "}\n",
       "            ).addTo(map_3d8c657be72ab866f4b991eaf6375e72);\n",
       "        \n",
       "    \n",
       "            var icon_e6f73c5a0374f3188a2b302525d22f45 = L.AwesomeMarkers.icon(\n",
       "                {\n",
       "  &quot;markerColor&quot;: &quot;darkblue&quot;,\n",
       "  &quot;iconColor&quot;: &quot;white&quot;,\n",
       "  &quot;icon&quot;: &quot;info-sign&quot;,\n",
       "  &quot;prefix&quot;: &quot;glyphicon&quot;,\n",
       "  &quot;extraClasses&quot;: &quot;fa-rotate-0&quot;,\n",
       "}\n",
       "            );\n",
       "            marker_c4f48d2ac87af171486ce3551290f405.setIcon(icon_e6f73c5a0374f3188a2b302525d22f45);\n",
       "        \n",
       "    \n",
       "        var popup_3b8bd548407cb9c1735c34ad8bcbf543 = L.popup({\n",
       "  &quot;maxWidth&quot;: &quot;100%&quot;,\n",
       "});\n",
       "\n",
       "        \n",
       "            \n",
       "                var html_93816c4b669453cb76f424c3295e7205 = $(`&lt;div id=&quot;html_93816c4b669453cb76f424c3295e7205&quot; style=&quot;width: 100.0%; height: 100.0%;&quot;&gt;Ole Ole&lt;/div&gt;`)[0];\n",
       "                popup_3b8bd548407cb9c1735c34ad8bcbf543.setContent(html_93816c4b669453cb76f424c3295e7205);\n",
       "            \n",
       "        \n",
       "\n",
       "        marker_c4f48d2ac87af171486ce3551290f405.bindPopup(popup_3b8bd548407cb9c1735c34ad8bcbf543)\n",
       "        ;\n",
       "\n",
       "        \n",
       "    \n",
       "    \n",
       "            var marker_1d38552e53df3a68c9fd0eea5b9e15f3 = L.marker(\n",
       "                [23.11917180897718, -82.41453997132663],\n",
       "                {\n",
       "}\n",
       "            ).addTo(map_3d8c657be72ab866f4b991eaf6375e72);\n",
       "        \n",
       "    \n",
       "            var icon_9e14e40019d79ecd3acd74791b6cd8b0 = L.AwesomeMarkers.icon(\n",
       "                {\n",
       "  &quot;markerColor&quot;: &quot;darkblue&quot;,\n",
       "  &quot;iconColor&quot;: &quot;white&quot;,\n",
       "  &quot;icon&quot;: &quot;info-sign&quot;,\n",
       "  &quot;prefix&quot;: &quot;glyphicon&quot;,\n",
       "  &quot;extraClasses&quot;: &quot;fa-rotate-0&quot;,\n",
       "}\n",
       "            );\n",
       "            marker_1d38552e53df3a68c9fd0eea5b9e15f3.setIcon(icon_9e14e40019d79ecd3acd74791b6cd8b0);\n",
       "        \n",
       "    \n",
       "        var popup_79b9e671590ddafb833cabe50a9bc216 = L.popup({\n",
       "  &quot;maxWidth&quot;: &quot;100%&quot;,\n",
       "});\n",
       "\n",
       "        \n",
       "            \n",
       "                var html_c692ef6b5fc60338161f5ee69de1f517 = $(`&lt;div id=&quot;html_c692ef6b5fc60338161f5ee69de1f517&quot; style=&quot;width: 100.0%; height: 100.0%;&quot;&gt;Otra manera&lt;/div&gt;`)[0];\n",
       "                popup_79b9e671590ddafb833cabe50a9bc216.setContent(html_c692ef6b5fc60338161f5ee69de1f517);\n",
       "            \n",
       "        \n",
       "\n",
       "        marker_1d38552e53df3a68c9fd0eea5b9e15f3.bindPopup(popup_79b9e671590ddafb833cabe50a9bc216)\n",
       "        ;\n",
       "\n",
       "        \n",
       "    \n",
       "    \n",
       "            var marker_aac9d44199fd853451c50166cddb6a05 = L.marker(\n",
       "                [23.03093446114541, -82.26395872798486],\n",
       "                {\n",
       "}\n",
       "            ).addTo(map_3d8c657be72ab866f4b991eaf6375e72);\n",
       "        \n",
       "    \n",
       "            var icon_c0d5446324034983495f6c87701fd383 = L.AwesomeMarkers.icon(\n",
       "                {\n",
       "  &quot;markerColor&quot;: &quot;darkblue&quot;,\n",
       "  &quot;iconColor&quot;: &quot;white&quot;,\n",
       "  &quot;icon&quot;: &quot;info-sign&quot;,\n",
       "  &quot;prefix&quot;: &quot;glyphicon&quot;,\n",
       "  &quot;extraClasses&quot;: &quot;fa-rotate-0&quot;,\n",
       "}\n",
       "            );\n",
       "            marker_aac9d44199fd853451c50166cddb6a05.setIcon(icon_c0d5446324034983495f6c87701fd383);\n",
       "        \n",
       "    \n",
       "        var popup_e56e66479911ae61defb85ac6a4e6233 = L.popup({\n",
       "  &quot;maxWidth&quot;: &quot;100%&quot;,\n",
       "});\n",
       "\n",
       "        \n",
       "            \n",
       "                var html_f85e0336928d6e6df6dd48fd2902f530 = $(`&lt;div id=&quot;html_f85e0336928d6e6df6dd48fd2902f530&quot; style=&quot;width: 100.0%; height: 100.0%;&quot;&gt;Pal&#x27;Karajo&lt;/div&gt;`)[0];\n",
       "                popup_e56e66479911ae61defb85ac6a4e6233.setContent(html_f85e0336928d6e6df6dd48fd2902f530);\n",
       "            \n",
       "        \n",
       "\n",
       "        marker_aac9d44199fd853451c50166cddb6a05.bindPopup(popup_e56e66479911ae61defb85ac6a4e6233)\n",
       "        ;\n",
       "\n",
       "        \n",
       "    \n",
       "    \n",
       "            var marker_fff0e42b7711cf8b903085e509a782b6 = L.marker(\n",
       "                [23.117985952744846, -82.41582832900848],\n",
       "                {\n",
       "}\n",
       "            ).addTo(map_3d8c657be72ab866f4b991eaf6375e72);\n",
       "        \n",
       "    \n",
       "            var icon_fdd968095b6461596d7559f703ff5515 = L.AwesomeMarkers.icon(\n",
       "                {\n",
       "  &quot;markerColor&quot;: &quot;darkblue&quot;,\n",
       "  &quot;iconColor&quot;: &quot;white&quot;,\n",
       "  &quot;icon&quot;: &quot;info-sign&quot;,\n",
       "  &quot;prefix&quot;: &quot;glyphicon&quot;,\n",
       "  &quot;extraClasses&quot;: &quot;fa-rotate-0&quot;,\n",
       "}\n",
       "            );\n",
       "            marker_fff0e42b7711cf8b903085e509a782b6.setIcon(icon_fdd968095b6461596d7559f703ff5515);\n",
       "        \n",
       "    \n",
       "        var popup_fd639d0d056a5954aa4172569eadc948 = L.popup({\n",
       "  &quot;maxWidth&quot;: &quot;100%&quot;,\n",
       "});\n",
       "\n",
       "        \n",
       "            \n",
       "                var html_4ba339d7a765816084753d4311177ce9 = $(`&lt;div id=&quot;html_4ba339d7a765816084753d4311177ce9&quot; style=&quot;width: 100.0%; height: 100.0%;&quot;&gt;Pechatniky&lt;/div&gt;`)[0];\n",
       "                popup_fd639d0d056a5954aa4172569eadc948.setContent(html_4ba339d7a765816084753d4311177ce9);\n",
       "            \n",
       "        \n",
       "\n",
       "        marker_fff0e42b7711cf8b903085e509a782b6.bindPopup(popup_fd639d0d056a5954aa4172569eadc948)\n",
       "        ;\n",
       "\n",
       "        \n",
       "    \n",
       "    \n",
       "            var marker_28a5ac9038b8c9ba700e78788db797cf = L.marker(\n",
       "                [23.136930631399565, -82.36181409182808],\n",
       "                {\n",
       "}\n",
       "            ).addTo(map_3d8c657be72ab866f4b991eaf6375e72);\n",
       "        \n",
       "    \n",
       "            var icon_cc3ac78f495def73e9a54089eb8dbd03 = L.AwesomeMarkers.icon(\n",
       "                {\n",
       "  &quot;markerColor&quot;: &quot;darkblue&quot;,\n",
       "  &quot;iconColor&quot;: &quot;white&quot;,\n",
       "  &quot;icon&quot;: &quot;info-sign&quot;,\n",
       "  &quot;prefix&quot;: &quot;glyphicon&quot;,\n",
       "  &quot;extraClasses&quot;: &quot;fa-rotate-0&quot;,\n",
       "}\n",
       "            );\n",
       "            marker_28a5ac9038b8c9ba700e78788db797cf.setIcon(icon_cc3ac78f495def73e9a54089eb8dbd03);\n",
       "        \n",
       "    \n",
       "        var popup_281ffa067abfd96cdd6ad2a728a6cdad = L.popup({\n",
       "  &quot;maxWidth&quot;: &quot;100%&quot;,\n",
       "});\n",
       "\n",
       "        \n",
       "            \n",
       "                var html_688da7a2dd042c2af56d494d8fe66147 = $(`&lt;div id=&quot;html_688da7a2dd042c2af56d494d8fe66147&quot; style=&quot;width: 100.0%; height: 100.0%;&quot;&gt;Pedro&#x27;s Bar&lt;/div&gt;`)[0];\n",
       "                popup_281ffa067abfd96cdd6ad2a728a6cdad.setContent(html_688da7a2dd042c2af56d494d8fe66147);\n",
       "            \n",
       "        \n",
       "\n",
       "        marker_28a5ac9038b8c9ba700e78788db797cf.bindPopup(popup_281ffa067abfd96cdd6ad2a728a6cdad)\n",
       "        ;\n",
       "\n",
       "        \n",
       "    \n",
       "    \n",
       "            var marker_524ccb9553d1ef1afdbd30aa828c9d03 = L.marker(\n",
       "                [23.119504136300304, -82.30350509953864],\n",
       "                {\n",
       "}\n",
       "            ).addTo(map_3d8c657be72ab866f4b991eaf6375e72);\n",
       "        \n",
       "    \n",
       "            var icon_5720a67454bc305d69b1475b0b4bfe5b = L.AwesomeMarkers.icon(\n",
       "                {\n",
       "  &quot;markerColor&quot;: &quot;darkblue&quot;,\n",
       "  &quot;iconColor&quot;: &quot;white&quot;,\n",
       "  &quot;icon&quot;: &quot;info-sign&quot;,\n",
       "  &quot;prefix&quot;: &quot;glyphicon&quot;,\n",
       "  &quot;extraClasses&quot;: &quot;fa-rotate-0&quot;,\n",
       "}\n",
       "            );\n",
       "            marker_524ccb9553d1ef1afdbd30aa828c9d03.setIcon(icon_5720a67454bc305d69b1475b0b4bfe5b);\n",
       "        \n",
       "    \n",
       "        var popup_51f623e39806e752d67380d5274a8718 = L.popup({\n",
       "  &quot;maxWidth&quot;: &quot;100%&quot;,\n",
       "});\n",
       "\n",
       "        \n",
       "            \n",
       "                var html_f5adfe99262c481a1dbf1b5e33077e9a = $(`&lt;div id=&quot;html_f5adfe99262c481a1dbf1b5e33077e9a&quot; style=&quot;width: 100.0%; height: 100.0%;&quot;&gt;Pizzas Vip&lt;/div&gt;`)[0];\n",
       "                popup_51f623e39806e752d67380d5274a8718.setContent(html_f5adfe99262c481a1dbf1b5e33077e9a);\n",
       "            \n",
       "        \n",
       "\n",
       "        marker_524ccb9553d1ef1afdbd30aa828c9d03.bindPopup(popup_51f623e39806e752d67380d5274a8718)\n",
       "        ;\n",
       "\n",
       "        \n",
       "    \n",
       "    \n",
       "            var marker_e0b755b9157113cac861323171faca3b = L.marker(\n",
       "                [23.139568075702893, -82.35939313561359],\n",
       "                {\n",
       "}\n",
       "            ).addTo(map_3d8c657be72ab866f4b991eaf6375e72);\n",
       "        \n",
       "    \n",
       "            var icon_ed484bd8f5431f339abb593aeea95d83 = L.AwesomeMarkers.icon(\n",
       "                {\n",
       "  &quot;markerColor&quot;: &quot;darkblue&quot;,\n",
       "  &quot;iconColor&quot;: &quot;white&quot;,\n",
       "  &quot;icon&quot;: &quot;info-sign&quot;,\n",
       "  &quot;prefix&quot;: &quot;glyphicon&quot;,\n",
       "  &quot;extraClasses&quot;: &quot;fa-rotate-0&quot;,\n",
       "}\n",
       "            );\n",
       "            marker_e0b755b9157113cac861323171faca3b.setIcon(icon_ed484bd8f5431f339abb593aeea95d83);\n",
       "        \n",
       "    \n",
       "        var popup_01187c4fd71f72f3b25217cb1f550259 = L.popup({\n",
       "  &quot;maxWidth&quot;: &quot;100%&quot;,\n",
       "});\n",
       "\n",
       "        \n",
       "            \n",
       "                var html_c87bcb417088c8b81539d52c6cf4230f = $(`&lt;div id=&quot;html_c87bcb417088c8b81539d52c6cf4230f&quot; style=&quot;width: 100.0%; height: 100.0%;&quot;&gt;Planh Enoteca &amp; Restaurante Mithai&lt;/div&gt;`)[0];\n",
       "                popup_01187c4fd71f72f3b25217cb1f550259.setContent(html_c87bcb417088c8b81539d52c6cf4230f);\n",
       "            \n",
       "        \n",
       "\n",
       "        marker_e0b755b9157113cac861323171faca3b.bindPopup(popup_01187c4fd71f72f3b25217cb1f550259)\n",
       "        ;\n",
       "\n",
       "        \n",
       "    \n",
       "    \n",
       "            var marker_04b24cce30ea9fe2c90a5e34967659b0 = L.marker(\n",
       "                [23.12218548403461, -82.30787987833503],\n",
       "                {\n",
       "}\n",
       "            ).addTo(map_3d8c657be72ab866f4b991eaf6375e72);\n",
       "        \n",
       "    \n",
       "            var icon_ea8b5090042bb86046351489e7c0b673 = L.AwesomeMarkers.icon(\n",
       "                {\n",
       "  &quot;markerColor&quot;: &quot;darkblue&quot;,\n",
       "  &quot;iconColor&quot;: &quot;white&quot;,\n",
       "  &quot;icon&quot;: &quot;info-sign&quot;,\n",
       "  &quot;prefix&quot;: &quot;glyphicon&quot;,\n",
       "  &quot;extraClasses&quot;: &quot;fa-rotate-0&quot;,\n",
       "}\n",
       "            );\n",
       "            marker_04b24cce30ea9fe2c90a5e34967659b0.setIcon(icon_ea8b5090042bb86046351489e7c0b673);\n",
       "        \n",
       "    \n",
       "        var popup_037a2951e337789ecc70ac4cdb006d88 = L.popup({\n",
       "  &quot;maxWidth&quot;: &quot;100%&quot;,\n",
       "});\n",
       "\n",
       "        \n",
       "            \n",
       "                var html_ed6a658cf41e4e69bfdb9083d978a767 = $(`&lt;div id=&quot;html_ed6a658cf41e4e69bfdb9083d978a767&quot; style=&quot;width: 100.0%; height: 100.0%;&quot;&gt;Polo&lt;/div&gt;`)[0];\n",
       "                popup_037a2951e337789ecc70ac4cdb006d88.setContent(html_ed6a658cf41e4e69bfdb9083d978a767);\n",
       "            \n",
       "        \n",
       "\n",
       "        marker_04b24cce30ea9fe2c90a5e34967659b0.bindPopup(popup_037a2951e337789ecc70ac4cdb006d88)\n",
       "        ;\n",
       "\n",
       "        \n",
       "    \n",
       "    \n",
       "            var marker_f503067dc0e495ccf85a0d40f1e1aafb = L.marker(\n",
       "                [23.077784762125038, -82.46936259237634],\n",
       "                {\n",
       "}\n",
       "            ).addTo(map_3d8c657be72ab866f4b991eaf6375e72);\n",
       "        \n",
       "    \n",
       "            var icon_10376cc40a27b368fe57534fd77001bf = L.AwesomeMarkers.icon(\n",
       "                {\n",
       "  &quot;markerColor&quot;: &quot;darkblue&quot;,\n",
       "  &quot;iconColor&quot;: &quot;white&quot;,\n",
       "  &quot;icon&quot;: &quot;info-sign&quot;,\n",
       "  &quot;prefix&quot;: &quot;glyphicon&quot;,\n",
       "  &quot;extraClasses&quot;: &quot;fa-rotate-0&quot;,\n",
       "}\n",
       "            );\n",
       "            marker_f503067dc0e495ccf85a0d40f1e1aafb.setIcon(icon_10376cc40a27b368fe57534fd77001bf);\n",
       "        \n",
       "    \n",
       "        var popup_06bc055817b636e17e53c07f2a2dfce1 = L.popup({\n",
       "  &quot;maxWidth&quot;: &quot;100%&quot;,\n",
       "});\n",
       "\n",
       "        \n",
       "            \n",
       "                var html_e9fae3f171fa89b9772ec3f5c78c8653 = $(`&lt;div id=&quot;html_e9fae3f171fa89b9772ec3f5c78c8653&quot; style=&quot;width: 100.0%; height: 100.0%;&quot;&gt;Qbanas 60&lt;/div&gt;`)[0];\n",
       "                popup_06bc055817b636e17e53c07f2a2dfce1.setContent(html_e9fae3f171fa89b9772ec3f5c78c8653);\n",
       "            \n",
       "        \n",
       "\n",
       "        marker_f503067dc0e495ccf85a0d40f1e1aafb.bindPopup(popup_06bc055817b636e17e53c07f2a2dfce1)\n",
       "        ;\n",
       "\n",
       "        \n",
       "    \n",
       "    \n",
       "            var marker_c603db73c87bf4733c4853b38d7717e7 = L.marker(\n",
       "                [23.04726944912177, -82.3630574258128],\n",
       "                {\n",
       "}\n",
       "            ).addTo(map_3d8c657be72ab866f4b991eaf6375e72);\n",
       "        \n",
       "    \n",
       "            var icon_81b106f42382c3b05ebb86f3e948d210 = L.AwesomeMarkers.icon(\n",
       "                {\n",
       "  &quot;markerColor&quot;: &quot;darkblue&quot;,\n",
       "  &quot;iconColor&quot;: &quot;white&quot;,\n",
       "  &quot;icon&quot;: &quot;info-sign&quot;,\n",
       "  &quot;prefix&quot;: &quot;glyphicon&quot;,\n",
       "  &quot;extraClasses&quot;: &quot;fa-rotate-0&quot;,\n",
       "}\n",
       "            );\n",
       "            marker_c603db73c87bf4733c4853b38d7717e7.setIcon(icon_81b106f42382c3b05ebb86f3e948d210);\n",
       "        \n",
       "    \n",
       "        var popup_f69513715f7771b0b94256dd100bef8c = L.popup({\n",
       "  &quot;maxWidth&quot;: &quot;100%&quot;,\n",
       "});\n",
       "\n",
       "        \n",
       "            \n",
       "                var html_7a456614355a0a8ebce3b02059cc95d5 = $(`&lt;div id=&quot;html_7a456614355a0a8ebce3b02059cc95d5&quot; style=&quot;width: 100.0%; height: 100.0%;&quot;&gt;Qué chévere&lt;/div&gt;`)[0];\n",
       "                popup_f69513715f7771b0b94256dd100bef8c.setContent(html_7a456614355a0a8ebce3b02059cc95d5);\n",
       "            \n",
       "        \n",
       "\n",
       "        marker_c603db73c87bf4733c4853b38d7717e7.bindPopup(popup_f69513715f7771b0b94256dd100bef8c)\n",
       "        ;\n",
       "\n",
       "        \n",
       "    \n",
       "    \n",
       "            var marker_b5b2c336cbb839cb17bf9e350d78e8d9 = L.marker(\n",
       "                [23.089740127860885, -82.421562507278],\n",
       "                {\n",
       "}\n",
       "            ).addTo(map_3d8c657be72ab866f4b991eaf6375e72);\n",
       "        \n",
       "    \n",
       "            var icon_e889794b028e55a396fb5ba9ac3640f7 = L.AwesomeMarkers.icon(\n",
       "                {\n",
       "  &quot;markerColor&quot;: &quot;darkblue&quot;,\n",
       "  &quot;iconColor&quot;: &quot;white&quot;,\n",
       "  &quot;icon&quot;: &quot;info-sign&quot;,\n",
       "  &quot;prefix&quot;: &quot;glyphicon&quot;,\n",
       "  &quot;extraClasses&quot;: &quot;fa-rotate-0&quot;,\n",
       "}\n",
       "            );\n",
       "            marker_b5b2c336cbb839cb17bf9e350d78e8d9.setIcon(icon_e889794b028e55a396fb5ba9ac3640f7);\n",
       "        \n",
       "    \n",
       "        var popup_3ec93672cd43836be61969a0d5f7d4de = L.popup({\n",
       "  &quot;maxWidth&quot;: &quot;100%&quot;,\n",
       "});\n",
       "\n",
       "        \n",
       "            \n",
       "                var html_f09ce831f7d813f8be8be3322ae5e7ca = $(`&lt;div id=&quot;html_f09ce831f7d813f8be8be3322ae5e7ca&quot; style=&quot;width: 100.0%; height: 100.0%;&quot;&gt;Ranchon de 41&lt;/div&gt;`)[0];\n",
       "                popup_3ec93672cd43836be61969a0d5f7d4de.setContent(html_f09ce831f7d813f8be8be3322ae5e7ca);\n",
       "            \n",
       "        \n",
       "\n",
       "        marker_b5b2c336cbb839cb17bf9e350d78e8d9.bindPopup(popup_3ec93672cd43836be61969a0d5f7d4de)\n",
       "        ;\n",
       "\n",
       "        \n",
       "    \n",
       "    \n",
       "            var marker_4050324bc2b17678051ef115f9ff3958 = L.marker(\n",
       "                [23.03192045701879, -82.47284867841391],\n",
       "                {\n",
       "}\n",
       "            ).addTo(map_3d8c657be72ab866f4b991eaf6375e72);\n",
       "        \n",
       "    \n",
       "            var icon_0b840cbfbc2b19131417a0660056fd86 = L.AwesomeMarkers.icon(\n",
       "                {\n",
       "  &quot;markerColor&quot;: &quot;darkblue&quot;,\n",
       "  &quot;iconColor&quot;: &quot;white&quot;,\n",
       "  &quot;icon&quot;: &quot;info-sign&quot;,\n",
       "  &quot;prefix&quot;: &quot;glyphicon&quot;,\n",
       "  &quot;extraClasses&quot;: &quot;fa-rotate-0&quot;,\n",
       "}\n",
       "            );\n",
       "            marker_4050324bc2b17678051ef115f9ff3958.setIcon(icon_0b840cbfbc2b19131417a0660056fd86);\n",
       "        \n",
       "    \n",
       "        var popup_0ab44a36328cf5fd8cb01a804e335477 = L.popup({\n",
       "  &quot;maxWidth&quot;: &quot;100%&quot;,\n",
       "});\n",
       "\n",
       "        \n",
       "            \n",
       "                var html_5b01b0c91ea21102bc055e848ced601b = $(`&lt;div id=&quot;html_5b01b0c91ea21102bc055e848ced601b&quot; style=&quot;width: 100.0%; height: 100.0%;&quot;&gt;Ranchon Don Martin&lt;/div&gt;`)[0];\n",
       "                popup_0ab44a36328cf5fd8cb01a804e335477.setContent(html_5b01b0c91ea21102bc055e848ced601b);\n",
       "            \n",
       "        \n",
       "\n",
       "        marker_4050324bc2b17678051ef115f9ff3958.bindPopup(popup_0ab44a36328cf5fd8cb01a804e335477)\n",
       "        ;\n",
       "\n",
       "        \n",
       "    \n",
       "    \n",
       "            var marker_949a57859bdf2d39c487f7a4f97c3c5c = L.marker(\n",
       "                [22.97502374928816, -82.39251235971446],\n",
       "                {\n",
       "}\n",
       "            ).addTo(map_3d8c657be72ab866f4b991eaf6375e72);\n",
       "        \n",
       "    \n",
       "            var icon_8ab75c4879ef3a196315f3866dc924c0 = L.AwesomeMarkers.icon(\n",
       "                {\n",
       "  &quot;markerColor&quot;: &quot;darkblue&quot;,\n",
       "  &quot;iconColor&quot;: &quot;white&quot;,\n",
       "  &quot;icon&quot;: &quot;info-sign&quot;,\n",
       "  &quot;prefix&quot;: &quot;glyphicon&quot;,\n",
       "  &quot;extraClasses&quot;: &quot;fa-rotate-0&quot;,\n",
       "}\n",
       "            );\n",
       "            marker_949a57859bdf2d39c487f7a4f97c3c5c.setIcon(icon_8ab75c4879ef3a196315f3866dc924c0);\n",
       "        \n",
       "    \n",
       "        var popup_7bc9e5ebb0f5ec0c0f4059ba3eceeebb = L.popup({\n",
       "  &quot;maxWidth&quot;: &quot;100%&quot;,\n",
       "});\n",
       "\n",
       "        \n",
       "            \n",
       "                var html_f411dc1e97934506edd3963c9449118f = $(`&lt;div id=&quot;html_f411dc1e97934506edd3963c9449118f&quot; style=&quot;width: 100.0%; height: 100.0%;&quot;&gt;Ranchon El Pinareño&lt;/div&gt;`)[0];\n",
       "                popup_7bc9e5ebb0f5ec0c0f4059ba3eceeebb.setContent(html_f411dc1e97934506edd3963c9449118f);\n",
       "            \n",
       "        \n",
       "\n",
       "        marker_949a57859bdf2d39c487f7a4f97c3c5c.bindPopup(popup_7bc9e5ebb0f5ec0c0f4059ba3eceeebb)\n",
       "        ;\n",
       "\n",
       "        \n",
       "    \n",
       "    \n",
       "            var marker_c438e3cb9f324594e1cc16092a666743 = L.marker(\n",
       "                [22.967607839818697, -82.38841192208918],\n",
       "                {\n",
       "}\n",
       "            ).addTo(map_3d8c657be72ab866f4b991eaf6375e72);\n",
       "        \n",
       "    \n",
       "            var icon_a7a7f34a120895c1a733e96ed01ecf08 = L.AwesomeMarkers.icon(\n",
       "                {\n",
       "  &quot;markerColor&quot;: &quot;darkblue&quot;,\n",
       "  &quot;iconColor&quot;: &quot;white&quot;,\n",
       "  &quot;icon&quot;: &quot;info-sign&quot;,\n",
       "  &quot;prefix&quot;: &quot;glyphicon&quot;,\n",
       "  &quot;extraClasses&quot;: &quot;fa-rotate-0&quot;,\n",
       "}\n",
       "            );\n",
       "            marker_c438e3cb9f324594e1cc16092a666743.setIcon(icon_a7a7f34a120895c1a733e96ed01ecf08);\n",
       "        \n",
       "    \n",
       "        var popup_64a235f853f49e0e324ce95ff7b9e528 = L.popup({\n",
       "  &quot;maxWidth&quot;: &quot;100%&quot;,\n",
       "});\n",
       "\n",
       "        \n",
       "            \n",
       "                var html_d65181b66ad83d6c04d07e07d069d987 = $(`&lt;div id=&quot;html_d65181b66ad83d6c04d07e07d069d987&quot; style=&quot;width: 100.0%; height: 100.0%;&quot;&gt;Rancho Blanco&lt;/div&gt;`)[0];\n",
       "                popup_64a235f853f49e0e324ce95ff7b9e528.setContent(html_d65181b66ad83d6c04d07e07d069d987);\n",
       "            \n",
       "        \n",
       "\n",
       "        marker_c438e3cb9f324594e1cc16092a666743.bindPopup(popup_64a235f853f49e0e324ce95ff7b9e528)\n",
       "        ;\n",
       "\n",
       "        \n",
       "    \n",
       "    \n",
       "            var marker_16216439ccdcb6004bb317a528e1d470 = L.marker(\n",
       "                [23.14334346067267, -82.39569989367574],\n",
       "                {\n",
       "}\n",
       "            ).addTo(map_3d8c657be72ab866f4b991eaf6375e72);\n",
       "        \n",
       "    \n",
       "            var icon_1670ac07a71f24495ca2570712ca6afc = L.AwesomeMarkers.icon(\n",
       "                {\n",
       "  &quot;markerColor&quot;: &quot;darkblue&quot;,\n",
       "  &quot;iconColor&quot;: &quot;white&quot;,\n",
       "  &quot;icon&quot;: &quot;info-sign&quot;,\n",
       "  &quot;prefix&quot;: &quot;glyphicon&quot;,\n",
       "  &quot;extraClasses&quot;: &quot;fa-rotate-0&quot;,\n",
       "}\n",
       "            );\n",
       "            marker_16216439ccdcb6004bb317a528e1d470.setIcon(icon_1670ac07a71f24495ca2570712ca6afc);\n",
       "        \n",
       "    \n",
       "        var popup_a0a368f9edf47a67e8bd652b7ac6d661 = L.popup({\n",
       "  &quot;maxWidth&quot;: &quot;100%&quot;,\n",
       "});\n",
       "\n",
       "        \n",
       "            \n",
       "                var html_91f6e78c9228b6c6da46d3da277718ac = $(`&lt;div id=&quot;html_91f6e78c9228b6c6da46d3da277718ac&quot; style=&quot;width: 100.0%; height: 100.0%;&quot;&gt;Razones y motivos&lt;/div&gt;`)[0];\n",
       "                popup_a0a368f9edf47a67e8bd652b7ac6d661.setContent(html_91f6e78c9228b6c6da46d3da277718ac);\n",
       "            \n",
       "        \n",
       "\n",
       "        marker_16216439ccdcb6004bb317a528e1d470.bindPopup(popup_a0a368f9edf47a67e8bd652b7ac6d661)\n",
       "        ;\n",
       "\n",
       "        \n",
       "    \n",
       "    \n",
       "            var marker_78d956a444ab152f91a3ff9578c4f04f = L.marker(\n",
       "                [23.12540621324244, -82.33255714289457],\n",
       "                {\n",
       "}\n",
       "            ).addTo(map_3d8c657be72ab866f4b991eaf6375e72);\n",
       "        \n",
       "    \n",
       "            var icon_6cee868d49ce3e8344673f12ba53e03e = L.AwesomeMarkers.icon(\n",
       "                {\n",
       "  &quot;markerColor&quot;: &quot;darkblue&quot;,\n",
       "  &quot;iconColor&quot;: &quot;white&quot;,\n",
       "  &quot;icon&quot;: &quot;info-sign&quot;,\n",
       "  &quot;prefix&quot;: &quot;glyphicon&quot;,\n",
       "  &quot;extraClasses&quot;: &quot;fa-rotate-0&quot;,\n",
       "}\n",
       "            );\n",
       "            marker_78d956a444ab152f91a3ff9578c4f04f.setIcon(icon_6cee868d49ce3e8344673f12ba53e03e);\n",
       "        \n",
       "    \n",
       "        var popup_7fa8e06035dd4ce69538bf61d7563985 = L.popup({\n",
       "  &quot;maxWidth&quot;: &quot;100%&quot;,\n",
       "});\n",
       "\n",
       "        \n",
       "            \n",
       "                var html_d88e9df9e00ac615633ed18b8a9791ba = $(`&lt;div id=&quot;html_d88e9df9e00ac615633ed18b8a9791ba&quot; style=&quot;width: 100.0%; height: 100.0%;&quot;&gt;Restaurante Lan&lt;/div&gt;`)[0];\n",
       "                popup_7fa8e06035dd4ce69538bf61d7563985.setContent(html_d88e9df9e00ac615633ed18b8a9791ba);\n",
       "            \n",
       "        \n",
       "\n",
       "        marker_78d956a444ab152f91a3ff9578c4f04f.bindPopup(popup_7fa8e06035dd4ce69538bf61d7563985)\n",
       "        ;\n",
       "\n",
       "        \n",
       "    \n",
       "    \n",
       "            var marker_0cee455009a9f9a839229a160eaf9a6a = L.marker(\n",
       "                [23.137414091589683, -82.36092696447452],\n",
       "                {\n",
       "}\n",
       "            ).addTo(map_3d8c657be72ab866f4b991eaf6375e72);\n",
       "        \n",
       "    \n",
       "            var icon_fb7c32e9fc790ad25d9422af581c000d = L.AwesomeMarkers.icon(\n",
       "                {\n",
       "  &quot;markerColor&quot;: &quot;darkblue&quot;,\n",
       "  &quot;iconColor&quot;: &quot;white&quot;,\n",
       "  &quot;icon&quot;: &quot;info-sign&quot;,\n",
       "  &quot;prefix&quot;: &quot;glyphicon&quot;,\n",
       "  &quot;extraClasses&quot;: &quot;fa-rotate-0&quot;,\n",
       "}\n",
       "            );\n",
       "            marker_0cee455009a9f9a839229a160eaf9a6a.setIcon(icon_fb7c32e9fc790ad25d9422af581c000d);\n",
       "        \n",
       "    \n",
       "        var popup_bfaf8cb44b0c33dc143f2650233b8a30 = L.popup({\n",
       "  &quot;maxWidth&quot;: &quot;100%&quot;,\n",
       "});\n",
       "\n",
       "        \n",
       "            \n",
       "                var html_247f4b9e783e4904b898bfeb768048e1 = $(`&lt;div id=&quot;html_247f4b9e783e4904b898bfeb768048e1&quot; style=&quot;width: 100.0%; height: 100.0%;&quot;&gt;RicarDon&lt;/div&gt;`)[0];\n",
       "                popup_bfaf8cb44b0c33dc143f2650233b8a30.setContent(html_247f4b9e783e4904b898bfeb768048e1);\n",
       "            \n",
       "        \n",
       "\n",
       "        marker_0cee455009a9f9a839229a160eaf9a6a.bindPopup(popup_bfaf8cb44b0c33dc143f2650233b8a30)\n",
       "        ;\n",
       "\n",
       "        \n",
       "    \n",
       "    \n",
       "            var marker_e20c67e5a05ab7f3fe69f9311206afea = L.marker(\n",
       "                [23.12627363995597, -82.38090833528463],\n",
       "                {\n",
       "}\n",
       "            ).addTo(map_3d8c657be72ab866f4b991eaf6375e72);\n",
       "        \n",
       "    \n",
       "            var icon_e59e3d4368c3b765c839bf87d852de32 = L.AwesomeMarkers.icon(\n",
       "                {\n",
       "  &quot;markerColor&quot;: &quot;darkblue&quot;,\n",
       "  &quot;iconColor&quot;: &quot;white&quot;,\n",
       "  &quot;icon&quot;: &quot;info-sign&quot;,\n",
       "  &quot;prefix&quot;: &quot;glyphicon&quot;,\n",
       "  &quot;extraClasses&quot;: &quot;fa-rotate-0&quot;,\n",
       "}\n",
       "            );\n",
       "            marker_e20c67e5a05ab7f3fe69f9311206afea.setIcon(icon_e59e3d4368c3b765c839bf87d852de32);\n",
       "        \n",
       "    \n",
       "        var popup_ebfedcf51ebe96ef0e06e9745d24bf34 = L.popup({\n",
       "  &quot;maxWidth&quot;: &quot;100%&quot;,\n",
       "});\n",
       "\n",
       "        \n",
       "            \n",
       "                var html_120340c9d17d52c25907f0b0563819ca = $(`&lt;div id=&quot;html_120340c9d17d52c25907f0b0563819ca&quot; style=&quot;width: 100.0%; height: 100.0%;&quot;&gt;Rico Rico&lt;/div&gt;`)[0];\n",
       "                popup_ebfedcf51ebe96ef0e06e9745d24bf34.setContent(html_120340c9d17d52c25907f0b0563819ca);\n",
       "            \n",
       "        \n",
       "\n",
       "        marker_e20c67e5a05ab7f3fe69f9311206afea.bindPopup(popup_ebfedcf51ebe96ef0e06e9745d24bf34)\n",
       "        ;\n",
       "\n",
       "        \n",
       "    \n",
       "    \n",
       "            var marker_2b71b14c219f1fcee69080e6befeb571 = L.marker(\n",
       "                [23.094809204242612, -82.41865532082285],\n",
       "                {\n",
       "}\n",
       "            ).addTo(map_3d8c657be72ab866f4b991eaf6375e72);\n",
       "        \n",
       "    \n",
       "            var icon_e7ae93a7d5e0253d42032a5a97a4fe41 = L.AwesomeMarkers.icon(\n",
       "                {\n",
       "  &quot;markerColor&quot;: &quot;darkblue&quot;,\n",
       "  &quot;iconColor&quot;: &quot;white&quot;,\n",
       "  &quot;icon&quot;: &quot;info-sign&quot;,\n",
       "  &quot;prefix&quot;: &quot;glyphicon&quot;,\n",
       "  &quot;extraClasses&quot;: &quot;fa-rotate-0&quot;,\n",
       "}\n",
       "            );\n",
       "            marker_2b71b14c219f1fcee69080e6befeb571.setIcon(icon_e7ae93a7d5e0253d42032a5a97a4fe41);\n",
       "        \n",
       "    \n",
       "        var popup_95963f4f0fe44abd3b37d6fe70d34689 = L.popup({\n",
       "  &quot;maxWidth&quot;: &quot;100%&quot;,\n",
       "});\n",
       "\n",
       "        \n",
       "            \n",
       "                var html_8621f6ae8733d4ec3001bdde97a83f7b = $(`&lt;div id=&quot;html_8621f6ae8733d4ec3001bdde97a83f7b&quot; style=&quot;width: 100.0%; height: 100.0%;&quot;&gt;Rodney&lt;/div&gt;`)[0];\n",
       "                popup_95963f4f0fe44abd3b37d6fe70d34689.setContent(html_8621f6ae8733d4ec3001bdde97a83f7b);\n",
       "            \n",
       "        \n",
       "\n",
       "        marker_2b71b14c219f1fcee69080e6befeb571.bindPopup(popup_95963f4f0fe44abd3b37d6fe70d34689)\n",
       "        ;\n",
       "\n",
       "        \n",
       "    \n",
       "    \n",
       "            var marker_2191393a354869a7e332e464cd6ad0bd = L.marker(\n",
       "                [23.14008936976356, -82.3043403907062],\n",
       "                {\n",
       "}\n",
       "            ).addTo(map_3d8c657be72ab866f4b991eaf6375e72);\n",
       "        \n",
       "    \n",
       "            var icon_b0b5c34963fadde284a63579358e52d5 = L.AwesomeMarkers.icon(\n",
       "                {\n",
       "  &quot;markerColor&quot;: &quot;darkblue&quot;,\n",
       "  &quot;iconColor&quot;: &quot;white&quot;,\n",
       "  &quot;icon&quot;: &quot;info-sign&quot;,\n",
       "  &quot;prefix&quot;: &quot;glyphicon&quot;,\n",
       "  &quot;extraClasses&quot;: &quot;fa-rotate-0&quot;,\n",
       "}\n",
       "            );\n",
       "            marker_2191393a354869a7e332e464cd6ad0bd.setIcon(icon_b0b5c34963fadde284a63579358e52d5);\n",
       "        \n",
       "    \n",
       "        var popup_ddf255ca472dbf23bfb3596a390f9553 = L.popup({\n",
       "  &quot;maxWidth&quot;: &quot;100%&quot;,\n",
       "});\n",
       "\n",
       "        \n",
       "            \n",
       "                var html_ebc8283956b5f00fb5b1d4928df39faa = $(`&lt;div id=&quot;html_ebc8283956b5f00fb5b1d4928df39faa&quot; style=&quot;width: 100.0%; height: 100.0%;&quot;&gt;Ruta 66&lt;/div&gt;`)[0];\n",
       "                popup_ddf255ca472dbf23bfb3596a390f9553.setContent(html_ebc8283956b5f00fb5b1d4928df39faa);\n",
       "            \n",
       "        \n",
       "\n",
       "        marker_2191393a354869a7e332e464cd6ad0bd.bindPopup(popup_ddf255ca472dbf23bfb3596a390f9553)\n",
       "        ;\n",
       "\n",
       "        \n",
       "    \n",
       "    \n",
       "            var marker_014a8514d6700fe513077f15dfff95f6 = L.marker(\n",
       "                [23.13412923367649, -82.37826298998031],\n",
       "                {\n",
       "}\n",
       "            ).addTo(map_3d8c657be72ab866f4b991eaf6375e72);\n",
       "        \n",
       "    \n",
       "            var icon_a427e9a9516852e29a070308c4f04a92 = L.AwesomeMarkers.icon(\n",
       "                {\n",
       "  &quot;markerColor&quot;: &quot;darkblue&quot;,\n",
       "  &quot;iconColor&quot;: &quot;white&quot;,\n",
       "  &quot;icon&quot;: &quot;info-sign&quot;,\n",
       "  &quot;prefix&quot;: &quot;glyphicon&quot;,\n",
       "  &quot;extraClasses&quot;: &quot;fa-rotate-0&quot;,\n",
       "}\n",
       "            );\n",
       "            marker_014a8514d6700fe513077f15dfff95f6.setIcon(icon_a427e9a9516852e29a070308c4f04a92);\n",
       "        \n",
       "    \n",
       "        var popup_1ecb982746e7f0971fce1e0761b3f8e2 = L.popup({\n",
       "  &quot;maxWidth&quot;: &quot;100%&quot;,\n",
       "});\n",
       "\n",
       "        \n",
       "            \n",
       "                var html_8ae855dd3c0a69acc7c6a6077d9a38ea = $(`&lt;div id=&quot;html_8ae855dd3c0a69acc7c6a6077d9a38ea&quot; style=&quot;width: 100.0%; height: 100.0%;&quot;&gt;Salchipizza&lt;/div&gt;`)[0];\n",
       "                popup_1ecb982746e7f0971fce1e0761b3f8e2.setContent(html_8ae855dd3c0a69acc7c6a6077d9a38ea);\n",
       "            \n",
       "        \n",
       "\n",
       "        marker_014a8514d6700fe513077f15dfff95f6.bindPopup(popup_1ecb982746e7f0971fce1e0761b3f8e2)\n",
       "        ;\n",
       "\n",
       "        \n",
       "    \n",
       "    \n",
       "            var marker_c44b7fc73e75b7446a50ea3ca4218ab1 = L.marker(\n",
       "                [23.11402909851061, -82.43950857535798],\n",
       "                {\n",
       "}\n",
       "            ).addTo(map_3d8c657be72ab866f4b991eaf6375e72);\n",
       "        \n",
       "    \n",
       "            var icon_28b77d4cd2286488246304686a3ac708 = L.AwesomeMarkers.icon(\n",
       "                {\n",
       "  &quot;markerColor&quot;: &quot;darkblue&quot;,\n",
       "  &quot;iconColor&quot;: &quot;white&quot;,\n",
       "  &quot;icon&quot;: &quot;info-sign&quot;,\n",
       "  &quot;prefix&quot;: &quot;glyphicon&quot;,\n",
       "  &quot;extraClasses&quot;: &quot;fa-rotate-0&quot;,\n",
       "}\n",
       "            );\n",
       "            marker_c44b7fc73e75b7446a50ea3ca4218ab1.setIcon(icon_28b77d4cd2286488246304686a3ac708);\n",
       "        \n",
       "    \n",
       "        var popup_39d0922f6aaf49363616879448b60a82 = L.popup({\n",
       "  &quot;maxWidth&quot;: &quot;100%&quot;,\n",
       "});\n",
       "\n",
       "        \n",
       "            \n",
       "                var html_07279fa87a8e8dc7cf9a7ebd365c155d = $(`&lt;div id=&quot;html_07279fa87a8e8dc7cf9a7ebd365c155d&quot; style=&quot;width: 100.0%; height: 100.0%;&quot;&gt;Salsa Mora&lt;/div&gt;`)[0];\n",
       "                popup_39d0922f6aaf49363616879448b60a82.setContent(html_07279fa87a8e8dc7cf9a7ebd365c155d);\n",
       "            \n",
       "        \n",
       "\n",
       "        marker_c44b7fc73e75b7446a50ea3ca4218ab1.bindPopup(popup_39d0922f6aaf49363616879448b60a82)\n",
       "        ;\n",
       "\n",
       "        \n",
       "    \n",
       "    \n",
       "            var marker_1ea492adffb89bae01b4519c77ec13fa = L.marker(\n",
       "                [23.11380465355718, -82.36663315102301],\n",
       "                {\n",
       "}\n",
       "            ).addTo(map_3d8c657be72ab866f4b991eaf6375e72);\n",
       "        \n",
       "    \n",
       "            var icon_501c673ab1f5f987dedc97cc52e8fd32 = L.AwesomeMarkers.icon(\n",
       "                {\n",
       "  &quot;markerColor&quot;: &quot;darkblue&quot;,\n",
       "  &quot;iconColor&quot;: &quot;white&quot;,\n",
       "  &quot;icon&quot;: &quot;info-sign&quot;,\n",
       "  &quot;prefix&quot;: &quot;glyphicon&quot;,\n",
       "  &quot;extraClasses&quot;: &quot;fa-rotate-0&quot;,\n",
       "}\n",
       "            );\n",
       "            marker_1ea492adffb89bae01b4519c77ec13fa.setIcon(icon_501c673ab1f5f987dedc97cc52e8fd32);\n",
       "        \n",
       "    \n",
       "        var popup_8b177d45584d967570199fdea138a24d = L.popup({\n",
       "  &quot;maxWidth&quot;: &quot;100%&quot;,\n",
       "});\n",
       "\n",
       "        \n",
       "            \n",
       "                var html_2e1d130d786272e5de03d63900b0e926 = $(`&lt;div id=&quot;html_2e1d130d786272e5de03d63900b0e926&quot; style=&quot;width: 100.0%; height: 100.0%;&quot;&gt;San Rafael 1051&lt;/div&gt;`)[0];\n",
       "                popup_8b177d45584d967570199fdea138a24d.setContent(html_2e1d130d786272e5de03d63900b0e926);\n",
       "            \n",
       "        \n",
       "\n",
       "        marker_1ea492adffb89bae01b4519c77ec13fa.bindPopup(popup_8b177d45584d967570199fdea138a24d)\n",
       "        ;\n",
       "\n",
       "        \n",
       "    \n",
       "    \n",
       "            var marker_49f31b1be89e4f111fd26deeb2a93ea6 = L.marker(\n",
       "                [23.08929844519211, -82.48873679830157],\n",
       "                {\n",
       "}\n",
       "            ).addTo(map_3d8c657be72ab866f4b991eaf6375e72);\n",
       "        \n",
       "    \n",
       "            var icon_b9dc143641744570c946780ad8381a42 = L.AwesomeMarkers.icon(\n",
       "                {\n",
       "  &quot;markerColor&quot;: &quot;darkblue&quot;,\n",
       "  &quot;iconColor&quot;: &quot;white&quot;,\n",
       "  &quot;icon&quot;: &quot;info-sign&quot;,\n",
       "  &quot;prefix&quot;: &quot;glyphicon&quot;,\n",
       "  &quot;extraClasses&quot;: &quot;fa-rotate-0&quot;,\n",
       "}\n",
       "            );\n",
       "            marker_49f31b1be89e4f111fd26deeb2a93ea6.setIcon(icon_b9dc143641744570c946780ad8381a42);\n",
       "        \n",
       "    \n",
       "        var popup_5adf3a1e7790e078229c81792bebc3ee = L.popup({\n",
       "  &quot;maxWidth&quot;: &quot;100%&quot;,\n",
       "});\n",
       "\n",
       "        \n",
       "            \n",
       "                var html_c7e67992f4b73afa5ad029f24191c2d8 = $(`&lt;div id=&quot;html_c7e67992f4b73afa5ad029f24191c2d8&quot; style=&quot;width: 100.0%; height: 100.0%;&quot;&gt;Santy Pescador&lt;/div&gt;`)[0];\n",
       "                popup_5adf3a1e7790e078229c81792bebc3ee.setContent(html_c7e67992f4b73afa5ad029f24191c2d8);\n",
       "            \n",
       "        \n",
       "\n",
       "        marker_49f31b1be89e4f111fd26deeb2a93ea6.bindPopup(popup_5adf3a1e7790e078229c81792bebc3ee)\n",
       "        ;\n",
       "\n",
       "        \n",
       "    \n",
       "    \n",
       "            var marker_ec43f1d367483b39c95d5688a0f72c6b = L.marker(\n",
       "                [23.125680181720934, -82.41363706139158],\n",
       "                {\n",
       "}\n",
       "            ).addTo(map_3d8c657be72ab866f4b991eaf6375e72);\n",
       "        \n",
       "    \n",
       "            var icon_2fc75e19e33eb399934c8beb170bf413 = L.AwesomeMarkers.icon(\n",
       "                {\n",
       "  &quot;markerColor&quot;: &quot;darkblue&quot;,\n",
       "  &quot;iconColor&quot;: &quot;white&quot;,\n",
       "  &quot;icon&quot;: &quot;info-sign&quot;,\n",
       "  &quot;prefix&quot;: &quot;glyphicon&quot;,\n",
       "  &quot;extraClasses&quot;: &quot;fa-rotate-0&quot;,\n",
       "}\n",
       "            );\n",
       "            marker_ec43f1d367483b39c95d5688a0f72c6b.setIcon(icon_2fc75e19e33eb399934c8beb170bf413);\n",
       "        \n",
       "    \n",
       "        var popup_967667e7ada6c7654d650eb5cf3f2957 = L.popup({\n",
       "  &quot;maxWidth&quot;: &quot;100%&quot;,\n",
       "});\n",
       "\n",
       "        \n",
       "            \n",
       "                var html_e033c581aee9ea2bded0bcfb6a34b34d = $(`&lt;div id=&quot;html_e033c581aee9ea2bded0bcfb6a34b34d&quot; style=&quot;width: 100.0%; height: 100.0%;&quot;&gt;Sapori&lt;/div&gt;`)[0];\n",
       "                popup_967667e7ada6c7654d650eb5cf3f2957.setContent(html_e033c581aee9ea2bded0bcfb6a34b34d);\n",
       "            \n",
       "        \n",
       "\n",
       "        marker_ec43f1d367483b39c95d5688a0f72c6b.bindPopup(popup_967667e7ada6c7654d650eb5cf3f2957)\n",
       "        ;\n",
       "\n",
       "        \n",
       "    \n",
       "    \n",
       "            var marker_0c71367516595cd6d67d60ac74d29ce8 = L.marker(\n",
       "                [23.117562853692327, -82.38451702024058],\n",
       "                {\n",
       "}\n",
       "            ).addTo(map_3d8c657be72ab866f4b991eaf6375e72);\n",
       "        \n",
       "    \n",
       "            var icon_25e1abd549e326bedc58748aef27c650 = L.AwesomeMarkers.icon(\n",
       "                {\n",
       "  &quot;markerColor&quot;: &quot;darkblue&quot;,\n",
       "  &quot;iconColor&quot;: &quot;white&quot;,\n",
       "  &quot;icon&quot;: &quot;info-sign&quot;,\n",
       "  &quot;prefix&quot;: &quot;glyphicon&quot;,\n",
       "  &quot;extraClasses&quot;: &quot;fa-rotate-0&quot;,\n",
       "}\n",
       "            );\n",
       "            marker_0c71367516595cd6d67d60ac74d29ce8.setIcon(icon_25e1abd549e326bedc58748aef27c650);\n",
       "        \n",
       "    \n",
       "        var popup_5a1cd6c05e6c6f17af8367916760801d = L.popup({\n",
       "  &quot;maxWidth&quot;: &quot;100%&quot;,\n",
       "});\n",
       "\n",
       "        \n",
       "            \n",
       "                var html_ee719bcd87c1a14d6c9931bdf705d3d8 = $(`&lt;div id=&quot;html_ee719bcd87c1a14d6c9931bdf705d3d8&quot; style=&quot;width: 100.0%; height: 100.0%;&quot;&gt;Shapuseros&lt;/div&gt;`)[0];\n",
       "                popup_5a1cd6c05e6c6f17af8367916760801d.setContent(html_ee719bcd87c1a14d6c9931bdf705d3d8);\n",
       "            \n",
       "        \n",
       "\n",
       "        marker_0c71367516595cd6d67d60ac74d29ce8.bindPopup(popup_5a1cd6c05e6c6f17af8367916760801d)\n",
       "        ;\n",
       "\n",
       "        \n",
       "    \n",
       "    \n",
       "            var marker_09166c77a0e262f212c2c24f5e753598 = L.marker(\n",
       "                [23.133914730855928, -82.39150447833448],\n",
       "                {\n",
       "}\n",
       "            ).addTo(map_3d8c657be72ab866f4b991eaf6375e72);\n",
       "        \n",
       "    \n",
       "            var icon_00728bb969f47c4de0d414623f268619 = L.AwesomeMarkers.icon(\n",
       "                {\n",
       "  &quot;markerColor&quot;: &quot;darkblue&quot;,\n",
       "  &quot;iconColor&quot;: &quot;white&quot;,\n",
       "  &quot;icon&quot;: &quot;info-sign&quot;,\n",
       "  &quot;prefix&quot;: &quot;glyphicon&quot;,\n",
       "  &quot;extraClasses&quot;: &quot;fa-rotate-0&quot;,\n",
       "}\n",
       "            );\n",
       "            marker_09166c77a0e262f212c2c24f5e753598.setIcon(icon_00728bb969f47c4de0d414623f268619);\n",
       "        \n",
       "    \n",
       "        var popup_a159146e6655517d485ee6c01601df1e = L.popup({\n",
       "  &quot;maxWidth&quot;: &quot;100%&quot;,\n",
       "});\n",
       "\n",
       "        \n",
       "            \n",
       "                var html_7bc61dd8d17cc1eac92001ae26a75f7b = $(`&lt;div id=&quot;html_7bc61dd8d17cc1eac92001ae26a75f7b&quot; style=&quot;width: 100.0%; height: 100.0%;&quot;&gt;Soñar contigo&lt;/div&gt;`)[0];\n",
       "                popup_a159146e6655517d485ee6c01601df1e.setContent(html_7bc61dd8d17cc1eac92001ae26a75f7b);\n",
       "            \n",
       "        \n",
       "\n",
       "        marker_09166c77a0e262f212c2c24f5e753598.bindPopup(popup_a159146e6655517d485ee6c01601df1e)\n",
       "        ;\n",
       "\n",
       "        \n",
       "    \n",
       "    \n",
       "            var marker_233519fbd440c6da46480932c9a95e8c = L.marker(\n",
       "                [23.12739793607911, -82.3996550067848],\n",
       "                {\n",
       "}\n",
       "            ).addTo(map_3d8c657be72ab866f4b991eaf6375e72);\n",
       "        \n",
       "    \n",
       "            var icon_61f4b746da1eb198544b4287659d55bf = L.AwesomeMarkers.icon(\n",
       "                {\n",
       "  &quot;markerColor&quot;: &quot;darkblue&quot;,\n",
       "  &quot;iconColor&quot;: &quot;white&quot;,\n",
       "  &quot;icon&quot;: &quot;info-sign&quot;,\n",
       "  &quot;prefix&quot;: &quot;glyphicon&quot;,\n",
       "  &quot;extraClasses&quot;: &quot;fa-rotate-0&quot;,\n",
       "}\n",
       "            );\n",
       "            marker_233519fbd440c6da46480932c9a95e8c.setIcon(icon_61f4b746da1eb198544b4287659d55bf);\n",
       "        \n",
       "    \n",
       "        var popup_5a144f91836960d3e58438e7fc6ae751 = L.popup({\n",
       "  &quot;maxWidth&quot;: &quot;100%&quot;,\n",
       "});\n",
       "\n",
       "        \n",
       "            \n",
       "                var html_338ae96a8dfd27a1d5ef9518687d3753 = $(`&lt;div id=&quot;html_338ae96a8dfd27a1d5ef9518687d3753&quot; style=&quot;width: 100.0%; height: 100.0%;&quot;&gt;Sport Bar&lt;/div&gt;`)[0];\n",
       "                popup_5a144f91836960d3e58438e7fc6ae751.setContent(html_338ae96a8dfd27a1d5ef9518687d3753);\n",
       "            \n",
       "        \n",
       "\n",
       "        marker_233519fbd440c6da46480932c9a95e8c.bindPopup(popup_5a144f91836960d3e58438e7fc6ae751)\n",
       "        ;\n",
       "\n",
       "        \n",
       "    \n",
       "    \n",
       "            var marker_590d4c02c4c35d2c3612e75763db6af8 = L.marker(\n",
       "                [23.134994228631488, -82.363759151347],\n",
       "                {\n",
       "}\n",
       "            ).addTo(map_3d8c657be72ab866f4b991eaf6375e72);\n",
       "        \n",
       "    \n",
       "            var icon_e1be68a6f85e3ff8b5e1647e504833a6 = L.AwesomeMarkers.icon(\n",
       "                {\n",
       "  &quot;markerColor&quot;: &quot;darkblue&quot;,\n",
       "  &quot;iconColor&quot;: &quot;white&quot;,\n",
       "  &quot;icon&quot;: &quot;info-sign&quot;,\n",
       "  &quot;prefix&quot;: &quot;glyphicon&quot;,\n",
       "  &quot;extraClasses&quot;: &quot;fa-rotate-0&quot;,\n",
       "}\n",
       "            );\n",
       "            marker_590d4c02c4c35d2c3612e75763db6af8.setIcon(icon_e1be68a6f85e3ff8b5e1647e504833a6);\n",
       "        \n",
       "    \n",
       "        var popup_072bb698b2073a31307cc662aa7e8314 = L.popup({\n",
       "  &quot;maxWidth&quot;: &quot;100%&quot;,\n",
       "});\n",
       "\n",
       "        \n",
       "            \n",
       "                var html_bc5a271778c0f09d0e08d8245968288d = $(`&lt;div id=&quot;html_bc5a271778c0f09d0e08d8245968288d&quot; style=&quot;width: 100.0%; height: 100.0%;&quot;&gt;Tong Do Laug&lt;/div&gt;`)[0];\n",
       "                popup_072bb698b2073a31307cc662aa7e8314.setContent(html_bc5a271778c0f09d0e08d8245968288d);\n",
       "            \n",
       "        \n",
       "\n",
       "        marker_590d4c02c4c35d2c3612e75763db6af8.bindPopup(popup_072bb698b2073a31307cc662aa7e8314)\n",
       "        ;\n",
       "\n",
       "        \n",
       "    \n",
       "    \n",
       "            var marker_3751093491f6406cd85c77d4e2fa6f16 = L.marker(\n",
       "                [22.971547817928165, -82.38488832082872],\n",
       "                {\n",
       "}\n",
       "            ).addTo(map_3d8c657be72ab866f4b991eaf6375e72);\n",
       "        \n",
       "    \n",
       "            var icon_7187d61bf6ef41628f26485fa97c3249 = L.AwesomeMarkers.icon(\n",
       "                {\n",
       "  &quot;markerColor&quot;: &quot;darkblue&quot;,\n",
       "  &quot;iconColor&quot;: &quot;white&quot;,\n",
       "  &quot;icon&quot;: &quot;info-sign&quot;,\n",
       "  &quot;prefix&quot;: &quot;glyphicon&quot;,\n",
       "  &quot;extraClasses&quot;: &quot;fa-rotate-0&quot;,\n",
       "}\n",
       "            );\n",
       "            marker_3751093491f6406cd85c77d4e2fa6f16.setIcon(icon_7187d61bf6ef41628f26485fa97c3249);\n",
       "        \n",
       "    \n",
       "        var popup_0e7f0943ddbb4a5e7ff5d9f38af79166 = L.popup({\n",
       "  &quot;maxWidth&quot;: &quot;100%&quot;,\n",
       "});\n",
       "\n",
       "        \n",
       "            \n",
       "                var html_5f6a26f463b59f1013bc6fcf97493b1a = $(`&lt;div id=&quot;html_5f6a26f463b59f1013bc6fcf97493b1a&quot; style=&quot;width: 100.0%; height: 100.0%;&quot;&gt;Tanokura&lt;/div&gt;`)[0];\n",
       "                popup_0e7f0943ddbb4a5e7ff5d9f38af79166.setContent(html_5f6a26f463b59f1013bc6fcf97493b1a);\n",
       "            \n",
       "        \n",
       "\n",
       "        marker_3751093491f6406cd85c77d4e2fa6f16.bindPopup(popup_0e7f0943ddbb4a5e7ff5d9f38af79166)\n",
       "        ;\n",
       "\n",
       "        \n",
       "    \n",
       "    \n",
       "            var marker_f8b551483e69610eae055ae676815a69 = L.marker(\n",
       "                [23.136167028292387, -82.35497380716978],\n",
       "                {\n",
       "}\n",
       "            ).addTo(map_3d8c657be72ab866f4b991eaf6375e72);\n",
       "        \n",
       "    \n",
       "            var icon_0027315892e67e8fa50eadbe294ba0d3 = L.AwesomeMarkers.icon(\n",
       "                {\n",
       "  &quot;markerColor&quot;: &quot;darkblue&quot;,\n",
       "  &quot;iconColor&quot;: &quot;white&quot;,\n",
       "  &quot;icon&quot;: &quot;info-sign&quot;,\n",
       "  &quot;prefix&quot;: &quot;glyphicon&quot;,\n",
       "  &quot;extraClasses&quot;: &quot;fa-rotate-0&quot;,\n",
       "}\n",
       "            );\n",
       "            marker_f8b551483e69610eae055ae676815a69.setIcon(icon_0027315892e67e8fa50eadbe294ba0d3);\n",
       "        \n",
       "    \n",
       "        var popup_687951879bd3fc9e22949348e9c7afc4 = L.popup({\n",
       "  &quot;maxWidth&quot;: &quot;100%&quot;,\n",
       "});\n",
       "\n",
       "        \n",
       "            \n",
       "                var html_df729a84cea03331ae404af697ef619d = $(`&lt;div id=&quot;html_df729a84cea03331ae404af697ef619d&quot; style=&quot;width: 100.0%; height: 100.0%;&quot;&gt;Teniente Rey 360&lt;/div&gt;`)[0];\n",
       "                popup_687951879bd3fc9e22949348e9c7afc4.setContent(html_df729a84cea03331ae404af697ef619d);\n",
       "            \n",
       "        \n",
       "\n",
       "        marker_f8b551483e69610eae055ae676815a69.bindPopup(popup_687951879bd3fc9e22949348e9c7afc4)\n",
       "        ;\n",
       "\n",
       "        \n",
       "    \n",
       "    \n",
       "            var marker_e45176eab279c81db542bea7709374f9 = L.marker(\n",
       "                [23.05191156648548, -82.38229337842735],\n",
       "                {\n",
       "}\n",
       "            ).addTo(map_3d8c657be72ab866f4b991eaf6375e72);\n",
       "        \n",
       "    \n",
       "            var icon_d52c6d0458d486bf8995c3f44d5d5655 = L.AwesomeMarkers.icon(\n",
       "                {\n",
       "  &quot;markerColor&quot;: &quot;darkblue&quot;,\n",
       "  &quot;iconColor&quot;: &quot;white&quot;,\n",
       "  &quot;icon&quot;: &quot;info-sign&quot;,\n",
       "  &quot;prefix&quot;: &quot;glyphicon&quot;,\n",
       "  &quot;extraClasses&quot;: &quot;fa-rotate-0&quot;,\n",
       "}\n",
       "            );\n",
       "            marker_e45176eab279c81db542bea7709374f9.setIcon(icon_d52c6d0458d486bf8995c3f44d5d5655);\n",
       "        \n",
       "    \n",
       "        var popup_40266630346823c06dd84c3db194b935 = L.popup({\n",
       "  &quot;maxWidth&quot;: &quot;100%&quot;,\n",
       "});\n",
       "\n",
       "        \n",
       "            \n",
       "                var html_54fa393b052e8c9d504b864023089fd1 = $(`&lt;div id=&quot;html_54fa393b052e8c9d504b864023089fd1&quot; style=&quot;width: 100.0%; height: 100.0%;&quot;&gt;The Place&lt;/div&gt;`)[0];\n",
       "                popup_40266630346823c06dd84c3db194b935.setContent(html_54fa393b052e8c9d504b864023089fd1);\n",
       "            \n",
       "        \n",
       "\n",
       "        marker_e45176eab279c81db542bea7709374f9.bindPopup(popup_40266630346823c06dd84c3db194b935)\n",
       "        ;\n",
       "\n",
       "        \n",
       "    \n",
       "    \n",
       "            var marker_f13eb341f47bc6c194b253df1d51a338 = L.marker(\n",
       "                [23.13799192742151, -82.36028647833432],\n",
       "                {\n",
       "}\n",
       "            ).addTo(map_3d8c657be72ab866f4b991eaf6375e72);\n",
       "        \n",
       "    \n",
       "            var icon_1347efc8719700129b42f7173402e466 = L.AwesomeMarkers.icon(\n",
       "                {\n",
       "  &quot;markerColor&quot;: &quot;darkblue&quot;,\n",
       "  &quot;iconColor&quot;: &quot;white&quot;,\n",
       "  &quot;icon&quot;: &quot;info-sign&quot;,\n",
       "  &quot;prefix&quot;: &quot;glyphicon&quot;,\n",
       "  &quot;extraClasses&quot;: &quot;fa-rotate-0&quot;,\n",
       "}\n",
       "            );\n",
       "            marker_f13eb341f47bc6c194b253df1d51a338.setIcon(icon_1347efc8719700129b42f7173402e466);\n",
       "        \n",
       "    \n",
       "        var popup_8aa5b9c568fc65c01cc83e581adb893f = L.popup({\n",
       "  &quot;maxWidth&quot;: &quot;100%&quot;,\n",
       "});\n",
       "\n",
       "        \n",
       "            \n",
       "                var html_08bd59b49d9d753d63136bbb32f0c6c2 = $(`&lt;div id=&quot;html_08bd59b49d9d753d63136bbb32f0c6c2&quot; style=&quot;width: 100.0%; height: 100.0%;&quot;&gt;Tonyzz Bar&lt;/div&gt;`)[0];\n",
       "                popup_8aa5b9c568fc65c01cc83e581adb893f.setContent(html_08bd59b49d9d753d63136bbb32f0c6c2);\n",
       "            \n",
       "        \n",
       "\n",
       "        marker_f13eb341f47bc6c194b253df1d51a338.bindPopup(popup_8aa5b9c568fc65c01cc83e581adb893f)\n",
       "        ;\n",
       "\n",
       "        \n",
       "    \n",
       "    \n",
       "            var marker_45099ec2060e72a2743b19e886d74cd1 = L.marker(\n",
       "                [23.128870429493183, -82.41660271357874],\n",
       "                {\n",
       "}\n",
       "            ).addTo(map_3d8c657be72ab866f4b991eaf6375e72);\n",
       "        \n",
       "    \n",
       "            var icon_75efc2ccc421da9717492735241a00d8 = L.AwesomeMarkers.icon(\n",
       "                {\n",
       "  &quot;markerColor&quot;: &quot;darkblue&quot;,\n",
       "  &quot;iconColor&quot;: &quot;white&quot;,\n",
       "  &quot;icon&quot;: &quot;info-sign&quot;,\n",
       "  &quot;prefix&quot;: &quot;glyphicon&quot;,\n",
       "  &quot;extraClasses&quot;: &quot;fa-rotate-0&quot;,\n",
       "}\n",
       "            );\n",
       "            marker_45099ec2060e72a2743b19e886d74cd1.setIcon(icon_75efc2ccc421da9717492735241a00d8);\n",
       "        \n",
       "    \n",
       "        var popup_d98478b87467084fd95c9737c0143b96 = L.popup({\n",
       "  &quot;maxWidth&quot;: &quot;100%&quot;,\n",
       "});\n",
       "\n",
       "        \n",
       "            \n",
       "                var html_0e3ef870b981287ffcd88a44d13ef049 = $(`&lt;div id=&quot;html_0e3ef870b981287ffcd88a44d13ef049&quot; style=&quot;width: 100.0%; height: 100.0%;&quot;&gt;Toros y Tapas&lt;/div&gt;`)[0];\n",
       "                popup_d98478b87467084fd95c9737c0143b96.setContent(html_0e3ef870b981287ffcd88a44d13ef049);\n",
       "            \n",
       "        \n",
       "\n",
       "        marker_45099ec2060e72a2743b19e886d74cd1.bindPopup(popup_d98478b87467084fd95c9737c0143b96)\n",
       "        ;\n",
       "\n",
       "        \n",
       "    \n",
       "    \n",
       "            var marker_1ebfe06e3b3c353c7e17db2694431be8 = L.marker(\n",
       "                [23.09846432898506, -82.42637763877254],\n",
       "                {\n",
       "}\n",
       "            ).addTo(map_3d8c657be72ab866f4b991eaf6375e72);\n",
       "        \n",
       "    \n",
       "            var icon_197f06903c0c6a10b3d24fc4e245bf51 = L.AwesomeMarkers.icon(\n",
       "                {\n",
       "  &quot;markerColor&quot;: &quot;darkblue&quot;,\n",
       "  &quot;iconColor&quot;: &quot;white&quot;,\n",
       "  &quot;icon&quot;: &quot;info-sign&quot;,\n",
       "  &quot;prefix&quot;: &quot;glyphicon&quot;,\n",
       "  &quot;extraClasses&quot;: &quot;fa-rotate-0&quot;,\n",
       "}\n",
       "            );\n",
       "            marker_1ebfe06e3b3c353c7e17db2694431be8.setIcon(icon_197f06903c0c6a10b3d24fc4e245bf51);\n",
       "        \n",
       "    \n",
       "        var popup_241617d0a720903a516095776ceb8e2e = L.popup({\n",
       "  &quot;maxWidth&quot;: &quot;100%&quot;,\n",
       "});\n",
       "\n",
       "        \n",
       "            \n",
       "                var html_27fe168d7c05b06235e14417f0aa7374 = $(`&lt;div id=&quot;html_27fe168d7c05b06235e14417f0aa7374&quot; style=&quot;width: 100.0%; height: 100.0%;&quot;&gt;Tropikana&lt;/div&gt;`)[0];\n",
       "                popup_241617d0a720903a516095776ceb8e2e.setContent(html_27fe168d7c05b06235e14417f0aa7374);\n",
       "            \n",
       "        \n",
       "\n",
       "        marker_1ebfe06e3b3c353c7e17db2694431be8.bindPopup(popup_241617d0a720903a516095776ceb8e2e)\n",
       "        ;\n",
       "\n",
       "        \n",
       "    \n",
       "    \n",
       "            var marker_33c39e9f919df97b422ee2302b8669c2 = L.marker(\n",
       "                [23.1401557660662, -82.37586279184762],\n",
       "                {\n",
       "}\n",
       "            ).addTo(map_3d8c657be72ab866f4b991eaf6375e72);\n",
       "        \n",
       "    \n",
       "            var icon_bfd9c18eeff8ab1dccbdd68af6ff23cb = L.AwesomeMarkers.icon(\n",
       "                {\n",
       "  &quot;markerColor&quot;: &quot;darkblue&quot;,\n",
       "  &quot;iconColor&quot;: &quot;white&quot;,\n",
       "  &quot;icon&quot;: &quot;info-sign&quot;,\n",
       "  &quot;prefix&quot;: &quot;glyphicon&quot;,\n",
       "  &quot;extraClasses&quot;: &quot;fa-rotate-0&quot;,\n",
       "}\n",
       "            );\n",
       "            marker_33c39e9f919df97b422ee2302b8669c2.setIcon(icon_bfd9c18eeff8ab1dccbdd68af6ff23cb);\n",
       "        \n",
       "    \n",
       "        var popup_451b0329b3b0870cae8df61ae2456aa9 = L.popup({\n",
       "  &quot;maxWidth&quot;: &quot;100%&quot;,\n",
       "});\n",
       "\n",
       "        \n",
       "            \n",
       "                var html_bfcb9d0a8ae07cf071f8d20e4c6dd1a9 = $(`&lt;div id=&quot;html_bfcb9d0a8ae07cf071f8d20e4c6dd1a9&quot; style=&quot;width: 100.0%; height: 100.0%;&quot;&gt;Tu Tiempo&lt;/div&gt;`)[0];\n",
       "                popup_451b0329b3b0870cae8df61ae2456aa9.setContent(html_bfcb9d0a8ae07cf071f8d20e4c6dd1a9);\n",
       "            \n",
       "        \n",
       "\n",
       "        marker_33c39e9f919df97b422ee2302b8669c2.bindPopup(popup_451b0329b3b0870cae8df61ae2456aa9)\n",
       "        ;\n",
       "\n",
       "        \n",
       "    \n",
       "    \n",
       "            var marker_93da22f661bc2c20bedf00201c611e4c = L.marker(\n",
       "                [23.13880856299898, -82.37737514949882],\n",
       "                {\n",
       "}\n",
       "            ).addTo(map_3d8c657be72ab866f4b991eaf6375e72);\n",
       "        \n",
       "    \n",
       "            var icon_c0b1ba39b703d05c685e06053990a2ed = L.AwesomeMarkers.icon(\n",
       "                {\n",
       "  &quot;markerColor&quot;: &quot;darkblue&quot;,\n",
       "  &quot;iconColor&quot;: &quot;white&quot;,\n",
       "  &quot;icon&quot;: &quot;info-sign&quot;,\n",
       "  &quot;prefix&quot;: &quot;glyphicon&quot;,\n",
       "  &quot;extraClasses&quot;: &quot;fa-rotate-0&quot;,\n",
       "}\n",
       "            );\n",
       "            marker_93da22f661bc2c20bedf00201c611e4c.setIcon(icon_c0b1ba39b703d05c685e06053990a2ed);\n",
       "        \n",
       "    \n",
       "        var popup_83d60dc5de65c5d9260fff183e2585f5 = L.popup({\n",
       "  &quot;maxWidth&quot;: &quot;100%&quot;,\n",
       "});\n",
       "\n",
       "        \n",
       "            \n",
       "                var html_0df01bce26ea376ede340bbea44a7937 = $(`&lt;div id=&quot;html_0df01bce26ea376ede340bbea44a7937&quot; style=&quot;width: 100.0%; height: 100.0%;&quot;&gt;Tutti Frutti&lt;/div&gt;`)[0];\n",
       "                popup_83d60dc5de65c5d9260fff183e2585f5.setContent(html_0df01bce26ea376ede340bbea44a7937);\n",
       "            \n",
       "        \n",
       "\n",
       "        marker_93da22f661bc2c20bedf00201c611e4c.bindPopup(popup_83d60dc5de65c5d9260fff183e2585f5)\n",
       "        ;\n",
       "\n",
       "        \n",
       "    \n",
       "    \n",
       "            var marker_1da3cbb7e66f30a3aa2f410074ac1452 = L.marker(\n",
       "                [23.122304238305055, -82.2959622459654],\n",
       "                {\n",
       "}\n",
       "            ).addTo(map_3d8c657be72ab866f4b991eaf6375e72);\n",
       "        \n",
       "    \n",
       "            var icon_62a5a7a64c6349a79814b4535a5c107a = L.AwesomeMarkers.icon(\n",
       "                {\n",
       "  &quot;markerColor&quot;: &quot;darkblue&quot;,\n",
       "  &quot;iconColor&quot;: &quot;white&quot;,\n",
       "  &quot;icon&quot;: &quot;info-sign&quot;,\n",
       "  &quot;prefix&quot;: &quot;glyphicon&quot;,\n",
       "  &quot;extraClasses&quot;: &quot;fa-rotate-0&quot;,\n",
       "}\n",
       "            );\n",
       "            marker_1da3cbb7e66f30a3aa2f410074ac1452.setIcon(icon_62a5a7a64c6349a79814b4535a5c107a);\n",
       "        \n",
       "    \n",
       "        var popup_ee71c735985430afe1a33ae49feb452a = L.popup({\n",
       "  &quot;maxWidth&quot;: &quot;100%&quot;,\n",
       "});\n",
       "\n",
       "        \n",
       "            \n",
       "                var html_8ae23bc45204b5f1075df30da6ca954e = $(`&lt;div id=&quot;html_8ae23bc45204b5f1075df30da6ca954e&quot; style=&quot;width: 100.0%; height: 100.0%;&quot;&gt;Vale &amp; Vane&lt;/div&gt;`)[0];\n",
       "                popup_ee71c735985430afe1a33ae49feb452a.setContent(html_8ae23bc45204b5f1075df30da6ca954e);\n",
       "            \n",
       "        \n",
       "\n",
       "        marker_1da3cbb7e66f30a3aa2f410074ac1452.bindPopup(popup_ee71c735985430afe1a33ae49feb452a)\n",
       "        ;\n",
       "\n",
       "        \n",
       "    \n",
       "    \n",
       "            var marker_ee9479e24a6daea4a4dc366019c21935 = L.marker(\n",
       "                [23.125381234140697, -82.30590767987889],\n",
       "                {\n",
       "}\n",
       "            ).addTo(map_3d8c657be72ab866f4b991eaf6375e72);\n",
       "        \n",
       "    \n",
       "            var icon_0fa4b9899a62e9d2ef5a5a65409b3937 = L.AwesomeMarkers.icon(\n",
       "                {\n",
       "  &quot;markerColor&quot;: &quot;darkblue&quot;,\n",
       "  &quot;iconColor&quot;: &quot;white&quot;,\n",
       "  &quot;icon&quot;: &quot;info-sign&quot;,\n",
       "  &quot;prefix&quot;: &quot;glyphicon&quot;,\n",
       "  &quot;extraClasses&quot;: &quot;fa-rotate-0&quot;,\n",
       "}\n",
       "            );\n",
       "            marker_ee9479e24a6daea4a4dc366019c21935.setIcon(icon_0fa4b9899a62e9d2ef5a5a65409b3937);\n",
       "        \n",
       "    \n",
       "        var popup_5d80156fd84cb4bbed33224eef070403 = L.popup({\n",
       "  &quot;maxWidth&quot;: &quot;100%&quot;,\n",
       "});\n",
       "\n",
       "        \n",
       "            \n",
       "                var html_ef35f7aa1c7a35729c798b2af584bdbb = $(`&lt;div id=&quot;html_ef35f7aa1c7a35729c798b2af584bdbb&quot; style=&quot;width: 100.0%; height: 100.0%;&quot;&gt;Cafe Versalles&lt;/div&gt;`)[0];\n",
       "                popup_5d80156fd84cb4bbed33224eef070403.setContent(html_ef35f7aa1c7a35729c798b2af584bdbb);\n",
       "            \n",
       "        \n",
       "\n",
       "        marker_ee9479e24a6daea4a4dc366019c21935.bindPopup(popup_5d80156fd84cb4bbed33224eef070403)\n",
       "        ;\n",
       "\n",
       "        \n",
       "    \n",
       "    \n",
       "            var marker_cb02cf6e90340e1c01af705dc108e3b9 = L.marker(\n",
       "                [23.10341935595807, -82.41834601431532],\n",
       "                {\n",
       "}\n",
       "            ).addTo(map_3d8c657be72ab866f4b991eaf6375e72);\n",
       "        \n",
       "    \n",
       "            var icon_3ec74e1487cb0e83cc96c2f69195a7d9 = L.AwesomeMarkers.icon(\n",
       "                {\n",
       "  &quot;markerColor&quot;: &quot;darkblue&quot;,\n",
       "  &quot;iconColor&quot;: &quot;white&quot;,\n",
       "  &quot;icon&quot;: &quot;info-sign&quot;,\n",
       "  &quot;prefix&quot;: &quot;glyphicon&quot;,\n",
       "  &quot;extraClasses&quot;: &quot;fa-rotate-0&quot;,\n",
       "}\n",
       "            );\n",
       "            marker_cb02cf6e90340e1c01af705dc108e3b9.setIcon(icon_3ec74e1487cb0e83cc96c2f69195a7d9);\n",
       "        \n",
       "    \n",
       "        var popup_01304f2e6c37ec84a19cda76a033657c = L.popup({\n",
       "  &quot;maxWidth&quot;: &quot;100%&quot;,\n",
       "});\n",
       "\n",
       "        \n",
       "            \n",
       "                var html_e83356dff7e7b8a2e43c432f33683385 = $(`&lt;div id=&quot;html_e83356dff7e7b8a2e43c432f33683385&quot; style=&quot;width: 100.0%; height: 100.0%;&quot;&gt;Villarino&lt;/div&gt;`)[0];\n",
       "                popup_01304f2e6c37ec84a19cda76a033657c.setContent(html_e83356dff7e7b8a2e43c432f33683385);\n",
       "            \n",
       "        \n",
       "\n",
       "        marker_cb02cf6e90340e1c01af705dc108e3b9.bindPopup(popup_01304f2e6c37ec84a19cda76a033657c)\n",
       "        ;\n",
       "\n",
       "        \n",
       "    \n",
       "    \n",
       "            var marker_354becefc2f01fffcae6abd805f4d3d3 = L.marker(\n",
       "                [23.140886322733916, -82.38453443415708],\n",
       "                {\n",
       "}\n",
       "            ).addTo(map_3d8c657be72ab866f4b991eaf6375e72);\n",
       "        \n",
       "    \n",
       "            var icon_367a41d08a343eb9d86964d526162726 = L.AwesomeMarkers.icon(\n",
       "                {\n",
       "  &quot;markerColor&quot;: &quot;darkblue&quot;,\n",
       "  &quot;iconColor&quot;: &quot;white&quot;,\n",
       "  &quot;icon&quot;: &quot;info-sign&quot;,\n",
       "  &quot;prefix&quot;: &quot;glyphicon&quot;,\n",
       "  &quot;extraClasses&quot;: &quot;fa-rotate-0&quot;,\n",
       "}\n",
       "            );\n",
       "            marker_354becefc2f01fffcae6abd805f4d3d3.setIcon(icon_367a41d08a343eb9d86964d526162726);\n",
       "        \n",
       "    \n",
       "        var popup_0f88b9596e27dea8c1dade6d91748335 = L.popup({\n",
       "  &quot;maxWidth&quot;: &quot;100%&quot;,\n",
       "});\n",
       "\n",
       "        \n",
       "            \n",
       "                var html_ca9e3f5488903c2794a2c39160f29965 = $(`&lt;div id=&quot;html_ca9e3f5488903c2794a2c39160f29965&quot; style=&quot;width: 100.0%; height: 100.0%;&quot;&gt;Vita Nuova&lt;/div&gt;`)[0];\n",
       "                popup_0f88b9596e27dea8c1dade6d91748335.setContent(html_ca9e3f5488903c2794a2c39160f29965);\n",
       "            \n",
       "        \n",
       "\n",
       "        marker_354becefc2f01fffcae6abd805f4d3d3.bindPopup(popup_0f88b9596e27dea8c1dade6d91748335)\n",
       "        ;\n",
       "\n",
       "        \n",
       "    \n",
       "    \n",
       "            var marker_0ab6becfcbf73e5c23d7172513bdfda1 = L.marker(\n",
       "                [23.133054069126786, -82.39869353392423],\n",
       "                {\n",
       "}\n",
       "            ).addTo(map_3d8c657be72ab866f4b991eaf6375e72);\n",
       "        \n",
       "    \n",
       "            var icon_1ea98927880f03f821a75d6ef291609d = L.AwesomeMarkers.icon(\n",
       "                {\n",
       "  &quot;markerColor&quot;: &quot;darkblue&quot;,\n",
       "  &quot;iconColor&quot;: &quot;white&quot;,\n",
       "  &quot;icon&quot;: &quot;info-sign&quot;,\n",
       "  &quot;prefix&quot;: &quot;glyphicon&quot;,\n",
       "  &quot;extraClasses&quot;: &quot;fa-rotate-0&quot;,\n",
       "}\n",
       "            );\n",
       "            marker_0ab6becfcbf73e5c23d7172513bdfda1.setIcon(icon_1ea98927880f03f821a75d6ef291609d);\n",
       "        \n",
       "    \n",
       "        var popup_6f50e658db29e93b1e1c57491c6b4d23 = L.popup({\n",
       "  &quot;maxWidth&quot;: &quot;100%&quot;,\n",
       "});\n",
       "\n",
       "        \n",
       "            \n",
       "                var html_7094063a9a663ba8a8ceca9648623b7d = $(`&lt;div id=&quot;html_7094063a9a663ba8a8ceca9648623b7d&quot; style=&quot;width: 100.0%; height: 100.0%;&quot;&gt;Wapa&lt;/div&gt;`)[0];\n",
       "                popup_6f50e658db29e93b1e1c57491c6b4d23.setContent(html_7094063a9a663ba8a8ceca9648623b7d);\n",
       "            \n",
       "        \n",
       "\n",
       "        marker_0ab6becfcbf73e5c23d7172513bdfda1.bindPopup(popup_6f50e658db29e93b1e1c57491c6b4d23)\n",
       "        ;\n",
       "\n",
       "        \n",
       "    \n",
       "    \n",
       "            var marker_a94bf21dbc3b46f26bcfa36fff059c67 = L.marker(\n",
       "                [23.099170645364698, -82.33964892703689],\n",
       "                {\n",
       "}\n",
       "            ).addTo(map_3d8c657be72ab866f4b991eaf6375e72);\n",
       "        \n",
       "    \n",
       "            var icon_4244e2562f4b51bd5fbcc222760a7a65 = L.AwesomeMarkers.icon(\n",
       "                {\n",
       "  &quot;markerColor&quot;: &quot;darkblue&quot;,\n",
       "  &quot;iconColor&quot;: &quot;white&quot;,\n",
       "  &quot;icon&quot;: &quot;info-sign&quot;,\n",
       "  &quot;prefix&quot;: &quot;glyphicon&quot;,\n",
       "  &quot;extraClasses&quot;: &quot;fa-rotate-0&quot;,\n",
       "}\n",
       "            );\n",
       "            marker_a94bf21dbc3b46f26bcfa36fff059c67.setIcon(icon_4244e2562f4b51bd5fbcc222760a7a65);\n",
       "        \n",
       "    \n",
       "        var popup_c99ae7080be952be8831d5fad91f3250 = L.popup({\n",
       "  &quot;maxWidth&quot;: &quot;100%&quot;,\n",
       "});\n",
       "\n",
       "        \n",
       "            \n",
       "                var html_886ef76778fb454807a89bb4dc892dfd = $(`&lt;div id=&quot;html_886ef76778fb454807a89bb4dc892dfd&quot; style=&quot;width: 100.0%; height: 100.0%;&quot;&gt;Yesterday Havana&lt;/div&gt;`)[0];\n",
       "                popup_c99ae7080be952be8831d5fad91f3250.setContent(html_886ef76778fb454807a89bb4dc892dfd);\n",
       "            \n",
       "        \n",
       "\n",
       "        marker_a94bf21dbc3b46f26bcfa36fff059c67.bindPopup(popup_c99ae7080be952be8831d5fad91f3250)\n",
       "        ;\n",
       "\n",
       "        \n",
       "    \n",
       "&lt;/script&gt;\n",
       "&lt;/html&gt;\" style=\"position:absolute;width:100%;height:100%;left:0;top:0;border:none !important;\" allowfullscreen webkitallowfullscreen mozallowfullscreen></iframe></div></div>"
      ],
      "text/plain": [
       "<folium.folium.Map at 0x2815dde0f50>"
      ]
     },
     "execution_count": 9,
     "metadata": {},
     "output_type": "execute_result"
    }
   ],
   "source": [
    "mapa = folium.Map(location=[23.1136, -82.3666], zoom_start=12)  # Coordenadas de La Habana\n",
    "\n",
    "for index, row in df.iterrows():\n",
    "    latitude = row['coordinates']['latitude']\n",
    "    longitude = row['coordinates']['longitude']\n",
    "    name = row['name']\n",
    "    \n",
    "    folium.Marker(\n",
    "        location=[latitude, longitude],\n",
    "        popup=name,\n",
    "        icon=folium.Icon(color='darkblue')\n",
    "    ).add_to(mapa)\n",
    "\n",
    "mapa"
   ]
  },
  {
   "cell_type": "markdown",
   "metadata": {},
   "source": [
    "\n",
    "Otro aspecto que también consideraron relevante fue el análisis de la cantidad de establecimientos que poseían capacidad \"baja\", \"media\" o \"alta\". "
   ]
  },
  {
   "cell_type": "markdown",
   "metadata": {},
   "source": [
    "-\"Esto podría influir mucho en cómo la gente elige salir. Si un lugar tiene mucha capacidad, puede ser ideal para grupos grandes, mientras que uno con capacidad baja puede ser más acogedor y tranquilo para determinados encuentros.\" -habló Paolo con total seguridad."
   ]
  },
  {
   "cell_type": "markdown",
   "metadata": {},
   "source": [
    "¿Cuál será la capacidad más frecuente de los bares y restaurantes en La Habana? ¿Y si además se toman en cuenta dichas clasificaciones por cada municipio?"
   ]
  },
  {
   "cell_type": "code",
   "execution_count": 10,
   "metadata": {},
   "outputs": [
    {
     "data": {
      "application/vnd.plotly.v1+json": {
       "config": {
        "plotlyServerURL": "https://plot.ly"
       },
       "data": [
        {
         "customdata": [
          [
           "media"
          ],
          [
           "baja"
          ],
          [
           "alta"
          ]
         ],
         "domain": {
          "x": [
           0,
           1
          ],
          "y": [
           0,
           1
          ]
         },
         "hovertemplate": "Capacidad de Recepción=%{customdata[0]}<br>Cantidad=%{value}<extra></extra>",
         "labels": [
          "media",
          "baja",
          "alta"
         ],
         "legendgroup": "",
         "marker": {
          "colors": [
           "#0d0887",
           "#46039f",
           "#7201a8"
          ]
         },
         "name": "",
         "showlegend": true,
         "type": "pie",
         "values": [
          98,
          54,
          49
         ]
        }
       ],
       "layout": {
        "legend": {
         "tracegroupgap": 0
        },
        "piecolorway": [
         "#0d0887",
         "#46039f",
         "#7201a8",
         "#9c179e",
         "#bd3786",
         "#d8576b",
         "#ed7953",
         "#fb9f3a",
         "#fdca26",
         "#f0f921"
        ],
        "template": {
         "data": {
          "bar": [
           {
            "error_x": {
             "color": "#2a3f5f"
            },
            "error_y": {
             "color": "#2a3f5f"
            },
            "marker": {
             "line": {
              "color": "#E5ECF6",
              "width": 0.5
             },
             "pattern": {
              "fillmode": "overlay",
              "size": 10,
              "solidity": 0.2
             }
            },
            "type": "bar"
           }
          ],
          "barpolar": [
           {
            "marker": {
             "line": {
              "color": "#E5ECF6",
              "width": 0.5
             },
             "pattern": {
              "fillmode": "overlay",
              "size": 10,
              "solidity": 0.2
             }
            },
            "type": "barpolar"
           }
          ],
          "carpet": [
           {
            "aaxis": {
             "endlinecolor": "#2a3f5f",
             "gridcolor": "white",
             "linecolor": "white",
             "minorgridcolor": "white",
             "startlinecolor": "#2a3f5f"
            },
            "baxis": {
             "endlinecolor": "#2a3f5f",
             "gridcolor": "white",
             "linecolor": "white",
             "minorgridcolor": "white",
             "startlinecolor": "#2a3f5f"
            },
            "type": "carpet"
           }
          ],
          "choropleth": [
           {
            "colorbar": {
             "outlinewidth": 0,
             "ticks": ""
            },
            "type": "choropleth"
           }
          ],
          "contour": [
           {
            "colorbar": {
             "outlinewidth": 0,
             "ticks": ""
            },
            "colorscale": [
             [
              0,
              "#0d0887"
             ],
             [
              0.1111111111111111,
              "#46039f"
             ],
             [
              0.2222222222222222,
              "#7201a8"
             ],
             [
              0.3333333333333333,
              "#9c179e"
             ],
             [
              0.4444444444444444,
              "#bd3786"
             ],
             [
              0.5555555555555556,
              "#d8576b"
             ],
             [
              0.6666666666666666,
              "#ed7953"
             ],
             [
              0.7777777777777778,
              "#fb9f3a"
             ],
             [
              0.8888888888888888,
              "#fdca26"
             ],
             [
              1,
              "#f0f921"
             ]
            ],
            "type": "contour"
           }
          ],
          "contourcarpet": [
           {
            "colorbar": {
             "outlinewidth": 0,
             "ticks": ""
            },
            "type": "contourcarpet"
           }
          ],
          "heatmap": [
           {
            "colorbar": {
             "outlinewidth": 0,
             "ticks": ""
            },
            "colorscale": [
             [
              0,
              "#0d0887"
             ],
             [
              0.1111111111111111,
              "#46039f"
             ],
             [
              0.2222222222222222,
              "#7201a8"
             ],
             [
              0.3333333333333333,
              "#9c179e"
             ],
             [
              0.4444444444444444,
              "#bd3786"
             ],
             [
              0.5555555555555556,
              "#d8576b"
             ],
             [
              0.6666666666666666,
              "#ed7953"
             ],
             [
              0.7777777777777778,
              "#fb9f3a"
             ],
             [
              0.8888888888888888,
              "#fdca26"
             ],
             [
              1,
              "#f0f921"
             ]
            ],
            "type": "heatmap"
           }
          ],
          "heatmapgl": [
           {
            "colorbar": {
             "outlinewidth": 0,
             "ticks": ""
            },
            "colorscale": [
             [
              0,
              "#0d0887"
             ],
             [
              0.1111111111111111,
              "#46039f"
             ],
             [
              0.2222222222222222,
              "#7201a8"
             ],
             [
              0.3333333333333333,
              "#9c179e"
             ],
             [
              0.4444444444444444,
              "#bd3786"
             ],
             [
              0.5555555555555556,
              "#d8576b"
             ],
             [
              0.6666666666666666,
              "#ed7953"
             ],
             [
              0.7777777777777778,
              "#fb9f3a"
             ],
             [
              0.8888888888888888,
              "#fdca26"
             ],
             [
              1,
              "#f0f921"
             ]
            ],
            "type": "heatmapgl"
           }
          ],
          "histogram": [
           {
            "marker": {
             "pattern": {
              "fillmode": "overlay",
              "size": 10,
              "solidity": 0.2
             }
            },
            "type": "histogram"
           }
          ],
          "histogram2d": [
           {
            "colorbar": {
             "outlinewidth": 0,
             "ticks": ""
            },
            "colorscale": [
             [
              0,
              "#0d0887"
             ],
             [
              0.1111111111111111,
              "#46039f"
             ],
             [
              0.2222222222222222,
              "#7201a8"
             ],
             [
              0.3333333333333333,
              "#9c179e"
             ],
             [
              0.4444444444444444,
              "#bd3786"
             ],
             [
              0.5555555555555556,
              "#d8576b"
             ],
             [
              0.6666666666666666,
              "#ed7953"
             ],
             [
              0.7777777777777778,
              "#fb9f3a"
             ],
             [
              0.8888888888888888,
              "#fdca26"
             ],
             [
              1,
              "#f0f921"
             ]
            ],
            "type": "histogram2d"
           }
          ],
          "histogram2dcontour": [
           {
            "colorbar": {
             "outlinewidth": 0,
             "ticks": ""
            },
            "colorscale": [
             [
              0,
              "#0d0887"
             ],
             [
              0.1111111111111111,
              "#46039f"
             ],
             [
              0.2222222222222222,
              "#7201a8"
             ],
             [
              0.3333333333333333,
              "#9c179e"
             ],
             [
              0.4444444444444444,
              "#bd3786"
             ],
             [
              0.5555555555555556,
              "#d8576b"
             ],
             [
              0.6666666666666666,
              "#ed7953"
             ],
             [
              0.7777777777777778,
              "#fb9f3a"
             ],
             [
              0.8888888888888888,
              "#fdca26"
             ],
             [
              1,
              "#f0f921"
             ]
            ],
            "type": "histogram2dcontour"
           }
          ],
          "mesh3d": [
           {
            "colorbar": {
             "outlinewidth": 0,
             "ticks": ""
            },
            "type": "mesh3d"
           }
          ],
          "parcoords": [
           {
            "line": {
             "colorbar": {
              "outlinewidth": 0,
              "ticks": ""
             }
            },
            "type": "parcoords"
           }
          ],
          "pie": [
           {
            "automargin": true,
            "type": "pie"
           }
          ],
          "scatter": [
           {
            "fillpattern": {
             "fillmode": "overlay",
             "size": 10,
             "solidity": 0.2
            },
            "type": "scatter"
           }
          ],
          "scatter3d": [
           {
            "line": {
             "colorbar": {
              "outlinewidth": 0,
              "ticks": ""
             }
            },
            "marker": {
             "colorbar": {
              "outlinewidth": 0,
              "ticks": ""
             }
            },
            "type": "scatter3d"
           }
          ],
          "scattercarpet": [
           {
            "marker": {
             "colorbar": {
              "outlinewidth": 0,
              "ticks": ""
             }
            },
            "type": "scattercarpet"
           }
          ],
          "scattergeo": [
           {
            "marker": {
             "colorbar": {
              "outlinewidth": 0,
              "ticks": ""
             }
            },
            "type": "scattergeo"
           }
          ],
          "scattergl": [
           {
            "marker": {
             "colorbar": {
              "outlinewidth": 0,
              "ticks": ""
             }
            },
            "type": "scattergl"
           }
          ],
          "scattermapbox": [
           {
            "marker": {
             "colorbar": {
              "outlinewidth": 0,
              "ticks": ""
             }
            },
            "type": "scattermapbox"
           }
          ],
          "scatterpolar": [
           {
            "marker": {
             "colorbar": {
              "outlinewidth": 0,
              "ticks": ""
             }
            },
            "type": "scatterpolar"
           }
          ],
          "scatterpolargl": [
           {
            "marker": {
             "colorbar": {
              "outlinewidth": 0,
              "ticks": ""
             }
            },
            "type": "scatterpolargl"
           }
          ],
          "scatterternary": [
           {
            "marker": {
             "colorbar": {
              "outlinewidth": 0,
              "ticks": ""
             }
            },
            "type": "scatterternary"
           }
          ],
          "surface": [
           {
            "colorbar": {
             "outlinewidth": 0,
             "ticks": ""
            },
            "colorscale": [
             [
              0,
              "#0d0887"
             ],
             [
              0.1111111111111111,
              "#46039f"
             ],
             [
              0.2222222222222222,
              "#7201a8"
             ],
             [
              0.3333333333333333,
              "#9c179e"
             ],
             [
              0.4444444444444444,
              "#bd3786"
             ],
             [
              0.5555555555555556,
              "#d8576b"
             ],
             [
              0.6666666666666666,
              "#ed7953"
             ],
             [
              0.7777777777777778,
              "#fb9f3a"
             ],
             [
              0.8888888888888888,
              "#fdca26"
             ],
             [
              1,
              "#f0f921"
             ]
            ],
            "type": "surface"
           }
          ],
          "table": [
           {
            "cells": {
             "fill": {
              "color": "#EBF0F8"
             },
             "line": {
              "color": "white"
             }
            },
            "header": {
             "fill": {
              "color": "#C8D4E3"
             },
             "line": {
              "color": "white"
             }
            },
            "type": "table"
           }
          ]
         },
         "layout": {
          "annotationdefaults": {
           "arrowcolor": "#2a3f5f",
           "arrowhead": 0,
           "arrowwidth": 1
          },
          "autotypenumbers": "strict",
          "coloraxis": {
           "colorbar": {
            "outlinewidth": 0,
            "ticks": ""
           }
          },
          "colorscale": {
           "diverging": [
            [
             0,
             "#8e0152"
            ],
            [
             0.1,
             "#c51b7d"
            ],
            [
             0.2,
             "#de77ae"
            ],
            [
             0.3,
             "#f1b6da"
            ],
            [
             0.4,
             "#fde0ef"
            ],
            [
             0.5,
             "#f7f7f7"
            ],
            [
             0.6,
             "#e6f5d0"
            ],
            [
             0.7,
             "#b8e186"
            ],
            [
             0.8,
             "#7fbc41"
            ],
            [
             0.9,
             "#4d9221"
            ],
            [
             1,
             "#276419"
            ]
           ],
           "sequential": [
            [
             0,
             "#0d0887"
            ],
            [
             0.1111111111111111,
             "#46039f"
            ],
            [
             0.2222222222222222,
             "#7201a8"
            ],
            [
             0.3333333333333333,
             "#9c179e"
            ],
            [
             0.4444444444444444,
             "#bd3786"
            ],
            [
             0.5555555555555556,
             "#d8576b"
            ],
            [
             0.6666666666666666,
             "#ed7953"
            ],
            [
             0.7777777777777778,
             "#fb9f3a"
            ],
            [
             0.8888888888888888,
             "#fdca26"
            ],
            [
             1,
             "#f0f921"
            ]
           ],
           "sequentialminus": [
            [
             0,
             "#0d0887"
            ],
            [
             0.1111111111111111,
             "#46039f"
            ],
            [
             0.2222222222222222,
             "#7201a8"
            ],
            [
             0.3333333333333333,
             "#9c179e"
            ],
            [
             0.4444444444444444,
             "#bd3786"
            ],
            [
             0.5555555555555556,
             "#d8576b"
            ],
            [
             0.6666666666666666,
             "#ed7953"
            ],
            [
             0.7777777777777778,
             "#fb9f3a"
            ],
            [
             0.8888888888888888,
             "#fdca26"
            ],
            [
             1,
             "#f0f921"
            ]
           ]
          },
          "colorway": [
           "#636efa",
           "#EF553B",
           "#00cc96",
           "#ab63fa",
           "#FFA15A",
           "#19d3f3",
           "#FF6692",
           "#B6E880",
           "#FF97FF",
           "#FECB52"
          ],
          "font": {
           "color": "#2a3f5f"
          },
          "geo": {
           "bgcolor": "white",
           "lakecolor": "white",
           "landcolor": "#E5ECF6",
           "showlakes": true,
           "showland": true,
           "subunitcolor": "white"
          },
          "hoverlabel": {
           "align": "left"
          },
          "hovermode": "closest",
          "mapbox": {
           "style": "light"
          },
          "paper_bgcolor": "white",
          "plot_bgcolor": "#E5ECF6",
          "polar": {
           "angularaxis": {
            "gridcolor": "white",
            "linecolor": "white",
            "ticks": ""
           },
           "bgcolor": "#E5ECF6",
           "radialaxis": {
            "gridcolor": "white",
            "linecolor": "white",
            "ticks": ""
           }
          },
          "scene": {
           "xaxis": {
            "backgroundcolor": "#E5ECF6",
            "gridcolor": "white",
            "gridwidth": 2,
            "linecolor": "white",
            "showbackground": true,
            "ticks": "",
            "zerolinecolor": "white"
           },
           "yaxis": {
            "backgroundcolor": "#E5ECF6",
            "gridcolor": "white",
            "gridwidth": 2,
            "linecolor": "white",
            "showbackground": true,
            "ticks": "",
            "zerolinecolor": "white"
           },
           "zaxis": {
            "backgroundcolor": "#E5ECF6",
            "gridcolor": "white",
            "gridwidth": 2,
            "linecolor": "white",
            "showbackground": true,
            "ticks": "",
            "zerolinecolor": "white"
           }
          },
          "shapedefaults": {
           "line": {
            "color": "#2a3f5f"
           }
          },
          "ternary": {
           "aaxis": {
            "gridcolor": "white",
            "linecolor": "white",
            "ticks": ""
           },
           "baxis": {
            "gridcolor": "white",
            "linecolor": "white",
            "ticks": ""
           },
           "bgcolor": "#E5ECF6",
           "caxis": {
            "gridcolor": "white",
            "linecolor": "white",
            "ticks": ""
           }
          },
          "title": {
           "x": 0.05
          },
          "xaxis": {
           "automargin": true,
           "gridcolor": "white",
           "linecolor": "white",
           "ticks": "",
           "title": {
            "standoff": 15
           },
           "zerolinecolor": "white",
           "zerolinewidth": 2
          },
          "yaxis": {
           "automargin": true,
           "gridcolor": "white",
           "linecolor": "white",
           "ticks": "",
           "title": {
            "standoff": 15
           },
           "zerolinecolor": "white",
           "zerolinewidth": 2
          }
         }
        },
        "title": {
         "text": "Distribución de Establecimientos por Capacidad de Recepción"
        }
       }
      }
     },
     "metadata": {},
     "output_type": "display_data"
    }
   ],
   "source": [
    "capacidades = [\"alta\", \"media\", \"baja\"]\n",
    "df1 = df[df['intake_capacity'].isin(capacidades)]\n",
    "conteo_intake_capacity = df1['intake_capacity'].value_counts().reset_index()\n",
    "conteo_intake_capacity.columns = ['Capacidad de Recepción', 'Cantidad']\n",
    "\n",
    "fig = px.pie(conteo_intake_capacity, \n",
    "            names='Capacidad de Recepción', \n",
    "            values='Cantidad', \n",
    "            title='Distribución de Establecimientos por Capacidad de Recepción',\n",
    "            color='Capacidad de Recepción',\n",
    "            color_discrete_sequence=px.colors.sequential.Plasma)\n",
    "fig.show()"
   ]
  },
  {
   "cell_type": "code",
   "execution_count": 11,
   "metadata": {},
   "outputs": [
    {
     "data": {
      "application/vnd.plotly.v1+json": {
       "config": {
        "plotlyServerURL": "https://plot.ly"
       },
       "data": [
        {
         "alignmentgroup": "True",
         "hovertemplate": "intake_capacity=alta<br>Municipio=%{x}<br>Número de Establecimientos=%{text}<extra></extra>",
         "legendgroup": "alta",
         "marker": {
          "color": "#636efa",
          "pattern": {
           "shape": ""
          }
         },
         "name": "alta",
         "offsetgroup": "alta",
         "orientation": "v",
         "showlegend": true,
         "text": [
          3,
          4,
          5,
          4,
          2,
          1,
          1,
          2,
          3,
          2,
          12,
          9,
          1
         ],
         "textposition": "auto",
         "type": "bar",
         "x": [
          "Arroyo Naranjo",
          "Boyeros",
          "Centro Habana",
          "Cotorro",
          "Diez de Octubre",
          "Guanabacoa",
          "Habana Del Este",
          "Habana del Este",
          "La Habana Vieja",
          "Marianao",
          "Playa",
          "Plaza de la Revolución",
          "San Miguel del Padrón"
         ],
         "xaxis": "x",
         "y": [
          3,
          4,
          5,
          4,
          2,
          1,
          1,
          2,
          3,
          2,
          12,
          9,
          1
         ],
         "yaxis": "y"
        },
        {
         "alignmentgroup": "True",
         "hovertemplate": "intake_capacity=baja<br>Municipio=%{x}<br>Número de Establecimientos=%{text}<extra></extra>",
         "legendgroup": "baja",
         "marker": {
          "color": "#EF553B",
          "pattern": {
           "shape": ""
          }
         },
         "name": "baja",
         "offsetgroup": "baja",
         "orientation": "v",
         "showlegend": true,
         "text": [
          3,
          5,
          7,
          2,
          6,
          4,
          2,
          1,
          2,
          4,
          3,
          9,
          2,
          4
         ],
         "textposition": "auto",
         "type": "bar",
         "x": [
          "Arroyo Naranjo",
          "Centro Habana",
          "Cerro",
          "Cotorro",
          "Diez de Octubre",
          "Guanabacoa",
          "Habana del Este",
          "La Habana Vieja",
          "La Lisa",
          "Marianao",
          "Playa",
          "Plaza de la Revolución",
          "Regla",
          "San Miguel del Padrón"
         ],
         "xaxis": "x",
         "y": [
          3,
          5,
          7,
          2,
          6,
          4,
          2,
          1,
          2,
          4,
          3,
          9,
          2,
          4
         ],
         "yaxis": "y"
        },
        {
         "alignmentgroup": "True",
         "hovertemplate": "intake_capacity=media<br>Municipio=%{x}<br>Número de Establecimientos=%{text}<extra></extra>",
         "legendgroup": "media",
         "marker": {
          "color": "#00cc96",
          "pattern": {
           "shape": ""
          }
         },
         "name": "media",
         "offsetgroup": "media",
         "orientation": "v",
         "showlegend": true,
         "text": [
          4,
          6,
          21,
          3,
          4,
          2,
          4,
          5,
          6,
          4,
          4,
          15,
          12,
          3,
          5
         ],
         "textposition": "auto",
         "type": "bar",
         "x": [
          "Arroyo Naranjo",
          "Boyeros",
          "Centro Habana",
          "Cerro",
          "Cotorro",
          "Diez de Octubre",
          "Guanabacoa",
          "Habana del Este",
          "La Habana Vieja",
          "La Lisa",
          "Marianao",
          "Playa",
          "Plaza de la Revolución",
          "Regla",
          "San Miguel del Padrón"
         ],
         "xaxis": "x",
         "y": [
          4,
          6,
          21,
          3,
          4,
          2,
          4,
          5,
          6,
          4,
          4,
          15,
          12,
          3,
          5
         ],
         "yaxis": "y"
        }
       ],
       "layout": {
        "barmode": "group",
        "legend": {
         "title": {
          "text": "intake_capacity"
         },
         "tracegroupgap": 0
        },
        "template": {
         "data": {
          "bar": [
           {
            "error_x": {
             "color": "#2a3f5f"
            },
            "error_y": {
             "color": "#2a3f5f"
            },
            "marker": {
             "line": {
              "color": "#E5ECF6",
              "width": 0.5
             },
             "pattern": {
              "fillmode": "overlay",
              "size": 10,
              "solidity": 0.2
             }
            },
            "type": "bar"
           }
          ],
          "barpolar": [
           {
            "marker": {
             "line": {
              "color": "#E5ECF6",
              "width": 0.5
             },
             "pattern": {
              "fillmode": "overlay",
              "size": 10,
              "solidity": 0.2
             }
            },
            "type": "barpolar"
           }
          ],
          "carpet": [
           {
            "aaxis": {
             "endlinecolor": "#2a3f5f",
             "gridcolor": "white",
             "linecolor": "white",
             "minorgridcolor": "white",
             "startlinecolor": "#2a3f5f"
            },
            "baxis": {
             "endlinecolor": "#2a3f5f",
             "gridcolor": "white",
             "linecolor": "white",
             "minorgridcolor": "white",
             "startlinecolor": "#2a3f5f"
            },
            "type": "carpet"
           }
          ],
          "choropleth": [
           {
            "colorbar": {
             "outlinewidth": 0,
             "ticks": ""
            },
            "type": "choropleth"
           }
          ],
          "contour": [
           {
            "colorbar": {
             "outlinewidth": 0,
             "ticks": ""
            },
            "colorscale": [
             [
              0,
              "#0d0887"
             ],
             [
              0.1111111111111111,
              "#46039f"
             ],
             [
              0.2222222222222222,
              "#7201a8"
             ],
             [
              0.3333333333333333,
              "#9c179e"
             ],
             [
              0.4444444444444444,
              "#bd3786"
             ],
             [
              0.5555555555555556,
              "#d8576b"
             ],
             [
              0.6666666666666666,
              "#ed7953"
             ],
             [
              0.7777777777777778,
              "#fb9f3a"
             ],
             [
              0.8888888888888888,
              "#fdca26"
             ],
             [
              1,
              "#f0f921"
             ]
            ],
            "type": "contour"
           }
          ],
          "contourcarpet": [
           {
            "colorbar": {
             "outlinewidth": 0,
             "ticks": ""
            },
            "type": "contourcarpet"
           }
          ],
          "heatmap": [
           {
            "colorbar": {
             "outlinewidth": 0,
             "ticks": ""
            },
            "colorscale": [
             [
              0,
              "#0d0887"
             ],
             [
              0.1111111111111111,
              "#46039f"
             ],
             [
              0.2222222222222222,
              "#7201a8"
             ],
             [
              0.3333333333333333,
              "#9c179e"
             ],
             [
              0.4444444444444444,
              "#bd3786"
             ],
             [
              0.5555555555555556,
              "#d8576b"
             ],
             [
              0.6666666666666666,
              "#ed7953"
             ],
             [
              0.7777777777777778,
              "#fb9f3a"
             ],
             [
              0.8888888888888888,
              "#fdca26"
             ],
             [
              1,
              "#f0f921"
             ]
            ],
            "type": "heatmap"
           }
          ],
          "heatmapgl": [
           {
            "colorbar": {
             "outlinewidth": 0,
             "ticks": ""
            },
            "colorscale": [
             [
              0,
              "#0d0887"
             ],
             [
              0.1111111111111111,
              "#46039f"
             ],
             [
              0.2222222222222222,
              "#7201a8"
             ],
             [
              0.3333333333333333,
              "#9c179e"
             ],
             [
              0.4444444444444444,
              "#bd3786"
             ],
             [
              0.5555555555555556,
              "#d8576b"
             ],
             [
              0.6666666666666666,
              "#ed7953"
             ],
             [
              0.7777777777777778,
              "#fb9f3a"
             ],
             [
              0.8888888888888888,
              "#fdca26"
             ],
             [
              1,
              "#f0f921"
             ]
            ],
            "type": "heatmapgl"
           }
          ],
          "histogram": [
           {
            "marker": {
             "pattern": {
              "fillmode": "overlay",
              "size": 10,
              "solidity": 0.2
             }
            },
            "type": "histogram"
           }
          ],
          "histogram2d": [
           {
            "colorbar": {
             "outlinewidth": 0,
             "ticks": ""
            },
            "colorscale": [
             [
              0,
              "#0d0887"
             ],
             [
              0.1111111111111111,
              "#46039f"
             ],
             [
              0.2222222222222222,
              "#7201a8"
             ],
             [
              0.3333333333333333,
              "#9c179e"
             ],
             [
              0.4444444444444444,
              "#bd3786"
             ],
             [
              0.5555555555555556,
              "#d8576b"
             ],
             [
              0.6666666666666666,
              "#ed7953"
             ],
             [
              0.7777777777777778,
              "#fb9f3a"
             ],
             [
              0.8888888888888888,
              "#fdca26"
             ],
             [
              1,
              "#f0f921"
             ]
            ],
            "type": "histogram2d"
           }
          ],
          "histogram2dcontour": [
           {
            "colorbar": {
             "outlinewidth": 0,
             "ticks": ""
            },
            "colorscale": [
             [
              0,
              "#0d0887"
             ],
             [
              0.1111111111111111,
              "#46039f"
             ],
             [
              0.2222222222222222,
              "#7201a8"
             ],
             [
              0.3333333333333333,
              "#9c179e"
             ],
             [
              0.4444444444444444,
              "#bd3786"
             ],
             [
              0.5555555555555556,
              "#d8576b"
             ],
             [
              0.6666666666666666,
              "#ed7953"
             ],
             [
              0.7777777777777778,
              "#fb9f3a"
             ],
             [
              0.8888888888888888,
              "#fdca26"
             ],
             [
              1,
              "#f0f921"
             ]
            ],
            "type": "histogram2dcontour"
           }
          ],
          "mesh3d": [
           {
            "colorbar": {
             "outlinewidth": 0,
             "ticks": ""
            },
            "type": "mesh3d"
           }
          ],
          "parcoords": [
           {
            "line": {
             "colorbar": {
              "outlinewidth": 0,
              "ticks": ""
             }
            },
            "type": "parcoords"
           }
          ],
          "pie": [
           {
            "automargin": true,
            "type": "pie"
           }
          ],
          "scatter": [
           {
            "fillpattern": {
             "fillmode": "overlay",
             "size": 10,
             "solidity": 0.2
            },
            "type": "scatter"
           }
          ],
          "scatter3d": [
           {
            "line": {
             "colorbar": {
              "outlinewidth": 0,
              "ticks": ""
             }
            },
            "marker": {
             "colorbar": {
              "outlinewidth": 0,
              "ticks": ""
             }
            },
            "type": "scatter3d"
           }
          ],
          "scattercarpet": [
           {
            "marker": {
             "colorbar": {
              "outlinewidth": 0,
              "ticks": ""
             }
            },
            "type": "scattercarpet"
           }
          ],
          "scattergeo": [
           {
            "marker": {
             "colorbar": {
              "outlinewidth": 0,
              "ticks": ""
             }
            },
            "type": "scattergeo"
           }
          ],
          "scattergl": [
           {
            "marker": {
             "colorbar": {
              "outlinewidth": 0,
              "ticks": ""
             }
            },
            "type": "scattergl"
           }
          ],
          "scattermapbox": [
           {
            "marker": {
             "colorbar": {
              "outlinewidth": 0,
              "ticks": ""
             }
            },
            "type": "scattermapbox"
           }
          ],
          "scatterpolar": [
           {
            "marker": {
             "colorbar": {
              "outlinewidth": 0,
              "ticks": ""
             }
            },
            "type": "scatterpolar"
           }
          ],
          "scatterpolargl": [
           {
            "marker": {
             "colorbar": {
              "outlinewidth": 0,
              "ticks": ""
             }
            },
            "type": "scatterpolargl"
           }
          ],
          "scatterternary": [
           {
            "marker": {
             "colorbar": {
              "outlinewidth": 0,
              "ticks": ""
             }
            },
            "type": "scatterternary"
           }
          ],
          "surface": [
           {
            "colorbar": {
             "outlinewidth": 0,
             "ticks": ""
            },
            "colorscale": [
             [
              0,
              "#0d0887"
             ],
             [
              0.1111111111111111,
              "#46039f"
             ],
             [
              0.2222222222222222,
              "#7201a8"
             ],
             [
              0.3333333333333333,
              "#9c179e"
             ],
             [
              0.4444444444444444,
              "#bd3786"
             ],
             [
              0.5555555555555556,
              "#d8576b"
             ],
             [
              0.6666666666666666,
              "#ed7953"
             ],
             [
              0.7777777777777778,
              "#fb9f3a"
             ],
             [
              0.8888888888888888,
              "#fdca26"
             ],
             [
              1,
              "#f0f921"
             ]
            ],
            "type": "surface"
           }
          ],
          "table": [
           {
            "cells": {
             "fill": {
              "color": "#EBF0F8"
             },
             "line": {
              "color": "white"
             }
            },
            "header": {
             "fill": {
              "color": "#C8D4E3"
             },
             "line": {
              "color": "white"
             }
            },
            "type": "table"
           }
          ]
         },
         "layout": {
          "annotationdefaults": {
           "arrowcolor": "#2a3f5f",
           "arrowhead": 0,
           "arrowwidth": 1
          },
          "autotypenumbers": "strict",
          "coloraxis": {
           "colorbar": {
            "outlinewidth": 0,
            "ticks": ""
           }
          },
          "colorscale": {
           "diverging": [
            [
             0,
             "#8e0152"
            ],
            [
             0.1,
             "#c51b7d"
            ],
            [
             0.2,
             "#de77ae"
            ],
            [
             0.3,
             "#f1b6da"
            ],
            [
             0.4,
             "#fde0ef"
            ],
            [
             0.5,
             "#f7f7f7"
            ],
            [
             0.6,
             "#e6f5d0"
            ],
            [
             0.7,
             "#b8e186"
            ],
            [
             0.8,
             "#7fbc41"
            ],
            [
             0.9,
             "#4d9221"
            ],
            [
             1,
             "#276419"
            ]
           ],
           "sequential": [
            [
             0,
             "#0d0887"
            ],
            [
             0.1111111111111111,
             "#46039f"
            ],
            [
             0.2222222222222222,
             "#7201a8"
            ],
            [
             0.3333333333333333,
             "#9c179e"
            ],
            [
             0.4444444444444444,
             "#bd3786"
            ],
            [
             0.5555555555555556,
             "#d8576b"
            ],
            [
             0.6666666666666666,
             "#ed7953"
            ],
            [
             0.7777777777777778,
             "#fb9f3a"
            ],
            [
             0.8888888888888888,
             "#fdca26"
            ],
            [
             1,
             "#f0f921"
            ]
           ],
           "sequentialminus": [
            [
             0,
             "#0d0887"
            ],
            [
             0.1111111111111111,
             "#46039f"
            ],
            [
             0.2222222222222222,
             "#7201a8"
            ],
            [
             0.3333333333333333,
             "#9c179e"
            ],
            [
             0.4444444444444444,
             "#bd3786"
            ],
            [
             0.5555555555555556,
             "#d8576b"
            ],
            [
             0.6666666666666666,
             "#ed7953"
            ],
            [
             0.7777777777777778,
             "#fb9f3a"
            ],
            [
             0.8888888888888888,
             "#fdca26"
            ],
            [
             1,
             "#f0f921"
            ]
           ]
          },
          "colorway": [
           "#636efa",
           "#EF553B",
           "#00cc96",
           "#ab63fa",
           "#FFA15A",
           "#19d3f3",
           "#FF6692",
           "#B6E880",
           "#FF97FF",
           "#FECB52"
          ],
          "font": {
           "color": "#2a3f5f"
          },
          "geo": {
           "bgcolor": "white",
           "lakecolor": "white",
           "landcolor": "#E5ECF6",
           "showlakes": true,
           "showland": true,
           "subunitcolor": "white"
          },
          "hoverlabel": {
           "align": "left"
          },
          "hovermode": "closest",
          "mapbox": {
           "style": "light"
          },
          "paper_bgcolor": "white",
          "plot_bgcolor": "#E5ECF6",
          "polar": {
           "angularaxis": {
            "gridcolor": "white",
            "linecolor": "white",
            "ticks": ""
           },
           "bgcolor": "#E5ECF6",
           "radialaxis": {
            "gridcolor": "white",
            "linecolor": "white",
            "ticks": ""
           }
          },
          "scene": {
           "xaxis": {
            "backgroundcolor": "#E5ECF6",
            "gridcolor": "white",
            "gridwidth": 2,
            "linecolor": "white",
            "showbackground": true,
            "ticks": "",
            "zerolinecolor": "white"
           },
           "yaxis": {
            "backgroundcolor": "#E5ECF6",
            "gridcolor": "white",
            "gridwidth": 2,
            "linecolor": "white",
            "showbackground": true,
            "ticks": "",
            "zerolinecolor": "white"
           },
           "zaxis": {
            "backgroundcolor": "#E5ECF6",
            "gridcolor": "white",
            "gridwidth": 2,
            "linecolor": "white",
            "showbackground": true,
            "ticks": "",
            "zerolinecolor": "white"
           }
          },
          "shapedefaults": {
           "line": {
            "color": "#2a3f5f"
           }
          },
          "ternary": {
           "aaxis": {
            "gridcolor": "white",
            "linecolor": "white",
            "ticks": ""
           },
           "baxis": {
            "gridcolor": "white",
            "linecolor": "white",
            "ticks": ""
           },
           "bgcolor": "#E5ECF6",
           "caxis": {
            "gridcolor": "white",
            "linecolor": "white",
            "ticks": ""
           }
          },
          "title": {
           "x": 0.05
          },
          "xaxis": {
           "automargin": true,
           "gridcolor": "white",
           "linecolor": "white",
           "ticks": "",
           "title": {
            "standoff": 15
           },
           "zerolinecolor": "white",
           "zerolinewidth": 2
          },
          "yaxis": {
           "automargin": true,
           "gridcolor": "white",
           "linecolor": "white",
           "ticks": "",
           "title": {
            "standoff": 15
           },
           "zerolinecolor": "white",
           "zerolinewidth": 2
          }
         }
        },
        "title": {
         "text": "Cantidad de Establecimientos por Municipio y Capacidad"
        },
        "xaxis": {
         "anchor": "y",
         "domain": [
          0,
          1
         ],
         "title": {
          "text": "Municipio"
         }
        },
        "yaxis": {
         "anchor": "x",
         "domain": [
          0,
          1
         ],
         "title": {
          "text": "Número de Establecimientos"
         }
        }
       }
      }
     },
     "metadata": {},
     "output_type": "display_data"
    }
   ],
   "source": [
    "conteo_por_municipio = df.groupby(['district', 'intake_capacity']).size().reset_index(name='count') #Agrupa por tipo de capacidad y el municipio y cuenta. El (name='count') le da nombre a la nueva columa con los conteos.\n",
    "\n",
    "fig = px.bar(conteo_por_municipio, \n",
    "            x='district', \n",
    "            y='count', \n",
    "            color='intake_capacity', \n",
    "            barmode='group',\n",
    "            title='Cantidad de Establecimientos por Municipio y Capacidad',\n",
    "            labels={'district': 'Municipio', 'count': 'Número de Establecimientos'},\n",
    "            text='count')\n",
    "fig.show()"
   ]
  },
  {
   "cell_type": "markdown",
   "metadata": {},
   "source": [
    "-\"Oye, cuando ustedes tienen en mente ir a algún sitio ¿no les da automáticamente el impulso de buscarlo en redes sociales como Instagram y Facebook? Ahí suben fotos del local, de los platos y más o menos vas teniendo una idea. Para mí, que tenga actividad en las plataformas digitales, es muy buena señal. Hay que modernizarse.\" -intervino nuevamente Ana."
   ]
  },
  {
   "cell_type": "markdown",
   "metadata": {},
   "source": [
    "-\"Totalmente de acuerdo, hoy en día todos comparten foto de su comida o del lugar en el que están, incluso muchos de los nuevos lugares se dan a conocer por su actividad en plataformas digitales. Si un lugar tiene una buena presencia en redes probablemente atraerá más clientes.\" -comentó Luis."
   ]
  },
  {
   "cell_type": "markdown",
   "metadata": {},
   "source": [
    "Con esta nueva idea, decidieron investigar qué municipios tenían la mayor cantidad de establecimientos activos en redes sociales, descubriendo así que en los municipios Playa y Plaza, 21 de los 30 sitios analizados en cada uno de ellos respectivamente, tenían perfiles en las plataformas, con muchas más posibilidades de llegar al cliente.\n"
   ]
  },
  {
   "cell_type": "code",
   "execution_count": 4,
   "metadata": {},
   "outputs": [
    {
     "data": {
      "application/vnd.plotly.v1+json": {
       "config": {
        "plotlyServerURL": "https://plot.ly"
       },
       "data": [
        {
         "alignmentgroup": "True",
         "hovertemplate": "Municipio=%{x}<br>Cantidad de Restaurantes=%{marker.color}<extra></extra>",
         "legendgroup": "",
         "marker": {
          "color": [
           21,
           21,
           14,
           6,
           5,
           5,
           5,
           4,
           3,
           3,
           3,
           2,
           2,
           1,
           1
          ],
          "coloraxis": "coloraxis",
          "pattern": {
           "shape": ""
          }
         },
         "name": "",
         "offsetgroup": "",
         "orientation": "v",
         "showlegend": false,
         "textposition": "auto",
         "type": "bar",
         "x": [
          "Playa",
          "Plaza de la Revolución",
          "Centro Habana",
          "Diez de Octubre",
          "Boyeros",
          "Habana del Este",
          "La Habana Vieja",
          "Arroyo Naranjo",
          "Guanabacoa",
          "Cotorro",
          "La Lisa",
          "Regla",
          "Cerro",
          "Marianao",
          "San Miguel del Padrón"
         ],
         "xaxis": "x",
         "y": [
          21,
          21,
          14,
          6,
          5,
          5,
          5,
          4,
          3,
          3,
          3,
          2,
          2,
          1,
          1
         ],
         "yaxis": "y"
        }
       ],
       "layout": {
        "barmode": "relative",
        "coloraxis": {
         "colorbar": {
          "title": {
           "text": "Cantidad de Restaurantes"
          }
         },
         "colorscale": [
          [
           0,
           "#0d0887"
          ],
          [
           0.1111111111111111,
           "#46039f"
          ],
          [
           0.2222222222222222,
           "#7201a8"
          ],
          [
           0.3333333333333333,
           "#9c179e"
          ],
          [
           0.4444444444444444,
           "#bd3786"
          ],
          [
           0.5555555555555556,
           "#d8576b"
          ],
          [
           0.6666666666666666,
           "#ed7953"
          ],
          [
           0.7777777777777778,
           "#fb9f3a"
          ],
          [
           0.8888888888888888,
           "#fdca26"
          ],
          [
           1,
           "#f0f921"
          ]
         ]
        },
        "legend": {
         "tracegroupgap": 0
        },
        "template": {
         "data": {
          "bar": [
           {
            "error_x": {
             "color": "#2a3f5f"
            },
            "error_y": {
             "color": "#2a3f5f"
            },
            "marker": {
             "line": {
              "color": "#E5ECF6",
              "width": 0.5
             },
             "pattern": {
              "fillmode": "overlay",
              "size": 10,
              "solidity": 0.2
             }
            },
            "type": "bar"
           }
          ],
          "barpolar": [
           {
            "marker": {
             "line": {
              "color": "#E5ECF6",
              "width": 0.5
             },
             "pattern": {
              "fillmode": "overlay",
              "size": 10,
              "solidity": 0.2
             }
            },
            "type": "barpolar"
           }
          ],
          "carpet": [
           {
            "aaxis": {
             "endlinecolor": "#2a3f5f",
             "gridcolor": "white",
             "linecolor": "white",
             "minorgridcolor": "white",
             "startlinecolor": "#2a3f5f"
            },
            "baxis": {
             "endlinecolor": "#2a3f5f",
             "gridcolor": "white",
             "linecolor": "white",
             "minorgridcolor": "white",
             "startlinecolor": "#2a3f5f"
            },
            "type": "carpet"
           }
          ],
          "choropleth": [
           {
            "colorbar": {
             "outlinewidth": 0,
             "ticks": ""
            },
            "type": "choropleth"
           }
          ],
          "contour": [
           {
            "colorbar": {
             "outlinewidth": 0,
             "ticks": ""
            },
            "colorscale": [
             [
              0,
              "#0d0887"
             ],
             [
              0.1111111111111111,
              "#46039f"
             ],
             [
              0.2222222222222222,
              "#7201a8"
             ],
             [
              0.3333333333333333,
              "#9c179e"
             ],
             [
              0.4444444444444444,
              "#bd3786"
             ],
             [
              0.5555555555555556,
              "#d8576b"
             ],
             [
              0.6666666666666666,
              "#ed7953"
             ],
             [
              0.7777777777777778,
              "#fb9f3a"
             ],
             [
              0.8888888888888888,
              "#fdca26"
             ],
             [
              1,
              "#f0f921"
             ]
            ],
            "type": "contour"
           }
          ],
          "contourcarpet": [
           {
            "colorbar": {
             "outlinewidth": 0,
             "ticks": ""
            },
            "type": "contourcarpet"
           }
          ],
          "heatmap": [
           {
            "colorbar": {
             "outlinewidth": 0,
             "ticks": ""
            },
            "colorscale": [
             [
              0,
              "#0d0887"
             ],
             [
              0.1111111111111111,
              "#46039f"
             ],
             [
              0.2222222222222222,
              "#7201a8"
             ],
             [
              0.3333333333333333,
              "#9c179e"
             ],
             [
              0.4444444444444444,
              "#bd3786"
             ],
             [
              0.5555555555555556,
              "#d8576b"
             ],
             [
              0.6666666666666666,
              "#ed7953"
             ],
             [
              0.7777777777777778,
              "#fb9f3a"
             ],
             [
              0.8888888888888888,
              "#fdca26"
             ],
             [
              1,
              "#f0f921"
             ]
            ],
            "type": "heatmap"
           }
          ],
          "heatmapgl": [
           {
            "colorbar": {
             "outlinewidth": 0,
             "ticks": ""
            },
            "colorscale": [
             [
              0,
              "#0d0887"
             ],
             [
              0.1111111111111111,
              "#46039f"
             ],
             [
              0.2222222222222222,
              "#7201a8"
             ],
             [
              0.3333333333333333,
              "#9c179e"
             ],
             [
              0.4444444444444444,
              "#bd3786"
             ],
             [
              0.5555555555555556,
              "#d8576b"
             ],
             [
              0.6666666666666666,
              "#ed7953"
             ],
             [
              0.7777777777777778,
              "#fb9f3a"
             ],
             [
              0.8888888888888888,
              "#fdca26"
             ],
             [
              1,
              "#f0f921"
             ]
            ],
            "type": "heatmapgl"
           }
          ],
          "histogram": [
           {
            "marker": {
             "pattern": {
              "fillmode": "overlay",
              "size": 10,
              "solidity": 0.2
             }
            },
            "type": "histogram"
           }
          ],
          "histogram2d": [
           {
            "colorbar": {
             "outlinewidth": 0,
             "ticks": ""
            },
            "colorscale": [
             [
              0,
              "#0d0887"
             ],
             [
              0.1111111111111111,
              "#46039f"
             ],
             [
              0.2222222222222222,
              "#7201a8"
             ],
             [
              0.3333333333333333,
              "#9c179e"
             ],
             [
              0.4444444444444444,
              "#bd3786"
             ],
             [
              0.5555555555555556,
              "#d8576b"
             ],
             [
              0.6666666666666666,
              "#ed7953"
             ],
             [
              0.7777777777777778,
              "#fb9f3a"
             ],
             [
              0.8888888888888888,
              "#fdca26"
             ],
             [
              1,
              "#f0f921"
             ]
            ],
            "type": "histogram2d"
           }
          ],
          "histogram2dcontour": [
           {
            "colorbar": {
             "outlinewidth": 0,
             "ticks": ""
            },
            "colorscale": [
             [
              0,
              "#0d0887"
             ],
             [
              0.1111111111111111,
              "#46039f"
             ],
             [
              0.2222222222222222,
              "#7201a8"
             ],
             [
              0.3333333333333333,
              "#9c179e"
             ],
             [
              0.4444444444444444,
              "#bd3786"
             ],
             [
              0.5555555555555556,
              "#d8576b"
             ],
             [
              0.6666666666666666,
              "#ed7953"
             ],
             [
              0.7777777777777778,
              "#fb9f3a"
             ],
             [
              0.8888888888888888,
              "#fdca26"
             ],
             [
              1,
              "#f0f921"
             ]
            ],
            "type": "histogram2dcontour"
           }
          ],
          "mesh3d": [
           {
            "colorbar": {
             "outlinewidth": 0,
             "ticks": ""
            },
            "type": "mesh3d"
           }
          ],
          "parcoords": [
           {
            "line": {
             "colorbar": {
              "outlinewidth": 0,
              "ticks": ""
             }
            },
            "type": "parcoords"
           }
          ],
          "pie": [
           {
            "automargin": true,
            "type": "pie"
           }
          ],
          "scatter": [
           {
            "fillpattern": {
             "fillmode": "overlay",
             "size": 10,
             "solidity": 0.2
            },
            "type": "scatter"
           }
          ],
          "scatter3d": [
           {
            "line": {
             "colorbar": {
              "outlinewidth": 0,
              "ticks": ""
             }
            },
            "marker": {
             "colorbar": {
              "outlinewidth": 0,
              "ticks": ""
             }
            },
            "type": "scatter3d"
           }
          ],
          "scattercarpet": [
           {
            "marker": {
             "colorbar": {
              "outlinewidth": 0,
              "ticks": ""
             }
            },
            "type": "scattercarpet"
           }
          ],
          "scattergeo": [
           {
            "marker": {
             "colorbar": {
              "outlinewidth": 0,
              "ticks": ""
             }
            },
            "type": "scattergeo"
           }
          ],
          "scattergl": [
           {
            "marker": {
             "colorbar": {
              "outlinewidth": 0,
              "ticks": ""
             }
            },
            "type": "scattergl"
           }
          ],
          "scattermapbox": [
           {
            "marker": {
             "colorbar": {
              "outlinewidth": 0,
              "ticks": ""
             }
            },
            "type": "scattermapbox"
           }
          ],
          "scatterpolar": [
           {
            "marker": {
             "colorbar": {
              "outlinewidth": 0,
              "ticks": ""
             }
            },
            "type": "scatterpolar"
           }
          ],
          "scatterpolargl": [
           {
            "marker": {
             "colorbar": {
              "outlinewidth": 0,
              "ticks": ""
             }
            },
            "type": "scatterpolargl"
           }
          ],
          "scatterternary": [
           {
            "marker": {
             "colorbar": {
              "outlinewidth": 0,
              "ticks": ""
             }
            },
            "type": "scatterternary"
           }
          ],
          "surface": [
           {
            "colorbar": {
             "outlinewidth": 0,
             "ticks": ""
            },
            "colorscale": [
             [
              0,
              "#0d0887"
             ],
             [
              0.1111111111111111,
              "#46039f"
             ],
             [
              0.2222222222222222,
              "#7201a8"
             ],
             [
              0.3333333333333333,
              "#9c179e"
             ],
             [
              0.4444444444444444,
              "#bd3786"
             ],
             [
              0.5555555555555556,
              "#d8576b"
             ],
             [
              0.6666666666666666,
              "#ed7953"
             ],
             [
              0.7777777777777778,
              "#fb9f3a"
             ],
             [
              0.8888888888888888,
              "#fdca26"
             ],
             [
              1,
              "#f0f921"
             ]
            ],
            "type": "surface"
           }
          ],
          "table": [
           {
            "cells": {
             "fill": {
              "color": "#EBF0F8"
             },
             "line": {
              "color": "white"
             }
            },
            "header": {
             "fill": {
              "color": "#C8D4E3"
             },
             "line": {
              "color": "white"
             }
            },
            "type": "table"
           }
          ]
         },
         "layout": {
          "annotationdefaults": {
           "arrowcolor": "#2a3f5f",
           "arrowhead": 0,
           "arrowwidth": 1
          },
          "autotypenumbers": "strict",
          "coloraxis": {
           "colorbar": {
            "outlinewidth": 0,
            "ticks": ""
           }
          },
          "colorscale": {
           "diverging": [
            [
             0,
             "#8e0152"
            ],
            [
             0.1,
             "#c51b7d"
            ],
            [
             0.2,
             "#de77ae"
            ],
            [
             0.3,
             "#f1b6da"
            ],
            [
             0.4,
             "#fde0ef"
            ],
            [
             0.5,
             "#f7f7f7"
            ],
            [
             0.6,
             "#e6f5d0"
            ],
            [
             0.7,
             "#b8e186"
            ],
            [
             0.8,
             "#7fbc41"
            ],
            [
             0.9,
             "#4d9221"
            ],
            [
             1,
             "#276419"
            ]
           ],
           "sequential": [
            [
             0,
             "#0d0887"
            ],
            [
             0.1111111111111111,
             "#46039f"
            ],
            [
             0.2222222222222222,
             "#7201a8"
            ],
            [
             0.3333333333333333,
             "#9c179e"
            ],
            [
             0.4444444444444444,
             "#bd3786"
            ],
            [
             0.5555555555555556,
             "#d8576b"
            ],
            [
             0.6666666666666666,
             "#ed7953"
            ],
            [
             0.7777777777777778,
             "#fb9f3a"
            ],
            [
             0.8888888888888888,
             "#fdca26"
            ],
            [
             1,
             "#f0f921"
            ]
           ],
           "sequentialminus": [
            [
             0,
             "#0d0887"
            ],
            [
             0.1111111111111111,
             "#46039f"
            ],
            [
             0.2222222222222222,
             "#7201a8"
            ],
            [
             0.3333333333333333,
             "#9c179e"
            ],
            [
             0.4444444444444444,
             "#bd3786"
            ],
            [
             0.5555555555555556,
             "#d8576b"
            ],
            [
             0.6666666666666666,
             "#ed7953"
            ],
            [
             0.7777777777777778,
             "#fb9f3a"
            ],
            [
             0.8888888888888888,
             "#fdca26"
            ],
            [
             1,
             "#f0f921"
            ]
           ]
          },
          "colorway": [
           "#636efa",
           "#EF553B",
           "#00cc96",
           "#ab63fa",
           "#FFA15A",
           "#19d3f3",
           "#FF6692",
           "#B6E880",
           "#FF97FF",
           "#FECB52"
          ],
          "font": {
           "color": "#2a3f5f"
          },
          "geo": {
           "bgcolor": "white",
           "lakecolor": "white",
           "landcolor": "#E5ECF6",
           "showlakes": true,
           "showland": true,
           "subunitcolor": "white"
          },
          "hoverlabel": {
           "align": "left"
          },
          "hovermode": "closest",
          "mapbox": {
           "style": "light"
          },
          "paper_bgcolor": "white",
          "plot_bgcolor": "#E5ECF6",
          "polar": {
           "angularaxis": {
            "gridcolor": "white",
            "linecolor": "white",
            "ticks": ""
           },
           "bgcolor": "#E5ECF6",
           "radialaxis": {
            "gridcolor": "white",
            "linecolor": "white",
            "ticks": ""
           }
          },
          "scene": {
           "xaxis": {
            "backgroundcolor": "#E5ECF6",
            "gridcolor": "white",
            "gridwidth": 2,
            "linecolor": "white",
            "showbackground": true,
            "ticks": "",
            "zerolinecolor": "white"
           },
           "yaxis": {
            "backgroundcolor": "#E5ECF6",
            "gridcolor": "white",
            "gridwidth": 2,
            "linecolor": "white",
            "showbackground": true,
            "ticks": "",
            "zerolinecolor": "white"
           },
           "zaxis": {
            "backgroundcolor": "#E5ECF6",
            "gridcolor": "white",
            "gridwidth": 2,
            "linecolor": "white",
            "showbackground": true,
            "ticks": "",
            "zerolinecolor": "white"
           }
          },
          "shapedefaults": {
           "line": {
            "color": "#2a3f5f"
           }
          },
          "ternary": {
           "aaxis": {
            "gridcolor": "white",
            "linecolor": "white",
            "ticks": ""
           },
           "baxis": {
            "gridcolor": "white",
            "linecolor": "white",
            "ticks": ""
           },
           "bgcolor": "#E5ECF6",
           "caxis": {
            "gridcolor": "white",
            "linecolor": "white",
            "ticks": ""
           }
          },
          "title": {
           "x": 0.05
          },
          "xaxis": {
           "automargin": true,
           "gridcolor": "white",
           "linecolor": "white",
           "ticks": "",
           "title": {
            "standoff": 15
           },
           "zerolinecolor": "white",
           "zerolinewidth": 2
          },
          "yaxis": {
           "automargin": true,
           "gridcolor": "white",
           "linecolor": "white",
           "ticks": "",
           "title": {
            "standoff": 15
           },
           "zerolinecolor": "white",
           "zerolinewidth": 2
          }
         }
        },
        "title": {
         "text": "Cantidad de Restaurantes con Redes Sociales por Municipio"
        },
        "xaxis": {
         "anchor": "y",
         "domain": [
          0,
          1
         ],
         "tickangle": -45,
         "title": {
          "text": "Municipio"
         }
        },
        "yaxis": {
         "anchor": "x",
         "domain": [
          0,
          1
         ],
         "title": {
          "text": "Cantidad de Restaurantes"
         }
        }
       }
      }
     },
     "metadata": {},
     "output_type": "display_data"
    }
   ],
   "source": [
    "#Ver la cantidad de establecimientos por municipio que tiene Instagram y Facebook.\n",
    "def social_networks(contact):\n",
    "    return bool(contact.get('instagram')) and bool(contact.get('facebook'))\n",
    "\n",
    "df['has_social_net'] = df['contact'].apply(social_networks)\n",
    "\n",
    "df_social_net = df[df['has_social_net']]\n",
    "\n",
    "mun_count = df_social_net['district'].value_counts().reset_index()\n",
    "mun_count.columns = ['Municipio', 'Cantidad']\n",
    "\n",
    "fig = px.bar(mun_count, \n",
    "            x='Municipio', \n",
    "            y='Cantidad', \n",
    "            title='Cantidad de Restaurantes con Redes Sociales por Municipio',\n",
    "            labels={'Cantidad': 'Cantidad de Restaurantes', 'Municipio': 'Municipio'},\n",
    "            color='Cantidad',\n",
    "            color_continuous_scale=px.colors.sequential.Plasma)  # Cambiado a 'Greens'\n",
    "\n",
    "fig.update_layout(xaxis_tickangle=-45)\n",
    "fig.show()"
   ]
  },
  {
   "cell_type": "markdown",
   "metadata": {},
   "source": [
    "Mientras reflexionaban sobre la importancia de las redes sociales para los establecimientos notaron que estas no solo servían como plataformas para promocionar sus negocios, sino que también permitían a los clientes interactuar directamente dejando comentarios y reseñas de ayuda para otros.\n",
    "\n",
    "Por eso se propusieron utilizar precisamente el rating de los establicimientos basados en las reseñas hechas en TripAdvisor para comparar entre 'restaurante', 'bar - restaurante' y 'bar' cuál tenía mejor valoración por parte de los clientes."
   ]
  },
  {
   "cell_type": "code",
   "execution_count": 10,
   "metadata": {},
   "outputs": [
    {
     "data": {
      "application/vnd.plotly.v1+json": {
       "config": {
        "plotlyServerURL": "https://plot.ly"
       },
       "data": [
        {
         "alignmentgroup": "True",
         "hovertemplate": "Tipo=%{x}<br>Rating Promedio=%{marker.color}<extra></extra>",
         "legendgroup": "",
         "marker": {
          "color": [
           5,
           4.4,
           4.21
          ],
          "coloraxis": "coloraxis",
          "pattern": {
           "shape": ""
          }
         },
         "name": "",
         "offsetgroup": "",
         "orientation": "v",
         "showlegend": false,
         "textposition": "auto",
         "type": "bar",
         "x": [
          "bar",
          "bar - restaurante",
          "restaurante"
         ],
         "xaxis": "x",
         "y": [
          5,
          4.4,
          4.21
         ],
         "yaxis": "y"
        }
       ],
       "layout": {
        "barmode": "relative",
        "coloraxis": {
         "colorbar": {
          "title": {
           "text": "Rating Promedio"
          }
         },
         "colorscale": [
          [
           0,
           "#440154"
          ],
          [
           0.1111111111111111,
           "#482878"
          ],
          [
           0.2222222222222222,
           "#3e4989"
          ],
          [
           0.3333333333333333,
           "#31688e"
          ],
          [
           0.4444444444444444,
           "#26828e"
          ],
          [
           0.5555555555555556,
           "#1f9e89"
          ],
          [
           0.6666666666666666,
           "#35b779"
          ],
          [
           0.7777777777777778,
           "#6ece58"
          ],
          [
           0.8888888888888888,
           "#b5de2b"
          ],
          [
           1,
           "#fde725"
          ]
         ]
        },
        "legend": {
         "tracegroupgap": 0
        },
        "template": {
         "data": {
          "bar": [
           {
            "error_x": {
             "color": "#2a3f5f"
            },
            "error_y": {
             "color": "#2a3f5f"
            },
            "marker": {
             "line": {
              "color": "#E5ECF6",
              "width": 0.5
             },
             "pattern": {
              "fillmode": "overlay",
              "size": 10,
              "solidity": 0.2
             }
            },
            "type": "bar"
           }
          ],
          "barpolar": [
           {
            "marker": {
             "line": {
              "color": "#E5ECF6",
              "width": 0.5
             },
             "pattern": {
              "fillmode": "overlay",
              "size": 10,
              "solidity": 0.2
             }
            },
            "type": "barpolar"
           }
          ],
          "carpet": [
           {
            "aaxis": {
             "endlinecolor": "#2a3f5f",
             "gridcolor": "white",
             "linecolor": "white",
             "minorgridcolor": "white",
             "startlinecolor": "#2a3f5f"
            },
            "baxis": {
             "endlinecolor": "#2a3f5f",
             "gridcolor": "white",
             "linecolor": "white",
             "minorgridcolor": "white",
             "startlinecolor": "#2a3f5f"
            },
            "type": "carpet"
           }
          ],
          "choropleth": [
           {
            "colorbar": {
             "outlinewidth": 0,
             "ticks": ""
            },
            "type": "choropleth"
           }
          ],
          "contour": [
           {
            "colorbar": {
             "outlinewidth": 0,
             "ticks": ""
            },
            "colorscale": [
             [
              0,
              "#0d0887"
             ],
             [
              0.1111111111111111,
              "#46039f"
             ],
             [
              0.2222222222222222,
              "#7201a8"
             ],
             [
              0.3333333333333333,
              "#9c179e"
             ],
             [
              0.4444444444444444,
              "#bd3786"
             ],
             [
              0.5555555555555556,
              "#d8576b"
             ],
             [
              0.6666666666666666,
              "#ed7953"
             ],
             [
              0.7777777777777778,
              "#fb9f3a"
             ],
             [
              0.8888888888888888,
              "#fdca26"
             ],
             [
              1,
              "#f0f921"
             ]
            ],
            "type": "contour"
           }
          ],
          "contourcarpet": [
           {
            "colorbar": {
             "outlinewidth": 0,
             "ticks": ""
            },
            "type": "contourcarpet"
           }
          ],
          "heatmap": [
           {
            "colorbar": {
             "outlinewidth": 0,
             "ticks": ""
            },
            "colorscale": [
             [
              0,
              "#0d0887"
             ],
             [
              0.1111111111111111,
              "#46039f"
             ],
             [
              0.2222222222222222,
              "#7201a8"
             ],
             [
              0.3333333333333333,
              "#9c179e"
             ],
             [
              0.4444444444444444,
              "#bd3786"
             ],
             [
              0.5555555555555556,
              "#d8576b"
             ],
             [
              0.6666666666666666,
              "#ed7953"
             ],
             [
              0.7777777777777778,
              "#fb9f3a"
             ],
             [
              0.8888888888888888,
              "#fdca26"
             ],
             [
              1,
              "#f0f921"
             ]
            ],
            "type": "heatmap"
           }
          ],
          "heatmapgl": [
           {
            "colorbar": {
             "outlinewidth": 0,
             "ticks": ""
            },
            "colorscale": [
             [
              0,
              "#0d0887"
             ],
             [
              0.1111111111111111,
              "#46039f"
             ],
             [
              0.2222222222222222,
              "#7201a8"
             ],
             [
              0.3333333333333333,
              "#9c179e"
             ],
             [
              0.4444444444444444,
              "#bd3786"
             ],
             [
              0.5555555555555556,
              "#d8576b"
             ],
             [
              0.6666666666666666,
              "#ed7953"
             ],
             [
              0.7777777777777778,
              "#fb9f3a"
             ],
             [
              0.8888888888888888,
              "#fdca26"
             ],
             [
              1,
              "#f0f921"
             ]
            ],
            "type": "heatmapgl"
           }
          ],
          "histogram": [
           {
            "marker": {
             "pattern": {
              "fillmode": "overlay",
              "size": 10,
              "solidity": 0.2
             }
            },
            "type": "histogram"
           }
          ],
          "histogram2d": [
           {
            "colorbar": {
             "outlinewidth": 0,
             "ticks": ""
            },
            "colorscale": [
             [
              0,
              "#0d0887"
             ],
             [
              0.1111111111111111,
              "#46039f"
             ],
             [
              0.2222222222222222,
              "#7201a8"
             ],
             [
              0.3333333333333333,
              "#9c179e"
             ],
             [
              0.4444444444444444,
              "#bd3786"
             ],
             [
              0.5555555555555556,
              "#d8576b"
             ],
             [
              0.6666666666666666,
              "#ed7953"
             ],
             [
              0.7777777777777778,
              "#fb9f3a"
             ],
             [
              0.8888888888888888,
              "#fdca26"
             ],
             [
              1,
              "#f0f921"
             ]
            ],
            "type": "histogram2d"
           }
          ],
          "histogram2dcontour": [
           {
            "colorbar": {
             "outlinewidth": 0,
             "ticks": ""
            },
            "colorscale": [
             [
              0,
              "#0d0887"
             ],
             [
              0.1111111111111111,
              "#46039f"
             ],
             [
              0.2222222222222222,
              "#7201a8"
             ],
             [
              0.3333333333333333,
              "#9c179e"
             ],
             [
              0.4444444444444444,
              "#bd3786"
             ],
             [
              0.5555555555555556,
              "#d8576b"
             ],
             [
              0.6666666666666666,
              "#ed7953"
             ],
             [
              0.7777777777777778,
              "#fb9f3a"
             ],
             [
              0.8888888888888888,
              "#fdca26"
             ],
             [
              1,
              "#f0f921"
             ]
            ],
            "type": "histogram2dcontour"
           }
          ],
          "mesh3d": [
           {
            "colorbar": {
             "outlinewidth": 0,
             "ticks": ""
            },
            "type": "mesh3d"
           }
          ],
          "parcoords": [
           {
            "line": {
             "colorbar": {
              "outlinewidth": 0,
              "ticks": ""
             }
            },
            "type": "parcoords"
           }
          ],
          "pie": [
           {
            "automargin": true,
            "type": "pie"
           }
          ],
          "scatter": [
           {
            "fillpattern": {
             "fillmode": "overlay",
             "size": 10,
             "solidity": 0.2
            },
            "type": "scatter"
           }
          ],
          "scatter3d": [
           {
            "line": {
             "colorbar": {
              "outlinewidth": 0,
              "ticks": ""
             }
            },
            "marker": {
             "colorbar": {
              "outlinewidth": 0,
              "ticks": ""
             }
            },
            "type": "scatter3d"
           }
          ],
          "scattercarpet": [
           {
            "marker": {
             "colorbar": {
              "outlinewidth": 0,
              "ticks": ""
             }
            },
            "type": "scattercarpet"
           }
          ],
          "scattergeo": [
           {
            "marker": {
             "colorbar": {
              "outlinewidth": 0,
              "ticks": ""
             }
            },
            "type": "scattergeo"
           }
          ],
          "scattergl": [
           {
            "marker": {
             "colorbar": {
              "outlinewidth": 0,
              "ticks": ""
             }
            },
            "type": "scattergl"
           }
          ],
          "scattermapbox": [
           {
            "marker": {
             "colorbar": {
              "outlinewidth": 0,
              "ticks": ""
             }
            },
            "type": "scattermapbox"
           }
          ],
          "scatterpolar": [
           {
            "marker": {
             "colorbar": {
              "outlinewidth": 0,
              "ticks": ""
             }
            },
            "type": "scatterpolar"
           }
          ],
          "scatterpolargl": [
           {
            "marker": {
             "colorbar": {
              "outlinewidth": 0,
              "ticks": ""
             }
            },
            "type": "scatterpolargl"
           }
          ],
          "scatterternary": [
           {
            "marker": {
             "colorbar": {
              "outlinewidth": 0,
              "ticks": ""
             }
            },
            "type": "scatterternary"
           }
          ],
          "surface": [
           {
            "colorbar": {
             "outlinewidth": 0,
             "ticks": ""
            },
            "colorscale": [
             [
              0,
              "#0d0887"
             ],
             [
              0.1111111111111111,
              "#46039f"
             ],
             [
              0.2222222222222222,
              "#7201a8"
             ],
             [
              0.3333333333333333,
              "#9c179e"
             ],
             [
              0.4444444444444444,
              "#bd3786"
             ],
             [
              0.5555555555555556,
              "#d8576b"
             ],
             [
              0.6666666666666666,
              "#ed7953"
             ],
             [
              0.7777777777777778,
              "#fb9f3a"
             ],
             [
              0.8888888888888888,
              "#fdca26"
             ],
             [
              1,
              "#f0f921"
             ]
            ],
            "type": "surface"
           }
          ],
          "table": [
           {
            "cells": {
             "fill": {
              "color": "#EBF0F8"
             },
             "line": {
              "color": "white"
             }
            },
            "header": {
             "fill": {
              "color": "#C8D4E3"
             },
             "line": {
              "color": "white"
             }
            },
            "type": "table"
           }
          ]
         },
         "layout": {
          "annotationdefaults": {
           "arrowcolor": "#2a3f5f",
           "arrowhead": 0,
           "arrowwidth": 1
          },
          "autotypenumbers": "strict",
          "coloraxis": {
           "colorbar": {
            "outlinewidth": 0,
            "ticks": ""
           }
          },
          "colorscale": {
           "diverging": [
            [
             0,
             "#8e0152"
            ],
            [
             0.1,
             "#c51b7d"
            ],
            [
             0.2,
             "#de77ae"
            ],
            [
             0.3,
             "#f1b6da"
            ],
            [
             0.4,
             "#fde0ef"
            ],
            [
             0.5,
             "#f7f7f7"
            ],
            [
             0.6,
             "#e6f5d0"
            ],
            [
             0.7,
             "#b8e186"
            ],
            [
             0.8,
             "#7fbc41"
            ],
            [
             0.9,
             "#4d9221"
            ],
            [
             1,
             "#276419"
            ]
           ],
           "sequential": [
            [
             0,
             "#0d0887"
            ],
            [
             0.1111111111111111,
             "#46039f"
            ],
            [
             0.2222222222222222,
             "#7201a8"
            ],
            [
             0.3333333333333333,
             "#9c179e"
            ],
            [
             0.4444444444444444,
             "#bd3786"
            ],
            [
             0.5555555555555556,
             "#d8576b"
            ],
            [
             0.6666666666666666,
             "#ed7953"
            ],
            [
             0.7777777777777778,
             "#fb9f3a"
            ],
            [
             0.8888888888888888,
             "#fdca26"
            ],
            [
             1,
             "#f0f921"
            ]
           ],
           "sequentialminus": [
            [
             0,
             "#0d0887"
            ],
            [
             0.1111111111111111,
             "#46039f"
            ],
            [
             0.2222222222222222,
             "#7201a8"
            ],
            [
             0.3333333333333333,
             "#9c179e"
            ],
            [
             0.4444444444444444,
             "#bd3786"
            ],
            [
             0.5555555555555556,
             "#d8576b"
            ],
            [
             0.6666666666666666,
             "#ed7953"
            ],
            [
             0.7777777777777778,
             "#fb9f3a"
            ],
            [
             0.8888888888888888,
             "#fdca26"
            ],
            [
             1,
             "#f0f921"
            ]
           ]
          },
          "colorway": [
           "#636efa",
           "#EF553B",
           "#00cc96",
           "#ab63fa",
           "#FFA15A",
           "#19d3f3",
           "#FF6692",
           "#B6E880",
           "#FF97FF",
           "#FECB52"
          ],
          "font": {
           "color": "#2a3f5f"
          },
          "geo": {
           "bgcolor": "white",
           "lakecolor": "white",
           "landcolor": "#E5ECF6",
           "showlakes": true,
           "showland": true,
           "subunitcolor": "white"
          },
          "hoverlabel": {
           "align": "left"
          },
          "hovermode": "closest",
          "mapbox": {
           "style": "light"
          },
          "paper_bgcolor": "white",
          "plot_bgcolor": "#E5ECF6",
          "polar": {
           "angularaxis": {
            "gridcolor": "white",
            "linecolor": "white",
            "ticks": ""
           },
           "bgcolor": "#E5ECF6",
           "radialaxis": {
            "gridcolor": "white",
            "linecolor": "white",
            "ticks": ""
           }
          },
          "scene": {
           "xaxis": {
            "backgroundcolor": "#E5ECF6",
            "gridcolor": "white",
            "gridwidth": 2,
            "linecolor": "white",
            "showbackground": true,
            "ticks": "",
            "zerolinecolor": "white"
           },
           "yaxis": {
            "backgroundcolor": "#E5ECF6",
            "gridcolor": "white",
            "gridwidth": 2,
            "linecolor": "white",
            "showbackground": true,
            "ticks": "",
            "zerolinecolor": "white"
           },
           "zaxis": {
            "backgroundcolor": "#E5ECF6",
            "gridcolor": "white",
            "gridwidth": 2,
            "linecolor": "white",
            "showbackground": true,
            "ticks": "",
            "zerolinecolor": "white"
           }
          },
          "shapedefaults": {
           "line": {
            "color": "#2a3f5f"
           }
          },
          "ternary": {
           "aaxis": {
            "gridcolor": "white",
            "linecolor": "white",
            "ticks": ""
           },
           "baxis": {
            "gridcolor": "white",
            "linecolor": "white",
            "ticks": ""
           },
           "bgcolor": "#E5ECF6",
           "caxis": {
            "gridcolor": "white",
            "linecolor": "white",
            "ticks": ""
           }
          },
          "title": {
           "x": 0.05
          },
          "xaxis": {
           "automargin": true,
           "gridcolor": "white",
           "linecolor": "white",
           "ticks": "",
           "title": {
            "standoff": 15
           },
           "zerolinecolor": "white",
           "zerolinewidth": 2
          },
          "yaxis": {
           "automargin": true,
           "gridcolor": "white",
           "linecolor": "white",
           "ticks": "",
           "title": {
            "standoff": 15
           },
           "zerolinecolor": "white",
           "zerolinewidth": 2
          }
         }
        },
        "title": {
         "text": "Rating Promedio por Tipo de Establecimiento"
        },
        "xaxis": {
         "anchor": "y",
         "domain": [
          0,
          1
         ],
         "title": {
          "text": "Tipo"
         }
        },
        "yaxis": {
         "anchor": "x",
         "domain": [
          0,
          1
         ],
         "title": {
          "text": "Rating Promedio"
         }
        }
       }
      }
     },
     "metadata": {},
     "output_type": "display_data"
    }
   ],
   "source": [
    "df['rating'] = pd.to_numeric(df['rating'], errors='coerce')\n",
    "\n",
    "tipos = ['bar', 'bar - restaurante', 'restaurante']\n",
    "\n",
    "promedios = {}\n",
    "for tipo in tipos_deseados:\n",
    "    promedio = df[df['type_of_establishment'] == tipo]['rating'].mean()\n",
    "    promedios[tipo] = round(promedio, 2)\n",
    "\n",
    "df_promedios = pd.DataFrame(list(promedios.items()), columns=['Tipo de Establecimiento', 'Rating Promedio'])\n",
    "\n",
    "fig = px.bar(df_promedios, \n",
    "            x='Tipo de Establecimiento', \n",
    "            y='Rating Promedio', \n",
    "            color='Rating Promedio',\n",
    "            title='Rating Promedio por Tipo de Establecimiento',\n",
    "            labels={'Tipo de Establecimiento': 'Tipo', 'Rating Promedio': 'Rating Promedio'},\n",
    "            color_continuous_scale=px.colors.sequential.Viridis)\n",
    "fig.show()"
   ]
  },
  {
   "cell_type": "markdown",
   "metadata": {},
   "source": [
    "EL hecho de que algo le guste a muchas personas no implica necesariamente que te vaya a gustar a tí, pero tener referencias nunca está de más, se decidió además analizar el rating desde otra perspectiva para determinar cuáles eran los 20 mejores valorados y los 20 peores."
   ]
  },
  {
   "cell_type": "code",
   "execution_count": 5,
   "metadata": {},
   "outputs": [
    {
     "data": {
      "image/png": "[encoded data removed]",
      "text/plain": [
       "<Figure size 1500x800 with 1 Axes>"
      ]
     },
     "metadata": {},
     "output_type": "display_data"
    }
   ],
   "source": [
    "df_copy = df.copy() # Crea una copia del df\n",
    "df_copy['rating'].fillna(0, inplace=True)  # Alternativa más segura\n",
    "#df[df[\"rating\"].isna()]=0 #Hace cero los que tiene un rating \"null\"\n",
    "df_valid_ratings = df_copy.sort_values(by='rating', ascending=False).head(20) #Ordena de mayor a menor y solo deja los 20 mejores\n",
    "\n",
    "plt.figure(figsize=(15, 8))\n",
    "plt.barh(df_valid_ratings['name'], df_valid_ratings['rating'], color='purple')\n",
    "plt.title('Top 20 Establecimientos con mejor rating en La Habana', fontsize=16)\n",
    "plt.xlabel('Rating', fontsize=15)\n",
    "plt.ylabel('Restaurantes', fontsize=15)\n",
    "plt.xticks(fontsize=12)\n",
    "plt.yticks(fontsize=18)\n",
    "plt.tight_layout()\n",
    "plt.show()"
   ]
  },
  {
   "cell_type": "code",
   "execution_count": 14,
   "metadata": {},
   "outputs": [
    {
     "data": {
      "image/png": "[encoded data removed]",
      "text/plain": [
       "<Figure size 1500x800 with 1 Axes>"
      ]
     },
     "metadata": {},
     "output_type": "display_data"
    }
   ],
   "source": [
    "df_sorted_values = df.sort_values(by='rating', ascending=False).tail(51) #Ordena de mayor a menor y escoge las ultimas 51 lineas.\n",
    "veinte_peores = df_sorted_values.iloc[:20,:] #Se queda con las 20 primeras, las otras 31 son 0.\n",
    "\n",
    "plt.figure(figsize=(15, 8)) \n",
    "plt.barh(veinte_peores['name'], veinte_peores['rating'], color='red')\n",
    "plt.title('Top 20 Establecimientos con peor rating en La Habana', fontsize=16)\n",
    "plt.xlabel('Rating', fontsize=14)\n",
    "plt.ylabel('Restaurantes', fontsize=14)\n",
    "plt.xticks(fontsize=12)\n",
    "plt.yticks(fontsize=18)\n",
    "plt.tight_layout() \n",
    "plt.show()"
   ]
  },
  {
   "cell_type": "markdown",
   "metadata": {},
   "source": [
    "-\"Saber los mejores y peores está bien, así lo puedes tener en cuenta para cada ocasión, pero ¿no crees que siempre es necesario conocer el punto medio? Muchas veces, un sitio con un rating medio puede tener reseñas mixtas. Algunos clientes pueden haber tenido una experiencia positiva, mientras que otros pueden haber encontrado fallos.-expresó Laura, animándose a opinar\". \n",
    "-\"Además, podríamos crear una sección en nuestra web donde destacamos estos lugares. Esto no solo beneficiaría a los restaurantes, sino que también proporcionaría a nuestros usuarios opciones más variadas.\"\n",
    "\n",
    "¿Cuáles serán de esos lugares aquellos que tienen una calificación aceptable?\n",
    "Para ello el grupo comenzó a analizar datos sobre restaurantes con ratings entre 3.0 y 4.0.\n"
   ]
  },
  {
   "cell_type": "code",
   "execution_count": 15,
   "metadata": {},
   "outputs": [
    {
     "data": {
      "application/vnd.plotly.v1+json": {
       "config": {
        "plotlyServerURL": "https://plot.ly"
       },
       "data": [
        {
         "alignmentgroup": "True",
         "hovertemplate": "Nombres de los establecimientos=%{x}<br>Rating=%{marker.color}<extra></extra>",
         "legendgroup": "",
         "marker": {
          "color": [
           4,
           4,
           4,
           4,
           4,
           4,
           4,
           4,
           4,
           4,
           4,
           4,
           4,
           4,
           4,
           4,
           4,
           4,
           4,
           4,
           3.9,
           3.9,
           3.8,
           3.8,
           3.8,
           3.7,
           3.7,
           3.7,
           3.7,
           3.7,
           3.6,
           3.5,
           3.5,
           3.5,
           3.5,
           3.5,
           3.5,
           3.5,
           3.5,
           3.5,
           3.5,
           3.5,
           3.5,
           3.5,
           3.5,
           3.4,
           3.3,
           3.1,
           3.1,
           3,
           3,
           3
          ],
          "coloraxis": "coloraxis",
          "pattern": {
           "shape": ""
          }
         },
         "name": "",
         "offsetgroup": "",
         "orientation": "v",
         "showlegend": false,
         "textposition": "auto",
         "type": "bar",
         "x": [
          "Juanky's Pan",
          "Sport Bar",
          "D'kmino",
          "Café Fortuna Joe",
          "Café D La Esquina",
          "El Vaquerito",
          "El Farallón",
          "El Pecado",
          "El Tocororo",
          "Brutal Habana",
          "Finca La Pinta",
          "Atlanta",
          "Bocattas",
          "Fonda La Paila",
          "Food Master",
          "Rodney",
          "La Catedral",
          "Ivonne Café",
          "Jorgito's Pizza",
          "Fuumiyaki",
          "Soñar contigo",
          "GaraG",
          "28 y Mar",
          "Don Timbon",
          "La Marina",
          "Home Deli",
          "Kmpary",
          "El Faro",
          "Don Omar",
          "Nel Paradiso",
          "El Pellizco",
          "Los Doce Apóstoles",
          "Mirador de Acosta",
          "El Palenque",
          "La ruta de Hemingway",
          "El Bleko",
          "Joe's Burguer",
          "Distrito 25",
          "Fénix Dorado",
          "El Pilón",
          "Mercy bar",
          "KY-13",
          "Wapa",
          "Bom Apetite",
          "Al Campestre",
          "Café Bulevar",
          "Mokalex",
          "Doping pizza",
          "Guang Zhou",
          "Shapuseros",
          "La Novia",
          "Salsa Mora"
         ],
         "xaxis": "x",
         "y": [
          4,
          4,
          4,
          4,
          4,
          4,
          4,
          4,
          4,
          4,
          4,
          4,
          4,
          4,
          4,
          4,
          4,
          4,
          4,
          4,
          3.9,
          3.9,
          3.8,
          3.8,
          3.8,
          3.7,
          3.7,
          3.7,
          3.7,
          3.7,
          3.6,
          3.5,
          3.5,
          3.5,
          3.5,
          3.5,
          3.5,
          3.5,
          3.5,
          3.5,
          3.5,
          3.5,
          3.5,
          3.5,
          3.5,
          3.4,
          3.3,
          3.1,
          3.1,
          3,
          3,
          3
         ],
         "yaxis": "y"
        }
       ],
       "layout": {
        "barmode": "relative",
        "coloraxis": {
         "colorbar": {
          "title": {
           "text": "Rating"
          }
         },
         "colorscale": [
          [
           0,
           "#0d0887"
          ],
          [
           0.1111111111111111,
           "#46039f"
          ],
          [
           0.2222222222222222,
           "#7201a8"
          ],
          [
           0.3333333333333333,
           "#9c179e"
          ],
          [
           0.4444444444444444,
           "#bd3786"
          ],
          [
           0.5555555555555556,
           "#d8576b"
          ],
          [
           0.6666666666666666,
           "#ed7953"
          ],
          [
           0.7777777777777778,
           "#fb9f3a"
          ],
          [
           0.8888888888888888,
           "#fdca26"
          ],
          [
           1,
           "#f0f921"
          ]
         ]
        },
        "legend": {
         "tracegroupgap": 0
        },
        "template": {
         "data": {
          "bar": [
           {
            "error_x": {
             "color": "#2a3f5f"
            },
            "error_y": {
             "color": "#2a3f5f"
            },
            "marker": {
             "line": {
              "color": "#E5ECF6",
              "width": 0.5
             },
             "pattern": {
              "fillmode": "overlay",
              "size": 10,
              "solidity": 0.2
             }
            },
            "type": "bar"
           }
          ],
          "barpolar": [
           {
            "marker": {
             "line": {
              "color": "#E5ECF6",
              "width": 0.5
             },
             "pattern": {
              "fillmode": "overlay",
              "size": 10,
              "solidity": 0.2
             }
            },
            "type": "barpolar"
           }
          ],
          "carpet": [
           {
            "aaxis": {
             "endlinecolor": "#2a3f5f",
             "gridcolor": "white",
             "linecolor": "white",
             "minorgridcolor": "white",
             "startlinecolor": "#2a3f5f"
            },
            "baxis": {
             "endlinecolor": "#2a3f5f",
             "gridcolor": "white",
             "linecolor": "white",
             "minorgridcolor": "white",
             "startlinecolor": "#2a3f5f"
            },
            "type": "carpet"
           }
          ],
          "choropleth": [
           {
            "colorbar": {
             "outlinewidth": 0,
             "ticks": ""
            },
            "type": "choropleth"
           }
          ],
          "contour": [
           {
            "colorbar": {
             "outlinewidth": 0,
             "ticks": ""
            },
            "colorscale": [
             [
              0,
              "#0d0887"
             ],
             [
              0.1111111111111111,
              "#46039f"
             ],
             [
              0.2222222222222222,
              "#7201a8"
             ],
             [
              0.3333333333333333,
              "#9c179e"
             ],
             [
              0.4444444444444444,
              "#bd3786"
             ],
             [
              0.5555555555555556,
              "#d8576b"
             ],
             [
              0.6666666666666666,
              "#ed7953"
             ],
             [
              0.7777777777777778,
              "#fb9f3a"
             ],
             [
              0.8888888888888888,
              "#fdca26"
             ],
             [
              1,
              "#f0f921"
             ]
            ],
            "type": "contour"
           }
          ],
          "contourcarpet": [
           {
            "colorbar": {
             "outlinewidth": 0,
             "ticks": ""
            },
            "type": "contourcarpet"
           }
          ],
          "heatmap": [
           {
            "colorbar": {
             "outlinewidth": 0,
             "ticks": ""
            },
            "colorscale": [
             [
              0,
              "#0d0887"
             ],
             [
              0.1111111111111111,
              "#46039f"
             ],
             [
              0.2222222222222222,
              "#7201a8"
             ],
             [
              0.3333333333333333,
              "#9c179e"
             ],
             [
              0.4444444444444444,
              "#bd3786"
             ],
             [
              0.5555555555555556,
              "#d8576b"
             ],
             [
              0.6666666666666666,
              "#ed7953"
             ],
             [
              0.7777777777777778,
              "#fb9f3a"
             ],
             [
              0.8888888888888888,
              "#fdca26"
             ],
             [
              1,
              "#f0f921"
             ]
            ],
            "type": "heatmap"
           }
          ],
          "heatmapgl": [
           {
            "colorbar": {
             "outlinewidth": 0,
             "ticks": ""
            },
            "colorscale": [
             [
              0,
              "#0d0887"
             ],
             [
              0.1111111111111111,
              "#46039f"
             ],
             [
              0.2222222222222222,
              "#7201a8"
             ],
             [
              0.3333333333333333,
              "#9c179e"
             ],
             [
              0.4444444444444444,
              "#bd3786"
             ],
             [
              0.5555555555555556,
              "#d8576b"
             ],
             [
              0.6666666666666666,
              "#ed7953"
             ],
             [
              0.7777777777777778,
              "#fb9f3a"
             ],
             [
              0.8888888888888888,
              "#fdca26"
             ],
             [
              1,
              "#f0f921"
             ]
            ],
            "type": "heatmapgl"
           }
          ],
          "histogram": [
           {
            "marker": {
             "pattern": {
              "fillmode": "overlay",
              "size": 10,
              "solidity": 0.2
             }
            },
            "type": "histogram"
           }
          ],
          "histogram2d": [
           {
            "colorbar": {
             "outlinewidth": 0,
             "ticks": ""
            },
            "colorscale": [
             [
              0,
              "#0d0887"
             ],
             [
              0.1111111111111111,
              "#46039f"
             ],
             [
              0.2222222222222222,
              "#7201a8"
             ],
             [
              0.3333333333333333,
              "#9c179e"
             ],
             [
              0.4444444444444444,
              "#bd3786"
             ],
             [
              0.5555555555555556,
              "#d8576b"
             ],
             [
              0.6666666666666666,
              "#ed7953"
             ],
             [
              0.7777777777777778,
              "#fb9f3a"
             ],
             [
              0.8888888888888888,
              "#fdca26"
             ],
             [
              1,
              "#f0f921"
             ]
            ],
            "type": "histogram2d"
           }
          ],
          "histogram2dcontour": [
           {
            "colorbar": {
             "outlinewidth": 0,
             "ticks": ""
            },
            "colorscale": [
             [
              0,
              "#0d0887"
             ],
             [
              0.1111111111111111,
              "#46039f"
             ],
             [
              0.2222222222222222,
              "#7201a8"
             ],
             [
              0.3333333333333333,
              "#9c179e"
             ],
             [
              0.4444444444444444,
              "#bd3786"
             ],
             [
              0.5555555555555556,
              "#d8576b"
             ],
             [
              0.6666666666666666,
              "#ed7953"
             ],
             [
              0.7777777777777778,
              "#fb9f3a"
             ],
             [
              0.8888888888888888,
              "#fdca26"
             ],
             [
              1,
              "#f0f921"
             ]
            ],
            "type": "histogram2dcontour"
           }
          ],
          "mesh3d": [
           {
            "colorbar": {
             "outlinewidth": 0,
             "ticks": ""
            },
            "type": "mesh3d"
           }
          ],
          "parcoords": [
           {
            "line": {
             "colorbar": {
              "outlinewidth": 0,
              "ticks": ""
             }
            },
            "type": "parcoords"
           }
          ],
          "pie": [
           {
            "automargin": true,
            "type": "pie"
           }
          ],
          "scatter": [
           {
            "fillpattern": {
             "fillmode": "overlay",
             "size": 10,
             "solidity": 0.2
            },
            "type": "scatter"
           }
          ],
          "scatter3d": [
           {
            "line": {
             "colorbar": {
              "outlinewidth": 0,
              "ticks": ""
             }
            },
            "marker": {
             "colorbar": {
              "outlinewidth": 0,
              "ticks": ""
             }
            },
            "type": "scatter3d"
           }
          ],
          "scattercarpet": [
           {
            "marker": {
             "colorbar": {
              "outlinewidth": 0,
              "ticks": ""
             }
            },
            "type": "scattercarpet"
           }
          ],
          "scattergeo": [
           {
            "marker": {
             "colorbar": {
              "outlinewidth": 0,
              "ticks": ""
             }
            },
            "type": "scattergeo"
           }
          ],
          "scattergl": [
           {
            "marker": {
             "colorbar": {
              "outlinewidth": 0,
              "ticks": ""
             }
            },
            "type": "scattergl"
           }
          ],
          "scattermapbox": [
           {
            "marker": {
             "colorbar": {
              "outlinewidth": 0,
              "ticks": ""
             }
            },
            "type": "scattermapbox"
           }
          ],
          "scatterpolar": [
           {
            "marker": {
             "colorbar": {
              "outlinewidth": 0,
              "ticks": ""
             }
            },
            "type": "scatterpolar"
           }
          ],
          "scatterpolargl": [
           {
            "marker": {
             "colorbar": {
              "outlinewidth": 0,
              "ticks": ""
             }
            },
            "type": "scatterpolargl"
           }
          ],
          "scatterternary": [
           {
            "marker": {
             "colorbar": {
              "outlinewidth": 0,
              "ticks": ""
             }
            },
            "type": "scatterternary"
           }
          ],
          "surface": [
           {
            "colorbar": {
             "outlinewidth": 0,
             "ticks": ""
            },
            "colorscale": [
             [
              0,
              "#0d0887"
             ],
             [
              0.1111111111111111,
              "#46039f"
             ],
             [
              0.2222222222222222,
              "#7201a8"
             ],
             [
              0.3333333333333333,
              "#9c179e"
             ],
             [
              0.4444444444444444,
              "#bd3786"
             ],
             [
              0.5555555555555556,
              "#d8576b"
             ],
             [
              0.6666666666666666,
              "#ed7953"
             ],
             [
              0.7777777777777778,
              "#fb9f3a"
             ],
             [
              0.8888888888888888,
              "#fdca26"
             ],
             [
              1,
              "#f0f921"
             ]
            ],
            "type": "surface"
           }
          ],
          "table": [
           {
            "cells": {
             "fill": {
              "color": "#EBF0F8"
             },
             "line": {
              "color": "white"
             }
            },
            "header": {
             "fill": {
              "color": "#C8D4E3"
             },
             "line": {
              "color": "white"
             }
            },
            "type": "table"
           }
          ]
         },
         "layout": {
          "annotationdefaults": {
           "arrowcolor": "#2a3f5f",
           "arrowhead": 0,
           "arrowwidth": 1
          },
          "autotypenumbers": "strict",
          "coloraxis": {
           "colorbar": {
            "outlinewidth": 0,
            "ticks": ""
           }
          },
          "colorscale": {
           "diverging": [
            [
             0,
             "#8e0152"
            ],
            [
             0.1,
             "#c51b7d"
            ],
            [
             0.2,
             "#de77ae"
            ],
            [
             0.3,
             "#f1b6da"
            ],
            [
             0.4,
             "#fde0ef"
            ],
            [
             0.5,
             "#f7f7f7"
            ],
            [
             0.6,
             "#e6f5d0"
            ],
            [
             0.7,
             "#b8e186"
            ],
            [
             0.8,
             "#7fbc41"
            ],
            [
             0.9,
             "#4d9221"
            ],
            [
             1,
             "#276419"
            ]
           ],
           "sequential": [
            [
             0,
             "#0d0887"
            ],
            [
             0.1111111111111111,
             "#46039f"
            ],
            [
             0.2222222222222222,
             "#7201a8"
            ],
            [
             0.3333333333333333,
             "#9c179e"
            ],
            [
             0.4444444444444444,
             "#bd3786"
            ],
            [
             0.5555555555555556,
             "#d8576b"
            ],
            [
             0.6666666666666666,
             "#ed7953"
            ],
            [
             0.7777777777777778,
             "#fb9f3a"
            ],
            [
             0.8888888888888888,
             "#fdca26"
            ],
            [
             1,
             "#f0f921"
            ]
           ],
           "sequentialminus": [
            [
             0,
             "#0d0887"
            ],
            [
             0.1111111111111111,
             "#46039f"
            ],
            [
             0.2222222222222222,
             "#7201a8"
            ],
            [
             0.3333333333333333,
             "#9c179e"
            ],
            [
             0.4444444444444444,
             "#bd3786"
            ],
            [
             0.5555555555555556,
             "#d8576b"
            ],
            [
             0.6666666666666666,
             "#ed7953"
            ],
            [
             0.7777777777777778,
             "#fb9f3a"
            ],
            [
             0.8888888888888888,
             "#fdca26"
            ],
            [
             1,
             "#f0f921"
            ]
           ]
          },
          "colorway": [
           "#636efa",
           "#EF553B",
           "#00cc96",
           "#ab63fa",
           "#FFA15A",
           "#19d3f3",
           "#FF6692",
           "#B6E880",
           "#FF97FF",
           "#FECB52"
          ],
          "font": {
           "color": "#2a3f5f"
          },
          "geo": {
           "bgcolor": "white",
           "lakecolor": "white",
           "landcolor": "#E5ECF6",
           "showlakes": true,
           "showland": true,
           "subunitcolor": "white"
          },
          "hoverlabel": {
           "align": "left"
          },
          "hovermode": "closest",
          "mapbox": {
           "style": "light"
          },
          "paper_bgcolor": "white",
          "plot_bgcolor": "#E5ECF6",
          "polar": {
           "angularaxis": {
            "gridcolor": "white",
            "linecolor": "white",
            "ticks": ""
           },
           "bgcolor": "#E5ECF6",
           "radialaxis": {
            "gridcolor": "white",
            "linecolor": "white",
            "ticks": ""
           }
          },
          "scene": {
           "xaxis": {
            "backgroundcolor": "#E5ECF6",
            "gridcolor": "white",
            "gridwidth": 2,
            "linecolor": "white",
            "showbackground": true,
            "ticks": "",
            "zerolinecolor": "white"
           },
           "yaxis": {
            "backgroundcolor": "#E5ECF6",
            "gridcolor": "white",
            "gridwidth": 2,
            "linecolor": "white",
            "showbackground": true,
            "ticks": "",
            "zerolinecolor": "white"
           },
           "zaxis": {
            "backgroundcolor": "#E5ECF6",
            "gridcolor": "white",
            "gridwidth": 2,
            "linecolor": "white",
            "showbackground": true,
            "ticks": "",
            "zerolinecolor": "white"
           }
          },
          "shapedefaults": {
           "line": {
            "color": "#2a3f5f"
           }
          },
          "ternary": {
           "aaxis": {
            "gridcolor": "white",
            "linecolor": "white",
            "ticks": ""
           },
           "baxis": {
            "gridcolor": "white",
            "linecolor": "white",
            "ticks": ""
           },
           "bgcolor": "#E5ECF6",
           "caxis": {
            "gridcolor": "white",
            "linecolor": "white",
            "ticks": ""
           }
          },
          "title": {
           "x": 0.05
          },
          "xaxis": {
           "automargin": true,
           "gridcolor": "white",
           "linecolor": "white",
           "ticks": "",
           "title": {
            "standoff": 15
           },
           "zerolinecolor": "white",
           "zerolinewidth": 2
          },
          "yaxis": {
           "automargin": true,
           "gridcolor": "white",
           "linecolor": "white",
           "ticks": "",
           "title": {
            "standoff": 15
           },
           "zerolinecolor": "white",
           "zerolinewidth": 2
          }
         }
        },
        "title": {
         "text": "Establecimientos con Rating entre 3.0 y 4.0"
        },
        "xaxis": {
         "anchor": "y",
         "domain": [
          0,
          1
         ],
         "tickangle": -70,
         "title": {
          "text": "Nombres de los establecimientos"
         }
        },
        "yaxis": {
         "anchor": "x",
         "domain": [
          0,
          1
         ],
         "title": {
          "text": "Rating"
         }
        }
       }
      }
     },
     "metadata": {},
     "output_type": "display_data"
    }
   ],
   "source": [
    "df[df[\"rating\"].isna()]=0 #Hace cero los que tiene un rating \"null\"\n",
    "df_valid_ratings_to_median = df.sort_values(by='rating', ascending=False) #Ordena los rating de mayor a menor\n",
    "a = df_valid_ratings_to_median.iloc[:-31,:] #Quita los ultimos 31, son los de rating \"null\" que hicimos 0.\n",
    "most_access = a[(a['rating'] >= 3.0) & (a['rating'] <= 4.0)].copy(deep = True) #Deja solo los que tengan rating dentro del intervalo indicado\n",
    "#print(most_access)\n",
    "fig = px.bar(most_access, \n",
    "            x='name', \n",
    "            y='rating', \n",
    "            title='Establecimientos con Rating entre 3.0 y 4.0',\n",
    "            labels={'name': 'Nombres de los establecimientos', 'rating': 'Rating'},\n",
    "            color='rating',\n",
    "            color_continuous_scale=px.colors.sequential.Plasma)\n",
    "fig.update_layout(xaxis_tickangle=-70) \n",
    "fig.show()"
   ]
  },
  {
   "cell_type": "markdown",
   "metadata": {},
   "source": [
    "¿Eres más de comida tradicional o te gusta probar cosas nuevas todo el rato? Se sabe que la mayoría de los establecimientos ofrece comida criolla, cubana, pero después de esa ¿cuál es el tipo de comida que se oferta en mayor cantidad sitios?\n",
    "Era un martes en la tarde y los chicos se habían reunido para hacer lluvia de ideas cuando surgió esa duda. "
   ]
  },
  {
   "cell_type": "markdown",
   "metadata": {},
   "source": [
    "— No sé, yo prefiero lo tradicional. No hay nada como una buena una ropa vieja. La comida cubana tiene tanto sabor e historia. -afirmó Luis. "
   ]
  },
  {
   "cell_type": "markdown",
   "metadata": {},
   "source": [
    "— Pero piensa en todas las opciones que hay ahora. La Habana no solo tiene comida criolla y cubana; hay influencias de la cocina internacional que están empezando a aparecer en los menús.-lo corrigieron"
   ]
  },
  {
   "cell_type": "markdown",
   "metadata": {},
   "source": [
    "— Ambas tienen lo suyo, en todo caso nuestra labor no es tomar partido, sino reflejar la verdad para que el usuario sea libre de eligir por sí mismo. A simple vista he podido notar que la mayoría sigue ofreciendo comida cubana tradicional como lechón asado y yuca con mojo, pero también hay una gran influencia de otros tipos de comidas. -intervino Ana de forma imparcial. "
   ]
  },
  {
   "cell_type": "code",
   "execution_count": 76,
   "metadata": {},
   "outputs": [
    {
     "data": {
      "application/vnd.plotly.v1+json": {
       "config": {
        "plotlyServerURL": "https://plot.ly"
       },
       "data": [
        {
         "alignmentgroup": "True",
         "hovertemplate": "Tipo de Cocina=%{x}<br>Cantidad de Establecimientos=%{marker.color}<extra></extra>",
         "legendgroup": "",
         "marker": {
          "color": [
           118,
           62,
           56,
           45,
           40,
           26,
           24,
           11,
           9,
           8,
           5,
           4,
           4,
           4,
           2,
           1,
           1,
           1,
           1,
           1,
           1,
           1,
           1,
           1,
           1
          ],
          "coloraxis": "coloraxis",
          "pattern": {
           "shape": ""
          }
         },
         "name": "",
         "offsetgroup": "",
         "orientation": "v",
         "showlegend": false,
         "textposition": "auto",
         "type": "bar",
         "x": [
          "cubana",
          "italiana",
          "criolla",
          "caribeña",
          "internacional",
          "americana",
          "latina",
          "mexicana",
          "mediterranea",
          "española",
          "china",
          "fusion",
          "japonesa",
          "asiática",
          "centroamericana",
          "arabe",
          "libanesa",
          "europea",
          "turca",
          "cajún",
          "griega",
          "tailandesa",
          "sudamericana",
          "india",
          "ceilanesa"
         ],
         "xaxis": "x",
         "y": [
          118,
          62,
          56,
          45,
          40,
          26,
          24,
          11,
          9,
          8,
          5,
          4,
          4,
          4,
          2,
          1,
          1,
          1,
          1,
          1,
          1,
          1,
          1,
          1,
          1
         ],
         "yaxis": "y"
        }
       ],
       "layout": {
        "barmode": "relative",
        "coloraxis": {
         "colorbar": {
          "title": {
           "text": "Cantidad de Establecimientos"
          }
         },
         "colorscale": [
          [
           0,
           "#0d0887"
          ],
          [
           0.1111111111111111,
           "#46039f"
          ],
          [
           0.2222222222222222,
           "#7201a8"
          ],
          [
           0.3333333333333333,
           "#9c179e"
          ],
          [
           0.4444444444444444,
           "#bd3786"
          ],
          [
           0.5555555555555556,
           "#d8576b"
          ],
          [
           0.6666666666666666,
           "#ed7953"
          ],
          [
           0.7777777777777778,
           "#fb9f3a"
          ],
          [
           0.8888888888888888,
           "#fdca26"
          ],
          [
           1,
           "#f0f921"
          ]
         ]
        },
        "legend": {
         "tracegroupgap": 0
        },
        "template": {
         "data": {
          "bar": [
           {
            "error_x": {
             "color": "#2a3f5f"
            },
            "error_y": {
             "color": "#2a3f5f"
            },
            "marker": {
             "line": {
              "color": "#E5ECF6",
              "width": 0.5
             },
             "pattern": {
              "fillmode": "overlay",
              "size": 10,
              "solidity": 0.2
             }
            },
            "type": "bar"
           }
          ],
          "barpolar": [
           {
            "marker": {
             "line": {
              "color": "#E5ECF6",
              "width": 0.5
             },
             "pattern": {
              "fillmode": "overlay",
              "size": 10,
              "solidity": 0.2
             }
            },
            "type": "barpolar"
           }
          ],
          "carpet": [
           {
            "aaxis": {
             "endlinecolor": "#2a3f5f",
             "gridcolor": "white",
             "linecolor": "white",
             "minorgridcolor": "white",
             "startlinecolor": "#2a3f5f"
            },
            "baxis": {
             "endlinecolor": "#2a3f5f",
             "gridcolor": "white",
             "linecolor": "white",
             "minorgridcolor": "white",
             "startlinecolor": "#2a3f5f"
            },
            "type": "carpet"
           }
          ],
          "choropleth": [
           {
            "colorbar": {
             "outlinewidth": 0,
             "ticks": ""
            },
            "type": "choropleth"
           }
          ],
          "contour": [
           {
            "colorbar": {
             "outlinewidth": 0,
             "ticks": ""
            },
            "colorscale": [
             [
              0,
              "#0d0887"
             ],
             [
              0.1111111111111111,
              "#46039f"
             ],
             [
              0.2222222222222222,
              "#7201a8"
             ],
             [
              0.3333333333333333,
              "#9c179e"
             ],
             [
              0.4444444444444444,
              "#bd3786"
             ],
             [
              0.5555555555555556,
              "#d8576b"
             ],
             [
              0.6666666666666666,
              "#ed7953"
             ],
             [
              0.7777777777777778,
              "#fb9f3a"
             ],
             [
              0.8888888888888888,
              "#fdca26"
             ],
             [
              1,
              "#f0f921"
             ]
            ],
            "type": "contour"
           }
          ],
          "contourcarpet": [
           {
            "colorbar": {
             "outlinewidth": 0,
             "ticks": ""
            },
            "type": "contourcarpet"
           }
          ],
          "heatmap": [
           {
            "colorbar": {
             "outlinewidth": 0,
             "ticks": ""
            },
            "colorscale": [
             [
              0,
              "#0d0887"
             ],
             [
              0.1111111111111111,
              "#46039f"
             ],
             [
              0.2222222222222222,
              "#7201a8"
             ],
             [
              0.3333333333333333,
              "#9c179e"
             ],
             [
              0.4444444444444444,
              "#bd3786"
             ],
             [
              0.5555555555555556,
              "#d8576b"
             ],
             [
              0.6666666666666666,
              "#ed7953"
             ],
             [
              0.7777777777777778,
              "#fb9f3a"
             ],
             [
              0.8888888888888888,
              "#fdca26"
             ],
             [
              1,
              "#f0f921"
             ]
            ],
            "type": "heatmap"
           }
          ],
          "heatmapgl": [
           {
            "colorbar": {
             "outlinewidth": 0,
             "ticks": ""
            },
            "colorscale": [
             [
              0,
              "#0d0887"
             ],
             [
              0.1111111111111111,
              "#46039f"
             ],
             [
              0.2222222222222222,
              "#7201a8"
             ],
             [
              0.3333333333333333,
              "#9c179e"
             ],
             [
              0.4444444444444444,
              "#bd3786"
             ],
             [
              0.5555555555555556,
              "#d8576b"
             ],
             [
              0.6666666666666666,
              "#ed7953"
             ],
             [
              0.7777777777777778,
              "#fb9f3a"
             ],
             [
              0.8888888888888888,
              "#fdca26"
             ],
             [
              1,
              "#f0f921"
             ]
            ],
            "type": "heatmapgl"
           }
          ],
          "histogram": [
           {
            "marker": {
             "pattern": {
              "fillmode": "overlay",
              "size": 10,
              "solidity": 0.2
             }
            },
            "type": "histogram"
           }
          ],
          "histogram2d": [
           {
            "colorbar": {
             "outlinewidth": 0,
             "ticks": ""
            },
            "colorscale": [
             [
              0,
              "#0d0887"
             ],
             [
              0.1111111111111111,
              "#46039f"
             ],
             [
              0.2222222222222222,
              "#7201a8"
             ],
             [
              0.3333333333333333,
              "#9c179e"
             ],
             [
              0.4444444444444444,
              "#bd3786"
             ],
             [
              0.5555555555555556,
              "#d8576b"
             ],
             [
              0.6666666666666666,
              "#ed7953"
             ],
             [
              0.7777777777777778,
              "#fb9f3a"
             ],
             [
              0.8888888888888888,
              "#fdca26"
             ],
             [
              1,
              "#f0f921"
             ]
            ],
            "type": "histogram2d"
           }
          ],
          "histogram2dcontour": [
           {
            "colorbar": {
             "outlinewidth": 0,
             "ticks": ""
            },
            "colorscale": [
             [
              0,
              "#0d0887"
             ],
             [
              0.1111111111111111,
              "#46039f"
             ],
             [
              0.2222222222222222,
              "#7201a8"
             ],
             [
              0.3333333333333333,
              "#9c179e"
             ],
             [
              0.4444444444444444,
              "#bd3786"
             ],
             [
              0.5555555555555556,
              "#d8576b"
             ],
             [
              0.6666666666666666,
              "#ed7953"
             ],
             [
              0.7777777777777778,
              "#fb9f3a"
             ],
             [
              0.8888888888888888,
              "#fdca26"
             ],
             [
              1,
              "#f0f921"
             ]
            ],
            "type": "histogram2dcontour"
           }
          ],
          "mesh3d": [
           {
            "colorbar": {
             "outlinewidth": 0,
             "ticks": ""
            },
            "type": "mesh3d"
           }
          ],
          "parcoords": [
           {
            "line": {
             "colorbar": {
              "outlinewidth": 0,
              "ticks": ""
             }
            },
            "type": "parcoords"
           }
          ],
          "pie": [
           {
            "automargin": true,
            "type": "pie"
           }
          ],
          "scatter": [
           {
            "fillpattern": {
             "fillmode": "overlay",
             "size": 10,
             "solidity": 0.2
            },
            "type": "scatter"
           }
          ],
          "scatter3d": [
           {
            "line": {
             "colorbar": {
              "outlinewidth": 0,
              "ticks": ""
             }
            },
            "marker": {
             "colorbar": {
              "outlinewidth": 0,
              "ticks": ""
             }
            },
            "type": "scatter3d"
           }
          ],
          "scattercarpet": [
           {
            "marker": {
             "colorbar": {
              "outlinewidth": 0,
              "ticks": ""
             }
            },
            "type": "scattercarpet"
           }
          ],
          "scattergeo": [
           {
            "marker": {
             "colorbar": {
              "outlinewidth": 0,
              "ticks": ""
             }
            },
            "type": "scattergeo"
           }
          ],
          "scattergl": [
           {
            "marker": {
             "colorbar": {
              "outlinewidth": 0,
              "ticks": ""
             }
            },
            "type": "scattergl"
           }
          ],
          "scattermapbox": [
           {
            "marker": {
             "colorbar": {
              "outlinewidth": 0,
              "ticks": ""
             }
            },
            "type": "scattermapbox"
           }
          ],
          "scatterpolar": [
           {
            "marker": {
             "colorbar": {
              "outlinewidth": 0,
              "ticks": ""
             }
            },
            "type": "scatterpolar"
           }
          ],
          "scatterpolargl": [
           {
            "marker": {
             "colorbar": {
              "outlinewidth": 0,
              "ticks": ""
             }
            },
            "type": "scatterpolargl"
           }
          ],
          "scatterternary": [
           {
            "marker": {
             "colorbar": {
              "outlinewidth": 0,
              "ticks": ""
             }
            },
            "type": "scatterternary"
           }
          ],
          "surface": [
           {
            "colorbar": {
             "outlinewidth": 0,
             "ticks": ""
            },
            "colorscale": [
             [
              0,
              "#0d0887"
             ],
             [
              0.1111111111111111,
              "#46039f"
             ],
             [
              0.2222222222222222,
              "#7201a8"
             ],
             [
              0.3333333333333333,
              "#9c179e"
             ],
             [
              0.4444444444444444,
              "#bd3786"
             ],
             [
              0.5555555555555556,
              "#d8576b"
             ],
             [
              0.6666666666666666,
              "#ed7953"
             ],
             [
              0.7777777777777778,
              "#fb9f3a"
             ],
             [
              0.8888888888888888,
              "#fdca26"
             ],
             [
              1,
              "#f0f921"
             ]
            ],
            "type": "surface"
           }
          ],
          "table": [
           {
            "cells": {
             "fill": {
              "color": "#EBF0F8"
             },
             "line": {
              "color": "white"
             }
            },
            "header": {
             "fill": {
              "color": "#C8D4E3"
             },
             "line": {
              "color": "white"
             }
            },
            "type": "table"
           }
          ]
         },
         "layout": {
          "annotationdefaults": {
           "arrowcolor": "#2a3f5f",
           "arrowhead": 0,
           "arrowwidth": 1
          },
          "autotypenumbers": "strict",
          "coloraxis": {
           "colorbar": {
            "outlinewidth": 0,
            "ticks": ""
           }
          },
          "colorscale": {
           "diverging": [
            [
             0,
             "#8e0152"
            ],
            [
             0.1,
             "#c51b7d"
            ],
            [
             0.2,
             "#de77ae"
            ],
            [
             0.3,
             "#f1b6da"
            ],
            [
             0.4,
             "#fde0ef"
            ],
            [
             0.5,
             "#f7f7f7"
            ],
            [
             0.6,
             "#e6f5d0"
            ],
            [
             0.7,
             "#b8e186"
            ],
            [
             0.8,
             "#7fbc41"
            ],
            [
             0.9,
             "#4d9221"
            ],
            [
             1,
             "#276419"
            ]
           ],
           "sequential": [
            [
             0,
             "#0d0887"
            ],
            [
             0.1111111111111111,
             "#46039f"
            ],
            [
             0.2222222222222222,
             "#7201a8"
            ],
            [
             0.3333333333333333,
             "#9c179e"
            ],
            [
             0.4444444444444444,
             "#bd3786"
            ],
            [
             0.5555555555555556,
             "#d8576b"
            ],
            [
             0.6666666666666666,
             "#ed7953"
            ],
            [
             0.7777777777777778,
             "#fb9f3a"
            ],
            [
             0.8888888888888888,
             "#fdca26"
            ],
            [
             1,
             "#f0f921"
            ]
           ],
           "sequentialminus": [
            [
             0,
             "#0d0887"
            ],
            [
             0.1111111111111111,
             "#46039f"
            ],
            [
             0.2222222222222222,
             "#7201a8"
            ],
            [
             0.3333333333333333,
             "#9c179e"
            ],
            [
             0.4444444444444444,
             "#bd3786"
            ],
            [
             0.5555555555555556,
             "#d8576b"
            ],
            [
             0.6666666666666666,
             "#ed7953"
            ],
            [
             0.7777777777777778,
             "#fb9f3a"
            ],
            [
             0.8888888888888888,
             "#fdca26"
            ],
            [
             1,
             "#f0f921"
            ]
           ]
          },
          "colorway": [
           "#636efa",
           "#EF553B",
           "#00cc96",
           "#ab63fa",
           "#FFA15A",
           "#19d3f3",
           "#FF6692",
           "#B6E880",
           "#FF97FF",
           "#FECB52"
          ],
          "font": {
           "color": "#2a3f5f"
          },
          "geo": {
           "bgcolor": "white",
           "lakecolor": "white",
           "landcolor": "#E5ECF6",
           "showlakes": true,
           "showland": true,
           "subunitcolor": "white"
          },
          "hoverlabel": {
           "align": "left"
          },
          "hovermode": "closest",
          "mapbox": {
           "style": "light"
          },
          "paper_bgcolor": "white",
          "plot_bgcolor": "#E5ECF6",
          "polar": {
           "angularaxis": {
            "gridcolor": "white",
            "linecolor": "white",
            "ticks": ""
           },
           "bgcolor": "#E5ECF6",
           "radialaxis": {
            "gridcolor": "white",
            "linecolor": "white",
            "ticks": ""
           }
          },
          "scene": {
           "xaxis": {
            "backgroundcolor": "#E5ECF6",
            "gridcolor": "white",
            "gridwidth": 2,
            "linecolor": "white",
            "showbackground": true,
            "ticks": "",
            "zerolinecolor": "white"
           },
           "yaxis": {
            "backgroundcolor": "#E5ECF6",
            "gridcolor": "white",
            "gridwidth": 2,
            "linecolor": "white",
            "showbackground": true,
            "ticks": "",
            "zerolinecolor": "white"
           },
           "zaxis": {
            "backgroundcolor": "#E5ECF6",
            "gridcolor": "white",
            "gridwidth": 2,
            "linecolor": "white",
            "showbackground": true,
            "ticks": "",
            "zerolinecolor": "white"
           }
          },
          "shapedefaults": {
           "line": {
            "color": "#2a3f5f"
           }
          },
          "ternary": {
           "aaxis": {
            "gridcolor": "white",
            "linecolor": "white",
            "ticks": ""
           },
           "baxis": {
            "gridcolor": "white",
            "linecolor": "white",
            "ticks": ""
           },
           "bgcolor": "#E5ECF6",
           "caxis": {
            "gridcolor": "white",
            "linecolor": "white",
            "ticks": ""
           }
          },
          "title": {
           "x": 0.05
          },
          "xaxis": {
           "automargin": true,
           "gridcolor": "white",
           "linecolor": "white",
           "ticks": "",
           "title": {
            "standoff": 15
           },
           "zerolinecolor": "white",
           "zerolinewidth": 2
          },
          "yaxis": {
           "automargin": true,
           "gridcolor": "white",
           "linecolor": "white",
           "ticks": "",
           "title": {
            "standoff": 15
           },
           "zerolinecolor": "white",
           "zerolinewidth": 2
          }
         }
        },
        "title": {
         "text": "Cantidad de Establecimientos por Tipo de Cocina"
        },
        "xaxis": {
         "anchor": "y",
         "domain": [
          0,
          1
         ],
         "tickangle": -45,
         "title": {
          "text": "Tipo de Cocina"
         }
        },
        "yaxis": {
         "anchor": "x",
         "domain": [
          0,
          1
         ],
         "title": {
          "text": "Cantidad de Establecimientos"
         }
        }
       }
      }
     },
     "metadata": {},
     "output_type": "display_data"
    }
   ],
   "source": [
    "cocina = df['cuisine'].explode()  # Separa cada elemento de las listas\n",
    "\n",
    "conteo_cocina = cocina.value_counts().reset_index()\n",
    "conteo_cocina.columns = ['Tipo de Cocina', 'Cantidad']\n",
    "\n",
    "fig = px.bar(conteo_cocina, \n",
    "            x='Tipo de Cocina', \n",
    "            y='Cantidad', \n",
    "            title='Cantidad de Establecimientos por Tipo de Cocina',\n",
    "            labels={'Cantidad': 'Cantidad de Establecimientos', 'Tipo de Cocina': 'Tipo de Cocina'},\n",
    "            color='Cantidad',\n",
    "            color_continuous_scale=px.colors.sequential.Plasma)\n",
    "\n",
    "fig.update_layout(xaxis_tickangle=-45) # Rotar las etiquetas de x\n",
    "\n",
    "fig.show()"
   ]
  },
  {
   "cell_type": "markdown",
   "metadata": {},
   "source": [
    "—Yo sabía que Italia iba a salir por algún lado. ¡La cocina italiana se ha vuelto casi tan cubana como el congrí!-dijo Paolo en un tono divertido. Pero espera, ¿comida libanesa? ¿ceilanesa? ¿cajún? ¿Qué es comida cajún?  \n",
    "\n",
    "— Jaja, esa viene del estado de Lousiana, en Estados Unidos.-intervino la enciclopedia andante del grupo."
   ]
  },
  {
   "cell_type": "markdown",
   "metadata": {},
   "source": [
    "— Pues yo no tenía idea que eso existía y mucho menos que la podíias encontrar en un restaurante de La Habana. ¿Qué lugares ofrecen esas comidas únicas? ¿Tú crees que a la gente le guste bastante ese estilo un poco más exótico?-contestó Paolo mientras daba pie a un análisis bastante interesante."
   ]
  },
  {
   "cell_type": "code",
   "execution_count": 17,
   "metadata": {},
   "outputs": [
    {
     "data": {
      "application/vnd.plotly.v1+json": {
       "config": {
        "plotlyServerURL": "https://plot.ly"
       },
       "data": [
        {
         "alignmentgroup": "True",
         "customdata": [
          [
           "europea"
          ],
          [
           "arabe"
          ],
          [
           "turca"
          ],
          [
           "cajún"
          ],
          [
           "griega"
          ],
          [
           "tailandesa"
          ],
          [
           "sudamericana"
          ],
          [
           "india"
          ]
         ],
         "hovertemplate": "Nombre del Restaurante=%{x}<br>Rating=%{marker.color}<br>Tipo de Cocina Único=%{customdata[0]}<extra></extra>",
         "legendgroup": "",
         "marker": {
          "color": [
           5,
           4.5,
           4.5,
           3.5,
           5,
           5,
           4.5,
           5
          ],
          "coloraxis": "coloraxis",
          "pattern": {
           "shape": ""
          }
         },
         "name": "",
         "offsetgroup": "",
         "orientation": "v",
         "showlegend": false,
         "textposition": "auto",
         "type": "bar",
         "x": [
          "Amalfi",
          "Beirut",
          "Bone'Ma 62",
          "Fénix Dorado",
          "Mythos",
          "Planh Enoteca & Restaurante Mithai",
          "Teniente Rey 360",
          "Tonyzz Bar"
         ],
         "xaxis": "x",
         "y": [
          5,
          4.5,
          4.5,
          3.5,
          5,
          5,
          4.5,
          5
         ],
         "yaxis": "y"
        }
       ],
       "layout": {
        "barmode": "relative",
        "coloraxis": {
         "colorbar": {
          "title": {
           "text": "Rating"
          }
         },
         "colorscale": [
          [
           0,
           "#0d0887"
          ],
          [
           0.1111111111111111,
           "#46039f"
          ],
          [
           0.2222222222222222,
           "#7201a8"
          ],
          [
           0.3333333333333333,
           "#9c179e"
          ],
          [
           0.4444444444444444,
           "#bd3786"
          ],
          [
           0.5555555555555556,
           "#d8576b"
          ],
          [
           0.6666666666666666,
           "#ed7953"
          ],
          [
           0.7777777777777778,
           "#fb9f3a"
          ],
          [
           0.8888888888888888,
           "#fdca26"
          ],
          [
           1,
           "#f0f921"
          ]
         ]
        },
        "legend": {
         "tracegroupgap": 0
        },
        "template": {
         "data": {
          "bar": [
           {
            "error_x": {
             "color": "#2a3f5f"
            },
            "error_y": {
             "color": "#2a3f5f"
            },
            "marker": {
             "line": {
              "color": "#E5ECF6",
              "width": 0.5
             },
             "pattern": {
              "fillmode": "overlay",
              "size": 10,
              "solidity": 0.2
             }
            },
            "type": "bar"
           }
          ],
          "barpolar": [
           {
            "marker": {
             "line": {
              "color": "#E5ECF6",
              "width": 0.5
             },
             "pattern": {
              "fillmode": "overlay",
              "size": 10,
              "solidity": 0.2
             }
            },
            "type": "barpolar"
           }
          ],
          "carpet": [
           {
            "aaxis": {
             "endlinecolor": "#2a3f5f",
             "gridcolor": "white",
             "linecolor": "white",
             "minorgridcolor": "white",
             "startlinecolor": "#2a3f5f"
            },
            "baxis": {
             "endlinecolor": "#2a3f5f",
             "gridcolor": "white",
             "linecolor": "white",
             "minorgridcolor": "white",
             "startlinecolor": "#2a3f5f"
            },
            "type": "carpet"
           }
          ],
          "choropleth": [
           {
            "colorbar": {
             "outlinewidth": 0,
             "ticks": ""
            },
            "type": "choropleth"
           }
          ],
          "contour": [
           {
            "colorbar": {
             "outlinewidth": 0,
             "ticks": ""
            },
            "colorscale": [
             [
              0,
              "#0d0887"
             ],
             [
              0.1111111111111111,
              "#46039f"
             ],
             [
              0.2222222222222222,
              "#7201a8"
             ],
             [
              0.3333333333333333,
              "#9c179e"
             ],
             [
              0.4444444444444444,
              "#bd3786"
             ],
             [
              0.5555555555555556,
              "#d8576b"
             ],
             [
              0.6666666666666666,
              "#ed7953"
             ],
             [
              0.7777777777777778,
              "#fb9f3a"
             ],
             [
              0.8888888888888888,
              "#fdca26"
             ],
             [
              1,
              "#f0f921"
             ]
            ],
            "type": "contour"
           }
          ],
          "contourcarpet": [
           {
            "colorbar": {
             "outlinewidth": 0,
             "ticks": ""
            },
            "type": "contourcarpet"
           }
          ],
          "heatmap": [
           {
            "colorbar": {
             "outlinewidth": 0,
             "ticks": ""
            },
            "colorscale": [
             [
              0,
              "#0d0887"
             ],
             [
              0.1111111111111111,
              "#46039f"
             ],
             [
              0.2222222222222222,
              "#7201a8"
             ],
             [
              0.3333333333333333,
              "#9c179e"
             ],
             [
              0.4444444444444444,
              "#bd3786"
             ],
             [
              0.5555555555555556,
              "#d8576b"
             ],
             [
              0.6666666666666666,
              "#ed7953"
             ],
             [
              0.7777777777777778,
              "#fb9f3a"
             ],
             [
              0.8888888888888888,
              "#fdca26"
             ],
             [
              1,
              "#f0f921"
             ]
            ],
            "type": "heatmap"
           }
          ],
          "heatmapgl": [
           {
            "colorbar": {
             "outlinewidth": 0,
             "ticks": ""
            },
            "colorscale": [
             [
              0,
              "#0d0887"
             ],
             [
              0.1111111111111111,
              "#46039f"
             ],
             [
              0.2222222222222222,
              "#7201a8"
             ],
             [
              0.3333333333333333,
              "#9c179e"
             ],
             [
              0.4444444444444444,
              "#bd3786"
             ],
             [
              0.5555555555555556,
              "#d8576b"
             ],
             [
              0.6666666666666666,
              "#ed7953"
             ],
             [
              0.7777777777777778,
              "#fb9f3a"
             ],
             [
              0.8888888888888888,
              "#fdca26"
             ],
             [
              1,
              "#f0f921"
             ]
            ],
            "type": "heatmapgl"
           }
          ],
          "histogram": [
           {
            "marker": {
             "pattern": {
              "fillmode": "overlay",
              "size": 10,
              "solidity": 0.2
             }
            },
            "type": "histogram"
           }
          ],
          "histogram2d": [
           {
            "colorbar": {
             "outlinewidth": 0,
             "ticks": ""
            },
            "colorscale": [
             [
              0,
              "#0d0887"
             ],
             [
              0.1111111111111111,
              "#46039f"
             ],
             [
              0.2222222222222222,
              "#7201a8"
             ],
             [
              0.3333333333333333,
              "#9c179e"
             ],
             [
              0.4444444444444444,
              "#bd3786"
             ],
             [
              0.5555555555555556,
              "#d8576b"
             ],
             [
              0.6666666666666666,
              "#ed7953"
             ],
             [
              0.7777777777777778,
              "#fb9f3a"
             ],
             [
              0.8888888888888888,
              "#fdca26"
             ],
             [
              1,
              "#f0f921"
             ]
            ],
            "type": "histogram2d"
           }
          ],
          "histogram2dcontour": [
           {
            "colorbar": {
             "outlinewidth": 0,
             "ticks": ""
            },
            "colorscale": [
             [
              0,
              "#0d0887"
             ],
             [
              0.1111111111111111,
              "#46039f"
             ],
             [
              0.2222222222222222,
              "#7201a8"
             ],
             [
              0.3333333333333333,
              "#9c179e"
             ],
             [
              0.4444444444444444,
              "#bd3786"
             ],
             [
              0.5555555555555556,
              "#d8576b"
             ],
             [
              0.6666666666666666,
              "#ed7953"
             ],
             [
              0.7777777777777778,
              "#fb9f3a"
             ],
             [
              0.8888888888888888,
              "#fdca26"
             ],
             [
              1,
              "#f0f921"
             ]
            ],
            "type": "histogram2dcontour"
           }
          ],
          "mesh3d": [
           {
            "colorbar": {
             "outlinewidth": 0,
             "ticks": ""
            },
            "type": "mesh3d"
           }
          ],
          "parcoords": [
           {
            "line": {
             "colorbar": {
              "outlinewidth": 0,
              "ticks": ""
             }
            },
            "type": "parcoords"
           }
          ],
          "pie": [
           {
            "automargin": true,
            "type": "pie"
           }
          ],
          "scatter": [
           {
            "fillpattern": {
             "fillmode": "overlay",
             "size": 10,
             "solidity": 0.2
            },
            "type": "scatter"
           }
          ],
          "scatter3d": [
           {
            "line": {
             "colorbar": {
              "outlinewidth": 0,
              "ticks": ""
             }
            },
            "marker": {
             "colorbar": {
              "outlinewidth": 0,
              "ticks": ""
             }
            },
            "type": "scatter3d"
           }
          ],
          "scattercarpet": [
           {
            "marker": {
             "colorbar": {
              "outlinewidth": 0,
              "ticks": ""
             }
            },
            "type": "scattercarpet"
           }
          ],
          "scattergeo": [
           {
            "marker": {
             "colorbar": {
              "outlinewidth": 0,
              "ticks": ""
             }
            },
            "type": "scattergeo"
           }
          ],
          "scattergl": [
           {
            "marker": {
             "colorbar": {
              "outlinewidth": 0,
              "ticks": ""
             }
            },
            "type": "scattergl"
           }
          ],
          "scattermapbox": [
           {
            "marker": {
             "colorbar": {
              "outlinewidth": 0,
              "ticks": ""
             }
            },
            "type": "scattermapbox"
           }
          ],
          "scatterpolar": [
           {
            "marker": {
             "colorbar": {
              "outlinewidth": 0,
              "ticks": ""
             }
            },
            "type": "scatterpolar"
           }
          ],
          "scatterpolargl": [
           {
            "marker": {
             "colorbar": {
              "outlinewidth": 0,
              "ticks": ""
             }
            },
            "type": "scatterpolargl"
           }
          ],
          "scatterternary": [
           {
            "marker": {
             "colorbar": {
              "outlinewidth": 0,
              "ticks": ""
             }
            },
            "type": "scatterternary"
           }
          ],
          "surface": [
           {
            "colorbar": {
             "outlinewidth": 0,
             "ticks": ""
            },
            "colorscale": [
             [
              0,
              "#0d0887"
             ],
             [
              0.1111111111111111,
              "#46039f"
             ],
             [
              0.2222222222222222,
              "#7201a8"
             ],
             [
              0.3333333333333333,
              "#9c179e"
             ],
             [
              0.4444444444444444,
              "#bd3786"
             ],
             [
              0.5555555555555556,
              "#d8576b"
             ],
             [
              0.6666666666666666,
              "#ed7953"
             ],
             [
              0.7777777777777778,
              "#fb9f3a"
             ],
             [
              0.8888888888888888,
              "#fdca26"
             ],
             [
              1,
              "#f0f921"
             ]
            ],
            "type": "surface"
           }
          ],
          "table": [
           {
            "cells": {
             "fill": {
              "color": "#EBF0F8"
             },
             "line": {
              "color": "white"
             }
            },
            "header": {
             "fill": {
              "color": "#C8D4E3"
             },
             "line": {
              "color": "white"
             }
            },
            "type": "table"
           }
          ]
         },
         "layout": {
          "annotationdefaults": {
           "arrowcolor": "#2a3f5f",
           "arrowhead": 0,
           "arrowwidth": 1
          },
          "autotypenumbers": "strict",
          "coloraxis": {
           "colorbar": {
            "outlinewidth": 0,
            "ticks": ""
           }
          },
          "colorscale": {
           "diverging": [
            [
             0,
             "#8e0152"
            ],
            [
             0.1,
             "#c51b7d"
            ],
            [
             0.2,
             "#de77ae"
            ],
            [
             0.3,
             "#f1b6da"
            ],
            [
             0.4,
             "#fde0ef"
            ],
            [
             0.5,
             "#f7f7f7"
            ],
            [
             0.6,
             "#e6f5d0"
            ],
            [
             0.7,
             "#b8e186"
            ],
            [
             0.8,
             "#7fbc41"
            ],
            [
             0.9,
             "#4d9221"
            ],
            [
             1,
             "#276419"
            ]
           ],
           "sequential": [
            [
             0,
             "#0d0887"
            ],
            [
             0.1111111111111111,
             "#46039f"
            ],
            [
             0.2222222222222222,
             "#7201a8"
            ],
            [
             0.3333333333333333,
             "#9c179e"
            ],
            [
             0.4444444444444444,
             "#bd3786"
            ],
            [
             0.5555555555555556,
             "#d8576b"
            ],
            [
             0.6666666666666666,
             "#ed7953"
            ],
            [
             0.7777777777777778,
             "#fb9f3a"
            ],
            [
             0.8888888888888888,
             "#fdca26"
            ],
            [
             1,
             "#f0f921"
            ]
           ],
           "sequentialminus": [
            [
             0,
             "#0d0887"
            ],
            [
             0.1111111111111111,
             "#46039f"
            ],
            [
             0.2222222222222222,
             "#7201a8"
            ],
            [
             0.3333333333333333,
             "#9c179e"
            ],
            [
             0.4444444444444444,
             "#bd3786"
            ],
            [
             0.5555555555555556,
             "#d8576b"
            ],
            [
             0.6666666666666666,
             "#ed7953"
            ],
            [
             0.7777777777777778,
             "#fb9f3a"
            ],
            [
             0.8888888888888888,
             "#fdca26"
            ],
            [
             1,
             "#f0f921"
            ]
           ]
          },
          "colorway": [
           "#636efa",
           "#EF553B",
           "#00cc96",
           "#ab63fa",
           "#FFA15A",
           "#19d3f3",
           "#FF6692",
           "#B6E880",
           "#FF97FF",
           "#FECB52"
          ],
          "font": {
           "color": "#2a3f5f"
          },
          "geo": {
           "bgcolor": "white",
           "lakecolor": "white",
           "landcolor": "#E5ECF6",
           "showlakes": true,
           "showland": true,
           "subunitcolor": "white"
          },
          "hoverlabel": {
           "align": "left"
          },
          "hovermode": "closest",
          "mapbox": {
           "style": "light"
          },
          "paper_bgcolor": "white",
          "plot_bgcolor": "#E5ECF6",
          "polar": {
           "angularaxis": {
            "gridcolor": "white",
            "linecolor": "white",
            "ticks": ""
           },
           "bgcolor": "#E5ECF6",
           "radialaxis": {
            "gridcolor": "white",
            "linecolor": "white",
            "ticks": ""
           }
          },
          "scene": {
           "xaxis": {
            "backgroundcolor": "#E5ECF6",
            "gridcolor": "white",
            "gridwidth": 2,
            "linecolor": "white",
            "showbackground": true,
            "ticks": "",
            "zerolinecolor": "white"
           },
           "yaxis": {
            "backgroundcolor": "#E5ECF6",
            "gridcolor": "white",
            "gridwidth": 2,
            "linecolor": "white",
            "showbackground": true,
            "ticks": "",
            "zerolinecolor": "white"
           },
           "zaxis": {
            "backgroundcolor": "#E5ECF6",
            "gridcolor": "white",
            "gridwidth": 2,
            "linecolor": "white",
            "showbackground": true,
            "ticks": "",
            "zerolinecolor": "white"
           }
          },
          "shapedefaults": {
           "line": {
            "color": "#2a3f5f"
           }
          },
          "ternary": {
           "aaxis": {
            "gridcolor": "white",
            "linecolor": "white",
            "ticks": ""
           },
           "baxis": {
            "gridcolor": "white",
            "linecolor": "white",
            "ticks": ""
           },
           "bgcolor": "#E5ECF6",
           "caxis": {
            "gridcolor": "white",
            "linecolor": "white",
            "ticks": ""
           }
          },
          "title": {
           "x": 0.05
          },
          "xaxis": {
           "automargin": true,
           "gridcolor": "white",
           "linecolor": "white",
           "ticks": "",
           "title": {
            "standoff": 15
           },
           "zerolinecolor": "white",
           "zerolinewidth": 2
          },
          "yaxis": {
           "automargin": true,
           "gridcolor": "white",
           "linecolor": "white",
           "ticks": "",
           "title": {
            "standoff": 15
           },
           "zerolinecolor": "white",
           "zerolinewidth": 2
          }
         }
        },
        "title": {
         "text": "Ratings de Restaurantes con Tipos de Cocina Únicos"
        },
        "xaxis": {
         "anchor": "y",
         "domain": [
          0,
          1
         ],
         "tickangle": -45,
         "title": {
          "text": "Nombre del Restaurante"
         }
        },
        "yaxis": {
         "anchor": "x",
         "domain": [
          0,
          1
         ],
         "title": {
          "text": "Rating"
         }
        }
       }
      }
     },
     "metadata": {},
     "output_type": "display_data"
    }
   ],
   "source": [
    "cocina = df['cuisine'].explode()\n",
    "\n",
    "count_cocina = cocina.value_counts().reset_index() # Cuenta cuantas veces aparece cada tipo de cocina\n",
    "count_cocina.columns = ['Tipo de Cocina', 'Cantidad']\n",
    "\n",
    "tipos_unicos = count_cocina[count_cocina['Cantidad'] == 1]['Tipo de Cocina'] # Se queda con los q solo salen una vez\n",
    "\n",
    "def tiene_tipo_unico(cuisine_list): # Función para ver si un lugar tiene tipos únicos\n",
    "    if isinstance(cuisine_list, list):  # Ver si es una lista\n",
    "        return any(tipo in tipos_unicos.values for tipo in cuisine_list) # Devuelve True si hay algun tipo de cocina unico\n",
    "    return False  # Si no es una lista\n",
    "\n",
    "restaurantes_unicos = df[df['cuisine'].apply(tiene_tipo_unico)] # Del df original se queda con los lugares con tipos únicos\n",
    "restaurantes_info = restaurantes_unicos[['name', 'rating', 'cuisine']]\n",
    "\n",
    "def obtener_tipo_unico(cuisine_list): # Crear una columna con el tipo de cocina único\n",
    "    for tipo in cuisine_list:\n",
    "        if tipo in tipos_unicos.values:\n",
    "            return tipo\n",
    "    return None\n",
    "\n",
    "restaurantes_info['Tipo de Cocina Único'] = restaurantes_info['cuisine'].apply(obtener_tipo_unico)\n",
    "\n",
    "fig = px.bar(restaurantes_info, \n",
    "            x='name', \n",
    "            y='rating', \n",
    "            title='Ratings de Restaurantes con Tipos de Cocina Únicos',\n",
    "            labels={'rating': 'Rating', 'name': 'Nombre del Restaurante'},\n",
    "            color='rating',\n",
    "            color_continuous_scale=px.colors.sequential.Plasma,\n",
    "            hover_data={'Tipo de Cocina Único': True})\n",
    "\n",
    "fig.update_layout(xaxis_tickangle=-45)\n",
    "fig.show()"
   ]
  },
  {
   "cell_type": "markdown",
   "metadata": {},
   "source": [
    "Mientras el grupo de amigos continuaba su trabajo en \"Chill Havana\", notaron que ya se habían hecho muchas preguntas pero no se había hablado de un elemento crucial: el menú de cada establecimiento. Estaban conscientes de cuan importante es tener un menú accesible en su web. \n",
    "¿Recuerdas cuántas veces has ido a un restaurante y no has encontrado eso que tanto deseabas comer, o simplemente no te interesaba ninguna de las opciones de la cartan? ¿En cuántas ocasiones te has interesado por conocer los precios de un sitio antes de ir? Es una experiencia común el poder saber todo del lugar que vas a visitar para de esa forma evitar decepciones.\n"
   ]
  },
  {
   "cell_type": "markdown",
   "metadata": {},
   "source": [
    "Siguiendo esa idea lo primero a estudiar fue cuántos restaurantes por municipio ofrecían ofertas para la primera comida del día: desayunos. Como resultado notaron que no era común tener este tipo de ofertas en los distintos establecimientos."
   ]
  },
  {
   "cell_type": "code",
   "execution_count": 39,
   "metadata": {},
   "outputs": [
    {
     "data": {
      "application/vnd.plotly.v1+json": {
       "config": {
        "plotlyServerURL": "https://plot.ly"
       },
       "data": [
        {
         "alignmentgroup": "True",
         "hovertemplate": "Municipio=%{x}<br>Número de Establecimientos=%{marker.color}<extra></extra>",
         "legendgroup": "",
         "marker": {
          "color": [
           2,
           4,
           3,
           1,
           7,
           6
          ],
          "coloraxis": "coloraxis",
          "pattern": {
           "shape": ""
          }
         },
         "name": "",
         "offsetgroup": "",
         "orientation": "v",
         "showlegend": false,
         "text": [
          2,
          4,
          3,
          1,
          7,
          6
         ],
         "textposition": "auto",
         "type": "bar",
         "x": [
          "Boyeros",
          "Centro Habana",
          "La Habana Vieja",
          "Marianao",
          "Playa",
          "Plaza de la Revolución"
         ],
         "xaxis": "x",
         "y": [
          2,
          4,
          3,
          1,
          7,
          6
         ],
         "yaxis": "y"
        }
       ],
       "layout": {
        "barmode": "group",
        "coloraxis": {
         "colorbar": {
          "title": {
           "text": "Número de Establecimientos"
          }
         },
         "colorscale": [
          [
           0,
           "#440154"
          ],
          [
           0.1111111111111111,
           "#482878"
          ],
          [
           0.2222222222222222,
           "#3e4989"
          ],
          [
           0.3333333333333333,
           "#31688e"
          ],
          [
           0.4444444444444444,
           "#26828e"
          ],
          [
           0.5555555555555556,
           "#1f9e89"
          ],
          [
           0.6666666666666666,
           "#35b779"
          ],
          [
           0.7777777777777778,
           "#6ece58"
          ],
          [
           0.8888888888888888,
           "#b5de2b"
          ],
          [
           1,
           "#fde725"
          ]
         ]
        },
        "legend": {
         "tracegroupgap": 0
        },
        "template": {
         "data": {
          "bar": [
           {
            "error_x": {
             "color": "#2a3f5f"
            },
            "error_y": {
             "color": "#2a3f5f"
            },
            "marker": {
             "line": {
              "color": "#E5ECF6",
              "width": 0.5
             },
             "pattern": {
              "fillmode": "overlay",
              "size": 10,
              "solidity": 0.2
             }
            },
            "type": "bar"
           }
          ],
          "barpolar": [
           {
            "marker": {
             "line": {
              "color": "#E5ECF6",
              "width": 0.5
             },
             "pattern": {
              "fillmode": "overlay",
              "size": 10,
              "solidity": 0.2
             }
            },
            "type": "barpolar"
           }
          ],
          "carpet": [
           {
            "aaxis": {
             "endlinecolor": "#2a3f5f",
             "gridcolor": "white",
             "linecolor": "white",
             "minorgridcolor": "white",
             "startlinecolor": "#2a3f5f"
            },
            "baxis": {
             "endlinecolor": "#2a3f5f",
             "gridcolor": "white",
             "linecolor": "white",
             "minorgridcolor": "white",
             "startlinecolor": "#2a3f5f"
            },
            "type": "carpet"
           }
          ],
          "choropleth": [
           {
            "colorbar": {
             "outlinewidth": 0,
             "ticks": ""
            },
            "type": "choropleth"
           }
          ],
          "contour": [
           {
            "colorbar": {
             "outlinewidth": 0,
             "ticks": ""
            },
            "colorscale": [
             [
              0,
              "#0d0887"
             ],
             [
              0.1111111111111111,
              "#46039f"
             ],
             [
              0.2222222222222222,
              "#7201a8"
             ],
             [
              0.3333333333333333,
              "#9c179e"
             ],
             [
              0.4444444444444444,
              "#bd3786"
             ],
             [
              0.5555555555555556,
              "#d8576b"
             ],
             [
              0.6666666666666666,
              "#ed7953"
             ],
             [
              0.7777777777777778,
              "#fb9f3a"
             ],
             [
              0.8888888888888888,
              "#fdca26"
             ],
             [
              1,
              "#f0f921"
             ]
            ],
            "type": "contour"
           }
          ],
          "contourcarpet": [
           {
            "colorbar": {
             "outlinewidth": 0,
             "ticks": ""
            },
            "type": "contourcarpet"
           }
          ],
          "heatmap": [
           {
            "colorbar": {
             "outlinewidth": 0,
             "ticks": ""
            },
            "colorscale": [
             [
              0,
              "#0d0887"
             ],
             [
              0.1111111111111111,
              "#46039f"
             ],
             [
              0.2222222222222222,
              "#7201a8"
             ],
             [
              0.3333333333333333,
              "#9c179e"
             ],
             [
              0.4444444444444444,
              "#bd3786"
             ],
             [
              0.5555555555555556,
              "#d8576b"
             ],
             [
              0.6666666666666666,
              "#ed7953"
             ],
             [
              0.7777777777777778,
              "#fb9f3a"
             ],
             [
              0.8888888888888888,
              "#fdca26"
             ],
             [
              1,
              "#f0f921"
             ]
            ],
            "type": "heatmap"
           }
          ],
          "heatmapgl": [
           {
            "colorbar": {
             "outlinewidth": 0,
             "ticks": ""
            },
            "colorscale": [
             [
              0,
              "#0d0887"
             ],
             [
              0.1111111111111111,
              "#46039f"
             ],
             [
              0.2222222222222222,
              "#7201a8"
             ],
             [
              0.3333333333333333,
              "#9c179e"
             ],
             [
              0.4444444444444444,
              "#bd3786"
             ],
             [
              0.5555555555555556,
              "#d8576b"
             ],
             [
              0.6666666666666666,
              "#ed7953"
             ],
             [
              0.7777777777777778,
              "#fb9f3a"
             ],
             [
              0.8888888888888888,
              "#fdca26"
             ],
             [
              1,
              "#f0f921"
             ]
            ],
            "type": "heatmapgl"
           }
          ],
          "histogram": [
           {
            "marker": {
             "pattern": {
              "fillmode": "overlay",
              "size": 10,
              "solidity": 0.2
             }
            },
            "type": "histogram"
           }
          ],
          "histogram2d": [
           {
            "colorbar": {
             "outlinewidth": 0,
             "ticks": ""
            },
            "colorscale": [
             [
              0,
              "#0d0887"
             ],
             [
              0.1111111111111111,
              "#46039f"
             ],
             [
              0.2222222222222222,
              "#7201a8"
             ],
             [
              0.3333333333333333,
              "#9c179e"
             ],
             [
              0.4444444444444444,
              "#bd3786"
             ],
             [
              0.5555555555555556,
              "#d8576b"
             ],
             [
              0.6666666666666666,
              "#ed7953"
             ],
             [
              0.7777777777777778,
              "#fb9f3a"
             ],
             [
              0.8888888888888888,
              "#fdca26"
             ],
             [
              1,
              "#f0f921"
             ]
            ],
            "type": "histogram2d"
           }
          ],
          "histogram2dcontour": [
           {
            "colorbar": {
             "outlinewidth": 0,
             "ticks": ""
            },
            "colorscale": [
             [
              0,
              "#0d0887"
             ],
             [
              0.1111111111111111,
              "#46039f"
             ],
             [
              0.2222222222222222,
              "#7201a8"
             ],
             [
              0.3333333333333333,
              "#9c179e"
             ],
             [
              0.4444444444444444,
              "#bd3786"
             ],
             [
              0.5555555555555556,
              "#d8576b"
             ],
             [
              0.6666666666666666,
              "#ed7953"
             ],
             [
              0.7777777777777778,
              "#fb9f3a"
             ],
             [
              0.8888888888888888,
              "#fdca26"
             ],
             [
              1,
              "#f0f921"
             ]
            ],
            "type": "histogram2dcontour"
           }
          ],
          "mesh3d": [
           {
            "colorbar": {
             "outlinewidth": 0,
             "ticks": ""
            },
            "type": "mesh3d"
           }
          ],
          "parcoords": [
           {
            "line": {
             "colorbar": {
              "outlinewidth": 0,
              "ticks": ""
             }
            },
            "type": "parcoords"
           }
          ],
          "pie": [
           {
            "automargin": true,
            "type": "pie"
           }
          ],
          "scatter": [
           {
            "fillpattern": {
             "fillmode": "overlay",
             "size": 10,
             "solidity": 0.2
            },
            "type": "scatter"
           }
          ],
          "scatter3d": [
           {
            "line": {
             "colorbar": {
              "outlinewidth": 0,
              "ticks": ""
             }
            },
            "marker": {
             "colorbar": {
              "outlinewidth": 0,
              "ticks": ""
             }
            },
            "type": "scatter3d"
           }
          ],
          "scattercarpet": [
           {
            "marker": {
             "colorbar": {
              "outlinewidth": 0,
              "ticks": ""
             }
            },
            "type": "scattercarpet"
           }
          ],
          "scattergeo": [
           {
            "marker": {
             "colorbar": {
              "outlinewidth": 0,
              "ticks": ""
             }
            },
            "type": "scattergeo"
           }
          ],
          "scattergl": [
           {
            "marker": {
             "colorbar": {
              "outlinewidth": 0,
              "ticks": ""
             }
            },
            "type": "scattergl"
           }
          ],
          "scattermapbox": [
           {
            "marker": {
             "colorbar": {
              "outlinewidth": 0,
              "ticks": ""
             }
            },
            "type": "scattermapbox"
           }
          ],
          "scatterpolar": [
           {
            "marker": {
             "colorbar": {
              "outlinewidth": 0,
              "ticks": ""
             }
            },
            "type": "scatterpolar"
           }
          ],
          "scatterpolargl": [
           {
            "marker": {
             "colorbar": {
              "outlinewidth": 0,
              "ticks": ""
             }
            },
            "type": "scatterpolargl"
           }
          ],
          "scatterternary": [
           {
            "marker": {
             "colorbar": {
              "outlinewidth": 0,
              "ticks": ""
             }
            },
            "type": "scatterternary"
           }
          ],
          "surface": [
           {
            "colorbar": {
             "outlinewidth": 0,
             "ticks": ""
            },
            "colorscale": [
             [
              0,
              "#0d0887"
             ],
             [
              0.1111111111111111,
              "#46039f"
             ],
             [
              0.2222222222222222,
              "#7201a8"
             ],
             [
              0.3333333333333333,
              "#9c179e"
             ],
             [
              0.4444444444444444,
              "#bd3786"
             ],
             [
              0.5555555555555556,
              "#d8576b"
             ],
             [
              0.6666666666666666,
              "#ed7953"
             ],
             [
              0.7777777777777778,
              "#fb9f3a"
             ],
             [
              0.8888888888888888,
              "#fdca26"
             ],
             [
              1,
              "#f0f921"
             ]
            ],
            "type": "surface"
           }
          ],
          "table": [
           {
            "cells": {
             "fill": {
              "color": "#EBF0F8"
             },
             "line": {
              "color": "white"
             }
            },
            "header": {
             "fill": {
              "color": "#C8D4E3"
             },
             "line": {
              "color": "white"
             }
            },
            "type": "table"
           }
          ]
         },
         "layout": {
          "annotationdefaults": {
           "arrowcolor": "#2a3f5f",
           "arrowhead": 0,
           "arrowwidth": 1
          },
          "autotypenumbers": "strict",
          "coloraxis": {
           "colorbar": {
            "outlinewidth": 0,
            "ticks": ""
           }
          },
          "colorscale": {
           "diverging": [
            [
             0,
             "#8e0152"
            ],
            [
             0.1,
             "#c51b7d"
            ],
            [
             0.2,
             "#de77ae"
            ],
            [
             0.3,
             "#f1b6da"
            ],
            [
             0.4,
             "#fde0ef"
            ],
            [
             0.5,
             "#f7f7f7"
            ],
            [
             0.6,
             "#e6f5d0"
            ],
            [
             0.7,
             "#b8e186"
            ],
            [
             0.8,
             "#7fbc41"
            ],
            [
             0.9,
             "#4d9221"
            ],
            [
             1,
             "#276419"
            ]
           ],
           "sequential": [
            [
             0,
             "#0d0887"
            ],
            [
             0.1111111111111111,
             "#46039f"
            ],
            [
             0.2222222222222222,
             "#7201a8"
            ],
            [
             0.3333333333333333,
             "#9c179e"
            ],
            [
             0.4444444444444444,
             "#bd3786"
            ],
            [
             0.5555555555555556,
             "#d8576b"
            ],
            [
             0.6666666666666666,
             "#ed7953"
            ],
            [
             0.7777777777777778,
             "#fb9f3a"
            ],
            [
             0.8888888888888888,
             "#fdca26"
            ],
            [
             1,
             "#f0f921"
            ]
           ],
           "sequentialminus": [
            [
             0,
             "#0d0887"
            ],
            [
             0.1111111111111111,
             "#46039f"
            ],
            [
             0.2222222222222222,
             "#7201a8"
            ],
            [
             0.3333333333333333,
             "#9c179e"
            ],
            [
             0.4444444444444444,
             "#bd3786"
            ],
            [
             0.5555555555555556,
             "#d8576b"
            ],
            [
             0.6666666666666666,
             "#ed7953"
            ],
            [
             0.7777777777777778,
             "#fb9f3a"
            ],
            [
             0.8888888888888888,
             "#fdca26"
            ],
            [
             1,
             "#f0f921"
            ]
           ]
          },
          "colorway": [
           "#636efa",
           "#EF553B",
           "#00cc96",
           "#ab63fa",
           "#FFA15A",
           "#19d3f3",
           "#FF6692",
           "#B6E880",
           "#FF97FF",
           "#FECB52"
          ],
          "font": {
           "color": "#2a3f5f"
          },
          "geo": {
           "bgcolor": "white",
           "lakecolor": "white",
           "landcolor": "#E5ECF6",
           "showlakes": true,
           "showland": true,
           "subunitcolor": "white"
          },
          "hoverlabel": {
           "align": "left"
          },
          "hovermode": "closest",
          "mapbox": {
           "style": "light"
          },
          "paper_bgcolor": "white",
          "plot_bgcolor": "#E5ECF6",
          "polar": {
           "angularaxis": {
            "gridcolor": "white",
            "linecolor": "white",
            "ticks": ""
           },
           "bgcolor": "#E5ECF6",
           "radialaxis": {
            "gridcolor": "white",
            "linecolor": "white",
            "ticks": ""
           }
          },
          "scene": {
           "xaxis": {
            "backgroundcolor": "#E5ECF6",
            "gridcolor": "white",
            "gridwidth": 2,
            "linecolor": "white",
            "showbackground": true,
            "ticks": "",
            "zerolinecolor": "white"
           },
           "yaxis": {
            "backgroundcolor": "#E5ECF6",
            "gridcolor": "white",
            "gridwidth": 2,
            "linecolor": "white",
            "showbackground": true,
            "ticks": "",
            "zerolinecolor": "white"
           },
           "zaxis": {
            "backgroundcolor": "#E5ECF6",
            "gridcolor": "white",
            "gridwidth": 2,
            "linecolor": "white",
            "showbackground": true,
            "ticks": "",
            "zerolinecolor": "white"
           }
          },
          "shapedefaults": {
           "line": {
            "color": "#2a3f5f"
           }
          },
          "ternary": {
           "aaxis": {
            "gridcolor": "white",
            "linecolor": "white",
            "ticks": ""
           },
           "baxis": {
            "gridcolor": "white",
            "linecolor": "white",
            "ticks": ""
           },
           "bgcolor": "#E5ECF6",
           "caxis": {
            "gridcolor": "white",
            "linecolor": "white",
            "ticks": ""
           }
          },
          "title": {
           "x": 0.05
          },
          "xaxis": {
           "automargin": true,
           "gridcolor": "white",
           "linecolor": "white",
           "ticks": "",
           "title": {
            "standoff": 15
           },
           "zerolinecolor": "white",
           "zerolinewidth": 2
          },
          "yaxis": {
           "automargin": true,
           "gridcolor": "white",
           "linecolor": "white",
           "ticks": "",
           "title": {
            "standoff": 15
           },
           "zerolinecolor": "white",
           "zerolinewidth": 2
          }
         }
        },
        "title": {
         "text": "Cantidad de Establecimientos que Ofertan Desayuno por Municipio"
        },
        "xaxis": {
         "anchor": "y",
         "domain": [
          0,
          1
         ],
         "title": {
          "text": "Municipio"
         }
        },
        "yaxis": {
         "anchor": "x",
         "domain": [
          0,
          1
         ],
         "title": {
          "text": "Número de Establecimientos"
         }
        }
       }
      }
     },
     "metadata": {},
     "output_type": "display_data"
    }
   ],
   "source": [
    "def tiene_desayuno(menu):\n",
    "    if isinstance(menu, dict): # Verificar si 'breakfasts' es un dict y contiene una lista no vacía\n",
    "        if isinstance(menu.get('breakfasts'), dict) and 'items' in menu['breakfasts']:\n",
    "            return len(menu['breakfasts']['items']) > 0\n",
    "    return False\n",
    "\n",
    "df['with_breakfasts'] = df['menu'].apply(tiene_desayuno) # Aplicar la función para crear una columna que indica desayuno\n",
    "\n",
    "resultados = df[df['with_breakfasts']].groupby('district').size().reset_index(name='count')# Agrupar por distrito y contar el número de establecimientos\n",
    "\n",
    "fig = px.bar(resultados, \n",
    "            x='district', \n",
    "            y='count', \n",
    "            color='count', \n",
    "            barmode='group',\n",
    "            title='Cantidad de Establecimientos que Ofertan Desayuno por Municipio',\n",
    "            labels={'district': 'Municipio', 'count': 'Número de Establecimientos'},\n",
    "            color_continuous_scale=px.colors.sequential.Viridis,\n",
    "            text='count')\n",
    "fig.show()"
   ]
  },
  {
   "cell_type": "markdown",
   "metadata": {},
   "source": [
    "Con la misma lógica analizaron qué número de lugares en cada municipio habanero contaba con ofertas especiales en su menú que podía ir desde sugerencias del chef hasta menú infantil o ejecutivo."
   ]
  },
  {
   "cell_type": "code",
   "execution_count": 38,
   "metadata": {},
   "outputs": [
    {
     "data": {
      "application/vnd.plotly.v1+json": {
       "config": {
        "plotlyServerURL": "https://plot.ly"
       },
       "data": [
        {
         "alignmentgroup": "True",
         "hovertemplate": "Municipio=%{x}<br>Número de Establecimientos=%{marker.color}<extra></extra>",
         "legendgroup": "",
         "marker": {
          "color": [
           1,
           4,
           2,
           1,
           1,
           3,
           3,
           6
          ],
          "coloraxis": "coloraxis",
          "pattern": {
           "shape": ""
          }
         },
         "name": "",
         "offsetgroup": "",
         "orientation": "v",
         "showlegend": false,
         "text": [
          1,
          4,
          2,
          1,
          1,
          3,
          3,
          6
         ],
         "textposition": "auto",
         "type": "bar",
         "x": [
          "Boyeros",
          "Centro Habana",
          "Cerro",
          "Cotorro",
          "Diez de Octubre",
          "La Habana Vieja",
          "Playa",
          "Plaza de la Revolución"
         ],
         "xaxis": "x",
         "y": [
          1,
          4,
          2,
          1,
          1,
          3,
          3,
          6
         ],
         "yaxis": "y"
        }
       ],
       "layout": {
        "barmode": "group",
        "coloraxis": {
         "colorbar": {
          "title": {
           "text": "Número de Establecimientos"
          }
         },
         "colorscale": [
          [
           0,
           "#0d0887"
          ],
          [
           0.1111111111111111,
           "#46039f"
          ],
          [
           0.2222222222222222,
           "#7201a8"
          ],
          [
           0.3333333333333333,
           "#9c179e"
          ],
          [
           0.4444444444444444,
           "#bd3786"
          ],
          [
           0.5555555555555556,
           "#d8576b"
          ],
          [
           0.6666666666666666,
           "#ed7953"
          ],
          [
           0.7777777777777778,
           "#fb9f3a"
          ],
          [
           0.8888888888888888,
           "#fdca26"
          ],
          [
           1,
           "#f0f921"
          ]
         ]
        },
        "legend": {
         "tracegroupgap": 0
        },
        "template": {
         "data": {
          "bar": [
           {
            "error_x": {
             "color": "#2a3f5f"
            },
            "error_y": {
             "color": "#2a3f5f"
            },
            "marker": {
             "line": {
              "color": "#E5ECF6",
              "width": 0.5
             },
             "pattern": {
              "fillmode": "overlay",
              "size": 10,
              "solidity": 0.2
             }
            },
            "type": "bar"
           }
          ],
          "barpolar": [
           {
            "marker": {
             "line": {
              "color": "#E5ECF6",
              "width": 0.5
             },
             "pattern": {
              "fillmode": "overlay",
              "size": 10,
              "solidity": 0.2
             }
            },
            "type": "barpolar"
           }
          ],
          "carpet": [
           {
            "aaxis": {
             "endlinecolor": "#2a3f5f",
             "gridcolor": "white",
             "linecolor": "white",
             "minorgridcolor": "white",
             "startlinecolor": "#2a3f5f"
            },
            "baxis": {
             "endlinecolor": "#2a3f5f",
             "gridcolor": "white",
             "linecolor": "white",
             "minorgridcolor": "white",
             "startlinecolor": "#2a3f5f"
            },
            "type": "carpet"
           }
          ],
          "choropleth": [
           {
            "colorbar": {
             "outlinewidth": 0,
             "ticks": ""
            },
            "type": "choropleth"
           }
          ],
          "contour": [
           {
            "colorbar": {
             "outlinewidth": 0,
             "ticks": ""
            },
            "colorscale": [
             [
              0,
              "#0d0887"
             ],
             [
              0.1111111111111111,
              "#46039f"
             ],
             [
              0.2222222222222222,
              "#7201a8"
             ],
             [
              0.3333333333333333,
              "#9c179e"
             ],
             [
              0.4444444444444444,
              "#bd3786"
             ],
             [
              0.5555555555555556,
              "#d8576b"
             ],
             [
              0.6666666666666666,
              "#ed7953"
             ],
             [
              0.7777777777777778,
              "#fb9f3a"
             ],
             [
              0.8888888888888888,
              "#fdca26"
             ],
             [
              1,
              "#f0f921"
             ]
            ],
            "type": "contour"
           }
          ],
          "contourcarpet": [
           {
            "colorbar": {
             "outlinewidth": 0,
             "ticks": ""
            },
            "type": "contourcarpet"
           }
          ],
          "heatmap": [
           {
            "colorbar": {
             "outlinewidth": 0,
             "ticks": ""
            },
            "colorscale": [
             [
              0,
              "#0d0887"
             ],
             [
              0.1111111111111111,
              "#46039f"
             ],
             [
              0.2222222222222222,
              "#7201a8"
             ],
             [
              0.3333333333333333,
              "#9c179e"
             ],
             [
              0.4444444444444444,
              "#bd3786"
             ],
             [
              0.5555555555555556,
              "#d8576b"
             ],
             [
              0.6666666666666666,
              "#ed7953"
             ],
             [
              0.7777777777777778,
              "#fb9f3a"
             ],
             [
              0.8888888888888888,
              "#fdca26"
             ],
             [
              1,
              "#f0f921"
             ]
            ],
            "type": "heatmap"
           }
          ],
          "heatmapgl": [
           {
            "colorbar": {
             "outlinewidth": 0,
             "ticks": ""
            },
            "colorscale": [
             [
              0,
              "#0d0887"
             ],
             [
              0.1111111111111111,
              "#46039f"
             ],
             [
              0.2222222222222222,
              "#7201a8"
             ],
             [
              0.3333333333333333,
              "#9c179e"
             ],
             [
              0.4444444444444444,
              "#bd3786"
             ],
             [
              0.5555555555555556,
              "#d8576b"
             ],
             [
              0.6666666666666666,
              "#ed7953"
             ],
             [
              0.7777777777777778,
              "#fb9f3a"
             ],
             [
              0.8888888888888888,
              "#fdca26"
             ],
             [
              1,
              "#f0f921"
             ]
            ],
            "type": "heatmapgl"
           }
          ],
          "histogram": [
           {
            "marker": {
             "pattern": {
              "fillmode": "overlay",
              "size": 10,
              "solidity": 0.2
             }
            },
            "type": "histogram"
           }
          ],
          "histogram2d": [
           {
            "colorbar": {
             "outlinewidth": 0,
             "ticks": ""
            },
            "colorscale": [
             [
              0,
              "#0d0887"
             ],
             [
              0.1111111111111111,
              "#46039f"
             ],
             [
              0.2222222222222222,
              "#7201a8"
             ],
             [
              0.3333333333333333,
              "#9c179e"
             ],
             [
              0.4444444444444444,
              "#bd3786"
             ],
             [
              0.5555555555555556,
              "#d8576b"
             ],
             [
              0.6666666666666666,
              "#ed7953"
             ],
             [
              0.7777777777777778,
              "#fb9f3a"
             ],
             [
              0.8888888888888888,
              "#fdca26"
             ],
             [
              1,
              "#f0f921"
             ]
            ],
            "type": "histogram2d"
           }
          ],
          "histogram2dcontour": [
           {
            "colorbar": {
             "outlinewidth": 0,
             "ticks": ""
            },
            "colorscale": [
             [
              0,
              "#0d0887"
             ],
             [
              0.1111111111111111,
              "#46039f"
             ],
             [
              0.2222222222222222,
              "#7201a8"
             ],
             [
              0.3333333333333333,
              "#9c179e"
             ],
             [
              0.4444444444444444,
              "#bd3786"
             ],
             [
              0.5555555555555556,
              "#d8576b"
             ],
             [
              0.6666666666666666,
              "#ed7953"
             ],
             [
              0.7777777777777778,
              "#fb9f3a"
             ],
             [
              0.8888888888888888,
              "#fdca26"
             ],
             [
              1,
              "#f0f921"
             ]
            ],
            "type": "histogram2dcontour"
           }
          ],
          "mesh3d": [
           {
            "colorbar": {
             "outlinewidth": 0,
             "ticks": ""
            },
            "type": "mesh3d"
           }
          ],
          "parcoords": [
           {
            "line": {
             "colorbar": {
              "outlinewidth": 0,
              "ticks": ""
             }
            },
            "type": "parcoords"
           }
          ],
          "pie": [
           {
            "automargin": true,
            "type": "pie"
           }
          ],
          "scatter": [
           {
            "fillpattern": {
             "fillmode": "overlay",
             "size": 10,
             "solidity": 0.2
            },
            "type": "scatter"
           }
          ],
          "scatter3d": [
           {
            "line": {
             "colorbar": {
              "outlinewidth": 0,
              "ticks": ""
             }
            },
            "marker": {
             "colorbar": {
              "outlinewidth": 0,
              "ticks": ""
             }
            },
            "type": "scatter3d"
           }
          ],
          "scattercarpet": [
           {
            "marker": {
             "colorbar": {
              "outlinewidth": 0,
              "ticks": ""
             }
            },
            "type": "scattercarpet"
           }
          ],
          "scattergeo": [
           {
            "marker": {
             "colorbar": {
              "outlinewidth": 0,
              "ticks": ""
             }
            },
            "type": "scattergeo"
           }
          ],
          "scattergl": [
           {
            "marker": {
             "colorbar": {
              "outlinewidth": 0,
              "ticks": ""
             }
            },
            "type": "scattergl"
           }
          ],
          "scattermapbox": [
           {
            "marker": {
             "colorbar": {
              "outlinewidth": 0,
              "ticks": ""
             }
            },
            "type": "scattermapbox"
           }
          ],
          "scatterpolar": [
           {
            "marker": {
             "colorbar": {
              "outlinewidth": 0,
              "ticks": ""
             }
            },
            "type": "scatterpolar"
           }
          ],
          "scatterpolargl": [
           {
            "marker": {
             "colorbar": {
              "outlinewidth": 0,
              "ticks": ""
             }
            },
            "type": "scatterpolargl"
           }
          ],
          "scatterternary": [
           {
            "marker": {
             "colorbar": {
              "outlinewidth": 0,
              "ticks": ""
             }
            },
            "type": "scatterternary"
           }
          ],
          "surface": [
           {
            "colorbar": {
             "outlinewidth": 0,
             "ticks": ""
            },
            "colorscale": [
             [
              0,
              "#0d0887"
             ],
             [
              0.1111111111111111,
              "#46039f"
             ],
             [
              0.2222222222222222,
              "#7201a8"
             ],
             [
              0.3333333333333333,
              "#9c179e"
             ],
             [
              0.4444444444444444,
              "#bd3786"
             ],
             [
              0.5555555555555556,
              "#d8576b"
             ],
             [
              0.6666666666666666,
              "#ed7953"
             ],
             [
              0.7777777777777778,
              "#fb9f3a"
             ],
             [
              0.8888888888888888,
              "#fdca26"
             ],
             [
              1,
              "#f0f921"
             ]
            ],
            "type": "surface"
           }
          ],
          "table": [
           {
            "cells": {
             "fill": {
              "color": "#EBF0F8"
             },
             "line": {
              "color": "white"
             }
            },
            "header": {
             "fill": {
              "color": "#C8D4E3"
             },
             "line": {
              "color": "white"
             }
            },
            "type": "table"
           }
          ]
         },
         "layout": {
          "annotationdefaults": {
           "arrowcolor": "#2a3f5f",
           "arrowhead": 0,
           "arrowwidth": 1
          },
          "autotypenumbers": "strict",
          "coloraxis": {
           "colorbar": {
            "outlinewidth": 0,
            "ticks": ""
           }
          },
          "colorscale": {
           "diverging": [
            [
             0,
             "#8e0152"
            ],
            [
             0.1,
             "#c51b7d"
            ],
            [
             0.2,
             "#de77ae"
            ],
            [
             0.3,
             "#f1b6da"
            ],
            [
             0.4,
             "#fde0ef"
            ],
            [
             0.5,
             "#f7f7f7"
            ],
            [
             0.6,
             "#e6f5d0"
            ],
            [
             0.7,
             "#b8e186"
            ],
            [
             0.8,
             "#7fbc41"
            ],
            [
             0.9,
             "#4d9221"
            ],
            [
             1,
             "#276419"
            ]
           ],
           "sequential": [
            [
             0,
             "#0d0887"
            ],
            [
             0.1111111111111111,
             "#46039f"
            ],
            [
             0.2222222222222222,
             "#7201a8"
            ],
            [
             0.3333333333333333,
             "#9c179e"
            ],
            [
             0.4444444444444444,
             "#bd3786"
            ],
            [
             0.5555555555555556,
             "#d8576b"
            ],
            [
             0.6666666666666666,
             "#ed7953"
            ],
            [
             0.7777777777777778,
             "#fb9f3a"
            ],
            [
             0.8888888888888888,
             "#fdca26"
            ],
            [
             1,
             "#f0f921"
            ]
           ],
           "sequentialminus": [
            [
             0,
             "#0d0887"
            ],
            [
             0.1111111111111111,
             "#46039f"
            ],
            [
             0.2222222222222222,
             "#7201a8"
            ],
            [
             0.3333333333333333,
             "#9c179e"
            ],
            [
             0.4444444444444444,
             "#bd3786"
            ],
            [
             0.5555555555555556,
             "#d8576b"
            ],
            [
             0.6666666666666666,
             "#ed7953"
            ],
            [
             0.7777777777777778,
             "#fb9f3a"
            ],
            [
             0.8888888888888888,
             "#fdca26"
            ],
            [
             1,
             "#f0f921"
            ]
           ]
          },
          "colorway": [
           "#636efa",
           "#EF553B",
           "#00cc96",
           "#ab63fa",
           "#FFA15A",
           "#19d3f3",
           "#FF6692",
           "#B6E880",
           "#FF97FF",
           "#FECB52"
          ],
          "font": {
           "color": "#2a3f5f"
          },
          "geo": {
           "bgcolor": "white",
           "lakecolor": "white",
           "landcolor": "#E5ECF6",
           "showlakes": true,
           "showland": true,
           "subunitcolor": "white"
          },
          "hoverlabel": {
           "align": "left"
          },
          "hovermode": "closest",
          "mapbox": {
           "style": "light"
          },
          "paper_bgcolor": "white",
          "plot_bgcolor": "#E5ECF6",
          "polar": {
           "angularaxis": {
            "gridcolor": "white",
            "linecolor": "white",
            "ticks": ""
           },
           "bgcolor": "#E5ECF6",
           "radialaxis": {
            "gridcolor": "white",
            "linecolor": "white",
            "ticks": ""
           }
          },
          "scene": {
           "xaxis": {
            "backgroundcolor": "#E5ECF6",
            "gridcolor": "white",
            "gridwidth": 2,
            "linecolor": "white",
            "showbackground": true,
            "ticks": "",
            "zerolinecolor": "white"
           },
           "yaxis": {
            "backgroundcolor": "#E5ECF6",
            "gridcolor": "white",
            "gridwidth": 2,
            "linecolor": "white",
            "showbackground": true,
            "ticks": "",
            "zerolinecolor": "white"
           },
           "zaxis": {
            "backgroundcolor": "#E5ECF6",
            "gridcolor": "white",
            "gridwidth": 2,
            "linecolor": "white",
            "showbackground": true,
            "ticks": "",
            "zerolinecolor": "white"
           }
          },
          "shapedefaults": {
           "line": {
            "color": "#2a3f5f"
           }
          },
          "ternary": {
           "aaxis": {
            "gridcolor": "white",
            "linecolor": "white",
            "ticks": ""
           },
           "baxis": {
            "gridcolor": "white",
            "linecolor": "white",
            "ticks": ""
           },
           "bgcolor": "#E5ECF6",
           "caxis": {
            "gridcolor": "white",
            "linecolor": "white",
            "ticks": ""
           }
          },
          "title": {
           "x": 0.05
          },
          "xaxis": {
           "automargin": true,
           "gridcolor": "white",
           "linecolor": "white",
           "ticks": "",
           "title": {
            "standoff": 15
           },
           "zerolinecolor": "white",
           "zerolinewidth": 2
          },
          "yaxis": {
           "automargin": true,
           "gridcolor": "white",
           "linecolor": "white",
           "ticks": "",
           "title": {
            "standoff": 15
           },
           "zerolinecolor": "white",
           "zerolinewidth": 2
          }
         }
        },
        "title": {
         "text": "Cantidad de Establecimientos con Ofertas Especiales por Municipio"
        },
        "xaxis": {
         "anchor": "y",
         "domain": [
          0,
          1
         ],
         "title": {
          "text": "Municipio"
         }
        },
        "yaxis": {
         "anchor": "x",
         "domain": [
          0,
          1
         ],
         "title": {
          "text": "Número de Establecimientos"
         }
        }
       }
      }
     },
     "metadata": {},
     "output_type": "display_data"
    }
   ],
   "source": [
    "def tiene_ofertas_especiales(menu):\n",
    "    if isinstance(menu, dict): # Ver si menu es un diccionario\n",
    "        if isinstance(menu.get('special_offers'), list) and menu['special_offers']:#Ver si special offers es una list y no está vacía\n",
    "            return True\n",
    "    return False\n",
    "\n",
    "df['with_special_offers'] = df['menu'].apply(tiene_ofertas_especiales)\n",
    "resultados = df[df['with_special_offers']].groupby('district').size().reset_index(name='count')\n",
    "\n",
    "fig = px.bar(resultados, \n",
    "            x='district', \n",
    "            y='count', \n",
    "            color='count', \n",
    "            barmode='group',\n",
    "            title='Cantidad de Establecimientos con Ofertas Especiales por Municipio',\n",
    "            labels={'district': 'Municipio', 'count': 'Número de Establecimientos'},\n",
    "            text='count') \n",
    "fig.show()"
   ]
  },
  {
   "cell_type": "markdown",
   "metadata": {},
   "source": [
    "¿Recuerdan que una de las primeras cosas que notamos es que el tipo de establecimiento más común eran los restaurantes? Estos representaban el 62.2% del total analizado. Su diferencia con un bar-restaurante es que no ofrecen una carta tan amplia de bebidas alcohólicas, sino que se enfocan más en la variedad de comida, por lo tanto sería interesante preguntarse cuántos restaurantes tienen al menos una bebida alcohólica en sus cartas. Haciendo este análisis por municipio se puede comparar como varía esta caracterítica de los restaurantes en cada uno de ellos."
   ]
  },
  {
   "cell_type": "code",
   "execution_count": 21,
   "metadata": {},
   "outputs": [
    {
     "data": {
      "application/vnd.plotly.v1+json": {
       "config": {
        "plotlyServerURL": "https://plot.ly"
       },
       "data": [
        {
         "alignmentgroup": "True",
         "hovertemplate": "Municipio=%{x}<br>Número de Restaurantes=%{marker.color}<extra></extra>",
         "legendgroup": "",
         "marker": {
          "color": [
           5,
           3,
           14,
           2,
           3,
           6,
           3,
           3,
           1,
           9,
           11,
           1
          ],
          "coloraxis": "coloraxis",
          "pattern": {
           "shape": ""
          }
         },
         "name": "",
         "offsetgroup": "",
         "orientation": "v",
         "showlegend": false,
         "text": [
          5,
          3,
          14,
          2,
          3,
          6,
          3,
          3,
          1,
          9,
          11,
          1
         ],
         "textposition": "auto",
         "type": "bar",
         "x": [
          "Arroyo Naranjo",
          "Boyeros",
          "Centro Habana",
          "Cotorro",
          "Diez de Octubre",
          "Guanabacoa",
          "Habana del Este",
          "La Lisa",
          "Marianao",
          "Playa",
          "Plaza de la Revolución",
          "Regla"
         ],
         "xaxis": "x",
         "y": [
          5,
          3,
          14,
          2,
          3,
          6,
          3,
          3,
          1,
          9,
          11,
          1
         ],
         "yaxis": "y"
        }
       ],
       "layout": {
        "barmode": "group",
        "coloraxis": {
         "colorbar": {
          "title": {
           "text": "Número de Restaurantes"
          }
         },
         "colorscale": [
          [
           0,
           "#0d0887"
          ],
          [
           0.1111111111111111,
           "#46039f"
          ],
          [
           0.2222222222222222,
           "#7201a8"
          ],
          [
           0.3333333333333333,
           "#9c179e"
          ],
          [
           0.4444444444444444,
           "#bd3786"
          ],
          [
           0.5555555555555556,
           "#d8576b"
          ],
          [
           0.6666666666666666,
           "#ed7953"
          ],
          [
           0.7777777777777778,
           "#fb9f3a"
          ],
          [
           0.8888888888888888,
           "#fdca26"
          ],
          [
           1,
           "#f0f921"
          ]
         ]
        },
        "legend": {
         "tracegroupgap": 0
        },
        "template": {
         "data": {
          "bar": [
           {
            "error_x": {
             "color": "#2a3f5f"
            },
            "error_y": {
             "color": "#2a3f5f"
            },
            "marker": {
             "line": {
              "color": "#E5ECF6",
              "width": 0.5
             },
             "pattern": {
              "fillmode": "overlay",
              "size": 10,
              "solidity": 0.2
             }
            },
            "type": "bar"
           }
          ],
          "barpolar": [
           {
            "marker": {
             "line": {
              "color": "#E5ECF6",
              "width": 0.5
             },
             "pattern": {
              "fillmode": "overlay",
              "size": 10,
              "solidity": 0.2
             }
            },
            "type": "barpolar"
           }
          ],
          "carpet": [
           {
            "aaxis": {
             "endlinecolor": "#2a3f5f",
             "gridcolor": "white",
             "linecolor": "white",
             "minorgridcolor": "white",
             "startlinecolor": "#2a3f5f"
            },
            "baxis": {
             "endlinecolor": "#2a3f5f",
             "gridcolor": "white",
             "linecolor": "white",
             "minorgridcolor": "white",
             "startlinecolor": "#2a3f5f"
            },
            "type": "carpet"
           }
          ],
          "choropleth": [
           {
            "colorbar": {
             "outlinewidth": 0,
             "ticks": ""
            },
            "type": "choropleth"
           }
          ],
          "contour": [
           {
            "colorbar": {
             "outlinewidth": 0,
             "ticks": ""
            },
            "colorscale": [
             [
              0,
              "#0d0887"
             ],
             [
              0.1111111111111111,
              "#46039f"
             ],
             [
              0.2222222222222222,
              "#7201a8"
             ],
             [
              0.3333333333333333,
              "#9c179e"
             ],
             [
              0.4444444444444444,
              "#bd3786"
             ],
             [
              0.5555555555555556,
              "#d8576b"
             ],
             [
              0.6666666666666666,
              "#ed7953"
             ],
             [
              0.7777777777777778,
              "#fb9f3a"
             ],
             [
              0.8888888888888888,
              "#fdca26"
             ],
             [
              1,
              "#f0f921"
             ]
            ],
            "type": "contour"
           }
          ],
          "contourcarpet": [
           {
            "colorbar": {
             "outlinewidth": 0,
             "ticks": ""
            },
            "type": "contourcarpet"
           }
          ],
          "heatmap": [
           {
            "colorbar": {
             "outlinewidth": 0,
             "ticks": ""
            },
            "colorscale": [
             [
              0,
              "#0d0887"
             ],
             [
              0.1111111111111111,
              "#46039f"
             ],
             [
              0.2222222222222222,
              "#7201a8"
             ],
             [
              0.3333333333333333,
              "#9c179e"
             ],
             [
              0.4444444444444444,
              "#bd3786"
             ],
             [
              0.5555555555555556,
              "#d8576b"
             ],
             [
              0.6666666666666666,
              "#ed7953"
             ],
             [
              0.7777777777777778,
              "#fb9f3a"
             ],
             [
              0.8888888888888888,
              "#fdca26"
             ],
             [
              1,
              "#f0f921"
             ]
            ],
            "type": "heatmap"
           }
          ],
          "heatmapgl": [
           {
            "colorbar": {
             "outlinewidth": 0,
             "ticks": ""
            },
            "colorscale": [
             [
              0,
              "#0d0887"
             ],
             [
              0.1111111111111111,
              "#46039f"
             ],
             [
              0.2222222222222222,
              "#7201a8"
             ],
             [
              0.3333333333333333,
              "#9c179e"
             ],
             [
              0.4444444444444444,
              "#bd3786"
             ],
             [
              0.5555555555555556,
              "#d8576b"
             ],
             [
              0.6666666666666666,
              "#ed7953"
             ],
             [
              0.7777777777777778,
              "#fb9f3a"
             ],
             [
              0.8888888888888888,
              "#fdca26"
             ],
             [
              1,
              "#f0f921"
             ]
            ],
            "type": "heatmapgl"
           }
          ],
          "histogram": [
           {
            "marker": {
             "pattern": {
              "fillmode": "overlay",
              "size": 10,
              "solidity": 0.2
             }
            },
            "type": "histogram"
           }
          ],
          "histogram2d": [
           {
            "colorbar": {
             "outlinewidth": 0,
             "ticks": ""
            },
            "colorscale": [
             [
              0,
              "#0d0887"
             ],
             [
              0.1111111111111111,
              "#46039f"
             ],
             [
              0.2222222222222222,
              "#7201a8"
             ],
             [
              0.3333333333333333,
              "#9c179e"
             ],
             [
              0.4444444444444444,
              "#bd3786"
             ],
             [
              0.5555555555555556,
              "#d8576b"
             ],
             [
              0.6666666666666666,
              "#ed7953"
             ],
             [
              0.7777777777777778,
              "#fb9f3a"
             ],
             [
              0.8888888888888888,
              "#fdca26"
             ],
             [
              1,
              "#f0f921"
             ]
            ],
            "type": "histogram2d"
           }
          ],
          "histogram2dcontour": [
           {
            "colorbar": {
             "outlinewidth": 0,
             "ticks": ""
            },
            "colorscale": [
             [
              0,
              "#0d0887"
             ],
             [
              0.1111111111111111,
              "#46039f"
             ],
             [
              0.2222222222222222,
              "#7201a8"
             ],
             [
              0.3333333333333333,
              "#9c179e"
             ],
             [
              0.4444444444444444,
              "#bd3786"
             ],
             [
              0.5555555555555556,
              "#d8576b"
             ],
             [
              0.6666666666666666,
              "#ed7953"
             ],
             [
              0.7777777777777778,
              "#fb9f3a"
             ],
             [
              0.8888888888888888,
              "#fdca26"
             ],
             [
              1,
              "#f0f921"
             ]
            ],
            "type": "histogram2dcontour"
           }
          ],
          "mesh3d": [
           {
            "colorbar": {
             "outlinewidth": 0,
             "ticks": ""
            },
            "type": "mesh3d"
           }
          ],
          "parcoords": [
           {
            "line": {
             "colorbar": {
              "outlinewidth": 0,
              "ticks": ""
             }
            },
            "type": "parcoords"
           }
          ],
          "pie": [
           {
            "automargin": true,
            "type": "pie"
           }
          ],
          "scatter": [
           {
            "fillpattern": {
             "fillmode": "overlay",
             "size": 10,
             "solidity": 0.2
            },
            "type": "scatter"
           }
          ],
          "scatter3d": [
           {
            "line": {
             "colorbar": {
              "outlinewidth": 0,
              "ticks": ""
             }
            },
            "marker": {
             "colorbar": {
              "outlinewidth": 0,
              "ticks": ""
             }
            },
            "type": "scatter3d"
           }
          ],
          "scattercarpet": [
           {
            "marker": {
             "colorbar": {
              "outlinewidth": 0,
              "ticks": ""
             }
            },
            "type": "scattercarpet"
           }
          ],
          "scattergeo": [
           {
            "marker": {
             "colorbar": {
              "outlinewidth": 0,
              "ticks": ""
             }
            },
            "type": "scattergeo"
           }
          ],
          "scattergl": [
           {
            "marker": {
             "colorbar": {
              "outlinewidth": 0,
              "ticks": ""
             }
            },
            "type": "scattergl"
           }
          ],
          "scattermapbox": [
           {
            "marker": {
             "colorbar": {
              "outlinewidth": 0,
              "ticks": ""
             }
            },
            "type": "scattermapbox"
           }
          ],
          "scatterpolar": [
           {
            "marker": {
             "colorbar": {
              "outlinewidth": 0,
              "ticks": ""
             }
            },
            "type": "scatterpolar"
           }
          ],
          "scatterpolargl": [
           {
            "marker": {
             "colorbar": {
              "outlinewidth": 0,
              "ticks": ""
             }
            },
            "type": "scatterpolargl"
           }
          ],
          "scatterternary": [
           {
            "marker": {
             "colorbar": {
              "outlinewidth": 0,
              "ticks": ""
             }
            },
            "type": "scatterternary"
           }
          ],
          "surface": [
           {
            "colorbar": {
             "outlinewidth": 0,
             "ticks": ""
            },
            "colorscale": [
             [
              0,
              "#0d0887"
             ],
             [
              0.1111111111111111,
              "#46039f"
             ],
             [
              0.2222222222222222,
              "#7201a8"
             ],
             [
              0.3333333333333333,
              "#9c179e"
             ],
             [
              0.4444444444444444,
              "#bd3786"
             ],
             [
              0.5555555555555556,
              "#d8576b"
             ],
             [
              0.6666666666666666,
              "#ed7953"
             ],
             [
              0.7777777777777778,
              "#fb9f3a"
             ],
             [
              0.8888888888888888,
              "#fdca26"
             ],
             [
              1,
              "#f0f921"
             ]
            ],
            "type": "surface"
           }
          ],
          "table": [
           {
            "cells": {
             "fill": {
              "color": "#EBF0F8"
             },
             "line": {
              "color": "white"
             }
            },
            "header": {
             "fill": {
              "color": "#C8D4E3"
             },
             "line": {
              "color": "white"
             }
            },
            "type": "table"
           }
          ]
         },
         "layout": {
          "annotationdefaults": {
           "arrowcolor": "#2a3f5f",
           "arrowhead": 0,
           "arrowwidth": 1
          },
          "autotypenumbers": "strict",
          "coloraxis": {
           "colorbar": {
            "outlinewidth": 0,
            "ticks": ""
           }
          },
          "colorscale": {
           "diverging": [
            [
             0,
             "#8e0152"
            ],
            [
             0.1,
             "#c51b7d"
            ],
            [
             0.2,
             "#de77ae"
            ],
            [
             0.3,
             "#f1b6da"
            ],
            [
             0.4,
             "#fde0ef"
            ],
            [
             0.5,
             "#f7f7f7"
            ],
            [
             0.6,
             "#e6f5d0"
            ],
            [
             0.7,
             "#b8e186"
            ],
            [
             0.8,
             "#7fbc41"
            ],
            [
             0.9,
             "#4d9221"
            ],
            [
             1,
             "#276419"
            ]
           ],
           "sequential": [
            [
             0,
             "#0d0887"
            ],
            [
             0.1111111111111111,
             "#46039f"
            ],
            [
             0.2222222222222222,
             "#7201a8"
            ],
            [
             0.3333333333333333,
             "#9c179e"
            ],
            [
             0.4444444444444444,
             "#bd3786"
            ],
            [
             0.5555555555555556,
             "#d8576b"
            ],
            [
             0.6666666666666666,
             "#ed7953"
            ],
            [
             0.7777777777777778,
             "#fb9f3a"
            ],
            [
             0.8888888888888888,
             "#fdca26"
            ],
            [
             1,
             "#f0f921"
            ]
           ],
           "sequentialminus": [
            [
             0,
             "#0d0887"
            ],
            [
             0.1111111111111111,
             "#46039f"
            ],
            [
             0.2222222222222222,
             "#7201a8"
            ],
            [
             0.3333333333333333,
             "#9c179e"
            ],
            [
             0.4444444444444444,
             "#bd3786"
            ],
            [
             0.5555555555555556,
             "#d8576b"
            ],
            [
             0.6666666666666666,
             "#ed7953"
            ],
            [
             0.7777777777777778,
             "#fb9f3a"
            ],
            [
             0.8888888888888888,
             "#fdca26"
            ],
            [
             1,
             "#f0f921"
            ]
           ]
          },
          "colorway": [
           "#636efa",
           "#EF553B",
           "#00cc96",
           "#ab63fa",
           "#FFA15A",
           "#19d3f3",
           "#FF6692",
           "#B6E880",
           "#FF97FF",
           "#FECB52"
          ],
          "font": {
           "color": "#2a3f5f"
          },
          "geo": {
           "bgcolor": "white",
           "lakecolor": "white",
           "landcolor": "#E5ECF6",
           "showlakes": true,
           "showland": true,
           "subunitcolor": "white"
          },
          "hoverlabel": {
           "align": "left"
          },
          "hovermode": "closest",
          "mapbox": {
           "style": "light"
          },
          "paper_bgcolor": "white",
          "plot_bgcolor": "#E5ECF6",
          "polar": {
           "angularaxis": {
            "gridcolor": "white",
            "linecolor": "white",
            "ticks": ""
           },
           "bgcolor": "#E5ECF6",
           "radialaxis": {
            "gridcolor": "white",
            "linecolor": "white",
            "ticks": ""
           }
          },
          "scene": {
           "xaxis": {
            "backgroundcolor": "#E5ECF6",
            "gridcolor": "white",
            "gridwidth": 2,
            "linecolor": "white",
            "showbackground": true,
            "ticks": "",
            "zerolinecolor": "white"
           },
           "yaxis": {
            "backgroundcolor": "#E5ECF6",
            "gridcolor": "white",
            "gridwidth": 2,
            "linecolor": "white",
            "showbackground": true,
            "ticks": "",
            "zerolinecolor": "white"
           },
           "zaxis": {
            "backgroundcolor": "#E5ECF6",
            "gridcolor": "white",
            "gridwidth": 2,
            "linecolor": "white",
            "showbackground": true,
            "ticks": "",
            "zerolinecolor": "white"
           }
          },
          "shapedefaults": {
           "line": {
            "color": "#2a3f5f"
           }
          },
          "ternary": {
           "aaxis": {
            "gridcolor": "white",
            "linecolor": "white",
            "ticks": ""
           },
           "baxis": {
            "gridcolor": "white",
            "linecolor": "white",
            "ticks": ""
           },
           "bgcolor": "#E5ECF6",
           "caxis": {
            "gridcolor": "white",
            "linecolor": "white",
            "ticks": ""
           }
          },
          "title": {
           "x": 0.05
          },
          "xaxis": {
           "automargin": true,
           "gridcolor": "white",
           "linecolor": "white",
           "ticks": "",
           "title": {
            "standoff": 15
           },
           "zerolinecolor": "white",
           "zerolinewidth": 2
          },
          "yaxis": {
           "automargin": true,
           "gridcolor": "white",
           "linecolor": "white",
           "ticks": "",
           "title": {
            "standoff": 15
           },
           "zerolinecolor": "white",
           "zerolinewidth": 2
          }
         }
        },
        "title": {
         "text": "Cantidad de Restaurantes que Ofrecen Alcohol por Municipio"
        },
        "xaxis": {
         "anchor": "y",
         "domain": [
          0,
          1
         ],
         "title": {
          "text": "Municipio"
         }
        },
        "yaxis": {
         "anchor": "x",
         "domain": [
          0,
          1
         ],
         "title": {
          "text": "Número de Restaurantes"
         }
        }
       }
      }
     },
     "metadata": {},
     "output_type": "display_data"
    }
   ],
   "source": [
    "df_restaurantes = df[df['type_of_establishment'] == 'restaurante']\n",
    "def tiene_alcohol(menu):\n",
    "    if isinstance(menu.get('drinks'), dict): #Ver si 'drinks' es un dict y contiene 'alcoholic' \n",
    "        alcoholic = menu['drinks'].get('alcoholic') #Ver si 'alcoholic' es una lista y tiene elementos\n",
    "        if isinstance(alcoholic, list):\n",
    "            return len(alcoholic) > 0  # Retorna True si hay elementos en la lista\n",
    "        elif isinstance(alcoholic, bool):\n",
    "            return alcoholic\n",
    "    return False\n",
    "\n",
    "df_restaurantes['with_alcohol'] = df_restaurantes['menu'].apply(tiene_alcohol)\n",
    "resultados_alcohol = df_restaurantes[df_restaurantes['with_alcohol']].groupby('district').size().reset_index(name='count')\n",
    "\n",
    "fig_alcohol = px.bar(resultados_alcohol, \n",
    "                    x='district', \n",
    "                    y='count', \n",
    "                    color='count', \n",
    "                    barmode='group',\n",
    "                    title='Cantidad de Restaurantes que Ofrecen Alcohol por Municipio',\n",
    "                    labels={'district': 'Municipio', 'count': 'Número de Restaurantes'},\n",
    "                    text='count')\n",
    "fig_alcohol.show()"
   ]
  },
  {
   "cell_type": "markdown",
   "metadata": {},
   "source": [
    "Otro análisis que les pareció revelador fue ver cuál era el plato más costoso y menos costoso por municipio.\n",
    "\n",
    "— Esto nos dará una perspectiva clara sobre la diversidad económica de la gastronomía en los distintos lugares de La Habana.-expresó Ana con entusiasmo.\n",
    "\n",
    "— Exacto. El plato más caro puede indicar un enfoque hacia una experiencia gastronómica única, mientras que el más barato puede mostrar opciones accesibles para toda la población.-enfatizó Luis."
   ]
  },
  {
   "cell_type": "code",
   "execution_count": null,
   "metadata": {},
   "outputs": [
    {
     "data": {
      "application/vnd.plotly.v1+json": {
       "config": {
        "plotlyServerURL": "https://plot.ly"
       },
       "data": [
        {
         "alignmentgroup": "True",
         "hovertemplate": "Municipio=%{x}<br>Precio=%{marker.color}<br>platillo_mas_costoso=%{text}<extra></extra>",
         "legendgroup": "",
         "marker": {
          "color": [
           9500,
           5700,
           14000,
           5420,
           4500,
           6600,
           4500,
           1200,
           10500,
           8500,
           19200,
           3800,
           30000,
           14500,
           4950,
           7000
          ],
          "coloraxis": "coloraxis",
          "pattern": {
           "shape": ""
          }
         },
         "name": "",
         "offsetgroup": "",
         "orientation": "v",
         "showlegend": false,
         "text": [
          "pechugón ATLANTA",
          "langosta variada",
          "pizza de jamón serrano, rúcula y parmesano",
          "hamburguesa brutal",
          "pizza café crystal",
          "pollo relleno (jamón y queso)",
          "camarones enchilados",
          "gambas al grill",
          "langosta aires de cojimar",
          "lomo al carbon / pork loin on the coal",
          "tomahawk steak",
          "pescado rebosado",
          "trio de fantasia",
          "brasa patagonia",
          "tacos res",
          "bistec de pollo empanado"
         ],
         "textposition": "auto",
         "type": "bar",
         "x": [
          "Arroyo Naranjo",
          "Boyeros",
          "Centro Habana",
          "Cerro",
          "Cotorro",
          "Diez de Octubre",
          "Guanabacoa",
          "Habana Del Este",
          "Habana del Este",
          "La Habana Vieja",
          "La Lisa",
          "Marianao",
          "Playa",
          "Plaza de la Revolución",
          "Regla",
          "San Miguel del Padrón"
         ],
         "xaxis": "x",
         "y": [
          9500,
          5700,
          14000,
          5420,
          4500,
          6600,
          4500,
          1200,
          10500,
          8500,
          19200,
          3800,
          30000,
          14500,
          4950,
          7000
         ],
         "yaxis": "y"
        }
       ],
       "layout": {
        "barmode": "relative",
        "coloraxis": {
         "colorbar": {
          "title": {
           "text": "Precio"
          }
         },
         "colorscale": [
          [
           0,
           "#440154"
          ],
          [
           0.1111111111111111,
           "#482878"
          ],
          [
           0.2222222222222222,
           "#3e4989"
          ],
          [
           0.3333333333333333,
           "#31688e"
          ],
          [
           0.4444444444444444,
           "#26828e"
          ],
          [
           0.5555555555555556,
           "#1f9e89"
          ],
          [
           0.6666666666666666,
           "#35b779"
          ],
          [
           0.7777777777777778,
           "#6ece58"
          ],
          [
           0.8888888888888888,
           "#b5de2b"
          ],
          [
           1,
           "#fde725"
          ]
         ]
        },
        "legend": {
         "tracegroupgap": 0
        },
        "template": {
         "data": {
          "bar": [
           {
            "error_x": {
             "color": "#2a3f5f"
            },
            "error_y": {
             "color": "#2a3f5f"
            },
            "marker": {
             "line": {
              "color": "#E5ECF6",
              "width": 0.5
             },
             "pattern": {
              "fillmode": "overlay",
              "size": 10,
              "solidity": 0.2
             }
            },
            "type": "bar"
           }
          ],
          "barpolar": [
           {
            "marker": {
             "line": {
              "color": "#E5ECF6",
              "width": 0.5
             },
             "pattern": {
              "fillmode": "overlay",
              "size": 10,
              "solidity": 0.2
             }
            },
            "type": "barpolar"
           }
          ],
          "carpet": [
           {
            "aaxis": {
             "endlinecolor": "#2a3f5f",
             "gridcolor": "white",
             "linecolor": "white",
             "minorgridcolor": "white",
             "startlinecolor": "#2a3f5f"
            },
            "baxis": {
             "endlinecolor": "#2a3f5f",
             "gridcolor": "white",
             "linecolor": "white",
             "minorgridcolor": "white",
             "startlinecolor": "#2a3f5f"
            },
            "type": "carpet"
           }
          ],
          "choropleth": [
           {
            "colorbar": {
             "outlinewidth": 0,
             "ticks": ""
            },
            "type": "choropleth"
           }
          ],
          "contour": [
           {
            "colorbar": {
             "outlinewidth": 0,
             "ticks": ""
            },
            "colorscale": [
             [
              0,
              "#0d0887"
             ],
             [
              0.1111111111111111,
              "#46039f"
             ],
             [
              0.2222222222222222,
              "#7201a8"
             ],
             [
              0.3333333333333333,
              "#9c179e"
             ],
             [
              0.4444444444444444,
              "#bd3786"
             ],
             [
              0.5555555555555556,
              "#d8576b"
             ],
             [
              0.6666666666666666,
              "#ed7953"
             ],
             [
              0.7777777777777778,
              "#fb9f3a"
             ],
             [
              0.8888888888888888,
              "#fdca26"
             ],
             [
              1,
              "#f0f921"
             ]
            ],
            "type": "contour"
           }
          ],
          "contourcarpet": [
           {
            "colorbar": {
             "outlinewidth": 0,
             "ticks": ""
            },
            "type": "contourcarpet"
           }
          ],
          "heatmap": [
           {
            "colorbar": {
             "outlinewidth": 0,
             "ticks": ""
            },
            "colorscale": [
             [
              0,
              "#0d0887"
             ],
             [
              0.1111111111111111,
              "#46039f"
             ],
             [
              0.2222222222222222,
              "#7201a8"
             ],
             [
              0.3333333333333333,
              "#9c179e"
             ],
             [
              0.4444444444444444,
              "#bd3786"
             ],
             [
              0.5555555555555556,
              "#d8576b"
             ],
             [
              0.6666666666666666,
              "#ed7953"
             ],
             [
              0.7777777777777778,
              "#fb9f3a"
             ],
             [
              0.8888888888888888,
              "#fdca26"
             ],
             [
              1,
              "#f0f921"
             ]
            ],
            "type": "heatmap"
           }
          ],
          "heatmapgl": [
           {
            "colorbar": {
             "outlinewidth": 0,
             "ticks": ""
            },
            "colorscale": [
             [
              0,
              "#0d0887"
             ],
             [
              0.1111111111111111,
              "#46039f"
             ],
             [
              0.2222222222222222,
              "#7201a8"
             ],
             [
              0.3333333333333333,
              "#9c179e"
             ],
             [
              0.4444444444444444,
              "#bd3786"
             ],
             [
              0.5555555555555556,
              "#d8576b"
             ],
             [
              0.6666666666666666,
              "#ed7953"
             ],
             [
              0.7777777777777778,
              "#fb9f3a"
             ],
             [
              0.8888888888888888,
              "#fdca26"
             ],
             [
              1,
              "#f0f921"
             ]
            ],
            "type": "heatmapgl"
           }
          ],
          "histogram": [
           {
            "marker": {
             "pattern": {
              "fillmode": "overlay",
              "size": 10,
              "solidity": 0.2
             }
            },
            "type": "histogram"
           }
          ],
          "histogram2d": [
           {
            "colorbar": {
             "outlinewidth": 0,
             "ticks": ""
            },
            "colorscale": [
             [
              0,
              "#0d0887"
             ],
             [
              0.1111111111111111,
              "#46039f"
             ],
             [
              0.2222222222222222,
              "#7201a8"
             ],
             [
              0.3333333333333333,
              "#9c179e"
             ],
             [
              0.4444444444444444,
              "#bd3786"
             ],
             [
              0.5555555555555556,
              "#d8576b"
             ],
             [
              0.6666666666666666,
              "#ed7953"
             ],
             [
              0.7777777777777778,
              "#fb9f3a"
             ],
             [
              0.8888888888888888,
              "#fdca26"
             ],
             [
              1,
              "#f0f921"
             ]
            ],
            "type": "histogram2d"
           }
          ],
          "histogram2dcontour": [
           {
            "colorbar": {
             "outlinewidth": 0,
             "ticks": ""
            },
            "colorscale": [
             [
              0,
              "#0d0887"
             ],
             [
              0.1111111111111111,
              "#46039f"
             ],
             [
              0.2222222222222222,
              "#7201a8"
             ],
             [
              0.3333333333333333,
              "#9c179e"
             ],
             [
              0.4444444444444444,
              "#bd3786"
             ],
             [
              0.5555555555555556,
              "#d8576b"
             ],
             [
              0.6666666666666666,
              "#ed7953"
             ],
             [
              0.7777777777777778,
              "#fb9f3a"
             ],
             [
              0.8888888888888888,
              "#fdca26"
             ],
             [
              1,
              "#f0f921"
             ]
            ],
            "type": "histogram2dcontour"
           }
          ],
          "mesh3d": [
           {
            "colorbar": {
             "outlinewidth": 0,
             "ticks": ""
            },
            "type": "mesh3d"
           }
          ],
          "parcoords": [
           {
            "line": {
             "colorbar": {
              "outlinewidth": 0,
              "ticks": ""
             }
            },
            "type": "parcoords"
           }
          ],
          "pie": [
           {
            "automargin": true,
            "type": "pie"
           }
          ],
          "scatter": [
           {
            "fillpattern": {
             "fillmode": "overlay",
             "size": 10,
             "solidity": 0.2
            },
            "type": "scatter"
           }
          ],
          "scatter3d": [
           {
            "line": {
             "colorbar": {
              "outlinewidth": 0,
              "ticks": ""
             }
            },
            "marker": {
             "colorbar": {
              "outlinewidth": 0,
              "ticks": ""
             }
            },
            "type": "scatter3d"
           }
          ],
          "scattercarpet": [
           {
            "marker": {
             "colorbar": {
              "outlinewidth": 0,
              "ticks": ""
             }
            },
            "type": "scattercarpet"
           }
          ],
          "scattergeo": [
           {
            "marker": {
             "colorbar": {
              "outlinewidth": 0,
              "ticks": ""
             }
            },
            "type": "scattergeo"
           }
          ],
          "scattergl": [
           {
            "marker": {
             "colorbar": {
              "outlinewidth": 0,
              "ticks": ""
             }
            },
            "type": "scattergl"
           }
          ],
          "scattermapbox": [
           {
            "marker": {
             "colorbar": {
              "outlinewidth": 0,
              "ticks": ""
             }
            },
            "type": "scattermapbox"
           }
          ],
          "scatterpolar": [
           {
            "marker": {
             "colorbar": {
              "outlinewidth": 0,
              "ticks": ""
             }
            },
            "type": "scatterpolar"
           }
          ],
          "scatterpolargl": [
           {
            "marker": {
             "colorbar": {
              "outlinewidth": 0,
              "ticks": ""
             }
            },
            "type": "scatterpolargl"
           }
          ],
          "scatterternary": [
           {
            "marker": {
             "colorbar": {
              "outlinewidth": 0,
              "ticks": ""
             }
            },
            "type": "scatterternary"
           }
          ],
          "surface": [
           {
            "colorbar": {
             "outlinewidth": 0,
             "ticks": ""
            },
            "colorscale": [
             [
              0,
              "#0d0887"
             ],
             [
              0.1111111111111111,
              "#46039f"
             ],
             [
              0.2222222222222222,
              "#7201a8"
             ],
             [
              0.3333333333333333,
              "#9c179e"
             ],
             [
              0.4444444444444444,
              "#bd3786"
             ],
             [
              0.5555555555555556,
              "#d8576b"
             ],
             [
              0.6666666666666666,
              "#ed7953"
             ],
             [
              0.7777777777777778,
              "#fb9f3a"
             ],
             [
              0.8888888888888888,
              "#fdca26"
             ],
             [
              1,
              "#f0f921"
             ]
            ],
            "type": "surface"
           }
          ],
          "table": [
           {
            "cells": {
             "fill": {
              "color": "#EBF0F8"
             },
             "line": {
              "color": "white"
             }
            },
            "header": {
             "fill": {
              "color": "#C8D4E3"
             },
             "line": {
              "color": "white"
             }
            },
            "type": "table"
           }
          ]
         },
         "layout": {
          "annotationdefaults": {
           "arrowcolor": "#2a3f5f",
           "arrowhead": 0,
           "arrowwidth": 1
          },
          "autotypenumbers": "strict",
          "coloraxis": {
           "colorbar": {
            "outlinewidth": 0,
            "ticks": ""
           }
          },
          "colorscale": {
           "diverging": [
            [
             0,
             "#8e0152"
            ],
            [
             0.1,
             "#c51b7d"
            ],
            [
             0.2,
             "#de77ae"
            ],
            [
             0.3,
             "#f1b6da"
            ],
            [
             0.4,
             "#fde0ef"
            ],
            [
             0.5,
             "#f7f7f7"
            ],
            [
             0.6,
             "#e6f5d0"
            ],
            [
             0.7,
             "#b8e186"
            ],
            [
             0.8,
             "#7fbc41"
            ],
            [
             0.9,
             "#4d9221"
            ],
            [
             1,
             "#276419"
            ]
           ],
           "sequential": [
            [
             0,
             "#0d0887"
            ],
            [
             0.1111111111111111,
             "#46039f"
            ],
            [
             0.2222222222222222,
             "#7201a8"
            ],
            [
             0.3333333333333333,
             "#9c179e"
            ],
            [
             0.4444444444444444,
             "#bd3786"
            ],
            [
             0.5555555555555556,
             "#d8576b"
            ],
            [
             0.6666666666666666,
             "#ed7953"
            ],
            [
             0.7777777777777778,
             "#fb9f3a"
            ],
            [
             0.8888888888888888,
             "#fdca26"
            ],
            [
             1,
             "#f0f921"
            ]
           ],
           "sequentialminus": [
            [
             0,
             "#0d0887"
            ],
            [
             0.1111111111111111,
             "#46039f"
            ],
            [
             0.2222222222222222,
             "#7201a8"
            ],
            [
             0.3333333333333333,
             "#9c179e"
            ],
            [
             0.4444444444444444,
             "#bd3786"
            ],
            [
             0.5555555555555556,
             "#d8576b"
            ],
            [
             0.6666666666666666,
             "#ed7953"
            ],
            [
             0.7777777777777778,
             "#fb9f3a"
            ],
            [
             0.8888888888888888,
             "#fdca26"
            ],
            [
             1,
             "#f0f921"
            ]
           ]
          },
          "colorway": [
           "#636efa",
           "#EF553B",
           "#00cc96",
           "#ab63fa",
           "#FFA15A",
           "#19d3f3",
           "#FF6692",
           "#B6E880",
           "#FF97FF",
           "#FECB52"
          ],
          "font": {
           "color": "#2a3f5f"
          },
          "geo": {
           "bgcolor": "white",
           "lakecolor": "white",
           "landcolor": "#E5ECF6",
           "showlakes": true,
           "showland": true,
           "subunitcolor": "white"
          },
          "hoverlabel": {
           "align": "left"
          },
          "hovermode": "closest",
          "mapbox": {
           "style": "light"
          },
          "paper_bgcolor": "white",
          "plot_bgcolor": "#E5ECF6",
          "polar": {
           "angularaxis": {
            "gridcolor": "white",
            "linecolor": "white",
            "ticks": ""
           },
           "bgcolor": "#E5ECF6",
           "radialaxis": {
            "gridcolor": "white",
            "linecolor": "white",
            "ticks": ""
           }
          },
          "scene": {
           "xaxis": {
            "backgroundcolor": "#E5ECF6",
            "gridcolor": "white",
            "gridwidth": 2,
            "linecolor": "white",
            "showbackground": true,
            "ticks": "",
            "zerolinecolor": "white"
           },
           "yaxis": {
            "backgroundcolor": "#E5ECF6",
            "gridcolor": "white",
            "gridwidth": 2,
            "linecolor": "white",
            "showbackground": true,
            "ticks": "",
            "zerolinecolor": "white"
           },
           "zaxis": {
            "backgroundcolor": "#E5ECF6",
            "gridcolor": "white",
            "gridwidth": 2,
            "linecolor": "white",
            "showbackground": true,
            "ticks": "",
            "zerolinecolor": "white"
           }
          },
          "shapedefaults": {
           "line": {
            "color": "#2a3f5f"
           }
          },
          "ternary": {
           "aaxis": {
            "gridcolor": "white",
            "linecolor": "white",
            "ticks": ""
           },
           "baxis": {
            "gridcolor": "white",
            "linecolor": "white",
            "ticks": ""
           },
           "bgcolor": "#E5ECF6",
           "caxis": {
            "gridcolor": "white",
            "linecolor": "white",
            "ticks": ""
           }
          },
          "title": {
           "x": 0.05
          },
          "xaxis": {
           "automargin": true,
           "gridcolor": "white",
           "linecolor": "white",
           "ticks": "",
           "title": {
            "standoff": 15
           },
           "zerolinecolor": "white",
           "zerolinewidth": 2
          },
          "yaxis": {
           "automargin": true,
           "gridcolor": "white",
           "linecolor": "white",
           "ticks": "",
           "title": {
            "standoff": 15
           },
           "zerolinecolor": "white",
           "zerolinewidth": 2
          }
         }
        },
        "title": {
         "text": "Platillos Más Costosos por Municipio"
        },
        "xaxis": {
         "anchor": "y",
         "domain": [
          0,
          1
         ],
         "title": {
          "text": "Municipio"
         }
        },
        "yaxis": {
         "anchor": "x",
         "domain": [
          0,
          1
         ],
         "title": {
          "text": "Precio"
         }
        }
       }
      }
     },
     "metadata": {},
     "output_type": "display_data"
    }
   ],
   "source": [
    "def platillo_mas_costoso(row):\n",
    "    if 'main_courses' in row['menu'] and isinstance(row['menu']['main_courses'], dict):\n",
    "        items = row['menu']['main_courses'].get('items', [])\n",
    "        if items:\n",
    "            max_precio = -1\n",
    "            platillo_costoso = None\n",
    "            for item in items:\n",
    "                precio_actual = item.get('price')\n",
    "                if precio_actual is not None and isinstance(precio_actual, (int, float)):\n",
    "                    precio_actual = float(precio_actual)  # Convertir a float\n",
    "                    if (item['price'], (int, float)):\n",
    "                        precio_actual = float(item['price'])\n",
    "                        if precio_actual > max_precio:\n",
    "                            max_precio = precio_actual\n",
    "                            platillo_costoso = item['name']\n",
    "            return platillo_costoso, max_precio\n",
    "    return None, 0\n",
    "\n",
    "df_copia = df.copy(deep=True)\n",
    "def aplicar_funcion(df_copia):\n",
    "    platillos = []\n",
    "    precios = []\n",
    "    for index, row in df_copia.iterrows():\n",
    "        platillo, precio = platillo_mas_costoso(row)\n",
    "        platillos.append(platillo)\n",
    "        precios.append(precio)\n",
    "\n",
    "    df_copia['platillo_mas_costoso'] = platillos\n",
    "    df_copia['precio'] = precios\n",
    "\n",
    "aplicar_funcion(df_copia)\n",
    "\n",
    "resultados = df_copia.groupby('district').agg({'platillo_mas_costoso': 'first', 'precio': 'max'}).reset_index()\n",
    "#print(resultados)\n",
    "\n",
    "fig = px.bar(resultados, \n",
    "            x='district', \n",
    "            y='precio', \n",
    "            color='precio',\n",
    "            text='platillo_mas_costoso',\n",
    "            title='Platillos Más Costosos por Municipio',\n",
    "            labels={'district': 'Municipio', 'precio': 'Precio'},\n",
    "            color_continuous_scale=px.colors.sequential.Viridis)\n",
    "fig.show()"
   ]
  },
  {
   "cell_type": "code",
   "execution_count": null,
   "metadata": {},
   "outputs": [
    {
     "data": {
      "application/vnd.plotly.v1+json": {
       "config": {
        "plotlyServerURL": "https://plot.ly"
       },
       "data": [
        {
         "alignmentgroup": "True",
         "hovertemplate": "Municipio=%{x}<br>Precio=%{marker.color}<br>platillo_menos_costoso=%{text}<extra></extra>",
         "legendgroup": "",
         "marker": {
          "color": [
           430,
           470,
           200,
           300,
           230,
           450,
           350,
           700,
           590,
           1000,
           700,
           200,
           250,
           420,
           500,
           300
          ],
          "coloraxis": "coloraxis",
          "pattern": {
           "shape": ""
          }
         },
         "name": "",
         "offsetgroup": "",
         "orientation": "v",
         "showlegend": false,
         "text": [
          "arroz frito",
          "pizza napolitana",
          "sándwich de vegetales",
          "hamburguesa sencilla",
          "pizza queso gouda",
          "sandwich de pollo",
          "lomo ahumado",
          "pollo grille",
          "costillas de cerdo fritas",
          "trozos de pollo a la mantequilla / butter chicken",
          "rodaballo en salsa de hinojo",
          "spaghetti napolitano",
          "pechuga de pollo",
          "bonito tai red",
          "tacos carnitas",
          "hamburguesa de pollo"
         ],
         "textposition": "auto",
         "type": "bar",
         "x": [
          "Arroyo Naranjo",
          "Boyeros",
          "Centro Habana",
          "Cerro",
          "Cotorro",
          "Diez de Octubre",
          "Guanabacoa",
          "Habana Del Este",
          "Habana del Este",
          "La Habana Vieja",
          "La Lisa",
          "Marianao",
          "Playa",
          "Plaza de la Revolución",
          "Regla",
          "San Miguel del Padrón"
         ],
         "xaxis": "x",
         "y": [
          430,
          470,
          200,
          300,
          230,
          450,
          350,
          700,
          590,
          1000,
          700,
          200,
          250,
          420,
          500,
          300
         ],
         "yaxis": "y"
        }
       ],
       "layout": {
        "barmode": "relative",
        "coloraxis": {
         "colorbar": {
          "title": {
           "text": "Precio"
          }
         },
         "colorscale": [
          [
           0,
           "#440154"
          ],
          [
           0.1111111111111111,
           "#482878"
          ],
          [
           0.2222222222222222,
           "#3e4989"
          ],
          [
           0.3333333333333333,
           "#31688e"
          ],
          [
           0.4444444444444444,
           "#26828e"
          ],
          [
           0.5555555555555556,
           "#1f9e89"
          ],
          [
           0.6666666666666666,
           "#35b779"
          ],
          [
           0.7777777777777778,
           "#6ece58"
          ],
          [
           0.8888888888888888,
           "#b5de2b"
          ],
          [
           1,
           "#fde725"
          ]
         ]
        },
        "legend": {
         "tracegroupgap": 0
        },
        "template": {
         "data": {
          "bar": [
           {
            "error_x": {
             "color": "#2a3f5f"
            },
            "error_y": {
             "color": "#2a3f5f"
            },
            "marker": {
             "line": {
              "color": "#E5ECF6",
              "width": 0.5
             },
             "pattern": {
              "fillmode": "overlay",
              "size": 10,
              "solidity": 0.2
             }
            },
            "type": "bar"
           }
          ],
          "barpolar": [
           {
            "marker": {
             "line": {
              "color": "#E5ECF6",
              "width": 0.5
             },
             "pattern": {
              "fillmode": "overlay",
              "size": 10,
              "solidity": 0.2
             }
            },
            "type": "barpolar"
           }
          ],
          "carpet": [
           {
            "aaxis": {
             "endlinecolor": "#2a3f5f",
             "gridcolor": "white",
             "linecolor": "white",
             "minorgridcolor": "white",
             "startlinecolor": "#2a3f5f"
            },
            "baxis": {
             "endlinecolor": "#2a3f5f",
             "gridcolor": "white",
             "linecolor": "white",
             "minorgridcolor": "white",
             "startlinecolor": "#2a3f5f"
            },
            "type": "carpet"
           }
          ],
          "choropleth": [
           {
            "colorbar": {
             "outlinewidth": 0,
             "ticks": ""
            },
            "type": "choropleth"
           }
          ],
          "contour": [
           {
            "colorbar": {
             "outlinewidth": 0,
             "ticks": ""
            },
            "colorscale": [
             [
              0,
              "#0d0887"
             ],
             [
              0.1111111111111111,
              "#46039f"
             ],
             [
              0.2222222222222222,
              "#7201a8"
             ],
             [
              0.3333333333333333,
              "#9c179e"
             ],
             [
              0.4444444444444444,
              "#bd3786"
             ],
             [
              0.5555555555555556,
              "#d8576b"
             ],
             [
              0.6666666666666666,
              "#ed7953"
             ],
             [
              0.7777777777777778,
              "#fb9f3a"
             ],
             [
              0.8888888888888888,
              "#fdca26"
             ],
             [
              1,
              "#f0f921"
             ]
            ],
            "type": "contour"
           }
          ],
          "contourcarpet": [
           {
            "colorbar": {
             "outlinewidth": 0,
             "ticks": ""
            },
            "type": "contourcarpet"
           }
          ],
          "heatmap": [
           {
            "colorbar": {
             "outlinewidth": 0,
             "ticks": ""
            },
            "colorscale": [
             [
              0,
              "#0d0887"
             ],
             [
              0.1111111111111111,
              "#46039f"
             ],
             [
              0.2222222222222222,
              "#7201a8"
             ],
             [
              0.3333333333333333,
              "#9c179e"
             ],
             [
              0.4444444444444444,
              "#bd3786"
             ],
             [
              0.5555555555555556,
              "#d8576b"
             ],
             [
              0.6666666666666666,
              "#ed7953"
             ],
             [
              0.7777777777777778,
              "#fb9f3a"
             ],
             [
              0.8888888888888888,
              "#fdca26"
             ],
             [
              1,
              "#f0f921"
             ]
            ],
            "type": "heatmap"
           }
          ],
          "heatmapgl": [
           {
            "colorbar": {
             "outlinewidth": 0,
             "ticks": ""
            },
            "colorscale": [
             [
              0,
              "#0d0887"
             ],
             [
              0.1111111111111111,
              "#46039f"
             ],
             [
              0.2222222222222222,
              "#7201a8"
             ],
             [
              0.3333333333333333,
              "#9c179e"
             ],
             [
              0.4444444444444444,
              "#bd3786"
             ],
             [
              0.5555555555555556,
              "#d8576b"
             ],
             [
              0.6666666666666666,
              "#ed7953"
             ],
             [
              0.7777777777777778,
              "#fb9f3a"
             ],
             [
              0.8888888888888888,
              "#fdca26"
             ],
             [
              1,
              "#f0f921"
             ]
            ],
            "type": "heatmapgl"
           }
          ],
          "histogram": [
           {
            "marker": {
             "pattern": {
              "fillmode": "overlay",
              "size": 10,
              "solidity": 0.2
             }
            },
            "type": "histogram"
           }
          ],
          "histogram2d": [
           {
            "colorbar": {
             "outlinewidth": 0,
             "ticks": ""
            },
            "colorscale": [
             [
              0,
              "#0d0887"
             ],
             [
              0.1111111111111111,
              "#46039f"
             ],
             [
              0.2222222222222222,
              "#7201a8"
             ],
             [
              0.3333333333333333,
              "#9c179e"
             ],
             [
              0.4444444444444444,
              "#bd3786"
             ],
             [
              0.5555555555555556,
              "#d8576b"
             ],
             [
              0.6666666666666666,
              "#ed7953"
             ],
             [
              0.7777777777777778,
              "#fb9f3a"
             ],
             [
              0.8888888888888888,
              "#fdca26"
             ],
             [
              1,
              "#f0f921"
             ]
            ],
            "type": "histogram2d"
           }
          ],
          "histogram2dcontour": [
           {
            "colorbar": {
             "outlinewidth": 0,
             "ticks": ""
            },
            "colorscale": [
             [
              0,
              "#0d0887"
             ],
             [
              0.1111111111111111,
              "#46039f"
             ],
             [
              0.2222222222222222,
              "#7201a8"
             ],
             [
              0.3333333333333333,
              "#9c179e"
             ],
             [
              0.4444444444444444,
              "#bd3786"
             ],
             [
              0.5555555555555556,
              "#d8576b"
             ],
             [
              0.6666666666666666,
              "#ed7953"
             ],
             [
              0.7777777777777778,
              "#fb9f3a"
             ],
             [
              0.8888888888888888,
              "#fdca26"
             ],
             [
              1,
              "#f0f921"
             ]
            ],
            "type": "histogram2dcontour"
           }
          ],
          "mesh3d": [
           {
            "colorbar": {
             "outlinewidth": 0,
             "ticks": ""
            },
            "type": "mesh3d"
           }
          ],
          "parcoords": [
           {
            "line": {
             "colorbar": {
              "outlinewidth": 0,
              "ticks": ""
             }
            },
            "type": "parcoords"
           }
          ],
          "pie": [
           {
            "automargin": true,
            "type": "pie"
           }
          ],
          "scatter": [
           {
            "fillpattern": {
             "fillmode": "overlay",
             "size": 10,
             "solidity": 0.2
            },
            "type": "scatter"
           }
          ],
          "scatter3d": [
           {
            "line": {
             "colorbar": {
              "outlinewidth": 0,
              "ticks": ""
             }
            },
            "marker": {
             "colorbar": {
              "outlinewidth": 0,
              "ticks": ""
             }
            },
            "type": "scatter3d"
           }
          ],
          "scattercarpet": [
           {
            "marker": {
             "colorbar": {
              "outlinewidth": 0,
              "ticks": ""
             }
            },
            "type": "scattercarpet"
           }
          ],
          "scattergeo": [
           {
            "marker": {
             "colorbar": {
              "outlinewidth": 0,
              "ticks": ""
             }
            },
            "type": "scattergeo"
           }
          ],
          "scattergl": [
           {
            "marker": {
             "colorbar": {
              "outlinewidth": 0,
              "ticks": ""
             }
            },
            "type": "scattergl"
           }
          ],
          "scattermapbox": [
           {
            "marker": {
             "colorbar": {
              "outlinewidth": 0,
              "ticks": ""
             }
            },
            "type": "scattermapbox"
           }
          ],
          "scatterpolar": [
           {
            "marker": {
             "colorbar": {
              "outlinewidth": 0,
              "ticks": ""
             }
            },
            "type": "scatterpolar"
           }
          ],
          "scatterpolargl": [
           {
            "marker": {
             "colorbar": {
              "outlinewidth": 0,
              "ticks": ""
             }
            },
            "type": "scatterpolargl"
           }
          ],
          "scatterternary": [
           {
            "marker": {
             "colorbar": {
              "outlinewidth": 0,
              "ticks": ""
             }
            },
            "type": "scatterternary"
           }
          ],
          "surface": [
           {
            "colorbar": {
             "outlinewidth": 0,
             "ticks": ""
            },
            "colorscale": [
             [
              0,
              "#0d0887"
             ],
             [
              0.1111111111111111,
              "#46039f"
             ],
             [
              0.2222222222222222,
              "#7201a8"
             ],
             [
              0.3333333333333333,
              "#9c179e"
             ],
             [
              0.4444444444444444,
              "#bd3786"
             ],
             [
              0.5555555555555556,
              "#d8576b"
             ],
             [
              0.6666666666666666,
              "#ed7953"
             ],
             [
              0.7777777777777778,
              "#fb9f3a"
             ],
             [
              0.8888888888888888,
              "#fdca26"
             ],
             [
              1,
              "#f0f921"
             ]
            ],
            "type": "surface"
           }
          ],
          "table": [
           {
            "cells": {
             "fill": {
              "color": "#EBF0F8"
             },
             "line": {
              "color": "white"
             }
            },
            "header": {
             "fill": {
              "color": "#C8D4E3"
             },
             "line": {
              "color": "white"
             }
            },
            "type": "table"
           }
          ]
         },
         "layout": {
          "annotationdefaults": {
           "arrowcolor": "#2a3f5f",
           "arrowhead": 0,
           "arrowwidth": 1
          },
          "autotypenumbers": "strict",
          "coloraxis": {
           "colorbar": {
            "outlinewidth": 0,
            "ticks": ""
           }
          },
          "colorscale": {
           "diverging": [
            [
             0,
             "#8e0152"
            ],
            [
             0.1,
             "#c51b7d"
            ],
            [
             0.2,
             "#de77ae"
            ],
            [
             0.3,
             "#f1b6da"
            ],
            [
             0.4,
             "#fde0ef"
            ],
            [
             0.5,
             "#f7f7f7"
            ],
            [
             0.6,
             "#e6f5d0"
            ],
            [
             0.7,
             "#b8e186"
            ],
            [
             0.8,
             "#7fbc41"
            ],
            [
             0.9,
             "#4d9221"
            ],
            [
             1,
             "#276419"
            ]
           ],
           "sequential": [
            [
             0,
             "#0d0887"
            ],
            [
             0.1111111111111111,
             "#46039f"
            ],
            [
             0.2222222222222222,
             "#7201a8"
            ],
            [
             0.3333333333333333,
             "#9c179e"
            ],
            [
             0.4444444444444444,
             "#bd3786"
            ],
            [
             0.5555555555555556,
             "#d8576b"
            ],
            [
             0.6666666666666666,
             "#ed7953"
            ],
            [
             0.7777777777777778,
             "#fb9f3a"
            ],
            [
             0.8888888888888888,
             "#fdca26"
            ],
            [
             1,
             "#f0f921"
            ]
           ],
           "sequentialminus": [
            [
             0,
             "#0d0887"
            ],
            [
             0.1111111111111111,
             "#46039f"
            ],
            [
             0.2222222222222222,
             "#7201a8"
            ],
            [
             0.3333333333333333,
             "#9c179e"
            ],
            [
             0.4444444444444444,
             "#bd3786"
            ],
            [
             0.5555555555555556,
             "#d8576b"
            ],
            [
             0.6666666666666666,
             "#ed7953"
            ],
            [
             0.7777777777777778,
             "#fb9f3a"
            ],
            [
             0.8888888888888888,
             "#fdca26"
            ],
            [
             1,
             "#f0f921"
            ]
           ]
          },
          "colorway": [
           "#636efa",
           "#EF553B",
           "#00cc96",
           "#ab63fa",
           "#FFA15A",
           "#19d3f3",
           "#FF6692",
           "#B6E880",
           "#FF97FF",
           "#FECB52"
          ],
          "font": {
           "color": "#2a3f5f"
          },
          "geo": {
           "bgcolor": "white",
           "lakecolor": "white",
           "landcolor": "#E5ECF6",
           "showlakes": true,
           "showland": true,
           "subunitcolor": "white"
          },
          "hoverlabel": {
           "align": "left"
          },
          "hovermode": "closest",
          "mapbox": {
           "style": "light"
          },
          "paper_bgcolor": "white",
          "plot_bgcolor": "#E5ECF6",
          "polar": {
           "angularaxis": {
            "gridcolor": "white",
            "linecolor": "white",
            "ticks": ""
           },
           "bgcolor": "#E5ECF6",
           "radialaxis": {
            "gridcolor": "white",
            "linecolor": "white",
            "ticks": ""
           }
          },
          "scene": {
           "xaxis": {
            "backgroundcolor": "#E5ECF6",
            "gridcolor": "white",
            "gridwidth": 2,
            "linecolor": "white",
            "showbackground": true,
            "ticks": "",
            "zerolinecolor": "white"
           },
           "yaxis": {
            "backgroundcolor": "#E5ECF6",
            "gridcolor": "white",
            "gridwidth": 2,
            "linecolor": "white",
            "showbackground": true,
            "ticks": "",
            "zerolinecolor": "white"
           },
           "zaxis": {
            "backgroundcolor": "#E5ECF6",
            "gridcolor": "white",
            "gridwidth": 2,
            "linecolor": "white",
            "showbackground": true,
            "ticks": "",
            "zerolinecolor": "white"
           }
          },
          "shapedefaults": {
           "line": {
            "color": "#2a3f5f"
           }
          },
          "ternary": {
           "aaxis": {
            "gridcolor": "white",
            "linecolor": "white",
            "ticks": ""
           },
           "baxis": {
            "gridcolor": "white",
            "linecolor": "white",
            "ticks": ""
           },
           "bgcolor": "#E5ECF6",
           "caxis": {
            "gridcolor": "white",
            "linecolor": "white",
            "ticks": ""
           }
          },
          "title": {
           "x": 0.05
          },
          "xaxis": {
           "automargin": true,
           "gridcolor": "white",
           "linecolor": "white",
           "ticks": "",
           "title": {
            "standoff": 15
           },
           "zerolinecolor": "white",
           "zerolinewidth": 2
          },
          "yaxis": {
           "automargin": true,
           "gridcolor": "white",
           "linecolor": "white",
           "ticks": "",
           "title": {
            "standoff": 15
           },
           "zerolinecolor": "white",
           "zerolinewidth": 2
          }
         }
        },
        "title": {
         "text": "Platillos Más Baratos por Municipio"
        },
        "xaxis": {
         "anchor": "y",
         "domain": [
          0,
          1
         ],
         "title": {
          "text": "Municipio"
         }
        },
        "yaxis": {
         "anchor": "x",
         "domain": [
          0,
          1
         ],
         "title": {
          "text": "Precio"
         }
        }
       }
      }
     },
     "metadata": {},
     "output_type": "display_data"
    }
   ],
   "source": [
    "def platillo_menos_costoso(row):\n",
    "    if 'main_courses' in row['menu'] and isinstance(row['menu']['main_courses'], dict):\n",
    "        items = row['menu']['main_courses'].get('items', [])\n",
    "        if items:\n",
    "            min_precio = float('inf')\n",
    "            platillo_barato = None\n",
    "            for item in items:\n",
    "                precio_actual = item.get('price')\n",
    "                if precio_actual is not None and isinstance(precio_actual, (int, float)):\n",
    "                    precio_actual = float(precio_actual)  # Convertir a float\n",
    "                    if (item['price'], (int, float)):\n",
    "                        precio_actual = float(item['price'])\n",
    "                        if precio_actual <min_precio:\n",
    "                            min_precio = precio_actual\n",
    "                            platillo_barato = item['name']\n",
    "                return platillo_barato, min_precio\n",
    "    return None, 1000000000\n",
    "\n",
    "df_copia = df.copy(deep=True)\n",
    "def aplicar_funcion(df_copia):\n",
    "    platillos = []\n",
    "    precios = []\n",
    "    for index, row in df_copia.iterrows():\n",
    "        platillo, precio = platillo_menos_costoso(row)\n",
    "        platillos.append(platillo)\n",
    "        precios.append(precio)\n",
    "\n",
    "    df_copia['platillo_menos_costoso'] = platillos\n",
    "    df_copia['precio'] = precios\n",
    "\n",
    "aplicar_funcion(df_copia)\n",
    "\n",
    "resultados = df_copia.groupby('district').agg({'platillo_menos_costoso': 'first', 'precio': 'min'}).reset_index()\n",
    "#print(resultados)\n",
    "\n",
    "fig = px.bar(resultados, \n",
    "            x='district', \n",
    "            y='precio', \n",
    "            color='precio',\n",
    "            text='platillo_menos_costoso',\n",
    "            title='Platillos Más Baratos por Municipio',\n",
    "            labels={'district': 'Municipio', 'precio': 'Precio'},\n",
    "            color_continuous_scale=px.colors.sequential.Viridis)\n",
    "fig.show()"
   ]
  },
  {
   "cell_type": "markdown",
   "metadata": {},
   "source": [
    "Javier, siempre entusiasta, propuso una nueva idea.\n",
    "— ¿Y si hacemos un análisis comparativo de los precios máximos y mínimos de un plato determinado en cada municipio? \n",
    "\n",
    "— ¡Eso sería increíble! Así podríamos mostrar a los usuarios no solo qué comer, sino también cuánto deberían esperar pagar dependiendo de su ubicación. Esto podría ayudarles a planificar mejor sus salidas.-añadió Lucía."
   ]
  },
  {
   "cell_type": "code",
   "execution_count": 24,
   "metadata": {},
   "outputs": [
    {
     "name": "stdout",
     "output_type": "stream",
     "text": [
      "                municipio   plato  precio_minimo  precio_maximo\n",
      "0                 La Lisa  helado            550            600\n",
      "1  Plaza de la Revolución  helado            260            600\n",
      "2                   Playa  helado            150           2000\n",
      "3         La Habana Vieja  helado            500            500\n",
      "4           Centro Habana  helado            150            150\n",
      "5                 Boyeros  helado            280            930\n",
      "6                 Cotorro  helado            320            320\n",
      "7         Diez de Octubre  helado            200           2000\n"
     ]
    }
   ],
   "source": [
    "def check_price_range(aux, plato): \n",
    "    precios = []\n",
    "    for i in aux:\n",
    "        if i != \"drinks\" and i != \"special_offers\":\n",
    "            if aux[i]:\n",
    "                for j in aux[i][\"items\"]:\n",
    "                    if (\n",
    "                        j[\"name\"].lower().strip().find(plato.lower().strip()) != -1\n",
    "                    ):\n",
    "                        precios.append(j[\"price\"])\n",
    "    return precios\n",
    "\n",
    "def filter_price_range(_df, plato):\n",
    "    municipios = _df['district'].unique()  # Obtener todos los municipios\n",
    "    resultados = []\n",
    "\n",
    "    for municipio in municipios:\n",
    "        aux = _df[_df['district'] == municipio]  # Filtrar por municipio\n",
    "        if len(aux) == 0:\n",
    "            continue\n",
    "        \n",
    "        precios = [] #Obtener precios\n",
    "        for index, row in aux.iterrows():\n",
    "            precios += check_price_range(row['menu'], plato)\n",
    "            \n",
    "        if precios:  # Si hay precios encontrados\n",
    "            min_price = min(precios)\n",
    "            max_price = max(precios)\n",
    "            resultados.append({\n",
    "                'municipio': municipio,\n",
    "                'plato': plato,\n",
    "                'precio_minimo': min_price,\n",
    "                'precio_maximo': max_price\n",
    "            })\n",
    "\n",
    "    return pd.DataFrame(resultados) if resultados else \"No hay resultados\"\n",
    "\n",
    "#Ejemplo\n",
    "resultados = filter_price_range(most_access, \"helado\") \n",
    "print(resultados)"
   ]
  },
  {
   "cell_type": "markdown",
   "metadata": {},
   "source": [
    "Inicialmente su idea era que su página tuviera fotos de los menú o algún enlace hacia estos, pero hablando con Luis se dieron cuenta que estaba en sus manos hacer algo más óptimo que facilitara al cliente a elegir el sitio ideal que tuviera un plato específico y a un precio menor que un límite especificado, y no solo eso, ¡también podrías elegir el municipio del mismo y que contara con un servicio determinado! \n",
    "\n",
    "Esto definitivamente marcaría la diferencia y los dejaría listos para lanzar la versión inicial de su proyecto."
   ]
  },
  {
   "cell_type": "code",
   "execution_count": 34,
   "metadata": {},
   "outputs": [
    {
     "data": {
      "text/plain": [
       "type_of_establishment                                    bar - restaurante\n",
       "name                                                            Salsa Mora\n",
       "district                                                             Playa\n",
       "coordinates              {'latitude': 23.11402909851061, 'longitude': -...\n",
       "contact                  {'phone_number': False, 'e-mail': False, 'web_...\n",
       "schedule                 {'monday': {'open': '1100', 'close': '0400'}, ...\n",
       "rating                                                                 3.0\n",
       "intake_capacity                                                       alta\n",
       "cuisine                                                    [internacional]\n",
       "services                 {'plant': True, 'child_care': False, 'disable_...\n",
       "pay_meth                                  {'cash': True, 'transfer': True}\n",
       "menu                     {'breakfasts': False, 'appetizers': {'items': ...\n",
       "has_social_net                                                        True\n",
       "cumple_name_price                                                     True\n",
       "cumple_service                                                        True\n",
       "Name: 179, dtype: object"
      ]
     },
     "execution_count": 34,
     "metadata": {},
     "output_type": "execute_result"
    }
   ],
   "source": [
    "def check_name_price(aux, plato, price): \n",
    "    for i in aux:\n",
    "        if i != \"drinks\" and i != \"special_offers\":\n",
    "            if aux[i]:\n",
    "                for j in aux[i][\"items\"]:\n",
    "                    if (\n",
    "                        j[\"name\"].lower().strip().find(plato.lower().strip()) != -1\n",
    "                        and j[\"price\"] <= price\n",
    "                    ):\n",
    "                        return True\n",
    "        elif i == \"special_offers\":\n",
    "            if aux[i]:\n",
    "                for j in aux[i]:\n",
    "                    if (\n",
    "                        j[\"name\"].lower().strip().find(plato.lower().strip()) != -1\n",
    "                        and j[\"price\"] <= price\n",
    "                    ):\n",
    "                        return True\n",
    "        else:\n",
    "            if aux[i]:\n",
    "                for j in aux[i]:\n",
    "                    if aux[i][j]:\n",
    "                        for k in aux[i][j]:\n",
    "                            if (\n",
    "                                k[\"name\"].lower().strip().find(plato.lower().strip()) != -1\n",
    "                            and k[\"price\"] <= price\n",
    "                            ):\n",
    "                                return True\n",
    "    return False\n",
    "\n",
    "def check_service(aux, servicio): #funcion que chequea si el restaurante tiene el servicio pedido\n",
    "    return aux[servicio]\n",
    "\n",
    "def filter(_df, plato, price, servicios, municipio):\n",
    "    aux = _df[_df['district'] == municipio] #revisa si coincide con el municipio pedido\n",
    "    if len(aux) == 0:\n",
    "        return \"No hay resultado\"\n",
    "    aux[\"cumple_name_price\"] = aux[\"menu\"].apply(\n",
    "        check_name_price, plato = plato, price = price # verifica algun restaurante del \"menu\" cumple con  nombre y precio, si cumple se guarda en 'cumple_name_price'.\n",
    "    ) \n",
    "    aux[\"cumple_service\"] = aux['services'].apply(check_service, servicio = servicios) #hace lo mismo con \"services\"\n",
    "    result = aux[(aux[\"cumple_name_price\"] ==  True) & (aux[\"cumple_service\"] == True)] #se quedan solo los que cumplen ambas condiciones\n",
    "    if len(result) != 0:\n",
    "        r = result.sort_values(by = \"rating\") #los resultados se ordenan por rating\n",
    "        return r.iloc[0] #se queda el de mejor rating\n",
    "    return \"No hay resultado\"\n",
    "\n",
    "#EJEMPLO\n",
    "filter(most_access, \"agua\", 300, \"parking\", \"Playa\")"
   ]
  },
  {
   "cell_type": "markdown",
   "metadata": {},
   "source": [
    "Después de meses de una extensa recopilación de datos que implicó muchísimo esfuerzo, tiempo y paciencia para lidiar con toda clase de personas a lo largo y ancho de la capital, sumada a muchas horas de aprendizaje para analizar datos y ofrecer resultados claros, la web fue lanzada recibiendo una gran aceptación por parte de la gente. \n",
    "Si bien sabían que esto solo era un punto de partida para un proyecto mucho más grande con mejoras constante para adaptarse a las necesidades de las personas, estaban muy satisfechos por lo logrado.\n",
    "\n",
    "Ese mismo día decidieron salir a celebrar. Fue una noche muy divertida hasta que la fiesta terminó y era hora de ir a casa. Al salir todos tenían mucha hambre, por lo que decidieron ir a comer algo antes de volver. Haciendo uso de su proyecto se pusieron a buscar lugares en su página, pero eran las 3am y evidentemente se toparon con que muchos de los establecimientos ya no estaban ofreciendo servicio a esas horas. \"¿Qué lugar estará abierto?\" Fue la pregunta que invadió sus mentes. Al final, luego casi una hora de búsqueda, encontraron uno y todo salió como querían, pero estaba claro que esto había revelado una necesidad: conocer de forma exacta cuáles eran aquellos lugares que ofrecían un servicio de 24 horas. "
   ]
  },
  {
   "cell_type": "code",
   "execution_count": 25,
   "metadata": {},
   "outputs": [
    {
     "name": "stdout",
     "output_type": "stream",
     "text": [
      "Restaurantes abiertos las 24 horas:\n",
      "Bocattas\n",
      "Pechatniky\n",
      "Ranchon de 41\n",
      "Sport Bar\n"
     ]
    }
   ],
   "source": [
    "opened_24h = []\n",
    "for index, row in df.iterrows():  # Itera sobre cada fila del df\n",
    "    nombre_restaurante = row['name']\n",
    "    horario = row['schedule'] \n",
    "    \n",
    "    if not isinstance(horario, dict):  # Verifica que sea un diccionario\n",
    "        continue \n",
    "    \n",
    "    abierto_24 = True \n",
    "    for dia in horario:\n",
    "        if isinstance(horario[dia], dict): \n",
    "            if 'open' in horario[dia] and 'close' in horario[dia]:\n",
    "                if horario[dia]['open'] != '0000' or horario[dia]['close'] != '2400':\n",
    "                    abierto_24 = False \n",
    "                    break\n",
    "            else:\n",
    "                abierto_24 = False\n",
    "                break\n",
    "        else:\n",
    "            abierto_24 = False\n",
    "            break\n",
    "        \n",
    "    if abierto_24:\n",
    "        opened_24h.append(nombre_restaurante)\n",
    "        \n",
    "if opened_24h:\n",
    "    print(\"Restaurantes abiertos las 24 horas:\")\n",
    "    for restaurante in opened_24h:\n",
    "        print(restaurante)"
   ]
  },
  {
   "cell_type": "markdown",
   "metadata": {},
   "source": [
    "Para el perfeccionamiento constante de su web el grupo se mantenía al tanto de las opiniones que tenían los usuarios sobre el proyecto cuando un día, uno llamó particularmente su atención: \"Pq Chill Havana? Ahora se usa poner los nombres en inglés parece\". Fue justo ese comentario el que los llevó a hacer distintos análisis precisamente con el nombre de los establecimientos. ¿Cuántos lugares poseen nombres en inglés? ¿Influye esto de alguna forma en su rating? "
   ]
  },
  {
   "cell_type": "code",
   "execution_count": 30,
   "metadata": {},
   "outputs": [
    {
     "data": {
      "application/vnd.plotly.v1+json": {
       "config": {
        "plotlyServerURL": "https://plot.ly"
       },
       "data": [
        {
         "alignmentgroup": "True",
         "hovertemplate": "Calificación=%{marker.color}<br>Nombre del Restaurante=%{y}<extra></extra>",
         "legendgroup": "",
         "marker": {
          "color": [
           4,
           4.5,
           4,
           5,
           3.7,
           3.1,
           5,
           4,
           4.5,
           5,
           3.7,
           3.5,
           5,
           5,
           4,
           4,
           5,
           4.8,
           4.5
          ],
          "coloraxis": "coloraxis",
          "pattern": {
           "shape": ""
          }
         },
         "name": "",
         "offsetgroup": "",
         "orientation": "h",
         "showlegend": false,
         "textposition": "auto",
         "type": "bar",
         "x": [
          4,
          4.5,
          4,
          5,
          3.7,
          3.1,
          5,
          4,
          4.5,
          5,
          3.7,
          3.5,
          5,
          5,
          4,
          4,
          5,
          4.8,
          4.5
         ],
         "xaxis": "x",
         "y": [
          "Atlanta",
          "Beirut",
          "Brutal Habana",
          "Crystal",
          "Don Omar",
          "Doping pizza",
          "Fellini",
          "Food Master",
          "Habana Blues",
          "Habana Tokio",
          "Home Deli",
          "Mercy bar",
          "Mythos",
          "Polo",
          "Rodney",
          "Sport Bar",
          "The Place",
          "Vale & Vane",
          "Yesterday Havana"
         ],
         "yaxis": "y"
        }
       ],
       "layout": {
        "barmode": "relative",
        "coloraxis": {
         "colorbar": {
          "title": {
           "text": "Calificación"
          }
         },
         "colorscale": [
          [
           0,
           "#440154"
          ],
          [
           0.1111111111111111,
           "#482878"
          ],
          [
           0.2222222222222222,
           "#3e4989"
          ],
          [
           0.3333333333333333,
           "#31688e"
          ],
          [
           0.4444444444444444,
           "#26828e"
          ],
          [
           0.5555555555555556,
           "#1f9e89"
          ],
          [
           0.6666666666666666,
           "#35b779"
          ],
          [
           0.7777777777777778,
           "#6ece58"
          ],
          [
           0.8888888888888888,
           "#b5de2b"
          ],
          [
           1,
           "#fde725"
          ]
         ]
        },
        "legend": {
         "tracegroupgap": 0
        },
        "template": {
         "data": {
          "bar": [
           {
            "error_x": {
             "color": "#2a3f5f"
            },
            "error_y": {
             "color": "#2a3f5f"
            },
            "marker": {
             "line": {
              "color": "#E5ECF6",
              "width": 0.5
             },
             "pattern": {
              "fillmode": "overlay",
              "size": 10,
              "solidity": 0.2
             }
            },
            "type": "bar"
           }
          ],
          "barpolar": [
           {
            "marker": {
             "line": {
              "color": "#E5ECF6",
              "width": 0.5
             },
             "pattern": {
              "fillmode": "overlay",
              "size": 10,
              "solidity": 0.2
             }
            },
            "type": "barpolar"
           }
          ],
          "carpet": [
           {
            "aaxis": {
             "endlinecolor": "#2a3f5f",
             "gridcolor": "white",
             "linecolor": "white",
             "minorgridcolor": "white",
             "startlinecolor": "#2a3f5f"
            },
            "baxis": {
             "endlinecolor": "#2a3f5f",
             "gridcolor": "white",
             "linecolor": "white",
             "minorgridcolor": "white",
             "startlinecolor": "#2a3f5f"
            },
            "type": "carpet"
           }
          ],
          "choropleth": [
           {
            "colorbar": {
             "outlinewidth": 0,
             "ticks": ""
            },
            "type": "choropleth"
           }
          ],
          "contour": [
           {
            "colorbar": {
             "outlinewidth": 0,
             "ticks": ""
            },
            "colorscale": [
             [
              0,
              "#0d0887"
             ],
             [
              0.1111111111111111,
              "#46039f"
             ],
             [
              0.2222222222222222,
              "#7201a8"
             ],
             [
              0.3333333333333333,
              "#9c179e"
             ],
             [
              0.4444444444444444,
              "#bd3786"
             ],
             [
              0.5555555555555556,
              "#d8576b"
             ],
             [
              0.6666666666666666,
              "#ed7953"
             ],
             [
              0.7777777777777778,
              "#fb9f3a"
             ],
             [
              0.8888888888888888,
              "#fdca26"
             ],
             [
              1,
              "#f0f921"
             ]
            ],
            "type": "contour"
           }
          ],
          "contourcarpet": [
           {
            "colorbar": {
             "outlinewidth": 0,
             "ticks": ""
            },
            "type": "contourcarpet"
           }
          ],
          "heatmap": [
           {
            "colorbar": {
             "outlinewidth": 0,
             "ticks": ""
            },
            "colorscale": [
             [
              0,
              "#0d0887"
             ],
             [
              0.1111111111111111,
              "#46039f"
             ],
             [
              0.2222222222222222,
              "#7201a8"
             ],
             [
              0.3333333333333333,
              "#9c179e"
             ],
             [
              0.4444444444444444,
              "#bd3786"
             ],
             [
              0.5555555555555556,
              "#d8576b"
             ],
             [
              0.6666666666666666,
              "#ed7953"
             ],
             [
              0.7777777777777778,
              "#fb9f3a"
             ],
             [
              0.8888888888888888,
              "#fdca26"
             ],
             [
              1,
              "#f0f921"
             ]
            ],
            "type": "heatmap"
           }
          ],
          "heatmapgl": [
           {
            "colorbar": {
             "outlinewidth": 0,
             "ticks": ""
            },
            "colorscale": [
             [
              0,
              "#0d0887"
             ],
             [
              0.1111111111111111,
              "#46039f"
             ],
             [
              0.2222222222222222,
              "#7201a8"
             ],
             [
              0.3333333333333333,
              "#9c179e"
             ],
             [
              0.4444444444444444,
              "#bd3786"
             ],
             [
              0.5555555555555556,
              "#d8576b"
             ],
             [
              0.6666666666666666,
              "#ed7953"
             ],
             [
              0.7777777777777778,
              "#fb9f3a"
             ],
             [
              0.8888888888888888,
              "#fdca26"
             ],
             [
              1,
              "#f0f921"
             ]
            ],
            "type": "heatmapgl"
           }
          ],
          "histogram": [
           {
            "marker": {
             "pattern": {
              "fillmode": "overlay",
              "size": 10,
              "solidity": 0.2
             }
            },
            "type": "histogram"
           }
          ],
          "histogram2d": [
           {
            "colorbar": {
             "outlinewidth": 0,
             "ticks": ""
            },
            "colorscale": [
             [
              0,
              "#0d0887"
             ],
             [
              0.1111111111111111,
              "#46039f"
             ],
             [
              0.2222222222222222,
              "#7201a8"
             ],
             [
              0.3333333333333333,
              "#9c179e"
             ],
             [
              0.4444444444444444,
              "#bd3786"
             ],
             [
              0.5555555555555556,
              "#d8576b"
             ],
             [
              0.6666666666666666,
              "#ed7953"
             ],
             [
              0.7777777777777778,
              "#fb9f3a"
             ],
             [
              0.8888888888888888,
              "#fdca26"
             ],
             [
              1,
              "#f0f921"
             ]
            ],
            "type": "histogram2d"
           }
          ],
          "histogram2dcontour": [
           {
            "colorbar": {
             "outlinewidth": 0,
             "ticks": ""
            },
            "colorscale": [
             [
              0,
              "#0d0887"
             ],
             [
              0.1111111111111111,
              "#46039f"
             ],
             [
              0.2222222222222222,
              "#7201a8"
             ],
             [
              0.3333333333333333,
              "#9c179e"
             ],
             [
              0.4444444444444444,
              "#bd3786"
             ],
             [
              0.5555555555555556,
              "#d8576b"
             ],
             [
              0.6666666666666666,
              "#ed7953"
             ],
             [
              0.7777777777777778,
              "#fb9f3a"
             ],
             [
              0.8888888888888888,
              "#fdca26"
             ],
             [
              1,
              "#f0f921"
             ]
            ],
            "type": "histogram2dcontour"
           }
          ],
          "mesh3d": [
           {
            "colorbar": {
             "outlinewidth": 0,
             "ticks": ""
            },
            "type": "mesh3d"
           }
          ],
          "parcoords": [
           {
            "line": {
             "colorbar": {
              "outlinewidth": 0,
              "ticks": ""
             }
            },
            "type": "parcoords"
           }
          ],
          "pie": [
           {
            "automargin": true,
            "type": "pie"
           }
          ],
          "scatter": [
           {
            "fillpattern": {
             "fillmode": "overlay",
             "size": 10,
             "solidity": 0.2
            },
            "type": "scatter"
           }
          ],
          "scatter3d": [
           {
            "line": {
             "colorbar": {
              "outlinewidth": 0,
              "ticks": ""
             }
            },
            "marker": {
             "colorbar": {
              "outlinewidth": 0,
              "ticks": ""
             }
            },
            "type": "scatter3d"
           }
          ],
          "scattercarpet": [
           {
            "marker": {
             "colorbar": {
              "outlinewidth": 0,
              "ticks": ""
             }
            },
            "type": "scattercarpet"
           }
          ],
          "scattergeo": [
           {
            "marker": {
             "colorbar": {
              "outlinewidth": 0,
              "ticks": ""
             }
            },
            "type": "scattergeo"
           }
          ],
          "scattergl": [
           {
            "marker": {
             "colorbar": {
              "outlinewidth": 0,
              "ticks": ""
             }
            },
            "type": "scattergl"
           }
          ],
          "scattermapbox": [
           {
            "marker": {
             "colorbar": {
              "outlinewidth": 0,
              "ticks": ""
             }
            },
            "type": "scattermapbox"
           }
          ],
          "scatterpolar": [
           {
            "marker": {
             "colorbar": {
              "outlinewidth": 0,
              "ticks": ""
             }
            },
            "type": "scatterpolar"
           }
          ],
          "scatterpolargl": [
           {
            "marker": {
             "colorbar": {
              "outlinewidth": 0,
              "ticks": ""
             }
            },
            "type": "scatterpolargl"
           }
          ],
          "scatterternary": [
           {
            "marker": {
             "colorbar": {
              "outlinewidth": 0,
              "ticks": ""
             }
            },
            "type": "scatterternary"
           }
          ],
          "surface": [
           {
            "colorbar": {
             "outlinewidth": 0,
             "ticks": ""
            },
            "colorscale": [
             [
              0,
              "#0d0887"
             ],
             [
              0.1111111111111111,
              "#46039f"
             ],
             [
              0.2222222222222222,
              "#7201a8"
             ],
             [
              0.3333333333333333,
              "#9c179e"
             ],
             [
              0.4444444444444444,
              "#bd3786"
             ],
             [
              0.5555555555555556,
              "#d8576b"
             ],
             [
              0.6666666666666666,
              "#ed7953"
             ],
             [
              0.7777777777777778,
              "#fb9f3a"
             ],
             [
              0.8888888888888888,
              "#fdca26"
             ],
             [
              1,
              "#f0f921"
             ]
            ],
            "type": "surface"
           }
          ],
          "table": [
           {
            "cells": {
             "fill": {
              "color": "#EBF0F8"
             },
             "line": {
              "color": "white"
             }
            },
            "header": {
             "fill": {
              "color": "#C8D4E3"
             },
             "line": {
              "color": "white"
             }
            },
            "type": "table"
           }
          ]
         },
         "layout": {
          "annotationdefaults": {
           "arrowcolor": "#2a3f5f",
           "arrowhead": 0,
           "arrowwidth": 1
          },
          "autotypenumbers": "strict",
          "coloraxis": {
           "colorbar": {
            "outlinewidth": 0,
            "ticks": ""
           }
          },
          "colorscale": {
           "diverging": [
            [
             0,
             "#8e0152"
            ],
            [
             0.1,
             "#c51b7d"
            ],
            [
             0.2,
             "#de77ae"
            ],
            [
             0.3,
             "#f1b6da"
            ],
            [
             0.4,
             "#fde0ef"
            ],
            [
             0.5,
             "#f7f7f7"
            ],
            [
             0.6,
             "#e6f5d0"
            ],
            [
             0.7,
             "#b8e186"
            ],
            [
             0.8,
             "#7fbc41"
            ],
            [
             0.9,
             "#4d9221"
            ],
            [
             1,
             "#276419"
            ]
           ],
           "sequential": [
            [
             0,
             "#0d0887"
            ],
            [
             0.1111111111111111,
             "#46039f"
            ],
            [
             0.2222222222222222,
             "#7201a8"
            ],
            [
             0.3333333333333333,
             "#9c179e"
            ],
            [
             0.4444444444444444,
             "#bd3786"
            ],
            [
             0.5555555555555556,
             "#d8576b"
            ],
            [
             0.6666666666666666,
             "#ed7953"
            ],
            [
             0.7777777777777778,
             "#fb9f3a"
            ],
            [
             0.8888888888888888,
             "#fdca26"
            ],
            [
             1,
             "#f0f921"
            ]
           ],
           "sequentialminus": [
            [
             0,
             "#0d0887"
            ],
            [
             0.1111111111111111,
             "#46039f"
            ],
            [
             0.2222222222222222,
             "#7201a8"
            ],
            [
             0.3333333333333333,
             "#9c179e"
            ],
            [
             0.4444444444444444,
             "#bd3786"
            ],
            [
             0.5555555555555556,
             "#d8576b"
            ],
            [
             0.6666666666666666,
             "#ed7953"
            ],
            [
             0.7777777777777778,
             "#fb9f3a"
            ],
            [
             0.8888888888888888,
             "#fdca26"
            ],
            [
             1,
             "#f0f921"
            ]
           ]
          },
          "colorway": [
           "#636efa",
           "#EF553B",
           "#00cc96",
           "#ab63fa",
           "#FFA15A",
           "#19d3f3",
           "#FF6692",
           "#B6E880",
           "#FF97FF",
           "#FECB52"
          ],
          "font": {
           "color": "#2a3f5f"
          },
          "geo": {
           "bgcolor": "white",
           "lakecolor": "white",
           "landcolor": "#E5ECF6",
           "showlakes": true,
           "showland": true,
           "subunitcolor": "white"
          },
          "hoverlabel": {
           "align": "left"
          },
          "hovermode": "closest",
          "mapbox": {
           "style": "light"
          },
          "paper_bgcolor": "white",
          "plot_bgcolor": "#E5ECF6",
          "polar": {
           "angularaxis": {
            "gridcolor": "white",
            "linecolor": "white",
            "ticks": ""
           },
           "bgcolor": "#E5ECF6",
           "radialaxis": {
            "gridcolor": "white",
            "linecolor": "white",
            "ticks": ""
           }
          },
          "scene": {
           "xaxis": {
            "backgroundcolor": "#E5ECF6",
            "gridcolor": "white",
            "gridwidth": 2,
            "linecolor": "white",
            "showbackground": true,
            "ticks": "",
            "zerolinecolor": "white"
           },
           "yaxis": {
            "backgroundcolor": "#E5ECF6",
            "gridcolor": "white",
            "gridwidth": 2,
            "linecolor": "white",
            "showbackground": true,
            "ticks": "",
            "zerolinecolor": "white"
           },
           "zaxis": {
            "backgroundcolor": "#E5ECF6",
            "gridcolor": "white",
            "gridwidth": 2,
            "linecolor": "white",
            "showbackground": true,
            "ticks": "",
            "zerolinecolor": "white"
           }
          },
          "shapedefaults": {
           "line": {
            "color": "#2a3f5f"
           }
          },
          "ternary": {
           "aaxis": {
            "gridcolor": "white",
            "linecolor": "white",
            "ticks": ""
           },
           "baxis": {
            "gridcolor": "white",
            "linecolor": "white",
            "ticks": ""
           },
           "bgcolor": "#E5ECF6",
           "caxis": {
            "gridcolor": "white",
            "linecolor": "white",
            "ticks": ""
           }
          },
          "title": {
           "x": 0.05
          },
          "xaxis": {
           "automargin": true,
           "gridcolor": "white",
           "linecolor": "white",
           "ticks": "",
           "title": {
            "standoff": 15
           },
           "zerolinecolor": "white",
           "zerolinewidth": 2
          },
          "yaxis": {
           "automargin": true,
           "gridcolor": "white",
           "linecolor": "white",
           "ticks": "",
           "title": {
            "standoff": 15
           },
           "zerolinecolor": "white",
           "zerolinewidth": 2
          }
         }
        },
        "title": {
         "text": "Calificaciones de Restaurantes con Nombres en Inglés"
        },
        "xaxis": {
         "anchor": "y",
         "domain": [
          0,
          1
         ],
         "title": {
          "text": "Calificación"
         }
        },
        "yaxis": {
         "anchor": "x",
         "domain": [
          0,
          1
         ],
         "title": {
          "text": "Nombre del Restaurante"
         }
        }
       }
      }
     },
     "metadata": {},
     "output_type": "display_data"
    }
   ],
   "source": [
    "def load_dict(ruta_dict):\n",
    "    with open(ruta_dict, 'r', encoding='utf-8') as f:\n",
    "        return set(word.strip().lower() for word in f.readlines())\n",
    "\n",
    "ruta_dict = 'C:/Users/andre/Desktop/Chill_Havana_Project/ext_files/words.txt' \n",
    "diccionario_ingles = load_dict(ruta_dict)\n",
    "\n",
    "def es_nombre_en_ingles(nombre):\n",
    "    if isinstance(nombre, str):\n",
    "        palabras = nombre.lower().split()\n",
    "        resultados = [palabra for palabra in palabras if palabra not in diccionario_ingles]\n",
    "        return len(resultados) == 0  # True if resultados is empty (all words are in the dict)\n",
    "    return False  # Return False for non-string inputs\n",
    "\n",
    "df['english_name'] = df['name'].apply(es_nombre_en_ingles)\n",
    "resultados_ingles = df[df['english_name']]\n",
    "resultados_ingles_rating = resultados_ingles[resultados_ingles['rating'].notna()]\n",
    "\n",
    "fig = px.bar(resultados_ingles_rating, \n",
    "            x='rating', \n",
    "            y='name', \n",
    "            orientation='h', \n",
    "            title='Calificaciones de Restaurantes con Nombres en Inglés',\n",
    "            labels={'name': 'Nombre del Restaurante', 'rating': 'Calificación'},\n",
    "            color='rating',\n",
    "            color_continuous_scale=px.colors.sequential.Viridis)\n",
    "fig.show()"
   ]
  },
  {
   "cell_type": "markdown",
   "metadata": {},
   "source": [
    "También estudiaron cuál era la letra inicial más frecuentes en los nombres de estos sitios, notando que encabezando la lista se encontraba la letra \"E\", seguida por la letra \"L\", lo que denotó una amplia tendencia a iniciar los nombres con artículos."
   ]
  },
  {
   "cell_type": "code",
   "execution_count": 31,
   "metadata": {},
   "outputs": [
    {
     "data": {
      "application/vnd.plotly.v1+json": {
       "config": {
        "plotlyServerURL": "https://plot.ly"
       },
       "data": [
        {
         "alignmentgroup": "True",
         "hovertemplate": "Letra Inicial=%{x}<br>Número de Restaurantes=%{marker.color}<extra></extra>",
         "legendgroup": "",
         "marker": {
          "color": [
           28,
           24,
           13,
           12,
           11,
           9,
           9,
           8,
           8,
           8,
           7,
           5,
           5,
           4,
           4,
           3,
           3,
           2,
           2,
           1,
           1,
           1,
           1,
           1
          ],
          "coloraxis": "coloraxis",
          "pattern": {
           "shape": ""
          }
         },
         "name": "",
         "offsetgroup": "",
         "orientation": "v",
         "showlegend": false,
         "text": [
          28,
          24,
          13,
          12,
          11,
          9,
          9,
          8,
          8,
          8,
          7,
          5,
          5,
          4,
          4,
          3,
          3,
          2,
          2,
          1,
          1,
          1,
          1,
          1
         ],
         "textposition": "auto",
         "type": "bar",
         "x": [
          "E",
          "L",
          "D",
          "C",
          "M",
          "R",
          "A",
          "T",
          "F",
          "S",
          "B",
          "P",
          "J",
          "H",
          "K",
          "G",
          "V",
          "O",
          "2",
          "N",
          "I",
          "5",
          "W",
          "Y"
         ],
         "xaxis": "x",
         "y": [
          28,
          24,
          13,
          12,
          11,
          9,
          9,
          8,
          8,
          8,
          7,
          5,
          5,
          4,
          4,
          3,
          3,
          2,
          2,
          1,
          1,
          1,
          1,
          1
         ],
         "yaxis": "y"
        }
       ],
       "layout": {
        "barmode": "group",
        "coloraxis": {
         "colorbar": {
          "title": {
           "text": "Número de Restaurantes"
          }
         },
         "colorscale": [
          [
           0,
           "#0d0887"
          ],
          [
           0.1111111111111111,
           "#46039f"
          ],
          [
           0.2222222222222222,
           "#7201a8"
          ],
          [
           0.3333333333333333,
           "#9c179e"
          ],
          [
           0.4444444444444444,
           "#bd3786"
          ],
          [
           0.5555555555555556,
           "#d8576b"
          ],
          [
           0.6666666666666666,
           "#ed7953"
          ],
          [
           0.7777777777777778,
           "#fb9f3a"
          ],
          [
           0.8888888888888888,
           "#fdca26"
          ],
          [
           1,
           "#f0f921"
          ]
         ]
        },
        "legend": {
         "tracegroupgap": 0
        },
        "template": {
         "data": {
          "bar": [
           {
            "error_x": {
             "color": "#2a3f5f"
            },
            "error_y": {
             "color": "#2a3f5f"
            },
            "marker": {
             "line": {
              "color": "#E5ECF6",
              "width": 0.5
             },
             "pattern": {
              "fillmode": "overlay",
              "size": 10,
              "solidity": 0.2
             }
            },
            "type": "bar"
           }
          ],
          "barpolar": [
           {
            "marker": {
             "line": {
              "color": "#E5ECF6",
              "width": 0.5
             },
             "pattern": {
              "fillmode": "overlay",
              "size": 10,
              "solidity": 0.2
             }
            },
            "type": "barpolar"
           }
          ],
          "carpet": [
           {
            "aaxis": {
             "endlinecolor": "#2a3f5f",
             "gridcolor": "white",
             "linecolor": "white",
             "minorgridcolor": "white",
             "startlinecolor": "#2a3f5f"
            },
            "baxis": {
             "endlinecolor": "#2a3f5f",
             "gridcolor": "white",
             "linecolor": "white",
             "minorgridcolor": "white",
             "startlinecolor": "#2a3f5f"
            },
            "type": "carpet"
           }
          ],
          "choropleth": [
           {
            "colorbar": {
             "outlinewidth": 0,
             "ticks": ""
            },
            "type": "choropleth"
           }
          ],
          "contour": [
           {
            "colorbar": {
             "outlinewidth": 0,
             "ticks": ""
            },
            "colorscale": [
             [
              0,
              "#0d0887"
             ],
             [
              0.1111111111111111,
              "#46039f"
             ],
             [
              0.2222222222222222,
              "#7201a8"
             ],
             [
              0.3333333333333333,
              "#9c179e"
             ],
             [
              0.4444444444444444,
              "#bd3786"
             ],
             [
              0.5555555555555556,
              "#d8576b"
             ],
             [
              0.6666666666666666,
              "#ed7953"
             ],
             [
              0.7777777777777778,
              "#fb9f3a"
             ],
             [
              0.8888888888888888,
              "#fdca26"
             ],
             [
              1,
              "#f0f921"
             ]
            ],
            "type": "contour"
           }
          ],
          "contourcarpet": [
           {
            "colorbar": {
             "outlinewidth": 0,
             "ticks": ""
            },
            "type": "contourcarpet"
           }
          ],
          "heatmap": [
           {
            "colorbar": {
             "outlinewidth": 0,
             "ticks": ""
            },
            "colorscale": [
             [
              0,
              "#0d0887"
             ],
             [
              0.1111111111111111,
              "#46039f"
             ],
             [
              0.2222222222222222,
              "#7201a8"
             ],
             [
              0.3333333333333333,
              "#9c179e"
             ],
             [
              0.4444444444444444,
              "#bd3786"
             ],
             [
              0.5555555555555556,
              "#d8576b"
             ],
             [
              0.6666666666666666,
              "#ed7953"
             ],
             [
              0.7777777777777778,
              "#fb9f3a"
             ],
             [
              0.8888888888888888,
              "#fdca26"
             ],
             [
              1,
              "#f0f921"
             ]
            ],
            "type": "heatmap"
           }
          ],
          "heatmapgl": [
           {
            "colorbar": {
             "outlinewidth": 0,
             "ticks": ""
            },
            "colorscale": [
             [
              0,
              "#0d0887"
             ],
             [
              0.1111111111111111,
              "#46039f"
             ],
             [
              0.2222222222222222,
              "#7201a8"
             ],
             [
              0.3333333333333333,
              "#9c179e"
             ],
             [
              0.4444444444444444,
              "#bd3786"
             ],
             [
              0.5555555555555556,
              "#d8576b"
             ],
             [
              0.6666666666666666,
              "#ed7953"
             ],
             [
              0.7777777777777778,
              "#fb9f3a"
             ],
             [
              0.8888888888888888,
              "#fdca26"
             ],
             [
              1,
              "#f0f921"
             ]
            ],
            "type": "heatmapgl"
           }
          ],
          "histogram": [
           {
            "marker": {
             "pattern": {
              "fillmode": "overlay",
              "size": 10,
              "solidity": 0.2
             }
            },
            "type": "histogram"
           }
          ],
          "histogram2d": [
           {
            "colorbar": {
             "outlinewidth": 0,
             "ticks": ""
            },
            "colorscale": [
             [
              0,
              "#0d0887"
             ],
             [
              0.1111111111111111,
              "#46039f"
             ],
             [
              0.2222222222222222,
              "#7201a8"
             ],
             [
              0.3333333333333333,
              "#9c179e"
             ],
             [
              0.4444444444444444,
              "#bd3786"
             ],
             [
              0.5555555555555556,
              "#d8576b"
             ],
             [
              0.6666666666666666,
              "#ed7953"
             ],
             [
              0.7777777777777778,
              "#fb9f3a"
             ],
             [
              0.8888888888888888,
              "#fdca26"
             ],
             [
              1,
              "#f0f921"
             ]
            ],
            "type": "histogram2d"
           }
          ],
          "histogram2dcontour": [
           {
            "colorbar": {
             "outlinewidth": 0,
             "ticks": ""
            },
            "colorscale": [
             [
              0,
              "#0d0887"
             ],
             [
              0.1111111111111111,
              "#46039f"
             ],
             [
              0.2222222222222222,
              "#7201a8"
             ],
             [
              0.3333333333333333,
              "#9c179e"
             ],
             [
              0.4444444444444444,
              "#bd3786"
             ],
             [
              0.5555555555555556,
              "#d8576b"
             ],
             [
              0.6666666666666666,
              "#ed7953"
             ],
             [
              0.7777777777777778,
              "#fb9f3a"
             ],
             [
              0.8888888888888888,
              "#fdca26"
             ],
             [
              1,
              "#f0f921"
             ]
            ],
            "type": "histogram2dcontour"
           }
          ],
          "mesh3d": [
           {
            "colorbar": {
             "outlinewidth": 0,
             "ticks": ""
            },
            "type": "mesh3d"
           }
          ],
          "parcoords": [
           {
            "line": {
             "colorbar": {
              "outlinewidth": 0,
              "ticks": ""
             }
            },
            "type": "parcoords"
           }
          ],
          "pie": [
           {
            "automargin": true,
            "type": "pie"
           }
          ],
          "scatter": [
           {
            "fillpattern": {
             "fillmode": "overlay",
             "size": 10,
             "solidity": 0.2
            },
            "type": "scatter"
           }
          ],
          "scatter3d": [
           {
            "line": {
             "colorbar": {
              "outlinewidth": 0,
              "ticks": ""
             }
            },
            "marker": {
             "colorbar": {
              "outlinewidth": 0,
              "ticks": ""
             }
            },
            "type": "scatter3d"
           }
          ],
          "scattercarpet": [
           {
            "marker": {
             "colorbar": {
              "outlinewidth": 0,
              "ticks": ""
             }
            },
            "type": "scattercarpet"
           }
          ],
          "scattergeo": [
           {
            "marker": {
             "colorbar": {
              "outlinewidth": 0,
              "ticks": ""
             }
            },
            "type": "scattergeo"
           }
          ],
          "scattergl": [
           {
            "marker": {
             "colorbar": {
              "outlinewidth": 0,
              "ticks": ""
             }
            },
            "type": "scattergl"
           }
          ],
          "scattermapbox": [
           {
            "marker": {
             "colorbar": {
              "outlinewidth": 0,
              "ticks": ""
             }
            },
            "type": "scattermapbox"
           }
          ],
          "scatterpolar": [
           {
            "marker": {
             "colorbar": {
              "outlinewidth": 0,
              "ticks": ""
             }
            },
            "type": "scatterpolar"
           }
          ],
          "scatterpolargl": [
           {
            "marker": {
             "colorbar": {
              "outlinewidth": 0,
              "ticks": ""
             }
            },
            "type": "scatterpolargl"
           }
          ],
          "scatterternary": [
           {
            "marker": {
             "colorbar": {
              "outlinewidth": 0,
              "ticks": ""
             }
            },
            "type": "scatterternary"
           }
          ],
          "surface": [
           {
            "colorbar": {
             "outlinewidth": 0,
             "ticks": ""
            },
            "colorscale": [
             [
              0,
              "#0d0887"
             ],
             [
              0.1111111111111111,
              "#46039f"
             ],
             [
              0.2222222222222222,
              "#7201a8"
             ],
             [
              0.3333333333333333,
              "#9c179e"
             ],
             [
              0.4444444444444444,
              "#bd3786"
             ],
             [
              0.5555555555555556,
              "#d8576b"
             ],
             [
              0.6666666666666666,
              "#ed7953"
             ],
             [
              0.7777777777777778,
              "#fb9f3a"
             ],
             [
              0.8888888888888888,
              "#fdca26"
             ],
             [
              1,
              "#f0f921"
             ]
            ],
            "type": "surface"
           }
          ],
          "table": [
           {
            "cells": {
             "fill": {
              "color": "#EBF0F8"
             },
             "line": {
              "color": "white"
             }
            },
            "header": {
             "fill": {
              "color": "#C8D4E3"
             },
             "line": {
              "color": "white"
             }
            },
            "type": "table"
           }
          ]
         },
         "layout": {
          "annotationdefaults": {
           "arrowcolor": "#2a3f5f",
           "arrowhead": 0,
           "arrowwidth": 1
          },
          "autotypenumbers": "strict",
          "coloraxis": {
           "colorbar": {
            "outlinewidth": 0,
            "ticks": ""
           }
          },
          "colorscale": {
           "diverging": [
            [
             0,
             "#8e0152"
            ],
            [
             0.1,
             "#c51b7d"
            ],
            [
             0.2,
             "#de77ae"
            ],
            [
             0.3,
             "#f1b6da"
            ],
            [
             0.4,
             "#fde0ef"
            ],
            [
             0.5,
             "#f7f7f7"
            ],
            [
             0.6,
             "#e6f5d0"
            ],
            [
             0.7,
             "#b8e186"
            ],
            [
             0.8,
             "#7fbc41"
            ],
            [
             0.9,
             "#4d9221"
            ],
            [
             1,
             "#276419"
            ]
           ],
           "sequential": [
            [
             0,
             "#0d0887"
            ],
            [
             0.1111111111111111,
             "#46039f"
            ],
            [
             0.2222222222222222,
             "#7201a8"
            ],
            [
             0.3333333333333333,
             "#9c179e"
            ],
            [
             0.4444444444444444,
             "#bd3786"
            ],
            [
             0.5555555555555556,
             "#d8576b"
            ],
            [
             0.6666666666666666,
             "#ed7953"
            ],
            [
             0.7777777777777778,
             "#fb9f3a"
            ],
            [
             0.8888888888888888,
             "#fdca26"
            ],
            [
             1,
             "#f0f921"
            ]
           ],
           "sequentialminus": [
            [
             0,
             "#0d0887"
            ],
            [
             0.1111111111111111,
             "#46039f"
            ],
            [
             0.2222222222222222,
             "#7201a8"
            ],
            [
             0.3333333333333333,
             "#9c179e"
            ],
            [
             0.4444444444444444,
             "#bd3786"
            ],
            [
             0.5555555555555556,
             "#d8576b"
            ],
            [
             0.6666666666666666,
             "#ed7953"
            ],
            [
             0.7777777777777778,
             "#fb9f3a"
            ],
            [
             0.8888888888888888,
             "#fdca26"
            ],
            [
             1,
             "#f0f921"
            ]
           ]
          },
          "colorway": [
           "#636efa",
           "#EF553B",
           "#00cc96",
           "#ab63fa",
           "#FFA15A",
           "#19d3f3",
           "#FF6692",
           "#B6E880",
           "#FF97FF",
           "#FECB52"
          ],
          "font": {
           "color": "#2a3f5f"
          },
          "geo": {
           "bgcolor": "white",
           "lakecolor": "white",
           "landcolor": "#E5ECF6",
           "showlakes": true,
           "showland": true,
           "subunitcolor": "white"
          },
          "hoverlabel": {
           "align": "left"
          },
          "hovermode": "closest",
          "mapbox": {
           "style": "light"
          },
          "paper_bgcolor": "white",
          "plot_bgcolor": "#E5ECF6",
          "polar": {
           "angularaxis": {
            "gridcolor": "white",
            "linecolor": "white",
            "ticks": ""
           },
           "bgcolor": "#E5ECF6",
           "radialaxis": {
            "gridcolor": "white",
            "linecolor": "white",
            "ticks": ""
           }
          },
          "scene": {
           "xaxis": {
            "backgroundcolor": "#E5ECF6",
            "gridcolor": "white",
            "gridwidth": 2,
            "linecolor": "white",
            "showbackground": true,
            "ticks": "",
            "zerolinecolor": "white"
           },
           "yaxis": {
            "backgroundcolor": "#E5ECF6",
            "gridcolor": "white",
            "gridwidth": 2,
            "linecolor": "white",
            "showbackground": true,
            "ticks": "",
            "zerolinecolor": "white"
           },
           "zaxis": {
            "backgroundcolor": "#E5ECF6",
            "gridcolor": "white",
            "gridwidth": 2,
            "linecolor": "white",
            "showbackground": true,
            "ticks": "",
            "zerolinecolor": "white"
           }
          },
          "shapedefaults": {
           "line": {
            "color": "#2a3f5f"
           }
          },
          "ternary": {
           "aaxis": {
            "gridcolor": "white",
            "linecolor": "white",
            "ticks": ""
           },
           "baxis": {
            "gridcolor": "white",
            "linecolor": "white",
            "ticks": ""
           },
           "bgcolor": "#E5ECF6",
           "caxis": {
            "gridcolor": "white",
            "linecolor": "white",
            "ticks": ""
           }
          },
          "title": {
           "x": 0.05
          },
          "xaxis": {
           "automargin": true,
           "gridcolor": "white",
           "linecolor": "white",
           "ticks": "",
           "title": {
            "standoff": 15
           },
           "zerolinecolor": "white",
           "zerolinewidth": 2
          },
          "yaxis": {
           "automargin": true,
           "gridcolor": "white",
           "linecolor": "white",
           "ticks": "",
           "title": {
            "standoff": 15
           },
           "zerolinecolor": "white",
           "zerolinewidth": 2
          }
         }
        },
        "title": {
         "text": "Cantidad de Restaurantes por Letra Inicial del Nombre"
        },
        "xaxis": {
         "anchor": "y",
         "domain": [
          0,
          1
         ],
         "title": {
          "text": "Letra Inicial"
         }
        },
        "yaxis": {
         "anchor": "x",
         "domain": [
          0,
          1
         ],
         "title": {
          "text": "Número de Restaurantes"
         }
        }
       }
      }
     },
     "metadata": {},
     "output_type": "display_data"
    }
   ],
   "source": [
    "df['first_letter'] = df['name'].str[0].str.upper()\n",
    "\n",
    "letra_counts = df['first_letter'].value_counts().reset_index()\n",
    "letra_counts.columns = ['first_letter', 'count']\n",
    "\n",
    "fig = px.bar(letra_counts, \n",
    "            x='first_letter', \n",
    "            y='count', \n",
    "            color='count', \n",
    "            barmode='group',\n",
    "            title='Cantidad de Restaurantes por Letra Inicial del Nombre',\n",
    "            labels={'first_letter': 'Letra Inicial', 'count': 'Número de Restaurantes'},\n",
    "            text='count')\n",
    "fig.show()"
   ]
  },
  {
   "cell_type": "markdown",
   "metadata": {},
   "source": [
    "El estudio arrojó además que la palabra más repetida en los nombres era \"café\" "
   ]
  },
  {
   "cell_type": "code",
   "execution_count": 33,
   "metadata": {},
   "outputs": [
    {
     "name": "stdout",
     "output_type": "stream",
     "text": [
      "La palabra que más repetida en los nombres es 'café', con un total de 10 veces.\n"
     ]
    }
   ],
   "source": [
    "todas_las_palabras = []\n",
    "for nombre in df['name']:\n",
    "    if isinstance(nombre, str):\n",
    "        palabras = nombre.lower().split()\n",
    "        todas_las_palabras.extend(palabras)\n",
    "\n",
    "descartadas = [\"la\", \"el\", \"de\"]\n",
    "\n",
    "frecuencia_palabras = {}\n",
    "for palabra in todas_las_palabras:\n",
    "    if palabra in frecuencia_palabras and palabra not in descartadas:\n",
    "        frecuencia_palabras[palabra] += 1\n",
    "    else:\n",
    "        frecuencia_palabras[palabra] = 1\n",
    "\n",
    "palabra_mas_comun = None\n",
    "conteo_maximo = 0\n",
    "\n",
    "for palabra, conteo in frecuencia_palabras.items():\n",
    "    if conteo > conteo_maximo:\n",
    "        conteo_maximo = conteo\n",
    "        palabra_mas_comun = palabra\n",
    "\n",
    "print(f\"La palabra que más repetida en los nombres es '{palabra_mas_comun}', con un total de {conteo_maximo} veces.\")"
   ]
  },
  {
   "cell_type": "markdown",
   "metadata": {},
   "source": [
    "Era un día como cualquier otro en La Habana, pero de repente, la ciudad se sumió en la oscuridad. Una caída del Sistema Eléctrico Nacional había provocado un apagón masivo que afectó a millones de cubanos. En ese momento incluso al grupo de jóvenes se les complicó comunicarse para hablar sobre los avances del proyecto. Todo la población tenía su mente en la situación actual y uno de los principales problemas de ese momento era la comida. Los amigos de \"Chill Havana\", que estaban trabajando en su proyecto, se dieron cuenta de que la situación había cambiado drásticamente. Se volvió urgente la necesidad de conocer cuáles lugares contaban con planta eléctrica para continuar ofreciendo servicio en medio de la crisis. "
   ]
  },
  {
   "cell_type": "code",
   "execution_count": 89,
   "metadata": {},
   "outputs": [
    {
     "name": "stdout",
     "output_type": "stream",
     "text": [
      "                                  name                district\n",
      "0                             28 y Mar                   Playa\n",
      "1                           5ta Billar                   Regla\n",
      "2                         Abuelo D'Oro                 Boyeros\n",
      "3                     Aires de Cojimar         Habana del Este\n",
      "4                               Amalfi                   Playa\n",
      "5                      Anillo Habanero              Guanabacoa\n",
      "6                              Antojos         La Habana Vieja\n",
      "7                         Asia de Cuba  Plaza de la Revolución\n",
      "8                             Bocattas                   Playa\n",
      "9                          Bom Apetite                   Playa\n",
      "10                       Brutal Habana                   Cerro\n",
      "11                Bueníssimo heladería           Centro Habana\n",
      "12              Pizzería Los Atrevidos          Arroyo Naranjo\n",
      "13                      Café Del Ángel         La Habana Vieja\n",
      "14                          Café Tilin                 Boyeros\n",
      "15                        Café Toscano   San Miguel del Padrón\n",
      "16                       Café Clington                   Playa\n",
      "17                    Casa Mía Paladar  Plaza de la Revolución\n",
      "18                      Colesterol 5.1                Marianao\n",
      "19                             Crystal                 Cotorro\n",
      "20                  DiVino Restaurante          Arroyo Naranjo\n",
      "21                            Don Omar                 Cotorro\n",
      "22                             D'kmino                   Playa\n",
      "23                        El Vampirito  Plaza de la Revolución\n",
      "24                           El Bejuco  Plaza de la Revolución\n",
      "25                           El Idilio  Plaza de la Revolución\n",
      "26                          El Tablazo  Plaza de la Revolución\n",
      "27                            El Bache                 Cotorro\n",
      "28                             El Biky           Centro Habana\n",
      "29                            El Cocal                 Cotorro\n",
      "30                   El cuarto de Tula           Centro Habana\n",
      "31                          El Desafío                 Cotorro\n",
      "32                            El Gabán                   Playa\n",
      "33                          El Tráfico   San Miguel del Padrón\n",
      "34                            Entabla2                 Boyeros\n",
      "35                   Esquina D' Fraile  Plaza de la Revolución\n",
      "36                             Fellini                   Playa\n",
      "37                      Finca La Pinta                 La Lisa\n",
      "38                         Food Master                   Playa\n",
      "39                           Fuumiyaki  Plaza de la Revolución\n",
      "40                        Habana Tokio         La Habana Vieja\n",
      "41                           Home Deli                   Playa\n",
      "42                         Ivonne Café           Centro Habana\n",
      "43                             JacKafé         Habana del Este\n",
      "44                           Jota_Jota                   Playa\n",
      "45                        Juanky's Pan                 La Lisa\n",
      "46                          Kasa Takos           Centro Habana\n",
      "47                              Kmpary                 Boyeros\n",
      "48                  La Barrita Onbazar                   Cerro\n",
      "49                          La Carreta  Plaza de la Revolución\n",
      "50                         La Catedral  Plaza de la Revolución\n",
      "51                          Lacret 559         Diez de Octubre\n",
      "52                          La Juliana           Centro Habana\n",
      "53                             La Lola                   Cerro\n",
      "54                            La Ronda         Diez de Octubre\n",
      "55                          La Catrina                   Playa\n",
      "56                        La Chucheria                   Playa\n",
      "57                            La Gordy                 Boyeros\n",
      "58                           La Marina                   Playa\n",
      "59                            La Novia                 La Lisa\n",
      "60                   La Rosa De Ortega         Diez de Octubre\n",
      "61                La ruta de Hemingway         Habana del Este\n",
      "62                        Leyendhabana                   Cerro\n",
      "63                         Lo de Monik         La Habana Vieja\n",
      "64                         Los caneyes          Arroyo Naranjo\n",
      "65                       Luly Bar Café                   Playa\n",
      "66                         Mar Adentro  Plaza de la Revolución\n",
      "67                           McCesar's                 Cotorro\n",
      "68                           Mercy bar                   Playa\n",
      "69                   Mirador de Acosta         Diez de Octubre\n",
      "70                          Mi terraza                 Cotorro\n",
      "71                             Mokalex                   Playa\n",
      "72                              Mythos         La Habana Vieja\n",
      "73                        Nel Paradiso         Diez de Octubre\n",
      "74            Comida Criolla Ocho Vías          Arroyo Naranjo\n",
      "75                             Ole Ole                 Cotorro\n",
      "76                         Otra manera                   Playa\n",
      "77  Planh Enoteca & Restaurante Mithai         La Habana Vieja\n",
      "78                           Qbanas 60                   Playa\n",
      "79                 Ranchon El Pinareño                 Boyeros\n",
      "80                   Razones y motivos  Plaza de la Revolución\n",
      "81                            RicarDon           Centro Habana\n",
      "82                         Salchipizza           Centro Habana\n",
      "83                          Salsa Mora                   Playa\n",
      "84                     San Rafael 1051           Centro Habana\n",
      "85                      Santy Pescador                   Playa\n",
      "86                              Sapori                   Playa\n",
      "87                          Shapuseros                   Cerro\n",
      "88                            Tanokura                 Boyeros\n",
      "89                    Teniente Rey 360         La Habana Vieja\n",
      "90                       Toros y Tapas                   Playa\n",
      "91                           Tu Tiempo           Centro Habana\n",
      "92                         Vale & Vane              Guanabacoa\n",
      "93                           Villarino                   Playa\n",
      "94                          Vita Nuova  Plaza de la Revolución\n",
      "95                                Wapa  Plaza de la Revolución\n"
     ]
    }
   ],
   "source": [
    "services_df = pd.json_normalize(df['services'])\n",
    "con_planta = services_df[services_df['plant'] == True].index\n",
    "resultado = df.loc[con_planta, ['name', 'district']]\n",
    "resultado = resultado.reset_index(drop=True)\n",
    "\n",
    "pd.set_option('display.max_rows', None)  \n",
    "pd.set_option('display.max_columns', None)  \n",
    "pd.set_option('display.width', None)  \n",
    "pd.set_option('display.max_colwidth', None)  \n",
    "print(resultado)"
   ]
  },
  {
   "cell_type": "markdown",
   "metadata": {},
   "source": [
    "— Sin la electricidad toda comunicación por redes móviles se vuelve casi imposible, ¿Cómo van las personas a averiguar si los establecimientos están abiertos o no?-indagó Paolo.\n",
    "\n",
    "— Tienes razón, en cuanto todo se restablezca debemos añadir a nuestra web cuáles de estos tienen teléfono fijo para que la gente pueda llamar y confirmar en tiempos así de difíciles."
   ]
  },
  {
   "cell_type": "code",
   "execution_count": 88,
   "metadata": {},
   "outputs": [
    {
     "name": "stdout",
     "output_type": "stream",
     "text": [
      "                                  name type_of_establishment  \\\n",
      "0                             28 y Mar           restaurante   \n",
      "1                           5ta Billar     bar - restaurante   \n",
      "2                         Abuelo D'Oro           restaurante   \n",
      "3                     Aires de Cojimar     bar - restaurante   \n",
      "4                               Amalfi     bar - restaurante   \n",
      "5                      Anillo Habanero           restaurante   \n",
      "6                              Antojos     bar - restaurante   \n",
      "7                         Asia de Cuba     bar - restaurante   \n",
      "8                             Bocattas           restaurante   \n",
      "9                          Bom Apetite           restaurante   \n",
      "10                       Brutal Habana           restaurante   \n",
      "11                Bueníssimo heladería           restaurante   \n",
      "12              Pizzería Los Atrevidos           restaurante   \n",
      "13                      Café Del Ángel     bar - restaurante   \n",
      "14                          Café Tilin           restaurante   \n",
      "15                        Café Toscano           restaurante   \n",
      "16                       Café Clington           restaurante   \n",
      "17                    Casa Mía Paladar           restaurante   \n",
      "18                      Colesterol 5.1           restaurante   \n",
      "19                             Crystal     bar - restaurante   \n",
      "20                  DiVino Restaurante     bar - restaurante   \n",
      "21                            Don Omar           restaurante   \n",
      "22                             D'kmino           restaurante   \n",
      "23                        El Vampirito           restaurante   \n",
      "24                           El Bejuco     bar - restaurante   \n",
      "25                           El Idilio           restaurante   \n",
      "26                          El Tablazo     bar - restaurante   \n",
      "27                            El Bache           restaurante   \n",
      "28                             El Biky     bar - restaurante   \n",
      "29                            El Cocal           restaurante   \n",
      "30                   El cuarto de Tula     bar - restaurante   \n",
      "31                          El Desafío           restaurante   \n",
      "32                            El Gabán     bar - restaurante   \n",
      "33                          El Tráfico           restaurante   \n",
      "34                            Entabla2           restaurante   \n",
      "35                             Fellini     bar - restaurante   \n",
      "36                      Finca La Pinta           restaurante   \n",
      "37                         Food Master           restaurante   \n",
      "38                           Fuumiyaki           restaurante   \n",
      "39                        Habana Tokio           restaurante   \n",
      "40                           Home Deli           restaurante   \n",
      "41                         Ivonne Café           restaurante   \n",
      "42                             JacKafé     bar - restaurante   \n",
      "43                           Jota_Jota     bar - restaurante   \n",
      "44                        Juanky's Pan     bar - restaurante   \n",
      "45                          Kasa Takos     bar - restaurante   \n",
      "46                              Kmpary     bar - restaurante   \n",
      "47                  La Barrita Onbazar     bar - restaurante   \n",
      "48                          La Carreta     bar - restaurante   \n",
      "49                         La Catedral     bar - restaurante   \n",
      "50                          Lacret 559     bar - restaurante   \n",
      "51                          La Juliana           restaurante   \n",
      "52                             La Lola     bar - restaurante   \n",
      "53                            La Ronda           restaurante   \n",
      "54                          La Catrina           restaurante   \n",
      "55                        La Chucheria     bar - restaurante   \n",
      "56                            La Gordy           restaurante   \n",
      "57                           La Marina     bar - restaurante   \n",
      "58                            La Novia           restaurante   \n",
      "59                   La Rosa De Ortega     bar - restaurante   \n",
      "60                La ruta de Hemingway     bar - restaurante   \n",
      "61                        Leyendhabana     bar - restaurante   \n",
      "62                         Lo de Monik     bar - restaurante   \n",
      "63                         Los caneyes           restaurante   \n",
      "64                       Luly Bar Café     bar - restaurante   \n",
      "65                         Mar Adentro           restaurante   \n",
      "66                           McCesar's     bar - restaurante   \n",
      "67                           Mercy bar     bar - restaurante   \n",
      "68                   Mirador de Acosta           restaurante   \n",
      "69                          Mi terraza           restaurante   \n",
      "70                             Mokalex           restaurante   \n",
      "71                              Mythos     bar - restaurante   \n",
      "72                        Nel Paradiso           restaurante   \n",
      "73            Comida Criolla Ocho Vías           restaurante   \n",
      "74                             Ole Ole     bar - restaurante   \n",
      "75                         Otra manera           restaurante   \n",
      "76  Planh Enoteca & Restaurante Mithai     bar - restaurante   \n",
      "77                           Qbanas 60     bar - restaurante   \n",
      "78                 Ranchon El Pinareño           restaurante   \n",
      "79                   Razones y motivos           restaurante   \n",
      "80                            RicarDon           restaurante   \n",
      "81                         Salchipizza           restaurante   \n",
      "82                          Salsa Mora     bar - restaurante   \n",
      "83                     San Rafael 1051           restaurante   \n",
      "84                      Santy Pescador     bar - restaurante   \n",
      "85                              Sapori           restaurante   \n",
      "86                          Shapuseros     bar - restaurante   \n",
      "87                            Tanokura     bar - restaurante   \n",
      "88                    Teniente Rey 360     bar - restaurante   \n",
      "89                       Toros y Tapas     bar - restaurante   \n",
      "90                           Tu Tiempo           restaurante   \n",
      "91                         Vale & Vane           restaurante   \n",
      "92                           Villarino     bar - restaurante   \n",
      "93                          Vita Nuova     bar - restaurante   \n",
      "94                                Wapa           restaurante   \n",
      "\n",
      "                  district  \n",
      "0                    Playa  \n",
      "1                    Regla  \n",
      "2                  Boyeros  \n",
      "3          Habana del Este  \n",
      "4                    Playa  \n",
      "5               Guanabacoa  \n",
      "6          La Habana Vieja  \n",
      "7   Plaza de la Revolución  \n",
      "8                    Playa  \n",
      "9                    Playa  \n",
      "10                   Cerro  \n",
      "11           Centro Habana  \n",
      "12          Arroyo Naranjo  \n",
      "13         La Habana Vieja  \n",
      "14                 Boyeros  \n",
      "15   San Miguel del Padrón  \n",
      "16                   Playa  \n",
      "17  Plaza de la Revolución  \n",
      "18                Marianao  \n",
      "19                 Cotorro  \n",
      "20          Arroyo Naranjo  \n",
      "21                 Cotorro  \n",
      "22                   Playa  \n",
      "23  Plaza de la Revolución  \n",
      "24  Plaza de la Revolución  \n",
      "25  Plaza de la Revolución  \n",
      "26  Plaza de la Revolución  \n",
      "27                 Cotorro  \n",
      "28           Centro Habana  \n",
      "29                 Cotorro  \n",
      "30           Centro Habana  \n",
      "31                 Cotorro  \n",
      "32                   Playa  \n",
      "33   San Miguel del Padrón  \n",
      "34                 Boyeros  \n",
      "35                   Playa  \n",
      "36                 La Lisa  \n",
      "37                   Playa  \n",
      "38  Plaza de la Revolución  \n",
      "39         La Habana Vieja  \n",
      "40                   Playa  \n",
      "41           Centro Habana  \n",
      "42         Habana del Este  \n",
      "43                   Playa  \n",
      "44                 La Lisa  \n",
      "45           Centro Habana  \n",
      "46                 Boyeros  \n",
      "47                   Cerro  \n",
      "48  Plaza de la Revolución  \n",
      "49  Plaza de la Revolución  \n",
      "50         Diez de Octubre  \n",
      "51           Centro Habana  \n",
      "52                   Cerro  \n",
      "53         Diez de Octubre  \n",
      "54                   Playa  \n",
      "55                   Playa  \n",
      "56                 Boyeros  \n",
      "57                   Playa  \n",
      "58                 La Lisa  \n",
      "59         Diez de Octubre  \n",
      "60         Habana del Este  \n",
      "61                   Cerro  \n",
      "62         La Habana Vieja  \n",
      "63          Arroyo Naranjo  \n",
      "64                   Playa  \n",
      "65  Plaza de la Revolución  \n",
      "66                 Cotorro  \n",
      "67                   Playa  \n",
      "68         Diez de Octubre  \n",
      "69                 Cotorro  \n",
      "70                   Playa  \n",
      "71         La Habana Vieja  \n",
      "72         Diez de Octubre  \n",
      "73          Arroyo Naranjo  \n",
      "74                 Cotorro  \n",
      "75                   Playa  \n",
      "76         La Habana Vieja  \n",
      "77                   Playa  \n",
      "78                 Boyeros  \n",
      "79  Plaza de la Revolución  \n",
      "80           Centro Habana  \n",
      "81           Centro Habana  \n",
      "82                   Playa  \n",
      "83           Centro Habana  \n",
      "84                   Playa  \n",
      "85                   Playa  \n",
      "86                   Cerro  \n",
      "87                 Boyeros  \n",
      "88         La Habana Vieja  \n",
      "89                   Playa  \n",
      "90           Centro Habana  \n",
      "91              Guanabacoa  \n",
      "92                   Playa  \n",
      "93  Plaza de la Revolución  \n",
      "94  Plaza de la Revolución  \n"
     ]
    }
   ],
   "source": [
    "services_df = pd.json_normalize(df['services'])\n",
    "contact_df = pd.json_normalize(df['contact'])\n",
    "\n",
    "df_combined = df.join(services_df, rsuffix='_service').join(contact_df, rsuffix='_contact')\n",
    "resultado = df_combined[(df_combined['plant'] == True) & (df_combined['phone_number'].notnull())]\n",
    "resultado_final = resultado[['name', 'type_of_establishment', 'district']]\n",
    "resultado_final = resultado_final.reset_index(drop=True)\n",
    "\n",
    "print(resultado_final)"
   ]
  }
 ],
 "metadata": {
  "kernelspec": {
   "display_name": "base",
   "language": "python",
   "name": "python3"
  },
  "language_info": {
   "codemirror_mode": {
    "name": "ipython",
    "version": 3
   },
   "file_extension": ".py",
   "mimetype": "text/x-python",
   "name": "python",
   "nbconvert_exporter": "python",
   "pygments_lexer": "ipython3",
   "version": "3.12.7"
  }
 },
 "nbformat": 4,
 "nbformat_minor": 2
}
