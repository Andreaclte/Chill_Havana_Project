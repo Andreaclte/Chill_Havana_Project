{
 "cells": [
  {
   "cell_type": "markdown",
   "metadata": {},
   "source": [
    "# \"Chill Havana\" Project\n",
    "### Análisis de Bares y Restaurantes en La Habana"
   ]
  },
  {
   "cell_type": "markdown",
   "metadata": {},
   "source": [
    "Un día como cualquiera salía un grupo de jóvenes de su escuela con ganas de pasar un rato chill con los colegas, algo para picar y una musiquita de fondo. Ya todos habían dado el sí cuando alguien soltó la misma pregunta de siempre: Loco, ¿pero a dónde vamos? Nada, que esa era la pregunta que casi siempre cortaba todo el rollo. Buscar el sitio ideal para las vibes del momento era bastante complicado, en ningún sitio ponían toda la info necesaria. "
   ]
  },
  {
   "cell_type": "markdown",
   "metadata": {},
   "source": [
    "-\"Tú busca en MenúCuba, ella en Instagram y yo la dirección en Maps, y ojalá salga todo!\""
   ]
  },
  {
   "cell_type": "markdown",
   "metadata": {},
   "source": [
    "¿Nunca has sentido tremendo agobio de escoger a qué lugar salir? Pues ellos sí y decidieron que era la última vez. ¿Qué es lo más importante para ti a la hora de elegir? ¿La variedad del menú? ¿Un plato específico? ¿La ubicación? ¿La valoración de otras personas? \n",
    "Nada, que tú puedes elegir lo que quieras porque para eso aquella tarde nació el proyecto \"Chill Havana\"."
   ]
  },
  {
   "cell_type": "markdown",
   "metadata": {},
   "source": [
    "Al final, después de tanto debate, ese día no salieron, se quedaron pensando y organizando sus ideas. Sí, sí, ellos se tomaron el problema como algo personal, pero tranqui, tenían su arma secreta: el amiguito del grupo que le sabía a la tecnología. Estaba clarísimo, querían hacer una página web que tuviera datos sobre más de 200 bares y restaurantes de La Habana para que cualquiera que quisiera elegir un lugar pudiera encontrar allí todo lo necesario para decidirse por el más adecuado para la ocasión.\n",
    "Oye, que el proyecto era tremenda idea eh. ¿Cómo crees que cambiaría las cosas tener un sitio web tan guay?"
   ]
  },
  {
   "cell_type": "code",
   "execution_count": 19,
   "metadata": {},
   "outputs": [],
   "source": [
    "#Crear el dataframe con los json para el trabajo con las bibliotecas de Python\n",
    "import glob\n",
    "import json\n",
    "import pandas as pd\n",
    "import matplotlib.pyplot as plt\n",
    "import folium\n",
    "import plotly.express as px\n",
    "import numpy as np\n",
    "import warnings\n",
    "warnings.filterwarnings(\"ignore\")\n",
    "\n",
    "def crear_data_frame():\n",
    "    ruta = \"C:/Users/andre/Desktop/Chill_Havana_Project/Jsons\"\n",
    "    data = []\n",
    "    for archivo in glob.glob(ruta + \"/*.json\"):\n",
    "        with open(archivo, 'r', encoding='utf-8') as f:\n",
    "            contenido = json.load(f)\n",
    "            data.append(contenido)\n",
    "            \n",
    "    df = pd.DataFrame(data)\n",
    "    return df\n",
    "\n",
    "df = crear_data_frame()\n",
    "#print(df['name'])"
   ]
  },
  {
   "cell_type": "markdown",
   "metadata": {},
   "source": [
    "El grupo seleccionó tres municipios cabecera por ser los más frecuentados por ellos y por muchos habaneros: Plaza de la Revolución, Playa y Centro Habana, de estos tres analizaron 30 establecimientos y del resto solo 10. Todos estos fueron clasificados en \"bar\", \"restaurante\" o \"bar - restaurante\", notando que de los establecimientos estudiados predominaban los restaurantes."
   ]
  },
  {
   "cell_type": "code",
   "execution_count": 69,
   "metadata": {},
   "outputs": [
    {
     "data": {
      "application/vnd.plotly.v1+json": {
       "config": {
        "plotlyServerURL": "https://plot.ly"
       },
       "data": [
        {
         "domain": {
          "x": [
           0,
           1
          ],
          "y": [
           0,
           1
          ]
         },
         "hole": 0.1,
         "hovertemplate": "Tipo de Establecimiento=%{label}<br>Cantidad=%{value}<extra></extra>",
         "labels": [
          "restaurante",
          "bar - restaurante",
          "bar"
         ],
         "legendgroup": "",
         "name": "",
         "showlegend": true,
         "type": "pie",
         "values": [
          122,
          74,
          2
         ]
        }
       ],
       "layout": {
        "legend": {
         "tracegroupgap": 0
        },
        "template": {
         "data": {
          "bar": [
           {
            "error_x": {
             "color": "#2a3f5f"
            },
            "error_y": {
             "color": "#2a3f5f"
            },
            "marker": {
             "line": {
              "color": "#E5ECF6",
              "width": 0.5
             },
             "pattern": {
              "fillmode": "overlay",
              "size": 10,
              "solidity": 0.2
             }
            },
            "type": "bar"
           }
          ],
          "barpolar": [
           {
            "marker": {
             "line": {
              "color": "#E5ECF6",
              "width": 0.5
             },
             "pattern": {
              "fillmode": "overlay",
              "size": 10,
              "solidity": 0.2
             }
            },
            "type": "barpolar"
           }
          ],
          "carpet": [
           {
            "aaxis": {
             "endlinecolor": "#2a3f5f",
             "gridcolor": "white",
             "linecolor": "white",
             "minorgridcolor": "white",
             "startlinecolor": "#2a3f5f"
            },
            "baxis": {
             "endlinecolor": "#2a3f5f",
             "gridcolor": "white",
             "linecolor": "white",
             "minorgridcolor": "white",
             "startlinecolor": "#2a3f5f"
            },
            "type": "carpet"
           }
          ],
          "choropleth": [
           {
            "colorbar": {
             "outlinewidth": 0,
             "ticks": ""
            },
            "type": "choropleth"
           }
          ],
          "contour": [
           {
            "colorbar": {
             "outlinewidth": 0,
             "ticks": ""
            },
            "colorscale": [
             [
              0,
              "#0d0887"
             ],
             [
              0.1111111111111111,
              "#46039f"
             ],
             [
              0.2222222222222222,
              "#7201a8"
             ],
             [
              0.3333333333333333,
              "#9c179e"
             ],
             [
              0.4444444444444444,
              "#bd3786"
             ],
             [
              0.5555555555555556,
              "#d8576b"
             ],
             [
              0.6666666666666666,
              "#ed7953"
             ],
             [
              0.7777777777777778,
              "#fb9f3a"
             ],
             [
              0.8888888888888888,
              "#fdca26"
             ],
             [
              1,
              "#f0f921"
             ]
            ],
            "type": "contour"
           }
          ],
          "contourcarpet": [
           {
            "colorbar": {
             "outlinewidth": 0,
             "ticks": ""
            },
            "type": "contourcarpet"
           }
          ],
          "heatmap": [
           {
            "colorbar": {
             "outlinewidth": 0,
             "ticks": ""
            },
            "colorscale": [
             [
              0,
              "#0d0887"
             ],
             [
              0.1111111111111111,
              "#46039f"
             ],
             [
              0.2222222222222222,
              "#7201a8"
             ],
             [
              0.3333333333333333,
              "#9c179e"
             ],
             [
              0.4444444444444444,
              "#bd3786"
             ],
             [
              0.5555555555555556,
              "#d8576b"
             ],
             [
              0.6666666666666666,
              "#ed7953"
             ],
             [
              0.7777777777777778,
              "#fb9f3a"
             ],
             [
              0.8888888888888888,
              "#fdca26"
             ],
             [
              1,
              "#f0f921"
             ]
            ],
            "type": "heatmap"
           }
          ],
          "heatmapgl": [
           {
            "colorbar": {
             "outlinewidth": 0,
             "ticks": ""
            },
            "colorscale": [
             [
              0,
              "#0d0887"
             ],
             [
              0.1111111111111111,
              "#46039f"
             ],
             [
              0.2222222222222222,
              "#7201a8"
             ],
             [
              0.3333333333333333,
              "#9c179e"
             ],
             [
              0.4444444444444444,
              "#bd3786"
             ],
             [
              0.5555555555555556,
              "#d8576b"
             ],
             [
              0.6666666666666666,
              "#ed7953"
             ],
             [
              0.7777777777777778,
              "#fb9f3a"
             ],
             [
              0.8888888888888888,
              "#fdca26"
             ],
             [
              1,
              "#f0f921"
             ]
            ],
            "type": "heatmapgl"
           }
          ],
          "histogram": [
           {
            "marker": {
             "pattern": {
              "fillmode": "overlay",
              "size": 10,
              "solidity": 0.2
             }
            },
            "type": "histogram"
           }
          ],
          "histogram2d": [
           {
            "colorbar": {
             "outlinewidth": 0,
             "ticks": ""
            },
            "colorscale": [
             [
              0,
              "#0d0887"
             ],
             [
              0.1111111111111111,
              "#46039f"
             ],
             [
              0.2222222222222222,
              "#7201a8"
             ],
             [
              0.3333333333333333,
              "#9c179e"
             ],
             [
              0.4444444444444444,
              "#bd3786"
             ],
             [
              0.5555555555555556,
              "#d8576b"
             ],
             [
              0.6666666666666666,
              "#ed7953"
             ],
             [
              0.7777777777777778,
              "#fb9f3a"
             ],
             [
              0.8888888888888888,
              "#fdca26"
             ],
             [
              1,
              "#f0f921"
             ]
            ],
            "type": "histogram2d"
           }
          ],
          "histogram2dcontour": [
           {
            "colorbar": {
             "outlinewidth": 0,
             "ticks": ""
            },
            "colorscale": [
             [
              0,
              "#0d0887"
             ],
             [
              0.1111111111111111,
              "#46039f"
             ],
             [
              0.2222222222222222,
              "#7201a8"
             ],
             [
              0.3333333333333333,
              "#9c179e"
             ],
             [
              0.4444444444444444,
              "#bd3786"
             ],
             [
              0.5555555555555556,
              "#d8576b"
             ],
             [
              0.6666666666666666,
              "#ed7953"
             ],
             [
              0.7777777777777778,
              "#fb9f3a"
             ],
             [
              0.8888888888888888,
              "#fdca26"
             ],
             [
              1,
              "#f0f921"
             ]
            ],
            "type": "histogram2dcontour"
           }
          ],
          "mesh3d": [
           {
            "colorbar": {
             "outlinewidth": 0,
             "ticks": ""
            },
            "type": "mesh3d"
           }
          ],
          "parcoords": [
           {
            "line": {
             "colorbar": {
              "outlinewidth": 0,
              "ticks": ""
             }
            },
            "type": "parcoords"
           }
          ],
          "pie": [
           {
            "automargin": true,
            "type": "pie"
           }
          ],
          "scatter": [
           {
            "fillpattern": {
             "fillmode": "overlay",
             "size": 10,
             "solidity": 0.2
            },
            "type": "scatter"
           }
          ],
          "scatter3d": [
           {
            "line": {
             "colorbar": {
              "outlinewidth": 0,
              "ticks": ""
             }
            },
            "marker": {
             "colorbar": {
              "outlinewidth": 0,
              "ticks": ""
             }
            },
            "type": "scatter3d"
           }
          ],
          "scattercarpet": [
           {
            "marker": {
             "colorbar": {
              "outlinewidth": 0,
              "ticks": ""
             }
            },
            "type": "scattercarpet"
           }
          ],
          "scattergeo": [
           {
            "marker": {
             "colorbar": {
              "outlinewidth": 0,
              "ticks": ""
             }
            },
            "type": "scattergeo"
           }
          ],
          "scattergl": [
           {
            "marker": {
             "colorbar": {
              "outlinewidth": 0,
              "ticks": ""
             }
            },
            "type": "scattergl"
           }
          ],
          "scattermapbox": [
           {
            "marker": {
             "colorbar": {
              "outlinewidth": 0,
              "ticks": ""
             }
            },
            "type": "scattermapbox"
           }
          ],
          "scatterpolar": [
           {
            "marker": {
             "colorbar": {
              "outlinewidth": 0,
              "ticks": ""
             }
            },
            "type": "scatterpolar"
           }
          ],
          "scatterpolargl": [
           {
            "marker": {
             "colorbar": {
              "outlinewidth": 0,
              "ticks": ""
             }
            },
            "type": "scatterpolargl"
           }
          ],
          "scatterternary": [
           {
            "marker": {
             "colorbar": {
              "outlinewidth": 0,
              "ticks": ""
             }
            },
            "type": "scatterternary"
           }
          ],
          "surface": [
           {
            "colorbar": {
             "outlinewidth": 0,
             "ticks": ""
            },
            "colorscale": [
             [
              0,
              "#0d0887"
             ],
             [
              0.1111111111111111,
              "#46039f"
             ],
             [
              0.2222222222222222,
              "#7201a8"
             ],
             [
              0.3333333333333333,
              "#9c179e"
             ],
             [
              0.4444444444444444,
              "#bd3786"
             ],
             [
              0.5555555555555556,
              "#d8576b"
             ],
             [
              0.6666666666666666,
              "#ed7953"
             ],
             [
              0.7777777777777778,
              "#fb9f3a"
             ],
             [
              0.8888888888888888,
              "#fdca26"
             ],
             [
              1,
              "#f0f921"
             ]
            ],
            "type": "surface"
           }
          ],
          "table": [
           {
            "cells": {
             "fill": {
              "color": "#EBF0F8"
             },
             "line": {
              "color": "white"
             }
            },
            "header": {
             "fill": {
              "color": "#C8D4E3"
             },
             "line": {
              "color": "white"
             }
            },
            "type": "table"
           }
          ]
         },
         "layout": {
          "annotationdefaults": {
           "arrowcolor": "#2a3f5f",
           "arrowhead": 0,
           "arrowwidth": 1
          },
          "autotypenumbers": "strict",
          "coloraxis": {
           "colorbar": {
            "outlinewidth": 0,
            "ticks": ""
           }
          },
          "colorscale": {
           "diverging": [
            [
             0,
             "#8e0152"
            ],
            [
             0.1,
             "#c51b7d"
            ],
            [
             0.2,
             "#de77ae"
            ],
            [
             0.3,
             "#f1b6da"
            ],
            [
             0.4,
             "#fde0ef"
            ],
            [
             0.5,
             "#f7f7f7"
            ],
            [
             0.6,
             "#e6f5d0"
            ],
            [
             0.7,
             "#b8e186"
            ],
            [
             0.8,
             "#7fbc41"
            ],
            [
             0.9,
             "#4d9221"
            ],
            [
             1,
             "#276419"
            ]
           ],
           "sequential": [
            [
             0,
             "#0d0887"
            ],
            [
             0.1111111111111111,
             "#46039f"
            ],
            [
             0.2222222222222222,
             "#7201a8"
            ],
            [
             0.3333333333333333,
             "#9c179e"
            ],
            [
             0.4444444444444444,
             "#bd3786"
            ],
            [
             0.5555555555555556,
             "#d8576b"
            ],
            [
             0.6666666666666666,
             "#ed7953"
            ],
            [
             0.7777777777777778,
             "#fb9f3a"
            ],
            [
             0.8888888888888888,
             "#fdca26"
            ],
            [
             1,
             "#f0f921"
            ]
           ],
           "sequentialminus": [
            [
             0,
             "#0d0887"
            ],
            [
             0.1111111111111111,
             "#46039f"
            ],
            [
             0.2222222222222222,
             "#7201a8"
            ],
            [
             0.3333333333333333,
             "#9c179e"
            ],
            [
             0.4444444444444444,
             "#bd3786"
            ],
            [
             0.5555555555555556,
             "#d8576b"
            ],
            [
             0.6666666666666666,
             "#ed7953"
            ],
            [
             0.7777777777777778,
             "#fb9f3a"
            ],
            [
             0.8888888888888888,
             "#fdca26"
            ],
            [
             1,
             "#f0f921"
            ]
           ]
          },
          "colorway": [
           "#636efa",
           "#EF553B",
           "#00cc96",
           "#ab63fa",
           "#FFA15A",
           "#19d3f3",
           "#FF6692",
           "#B6E880",
           "#FF97FF",
           "#FECB52"
          ],
          "font": {
           "color": "#2a3f5f"
          },
          "geo": {
           "bgcolor": "white",
           "lakecolor": "white",
           "landcolor": "#E5ECF6",
           "showlakes": true,
           "showland": true,
           "subunitcolor": "white"
          },
          "hoverlabel": {
           "align": "left"
          },
          "hovermode": "closest",
          "mapbox": {
           "style": "light"
          },
          "paper_bgcolor": "white",
          "plot_bgcolor": "#E5ECF6",
          "polar": {
           "angularaxis": {
            "gridcolor": "white",
            "linecolor": "white",
            "ticks": ""
           },
           "bgcolor": "#E5ECF6",
           "radialaxis": {
            "gridcolor": "white",
            "linecolor": "white",
            "ticks": ""
           }
          },
          "scene": {
           "xaxis": {
            "backgroundcolor": "#E5ECF6",
            "gridcolor": "white",
            "gridwidth": 2,
            "linecolor": "white",
            "showbackground": true,
            "ticks": "",
            "zerolinecolor": "white"
           },
           "yaxis": {
            "backgroundcolor": "#E5ECF6",
            "gridcolor": "white",
            "gridwidth": 2,
            "linecolor": "white",
            "showbackground": true,
            "ticks": "",
            "zerolinecolor": "white"
           },
           "zaxis": {
            "backgroundcolor": "#E5ECF6",
            "gridcolor": "white",
            "gridwidth": 2,
            "linecolor": "white",
            "showbackground": true,
            "ticks": "",
            "zerolinecolor": "white"
           }
          },
          "shapedefaults": {
           "line": {
            "color": "#2a3f5f"
           }
          },
          "ternary": {
           "aaxis": {
            "gridcolor": "white",
            "linecolor": "white",
            "ticks": ""
           },
           "baxis": {
            "gridcolor": "white",
            "linecolor": "white",
            "ticks": ""
           },
           "bgcolor": "#E5ECF6",
           "caxis": {
            "gridcolor": "white",
            "linecolor": "white",
            "ticks": ""
           }
          },
          "title": {
           "x": 0.05
          },
          "xaxis": {
           "automargin": true,
           "gridcolor": "white",
           "linecolor": "white",
           "ticks": "",
           "title": {
            "standoff": 15
           },
           "zerolinecolor": "white",
           "zerolinewidth": 2
          },
          "yaxis": {
           "automargin": true,
           "gridcolor": "white",
           "linecolor": "white",
           "ticks": "",
           "title": {
            "standoff": 15
           },
           "zerolinecolor": "white",
           "zerolinewidth": 2
          }
         }
        },
        "title": {
         "text": "Porcentaje de Tipos de Establecimientos en La Habana"
        }
       }
      }
     },
     "metadata": {},
     "output_type": "display_data"
    }
   ],
   "source": [
    "# Contar los tipos de establecimientos\n",
    "tipo_establecimientos = df['type_of_establishment'].value_counts().reset_index()\n",
    "tipo_establecimientos.columns = ['Tipo de Establecimiento', 'Cantidad']\n",
    "\n",
    "fig = px.pie(tipo_establecimientos, \n",
    "            values='Cantidad', \n",
    "            names='Tipo de Establecimiento', \n",
    "            title='Porcentaje de Tipos de Establecimientos en La Habana',\n",
    "            hole=0.1)\n",
    "fig.show()"
   ]
  },
  {
   "cell_type": "markdown",
   "metadata": {},
   "source": [
    "-\"Una de las cosas que más me influye a la hora de seleccionar el sitio ideal es su ubicación exacta, casi siempre tienen su dirección pero muchas veces no conozco esas calles y me paso y buen rato tratando de ubicarlas en el mapa. Personalmente creo que sería genial si nuestra web tuviera ya todos los establecimientos perfectamente localizados y fácil de visualizar sus puntos de referencia.\""
   ]
  },
  {
   "cell_type": "markdown",
   "metadata": {},
   "source": [
    "-\"Exaaacto! Además sería super sencillo ver qué otros lugares quedan cerca. ¿Quién sabe? Quizás después se te antoja un heladito o sentarte en el malecón.\""
   ]
  },
  {
   "cell_type": "code",
   "execution_count": 70,
   "metadata": {},
   "outputs": [
    {
     "data": {
      "text/html": [
       "<div style=\"width:100%;\"><div style=\"position:relative;width:100%;height:0;padding-bottom:60%;\"><span style=\"color:#565656\">Make this Notebook Trusted to load map: File -> Trust Notebook</span><iframe srcdoc=\"&lt;!DOCTYPE html&gt;\n",
       "&lt;html&gt;\n",
       "&lt;head&gt;\n",
       "    \n",
       "    &lt;meta http-equiv=&quot;content-type&quot; content=&quot;text/html; charset=UTF-8&quot; /&gt;\n",
       "    \n",
       "        &lt;script&gt;\n",
       "            L_NO_TOUCH = false;\n",
       "            L_DISABLE_3D = false;\n",
       "        &lt;/script&gt;\n",
       "    \n",
       "    &lt;style&gt;html, body {width: 100%;height: 100%;margin: 0;padding: 0;}&lt;/style&gt;\n",
       "    &lt;style&gt;#map {position:absolute;top:0;bottom:0;right:0;left:0;}&lt;/style&gt;\n",
       "    &lt;script src=&quot;https://cdn.jsdelivr.net/npm/leaflet@1.9.3/dist/leaflet.js&quot;&gt;&lt;/script&gt;\n",
       "    &lt;script src=&quot;https://code.jquery.com/jquery-3.7.1.min.js&quot;&gt;&lt;/script&gt;\n",
       "    &lt;script src=&quot;https://cdn.jsdelivr.net/npm/bootstrap@5.2.2/dist/js/bootstrap.bundle.min.js&quot;&gt;&lt;/script&gt;\n",
       "    &lt;script src=&quot;https://cdnjs.cloudflare.com/ajax/libs/Leaflet.awesome-markers/2.0.2/leaflet.awesome-markers.js&quot;&gt;&lt;/script&gt;\n",
       "    &lt;link rel=&quot;stylesheet&quot; href=&quot;https://cdn.jsdelivr.net/npm/leaflet@1.9.3/dist/leaflet.css&quot;/&gt;\n",
       "    &lt;link rel=&quot;stylesheet&quot; href=&quot;https://cdn.jsdelivr.net/npm/bootstrap@5.2.2/dist/css/bootstrap.min.css&quot;/&gt;\n",
       "    &lt;link rel=&quot;stylesheet&quot; href=&quot;https://netdna.bootstrapcdn.com/bootstrap/3.0.0/css/bootstrap-glyphicons.css&quot;/&gt;\n",
       "    &lt;link rel=&quot;stylesheet&quot; href=&quot;https://cdn.jsdelivr.net/npm/@fortawesome/fontawesome-free@6.2.0/css/all.min.css&quot;/&gt;\n",
       "    &lt;link rel=&quot;stylesheet&quot; href=&quot;https://cdnjs.cloudflare.com/ajax/libs/Leaflet.awesome-markers/2.0.2/leaflet.awesome-markers.css&quot;/&gt;\n",
       "    &lt;link rel=&quot;stylesheet&quot; href=&quot;https://cdn.jsdelivr.net/gh/python-visualization/folium/folium/templates/leaflet.awesome.rotate.min.css&quot;/&gt;\n",
       "    \n",
       "            &lt;meta name=&quot;viewport&quot; content=&quot;width=device-width,\n",
       "                initial-scale=1.0, maximum-scale=1.0, user-scalable=no&quot; /&gt;\n",
       "            &lt;style&gt;\n",
       "                #map_eac3e686e37a9ed8ab94d2de922915a2 {\n",
       "                    position: relative;\n",
       "                    width: 100.0%;\n",
       "                    height: 100.0%;\n",
       "                    left: 0.0%;\n",
       "                    top: 0.0%;\n",
       "                }\n",
       "                .leaflet-container { font-size: 1rem; }\n",
       "            &lt;/style&gt;\n",
       "        \n",
       "&lt;/head&gt;\n",
       "&lt;body&gt;\n",
       "    \n",
       "    \n",
       "            &lt;div class=&quot;folium-map&quot; id=&quot;map_eac3e686e37a9ed8ab94d2de922915a2&quot; &gt;&lt;/div&gt;\n",
       "        \n",
       "&lt;/body&gt;\n",
       "&lt;script&gt;\n",
       "    \n",
       "    \n",
       "            var map_eac3e686e37a9ed8ab94d2de922915a2 = L.map(\n",
       "                &quot;map_eac3e686e37a9ed8ab94d2de922915a2&quot;,\n",
       "                {\n",
       "                    center: [23.1136, -82.3666],\n",
       "                    crs: L.CRS.EPSG3857,\n",
       "                    ...{\n",
       "  &quot;zoom&quot;: 12,\n",
       "  &quot;zoomControl&quot;: true,\n",
       "  &quot;preferCanvas&quot;: false,\n",
       "}\n",
       "\n",
       "                }\n",
       "            );\n",
       "\n",
       "            \n",
       "\n",
       "        \n",
       "    \n",
       "            var tile_layer_3df6ffa6d54df668b5dbd7ccd63a652e = L.tileLayer(\n",
       "                &quot;https://tile.openstreetmap.org/{z}/{x}/{y}.png&quot;,\n",
       "                {\n",
       "  &quot;minZoom&quot;: 0,\n",
       "  &quot;maxZoom&quot;: 19,\n",
       "  &quot;maxNativeZoom&quot;: 19,\n",
       "  &quot;noWrap&quot;: false,\n",
       "  &quot;attribution&quot;: &quot;\\u0026copy; \\u003ca href=\\&quot;https://www.openstreetmap.org/copyright\\&quot;\\u003eOpenStreetMap\\u003c/a\\u003e contributors&quot;,\n",
       "  &quot;subdomains&quot;: &quot;abc&quot;,\n",
       "  &quot;detectRetina&quot;: false,\n",
       "  &quot;tms&quot;: false,\n",
       "  &quot;opacity&quot;: 1,\n",
       "}\n",
       "\n",
       "            );\n",
       "        \n",
       "    \n",
       "            tile_layer_3df6ffa6d54df668b5dbd7ccd63a652e.addTo(map_eac3e686e37a9ed8ab94d2de922915a2);\n",
       "        \n",
       "    \n",
       "            var marker_571ad5695342ef3540d86a2f6602fa9e = L.marker(\n",
       "                [23.12361712886297, -82.4271050650417],\n",
       "                {\n",
       "}\n",
       "            ).addTo(map_eac3e686e37a9ed8ab94d2de922915a2);\n",
       "        \n",
       "    \n",
       "            var icon_24fc287377b66d74daf937d096352838 = L.AwesomeMarkers.icon(\n",
       "                {\n",
       "  &quot;markerColor&quot;: &quot;darkblue&quot;,\n",
       "  &quot;iconColor&quot;: &quot;white&quot;,\n",
       "  &quot;icon&quot;: &quot;info-sign&quot;,\n",
       "  &quot;prefix&quot;: &quot;glyphicon&quot;,\n",
       "  &quot;extraClasses&quot;: &quot;fa-rotate-0&quot;,\n",
       "}\n",
       "            );\n",
       "            marker_571ad5695342ef3540d86a2f6602fa9e.setIcon(icon_24fc287377b66d74daf937d096352838);\n",
       "        \n",
       "    \n",
       "        var popup_5f0ed3d662a49a15171a97308e4f8fb0 = L.popup({\n",
       "  &quot;maxWidth&quot;: &quot;100%&quot;,\n",
       "});\n",
       "\n",
       "        \n",
       "            \n",
       "                var html_0db1c9877021e8d5c7fda522ff3c4ac5 = $(`&lt;div id=&quot;html_0db1c9877021e8d5c7fda522ff3c4ac5&quot; style=&quot;width: 100.0%; height: 100.0%;&quot;&gt;28 y Mar&lt;/div&gt;`)[0];\n",
       "                popup_5f0ed3d662a49a15171a97308e4f8fb0.setContent(html_0db1c9877021e8d5c7fda522ff3c4ac5);\n",
       "            \n",
       "        \n",
       "\n",
       "        marker_571ad5695342ef3540d86a2f6602fa9e.bindPopup(popup_5f0ed3d662a49a15171a97308e4f8fb0)\n",
       "        ;\n",
       "\n",
       "        \n",
       "    \n",
       "    \n",
       "            var marker_89cd61da59b76ce5882107ae8a753659 = L.marker(\n",
       "                [23.12805874474967, -82.33435589367647],\n",
       "                {\n",
       "}\n",
       "            ).addTo(map_eac3e686e37a9ed8ab94d2de922915a2);\n",
       "        \n",
       "    \n",
       "            var icon_58522476108c3f422ef04db3e1556a76 = L.AwesomeMarkers.icon(\n",
       "                {\n",
       "  &quot;markerColor&quot;: &quot;darkblue&quot;,\n",
       "  &quot;iconColor&quot;: &quot;white&quot;,\n",
       "  &quot;icon&quot;: &quot;info-sign&quot;,\n",
       "  &quot;prefix&quot;: &quot;glyphicon&quot;,\n",
       "  &quot;extraClasses&quot;: &quot;fa-rotate-0&quot;,\n",
       "}\n",
       "            );\n",
       "            marker_89cd61da59b76ce5882107ae8a753659.setIcon(icon_58522476108c3f422ef04db3e1556a76);\n",
       "        \n",
       "    \n",
       "        var popup_29d50dffb80d32d368711425aadaffd2 = L.popup({\n",
       "  &quot;maxWidth&quot;: &quot;100%&quot;,\n",
       "});\n",
       "\n",
       "        \n",
       "            \n",
       "                var html_109d2572b251caed12e1fbc1098974ba = $(`&lt;div id=&quot;html_109d2572b251caed12e1fbc1098974ba&quot; style=&quot;width: 100.0%; height: 100.0%;&quot;&gt;2KFÉ&lt;/div&gt;`)[0];\n",
       "                popup_29d50dffb80d32d368711425aadaffd2.setContent(html_109d2572b251caed12e1fbc1098974ba);\n",
       "            \n",
       "        \n",
       "\n",
       "        marker_89cd61da59b76ce5882107ae8a753659.bindPopup(popup_29d50dffb80d32d368711425aadaffd2)\n",
       "        ;\n",
       "\n",
       "        \n",
       "    \n",
       "    \n",
       "            var marker_d293e683f5dc087d1766ea523c404855 = L.marker(\n",
       "                [23.12374503719618, -82.32320046326254],\n",
       "                {\n",
       "}\n",
       "            ).addTo(map_eac3e686e37a9ed8ab94d2de922915a2);\n",
       "        \n",
       "    \n",
       "            var icon_50c74751e8974c697ace2b2981e32f1f = L.AwesomeMarkers.icon(\n",
       "                {\n",
       "  &quot;markerColor&quot;: &quot;darkblue&quot;,\n",
       "  &quot;iconColor&quot;: &quot;white&quot;,\n",
       "  &quot;icon&quot;: &quot;info-sign&quot;,\n",
       "  &quot;prefix&quot;: &quot;glyphicon&quot;,\n",
       "  &quot;extraClasses&quot;: &quot;fa-rotate-0&quot;,\n",
       "}\n",
       "            );\n",
       "            marker_d293e683f5dc087d1766ea523c404855.setIcon(icon_50c74751e8974c697ace2b2981e32f1f);\n",
       "        \n",
       "    \n",
       "        var popup_b250d6edbb08dc9ba9a53bea8ce85371 = L.popup({\n",
       "  &quot;maxWidth&quot;: &quot;100%&quot;,\n",
       "});\n",
       "\n",
       "        \n",
       "            \n",
       "                var html_d9fb1d22d38c1ed4d03a9395e7b17c92 = $(`&lt;div id=&quot;html_d9fb1d22d38c1ed4d03a9395e7b17c92&quot; style=&quot;width: 100.0%; height: 100.0%;&quot;&gt;5ta Billar&lt;/div&gt;`)[0];\n",
       "                popup_b250d6edbb08dc9ba9a53bea8ce85371.setContent(html_d9fb1d22d38c1ed4d03a9395e7b17c92);\n",
       "            \n",
       "        \n",
       "\n",
       "        marker_d293e683f5dc087d1766ea523c404855.bindPopup(popup_b250d6edbb08dc9ba9a53bea8ce85371)\n",
       "        ;\n",
       "\n",
       "        \n",
       "    \n",
       "    \n",
       "            var marker_de330151ab45407d66ab017504f8c7b9 = L.marker(\n",
       "                [23.07275737968528, -82.43208755151812],\n",
       "                {\n",
       "}\n",
       "            ).addTo(map_eac3e686e37a9ed8ab94d2de922915a2);\n",
       "        \n",
       "    \n",
       "            var icon_f2dc13f8f30ceccdc8fa91c48e46b426 = L.AwesomeMarkers.icon(\n",
       "                {\n",
       "  &quot;markerColor&quot;: &quot;darkblue&quot;,\n",
       "  &quot;iconColor&quot;: &quot;white&quot;,\n",
       "  &quot;icon&quot;: &quot;info-sign&quot;,\n",
       "  &quot;prefix&quot;: &quot;glyphicon&quot;,\n",
       "  &quot;extraClasses&quot;: &quot;fa-rotate-0&quot;,\n",
       "}\n",
       "            );\n",
       "            marker_de330151ab45407d66ab017504f8c7b9.setIcon(icon_f2dc13f8f30ceccdc8fa91c48e46b426);\n",
       "        \n",
       "    \n",
       "        var popup_72b7e7e292943c32df358fdd40fd09f9 = L.popup({\n",
       "  &quot;maxWidth&quot;: &quot;100%&quot;,\n",
       "});\n",
       "\n",
       "        \n",
       "            \n",
       "                var html_ef291a0cb25196fb157b46a20470c9d7 = $(`&lt;div id=&quot;html_ef291a0cb25196fb157b46a20470c9d7&quot; style=&quot;width: 100.0%; height: 100.0%;&quot;&gt;A&amp;J Fast Food&lt;/div&gt;`)[0];\n",
       "                popup_72b7e7e292943c32df358fdd40fd09f9.setContent(html_ef291a0cb25196fb157b46a20470c9d7);\n",
       "            \n",
       "        \n",
       "\n",
       "        marker_de330151ab45407d66ab017504f8c7b9.bindPopup(popup_72b7e7e292943c32df358fdd40fd09f9)\n",
       "        ;\n",
       "\n",
       "        \n",
       "    \n",
       "    \n",
       "            var marker_f170c9471ea2dc234421a5127dc4d9ae = L.marker(\n",
       "                [23.057838724569645, -82.38286186315446],\n",
       "                {\n",
       "}\n",
       "            ).addTo(map_eac3e686e37a9ed8ab94d2de922915a2);\n",
       "        \n",
       "    \n",
       "            var icon_02ac2330a48f2487193af904254e6df4 = L.AwesomeMarkers.icon(\n",
       "                {\n",
       "  &quot;markerColor&quot;: &quot;darkblue&quot;,\n",
       "  &quot;iconColor&quot;: &quot;white&quot;,\n",
       "  &quot;icon&quot;: &quot;info-sign&quot;,\n",
       "  &quot;prefix&quot;: &quot;glyphicon&quot;,\n",
       "  &quot;extraClasses&quot;: &quot;fa-rotate-0&quot;,\n",
       "}\n",
       "            );\n",
       "            marker_f170c9471ea2dc234421a5127dc4d9ae.setIcon(icon_02ac2330a48f2487193af904254e6df4);\n",
       "        \n",
       "    \n",
       "        var popup_d20ccb0bffd2ac02916c428c3de50ae3 = L.popup({\n",
       "  &quot;maxWidth&quot;: &quot;100%&quot;,\n",
       "});\n",
       "\n",
       "        \n",
       "            \n",
       "                var html_d0f2c5bd7d2f87bfc2964a37967a7185 = $(`&lt;div id=&quot;html_d0f2c5bd7d2f87bfc2964a37967a7185&quot; style=&quot;width: 100.0%; height: 100.0%;&quot;&gt;Abuelo D&#x27;Oro&lt;/div&gt;`)[0];\n",
       "                popup_d20ccb0bffd2ac02916c428c3de50ae3.setContent(html_d0f2c5bd7d2f87bfc2964a37967a7185);\n",
       "            \n",
       "        \n",
       "\n",
       "        marker_f170c9471ea2dc234421a5127dc4d9ae.bindPopup(popup_d20ccb0bffd2ac02916c428c3de50ae3)\n",
       "        ;\n",
       "\n",
       "        \n",
       "    \n",
       "    \n",
       "            var marker_e8235fc468984ea18f6290d5f622b74b = L.marker(\n",
       "                [23.16213337258811, -82.29442813615995],\n",
       "                {\n",
       "}\n",
       "            ).addTo(map_eac3e686e37a9ed8ab94d2de922915a2);\n",
       "        \n",
       "    \n",
       "            var icon_9b0f2c697e2dbbaa122362a6c269689c = L.AwesomeMarkers.icon(\n",
       "                {\n",
       "  &quot;markerColor&quot;: &quot;darkblue&quot;,\n",
       "  &quot;iconColor&quot;: &quot;white&quot;,\n",
       "  &quot;icon&quot;: &quot;info-sign&quot;,\n",
       "  &quot;prefix&quot;: &quot;glyphicon&quot;,\n",
       "  &quot;extraClasses&quot;: &quot;fa-rotate-0&quot;,\n",
       "}\n",
       "            );\n",
       "            marker_e8235fc468984ea18f6290d5f622b74b.setIcon(icon_9b0f2c697e2dbbaa122362a6c269689c);\n",
       "        \n",
       "    \n",
       "        var popup_0431e872d44967f18ab92fe3265e197c = L.popup({\n",
       "  &quot;maxWidth&quot;: &quot;100%&quot;,\n",
       "});\n",
       "\n",
       "        \n",
       "            \n",
       "                var html_41290eba372b7568278d349c973bbada = $(`&lt;div id=&quot;html_41290eba372b7568278d349c973bbada&quot; style=&quot;width: 100.0%; height: 100.0%;&quot;&gt;Aires de Cojimar&lt;/div&gt;`)[0];\n",
       "                popup_0431e872d44967f18ab92fe3265e197c.setContent(html_41290eba372b7568278d349c973bbada);\n",
       "            \n",
       "        \n",
       "\n",
       "        marker_e8235fc468984ea18f6290d5f622b74b.bindPopup(popup_0431e872d44967f18ab92fe3265e197c)\n",
       "        ;\n",
       "\n",
       "        \n",
       "    \n",
       "    \n",
       "            var marker_fd55a2acd8d8e4174eb062b1e7febed9 = L.marker(\n",
       "                [23.155282399334702, -82.27081842086241],\n",
       "                {\n",
       "}\n",
       "            ).addTo(map_eac3e686e37a9ed8ab94d2de922915a2);\n",
       "        \n",
       "    \n",
       "            var icon_be78473ee5b013d9e2f19c6d2118cee6 = L.AwesomeMarkers.icon(\n",
       "                {\n",
       "  &quot;markerColor&quot;: &quot;darkblue&quot;,\n",
       "  &quot;iconColor&quot;: &quot;white&quot;,\n",
       "  &quot;icon&quot;: &quot;info-sign&quot;,\n",
       "  &quot;prefix&quot;: &quot;glyphicon&quot;,\n",
       "  &quot;extraClasses&quot;: &quot;fa-rotate-0&quot;,\n",
       "}\n",
       "            );\n",
       "            marker_fd55a2acd8d8e4174eb062b1e7febed9.setIcon(icon_be78473ee5b013d9e2f19c6d2118cee6);\n",
       "        \n",
       "    \n",
       "        var popup_e86ff113eca0b8ce8cdec6ca8f0039ce = L.popup({\n",
       "  &quot;maxWidth&quot;: &quot;100%&quot;,\n",
       "});\n",
       "\n",
       "        \n",
       "            \n",
       "                var html_a2f0e64f2385b87b294b2b85ed04ca2c = $(`&lt;div id=&quot;html_a2f0e64f2385b87b294b2b85ed04ca2c&quot; style=&quot;width: 100.0%; height: 100.0%;&quot;&gt;Al Campestre&lt;/div&gt;`)[0];\n",
       "                popup_e86ff113eca0b8ce8cdec6ca8f0039ce.setContent(html_a2f0e64f2385b87b294b2b85ed04ca2c);\n",
       "            \n",
       "        \n",
       "\n",
       "        marker_fd55a2acd8d8e4174eb062b1e7febed9.bindPopup(popup_e86ff113eca0b8ce8cdec6ca8f0039ce)\n",
       "        ;\n",
       "\n",
       "        \n",
       "    \n",
       "    \n",
       "            var marker_4b8b73e8e955b248887bc33a0e205e22 = L.marker(\n",
       "                [23.118857756567763, -82.42952136001638],\n",
       "                {\n",
       "}\n",
       "            ).addTo(map_eac3e686e37a9ed8ab94d2de922915a2);\n",
       "        \n",
       "    \n",
       "            var icon_c147e2625ed0d4eff59acae9358de83b = L.AwesomeMarkers.icon(\n",
       "                {\n",
       "  &quot;markerColor&quot;: &quot;darkblue&quot;,\n",
       "  &quot;iconColor&quot;: &quot;white&quot;,\n",
       "  &quot;icon&quot;: &quot;info-sign&quot;,\n",
       "  &quot;prefix&quot;: &quot;glyphicon&quot;,\n",
       "  &quot;extraClasses&quot;: &quot;fa-rotate-0&quot;,\n",
       "}\n",
       "            );\n",
       "            marker_4b8b73e8e955b248887bc33a0e205e22.setIcon(icon_c147e2625ed0d4eff59acae9358de83b);\n",
       "        \n",
       "    \n",
       "        var popup_00fee08026ca0e9f05ac55306d3f4b6e = L.popup({\n",
       "  &quot;maxWidth&quot;: &quot;100%&quot;,\n",
       "});\n",
       "\n",
       "        \n",
       "            \n",
       "                var html_55465c5eecc09bda8c15eed0e72fe19c = $(`&lt;div id=&quot;html_55465c5eecc09bda8c15eed0e72fe19c&quot; style=&quot;width: 100.0%; height: 100.0%;&quot;&gt;Amalfi&lt;/div&gt;`)[0];\n",
       "                popup_00fee08026ca0e9f05ac55306d3f4b6e.setContent(html_55465c5eecc09bda8c15eed0e72fe19c);\n",
       "            \n",
       "        \n",
       "\n",
       "        marker_4b8b73e8e955b248887bc33a0e205e22.bindPopup(popup_00fee08026ca0e9f05ac55306d3f4b6e)\n",
       "        ;\n",
       "\n",
       "        \n",
       "    \n",
       "    \n",
       "            var marker_90acd39e5776ca5979658ab47562b71b = L.marker(\n",
       "                [23.098281020180526, -82.26561429377226],\n",
       "                {\n",
       "}\n",
       "            ).addTo(map_eac3e686e37a9ed8ab94d2de922915a2);\n",
       "        \n",
       "    \n",
       "            var icon_02d5f70251750b634b793927e25fc37f = L.AwesomeMarkers.icon(\n",
       "                {\n",
       "  &quot;markerColor&quot;: &quot;darkblue&quot;,\n",
       "  &quot;iconColor&quot;: &quot;white&quot;,\n",
       "  &quot;icon&quot;: &quot;info-sign&quot;,\n",
       "  &quot;prefix&quot;: &quot;glyphicon&quot;,\n",
       "  &quot;extraClasses&quot;: &quot;fa-rotate-0&quot;,\n",
       "}\n",
       "            );\n",
       "            marker_90acd39e5776ca5979658ab47562b71b.setIcon(icon_02d5f70251750b634b793927e25fc37f);\n",
       "        \n",
       "    \n",
       "        var popup_28108b822d177832e4eab78b0a803789 = L.popup({\n",
       "  &quot;maxWidth&quot;: &quot;100%&quot;,\n",
       "});\n",
       "\n",
       "        \n",
       "            \n",
       "                var html_e7cedd2c7c241d6c50a8940da1add3a0 = $(`&lt;div id=&quot;html_e7cedd2c7c241d6c50a8940da1add3a0&quot; style=&quot;width: 100.0%; height: 100.0%;&quot;&gt;Anillo Habanero&lt;/div&gt;`)[0];\n",
       "                popup_28108b822d177832e4eab78b0a803789.setContent(html_e7cedd2c7c241d6c50a8940da1add3a0);\n",
       "            \n",
       "        \n",
       "\n",
       "        marker_90acd39e5776ca5979658ab47562b71b.bindPopup(popup_28108b822d177832e4eab78b0a803789)\n",
       "        ;\n",
       "\n",
       "        \n",
       "    \n",
       "    \n",
       "            var marker_a5952d31402e8fda686e9cd2ba42c01e = L.marker(\n",
       "                [23.141810755681387, -82.355151334157],\n",
       "                {\n",
       "}\n",
       "            ).addTo(map_eac3e686e37a9ed8ab94d2de922915a2);\n",
       "        \n",
       "    \n",
       "            var icon_37225988afda11eba425fb6e2f000208 = L.AwesomeMarkers.icon(\n",
       "                {\n",
       "  &quot;markerColor&quot;: &quot;darkblue&quot;,\n",
       "  &quot;iconColor&quot;: &quot;white&quot;,\n",
       "  &quot;icon&quot;: &quot;info-sign&quot;,\n",
       "  &quot;prefix&quot;: &quot;glyphicon&quot;,\n",
       "  &quot;extraClasses&quot;: &quot;fa-rotate-0&quot;,\n",
       "}\n",
       "            );\n",
       "            marker_a5952d31402e8fda686e9cd2ba42c01e.setIcon(icon_37225988afda11eba425fb6e2f000208);\n",
       "        \n",
       "    \n",
       "        var popup_8b432913f322b2c78a707c7615f4fdfc = L.popup({\n",
       "  &quot;maxWidth&quot;: &quot;100%&quot;,\n",
       "});\n",
       "\n",
       "        \n",
       "            \n",
       "                var html_2e1f084e1a9a85e49359eb7df0dff8d0 = $(`&lt;div id=&quot;html_2e1f084e1a9a85e49359eb7df0dff8d0&quot; style=&quot;width: 100.0%; height: 100.0%;&quot;&gt;Antojos&lt;/div&gt;`)[0];\n",
       "                popup_8b432913f322b2c78a707c7615f4fdfc.setContent(html_2e1f084e1a9a85e49359eb7df0dff8d0);\n",
       "            \n",
       "        \n",
       "\n",
       "        marker_a5952d31402e8fda686e9cd2ba42c01e.bindPopup(popup_8b432913f322b2c78a707c7615f4fdfc)\n",
       "        ;\n",
       "\n",
       "        \n",
       "    \n",
       "    \n",
       "            var marker_416f9069778e4f0305cea601ee51a1b8 = L.marker(\n",
       "                [23.052367619389422, -82.46068306676176],\n",
       "                {\n",
       "}\n",
       "            ).addTo(map_eac3e686e37a9ed8ab94d2de922915a2);\n",
       "        \n",
       "    \n",
       "            var icon_1c1507cadc1d347a372903d76c221c1e = L.AwesomeMarkers.icon(\n",
       "                {\n",
       "  &quot;markerColor&quot;: &quot;darkblue&quot;,\n",
       "  &quot;iconColor&quot;: &quot;white&quot;,\n",
       "  &quot;icon&quot;: &quot;info-sign&quot;,\n",
       "  &quot;prefix&quot;: &quot;glyphicon&quot;,\n",
       "  &quot;extraClasses&quot;: &quot;fa-rotate-0&quot;,\n",
       "}\n",
       "            );\n",
       "            marker_416f9069778e4f0305cea601ee51a1b8.setIcon(icon_1c1507cadc1d347a372903d76c221c1e);\n",
       "        \n",
       "    \n",
       "        var popup_bec1fbbc10dc2b00467d8b1beac79108 = L.popup({\n",
       "  &quot;maxWidth&quot;: &quot;100%&quot;,\n",
       "});\n",
       "\n",
       "        \n",
       "            \n",
       "                var html_e94b25fbebaa5fd9113b8e915443300e = $(`&lt;div id=&quot;html_e94b25fbebaa5fd9113b8e915443300e&quot; style=&quot;width: 100.0%; height: 100.0%;&quot;&gt;Aroma de Café&lt;/div&gt;`)[0];\n",
       "                popup_bec1fbbc10dc2b00467d8b1beac79108.setContent(html_e94b25fbebaa5fd9113b8e915443300e);\n",
       "            \n",
       "        \n",
       "\n",
       "        marker_416f9069778e4f0305cea601ee51a1b8.bindPopup(popup_bec1fbbc10dc2b00467d8b1beac79108)\n",
       "        ;\n",
       "\n",
       "        \n",
       "    \n",
       "    \n",
       "            var marker_42ce2b8aa32d0cd16da8effeddce7eb0 = L.marker(\n",
       "                [23.128994860348442, -82.39670541533232],\n",
       "                {\n",
       "}\n",
       "            ).addTo(map_eac3e686e37a9ed8ab94d2de922915a2);\n",
       "        \n",
       "    \n",
       "            var icon_433d664a084af8d90bb6410da161a9d2 = L.AwesomeMarkers.icon(\n",
       "                {\n",
       "  &quot;markerColor&quot;: &quot;darkblue&quot;,\n",
       "  &quot;iconColor&quot;: &quot;white&quot;,\n",
       "  &quot;icon&quot;: &quot;info-sign&quot;,\n",
       "  &quot;prefix&quot;: &quot;glyphicon&quot;,\n",
       "  &quot;extraClasses&quot;: &quot;fa-rotate-0&quot;,\n",
       "}\n",
       "            );\n",
       "            marker_42ce2b8aa32d0cd16da8effeddce7eb0.setIcon(icon_433d664a084af8d90bb6410da161a9d2);\n",
       "        \n",
       "    \n",
       "        var popup_3985ddf812980a75254676ef8a9f057f = L.popup({\n",
       "  &quot;maxWidth&quot;: &quot;100%&quot;,\n",
       "});\n",
       "\n",
       "        \n",
       "            \n",
       "                var html_de4a0960000e322cd521979581201836 = $(`&lt;div id=&quot;html_de4a0960000e322cd521979581201836&quot; style=&quot;width: 100.0%; height: 100.0%;&quot;&gt;Asia de Cuba&lt;/div&gt;`)[0];\n",
       "                popup_3985ddf812980a75254676ef8a9f057f.setContent(html_de4a0960000e322cd521979581201836);\n",
       "            \n",
       "        \n",
       "\n",
       "        marker_42ce2b8aa32d0cd16da8effeddce7eb0.bindPopup(popup_3985ddf812980a75254676ef8a9f057f)\n",
       "        ;\n",
       "\n",
       "        \n",
       "    \n",
       "    \n",
       "            var marker_ed5859d1ec26a0f2c51ef6a640139c2d = L.marker(\n",
       "                [23.07540405820975, -82.35821067834236],\n",
       "                {\n",
       "}\n",
       "            ).addTo(map_eac3e686e37a9ed8ab94d2de922915a2);\n",
       "        \n",
       "    \n",
       "            var icon_528fcbca797d53438d996bcb1bd53966 = L.AwesomeMarkers.icon(\n",
       "                {\n",
       "  &quot;markerColor&quot;: &quot;darkblue&quot;,\n",
       "  &quot;iconColor&quot;: &quot;white&quot;,\n",
       "  &quot;icon&quot;: &quot;info-sign&quot;,\n",
       "  &quot;prefix&quot;: &quot;glyphicon&quot;,\n",
       "  &quot;extraClasses&quot;: &quot;fa-rotate-0&quot;,\n",
       "}\n",
       "            );\n",
       "            marker_ed5859d1ec26a0f2c51ef6a640139c2d.setIcon(icon_528fcbca797d53438d996bcb1bd53966);\n",
       "        \n",
       "    \n",
       "        var popup_37eef233894f96e9e67635836a98464d = L.popup({\n",
       "  &quot;maxWidth&quot;: &quot;100%&quot;,\n",
       "});\n",
       "\n",
       "        \n",
       "            \n",
       "                var html_df238cadea34721205593b9bb07477a1 = $(`&lt;div id=&quot;html_df238cadea34721205593b9bb07477a1&quot; style=&quot;width: 100.0%; height: 100.0%;&quot;&gt;Atlanta&lt;/div&gt;`)[0];\n",
       "                popup_37eef233894f96e9e67635836a98464d.setContent(html_df238cadea34721205593b9bb07477a1);\n",
       "            \n",
       "        \n",
       "\n",
       "        marker_ed5859d1ec26a0f2c51ef6a640139c2d.bindPopup(popup_37eef233894f96e9e67635836a98464d)\n",
       "        ;\n",
       "\n",
       "        \n",
       "    \n",
       "    \n",
       "            var marker_fbbe91444b6e104eb0ba0318f955fb3f = L.marker(\n",
       "                [23.140032524116656, -82.37801794949878],\n",
       "                {\n",
       "}\n",
       "            ).addTo(map_eac3e686e37a9ed8ab94d2de922915a2);\n",
       "        \n",
       "    \n",
       "            var icon_8a3cfc7467f4ab0bc9c38754fd9dd694 = L.AwesomeMarkers.icon(\n",
       "                {\n",
       "  &quot;markerColor&quot;: &quot;darkblue&quot;,\n",
       "  &quot;iconColor&quot;: &quot;white&quot;,\n",
       "  &quot;icon&quot;: &quot;info-sign&quot;,\n",
       "  &quot;prefix&quot;: &quot;glyphicon&quot;,\n",
       "  &quot;extraClasses&quot;: &quot;fa-rotate-0&quot;,\n",
       "}\n",
       "            );\n",
       "            marker_fbbe91444b6e104eb0ba0318f955fb3f.setIcon(icon_8a3cfc7467f4ab0bc9c38754fd9dd694);\n",
       "        \n",
       "    \n",
       "        var popup_d452b80c5b6d1ff67bd8826bf5e6b6cd = L.popup({\n",
       "  &quot;maxWidth&quot;: &quot;100%&quot;,\n",
       "});\n",
       "\n",
       "        \n",
       "            \n",
       "                var html_cb3eb0565b07084cdbf0d3b2521d75e2 = $(`&lt;div id=&quot;html_cb3eb0565b07084cdbf0d3b2521d75e2&quot; style=&quot;width: 100.0%; height: 100.0%;&quot;&gt;Macarena&lt;/div&gt;`)[0];\n",
       "                popup_d452b80c5b6d1ff67bd8826bf5e6b6cd.setContent(html_cb3eb0565b07084cdbf0d3b2521d75e2);\n",
       "            \n",
       "        \n",
       "\n",
       "        marker_fbbe91444b6e104eb0ba0318f955fb3f.bindPopup(popup_d452b80c5b6d1ff67bd8826bf5e6b6cd)\n",
       "        ;\n",
       "\n",
       "        \n",
       "    \n",
       "    \n",
       "            var marker_27f61eff6b2bbf06df81716251f94fcd = L.marker(\n",
       "                [23.09481372818826, -82.41919746499825],\n",
       "                {\n",
       "}\n",
       "            ).addTo(map_eac3e686e37a9ed8ab94d2de922915a2);\n",
       "        \n",
       "    \n",
       "            var icon_3128cfcc0671484771c6babe320feedf = L.AwesomeMarkers.icon(\n",
       "                {\n",
       "  &quot;markerColor&quot;: &quot;darkblue&quot;,\n",
       "  &quot;iconColor&quot;: &quot;white&quot;,\n",
       "  &quot;icon&quot;: &quot;info-sign&quot;,\n",
       "  &quot;prefix&quot;: &quot;glyphicon&quot;,\n",
       "  &quot;extraClasses&quot;: &quot;fa-rotate-0&quot;,\n",
       "}\n",
       "            );\n",
       "            marker_27f61eff6b2bbf06df81716251f94fcd.setIcon(icon_3128cfcc0671484771c6babe320feedf);\n",
       "        \n",
       "    \n",
       "        var popup_0e6e5f24c6d8790005fdedb1314298f0 = L.popup({\n",
       "  &quot;maxWidth&quot;: &quot;100%&quot;,\n",
       "});\n",
       "\n",
       "        \n",
       "            \n",
       "                var html_1deccf119e31ef1d9412c34c3560598f = $(`&lt;div id=&quot;html_1deccf119e31ef1d9412c34c3560598f&quot; style=&quot;width: 100.0%; height: 100.0%;&quot;&gt;Bar Tropicana&lt;/div&gt;`)[0];\n",
       "                popup_0e6e5f24c6d8790005fdedb1314298f0.setContent(html_1deccf119e31ef1d9412c34c3560598f);\n",
       "            \n",
       "        \n",
       "\n",
       "        marker_27f61eff6b2bbf06df81716251f94fcd.bindPopup(popup_0e6e5f24c6d8790005fdedb1314298f0)\n",
       "        ;\n",
       "\n",
       "        \n",
       "    \n",
       "    \n",
       "            var marker_df11fef8bd6aa2eaaece4606479fe83b = L.marker(\n",
       "                [23.165680191088374, -82.28273010731503],\n",
       "                {\n",
       "}\n",
       "            ).addTo(map_eac3e686e37a9ed8ab94d2de922915a2);\n",
       "        \n",
       "    \n",
       "            var icon_5577c5e35ecf3245e8f6f29143fda326 = L.AwesomeMarkers.icon(\n",
       "                {\n",
       "  &quot;markerColor&quot;: &quot;darkblue&quot;,\n",
       "  &quot;iconColor&quot;: &quot;white&quot;,\n",
       "  &quot;icon&quot;: &quot;info-sign&quot;,\n",
       "  &quot;prefix&quot;: &quot;glyphicon&quot;,\n",
       "  &quot;extraClasses&quot;: &quot;fa-rotate-0&quot;,\n",
       "}\n",
       "            );\n",
       "            marker_df11fef8bd6aa2eaaece4606479fe83b.setIcon(icon_5577c5e35ecf3245e8f6f29143fda326);\n",
       "        \n",
       "    \n",
       "        var popup_fc5f449382c563bc9e56f7e79f87f42b = L.popup({\n",
       "  &quot;maxWidth&quot;: &quot;100%&quot;,\n",
       "});\n",
       "\n",
       "        \n",
       "            \n",
       "                var html_51c1f09cb62057b6c8166af6a2d10fa8 = $(`&lt;div id=&quot;html_51c1f09cb62057b6c8166af6a2d10fa8&quot; style=&quot;width: 100.0%; height: 100.0%;&quot;&gt;Beer para creer&lt;/div&gt;`)[0];\n",
       "                popup_fc5f449382c563bc9e56f7e79f87f42b.setContent(html_51c1f09cb62057b6c8166af6a2d10fa8);\n",
       "            \n",
       "        \n",
       "\n",
       "        marker_df11fef8bd6aa2eaaece4606479fe83b.bindPopup(popup_fc5f449382c563bc9e56f7e79f87f42b)\n",
       "        ;\n",
       "\n",
       "        \n",
       "    \n",
       "    \n",
       "            var marker_1b4a63b90b876482a0c096c2ea90fea0 = L.marker(\n",
       "                [23.14155904081577, -82.40118050679031],\n",
       "                {\n",
       "}\n",
       "            ).addTo(map_eac3e686e37a9ed8ab94d2de922915a2);\n",
       "        \n",
       "    \n",
       "            var icon_14130e11ade206f268021d631b2cac4f = L.AwesomeMarkers.icon(\n",
       "                {\n",
       "  &quot;markerColor&quot;: &quot;darkblue&quot;,\n",
       "  &quot;iconColor&quot;: &quot;white&quot;,\n",
       "  &quot;icon&quot;: &quot;info-sign&quot;,\n",
       "  &quot;prefix&quot;: &quot;glyphicon&quot;,\n",
       "  &quot;extraClasses&quot;: &quot;fa-rotate-0&quot;,\n",
       "}\n",
       "            );\n",
       "            marker_1b4a63b90b876482a0c096c2ea90fea0.setIcon(icon_14130e11ade206f268021d631b2cac4f);\n",
       "        \n",
       "    \n",
       "        var popup_51c0e68bc5d73be74923bdc788ca8189 = L.popup({\n",
       "  &quot;maxWidth&quot;: &quot;100%&quot;,\n",
       "});\n",
       "\n",
       "        \n",
       "            \n",
       "                var html_82729ecaf135e9fe9c274a9222090e7c = $(`&lt;div id=&quot;html_82729ecaf135e9fe9c274a9222090e7c&quot; style=&quot;width: 100.0%; height: 100.0%;&quot;&gt;Beirut&lt;/div&gt;`)[0];\n",
       "                popup_51c0e68bc5d73be74923bdc788ca8189.setContent(html_82729ecaf135e9fe9c274a9222090e7c);\n",
       "            \n",
       "        \n",
       "\n",
       "        marker_1b4a63b90b876482a0c096c2ea90fea0.bindPopup(popup_51c0e68bc5d73be74923bdc788ca8189)\n",
       "        ;\n",
       "\n",
       "        \n",
       "    \n",
       "    \n",
       "            var marker_29833a66e615ca523bcfd9c711dc5e85 = L.marker(\n",
       "                [23.12046138313826, -82.41683832082161],\n",
       "                {\n",
       "}\n",
       "            ).addTo(map_eac3e686e37a9ed8ab94d2de922915a2);\n",
       "        \n",
       "    \n",
       "            var icon_571142ae1338b8dc31eaea9151eb7347 = L.AwesomeMarkers.icon(\n",
       "                {\n",
       "  &quot;markerColor&quot;: &quot;darkblue&quot;,\n",
       "  &quot;iconColor&quot;: &quot;white&quot;,\n",
       "  &quot;icon&quot;: &quot;info-sign&quot;,\n",
       "  &quot;prefix&quot;: &quot;glyphicon&quot;,\n",
       "  &quot;extraClasses&quot;: &quot;fa-rotate-0&quot;,\n",
       "}\n",
       "            );\n",
       "            marker_29833a66e615ca523bcfd9c711dc5e85.setIcon(icon_571142ae1338b8dc31eaea9151eb7347);\n",
       "        \n",
       "    \n",
       "        var popup_ff1d8021042ac622104ac235766e6f19 = L.popup({\n",
       "  &quot;maxWidth&quot;: &quot;100%&quot;,\n",
       "});\n",
       "\n",
       "        \n",
       "            \n",
       "                var html_adcebfe215bab5c7051d1238fd51ee16 = $(`&lt;div id=&quot;html_adcebfe215bab5c7051d1238fd51ee16&quot; style=&quot;width: 100.0%; height: 100.0%;&quot;&gt;Bocattas&lt;/div&gt;`)[0];\n",
       "                popup_ff1d8021042ac622104ac235766e6f19.setContent(html_adcebfe215bab5c7051d1238fd51ee16);\n",
       "            \n",
       "        \n",
       "\n",
       "        marker_29833a66e615ca523bcfd9c711dc5e85.bindPopup(popup_ff1d8021042ac622104ac235766e6f19)\n",
       "        ;\n",
       "\n",
       "        \n",
       "    \n",
       "    \n",
       "            var marker_ab9126eee2ed5607d2e695e1de60439f = L.marker(\n",
       "                [23.14067652925281, -82.37851087833417],\n",
       "                {\n",
       "}\n",
       "            ).addTo(map_eac3e686e37a9ed8ab94d2de922915a2);\n",
       "        \n",
       "    \n",
       "            var icon_25844a4ea76bff26b52e82db2f6b8e60 = L.AwesomeMarkers.icon(\n",
       "                {\n",
       "  &quot;markerColor&quot;: &quot;darkblue&quot;,\n",
       "  &quot;iconColor&quot;: &quot;white&quot;,\n",
       "  &quot;icon&quot;: &quot;info-sign&quot;,\n",
       "  &quot;prefix&quot;: &quot;glyphicon&quot;,\n",
       "  &quot;extraClasses&quot;: &quot;fa-rotate-0&quot;,\n",
       "}\n",
       "            );\n",
       "            marker_ab9126eee2ed5607d2e695e1de60439f.setIcon(icon_25844a4ea76bff26b52e82db2f6b8e60);\n",
       "        \n",
       "    \n",
       "        var popup_297641425d866171b0a08aaf4953b8cd = L.popup({\n",
       "  &quot;maxWidth&quot;: &quot;100%&quot;,\n",
       "});\n",
       "\n",
       "        \n",
       "            \n",
       "                var html_e337da4a5734df293fb1db4ad95c8421 = $(`&lt;div id=&quot;html_e337da4a5734df293fb1db4ad95c8421&quot; style=&quot;width: 100.0%; height: 100.0%;&quot;&gt;Bok2&lt;/div&gt;`)[0];\n",
       "                popup_297641425d866171b0a08aaf4953b8cd.setContent(html_e337da4a5734df293fb1db4ad95c8421);\n",
       "            \n",
       "        \n",
       "\n",
       "        marker_ab9126eee2ed5607d2e695e1de60439f.bindPopup(popup_297641425d866171b0a08aaf4953b8cd)\n",
       "        ;\n",
       "\n",
       "        \n",
       "    \n",
       "    \n",
       "            var marker_0fcd257d315c4ac6a98ff408589cacd3 = L.marker(\n",
       "                [23.113345376993024, -82.43984071467096],\n",
       "                {\n",
       "}\n",
       "            ).addTo(map_eac3e686e37a9ed8ab94d2de922915a2);\n",
       "        \n",
       "    \n",
       "            var icon_ce779e57e9ee29f86af4fc996cf0d7f1 = L.AwesomeMarkers.icon(\n",
       "                {\n",
       "  &quot;markerColor&quot;: &quot;darkblue&quot;,\n",
       "  &quot;iconColor&quot;: &quot;white&quot;,\n",
       "  &quot;icon&quot;: &quot;info-sign&quot;,\n",
       "  &quot;prefix&quot;: &quot;glyphicon&quot;,\n",
       "  &quot;extraClasses&quot;: &quot;fa-rotate-0&quot;,\n",
       "}\n",
       "            );\n",
       "            marker_0fcd257d315c4ac6a98ff408589cacd3.setIcon(icon_ce779e57e9ee29f86af4fc996cf0d7f1);\n",
       "        \n",
       "    \n",
       "        var popup_3edbf1e395b339d21ffc1b45c04e8183 = L.popup({\n",
       "  &quot;maxWidth&quot;: &quot;100%&quot;,\n",
       "});\n",
       "\n",
       "        \n",
       "            \n",
       "                var html_226a12c41c729afa6cb301ffea8f92a9 = $(`&lt;div id=&quot;html_226a12c41c729afa6cb301ffea8f92a9&quot; style=&quot;width: 100.0%; height: 100.0%;&quot;&gt;Bom Apetite&lt;/div&gt;`)[0];\n",
       "                popup_3edbf1e395b339d21ffc1b45c04e8183.setContent(html_226a12c41c729afa6cb301ffea8f92a9);\n",
       "            \n",
       "        \n",
       "\n",
       "        marker_0fcd257d315c4ac6a98ff408589cacd3.bindPopup(popup_3edbf1e395b339d21ffc1b45c04e8183)\n",
       "        ;\n",
       "\n",
       "        \n",
       "    \n",
       "    \n",
       "            var marker_32d34dcaf2aa4b70b00cf9c608f56e1a = L.marker(\n",
       "                [23.137430101331596, -82.35973216484062],\n",
       "                {\n",
       "}\n",
       "            ).addTo(map_eac3e686e37a9ed8ab94d2de922915a2);\n",
       "        \n",
       "    \n",
       "            var icon_1d0ff6b5c663a2b41f4b615834d9586b = L.AwesomeMarkers.icon(\n",
       "                {\n",
       "  &quot;markerColor&quot;: &quot;darkblue&quot;,\n",
       "  &quot;iconColor&quot;: &quot;white&quot;,\n",
       "  &quot;icon&quot;: &quot;info-sign&quot;,\n",
       "  &quot;prefix&quot;: &quot;glyphicon&quot;,\n",
       "  &quot;extraClasses&quot;: &quot;fa-rotate-0&quot;,\n",
       "}\n",
       "            );\n",
       "            marker_32d34dcaf2aa4b70b00cf9c608f56e1a.setIcon(icon_1d0ff6b5c663a2b41f4b615834d9586b);\n",
       "        \n",
       "    \n",
       "        var popup_8097efdcae6f6792706b359661ca4ee3 = L.popup({\n",
       "  &quot;maxWidth&quot;: &quot;100%&quot;,\n",
       "});\n",
       "\n",
       "        \n",
       "            \n",
       "                var html_07fac4c5d759f4f641ac7546d06adc20 = $(`&lt;div id=&quot;html_07fac4c5d759f4f641ac7546d06adc20&quot; style=&quot;width: 100.0%; height: 100.0%;&quot;&gt;Bone&#x27;Ma 62&lt;/div&gt;`)[0];\n",
       "                popup_8097efdcae6f6792706b359661ca4ee3.setContent(html_07fac4c5d759f4f641ac7546d06adc20);\n",
       "            \n",
       "        \n",
       "\n",
       "        marker_32d34dcaf2aa4b70b00cf9c608f56e1a.bindPopup(popup_8097efdcae6f6792706b359661ca4ee3)\n",
       "        ;\n",
       "\n",
       "        \n",
       "    \n",
       "    \n",
       "            var marker_e7f06f83e16b9e124463ac986597638c = L.marker(\n",
       "                [23.12076655269561, -82.37262902250966],\n",
       "                {\n",
       "}\n",
       "            ).addTo(map_eac3e686e37a9ed8ab94d2de922915a2);\n",
       "        \n",
       "    \n",
       "            var icon_17dfb4ceff6d55901f0a31991c82a69d = L.AwesomeMarkers.icon(\n",
       "                {\n",
       "  &quot;markerColor&quot;: &quot;darkblue&quot;,\n",
       "  &quot;iconColor&quot;: &quot;white&quot;,\n",
       "  &quot;icon&quot;: &quot;info-sign&quot;,\n",
       "  &quot;prefix&quot;: &quot;glyphicon&quot;,\n",
       "  &quot;extraClasses&quot;: &quot;fa-rotate-0&quot;,\n",
       "}\n",
       "            );\n",
       "            marker_e7f06f83e16b9e124463ac986597638c.setIcon(icon_17dfb4ceff6d55901f0a31991c82a69d);\n",
       "        \n",
       "    \n",
       "        var popup_e2d4e9b9dbfd5fb4298aa516d4ae30a9 = L.popup({\n",
       "  &quot;maxWidth&quot;: &quot;100%&quot;,\n",
       "});\n",
       "\n",
       "        \n",
       "            \n",
       "                var html_3afa66a0d77abfee6c1c619617004356 = $(`&lt;div id=&quot;html_3afa66a0d77abfee6c1c619617004356&quot; style=&quot;width: 100.0%; height: 100.0%;&quot;&gt;Brutal Habana&lt;/div&gt;`)[0];\n",
       "                popup_e2d4e9b9dbfd5fb4298aa516d4ae30a9.setContent(html_3afa66a0d77abfee6c1c619617004356);\n",
       "            \n",
       "        \n",
       "\n",
       "        marker_e7f06f83e16b9e124463ac986597638c.bindPopup(popup_e2d4e9b9dbfd5fb4298aa516d4ae30a9)\n",
       "        ;\n",
       "\n",
       "        \n",
       "    \n",
       "    \n",
       "            var marker_378125c7e696a780be910d0fd6593e74 = L.marker(\n",
       "                [23.09939463317276, -82.3324060073085],\n",
       "                {\n",
       "}\n",
       "            ).addTo(map_eac3e686e37a9ed8ab94d2de922915a2);\n",
       "        \n",
       "    \n",
       "            var icon_508e4515660ebf0c7aa8c67884104a26 = L.AwesomeMarkers.icon(\n",
       "                {\n",
       "  &quot;markerColor&quot;: &quot;darkblue&quot;,\n",
       "  &quot;iconColor&quot;: &quot;white&quot;,\n",
       "  &quot;icon&quot;: &quot;info-sign&quot;,\n",
       "  &quot;prefix&quot;: &quot;glyphicon&quot;,\n",
       "  &quot;extraClasses&quot;: &quot;fa-rotate-0&quot;,\n",
       "}\n",
       "            );\n",
       "            marker_378125c7e696a780be910d0fd6593e74.setIcon(icon_508e4515660ebf0c7aa8c67884104a26);\n",
       "        \n",
       "    \n",
       "        var popup_68393d988d1cd05a0da620e963b95ff4 = L.popup({\n",
       "  &quot;maxWidth&quot;: &quot;100%&quot;,\n",
       "});\n",
       "\n",
       "        \n",
       "            \n",
       "                var html_3db9eb3ffaf7e1370cbb26592eb21939 = $(`&lt;div id=&quot;html_3db9eb3ffaf7e1370cbb26592eb21939&quot; style=&quot;width: 100.0%; height: 100.0%;&quot;&gt;Buena Vibra&lt;/div&gt;`)[0];\n",
       "                popup_68393d988d1cd05a0da620e963b95ff4.setContent(html_3db9eb3ffaf7e1370cbb26592eb21939);\n",
       "            \n",
       "        \n",
       "\n",
       "        marker_378125c7e696a780be910d0fd6593e74.bindPopup(popup_68393d988d1cd05a0da620e963b95ff4)\n",
       "        ;\n",
       "\n",
       "        \n",
       "    \n",
       "    \n",
       "            var marker_424bf9e239ef268ced849ad5cd28ba08 = L.marker(\n",
       "                [23.143218246225477, -82.37817617833404],\n",
       "                {\n",
       "}\n",
       "            ).addTo(map_eac3e686e37a9ed8ab94d2de922915a2);\n",
       "        \n",
       "    \n",
       "            var icon_1eed07e6ff2ac2c33d6acf086fed8d40 = L.AwesomeMarkers.icon(\n",
       "                {\n",
       "  &quot;markerColor&quot;: &quot;darkblue&quot;,\n",
       "  &quot;iconColor&quot;: &quot;white&quot;,\n",
       "  &quot;icon&quot;: &quot;info-sign&quot;,\n",
       "  &quot;prefix&quot;: &quot;glyphicon&quot;,\n",
       "  &quot;extraClasses&quot;: &quot;fa-rotate-0&quot;,\n",
       "}\n",
       "            );\n",
       "            marker_424bf9e239ef268ced849ad5cd28ba08.setIcon(icon_1eed07e6ff2ac2c33d6acf086fed8d40);\n",
       "        \n",
       "    \n",
       "        var popup_4fc34b324181b06de05eca82f20159c5 = L.popup({\n",
       "  &quot;maxWidth&quot;: &quot;100%&quot;,\n",
       "});\n",
       "\n",
       "        \n",
       "            \n",
       "                var html_316f18a4f591a7ac483ccd34022db2f2 = $(`&lt;div id=&quot;html_316f18a4f591a7ac483ccd34022db2f2&quot; style=&quot;width: 100.0%; height: 100.0%;&quot;&gt;Bueníssimo heladería&lt;/div&gt;`)[0];\n",
       "                popup_4fc34b324181b06de05eca82f20159c5.setContent(html_316f18a4f591a7ac483ccd34022db2f2);\n",
       "            \n",
       "        \n",
       "\n",
       "        marker_424bf9e239ef268ced849ad5cd28ba08.bindPopup(popup_4fc34b324181b06de05eca82f20159c5)\n",
       "        ;\n",
       "\n",
       "        \n",
       "    \n",
       "    \n",
       "            var marker_9157c63277a98ccf50bbd14b726d60d0 = L.marker(\n",
       "                [23.136606572526283, -82.36299826271366],\n",
       "                {\n",
       "}\n",
       "            ).addTo(map_eac3e686e37a9ed8ab94d2de922915a2);\n",
       "        \n",
       "    \n",
       "            var icon_21d23f2a534969abc01dbef62bd074ed = L.AwesomeMarkers.icon(\n",
       "                {\n",
       "  &quot;markerColor&quot;: &quot;darkblue&quot;,\n",
       "  &quot;iconColor&quot;: &quot;white&quot;,\n",
       "  &quot;icon&quot;: &quot;info-sign&quot;,\n",
       "  &quot;prefix&quot;: &quot;glyphicon&quot;,\n",
       "  &quot;extraClasses&quot;: &quot;fa-rotate-0&quot;,\n",
       "}\n",
       "            );\n",
       "            marker_9157c63277a98ccf50bbd14b726d60d0.setIcon(icon_21d23f2a534969abc01dbef62bd074ed);\n",
       "        \n",
       "    \n",
       "        var popup_edb8925b78baf6e16d6f7057dedebe1d = L.popup({\n",
       "  &quot;maxWidth&quot;: &quot;100%&quot;,\n",
       "});\n",
       "\n",
       "        \n",
       "            \n",
       "                var html_f810b0b0384382a35a57f8d2f7eaf337 = $(`&lt;div id=&quot;html_f810b0b0384382a35a57f8d2f7eaf337&quot; style=&quot;width: 100.0%; height: 100.0%;&quot;&gt;Cafe Bulevar&lt;/div&gt;`)[0];\n",
       "                popup_edb8925b78baf6e16d6f7057dedebe1d.setContent(html_f810b0b0384382a35a57f8d2f7eaf337);\n",
       "            \n",
       "        \n",
       "\n",
       "        marker_9157c63277a98ccf50bbd14b726d60d0.bindPopup(popup_edb8925b78baf6e16d6f7057dedebe1d)\n",
       "        ;\n",
       "\n",
       "        \n",
       "    \n",
       "    \n",
       "            var marker_36c7fab568e5012952ecc235383ef226 = L.marker(\n",
       "                [23.118089959620736, -82.4323885782618],\n",
       "                {\n",
       "}\n",
       "            ).addTo(map_eac3e686e37a9ed8ab94d2de922915a2);\n",
       "        \n",
       "    \n",
       "            var icon_a722b9ffc91ad35df866ee68988213eb = L.AwesomeMarkers.icon(\n",
       "                {\n",
       "  &quot;markerColor&quot;: &quot;darkblue&quot;,\n",
       "  &quot;iconColor&quot;: &quot;white&quot;,\n",
       "  &quot;icon&quot;: &quot;info-sign&quot;,\n",
       "  &quot;prefix&quot;: &quot;glyphicon&quot;,\n",
       "  &quot;extraClasses&quot;: &quot;fa-rotate-0&quot;,\n",
       "}\n",
       "            );\n",
       "            marker_36c7fab568e5012952ecc235383ef226.setIcon(icon_a722b9ffc91ad35df866ee68988213eb);\n",
       "        \n",
       "    \n",
       "        var popup_a2ae24d9822c70d93c0ad66826c5d7ee = L.popup({\n",
       "  &quot;maxWidth&quot;: &quot;100%&quot;,\n",
       "});\n",
       "\n",
       "        \n",
       "            \n",
       "                var html_8d96ad56dbd8bf2a3c120ee95c2cce05 = $(`&lt;div id=&quot;html_8d96ad56dbd8bf2a3c120ee95c2cce05&quot; style=&quot;width: 100.0%; height: 100.0%;&quot;&gt;Café literario La Copa&lt;/div&gt;`)[0];\n",
       "                popup_a2ae24d9822c70d93c0ad66826c5d7ee.setContent(html_8d96ad56dbd8bf2a3c120ee95c2cce05);\n",
       "            \n",
       "        \n",
       "\n",
       "        marker_36c7fab568e5012952ecc235383ef226.bindPopup(popup_a2ae24d9822c70d93c0ad66826c5d7ee)\n",
       "        ;\n",
       "\n",
       "        \n",
       "    \n",
       "    \n",
       "            var marker_75e91b3a4d47bb68ce955d7dd4ec9773 = L.marker(\n",
       "                [23.062585294878723, -82.36389982686543],\n",
       "                {\n",
       "}\n",
       "            ).addTo(map_eac3e686e37a9ed8ab94d2de922915a2);\n",
       "        \n",
       "    \n",
       "            var icon_21e0af3d1fa7f8ae3e2ded5e4bd80685 = L.AwesomeMarkers.icon(\n",
       "                {\n",
       "  &quot;markerColor&quot;: &quot;darkblue&quot;,\n",
       "  &quot;iconColor&quot;: &quot;white&quot;,\n",
       "  &quot;icon&quot;: &quot;info-sign&quot;,\n",
       "  &quot;prefix&quot;: &quot;glyphicon&quot;,\n",
       "  &quot;extraClasses&quot;: &quot;fa-rotate-0&quot;,\n",
       "}\n",
       "            );\n",
       "            marker_75e91b3a4d47bb68ce955d7dd4ec9773.setIcon(icon_21e0af3d1fa7f8ae3e2ded5e4bd80685);\n",
       "        \n",
       "    \n",
       "        var popup_b76889d8530f2f018786060227b82b66 = L.popup({\n",
       "  &quot;maxWidth&quot;: &quot;100%&quot;,\n",
       "});\n",
       "\n",
       "        \n",
       "            \n",
       "                var html_ede2ca11c76aa588b5176a62d729543c = $(`&lt;div id=&quot;html_ede2ca11c76aa588b5176a62d729543c&quot; style=&quot;width: 100.0%; height: 100.0%;&quot;&gt;Pizzería Los Atrevidos&lt;/div&gt;`)[0];\n",
       "                popup_b76889d8530f2f018786060227b82b66.setContent(html_ede2ca11c76aa588b5176a62d729543c);\n",
       "            \n",
       "        \n",
       "\n",
       "        marker_75e91b3a4d47bb68ce955d7dd4ec9773.bindPopup(popup_b76889d8530f2f018786060227b82b66)\n",
       "        ;\n",
       "\n",
       "        \n",
       "    \n",
       "    \n",
       "            var marker_1a8d031c3dd67d0dce345ff6194b418d = L.marker(\n",
       "                [23.084914482920695, -82.42430664968636],\n",
       "                {\n",
       "}\n",
       "            ).addTo(map_eac3e686e37a9ed8ab94d2de922915a2);\n",
       "        \n",
       "    \n",
       "            var icon_5c0f0fe438d967a709bdb4777ffbabf0 = L.AwesomeMarkers.icon(\n",
       "                {\n",
       "  &quot;markerColor&quot;: &quot;darkblue&quot;,\n",
       "  &quot;iconColor&quot;: &quot;white&quot;,\n",
       "  &quot;icon&quot;: &quot;info-sign&quot;,\n",
       "  &quot;prefix&quot;: &quot;glyphicon&quot;,\n",
       "  &quot;extraClasses&quot;: &quot;fa-rotate-0&quot;,\n",
       "}\n",
       "            );\n",
       "            marker_1a8d031c3dd67d0dce345ff6194b418d.setIcon(icon_5c0f0fe438d967a709bdb4777ffbabf0);\n",
       "        \n",
       "    \n",
       "        var popup_c0be6ae7655161ad7f1cf235a20fd5c3 = L.popup({\n",
       "  &quot;maxWidth&quot;: &quot;100%&quot;,\n",
       "});\n",
       "\n",
       "        \n",
       "            \n",
       "                var html_91b86d27d0b0c19e3549b5135e40a221 = $(`&lt;div id=&quot;html_91b86d27d0b0c19e3549b5135e40a221&quot; style=&quot;width: 100.0%; height: 100.0%;&quot;&gt;Cafeteria Obelisco&lt;/div&gt;`)[0];\n",
       "                popup_c0be6ae7655161ad7f1cf235a20fd5c3.setContent(html_91b86d27d0b0c19e3549b5135e40a221);\n",
       "            \n",
       "        \n",
       "\n",
       "        marker_1a8d031c3dd67d0dce345ff6194b418d.bindPopup(popup_c0be6ae7655161ad7f1cf235a20fd5c3)\n",
       "        ;\n",
       "\n",
       "        \n",
       "    \n",
       "    \n",
       "            var marker_e4825c069fc5d82010d3b61117e48c6c = L.marker(\n",
       "                [23.142051017464148, -82.35552776299248],\n",
       "                {\n",
       "}\n",
       "            ).addTo(map_eac3e686e37a9ed8ab94d2de922915a2);\n",
       "        \n",
       "    \n",
       "            var icon_21c10b48a73129f93b0f7692fff67142 = L.AwesomeMarkers.icon(\n",
       "                {\n",
       "  &quot;markerColor&quot;: &quot;darkblue&quot;,\n",
       "  &quot;iconColor&quot;: &quot;white&quot;,\n",
       "  &quot;icon&quot;: &quot;info-sign&quot;,\n",
       "  &quot;prefix&quot;: &quot;glyphicon&quot;,\n",
       "  &quot;extraClasses&quot;: &quot;fa-rotate-0&quot;,\n",
       "}\n",
       "            );\n",
       "            marker_e4825c069fc5d82010d3b61117e48c6c.setIcon(icon_21c10b48a73129f93b0f7692fff67142);\n",
       "        \n",
       "    \n",
       "        var popup_0467ac501dd29ed7a0a69a9abf605ce2 = L.popup({\n",
       "  &quot;maxWidth&quot;: &quot;100%&quot;,\n",
       "});\n",
       "\n",
       "        \n",
       "            \n",
       "                var html_2a678b36b9b5608feda28197a7853504 = $(`&lt;div id=&quot;html_2a678b36b9b5608feda28197a7853504&quot; style=&quot;width: 100.0%; height: 100.0%;&quot;&gt;Café Del Ángel&lt;/div&gt;`)[0];\n",
       "                popup_0467ac501dd29ed7a0a69a9abf605ce2.setContent(html_2a678b36b9b5608feda28197a7853504);\n",
       "            \n",
       "        \n",
       "\n",
       "        marker_e4825c069fc5d82010d3b61117e48c6c.bindPopup(popup_0467ac501dd29ed7a0a69a9abf605ce2)\n",
       "        ;\n",
       "\n",
       "        \n",
       "    \n",
       "    \n",
       "            var marker_653497b8e6fc1ae42b9c9ce4ca1a9dbb = L.marker(\n",
       "                [23.13914835979573, -82.40088382065566],\n",
       "                {\n",
       "}\n",
       "            ).addTo(map_eac3e686e37a9ed8ab94d2de922915a2);\n",
       "        \n",
       "    \n",
       "            var icon_fde5008eafa2f20060f7cc76c31450e1 = L.AwesomeMarkers.icon(\n",
       "                {\n",
       "  &quot;markerColor&quot;: &quot;darkblue&quot;,\n",
       "  &quot;iconColor&quot;: &quot;white&quot;,\n",
       "  &quot;icon&quot;: &quot;info-sign&quot;,\n",
       "  &quot;prefix&quot;: &quot;glyphicon&quot;,\n",
       "  &quot;extraClasses&quot;: &quot;fa-rotate-0&quot;,\n",
       "}\n",
       "            );\n",
       "            marker_653497b8e6fc1ae42b9c9ce4ca1a9dbb.setIcon(icon_fde5008eafa2f20060f7cc76c31450e1);\n",
       "        \n",
       "    \n",
       "        var popup_944aa9a319e13360834d46559590f703 = L.popup({\n",
       "  &quot;maxWidth&quot;: &quot;100%&quot;,\n",
       "});\n",
       "\n",
       "        \n",
       "            \n",
       "                var html_c6ee1a0ae06e88d451cc481ae5637894 = $(`&lt;div id=&quot;html_c6ee1a0ae06e88d451cc481ae5637894&quot; style=&quot;width: 100.0%; height: 100.0%;&quot;&gt;Cafe D La Esquina&lt;/div&gt;`)[0];\n",
       "                popup_944aa9a319e13360834d46559590f703.setContent(html_c6ee1a0ae06e88d451cc481ae5637894);\n",
       "            \n",
       "        \n",
       "\n",
       "        marker_653497b8e6fc1ae42b9c9ce4ca1a9dbb.bindPopup(popup_944aa9a319e13360834d46559590f703)\n",
       "        ;\n",
       "\n",
       "        \n",
       "    \n",
       "    \n",
       "            var marker_78e0cfdf7f9f261108e6f288172200cd = L.marker(\n",
       "                [23.142946607469362, -82.3545654068682],\n",
       "                {\n",
       "}\n",
       "            ).addTo(map_eac3e686e37a9ed8ab94d2de922915a2);\n",
       "        \n",
       "    \n",
       "            var icon_5d2462d9decb3b713772b81784da8ac0 = L.AwesomeMarkers.icon(\n",
       "                {\n",
       "  &quot;markerColor&quot;: &quot;darkblue&quot;,\n",
       "  &quot;iconColor&quot;: &quot;white&quot;,\n",
       "  &quot;icon&quot;: &quot;info-sign&quot;,\n",
       "  &quot;prefix&quot;: &quot;glyphicon&quot;,\n",
       "  &quot;extraClasses&quot;: &quot;fa-rotate-0&quot;,\n",
       "}\n",
       "            );\n",
       "            marker_78e0cfdf7f9f261108e6f288172200cd.setIcon(icon_5d2462d9decb3b713772b81784da8ac0);\n",
       "        \n",
       "    \n",
       "        var popup_89b6fd2b7498d3022da30a66052be7ed = L.popup({\n",
       "  &quot;maxWidth&quot;: &quot;100%&quot;,\n",
       "});\n",
       "\n",
       "        \n",
       "            \n",
       "                var html_ddf39961308624ec49c7c80eff85f4bc = $(`&lt;div id=&quot;html_ddf39961308624ec49c7c80eff85f4bc&quot; style=&quot;width: 100.0%; height: 100.0%;&quot;&gt;Café Fortuna Joe&lt;/div&gt;`)[0];\n",
       "                popup_89b6fd2b7498d3022da30a66052be7ed.setContent(html_ddf39961308624ec49c7c80eff85f4bc);\n",
       "            \n",
       "        \n",
       "\n",
       "        marker_78e0cfdf7f9f261108e6f288172200cd.bindPopup(popup_89b6fd2b7498d3022da30a66052be7ed)\n",
       "        ;\n",
       "\n",
       "        \n",
       "    \n",
       "    \n",
       "            var marker_7ca2f2a42a0e42aadbc0499b1877690c = L.marker(\n",
       "                [23.02223192051713, -82.39913129234107],\n",
       "                {\n",
       "}\n",
       "            ).addTo(map_eac3e686e37a9ed8ab94d2de922915a2);\n",
       "        \n",
       "    \n",
       "            var icon_861c4ec0ff55a4168d504de661c5dd2c = L.AwesomeMarkers.icon(\n",
       "                {\n",
       "  &quot;markerColor&quot;: &quot;darkblue&quot;,\n",
       "  &quot;iconColor&quot;: &quot;white&quot;,\n",
       "  &quot;icon&quot;: &quot;info-sign&quot;,\n",
       "  &quot;prefix&quot;: &quot;glyphicon&quot;,\n",
       "  &quot;extraClasses&quot;: &quot;fa-rotate-0&quot;,\n",
       "}\n",
       "            );\n",
       "            marker_7ca2f2a42a0e42aadbc0499b1877690c.setIcon(icon_861c4ec0ff55a4168d504de661c5dd2c);\n",
       "        \n",
       "    \n",
       "        var popup_95f1e5107074c17e1c46f2420f2f0f8b = L.popup({\n",
       "  &quot;maxWidth&quot;: &quot;100%&quot;,\n",
       "});\n",
       "\n",
       "        \n",
       "            \n",
       "                var html_aefa15ea4eb5a13f4b62148d7bc4f42a = $(`&lt;div id=&quot;html_aefa15ea4eb5a13f4b62148d7bc4f42a&quot; style=&quot;width: 100.0%; height: 100.0%;&quot;&gt;Cafe Tilin&lt;/div&gt;`)[0];\n",
       "                popup_95f1e5107074c17e1c46f2420f2f0f8b.setContent(html_aefa15ea4eb5a13f4b62148d7bc4f42a);\n",
       "            \n",
       "        \n",
       "\n",
       "        marker_7ca2f2a42a0e42aadbc0499b1877690c.bindPopup(popup_95f1e5107074c17e1c46f2420f2f0f8b)\n",
       "        ;\n",
       "\n",
       "        \n",
       "    \n",
       "    \n",
       "            var marker_ee2ef8738034de13050c932e8193d886 = L.marker(\n",
       "                [23.079664361938153, -82.31965649386221],\n",
       "                {\n",
       "}\n",
       "            ).addTo(map_eac3e686e37a9ed8ab94d2de922915a2);\n",
       "        \n",
       "    \n",
       "            var icon_81d55ad5eb69be77d23c90ce788d6cc0 = L.AwesomeMarkers.icon(\n",
       "                {\n",
       "  &quot;markerColor&quot;: &quot;darkblue&quot;,\n",
       "  &quot;iconColor&quot;: &quot;white&quot;,\n",
       "  &quot;icon&quot;: &quot;info-sign&quot;,\n",
       "  &quot;prefix&quot;: &quot;glyphicon&quot;,\n",
       "  &quot;extraClasses&quot;: &quot;fa-rotate-0&quot;,\n",
       "}\n",
       "            );\n",
       "            marker_ee2ef8738034de13050c932e8193d886.setIcon(icon_81d55ad5eb69be77d23c90ce788d6cc0);\n",
       "        \n",
       "    \n",
       "        var popup_4dc6338c96aa4dbfaf216d88c1159945 = L.popup({\n",
       "  &quot;maxWidth&quot;: &quot;100%&quot;,\n",
       "});\n",
       "\n",
       "        \n",
       "            \n",
       "                var html_66a0b18443b061d97ed7b6c2f0cb07dd = $(`&lt;div id=&quot;html_66a0b18443b061d97ed7b6c2f0cb07dd&quot; style=&quot;width: 100.0%; height: 100.0%;&quot;&gt;Café Toscano&lt;/div&gt;`)[0];\n",
       "                popup_4dc6338c96aa4dbfaf216d88c1159945.setContent(html_66a0b18443b061d97ed7b6c2f0cb07dd);\n",
       "            \n",
       "        \n",
       "\n",
       "        marker_ee2ef8738034de13050c932e8193d886.bindPopup(popup_4dc6338c96aa4dbfaf216d88c1159945)\n",
       "        ;\n",
       "\n",
       "        \n",
       "    \n",
       "    \n",
       "            var marker_929bd3fb7e364fcd64bed6afadf7d345 = L.marker(\n",
       "                [23.115259266660882, -82.43418842082183],\n",
       "                {\n",
       "}\n",
       "            ).addTo(map_eac3e686e37a9ed8ab94d2de922915a2);\n",
       "        \n",
       "    \n",
       "            var icon_796f0f25ef5576b602eedb116c083287 = L.AwesomeMarkers.icon(\n",
       "                {\n",
       "  &quot;markerColor&quot;: &quot;darkblue&quot;,\n",
       "  &quot;iconColor&quot;: &quot;white&quot;,\n",
       "  &quot;icon&quot;: &quot;info-sign&quot;,\n",
       "  &quot;prefix&quot;: &quot;glyphicon&quot;,\n",
       "  &quot;extraClasses&quot;: &quot;fa-rotate-0&quot;,\n",
       "}\n",
       "            );\n",
       "            marker_929bd3fb7e364fcd64bed6afadf7d345.setIcon(icon_796f0f25ef5576b602eedb116c083287);\n",
       "        \n",
       "    \n",
       "        var popup_e6c6666c1dab0111cc8c636a118647cb = L.popup({\n",
       "  &quot;maxWidth&quot;: &quot;100%&quot;,\n",
       "});\n",
       "\n",
       "        \n",
       "            \n",
       "                var html_fe5814ef3380411d453dfbbbf8bc24f9 = $(`&lt;div id=&quot;html_fe5814ef3380411d453dfbbbf8bc24f9&quot; style=&quot;width: 100.0%; height: 100.0%;&quot;&gt;Café Clington&lt;/div&gt;`)[0];\n",
       "                popup_e6c6666c1dab0111cc8c636a118647cb.setContent(html_fe5814ef3380411d453dfbbbf8bc24f9);\n",
       "            \n",
       "        \n",
       "\n",
       "        marker_929bd3fb7e364fcd64bed6afadf7d345.bindPopup(popup_e6c6666c1dab0111cc8c636a118647cb)\n",
       "        ;\n",
       "\n",
       "        \n",
       "    \n",
       "    \n",
       "            var marker_5044c911fe2839f678c964699d37c4c5 = L.marker(\n",
       "                [23.143094606584455, -82.39921161808243],\n",
       "                {\n",
       "}\n",
       "            ).addTo(map_eac3e686e37a9ed8ab94d2de922915a2);\n",
       "        \n",
       "    \n",
       "            var icon_4785cb2aa7ebf05dd10dee9d1f634d23 = L.AwesomeMarkers.icon(\n",
       "                {\n",
       "  &quot;markerColor&quot;: &quot;darkblue&quot;,\n",
       "  &quot;iconColor&quot;: &quot;white&quot;,\n",
       "  &quot;icon&quot;: &quot;info-sign&quot;,\n",
       "  &quot;prefix&quot;: &quot;glyphicon&quot;,\n",
       "  &quot;extraClasses&quot;: &quot;fa-rotate-0&quot;,\n",
       "}\n",
       "            );\n",
       "            marker_5044c911fe2839f678c964699d37c4c5.setIcon(icon_4785cb2aa7ebf05dd10dee9d1f634d23);\n",
       "        \n",
       "    \n",
       "        var popup_d6705deefc7cb17a0399578075e044bd = L.popup({\n",
       "  &quot;maxWidth&quot;: &quot;100%&quot;,\n",
       "});\n",
       "\n",
       "        \n",
       "            \n",
       "                var html_a063622c12977e3ba0852cdf63c116e8 = $(`&lt;div id=&quot;html_a063622c12977e3ba0852cdf63c116e8&quot; style=&quot;width: 100.0%; height: 100.0%;&quot;&gt;Casa Mía Paladar&lt;/div&gt;`)[0];\n",
       "                popup_d6705deefc7cb17a0399578075e044bd.setContent(html_a063622c12977e3ba0852cdf63c116e8);\n",
       "            \n",
       "        \n",
       "\n",
       "        marker_5044c911fe2839f678c964699d37c4c5.bindPopup(popup_d6705deefc7cb17a0399578075e044bd)\n",
       "        ;\n",
       "\n",
       "        \n",
       "    \n",
       "    \n",
       "            var marker_713e5ae7bead5d195deaa1212bbfd190 = L.marker(\n",
       "                [23.131291003595813, -82.40481170717004],\n",
       "                {\n",
       "}\n",
       "            ).addTo(map_eac3e686e37a9ed8ab94d2de922915a2);\n",
       "        \n",
       "    \n",
       "            var icon_91718fca3e109dd1fc954751f5d177e0 = L.AwesomeMarkers.icon(\n",
       "                {\n",
       "  &quot;markerColor&quot;: &quot;darkblue&quot;,\n",
       "  &quot;iconColor&quot;: &quot;white&quot;,\n",
       "  &quot;icon&quot;: &quot;info-sign&quot;,\n",
       "  &quot;prefix&quot;: &quot;glyphicon&quot;,\n",
       "  &quot;extraClasses&quot;: &quot;fa-rotate-0&quot;,\n",
       "}\n",
       "            );\n",
       "            marker_713e5ae7bead5d195deaa1212bbfd190.setIcon(icon_91718fca3e109dd1fc954751f5d177e0);\n",
       "        \n",
       "    \n",
       "        var popup_a8fb77a1ff6950364ae793de9fdb5539 = L.popup({\n",
       "  &quot;maxWidth&quot;: &quot;100%&quot;,\n",
       "});\n",
       "\n",
       "        \n",
       "            \n",
       "                var html_51c6ef8bbf09806b6edc02c0e09a50e8 = $(`&lt;div id=&quot;html_51c6ef8bbf09806b6edc02c0e09a50e8&quot; style=&quot;width: 100.0%; height: 100.0%;&quot;&gt;Coco Blue y la Zorra Pelua&lt;/div&gt;`)[0];\n",
       "                popup_a8fb77a1ff6950364ae793de9fdb5539.setContent(html_51c6ef8bbf09806b6edc02c0e09a50e8);\n",
       "            \n",
       "        \n",
       "\n",
       "        marker_713e5ae7bead5d195deaa1212bbfd190.bindPopup(popup_a8fb77a1ff6950364ae793de9fdb5539)\n",
       "        ;\n",
       "\n",
       "        \n",
       "    \n",
       "    \n",
       "            var marker_d124a15cb59e9f21db0ab74b28728b7b = L.marker(\n",
       "                [23.071157091647542, -82.43553263563338],\n",
       "                {\n",
       "}\n",
       "            ).addTo(map_eac3e686e37a9ed8ab94d2de922915a2);\n",
       "        \n",
       "    \n",
       "            var icon_8b9a09e16773942a48b7ba5220ef3b70 = L.AwesomeMarkers.icon(\n",
       "                {\n",
       "  &quot;markerColor&quot;: &quot;darkblue&quot;,\n",
       "  &quot;iconColor&quot;: &quot;white&quot;,\n",
       "  &quot;icon&quot;: &quot;info-sign&quot;,\n",
       "  &quot;prefix&quot;: &quot;glyphicon&quot;,\n",
       "  &quot;extraClasses&quot;: &quot;fa-rotate-0&quot;,\n",
       "}\n",
       "            );\n",
       "            marker_d124a15cb59e9f21db0ab74b28728b7b.setIcon(icon_8b9a09e16773942a48b7ba5220ef3b70);\n",
       "        \n",
       "    \n",
       "        var popup_3d39aa686cc8feaf191675983715e695 = L.popup({\n",
       "  &quot;maxWidth&quot;: &quot;100%&quot;,\n",
       "});\n",
       "\n",
       "        \n",
       "            \n",
       "                var html_6a47528af97c26c20997a2ad62e8b397 = $(`&lt;div id=&quot;html_6a47528af97c26c20997a2ad62e8b397&quot; style=&quot;width: 100.0%; height: 100.0%;&quot;&gt;Colesterol 5.1&lt;/div&gt;`)[0];\n",
       "                popup_3d39aa686cc8feaf191675983715e695.setContent(html_6a47528af97c26c20997a2ad62e8b397);\n",
       "            \n",
       "        \n",
       "\n",
       "        marker_d124a15cb59e9f21db0ab74b28728b7b.bindPopup(popup_3d39aa686cc8feaf191675983715e695)\n",
       "        ;\n",
       "\n",
       "        \n",
       "    \n",
       "    \n",
       "            var marker_9f16f22549dfecdc383d3d33c1e67919 = L.marker(\n",
       "                [23.136810792066857, -82.36139565096036],\n",
       "                {\n",
       "}\n",
       "            ).addTo(map_eac3e686e37a9ed8ab94d2de922915a2);\n",
       "        \n",
       "    \n",
       "            var icon_7465762e38a227f13eb6e0e92fdb7500 = L.AwesomeMarkers.icon(\n",
       "                {\n",
       "  &quot;markerColor&quot;: &quot;darkblue&quot;,\n",
       "  &quot;iconColor&quot;: &quot;white&quot;,\n",
       "  &quot;icon&quot;: &quot;info-sign&quot;,\n",
       "  &quot;prefix&quot;: &quot;glyphicon&quot;,\n",
       "  &quot;extraClasses&quot;: &quot;fa-rotate-0&quot;,\n",
       "}\n",
       "            );\n",
       "            marker_9f16f22549dfecdc383d3d33c1e67919.setIcon(icon_7465762e38a227f13eb6e0e92fdb7500);\n",
       "        \n",
       "    \n",
       "        var popup_b8e8b51f7dc6189422f7d83c4a856a34 = L.popup({\n",
       "  &quot;maxWidth&quot;: &quot;100%&quot;,\n",
       "});\n",
       "\n",
       "        \n",
       "            \n",
       "                var html_bb23ceae0b679f6a2563048268559c9f = $(`&lt;div id=&quot;html_bb23ceae0b679f6a2563048268559c9f&quot; style=&quot;width: 100.0%; height: 100.0%;&quot;&gt;Cohmar Cafe&lt;/div&gt;`)[0];\n",
       "                popup_b8e8b51f7dc6189422f7d83c4a856a34.setContent(html_bb23ceae0b679f6a2563048268559c9f);\n",
       "            \n",
       "        \n",
       "\n",
       "        marker_9f16f22549dfecdc383d3d33c1e67919.bindPopup(popup_b8e8b51f7dc6189422f7d83c4a856a34)\n",
       "        ;\n",
       "\n",
       "        \n",
       "    \n",
       "    \n",
       "            var marker_8f7861829360194956ca5a5e6317169b = L.marker(\n",
       "                [23.089713179451753, -82.37605099342609],\n",
       "                {\n",
       "}\n",
       "            ).addTo(map_eac3e686e37a9ed8ab94d2de922915a2);\n",
       "        \n",
       "    \n",
       "            var icon_88387b814cdcdb88077df842046978b7 = L.AwesomeMarkers.icon(\n",
       "                {\n",
       "  &quot;markerColor&quot;: &quot;darkblue&quot;,\n",
       "  &quot;iconColor&quot;: &quot;white&quot;,\n",
       "  &quot;icon&quot;: &quot;info-sign&quot;,\n",
       "  &quot;prefix&quot;: &quot;glyphicon&quot;,\n",
       "  &quot;extraClasses&quot;: &quot;fa-rotate-0&quot;,\n",
       "}\n",
       "            );\n",
       "            marker_8f7861829360194956ca5a5e6317169b.setIcon(icon_88387b814cdcdb88077df842046978b7);\n",
       "        \n",
       "    \n",
       "        var popup_862f25b066b940c8273bf2798dfdf2fe = L.popup({\n",
       "  &quot;maxWidth&quot;: &quot;100%&quot;,\n",
       "});\n",
       "\n",
       "        \n",
       "            \n",
       "                var html_b6a21eda3dd4050d1854aa59e983683f = $(`&lt;div id=&quot;html_b6a21eda3dd4050d1854aa59e983683f&quot; style=&quot;width: 100.0%; height: 100.0%;&quot;&gt;Crispy Chicken&lt;/div&gt;`)[0];\n",
       "                popup_862f25b066b940c8273bf2798dfdf2fe.setContent(html_b6a21eda3dd4050d1854aa59e983683f);\n",
       "            \n",
       "        \n",
       "\n",
       "        marker_8f7861829360194956ca5a5e6317169b.bindPopup(popup_862f25b066b940c8273bf2798dfdf2fe)\n",
       "        ;\n",
       "\n",
       "        \n",
       "    \n",
       "    \n",
       "            var marker_27456f47b86f4b64a5ea39b0a121ef5c = L.marker(\n",
       "                [23.045720488391616, -82.27010112894351],\n",
       "                {\n",
       "}\n",
       "            ).addTo(map_eac3e686e37a9ed8ab94d2de922915a2);\n",
       "        \n",
       "    \n",
       "            var icon_deea91c39b998ff1007be6a5423f2256 = L.AwesomeMarkers.icon(\n",
       "                {\n",
       "  &quot;markerColor&quot;: &quot;darkblue&quot;,\n",
       "  &quot;iconColor&quot;: &quot;white&quot;,\n",
       "  &quot;icon&quot;: &quot;info-sign&quot;,\n",
       "  &quot;prefix&quot;: &quot;glyphicon&quot;,\n",
       "  &quot;extraClasses&quot;: &quot;fa-rotate-0&quot;,\n",
       "}\n",
       "            );\n",
       "            marker_27456f47b86f4b64a5ea39b0a121ef5c.setIcon(icon_deea91c39b998ff1007be6a5423f2256);\n",
       "        \n",
       "    \n",
       "        var popup_8f844cefffb2f8f612374a1701b1a8e9 = L.popup({\n",
       "  &quot;maxWidth&quot;: &quot;100%&quot;,\n",
       "});\n",
       "\n",
       "        \n",
       "            \n",
       "                var html_adaae277fcfda6f0b1fde4e9849f2834 = $(`&lt;div id=&quot;html_adaae277fcfda6f0b1fde4e9849f2834&quot; style=&quot;width: 100.0%; height: 100.0%;&quot;&gt;Crystal&lt;/div&gt;`)[0];\n",
       "                popup_8f844cefffb2f8f612374a1701b1a8e9.setContent(html_adaae277fcfda6f0b1fde4e9849f2834);\n",
       "            \n",
       "        \n",
       "\n",
       "        marker_27456f47b86f4b64a5ea39b0a121ef5c.bindPopup(popup_8f844cefffb2f8f612374a1701b1a8e9)\n",
       "        ;\n",
       "\n",
       "        \n",
       "    \n",
       "    \n",
       "            var marker_db169bdec472e33e00b8724016bdd786 = L.marker(\n",
       "                [23.13687569067757, -82.39995132251141],\n",
       "                {\n",
       "}\n",
       "            ).addTo(map_eac3e686e37a9ed8ab94d2de922915a2);\n",
       "        \n",
       "    \n",
       "            var icon_f927ddf2d51ec000288fb44d47b2865f = L.AwesomeMarkers.icon(\n",
       "                {\n",
       "  &quot;markerColor&quot;: &quot;darkblue&quot;,\n",
       "  &quot;iconColor&quot;: &quot;white&quot;,\n",
       "  &quot;icon&quot;: &quot;info-sign&quot;,\n",
       "  &quot;prefix&quot;: &quot;glyphicon&quot;,\n",
       "  &quot;extraClasses&quot;: &quot;fa-rotate-0&quot;,\n",
       "}\n",
       "            );\n",
       "            marker_db169bdec472e33e00b8724016bdd786.setIcon(icon_f927ddf2d51ec000288fb44d47b2865f);\n",
       "        \n",
       "    \n",
       "        var popup_ceffad357b1c1cde61729928f070e7fc = L.popup({\n",
       "  &quot;maxWidth&quot;: &quot;100%&quot;,\n",
       "});\n",
       "\n",
       "        \n",
       "            \n",
       "                var html_a2d4ba85fd5ca8f68b551c6b89d9f19c = $(`&lt;div id=&quot;html_a2d4ba85fd5ca8f68b551c6b89d9f19c&quot; style=&quot;width: 100.0%; height: 100.0%;&quot;&gt;Decamerón&lt;/div&gt;`)[0];\n",
       "                popup_ceffad357b1c1cde61729928f070e7fc.setContent(html_a2d4ba85fd5ca8f68b551c6b89d9f19c);\n",
       "            \n",
       "        \n",
       "\n",
       "        marker_db169bdec472e33e00b8724016bdd786.bindPopup(popup_ceffad357b1c1cde61729928f070e7fc)\n",
       "        ;\n",
       "\n",
       "        \n",
       "    \n",
       "    \n",
       "            var marker_ed9ef26a7556b9e5f2522b8484cf1d84 = L.marker(\n",
       "                [23.140047889777367, -82.38107827833426],\n",
       "                {\n",
       "}\n",
       "            ).addTo(map_eac3e686e37a9ed8ab94d2de922915a2);\n",
       "        \n",
       "    \n",
       "            var icon_950c7fafe8e497ddde4afad261a2a5bf = L.AwesomeMarkers.icon(\n",
       "                {\n",
       "  &quot;markerColor&quot;: &quot;darkblue&quot;,\n",
       "  &quot;iconColor&quot;: &quot;white&quot;,\n",
       "  &quot;icon&quot;: &quot;info-sign&quot;,\n",
       "  &quot;prefix&quot;: &quot;glyphicon&quot;,\n",
       "  &quot;extraClasses&quot;: &quot;fa-rotate-0&quot;,\n",
       "}\n",
       "            );\n",
       "            marker_ed9ef26a7556b9e5f2522b8484cf1d84.setIcon(icon_950c7fafe8e497ddde4afad261a2a5bf);\n",
       "        \n",
       "    \n",
       "        var popup_62a6010cc9b7491d9b0d6fc5bd946561 = L.popup({\n",
       "  &quot;maxWidth&quot;: &quot;100%&quot;,\n",
       "});\n",
       "\n",
       "        \n",
       "            \n",
       "                var html_820a6aff65b2d365d629e2b42ddb3ea4 = $(`&lt;div id=&quot;html_820a6aff65b2d365d629e2b42ddb3ea4&quot; style=&quot;width: 100.0%; height: 100.0%;&quot;&gt;Distrito 25&lt;/div&gt;`)[0];\n",
       "                popup_62a6010cc9b7491d9b0d6fc5bd946561.setContent(html_820a6aff65b2d365d629e2b42ddb3ea4);\n",
       "            \n",
       "        \n",
       "\n",
       "        marker_ed9ef26a7556b9e5f2522b8484cf1d84.bindPopup(popup_62a6010cc9b7491d9b0d6fc5bd946561)\n",
       "        ;\n",
       "\n",
       "        \n",
       "    \n",
       "    \n",
       "            var marker_113cc077be03797a700ee0697eb24f87 = L.marker(\n",
       "                [23.060193567010185, -82.3364931353467],\n",
       "                {\n",
       "}\n",
       "            ).addTo(map_eac3e686e37a9ed8ab94d2de922915a2);\n",
       "        \n",
       "    \n",
       "            var icon_e635cabd24b3978bdaf9aadb9544ab60 = L.AwesomeMarkers.icon(\n",
       "                {\n",
       "  &quot;markerColor&quot;: &quot;darkblue&quot;,\n",
       "  &quot;iconColor&quot;: &quot;white&quot;,\n",
       "  &quot;icon&quot;: &quot;info-sign&quot;,\n",
       "  &quot;prefix&quot;: &quot;glyphicon&quot;,\n",
       "  &quot;extraClasses&quot;: &quot;fa-rotate-0&quot;,\n",
       "}\n",
       "            );\n",
       "            marker_113cc077be03797a700ee0697eb24f87.setIcon(icon_e635cabd24b3978bdaf9aadb9544ab60);\n",
       "        \n",
       "    \n",
       "        var popup_8bb0e4d12caf1743392b5fa00d45b453 = L.popup({\n",
       "  &quot;maxWidth&quot;: &quot;100%&quot;,\n",
       "});\n",
       "\n",
       "        \n",
       "            \n",
       "                var html_044228f4e816ba722db76d8d19255f85 = $(`&lt;div id=&quot;html_044228f4e816ba722db76d8d19255f85&quot; style=&quot;width: 100.0%; height: 100.0%;&quot;&gt;DiVino Restaurante&lt;/div&gt;`)[0];\n",
       "                popup_8bb0e4d12caf1743392b5fa00d45b453.setContent(html_044228f4e816ba722db76d8d19255f85);\n",
       "            \n",
       "        \n",
       "\n",
       "        marker_113cc077be03797a700ee0697eb24f87.bindPopup(popup_8bb0e4d12caf1743392b5fa00d45b453)\n",
       "        ;\n",
       "\n",
       "        \n",
       "    \n",
       "    \n",
       "            var marker_2749a3468c8e1929eea8aefd3512790f = L.marker(\n",
       "                [23.08648320188595, -82.36489814950129],\n",
       "                {\n",
       "}\n",
       "            ).addTo(map_eac3e686e37a9ed8ab94d2de922915a2);\n",
       "        \n",
       "    \n",
       "            var icon_880aee892344f21ae3a9e75f85778799 = L.AwesomeMarkers.icon(\n",
       "                {\n",
       "  &quot;markerColor&quot;: &quot;darkblue&quot;,\n",
       "  &quot;iconColor&quot;: &quot;white&quot;,\n",
       "  &quot;icon&quot;: &quot;info-sign&quot;,\n",
       "  &quot;prefix&quot;: &quot;glyphicon&quot;,\n",
       "  &quot;extraClasses&quot;: &quot;fa-rotate-0&quot;,\n",
       "}\n",
       "            );\n",
       "            marker_2749a3468c8e1929eea8aefd3512790f.setIcon(icon_880aee892344f21ae3a9e75f85778799);\n",
       "        \n",
       "    \n",
       "        var popup_950ece8761c2cd01fed5f0c3f5ff1586 = L.popup({\n",
       "  &quot;maxWidth&quot;: &quot;100%&quot;,\n",
       "});\n",
       "\n",
       "        \n",
       "            \n",
       "                var html_5fd72a2da979346326aed31af7a5ea61 = $(`&lt;div id=&quot;html_5fd72a2da979346326aed31af7a5ea61&quot; style=&quot;width: 100.0%; height: 100.0%;&quot;&gt;D&#x27;Mitu&lt;/div&gt;`)[0];\n",
       "                popup_950ece8761c2cd01fed5f0c3f5ff1586.setContent(html_5fd72a2da979346326aed31af7a5ea61);\n",
       "            \n",
       "        \n",
       "\n",
       "        marker_2749a3468c8e1929eea8aefd3512790f.bindPopup(popup_950ece8761c2cd01fed5f0c3f5ff1586)\n",
       "        ;\n",
       "\n",
       "        \n",
       "    \n",
       "    \n",
       "            var marker_3e890f46b020f88554a4f1628b0a6362 = L.marker(\n",
       "                [23.132130469362888, -82.35198190548067],\n",
       "                {\n",
       "}\n",
       "            ).addTo(map_eac3e686e37a9ed8ab94d2de922915a2);\n",
       "        \n",
       "    \n",
       "            var icon_7a381707b6360eaf30550c5a67892c7f = L.AwesomeMarkers.icon(\n",
       "                {\n",
       "  &quot;markerColor&quot;: &quot;darkblue&quot;,\n",
       "  &quot;iconColor&quot;: &quot;white&quot;,\n",
       "  &quot;icon&quot;: &quot;info-sign&quot;,\n",
       "  &quot;prefix&quot;: &quot;glyphicon&quot;,\n",
       "  &quot;extraClasses&quot;: &quot;fa-rotate-0&quot;,\n",
       "}\n",
       "            );\n",
       "            marker_3e890f46b020f88554a4f1628b0a6362.setIcon(icon_7a381707b6360eaf30550c5a67892c7f);\n",
       "        \n",
       "    \n",
       "        var popup_d7827ca93c2a1d793f09be7f04e13805 = L.popup({\n",
       "  &quot;maxWidth&quot;: &quot;100%&quot;,\n",
       "});\n",
       "\n",
       "        \n",
       "            \n",
       "                var html_e9fc59da6b5f764f4534f1095f4d7059 = $(`&lt;div id=&quot;html_e9fc59da6b5f764f4534f1095f4d7059&quot; style=&quot;width: 100.0%; height: 100.0%;&quot;&gt;Doña Alicia&lt;/div&gt;`)[0];\n",
       "                popup_d7827ca93c2a1d793f09be7f04e13805.setContent(html_e9fc59da6b5f764f4534f1095f4d7059);\n",
       "            \n",
       "        \n",
       "\n",
       "        marker_3e890f46b020f88554a4f1628b0a6362.bindPopup(popup_d7827ca93c2a1d793f09be7f04e13805)\n",
       "        ;\n",
       "\n",
       "        \n",
       "    \n",
       "    \n",
       "            var marker_f8f538efa8b0510cc7e958eb2193ce4e = L.marker(\n",
       "                [23.065174820392418, -82.3755823766412],\n",
       "                {\n",
       "}\n",
       "            ).addTo(map_eac3e686e37a9ed8ab94d2de922915a2);\n",
       "        \n",
       "    \n",
       "            var icon_760088c441cb29ce417a513ff8772581 = L.AwesomeMarkers.icon(\n",
       "                {\n",
       "  &quot;markerColor&quot;: &quot;darkblue&quot;,\n",
       "  &quot;iconColor&quot;: &quot;white&quot;,\n",
       "  &quot;icon&quot;: &quot;info-sign&quot;,\n",
       "  &quot;prefix&quot;: &quot;glyphicon&quot;,\n",
       "  &quot;extraClasses&quot;: &quot;fa-rotate-0&quot;,\n",
       "}\n",
       "            );\n",
       "            marker_f8f538efa8b0510cc7e958eb2193ce4e.setIcon(icon_760088c441cb29ce417a513ff8772581);\n",
       "        \n",
       "    \n",
       "        var popup_07d609f9b091ea68fe60ca37fbd4c629 = L.popup({\n",
       "  &quot;maxWidth&quot;: &quot;100%&quot;,\n",
       "});\n",
       "\n",
       "        \n",
       "            \n",
       "                var html_1bd46b31d900729bcfa378314ca8b5f6 = $(`&lt;div id=&quot;html_1bd46b31d900729bcfa378314ca8b5f6&quot; style=&quot;width: 100.0%; height: 100.0%;&quot;&gt;Doña Almira&lt;/div&gt;`)[0];\n",
       "                popup_07d609f9b091ea68fe60ca37fbd4c629.setContent(html_1bd46b31d900729bcfa378314ca8b5f6);\n",
       "            \n",
       "        \n",
       "\n",
       "        marker_f8f538efa8b0510cc7e958eb2193ce4e.bindPopup(popup_07d609f9b091ea68fe60ca37fbd4c629)\n",
       "        ;\n",
       "\n",
       "        \n",
       "    \n",
       "    \n",
       "            var marker_2c62f2976ee73544d6ce7c534b6552a6 = L.marker(\n",
       "                [23.138392393516753, -82.37023852767982],\n",
       "                {\n",
       "}\n",
       "            ).addTo(map_eac3e686e37a9ed8ab94d2de922915a2);\n",
       "        \n",
       "    \n",
       "            var icon_a97a35cfdbbe0e13a08b02a38227bbfe = L.AwesomeMarkers.icon(\n",
       "                {\n",
       "  &quot;markerColor&quot;: &quot;darkblue&quot;,\n",
       "  &quot;iconColor&quot;: &quot;white&quot;,\n",
       "  &quot;icon&quot;: &quot;info-sign&quot;,\n",
       "  &quot;prefix&quot;: &quot;glyphicon&quot;,\n",
       "  &quot;extraClasses&quot;: &quot;fa-rotate-0&quot;,\n",
       "}\n",
       "            );\n",
       "            marker_2c62f2976ee73544d6ce7c534b6552a6.setIcon(icon_a97a35cfdbbe0e13a08b02a38227bbfe);\n",
       "        \n",
       "    \n",
       "        var popup_8f56d124c83b107e554403ca156f9864 = L.popup({\n",
       "  &quot;maxWidth&quot;: &quot;100%&quot;,\n",
       "});\n",
       "\n",
       "        \n",
       "            \n",
       "                var html_23aa242e53a1fc621945cbeb385691ce = $(`&lt;div id=&quot;html_23aa242e53a1fc621945cbeb385691ce&quot; style=&quot;width: 100.0%; height: 100.0%;&quot;&gt;Doña Lis Pizza&lt;/div&gt;`)[0];\n",
       "                popup_8f56d124c83b107e554403ca156f9864.setContent(html_23aa242e53a1fc621945cbeb385691ce);\n",
       "            \n",
       "        \n",
       "\n",
       "        marker_2c62f2976ee73544d6ce7c534b6552a6.bindPopup(popup_8f56d124c83b107e554403ca156f9864)\n",
       "        ;\n",
       "\n",
       "        \n",
       "    \n",
       "    \n",
       "            var marker_b18580822cdeb56e0af99e733b839825 = L.marker(\n",
       "                [23.07552643657392, -82.35874254913283],\n",
       "                {\n",
       "}\n",
       "            ).addTo(map_eac3e686e37a9ed8ab94d2de922915a2);\n",
       "        \n",
       "    \n",
       "            var icon_e2864cc922da76ff922aed4e6968e497 = L.AwesomeMarkers.icon(\n",
       "                {\n",
       "  &quot;markerColor&quot;: &quot;darkblue&quot;,\n",
       "  &quot;iconColor&quot;: &quot;white&quot;,\n",
       "  &quot;icon&quot;: &quot;info-sign&quot;,\n",
       "  &quot;prefix&quot;: &quot;glyphicon&quot;,\n",
       "  &quot;extraClasses&quot;: &quot;fa-rotate-0&quot;,\n",
       "}\n",
       "            );\n",
       "            marker_b18580822cdeb56e0af99e733b839825.setIcon(icon_e2864cc922da76ff922aed4e6968e497);\n",
       "        \n",
       "    \n",
       "        var popup_f0b12321da2d2c107e9220dfd66256aa = L.popup({\n",
       "  &quot;maxWidth&quot;: &quot;100%&quot;,\n",
       "});\n",
       "\n",
       "        \n",
       "            \n",
       "                var html_6306c8cbe3eeeab53af7212d57598d09 = $(`&lt;div id=&quot;html_6306c8cbe3eeeab53af7212d57598d09&quot; style=&quot;width: 100.0%; height: 100.0%;&quot;&gt;Don Burguer&lt;/div&gt;`)[0];\n",
       "                popup_f0b12321da2d2c107e9220dfd66256aa.setContent(html_6306c8cbe3eeeab53af7212d57598d09);\n",
       "            \n",
       "        \n",
       "\n",
       "        marker_b18580822cdeb56e0af99e733b839825.bindPopup(popup_f0b12321da2d2c107e9220dfd66256aa)\n",
       "        ;\n",
       "\n",
       "        \n",
       "    \n",
       "    \n",
       "            var marker_0ba8ec0b187e17cc077824c52c34ad6a = L.marker(\n",
       "                [23.096667207456722, -82.32652150730858],\n",
       "                {\n",
       "}\n",
       "            ).addTo(map_eac3e686e37a9ed8ab94d2de922915a2);\n",
       "        \n",
       "    \n",
       "            var icon_5afdf889c2041187f06e17da2c8c6d1a = L.AwesomeMarkers.icon(\n",
       "                {\n",
       "  &quot;markerColor&quot;: &quot;darkblue&quot;,\n",
       "  &quot;iconColor&quot;: &quot;white&quot;,\n",
       "  &quot;icon&quot;: &quot;info-sign&quot;,\n",
       "  &quot;prefix&quot;: &quot;glyphicon&quot;,\n",
       "  &quot;extraClasses&quot;: &quot;fa-rotate-0&quot;,\n",
       "}\n",
       "            );\n",
       "            marker_0ba8ec0b187e17cc077824c52c34ad6a.setIcon(icon_5afdf889c2041187f06e17da2c8c6d1a);\n",
       "        \n",
       "    \n",
       "        var popup_a14b9e43fc9adea8b28609afe2f74398 = L.popup({\n",
       "  &quot;maxWidth&quot;: &quot;100%&quot;,\n",
       "});\n",
       "\n",
       "        \n",
       "            \n",
       "                var html_11cde788b8da90f14dfb90c65b8a2ad3 = $(`&lt;div id=&quot;html_11cde788b8da90f14dfb90c65b8a2ad3&quot; style=&quot;width: 100.0%; height: 100.0%;&quot;&gt;Don Balbino&#x27;s&lt;/div&gt;`)[0];\n",
       "                popup_a14b9e43fc9adea8b28609afe2f74398.setContent(html_11cde788b8da90f14dfb90c65b8a2ad3);\n",
       "            \n",
       "        \n",
       "\n",
       "        marker_0ba8ec0b187e17cc077824c52c34ad6a.bindPopup(popup_a14b9e43fc9adea8b28609afe2f74398)\n",
       "        ;\n",
       "\n",
       "        \n",
       "    \n",
       "    \n",
       "            var marker_1019990c3b8cd8f563da70a90464114f = L.marker(\n",
       "                [23.049910435608876, -82.26518902893379],\n",
       "                {\n",
       "}\n",
       "            ).addTo(map_eac3e686e37a9ed8ab94d2de922915a2);\n",
       "        \n",
       "    \n",
       "            var icon_754a77a76ceac0d64f2653706dd729f3 = L.AwesomeMarkers.icon(\n",
       "                {\n",
       "  &quot;markerColor&quot;: &quot;darkblue&quot;,\n",
       "  &quot;iconColor&quot;: &quot;white&quot;,\n",
       "  &quot;icon&quot;: &quot;info-sign&quot;,\n",
       "  &quot;prefix&quot;: &quot;glyphicon&quot;,\n",
       "  &quot;extraClasses&quot;: &quot;fa-rotate-0&quot;,\n",
       "}\n",
       "            );\n",
       "            marker_1019990c3b8cd8f563da70a90464114f.setIcon(icon_754a77a76ceac0d64f2653706dd729f3);\n",
       "        \n",
       "    \n",
       "        var popup_6abf21e82080986fa2a5448414ff8182 = L.popup({\n",
       "  &quot;maxWidth&quot;: &quot;100%&quot;,\n",
       "});\n",
       "\n",
       "        \n",
       "            \n",
       "                var html_0ba175355d2167b1e3695171cecb43bc = $(`&lt;div id=&quot;html_0ba175355d2167b1e3695171cecb43bc&quot; style=&quot;width: 100.0%; height: 100.0%;&quot;&gt;Don Omar&lt;/div&gt;`)[0];\n",
       "                popup_6abf21e82080986fa2a5448414ff8182.setContent(html_0ba175355d2167b1e3695171cecb43bc);\n",
       "            \n",
       "        \n",
       "\n",
       "        marker_1019990c3b8cd8f563da70a90464114f.bindPopup(popup_6abf21e82080986fa2a5448414ff8182)\n",
       "        ;\n",
       "\n",
       "        \n",
       "    \n",
       "    \n",
       "            var marker_f264b975564695a71290a7c682418331 = L.marker(\n",
       "                [23.078091931411176, -82.31932677141849],\n",
       "                {\n",
       "}\n",
       "            ).addTo(map_eac3e686e37a9ed8ab94d2de922915a2);\n",
       "        \n",
       "    \n",
       "            var icon_ed068ef0492ebca7d716c0d1d0231257 = L.AwesomeMarkers.icon(\n",
       "                {\n",
       "  &quot;markerColor&quot;: &quot;darkblue&quot;,\n",
       "  &quot;iconColor&quot;: &quot;white&quot;,\n",
       "  &quot;icon&quot;: &quot;info-sign&quot;,\n",
       "  &quot;prefix&quot;: &quot;glyphicon&quot;,\n",
       "  &quot;extraClasses&quot;: &quot;fa-rotate-0&quot;,\n",
       "}\n",
       "            );\n",
       "            marker_f264b975564695a71290a7c682418331.setIcon(icon_ed068ef0492ebca7d716c0d1d0231257);\n",
       "        \n",
       "    \n",
       "        var popup_7277ccff983dcc7c30d9f3116ad8f75b = L.popup({\n",
       "  &quot;maxWidth&quot;: &quot;100%&quot;,\n",
       "});\n",
       "\n",
       "        \n",
       "            \n",
       "                var html_91dd53d70d3ffcba333e316eac2336e0 = $(`&lt;div id=&quot;html_91dd53d70d3ffcba333e316eac2336e0&quot; style=&quot;width: 100.0%; height: 100.0%;&quot;&gt;Don Timbon&lt;/div&gt;`)[0];\n",
       "                popup_7277ccff983dcc7c30d9f3116ad8f75b.setContent(html_91dd53d70d3ffcba333e316eac2336e0);\n",
       "            \n",
       "        \n",
       "\n",
       "        marker_f264b975564695a71290a7c682418331.bindPopup(popup_7277ccff983dcc7c30d9f3116ad8f75b)\n",
       "        ;\n",
       "\n",
       "        \n",
       "    \n",
       "    \n",
       "            var marker_54d032c7af56a3f1d5aff961a50f770b = L.marker(\n",
       "                [23.13389533564469, -82.37685653415737],\n",
       "                {\n",
       "}\n",
       "            ).addTo(map_eac3e686e37a9ed8ab94d2de922915a2);\n",
       "        \n",
       "    \n",
       "            var icon_938dec139fa8b440898e8f29ff1d1d31 = L.AwesomeMarkers.icon(\n",
       "                {\n",
       "  &quot;markerColor&quot;: &quot;darkblue&quot;,\n",
       "  &quot;iconColor&quot;: &quot;white&quot;,\n",
       "  &quot;icon&quot;: &quot;info-sign&quot;,\n",
       "  &quot;prefix&quot;: &quot;glyphicon&quot;,\n",
       "  &quot;extraClasses&quot;: &quot;fa-rotate-0&quot;,\n",
       "}\n",
       "            );\n",
       "            marker_54d032c7af56a3f1d5aff961a50f770b.setIcon(icon_938dec139fa8b440898e8f29ff1d1d31);\n",
       "        \n",
       "    \n",
       "        var popup_5f899487bffb64e5f5bb4f2dc65a13ee = L.popup({\n",
       "  &quot;maxWidth&quot;: &quot;100%&quot;,\n",
       "});\n",
       "\n",
       "        \n",
       "            \n",
       "                var html_941b0941335f3cec20a155c08197d40c = $(`&lt;div id=&quot;html_941b0941335f3cec20a155c08197d40c&quot; style=&quot;width: 100.0%; height: 100.0%;&quot;&gt;Doping pizza&lt;/div&gt;`)[0];\n",
       "                popup_5f899487bffb64e5f5bb4f2dc65a13ee.setContent(html_941b0941335f3cec20a155c08197d40c);\n",
       "            \n",
       "        \n",
       "\n",
       "        marker_54d032c7af56a3f1d5aff961a50f770b.bindPopup(popup_5f899487bffb64e5f5bb4f2dc65a13ee)\n",
       "        ;\n",
       "\n",
       "        \n",
       "    \n",
       "    \n",
       "            var marker_295ab0819152f926aab7f137bd547841 = L.marker(\n",
       "                [23.11433698105626, -82.41322840010747],\n",
       "                {\n",
       "}\n",
       "            ).addTo(map_eac3e686e37a9ed8ab94d2de922915a2);\n",
       "        \n",
       "    \n",
       "            var icon_4866f1e16563bcf9c6e8eb7b41345f60 = L.AwesomeMarkers.icon(\n",
       "                {\n",
       "  &quot;markerColor&quot;: &quot;darkblue&quot;,\n",
       "  &quot;iconColor&quot;: &quot;white&quot;,\n",
       "  &quot;icon&quot;: &quot;info-sign&quot;,\n",
       "  &quot;prefix&quot;: &quot;glyphicon&quot;,\n",
       "  &quot;extraClasses&quot;: &quot;fa-rotate-0&quot;,\n",
       "}\n",
       "            );\n",
       "            marker_295ab0819152f926aab7f137bd547841.setIcon(icon_4866f1e16563bcf9c6e8eb7b41345f60);\n",
       "        \n",
       "    \n",
       "        var popup_404db6ec35d049b3fd268a9cc6545190 = L.popup({\n",
       "  &quot;maxWidth&quot;: &quot;100%&quot;,\n",
       "});\n",
       "\n",
       "        \n",
       "            \n",
       "                var html_97b9dfdb28f7b6df6aef19e0eba4121a = $(`&lt;div id=&quot;html_97b9dfdb28f7b6df6aef19e0eba4121a&quot; style=&quot;width: 100.0%; height: 100.0%;&quot;&gt;D&#x27;kmino&lt;/div&gt;`)[0];\n",
       "                popup_404db6ec35d049b3fd268a9cc6545190.setContent(html_97b9dfdb28f7b6df6aef19e0eba4121a);\n",
       "            \n",
       "        \n",
       "\n",
       "        marker_295ab0819152f926aab7f137bd547841.bindPopup(popup_404db6ec35d049b3fd268a9cc6545190)\n",
       "        ;\n",
       "\n",
       "        \n",
       "    \n",
       "    \n",
       "            var marker_d6a2a6c95eb93132c951b39521203089 = L.marker(\n",
       "                [23.131548646310556, -82.39857068812692],\n",
       "                {\n",
       "}\n",
       "            ).addTo(map_eac3e686e37a9ed8ab94d2de922915a2);\n",
       "        \n",
       "    \n",
       "            var icon_80cf337938d9bbfa350599f0609dd0f0 = L.AwesomeMarkers.icon(\n",
       "                {\n",
       "  &quot;markerColor&quot;: &quot;darkblue&quot;,\n",
       "  &quot;iconColor&quot;: &quot;white&quot;,\n",
       "  &quot;icon&quot;: &quot;info-sign&quot;,\n",
       "  &quot;prefix&quot;: &quot;glyphicon&quot;,\n",
       "  &quot;extraClasses&quot;: &quot;fa-rotate-0&quot;,\n",
       "}\n",
       "            );\n",
       "            marker_d6a2a6c95eb93132c951b39521203089.setIcon(icon_80cf337938d9bbfa350599f0609dd0f0);\n",
       "        \n",
       "    \n",
       "        var popup_0a21927445612b5d545e51081cf36289 = L.popup({\n",
       "  &quot;maxWidth&quot;: &quot;100%&quot;,\n",
       "});\n",
       "\n",
       "        \n",
       "            \n",
       "                var html_1147d3c4370b52ef059e5dbc52d67862 = $(`&lt;div id=&quot;html_1147d3c4370b52ef059e5dbc52d67862&quot; style=&quot;width: 100.0%; height: 100.0%;&quot;&gt;El Vampirito&lt;/div&gt;`)[0];\n",
       "                popup_0a21927445612b5d545e51081cf36289.setContent(html_1147d3c4370b52ef059e5dbc52d67862);\n",
       "            \n",
       "        \n",
       "\n",
       "        marker_d6a2a6c95eb93132c951b39521203089.bindPopup(popup_0a21927445612b5d545e51081cf36289)\n",
       "        ;\n",
       "\n",
       "        \n",
       "    \n",
       "    \n",
       "            var marker_f61a0c307370792f3fb55bc835890993 = L.marker(\n",
       "                [23.10580877950669, -82.38890539182955],\n",
       "                {\n",
       "}\n",
       "            ).addTo(map_eac3e686e37a9ed8ab94d2de922915a2);\n",
       "        \n",
       "    \n",
       "            var icon_257a03e424293de4475c2563bb11c72e = L.AwesomeMarkers.icon(\n",
       "                {\n",
       "  &quot;markerColor&quot;: &quot;darkblue&quot;,\n",
       "  &quot;iconColor&quot;: &quot;white&quot;,\n",
       "  &quot;icon&quot;: &quot;info-sign&quot;,\n",
       "  &quot;prefix&quot;: &quot;glyphicon&quot;,\n",
       "  &quot;extraClasses&quot;: &quot;fa-rotate-0&quot;,\n",
       "}\n",
       "            );\n",
       "            marker_f61a0c307370792f3fb55bc835890993.setIcon(icon_257a03e424293de4475c2563bb11c72e);\n",
       "        \n",
       "    \n",
       "        var popup_8eb8e837e121a5f198345f9ec94c6bc0 = L.popup({\n",
       "  &quot;maxWidth&quot;: &quot;100%&quot;,\n",
       "});\n",
       "\n",
       "        \n",
       "            \n",
       "                var html_085ae66b609aedae08b87b2c885f390f = $(`&lt;div id=&quot;html_085ae66b609aedae08b87b2c885f390f&quot; style=&quot;width: 100.0%; height: 100.0%;&quot;&gt;El Batazo&lt;/div&gt;`)[0];\n",
       "                popup_8eb8e837e121a5f198345f9ec94c6bc0.setContent(html_085ae66b609aedae08b87b2c885f390f);\n",
       "            \n",
       "        \n",
       "\n",
       "        marker_f61a0c307370792f3fb55bc835890993.bindPopup(popup_8eb8e837e121a5f198345f9ec94c6bc0)\n",
       "        ;\n",
       "\n",
       "        \n",
       "    \n",
       "    \n",
       "            var marker_df9bb0a6be9f59c0bb3b572be7856344 = L.marker(\n",
       "                [23.131150637521987, -82.40805233415749],\n",
       "                {\n",
       "}\n",
       "            ).addTo(map_eac3e686e37a9ed8ab94d2de922915a2);\n",
       "        \n",
       "    \n",
       "            var icon_1b5fbba08aac06ef5105ecc532a8cf7f = L.AwesomeMarkers.icon(\n",
       "                {\n",
       "  &quot;markerColor&quot;: &quot;darkblue&quot;,\n",
       "  &quot;iconColor&quot;: &quot;white&quot;,\n",
       "  &quot;icon&quot;: &quot;info-sign&quot;,\n",
       "  &quot;prefix&quot;: &quot;glyphicon&quot;,\n",
       "  &quot;extraClasses&quot;: &quot;fa-rotate-0&quot;,\n",
       "}\n",
       "            );\n",
       "            marker_df9bb0a6be9f59c0bb3b572be7856344.setIcon(icon_1b5fbba08aac06ef5105ecc532a8cf7f);\n",
       "        \n",
       "    \n",
       "        var popup_a5dd05f85ae6bbb2928e430146fbb4ad = L.popup({\n",
       "  &quot;maxWidth&quot;: &quot;100%&quot;,\n",
       "});\n",
       "\n",
       "        \n",
       "            \n",
       "                var html_5841b6923f5b73e5174867bf6402a2d7 = $(`&lt;div id=&quot;html_5841b6923f5b73e5174867bf6402a2d7&quot; style=&quot;width: 100.0%; height: 100.0%;&quot;&gt;El Bejuco&lt;/div&gt;`)[0];\n",
       "                popup_a5dd05f85ae6bbb2928e430146fbb4ad.setContent(html_5841b6923f5b73e5174867bf6402a2d7);\n",
       "            \n",
       "        \n",
       "\n",
       "        marker_df9bb0a6be9f59c0bb3b572be7856344.bindPopup(popup_a5dd05f85ae6bbb2928e430146fbb4ad)\n",
       "        ;\n",
       "\n",
       "        \n",
       "    \n",
       "    \n",
       "            var marker_ba881bb4517cd1c9165679a86b9a8aa0 = L.marker(\n",
       "                [23.124494370316903, -82.30417726451671],\n",
       "                {\n",
       "}\n",
       "            ).addTo(map_eac3e686e37a9ed8ab94d2de922915a2);\n",
       "        \n",
       "    \n",
       "            var icon_dd1a24d0d329d0d9fa4230f9aca9bb34 = L.AwesomeMarkers.icon(\n",
       "                {\n",
       "  &quot;markerColor&quot;: &quot;darkblue&quot;,\n",
       "  &quot;iconColor&quot;: &quot;white&quot;,\n",
       "  &quot;icon&quot;: &quot;info-sign&quot;,\n",
       "  &quot;prefix&quot;: &quot;glyphicon&quot;,\n",
       "  &quot;extraClasses&quot;: &quot;fa-rotate-0&quot;,\n",
       "}\n",
       "            );\n",
       "            marker_ba881bb4517cd1c9165679a86b9a8aa0.setIcon(icon_dd1a24d0d329d0d9fa4230f9aca9bb34);\n",
       "        \n",
       "    \n",
       "        var popup_bfc3235daec39f248732374cad67422c = L.popup({\n",
       "  &quot;maxWidth&quot;: &quot;100%&quot;,\n",
       "});\n",
       "\n",
       "        \n",
       "            \n",
       "                var html_e6e10aa2d9f39f4e86067b27cd7a7953 = $(`&lt;div id=&quot;html_e6e10aa2d9f39f4e86067b27cd7a7953&quot; style=&quot;width: 100.0%; height: 100.0%;&quot;&gt;El Faro&lt;/div&gt;`)[0];\n",
       "                popup_bfc3235daec39f248732374cad67422c.setContent(html_e6e10aa2d9f39f4e86067b27cd7a7953);\n",
       "            \n",
       "        \n",
       "\n",
       "        marker_ba881bb4517cd1c9165679a86b9a8aa0.bindPopup(popup_bfc3235daec39f248732374cad67422c)\n",
       "        ;\n",
       "\n",
       "        \n",
       "    \n",
       "    \n",
       "            var marker_343801e04a9053cb26ea2430cebac5cd = L.marker(\n",
       "                [23.140043632958008, -82.39049077833423],\n",
       "                {\n",
       "}\n",
       "            ).addTo(map_eac3e686e37a9ed8ab94d2de922915a2);\n",
       "        \n",
       "    \n",
       "            var icon_0dc9345313190a2982deaf87f7f6e080 = L.AwesomeMarkers.icon(\n",
       "                {\n",
       "  &quot;markerColor&quot;: &quot;darkblue&quot;,\n",
       "  &quot;iconColor&quot;: &quot;white&quot;,\n",
       "  &quot;icon&quot;: &quot;info-sign&quot;,\n",
       "  &quot;prefix&quot;: &quot;glyphicon&quot;,\n",
       "  &quot;extraClasses&quot;: &quot;fa-rotate-0&quot;,\n",
       "}\n",
       "            );\n",
       "            marker_343801e04a9053cb26ea2430cebac5cd.setIcon(icon_0dc9345313190a2982deaf87f7f6e080);\n",
       "        \n",
       "    \n",
       "        var popup_a9995d4646abf9508935547ab8775539 = L.popup({\n",
       "  &quot;maxWidth&quot;: &quot;100%&quot;,\n",
       "});\n",
       "\n",
       "        \n",
       "            \n",
       "                var html_3597805a17a843183603270f1bce21ea = $(`&lt;div id=&quot;html_3597805a17a843183603270f1bce21ea&quot; style=&quot;width: 100.0%; height: 100.0%;&quot;&gt;El Idilio&lt;/div&gt;`)[0];\n",
       "                popup_a9995d4646abf9508935547ab8775539.setContent(html_3597805a17a843183603270f1bce21ea);\n",
       "            \n",
       "        \n",
       "\n",
       "        marker_343801e04a9053cb26ea2430cebac5cd.bindPopup(popup_a9995d4646abf9508935547ab8775539)\n",
       "        ;\n",
       "\n",
       "        \n",
       "    \n",
       "    \n",
       "            var marker_195140e7ad200a2b67eba9bddc0043fc = L.marker(\n",
       "                [23.124478883457773, -82.31947367832976],\n",
       "                {\n",
       "}\n",
       "            ).addTo(map_eac3e686e37a9ed8ab94d2de922915a2);\n",
       "        \n",
       "    \n",
       "            var icon_abefcbf4eeb9dcf4d28229758bd67d2b = L.AwesomeMarkers.icon(\n",
       "                {\n",
       "  &quot;markerColor&quot;: &quot;darkblue&quot;,\n",
       "  &quot;iconColor&quot;: &quot;white&quot;,\n",
       "  &quot;icon&quot;: &quot;info-sign&quot;,\n",
       "  &quot;prefix&quot;: &quot;glyphicon&quot;,\n",
       "  &quot;extraClasses&quot;: &quot;fa-rotate-0&quot;,\n",
       "}\n",
       "            );\n",
       "            marker_195140e7ad200a2b67eba9bddc0043fc.setIcon(icon_abefcbf4eeb9dcf4d28229758bd67d2b);\n",
       "        \n",
       "    \n",
       "        var popup_ba725d0184bc11c33168bd2a18c69d80 = L.popup({\n",
       "  &quot;maxWidth&quot;: &quot;100%&quot;,\n",
       "});\n",
       "\n",
       "        \n",
       "            \n",
       "                var html_131fcd11d1c035bab82e3ae619996155 = $(`&lt;div id=&quot;html_131fcd11d1c035bab82e3ae619996155&quot; style=&quot;width: 100.0%; height: 100.0%;&quot;&gt;El Pavo&lt;/div&gt;`)[0];\n",
       "                popup_ba725d0184bc11c33168bd2a18c69d80.setContent(html_131fcd11d1c035bab82e3ae619996155);\n",
       "            \n",
       "        \n",
       "\n",
       "        marker_195140e7ad200a2b67eba9bddc0043fc.bindPopup(popup_ba725d0184bc11c33168bd2a18c69d80)\n",
       "        ;\n",
       "\n",
       "        \n",
       "    \n",
       "    \n",
       "            var marker_a9c073a4a4837212712912739b6cc6bc = L.marker(\n",
       "                [23.11052702904802, -82.39914526484186],\n",
       "                {\n",
       "}\n",
       "            ).addTo(map_eac3e686e37a9ed8ab94d2de922915a2);\n",
       "        \n",
       "    \n",
       "            var icon_b33eef9c9ad88cfa0085520cb82976f8 = L.AwesomeMarkers.icon(\n",
       "                {\n",
       "  &quot;markerColor&quot;: &quot;darkblue&quot;,\n",
       "  &quot;iconColor&quot;: &quot;white&quot;,\n",
       "  &quot;icon&quot;: &quot;info-sign&quot;,\n",
       "  &quot;prefix&quot;: &quot;glyphicon&quot;,\n",
       "  &quot;extraClasses&quot;: &quot;fa-rotate-0&quot;,\n",
       "}\n",
       "            );\n",
       "            marker_a9c073a4a4837212712912739b6cc6bc.setIcon(icon_b33eef9c9ad88cfa0085520cb82976f8);\n",
       "        \n",
       "    \n",
       "        var popup_1adbf6387a91ef53f2c2f7b5cdf720a7 = L.popup({\n",
       "  &quot;maxWidth&quot;: &quot;100%&quot;,\n",
       "});\n",
       "\n",
       "        \n",
       "            \n",
       "                var html_600e441a358e6f24c88da4398cf2e9a0 = $(`&lt;div id=&quot;html_600e441a358e6f24c88da4398cf2e9a0&quot; style=&quot;width: 100.0%; height: 100.0%;&quot;&gt;El Pelícano&lt;/div&gt;`)[0];\n",
       "                popup_1adbf6387a91ef53f2c2f7b5cdf720a7.setContent(html_600e441a358e6f24c88da4398cf2e9a0);\n",
       "            \n",
       "        \n",
       "\n",
       "        marker_a9c073a4a4837212712912739b6cc6bc.bindPopup(popup_1adbf6387a91ef53f2c2f7b5cdf720a7)\n",
       "        ;\n",
       "\n",
       "        \n",
       "    \n",
       "    \n",
       "            var marker_1460e1e71e3e01953a6d6d29139185b6 = L.marker(\n",
       "                [23.139923880574944, -82.38105453418326],\n",
       "                {\n",
       "}\n",
       "            ).addTo(map_eac3e686e37a9ed8ab94d2de922915a2);\n",
       "        \n",
       "    \n",
       "            var icon_13319f0fcadd4e9296e367b16bf44e3c = L.AwesomeMarkers.icon(\n",
       "                {\n",
       "  &quot;markerColor&quot;: &quot;darkblue&quot;,\n",
       "  &quot;iconColor&quot;: &quot;white&quot;,\n",
       "  &quot;icon&quot;: &quot;info-sign&quot;,\n",
       "  &quot;prefix&quot;: &quot;glyphicon&quot;,\n",
       "  &quot;extraClasses&quot;: &quot;fa-rotate-0&quot;,\n",
       "}\n",
       "            );\n",
       "            marker_1460e1e71e3e01953a6d6d29139185b6.setIcon(icon_13319f0fcadd4e9296e367b16bf44e3c);\n",
       "        \n",
       "    \n",
       "        var popup_eaf7469fd44ef15095dbf086542ea861 = L.popup({\n",
       "  &quot;maxWidth&quot;: &quot;100%&quot;,\n",
       "});\n",
       "\n",
       "        \n",
       "            \n",
       "                var html_65672abe55f6266d4bd4645d428376ab = $(`&lt;div id=&quot;html_65672abe55f6266d4bd4645d428376ab&quot; style=&quot;width: 100.0%; height: 100.0%;&quot;&gt;El Pilón&lt;/div&gt;`)[0];\n",
       "                popup_eaf7469fd44ef15095dbf086542ea861.setContent(html_65672abe55f6266d4bd4645d428376ab);\n",
       "            \n",
       "        \n",
       "\n",
       "        marker_1460e1e71e3e01953a6d6d29139185b6.bindPopup(popup_eaf7469fd44ef15095dbf086542ea861)\n",
       "        ;\n",
       "\n",
       "        \n",
       "    \n",
       "    \n",
       "            var marker_d8a202384c6046b0df395202aaeef15b = L.marker(\n",
       "                [23.13385424944992, -82.36160649338726],\n",
       "                {\n",
       "}\n",
       "            ).addTo(map_eac3e686e37a9ed8ab94d2de922915a2);\n",
       "        \n",
       "    \n",
       "            var icon_540ef26af9c5532d5681aa80104a130e = L.AwesomeMarkers.icon(\n",
       "                {\n",
       "  &quot;markerColor&quot;: &quot;darkblue&quot;,\n",
       "  &quot;iconColor&quot;: &quot;white&quot;,\n",
       "  &quot;icon&quot;: &quot;info-sign&quot;,\n",
       "  &quot;prefix&quot;: &quot;glyphicon&quot;,\n",
       "  &quot;extraClasses&quot;: &quot;fa-rotate-0&quot;,\n",
       "}\n",
       "            );\n",
       "            marker_d8a202384c6046b0df395202aaeef15b.setIcon(icon_540ef26af9c5532d5681aa80104a130e);\n",
       "        \n",
       "    \n",
       "        var popup_3a9bc09850935644694d293dd246acb0 = L.popup({\n",
       "  &quot;maxWidth&quot;: &quot;100%&quot;,\n",
       "});\n",
       "\n",
       "        \n",
       "            \n",
       "                var html_cb9704737f574509c768bc6765e2f3f0 = $(`&lt;div id=&quot;html_cb9704737f574509c768bc6765e2f3f0&quot; style=&quot;width: 100.0%; height: 100.0%;&quot;&gt;El pórtico&lt;/div&gt;`)[0];\n",
       "                popup_3a9bc09850935644694d293dd246acb0.setContent(html_cb9704737f574509c768bc6765e2f3f0);\n",
       "            \n",
       "        \n",
       "\n",
       "        marker_d8a202384c6046b0df395202aaeef15b.bindPopup(popup_3a9bc09850935644694d293dd246acb0)\n",
       "        ;\n",
       "\n",
       "        \n",
       "    \n",
       "    \n",
       "            var marker_0697c23e953b91f61134bfa38c5fdc9a = L.marker(\n",
       "                [23.11835682709935, -82.3775341306507],\n",
       "                {\n",
       "}\n",
       "            ).addTo(map_eac3e686e37a9ed8ab94d2de922915a2);\n",
       "        \n",
       "    \n",
       "            var icon_79809c64bef50946fc5843a00327d569 = L.AwesomeMarkers.icon(\n",
       "                {\n",
       "  &quot;markerColor&quot;: &quot;darkblue&quot;,\n",
       "  &quot;iconColor&quot;: &quot;white&quot;,\n",
       "  &quot;icon&quot;: &quot;info-sign&quot;,\n",
       "  &quot;prefix&quot;: &quot;glyphicon&quot;,\n",
       "  &quot;extraClasses&quot;: &quot;fa-rotate-0&quot;,\n",
       "}\n",
       "            );\n",
       "            marker_0697c23e953b91f61134bfa38c5fdc9a.setIcon(icon_79809c64bef50946fc5843a00327d569);\n",
       "        \n",
       "    \n",
       "        var popup_e1c5b4e75c57996f325d70358d1bd4f8 = L.popup({\n",
       "  &quot;maxWidth&quot;: &quot;100%&quot;,\n",
       "});\n",
       "\n",
       "        \n",
       "            \n",
       "                var html_5628762220b53d867be3a4016ada47b6 = $(`&lt;div id=&quot;html_5628762220b53d867be3a4016ada47b6&quot; style=&quot;width: 100.0%; height: 100.0%;&quot;&gt;El Rápido&lt;/div&gt;`)[0];\n",
       "                popup_e1c5b4e75c57996f325d70358d1bd4f8.setContent(html_5628762220b53d867be3a4016ada47b6);\n",
       "            \n",
       "        \n",
       "\n",
       "        marker_0697c23e953b91f61134bfa38c5fdc9a.bindPopup(popup_e1c5b4e75c57996f325d70358d1bd4f8)\n",
       "        ;\n",
       "\n",
       "        \n",
       "    \n",
       "    \n",
       "            var marker_a62587a4635eff07a6ac64dacc39f01a = L.marker(\n",
       "                [23.142914181352282, -82.3993675071695],\n",
       "                {\n",
       "}\n",
       "            ).addTo(map_eac3e686e37a9ed8ab94d2de922915a2);\n",
       "        \n",
       "    \n",
       "            var icon_3dfa066c672b96eba857fbd4c81b5a2f = L.AwesomeMarkers.icon(\n",
       "                {\n",
       "  &quot;markerColor&quot;: &quot;darkblue&quot;,\n",
       "  &quot;iconColor&quot;: &quot;white&quot;,\n",
       "  &quot;icon&quot;: &quot;info-sign&quot;,\n",
       "  &quot;prefix&quot;: &quot;glyphicon&quot;,\n",
       "  &quot;extraClasses&quot;: &quot;fa-rotate-0&quot;,\n",
       "}\n",
       "            );\n",
       "            marker_a62587a4635eff07a6ac64dacc39f01a.setIcon(icon_3dfa066c672b96eba857fbd4c81b5a2f);\n",
       "        \n",
       "    \n",
       "        var popup_108334cdda4458b2dcf0b5bd6234e3d8 = L.popup({\n",
       "  &quot;maxWidth&quot;: &quot;100%&quot;,\n",
       "});\n",
       "\n",
       "        \n",
       "            \n",
       "                var html_318861c197463270f10bf5ce86cb8512 = $(`&lt;div id=&quot;html_318861c197463270f10bf5ce86cb8512&quot; style=&quot;width: 100.0%; height: 100.0%;&quot;&gt;El Tablazo&lt;/div&gt;`)[0];\n",
       "                popup_108334cdda4458b2dcf0b5bd6234e3d8.setContent(html_318861c197463270f10bf5ce86cb8512);\n",
       "            \n",
       "        \n",
       "\n",
       "        marker_a62587a4635eff07a6ac64dacc39f01a.bindPopup(popup_108334cdda4458b2dcf0b5bd6234e3d8)\n",
       "        ;\n",
       "\n",
       "        \n",
       "    \n",
       "    \n",
       "            var marker_655547bfb7931840809f4f839e3c0f79 = L.marker(\n",
       "                [23.004387110083822, -82.32730012513493],\n",
       "                {\n",
       "}\n",
       "            ).addTo(map_eac3e686e37a9ed8ab94d2de922915a2);\n",
       "        \n",
       "    \n",
       "            var icon_1904dc222ece58e4af5beeccc5a46cab = L.AwesomeMarkers.icon(\n",
       "                {\n",
       "  &quot;markerColor&quot;: &quot;darkblue&quot;,\n",
       "  &quot;iconColor&quot;: &quot;white&quot;,\n",
       "  &quot;icon&quot;: &quot;info-sign&quot;,\n",
       "  &quot;prefix&quot;: &quot;glyphicon&quot;,\n",
       "  &quot;extraClasses&quot;: &quot;fa-rotate-0&quot;,\n",
       "}\n",
       "            );\n",
       "            marker_655547bfb7931840809f4f839e3c0f79.setIcon(icon_1904dc222ece58e4af5beeccc5a46cab);\n",
       "        \n",
       "    \n",
       "        var popup_9f8a8f49d5002c520e1b78c2869dfe6a = L.popup({\n",
       "  &quot;maxWidth&quot;: &quot;100%&quot;,\n",
       "});\n",
       "\n",
       "        \n",
       "            \n",
       "                var html_7dec3d833cb8ebc01034ae80f8d1e727 = $(`&lt;div id=&quot;html_7dec3d833cb8ebc01034ae80f8d1e727&quot; style=&quot;width: 100.0%; height: 100.0%;&quot;&gt;El Vaquerito&lt;/div&gt;`)[0];\n",
       "                popup_9f8a8f49d5002c520e1b78c2869dfe6a.setContent(html_7dec3d833cb8ebc01034ae80f8d1e727);\n",
       "            \n",
       "        \n",
       "\n",
       "        marker_655547bfb7931840809f4f839e3c0f79.bindPopup(popup_9f8a8f49d5002c520e1b78c2869dfe6a)\n",
       "        ;\n",
       "\n",
       "        \n",
       "    \n",
       "    \n",
       "            var marker_9c28874b12fc9c786ec21b6dff259b46 = L.marker(\n",
       "                [23.16201335878783, -82.29718375783479],\n",
       "                {\n",
       "}\n",
       "            ).addTo(map_eac3e686e37a9ed8ab94d2de922915a2);\n",
       "        \n",
       "    \n",
       "            var icon_2acfc0dd3b8a5fc4e023a4aedebf4a45 = L.AwesomeMarkers.icon(\n",
       "                {\n",
       "  &quot;markerColor&quot;: &quot;darkblue&quot;,\n",
       "  &quot;iconColor&quot;: &quot;white&quot;,\n",
       "  &quot;icon&quot;: &quot;info-sign&quot;,\n",
       "  &quot;prefix&quot;: &quot;glyphicon&quot;,\n",
       "  &quot;extraClasses&quot;: &quot;fa-rotate-0&quot;,\n",
       "}\n",
       "            );\n",
       "            marker_9c28874b12fc9c786ec21b6dff259b46.setIcon(icon_2acfc0dd3b8a5fc4e023a4aedebf4a45);\n",
       "        \n",
       "    \n",
       "        var popup_99f86c8b3f9342290d037342cf615b10 = L.popup({\n",
       "  &quot;maxWidth&quot;: &quot;100%&quot;,\n",
       "});\n",
       "\n",
       "        \n",
       "            \n",
       "                var html_4b689be99c4fa1bef6019511def0bd1d = $(`&lt;div id=&quot;html_4b689be99c4fa1bef6019511def0bd1d&quot; style=&quot;width: 100.0%; height: 100.0%;&quot;&gt;El Ajiaco&lt;/div&gt;`)[0];\n",
       "                popup_99f86c8b3f9342290d037342cf615b10.setContent(html_4b689be99c4fa1bef6019511def0bd1d);\n",
       "            \n",
       "        \n",
       "\n",
       "        marker_9c28874b12fc9c786ec21b6dff259b46.bindPopup(popup_99f86c8b3f9342290d037342cf615b10)\n",
       "        ;\n",
       "\n",
       "        \n",
       "    \n",
       "    \n",
       "            var marker_575d44f1c50f4d9967b16fcd61449f43 = L.marker(\n",
       "                [23.04303644487019, -82.26306815148284],\n",
       "                {\n",
       "}\n",
       "            ).addTo(map_eac3e686e37a9ed8ab94d2de922915a2);\n",
       "        \n",
       "    \n",
       "            var icon_df5da422fdaae4ab88fc97fc99f1df31 = L.AwesomeMarkers.icon(\n",
       "                {\n",
       "  &quot;markerColor&quot;: &quot;darkblue&quot;,\n",
       "  &quot;iconColor&quot;: &quot;white&quot;,\n",
       "  &quot;icon&quot;: &quot;info-sign&quot;,\n",
       "  &quot;prefix&quot;: &quot;glyphicon&quot;,\n",
       "  &quot;extraClasses&quot;: &quot;fa-rotate-0&quot;,\n",
       "}\n",
       "            );\n",
       "            marker_575d44f1c50f4d9967b16fcd61449f43.setIcon(icon_df5da422fdaae4ab88fc97fc99f1df31);\n",
       "        \n",
       "    \n",
       "        var popup_b9ce953625fa62cb0b9c8dbb5fd6c223 = L.popup({\n",
       "  &quot;maxWidth&quot;: &quot;100%&quot;,\n",
       "});\n",
       "\n",
       "        \n",
       "            \n",
       "                var html_256518976489bb2308b93449415ed7e0 = $(`&lt;div id=&quot;html_256518976489bb2308b93449415ed7e0&quot; style=&quot;width: 100.0%; height: 100.0%;&quot;&gt;El Bache&lt;/div&gt;`)[0];\n",
       "                popup_b9ce953625fa62cb0b9c8dbb5fd6c223.setContent(html_256518976489bb2308b93449415ed7e0);\n",
       "            \n",
       "        \n",
       "\n",
       "        marker_575d44f1c50f4d9967b16fcd61449f43.bindPopup(popup_b9ce953625fa62cb0b9c8dbb5fd6c223)\n",
       "        ;\n",
       "\n",
       "        \n",
       "    \n",
       "    \n",
       "            var marker_6f49b2d079f11220c8d1c876a61d12e5 = L.marker(\n",
       "                [23.138245258561607, -82.37855093616108],\n",
       "                {\n",
       "}\n",
       "            ).addTo(map_eac3e686e37a9ed8ab94d2de922915a2);\n",
       "        \n",
       "    \n",
       "            var icon_8ce990ce6d7db0590987de6326f4a512 = L.AwesomeMarkers.icon(\n",
       "                {\n",
       "  &quot;markerColor&quot;: &quot;darkblue&quot;,\n",
       "  &quot;iconColor&quot;: &quot;white&quot;,\n",
       "  &quot;icon&quot;: &quot;info-sign&quot;,\n",
       "  &quot;prefix&quot;: &quot;glyphicon&quot;,\n",
       "  &quot;extraClasses&quot;: &quot;fa-rotate-0&quot;,\n",
       "}\n",
       "            );\n",
       "            marker_6f49b2d079f11220c8d1c876a61d12e5.setIcon(icon_8ce990ce6d7db0590987de6326f4a512);\n",
       "        \n",
       "    \n",
       "        var popup_f6e0d08dd3146552c9a9cd8fa521ce79 = L.popup({\n",
       "  &quot;maxWidth&quot;: &quot;100%&quot;,\n",
       "});\n",
       "\n",
       "        \n",
       "            \n",
       "                var html_2885c44131be2ba27d0d14cec529c461 = $(`&lt;div id=&quot;html_2885c44131be2ba27d0d14cec529c461&quot; style=&quot;width: 100.0%; height: 100.0%;&quot;&gt;El Biky&lt;/div&gt;`)[0];\n",
       "                popup_f6e0d08dd3146552c9a9cd8fa521ce79.setContent(html_2885c44131be2ba27d0d14cec529c461);\n",
       "            \n",
       "        \n",
       "\n",
       "        marker_6f49b2d079f11220c8d1c876a61d12e5.bindPopup(popup_f6e0d08dd3146552c9a9cd8fa521ce79)\n",
       "        ;\n",
       "\n",
       "        \n",
       "    \n",
       "    \n",
       "            var marker_51f2852721f394140d9940ee16e1c0a6 = L.marker(\n",
       "                [23.141509790555908, -82.374230422513],\n",
       "                {\n",
       "}\n",
       "            ).addTo(map_eac3e686e37a9ed8ab94d2de922915a2);\n",
       "        \n",
       "    \n",
       "            var icon_36c2211cfcd67fd31c170390e77feb32 = L.AwesomeMarkers.icon(\n",
       "                {\n",
       "  &quot;markerColor&quot;: &quot;darkblue&quot;,\n",
       "  &quot;iconColor&quot;: &quot;white&quot;,\n",
       "  &quot;icon&quot;: &quot;info-sign&quot;,\n",
       "  &quot;prefix&quot;: &quot;glyphicon&quot;,\n",
       "  &quot;extraClasses&quot;: &quot;fa-rotate-0&quot;,\n",
       "}\n",
       "            );\n",
       "            marker_51f2852721f394140d9940ee16e1c0a6.setIcon(icon_36c2211cfcd67fd31c170390e77feb32);\n",
       "        \n",
       "    \n",
       "        var popup_720cac3695289be1c4ce5418d8f4288e = L.popup({\n",
       "  &quot;maxWidth&quot;: &quot;100%&quot;,\n",
       "});\n",
       "\n",
       "        \n",
       "            \n",
       "                var html_c44f1fd26041b9c343c2e8bd1aad39cb = $(`&lt;div id=&quot;html_c44f1fd26041b9c343c2e8bd1aad39cb&quot; style=&quot;width: 100.0%; height: 100.0%;&quot;&gt;El Bleko&lt;/div&gt;`)[0];\n",
       "                popup_720cac3695289be1c4ce5418d8f4288e.setContent(html_c44f1fd26041b9c343c2e8bd1aad39cb);\n",
       "            \n",
       "        \n",
       "\n",
       "        marker_51f2852721f394140d9940ee16e1c0a6.bindPopup(popup_720cac3695289be1c4ce5418d8f4288e)\n",
       "        ;\n",
       "\n",
       "        \n",
       "    \n",
       "    \n",
       "            var marker_869d0f569f8e4fbd724c5e2cb5f5815f = L.marker(\n",
       "                [23.15801520544494, -82.27622310019264],\n",
       "                {\n",
       "}\n",
       "            ).addTo(map_eac3e686e37a9ed8ab94d2de922915a2);\n",
       "        \n",
       "    \n",
       "            var icon_b9f5c1d27e7a18c3da0156b489e3f496 = L.AwesomeMarkers.icon(\n",
       "                {\n",
       "  &quot;markerColor&quot;: &quot;darkblue&quot;,\n",
       "  &quot;iconColor&quot;: &quot;white&quot;,\n",
       "  &quot;icon&quot;: &quot;info-sign&quot;,\n",
       "  &quot;prefix&quot;: &quot;glyphicon&quot;,\n",
       "  &quot;extraClasses&quot;: &quot;fa-rotate-0&quot;,\n",
       "}\n",
       "            );\n",
       "            marker_869d0f569f8e4fbd724c5e2cb5f5815f.setIcon(icon_b9f5c1d27e7a18c3da0156b489e3f496);\n",
       "        \n",
       "    \n",
       "        var popup_96f1c01b039279e3cdae05da5f9629f2 = L.popup({\n",
       "  &quot;maxWidth&quot;: &quot;100%&quot;,\n",
       "});\n",
       "\n",
       "        \n",
       "            \n",
       "                var html_021e1dcc8431a89392c691269a83cda1 = $(`&lt;div id=&quot;html_021e1dcc8431a89392c691269a83cda1&quot; style=&quot;width: 100.0%; height: 100.0%;&quot;&gt;El Chanchullero de Alamar&lt;/div&gt;`)[0];\n",
       "                popup_96f1c01b039279e3cdae05da5f9629f2.setContent(html_021e1dcc8431a89392c691269a83cda1);\n",
       "            \n",
       "        \n",
       "\n",
       "        marker_869d0f569f8e4fbd724c5e2cb5f5815f.bindPopup(popup_96f1c01b039279e3cdae05da5f9629f2)\n",
       "        ;\n",
       "\n",
       "        \n",
       "    \n",
       "    \n",
       "            var marker_1dff8fcbcaa6885d4a0eef7d15b389de = L.marker(\n",
       "                [23.047603170195543, -82.25536750725202],\n",
       "                {\n",
       "}\n",
       "            ).addTo(map_eac3e686e37a9ed8ab94d2de922915a2);\n",
       "        \n",
       "    \n",
       "            var icon_720eced1345d2b20bb82635534efa1ba = L.AwesomeMarkers.icon(\n",
       "                {\n",
       "  &quot;markerColor&quot;: &quot;darkblue&quot;,\n",
       "  &quot;iconColor&quot;: &quot;white&quot;,\n",
       "  &quot;icon&quot;: &quot;info-sign&quot;,\n",
       "  &quot;prefix&quot;: &quot;glyphicon&quot;,\n",
       "  &quot;extraClasses&quot;: &quot;fa-rotate-0&quot;,\n",
       "}\n",
       "            );\n",
       "            marker_1dff8fcbcaa6885d4a0eef7d15b389de.setIcon(icon_720eced1345d2b20bb82635534efa1ba);\n",
       "        \n",
       "    \n",
       "        var popup_a49614eb7dfb4d09a854d82af6403879 = L.popup({\n",
       "  &quot;maxWidth&quot;: &quot;100%&quot;,\n",
       "});\n",
       "\n",
       "        \n",
       "            \n",
       "                var html_a2d42cf52f2f2f663335692ed5748902 = $(`&lt;div id=&quot;html_a2d42cf52f2f2f663335692ed5748902&quot; style=&quot;width: 100.0%; height: 100.0%;&quot;&gt;El Cocal&lt;/div&gt;`)[0];\n",
       "                popup_a49614eb7dfb4d09a854d82af6403879.setContent(html_a2d42cf52f2f2f663335692ed5748902);\n",
       "            \n",
       "        \n",
       "\n",
       "        marker_1dff8fcbcaa6885d4a0eef7d15b389de.bindPopup(popup_a49614eb7dfb4d09a854d82af6403879)\n",
       "        ;\n",
       "\n",
       "        \n",
       "    \n",
       "    \n",
       "            var marker_b1abcd9a8bccd3d8262acc2a4a25e40e = L.marker(\n",
       "                [23.13868395778652, -82.37729863616106],\n",
       "                {\n",
       "}\n",
       "            ).addTo(map_eac3e686e37a9ed8ab94d2de922915a2);\n",
       "        \n",
       "    \n",
       "            var icon_65b1b180bf1952d8be016aa23d475230 = L.AwesomeMarkers.icon(\n",
       "                {\n",
       "  &quot;markerColor&quot;: &quot;darkblue&quot;,\n",
       "  &quot;iconColor&quot;: &quot;white&quot;,\n",
       "  &quot;icon&quot;: &quot;info-sign&quot;,\n",
       "  &quot;prefix&quot;: &quot;glyphicon&quot;,\n",
       "  &quot;extraClasses&quot;: &quot;fa-rotate-0&quot;,\n",
       "}\n",
       "            );\n",
       "            marker_b1abcd9a8bccd3d8262acc2a4a25e40e.setIcon(icon_65b1b180bf1952d8be016aa23d475230);\n",
       "        \n",
       "    \n",
       "        var popup_975b906b4ae07aa95d77d5b66d049bef = L.popup({\n",
       "  &quot;maxWidth&quot;: &quot;100%&quot;,\n",
       "});\n",
       "\n",
       "        \n",
       "            \n",
       "                var html_994a986297fd7a72bc74682b8b626049 = $(`&lt;div id=&quot;html_994a986297fd7a72bc74682b8b626049&quot; style=&quot;width: 100.0%; height: 100.0%;&quot;&gt;El cuarto de Tula&lt;/div&gt;`)[0];\n",
       "                popup_975b906b4ae07aa95d77d5b66d049bef.setContent(html_994a986297fd7a72bc74682b8b626049);\n",
       "            \n",
       "        \n",
       "\n",
       "        marker_b1abcd9a8bccd3d8262acc2a4a25e40e.bindPopup(popup_975b906b4ae07aa95d77d5b66d049bef)\n",
       "        ;\n",
       "\n",
       "        \n",
       "    \n",
       "    \n",
       "            var marker_06f0facb389b0f328d793e1aa4c6aceb = L.marker(\n",
       "                [23.044555828697288, -82.24838136423335],\n",
       "                {\n",
       "}\n",
       "            ).addTo(map_eac3e686e37a9ed8ab94d2de922915a2);\n",
       "        \n",
       "    \n",
       "            var icon_de6a083a21a4004a27264995eac3f41d = L.AwesomeMarkers.icon(\n",
       "                {\n",
       "  &quot;markerColor&quot;: &quot;darkblue&quot;,\n",
       "  &quot;iconColor&quot;: &quot;white&quot;,\n",
       "  &quot;icon&quot;: &quot;info-sign&quot;,\n",
       "  &quot;prefix&quot;: &quot;glyphicon&quot;,\n",
       "  &quot;extraClasses&quot;: &quot;fa-rotate-0&quot;,\n",
       "}\n",
       "            );\n",
       "            marker_06f0facb389b0f328d793e1aa4c6aceb.setIcon(icon_de6a083a21a4004a27264995eac3f41d);\n",
       "        \n",
       "    \n",
       "        var popup_13459648d79ad0a8fbe63232244b0d58 = L.popup({\n",
       "  &quot;maxWidth&quot;: &quot;100%&quot;,\n",
       "});\n",
       "\n",
       "        \n",
       "            \n",
       "                var html_b0a3b20836c9fd2e4f75d747991fd9ae = $(`&lt;div id=&quot;html_b0a3b20836c9fd2e4f75d747991fd9ae&quot; style=&quot;width: 100.0%; height: 100.0%;&quot;&gt;El Desafío&lt;/div&gt;`)[0];\n",
       "                popup_13459648d79ad0a8fbe63232244b0d58.setContent(html_b0a3b20836c9fd2e4f75d747991fd9ae);\n",
       "            \n",
       "        \n",
       "\n",
       "        marker_06f0facb389b0f328d793e1aa4c6aceb.bindPopup(popup_13459648d79ad0a8fbe63232244b0d58)\n",
       "        ;\n",
       "\n",
       "        \n",
       "    \n",
       "    \n",
       "            var marker_2cfc2c4a16e0ccc1dc8ed7caf917cdef = L.marker(\n",
       "                [23.12434231472738, -82.4041494469193],\n",
       "                {\n",
       "}\n",
       "            ).addTo(map_eac3e686e37a9ed8ab94d2de922915a2);\n",
       "        \n",
       "    \n",
       "            var icon_b2372782ba684c270f3542f8724655fd = L.AwesomeMarkers.icon(\n",
       "                {\n",
       "  &quot;markerColor&quot;: &quot;darkblue&quot;,\n",
       "  &quot;iconColor&quot;: &quot;white&quot;,\n",
       "  &quot;icon&quot;: &quot;info-sign&quot;,\n",
       "  &quot;prefix&quot;: &quot;glyphicon&quot;,\n",
       "  &quot;extraClasses&quot;: &quot;fa-rotate-0&quot;,\n",
       "}\n",
       "            );\n",
       "            marker_2cfc2c4a16e0ccc1dc8ed7caf917cdef.setIcon(icon_b2372782ba684c270f3542f8724655fd);\n",
       "        \n",
       "    \n",
       "        var popup_3bf5752cd5b90a751aaffaeaa9471471 = L.popup({\n",
       "  &quot;maxWidth&quot;: &quot;100%&quot;,\n",
       "});\n",
       "\n",
       "        \n",
       "            \n",
       "                var html_81385d890fa067fece35c77dffde340f = $(`&lt;div id=&quot;html_81385d890fa067fece35c77dffde340f&quot; style=&quot;width: 100.0%; height: 100.0%;&quot;&gt;El Farallón&lt;/div&gt;`)[0];\n",
       "                popup_3bf5752cd5b90a751aaffaeaa9471471.setContent(html_81385d890fa067fece35c77dffde340f);\n",
       "            \n",
       "        \n",
       "\n",
       "        marker_2cfc2c4a16e0ccc1dc8ed7caf917cdef.bindPopup(popup_3bf5752cd5b90a751aaffaeaa9471471)\n",
       "        ;\n",
       "\n",
       "        \n",
       "    \n",
       "    \n",
       "            var marker_3a9b08c62f0702fd1a9cb1574b224cc2 = L.marker(\n",
       "                [23.11556412986255, -82.43678182320103],\n",
       "                {\n",
       "}\n",
       "            ).addTo(map_eac3e686e37a9ed8ab94d2de922915a2);\n",
       "        \n",
       "    \n",
       "            var icon_925ba1680577dd54551cb21a408c0b31 = L.AwesomeMarkers.icon(\n",
       "                {\n",
       "  &quot;markerColor&quot;: &quot;darkblue&quot;,\n",
       "  &quot;iconColor&quot;: &quot;white&quot;,\n",
       "  &quot;icon&quot;: &quot;info-sign&quot;,\n",
       "  &quot;prefix&quot;: &quot;glyphicon&quot;,\n",
       "  &quot;extraClasses&quot;: &quot;fa-rotate-0&quot;,\n",
       "}\n",
       "            );\n",
       "            marker_3a9b08c62f0702fd1a9cb1574b224cc2.setIcon(icon_925ba1680577dd54551cb21a408c0b31);\n",
       "        \n",
       "    \n",
       "        var popup_c94ddb8f853d5e4eba24564483dc32bb = L.popup({\n",
       "  &quot;maxWidth&quot;: &quot;100%&quot;,\n",
       "});\n",
       "\n",
       "        \n",
       "            \n",
       "                var html_d8a112d54b1af22fa35ccbf83a7777d9 = $(`&lt;div id=&quot;html_d8a112d54b1af22fa35ccbf83a7777d9&quot; style=&quot;width: 100.0%; height: 100.0%;&quot;&gt;El Gabán&lt;/div&gt;`)[0];\n",
       "                popup_c94ddb8f853d5e4eba24564483dc32bb.setContent(html_d8a112d54b1af22fa35ccbf83a7777d9);\n",
       "            \n",
       "        \n",
       "\n",
       "        marker_3a9b08c62f0702fd1a9cb1574b224cc2.bindPopup(popup_c94ddb8f853d5e4eba24564483dc32bb)\n",
       "        ;\n",
       "\n",
       "        \n",
       "    \n",
       "    \n",
       "            var marker_1acfe712933f752a4b74d4f88407418d = L.marker(\n",
       "                [23.12937954129776, -82.30898529375422],\n",
       "                {\n",
       "}\n",
       "            ).addTo(map_eac3e686e37a9ed8ab94d2de922915a2);\n",
       "        \n",
       "    \n",
       "            var icon_3ab579d19edc2f2c4a436d65c9656cef = L.AwesomeMarkers.icon(\n",
       "                {\n",
       "  &quot;markerColor&quot;: &quot;darkblue&quot;,\n",
       "  &quot;iconColor&quot;: &quot;white&quot;,\n",
       "  &quot;icon&quot;: &quot;info-sign&quot;,\n",
       "  &quot;prefix&quot;: &quot;glyphicon&quot;,\n",
       "  &quot;extraClasses&quot;: &quot;fa-rotate-0&quot;,\n",
       "}\n",
       "            );\n",
       "            marker_1acfe712933f752a4b74d4f88407418d.setIcon(icon_3ab579d19edc2f2c4a436d65c9656cef);\n",
       "        \n",
       "    \n",
       "        var popup_4357dadd331bbccb43af12fe4a8aecbb = L.popup({\n",
       "  &quot;maxWidth&quot;: &quot;100%&quot;,\n",
       "});\n",
       "\n",
       "        \n",
       "            \n",
       "                var html_e1a801d409b0d119dcf37d1d6432f27f = $(`&lt;div id=&quot;html_e1a801d409b0d119dcf37d1d6432f27f&quot; style=&quot;width: 100.0%; height: 100.0%;&quot;&gt;El Mexicano&lt;/div&gt;`)[0];\n",
       "                popup_4357dadd331bbccb43af12fe4a8aecbb.setContent(html_e1a801d409b0d119dcf37d1d6432f27f);\n",
       "            \n",
       "        \n",
       "\n",
       "        marker_1acfe712933f752a4b74d4f88407418d.bindPopup(popup_4357dadd331bbccb43af12fe4a8aecbb)\n",
       "        ;\n",
       "\n",
       "        \n",
       "    \n",
       "    \n",
       "            var marker_266e8b529cd3d370c258f58cecc19ff3 = L.marker(\n",
       "                [23.08636901084588, -82.4625362784828],\n",
       "                {\n",
       "}\n",
       "            ).addTo(map_eac3e686e37a9ed8ab94d2de922915a2);\n",
       "        \n",
       "    \n",
       "            var icon_96b9386e2d17ff9bcd20954cd0e45466 = L.AwesomeMarkers.icon(\n",
       "                {\n",
       "  &quot;markerColor&quot;: &quot;darkblue&quot;,\n",
       "  &quot;iconColor&quot;: &quot;white&quot;,\n",
       "  &quot;icon&quot;: &quot;info-sign&quot;,\n",
       "  &quot;prefix&quot;: &quot;glyphicon&quot;,\n",
       "  &quot;extraClasses&quot;: &quot;fa-rotate-0&quot;,\n",
       "}\n",
       "            );\n",
       "            marker_266e8b529cd3d370c258f58cecc19ff3.setIcon(icon_96b9386e2d17ff9bcd20954cd0e45466);\n",
       "        \n",
       "    \n",
       "        var popup_2c23163ade7fd60be1f0a96c0dd8a6f4 = L.popup({\n",
       "  &quot;maxWidth&quot;: &quot;100%&quot;,\n",
       "});\n",
       "\n",
       "        \n",
       "            \n",
       "                var html_5a6560c8fe661f50d637baf29482c284 = $(`&lt;div id=&quot;html_5a6560c8fe661f50d637baf29482c284&quot; style=&quot;width: 100.0%; height: 100.0%;&quot;&gt;El Palenque&lt;/div&gt;`)[0];\n",
       "                popup_2c23163ade7fd60be1f0a96c0dd8a6f4.setContent(html_5a6560c8fe661f50d637baf29482c284);\n",
       "            \n",
       "        \n",
       "\n",
       "        marker_266e8b529cd3d370c258f58cecc19ff3.bindPopup(popup_2c23163ade7fd60be1f0a96c0dd8a6f4)\n",
       "        ;\n",
       "\n",
       "        \n",
       "    \n",
       "    \n",
       "            var marker_208208a761c14b857b357771a7b79845 = L.marker(\n",
       "                [23.10204562544961, -82.34136591354408],\n",
       "                {\n",
       "}\n",
       "            ).addTo(map_eac3e686e37a9ed8ab94d2de922915a2);\n",
       "        \n",
       "    \n",
       "            var icon_87a0e3fdbb644f26cc345e3356cbda52 = L.AwesomeMarkers.icon(\n",
       "                {\n",
       "  &quot;markerColor&quot;: &quot;darkblue&quot;,\n",
       "  &quot;iconColor&quot;: &quot;white&quot;,\n",
       "  &quot;icon&quot;: &quot;info-sign&quot;,\n",
       "  &quot;prefix&quot;: &quot;glyphicon&quot;,\n",
       "  &quot;extraClasses&quot;: &quot;fa-rotate-0&quot;,\n",
       "}\n",
       "            );\n",
       "            marker_208208a761c14b857b357771a7b79845.setIcon(icon_87a0e3fdbb644f26cc345e3356cbda52);\n",
       "        \n",
       "    \n",
       "        var popup_b3ae75c725380e58508c87e7ef27462e = L.popup({\n",
       "  &quot;maxWidth&quot;: &quot;100%&quot;,\n",
       "});\n",
       "\n",
       "        \n",
       "            \n",
       "                var html_2ee5bb534706f8620580d02d8e68b9ec = $(`&lt;div id=&quot;html_2ee5bb534706f8620580d02d8e68b9ec&quot; style=&quot;width: 100.0%; height: 100.0%;&quot;&gt;El Pecado&lt;/div&gt;`)[0];\n",
       "                popup_b3ae75c725380e58508c87e7ef27462e.setContent(html_2ee5bb534706f8620580d02d8e68b9ec);\n",
       "            \n",
       "        \n",
       "\n",
       "        marker_208208a761c14b857b357771a7b79845.bindPopup(popup_b3ae75c725380e58508c87e7ef27462e)\n",
       "        ;\n",
       "\n",
       "        \n",
       "    \n",
       "    \n",
       "            var marker_62d9718651b837641f62aca3e97c2f87 = L.marker(\n",
       "                [23.072260531147528, -82.22660851736715],\n",
       "                {\n",
       "}\n",
       "            ).addTo(map_eac3e686e37a9ed8ab94d2de922915a2);\n",
       "        \n",
       "    \n",
       "            var icon_f869079a13271120c51f72f4bd49c87b = L.AwesomeMarkers.icon(\n",
       "                {\n",
       "  &quot;markerColor&quot;: &quot;darkblue&quot;,\n",
       "  &quot;iconColor&quot;: &quot;white&quot;,\n",
       "  &quot;icon&quot;: &quot;info-sign&quot;,\n",
       "  &quot;prefix&quot;: &quot;glyphicon&quot;,\n",
       "  &quot;extraClasses&quot;: &quot;fa-rotate-0&quot;,\n",
       "}\n",
       "            );\n",
       "            marker_62d9718651b837641f62aca3e97c2f87.setIcon(icon_f869079a13271120c51f72f4bd49c87b);\n",
       "        \n",
       "    \n",
       "        var popup_c4e2c897544c5d7780243175bfed3c64 = L.popup({\n",
       "  &quot;maxWidth&quot;: &quot;100%&quot;,\n",
       "});\n",
       "\n",
       "        \n",
       "            \n",
       "                var html_7a77d7624b6f94a88731d89d4028af3a = $(`&lt;div id=&quot;html_7a77d7624b6f94a88731d89d4028af3a&quot; style=&quot;width: 100.0%; height: 100.0%;&quot;&gt;El Pellizco&lt;/div&gt;`)[0];\n",
       "                popup_c4e2c897544c5d7780243175bfed3c64.setContent(html_7a77d7624b6f94a88731d89d4028af3a);\n",
       "            \n",
       "        \n",
       "\n",
       "        marker_62d9718651b837641f62aca3e97c2f87.bindPopup(popup_c4e2c897544c5d7780243175bfed3c64)\n",
       "        ;\n",
       "\n",
       "        \n",
       "    \n",
       "    \n",
       "            var marker_7c5d2e64ad19aabeadddbd3192d42dae = L.marker(\n",
       "                [23.124905240397386, -82.42134057564077],\n",
       "                {\n",
       "}\n",
       "            ).addTo(map_eac3e686e37a9ed8ab94d2de922915a2);\n",
       "        \n",
       "    \n",
       "            var icon_39fc309df4b79a69dd1dace0f606f209 = L.AwesomeMarkers.icon(\n",
       "                {\n",
       "  &quot;markerColor&quot;: &quot;darkblue&quot;,\n",
       "  &quot;iconColor&quot;: &quot;white&quot;,\n",
       "  &quot;icon&quot;: &quot;info-sign&quot;,\n",
       "  &quot;prefix&quot;: &quot;glyphicon&quot;,\n",
       "  &quot;extraClasses&quot;: &quot;fa-rotate-0&quot;,\n",
       "}\n",
       "            );\n",
       "            marker_7c5d2e64ad19aabeadddbd3192d42dae.setIcon(icon_39fc309df4b79a69dd1dace0f606f209);\n",
       "        \n",
       "    \n",
       "        var popup_2053dace5dc974059b53a90e8efb6f3f = L.popup({\n",
       "  &quot;maxWidth&quot;: &quot;100%&quot;,\n",
       "});\n",
       "\n",
       "        \n",
       "            \n",
       "                var html_3a8657b86f2437de24683a8f869f6342 = $(`&lt;div id=&quot;html_3a8657b86f2437de24683a8f869f6342&quot; style=&quot;width: 100.0%; height: 100.0%;&quot;&gt;El Tocororo&lt;/div&gt;`)[0];\n",
       "                popup_2053dace5dc974059b53a90e8efb6f3f.setContent(html_3a8657b86f2437de24683a8f869f6342);\n",
       "            \n",
       "        \n",
       "\n",
       "        marker_7c5d2e64ad19aabeadddbd3192d42dae.bindPopup(popup_2053dace5dc974059b53a90e8efb6f3f)\n",
       "        ;\n",
       "\n",
       "        \n",
       "    \n",
       "    \n",
       "            var marker_cd1b015a0fc0513eaf21673fc2831607 = L.marker(\n",
       "                [23.08023772075543, -82.32083560917445],\n",
       "                {\n",
       "}\n",
       "            ).addTo(map_eac3e686e37a9ed8ab94d2de922915a2);\n",
       "        \n",
       "    \n",
       "            var icon_144039c5a985ad88866dc556e760380e = L.AwesomeMarkers.icon(\n",
       "                {\n",
       "  &quot;markerColor&quot;: &quot;darkblue&quot;,\n",
       "  &quot;iconColor&quot;: &quot;white&quot;,\n",
       "  &quot;icon&quot;: &quot;info-sign&quot;,\n",
       "  &quot;prefix&quot;: &quot;glyphicon&quot;,\n",
       "  &quot;extraClasses&quot;: &quot;fa-rotate-0&quot;,\n",
       "}\n",
       "            );\n",
       "            marker_cd1b015a0fc0513eaf21673fc2831607.setIcon(icon_144039c5a985ad88866dc556e760380e);\n",
       "        \n",
       "    \n",
       "        var popup_6fcbbf5e0f162f81419c944608a64380 = L.popup({\n",
       "  &quot;maxWidth&quot;: &quot;100%&quot;,\n",
       "});\n",
       "\n",
       "        \n",
       "            \n",
       "                var html_cff28784e228eaf769e9f80b45cc860e = $(`&lt;div id=&quot;html_cff28784e228eaf769e9f80b45cc860e&quot; style=&quot;width: 100.0%; height: 100.0%;&quot;&gt;El Tráfico&lt;/div&gt;`)[0];\n",
       "                popup_6fcbbf5e0f162f81419c944608a64380.setContent(html_cff28784e228eaf769e9f80b45cc860e);\n",
       "            \n",
       "        \n",
       "\n",
       "        marker_cd1b015a0fc0513eaf21673fc2831607.bindPopup(popup_6fcbbf5e0f162f81419c944608a64380)\n",
       "        ;\n",
       "\n",
       "        \n",
       "    \n",
       "    \n",
       "            var marker_acf451fd570634ad0f69199d5193091d = L.marker(\n",
       "                [23.171538273047627, -82.2534967783034],\n",
       "                {\n",
       "}\n",
       "            ).addTo(map_eac3e686e37a9ed8ab94d2de922915a2);\n",
       "        \n",
       "    \n",
       "            var icon_411cdd2d52a75cfb15dab72445db5122 = L.AwesomeMarkers.icon(\n",
       "                {\n",
       "  &quot;markerColor&quot;: &quot;darkblue&quot;,\n",
       "  &quot;iconColor&quot;: &quot;white&quot;,\n",
       "  &quot;icon&quot;: &quot;info-sign&quot;,\n",
       "  &quot;prefix&quot;: &quot;glyphicon&quot;,\n",
       "  &quot;extraClasses&quot;: &quot;fa-rotate-0&quot;,\n",
       "}\n",
       "            );\n",
       "            marker_acf451fd570634ad0f69199d5193091d.setIcon(icon_411cdd2d52a75cfb15dab72445db5122);\n",
       "        \n",
       "    \n",
       "        var popup_30edc37eeb7c52d404c9550432f365ed = L.popup({\n",
       "  &quot;maxWidth&quot;: &quot;100%&quot;,\n",
       "});\n",
       "\n",
       "        \n",
       "            \n",
       "                var html_907b8b64daedc12c9db77a22c37b4389 = $(`&lt;div id=&quot;html_907b8b64daedc12c9db77a22c37b4389&quot; style=&quot;width: 100.0%; height: 100.0%;&quot;&gt;El Triangulo&lt;/div&gt;`)[0];\n",
       "                popup_30edc37eeb7c52d404c9550432f365ed.setContent(html_907b8b64daedc12c9db77a22c37b4389);\n",
       "            \n",
       "        \n",
       "\n",
       "        marker_acf451fd570634ad0f69199d5193091d.bindPopup(popup_30edc37eeb7c52d404c9550432f365ed)\n",
       "        ;\n",
       "\n",
       "        \n",
       "    \n",
       "    \n",
       "            var marker_d13a21ca6a189583d96e9fe907cbf726 = L.marker(\n",
       "                [23.00580536023271, -82.39597846641877],\n",
       "                {\n",
       "}\n",
       "            ).addTo(map_eac3e686e37a9ed8ab94d2de922915a2);\n",
       "        \n",
       "    \n",
       "            var icon_6505c2e9f79d9b2761e70aebf9c177a4 = L.AwesomeMarkers.icon(\n",
       "                {\n",
       "  &quot;markerColor&quot;: &quot;darkblue&quot;,\n",
       "  &quot;iconColor&quot;: &quot;white&quot;,\n",
       "  &quot;icon&quot;: &quot;info-sign&quot;,\n",
       "  &quot;prefix&quot;: &quot;glyphicon&quot;,\n",
       "  &quot;extraClasses&quot;: &quot;fa-rotate-0&quot;,\n",
       "}\n",
       "            );\n",
       "            marker_d13a21ca6a189583d96e9fe907cbf726.setIcon(icon_6505c2e9f79d9b2761e70aebf9c177a4);\n",
       "        \n",
       "    \n",
       "        var popup_8ef33207b850b351fc53266d2bd1a6f9 = L.popup({\n",
       "  &quot;maxWidth&quot;: &quot;100%&quot;,\n",
       "});\n",
       "\n",
       "        \n",
       "            \n",
       "                var html_39ae9eaffed7cf30ab100daa888810ac = $(`&lt;div id=&quot;html_39ae9eaffed7cf30ab100daa888810ac&quot; style=&quot;width: 100.0%; height: 100.0%;&quot;&gt;Entabla2&lt;/div&gt;`)[0];\n",
       "                popup_8ef33207b850b351fc53266d2bd1a6f9.setContent(html_39ae9eaffed7cf30ab100daa888810ac);\n",
       "            \n",
       "        \n",
       "\n",
       "        marker_d13a21ca6a189583d96e9fe907cbf726.bindPopup(popup_8ef33207b850b351fc53266d2bd1a6f9)\n",
       "        ;\n",
       "\n",
       "        \n",
       "    \n",
       "    \n",
       "            var marker_fe8873b372ea88829fcaaef8a774063c = L.marker(\n",
       "                [23.142552151033268, -82.39853187833533],\n",
       "                {\n",
       "}\n",
       "            ).addTo(map_eac3e686e37a9ed8ab94d2de922915a2);\n",
       "        \n",
       "    \n",
       "            var icon_a182ecd3a82223b9010ca90f0d4a5876 = L.AwesomeMarkers.icon(\n",
       "                {\n",
       "  &quot;markerColor&quot;: &quot;darkblue&quot;,\n",
       "  &quot;iconColor&quot;: &quot;white&quot;,\n",
       "  &quot;icon&quot;: &quot;info-sign&quot;,\n",
       "  &quot;prefix&quot;: &quot;glyphicon&quot;,\n",
       "  &quot;extraClasses&quot;: &quot;fa-rotate-0&quot;,\n",
       "}\n",
       "            );\n",
       "            marker_fe8873b372ea88829fcaaef8a774063c.setIcon(icon_a182ecd3a82223b9010ca90f0d4a5876);\n",
       "        \n",
       "    \n",
       "        var popup_dc2ed2f2937c2c87c180ca626a2b7d8b = L.popup({\n",
       "  &quot;maxWidth&quot;: &quot;100%&quot;,\n",
       "});\n",
       "\n",
       "        \n",
       "            \n",
       "                var html_705deb8d25b2acb317cd1450d6a60e5d = $(`&lt;div id=&quot;html_705deb8d25b2acb317cd1450d6a60e5d&quot; style=&quot;width: 100.0%; height: 100.0%;&quot;&gt;Esquina D&#x27; Fraile&lt;/div&gt;`)[0];\n",
       "                popup_dc2ed2f2937c2c87c180ca626a2b7d8b.setContent(html_705deb8d25b2acb317cd1450d6a60e5d);\n",
       "            \n",
       "        \n",
       "\n",
       "        marker_fe8873b372ea88829fcaaef8a774063c.bindPopup(popup_dc2ed2f2937c2c87c180ca626a2b7d8b)\n",
       "        ;\n",
       "\n",
       "        \n",
       "    \n",
       "    \n",
       "            var marker_db5f53f99f3ff23dcac23528441fba86 = L.marker(\n",
       "                [23.120002043016232, -82.41824799824474],\n",
       "                {\n",
       "}\n",
       "            ).addTo(map_eac3e686e37a9ed8ab94d2de922915a2);\n",
       "        \n",
       "    \n",
       "            var icon_6fd7a77796f4345d62321b19fdb5f9f4 = L.AwesomeMarkers.icon(\n",
       "                {\n",
       "  &quot;markerColor&quot;: &quot;darkblue&quot;,\n",
       "  &quot;iconColor&quot;: &quot;white&quot;,\n",
       "  &quot;icon&quot;: &quot;info-sign&quot;,\n",
       "  &quot;prefix&quot;: &quot;glyphicon&quot;,\n",
       "  &quot;extraClasses&quot;: &quot;fa-rotate-0&quot;,\n",
       "}\n",
       "            );\n",
       "            marker_db5f53f99f3ff23dcac23528441fba86.setIcon(icon_6fd7a77796f4345d62321b19fdb5f9f4);\n",
       "        \n",
       "    \n",
       "        var popup_fc6c878e22afe4ccc5861c9c161f57c2 = L.popup({\n",
       "  &quot;maxWidth&quot;: &quot;100%&quot;,\n",
       "});\n",
       "\n",
       "        \n",
       "            \n",
       "                var html_8ed237ed94a63c4ac8a45c03ed744b75 = $(`&lt;div id=&quot;html_8ed237ed94a63c4ac8a45c03ed744b75&quot; style=&quot;width: 100.0%; height: 100.0%;&quot;&gt;Fellini&lt;/div&gt;`)[0];\n",
       "                popup_fc6c878e22afe4ccc5861c9c161f57c2.setContent(html_8ed237ed94a63c4ac8a45c03ed744b75);\n",
       "            \n",
       "        \n",
       "\n",
       "        marker_db5f53f99f3ff23dcac23528441fba86.bindPopup(popup_fc6c878e22afe4ccc5861c9c161f57c2)\n",
       "        ;\n",
       "\n",
       "        \n",
       "    \n",
       "    \n",
       "            var marker_1b16d4d7f2ea51b9ba0b706c83a4a976 = L.marker(\n",
       "                [23.134776558921473, -82.36387247467647],\n",
       "                {\n",
       "}\n",
       "            ).addTo(map_eac3e686e37a9ed8ab94d2de922915a2);\n",
       "        \n",
       "    \n",
       "            var icon_854b5f40955a81d9f44fabf3c44fafec = L.AwesomeMarkers.icon(\n",
       "                {\n",
       "  &quot;markerColor&quot;: &quot;darkblue&quot;,\n",
       "  &quot;iconColor&quot;: &quot;white&quot;,\n",
       "  &quot;icon&quot;: &quot;info-sign&quot;,\n",
       "  &quot;prefix&quot;: &quot;glyphicon&quot;,\n",
       "  &quot;extraClasses&quot;: &quot;fa-rotate-0&quot;,\n",
       "}\n",
       "            );\n",
       "            marker_1b16d4d7f2ea51b9ba0b706c83a4a976.setIcon(icon_854b5f40955a81d9f44fabf3c44fafec);\n",
       "        \n",
       "    \n",
       "        var popup_78cb18e37ace3ddb7c24fe69ba446521 = L.popup({\n",
       "  &quot;maxWidth&quot;: &quot;100%&quot;,\n",
       "});\n",
       "\n",
       "        \n",
       "            \n",
       "                var html_b9934ded7e0b854fc4dc2759c90a3e5c = $(`&lt;div id=&quot;html_b9934ded7e0b854fc4dc2759c90a3e5c&quot; style=&quot;width: 100.0%; height: 100.0%;&quot;&gt;Fénix Dorado&lt;/div&gt;`)[0];\n",
       "                popup_78cb18e37ace3ddb7c24fe69ba446521.setContent(html_b9934ded7e0b854fc4dc2759c90a3e5c);\n",
       "            \n",
       "        \n",
       "\n",
       "        marker_1b16d4d7f2ea51b9ba0b706c83a4a976.bindPopup(popup_78cb18e37ace3ddb7c24fe69ba446521)\n",
       "        ;\n",
       "\n",
       "        \n",
       "    \n",
       "    \n",
       "            var marker_998edccb59a98c66081888d41103801b = L.marker(\n",
       "                [23.017771727070862, -82.48798172513514],\n",
       "                {\n",
       "}\n",
       "            ).addTo(map_eac3e686e37a9ed8ab94d2de922915a2);\n",
       "        \n",
       "    \n",
       "            var icon_fa109461b1d54f0ad71b33746a2404d8 = L.AwesomeMarkers.icon(\n",
       "                {\n",
       "  &quot;markerColor&quot;: &quot;darkblue&quot;,\n",
       "  &quot;iconColor&quot;: &quot;white&quot;,\n",
       "  &quot;icon&quot;: &quot;info-sign&quot;,\n",
       "  &quot;prefix&quot;: &quot;glyphicon&quot;,\n",
       "  &quot;extraClasses&quot;: &quot;fa-rotate-0&quot;,\n",
       "}\n",
       "            );\n",
       "            marker_998edccb59a98c66081888d41103801b.setIcon(icon_fa109461b1d54f0ad71b33746a2404d8);\n",
       "        \n",
       "    \n",
       "        var popup_91326a3361d831231307dd88b422fcc2 = L.popup({\n",
       "  &quot;maxWidth&quot;: &quot;100%&quot;,\n",
       "});\n",
       "\n",
       "        \n",
       "            \n",
       "                var html_a68caa75e0546a011392fc7e244180c9 = $(`&lt;div id=&quot;html_a68caa75e0546a011392fc7e244180c9&quot; style=&quot;width: 100.0%; height: 100.0%;&quot;&gt;Finca La Pinta&lt;/div&gt;`)[0];\n",
       "                popup_91326a3361d831231307dd88b422fcc2.setContent(html_a68caa75e0546a011392fc7e244180c9);\n",
       "            \n",
       "        \n",
       "\n",
       "        marker_998edccb59a98c66081888d41103801b.bindPopup(popup_91326a3361d831231307dd88b422fcc2)\n",
       "        ;\n",
       "\n",
       "        \n",
       "    \n",
       "    \n",
       "            var marker_0d43fcc0b49ed1c094aeb898c15dcd62 = L.marker(\n",
       "                [23.136227081972006, -82.36206873376179],\n",
       "                {\n",
       "}\n",
       "            ).addTo(map_eac3e686e37a9ed8ab94d2de922915a2);\n",
       "        \n",
       "    \n",
       "            var icon_26af2f02c44cceab036e83193dd2d56e = L.AwesomeMarkers.icon(\n",
       "                {\n",
       "  &quot;markerColor&quot;: &quot;darkblue&quot;,\n",
       "  &quot;iconColor&quot;: &quot;white&quot;,\n",
       "  &quot;icon&quot;: &quot;info-sign&quot;,\n",
       "  &quot;prefix&quot;: &quot;glyphicon&quot;,\n",
       "  &quot;extraClasses&quot;: &quot;fa-rotate-0&quot;,\n",
       "}\n",
       "            );\n",
       "            marker_0d43fcc0b49ed1c094aeb898c15dcd62.setIcon(icon_26af2f02c44cceab036e83193dd2d56e);\n",
       "        \n",
       "    \n",
       "        var popup_78fee8224dabdd3d79edfab228dcbd3e = L.popup({\n",
       "  &quot;maxWidth&quot;: &quot;100%&quot;,\n",
       "});\n",
       "\n",
       "        \n",
       "            \n",
       "                var html_47071a1efadbd7d6c736ac44cac0093c = $(`&lt;div id=&quot;html_47071a1efadbd7d6c736ac44cac0093c&quot; style=&quot;width: 100.0%; height: 100.0%;&quot;&gt;Fin de Siglo&lt;/div&gt;`)[0];\n",
       "                popup_78fee8224dabdd3d79edfab228dcbd3e.setContent(html_47071a1efadbd7d6c736ac44cac0093c);\n",
       "            \n",
       "        \n",
       "\n",
       "        marker_0d43fcc0b49ed1c094aeb898c15dcd62.bindPopup(popup_78fee8224dabdd3d79edfab228dcbd3e)\n",
       "        ;\n",
       "\n",
       "        \n",
       "    \n",
       "    \n",
       "            var marker_9bc7f9c089780955b462ff929bdba942 = L.marker(\n",
       "                [23.139257303539583, -82.38130662264366],\n",
       "                {\n",
       "}\n",
       "            ).addTo(map_eac3e686e37a9ed8ab94d2de922915a2);\n",
       "        \n",
       "    \n",
       "            var icon_b56500ac737b55f4d5692df29cc8c4a9 = L.AwesomeMarkers.icon(\n",
       "                {\n",
       "  &quot;markerColor&quot;: &quot;darkblue&quot;,\n",
       "  &quot;iconColor&quot;: &quot;white&quot;,\n",
       "  &quot;icon&quot;: &quot;info-sign&quot;,\n",
       "  &quot;prefix&quot;: &quot;glyphicon&quot;,\n",
       "  &quot;extraClasses&quot;: &quot;fa-rotate-0&quot;,\n",
       "}\n",
       "            );\n",
       "            marker_9bc7f9c089780955b462ff929bdba942.setIcon(icon_b56500ac737b55f4d5692df29cc8c4a9);\n",
       "        \n",
       "    \n",
       "        var popup_30936681d02daceffc070e9757d2b16c = L.popup({\n",
       "  &quot;maxWidth&quot;: &quot;100%&quot;,\n",
       "});\n",
       "\n",
       "        \n",
       "            \n",
       "                var html_ef1647f32af839652df278fb5f7379be = $(`&lt;div id=&quot;html_ef1647f32af839652df278fb5f7379be&quot; style=&quot;width: 100.0%; height: 100.0%;&quot;&gt;Fonda La Paila&lt;/div&gt;`)[0];\n",
       "                popup_30936681d02daceffc070e9757d2b16c.setContent(html_ef1647f32af839652df278fb5f7379be);\n",
       "            \n",
       "        \n",
       "\n",
       "        marker_9bc7f9c089780955b462ff929bdba942.bindPopup(popup_30936681d02daceffc070e9757d2b16c)\n",
       "        ;\n",
       "\n",
       "        \n",
       "    \n",
       "    \n",
       "            var marker_e00764bd4a2f9aa794473d02ed3f6e7d = L.marker(\n",
       "                [23.10836341952027, -82.43424715134823],\n",
       "                {\n",
       "}\n",
       "            ).addTo(map_eac3e686e37a9ed8ab94d2de922915a2);\n",
       "        \n",
       "    \n",
       "            var icon_8eae0e8ed0345dd57a2141414c53b575 = L.AwesomeMarkers.icon(\n",
       "                {\n",
       "  &quot;markerColor&quot;: &quot;darkblue&quot;,\n",
       "  &quot;iconColor&quot;: &quot;white&quot;,\n",
       "  &quot;icon&quot;: &quot;info-sign&quot;,\n",
       "  &quot;prefix&quot;: &quot;glyphicon&quot;,\n",
       "  &quot;extraClasses&quot;: &quot;fa-rotate-0&quot;,\n",
       "}\n",
       "            );\n",
       "            marker_e00764bd4a2f9aa794473d02ed3f6e7d.setIcon(icon_8eae0e8ed0345dd57a2141414c53b575);\n",
       "        \n",
       "    \n",
       "        var popup_cf739b99a68aa23d00714cd32c8315f4 = L.popup({\n",
       "  &quot;maxWidth&quot;: &quot;100%&quot;,\n",
       "});\n",
       "\n",
       "        \n",
       "            \n",
       "                var html_3231b9704ce675984ff3117315b6ff17 = $(`&lt;div id=&quot;html_3231b9704ce675984ff3117315b6ff17&quot; style=&quot;width: 100.0%; height: 100.0%;&quot;&gt;Food Master&lt;/div&gt;`)[0];\n",
       "                popup_cf739b99a68aa23d00714cd32c8315f4.setContent(html_3231b9704ce675984ff3117315b6ff17);\n",
       "            \n",
       "        \n",
       "\n",
       "        marker_e00764bd4a2f9aa794473d02ed3f6e7d.bindPopup(popup_cf739b99a68aa23d00714cd32c8315f4)\n",
       "        ;\n",
       "\n",
       "        \n",
       "    \n",
       "    \n",
       "            var marker_f6b16072e82dcd6b2d6b8f82b4f7f843 = L.marker(\n",
       "                [23.111808672085502, -82.44090092922819],\n",
       "                {\n",
       "}\n",
       "            ).addTo(map_eac3e686e37a9ed8ab94d2de922915a2);\n",
       "        \n",
       "    \n",
       "            var icon_6ee740ac6d3698a84da30d6f830db57d = L.AwesomeMarkers.icon(\n",
       "                {\n",
       "  &quot;markerColor&quot;: &quot;darkblue&quot;,\n",
       "  &quot;iconColor&quot;: &quot;white&quot;,\n",
       "  &quot;icon&quot;: &quot;info-sign&quot;,\n",
       "  &quot;prefix&quot;: &quot;glyphicon&quot;,\n",
       "  &quot;extraClasses&quot;: &quot;fa-rotate-0&quot;,\n",
       "}\n",
       "            );\n",
       "            marker_f6b16072e82dcd6b2d6b8f82b4f7f843.setIcon(icon_6ee740ac6d3698a84da30d6f830db57d);\n",
       "        \n",
       "    \n",
       "        var popup_701aec49ac7ee5be80214b157698b1e0 = L.popup({\n",
       "  &quot;maxWidth&quot;: &quot;100%&quot;,\n",
       "});\n",
       "\n",
       "        \n",
       "            \n",
       "                var html_80d28de575402426956b9ea87e68b64d = $(`&lt;div id=&quot;html_80d28de575402426956b9ea87e68b64d&quot; style=&quot;width: 100.0%; height: 100.0%;&quot;&gt;FoodTruck Pelegrin&lt;/div&gt;`)[0];\n",
       "                popup_701aec49ac7ee5be80214b157698b1e0.setContent(html_80d28de575402426956b9ea87e68b64d);\n",
       "            \n",
       "        \n",
       "\n",
       "        marker_f6b16072e82dcd6b2d6b8f82b4f7f843.bindPopup(popup_701aec49ac7ee5be80214b157698b1e0)\n",
       "        ;\n",
       "\n",
       "        \n",
       "    \n",
       "    \n",
       "            var marker_368d48f9a2786cd652b3dbbe1f2fbbc5 = L.marker(\n",
       "                [23.12226101881169, -82.40508001808305],\n",
       "                {\n",
       "}\n",
       "            ).addTo(map_eac3e686e37a9ed8ab94d2de922915a2);\n",
       "        \n",
       "    \n",
       "            var icon_04859d4198b4319100cf3af73ab53a7f = L.AwesomeMarkers.icon(\n",
       "                {\n",
       "  &quot;markerColor&quot;: &quot;darkblue&quot;,\n",
       "  &quot;iconColor&quot;: &quot;white&quot;,\n",
       "  &quot;icon&quot;: &quot;info-sign&quot;,\n",
       "  &quot;prefix&quot;: &quot;glyphicon&quot;,\n",
       "  &quot;extraClasses&quot;: &quot;fa-rotate-0&quot;,\n",
       "}\n",
       "            );\n",
       "            marker_368d48f9a2786cd652b3dbbe1f2fbbc5.setIcon(icon_04859d4198b4319100cf3af73ab53a7f);\n",
       "        \n",
       "    \n",
       "        var popup_cded17e84c174ffe75d7cf94f3e11bd4 = L.popup({\n",
       "  &quot;maxWidth&quot;: &quot;100%&quot;,\n",
       "});\n",
       "\n",
       "        \n",
       "            \n",
       "                var html_1cf3abfa0a07258e879da752cf13258c = $(`&lt;div id=&quot;html_1cf3abfa0a07258e879da752cf13258c&quot; style=&quot;width: 100.0%; height: 100.0%;&quot;&gt;Fuumiyaki&lt;/div&gt;`)[0];\n",
       "                popup_cded17e84c174ffe75d7cf94f3e11bd4.setContent(html_1cf3abfa0a07258e879da752cf13258c);\n",
       "            \n",
       "        \n",
       "\n",
       "        marker_368d48f9a2786cd652b3dbbe1f2fbbc5.bindPopup(popup_cded17e84c174ffe75d7cf94f3e11bd4)\n",
       "        ;\n",
       "\n",
       "        \n",
       "    \n",
       "    \n",
       "            var marker_7baf43d7b23d827ff56ed944e2334c21 = L.marker(\n",
       "                [23.13605979859447, -82.36264764949895],\n",
       "                {\n",
       "}\n",
       "            ).addTo(map_eac3e686e37a9ed8ab94d2de922915a2);\n",
       "        \n",
       "    \n",
       "            var icon_8e03fe39b4dfd90de462ca0af107ef7a = L.AwesomeMarkers.icon(\n",
       "                {\n",
       "  &quot;markerColor&quot;: &quot;darkblue&quot;,\n",
       "  &quot;iconColor&quot;: &quot;white&quot;,\n",
       "  &quot;icon&quot;: &quot;info-sign&quot;,\n",
       "  &quot;prefix&quot;: &quot;glyphicon&quot;,\n",
       "  &quot;extraClasses&quot;: &quot;fa-rotate-0&quot;,\n",
       "}\n",
       "            );\n",
       "            marker_7baf43d7b23d827ff56ed944e2334c21.setIcon(icon_8e03fe39b4dfd90de462ca0af107ef7a);\n",
       "        \n",
       "    \n",
       "        var popup_58f952d8d172717c3bda33eedf418b70 = L.popup({\n",
       "  &quot;maxWidth&quot;: &quot;100%&quot;,\n",
       "});\n",
       "\n",
       "        \n",
       "            \n",
       "                var html_09c3d2f27c3c8eb4711488f16016bb69 = $(`&lt;div id=&quot;html_09c3d2f27c3c8eb4711488f16016bb69&quot; style=&quot;width: 100.0%; height: 100.0%;&quot;&gt;Galy Cafe&lt;/div&gt;`)[0];\n",
       "                popup_58f952d8d172717c3bda33eedf418b70.setContent(html_09c3d2f27c3c8eb4711488f16016bb69);\n",
       "            \n",
       "        \n",
       "\n",
       "        marker_7baf43d7b23d827ff56ed944e2334c21.bindPopup(popup_58f952d8d172717c3bda33eedf418b70)\n",
       "        ;\n",
       "\n",
       "        \n",
       "    \n",
       "    \n",
       "            var marker_ed90ac5481dc6bcd3de18ea40f5e353e = L.marker(\n",
       "                [23.137384204567816, -82.30805504947449],\n",
       "                {\n",
       "}\n",
       "            ).addTo(map_eac3e686e37a9ed8ab94d2de922915a2);\n",
       "        \n",
       "    \n",
       "            var icon_498b9923056314cec398410539c62eac = L.AwesomeMarkers.icon(\n",
       "                {\n",
       "  &quot;markerColor&quot;: &quot;darkblue&quot;,\n",
       "  &quot;iconColor&quot;: &quot;white&quot;,\n",
       "  &quot;icon&quot;: &quot;info-sign&quot;,\n",
       "  &quot;prefix&quot;: &quot;glyphicon&quot;,\n",
       "  &quot;extraClasses&quot;: &quot;fa-rotate-0&quot;,\n",
       "}\n",
       "            );\n",
       "            marker_ed90ac5481dc6bcd3de18ea40f5e353e.setIcon(icon_498b9923056314cec398410539c62eac);\n",
       "        \n",
       "    \n",
       "        var popup_a33eedef873e32eaa0980f13b8e0639d = L.popup({\n",
       "  &quot;maxWidth&quot;: &quot;100%&quot;,\n",
       "});\n",
       "\n",
       "        \n",
       "            \n",
       "                var html_3f35a164d51f578065f4572510f12651 = $(`&lt;div id=&quot;html_3f35a164d51f578065f4572510f12651&quot; style=&quot;width: 100.0%; height: 100.0%;&quot;&gt;GaraG&lt;/div&gt;`)[0];\n",
       "                popup_a33eedef873e32eaa0980f13b8e0639d.setContent(html_3f35a164d51f578065f4572510f12651);\n",
       "            \n",
       "        \n",
       "\n",
       "        marker_ed90ac5481dc6bcd3de18ea40f5e353e.bindPopup(popup_a33eedef873e32eaa0980f13b8e0639d)\n",
       "        ;\n",
       "\n",
       "        \n",
       "    \n",
       "    \n",
       "            var marker_a1a2c1d204fb38e3cb6153fe77d89d4d = L.marker(\n",
       "                [23.134985027583145, -82.36378331935656],\n",
       "                {\n",
       "}\n",
       "            ).addTo(map_eac3e686e37a9ed8ab94d2de922915a2);\n",
       "        \n",
       "    \n",
       "            var icon_fe75abfe3914c7be65b538461e14530e = L.AwesomeMarkers.icon(\n",
       "                {\n",
       "  &quot;markerColor&quot;: &quot;darkblue&quot;,\n",
       "  &quot;iconColor&quot;: &quot;white&quot;,\n",
       "  &quot;icon&quot;: &quot;info-sign&quot;,\n",
       "  &quot;prefix&quot;: &quot;glyphicon&quot;,\n",
       "  &quot;extraClasses&quot;: &quot;fa-rotate-0&quot;,\n",
       "}\n",
       "            );\n",
       "            marker_a1a2c1d204fb38e3cb6153fe77d89d4d.setIcon(icon_fe75abfe3914c7be65b538461e14530e);\n",
       "        \n",
       "    \n",
       "        var popup_ebe69d5c3ec7b0856e63cb975b51999a = L.popup({\n",
       "  &quot;maxWidth&quot;: &quot;100%&quot;,\n",
       "});\n",
       "\n",
       "        \n",
       "            \n",
       "                var html_3eba5dc36e1603a424d5276201155264 = $(`&lt;div id=&quot;html_3eba5dc36e1603a424d5276201155264&quot; style=&quot;width: 100.0%; height: 100.0%;&quot;&gt;Guang Zhou&lt;/div&gt;`)[0];\n",
       "                popup_ebe69d5c3ec7b0856e63cb975b51999a.setContent(html_3eba5dc36e1603a424d5276201155264);\n",
       "            \n",
       "        \n",
       "\n",
       "        marker_a1a2c1d204fb38e3cb6153fe77d89d4d.bindPopup(popup_ebe69d5c3ec7b0856e63cb975b51999a)\n",
       "        ;\n",
       "\n",
       "        \n",
       "    \n",
       "    \n",
       "            var marker_ef6dfad1f0cbac0e344a31583d13ce1b = L.marker(\n",
       "                [23.139273167960297, -82.38864216668844],\n",
       "                {\n",
       "}\n",
       "            ).addTo(map_eac3e686e37a9ed8ab94d2de922915a2);\n",
       "        \n",
       "    \n",
       "            var icon_e5ff3c5fbbfabbe9e6eb644d46797f14 = L.AwesomeMarkers.icon(\n",
       "                {\n",
       "  &quot;markerColor&quot;: &quot;darkblue&quot;,\n",
       "  &quot;iconColor&quot;: &quot;white&quot;,\n",
       "  &quot;icon&quot;: &quot;info-sign&quot;,\n",
       "  &quot;prefix&quot;: &quot;glyphicon&quot;,\n",
       "  &quot;extraClasses&quot;: &quot;fa-rotate-0&quot;,\n",
       "}\n",
       "            );\n",
       "            marker_ef6dfad1f0cbac0e344a31583d13ce1b.setIcon(icon_e5ff3c5fbbfabbe9e6eb644d46797f14);\n",
       "        \n",
       "    \n",
       "        var popup_0e82a1dc1b6273f11654af7b58c3d742 = L.popup({\n",
       "  &quot;maxWidth&quot;: &quot;100%&quot;,\n",
       "});\n",
       "\n",
       "        \n",
       "            \n",
       "                var html_f77ac62fb65a05ba151a630b5f0f9c41 = $(`&lt;div id=&quot;html_f77ac62fb65a05ba151a630b5f0f9c41&quot; style=&quot;width: 100.0%; height: 100.0%;&quot;&gt;Habana Blues&lt;/div&gt;`)[0];\n",
       "                popup_0e82a1dc1b6273f11654af7b58c3d742.setContent(html_f77ac62fb65a05ba151a630b5f0f9c41);\n",
       "            \n",
       "        \n",
       "\n",
       "        marker_ef6dfad1f0cbac0e344a31583d13ce1b.bindPopup(popup_0e82a1dc1b6273f11654af7b58c3d742)\n",
       "        ;\n",
       "\n",
       "        \n",
       "    \n",
       "    \n",
       "            var marker_f1611ee0a80d5c1e8ca098dcbe9b9bfb = L.marker(\n",
       "                [23.137485628241393, -82.35639192066344],\n",
       "                {\n",
       "}\n",
       "            ).addTo(map_eac3e686e37a9ed8ab94d2de922915a2);\n",
       "        \n",
       "    \n",
       "            var icon_3c54b33ef05e34fa884258b73a28e89e = L.AwesomeMarkers.icon(\n",
       "                {\n",
       "  &quot;markerColor&quot;: &quot;darkblue&quot;,\n",
       "  &quot;iconColor&quot;: &quot;white&quot;,\n",
       "  &quot;icon&quot;: &quot;info-sign&quot;,\n",
       "  &quot;prefix&quot;: &quot;glyphicon&quot;,\n",
       "  &quot;extraClasses&quot;: &quot;fa-rotate-0&quot;,\n",
       "}\n",
       "            );\n",
       "            marker_f1611ee0a80d5c1e8ca098dcbe9b9bfb.setIcon(icon_3c54b33ef05e34fa884258b73a28e89e);\n",
       "        \n",
       "    \n",
       "        var popup_e11c536e5c40625bfe6618e8b254a23f = L.popup({\n",
       "  &quot;maxWidth&quot;: &quot;100%&quot;,\n",
       "});\n",
       "\n",
       "        \n",
       "            \n",
       "                var html_e66c5276edb158126d0e76a8bbdcd4ea = $(`&lt;div id=&quot;html_e66c5276edb158126d0e76a8bbdcd4ea&quot; style=&quot;width: 100.0%; height: 100.0%;&quot;&gt;Habana Tokio&lt;/div&gt;`)[0];\n",
       "                popup_e11c536e5c40625bfe6618e8b254a23f.setContent(html_e66c5276edb158126d0e76a8bbdcd4ea);\n",
       "            \n",
       "        \n",
       "\n",
       "        marker_f1611ee0a80d5c1e8ca098dcbe9b9bfb.bindPopup(popup_e11c536e5c40625bfe6618e8b254a23f)\n",
       "        ;\n",
       "\n",
       "        \n",
       "    \n",
       "    \n",
       "            var marker_7787c26f535ee628775849b715075064 = L.marker(\n",
       "                [23.142049436581914, -82.39508647982898],\n",
       "                {\n",
       "}\n",
       "            ).addTo(map_eac3e686e37a9ed8ab94d2de922915a2);\n",
       "        \n",
       "    \n",
       "            var icon_d198e2e8b083b2d67ca28891bdf816e1 = L.AwesomeMarkers.icon(\n",
       "                {\n",
       "  &quot;markerColor&quot;: &quot;darkblue&quot;,\n",
       "  &quot;iconColor&quot;: &quot;white&quot;,\n",
       "  &quot;icon&quot;: &quot;info-sign&quot;,\n",
       "  &quot;prefix&quot;: &quot;glyphicon&quot;,\n",
       "  &quot;extraClasses&quot;: &quot;fa-rotate-0&quot;,\n",
       "}\n",
       "            );\n",
       "            marker_7787c26f535ee628775849b715075064.setIcon(icon_d198e2e8b083b2d67ca28891bdf816e1);\n",
       "        \n",
       "    \n",
       "        var popup_6357cc1c36cb37d1f79c2ac1766dbc09 = L.popup({\n",
       "  &quot;maxWidth&quot;: &quot;100%&quot;,\n",
       "});\n",
       "\n",
       "        \n",
       "            \n",
       "                var html_40c099d5b8d3cf7f31dbf7e9d5c675c2 = $(`&lt;div id=&quot;html_40c099d5b8d3cf7f31dbf7e9d5c675c2&quot; style=&quot;width: 100.0%; height: 100.0%;&quot;&gt;Hábitat&lt;/div&gt;`)[0];\n",
       "                popup_6357cc1c36cb37d1f79c2ac1766dbc09.setContent(html_40c099d5b8d3cf7f31dbf7e9d5c675c2);\n",
       "            \n",
       "        \n",
       "\n",
       "        marker_7787c26f535ee628775849b715075064.bindPopup(popup_6357cc1c36cb37d1f79c2ac1766dbc09)\n",
       "        ;\n",
       "\n",
       "        \n",
       "    \n",
       "    \n",
       "            var marker_08e838c956ec17eecc4a277a972778db = L.marker(\n",
       "                [23.131235737365408, -82.37630082066377],\n",
       "                {\n",
       "}\n",
       "            ).addTo(map_eac3e686e37a9ed8ab94d2de922915a2);\n",
       "        \n",
       "    \n",
       "            var icon_d9fec50d669c7f7d5ba8b63196a18299 = L.AwesomeMarkers.icon(\n",
       "                {\n",
       "  &quot;markerColor&quot;: &quot;darkblue&quot;,\n",
       "  &quot;iconColor&quot;: &quot;white&quot;,\n",
       "  &quot;icon&quot;: &quot;info-sign&quot;,\n",
       "  &quot;prefix&quot;: &quot;glyphicon&quot;,\n",
       "  &quot;extraClasses&quot;: &quot;fa-rotate-0&quot;,\n",
       "}\n",
       "            );\n",
       "            marker_08e838c956ec17eecc4a277a972778db.setIcon(icon_d9fec50d669c7f7d5ba8b63196a18299);\n",
       "        \n",
       "    \n",
       "        var popup_f175de4980c9aace981080c147bc5e77 = L.popup({\n",
       "  &quot;maxWidth&quot;: &quot;100%&quot;,\n",
       "});\n",
       "\n",
       "        \n",
       "            \n",
       "                var html_458c800b7ec397b837eaa0decd0357d8 = $(`&lt;div id=&quot;html_458c800b7ec397b837eaa0decd0357d8&quot; style=&quot;width: 100.0%; height: 100.0%;&quot;&gt;Hamburgo&lt;/div&gt;`)[0];\n",
       "                popup_f175de4980c9aace981080c147bc5e77.setContent(html_458c800b7ec397b837eaa0decd0357d8);\n",
       "            \n",
       "        \n",
       "\n",
       "        marker_08e838c956ec17eecc4a277a972778db.bindPopup(popup_f175de4980c9aace981080c147bc5e77)\n",
       "        ;\n",
       "\n",
       "        \n",
       "    \n",
       "    \n",
       "            var marker_de2e92e5cc18140780f22c9c2e1c2860 = L.marker(\n",
       "                [23.157394129476703, -82.28044181790841],\n",
       "                {\n",
       "}\n",
       "            ).addTo(map_eac3e686e37a9ed8ab94d2de922915a2);\n",
       "        \n",
       "    \n",
       "            var icon_7a1c5e05a0e6ef805510a6ee4f3400a0 = L.AwesomeMarkers.icon(\n",
       "                {\n",
       "  &quot;markerColor&quot;: &quot;darkblue&quot;,\n",
       "  &quot;iconColor&quot;: &quot;white&quot;,\n",
       "  &quot;icon&quot;: &quot;info-sign&quot;,\n",
       "  &quot;prefix&quot;: &quot;glyphicon&quot;,\n",
       "  &quot;extraClasses&quot;: &quot;fa-rotate-0&quot;,\n",
       "}\n",
       "            );\n",
       "            marker_de2e92e5cc18140780f22c9c2e1c2860.setIcon(icon_7a1c5e05a0e6ef805510a6ee4f3400a0);\n",
       "        \n",
       "    \n",
       "        var popup_44395171b4fdcef70b882d306b34a9a9 = L.popup({\n",
       "  &quot;maxWidth&quot;: &quot;100%&quot;,\n",
       "});\n",
       "\n",
       "        \n",
       "            \n",
       "                var html_d36f7d87d6ad6fd3091d91dd4d6c77d8 = $(`&lt;div id=&quot;html_d36f7d87d6ad6fd3091d91dd4d6c77d8&quot; style=&quot;width: 100.0%; height: 100.0%;&quot;&gt;Ranchon Hanoi&lt;/div&gt;`)[0];\n",
       "                popup_44395171b4fdcef70b882d306b34a9a9.setContent(html_d36f7d87d6ad6fd3091d91dd4d6c77d8);\n",
       "            \n",
       "        \n",
       "\n",
       "        marker_de2e92e5cc18140780f22c9c2e1c2860.bindPopup(popup_44395171b4fdcef70b882d306b34a9a9)\n",
       "        ;\n",
       "\n",
       "        \n",
       "    \n",
       "    \n",
       "            var marker_233eb06f4acdd05ae99d05eaeb6127de = L.marker(\n",
       "                [23.102013500945667, -82.43068481917766],\n",
       "                {\n",
       "}\n",
       "            ).addTo(map_eac3e686e37a9ed8ab94d2de922915a2);\n",
       "        \n",
       "    \n",
       "            var icon_4aa9d884e409896b0d9b4555ca9c8003 = L.AwesomeMarkers.icon(\n",
       "                {\n",
       "  &quot;markerColor&quot;: &quot;darkblue&quot;,\n",
       "  &quot;iconColor&quot;: &quot;white&quot;,\n",
       "  &quot;icon&quot;: &quot;info-sign&quot;,\n",
       "  &quot;prefix&quot;: &quot;glyphicon&quot;,\n",
       "  &quot;extraClasses&quot;: &quot;fa-rotate-0&quot;,\n",
       "}\n",
       "            );\n",
       "            marker_233eb06f4acdd05ae99d05eaeb6127de.setIcon(icon_4aa9d884e409896b0d9b4555ca9c8003);\n",
       "        \n",
       "    \n",
       "        var popup_64ab240204dca6984882ed800d220154 = L.popup({\n",
       "  &quot;maxWidth&quot;: &quot;100%&quot;,\n",
       "});\n",
       "\n",
       "        \n",
       "            \n",
       "                var html_16ef773d50a6d8139c998a3734e20c96 = $(`&lt;div id=&quot;html_16ef773d50a6d8139c998a3734e20c96&quot; style=&quot;width: 100.0%; height: 100.0%;&quot;&gt;Home Deli&lt;/div&gt;`)[0];\n",
       "                popup_64ab240204dca6984882ed800d220154.setContent(html_16ef773d50a6d8139c998a3734e20c96);\n",
       "            \n",
       "        \n",
       "\n",
       "        marker_233eb06f4acdd05ae99d05eaeb6127de.bindPopup(popup_64ab240204dca6984882ed800d220154)\n",
       "        ;\n",
       "\n",
       "        \n",
       "    \n",
       "    \n",
       "            var marker_ea0b6687c685273c11979756c169fb39 = L.marker(\n",
       "                [23.135420733511385, -82.37831753600521],\n",
       "                {\n",
       "}\n",
       "            ).addTo(map_eac3e686e37a9ed8ab94d2de922915a2);\n",
       "        \n",
       "    \n",
       "            var icon_3e868c264205c521bb6f341ed38804d9 = L.AwesomeMarkers.icon(\n",
       "                {\n",
       "  &quot;markerColor&quot;: &quot;darkblue&quot;,\n",
       "  &quot;iconColor&quot;: &quot;white&quot;,\n",
       "  &quot;icon&quot;: &quot;info-sign&quot;,\n",
       "  &quot;prefix&quot;: &quot;glyphicon&quot;,\n",
       "  &quot;extraClasses&quot;: &quot;fa-rotate-0&quot;,\n",
       "}\n",
       "            );\n",
       "            marker_ea0b6687c685273c11979756c169fb39.setIcon(icon_3e868c264205c521bb6f341ed38804d9);\n",
       "        \n",
       "    \n",
       "        var popup_9f032ed76e885f487ed96fc34f1c5222 = L.popup({\n",
       "  &quot;maxWidth&quot;: &quot;100%&quot;,\n",
       "});\n",
       "\n",
       "        \n",
       "            \n",
       "                var html_1af4042c1e3aecf8560472fc1ef4d9d2 = $(`&lt;div id=&quot;html_1af4042c1e3aecf8560472fc1ef4d9d2&quot; style=&quot;width: 100.0%; height: 100.0%;&quot;&gt;Infanta 560&lt;/div&gt;`)[0];\n",
       "                popup_9f032ed76e885f487ed96fc34f1c5222.setContent(html_1af4042c1e3aecf8560472fc1ef4d9d2);\n",
       "            \n",
       "        \n",
       "\n",
       "        marker_ea0b6687c685273c11979756c169fb39.bindPopup(popup_9f032ed76e885f487ed96fc34f1c5222)\n",
       "        ;\n",
       "\n",
       "        \n",
       "    \n",
       "    \n",
       "            var marker_3a881cd6d55ed8bf03f6770343bf4cb4 = L.marker(\n",
       "                [23.138905560172887, -82.37656169182799],\n",
       "                {\n",
       "}\n",
       "            ).addTo(map_eac3e686e37a9ed8ab94d2de922915a2);\n",
       "        \n",
       "    \n",
       "            var icon_8d482a8dae603d307497c6a10d92e309 = L.AwesomeMarkers.icon(\n",
       "                {\n",
       "  &quot;markerColor&quot;: &quot;darkblue&quot;,\n",
       "  &quot;iconColor&quot;: &quot;white&quot;,\n",
       "  &quot;icon&quot;: &quot;info-sign&quot;,\n",
       "  &quot;prefix&quot;: &quot;glyphicon&quot;,\n",
       "  &quot;extraClasses&quot;: &quot;fa-rotate-0&quot;,\n",
       "}\n",
       "            );\n",
       "            marker_3a881cd6d55ed8bf03f6770343bf4cb4.setIcon(icon_8d482a8dae603d307497c6a10d92e309);\n",
       "        \n",
       "    \n",
       "        var popup_f63983070d8ea821150df4a50ce0f016 = L.popup({\n",
       "  &quot;maxWidth&quot;: &quot;100%&quot;,\n",
       "});\n",
       "\n",
       "        \n",
       "            \n",
       "                var html_8dea64ed019a02f155263c6994e1127f = $(`&lt;div id=&quot;html_8dea64ed019a02f155263c6994e1127f&quot; style=&quot;width: 100.0%; height: 100.0%;&quot;&gt;Ivonne Café&lt;/div&gt;`)[0];\n",
       "                popup_f63983070d8ea821150df4a50ce0f016.setContent(html_8dea64ed019a02f155263c6994e1127f);\n",
       "            \n",
       "        \n",
       "\n",
       "        marker_3a881cd6d55ed8bf03f6770343bf4cb4.bindPopup(popup_f63983070d8ea821150df4a50ce0f016)\n",
       "        ;\n",
       "\n",
       "        \n",
       "    \n",
       "    \n",
       "            var marker_13710d84d4e2e5ef3a846ba639e5f5bb = L.marker(\n",
       "                [23.166692944550768, -82.27760819382989],\n",
       "                {\n",
       "}\n",
       "            ).addTo(map_eac3e686e37a9ed8ab94d2de922915a2);\n",
       "        \n",
       "    \n",
       "            var icon_84cb55db41809833473fcfc0a78ae06d = L.AwesomeMarkers.icon(\n",
       "                {\n",
       "  &quot;markerColor&quot;: &quot;darkblue&quot;,\n",
       "  &quot;iconColor&quot;: &quot;white&quot;,\n",
       "  &quot;icon&quot;: &quot;info-sign&quot;,\n",
       "  &quot;prefix&quot;: &quot;glyphicon&quot;,\n",
       "  &quot;extraClasses&quot;: &quot;fa-rotate-0&quot;,\n",
       "}\n",
       "            );\n",
       "            marker_13710d84d4e2e5ef3a846ba639e5f5bb.setIcon(icon_84cb55db41809833473fcfc0a78ae06d);\n",
       "        \n",
       "    \n",
       "        var popup_b2a16dfd827853a45d62f0c1a3b6c2f8 = L.popup({\n",
       "  &quot;maxWidth&quot;: &quot;100%&quot;,\n",
       "});\n",
       "\n",
       "        \n",
       "            \n",
       "                var html_ca3197f3a97140687966d5582e42ca37 = $(`&lt;div id=&quot;html_ca3197f3a97140687966d5582e42ca37&quot; style=&quot;width: 100.0%; height: 100.0%;&quot;&gt;JacKafé&lt;/div&gt;`)[0];\n",
       "                popup_b2a16dfd827853a45d62f0c1a3b6c2f8.setContent(html_ca3197f3a97140687966d5582e42ca37);\n",
       "            \n",
       "        \n",
       "\n",
       "        marker_13710d84d4e2e5ef3a846ba639e5f5bb.bindPopup(popup_b2a16dfd827853a45d62f0c1a3b6c2f8)\n",
       "        ;\n",
       "\n",
       "        \n",
       "    \n",
       "    \n",
       "            var marker_b3f1735c119d7e23bbca1b452c8a0728 = L.marker(\n",
       "                [23.08829101929028, -82.3777419915061],\n",
       "                {\n",
       "}\n",
       "            ).addTo(map_eac3e686e37a9ed8ab94d2de922915a2);\n",
       "        \n",
       "    \n",
       "            var icon_5b8e34f102ff0802c1a2aaba5f28cfe2 = L.AwesomeMarkers.icon(\n",
       "                {\n",
       "  &quot;markerColor&quot;: &quot;darkblue&quot;,\n",
       "  &quot;iconColor&quot;: &quot;white&quot;,\n",
       "  &quot;icon&quot;: &quot;info-sign&quot;,\n",
       "  &quot;prefix&quot;: &quot;glyphicon&quot;,\n",
       "  &quot;extraClasses&quot;: &quot;fa-rotate-0&quot;,\n",
       "}\n",
       "            );\n",
       "            marker_b3f1735c119d7e23bbca1b452c8a0728.setIcon(icon_5b8e34f102ff0802c1a2aaba5f28cfe2);\n",
       "        \n",
       "    \n",
       "        var popup_445458a348c257ec395d9a6a21aa31a6 = L.popup({\n",
       "  &quot;maxWidth&quot;: &quot;100%&quot;,\n",
       "});\n",
       "\n",
       "        \n",
       "            \n",
       "                var html_4f5131138037aeb67bc4447cafa6edd0 = $(`&lt;div id=&quot;html_4f5131138037aeb67bc4447cafa6edd0&quot; style=&quot;width: 100.0%; height: 100.0%;&quot;&gt;Joe&#x27;s Burguer&lt;/div&gt;`)[0];\n",
       "                popup_445458a348c257ec395d9a6a21aa31a6.setContent(html_4f5131138037aeb67bc4447cafa6edd0);\n",
       "            \n",
       "        \n",
       "\n",
       "        marker_b3f1735c119d7e23bbca1b452c8a0728.bindPopup(popup_445458a348c257ec395d9a6a21aa31a6)\n",
       "        ;\n",
       "\n",
       "        \n",
       "    \n",
       "    \n",
       "            var marker_d0cfeaeadf2d914a1029717b5ccbd882 = L.marker(\n",
       "                [23.120895150022783, -82.37362585134757],\n",
       "                {\n",
       "}\n",
       "            ).addTo(map_eac3e686e37a9ed8ab94d2de922915a2);\n",
       "        \n",
       "    \n",
       "            var icon_e3b3b1c2b4ebc1f3c4167ecddb1b91c3 = L.AwesomeMarkers.icon(\n",
       "                {\n",
       "  &quot;markerColor&quot;: &quot;darkblue&quot;,\n",
       "  &quot;iconColor&quot;: &quot;white&quot;,\n",
       "  &quot;icon&quot;: &quot;info-sign&quot;,\n",
       "  &quot;prefix&quot;: &quot;glyphicon&quot;,\n",
       "  &quot;extraClasses&quot;: &quot;fa-rotate-0&quot;,\n",
       "}\n",
       "            );\n",
       "            marker_d0cfeaeadf2d914a1029717b5ccbd882.setIcon(icon_e3b3b1c2b4ebc1f3c4167ecddb1b91c3);\n",
       "        \n",
       "    \n",
       "        var popup_4df06da8cd43c3742fc95d50d2df268e = L.popup({\n",
       "  &quot;maxWidth&quot;: &quot;100%&quot;,\n",
       "});\n",
       "\n",
       "        \n",
       "            \n",
       "                var html_c1c013bfb09720a57cee814aca2ed303 = $(`&lt;div id=&quot;html_c1c013bfb09720a57cee814aca2ed303&quot; style=&quot;width: 100.0%; height: 100.0%;&quot;&gt;Jorgito&#x27;s Pizza&lt;/div&gt;`)[0];\n",
       "                popup_4df06da8cd43c3742fc95d50d2df268e.setContent(html_c1c013bfb09720a57cee814aca2ed303);\n",
       "            \n",
       "        \n",
       "\n",
       "        marker_d0cfeaeadf2d914a1029717b5ccbd882.bindPopup(popup_4df06da8cd43c3742fc95d50d2df268e)\n",
       "        ;\n",
       "\n",
       "        \n",
       "    \n",
       "    \n",
       "            var marker_80fdc1f8b2add113ececfb047214a7e0 = L.marker(\n",
       "                [23.130053196144022, -82.41351684242505],\n",
       "                {\n",
       "}\n",
       "            ).addTo(map_eac3e686e37a9ed8ab94d2de922915a2);\n",
       "        \n",
       "    \n",
       "            var icon_bfc5212f7d80363afe8258255f0bfcc3 = L.AwesomeMarkers.icon(\n",
       "                {\n",
       "  &quot;markerColor&quot;: &quot;darkblue&quot;,\n",
       "  &quot;iconColor&quot;: &quot;white&quot;,\n",
       "  &quot;icon&quot;: &quot;info-sign&quot;,\n",
       "  &quot;prefix&quot;: &quot;glyphicon&quot;,\n",
       "  &quot;extraClasses&quot;: &quot;fa-rotate-0&quot;,\n",
       "}\n",
       "            );\n",
       "            marker_80fdc1f8b2add113ececfb047214a7e0.setIcon(icon_bfc5212f7d80363afe8258255f0bfcc3);\n",
       "        \n",
       "    \n",
       "        var popup_1c0577796ad730fa3fdfc2509e703233 = L.popup({\n",
       "  &quot;maxWidth&quot;: &quot;100%&quot;,\n",
       "});\n",
       "\n",
       "        \n",
       "            \n",
       "                var html_d1e6c5108754bbb210ea7c28232b3e56 = $(`&lt;div id=&quot;html_d1e6c5108754bbb210ea7c28232b3e56&quot; style=&quot;width: 100.0%; height: 100.0%;&quot;&gt;Jota_Jota&lt;/div&gt;`)[0];\n",
       "                popup_1c0577796ad730fa3fdfc2509e703233.setContent(html_d1e6c5108754bbb210ea7c28232b3e56);\n",
       "            \n",
       "        \n",
       "\n",
       "        marker_80fdc1f8b2add113ececfb047214a7e0.bindPopup(popup_1c0577796ad730fa3fdfc2509e703233)\n",
       "        ;\n",
       "\n",
       "        \n",
       "    \n",
       "    \n",
       "            var marker_b3e201b5c966e40b12cc97b2e1b479b9 = L.marker(\n",
       "                [23.072350868212965, -82.46030204960273],\n",
       "                {\n",
       "}\n",
       "            ).addTo(map_eac3e686e37a9ed8ab94d2de922915a2);\n",
       "        \n",
       "    \n",
       "            var icon_2c80eba923516180fc24591ce5039a5b = L.AwesomeMarkers.icon(\n",
       "                {\n",
       "  &quot;markerColor&quot;: &quot;darkblue&quot;,\n",
       "  &quot;iconColor&quot;: &quot;white&quot;,\n",
       "  &quot;icon&quot;: &quot;info-sign&quot;,\n",
       "  &quot;prefix&quot;: &quot;glyphicon&quot;,\n",
       "  &quot;extraClasses&quot;: &quot;fa-rotate-0&quot;,\n",
       "}\n",
       "            );\n",
       "            marker_b3e201b5c966e40b12cc97b2e1b479b9.setIcon(icon_2c80eba923516180fc24591ce5039a5b);\n",
       "        \n",
       "    \n",
       "        var popup_eb26b6a26532b69e659eeaec01c7109d = L.popup({\n",
       "  &quot;maxWidth&quot;: &quot;100%&quot;,\n",
       "});\n",
       "\n",
       "        \n",
       "            \n",
       "                var html_63a185b65dbf301d484b1ec204ab0d2b = $(`&lt;div id=&quot;html_63a185b65dbf301d484b1ec204ab0d2b&quot; style=&quot;width: 100.0%; height: 100.0%;&quot;&gt;Juanky&#x27;s Pan&lt;/div&gt;`)[0];\n",
       "                popup_eb26b6a26532b69e659eeaec01c7109d.setContent(html_63a185b65dbf301d484b1ec204ab0d2b);\n",
       "            \n",
       "        \n",
       "\n",
       "        marker_b3e201b5c966e40b12cc97b2e1b479b9.bindPopup(popup_eb26b6a26532b69e659eeaec01c7109d)\n",
       "        ;\n",
       "\n",
       "        \n",
       "    \n",
       "    \n",
       "            var marker_8a4bb2bbaba03bc91cb090b2eea5d6de = L.marker(\n",
       "                [23.139644726614794, -82.3755633828391],\n",
       "                {\n",
       "}\n",
       "            ).addTo(map_eac3e686e37a9ed8ab94d2de922915a2);\n",
       "        \n",
       "    \n",
       "            var icon_30d456f2180dfc420a108322359079ba = L.AwesomeMarkers.icon(\n",
       "                {\n",
       "  &quot;markerColor&quot;: &quot;darkblue&quot;,\n",
       "  &quot;iconColor&quot;: &quot;white&quot;,\n",
       "  &quot;icon&quot;: &quot;info-sign&quot;,\n",
       "  &quot;prefix&quot;: &quot;glyphicon&quot;,\n",
       "  &quot;extraClasses&quot;: &quot;fa-rotate-0&quot;,\n",
       "}\n",
       "            );\n",
       "            marker_8a4bb2bbaba03bc91cb090b2eea5d6de.setIcon(icon_30d456f2180dfc420a108322359079ba);\n",
       "        \n",
       "    \n",
       "        var popup_687fdb200cc1e9e6d8ffb05bc994b669 = L.popup({\n",
       "  &quot;maxWidth&quot;: &quot;100%&quot;,\n",
       "});\n",
       "\n",
       "        \n",
       "            \n",
       "                var html_9a87980192a08495f8018c2b06e9f126 = $(`&lt;div id=&quot;html_9a87980192a08495f8018c2b06e9f126&quot; style=&quot;width: 100.0%; height: 100.0%;&quot;&gt;Kasa Takos&lt;/div&gt;`)[0];\n",
       "                popup_687fdb200cc1e9e6d8ffb05bc994b669.setContent(html_9a87980192a08495f8018c2b06e9f126);\n",
       "            \n",
       "        \n",
       "\n",
       "        marker_8a4bb2bbaba03bc91cb090b2eea5d6de.bindPopup(popup_687fdb200cc1e9e6d8ffb05bc994b669)\n",
       "        ;\n",
       "\n",
       "        \n",
       "    \n",
       "    \n",
       "            var marker_5ce60bab729d957bc22e53030caa1f66 = L.marker(\n",
       "                [23.006576332931576, -82.39373693105946],\n",
       "                {\n",
       "}\n",
       "            ).addTo(map_eac3e686e37a9ed8ab94d2de922915a2);\n",
       "        \n",
       "    \n",
       "            var icon_4c3b034b770f9baebcf7b0c17b6253a4 = L.AwesomeMarkers.icon(\n",
       "                {\n",
       "  &quot;markerColor&quot;: &quot;darkblue&quot;,\n",
       "  &quot;iconColor&quot;: &quot;white&quot;,\n",
       "  &quot;icon&quot;: &quot;info-sign&quot;,\n",
       "  &quot;prefix&quot;: &quot;glyphicon&quot;,\n",
       "  &quot;extraClasses&quot;: &quot;fa-rotate-0&quot;,\n",
       "}\n",
       "            );\n",
       "            marker_5ce60bab729d957bc22e53030caa1f66.setIcon(icon_4c3b034b770f9baebcf7b0c17b6253a4);\n",
       "        \n",
       "    \n",
       "        var popup_93aaadc5f533d39876984d991b4a3dd3 = L.popup({\n",
       "  &quot;maxWidth&quot;: &quot;100%&quot;,\n",
       "});\n",
       "\n",
       "        \n",
       "            \n",
       "                var html_c0244e959fbe4f50bbf2cebf1907ece1 = $(`&lt;div id=&quot;html_c0244e959fbe4f50bbf2cebf1907ece1&quot; style=&quot;width: 100.0%; height: 100.0%;&quot;&gt;Kmpary&lt;/div&gt;`)[0];\n",
       "                popup_93aaadc5f533d39876984d991b4a3dd3.setContent(html_c0244e959fbe4f50bbf2cebf1907ece1);\n",
       "            \n",
       "        \n",
       "\n",
       "        marker_5ce60bab729d957bc22e53030caa1f66.bindPopup(popup_93aaadc5f533d39876984d991b4a3dd3)\n",
       "        ;\n",
       "\n",
       "        \n",
       "    \n",
       "    \n",
       "            var marker_9e6428d986ce19b5513696260c907724 = L.marker(\n",
       "                [23.16957153159522, -82.13720147859289],\n",
       "                {\n",
       "}\n",
       "            ).addTo(map_eac3e686e37a9ed8ab94d2de922915a2);\n",
       "        \n",
       "    \n",
       "            var icon_4f5f0ab1ad1b0da174ade46823afacde = L.AwesomeMarkers.icon(\n",
       "                {\n",
       "  &quot;markerColor&quot;: &quot;darkblue&quot;,\n",
       "  &quot;iconColor&quot;: &quot;white&quot;,\n",
       "  &quot;icon&quot;: &quot;info-sign&quot;,\n",
       "  &quot;prefix&quot;: &quot;glyphicon&quot;,\n",
       "  &quot;extraClasses&quot;: &quot;fa-rotate-0&quot;,\n",
       "}\n",
       "            );\n",
       "            marker_9e6428d986ce19b5513696260c907724.setIcon(icon_4f5f0ab1ad1b0da174ade46823afacde);\n",
       "        \n",
       "    \n",
       "        var popup_2347b9b4b9e6eae7450f0dad1df9243f = L.popup({\n",
       "  &quot;maxWidth&quot;: &quot;100%&quot;,\n",
       "});\n",
       "\n",
       "        \n",
       "            \n",
       "                var html_f0494f0fbbe4bd9bbbf4949b8de8320c = $(`&lt;div id=&quot;html_f0494f0fbbe4bd9bbbf4949b8de8320c&quot; style=&quot;width: 100.0%; height: 100.0%;&quot;&gt;Kopas&lt;/div&gt;`)[0];\n",
       "                popup_2347b9b4b9e6eae7450f0dad1df9243f.setContent(html_f0494f0fbbe4bd9bbbf4949b8de8320c);\n",
       "            \n",
       "        \n",
       "\n",
       "        marker_9e6428d986ce19b5513696260c907724.bindPopup(popup_2347b9b4b9e6eae7450f0dad1df9243f)\n",
       "        ;\n",
       "\n",
       "        \n",
       "    \n",
       "    \n",
       "            var marker_2f7e9bbfa89a4b49df1b8e74d98987b4 = L.marker(\n",
       "                [23.07978553070381, -82.3203789919885],\n",
       "                {\n",
       "}\n",
       "            ).addTo(map_eac3e686e37a9ed8ab94d2de922915a2);\n",
       "        \n",
       "    \n",
       "            var icon_02690a1a189d053ac9ea7ca265948e08 = L.AwesomeMarkers.icon(\n",
       "                {\n",
       "  &quot;markerColor&quot;: &quot;darkblue&quot;,\n",
       "  &quot;iconColor&quot;: &quot;white&quot;,\n",
       "  &quot;icon&quot;: &quot;info-sign&quot;,\n",
       "  &quot;prefix&quot;: &quot;glyphicon&quot;,\n",
       "  &quot;extraClasses&quot;: &quot;fa-rotate-0&quot;,\n",
       "}\n",
       "            );\n",
       "            marker_2f7e9bbfa89a4b49df1b8e74d98987b4.setIcon(icon_02690a1a189d053ac9ea7ca265948e08);\n",
       "        \n",
       "    \n",
       "        var popup_009a0b37cb453ffa45bbe6f919270b8f = L.popup({\n",
       "  &quot;maxWidth&quot;: &quot;100%&quot;,\n",
       "});\n",
       "\n",
       "        \n",
       "            \n",
       "                var html_ffde3d911c9bad9ee06c93905779b376 = $(`&lt;div id=&quot;html_ffde3d911c9bad9ee06c93905779b376&quot; style=&quot;width: 100.0%; height: 100.0%;&quot;&gt;KY-13&lt;/div&gt;`)[0];\n",
       "                popup_009a0b37cb453ffa45bbe6f919270b8f.setContent(html_ffde3d911c9bad9ee06c93905779b376);\n",
       "            \n",
       "        \n",
       "\n",
       "        marker_2f7e9bbfa89a4b49df1b8e74d98987b4.bindPopup(popup_009a0b37cb453ffa45bbe6f919270b8f)\n",
       "        ;\n",
       "\n",
       "        \n",
       "    \n",
       "    \n",
       "            var marker_6d711094a407c0f00af540af21d3d9bf = L.marker(\n",
       "                [23.121985720348754, -82.3738952629934],\n",
       "                {\n",
       "}\n",
       "            ).addTo(map_eac3e686e37a9ed8ab94d2de922915a2);\n",
       "        \n",
       "    \n",
       "            var icon_826bab41623e1f8ab96cb89068d0fdd6 = L.AwesomeMarkers.icon(\n",
       "                {\n",
       "  &quot;markerColor&quot;: &quot;darkblue&quot;,\n",
       "  &quot;iconColor&quot;: &quot;white&quot;,\n",
       "  &quot;icon&quot;: &quot;info-sign&quot;,\n",
       "  &quot;prefix&quot;: &quot;glyphicon&quot;,\n",
       "  &quot;extraClasses&quot;: &quot;fa-rotate-0&quot;,\n",
       "}\n",
       "            );\n",
       "            marker_6d711094a407c0f00af540af21d3d9bf.setIcon(icon_826bab41623e1f8ab96cb89068d0fdd6);\n",
       "        \n",
       "    \n",
       "        var popup_ba9f1c7f16844ffd35de0cd73acde8f1 = L.popup({\n",
       "  &quot;maxWidth&quot;: &quot;100%&quot;,\n",
       "});\n",
       "\n",
       "        \n",
       "            \n",
       "                var html_d2a2e68bfc98b67f9635605b0f5ede91 = $(`&lt;div id=&quot;html_d2a2e68bfc98b67f9635605b0f5ede91&quot; style=&quot;width: 100.0%; height: 100.0%;&quot;&gt;La Barrita Onbazar&lt;/div&gt;`)[0];\n",
       "                popup_ba9f1c7f16844ffd35de0cd73acde8f1.setContent(html_d2a2e68bfc98b67f9635605b0f5ede91);\n",
       "            \n",
       "        \n",
       "\n",
       "        marker_6d711094a407c0f00af540af21d3d9bf.bindPopup(popup_ba9f1c7f16844ffd35de0cd73acde8f1)\n",
       "        ;\n",
       "\n",
       "        \n",
       "    \n",
       "    \n",
       "            var marker_1b85bafd4214d698562765437ed003a0 = L.marker(\n",
       "                [23.13993175557732, -82.38537118924619],\n",
       "                {\n",
       "}\n",
       "            ).addTo(map_eac3e686e37a9ed8ab94d2de922915a2);\n",
       "        \n",
       "    \n",
       "            var icon_69191af1676e202ed0a1f4c81449c213 = L.AwesomeMarkers.icon(\n",
       "                {\n",
       "  &quot;markerColor&quot;: &quot;darkblue&quot;,\n",
       "  &quot;iconColor&quot;: &quot;white&quot;,\n",
       "  &quot;icon&quot;: &quot;info-sign&quot;,\n",
       "  &quot;prefix&quot;: &quot;glyphicon&quot;,\n",
       "  &quot;extraClasses&quot;: &quot;fa-rotate-0&quot;,\n",
       "}\n",
       "            );\n",
       "            marker_1b85bafd4214d698562765437ed003a0.setIcon(icon_69191af1676e202ed0a1f4c81449c213);\n",
       "        \n",
       "    \n",
       "        var popup_47f6230aaeb0f598030cb42431ca7cca = L.popup({\n",
       "  &quot;maxWidth&quot;: &quot;100%&quot;,\n",
       "});\n",
       "\n",
       "        \n",
       "            \n",
       "                var html_72b30602a7c36de70cb954b685a24255 = $(`&lt;div id=&quot;html_72b30602a7c36de70cb954b685a24255&quot; style=&quot;width: 100.0%; height: 100.0%;&quot;&gt;La Carreta&lt;/div&gt;`)[0];\n",
       "                popup_47f6230aaeb0f598030cb42431ca7cca.setContent(html_72b30602a7c36de70cb954b685a24255);\n",
       "            \n",
       "        \n",
       "\n",
       "        marker_1b85bafd4214d698562765437ed003a0.bindPopup(popup_47f6230aaeb0f598030cb42431ca7cca)\n",
       "        ;\n",
       "\n",
       "        \n",
       "    \n",
       "    \n",
       "            var marker_227723b6a7d3c36237135f06b428204e = L.marker(\n",
       "                [23.135892638151837, -82.40453312083959],\n",
       "                {\n",
       "}\n",
       "            ).addTo(map_eac3e686e37a9ed8ab94d2de922915a2);\n",
       "        \n",
       "    \n",
       "            var icon_29f6782ffc5fb8c94802bcc5771921df = L.AwesomeMarkers.icon(\n",
       "                {\n",
       "  &quot;markerColor&quot;: &quot;darkblue&quot;,\n",
       "  &quot;iconColor&quot;: &quot;white&quot;,\n",
       "  &quot;icon&quot;: &quot;info-sign&quot;,\n",
       "  &quot;prefix&quot;: &quot;glyphicon&quot;,\n",
       "  &quot;extraClasses&quot;: &quot;fa-rotate-0&quot;,\n",
       "}\n",
       "            );\n",
       "            marker_227723b6a7d3c36237135f06b428204e.setIcon(icon_29f6782ffc5fb8c94802bcc5771921df);\n",
       "        \n",
       "    \n",
       "        var popup_983c4b58b8abb2f8660754728baab4f8 = L.popup({\n",
       "  &quot;maxWidth&quot;: &quot;100%&quot;,\n",
       "});\n",
       "\n",
       "        \n",
       "            \n",
       "                var html_970fff87c9209bd898dfce296505ca39 = $(`&lt;div id=&quot;html_970fff87c9209bd898dfce296505ca39&quot; style=&quot;width: 100.0%; height: 100.0%;&quot;&gt;La Catedral&lt;/div&gt;`)[0];\n",
       "                popup_983c4b58b8abb2f8660754728baab4f8.setContent(html_970fff87c9209bd898dfce296505ca39);\n",
       "            \n",
       "        \n",
       "\n",
       "        marker_227723b6a7d3c36237135f06b428204e.bindPopup(popup_983c4b58b8abb2f8660754728baab4f8)\n",
       "        ;\n",
       "\n",
       "        \n",
       "    \n",
       "    \n",
       "            var marker_ef1e08b935d1f0dc9dacac0174dc9cb1 = L.marker(\n",
       "                [23.10190135728949, -82.37499586631485],\n",
       "                {\n",
       "}\n",
       "            ).addTo(map_eac3e686e37a9ed8ab94d2de922915a2);\n",
       "        \n",
       "    \n",
       "            var icon_21723081d14dc41d6442d5beb8c3a9b5 = L.AwesomeMarkers.icon(\n",
       "                {\n",
       "  &quot;markerColor&quot;: &quot;darkblue&quot;,\n",
       "  &quot;iconColor&quot;: &quot;white&quot;,\n",
       "  &quot;icon&quot;: &quot;info-sign&quot;,\n",
       "  &quot;prefix&quot;: &quot;glyphicon&quot;,\n",
       "  &quot;extraClasses&quot;: &quot;fa-rotate-0&quot;,\n",
       "}\n",
       "            );\n",
       "            marker_ef1e08b935d1f0dc9dacac0174dc9cb1.setIcon(icon_21723081d14dc41d6442d5beb8c3a9b5);\n",
       "        \n",
       "    \n",
       "        var popup_e734a2efe8faaecabf00d9b0d421868b = L.popup({\n",
       "  &quot;maxWidth&quot;: &quot;100%&quot;,\n",
       "});\n",
       "\n",
       "        \n",
       "            \n",
       "                var html_e5a7df06c028a5698754623bfed43d16 = $(`&lt;div id=&quot;html_e5a7df06c028a5698754623bfed43d16&quot; style=&quot;width: 100.0%; height: 100.0%;&quot;&gt;Lacret 559&lt;/div&gt;`)[0];\n",
       "                popup_e734a2efe8faaecabf00d9b0d421868b.setContent(html_e5a7df06c028a5698754623bfed43d16);\n",
       "            \n",
       "        \n",
       "\n",
       "        marker_ef1e08b935d1f0dc9dacac0174dc9cb1.bindPopup(popup_e734a2efe8faaecabf00d9b0d421868b)\n",
       "        ;\n",
       "\n",
       "        \n",
       "    \n",
       "    \n",
       "            var marker_48bab1c7cfbc9f118dcc619f672c5f2d = L.marker(\n",
       "                [23.124529609158262, -82.3276779397017],\n",
       "                {\n",
       "}\n",
       "            ).addTo(map_eac3e686e37a9ed8ab94d2de922915a2);\n",
       "        \n",
       "    \n",
       "            var icon_3611286303371108a865dbdc48c32394 = L.AwesomeMarkers.icon(\n",
       "                {\n",
       "  &quot;markerColor&quot;: &quot;darkblue&quot;,\n",
       "  &quot;iconColor&quot;: &quot;white&quot;,\n",
       "  &quot;icon&quot;: &quot;info-sign&quot;,\n",
       "  &quot;prefix&quot;: &quot;glyphicon&quot;,\n",
       "  &quot;extraClasses&quot;: &quot;fa-rotate-0&quot;,\n",
       "}\n",
       "            );\n",
       "            marker_48bab1c7cfbc9f118dcc619f672c5f2d.setIcon(icon_3611286303371108a865dbdc48c32394);\n",
       "        \n",
       "    \n",
       "        var popup_664ebb60e49c53e5ac6116cb5e840532 = L.popup({\n",
       "  &quot;maxWidth&quot;: &quot;100%&quot;,\n",
       "});\n",
       "\n",
       "        \n",
       "            \n",
       "                var html_6feaf054d6cc104a755e19c5a9dd3973 = $(`&lt;div id=&quot;html_6feaf054d6cc104a755e19c5a9dd3973&quot; style=&quot;width: 100.0%; height: 100.0%;&quot;&gt;La Guitarreta&lt;/div&gt;`)[0];\n",
       "                popup_664ebb60e49c53e5ac6116cb5e840532.setContent(html_6feaf054d6cc104a755e19c5a9dd3973);\n",
       "            \n",
       "        \n",
       "\n",
       "        marker_48bab1c7cfbc9f118dcc619f672c5f2d.bindPopup(popup_664ebb60e49c53e5ac6116cb5e840532)\n",
       "        ;\n",
       "\n",
       "        \n",
       "    \n",
       "    \n",
       "            var marker_87fcd4cd4a259d70c8cc413590cb2431 = L.marker(\n",
       "                [23.135543401312233, -82.3644565648407],\n",
       "                {\n",
       "}\n",
       "            ).addTo(map_eac3e686e37a9ed8ab94d2de922915a2);\n",
       "        \n",
       "    \n",
       "            var icon_95bba736130f91abe66c9af8cd40390b = L.AwesomeMarkers.icon(\n",
       "                {\n",
       "  &quot;markerColor&quot;: &quot;darkblue&quot;,\n",
       "  &quot;iconColor&quot;: &quot;white&quot;,\n",
       "  &quot;icon&quot;: &quot;info-sign&quot;,\n",
       "  &quot;prefix&quot;: &quot;glyphicon&quot;,\n",
       "  &quot;extraClasses&quot;: &quot;fa-rotate-0&quot;,\n",
       "}\n",
       "            );\n",
       "            marker_87fcd4cd4a259d70c8cc413590cb2431.setIcon(icon_95bba736130f91abe66c9af8cd40390b);\n",
       "        \n",
       "    \n",
       "        var popup_508dffe91ece06dda897f41d78fcd05c = L.popup({\n",
       "  &quot;maxWidth&quot;: &quot;100%&quot;,\n",
       "});\n",
       "\n",
       "        \n",
       "            \n",
       "                var html_f1dc468a931b656b648f8c8d35410b1b = $(`&lt;div id=&quot;html_f1dc468a931b656b648f8c8d35410b1b&quot; style=&quot;width: 100.0%; height: 100.0%;&quot;&gt;La Juliana&lt;/div&gt;`)[0];\n",
       "                popup_508dffe91ece06dda897f41d78fcd05c.setContent(html_f1dc468a931b656b648f8c8d35410b1b);\n",
       "            \n",
       "        \n",
       "\n",
       "        marker_87fcd4cd4a259d70c8cc413590cb2431.bindPopup(popup_508dffe91ece06dda897f41d78fcd05c)\n",
       "        ;\n",
       "\n",
       "        \n",
       "    \n",
       "    \n",
       "            var marker_06761fb60855c3b8dc774807a31a7dd3 = L.marker(\n",
       "                [23.11990973944172, -82.38314468033592],\n",
       "                {\n",
       "}\n",
       "            ).addTo(map_eac3e686e37a9ed8ab94d2de922915a2);\n",
       "        \n",
       "    \n",
       "            var icon_5d45000217a57daf322defbc577d4ad9 = L.AwesomeMarkers.icon(\n",
       "                {\n",
       "  &quot;markerColor&quot;: &quot;darkblue&quot;,\n",
       "  &quot;iconColor&quot;: &quot;white&quot;,\n",
       "  &quot;icon&quot;: &quot;info-sign&quot;,\n",
       "  &quot;prefix&quot;: &quot;glyphicon&quot;,\n",
       "  &quot;extraClasses&quot;: &quot;fa-rotate-0&quot;,\n",
       "}\n",
       "            );\n",
       "            marker_06761fb60855c3b8dc774807a31a7dd3.setIcon(icon_5d45000217a57daf322defbc577d4ad9);\n",
       "        \n",
       "    \n",
       "        var popup_f76306601d9bd5deafa18fd0aaa5d2a1 = L.popup({\n",
       "  &quot;maxWidth&quot;: &quot;100%&quot;,\n",
       "});\n",
       "\n",
       "        \n",
       "            \n",
       "                var html_e31474eb01e7fd9ffb42f972d9c8d90a = $(`&lt;div id=&quot;html_e31474eb01e7fd9ffb42f972d9c8d90a&quot; style=&quot;width: 100.0%; height: 100.0%;&quot;&gt;La Lola&lt;/div&gt;`)[0];\n",
       "                popup_f76306601d9bd5deafa18fd0aaa5d2a1.setContent(html_e31474eb01e7fd9ffb42f972d9c8d90a);\n",
       "            \n",
       "        \n",
       "\n",
       "        marker_06761fb60855c3b8dc774807a31a7dd3.bindPopup(popup_f76306601d9bd5deafa18fd0aaa5d2a1)\n",
       "        ;\n",
       "\n",
       "        \n",
       "    \n",
       "    \n",
       "            var marker_5f978d1b71ff032cb3bff0c573a6eb22 = L.marker(\n",
       "                [23.134370150762123, -82.3682591198702],\n",
       "                {\n",
       "}\n",
       "            ).addTo(map_eac3e686e37a9ed8ab94d2de922915a2);\n",
       "        \n",
       "    \n",
       "            var icon_18910dee7dec9cec5f8a06daf9ec2c2d = L.AwesomeMarkers.icon(\n",
       "                {\n",
       "  &quot;markerColor&quot;: &quot;darkblue&quot;,\n",
       "  &quot;iconColor&quot;: &quot;white&quot;,\n",
       "  &quot;icon&quot;: &quot;info-sign&quot;,\n",
       "  &quot;prefix&quot;: &quot;glyphicon&quot;,\n",
       "  &quot;extraClasses&quot;: &quot;fa-rotate-0&quot;,\n",
       "}\n",
       "            );\n",
       "            marker_5f978d1b71ff032cb3bff0c573a6eb22.setIcon(icon_18910dee7dec9cec5f8a06daf9ec2c2d);\n",
       "        \n",
       "    \n",
       "        var popup_48ef84b93c24ea5863069bbdf0e22159 = L.popup({\n",
       "  &quot;maxWidth&quot;: &quot;100%&quot;,\n",
       "});\n",
       "\n",
       "        \n",
       "            \n",
       "                var html_305a1ca140ea96c18d1ad07e946ee100 = $(`&lt;div id=&quot;html_305a1ca140ea96c18d1ad07e946ee100&quot; style=&quot;width: 100.0%; height: 100.0%;&quot;&gt;Mimosa&lt;/div&gt;`)[0];\n",
       "                popup_48ef84b93c24ea5863069bbdf0e22159.setContent(html_305a1ca140ea96c18d1ad07e946ee100);\n",
       "            \n",
       "        \n",
       "\n",
       "        marker_5f978d1b71ff032cb3bff0c573a6eb22.bindPopup(popup_48ef84b93c24ea5863069bbdf0e22159)\n",
       "        ;\n",
       "\n",
       "        \n",
       "    \n",
       "    \n",
       "            var marker_21b70be4548ddf30f73a9a1b3a29ac98 = L.marker(\n",
       "                [23.127810894630507, -82.39959798623943],\n",
       "                {\n",
       "}\n",
       "            ).addTo(map_eac3e686e37a9ed8ab94d2de922915a2);\n",
       "        \n",
       "    \n",
       "            var icon_4d01c654aa361afd7f4fdee16102abbd = L.AwesomeMarkers.icon(\n",
       "                {\n",
       "  &quot;markerColor&quot;: &quot;darkblue&quot;,\n",
       "  &quot;iconColor&quot;: &quot;white&quot;,\n",
       "  &quot;icon&quot;: &quot;info-sign&quot;,\n",
       "  &quot;prefix&quot;: &quot;glyphicon&quot;,\n",
       "  &quot;extraClasses&quot;: &quot;fa-rotate-0&quot;,\n",
       "}\n",
       "            );\n",
       "            marker_21b70be4548ddf30f73a9a1b3a29ac98.setIcon(icon_4d01c654aa361afd7f4fdee16102abbd);\n",
       "        \n",
       "    \n",
       "        var popup_44229fe829a13a0727c4c67d3f9358d3 = L.popup({\n",
       "  &quot;maxWidth&quot;: &quot;100%&quot;,\n",
       "});\n",
       "\n",
       "        \n",
       "            \n",
       "                var html_276343a3aca7b01ca1d77dc851663eb3 = $(`&lt;div id=&quot;html_276343a3aca7b01ca1d77dc851663eb3&quot; style=&quot;width: 100.0%; height: 100.0%;&quot;&gt;La Pelota&lt;/div&gt;`)[0];\n",
       "                popup_44229fe829a13a0727c4c67d3f9358d3.setContent(html_276343a3aca7b01ca1d77dc851663eb3);\n",
       "            \n",
       "        \n",
       "\n",
       "        marker_21b70be4548ddf30f73a9a1b3a29ac98.bindPopup(popup_44229fe829a13a0727c4c67d3f9358d3)\n",
       "        ;\n",
       "\n",
       "        \n",
       "    \n",
       "    \n",
       "            var marker_fb83cab09e00052da65ce69be478e090 = L.marker(\n",
       "                [23.1055829712021, -82.35832236452364],\n",
       "                {\n",
       "}\n",
       "            ).addTo(map_eac3e686e37a9ed8ab94d2de922915a2);\n",
       "        \n",
       "    \n",
       "            var icon_b610ded55bbbc1b6b8db3a6c98dc7dd5 = L.AwesomeMarkers.icon(\n",
       "                {\n",
       "  &quot;markerColor&quot;: &quot;darkblue&quot;,\n",
       "  &quot;iconColor&quot;: &quot;white&quot;,\n",
       "  &quot;icon&quot;: &quot;info-sign&quot;,\n",
       "  &quot;prefix&quot;: &quot;glyphicon&quot;,\n",
       "  &quot;extraClasses&quot;: &quot;fa-rotate-0&quot;,\n",
       "}\n",
       "            );\n",
       "            marker_fb83cab09e00052da65ce69be478e090.setIcon(icon_b610ded55bbbc1b6b8db3a6c98dc7dd5);\n",
       "        \n",
       "    \n",
       "        var popup_b64e01db22adf0184f321d61f4df7a44 = L.popup({\n",
       "  &quot;maxWidth&quot;: &quot;100%&quot;,\n",
       "});\n",
       "\n",
       "        \n",
       "            \n",
       "                var html_c8164327b679dbee1ba4aed76caa4f78 = $(`&lt;div id=&quot;html_c8164327b679dbee1ba4aed76caa4f78&quot; style=&quot;width: 100.0%; height: 100.0%;&quot;&gt;La Ronda&lt;/div&gt;`)[0];\n",
       "                popup_b64e01db22adf0184f321d61f4df7a44.setContent(html_c8164327b679dbee1ba4aed76caa4f78);\n",
       "            \n",
       "        \n",
       "\n",
       "        marker_fb83cab09e00052da65ce69be478e090.bindPopup(popup_b64e01db22adf0184f321d61f4df7a44)\n",
       "        ;\n",
       "\n",
       "        \n",
       "    \n",
       "    \n",
       "            var marker_1fb74761452a68dcf0bbda1c8447c0ce = L.marker(\n",
       "                [23.11469533090789, -82.38140701647916],\n",
       "                {\n",
       "}\n",
       "            ).addTo(map_eac3e686e37a9ed8ab94d2de922915a2);\n",
       "        \n",
       "    \n",
       "            var icon_a680c8b900950f0ef4e8e6f39523ee53 = L.AwesomeMarkers.icon(\n",
       "                {\n",
       "  &quot;markerColor&quot;: &quot;darkblue&quot;,\n",
       "  &quot;iconColor&quot;: &quot;white&quot;,\n",
       "  &quot;icon&quot;: &quot;info-sign&quot;,\n",
       "  &quot;prefix&quot;: &quot;glyphicon&quot;,\n",
       "  &quot;extraClasses&quot;: &quot;fa-rotate-0&quot;,\n",
       "}\n",
       "            );\n",
       "            marker_1fb74761452a68dcf0bbda1c8447c0ce.setIcon(icon_a680c8b900950f0ef4e8e6f39523ee53);\n",
       "        \n",
       "    \n",
       "        var popup_8284af1696ccb9b3857aa30f2f13a799 = L.popup({\n",
       "  &quot;maxWidth&quot;: &quot;100%&quot;,\n",
       "});\n",
       "\n",
       "        \n",
       "            \n",
       "                var html_fb1810354635300aaad32f3e373e6fd7 = $(`&lt;div id=&quot;html_fb1810354635300aaad32f3e373e6fd7&quot; style=&quot;width: 100.0%; height: 100.0%;&quot;&gt;La Casona del Cerro&lt;/div&gt;`)[0];\n",
       "                popup_8284af1696ccb9b3857aa30f2f13a799.setContent(html_fb1810354635300aaad32f3e373e6fd7);\n",
       "            \n",
       "        \n",
       "\n",
       "        marker_1fb74761452a68dcf0bbda1c8447c0ce.bindPopup(popup_8284af1696ccb9b3857aa30f2f13a799)\n",
       "        ;\n",
       "\n",
       "        \n",
       "    \n",
       "    \n",
       "            var marker_9993321282b17b7ce6e801b0acb3d627 = L.marker(\n",
       "                [23.105644168847277, -82.44212999530603],\n",
       "                {\n",
       "}\n",
       "            ).addTo(map_eac3e686e37a9ed8ab94d2de922915a2);\n",
       "        \n",
       "    \n",
       "            var icon_79913a9b5f0946e4c909c5956e8fd3c3 = L.AwesomeMarkers.icon(\n",
       "                {\n",
       "  &quot;markerColor&quot;: &quot;darkblue&quot;,\n",
       "  &quot;iconColor&quot;: &quot;white&quot;,\n",
       "  &quot;icon&quot;: &quot;info-sign&quot;,\n",
       "  &quot;prefix&quot;: &quot;glyphicon&quot;,\n",
       "  &quot;extraClasses&quot;: &quot;fa-rotate-0&quot;,\n",
       "}\n",
       "            );\n",
       "            marker_9993321282b17b7ce6e801b0acb3d627.setIcon(icon_79913a9b5f0946e4c909c5956e8fd3c3);\n",
       "        \n",
       "    \n",
       "        var popup_f02328a68d57359c11655d38cf1aa731 = L.popup({\n",
       "  &quot;maxWidth&quot;: &quot;100%&quot;,\n",
       "});\n",
       "\n",
       "        \n",
       "            \n",
       "                var html_a2caf75ce7c9aa1ab8559fd959453bc4 = $(`&lt;div id=&quot;html_a2caf75ce7c9aa1ab8559fd959453bc4&quot; style=&quot;width: 100.0%; height: 100.0%;&quot;&gt;La Catrina&lt;/div&gt;`)[0];\n",
       "                popup_f02328a68d57359c11655d38cf1aa731.setContent(html_a2caf75ce7c9aa1ab8559fd959453bc4);\n",
       "            \n",
       "        \n",
       "\n",
       "        marker_9993321282b17b7ce6e801b0acb3d627.bindPopup(popup_f02328a68d57359c11655d38cf1aa731)\n",
       "        ;\n",
       "\n",
       "        \n",
       "    \n",
       "    \n",
       "            var marker_a723f1c5a4aeac1dd401b5682a3e9506 = L.marker(\n",
       "                [23.113948715307984, -82.42577878487478],\n",
       "                {\n",
       "}\n",
       "            ).addTo(map_eac3e686e37a9ed8ab94d2de922915a2);\n",
       "        \n",
       "    \n",
       "            var icon_6a97607cdb42361649d6f7d294dfa7a0 = L.AwesomeMarkers.icon(\n",
       "                {\n",
       "  &quot;markerColor&quot;: &quot;darkblue&quot;,\n",
       "  &quot;iconColor&quot;: &quot;white&quot;,\n",
       "  &quot;icon&quot;: &quot;info-sign&quot;,\n",
       "  &quot;prefix&quot;: &quot;glyphicon&quot;,\n",
       "  &quot;extraClasses&quot;: &quot;fa-rotate-0&quot;,\n",
       "}\n",
       "            );\n",
       "            marker_a723f1c5a4aeac1dd401b5682a3e9506.setIcon(icon_6a97607cdb42361649d6f7d294dfa7a0);\n",
       "        \n",
       "    \n",
       "        var popup_48ae67afb90665df33d6548d1e9178f6 = L.popup({\n",
       "  &quot;maxWidth&quot;: &quot;100%&quot;,\n",
       "});\n",
       "\n",
       "        \n",
       "            \n",
       "                var html_05906b63b7630625b9299f2515e58ecf = $(`&lt;div id=&quot;html_05906b63b7630625b9299f2515e58ecf&quot; style=&quot;width: 100.0%; height: 100.0%;&quot;&gt;La Chucheria&lt;/div&gt;`)[0];\n",
       "                popup_48ae67afb90665df33d6548d1e9178f6.setContent(html_05906b63b7630625b9299f2515e58ecf);\n",
       "            \n",
       "        \n",
       "\n",
       "        marker_a723f1c5a4aeac1dd401b5682a3e9506.bindPopup(popup_48ae67afb90665df33d6548d1e9178f6)\n",
       "        ;\n",
       "\n",
       "        \n",
       "    \n",
       "    \n",
       "            var marker_2352d5ad2459a7f335a1a0b4b1393dde = L.marker(\n",
       "                [23.099966714430586, -82.37927216484684],\n",
       "                {\n",
       "}\n",
       "            ).addTo(map_eac3e686e37a9ed8ab94d2de922915a2);\n",
       "        \n",
       "    \n",
       "            var icon_642bf3111326301a08077a5aef6b9154 = L.AwesomeMarkers.icon(\n",
       "                {\n",
       "  &quot;markerColor&quot;: &quot;darkblue&quot;,\n",
       "  &quot;iconColor&quot;: &quot;white&quot;,\n",
       "  &quot;icon&quot;: &quot;info-sign&quot;,\n",
       "  &quot;prefix&quot;: &quot;glyphicon&quot;,\n",
       "  &quot;extraClasses&quot;: &quot;fa-rotate-0&quot;,\n",
       "}\n",
       "            );\n",
       "            marker_2352d5ad2459a7f335a1a0b4b1393dde.setIcon(icon_642bf3111326301a08077a5aef6b9154);\n",
       "        \n",
       "    \n",
       "        var popup_56078c2a74fc087cd1423789dfc4261e = L.popup({\n",
       "  &quot;maxWidth&quot;: &quot;100%&quot;,\n",
       "});\n",
       "\n",
       "        \n",
       "            \n",
       "                var html_8aef5cf52d589e4722a248a2c66dbdde = $(`&lt;div id=&quot;html_8aef5cf52d589e4722a248a2c66dbdde&quot; style=&quot;width: 100.0%; height: 100.0%;&quot;&gt;La Esquinita&lt;/div&gt;`)[0];\n",
       "                popup_56078c2a74fc087cd1423789dfc4261e.setContent(html_8aef5cf52d589e4722a248a2c66dbdde);\n",
       "            \n",
       "        \n",
       "\n",
       "        marker_2352d5ad2459a7f335a1a0b4b1393dde.bindPopup(popup_56078c2a74fc087cd1423789dfc4261e)\n",
       "        ;\n",
       "\n",
       "        \n",
       "    \n",
       "    \n",
       "            var marker_7d9172e4ba874e16e02e46c51fec0d29 = L.marker(\n",
       "                [23.13770661497965, -82.35930123279326],\n",
       "                {\n",
       "}\n",
       "            ).addTo(map_eac3e686e37a9ed8ab94d2de922915a2);\n",
       "        \n",
       "    \n",
       "            var icon_d531898317f026f7e5b7ea2c9465aad4 = L.AwesomeMarkers.icon(\n",
       "                {\n",
       "  &quot;markerColor&quot;: &quot;darkblue&quot;,\n",
       "  &quot;iconColor&quot;: &quot;white&quot;,\n",
       "  &quot;icon&quot;: &quot;info-sign&quot;,\n",
       "  &quot;prefix&quot;: &quot;glyphicon&quot;,\n",
       "  &quot;extraClasses&quot;: &quot;fa-rotate-0&quot;,\n",
       "}\n",
       "            );\n",
       "            marker_7d9172e4ba874e16e02e46c51fec0d29.setIcon(icon_d531898317f026f7e5b7ea2c9465aad4);\n",
       "        \n",
       "    \n",
       "        var popup_098543bb5abd3e0e14adda9bbfed37a2 = L.popup({\n",
       "  &quot;maxWidth&quot;: &quot;100%&quot;,\n",
       "});\n",
       "\n",
       "        \n",
       "            \n",
       "                var html_7398c5bb39b90e90224aeb25fe8a0068 = $(`&lt;div id=&quot;html_7398c5bb39b90e90224aeb25fe8a0068&quot; style=&quot;width: 100.0%; height: 100.0%;&quot;&gt;La Francesa&lt;/div&gt;`)[0];\n",
       "                popup_098543bb5abd3e0e14adda9bbfed37a2.setContent(html_7398c5bb39b90e90224aeb25fe8a0068);\n",
       "            \n",
       "        \n",
       "\n",
       "        marker_7d9172e4ba874e16e02e46c51fec0d29.bindPopup(popup_098543bb5abd3e0e14adda9bbfed37a2)\n",
       "        ;\n",
       "\n",
       "        \n",
       "    \n",
       "    \n",
       "            var marker_6a621d546d4813bce3b41c6e81f535fa = L.marker(\n",
       "                [22.967133915154772, -82.38463772280829],\n",
       "                {\n",
       "}\n",
       "            ).addTo(map_eac3e686e37a9ed8ab94d2de922915a2);\n",
       "        \n",
       "    \n",
       "            var icon_ba0ea138caf2d13a0ce264cdfb574d92 = L.AwesomeMarkers.icon(\n",
       "                {\n",
       "  &quot;markerColor&quot;: &quot;darkblue&quot;,\n",
       "  &quot;iconColor&quot;: &quot;white&quot;,\n",
       "  &quot;icon&quot;: &quot;info-sign&quot;,\n",
       "  &quot;prefix&quot;: &quot;glyphicon&quot;,\n",
       "  &quot;extraClasses&quot;: &quot;fa-rotate-0&quot;,\n",
       "}\n",
       "            );\n",
       "            marker_6a621d546d4813bce3b41c6e81f535fa.setIcon(icon_ba0ea138caf2d13a0ce264cdfb574d92);\n",
       "        \n",
       "    \n",
       "        var popup_228dff2830291fb2650585edc5a76524 = L.popup({\n",
       "  &quot;maxWidth&quot;: &quot;100%&quot;,\n",
       "});\n",
       "\n",
       "        \n",
       "            \n",
       "                var html_1e4aeadcbff6b3f0f710f371abb44bc9 = $(`&lt;div id=&quot;html_1e4aeadcbff6b3f0f710f371abb44bc9&quot; style=&quot;width: 100.0%; height: 100.0%;&quot;&gt;La Gordy&lt;/div&gt;`)[0];\n",
       "                popup_228dff2830291fb2650585edc5a76524.setContent(html_1e4aeadcbff6b3f0f710f371abb44bc9);\n",
       "            \n",
       "        \n",
       "\n",
       "        marker_6a621d546d4813bce3b41c6e81f535fa.bindPopup(popup_228dff2830291fb2650585edc5a76524)\n",
       "        ;\n",
       "\n",
       "        \n",
       "    \n",
       "    \n",
       "            var marker_0c27cca17e414dee97e8b084f6633c91 = L.marker(\n",
       "                [23.114066413722455, -82.43957767341712],\n",
       "                {\n",
       "}\n",
       "            ).addTo(map_eac3e686e37a9ed8ab94d2de922915a2);\n",
       "        \n",
       "    \n",
       "            var icon_7e02cbb64e368ceb515424be48d8838d = L.AwesomeMarkers.icon(\n",
       "                {\n",
       "  &quot;markerColor&quot;: &quot;darkblue&quot;,\n",
       "  &quot;iconColor&quot;: &quot;white&quot;,\n",
       "  &quot;icon&quot;: &quot;info-sign&quot;,\n",
       "  &quot;prefix&quot;: &quot;glyphicon&quot;,\n",
       "  &quot;extraClasses&quot;: &quot;fa-rotate-0&quot;,\n",
       "}\n",
       "            );\n",
       "            marker_0c27cca17e414dee97e8b084f6633c91.setIcon(icon_7e02cbb64e368ceb515424be48d8838d);\n",
       "        \n",
       "    \n",
       "        var popup_4e8178319e05d907c2a757ad3cfdf6b0 = L.popup({\n",
       "  &quot;maxWidth&quot;: &quot;100%&quot;,\n",
       "});\n",
       "\n",
       "        \n",
       "            \n",
       "                var html_4d0c9580c1c5d0f1551441b7325be7d1 = $(`&lt;div id=&quot;html_4d0c9580c1c5d0f1551441b7325be7d1&quot; style=&quot;width: 100.0%; height: 100.0%;&quot;&gt;La Marina&lt;/div&gt;`)[0];\n",
       "                popup_4e8178319e05d907c2a757ad3cfdf6b0.setContent(html_4d0c9580c1c5d0f1551441b7325be7d1);\n",
       "            \n",
       "        \n",
       "\n",
       "        marker_0c27cca17e414dee97e8b084f6633c91.bindPopup(popup_4e8178319e05d907c2a757ad3cfdf6b0)\n",
       "        ;\n",
       "\n",
       "        \n",
       "    \n",
       "    \n",
       "            var marker_b87359b4b4c3aa5b73c6338218ca6857 = L.marker(\n",
       "                [23.07138320836101, -82.4600607155514],\n",
       "                {\n",
       "}\n",
       "            ).addTo(map_eac3e686e37a9ed8ab94d2de922915a2);\n",
       "        \n",
       "    \n",
       "            var icon_89a1f61821c0464a5a7eb3f4448293e6 = L.AwesomeMarkers.icon(\n",
       "                {\n",
       "  &quot;markerColor&quot;: &quot;darkblue&quot;,\n",
       "  &quot;iconColor&quot;: &quot;white&quot;,\n",
       "  &quot;icon&quot;: &quot;info-sign&quot;,\n",
       "  &quot;prefix&quot;: &quot;glyphicon&quot;,\n",
       "  &quot;extraClasses&quot;: &quot;fa-rotate-0&quot;,\n",
       "}\n",
       "            );\n",
       "            marker_b87359b4b4c3aa5b73c6338218ca6857.setIcon(icon_89a1f61821c0464a5a7eb3f4448293e6);\n",
       "        \n",
       "    \n",
       "        var popup_9cd09fa5c90c14aa6085810ff7f41548 = L.popup({\n",
       "  &quot;maxWidth&quot;: &quot;100%&quot;,\n",
       "});\n",
       "\n",
       "        \n",
       "            \n",
       "                var html_95f26644c3aa3f41021cfb6d4343e2d7 = $(`&lt;div id=&quot;html_95f26644c3aa3f41021cfb6d4343e2d7&quot; style=&quot;width: 100.0%; height: 100.0%;&quot;&gt;La Mia Pizza&lt;/div&gt;`)[0];\n",
       "                popup_9cd09fa5c90c14aa6085810ff7f41548.setContent(html_95f26644c3aa3f41021cfb6d4343e2d7);\n",
       "            \n",
       "        \n",
       "\n",
       "        marker_b87359b4b4c3aa5b73c6338218ca6857.bindPopup(popup_9cd09fa5c90c14aa6085810ff7f41548)\n",
       "        ;\n",
       "\n",
       "        \n",
       "    \n",
       "    \n",
       "            var marker_617512b14dd9a0afca434653db6a72a0 = L.marker(\n",
       "                [23.025201021634437, -82.46433927310295],\n",
       "                {\n",
       "}\n",
       "            ).addTo(map_eac3e686e37a9ed8ab94d2de922915a2);\n",
       "        \n",
       "    \n",
       "            var icon_7b9a936abffdc8d4f2609e1720d7c9d9 = L.AwesomeMarkers.icon(\n",
       "                {\n",
       "  &quot;markerColor&quot;: &quot;darkblue&quot;,\n",
       "  &quot;iconColor&quot;: &quot;white&quot;,\n",
       "  &quot;icon&quot;: &quot;info-sign&quot;,\n",
       "  &quot;prefix&quot;: &quot;glyphicon&quot;,\n",
       "  &quot;extraClasses&quot;: &quot;fa-rotate-0&quot;,\n",
       "}\n",
       "            );\n",
       "            marker_617512b14dd9a0afca434653db6a72a0.setIcon(icon_7b9a936abffdc8d4f2609e1720d7c9d9);\n",
       "        \n",
       "    \n",
       "        var popup_cf886588c71156857d76831802bfdbfa = L.popup({\n",
       "  &quot;maxWidth&quot;: &quot;100%&quot;,\n",
       "});\n",
       "\n",
       "        \n",
       "            \n",
       "                var html_b83c88439a42b6193f973afc2f45726e = $(`&lt;div id=&quot;html_b83c88439a42b6193f973afc2f45726e&quot; style=&quot;width: 100.0%; height: 100.0%;&quot;&gt;La Novia&lt;/div&gt;`)[0];\n",
       "                popup_cf886588c71156857d76831802bfdbfa.setContent(html_b83c88439a42b6193f973afc2f45726e);\n",
       "            \n",
       "        \n",
       "\n",
       "        marker_617512b14dd9a0afca434653db6a72a0.bindPopup(popup_cf886588c71156857d76831802bfdbfa)\n",
       "        ;\n",
       "\n",
       "        \n",
       "    \n",
       "    \n",
       "            var marker_100ef80e9e47cfb4bc0cbc36fe7daa60 = L.marker(\n",
       "                [23.0906213981348, -82.37667411357992],\n",
       "                {\n",
       "}\n",
       "            ).addTo(map_eac3e686e37a9ed8ab94d2de922915a2);\n",
       "        \n",
       "    \n",
       "            var icon_065c9a65f8cbe89af1608510000e0614 = L.AwesomeMarkers.icon(\n",
       "                {\n",
       "  &quot;markerColor&quot;: &quot;darkblue&quot;,\n",
       "  &quot;iconColor&quot;: &quot;white&quot;,\n",
       "  &quot;icon&quot;: &quot;info-sign&quot;,\n",
       "  &quot;prefix&quot;: &quot;glyphicon&quot;,\n",
       "  &quot;extraClasses&quot;: &quot;fa-rotate-0&quot;,\n",
       "}\n",
       "            );\n",
       "            marker_100ef80e9e47cfb4bc0cbc36fe7daa60.setIcon(icon_065c9a65f8cbe89af1608510000e0614);\n",
       "        \n",
       "    \n",
       "        var popup_2cd0c0eabf582acb5ece59c7b06f587e = L.popup({\n",
       "  &quot;maxWidth&quot;: &quot;100%&quot;,\n",
       "});\n",
       "\n",
       "        \n",
       "            \n",
       "                var html_4ec904295e1b8140d71f693c7e446b36 = $(`&lt;div id=&quot;html_4ec904295e1b8140d71f693c7e446b36&quot; style=&quot;width: 100.0%; height: 100.0%;&quot;&gt;La Patrona&lt;/div&gt;`)[0];\n",
       "                popup_2cd0c0eabf582acb5ece59c7b06f587e.setContent(html_4ec904295e1b8140d71f693c7e446b36);\n",
       "            \n",
       "        \n",
       "\n",
       "        marker_100ef80e9e47cfb4bc0cbc36fe7daa60.bindPopup(popup_2cd0c0eabf582acb5ece59c7b06f587e)\n",
       "        ;\n",
       "\n",
       "        \n",
       "    \n",
       "    \n",
       "            var marker_eddfbc28e4bb07e57ee5a1ab9f9fd72c = L.marker(\n",
       "                [23.14216967937676, -82.35348719182778],\n",
       "                {\n",
       "}\n",
       "            ).addTo(map_eac3e686e37a9ed8ab94d2de922915a2);\n",
       "        \n",
       "    \n",
       "            var icon_2c495d35aabc30963ad3182f37b1b93e = L.AwesomeMarkers.icon(\n",
       "                {\n",
       "  &quot;markerColor&quot;: &quot;darkblue&quot;,\n",
       "  &quot;iconColor&quot;: &quot;white&quot;,\n",
       "  &quot;icon&quot;: &quot;info-sign&quot;,\n",
       "  &quot;prefix&quot;: &quot;glyphicon&quot;,\n",
       "  &quot;extraClasses&quot;: &quot;fa-rotate-0&quot;,\n",
       "}\n",
       "            );\n",
       "            marker_eddfbc28e4bb07e57ee5a1ab9f9fd72c.setIcon(icon_2c495d35aabc30963ad3182f37b1b93e);\n",
       "        \n",
       "    \n",
       "        var popup_5c7ae85a88bd4fd0eb8f2cef551e922e = L.popup({\n",
       "  &quot;maxWidth&quot;: &quot;100%&quot;,\n",
       "});\n",
       "\n",
       "        \n",
       "            \n",
       "                var html_763fe8db0ae3da0b8089efa7eaea76b6 = $(`&lt;div id=&quot;html_763fe8db0ae3da0b8089efa7eaea76b6&quot; style=&quot;width: 100.0%; height: 100.0%;&quot;&gt;La República&lt;/div&gt;`)[0];\n",
       "                popup_5c7ae85a88bd4fd0eb8f2cef551e922e.setContent(html_763fe8db0ae3da0b8089efa7eaea76b6);\n",
       "            \n",
       "        \n",
       "\n",
       "        marker_eddfbc28e4bb07e57ee5a1ab9f9fd72c.bindPopup(popup_5c7ae85a88bd4fd0eb8f2cef551e922e)\n",
       "        ;\n",
       "\n",
       "        \n",
       "    \n",
       "    \n",
       "            var marker_77ce5064f03ab1d1f7d2004c75110c90 = L.marker(\n",
       "                [23.09090965711562, -82.37153742065038],\n",
       "                {\n",
       "}\n",
       "            ).addTo(map_eac3e686e37a9ed8ab94d2de922915a2);\n",
       "        \n",
       "    \n",
       "            var icon_d7914ac0372a43f343d986377e3cebca = L.AwesomeMarkers.icon(\n",
       "                {\n",
       "  &quot;markerColor&quot;: &quot;darkblue&quot;,\n",
       "  &quot;iconColor&quot;: &quot;white&quot;,\n",
       "  &quot;icon&quot;: &quot;info-sign&quot;,\n",
       "  &quot;prefix&quot;: &quot;glyphicon&quot;,\n",
       "  &quot;extraClasses&quot;: &quot;fa-rotate-0&quot;,\n",
       "}\n",
       "            );\n",
       "            marker_77ce5064f03ab1d1f7d2004c75110c90.setIcon(icon_d7914ac0372a43f343d986377e3cebca);\n",
       "        \n",
       "    \n",
       "        var popup_3dafc9754574512a0f6a976f00b134ee = L.popup({\n",
       "  &quot;maxWidth&quot;: &quot;100%&quot;,\n",
       "});\n",
       "\n",
       "        \n",
       "            \n",
       "                var html_4b8d92e015da7c7008b5923ba7b5ee78 = $(`&lt;div id=&quot;html_4b8d92e015da7c7008b5923ba7b5ee78&quot; style=&quot;width: 100.0%; height: 100.0%;&quot;&gt;La Rosa De Ortega&lt;/div&gt;`)[0];\n",
       "                popup_3dafc9754574512a0f6a976f00b134ee.setContent(html_4b8d92e015da7c7008b5923ba7b5ee78);\n",
       "            \n",
       "        \n",
       "\n",
       "        marker_77ce5064f03ab1d1f7d2004c75110c90.bindPopup(popup_3dafc9754574512a0f6a976f00b134ee)\n",
       "        ;\n",
       "\n",
       "        \n",
       "    \n",
       "    \n",
       "            var marker_99c692bf079d95b0b273441db71f90fc = L.marker(\n",
       "                [23.167411943757887, -82.29565904965052],\n",
       "                {\n",
       "}\n",
       "            ).addTo(map_eac3e686e37a9ed8ab94d2de922915a2);\n",
       "        \n",
       "    \n",
       "            var icon_4875c04d3a650272e5a6f6f65ca6c25d = L.AwesomeMarkers.icon(\n",
       "                {\n",
       "  &quot;markerColor&quot;: &quot;darkblue&quot;,\n",
       "  &quot;iconColor&quot;: &quot;white&quot;,\n",
       "  &quot;icon&quot;: &quot;info-sign&quot;,\n",
       "  &quot;prefix&quot;: &quot;glyphicon&quot;,\n",
       "  &quot;extraClasses&quot;: &quot;fa-rotate-0&quot;,\n",
       "}\n",
       "            );\n",
       "            marker_99c692bf079d95b0b273441db71f90fc.setIcon(icon_4875c04d3a650272e5a6f6f65ca6c25d);\n",
       "        \n",
       "    \n",
       "        var popup_367106850f9c566b1fd0186590147a59 = L.popup({\n",
       "  &quot;maxWidth&quot;: &quot;100%&quot;,\n",
       "});\n",
       "\n",
       "        \n",
       "            \n",
       "                var html_b31dcabfd22d08a1cadc245cb073b986 = $(`&lt;div id=&quot;html_b31dcabfd22d08a1cadc245cb073b986&quot; style=&quot;width: 100.0%; height: 100.0%;&quot;&gt;La ruta de Hemingway&lt;/div&gt;`)[0];\n",
       "                popup_367106850f9c566b1fd0186590147a59.setContent(html_b31dcabfd22d08a1cadc245cb073b986);\n",
       "            \n",
       "        \n",
       "\n",
       "        marker_99c692bf079d95b0b273441db71f90fc.bindPopup(popup_367106850f9c566b1fd0186590147a59)\n",
       "        ;\n",
       "\n",
       "        \n",
       "    \n",
       "    \n",
       "            var marker_ae2547f9b8b6fd8ccc308777583d5aa2 = L.marker(\n",
       "                [23.139161565291754, -82.35008076299259],\n",
       "                {\n",
       "}\n",
       "            ).addTo(map_eac3e686e37a9ed8ab94d2de922915a2);\n",
       "        \n",
       "    \n",
       "            var icon_c42f281b2d954b55d09baddbc4543b7c = L.AwesomeMarkers.icon(\n",
       "                {\n",
       "  &quot;markerColor&quot;: &quot;darkblue&quot;,\n",
       "  &quot;iconColor&quot;: &quot;white&quot;,\n",
       "  &quot;icon&quot;: &quot;info-sign&quot;,\n",
       "  &quot;prefix&quot;: &quot;glyphicon&quot;,\n",
       "  &quot;extraClasses&quot;: &quot;fa-rotate-0&quot;,\n",
       "}\n",
       "            );\n",
       "            marker_ae2547f9b8b6fd8ccc308777583d5aa2.setIcon(icon_c42f281b2d954b55d09baddbc4543b7c);\n",
       "        \n",
       "    \n",
       "        var popup_a084492064eddede6bbf89f0aaf02129 = L.popup({\n",
       "  &quot;maxWidth&quot;: &quot;100%&quot;,\n",
       "});\n",
       "\n",
       "        \n",
       "            \n",
       "                var html_03959af381d9998c0c479b52d7532f0a = $(`&lt;div id=&quot;html_03959af381d9998c0c479b52d7532f0a&quot; style=&quot;width: 100.0%; height: 100.0%;&quot;&gt;La Torre De Marfil&lt;/div&gt;`)[0];\n",
       "                popup_a084492064eddede6bbf89f0aaf02129.setContent(html_03959af381d9998c0c479b52d7532f0a);\n",
       "            \n",
       "        \n",
       "\n",
       "        marker_ae2547f9b8b6fd8ccc308777583d5aa2.bindPopup(popup_a084492064eddede6bbf89f0aaf02129)\n",
       "        ;\n",
       "\n",
       "        \n",
       "    \n",
       "    \n",
       "            var marker_118497235ccb4274715de200f865cb29 = L.marker(\n",
       "                [23.081534878689336, -82.42156649198839],\n",
       "                {\n",
       "}\n",
       "            ).addTo(map_eac3e686e37a9ed8ab94d2de922915a2);\n",
       "        \n",
       "    \n",
       "            var icon_c926c6afde34e84df3893b9e031143a5 = L.AwesomeMarkers.icon(\n",
       "                {\n",
       "  &quot;markerColor&quot;: &quot;darkblue&quot;,\n",
       "  &quot;iconColor&quot;: &quot;white&quot;,\n",
       "  &quot;icon&quot;: &quot;info-sign&quot;,\n",
       "  &quot;prefix&quot;: &quot;glyphicon&quot;,\n",
       "  &quot;extraClasses&quot;: &quot;fa-rotate-0&quot;,\n",
       "}\n",
       "            );\n",
       "            marker_118497235ccb4274715de200f865cb29.setIcon(icon_c926c6afde34e84df3893b9e031143a5);\n",
       "        \n",
       "    \n",
       "        var popup_863fe1e7d88902d83d02de22aeb3a193 = L.popup({\n",
       "  &quot;maxWidth&quot;: &quot;100%&quot;,\n",
       "});\n",
       "\n",
       "        \n",
       "            \n",
       "                var html_a9d1a5b6c317e2cdbff17ba3f45314c3 = $(`&lt;div id=&quot;html_a9d1a5b6c317e2cdbff17ba3f45314c3&quot; style=&quot;width: 100.0%; height: 100.0%;&quot;&gt;La Yaya&lt;/div&gt;`)[0];\n",
       "                popup_863fe1e7d88902d83d02de22aeb3a193.setContent(html_a9d1a5b6c317e2cdbff17ba3f45314c3);\n",
       "            \n",
       "        \n",
       "\n",
       "        marker_118497235ccb4274715de200f865cb29.bindPopup(popup_863fe1e7d88902d83d02de22aeb3a193)\n",
       "        ;\n",
       "\n",
       "        \n",
       "    \n",
       "    \n",
       "            var marker_4847f68efb1f4743b58b1f8b3db0dceb = L.marker(\n",
       "                [23.119358590376347, -82.37193704950933],\n",
       "                {\n",
       "}\n",
       "            ).addTo(map_eac3e686e37a9ed8ab94d2de922915a2);\n",
       "        \n",
       "    \n",
       "            var icon_e9780411886d52ba9b41e576cfdf82a5 = L.AwesomeMarkers.icon(\n",
       "                {\n",
       "  &quot;markerColor&quot;: &quot;darkblue&quot;,\n",
       "  &quot;iconColor&quot;: &quot;white&quot;,\n",
       "  &quot;icon&quot;: &quot;info-sign&quot;,\n",
       "  &quot;prefix&quot;: &quot;glyphicon&quot;,\n",
       "  &quot;extraClasses&quot;: &quot;fa-rotate-0&quot;,\n",
       "}\n",
       "            );\n",
       "            marker_4847f68efb1f4743b58b1f8b3db0dceb.setIcon(icon_e9780411886d52ba9b41e576cfdf82a5);\n",
       "        \n",
       "    \n",
       "        var popup_6fa2b771e02c4a63ed0447d2ef9c9d85 = L.popup({\n",
       "  &quot;maxWidth&quot;: &quot;100%&quot;,\n",
       "});\n",
       "\n",
       "        \n",
       "            \n",
       "                var html_60154bac19104889440bd169efb8b361 = $(`&lt;div id=&quot;html_60154bac19104889440bd169efb8b361&quot; style=&quot;width: 100.0%; height: 100.0%;&quot;&gt;Leyendhabana&lt;/div&gt;`)[0];\n",
       "                popup_6fa2b771e02c4a63ed0447d2ef9c9d85.setContent(html_60154bac19104889440bd169efb8b361);\n",
       "            \n",
       "        \n",
       "\n",
       "        marker_4847f68efb1f4743b58b1f8b3db0dceb.bindPopup(popup_6fa2b771e02c4a63ed0447d2ef9c9d85)\n",
       "        ;\n",
       "\n",
       "        \n",
       "    \n",
       "    \n",
       "            var marker_9b4047c50e2651e5607ce0eb7998d5fa = L.marker(\n",
       "                [23.141360421965942, -82.35554676484041],\n",
       "                {\n",
       "}\n",
       "            ).addTo(map_eac3e686e37a9ed8ab94d2de922915a2);\n",
       "        \n",
       "    \n",
       "            var icon_9d21eff412984489ea6e472472a53290 = L.AwesomeMarkers.icon(\n",
       "                {\n",
       "  &quot;markerColor&quot;: &quot;darkblue&quot;,\n",
       "  &quot;iconColor&quot;: &quot;white&quot;,\n",
       "  &quot;icon&quot;: &quot;info-sign&quot;,\n",
       "  &quot;prefix&quot;: &quot;glyphicon&quot;,\n",
       "  &quot;extraClasses&quot;: &quot;fa-rotate-0&quot;,\n",
       "}\n",
       "            );\n",
       "            marker_9b4047c50e2651e5607ce0eb7998d5fa.setIcon(icon_9d21eff412984489ea6e472472a53290);\n",
       "        \n",
       "    \n",
       "        var popup_d66a7899de1eaa84caead46e9e6f602b = L.popup({\n",
       "  &quot;maxWidth&quot;: &quot;100%&quot;,\n",
       "});\n",
       "\n",
       "        \n",
       "            \n",
       "                var html_3ecb0da0c01222757ed0417a7c7e4cf9 = $(`&lt;div id=&quot;html_3ecb0da0c01222757ed0417a7c7e4cf9&quot; style=&quot;width: 100.0%; height: 100.0%;&quot;&gt;Lo de Monik&lt;/div&gt;`)[0];\n",
       "                popup_d66a7899de1eaa84caead46e9e6f602b.setContent(html_3ecb0da0c01222757ed0417a7c7e4cf9);\n",
       "            \n",
       "        \n",
       "\n",
       "        marker_9b4047c50e2651e5607ce0eb7998d5fa.bindPopup(popup_d66a7899de1eaa84caead46e9e6f602b)\n",
       "        ;\n",
       "\n",
       "        \n",
       "    \n",
       "    \n",
       "            var marker_fb75a3c05015d1d73f6bdc3e6a46475e = L.marker(\n",
       "                [23.149876102274252, -82.3559954456767],\n",
       "                {\n",
       "}\n",
       "            ).addTo(map_eac3e686e37a9ed8ab94d2de922915a2);\n",
       "        \n",
       "    \n",
       "            var icon_8f2a57c302d2683a0c12601e6373d041 = L.AwesomeMarkers.icon(\n",
       "                {\n",
       "  &quot;markerColor&quot;: &quot;darkblue&quot;,\n",
       "  &quot;iconColor&quot;: &quot;white&quot;,\n",
       "  &quot;icon&quot;: &quot;info-sign&quot;,\n",
       "  &quot;prefix&quot;: &quot;glyphicon&quot;,\n",
       "  &quot;extraClasses&quot;: &quot;fa-rotate-0&quot;,\n",
       "}\n",
       "            );\n",
       "            marker_fb75a3c05015d1d73f6bdc3e6a46475e.setIcon(icon_8f2a57c302d2683a0c12601e6373d041);\n",
       "        \n",
       "    \n",
       "        var popup_924ece29442b0fc59721bc5b9c16a794 = L.popup({\n",
       "  &quot;maxWidth&quot;: &quot;100%&quot;,\n",
       "});\n",
       "\n",
       "        \n",
       "            \n",
       "                var html_992f8d889d295dcb5b1ed65d10a02a17 = $(`&lt;div id=&quot;html_992f8d889d295dcb5b1ed65d10a02a17&quot; style=&quot;width: 100.0%; height: 100.0%;&quot;&gt;Los Doce Apóstoles&lt;/div&gt;`)[0];\n",
       "                popup_924ece29442b0fc59721bc5b9c16a794.setContent(html_992f8d889d295dcb5b1ed65d10a02a17);\n",
       "            \n",
       "        \n",
       "\n",
       "        marker_fb75a3c05015d1d73f6bdc3e6a46475e.bindPopup(popup_924ece29442b0fc59721bc5b9c16a794)\n",
       "        ;\n",
       "\n",
       "        \n",
       "    \n",
       "    \n",
       "            var marker_0d31bd5ab10d91be590c839b14a539ce = L.marker(\n",
       "                [23.08427961422461, -82.43597367849351],\n",
       "                {\n",
       "}\n",
       "            ).addTo(map_eac3e686e37a9ed8ab94d2de922915a2);\n",
       "        \n",
       "    \n",
       "            var icon_868e2b4ede19dc34ac30fc006184c9f3 = L.AwesomeMarkers.icon(\n",
       "                {\n",
       "  &quot;markerColor&quot;: &quot;darkblue&quot;,\n",
       "  &quot;iconColor&quot;: &quot;white&quot;,\n",
       "  &quot;icon&quot;: &quot;info-sign&quot;,\n",
       "  &quot;prefix&quot;: &quot;glyphicon&quot;,\n",
       "  &quot;extraClasses&quot;: &quot;fa-rotate-0&quot;,\n",
       "}\n",
       "            );\n",
       "            marker_0d31bd5ab10d91be590c839b14a539ce.setIcon(icon_868e2b4ede19dc34ac30fc006184c9f3);\n",
       "        \n",
       "    \n",
       "        var popup_425d7c2a59291ca6637843436b168718 = L.popup({\n",
       "  &quot;maxWidth&quot;: &quot;100%&quot;,\n",
       "});\n",
       "\n",
       "        \n",
       "            \n",
       "                var html_8410ea6293c09737277fc6f091b24ca4 = $(`&lt;div id=&quot;html_8410ea6293c09737277fc6f091b24ca4&quot; style=&quot;width: 100.0%; height: 100.0%;&quot;&gt;Los Taticos&lt;/div&gt;`)[0];\n",
       "                popup_425d7c2a59291ca6637843436b168718.setContent(html_8410ea6293c09737277fc6f091b24ca4);\n",
       "            \n",
       "        \n",
       "\n",
       "        marker_0d31bd5ab10d91be590c839b14a539ce.bindPopup(popup_425d7c2a59291ca6637843436b168718)\n",
       "        ;\n",
       "\n",
       "        \n",
       "    \n",
       "    \n",
       "            var marker_27511c9a822bb8c562a19d6311a4d7dd = L.marker(\n",
       "                [23.121788587624902, -82.4257877361619],\n",
       "                {\n",
       "}\n",
       "            ).addTo(map_eac3e686e37a9ed8ab94d2de922915a2);\n",
       "        \n",
       "    \n",
       "            var icon_4aef6623857119aab43997807bc5884d = L.AwesomeMarkers.icon(\n",
       "                {\n",
       "  &quot;markerColor&quot;: &quot;darkblue&quot;,\n",
       "  &quot;iconColor&quot;: &quot;white&quot;,\n",
       "  &quot;icon&quot;: &quot;info-sign&quot;,\n",
       "  &quot;prefix&quot;: &quot;glyphicon&quot;,\n",
       "  &quot;extraClasses&quot;: &quot;fa-rotate-0&quot;,\n",
       "}\n",
       "            );\n",
       "            marker_27511c9a822bb8c562a19d6311a4d7dd.setIcon(icon_4aef6623857119aab43997807bc5884d);\n",
       "        \n",
       "    \n",
       "        var popup_d8c420572ce231d1a7a5cbfc918bd2d4 = L.popup({\n",
       "  &quot;maxWidth&quot;: &quot;100%&quot;,\n",
       "});\n",
       "\n",
       "        \n",
       "            \n",
       "                var html_46fad850b81163989f004ac62aaa9186 = $(`&lt;div id=&quot;html_46fad850b81163989f004ac62aaa9186&quot; style=&quot;width: 100.0%; height: 100.0%;&quot;&gt;Luly Bar Café&lt;/div&gt;`)[0];\n",
       "                popup_d8c420572ce231d1a7a5cbfc918bd2d4.setContent(html_46fad850b81163989f004ac62aaa9186);\n",
       "            \n",
       "        \n",
       "\n",
       "        marker_27511c9a822bb8c562a19d6311a4d7dd.bindPopup(popup_d8c420572ce231d1a7a5cbfc918bd2d4)\n",
       "        ;\n",
       "\n",
       "        \n",
       "    \n",
       "    \n",
       "            var marker_c2c382fc999f222015123cc148d279fb = L.marker(\n",
       "                [23.093509305513987, -82.36480264180305],\n",
       "                {\n",
       "}\n",
       "            ).addTo(map_eac3e686e37a9ed8ab94d2de922915a2);\n",
       "        \n",
       "    \n",
       "            var icon_456295d8ff2a96d33515bad064556035 = L.AwesomeMarkers.icon(\n",
       "                {\n",
       "  &quot;markerColor&quot;: &quot;darkblue&quot;,\n",
       "  &quot;iconColor&quot;: &quot;white&quot;,\n",
       "  &quot;icon&quot;: &quot;info-sign&quot;,\n",
       "  &quot;prefix&quot;: &quot;glyphicon&quot;,\n",
       "  &quot;extraClasses&quot;: &quot;fa-rotate-0&quot;,\n",
       "}\n",
       "            );\n",
       "            marker_c2c382fc999f222015123cc148d279fb.setIcon(icon_456295d8ff2a96d33515bad064556035);\n",
       "        \n",
       "    \n",
       "        var popup_1227fb90f78582313ccbd3617b19d2d6 = L.popup({\n",
       "  &quot;maxWidth&quot;: &quot;100%&quot;,\n",
       "});\n",
       "\n",
       "        \n",
       "            \n",
       "                var html_e809e2cd0cb42f49674cf99585942269 = $(`&lt;div id=&quot;html_e809e2cd0cb42f49674cf99585942269&quot; style=&quot;width: 100.0%; height: 100.0%;&quot;&gt;Luly Hamburguesas&lt;/div&gt;`)[0];\n",
       "                popup_1227fb90f78582313ccbd3617b19d2d6.setContent(html_e809e2cd0cb42f49674cf99585942269);\n",
       "            \n",
       "        \n",
       "\n",
       "        marker_c2c382fc999f222015123cc148d279fb.bindPopup(popup_1227fb90f78582313ccbd3617b19d2d6)\n",
       "        ;\n",
       "\n",
       "        \n",
       "    \n",
       "    \n",
       "            var marker_d4eb857a221b10e13137e57199466543 = L.marker(\n",
       "                [23.047306531006058, -82.2683502866321],\n",
       "                {\n",
       "}\n",
       "            ).addTo(map_eac3e686e37a9ed8ab94d2de922915a2);\n",
       "        \n",
       "    \n",
       "            var icon_e69d5be8146d52aaf7e147ed69f18c91 = L.AwesomeMarkers.icon(\n",
       "                {\n",
       "  &quot;markerColor&quot;: &quot;darkblue&quot;,\n",
       "  &quot;iconColor&quot;: &quot;white&quot;,\n",
       "  &quot;icon&quot;: &quot;info-sign&quot;,\n",
       "  &quot;prefix&quot;: &quot;glyphicon&quot;,\n",
       "  &quot;extraClasses&quot;: &quot;fa-rotate-0&quot;,\n",
       "}\n",
       "            );\n",
       "            marker_d4eb857a221b10e13137e57199466543.setIcon(icon_e69d5be8146d52aaf7e147ed69f18c91);\n",
       "        \n",
       "    \n",
       "        var popup_f9d7349e9611a014a3a9a687a2c0e7ac = L.popup({\n",
       "  &quot;maxWidth&quot;: &quot;100%&quot;,\n",
       "});\n",
       "\n",
       "        \n",
       "            \n",
       "                var html_712d3392f6bc0ce751dfb1ed538d8487 = $(`&lt;div id=&quot;html_712d3392f6bc0ce751dfb1ed538d8487&quot; style=&quot;width: 100.0%; height: 100.0%;&quot;&gt;Martínez Club&lt;/div&gt;`)[0];\n",
       "                popup_f9d7349e9611a014a3a9a687a2c0e7ac.setContent(html_712d3392f6bc0ce751dfb1ed538d8487);\n",
       "            \n",
       "        \n",
       "\n",
       "        marker_d4eb857a221b10e13137e57199466543.bindPopup(popup_f9d7349e9611a014a3a9a687a2c0e7ac)\n",
       "        ;\n",
       "\n",
       "        \n",
       "    \n",
       "    \n",
       "            var marker_acef4b963c4deb65751e648a17f218bf = L.marker(\n",
       "                [23.142433620136078, -82.39923307575508],\n",
       "                {\n",
       "}\n",
       "            ).addTo(map_eac3e686e37a9ed8ab94d2de922915a2);\n",
       "        \n",
       "    \n",
       "            var icon_6d0ca6f1e4e40284b2890e7014965ec7 = L.AwesomeMarkers.icon(\n",
       "                {\n",
       "  &quot;markerColor&quot;: &quot;darkblue&quot;,\n",
       "  &quot;iconColor&quot;: &quot;white&quot;,\n",
       "  &quot;icon&quot;: &quot;info-sign&quot;,\n",
       "  &quot;prefix&quot;: &quot;glyphicon&quot;,\n",
       "  &quot;extraClasses&quot;: &quot;fa-rotate-0&quot;,\n",
       "}\n",
       "            );\n",
       "            marker_acef4b963c4deb65751e648a17f218bf.setIcon(icon_6d0ca6f1e4e40284b2890e7014965ec7);\n",
       "        \n",
       "    \n",
       "        var popup_1f06c31fee68e15c68850a04a9ca16c6 = L.popup({\n",
       "  &quot;maxWidth&quot;: &quot;100%&quot;,\n",
       "});\n",
       "\n",
       "        \n",
       "            \n",
       "                var html_e2a66d6c847fa88174a2963aeeaf9726 = $(`&lt;div id=&quot;html_e2a66d6c847fa88174a2963aeeaf9726&quot; style=&quot;width: 100.0%; height: 100.0%;&quot;&gt;Mar Adentro&lt;/div&gt;`)[0];\n",
       "                popup_1f06c31fee68e15c68850a04a9ca16c6.setContent(html_e2a66d6c847fa88174a2963aeeaf9726);\n",
       "            \n",
       "        \n",
       "\n",
       "        marker_acef4b963c4deb65751e648a17f218bf.bindPopup(popup_1f06c31fee68e15c68850a04a9ca16c6)\n",
       "        ;\n",
       "\n",
       "        \n",
       "    \n",
       "    \n",
       "            var marker_bb94888f3d7e626e391ad8fbb9d779c2 = L.marker(\n",
       "                [23.052069154835742, -82.27571196298325],\n",
       "                {\n",
       "}\n",
       "            ).addTo(map_eac3e686e37a9ed8ab94d2de922915a2);\n",
       "        \n",
       "    \n",
       "            var icon_d697cfbaeeeb883380263691cd912406 = L.AwesomeMarkers.icon(\n",
       "                {\n",
       "  &quot;markerColor&quot;: &quot;darkblue&quot;,\n",
       "  &quot;iconColor&quot;: &quot;white&quot;,\n",
       "  &quot;icon&quot;: &quot;info-sign&quot;,\n",
       "  &quot;prefix&quot;: &quot;glyphicon&quot;,\n",
       "  &quot;extraClasses&quot;: &quot;fa-rotate-0&quot;,\n",
       "}\n",
       "            );\n",
       "            marker_bb94888f3d7e626e391ad8fbb9d779c2.setIcon(icon_d697cfbaeeeb883380263691cd912406);\n",
       "        \n",
       "    \n",
       "        var popup_16516b93f8fb89eb1572f748da10ee73 = L.popup({\n",
       "  &quot;maxWidth&quot;: &quot;100%&quot;,\n",
       "});\n",
       "\n",
       "        \n",
       "            \n",
       "                var html_7a2bdf05e1cc2db5c5ba4428fb91d86e = $(`&lt;div id=&quot;html_7a2bdf05e1cc2db5c5ba4428fb91d86e&quot; style=&quot;width: 100.0%; height: 100.0%;&quot;&gt;McCesar&#x27;s&lt;/div&gt;`)[0];\n",
       "                popup_16516b93f8fb89eb1572f748da10ee73.setContent(html_7a2bdf05e1cc2db5c5ba4428fb91d86e);\n",
       "            \n",
       "        \n",
       "\n",
       "        marker_bb94888f3d7e626e391ad8fbb9d779c2.bindPopup(popup_16516b93f8fb89eb1572f748da10ee73)\n",
       "        ;\n",
       "\n",
       "        \n",
       "    \n",
       "    \n",
       "            var marker_73f2c110bf29a357fb37e0df62f45e43 = L.marker(\n",
       "                [23.117726284857962, -82.4422860238811],\n",
       "                {\n",
       "}\n",
       "            ).addTo(map_eac3e686e37a9ed8ab94d2de922915a2);\n",
       "        \n",
       "    \n",
       "            var icon_28773bce5614b65a54f422a910d29810 = L.AwesomeMarkers.icon(\n",
       "                {\n",
       "  &quot;markerColor&quot;: &quot;darkblue&quot;,\n",
       "  &quot;iconColor&quot;: &quot;white&quot;,\n",
       "  &quot;icon&quot;: &quot;info-sign&quot;,\n",
       "  &quot;prefix&quot;: &quot;glyphicon&quot;,\n",
       "  &quot;extraClasses&quot;: &quot;fa-rotate-0&quot;,\n",
       "}\n",
       "            );\n",
       "            marker_73f2c110bf29a357fb37e0df62f45e43.setIcon(icon_28773bce5614b65a54f422a910d29810);\n",
       "        \n",
       "    \n",
       "        var popup_6d69a25c869866edd1bdcb375bb7181c = L.popup({\n",
       "  &quot;maxWidth&quot;: &quot;100%&quot;,\n",
       "});\n",
       "\n",
       "        \n",
       "            \n",
       "                var html_c9940cb2b9f041ae219baed89e7744b7 = $(`&lt;div id=&quot;html_c9940cb2b9f041ae219baed89e7744b7&quot; style=&quot;width: 100.0%; height: 100.0%;&quot;&gt;Mercy bar&lt;/div&gt;`)[0];\n",
       "                popup_6d69a25c869866edd1bdcb375bb7181c.setContent(html_c9940cb2b9f041ae219baed89e7744b7);\n",
       "            \n",
       "        \n",
       "\n",
       "        marker_73f2c110bf29a357fb37e0df62f45e43.bindPopup(popup_6d69a25c869866edd1bdcb375bb7181c)\n",
       "        ;\n",
       "\n",
       "        \n",
       "    \n",
       "    \n",
       "            var marker_d2f0c7cb41ccf1f5dcf6774f44325a2b = L.marker(\n",
       "                [23.089222353439702, -82.36048697833665],\n",
       "                {\n",
       "}\n",
       "            ).addTo(map_eac3e686e37a9ed8ab94d2de922915a2);\n",
       "        \n",
       "    \n",
       "            var icon_3e9eb2f3e4fa94d89121d73119695bbe = L.AwesomeMarkers.icon(\n",
       "                {\n",
       "  &quot;markerColor&quot;: &quot;darkblue&quot;,\n",
       "  &quot;iconColor&quot;: &quot;white&quot;,\n",
       "  &quot;icon&quot;: &quot;info-sign&quot;,\n",
       "  &quot;prefix&quot;: &quot;glyphicon&quot;,\n",
       "  &quot;extraClasses&quot;: &quot;fa-rotate-0&quot;,\n",
       "}\n",
       "            );\n",
       "            marker_d2f0c7cb41ccf1f5dcf6774f44325a2b.setIcon(icon_3e9eb2f3e4fa94d89121d73119695bbe);\n",
       "        \n",
       "    \n",
       "        var popup_e59c3b14204c574dae6693593fc54716 = L.popup({\n",
       "  &quot;maxWidth&quot;: &quot;100%&quot;,\n",
       "});\n",
       "\n",
       "        \n",
       "            \n",
       "                var html_4dd211351846557d99ff4545afdec34f = $(`&lt;div id=&quot;html_4dd211351846557d99ff4545afdec34f&quot; style=&quot;width: 100.0%; height: 100.0%;&quot;&gt;Mirador de Acosta&lt;/div&gt;`)[0];\n",
       "                popup_e59c3b14204c574dae6693593fc54716.setContent(html_4dd211351846557d99ff4545afdec34f);\n",
       "            \n",
       "        \n",
       "\n",
       "        marker_d2f0c7cb41ccf1f5dcf6774f44325a2b.bindPopup(popup_e59c3b14204c574dae6693593fc54716)\n",
       "        ;\n",
       "\n",
       "        \n",
       "    \n",
       "    \n",
       "            var marker_b72cf82b83c2d23b8b4135a4508f2a64 = L.marker(\n",
       "                [23.044400677473934, -82.26562109644043],\n",
       "                {\n",
       "}\n",
       "            ).addTo(map_eac3e686e37a9ed8ab94d2de922915a2);\n",
       "        \n",
       "    \n",
       "            var icon_5b7b5501c97770e123333dd988425852 = L.AwesomeMarkers.icon(\n",
       "                {\n",
       "  &quot;markerColor&quot;: &quot;darkblue&quot;,\n",
       "  &quot;iconColor&quot;: &quot;white&quot;,\n",
       "  &quot;icon&quot;: &quot;info-sign&quot;,\n",
       "  &quot;prefix&quot;: &quot;glyphicon&quot;,\n",
       "  &quot;extraClasses&quot;: &quot;fa-rotate-0&quot;,\n",
       "}\n",
       "            );\n",
       "            marker_b72cf82b83c2d23b8b4135a4508f2a64.setIcon(icon_5b7b5501c97770e123333dd988425852);\n",
       "        \n",
       "    \n",
       "        var popup_63d7dbebcfb3c9438b873259256921f2 = L.popup({\n",
       "  &quot;maxWidth&quot;: &quot;100%&quot;,\n",
       "});\n",
       "\n",
       "        \n",
       "            \n",
       "                var html_c85cc58c747f559a412f39e79cddfe52 = $(`&lt;div id=&quot;html_c85cc58c747f559a412f39e79cddfe52&quot; style=&quot;width: 100.0%; height: 100.0%;&quot;&gt;Mi terraza&lt;/div&gt;`)[0];\n",
       "                popup_63d7dbebcfb3c9438b873259256921f2.setContent(html_c85cc58c747f559a412f39e79cddfe52);\n",
       "            \n",
       "        \n",
       "\n",
       "        marker_b72cf82b83c2d23b8b4135a4508f2a64.bindPopup(popup_63d7dbebcfb3c9438b873259256921f2)\n",
       "        ;\n",
       "\n",
       "        \n",
       "    \n",
       "    \n",
       "            var marker_c2c5f021b2570e63397522f4f6dc8524 = L.marker(\n",
       "                [23.120752030449403, -82.43046798998091],\n",
       "                {\n",
       "}\n",
       "            ).addTo(map_eac3e686e37a9ed8ab94d2de922915a2);\n",
       "        \n",
       "    \n",
       "            var icon_750f03e2a754aa252b7f099bd491439e = L.AwesomeMarkers.icon(\n",
       "                {\n",
       "  &quot;markerColor&quot;: &quot;darkblue&quot;,\n",
       "  &quot;iconColor&quot;: &quot;white&quot;,\n",
       "  &quot;icon&quot;: &quot;info-sign&quot;,\n",
       "  &quot;prefix&quot;: &quot;glyphicon&quot;,\n",
       "  &quot;extraClasses&quot;: &quot;fa-rotate-0&quot;,\n",
       "}\n",
       "            );\n",
       "            marker_c2c5f021b2570e63397522f4f6dc8524.setIcon(icon_750f03e2a754aa252b7f099bd491439e);\n",
       "        \n",
       "    \n",
       "        var popup_962bdc48b4a168c85bceba9eef9f83dc = L.popup({\n",
       "  &quot;maxWidth&quot;: &quot;100%&quot;,\n",
       "});\n",
       "\n",
       "        \n",
       "            \n",
       "                var html_efc85b7968eb3b525a182d95c94821a9 = $(`&lt;div id=&quot;html_efc85b7968eb3b525a182d95c94821a9&quot; style=&quot;width: 100.0%; height: 100.0%;&quot;&gt;MM&lt;/div&gt;`)[0];\n",
       "                popup_962bdc48b4a168c85bceba9eef9f83dc.setContent(html_efc85b7968eb3b525a182d95c94821a9);\n",
       "            \n",
       "        \n",
       "\n",
       "        marker_c2c5f021b2570e63397522f4f6dc8524.bindPopup(popup_962bdc48b4a168c85bceba9eef9f83dc)\n",
       "        ;\n",
       "\n",
       "        \n",
       "    \n",
       "    \n",
       "            var marker_5a9573e6323d534d415a638a7ac834b2 = L.marker(\n",
       "                [23.089493726076963, -82.42170004354693],\n",
       "                {\n",
       "}\n",
       "            ).addTo(map_eac3e686e37a9ed8ab94d2de922915a2);\n",
       "        \n",
       "    \n",
       "            var icon_0aa967ea4beb4348ae478c215bb29ef1 = L.AwesomeMarkers.icon(\n",
       "                {\n",
       "  &quot;markerColor&quot;: &quot;darkblue&quot;,\n",
       "  &quot;iconColor&quot;: &quot;white&quot;,\n",
       "  &quot;icon&quot;: &quot;info-sign&quot;,\n",
       "  &quot;prefix&quot;: &quot;glyphicon&quot;,\n",
       "  &quot;extraClasses&quot;: &quot;fa-rotate-0&quot;,\n",
       "}\n",
       "            );\n",
       "            marker_5a9573e6323d534d415a638a7ac834b2.setIcon(icon_0aa967ea4beb4348ae478c215bb29ef1);\n",
       "        \n",
       "    \n",
       "        var popup_024483c4a1d87967c3f9df51f55cfe1e = L.popup({\n",
       "  &quot;maxWidth&quot;: &quot;100%&quot;,\n",
       "});\n",
       "\n",
       "        \n",
       "            \n",
       "                var html_efc4168ea105798d0f2d140692e60d1d = $(`&lt;div id=&quot;html_efc4168ea105798d0f2d140692e60d1d&quot; style=&quot;width: 100.0%; height: 100.0%;&quot;&gt;MM Cafeteria&lt;/div&gt;`)[0];\n",
       "                popup_024483c4a1d87967c3f9df51f55cfe1e.setContent(html_efc4168ea105798d0f2d140692e60d1d);\n",
       "            \n",
       "        \n",
       "\n",
       "        marker_5a9573e6323d534d415a638a7ac834b2.bindPopup(popup_024483c4a1d87967c3f9df51f55cfe1e)\n",
       "        ;\n",
       "\n",
       "        \n",
       "    \n",
       "    \n",
       "            var marker_ec80b80b2d84f8ecbf89109be51ed56c = L.marker(\n",
       "                [23.11213749973173, -82.41048087665507],\n",
       "                {\n",
       "}\n",
       "            ).addTo(map_eac3e686e37a9ed8ab94d2de922915a2);\n",
       "        \n",
       "    \n",
       "            var icon_bf58f2a8e76b80fcb5a9ee72988b9538 = L.AwesomeMarkers.icon(\n",
       "                {\n",
       "  &quot;markerColor&quot;: &quot;darkblue&quot;,\n",
       "  &quot;iconColor&quot;: &quot;white&quot;,\n",
       "  &quot;icon&quot;: &quot;info-sign&quot;,\n",
       "  &quot;prefix&quot;: &quot;glyphicon&quot;,\n",
       "  &quot;extraClasses&quot;: &quot;fa-rotate-0&quot;,\n",
       "}\n",
       "            );\n",
       "            marker_ec80b80b2d84f8ecbf89109be51ed56c.setIcon(icon_bf58f2a8e76b80fcb5a9ee72988b9538);\n",
       "        \n",
       "    \n",
       "        var popup_ffc4aa641afc42d426041fb241d16c5d = L.popup({\n",
       "  &quot;maxWidth&quot;: &quot;100%&quot;,\n",
       "});\n",
       "\n",
       "        \n",
       "            \n",
       "                var html_4ba0f2a091fb1dd266b8706f22377d20 = $(`&lt;div id=&quot;html_4ba0f2a091fb1dd266b8706f22377d20&quot; style=&quot;width: 100.0%; height: 100.0%;&quot;&gt;Mokalex&lt;/div&gt;`)[0];\n",
       "                popup_ffc4aa641afc42d426041fb241d16c5d.setContent(html_4ba0f2a091fb1dd266b8706f22377d20);\n",
       "            \n",
       "        \n",
       "\n",
       "        marker_ec80b80b2d84f8ecbf89109be51ed56c.bindPopup(popup_ffc4aa641afc42d426041fb241d16c5d)\n",
       "        ;\n",
       "\n",
       "        \n",
       "    \n",
       "    \n",
       "            var marker_3ba6150a0823081233d77cc1ee7b9eac = L.marker(\n",
       "                [23.13771148492377, -82.36400171839173],\n",
       "                {\n",
       "}\n",
       "            ).addTo(map_eac3e686e37a9ed8ab94d2de922915a2);\n",
       "        \n",
       "    \n",
       "            var icon_fdbf0e633eeaaa44881890b14bd75246 = L.AwesomeMarkers.icon(\n",
       "                {\n",
       "  &quot;markerColor&quot;: &quot;darkblue&quot;,\n",
       "  &quot;iconColor&quot;: &quot;white&quot;,\n",
       "  &quot;icon&quot;: &quot;info-sign&quot;,\n",
       "  &quot;prefix&quot;: &quot;glyphicon&quot;,\n",
       "  &quot;extraClasses&quot;: &quot;fa-rotate-0&quot;,\n",
       "}\n",
       "            );\n",
       "            marker_3ba6150a0823081233d77cc1ee7b9eac.setIcon(icon_fdbf0e633eeaaa44881890b14bd75246);\n",
       "        \n",
       "    \n",
       "        var popup_ec18a88099dfb83cc50c05ccc8664a28 = L.popup({\n",
       "  &quot;maxWidth&quot;: &quot;100%&quot;,\n",
       "});\n",
       "\n",
       "        \n",
       "            \n",
       "                var html_1f07b2462885fe2fdb9738ab174033ed = $(`&lt;div id=&quot;html_1f07b2462885fe2fdb9738ab174033ed&quot; style=&quot;width: 100.0%; height: 100.0%;&quot;&gt;Mundo Pizza&lt;/div&gt;`)[0];\n",
       "                popup_ec18a88099dfb83cc50c05ccc8664a28.setContent(html_1f07b2462885fe2fdb9738ab174033ed);\n",
       "            \n",
       "        \n",
       "\n",
       "        marker_3ba6150a0823081233d77cc1ee7b9eac.bindPopup(popup_ec18a88099dfb83cc50c05ccc8664a28)\n",
       "        ;\n",
       "\n",
       "        \n",
       "    \n",
       "    \n",
       "            var marker_3d460d23aea53dfae46db3351bca9a91 = L.marker(\n",
       "                [23.140326626649397, -82.35251446299252],\n",
       "                {\n",
       "}\n",
       "            ).addTo(map_eac3e686e37a9ed8ab94d2de922915a2);\n",
       "        \n",
       "    \n",
       "            var icon_0710514f1b3bef416b7074247e0a6b7e = L.AwesomeMarkers.icon(\n",
       "                {\n",
       "  &quot;markerColor&quot;: &quot;darkblue&quot;,\n",
       "  &quot;iconColor&quot;: &quot;white&quot;,\n",
       "  &quot;icon&quot;: &quot;info-sign&quot;,\n",
       "  &quot;prefix&quot;: &quot;glyphicon&quot;,\n",
       "  &quot;extraClasses&quot;: &quot;fa-rotate-0&quot;,\n",
       "}\n",
       "            );\n",
       "            marker_3d460d23aea53dfae46db3351bca9a91.setIcon(icon_0710514f1b3bef416b7074247e0a6b7e);\n",
       "        \n",
       "    \n",
       "        var popup_2184213eb1b385c1578d341986eacce5 = L.popup({\n",
       "  &quot;maxWidth&quot;: &quot;100%&quot;,\n",
       "});\n",
       "\n",
       "        \n",
       "            \n",
       "                var html_9adc16cb059907d87ce1b6f1acdcc590 = $(`&lt;div id=&quot;html_9adc16cb059907d87ce1b6f1acdcc590&quot; style=&quot;width: 100.0%; height: 100.0%;&quot;&gt;Mythos&lt;/div&gt;`)[0];\n",
       "                popup_2184213eb1b385c1578d341986eacce5.setContent(html_9adc16cb059907d87ce1b6f1acdcc590);\n",
       "            \n",
       "        \n",
       "\n",
       "        marker_3d460d23aea53dfae46db3351bca9a91.bindPopup(popup_2184213eb1b385c1578d341986eacce5)\n",
       "        ;\n",
       "\n",
       "        \n",
       "    \n",
       "    \n",
       "            var marker_a4a608f5de35289850f024fd5ab27db6 = L.marker(\n",
       "                [23.089346944948087, -82.36006598018456],\n",
       "                {\n",
       "}\n",
       "            ).addTo(map_eac3e686e37a9ed8ab94d2de922915a2);\n",
       "        \n",
       "    \n",
       "            var icon_7cbc988f03a0b0220a0f45dc6a5eb71b = L.AwesomeMarkers.icon(\n",
       "                {\n",
       "  &quot;markerColor&quot;: &quot;darkblue&quot;,\n",
       "  &quot;iconColor&quot;: &quot;white&quot;,\n",
       "  &quot;icon&quot;: &quot;info-sign&quot;,\n",
       "  &quot;prefix&quot;: &quot;glyphicon&quot;,\n",
       "  &quot;extraClasses&quot;: &quot;fa-rotate-0&quot;,\n",
       "}\n",
       "            );\n",
       "            marker_a4a608f5de35289850f024fd5ab27db6.setIcon(icon_7cbc988f03a0b0220a0f45dc6a5eb71b);\n",
       "        \n",
       "    \n",
       "        var popup_8b8a2ebaba450283d7e80669e553f937 = L.popup({\n",
       "  &quot;maxWidth&quot;: &quot;100%&quot;,\n",
       "});\n",
       "\n",
       "        \n",
       "            \n",
       "                var html_4aa49d48b4b10e32f358a65a451f93fd = $(`&lt;div id=&quot;html_4aa49d48b4b10e32f358a65a451f93fd&quot; style=&quot;width: 100.0%; height: 100.0%;&quot;&gt;Nel Paradiso&lt;/div&gt;`)[0];\n",
       "                popup_8b8a2ebaba450283d7e80669e553f937.setContent(html_4aa49d48b4b10e32f358a65a451f93fd);\n",
       "            \n",
       "        \n",
       "\n",
       "        marker_a4a608f5de35289850f024fd5ab27db6.bindPopup(popup_8b8a2ebaba450283d7e80669e553f937)\n",
       "        ;\n",
       "\n",
       "        \n",
       "    \n",
       "    \n",
       "            var marker_17f9980ab4fd2146420f8bcb5bab8b0c = L.marker(\n",
       "                [23.043767256568298, -82.25328207851484],\n",
       "                {\n",
       "}\n",
       "            ).addTo(map_eac3e686e37a9ed8ab94d2de922915a2);\n",
       "        \n",
       "    \n",
       "            var icon_6b7afcde02942e2efc97f3b040c9dd37 = L.AwesomeMarkers.icon(\n",
       "                {\n",
       "  &quot;markerColor&quot;: &quot;darkblue&quot;,\n",
       "  &quot;iconColor&quot;: &quot;white&quot;,\n",
       "  &quot;icon&quot;: &quot;info-sign&quot;,\n",
       "  &quot;prefix&quot;: &quot;glyphicon&quot;,\n",
       "  &quot;extraClasses&quot;: &quot;fa-rotate-0&quot;,\n",
       "}\n",
       "            );\n",
       "            marker_17f9980ab4fd2146420f8bcb5bab8b0c.setIcon(icon_6b7afcde02942e2efc97f3b040c9dd37);\n",
       "        \n",
       "    \n",
       "        var popup_d2a8274b37e18e4dcb18386d5cec2aeb = L.popup({\n",
       "  &quot;maxWidth&quot;: &quot;100%&quot;,\n",
       "});\n",
       "\n",
       "        \n",
       "            \n",
       "                var html_493db1666592380aa5525afdc1e7d345 = $(`&lt;div id=&quot;html_493db1666592380aa5525afdc1e7d345&quot; style=&quot;width: 100.0%; height: 100.0%;&quot;&gt;Ole Ole&lt;/div&gt;`)[0];\n",
       "                popup_d2a8274b37e18e4dcb18386d5cec2aeb.setContent(html_493db1666592380aa5525afdc1e7d345);\n",
       "            \n",
       "        \n",
       "\n",
       "        marker_17f9980ab4fd2146420f8bcb5bab8b0c.bindPopup(popup_d2a8274b37e18e4dcb18386d5cec2aeb)\n",
       "        ;\n",
       "\n",
       "        \n",
       "    \n",
       "    \n",
       "            var marker_77868b5327f06e1688f1ad8558091db6 = L.marker(\n",
       "                [23.11917180897718, -82.41453997132663],\n",
       "                {\n",
       "}\n",
       "            ).addTo(map_eac3e686e37a9ed8ab94d2de922915a2);\n",
       "        \n",
       "    \n",
       "            var icon_5a54d3f29e0b71392f21831a2031a288 = L.AwesomeMarkers.icon(\n",
       "                {\n",
       "  &quot;markerColor&quot;: &quot;darkblue&quot;,\n",
       "  &quot;iconColor&quot;: &quot;white&quot;,\n",
       "  &quot;icon&quot;: &quot;info-sign&quot;,\n",
       "  &quot;prefix&quot;: &quot;glyphicon&quot;,\n",
       "  &quot;extraClasses&quot;: &quot;fa-rotate-0&quot;,\n",
       "}\n",
       "            );\n",
       "            marker_77868b5327f06e1688f1ad8558091db6.setIcon(icon_5a54d3f29e0b71392f21831a2031a288);\n",
       "        \n",
       "    \n",
       "        var popup_18f72b42db9ae33ec63d64f5d641b444 = L.popup({\n",
       "  &quot;maxWidth&quot;: &quot;100%&quot;,\n",
       "});\n",
       "\n",
       "        \n",
       "            \n",
       "                var html_9d59bf2339f845fcf7c3fb4c429fe589 = $(`&lt;div id=&quot;html_9d59bf2339f845fcf7c3fb4c429fe589&quot; style=&quot;width: 100.0%; height: 100.0%;&quot;&gt;Otra manera&lt;/div&gt;`)[0];\n",
       "                popup_18f72b42db9ae33ec63d64f5d641b444.setContent(html_9d59bf2339f845fcf7c3fb4c429fe589);\n",
       "            \n",
       "        \n",
       "\n",
       "        marker_77868b5327f06e1688f1ad8558091db6.bindPopup(popup_18f72b42db9ae33ec63d64f5d641b444)\n",
       "        ;\n",
       "\n",
       "        \n",
       "    \n",
       "    \n",
       "            var marker_d3bfd589ce333e57babc6953e40ba1ce = L.marker(\n",
       "                [23.03093446114541, -82.26395872798486],\n",
       "                {\n",
       "}\n",
       "            ).addTo(map_eac3e686e37a9ed8ab94d2de922915a2);\n",
       "        \n",
       "    \n",
       "            var icon_1397b9a9ce98dfd39e1bb08c97f53544 = L.AwesomeMarkers.icon(\n",
       "                {\n",
       "  &quot;markerColor&quot;: &quot;darkblue&quot;,\n",
       "  &quot;iconColor&quot;: &quot;white&quot;,\n",
       "  &quot;icon&quot;: &quot;info-sign&quot;,\n",
       "  &quot;prefix&quot;: &quot;glyphicon&quot;,\n",
       "  &quot;extraClasses&quot;: &quot;fa-rotate-0&quot;,\n",
       "}\n",
       "            );\n",
       "            marker_d3bfd589ce333e57babc6953e40ba1ce.setIcon(icon_1397b9a9ce98dfd39e1bb08c97f53544);\n",
       "        \n",
       "    \n",
       "        var popup_69053a7d0d53a0caf8fdea1da530dd21 = L.popup({\n",
       "  &quot;maxWidth&quot;: &quot;100%&quot;,\n",
       "});\n",
       "\n",
       "        \n",
       "            \n",
       "                var html_eed38a94822df0a5c281338d9d7fed3e = $(`&lt;div id=&quot;html_eed38a94822df0a5c281338d9d7fed3e&quot; style=&quot;width: 100.0%; height: 100.0%;&quot;&gt;Pal&#x27;Karajo&lt;/div&gt;`)[0];\n",
       "                popup_69053a7d0d53a0caf8fdea1da530dd21.setContent(html_eed38a94822df0a5c281338d9d7fed3e);\n",
       "            \n",
       "        \n",
       "\n",
       "        marker_d3bfd589ce333e57babc6953e40ba1ce.bindPopup(popup_69053a7d0d53a0caf8fdea1da530dd21)\n",
       "        ;\n",
       "\n",
       "        \n",
       "    \n",
       "    \n",
       "            var marker_f55da308ddca8bda37e5cd038a068059 = L.marker(\n",
       "                [23.117985952744846, -82.41582832900848],\n",
       "                {\n",
       "}\n",
       "            ).addTo(map_eac3e686e37a9ed8ab94d2de922915a2);\n",
       "        \n",
       "    \n",
       "            var icon_c09b25f0c23aaf1b60679d786e5580d8 = L.AwesomeMarkers.icon(\n",
       "                {\n",
       "  &quot;markerColor&quot;: &quot;darkblue&quot;,\n",
       "  &quot;iconColor&quot;: &quot;white&quot;,\n",
       "  &quot;icon&quot;: &quot;info-sign&quot;,\n",
       "  &quot;prefix&quot;: &quot;glyphicon&quot;,\n",
       "  &quot;extraClasses&quot;: &quot;fa-rotate-0&quot;,\n",
       "}\n",
       "            );\n",
       "            marker_f55da308ddca8bda37e5cd038a068059.setIcon(icon_c09b25f0c23aaf1b60679d786e5580d8);\n",
       "        \n",
       "    \n",
       "        var popup_2454013102272e4a27487599d80a78aa = L.popup({\n",
       "  &quot;maxWidth&quot;: &quot;100%&quot;,\n",
       "});\n",
       "\n",
       "        \n",
       "            \n",
       "                var html_d97c03988a87fe1611e76c60b1593165 = $(`&lt;div id=&quot;html_d97c03988a87fe1611e76c60b1593165&quot; style=&quot;width: 100.0%; height: 100.0%;&quot;&gt;Pechatniky&lt;/div&gt;`)[0];\n",
       "                popup_2454013102272e4a27487599d80a78aa.setContent(html_d97c03988a87fe1611e76c60b1593165);\n",
       "            \n",
       "        \n",
       "\n",
       "        marker_f55da308ddca8bda37e5cd038a068059.bindPopup(popup_2454013102272e4a27487599d80a78aa)\n",
       "        ;\n",
       "\n",
       "        \n",
       "    \n",
       "    \n",
       "            var marker_785a5e23f9927508939130a68d740e2b = L.marker(\n",
       "                [23.136930631399565, -82.36181409182808],\n",
       "                {\n",
       "}\n",
       "            ).addTo(map_eac3e686e37a9ed8ab94d2de922915a2);\n",
       "        \n",
       "    \n",
       "            var icon_8d97f0bf649b9f976662c08e1290702d = L.AwesomeMarkers.icon(\n",
       "                {\n",
       "  &quot;markerColor&quot;: &quot;darkblue&quot;,\n",
       "  &quot;iconColor&quot;: &quot;white&quot;,\n",
       "  &quot;icon&quot;: &quot;info-sign&quot;,\n",
       "  &quot;prefix&quot;: &quot;glyphicon&quot;,\n",
       "  &quot;extraClasses&quot;: &quot;fa-rotate-0&quot;,\n",
       "}\n",
       "            );\n",
       "            marker_785a5e23f9927508939130a68d740e2b.setIcon(icon_8d97f0bf649b9f976662c08e1290702d);\n",
       "        \n",
       "    \n",
       "        var popup_e4d547ae0bd30d609e95d126ee3945d8 = L.popup({\n",
       "  &quot;maxWidth&quot;: &quot;100%&quot;,\n",
       "});\n",
       "\n",
       "        \n",
       "            \n",
       "                var html_c2345b76f748c0cd5e3e737fb0e98bad = $(`&lt;div id=&quot;html_c2345b76f748c0cd5e3e737fb0e98bad&quot; style=&quot;width: 100.0%; height: 100.0%;&quot;&gt;Pedro&#x27;s Bar&lt;/div&gt;`)[0];\n",
       "                popup_e4d547ae0bd30d609e95d126ee3945d8.setContent(html_c2345b76f748c0cd5e3e737fb0e98bad);\n",
       "            \n",
       "        \n",
       "\n",
       "        marker_785a5e23f9927508939130a68d740e2b.bindPopup(popup_e4d547ae0bd30d609e95d126ee3945d8)\n",
       "        ;\n",
       "\n",
       "        \n",
       "    \n",
       "    \n",
       "            var marker_72065557d3308c1d39f1d30d7aee22f0 = L.marker(\n",
       "                [23.119504136300304, -82.30350509953864],\n",
       "                {\n",
       "}\n",
       "            ).addTo(map_eac3e686e37a9ed8ab94d2de922915a2);\n",
       "        \n",
       "    \n",
       "            var icon_6366ec0e87b2849bd541592fbff469d0 = L.AwesomeMarkers.icon(\n",
       "                {\n",
       "  &quot;markerColor&quot;: &quot;darkblue&quot;,\n",
       "  &quot;iconColor&quot;: &quot;white&quot;,\n",
       "  &quot;icon&quot;: &quot;info-sign&quot;,\n",
       "  &quot;prefix&quot;: &quot;glyphicon&quot;,\n",
       "  &quot;extraClasses&quot;: &quot;fa-rotate-0&quot;,\n",
       "}\n",
       "            );\n",
       "            marker_72065557d3308c1d39f1d30d7aee22f0.setIcon(icon_6366ec0e87b2849bd541592fbff469d0);\n",
       "        \n",
       "    \n",
       "        var popup_99bb1a41e5873d33a295f0be38218d21 = L.popup({\n",
       "  &quot;maxWidth&quot;: &quot;100%&quot;,\n",
       "});\n",
       "\n",
       "        \n",
       "            \n",
       "                var html_39af1b9e3a2a6649fa3d0bfa811f184f = $(`&lt;div id=&quot;html_39af1b9e3a2a6649fa3d0bfa811f184f&quot; style=&quot;width: 100.0%; height: 100.0%;&quot;&gt;Pizzas Vip&lt;/div&gt;`)[0];\n",
       "                popup_99bb1a41e5873d33a295f0be38218d21.setContent(html_39af1b9e3a2a6649fa3d0bfa811f184f);\n",
       "            \n",
       "        \n",
       "\n",
       "        marker_72065557d3308c1d39f1d30d7aee22f0.bindPopup(popup_99bb1a41e5873d33a295f0be38218d21)\n",
       "        ;\n",
       "\n",
       "        \n",
       "    \n",
       "    \n",
       "            var marker_77d3af8503b44caa095ad6f738c95baf = L.marker(\n",
       "                [23.139568075702893, -82.35939313561359],\n",
       "                {\n",
       "}\n",
       "            ).addTo(map_eac3e686e37a9ed8ab94d2de922915a2);\n",
       "        \n",
       "    \n",
       "            var icon_6ecd7988220c1555eb69265f653ad4ea = L.AwesomeMarkers.icon(\n",
       "                {\n",
       "  &quot;markerColor&quot;: &quot;darkblue&quot;,\n",
       "  &quot;iconColor&quot;: &quot;white&quot;,\n",
       "  &quot;icon&quot;: &quot;info-sign&quot;,\n",
       "  &quot;prefix&quot;: &quot;glyphicon&quot;,\n",
       "  &quot;extraClasses&quot;: &quot;fa-rotate-0&quot;,\n",
       "}\n",
       "            );\n",
       "            marker_77d3af8503b44caa095ad6f738c95baf.setIcon(icon_6ecd7988220c1555eb69265f653ad4ea);\n",
       "        \n",
       "    \n",
       "        var popup_16daef5696b0dab198d2a4d6f3848fc1 = L.popup({\n",
       "  &quot;maxWidth&quot;: &quot;100%&quot;,\n",
       "});\n",
       "\n",
       "        \n",
       "            \n",
       "                var html_d9aaee8cd31c5e9fd3a2c0203f337b7c = $(`&lt;div id=&quot;html_d9aaee8cd31c5e9fd3a2c0203f337b7c&quot; style=&quot;width: 100.0%; height: 100.0%;&quot;&gt;Planh Enoteca &amp; Restaurante Mithai&lt;/div&gt;`)[0];\n",
       "                popup_16daef5696b0dab198d2a4d6f3848fc1.setContent(html_d9aaee8cd31c5e9fd3a2c0203f337b7c);\n",
       "            \n",
       "        \n",
       "\n",
       "        marker_77d3af8503b44caa095ad6f738c95baf.bindPopup(popup_16daef5696b0dab198d2a4d6f3848fc1)\n",
       "        ;\n",
       "\n",
       "        \n",
       "    \n",
       "    \n",
       "            var marker_563c03faaf66c83cfbc457f5b516b8c0 = L.marker(\n",
       "                [23.12218548403461, -82.30787987833503],\n",
       "                {\n",
       "}\n",
       "            ).addTo(map_eac3e686e37a9ed8ab94d2de922915a2);\n",
       "        \n",
       "    \n",
       "            var icon_37d6141cc646ebbe66cbbb12266d91b7 = L.AwesomeMarkers.icon(\n",
       "                {\n",
       "  &quot;markerColor&quot;: &quot;darkblue&quot;,\n",
       "  &quot;iconColor&quot;: &quot;white&quot;,\n",
       "  &quot;icon&quot;: &quot;info-sign&quot;,\n",
       "  &quot;prefix&quot;: &quot;glyphicon&quot;,\n",
       "  &quot;extraClasses&quot;: &quot;fa-rotate-0&quot;,\n",
       "}\n",
       "            );\n",
       "            marker_563c03faaf66c83cfbc457f5b516b8c0.setIcon(icon_37d6141cc646ebbe66cbbb12266d91b7);\n",
       "        \n",
       "    \n",
       "        var popup_517861f4fffb09e5d36bb334aa703641 = L.popup({\n",
       "  &quot;maxWidth&quot;: &quot;100%&quot;,\n",
       "});\n",
       "\n",
       "        \n",
       "            \n",
       "                var html_f6f36a4769f1582b897501fbbf22a740 = $(`&lt;div id=&quot;html_f6f36a4769f1582b897501fbbf22a740&quot; style=&quot;width: 100.0%; height: 100.0%;&quot;&gt;Polo&lt;/div&gt;`)[0];\n",
       "                popup_517861f4fffb09e5d36bb334aa703641.setContent(html_f6f36a4769f1582b897501fbbf22a740);\n",
       "            \n",
       "        \n",
       "\n",
       "        marker_563c03faaf66c83cfbc457f5b516b8c0.bindPopup(popup_517861f4fffb09e5d36bb334aa703641)\n",
       "        ;\n",
       "\n",
       "        \n",
       "    \n",
       "    \n",
       "            var marker_5772bbe653d3112e52dafff4347478c2 = L.marker(\n",
       "                [23.077784762125038, -82.46936259237634],\n",
       "                {\n",
       "}\n",
       "            ).addTo(map_eac3e686e37a9ed8ab94d2de922915a2);\n",
       "        \n",
       "    \n",
       "            var icon_d0334f2698a5865ee9168567a2c2cd3d = L.AwesomeMarkers.icon(\n",
       "                {\n",
       "  &quot;markerColor&quot;: &quot;darkblue&quot;,\n",
       "  &quot;iconColor&quot;: &quot;white&quot;,\n",
       "  &quot;icon&quot;: &quot;info-sign&quot;,\n",
       "  &quot;prefix&quot;: &quot;glyphicon&quot;,\n",
       "  &quot;extraClasses&quot;: &quot;fa-rotate-0&quot;,\n",
       "}\n",
       "            );\n",
       "            marker_5772bbe653d3112e52dafff4347478c2.setIcon(icon_d0334f2698a5865ee9168567a2c2cd3d);\n",
       "        \n",
       "    \n",
       "        var popup_2a0ede815169f26ba36c1bf9f00d2e70 = L.popup({\n",
       "  &quot;maxWidth&quot;: &quot;100%&quot;,\n",
       "});\n",
       "\n",
       "        \n",
       "            \n",
       "                var html_f89a7a4303e605883562482fdc1573fb = $(`&lt;div id=&quot;html_f89a7a4303e605883562482fdc1573fb&quot; style=&quot;width: 100.0%; height: 100.0%;&quot;&gt;Qbanas 60&lt;/div&gt;`)[0];\n",
       "                popup_2a0ede815169f26ba36c1bf9f00d2e70.setContent(html_f89a7a4303e605883562482fdc1573fb);\n",
       "            \n",
       "        \n",
       "\n",
       "        marker_5772bbe653d3112e52dafff4347478c2.bindPopup(popup_2a0ede815169f26ba36c1bf9f00d2e70)\n",
       "        ;\n",
       "\n",
       "        \n",
       "    \n",
       "    \n",
       "            var marker_2fd88ee8e8f6a65fe4884605e305e0b3 = L.marker(\n",
       "                [23.04726944912177, -82.3630574258128],\n",
       "                {\n",
       "}\n",
       "            ).addTo(map_eac3e686e37a9ed8ab94d2de922915a2);\n",
       "        \n",
       "    \n",
       "            var icon_3dd9a935ab86b04f346c0b559d51f744 = L.AwesomeMarkers.icon(\n",
       "                {\n",
       "  &quot;markerColor&quot;: &quot;darkblue&quot;,\n",
       "  &quot;iconColor&quot;: &quot;white&quot;,\n",
       "  &quot;icon&quot;: &quot;info-sign&quot;,\n",
       "  &quot;prefix&quot;: &quot;glyphicon&quot;,\n",
       "  &quot;extraClasses&quot;: &quot;fa-rotate-0&quot;,\n",
       "}\n",
       "            );\n",
       "            marker_2fd88ee8e8f6a65fe4884605e305e0b3.setIcon(icon_3dd9a935ab86b04f346c0b559d51f744);\n",
       "        \n",
       "    \n",
       "        var popup_7bc29152698642e570fb59f4aa446424 = L.popup({\n",
       "  &quot;maxWidth&quot;: &quot;100%&quot;,\n",
       "});\n",
       "\n",
       "        \n",
       "            \n",
       "                var html_8f60fe7d863077f1ea7ae64157706867 = $(`&lt;div id=&quot;html_8f60fe7d863077f1ea7ae64157706867&quot; style=&quot;width: 100.0%; height: 100.0%;&quot;&gt;Qué chévere&lt;/div&gt;`)[0];\n",
       "                popup_7bc29152698642e570fb59f4aa446424.setContent(html_8f60fe7d863077f1ea7ae64157706867);\n",
       "            \n",
       "        \n",
       "\n",
       "        marker_2fd88ee8e8f6a65fe4884605e305e0b3.bindPopup(popup_7bc29152698642e570fb59f4aa446424)\n",
       "        ;\n",
       "\n",
       "        \n",
       "    \n",
       "    \n",
       "            var marker_9692604dfab1882bf8c4d7f59e0ccb53 = L.marker(\n",
       "                [23.089740127860885, -82.421562507278],\n",
       "                {\n",
       "}\n",
       "            ).addTo(map_eac3e686e37a9ed8ab94d2de922915a2);\n",
       "        \n",
       "    \n",
       "            var icon_a4e906ee3da83ea476b3a67c44cc9bbe = L.AwesomeMarkers.icon(\n",
       "                {\n",
       "  &quot;markerColor&quot;: &quot;darkblue&quot;,\n",
       "  &quot;iconColor&quot;: &quot;white&quot;,\n",
       "  &quot;icon&quot;: &quot;info-sign&quot;,\n",
       "  &quot;prefix&quot;: &quot;glyphicon&quot;,\n",
       "  &quot;extraClasses&quot;: &quot;fa-rotate-0&quot;,\n",
       "}\n",
       "            );\n",
       "            marker_9692604dfab1882bf8c4d7f59e0ccb53.setIcon(icon_a4e906ee3da83ea476b3a67c44cc9bbe);\n",
       "        \n",
       "    \n",
       "        var popup_7bd82bb997638dff76924ec1a933005f = L.popup({\n",
       "  &quot;maxWidth&quot;: &quot;100%&quot;,\n",
       "});\n",
       "\n",
       "        \n",
       "            \n",
       "                var html_ec158f3ba952a7fc0e004cc7f704d167 = $(`&lt;div id=&quot;html_ec158f3ba952a7fc0e004cc7f704d167&quot; style=&quot;width: 100.0%; height: 100.0%;&quot;&gt;Ranchon de 41&lt;/div&gt;`)[0];\n",
       "                popup_7bd82bb997638dff76924ec1a933005f.setContent(html_ec158f3ba952a7fc0e004cc7f704d167);\n",
       "            \n",
       "        \n",
       "\n",
       "        marker_9692604dfab1882bf8c4d7f59e0ccb53.bindPopup(popup_7bd82bb997638dff76924ec1a933005f)\n",
       "        ;\n",
       "\n",
       "        \n",
       "    \n",
       "    \n",
       "            var marker_69805b431ef1475219c729f098e3ae87 = L.marker(\n",
       "                [23.03192045701879, -82.47284867841391],\n",
       "                {\n",
       "}\n",
       "            ).addTo(map_eac3e686e37a9ed8ab94d2de922915a2);\n",
       "        \n",
       "    \n",
       "            var icon_469adb467af8b447f44e1dbe2b90d94d = L.AwesomeMarkers.icon(\n",
       "                {\n",
       "  &quot;markerColor&quot;: &quot;darkblue&quot;,\n",
       "  &quot;iconColor&quot;: &quot;white&quot;,\n",
       "  &quot;icon&quot;: &quot;info-sign&quot;,\n",
       "  &quot;prefix&quot;: &quot;glyphicon&quot;,\n",
       "  &quot;extraClasses&quot;: &quot;fa-rotate-0&quot;,\n",
       "}\n",
       "            );\n",
       "            marker_69805b431ef1475219c729f098e3ae87.setIcon(icon_469adb467af8b447f44e1dbe2b90d94d);\n",
       "        \n",
       "    \n",
       "        var popup_7eb4c67cf3462ac9a0d61597a4554c5e = L.popup({\n",
       "  &quot;maxWidth&quot;: &quot;100%&quot;,\n",
       "});\n",
       "\n",
       "        \n",
       "            \n",
       "                var html_048bbf1bdbd7ea126d40850016067f3e = $(`&lt;div id=&quot;html_048bbf1bdbd7ea126d40850016067f3e&quot; style=&quot;width: 100.0%; height: 100.0%;&quot;&gt;Ranchon Don Martin&lt;/div&gt;`)[0];\n",
       "                popup_7eb4c67cf3462ac9a0d61597a4554c5e.setContent(html_048bbf1bdbd7ea126d40850016067f3e);\n",
       "            \n",
       "        \n",
       "\n",
       "        marker_69805b431ef1475219c729f098e3ae87.bindPopup(popup_7eb4c67cf3462ac9a0d61597a4554c5e)\n",
       "        ;\n",
       "\n",
       "        \n",
       "    \n",
       "    \n",
       "            var marker_944db963d979364ff1908d9397f78ae9 = L.marker(\n",
       "                [22.97502374928816, -82.39251235971446],\n",
       "                {\n",
       "}\n",
       "            ).addTo(map_eac3e686e37a9ed8ab94d2de922915a2);\n",
       "        \n",
       "    \n",
       "            var icon_cc4f06f1758648a5d02023c05bead751 = L.AwesomeMarkers.icon(\n",
       "                {\n",
       "  &quot;markerColor&quot;: &quot;darkblue&quot;,\n",
       "  &quot;iconColor&quot;: &quot;white&quot;,\n",
       "  &quot;icon&quot;: &quot;info-sign&quot;,\n",
       "  &quot;prefix&quot;: &quot;glyphicon&quot;,\n",
       "  &quot;extraClasses&quot;: &quot;fa-rotate-0&quot;,\n",
       "}\n",
       "            );\n",
       "            marker_944db963d979364ff1908d9397f78ae9.setIcon(icon_cc4f06f1758648a5d02023c05bead751);\n",
       "        \n",
       "    \n",
       "        var popup_be30c20a66a0b2e3cd3bf795463231c0 = L.popup({\n",
       "  &quot;maxWidth&quot;: &quot;100%&quot;,\n",
       "});\n",
       "\n",
       "        \n",
       "            \n",
       "                var html_68c6f77cc576123e6f26a3cf2ab7c770 = $(`&lt;div id=&quot;html_68c6f77cc576123e6f26a3cf2ab7c770&quot; style=&quot;width: 100.0%; height: 100.0%;&quot;&gt;Ranchon El Pinareño&lt;/div&gt;`)[0];\n",
       "                popup_be30c20a66a0b2e3cd3bf795463231c0.setContent(html_68c6f77cc576123e6f26a3cf2ab7c770);\n",
       "            \n",
       "        \n",
       "\n",
       "        marker_944db963d979364ff1908d9397f78ae9.bindPopup(popup_be30c20a66a0b2e3cd3bf795463231c0)\n",
       "        ;\n",
       "\n",
       "        \n",
       "    \n",
       "    \n",
       "            var marker_9d7d7c2775c66583e62a532ffb5c2486 = L.marker(\n",
       "                [22.967607839818697, -82.38841192208918],\n",
       "                {\n",
       "}\n",
       "            ).addTo(map_eac3e686e37a9ed8ab94d2de922915a2);\n",
       "        \n",
       "    \n",
       "            var icon_8c4654f334e0b18c3d0aefedc9f00fc5 = L.AwesomeMarkers.icon(\n",
       "                {\n",
       "  &quot;markerColor&quot;: &quot;darkblue&quot;,\n",
       "  &quot;iconColor&quot;: &quot;white&quot;,\n",
       "  &quot;icon&quot;: &quot;info-sign&quot;,\n",
       "  &quot;prefix&quot;: &quot;glyphicon&quot;,\n",
       "  &quot;extraClasses&quot;: &quot;fa-rotate-0&quot;,\n",
       "}\n",
       "            );\n",
       "            marker_9d7d7c2775c66583e62a532ffb5c2486.setIcon(icon_8c4654f334e0b18c3d0aefedc9f00fc5);\n",
       "        \n",
       "    \n",
       "        var popup_80c6323c3d0842406e85fa0e2620b179 = L.popup({\n",
       "  &quot;maxWidth&quot;: &quot;100%&quot;,\n",
       "});\n",
       "\n",
       "        \n",
       "            \n",
       "                var html_57b4ece15a0073c29417187b5b2d3832 = $(`&lt;div id=&quot;html_57b4ece15a0073c29417187b5b2d3832&quot; style=&quot;width: 100.0%; height: 100.0%;&quot;&gt;Rancho Blanco&lt;/div&gt;`)[0];\n",
       "                popup_80c6323c3d0842406e85fa0e2620b179.setContent(html_57b4ece15a0073c29417187b5b2d3832);\n",
       "            \n",
       "        \n",
       "\n",
       "        marker_9d7d7c2775c66583e62a532ffb5c2486.bindPopup(popup_80c6323c3d0842406e85fa0e2620b179)\n",
       "        ;\n",
       "\n",
       "        \n",
       "    \n",
       "    \n",
       "            var marker_3586874ed4f2649f62637b2361659f16 = L.marker(\n",
       "                [23.14334346067267, -82.39569989367574],\n",
       "                {\n",
       "}\n",
       "            ).addTo(map_eac3e686e37a9ed8ab94d2de922915a2);\n",
       "        \n",
       "    \n",
       "            var icon_db08c5c91c3932a13f49870db6b11a30 = L.AwesomeMarkers.icon(\n",
       "                {\n",
       "  &quot;markerColor&quot;: &quot;darkblue&quot;,\n",
       "  &quot;iconColor&quot;: &quot;white&quot;,\n",
       "  &quot;icon&quot;: &quot;info-sign&quot;,\n",
       "  &quot;prefix&quot;: &quot;glyphicon&quot;,\n",
       "  &quot;extraClasses&quot;: &quot;fa-rotate-0&quot;,\n",
       "}\n",
       "            );\n",
       "            marker_3586874ed4f2649f62637b2361659f16.setIcon(icon_db08c5c91c3932a13f49870db6b11a30);\n",
       "        \n",
       "    \n",
       "        var popup_4c7388907de34aa322ff4744808818b6 = L.popup({\n",
       "  &quot;maxWidth&quot;: &quot;100%&quot;,\n",
       "});\n",
       "\n",
       "        \n",
       "            \n",
       "                var html_e737d77ba7fa6b6af78d2fc9294f654b = $(`&lt;div id=&quot;html_e737d77ba7fa6b6af78d2fc9294f654b&quot; style=&quot;width: 100.0%; height: 100.0%;&quot;&gt;Razones y motivos&lt;/div&gt;`)[0];\n",
       "                popup_4c7388907de34aa322ff4744808818b6.setContent(html_e737d77ba7fa6b6af78d2fc9294f654b);\n",
       "            \n",
       "        \n",
       "\n",
       "        marker_3586874ed4f2649f62637b2361659f16.bindPopup(popup_4c7388907de34aa322ff4744808818b6)\n",
       "        ;\n",
       "\n",
       "        \n",
       "    \n",
       "    \n",
       "            var marker_a23076af99e4ab60b49b5737868c4b0f = L.marker(\n",
       "                [23.12540621324244, -82.33255714289457],\n",
       "                {\n",
       "}\n",
       "            ).addTo(map_eac3e686e37a9ed8ab94d2de922915a2);\n",
       "        \n",
       "    \n",
       "            var icon_3d2be4137c5b7b125aa8a7a23dd17e3f = L.AwesomeMarkers.icon(\n",
       "                {\n",
       "  &quot;markerColor&quot;: &quot;darkblue&quot;,\n",
       "  &quot;iconColor&quot;: &quot;white&quot;,\n",
       "  &quot;icon&quot;: &quot;info-sign&quot;,\n",
       "  &quot;prefix&quot;: &quot;glyphicon&quot;,\n",
       "  &quot;extraClasses&quot;: &quot;fa-rotate-0&quot;,\n",
       "}\n",
       "            );\n",
       "            marker_a23076af99e4ab60b49b5737868c4b0f.setIcon(icon_3d2be4137c5b7b125aa8a7a23dd17e3f);\n",
       "        \n",
       "    \n",
       "        var popup_7cd1bcc9553f58a94a04e04c451223d0 = L.popup({\n",
       "  &quot;maxWidth&quot;: &quot;100%&quot;,\n",
       "});\n",
       "\n",
       "        \n",
       "            \n",
       "                var html_14f14891d991a03d3149c8681742e039 = $(`&lt;div id=&quot;html_14f14891d991a03d3149c8681742e039&quot; style=&quot;width: 100.0%; height: 100.0%;&quot;&gt;Restaurante Lan&lt;/div&gt;`)[0];\n",
       "                popup_7cd1bcc9553f58a94a04e04c451223d0.setContent(html_14f14891d991a03d3149c8681742e039);\n",
       "            \n",
       "        \n",
       "\n",
       "        marker_a23076af99e4ab60b49b5737868c4b0f.bindPopup(popup_7cd1bcc9553f58a94a04e04c451223d0)\n",
       "        ;\n",
       "\n",
       "        \n",
       "    \n",
       "    \n",
       "            var marker_e6c9794bc801d2e578dd50b735fecc2b = L.marker(\n",
       "                [23.137414091589683, -82.36092696447452],\n",
       "                {\n",
       "}\n",
       "            ).addTo(map_eac3e686e37a9ed8ab94d2de922915a2);\n",
       "        \n",
       "    \n",
       "            var icon_1eb992c1ad69e7013ba515ecffde8e3a = L.AwesomeMarkers.icon(\n",
       "                {\n",
       "  &quot;markerColor&quot;: &quot;darkblue&quot;,\n",
       "  &quot;iconColor&quot;: &quot;white&quot;,\n",
       "  &quot;icon&quot;: &quot;info-sign&quot;,\n",
       "  &quot;prefix&quot;: &quot;glyphicon&quot;,\n",
       "  &quot;extraClasses&quot;: &quot;fa-rotate-0&quot;,\n",
       "}\n",
       "            );\n",
       "            marker_e6c9794bc801d2e578dd50b735fecc2b.setIcon(icon_1eb992c1ad69e7013ba515ecffde8e3a);\n",
       "        \n",
       "    \n",
       "        var popup_a807b454b35ec078285b35171f5d389a = L.popup({\n",
       "  &quot;maxWidth&quot;: &quot;100%&quot;,\n",
       "});\n",
       "\n",
       "        \n",
       "            \n",
       "                var html_a5a8ba92bbe0014003717797f971489f = $(`&lt;div id=&quot;html_a5a8ba92bbe0014003717797f971489f&quot; style=&quot;width: 100.0%; height: 100.0%;&quot;&gt;RicarDon&lt;/div&gt;`)[0];\n",
       "                popup_a807b454b35ec078285b35171f5d389a.setContent(html_a5a8ba92bbe0014003717797f971489f);\n",
       "            \n",
       "        \n",
       "\n",
       "        marker_e6c9794bc801d2e578dd50b735fecc2b.bindPopup(popup_a807b454b35ec078285b35171f5d389a)\n",
       "        ;\n",
       "\n",
       "        \n",
       "    \n",
       "    \n",
       "            var marker_b12fbbff0a8d3eb4845cbcca65ff6305 = L.marker(\n",
       "                [23.12627363995597, -82.38090833528463],\n",
       "                {\n",
       "}\n",
       "            ).addTo(map_eac3e686e37a9ed8ab94d2de922915a2);\n",
       "        \n",
       "    \n",
       "            var icon_a29e0a54d569eefe6298a500f6d5e8d0 = L.AwesomeMarkers.icon(\n",
       "                {\n",
       "  &quot;markerColor&quot;: &quot;darkblue&quot;,\n",
       "  &quot;iconColor&quot;: &quot;white&quot;,\n",
       "  &quot;icon&quot;: &quot;info-sign&quot;,\n",
       "  &quot;prefix&quot;: &quot;glyphicon&quot;,\n",
       "  &quot;extraClasses&quot;: &quot;fa-rotate-0&quot;,\n",
       "}\n",
       "            );\n",
       "            marker_b12fbbff0a8d3eb4845cbcca65ff6305.setIcon(icon_a29e0a54d569eefe6298a500f6d5e8d0);\n",
       "        \n",
       "    \n",
       "        var popup_bfb25a1afd1fd85843e9a17b50834f4b = L.popup({\n",
       "  &quot;maxWidth&quot;: &quot;100%&quot;,\n",
       "});\n",
       "\n",
       "        \n",
       "            \n",
       "                var html_1e8818f88b49866d32961f3dff4ca446 = $(`&lt;div id=&quot;html_1e8818f88b49866d32961f3dff4ca446&quot; style=&quot;width: 100.0%; height: 100.0%;&quot;&gt;Rico Rico&lt;/div&gt;`)[0];\n",
       "                popup_bfb25a1afd1fd85843e9a17b50834f4b.setContent(html_1e8818f88b49866d32961f3dff4ca446);\n",
       "            \n",
       "        \n",
       "\n",
       "        marker_b12fbbff0a8d3eb4845cbcca65ff6305.bindPopup(popup_bfb25a1afd1fd85843e9a17b50834f4b)\n",
       "        ;\n",
       "\n",
       "        \n",
       "    \n",
       "    \n",
       "            var marker_c3cc6ef7b291b271e7c347fe6b9611a1 = L.marker(\n",
       "                [23.094809204242612, -82.41865532082285],\n",
       "                {\n",
       "}\n",
       "            ).addTo(map_eac3e686e37a9ed8ab94d2de922915a2);\n",
       "        \n",
       "    \n",
       "            var icon_f8609d7e140d2d179a8b0e9aeca159c6 = L.AwesomeMarkers.icon(\n",
       "                {\n",
       "  &quot;markerColor&quot;: &quot;darkblue&quot;,\n",
       "  &quot;iconColor&quot;: &quot;white&quot;,\n",
       "  &quot;icon&quot;: &quot;info-sign&quot;,\n",
       "  &quot;prefix&quot;: &quot;glyphicon&quot;,\n",
       "  &quot;extraClasses&quot;: &quot;fa-rotate-0&quot;,\n",
       "}\n",
       "            );\n",
       "            marker_c3cc6ef7b291b271e7c347fe6b9611a1.setIcon(icon_f8609d7e140d2d179a8b0e9aeca159c6);\n",
       "        \n",
       "    \n",
       "        var popup_06bf2808df03a7dcbf014d4890058736 = L.popup({\n",
       "  &quot;maxWidth&quot;: &quot;100%&quot;,\n",
       "});\n",
       "\n",
       "        \n",
       "            \n",
       "                var html_acdb55f41ff1b591ca799dbbb47e09a8 = $(`&lt;div id=&quot;html_acdb55f41ff1b591ca799dbbb47e09a8&quot; style=&quot;width: 100.0%; height: 100.0%;&quot;&gt;Rodney&lt;/div&gt;`)[0];\n",
       "                popup_06bf2808df03a7dcbf014d4890058736.setContent(html_acdb55f41ff1b591ca799dbbb47e09a8);\n",
       "            \n",
       "        \n",
       "\n",
       "        marker_c3cc6ef7b291b271e7c347fe6b9611a1.bindPopup(popup_06bf2808df03a7dcbf014d4890058736)\n",
       "        ;\n",
       "\n",
       "        \n",
       "    \n",
       "    \n",
       "            var marker_1c62c613875a147b8c58eafb11959297 = L.marker(\n",
       "                [23.14008936976356, -82.3043403907062],\n",
       "                {\n",
       "}\n",
       "            ).addTo(map_eac3e686e37a9ed8ab94d2de922915a2);\n",
       "        \n",
       "    \n",
       "            var icon_e45c32539cdbe606faa9a5e3f8f3c7f5 = L.AwesomeMarkers.icon(\n",
       "                {\n",
       "  &quot;markerColor&quot;: &quot;darkblue&quot;,\n",
       "  &quot;iconColor&quot;: &quot;white&quot;,\n",
       "  &quot;icon&quot;: &quot;info-sign&quot;,\n",
       "  &quot;prefix&quot;: &quot;glyphicon&quot;,\n",
       "  &quot;extraClasses&quot;: &quot;fa-rotate-0&quot;,\n",
       "}\n",
       "            );\n",
       "            marker_1c62c613875a147b8c58eafb11959297.setIcon(icon_e45c32539cdbe606faa9a5e3f8f3c7f5);\n",
       "        \n",
       "    \n",
       "        var popup_38200cfac47f9f6fe7bea83520966733 = L.popup({\n",
       "  &quot;maxWidth&quot;: &quot;100%&quot;,\n",
       "});\n",
       "\n",
       "        \n",
       "            \n",
       "                var html_da1e8ece7ade5571aadde2f1ee259433 = $(`&lt;div id=&quot;html_da1e8ece7ade5571aadde2f1ee259433&quot; style=&quot;width: 100.0%; height: 100.0%;&quot;&gt;Ruta 66&lt;/div&gt;`)[0];\n",
       "                popup_38200cfac47f9f6fe7bea83520966733.setContent(html_da1e8ece7ade5571aadde2f1ee259433);\n",
       "            \n",
       "        \n",
       "\n",
       "        marker_1c62c613875a147b8c58eafb11959297.bindPopup(popup_38200cfac47f9f6fe7bea83520966733)\n",
       "        ;\n",
       "\n",
       "        \n",
       "    \n",
       "    \n",
       "            var marker_00ce78db6351e63b59ee0b7129dae46c = L.marker(\n",
       "                [23.13412923367649, -82.37826298998031],\n",
       "                {\n",
       "}\n",
       "            ).addTo(map_eac3e686e37a9ed8ab94d2de922915a2);\n",
       "        \n",
       "    \n",
       "            var icon_e2421f96c7997eea31dc26d4ca43645b = L.AwesomeMarkers.icon(\n",
       "                {\n",
       "  &quot;markerColor&quot;: &quot;darkblue&quot;,\n",
       "  &quot;iconColor&quot;: &quot;white&quot;,\n",
       "  &quot;icon&quot;: &quot;info-sign&quot;,\n",
       "  &quot;prefix&quot;: &quot;glyphicon&quot;,\n",
       "  &quot;extraClasses&quot;: &quot;fa-rotate-0&quot;,\n",
       "}\n",
       "            );\n",
       "            marker_00ce78db6351e63b59ee0b7129dae46c.setIcon(icon_e2421f96c7997eea31dc26d4ca43645b);\n",
       "        \n",
       "    \n",
       "        var popup_a35abc28f73b41b4b8cd0094b4e728e8 = L.popup({\n",
       "  &quot;maxWidth&quot;: &quot;100%&quot;,\n",
       "});\n",
       "\n",
       "        \n",
       "            \n",
       "                var html_9684b856c93f8bbdcd9fa84be8bbc420 = $(`&lt;div id=&quot;html_9684b856c93f8bbdcd9fa84be8bbc420&quot; style=&quot;width: 100.0%; height: 100.0%;&quot;&gt;Salchipizza&lt;/div&gt;`)[0];\n",
       "                popup_a35abc28f73b41b4b8cd0094b4e728e8.setContent(html_9684b856c93f8bbdcd9fa84be8bbc420);\n",
       "            \n",
       "        \n",
       "\n",
       "        marker_00ce78db6351e63b59ee0b7129dae46c.bindPopup(popup_a35abc28f73b41b4b8cd0094b4e728e8)\n",
       "        ;\n",
       "\n",
       "        \n",
       "    \n",
       "    \n",
       "            var marker_70e37a3b6327d6f3df9e5c5514a8f381 = L.marker(\n",
       "                [23.11402909851061, -82.43950857535798],\n",
       "                {\n",
       "}\n",
       "            ).addTo(map_eac3e686e37a9ed8ab94d2de922915a2);\n",
       "        \n",
       "    \n",
       "            var icon_10fb5439d3a5fe7ed8d4f4287a666736 = L.AwesomeMarkers.icon(\n",
       "                {\n",
       "  &quot;markerColor&quot;: &quot;darkblue&quot;,\n",
       "  &quot;iconColor&quot;: &quot;white&quot;,\n",
       "  &quot;icon&quot;: &quot;info-sign&quot;,\n",
       "  &quot;prefix&quot;: &quot;glyphicon&quot;,\n",
       "  &quot;extraClasses&quot;: &quot;fa-rotate-0&quot;,\n",
       "}\n",
       "            );\n",
       "            marker_70e37a3b6327d6f3df9e5c5514a8f381.setIcon(icon_10fb5439d3a5fe7ed8d4f4287a666736);\n",
       "        \n",
       "    \n",
       "        var popup_24f6f89db685b62d8a19890bce82c875 = L.popup({\n",
       "  &quot;maxWidth&quot;: &quot;100%&quot;,\n",
       "});\n",
       "\n",
       "        \n",
       "            \n",
       "                var html_e136d8b76704ca2a6174987794c7813f = $(`&lt;div id=&quot;html_e136d8b76704ca2a6174987794c7813f&quot; style=&quot;width: 100.0%; height: 100.0%;&quot;&gt;Salsa Mora&lt;/div&gt;`)[0];\n",
       "                popup_24f6f89db685b62d8a19890bce82c875.setContent(html_e136d8b76704ca2a6174987794c7813f);\n",
       "            \n",
       "        \n",
       "\n",
       "        marker_70e37a3b6327d6f3df9e5c5514a8f381.bindPopup(popup_24f6f89db685b62d8a19890bce82c875)\n",
       "        ;\n",
       "\n",
       "        \n",
       "    \n",
       "    \n",
       "            var marker_1a0578d69856a5fb58720f3f638878c8 = L.marker(\n",
       "                [23.11380465355718, -82.36663315102301],\n",
       "                {\n",
       "}\n",
       "            ).addTo(map_eac3e686e37a9ed8ab94d2de922915a2);\n",
       "        \n",
       "    \n",
       "            var icon_762070903de060447b196e7929c4acfb = L.AwesomeMarkers.icon(\n",
       "                {\n",
       "  &quot;markerColor&quot;: &quot;darkblue&quot;,\n",
       "  &quot;iconColor&quot;: &quot;white&quot;,\n",
       "  &quot;icon&quot;: &quot;info-sign&quot;,\n",
       "  &quot;prefix&quot;: &quot;glyphicon&quot;,\n",
       "  &quot;extraClasses&quot;: &quot;fa-rotate-0&quot;,\n",
       "}\n",
       "            );\n",
       "            marker_1a0578d69856a5fb58720f3f638878c8.setIcon(icon_762070903de060447b196e7929c4acfb);\n",
       "        \n",
       "    \n",
       "        var popup_8c84387a973d49d377e4329890818f66 = L.popup({\n",
       "  &quot;maxWidth&quot;: &quot;100%&quot;,\n",
       "});\n",
       "\n",
       "        \n",
       "            \n",
       "                var html_c0cad28b0c07f8bae72367973ec5dc5f = $(`&lt;div id=&quot;html_c0cad28b0c07f8bae72367973ec5dc5f&quot; style=&quot;width: 100.0%; height: 100.0%;&quot;&gt;San Rafael 1051&lt;/div&gt;`)[0];\n",
       "                popup_8c84387a973d49d377e4329890818f66.setContent(html_c0cad28b0c07f8bae72367973ec5dc5f);\n",
       "            \n",
       "        \n",
       "\n",
       "        marker_1a0578d69856a5fb58720f3f638878c8.bindPopup(popup_8c84387a973d49d377e4329890818f66)\n",
       "        ;\n",
       "\n",
       "        \n",
       "    \n",
       "    \n",
       "            var marker_cfadf79621c485f1cc39d58d96d8d76b = L.marker(\n",
       "                [23.08929844519211, -82.48873679830157],\n",
       "                {\n",
       "}\n",
       "            ).addTo(map_eac3e686e37a9ed8ab94d2de922915a2);\n",
       "        \n",
       "    \n",
       "            var icon_e55b81c4a2bf13bddd5544e1fb753106 = L.AwesomeMarkers.icon(\n",
       "                {\n",
       "  &quot;markerColor&quot;: &quot;darkblue&quot;,\n",
       "  &quot;iconColor&quot;: &quot;white&quot;,\n",
       "  &quot;icon&quot;: &quot;info-sign&quot;,\n",
       "  &quot;prefix&quot;: &quot;glyphicon&quot;,\n",
       "  &quot;extraClasses&quot;: &quot;fa-rotate-0&quot;,\n",
       "}\n",
       "            );\n",
       "            marker_cfadf79621c485f1cc39d58d96d8d76b.setIcon(icon_e55b81c4a2bf13bddd5544e1fb753106);\n",
       "        \n",
       "    \n",
       "        var popup_a1170343bfef8fa0af2141bef841dbc2 = L.popup({\n",
       "  &quot;maxWidth&quot;: &quot;100%&quot;,\n",
       "});\n",
       "\n",
       "        \n",
       "            \n",
       "                var html_87926e3e850e56e55bedc0cd45ce7a99 = $(`&lt;div id=&quot;html_87926e3e850e56e55bedc0cd45ce7a99&quot; style=&quot;width: 100.0%; height: 100.0%;&quot;&gt;Santy Pescador&lt;/div&gt;`)[0];\n",
       "                popup_a1170343bfef8fa0af2141bef841dbc2.setContent(html_87926e3e850e56e55bedc0cd45ce7a99);\n",
       "            \n",
       "        \n",
       "\n",
       "        marker_cfadf79621c485f1cc39d58d96d8d76b.bindPopup(popup_a1170343bfef8fa0af2141bef841dbc2)\n",
       "        ;\n",
       "\n",
       "        \n",
       "    \n",
       "    \n",
       "            var marker_615872b9e13bb19649156a6035368613 = L.marker(\n",
       "                [23.125680181720934, -82.41363706139158],\n",
       "                {\n",
       "}\n",
       "            ).addTo(map_eac3e686e37a9ed8ab94d2de922915a2);\n",
       "        \n",
       "    \n",
       "            var icon_1daa6e832051ab5cbc80d5c7efc54f60 = L.AwesomeMarkers.icon(\n",
       "                {\n",
       "  &quot;markerColor&quot;: &quot;darkblue&quot;,\n",
       "  &quot;iconColor&quot;: &quot;white&quot;,\n",
       "  &quot;icon&quot;: &quot;info-sign&quot;,\n",
       "  &quot;prefix&quot;: &quot;glyphicon&quot;,\n",
       "  &quot;extraClasses&quot;: &quot;fa-rotate-0&quot;,\n",
       "}\n",
       "            );\n",
       "            marker_615872b9e13bb19649156a6035368613.setIcon(icon_1daa6e832051ab5cbc80d5c7efc54f60);\n",
       "        \n",
       "    \n",
       "        var popup_a8031d0316e77622205155cb70f57a3c = L.popup({\n",
       "  &quot;maxWidth&quot;: &quot;100%&quot;,\n",
       "});\n",
       "\n",
       "        \n",
       "            \n",
       "                var html_430a426ee1a7c549a5670de3e5e427b7 = $(`&lt;div id=&quot;html_430a426ee1a7c549a5670de3e5e427b7&quot; style=&quot;width: 100.0%; height: 100.0%;&quot;&gt;Sapori&lt;/div&gt;`)[0];\n",
       "                popup_a8031d0316e77622205155cb70f57a3c.setContent(html_430a426ee1a7c549a5670de3e5e427b7);\n",
       "            \n",
       "        \n",
       "\n",
       "        marker_615872b9e13bb19649156a6035368613.bindPopup(popup_a8031d0316e77622205155cb70f57a3c)\n",
       "        ;\n",
       "\n",
       "        \n",
       "    \n",
       "    \n",
       "            var marker_a71c3e310785178ca0f71ad758b196c1 = L.marker(\n",
       "                [23.117562853692327, -82.38451702024058],\n",
       "                {\n",
       "}\n",
       "            ).addTo(map_eac3e686e37a9ed8ab94d2de922915a2);\n",
       "        \n",
       "    \n",
       "            var icon_7e18eca9b3aea67dd4c229a424d6b5d8 = L.AwesomeMarkers.icon(\n",
       "                {\n",
       "  &quot;markerColor&quot;: &quot;darkblue&quot;,\n",
       "  &quot;iconColor&quot;: &quot;white&quot;,\n",
       "  &quot;icon&quot;: &quot;info-sign&quot;,\n",
       "  &quot;prefix&quot;: &quot;glyphicon&quot;,\n",
       "  &quot;extraClasses&quot;: &quot;fa-rotate-0&quot;,\n",
       "}\n",
       "            );\n",
       "            marker_a71c3e310785178ca0f71ad758b196c1.setIcon(icon_7e18eca9b3aea67dd4c229a424d6b5d8);\n",
       "        \n",
       "    \n",
       "        var popup_22e5aef9f120e59447a08731e3ba8e6c = L.popup({\n",
       "  &quot;maxWidth&quot;: &quot;100%&quot;,\n",
       "});\n",
       "\n",
       "        \n",
       "            \n",
       "                var html_0e0d726453918bed359ddb0ae19cfc00 = $(`&lt;div id=&quot;html_0e0d726453918bed359ddb0ae19cfc00&quot; style=&quot;width: 100.0%; height: 100.0%;&quot;&gt;Shapuseros&lt;/div&gt;`)[0];\n",
       "                popup_22e5aef9f120e59447a08731e3ba8e6c.setContent(html_0e0d726453918bed359ddb0ae19cfc00);\n",
       "            \n",
       "        \n",
       "\n",
       "        marker_a71c3e310785178ca0f71ad758b196c1.bindPopup(popup_22e5aef9f120e59447a08731e3ba8e6c)\n",
       "        ;\n",
       "\n",
       "        \n",
       "    \n",
       "    \n",
       "            var marker_b31ba7dc542e9f0eeb7949bb16001dd9 = L.marker(\n",
       "                [23.133914730855928, -82.39150447833448],\n",
       "                {\n",
       "}\n",
       "            ).addTo(map_eac3e686e37a9ed8ab94d2de922915a2);\n",
       "        \n",
       "    \n",
       "            var icon_20f83dcb70f7bb820f948af9b5bc05e2 = L.AwesomeMarkers.icon(\n",
       "                {\n",
       "  &quot;markerColor&quot;: &quot;darkblue&quot;,\n",
       "  &quot;iconColor&quot;: &quot;white&quot;,\n",
       "  &quot;icon&quot;: &quot;info-sign&quot;,\n",
       "  &quot;prefix&quot;: &quot;glyphicon&quot;,\n",
       "  &quot;extraClasses&quot;: &quot;fa-rotate-0&quot;,\n",
       "}\n",
       "            );\n",
       "            marker_b31ba7dc542e9f0eeb7949bb16001dd9.setIcon(icon_20f83dcb70f7bb820f948af9b5bc05e2);\n",
       "        \n",
       "    \n",
       "        var popup_4f896316ee93e780a3f2f588425406c2 = L.popup({\n",
       "  &quot;maxWidth&quot;: &quot;100%&quot;,\n",
       "});\n",
       "\n",
       "        \n",
       "            \n",
       "                var html_4200074dbc8658d6d4b99771f06b8ec7 = $(`&lt;div id=&quot;html_4200074dbc8658d6d4b99771f06b8ec7&quot; style=&quot;width: 100.0%; height: 100.0%;&quot;&gt;Soñar contigo&lt;/div&gt;`)[0];\n",
       "                popup_4f896316ee93e780a3f2f588425406c2.setContent(html_4200074dbc8658d6d4b99771f06b8ec7);\n",
       "            \n",
       "        \n",
       "\n",
       "        marker_b31ba7dc542e9f0eeb7949bb16001dd9.bindPopup(popup_4f896316ee93e780a3f2f588425406c2)\n",
       "        ;\n",
       "\n",
       "        \n",
       "    \n",
       "    \n",
       "            var marker_039c7512b88e150399d640a451f65512 = L.marker(\n",
       "                [23.12739793607911, -82.3996550067848],\n",
       "                {\n",
       "}\n",
       "            ).addTo(map_eac3e686e37a9ed8ab94d2de922915a2);\n",
       "        \n",
       "    \n",
       "            var icon_0a5ee4d22619a8cc704c1858e33bdfb1 = L.AwesomeMarkers.icon(\n",
       "                {\n",
       "  &quot;markerColor&quot;: &quot;darkblue&quot;,\n",
       "  &quot;iconColor&quot;: &quot;white&quot;,\n",
       "  &quot;icon&quot;: &quot;info-sign&quot;,\n",
       "  &quot;prefix&quot;: &quot;glyphicon&quot;,\n",
       "  &quot;extraClasses&quot;: &quot;fa-rotate-0&quot;,\n",
       "}\n",
       "            );\n",
       "            marker_039c7512b88e150399d640a451f65512.setIcon(icon_0a5ee4d22619a8cc704c1858e33bdfb1);\n",
       "        \n",
       "    \n",
       "        var popup_73352ba5effcdb9f68753a83db01847f = L.popup({\n",
       "  &quot;maxWidth&quot;: &quot;100%&quot;,\n",
       "});\n",
       "\n",
       "        \n",
       "            \n",
       "                var html_946324f0c21dadc4fcc13ed1b5a8501d = $(`&lt;div id=&quot;html_946324f0c21dadc4fcc13ed1b5a8501d&quot; style=&quot;width: 100.0%; height: 100.0%;&quot;&gt;Sport Bar&lt;/div&gt;`)[0];\n",
       "                popup_73352ba5effcdb9f68753a83db01847f.setContent(html_946324f0c21dadc4fcc13ed1b5a8501d);\n",
       "            \n",
       "        \n",
       "\n",
       "        marker_039c7512b88e150399d640a451f65512.bindPopup(popup_73352ba5effcdb9f68753a83db01847f)\n",
       "        ;\n",
       "\n",
       "        \n",
       "    \n",
       "    \n",
       "            var marker_6cc5133d42f55a59dfa28032169997de = L.marker(\n",
       "                [23.134994228631488, -82.363759151347],\n",
       "                {\n",
       "}\n",
       "            ).addTo(map_eac3e686e37a9ed8ab94d2de922915a2);\n",
       "        \n",
       "    \n",
       "            var icon_16da3cc136660dd712e48af5eeb8641c = L.AwesomeMarkers.icon(\n",
       "                {\n",
       "  &quot;markerColor&quot;: &quot;darkblue&quot;,\n",
       "  &quot;iconColor&quot;: &quot;white&quot;,\n",
       "  &quot;icon&quot;: &quot;info-sign&quot;,\n",
       "  &quot;prefix&quot;: &quot;glyphicon&quot;,\n",
       "  &quot;extraClasses&quot;: &quot;fa-rotate-0&quot;,\n",
       "}\n",
       "            );\n",
       "            marker_6cc5133d42f55a59dfa28032169997de.setIcon(icon_16da3cc136660dd712e48af5eeb8641c);\n",
       "        \n",
       "    \n",
       "        var popup_febcb18becbc2dbe2a16849492e9abce = L.popup({\n",
       "  &quot;maxWidth&quot;: &quot;100%&quot;,\n",
       "});\n",
       "\n",
       "        \n",
       "            \n",
       "                var html_058c05f7b1f33f8c54674d72e866186e = $(`&lt;div id=&quot;html_058c05f7b1f33f8c54674d72e866186e&quot; style=&quot;width: 100.0%; height: 100.0%;&quot;&gt;Tong Do Laug&lt;/div&gt;`)[0];\n",
       "                popup_febcb18becbc2dbe2a16849492e9abce.setContent(html_058c05f7b1f33f8c54674d72e866186e);\n",
       "            \n",
       "        \n",
       "\n",
       "        marker_6cc5133d42f55a59dfa28032169997de.bindPopup(popup_febcb18becbc2dbe2a16849492e9abce)\n",
       "        ;\n",
       "\n",
       "        \n",
       "    \n",
       "    \n",
       "            var marker_6245f79db6630c31b2cec5a7bb0a8e71 = L.marker(\n",
       "                [22.971547817928165, -82.38488832082872],\n",
       "                {\n",
       "}\n",
       "            ).addTo(map_eac3e686e37a9ed8ab94d2de922915a2);\n",
       "        \n",
       "    \n",
       "            var icon_5cb0473dc34204fce39a4a5ee8fe6ac7 = L.AwesomeMarkers.icon(\n",
       "                {\n",
       "  &quot;markerColor&quot;: &quot;darkblue&quot;,\n",
       "  &quot;iconColor&quot;: &quot;white&quot;,\n",
       "  &quot;icon&quot;: &quot;info-sign&quot;,\n",
       "  &quot;prefix&quot;: &quot;glyphicon&quot;,\n",
       "  &quot;extraClasses&quot;: &quot;fa-rotate-0&quot;,\n",
       "}\n",
       "            );\n",
       "            marker_6245f79db6630c31b2cec5a7bb0a8e71.setIcon(icon_5cb0473dc34204fce39a4a5ee8fe6ac7);\n",
       "        \n",
       "    \n",
       "        var popup_84cec172212ff7181b4030db752f47ef = L.popup({\n",
       "  &quot;maxWidth&quot;: &quot;100%&quot;,\n",
       "});\n",
       "\n",
       "        \n",
       "            \n",
       "                var html_93a0d62a2f51938367159c20998f04f9 = $(`&lt;div id=&quot;html_93a0d62a2f51938367159c20998f04f9&quot; style=&quot;width: 100.0%; height: 100.0%;&quot;&gt;Tanokura&lt;/div&gt;`)[0];\n",
       "                popup_84cec172212ff7181b4030db752f47ef.setContent(html_93a0d62a2f51938367159c20998f04f9);\n",
       "            \n",
       "        \n",
       "\n",
       "        marker_6245f79db6630c31b2cec5a7bb0a8e71.bindPopup(popup_84cec172212ff7181b4030db752f47ef)\n",
       "        ;\n",
       "\n",
       "        \n",
       "    \n",
       "    \n",
       "            var marker_494910972c754f11553b90280c59ddab = L.marker(\n",
       "                [23.136167028292387, -82.35497380716978],\n",
       "                {\n",
       "}\n",
       "            ).addTo(map_eac3e686e37a9ed8ab94d2de922915a2);\n",
       "        \n",
       "    \n",
       "            var icon_9529e098fea73cc9528b5eb190f884b5 = L.AwesomeMarkers.icon(\n",
       "                {\n",
       "  &quot;markerColor&quot;: &quot;darkblue&quot;,\n",
       "  &quot;iconColor&quot;: &quot;white&quot;,\n",
       "  &quot;icon&quot;: &quot;info-sign&quot;,\n",
       "  &quot;prefix&quot;: &quot;glyphicon&quot;,\n",
       "  &quot;extraClasses&quot;: &quot;fa-rotate-0&quot;,\n",
       "}\n",
       "            );\n",
       "            marker_494910972c754f11553b90280c59ddab.setIcon(icon_9529e098fea73cc9528b5eb190f884b5);\n",
       "        \n",
       "    \n",
       "        var popup_a0745bd2c5e175c76e487017e746b569 = L.popup({\n",
       "  &quot;maxWidth&quot;: &quot;100%&quot;,\n",
       "});\n",
       "\n",
       "        \n",
       "            \n",
       "                var html_233e9112700ae7ffeb7f0f17b8b549ae = $(`&lt;div id=&quot;html_233e9112700ae7ffeb7f0f17b8b549ae&quot; style=&quot;width: 100.0%; height: 100.0%;&quot;&gt;Teniente Rey 360&lt;/div&gt;`)[0];\n",
       "                popup_a0745bd2c5e175c76e487017e746b569.setContent(html_233e9112700ae7ffeb7f0f17b8b549ae);\n",
       "            \n",
       "        \n",
       "\n",
       "        marker_494910972c754f11553b90280c59ddab.bindPopup(popup_a0745bd2c5e175c76e487017e746b569)\n",
       "        ;\n",
       "\n",
       "        \n",
       "    \n",
       "    \n",
       "            var marker_05709b8ec01fa3f15921bcd03ddaa153 = L.marker(\n",
       "                [23.05191156648548, -82.38229337842735],\n",
       "                {\n",
       "}\n",
       "            ).addTo(map_eac3e686e37a9ed8ab94d2de922915a2);\n",
       "        \n",
       "    \n",
       "            var icon_0ed8592b54d1c0f33190d0ea139a4df8 = L.AwesomeMarkers.icon(\n",
       "                {\n",
       "  &quot;markerColor&quot;: &quot;darkblue&quot;,\n",
       "  &quot;iconColor&quot;: &quot;white&quot;,\n",
       "  &quot;icon&quot;: &quot;info-sign&quot;,\n",
       "  &quot;prefix&quot;: &quot;glyphicon&quot;,\n",
       "  &quot;extraClasses&quot;: &quot;fa-rotate-0&quot;,\n",
       "}\n",
       "            );\n",
       "            marker_05709b8ec01fa3f15921bcd03ddaa153.setIcon(icon_0ed8592b54d1c0f33190d0ea139a4df8);\n",
       "        \n",
       "    \n",
       "        var popup_be1cd5340bfd85a01409a76f27597007 = L.popup({\n",
       "  &quot;maxWidth&quot;: &quot;100%&quot;,\n",
       "});\n",
       "\n",
       "        \n",
       "            \n",
       "                var html_db911ad8a14e5523ce2b6c9bd2aaa698 = $(`&lt;div id=&quot;html_db911ad8a14e5523ce2b6c9bd2aaa698&quot; style=&quot;width: 100.0%; height: 100.0%;&quot;&gt;The Place&lt;/div&gt;`)[0];\n",
       "                popup_be1cd5340bfd85a01409a76f27597007.setContent(html_db911ad8a14e5523ce2b6c9bd2aaa698);\n",
       "            \n",
       "        \n",
       "\n",
       "        marker_05709b8ec01fa3f15921bcd03ddaa153.bindPopup(popup_be1cd5340bfd85a01409a76f27597007)\n",
       "        ;\n",
       "\n",
       "        \n",
       "    \n",
       "    \n",
       "            var marker_e85b882cd5dd12ad87040e2849351542 = L.marker(\n",
       "                [23.13799192742151, -82.36028647833432],\n",
       "                {\n",
       "}\n",
       "            ).addTo(map_eac3e686e37a9ed8ab94d2de922915a2);\n",
       "        \n",
       "    \n",
       "            var icon_f313ed84e029ae2f7d8df33af46654c6 = L.AwesomeMarkers.icon(\n",
       "                {\n",
       "  &quot;markerColor&quot;: &quot;darkblue&quot;,\n",
       "  &quot;iconColor&quot;: &quot;white&quot;,\n",
       "  &quot;icon&quot;: &quot;info-sign&quot;,\n",
       "  &quot;prefix&quot;: &quot;glyphicon&quot;,\n",
       "  &quot;extraClasses&quot;: &quot;fa-rotate-0&quot;,\n",
       "}\n",
       "            );\n",
       "            marker_e85b882cd5dd12ad87040e2849351542.setIcon(icon_f313ed84e029ae2f7d8df33af46654c6);\n",
       "        \n",
       "    \n",
       "        var popup_0133b396dc11dcb4d28225a074e8a4f8 = L.popup({\n",
       "  &quot;maxWidth&quot;: &quot;100%&quot;,\n",
       "});\n",
       "\n",
       "        \n",
       "            \n",
       "                var html_ca9adabfe5a87be88a2a871a87600251 = $(`&lt;div id=&quot;html_ca9adabfe5a87be88a2a871a87600251&quot; style=&quot;width: 100.0%; height: 100.0%;&quot;&gt;Tonyzz Bar&lt;/div&gt;`)[0];\n",
       "                popup_0133b396dc11dcb4d28225a074e8a4f8.setContent(html_ca9adabfe5a87be88a2a871a87600251);\n",
       "            \n",
       "        \n",
       "\n",
       "        marker_e85b882cd5dd12ad87040e2849351542.bindPopup(popup_0133b396dc11dcb4d28225a074e8a4f8)\n",
       "        ;\n",
       "\n",
       "        \n",
       "    \n",
       "    \n",
       "            var marker_750d32c7796472b33194bec54e424bb3 = L.marker(\n",
       "                [23.128870429493183, -82.41660271357874],\n",
       "                {\n",
       "}\n",
       "            ).addTo(map_eac3e686e37a9ed8ab94d2de922915a2);\n",
       "        \n",
       "    \n",
       "            var icon_7672d590188de433d7455bce33f247db = L.AwesomeMarkers.icon(\n",
       "                {\n",
       "  &quot;markerColor&quot;: &quot;darkblue&quot;,\n",
       "  &quot;iconColor&quot;: &quot;white&quot;,\n",
       "  &quot;icon&quot;: &quot;info-sign&quot;,\n",
       "  &quot;prefix&quot;: &quot;glyphicon&quot;,\n",
       "  &quot;extraClasses&quot;: &quot;fa-rotate-0&quot;,\n",
       "}\n",
       "            );\n",
       "            marker_750d32c7796472b33194bec54e424bb3.setIcon(icon_7672d590188de433d7455bce33f247db);\n",
       "        \n",
       "    \n",
       "        var popup_89a1fd9e60afa978db2117438313a425 = L.popup({\n",
       "  &quot;maxWidth&quot;: &quot;100%&quot;,\n",
       "});\n",
       "\n",
       "        \n",
       "            \n",
       "                var html_7bedfdd8d1d9cc00998ff29934ae188c = $(`&lt;div id=&quot;html_7bedfdd8d1d9cc00998ff29934ae188c&quot; style=&quot;width: 100.0%; height: 100.0%;&quot;&gt;Toros y Tapas&lt;/div&gt;`)[0];\n",
       "                popup_89a1fd9e60afa978db2117438313a425.setContent(html_7bedfdd8d1d9cc00998ff29934ae188c);\n",
       "            \n",
       "        \n",
       "\n",
       "        marker_750d32c7796472b33194bec54e424bb3.bindPopup(popup_89a1fd9e60afa978db2117438313a425)\n",
       "        ;\n",
       "\n",
       "        \n",
       "    \n",
       "    \n",
       "            var marker_6556a88eeebd3837d38a5db2f4d355c1 = L.marker(\n",
       "                [23.09846432898506, -82.42637763877254],\n",
       "                {\n",
       "}\n",
       "            ).addTo(map_eac3e686e37a9ed8ab94d2de922915a2);\n",
       "        \n",
       "    \n",
       "            var icon_432720999b6e61ce91933d68c377fd85 = L.AwesomeMarkers.icon(\n",
       "                {\n",
       "  &quot;markerColor&quot;: &quot;darkblue&quot;,\n",
       "  &quot;iconColor&quot;: &quot;white&quot;,\n",
       "  &quot;icon&quot;: &quot;info-sign&quot;,\n",
       "  &quot;prefix&quot;: &quot;glyphicon&quot;,\n",
       "  &quot;extraClasses&quot;: &quot;fa-rotate-0&quot;,\n",
       "}\n",
       "            );\n",
       "            marker_6556a88eeebd3837d38a5db2f4d355c1.setIcon(icon_432720999b6e61ce91933d68c377fd85);\n",
       "        \n",
       "    \n",
       "        var popup_18ebd2a33bf2c57ab907f3784ea48460 = L.popup({\n",
       "  &quot;maxWidth&quot;: &quot;100%&quot;,\n",
       "});\n",
       "\n",
       "        \n",
       "            \n",
       "                var html_16d305610796e3281a53e0a4cb30c81b = $(`&lt;div id=&quot;html_16d305610796e3281a53e0a4cb30c81b&quot; style=&quot;width: 100.0%; height: 100.0%;&quot;&gt;Tropikana&lt;/div&gt;`)[0];\n",
       "                popup_18ebd2a33bf2c57ab907f3784ea48460.setContent(html_16d305610796e3281a53e0a4cb30c81b);\n",
       "            \n",
       "        \n",
       "\n",
       "        marker_6556a88eeebd3837d38a5db2f4d355c1.bindPopup(popup_18ebd2a33bf2c57ab907f3784ea48460)\n",
       "        ;\n",
       "\n",
       "        \n",
       "    \n",
       "    \n",
       "            var marker_708018227f53566e8bf783a6ab4497d5 = L.marker(\n",
       "                [23.1401557660662, -82.37586279184762],\n",
       "                {\n",
       "}\n",
       "            ).addTo(map_eac3e686e37a9ed8ab94d2de922915a2);\n",
       "        \n",
       "    \n",
       "            var icon_0a3f80551b8ddb896d78142c9d4d539c = L.AwesomeMarkers.icon(\n",
       "                {\n",
       "  &quot;markerColor&quot;: &quot;darkblue&quot;,\n",
       "  &quot;iconColor&quot;: &quot;white&quot;,\n",
       "  &quot;icon&quot;: &quot;info-sign&quot;,\n",
       "  &quot;prefix&quot;: &quot;glyphicon&quot;,\n",
       "  &quot;extraClasses&quot;: &quot;fa-rotate-0&quot;,\n",
       "}\n",
       "            );\n",
       "            marker_708018227f53566e8bf783a6ab4497d5.setIcon(icon_0a3f80551b8ddb896d78142c9d4d539c);\n",
       "        \n",
       "    \n",
       "        var popup_f96a031a99955a7bc914d029a35446d7 = L.popup({\n",
       "  &quot;maxWidth&quot;: &quot;100%&quot;,\n",
       "});\n",
       "\n",
       "        \n",
       "            \n",
       "                var html_41a0a089daf929ed3b9fb3f8a65eddad = $(`&lt;div id=&quot;html_41a0a089daf929ed3b9fb3f8a65eddad&quot; style=&quot;width: 100.0%; height: 100.0%;&quot;&gt;Tu Tiempo&lt;/div&gt;`)[0];\n",
       "                popup_f96a031a99955a7bc914d029a35446d7.setContent(html_41a0a089daf929ed3b9fb3f8a65eddad);\n",
       "            \n",
       "        \n",
       "\n",
       "        marker_708018227f53566e8bf783a6ab4497d5.bindPopup(popup_f96a031a99955a7bc914d029a35446d7)\n",
       "        ;\n",
       "\n",
       "        \n",
       "    \n",
       "    \n",
       "            var marker_7311076ea2017d0f76733444fc7b58b7 = L.marker(\n",
       "                [23.13880856299898, -82.37737514949882],\n",
       "                {\n",
       "}\n",
       "            ).addTo(map_eac3e686e37a9ed8ab94d2de922915a2);\n",
       "        \n",
       "    \n",
       "            var icon_c361e8a0c2110b17f0a45b351f21d2df = L.AwesomeMarkers.icon(\n",
       "                {\n",
       "  &quot;markerColor&quot;: &quot;darkblue&quot;,\n",
       "  &quot;iconColor&quot;: &quot;white&quot;,\n",
       "  &quot;icon&quot;: &quot;info-sign&quot;,\n",
       "  &quot;prefix&quot;: &quot;glyphicon&quot;,\n",
       "  &quot;extraClasses&quot;: &quot;fa-rotate-0&quot;,\n",
       "}\n",
       "            );\n",
       "            marker_7311076ea2017d0f76733444fc7b58b7.setIcon(icon_c361e8a0c2110b17f0a45b351f21d2df);\n",
       "        \n",
       "    \n",
       "        var popup_d86072d5d54fddd639bc1c085b237973 = L.popup({\n",
       "  &quot;maxWidth&quot;: &quot;100%&quot;,\n",
       "});\n",
       "\n",
       "        \n",
       "            \n",
       "                var html_57e382cbd70ff76f587b99afd1854de1 = $(`&lt;div id=&quot;html_57e382cbd70ff76f587b99afd1854de1&quot; style=&quot;width: 100.0%; height: 100.0%;&quot;&gt;Tutti Frutti&lt;/div&gt;`)[0];\n",
       "                popup_d86072d5d54fddd639bc1c085b237973.setContent(html_57e382cbd70ff76f587b99afd1854de1);\n",
       "            \n",
       "        \n",
       "\n",
       "        marker_7311076ea2017d0f76733444fc7b58b7.bindPopup(popup_d86072d5d54fddd639bc1c085b237973)\n",
       "        ;\n",
       "\n",
       "        \n",
       "    \n",
       "    \n",
       "            var marker_31376ab7726bac6f477ca14d72034b94 = L.marker(\n",
       "                [23.122304238305055, -82.2959622459654],\n",
       "                {\n",
       "}\n",
       "            ).addTo(map_eac3e686e37a9ed8ab94d2de922915a2);\n",
       "        \n",
       "    \n",
       "            var icon_98b90499fe25aa089f1ba87e2c707760 = L.AwesomeMarkers.icon(\n",
       "                {\n",
       "  &quot;markerColor&quot;: &quot;darkblue&quot;,\n",
       "  &quot;iconColor&quot;: &quot;white&quot;,\n",
       "  &quot;icon&quot;: &quot;info-sign&quot;,\n",
       "  &quot;prefix&quot;: &quot;glyphicon&quot;,\n",
       "  &quot;extraClasses&quot;: &quot;fa-rotate-0&quot;,\n",
       "}\n",
       "            );\n",
       "            marker_31376ab7726bac6f477ca14d72034b94.setIcon(icon_98b90499fe25aa089f1ba87e2c707760);\n",
       "        \n",
       "    \n",
       "        var popup_539cd25d5b508baba26e4064b1597f42 = L.popup({\n",
       "  &quot;maxWidth&quot;: &quot;100%&quot;,\n",
       "});\n",
       "\n",
       "        \n",
       "            \n",
       "                var html_6e007e0a18db14ac3ec0e704f2af1065 = $(`&lt;div id=&quot;html_6e007e0a18db14ac3ec0e704f2af1065&quot; style=&quot;width: 100.0%; height: 100.0%;&quot;&gt;Vale &amp; Vane&lt;/div&gt;`)[0];\n",
       "                popup_539cd25d5b508baba26e4064b1597f42.setContent(html_6e007e0a18db14ac3ec0e704f2af1065);\n",
       "            \n",
       "        \n",
       "\n",
       "        marker_31376ab7726bac6f477ca14d72034b94.bindPopup(popup_539cd25d5b508baba26e4064b1597f42)\n",
       "        ;\n",
       "\n",
       "        \n",
       "    \n",
       "    \n",
       "            var marker_953b58f113c400c6c0da1af7facb61ac = L.marker(\n",
       "                [23.125381234140697, -82.30590767987889],\n",
       "                {\n",
       "}\n",
       "            ).addTo(map_eac3e686e37a9ed8ab94d2de922915a2);\n",
       "        \n",
       "    \n",
       "            var icon_7bd0597e62d7ddd8e99193cc72c9de8f = L.AwesomeMarkers.icon(\n",
       "                {\n",
       "  &quot;markerColor&quot;: &quot;darkblue&quot;,\n",
       "  &quot;iconColor&quot;: &quot;white&quot;,\n",
       "  &quot;icon&quot;: &quot;info-sign&quot;,\n",
       "  &quot;prefix&quot;: &quot;glyphicon&quot;,\n",
       "  &quot;extraClasses&quot;: &quot;fa-rotate-0&quot;,\n",
       "}\n",
       "            );\n",
       "            marker_953b58f113c400c6c0da1af7facb61ac.setIcon(icon_7bd0597e62d7ddd8e99193cc72c9de8f);\n",
       "        \n",
       "    \n",
       "        var popup_2f9aaca4406ac7b72c23220acc63d54f = L.popup({\n",
       "  &quot;maxWidth&quot;: &quot;100%&quot;,\n",
       "});\n",
       "\n",
       "        \n",
       "            \n",
       "                var html_63c17f4a3c85683729ad4c1656033a34 = $(`&lt;div id=&quot;html_63c17f4a3c85683729ad4c1656033a34&quot; style=&quot;width: 100.0%; height: 100.0%;&quot;&gt;Cafe Versalles&lt;/div&gt;`)[0];\n",
       "                popup_2f9aaca4406ac7b72c23220acc63d54f.setContent(html_63c17f4a3c85683729ad4c1656033a34);\n",
       "            \n",
       "        \n",
       "\n",
       "        marker_953b58f113c400c6c0da1af7facb61ac.bindPopup(popup_2f9aaca4406ac7b72c23220acc63d54f)\n",
       "        ;\n",
       "\n",
       "        \n",
       "    \n",
       "    \n",
       "            var marker_f3e471e3eee971e17e4b040c7230626b = L.marker(\n",
       "                [23.10341935595807, -82.41834601431532],\n",
       "                {\n",
       "}\n",
       "            ).addTo(map_eac3e686e37a9ed8ab94d2de922915a2);\n",
       "        \n",
       "    \n",
       "            var icon_b41aafc3a8562a1b2e28f9e7e25150f3 = L.AwesomeMarkers.icon(\n",
       "                {\n",
       "  &quot;markerColor&quot;: &quot;darkblue&quot;,\n",
       "  &quot;iconColor&quot;: &quot;white&quot;,\n",
       "  &quot;icon&quot;: &quot;info-sign&quot;,\n",
       "  &quot;prefix&quot;: &quot;glyphicon&quot;,\n",
       "  &quot;extraClasses&quot;: &quot;fa-rotate-0&quot;,\n",
       "}\n",
       "            );\n",
       "            marker_f3e471e3eee971e17e4b040c7230626b.setIcon(icon_b41aafc3a8562a1b2e28f9e7e25150f3);\n",
       "        \n",
       "    \n",
       "        var popup_c7751f7b3db7cb3202b17850ed35ee15 = L.popup({\n",
       "  &quot;maxWidth&quot;: &quot;100%&quot;,\n",
       "});\n",
       "\n",
       "        \n",
       "            \n",
       "                var html_ba12a1284e0255b84183f083ad7047b1 = $(`&lt;div id=&quot;html_ba12a1284e0255b84183f083ad7047b1&quot; style=&quot;width: 100.0%; height: 100.0%;&quot;&gt;Villarino&lt;/div&gt;`)[0];\n",
       "                popup_c7751f7b3db7cb3202b17850ed35ee15.setContent(html_ba12a1284e0255b84183f083ad7047b1);\n",
       "            \n",
       "        \n",
       "\n",
       "        marker_f3e471e3eee971e17e4b040c7230626b.bindPopup(popup_c7751f7b3db7cb3202b17850ed35ee15)\n",
       "        ;\n",
       "\n",
       "        \n",
       "    \n",
       "    \n",
       "            var marker_4106a69d1049a7e87b2d52914bb11fd9 = L.marker(\n",
       "                [23.140886322733916, -82.38453443415708],\n",
       "                {\n",
       "}\n",
       "            ).addTo(map_eac3e686e37a9ed8ab94d2de922915a2);\n",
       "        \n",
       "    \n",
       "            var icon_c8ce3c1ddfca990a753940492470a9bf = L.AwesomeMarkers.icon(\n",
       "                {\n",
       "  &quot;markerColor&quot;: &quot;darkblue&quot;,\n",
       "  &quot;iconColor&quot;: &quot;white&quot;,\n",
       "  &quot;icon&quot;: &quot;info-sign&quot;,\n",
       "  &quot;prefix&quot;: &quot;glyphicon&quot;,\n",
       "  &quot;extraClasses&quot;: &quot;fa-rotate-0&quot;,\n",
       "}\n",
       "            );\n",
       "            marker_4106a69d1049a7e87b2d52914bb11fd9.setIcon(icon_c8ce3c1ddfca990a753940492470a9bf);\n",
       "        \n",
       "    \n",
       "        var popup_8414eeff7091f08d4adb544acf96aac4 = L.popup({\n",
       "  &quot;maxWidth&quot;: &quot;100%&quot;,\n",
       "});\n",
       "\n",
       "        \n",
       "            \n",
       "                var html_22837798dba27acc3b24f1646ab300f3 = $(`&lt;div id=&quot;html_22837798dba27acc3b24f1646ab300f3&quot; style=&quot;width: 100.0%; height: 100.0%;&quot;&gt;Vita Nuova&lt;/div&gt;`)[0];\n",
       "                popup_8414eeff7091f08d4adb544acf96aac4.setContent(html_22837798dba27acc3b24f1646ab300f3);\n",
       "            \n",
       "        \n",
       "\n",
       "        marker_4106a69d1049a7e87b2d52914bb11fd9.bindPopup(popup_8414eeff7091f08d4adb544acf96aac4)\n",
       "        ;\n",
       "\n",
       "        \n",
       "    \n",
       "    \n",
       "            var marker_a7d8d0f6dc8b9c27b9cd52aabfab913c = L.marker(\n",
       "                [23.133054069126786, -82.39869353392423],\n",
       "                {\n",
       "}\n",
       "            ).addTo(map_eac3e686e37a9ed8ab94d2de922915a2);\n",
       "        \n",
       "    \n",
       "            var icon_072f6c8c9b175c67160a2fb06d26d793 = L.AwesomeMarkers.icon(\n",
       "                {\n",
       "  &quot;markerColor&quot;: &quot;darkblue&quot;,\n",
       "  &quot;iconColor&quot;: &quot;white&quot;,\n",
       "  &quot;icon&quot;: &quot;info-sign&quot;,\n",
       "  &quot;prefix&quot;: &quot;glyphicon&quot;,\n",
       "  &quot;extraClasses&quot;: &quot;fa-rotate-0&quot;,\n",
       "}\n",
       "            );\n",
       "            marker_a7d8d0f6dc8b9c27b9cd52aabfab913c.setIcon(icon_072f6c8c9b175c67160a2fb06d26d793);\n",
       "        \n",
       "    \n",
       "        var popup_f18191de514f503242fec13ce6814315 = L.popup({\n",
       "  &quot;maxWidth&quot;: &quot;100%&quot;,\n",
       "});\n",
       "\n",
       "        \n",
       "            \n",
       "                var html_39e9b0633a633e7cf4b977f00be4f672 = $(`&lt;div id=&quot;html_39e9b0633a633e7cf4b977f00be4f672&quot; style=&quot;width: 100.0%; height: 100.0%;&quot;&gt;Wapa&lt;/div&gt;`)[0];\n",
       "                popup_f18191de514f503242fec13ce6814315.setContent(html_39e9b0633a633e7cf4b977f00be4f672);\n",
       "            \n",
       "        \n",
       "\n",
       "        marker_a7d8d0f6dc8b9c27b9cd52aabfab913c.bindPopup(popup_f18191de514f503242fec13ce6814315)\n",
       "        ;\n",
       "\n",
       "        \n",
       "    \n",
       "    \n",
       "            var marker_2c0834b57de5453ca40924e8ebcf8092 = L.marker(\n",
       "                [23.099170645364698, -82.33964892703689],\n",
       "                {\n",
       "}\n",
       "            ).addTo(map_eac3e686e37a9ed8ab94d2de922915a2);\n",
       "        \n",
       "    \n",
       "            var icon_db0103721f81efd8d297687b5122a1c1 = L.AwesomeMarkers.icon(\n",
       "                {\n",
       "  &quot;markerColor&quot;: &quot;darkblue&quot;,\n",
       "  &quot;iconColor&quot;: &quot;white&quot;,\n",
       "  &quot;icon&quot;: &quot;info-sign&quot;,\n",
       "  &quot;prefix&quot;: &quot;glyphicon&quot;,\n",
       "  &quot;extraClasses&quot;: &quot;fa-rotate-0&quot;,\n",
       "}\n",
       "            );\n",
       "            marker_2c0834b57de5453ca40924e8ebcf8092.setIcon(icon_db0103721f81efd8d297687b5122a1c1);\n",
       "        \n",
       "    \n",
       "        var popup_deb7dc7b759dea926905e0f53af06ecc = L.popup({\n",
       "  &quot;maxWidth&quot;: &quot;100%&quot;,\n",
       "});\n",
       "\n",
       "        \n",
       "            \n",
       "                var html_19dbd3edda8e51548756fc58f6978acb = $(`&lt;div id=&quot;html_19dbd3edda8e51548756fc58f6978acb&quot; style=&quot;width: 100.0%; height: 100.0%;&quot;&gt;Yesterday Havana&lt;/div&gt;`)[0];\n",
       "                popup_deb7dc7b759dea926905e0f53af06ecc.setContent(html_19dbd3edda8e51548756fc58f6978acb);\n",
       "            \n",
       "        \n",
       "\n",
       "        marker_2c0834b57de5453ca40924e8ebcf8092.bindPopup(popup_deb7dc7b759dea926905e0f53af06ecc)\n",
       "        ;\n",
       "\n",
       "        \n",
       "    \n",
       "&lt;/script&gt;\n",
       "&lt;/html&gt;\" style=\"position:absolute;width:100%;height:100%;left:0;top:0;border:none !important;\" allowfullscreen webkitallowfullscreen mozallowfullscreen></iframe></div></div>"
      ],
      "text/plain": [
       "<folium.folium.Map at 0x2367ef26300>"
      ]
     },
     "execution_count": 70,
     "metadata": {},
     "output_type": "execute_result"
    }
   ],
   "source": [
    "mapa = folium.Map(location=[23.1136, -82.3666], zoom_start=12)  # Coordenadas de La Habana\n",
    "\n",
    "for index, row in df.iterrows():\n",
    "    latitude = row['coordinates']['latitude']\n",
    "    longitude = row['coordinates']['longitude']\n",
    "    name = row['name']\n",
    "    \n",
    "    folium.Marker(\n",
    "        location=[latitude, longitude],\n",
    "        popup=name,\n",
    "        icon=folium.Icon(color='darkblue')\n",
    "    ).add_to(mapa)\n",
    "\n",
    "mapa"
   ]
  },
  {
   "cell_type": "markdown",
   "metadata": {},
   "source": [
    "Uno de los aspectos que consideraron de mayor importancia, principalmente para los más jóvenes, fue el análisis sobre cuántos establecimientos de los estudiados poseían redes sociales como Instagram y Facebook que, por lo general, influye en la popularidad del mismo."
   ]
  },
  {
   "cell_type": "markdown",
   "metadata": {},
   "source": [
    "-\"Sí, sí, que tenga redes es super importante, ahí suben fotos del local, de los platos y más o menos vas teniendo una idea. Para mí que tenga actividad en las plataformas digitales es muy buena señal. Hay que modernizarse.\""
   ]
  },
  {
   "cell_type": "code",
   "execution_count": 72,
   "metadata": {},
   "outputs": [
    {
     "data": {
      "application/vnd.plotly.v1+json": {
       "config": {
        "plotlyServerURL": "https://plot.ly"
       },
       "data": [
        {
         "alignmentgroup": "True",
         "hovertemplate": "Municipio=%{x}<br>Cantidad de Restaurantes=%{marker.color}<extra></extra>",
         "legendgroup": "",
         "marker": {
          "color": [
           21,
           21,
           14,
           6,
           5,
           5,
           5,
           4,
           3,
           3,
           3,
           2,
           2,
           1,
           1
          ],
          "coloraxis": "coloraxis",
          "pattern": {
           "shape": ""
          }
         },
         "name": "",
         "offsetgroup": "",
         "orientation": "v",
         "showlegend": false,
         "textposition": "auto",
         "type": "bar",
         "x": [
          "Playa",
          "Plaza de la Revolución",
          "Centro Habana",
          "Diez de Octubre",
          "Boyeros",
          "Habana del Este",
          "La Habana Vieja",
          "Arroyo Naranjo",
          "Guanabacoa",
          "Cotorro",
          "La Lisa",
          "Regla",
          "Cerro",
          "Marianao",
          "San Miguel del Padrón"
         ],
         "xaxis": "x",
         "y": [
          21,
          21,
          14,
          6,
          5,
          5,
          5,
          4,
          3,
          3,
          3,
          2,
          2,
          1,
          1
         ],
         "yaxis": "y"
        }
       ],
       "layout": {
        "barmode": "relative",
        "coloraxis": {
         "colorbar": {
          "title": {
           "text": "Cantidad de Restaurantes"
          }
         },
         "colorscale": [
          [
           0,
           "#0d0887"
          ],
          [
           0.1111111111111111,
           "#46039f"
          ],
          [
           0.2222222222222222,
           "#7201a8"
          ],
          [
           0.3333333333333333,
           "#9c179e"
          ],
          [
           0.4444444444444444,
           "#bd3786"
          ],
          [
           0.5555555555555556,
           "#d8576b"
          ],
          [
           0.6666666666666666,
           "#ed7953"
          ],
          [
           0.7777777777777778,
           "#fb9f3a"
          ],
          [
           0.8888888888888888,
           "#fdca26"
          ],
          [
           1,
           "#f0f921"
          ]
         ]
        },
        "legend": {
         "tracegroupgap": 0
        },
        "template": {
         "data": {
          "bar": [
           {
            "error_x": {
             "color": "#2a3f5f"
            },
            "error_y": {
             "color": "#2a3f5f"
            },
            "marker": {
             "line": {
              "color": "#E5ECF6",
              "width": 0.5
             },
             "pattern": {
              "fillmode": "overlay",
              "size": 10,
              "solidity": 0.2
             }
            },
            "type": "bar"
           }
          ],
          "barpolar": [
           {
            "marker": {
             "line": {
              "color": "#E5ECF6",
              "width": 0.5
             },
             "pattern": {
              "fillmode": "overlay",
              "size": 10,
              "solidity": 0.2
             }
            },
            "type": "barpolar"
           }
          ],
          "carpet": [
           {
            "aaxis": {
             "endlinecolor": "#2a3f5f",
             "gridcolor": "white",
             "linecolor": "white",
             "minorgridcolor": "white",
             "startlinecolor": "#2a3f5f"
            },
            "baxis": {
             "endlinecolor": "#2a3f5f",
             "gridcolor": "white",
             "linecolor": "white",
             "minorgridcolor": "white",
             "startlinecolor": "#2a3f5f"
            },
            "type": "carpet"
           }
          ],
          "choropleth": [
           {
            "colorbar": {
             "outlinewidth": 0,
             "ticks": ""
            },
            "type": "choropleth"
           }
          ],
          "contour": [
           {
            "colorbar": {
             "outlinewidth": 0,
             "ticks": ""
            },
            "colorscale": [
             [
              0,
              "#0d0887"
             ],
             [
              0.1111111111111111,
              "#46039f"
             ],
             [
              0.2222222222222222,
              "#7201a8"
             ],
             [
              0.3333333333333333,
              "#9c179e"
             ],
             [
              0.4444444444444444,
              "#bd3786"
             ],
             [
              0.5555555555555556,
              "#d8576b"
             ],
             [
              0.6666666666666666,
              "#ed7953"
             ],
             [
              0.7777777777777778,
              "#fb9f3a"
             ],
             [
              0.8888888888888888,
              "#fdca26"
             ],
             [
              1,
              "#f0f921"
             ]
            ],
            "type": "contour"
           }
          ],
          "contourcarpet": [
           {
            "colorbar": {
             "outlinewidth": 0,
             "ticks": ""
            },
            "type": "contourcarpet"
           }
          ],
          "heatmap": [
           {
            "colorbar": {
             "outlinewidth": 0,
             "ticks": ""
            },
            "colorscale": [
             [
              0,
              "#0d0887"
             ],
             [
              0.1111111111111111,
              "#46039f"
             ],
             [
              0.2222222222222222,
              "#7201a8"
             ],
             [
              0.3333333333333333,
              "#9c179e"
             ],
             [
              0.4444444444444444,
              "#bd3786"
             ],
             [
              0.5555555555555556,
              "#d8576b"
             ],
             [
              0.6666666666666666,
              "#ed7953"
             ],
             [
              0.7777777777777778,
              "#fb9f3a"
             ],
             [
              0.8888888888888888,
              "#fdca26"
             ],
             [
              1,
              "#f0f921"
             ]
            ],
            "type": "heatmap"
           }
          ],
          "heatmapgl": [
           {
            "colorbar": {
             "outlinewidth": 0,
             "ticks": ""
            },
            "colorscale": [
             [
              0,
              "#0d0887"
             ],
             [
              0.1111111111111111,
              "#46039f"
             ],
             [
              0.2222222222222222,
              "#7201a8"
             ],
             [
              0.3333333333333333,
              "#9c179e"
             ],
             [
              0.4444444444444444,
              "#bd3786"
             ],
             [
              0.5555555555555556,
              "#d8576b"
             ],
             [
              0.6666666666666666,
              "#ed7953"
             ],
             [
              0.7777777777777778,
              "#fb9f3a"
             ],
             [
              0.8888888888888888,
              "#fdca26"
             ],
             [
              1,
              "#f0f921"
             ]
            ],
            "type": "heatmapgl"
           }
          ],
          "histogram": [
           {
            "marker": {
             "pattern": {
              "fillmode": "overlay",
              "size": 10,
              "solidity": 0.2
             }
            },
            "type": "histogram"
           }
          ],
          "histogram2d": [
           {
            "colorbar": {
             "outlinewidth": 0,
             "ticks": ""
            },
            "colorscale": [
             [
              0,
              "#0d0887"
             ],
             [
              0.1111111111111111,
              "#46039f"
             ],
             [
              0.2222222222222222,
              "#7201a8"
             ],
             [
              0.3333333333333333,
              "#9c179e"
             ],
             [
              0.4444444444444444,
              "#bd3786"
             ],
             [
              0.5555555555555556,
              "#d8576b"
             ],
             [
              0.6666666666666666,
              "#ed7953"
             ],
             [
              0.7777777777777778,
              "#fb9f3a"
             ],
             [
              0.8888888888888888,
              "#fdca26"
             ],
             [
              1,
              "#f0f921"
             ]
            ],
            "type": "histogram2d"
           }
          ],
          "histogram2dcontour": [
           {
            "colorbar": {
             "outlinewidth": 0,
             "ticks": ""
            },
            "colorscale": [
             [
              0,
              "#0d0887"
             ],
             [
              0.1111111111111111,
              "#46039f"
             ],
             [
              0.2222222222222222,
              "#7201a8"
             ],
             [
              0.3333333333333333,
              "#9c179e"
             ],
             [
              0.4444444444444444,
              "#bd3786"
             ],
             [
              0.5555555555555556,
              "#d8576b"
             ],
             [
              0.6666666666666666,
              "#ed7953"
             ],
             [
              0.7777777777777778,
              "#fb9f3a"
             ],
             [
              0.8888888888888888,
              "#fdca26"
             ],
             [
              1,
              "#f0f921"
             ]
            ],
            "type": "histogram2dcontour"
           }
          ],
          "mesh3d": [
           {
            "colorbar": {
             "outlinewidth": 0,
             "ticks": ""
            },
            "type": "mesh3d"
           }
          ],
          "parcoords": [
           {
            "line": {
             "colorbar": {
              "outlinewidth": 0,
              "ticks": ""
             }
            },
            "type": "parcoords"
           }
          ],
          "pie": [
           {
            "automargin": true,
            "type": "pie"
           }
          ],
          "scatter": [
           {
            "fillpattern": {
             "fillmode": "overlay",
             "size": 10,
             "solidity": 0.2
            },
            "type": "scatter"
           }
          ],
          "scatter3d": [
           {
            "line": {
             "colorbar": {
              "outlinewidth": 0,
              "ticks": ""
             }
            },
            "marker": {
             "colorbar": {
              "outlinewidth": 0,
              "ticks": ""
             }
            },
            "type": "scatter3d"
           }
          ],
          "scattercarpet": [
           {
            "marker": {
             "colorbar": {
              "outlinewidth": 0,
              "ticks": ""
             }
            },
            "type": "scattercarpet"
           }
          ],
          "scattergeo": [
           {
            "marker": {
             "colorbar": {
              "outlinewidth": 0,
              "ticks": ""
             }
            },
            "type": "scattergeo"
           }
          ],
          "scattergl": [
           {
            "marker": {
             "colorbar": {
              "outlinewidth": 0,
              "ticks": ""
             }
            },
            "type": "scattergl"
           }
          ],
          "scattermapbox": [
           {
            "marker": {
             "colorbar": {
              "outlinewidth": 0,
              "ticks": ""
             }
            },
            "type": "scattermapbox"
           }
          ],
          "scatterpolar": [
           {
            "marker": {
             "colorbar": {
              "outlinewidth": 0,
              "ticks": ""
             }
            },
            "type": "scatterpolar"
           }
          ],
          "scatterpolargl": [
           {
            "marker": {
             "colorbar": {
              "outlinewidth": 0,
              "ticks": ""
             }
            },
            "type": "scatterpolargl"
           }
          ],
          "scatterternary": [
           {
            "marker": {
             "colorbar": {
              "outlinewidth": 0,
              "ticks": ""
             }
            },
            "type": "scatterternary"
           }
          ],
          "surface": [
           {
            "colorbar": {
             "outlinewidth": 0,
             "ticks": ""
            },
            "colorscale": [
             [
              0,
              "#0d0887"
             ],
             [
              0.1111111111111111,
              "#46039f"
             ],
             [
              0.2222222222222222,
              "#7201a8"
             ],
             [
              0.3333333333333333,
              "#9c179e"
             ],
             [
              0.4444444444444444,
              "#bd3786"
             ],
             [
              0.5555555555555556,
              "#d8576b"
             ],
             [
              0.6666666666666666,
              "#ed7953"
             ],
             [
              0.7777777777777778,
              "#fb9f3a"
             ],
             [
              0.8888888888888888,
              "#fdca26"
             ],
             [
              1,
              "#f0f921"
             ]
            ],
            "type": "surface"
           }
          ],
          "table": [
           {
            "cells": {
             "fill": {
              "color": "#EBF0F8"
             },
             "line": {
              "color": "white"
             }
            },
            "header": {
             "fill": {
              "color": "#C8D4E3"
             },
             "line": {
              "color": "white"
             }
            },
            "type": "table"
           }
          ]
         },
         "layout": {
          "annotationdefaults": {
           "arrowcolor": "#2a3f5f",
           "arrowhead": 0,
           "arrowwidth": 1
          },
          "autotypenumbers": "strict",
          "coloraxis": {
           "colorbar": {
            "outlinewidth": 0,
            "ticks": ""
           }
          },
          "colorscale": {
           "diverging": [
            [
             0,
             "#8e0152"
            ],
            [
             0.1,
             "#c51b7d"
            ],
            [
             0.2,
             "#de77ae"
            ],
            [
             0.3,
             "#f1b6da"
            ],
            [
             0.4,
             "#fde0ef"
            ],
            [
             0.5,
             "#f7f7f7"
            ],
            [
             0.6,
             "#e6f5d0"
            ],
            [
             0.7,
             "#b8e186"
            ],
            [
             0.8,
             "#7fbc41"
            ],
            [
             0.9,
             "#4d9221"
            ],
            [
             1,
             "#276419"
            ]
           ],
           "sequential": [
            [
             0,
             "#0d0887"
            ],
            [
             0.1111111111111111,
             "#46039f"
            ],
            [
             0.2222222222222222,
             "#7201a8"
            ],
            [
             0.3333333333333333,
             "#9c179e"
            ],
            [
             0.4444444444444444,
             "#bd3786"
            ],
            [
             0.5555555555555556,
             "#d8576b"
            ],
            [
             0.6666666666666666,
             "#ed7953"
            ],
            [
             0.7777777777777778,
             "#fb9f3a"
            ],
            [
             0.8888888888888888,
             "#fdca26"
            ],
            [
             1,
             "#f0f921"
            ]
           ],
           "sequentialminus": [
            [
             0,
             "#0d0887"
            ],
            [
             0.1111111111111111,
             "#46039f"
            ],
            [
             0.2222222222222222,
             "#7201a8"
            ],
            [
             0.3333333333333333,
             "#9c179e"
            ],
            [
             0.4444444444444444,
             "#bd3786"
            ],
            [
             0.5555555555555556,
             "#d8576b"
            ],
            [
             0.6666666666666666,
             "#ed7953"
            ],
            [
             0.7777777777777778,
             "#fb9f3a"
            ],
            [
             0.8888888888888888,
             "#fdca26"
            ],
            [
             1,
             "#f0f921"
            ]
           ]
          },
          "colorway": [
           "#636efa",
           "#EF553B",
           "#00cc96",
           "#ab63fa",
           "#FFA15A",
           "#19d3f3",
           "#FF6692",
           "#B6E880",
           "#FF97FF",
           "#FECB52"
          ],
          "font": {
           "color": "#2a3f5f"
          },
          "geo": {
           "bgcolor": "white",
           "lakecolor": "white",
           "landcolor": "#E5ECF6",
           "showlakes": true,
           "showland": true,
           "subunitcolor": "white"
          },
          "hoverlabel": {
           "align": "left"
          },
          "hovermode": "closest",
          "mapbox": {
           "style": "light"
          },
          "paper_bgcolor": "white",
          "plot_bgcolor": "#E5ECF6",
          "polar": {
           "angularaxis": {
            "gridcolor": "white",
            "linecolor": "white",
            "ticks": ""
           },
           "bgcolor": "#E5ECF6",
           "radialaxis": {
            "gridcolor": "white",
            "linecolor": "white",
            "ticks": ""
           }
          },
          "scene": {
           "xaxis": {
            "backgroundcolor": "#E5ECF6",
            "gridcolor": "white",
            "gridwidth": 2,
            "linecolor": "white",
            "showbackground": true,
            "ticks": "",
            "zerolinecolor": "white"
           },
           "yaxis": {
            "backgroundcolor": "#E5ECF6",
            "gridcolor": "white",
            "gridwidth": 2,
            "linecolor": "white",
            "showbackground": true,
            "ticks": "",
            "zerolinecolor": "white"
           },
           "zaxis": {
            "backgroundcolor": "#E5ECF6",
            "gridcolor": "white",
            "gridwidth": 2,
            "linecolor": "white",
            "showbackground": true,
            "ticks": "",
            "zerolinecolor": "white"
           }
          },
          "shapedefaults": {
           "line": {
            "color": "#2a3f5f"
           }
          },
          "ternary": {
           "aaxis": {
            "gridcolor": "white",
            "linecolor": "white",
            "ticks": ""
           },
           "baxis": {
            "gridcolor": "white",
            "linecolor": "white",
            "ticks": ""
           },
           "bgcolor": "#E5ECF6",
           "caxis": {
            "gridcolor": "white",
            "linecolor": "white",
            "ticks": ""
           }
          },
          "title": {
           "x": 0.05
          },
          "xaxis": {
           "automargin": true,
           "gridcolor": "white",
           "linecolor": "white",
           "ticks": "",
           "title": {
            "standoff": 15
           },
           "zerolinecolor": "white",
           "zerolinewidth": 2
          },
          "yaxis": {
           "automargin": true,
           "gridcolor": "white",
           "linecolor": "white",
           "ticks": "",
           "title": {
            "standoff": 15
           },
           "zerolinecolor": "white",
           "zerolinewidth": 2
          }
         }
        },
        "title": {
         "text": "Cantidad de Restaurantes con Redes Sociales por Municipio"
        },
        "xaxis": {
         "anchor": "y",
         "domain": [
          0,
          1
         ],
         "tickangle": -45,
         "title": {
          "text": "Municipio"
         }
        },
        "yaxis": {
         "anchor": "x",
         "domain": [
          0,
          1
         ],
         "title": {
          "text": "Cantidad de Restaurantes"
         }
        }
       }
      }
     },
     "metadata": {},
     "output_type": "display_data"
    }
   ],
   "source": [
    "#Ver la cantidad de establecimientos por municipio que tiene Instagram y Facebook.\n",
    "def social_networks(contact):\n",
    "    return bool(contact.get('instagram')) and bool(contact.get('facebook'))\n",
    "\n",
    "df['has_social_net'] = df['contact'].apply(social_networks)\n",
    "\n",
    "df_social_net = df[df['has_social_net']]\n",
    "\n",
    "mun_count = df_social_net['district'].value_counts().reset_index()\n",
    "mun_count.columns = ['Municipio', 'Cantidad']\n",
    "\n",
    "fig = px.bar(mun_count, \n",
    "            x='Municipio', \n",
    "            y='Cantidad', \n",
    "            title='Cantidad de Restaurantes con Redes Sociales por Municipio',\n",
    "            labels={'Cantidad': 'Cantidad de Restaurantes', 'Municipio': 'Municipio'},\n",
    "            color='Cantidad',\n",
    "            color_continuous_scale=px.colors.sequential.Plasma)  # Cambiado a 'Greens'\n",
    "\n",
    "fig.update_layout(xaxis_tickangle=-45)  # Rotar las etiquetas del eje x\n",
    "fig.show()"
   ]
  },
  {
   "cell_type": "markdown",
   "metadata": {},
   "source": [
    "EL hecho de que algo le guste a muchas personas no implica necesariamente que te vaya a gustar a tí, pero tener referencias nunca está de más, por eso otro aspecto influyente que consideraron es la valoración del público. Se decidió analizar el rating de TripAdvisor para determinar cuáles eran los 20 mejores valorados y los 20 peores."
   ]
  },
  {
   "cell_type": "code",
   "execution_count": 150,
   "metadata": {},
   "outputs": [
    {
     "name": "stderr",
     "output_type": "stream",
     "text": [
      "C:\\Users\\andre\\AppData\\Local\\Temp\\ipykernel_5764\\2359392062.py:2: FutureWarning:\n",
      "\n",
      "A value is trying to be set on a copy of a DataFrame or Series through chained assignment using an inplace method.\n",
      "The behavior will change in pandas 3.0. This inplace method will never work because the intermediate object on which we are setting values always behaves as a copy.\n",
      "\n",
      "For example, when doing 'df[col].method(value, inplace=True)', try using 'df.method({col: value}, inplace=True)' or df[col] = df[col].method(value) instead, to perform the operation inplace on the original object.\n",
      "\n",
      "\n",
      "\n"
     ]
    },
    {
     "data": {
      "image/png": "[encoded data removed]",
      "text/plain": [
       "<Figure size 1500x800 with 1 Axes>"
      ]
     },
     "metadata": {},
     "output_type": "display_data"
    }
   ],
   "source": [
    "df_copy = df.copy() # Crea una copia del df\n",
    "df_copy['rating'].fillna(0, inplace=True)  # Alternativa más segura\n",
    "#df[df[\"rating\"].isna()]=0 #Hace cero los que tiene un rating \"null\"\n",
    "df_valid_ratings = df_copy.sort_values(by='rating', ascending=False).head(20) #Ordena de mayor a menor y solo deja los 20 mejores\n",
    "\n",
    "plt.figure(figsize=(15, 8))\n",
    "plt.barh(df_valid_ratings['name'], df_valid_ratings['rating'], color='purple')\n",
    "plt.title('Top 20 Establecimientos con mejor rating en La Habana', fontsize=16)\n",
    "plt.xlabel('Rating', fontsize=15)\n",
    "plt.ylabel('Restaurantes', fontsize=15)\n",
    "plt.xticks(fontsize=12)\n",
    "plt.yticks(fontsize=18)\n",
    "plt.tight_layout()\n",
    "plt.show()"
   ]
  },
  {
   "cell_type": "code",
   "execution_count": 151,
   "metadata": {},
   "outputs": [
    {
     "data": {
      "image/png": "[encoded data removed]",
      "text/plain": [
       "<Figure size 1500x800 with 1 Axes>"
      ]
     },
     "metadata": {},
     "output_type": "display_data"
    }
   ],
   "source": [
    "df_sorted_values = df.sort_values(by='rating', ascending=False).tail(51) #Ordena de mayor a menor y escoge las ultimas 51 lineas.\n",
    "veinte_peores = df_sorted_values.iloc[:20,:] #Se queda con las 20 primeras, las otras 31 son 0.\n",
    "\n",
    "plt.figure(figsize=(15, 8)) \n",
    "plt.barh(veinte_peores['name'], veinte_peores['rating'], color='red')\n",
    "plt.title('Top 20 Establecimientos con peor rating en La Habana', fontsize=16)\n",
    "plt.xlabel('Rating', fontsize=14)\n",
    "plt.ylabel('Restaurantes', fontsize=14)\n",
    "plt.xticks(fontsize=12)\n",
    "plt.yticks(fontsize=18)\n",
    "plt.tight_layout() \n",
    "plt.show()"
   ]
  },
  {
   "cell_type": "markdown",
   "metadata": {},
   "source": [
    "¿Eres más de comida tradicional o te gusta probar cosas nuevas todo el rato? Se sabe que la mayoría de los establecimientos ofrece comida criolla, cubana, pero después de esa ¿cuál es el tipo de comida que se oferta en mayor cantidad sitios?"
   ]
  },
  {
   "cell_type": "code",
   "execution_count": 124,
   "metadata": {},
   "outputs": [
    {
     "data": {
      "application/vnd.plotly.v1+json": {
       "config": {
        "plotlyServerURL": "https://plot.ly"
       },
       "data": [
        {
         "alignmentgroup": "True",
         "hovertemplate": "Tipo de Cocina=%{x}<br>Cantidad de Establecimientos=%{marker.color}<extra></extra>",
         "legendgroup": "",
         "marker": {
          "color": [
           104,
           49,
           45,
           43,
           38,
           31,
           24,
           17,
           10,
           8,
           8,
           5,
           4,
           4,
           4,
           2,
           1,
           1,
           1,
           1,
           1,
           1,
           1,
           1,
           1,
           1
          ],
          "coloraxis": "coloraxis",
          "pattern": {
           "shape": ""
          }
         },
         "name": "",
         "offsetgroup": "",
         "orientation": "v",
         "showlegend": false,
         "textposition": "auto",
         "type": "bar",
         "x": [
          "cubana",
          "italiana",
          "caribeña",
          "criolla",
          "internacional",
          0,
          "latina",
          "americana",
          "mexicana",
          "española",
          "mediterranea",
          "china",
          "fusion",
          "japonesa",
          "asiática",
          "centroamericana",
          "arabe",
          "libanesa",
          "turca",
          "europea",
          "cajún",
          "griega",
          "tailandesa",
          "sudamericana",
          "india",
          "ceilanesa"
         ],
         "xaxis": "x",
         "y": [
          104,
          49,
          45,
          43,
          38,
          31,
          24,
          17,
          10,
          8,
          8,
          5,
          4,
          4,
          4,
          2,
          1,
          1,
          1,
          1,
          1,
          1,
          1,
          1,
          1,
          1
         ],
         "yaxis": "y"
        }
       ],
       "layout": {
        "barmode": "relative",
        "coloraxis": {
         "colorbar": {
          "title": {
           "text": "Cantidad de Establecimientos"
          }
         },
         "colorscale": [
          [
           0,
           "#0d0887"
          ],
          [
           0.1111111111111111,
           "#46039f"
          ],
          [
           0.2222222222222222,
           "#7201a8"
          ],
          [
           0.3333333333333333,
           "#9c179e"
          ],
          [
           0.4444444444444444,
           "#bd3786"
          ],
          [
           0.5555555555555556,
           "#d8576b"
          ],
          [
           0.6666666666666666,
           "#ed7953"
          ],
          [
           0.7777777777777778,
           "#fb9f3a"
          ],
          [
           0.8888888888888888,
           "#fdca26"
          ],
          [
           1,
           "#f0f921"
          ]
         ]
        },
        "legend": {
         "tracegroupgap": 0
        },
        "template": {
         "data": {
          "bar": [
           {
            "error_x": {
             "color": "#2a3f5f"
            },
            "error_y": {
             "color": "#2a3f5f"
            },
            "marker": {
             "line": {
              "color": "#E5ECF6",
              "width": 0.5
             },
             "pattern": {
              "fillmode": "overlay",
              "size": 10,
              "solidity": 0.2
             }
            },
            "type": "bar"
           }
          ],
          "barpolar": [
           {
            "marker": {
             "line": {
              "color": "#E5ECF6",
              "width": 0.5
             },
             "pattern": {
              "fillmode": "overlay",
              "size": 10,
              "solidity": 0.2
             }
            },
            "type": "barpolar"
           }
          ],
          "carpet": [
           {
            "aaxis": {
             "endlinecolor": "#2a3f5f",
             "gridcolor": "white",
             "linecolor": "white",
             "minorgridcolor": "white",
             "startlinecolor": "#2a3f5f"
            },
            "baxis": {
             "endlinecolor": "#2a3f5f",
             "gridcolor": "white",
             "linecolor": "white",
             "minorgridcolor": "white",
             "startlinecolor": "#2a3f5f"
            },
            "type": "carpet"
           }
          ],
          "choropleth": [
           {
            "colorbar": {
             "outlinewidth": 0,
             "ticks": ""
            },
            "type": "choropleth"
           }
          ],
          "contour": [
           {
            "colorbar": {
             "outlinewidth": 0,
             "ticks": ""
            },
            "colorscale": [
             [
              0,
              "#0d0887"
             ],
             [
              0.1111111111111111,
              "#46039f"
             ],
             [
              0.2222222222222222,
              "#7201a8"
             ],
             [
              0.3333333333333333,
              "#9c179e"
             ],
             [
              0.4444444444444444,
              "#bd3786"
             ],
             [
              0.5555555555555556,
              "#d8576b"
             ],
             [
              0.6666666666666666,
              "#ed7953"
             ],
             [
              0.7777777777777778,
              "#fb9f3a"
             ],
             [
              0.8888888888888888,
              "#fdca26"
             ],
             [
              1,
              "#f0f921"
             ]
            ],
            "type": "contour"
           }
          ],
          "contourcarpet": [
           {
            "colorbar": {
             "outlinewidth": 0,
             "ticks": ""
            },
            "type": "contourcarpet"
           }
          ],
          "heatmap": [
           {
            "colorbar": {
             "outlinewidth": 0,
             "ticks": ""
            },
            "colorscale": [
             [
              0,
              "#0d0887"
             ],
             [
              0.1111111111111111,
              "#46039f"
             ],
             [
              0.2222222222222222,
              "#7201a8"
             ],
             [
              0.3333333333333333,
              "#9c179e"
             ],
             [
              0.4444444444444444,
              "#bd3786"
             ],
             [
              0.5555555555555556,
              "#d8576b"
             ],
             [
              0.6666666666666666,
              "#ed7953"
             ],
             [
              0.7777777777777778,
              "#fb9f3a"
             ],
             [
              0.8888888888888888,
              "#fdca26"
             ],
             [
              1,
              "#f0f921"
             ]
            ],
            "type": "heatmap"
           }
          ],
          "heatmapgl": [
           {
            "colorbar": {
             "outlinewidth": 0,
             "ticks": ""
            },
            "colorscale": [
             [
              0,
              "#0d0887"
             ],
             [
              0.1111111111111111,
              "#46039f"
             ],
             [
              0.2222222222222222,
              "#7201a8"
             ],
             [
              0.3333333333333333,
              "#9c179e"
             ],
             [
              0.4444444444444444,
              "#bd3786"
             ],
             [
              0.5555555555555556,
              "#d8576b"
             ],
             [
              0.6666666666666666,
              "#ed7953"
             ],
             [
              0.7777777777777778,
              "#fb9f3a"
             ],
             [
              0.8888888888888888,
              "#fdca26"
             ],
             [
              1,
              "#f0f921"
             ]
            ],
            "type": "heatmapgl"
           }
          ],
          "histogram": [
           {
            "marker": {
             "pattern": {
              "fillmode": "overlay",
              "size": 10,
              "solidity": 0.2
             }
            },
            "type": "histogram"
           }
          ],
          "histogram2d": [
           {
            "colorbar": {
             "outlinewidth": 0,
             "ticks": ""
            },
            "colorscale": [
             [
              0,
              "#0d0887"
             ],
             [
              0.1111111111111111,
              "#46039f"
             ],
             [
              0.2222222222222222,
              "#7201a8"
             ],
             [
              0.3333333333333333,
              "#9c179e"
             ],
             [
              0.4444444444444444,
              "#bd3786"
             ],
             [
              0.5555555555555556,
              "#d8576b"
             ],
             [
              0.6666666666666666,
              "#ed7953"
             ],
             [
              0.7777777777777778,
              "#fb9f3a"
             ],
             [
              0.8888888888888888,
              "#fdca26"
             ],
             [
              1,
              "#f0f921"
             ]
            ],
            "type": "histogram2d"
           }
          ],
          "histogram2dcontour": [
           {
            "colorbar": {
             "outlinewidth": 0,
             "ticks": ""
            },
            "colorscale": [
             [
              0,
              "#0d0887"
             ],
             [
              0.1111111111111111,
              "#46039f"
             ],
             [
              0.2222222222222222,
              "#7201a8"
             ],
             [
              0.3333333333333333,
              "#9c179e"
             ],
             [
              0.4444444444444444,
              "#bd3786"
             ],
             [
              0.5555555555555556,
              "#d8576b"
             ],
             [
              0.6666666666666666,
              "#ed7953"
             ],
             [
              0.7777777777777778,
              "#fb9f3a"
             ],
             [
              0.8888888888888888,
              "#fdca26"
             ],
             [
              1,
              "#f0f921"
             ]
            ],
            "type": "histogram2dcontour"
           }
          ],
          "mesh3d": [
           {
            "colorbar": {
             "outlinewidth": 0,
             "ticks": ""
            },
            "type": "mesh3d"
           }
          ],
          "parcoords": [
           {
            "line": {
             "colorbar": {
              "outlinewidth": 0,
              "ticks": ""
             }
            },
            "type": "parcoords"
           }
          ],
          "pie": [
           {
            "automargin": true,
            "type": "pie"
           }
          ],
          "scatter": [
           {
            "fillpattern": {
             "fillmode": "overlay",
             "size": 10,
             "solidity": 0.2
            },
            "type": "scatter"
           }
          ],
          "scatter3d": [
           {
            "line": {
             "colorbar": {
              "outlinewidth": 0,
              "ticks": ""
             }
            },
            "marker": {
             "colorbar": {
              "outlinewidth": 0,
              "ticks": ""
             }
            },
            "type": "scatter3d"
           }
          ],
          "scattercarpet": [
           {
            "marker": {
             "colorbar": {
              "outlinewidth": 0,
              "ticks": ""
             }
            },
            "type": "scattercarpet"
           }
          ],
          "scattergeo": [
           {
            "marker": {
             "colorbar": {
              "outlinewidth": 0,
              "ticks": ""
             }
            },
            "type": "scattergeo"
           }
          ],
          "scattergl": [
           {
            "marker": {
             "colorbar": {
              "outlinewidth": 0,
              "ticks": ""
             }
            },
            "type": "scattergl"
           }
          ],
          "scattermapbox": [
           {
            "marker": {
             "colorbar": {
              "outlinewidth": 0,
              "ticks": ""
             }
            },
            "type": "scattermapbox"
           }
          ],
          "scatterpolar": [
           {
            "marker": {
             "colorbar": {
              "outlinewidth": 0,
              "ticks": ""
             }
            },
            "type": "scatterpolar"
           }
          ],
          "scatterpolargl": [
           {
            "marker": {
             "colorbar": {
              "outlinewidth": 0,
              "ticks": ""
             }
            },
            "type": "scatterpolargl"
           }
          ],
          "scatterternary": [
           {
            "marker": {
             "colorbar": {
              "outlinewidth": 0,
              "ticks": ""
             }
            },
            "type": "scatterternary"
           }
          ],
          "surface": [
           {
            "colorbar": {
             "outlinewidth": 0,
             "ticks": ""
            },
            "colorscale": [
             [
              0,
              "#0d0887"
             ],
             [
              0.1111111111111111,
              "#46039f"
             ],
             [
              0.2222222222222222,
              "#7201a8"
             ],
             [
              0.3333333333333333,
              "#9c179e"
             ],
             [
              0.4444444444444444,
              "#bd3786"
             ],
             [
              0.5555555555555556,
              "#d8576b"
             ],
             [
              0.6666666666666666,
              "#ed7953"
             ],
             [
              0.7777777777777778,
              "#fb9f3a"
             ],
             [
              0.8888888888888888,
              "#fdca26"
             ],
             [
              1,
              "#f0f921"
             ]
            ],
            "type": "surface"
           }
          ],
          "table": [
           {
            "cells": {
             "fill": {
              "color": "#EBF0F8"
             },
             "line": {
              "color": "white"
             }
            },
            "header": {
             "fill": {
              "color": "#C8D4E3"
             },
             "line": {
              "color": "white"
             }
            },
            "type": "table"
           }
          ]
         },
         "layout": {
          "annotationdefaults": {
           "arrowcolor": "#2a3f5f",
           "arrowhead": 0,
           "arrowwidth": 1
          },
          "autotypenumbers": "strict",
          "coloraxis": {
           "colorbar": {
            "outlinewidth": 0,
            "ticks": ""
           }
          },
          "colorscale": {
           "diverging": [
            [
             0,
             "#8e0152"
            ],
            [
             0.1,
             "#c51b7d"
            ],
            [
             0.2,
             "#de77ae"
            ],
            [
             0.3,
             "#f1b6da"
            ],
            [
             0.4,
             "#fde0ef"
            ],
            [
             0.5,
             "#f7f7f7"
            ],
            [
             0.6,
             "#e6f5d0"
            ],
            [
             0.7,
             "#b8e186"
            ],
            [
             0.8,
             "#7fbc41"
            ],
            [
             0.9,
             "#4d9221"
            ],
            [
             1,
             "#276419"
            ]
           ],
           "sequential": [
            [
             0,
             "#0d0887"
            ],
            [
             0.1111111111111111,
             "#46039f"
            ],
            [
             0.2222222222222222,
             "#7201a8"
            ],
            [
             0.3333333333333333,
             "#9c179e"
            ],
            [
             0.4444444444444444,
             "#bd3786"
            ],
            [
             0.5555555555555556,
             "#d8576b"
            ],
            [
             0.6666666666666666,
             "#ed7953"
            ],
            [
             0.7777777777777778,
             "#fb9f3a"
            ],
            [
             0.8888888888888888,
             "#fdca26"
            ],
            [
             1,
             "#f0f921"
            ]
           ],
           "sequentialminus": [
            [
             0,
             "#0d0887"
            ],
            [
             0.1111111111111111,
             "#46039f"
            ],
            [
             0.2222222222222222,
             "#7201a8"
            ],
            [
             0.3333333333333333,
             "#9c179e"
            ],
            [
             0.4444444444444444,
             "#bd3786"
            ],
            [
             0.5555555555555556,
             "#d8576b"
            ],
            [
             0.6666666666666666,
             "#ed7953"
            ],
            [
             0.7777777777777778,
             "#fb9f3a"
            ],
            [
             0.8888888888888888,
             "#fdca26"
            ],
            [
             1,
             "#f0f921"
            ]
           ]
          },
          "colorway": [
           "#636efa",
           "#EF553B",
           "#00cc96",
           "#ab63fa",
           "#FFA15A",
           "#19d3f3",
           "#FF6692",
           "#B6E880",
           "#FF97FF",
           "#FECB52"
          ],
          "font": {
           "color": "#2a3f5f"
          },
          "geo": {
           "bgcolor": "white",
           "lakecolor": "white",
           "landcolor": "#E5ECF6",
           "showlakes": true,
           "showland": true,
           "subunitcolor": "white"
          },
          "hoverlabel": {
           "align": "left"
          },
          "hovermode": "closest",
          "mapbox": {
           "style": "light"
          },
          "paper_bgcolor": "white",
          "plot_bgcolor": "#E5ECF6",
          "polar": {
           "angularaxis": {
            "gridcolor": "white",
            "linecolor": "white",
            "ticks": ""
           },
           "bgcolor": "#E5ECF6",
           "radialaxis": {
            "gridcolor": "white",
            "linecolor": "white",
            "ticks": ""
           }
          },
          "scene": {
           "xaxis": {
            "backgroundcolor": "#E5ECF6",
            "gridcolor": "white",
            "gridwidth": 2,
            "linecolor": "white",
            "showbackground": true,
            "ticks": "",
            "zerolinecolor": "white"
           },
           "yaxis": {
            "backgroundcolor": "#E5ECF6",
            "gridcolor": "white",
            "gridwidth": 2,
            "linecolor": "white",
            "showbackground": true,
            "ticks": "",
            "zerolinecolor": "white"
           },
           "zaxis": {
            "backgroundcolor": "#E5ECF6",
            "gridcolor": "white",
            "gridwidth": 2,
            "linecolor": "white",
            "showbackground": true,
            "ticks": "",
            "zerolinecolor": "white"
           }
          },
          "shapedefaults": {
           "line": {
            "color": "#2a3f5f"
           }
          },
          "ternary": {
           "aaxis": {
            "gridcolor": "white",
            "linecolor": "white",
            "ticks": ""
           },
           "baxis": {
            "gridcolor": "white",
            "linecolor": "white",
            "ticks": ""
           },
           "bgcolor": "#E5ECF6",
           "caxis": {
            "gridcolor": "white",
            "linecolor": "white",
            "ticks": ""
           }
          },
          "title": {
           "x": 0.05
          },
          "xaxis": {
           "automargin": true,
           "gridcolor": "white",
           "linecolor": "white",
           "ticks": "",
           "title": {
            "standoff": 15
           },
           "zerolinecolor": "white",
           "zerolinewidth": 2
          },
          "yaxis": {
           "automargin": true,
           "gridcolor": "white",
           "linecolor": "white",
           "ticks": "",
           "title": {
            "standoff": 15
           },
           "zerolinecolor": "white",
           "zerolinewidth": 2
          }
         }
        },
        "title": {
         "text": "Cantidad de Establecimientos por Tipo de Cocina"
        },
        "xaxis": {
         "anchor": "y",
         "domain": [
          0,
          1
         ],
         "tickangle": -45,
         "title": {
          "text": "Tipo de Cocina"
         }
        },
        "yaxis": {
         "anchor": "x",
         "domain": [
          0,
          1
         ],
         "title": {
          "text": "Cantidad de Establecimientos"
         }
        }
       }
      }
     },
     "metadata": {},
     "output_type": "display_data"
    }
   ],
   "source": [
    "cocina = df['cuisine'].explode()  # Separa cada elemento de las listas\n",
    "\n",
    "conteo_cocina = cocina.value_counts().reset_index()\n",
    "conteo_cocina.columns = ['Tipo de Cocina', 'Cantidad']\n",
    "\n",
    "fig = px.bar(conteo_cocina, \n",
    "            x='Tipo de Cocina', \n",
    "            y='Cantidad', \n",
    "            title='Cantidad de Establecimientos por Tipo de Cocina',\n",
    "            labels={'Cantidad': 'Cantidad de Establecimientos', 'Tipo de Cocina': 'Tipo de Cocina'},\n",
    "            color='Cantidad',\n",
    "            color_continuous_scale=px.colors.sequential.Plasma)\n",
    "\n",
    "fig.update_layout(xaxis_tickangle=-45) # Rotar las etiquetas de x\n",
    "\n",
    "fig.show()"
   ]
  },
  {
   "cell_type": "markdown",
   "metadata": {},
   "source": [
    "-Yo sabía que Italia iba a salir por algún lado, si al cubano todo lo que tenga queso y puré le gusta, pero yo soy más de cambiar, ¡qué aburrido comer lo mismo siempre! ¿Habrá lugares que ofrezcan comidas únicas, algo fuera de lo común? ¿Tú crees que a la gente le guste bastante ese estilo un poco más exótico?"
   ]
  },
  {
   "cell_type": "code",
   "execution_count": 125,
   "metadata": {},
   "outputs": [
    {
     "name": "stderr",
     "output_type": "stream",
     "text": [
      "C:\\Users\\andre\\AppData\\Local\\Temp\\ipykernel_5764\\63888567.py:22: SettingWithCopyWarning:\n",
      "\n",
      "\n",
      "A value is trying to be set on a copy of a slice from a DataFrame.\n",
      "Try using .loc[row_indexer,col_indexer] = value instead\n",
      "\n",
      "See the caveats in the documentation: https://pandas.pydata.org/pandas-docs/stable/user_guide/indexing.html#returning-a-view-versus-a-copy\n",
      "\n"
     ]
    },
    {
     "data": {
      "application/vnd.plotly.v1+json": {
       "config": {
        "plotlyServerURL": "https://plot.ly"
       },
       "data": [
        {
         "alignmentgroup": "True",
         "customdata": [
          [
           "europea"
          ],
          [
           "arabe"
          ],
          [
           "turca"
          ],
          [
           "cajún"
          ],
          [
           "griega"
          ],
          [
           "tailandesa"
          ],
          [
           "sudamericana"
          ],
          [
           "india"
          ]
         ],
         "hovertemplate": "Nombre del Restaurante=%{x}<br>Rating=%{marker.color}<br>Tipo de Cocina Único=%{customdata[0]}<extra></extra>",
         "legendgroup": "",
         "marker": {
          "color": [
           5,
           4.5,
           4.5,
           3.5,
           5,
           5,
           4.5,
           5
          ],
          "coloraxis": "coloraxis",
          "pattern": {
           "shape": ""
          }
         },
         "name": "",
         "offsetgroup": "",
         "orientation": "v",
         "showlegend": false,
         "textposition": "auto",
         "type": "bar",
         "x": [
          "Amalfi",
          "Beirut",
          "Bone'Ma 62",
          "Fénix Dorado",
          "Mythos",
          "Planh Enoteca & Restaurante Mithai",
          "Teniente Rey 360",
          "Tonyzz Bar"
         ],
         "xaxis": "x",
         "y": [
          5,
          4.5,
          4.5,
          3.5,
          5,
          5,
          4.5,
          5
         ],
         "yaxis": "y"
        }
       ],
       "layout": {
        "barmode": "relative",
        "coloraxis": {
         "colorbar": {
          "title": {
           "text": "Rating"
          }
         },
         "colorscale": [
          [
           0,
           "#0d0887"
          ],
          [
           0.1111111111111111,
           "#46039f"
          ],
          [
           0.2222222222222222,
           "#7201a8"
          ],
          [
           0.3333333333333333,
           "#9c179e"
          ],
          [
           0.4444444444444444,
           "#bd3786"
          ],
          [
           0.5555555555555556,
           "#d8576b"
          ],
          [
           0.6666666666666666,
           "#ed7953"
          ],
          [
           0.7777777777777778,
           "#fb9f3a"
          ],
          [
           0.8888888888888888,
           "#fdca26"
          ],
          [
           1,
           "#f0f921"
          ]
         ]
        },
        "legend": {
         "tracegroupgap": 0
        },
        "template": {
         "data": {
          "bar": [
           {
            "error_x": {
             "color": "#2a3f5f"
            },
            "error_y": {
             "color": "#2a3f5f"
            },
            "marker": {
             "line": {
              "color": "#E5ECF6",
              "width": 0.5
             },
             "pattern": {
              "fillmode": "overlay",
              "size": 10,
              "solidity": 0.2
             }
            },
            "type": "bar"
           }
          ],
          "barpolar": [
           {
            "marker": {
             "line": {
              "color": "#E5ECF6",
              "width": 0.5
             },
             "pattern": {
              "fillmode": "overlay",
              "size": 10,
              "solidity": 0.2
             }
            },
            "type": "barpolar"
           }
          ],
          "carpet": [
           {
            "aaxis": {
             "endlinecolor": "#2a3f5f",
             "gridcolor": "white",
             "linecolor": "white",
             "minorgridcolor": "white",
             "startlinecolor": "#2a3f5f"
            },
            "baxis": {
             "endlinecolor": "#2a3f5f",
             "gridcolor": "white",
             "linecolor": "white",
             "minorgridcolor": "white",
             "startlinecolor": "#2a3f5f"
            },
            "type": "carpet"
           }
          ],
          "choropleth": [
           {
            "colorbar": {
             "outlinewidth": 0,
             "ticks": ""
            },
            "type": "choropleth"
           }
          ],
          "contour": [
           {
            "colorbar": {
             "outlinewidth": 0,
             "ticks": ""
            },
            "colorscale": [
             [
              0,
              "#0d0887"
             ],
             [
              0.1111111111111111,
              "#46039f"
             ],
             [
              0.2222222222222222,
              "#7201a8"
             ],
             [
              0.3333333333333333,
              "#9c179e"
             ],
             [
              0.4444444444444444,
              "#bd3786"
             ],
             [
              0.5555555555555556,
              "#d8576b"
             ],
             [
              0.6666666666666666,
              "#ed7953"
             ],
             [
              0.7777777777777778,
              "#fb9f3a"
             ],
             [
              0.8888888888888888,
              "#fdca26"
             ],
             [
              1,
              "#f0f921"
             ]
            ],
            "type": "contour"
           }
          ],
          "contourcarpet": [
           {
            "colorbar": {
             "outlinewidth": 0,
             "ticks": ""
            },
            "type": "contourcarpet"
           }
          ],
          "heatmap": [
           {
            "colorbar": {
             "outlinewidth": 0,
             "ticks": ""
            },
            "colorscale": [
             [
              0,
              "#0d0887"
             ],
             [
              0.1111111111111111,
              "#46039f"
             ],
             [
              0.2222222222222222,
              "#7201a8"
             ],
             [
              0.3333333333333333,
              "#9c179e"
             ],
             [
              0.4444444444444444,
              "#bd3786"
             ],
             [
              0.5555555555555556,
              "#d8576b"
             ],
             [
              0.6666666666666666,
              "#ed7953"
             ],
             [
              0.7777777777777778,
              "#fb9f3a"
             ],
             [
              0.8888888888888888,
              "#fdca26"
             ],
             [
              1,
              "#f0f921"
             ]
            ],
            "type": "heatmap"
           }
          ],
          "heatmapgl": [
           {
            "colorbar": {
             "outlinewidth": 0,
             "ticks": ""
            },
            "colorscale": [
             [
              0,
              "#0d0887"
             ],
             [
              0.1111111111111111,
              "#46039f"
             ],
             [
              0.2222222222222222,
              "#7201a8"
             ],
             [
              0.3333333333333333,
              "#9c179e"
             ],
             [
              0.4444444444444444,
              "#bd3786"
             ],
             [
              0.5555555555555556,
              "#d8576b"
             ],
             [
              0.6666666666666666,
              "#ed7953"
             ],
             [
              0.7777777777777778,
              "#fb9f3a"
             ],
             [
              0.8888888888888888,
              "#fdca26"
             ],
             [
              1,
              "#f0f921"
             ]
            ],
            "type": "heatmapgl"
           }
          ],
          "histogram": [
           {
            "marker": {
             "pattern": {
              "fillmode": "overlay",
              "size": 10,
              "solidity": 0.2
             }
            },
            "type": "histogram"
           }
          ],
          "histogram2d": [
           {
            "colorbar": {
             "outlinewidth": 0,
             "ticks": ""
            },
            "colorscale": [
             [
              0,
              "#0d0887"
             ],
             [
              0.1111111111111111,
              "#46039f"
             ],
             [
              0.2222222222222222,
              "#7201a8"
             ],
             [
              0.3333333333333333,
              "#9c179e"
             ],
             [
              0.4444444444444444,
              "#bd3786"
             ],
             [
              0.5555555555555556,
              "#d8576b"
             ],
             [
              0.6666666666666666,
              "#ed7953"
             ],
             [
              0.7777777777777778,
              "#fb9f3a"
             ],
             [
              0.8888888888888888,
              "#fdca26"
             ],
             [
              1,
              "#f0f921"
             ]
            ],
            "type": "histogram2d"
           }
          ],
          "histogram2dcontour": [
           {
            "colorbar": {
             "outlinewidth": 0,
             "ticks": ""
            },
            "colorscale": [
             [
              0,
              "#0d0887"
             ],
             [
              0.1111111111111111,
              "#46039f"
             ],
             [
              0.2222222222222222,
              "#7201a8"
             ],
             [
              0.3333333333333333,
              "#9c179e"
             ],
             [
              0.4444444444444444,
              "#bd3786"
             ],
             [
              0.5555555555555556,
              "#d8576b"
             ],
             [
              0.6666666666666666,
              "#ed7953"
             ],
             [
              0.7777777777777778,
              "#fb9f3a"
             ],
             [
              0.8888888888888888,
              "#fdca26"
             ],
             [
              1,
              "#f0f921"
             ]
            ],
            "type": "histogram2dcontour"
           }
          ],
          "mesh3d": [
           {
            "colorbar": {
             "outlinewidth": 0,
             "ticks": ""
            },
            "type": "mesh3d"
           }
          ],
          "parcoords": [
           {
            "line": {
             "colorbar": {
              "outlinewidth": 0,
              "ticks": ""
             }
            },
            "type": "parcoords"
           }
          ],
          "pie": [
           {
            "automargin": true,
            "type": "pie"
           }
          ],
          "scatter": [
           {
            "fillpattern": {
             "fillmode": "overlay",
             "size": 10,
             "solidity": 0.2
            },
            "type": "scatter"
           }
          ],
          "scatter3d": [
           {
            "line": {
             "colorbar": {
              "outlinewidth": 0,
              "ticks": ""
             }
            },
            "marker": {
             "colorbar": {
              "outlinewidth": 0,
              "ticks": ""
             }
            },
            "type": "scatter3d"
           }
          ],
          "scattercarpet": [
           {
            "marker": {
             "colorbar": {
              "outlinewidth": 0,
              "ticks": ""
             }
            },
            "type": "scattercarpet"
           }
          ],
          "scattergeo": [
           {
            "marker": {
             "colorbar": {
              "outlinewidth": 0,
              "ticks": ""
             }
            },
            "type": "scattergeo"
           }
          ],
          "scattergl": [
           {
            "marker": {
             "colorbar": {
              "outlinewidth": 0,
              "ticks": ""
             }
            },
            "type": "scattergl"
           }
          ],
          "scattermapbox": [
           {
            "marker": {
             "colorbar": {
              "outlinewidth": 0,
              "ticks": ""
             }
            },
            "type": "scattermapbox"
           }
          ],
          "scatterpolar": [
           {
            "marker": {
             "colorbar": {
              "outlinewidth": 0,
              "ticks": ""
             }
            },
            "type": "scatterpolar"
           }
          ],
          "scatterpolargl": [
           {
            "marker": {
             "colorbar": {
              "outlinewidth": 0,
              "ticks": ""
             }
            },
            "type": "scatterpolargl"
           }
          ],
          "scatterternary": [
           {
            "marker": {
             "colorbar": {
              "outlinewidth": 0,
              "ticks": ""
             }
            },
            "type": "scatterternary"
           }
          ],
          "surface": [
           {
            "colorbar": {
             "outlinewidth": 0,
             "ticks": ""
            },
            "colorscale": [
             [
              0,
              "#0d0887"
             ],
             [
              0.1111111111111111,
              "#46039f"
             ],
             [
              0.2222222222222222,
              "#7201a8"
             ],
             [
              0.3333333333333333,
              "#9c179e"
             ],
             [
              0.4444444444444444,
              "#bd3786"
             ],
             [
              0.5555555555555556,
              "#d8576b"
             ],
             [
              0.6666666666666666,
              "#ed7953"
             ],
             [
              0.7777777777777778,
              "#fb9f3a"
             ],
             [
              0.8888888888888888,
              "#fdca26"
             ],
             [
              1,
              "#f0f921"
             ]
            ],
            "type": "surface"
           }
          ],
          "table": [
           {
            "cells": {
             "fill": {
              "color": "#EBF0F8"
             },
             "line": {
              "color": "white"
             }
            },
            "header": {
             "fill": {
              "color": "#C8D4E3"
             },
             "line": {
              "color": "white"
             }
            },
            "type": "table"
           }
          ]
         },
         "layout": {
          "annotationdefaults": {
           "arrowcolor": "#2a3f5f",
           "arrowhead": 0,
           "arrowwidth": 1
          },
          "autotypenumbers": "strict",
          "coloraxis": {
           "colorbar": {
            "outlinewidth": 0,
            "ticks": ""
           }
          },
          "colorscale": {
           "diverging": [
            [
             0,
             "#8e0152"
            ],
            [
             0.1,
             "#c51b7d"
            ],
            [
             0.2,
             "#de77ae"
            ],
            [
             0.3,
             "#f1b6da"
            ],
            [
             0.4,
             "#fde0ef"
            ],
            [
             0.5,
             "#f7f7f7"
            ],
            [
             0.6,
             "#e6f5d0"
            ],
            [
             0.7,
             "#b8e186"
            ],
            [
             0.8,
             "#7fbc41"
            ],
            [
             0.9,
             "#4d9221"
            ],
            [
             1,
             "#276419"
            ]
           ],
           "sequential": [
            [
             0,
             "#0d0887"
            ],
            [
             0.1111111111111111,
             "#46039f"
            ],
            [
             0.2222222222222222,
             "#7201a8"
            ],
            [
             0.3333333333333333,
             "#9c179e"
            ],
            [
             0.4444444444444444,
             "#bd3786"
            ],
            [
             0.5555555555555556,
             "#d8576b"
            ],
            [
             0.6666666666666666,
             "#ed7953"
            ],
            [
             0.7777777777777778,
             "#fb9f3a"
            ],
            [
             0.8888888888888888,
             "#fdca26"
            ],
            [
             1,
             "#f0f921"
            ]
           ],
           "sequentialminus": [
            [
             0,
             "#0d0887"
            ],
            [
             0.1111111111111111,
             "#46039f"
            ],
            [
             0.2222222222222222,
             "#7201a8"
            ],
            [
             0.3333333333333333,
             "#9c179e"
            ],
            [
             0.4444444444444444,
             "#bd3786"
            ],
            [
             0.5555555555555556,
             "#d8576b"
            ],
            [
             0.6666666666666666,
             "#ed7953"
            ],
            [
             0.7777777777777778,
             "#fb9f3a"
            ],
            [
             0.8888888888888888,
             "#fdca26"
            ],
            [
             1,
             "#f0f921"
            ]
           ]
          },
          "colorway": [
           "#636efa",
           "#EF553B",
           "#00cc96",
           "#ab63fa",
           "#FFA15A",
           "#19d3f3",
           "#FF6692",
           "#B6E880",
           "#FF97FF",
           "#FECB52"
          ],
          "font": {
           "color": "#2a3f5f"
          },
          "geo": {
           "bgcolor": "white",
           "lakecolor": "white",
           "landcolor": "#E5ECF6",
           "showlakes": true,
           "showland": true,
           "subunitcolor": "white"
          },
          "hoverlabel": {
           "align": "left"
          },
          "hovermode": "closest",
          "mapbox": {
           "style": "light"
          },
          "paper_bgcolor": "white",
          "plot_bgcolor": "#E5ECF6",
          "polar": {
           "angularaxis": {
            "gridcolor": "white",
            "linecolor": "white",
            "ticks": ""
           },
           "bgcolor": "#E5ECF6",
           "radialaxis": {
            "gridcolor": "white",
            "linecolor": "white",
            "ticks": ""
           }
          },
          "scene": {
           "xaxis": {
            "backgroundcolor": "#E5ECF6",
            "gridcolor": "white",
            "gridwidth": 2,
            "linecolor": "white",
            "showbackground": true,
            "ticks": "",
            "zerolinecolor": "white"
           },
           "yaxis": {
            "backgroundcolor": "#E5ECF6",
            "gridcolor": "white",
            "gridwidth": 2,
            "linecolor": "white",
            "showbackground": true,
            "ticks": "",
            "zerolinecolor": "white"
           },
           "zaxis": {
            "backgroundcolor": "#E5ECF6",
            "gridcolor": "white",
            "gridwidth": 2,
            "linecolor": "white",
            "showbackground": true,
            "ticks": "",
            "zerolinecolor": "white"
           }
          },
          "shapedefaults": {
           "line": {
            "color": "#2a3f5f"
           }
          },
          "ternary": {
           "aaxis": {
            "gridcolor": "white",
            "linecolor": "white",
            "ticks": ""
           },
           "baxis": {
            "gridcolor": "white",
            "linecolor": "white",
            "ticks": ""
           },
           "bgcolor": "#E5ECF6",
           "caxis": {
            "gridcolor": "white",
            "linecolor": "white",
            "ticks": ""
           }
          },
          "title": {
           "x": 0.05
          },
          "xaxis": {
           "automargin": true,
           "gridcolor": "white",
           "linecolor": "white",
           "ticks": "",
           "title": {
            "standoff": 15
           },
           "zerolinecolor": "white",
           "zerolinewidth": 2
          },
          "yaxis": {
           "automargin": true,
           "gridcolor": "white",
           "linecolor": "white",
           "ticks": "",
           "title": {
            "standoff": 15
           },
           "zerolinecolor": "white",
           "zerolinewidth": 2
          }
         }
        },
        "title": {
         "text": "Ratings de Restaurantes con Tipos de Cocina Únicos"
        },
        "xaxis": {
         "anchor": "y",
         "domain": [
          0,
          1
         ],
         "tickangle": -45,
         "title": {
          "text": "Nombre del Restaurante"
         }
        },
        "yaxis": {
         "anchor": "x",
         "domain": [
          0,
          1
         ],
         "title": {
          "text": "Rating"
         }
        }
       }
      }
     },
     "metadata": {},
     "output_type": "display_data"
    }
   ],
   "source": [
    "cocina = df['cuisine'].explode()\n",
    "\n",
    "count_cocina = cocina.value_counts().reset_index() # Cuenta cuantas veces aparece cada tipo de cocina\n",
    "count_cocina.columns = ['Tipo de Cocina', 'Cantidad']\n",
    "\n",
    "tipos_unicos = count_cocina[count_cocina['Cantidad'] == 1]['Tipo de Cocina'] # Se queda con los q solo salen una vez\n",
    "\n",
    "def tiene_tipo_unico(cuisine_list): # Función para ver si un lugar tiene tipos únicos\n",
    "    if isinstance(cuisine_list, list):  # Ver si es una lista\n",
    "        return any(tipo in tipos_unicos.values for tipo in cuisine_list) # Devuelve True si hay algun tipo de cocina unico\n",
    "    return False  # Si no es una lista\n",
    "\n",
    "restaurantes_unicos = df[df['cuisine'].apply(tiene_tipo_unico)] # Del df original se queda con los lugares con tipos únicos\n",
    "restaurantes_info = restaurantes_unicos[['name', 'rating', 'cuisine']]\n",
    "\n",
    "def obtener_tipo_unico(cuisine_list): # Crear una columna con el tipo de cocina único\n",
    "    for tipo in cuisine_list:\n",
    "        if tipo in tipos_unicos.values:\n",
    "            return tipo\n",
    "    return None\n",
    "\n",
    "restaurantes_info['Tipo de Cocina Único'] = restaurantes_info['cuisine'].apply(obtener_tipo_unico)\n",
    "\n",
    "fig = px.bar(restaurantes_info, \n",
    "            x='name', \n",
    "            y='rating', \n",
    "            title='Ratings de Restaurantes con Tipos de Cocina Únicos',\n",
    "            labels={'rating': 'Rating', 'name': 'Nombre del Restaurante'},\n",
    "            color='rating',\n",
    "            color_continuous_scale=px.colors.sequential.Plasma,\n",
    "            hover_data={'Tipo de Cocina Único': True})\n",
    "\n",
    "fig.update_layout(xaxis_tickangle=-45)\n",
    "fig.show()"
   ]
  },
  {
   "cell_type": "markdown",
   "metadata": {},
   "source": [
    "También vieron relevante el análisis de la capacidad de los bares y restaurantes. Hay lugares muy pequeños que no son cómodos si vas con grupos grandes o tal vez quieres un lugar un poco más pequeños y tranquilos. ¿Cuál será la capacidad más frecuente? ¿Y si además tomamos en cuenta los municipios?"
   ]
  },
  {
   "cell_type": "code",
   "execution_count": 152,
   "metadata": {},
   "outputs": [
    {
     "data": {
      "application/vnd.plotly.v1+json": {
       "config": {
        "plotlyServerURL": "https://plot.ly"
       },
       "data": [
        {
         "customdata": [
          [
           "media"
          ],
          [
           "baja"
          ],
          [
           "alta"
          ]
         ],
         "domain": {
          "x": [
           0,
           1
          ],
          "y": [
           0,
           1
          ]
         },
         "hovertemplate": "Capacidad de Recepción=%{customdata[0]}<br>Cantidad=%{value}<extra></extra>",
         "labels": [
          "media",
          "baja",
          "alta"
         ],
         "legendgroup": "",
         "marker": {
          "colors": [
           "#0d0887",
           "#46039f",
           "#7201a8"
          ]
         },
         "name": "",
         "showlegend": true,
         "type": "pie",
         "values": [
          97,
          53,
          48
         ]
        }
       ],
       "layout": {
        "legend": {
         "tracegroupgap": 0
        },
        "piecolorway": [
         "#0d0887",
         "#46039f",
         "#7201a8",
         "#9c179e",
         "#bd3786",
         "#d8576b",
         "#ed7953",
         "#fb9f3a",
         "#fdca26",
         "#f0f921"
        ],
        "template": {
         "data": {
          "bar": [
           {
            "error_x": {
             "color": "#2a3f5f"
            },
            "error_y": {
             "color": "#2a3f5f"
            },
            "marker": {
             "line": {
              "color": "#E5ECF6",
              "width": 0.5
             },
             "pattern": {
              "fillmode": "overlay",
              "size": 10,
              "solidity": 0.2
             }
            },
            "type": "bar"
           }
          ],
          "barpolar": [
           {
            "marker": {
             "line": {
              "color": "#E5ECF6",
              "width": 0.5
             },
             "pattern": {
              "fillmode": "overlay",
              "size": 10,
              "solidity": 0.2
             }
            },
            "type": "barpolar"
           }
          ],
          "carpet": [
           {
            "aaxis": {
             "endlinecolor": "#2a3f5f",
             "gridcolor": "white",
             "linecolor": "white",
             "minorgridcolor": "white",
             "startlinecolor": "#2a3f5f"
            },
            "baxis": {
             "endlinecolor": "#2a3f5f",
             "gridcolor": "white",
             "linecolor": "white",
             "minorgridcolor": "white",
             "startlinecolor": "#2a3f5f"
            },
            "type": "carpet"
           }
          ],
          "choropleth": [
           {
            "colorbar": {
             "outlinewidth": 0,
             "ticks": ""
            },
            "type": "choropleth"
           }
          ],
          "contour": [
           {
            "colorbar": {
             "outlinewidth": 0,
             "ticks": ""
            },
            "colorscale": [
             [
              0,
              "#0d0887"
             ],
             [
              0.1111111111111111,
              "#46039f"
             ],
             [
              0.2222222222222222,
              "#7201a8"
             ],
             [
              0.3333333333333333,
              "#9c179e"
             ],
             [
              0.4444444444444444,
              "#bd3786"
             ],
             [
              0.5555555555555556,
              "#d8576b"
             ],
             [
              0.6666666666666666,
              "#ed7953"
             ],
             [
              0.7777777777777778,
              "#fb9f3a"
             ],
             [
              0.8888888888888888,
              "#fdca26"
             ],
             [
              1,
              "#f0f921"
             ]
            ],
            "type": "contour"
           }
          ],
          "contourcarpet": [
           {
            "colorbar": {
             "outlinewidth": 0,
             "ticks": ""
            },
            "type": "contourcarpet"
           }
          ],
          "heatmap": [
           {
            "colorbar": {
             "outlinewidth": 0,
             "ticks": ""
            },
            "colorscale": [
             [
              0,
              "#0d0887"
             ],
             [
              0.1111111111111111,
              "#46039f"
             ],
             [
              0.2222222222222222,
              "#7201a8"
             ],
             [
              0.3333333333333333,
              "#9c179e"
             ],
             [
              0.4444444444444444,
              "#bd3786"
             ],
             [
              0.5555555555555556,
              "#d8576b"
             ],
             [
              0.6666666666666666,
              "#ed7953"
             ],
             [
              0.7777777777777778,
              "#fb9f3a"
             ],
             [
              0.8888888888888888,
              "#fdca26"
             ],
             [
              1,
              "#f0f921"
             ]
            ],
            "type": "heatmap"
           }
          ],
          "heatmapgl": [
           {
            "colorbar": {
             "outlinewidth": 0,
             "ticks": ""
            },
            "colorscale": [
             [
              0,
              "#0d0887"
             ],
             [
              0.1111111111111111,
              "#46039f"
             ],
             [
              0.2222222222222222,
              "#7201a8"
             ],
             [
              0.3333333333333333,
              "#9c179e"
             ],
             [
              0.4444444444444444,
              "#bd3786"
             ],
             [
              0.5555555555555556,
              "#d8576b"
             ],
             [
              0.6666666666666666,
              "#ed7953"
             ],
             [
              0.7777777777777778,
              "#fb9f3a"
             ],
             [
              0.8888888888888888,
              "#fdca26"
             ],
             [
              1,
              "#f0f921"
             ]
            ],
            "type": "heatmapgl"
           }
          ],
          "histogram": [
           {
            "marker": {
             "pattern": {
              "fillmode": "overlay",
              "size": 10,
              "solidity": 0.2
             }
            },
            "type": "histogram"
           }
          ],
          "histogram2d": [
           {
            "colorbar": {
             "outlinewidth": 0,
             "ticks": ""
            },
            "colorscale": [
             [
              0,
              "#0d0887"
             ],
             [
              0.1111111111111111,
              "#46039f"
             ],
             [
              0.2222222222222222,
              "#7201a8"
             ],
             [
              0.3333333333333333,
              "#9c179e"
             ],
             [
              0.4444444444444444,
              "#bd3786"
             ],
             [
              0.5555555555555556,
              "#d8576b"
             ],
             [
              0.6666666666666666,
              "#ed7953"
             ],
             [
              0.7777777777777778,
              "#fb9f3a"
             ],
             [
              0.8888888888888888,
              "#fdca26"
             ],
             [
              1,
              "#f0f921"
             ]
            ],
            "type": "histogram2d"
           }
          ],
          "histogram2dcontour": [
           {
            "colorbar": {
             "outlinewidth": 0,
             "ticks": ""
            },
            "colorscale": [
             [
              0,
              "#0d0887"
             ],
             [
              0.1111111111111111,
              "#46039f"
             ],
             [
              0.2222222222222222,
              "#7201a8"
             ],
             [
              0.3333333333333333,
              "#9c179e"
             ],
             [
              0.4444444444444444,
              "#bd3786"
             ],
             [
              0.5555555555555556,
              "#d8576b"
             ],
             [
              0.6666666666666666,
              "#ed7953"
             ],
             [
              0.7777777777777778,
              "#fb9f3a"
             ],
             [
              0.8888888888888888,
              "#fdca26"
             ],
             [
              1,
              "#f0f921"
             ]
            ],
            "type": "histogram2dcontour"
           }
          ],
          "mesh3d": [
           {
            "colorbar": {
             "outlinewidth": 0,
             "ticks": ""
            },
            "type": "mesh3d"
           }
          ],
          "parcoords": [
           {
            "line": {
             "colorbar": {
              "outlinewidth": 0,
              "ticks": ""
             }
            },
            "type": "parcoords"
           }
          ],
          "pie": [
           {
            "automargin": true,
            "type": "pie"
           }
          ],
          "scatter": [
           {
            "fillpattern": {
             "fillmode": "overlay",
             "size": 10,
             "solidity": 0.2
            },
            "type": "scatter"
           }
          ],
          "scatter3d": [
           {
            "line": {
             "colorbar": {
              "outlinewidth": 0,
              "ticks": ""
             }
            },
            "marker": {
             "colorbar": {
              "outlinewidth": 0,
              "ticks": ""
             }
            },
            "type": "scatter3d"
           }
          ],
          "scattercarpet": [
           {
            "marker": {
             "colorbar": {
              "outlinewidth": 0,
              "ticks": ""
             }
            },
            "type": "scattercarpet"
           }
          ],
          "scattergeo": [
           {
            "marker": {
             "colorbar": {
              "outlinewidth": 0,
              "ticks": ""
             }
            },
            "type": "scattergeo"
           }
          ],
          "scattergl": [
           {
            "marker": {
             "colorbar": {
              "outlinewidth": 0,
              "ticks": ""
             }
            },
            "type": "scattergl"
           }
          ],
          "scattermapbox": [
           {
            "marker": {
             "colorbar": {
              "outlinewidth": 0,
              "ticks": ""
             }
            },
            "type": "scattermapbox"
           }
          ],
          "scatterpolar": [
           {
            "marker": {
             "colorbar": {
              "outlinewidth": 0,
              "ticks": ""
             }
            },
            "type": "scatterpolar"
           }
          ],
          "scatterpolargl": [
           {
            "marker": {
             "colorbar": {
              "outlinewidth": 0,
              "ticks": ""
             }
            },
            "type": "scatterpolargl"
           }
          ],
          "scatterternary": [
           {
            "marker": {
             "colorbar": {
              "outlinewidth": 0,
              "ticks": ""
             }
            },
            "type": "scatterternary"
           }
          ],
          "surface": [
           {
            "colorbar": {
             "outlinewidth": 0,
             "ticks": ""
            },
            "colorscale": [
             [
              0,
              "#0d0887"
             ],
             [
              0.1111111111111111,
              "#46039f"
             ],
             [
              0.2222222222222222,
              "#7201a8"
             ],
             [
              0.3333333333333333,
              "#9c179e"
             ],
             [
              0.4444444444444444,
              "#bd3786"
             ],
             [
              0.5555555555555556,
              "#d8576b"
             ],
             [
              0.6666666666666666,
              "#ed7953"
             ],
             [
              0.7777777777777778,
              "#fb9f3a"
             ],
             [
              0.8888888888888888,
              "#fdca26"
             ],
             [
              1,
              "#f0f921"
             ]
            ],
            "type": "surface"
           }
          ],
          "table": [
           {
            "cells": {
             "fill": {
              "color": "#EBF0F8"
             },
             "line": {
              "color": "white"
             }
            },
            "header": {
             "fill": {
              "color": "#C8D4E3"
             },
             "line": {
              "color": "white"
             }
            },
            "type": "table"
           }
          ]
         },
         "layout": {
          "annotationdefaults": {
           "arrowcolor": "#2a3f5f",
           "arrowhead": 0,
           "arrowwidth": 1
          },
          "autotypenumbers": "strict",
          "coloraxis": {
           "colorbar": {
            "outlinewidth": 0,
            "ticks": ""
           }
          },
          "colorscale": {
           "diverging": [
            [
             0,
             "#8e0152"
            ],
            [
             0.1,
             "#c51b7d"
            ],
            [
             0.2,
             "#de77ae"
            ],
            [
             0.3,
             "#f1b6da"
            ],
            [
             0.4,
             "#fde0ef"
            ],
            [
             0.5,
             "#f7f7f7"
            ],
            [
             0.6,
             "#e6f5d0"
            ],
            [
             0.7,
             "#b8e186"
            ],
            [
             0.8,
             "#7fbc41"
            ],
            [
             0.9,
             "#4d9221"
            ],
            [
             1,
             "#276419"
            ]
           ],
           "sequential": [
            [
             0,
             "#0d0887"
            ],
            [
             0.1111111111111111,
             "#46039f"
            ],
            [
             0.2222222222222222,
             "#7201a8"
            ],
            [
             0.3333333333333333,
             "#9c179e"
            ],
            [
             0.4444444444444444,
             "#bd3786"
            ],
            [
             0.5555555555555556,
             "#d8576b"
            ],
            [
             0.6666666666666666,
             "#ed7953"
            ],
            [
             0.7777777777777778,
             "#fb9f3a"
            ],
            [
             0.8888888888888888,
             "#fdca26"
            ],
            [
             1,
             "#f0f921"
            ]
           ],
           "sequentialminus": [
            [
             0,
             "#0d0887"
            ],
            [
             0.1111111111111111,
             "#46039f"
            ],
            [
             0.2222222222222222,
             "#7201a8"
            ],
            [
             0.3333333333333333,
             "#9c179e"
            ],
            [
             0.4444444444444444,
             "#bd3786"
            ],
            [
             0.5555555555555556,
             "#d8576b"
            ],
            [
             0.6666666666666666,
             "#ed7953"
            ],
            [
             0.7777777777777778,
             "#fb9f3a"
            ],
            [
             0.8888888888888888,
             "#fdca26"
            ],
            [
             1,
             "#f0f921"
            ]
           ]
          },
          "colorway": [
           "#636efa",
           "#EF553B",
           "#00cc96",
           "#ab63fa",
           "#FFA15A",
           "#19d3f3",
           "#FF6692",
           "#B6E880",
           "#FF97FF",
           "#FECB52"
          ],
          "font": {
           "color": "#2a3f5f"
          },
          "geo": {
           "bgcolor": "white",
           "lakecolor": "white",
           "landcolor": "#E5ECF6",
           "showlakes": true,
           "showland": true,
           "subunitcolor": "white"
          },
          "hoverlabel": {
           "align": "left"
          },
          "hovermode": "closest",
          "mapbox": {
           "style": "light"
          },
          "paper_bgcolor": "white",
          "plot_bgcolor": "#E5ECF6",
          "polar": {
           "angularaxis": {
            "gridcolor": "white",
            "linecolor": "white",
            "ticks": ""
           },
           "bgcolor": "#E5ECF6",
           "radialaxis": {
            "gridcolor": "white",
            "linecolor": "white",
            "ticks": ""
           }
          },
          "scene": {
           "xaxis": {
            "backgroundcolor": "#E5ECF6",
            "gridcolor": "white",
            "gridwidth": 2,
            "linecolor": "white",
            "showbackground": true,
            "ticks": "",
            "zerolinecolor": "white"
           },
           "yaxis": {
            "backgroundcolor": "#E5ECF6",
            "gridcolor": "white",
            "gridwidth": 2,
            "linecolor": "white",
            "showbackground": true,
            "ticks": "",
            "zerolinecolor": "white"
           },
           "zaxis": {
            "backgroundcolor": "#E5ECF6",
            "gridcolor": "white",
            "gridwidth": 2,
            "linecolor": "white",
            "showbackground": true,
            "ticks": "",
            "zerolinecolor": "white"
           }
          },
          "shapedefaults": {
           "line": {
            "color": "#2a3f5f"
           }
          },
          "ternary": {
           "aaxis": {
            "gridcolor": "white",
            "linecolor": "white",
            "ticks": ""
           },
           "baxis": {
            "gridcolor": "white",
            "linecolor": "white",
            "ticks": ""
           },
           "bgcolor": "#E5ECF6",
           "caxis": {
            "gridcolor": "white",
            "linecolor": "white",
            "ticks": ""
           }
          },
          "title": {
           "x": 0.05
          },
          "xaxis": {
           "automargin": true,
           "gridcolor": "white",
           "linecolor": "white",
           "ticks": "",
           "title": {
            "standoff": 15
           },
           "zerolinecolor": "white",
           "zerolinewidth": 2
          },
          "yaxis": {
           "automargin": true,
           "gridcolor": "white",
           "linecolor": "white",
           "ticks": "",
           "title": {
            "standoff": 15
           },
           "zerolinecolor": "white",
           "zerolinewidth": 2
          }
         }
        },
        "title": {
         "text": "Distribución de Establecimientos por Capacidad de Recepción"
        }
       }
      }
     },
     "metadata": {},
     "output_type": "display_data"
    }
   ],
   "source": [
    "df1 = df[df['intake_capacity'].isin(capacidades)]\n",
    "conteo_intake_capacity = df1['intake_capacity'].value_counts().reset_index()\n",
    "conteo_intake_capacity.columns = ['Capacidad de Recepción', 'Cantidad']\n",
    "\n",
    "fig = px.pie(conteo_intake_capacity, \n",
    "            names='Capacidad de Recepción', \n",
    "            values='Cantidad', \n",
    "            title='Distribución de Establecimientos por Capacidad de Recepción',\n",
    "            color='Capacidad de Recepción',\n",
    "            color_discrete_sequence=px.colors.sequential.Plasma)\n",
    "fig.show()"
   ]
  },
  {
   "cell_type": "code",
   "execution_count": 162,
   "metadata": {},
   "outputs": [
    {
     "data": {
      "application/vnd.plotly.v1+json": {
       "config": {
        "plotlyServerURL": "https://plot.ly"
       },
       "data": [
        {
         "alignmentgroup": "True",
         "hovertemplate": "intake_capacity=alta<br>Municipio=%{x}<br>Número de Establecimientos=%{text}<extra></extra>",
         "legendgroup": "alta",
         "marker": {
          "color": "#636efa",
          "pattern": {
           "shape": ""
          }
         },
         "name": "alta",
         "offsetgroup": "alta",
         "orientation": "v",
         "showlegend": true,
         "text": [
          2,
          4,
          5,
          4,
          2,
          1,
          1,
          2,
          3,
          2,
          12,
          9,
          1
         ],
         "textposition": "auto",
         "type": "bar",
         "x": [
          "Arroyo Naranjo",
          "Boyeros",
          "Centro Habana",
          "Cotorro",
          "Diez de Octubre",
          "Guanabacoa",
          "Habana Del Este",
          "Habana del Este",
          "La Habana Vieja",
          "Marianao",
          "Playa",
          "Plaza de la Revolución",
          "San Miguel del Padrón"
         ],
         "xaxis": "x",
         "y": [
          2,
          4,
          5,
          4,
          2,
          1,
          1,
          2,
          3,
          2,
          12,
          9,
          1
         ],
         "yaxis": "y"
        },
        {
         "alignmentgroup": "True",
         "hovertemplate": "intake_capacity=baja<br>Municipio=%{x}<br>Número de Establecimientos=%{text}<extra></extra>",
         "legendgroup": "baja",
         "marker": {
          "color": "#EF553B",
          "pattern": {
           "shape": ""
          }
         },
         "name": "baja",
         "offsetgroup": "baja",
         "orientation": "v",
         "showlegend": true,
         "text": [
          2,
          5,
          5,
          5,
          3,
          1,
          1,
          2,
          1,
          3,
          8,
          1,
          1
         ],
         "textposition": "auto",
         "type": "bar",
         "x": [
          "Arroyo Naranjo",
          "Centro Habana",
          "Cerro",
          "Diez de Octubre",
          "Guanabacoa",
          "Habana del Este",
          "La Habana Vieja",
          "La Lisa",
          "Marianao",
          "Playa",
          "Plaza de la Revolución",
          "Regla",
          "San Miguel del Padrón"
         ],
         "xaxis": "x",
         "y": [
          2,
          5,
          5,
          5,
          3,
          1,
          1,
          2,
          1,
          3,
          8,
          1,
          1
         ],
         "yaxis": "y"
        },
        {
         "alignmentgroup": "True",
         "hovertemplate": "intake_capacity=media<br>Municipio=%{x}<br>Número de Establecimientos=%{text}<extra></extra>",
         "legendgroup": "media",
         "marker": {
          "color": "#00cc96",
          "pattern": {
           "shape": ""
          }
         },
         "name": "media",
         "offsetgroup": "media",
         "orientation": "v",
         "showlegend": true,
         "text": [
          2,
          5,
          18,
          1,
          2,
          3,
          5,
          6,
          4,
          2,
          13,
          12,
          3,
          5
         ],
         "textposition": "auto",
         "type": "bar",
         "x": [
          "Arroyo Naranjo",
          "Boyeros",
          "Centro Habana",
          "Cerro",
          "Cotorro",
          "Guanabacoa",
          "Habana del Este",
          "La Habana Vieja",
          "La Lisa",
          "Marianao",
          "Playa",
          "Plaza de la Revolución",
          "Regla",
          "San Miguel del Padrón"
         ],
         "xaxis": "x",
         "y": [
          2,
          5,
          18,
          1,
          2,
          3,
          5,
          6,
          4,
          2,
          13,
          12,
          3,
          5
         ],
         "yaxis": "y"
        }
       ],
       "layout": {
        "barmode": "group",
        "legend": {
         "title": {
          "text": "intake_capacity"
         },
         "tracegroupgap": 0
        },
        "template": {
         "data": {
          "bar": [
           {
            "error_x": {
             "color": "#2a3f5f"
            },
            "error_y": {
             "color": "#2a3f5f"
            },
            "marker": {
             "line": {
              "color": "#E5ECF6",
              "width": 0.5
             },
             "pattern": {
              "fillmode": "overlay",
              "size": 10,
              "solidity": 0.2
             }
            },
            "type": "bar"
           }
          ],
          "barpolar": [
           {
            "marker": {
             "line": {
              "color": "#E5ECF6",
              "width": 0.5
             },
             "pattern": {
              "fillmode": "overlay",
              "size": 10,
              "solidity": 0.2
             }
            },
            "type": "barpolar"
           }
          ],
          "carpet": [
           {
            "aaxis": {
             "endlinecolor": "#2a3f5f",
             "gridcolor": "white",
             "linecolor": "white",
             "minorgridcolor": "white",
             "startlinecolor": "#2a3f5f"
            },
            "baxis": {
             "endlinecolor": "#2a3f5f",
             "gridcolor": "white",
             "linecolor": "white",
             "minorgridcolor": "white",
             "startlinecolor": "#2a3f5f"
            },
            "type": "carpet"
           }
          ],
          "choropleth": [
           {
            "colorbar": {
             "outlinewidth": 0,
             "ticks": ""
            },
            "type": "choropleth"
           }
          ],
          "contour": [
           {
            "colorbar": {
             "outlinewidth": 0,
             "ticks": ""
            },
            "colorscale": [
             [
              0,
              "#0d0887"
             ],
             [
              0.1111111111111111,
              "#46039f"
             ],
             [
              0.2222222222222222,
              "#7201a8"
             ],
             [
              0.3333333333333333,
              "#9c179e"
             ],
             [
              0.4444444444444444,
              "#bd3786"
             ],
             [
              0.5555555555555556,
              "#d8576b"
             ],
             [
              0.6666666666666666,
              "#ed7953"
             ],
             [
              0.7777777777777778,
              "#fb9f3a"
             ],
             [
              0.8888888888888888,
              "#fdca26"
             ],
             [
              1,
              "#f0f921"
             ]
            ],
            "type": "contour"
           }
          ],
          "contourcarpet": [
           {
            "colorbar": {
             "outlinewidth": 0,
             "ticks": ""
            },
            "type": "contourcarpet"
           }
          ],
          "heatmap": [
           {
            "colorbar": {
             "outlinewidth": 0,
             "ticks": ""
            },
            "colorscale": [
             [
              0,
              "#0d0887"
             ],
             [
              0.1111111111111111,
              "#46039f"
             ],
             [
              0.2222222222222222,
              "#7201a8"
             ],
             [
              0.3333333333333333,
              "#9c179e"
             ],
             [
              0.4444444444444444,
              "#bd3786"
             ],
             [
              0.5555555555555556,
              "#d8576b"
             ],
             [
              0.6666666666666666,
              "#ed7953"
             ],
             [
              0.7777777777777778,
              "#fb9f3a"
             ],
             [
              0.8888888888888888,
              "#fdca26"
             ],
             [
              1,
              "#f0f921"
             ]
            ],
            "type": "heatmap"
           }
          ],
          "heatmapgl": [
           {
            "colorbar": {
             "outlinewidth": 0,
             "ticks": ""
            },
            "colorscale": [
             [
              0,
              "#0d0887"
             ],
             [
              0.1111111111111111,
              "#46039f"
             ],
             [
              0.2222222222222222,
              "#7201a8"
             ],
             [
              0.3333333333333333,
              "#9c179e"
             ],
             [
              0.4444444444444444,
              "#bd3786"
             ],
             [
              0.5555555555555556,
              "#d8576b"
             ],
             [
              0.6666666666666666,
              "#ed7953"
             ],
             [
              0.7777777777777778,
              "#fb9f3a"
             ],
             [
              0.8888888888888888,
              "#fdca26"
             ],
             [
              1,
              "#f0f921"
             ]
            ],
            "type": "heatmapgl"
           }
          ],
          "histogram": [
           {
            "marker": {
             "pattern": {
              "fillmode": "overlay",
              "size": 10,
              "solidity": 0.2
             }
            },
            "type": "histogram"
           }
          ],
          "histogram2d": [
           {
            "colorbar": {
             "outlinewidth": 0,
             "ticks": ""
            },
            "colorscale": [
             [
              0,
              "#0d0887"
             ],
             [
              0.1111111111111111,
              "#46039f"
             ],
             [
              0.2222222222222222,
              "#7201a8"
             ],
             [
              0.3333333333333333,
              "#9c179e"
             ],
             [
              0.4444444444444444,
              "#bd3786"
             ],
             [
              0.5555555555555556,
              "#d8576b"
             ],
             [
              0.6666666666666666,
              "#ed7953"
             ],
             [
              0.7777777777777778,
              "#fb9f3a"
             ],
             [
              0.8888888888888888,
              "#fdca26"
             ],
             [
              1,
              "#f0f921"
             ]
            ],
            "type": "histogram2d"
           }
          ],
          "histogram2dcontour": [
           {
            "colorbar": {
             "outlinewidth": 0,
             "ticks": ""
            },
            "colorscale": [
             [
              0,
              "#0d0887"
             ],
             [
              0.1111111111111111,
              "#46039f"
             ],
             [
              0.2222222222222222,
              "#7201a8"
             ],
             [
              0.3333333333333333,
              "#9c179e"
             ],
             [
              0.4444444444444444,
              "#bd3786"
             ],
             [
              0.5555555555555556,
              "#d8576b"
             ],
             [
              0.6666666666666666,
              "#ed7953"
             ],
             [
              0.7777777777777778,
              "#fb9f3a"
             ],
             [
              0.8888888888888888,
              "#fdca26"
             ],
             [
              1,
              "#f0f921"
             ]
            ],
            "type": "histogram2dcontour"
           }
          ],
          "mesh3d": [
           {
            "colorbar": {
             "outlinewidth": 0,
             "ticks": ""
            },
            "type": "mesh3d"
           }
          ],
          "parcoords": [
           {
            "line": {
             "colorbar": {
              "outlinewidth": 0,
              "ticks": ""
             }
            },
            "type": "parcoords"
           }
          ],
          "pie": [
           {
            "automargin": true,
            "type": "pie"
           }
          ],
          "scatter": [
           {
            "fillpattern": {
             "fillmode": "overlay",
             "size": 10,
             "solidity": 0.2
            },
            "type": "scatter"
           }
          ],
          "scatter3d": [
           {
            "line": {
             "colorbar": {
              "outlinewidth": 0,
              "ticks": ""
             }
            },
            "marker": {
             "colorbar": {
              "outlinewidth": 0,
              "ticks": ""
             }
            },
            "type": "scatter3d"
           }
          ],
          "scattercarpet": [
           {
            "marker": {
             "colorbar": {
              "outlinewidth": 0,
              "ticks": ""
             }
            },
            "type": "scattercarpet"
           }
          ],
          "scattergeo": [
           {
            "marker": {
             "colorbar": {
              "outlinewidth": 0,
              "ticks": ""
             }
            },
            "type": "scattergeo"
           }
          ],
          "scattergl": [
           {
            "marker": {
             "colorbar": {
              "outlinewidth": 0,
              "ticks": ""
             }
            },
            "type": "scattergl"
           }
          ],
          "scattermapbox": [
           {
            "marker": {
             "colorbar": {
              "outlinewidth": 0,
              "ticks": ""
             }
            },
            "type": "scattermapbox"
           }
          ],
          "scatterpolar": [
           {
            "marker": {
             "colorbar": {
              "outlinewidth": 0,
              "ticks": ""
             }
            },
            "type": "scatterpolar"
           }
          ],
          "scatterpolargl": [
           {
            "marker": {
             "colorbar": {
              "outlinewidth": 0,
              "ticks": ""
             }
            },
            "type": "scatterpolargl"
           }
          ],
          "scatterternary": [
           {
            "marker": {
             "colorbar": {
              "outlinewidth": 0,
              "ticks": ""
             }
            },
            "type": "scatterternary"
           }
          ],
          "surface": [
           {
            "colorbar": {
             "outlinewidth": 0,
             "ticks": ""
            },
            "colorscale": [
             [
              0,
              "#0d0887"
             ],
             [
              0.1111111111111111,
              "#46039f"
             ],
             [
              0.2222222222222222,
              "#7201a8"
             ],
             [
              0.3333333333333333,
              "#9c179e"
             ],
             [
              0.4444444444444444,
              "#bd3786"
             ],
             [
              0.5555555555555556,
              "#d8576b"
             ],
             [
              0.6666666666666666,
              "#ed7953"
             ],
             [
              0.7777777777777778,
              "#fb9f3a"
             ],
             [
              0.8888888888888888,
              "#fdca26"
             ],
             [
              1,
              "#f0f921"
             ]
            ],
            "type": "surface"
           }
          ],
          "table": [
           {
            "cells": {
             "fill": {
              "color": "#EBF0F8"
             },
             "line": {
              "color": "white"
             }
            },
            "header": {
             "fill": {
              "color": "#C8D4E3"
             },
             "line": {
              "color": "white"
             }
            },
            "type": "table"
           }
          ]
         },
         "layout": {
          "annotationdefaults": {
           "arrowcolor": "#2a3f5f",
           "arrowhead": 0,
           "arrowwidth": 1
          },
          "autotypenumbers": "strict",
          "coloraxis": {
           "colorbar": {
            "outlinewidth": 0,
            "ticks": ""
           }
          },
          "colorscale": {
           "diverging": [
            [
             0,
             "#8e0152"
            ],
            [
             0.1,
             "#c51b7d"
            ],
            [
             0.2,
             "#de77ae"
            ],
            [
             0.3,
             "#f1b6da"
            ],
            [
             0.4,
             "#fde0ef"
            ],
            [
             0.5,
             "#f7f7f7"
            ],
            [
             0.6,
             "#e6f5d0"
            ],
            [
             0.7,
             "#b8e186"
            ],
            [
             0.8,
             "#7fbc41"
            ],
            [
             0.9,
             "#4d9221"
            ],
            [
             1,
             "#276419"
            ]
           ],
           "sequential": [
            [
             0,
             "#0d0887"
            ],
            [
             0.1111111111111111,
             "#46039f"
            ],
            [
             0.2222222222222222,
             "#7201a8"
            ],
            [
             0.3333333333333333,
             "#9c179e"
            ],
            [
             0.4444444444444444,
             "#bd3786"
            ],
            [
             0.5555555555555556,
             "#d8576b"
            ],
            [
             0.6666666666666666,
             "#ed7953"
            ],
            [
             0.7777777777777778,
             "#fb9f3a"
            ],
            [
             0.8888888888888888,
             "#fdca26"
            ],
            [
             1,
             "#f0f921"
            ]
           ],
           "sequentialminus": [
            [
             0,
             "#0d0887"
            ],
            [
             0.1111111111111111,
             "#46039f"
            ],
            [
             0.2222222222222222,
             "#7201a8"
            ],
            [
             0.3333333333333333,
             "#9c179e"
            ],
            [
             0.4444444444444444,
             "#bd3786"
            ],
            [
             0.5555555555555556,
             "#d8576b"
            ],
            [
             0.6666666666666666,
             "#ed7953"
            ],
            [
             0.7777777777777778,
             "#fb9f3a"
            ],
            [
             0.8888888888888888,
             "#fdca26"
            ],
            [
             1,
             "#f0f921"
            ]
           ]
          },
          "colorway": [
           "#636efa",
           "#EF553B",
           "#00cc96",
           "#ab63fa",
           "#FFA15A",
           "#19d3f3",
           "#FF6692",
           "#B6E880",
           "#FF97FF",
           "#FECB52"
          ],
          "font": {
           "color": "#2a3f5f"
          },
          "geo": {
           "bgcolor": "white",
           "lakecolor": "white",
           "landcolor": "#E5ECF6",
           "showlakes": true,
           "showland": true,
           "subunitcolor": "white"
          },
          "hoverlabel": {
           "align": "left"
          },
          "hovermode": "closest",
          "mapbox": {
           "style": "light"
          },
          "paper_bgcolor": "white",
          "plot_bgcolor": "#E5ECF6",
          "polar": {
           "angularaxis": {
            "gridcolor": "white",
            "linecolor": "white",
            "ticks": ""
           },
           "bgcolor": "#E5ECF6",
           "radialaxis": {
            "gridcolor": "white",
            "linecolor": "white",
            "ticks": ""
           }
          },
          "scene": {
           "xaxis": {
            "backgroundcolor": "#E5ECF6",
            "gridcolor": "white",
            "gridwidth": 2,
            "linecolor": "white",
            "showbackground": true,
            "ticks": "",
            "zerolinecolor": "white"
           },
           "yaxis": {
            "backgroundcolor": "#E5ECF6",
            "gridcolor": "white",
            "gridwidth": 2,
            "linecolor": "white",
            "showbackground": true,
            "ticks": "",
            "zerolinecolor": "white"
           },
           "zaxis": {
            "backgroundcolor": "#E5ECF6",
            "gridcolor": "white",
            "gridwidth": 2,
            "linecolor": "white",
            "showbackground": true,
            "ticks": "",
            "zerolinecolor": "white"
           }
          },
          "shapedefaults": {
           "line": {
            "color": "#2a3f5f"
           }
          },
          "ternary": {
           "aaxis": {
            "gridcolor": "white",
            "linecolor": "white",
            "ticks": ""
           },
           "baxis": {
            "gridcolor": "white",
            "linecolor": "white",
            "ticks": ""
           },
           "bgcolor": "#E5ECF6",
           "caxis": {
            "gridcolor": "white",
            "linecolor": "white",
            "ticks": ""
           }
          },
          "title": {
           "x": 0.05
          },
          "xaxis": {
           "automargin": true,
           "gridcolor": "white",
           "linecolor": "white",
           "ticks": "",
           "title": {
            "standoff": 15
           },
           "zerolinecolor": "white",
           "zerolinewidth": 2
          },
          "yaxis": {
           "automargin": true,
           "gridcolor": "white",
           "linecolor": "white",
           "ticks": "",
           "title": {
            "standoff": 15
           },
           "zerolinecolor": "white",
           "zerolinewidth": 2
          }
         }
        },
        "title": {
         "text": "Cantidad de Establecimientos por Municipio y Capacidad"
        },
        "xaxis": {
         "anchor": "y",
         "domain": [
          0,
          1
         ],
         "title": {
          "text": "Municipio"
         }
        },
        "yaxis": {
         "anchor": "x",
         "domain": [
          0,
          1
         ],
         "title": {
          "text": "Número de Establecimientos"
         }
        }
       }
      }
     },
     "metadata": {},
     "output_type": "display_data"
    }
   ],
   "source": [
    "conteo_por_municipio = df_filtrado.groupby(['district', 'intake_capacity']).size().reset_index(name='count') #Agrupa por tipo de capacidad y el municipio y cuenta. El (name='count') le da nombre a la nueva columa con los conteos.\n",
    "\n",
    "fig = px.bar(conteo_por_municipio, \n",
    "            x='district', \n",
    "            y='count', \n",
    "            color='intake_capacity', \n",
    "            barmode='group',\n",
    "            title='Cantidad de Establecimientos por Municipio y Capacidad',\n",
    "            labels={'district': 'Municipio', 'count': 'Número de Establecimientos'},\n",
    "            text='count')\n",
    "fig.show()"
   ]
  },
  {
   "cell_type": "markdown",
   "metadata": {},
   "source": [
    "-Saber los mejores y peores está bien, así lo puedes tener en cuenta para cada ocasión, pero ¿no crees que siempre es necesario conocer el punto medio? No sé, no quiero visitar los peores restaurantes pero los mejor valorados no son necesariamente los más accesibles para todos. ¿Cuáles serán de esos lugares aquellos que tienen una calificación aceptable?"
   ]
  },
  {
   "cell_type": "code",
   "execution_count": 3,
   "metadata": {},
   "outputs": [
    {
     "data": {
      "application/vnd.plotly.v1+json": {
       "config": {
        "plotlyServerURL": "https://plot.ly"
       },
       "data": [
        {
         "alignmentgroup": "True",
         "hovertemplate": "Nombres de los establecimientos=%{x}<br>Rating=%{marker.color}<extra></extra>",
         "legendgroup": "",
         "marker": {
          "color": [
           4,
           4,
           4,
           4,
           4,
           4,
           4,
           4,
           4,
           4,
           4,
           4,
           4,
           4,
           4,
           4,
           4,
           4,
           4,
           4,
           3.9,
           3.9,
           3.8,
           3.8,
           3.8,
           3.7,
           3.7,
           3.7,
           3.7,
           3.7,
           3.6,
           3.5,
           3.5,
           3.5,
           3.5,
           3.5,
           3.5,
           3.5,
           3.5,
           3.5,
           3.5,
           3.5,
           3.5,
           3.5,
           3.5,
           3.4,
           3.3,
           3.1,
           3.1,
           3,
           3,
           3
          ],
          "coloraxis": "coloraxis",
          "pattern": {
           "shape": ""
          }
         },
         "name": "",
         "offsetgroup": "",
         "orientation": "v",
         "showlegend": false,
         "textposition": "auto",
         "type": "bar",
         "x": [
          "Ivonne Café",
          "Fonda La Paila",
          "El Vaquerito",
          "D'kmino",
          "El Tocororo",
          "Café Fortuna Joe",
          "Rodney",
          "Cafe D La Esquina",
          "Finca La Pinta",
          "Food Master",
          "El Pecado",
          "Fuumiyaki",
          "La Catedral",
          "Sport Bar",
          "Brutal Habana",
          "Juanky's Pan",
          "Bocattas",
          "Jorgito's Pizza",
          "Atlanta",
          "El Farallón",
          "GaraG",
          "Soñar contigo",
          "Don Timbon",
          "28 y Mar",
          "La Marina",
          "Kmpary",
          "Don Omar",
          "Nel Paradiso",
          "El Faro",
          "Home Deli",
          "El Pellizco",
          "Distrito 25",
          "El Palenque",
          "KY-13",
          "Bom Apetite",
          "El Pilón",
          "Mercy bar",
          "Mirador de Acosta",
          "Los Doce Apóstoles",
          "Wapa",
          "Joe's Burguer",
          "Al Campestre",
          "Fénix Dorado",
          "La ruta de Hemingway",
          "El Bleko",
          "Cafe Bulevar",
          "Mokalex",
          "Guang Zhou",
          "Doping pizza",
          "La Novia",
          "Shapuseros",
          "Salsa Mora"
         ],
         "xaxis": "x",
         "y": [
          4,
          4,
          4,
          4,
          4,
          4,
          4,
          4,
          4,
          4,
          4,
          4,
          4,
          4,
          4,
          4,
          4,
          4,
          4,
          4,
          3.9,
          3.9,
          3.8,
          3.8,
          3.8,
          3.7,
          3.7,
          3.7,
          3.7,
          3.7,
          3.6,
          3.5,
          3.5,
          3.5,
          3.5,
          3.5,
          3.5,
          3.5,
          3.5,
          3.5,
          3.5,
          3.5,
          3.5,
          3.5,
          3.5,
          3.4,
          3.3,
          3.1,
          3.1,
          3,
          3,
          3
         ],
         "yaxis": "y"
        }
       ],
       "layout": {
        "barmode": "relative",
        "coloraxis": {
         "colorbar": {
          "title": {
           "text": "Rating"
          }
         },
         "colorscale": [
          [
           0,
           "#0d0887"
          ],
          [
           0.1111111111111111,
           "#46039f"
          ],
          [
           0.2222222222222222,
           "#7201a8"
          ],
          [
           0.3333333333333333,
           "#9c179e"
          ],
          [
           0.4444444444444444,
           "#bd3786"
          ],
          [
           0.5555555555555556,
           "#d8576b"
          ],
          [
           0.6666666666666666,
           "#ed7953"
          ],
          [
           0.7777777777777778,
           "#fb9f3a"
          ],
          [
           0.8888888888888888,
           "#fdca26"
          ],
          [
           1,
           "#f0f921"
          ]
         ]
        },
        "legend": {
         "tracegroupgap": 0
        },
        "template": {
         "data": {
          "bar": [
           {
            "error_x": {
             "color": "#2a3f5f"
            },
            "error_y": {
             "color": "#2a3f5f"
            },
            "marker": {
             "line": {
              "color": "#E5ECF6",
              "width": 0.5
             },
             "pattern": {
              "fillmode": "overlay",
              "size": 10,
              "solidity": 0.2
             }
            },
            "type": "bar"
           }
          ],
          "barpolar": [
           {
            "marker": {
             "line": {
              "color": "#E5ECF6",
              "width": 0.5
             },
             "pattern": {
              "fillmode": "overlay",
              "size": 10,
              "solidity": 0.2
             }
            },
            "type": "barpolar"
           }
          ],
          "carpet": [
           {
            "aaxis": {
             "endlinecolor": "#2a3f5f",
             "gridcolor": "white",
             "linecolor": "white",
             "minorgridcolor": "white",
             "startlinecolor": "#2a3f5f"
            },
            "baxis": {
             "endlinecolor": "#2a3f5f",
             "gridcolor": "white",
             "linecolor": "white",
             "minorgridcolor": "white",
             "startlinecolor": "#2a3f5f"
            },
            "type": "carpet"
           }
          ],
          "choropleth": [
           {
            "colorbar": {
             "outlinewidth": 0,
             "ticks": ""
            },
            "type": "choropleth"
           }
          ],
          "contour": [
           {
            "colorbar": {
             "outlinewidth": 0,
             "ticks": ""
            },
            "colorscale": [
             [
              0,
              "#0d0887"
             ],
             [
              0.1111111111111111,
              "#46039f"
             ],
             [
              0.2222222222222222,
              "#7201a8"
             ],
             [
              0.3333333333333333,
              "#9c179e"
             ],
             [
              0.4444444444444444,
              "#bd3786"
             ],
             [
              0.5555555555555556,
              "#d8576b"
             ],
             [
              0.6666666666666666,
              "#ed7953"
             ],
             [
              0.7777777777777778,
              "#fb9f3a"
             ],
             [
              0.8888888888888888,
              "#fdca26"
             ],
             [
              1,
              "#f0f921"
             ]
            ],
            "type": "contour"
           }
          ],
          "contourcarpet": [
           {
            "colorbar": {
             "outlinewidth": 0,
             "ticks": ""
            },
            "type": "contourcarpet"
           }
          ],
          "heatmap": [
           {
            "colorbar": {
             "outlinewidth": 0,
             "ticks": ""
            },
            "colorscale": [
             [
              0,
              "#0d0887"
             ],
             [
              0.1111111111111111,
              "#46039f"
             ],
             [
              0.2222222222222222,
              "#7201a8"
             ],
             [
              0.3333333333333333,
              "#9c179e"
             ],
             [
              0.4444444444444444,
              "#bd3786"
             ],
             [
              0.5555555555555556,
              "#d8576b"
             ],
             [
              0.6666666666666666,
              "#ed7953"
             ],
             [
              0.7777777777777778,
              "#fb9f3a"
             ],
             [
              0.8888888888888888,
              "#fdca26"
             ],
             [
              1,
              "#f0f921"
             ]
            ],
            "type": "heatmap"
           }
          ],
          "heatmapgl": [
           {
            "colorbar": {
             "outlinewidth": 0,
             "ticks": ""
            },
            "colorscale": [
             [
              0,
              "#0d0887"
             ],
             [
              0.1111111111111111,
              "#46039f"
             ],
             [
              0.2222222222222222,
              "#7201a8"
             ],
             [
              0.3333333333333333,
              "#9c179e"
             ],
             [
              0.4444444444444444,
              "#bd3786"
             ],
             [
              0.5555555555555556,
              "#d8576b"
             ],
             [
              0.6666666666666666,
              "#ed7953"
             ],
             [
              0.7777777777777778,
              "#fb9f3a"
             ],
             [
              0.8888888888888888,
              "#fdca26"
             ],
             [
              1,
              "#f0f921"
             ]
            ],
            "type": "heatmapgl"
           }
          ],
          "histogram": [
           {
            "marker": {
             "pattern": {
              "fillmode": "overlay",
              "size": 10,
              "solidity": 0.2
             }
            },
            "type": "histogram"
           }
          ],
          "histogram2d": [
           {
            "colorbar": {
             "outlinewidth": 0,
             "ticks": ""
            },
            "colorscale": [
             [
              0,
              "#0d0887"
             ],
             [
              0.1111111111111111,
              "#46039f"
             ],
             [
              0.2222222222222222,
              "#7201a8"
             ],
             [
              0.3333333333333333,
              "#9c179e"
             ],
             [
              0.4444444444444444,
              "#bd3786"
             ],
             [
              0.5555555555555556,
              "#d8576b"
             ],
             [
              0.6666666666666666,
              "#ed7953"
             ],
             [
              0.7777777777777778,
              "#fb9f3a"
             ],
             [
              0.8888888888888888,
              "#fdca26"
             ],
             [
              1,
              "#f0f921"
             ]
            ],
            "type": "histogram2d"
           }
          ],
          "histogram2dcontour": [
           {
            "colorbar": {
             "outlinewidth": 0,
             "ticks": ""
            },
            "colorscale": [
             [
              0,
              "#0d0887"
             ],
             [
              0.1111111111111111,
              "#46039f"
             ],
             [
              0.2222222222222222,
              "#7201a8"
             ],
             [
              0.3333333333333333,
              "#9c179e"
             ],
             [
              0.4444444444444444,
              "#bd3786"
             ],
             [
              0.5555555555555556,
              "#d8576b"
             ],
             [
              0.6666666666666666,
              "#ed7953"
             ],
             [
              0.7777777777777778,
              "#fb9f3a"
             ],
             [
              0.8888888888888888,
              "#fdca26"
             ],
             [
              1,
              "#f0f921"
             ]
            ],
            "type": "histogram2dcontour"
           }
          ],
          "mesh3d": [
           {
            "colorbar": {
             "outlinewidth": 0,
             "ticks": ""
            },
            "type": "mesh3d"
           }
          ],
          "parcoords": [
           {
            "line": {
             "colorbar": {
              "outlinewidth": 0,
              "ticks": ""
             }
            },
            "type": "parcoords"
           }
          ],
          "pie": [
           {
            "automargin": true,
            "type": "pie"
           }
          ],
          "scatter": [
           {
            "fillpattern": {
             "fillmode": "overlay",
             "size": 10,
             "solidity": 0.2
            },
            "type": "scatter"
           }
          ],
          "scatter3d": [
           {
            "line": {
             "colorbar": {
              "outlinewidth": 0,
              "ticks": ""
             }
            },
            "marker": {
             "colorbar": {
              "outlinewidth": 0,
              "ticks": ""
             }
            },
            "type": "scatter3d"
           }
          ],
          "scattercarpet": [
           {
            "marker": {
             "colorbar": {
              "outlinewidth": 0,
              "ticks": ""
             }
            },
            "type": "scattercarpet"
           }
          ],
          "scattergeo": [
           {
            "marker": {
             "colorbar": {
              "outlinewidth": 0,
              "ticks": ""
             }
            },
            "type": "scattergeo"
           }
          ],
          "scattergl": [
           {
            "marker": {
             "colorbar": {
              "outlinewidth": 0,
              "ticks": ""
             }
            },
            "type": "scattergl"
           }
          ],
          "scattermapbox": [
           {
            "marker": {
             "colorbar": {
              "outlinewidth": 0,
              "ticks": ""
             }
            },
            "type": "scattermapbox"
           }
          ],
          "scatterpolar": [
           {
            "marker": {
             "colorbar": {
              "outlinewidth": 0,
              "ticks": ""
             }
            },
            "type": "scatterpolar"
           }
          ],
          "scatterpolargl": [
           {
            "marker": {
             "colorbar": {
              "outlinewidth": 0,
              "ticks": ""
             }
            },
            "type": "scatterpolargl"
           }
          ],
          "scatterternary": [
           {
            "marker": {
             "colorbar": {
              "outlinewidth": 0,
              "ticks": ""
             }
            },
            "type": "scatterternary"
           }
          ],
          "surface": [
           {
            "colorbar": {
             "outlinewidth": 0,
             "ticks": ""
            },
            "colorscale": [
             [
              0,
              "#0d0887"
             ],
             [
              0.1111111111111111,
              "#46039f"
             ],
             [
              0.2222222222222222,
              "#7201a8"
             ],
             [
              0.3333333333333333,
              "#9c179e"
             ],
             [
              0.4444444444444444,
              "#bd3786"
             ],
             [
              0.5555555555555556,
              "#d8576b"
             ],
             [
              0.6666666666666666,
              "#ed7953"
             ],
             [
              0.7777777777777778,
              "#fb9f3a"
             ],
             [
              0.8888888888888888,
              "#fdca26"
             ],
             [
              1,
              "#f0f921"
             ]
            ],
            "type": "surface"
           }
          ],
          "table": [
           {
            "cells": {
             "fill": {
              "color": "#EBF0F8"
             },
             "line": {
              "color": "white"
             }
            },
            "header": {
             "fill": {
              "color": "#C8D4E3"
             },
             "line": {
              "color": "white"
             }
            },
            "type": "table"
           }
          ]
         },
         "layout": {
          "annotationdefaults": {
           "arrowcolor": "#2a3f5f",
           "arrowhead": 0,
           "arrowwidth": 1
          },
          "autotypenumbers": "strict",
          "coloraxis": {
           "colorbar": {
            "outlinewidth": 0,
            "ticks": ""
           }
          },
          "colorscale": {
           "diverging": [
            [
             0,
             "#8e0152"
            ],
            [
             0.1,
             "#c51b7d"
            ],
            [
             0.2,
             "#de77ae"
            ],
            [
             0.3,
             "#f1b6da"
            ],
            [
             0.4,
             "#fde0ef"
            ],
            [
             0.5,
             "#f7f7f7"
            ],
            [
             0.6,
             "#e6f5d0"
            ],
            [
             0.7,
             "#b8e186"
            ],
            [
             0.8,
             "#7fbc41"
            ],
            [
             0.9,
             "#4d9221"
            ],
            [
             1,
             "#276419"
            ]
           ],
           "sequential": [
            [
             0,
             "#0d0887"
            ],
            [
             0.1111111111111111,
             "#46039f"
            ],
            [
             0.2222222222222222,
             "#7201a8"
            ],
            [
             0.3333333333333333,
             "#9c179e"
            ],
            [
             0.4444444444444444,
             "#bd3786"
            ],
            [
             0.5555555555555556,
             "#d8576b"
            ],
            [
             0.6666666666666666,
             "#ed7953"
            ],
            [
             0.7777777777777778,
             "#fb9f3a"
            ],
            [
             0.8888888888888888,
             "#fdca26"
            ],
            [
             1,
             "#f0f921"
            ]
           ],
           "sequentialminus": [
            [
             0,
             "#0d0887"
            ],
            [
             0.1111111111111111,
             "#46039f"
            ],
            [
             0.2222222222222222,
             "#7201a8"
            ],
            [
             0.3333333333333333,
             "#9c179e"
            ],
            [
             0.4444444444444444,
             "#bd3786"
            ],
            [
             0.5555555555555556,
             "#d8576b"
            ],
            [
             0.6666666666666666,
             "#ed7953"
            ],
            [
             0.7777777777777778,
             "#fb9f3a"
            ],
            [
             0.8888888888888888,
             "#fdca26"
            ],
            [
             1,
             "#f0f921"
            ]
           ]
          },
          "colorway": [
           "#636efa",
           "#EF553B",
           "#00cc96",
           "#ab63fa",
           "#FFA15A",
           "#19d3f3",
           "#FF6692",
           "#B6E880",
           "#FF97FF",
           "#FECB52"
          ],
          "font": {
           "color": "#2a3f5f"
          },
          "geo": {
           "bgcolor": "white",
           "lakecolor": "white",
           "landcolor": "#E5ECF6",
           "showlakes": true,
           "showland": true,
           "subunitcolor": "white"
          },
          "hoverlabel": {
           "align": "left"
          },
          "hovermode": "closest",
          "mapbox": {
           "style": "light"
          },
          "paper_bgcolor": "white",
          "plot_bgcolor": "#E5ECF6",
          "polar": {
           "angularaxis": {
            "gridcolor": "white",
            "linecolor": "white",
            "ticks": ""
           },
           "bgcolor": "#E5ECF6",
           "radialaxis": {
            "gridcolor": "white",
            "linecolor": "white",
            "ticks": ""
           }
          },
          "scene": {
           "xaxis": {
            "backgroundcolor": "#E5ECF6",
            "gridcolor": "white",
            "gridwidth": 2,
            "linecolor": "white",
            "showbackground": true,
            "ticks": "",
            "zerolinecolor": "white"
           },
           "yaxis": {
            "backgroundcolor": "#E5ECF6",
            "gridcolor": "white",
            "gridwidth": 2,
            "linecolor": "white",
            "showbackground": true,
            "ticks": "",
            "zerolinecolor": "white"
           },
           "zaxis": {
            "backgroundcolor": "#E5ECF6",
            "gridcolor": "white",
            "gridwidth": 2,
            "linecolor": "white",
            "showbackground": true,
            "ticks": "",
            "zerolinecolor": "white"
           }
          },
          "shapedefaults": {
           "line": {
            "color": "#2a3f5f"
           }
          },
          "ternary": {
           "aaxis": {
            "gridcolor": "white",
            "linecolor": "white",
            "ticks": ""
           },
           "baxis": {
            "gridcolor": "white",
            "linecolor": "white",
            "ticks": ""
           },
           "bgcolor": "#E5ECF6",
           "caxis": {
            "gridcolor": "white",
            "linecolor": "white",
            "ticks": ""
           }
          },
          "title": {
           "x": 0.05
          },
          "xaxis": {
           "automargin": true,
           "gridcolor": "white",
           "linecolor": "white",
           "ticks": "",
           "title": {
            "standoff": 15
           },
           "zerolinecolor": "white",
           "zerolinewidth": 2
          },
          "yaxis": {
           "automargin": true,
           "gridcolor": "white",
           "linecolor": "white",
           "ticks": "",
           "title": {
            "standoff": 15
           },
           "zerolinecolor": "white",
           "zerolinewidth": 2
          }
         }
        },
        "title": {
         "text": "Establecimientos con Rating entre 3.0 y 4.0"
        },
        "xaxis": {
         "anchor": "y",
         "domain": [
          0,
          1
         ],
         "tickangle": -70,
         "title": {
          "text": "Nombres de los establecimientos"
         }
        },
        "yaxis": {
         "anchor": "x",
         "domain": [
          0,
          1
         ],
         "title": {
          "text": "Rating"
         }
        }
       }
      }
     },
     "metadata": {},
     "output_type": "display_data"
    }
   ],
   "source": [
    "df[df[\"rating\"].isna()]=0 #Hace cero los que tiene un rating \"null\"\n",
    "df_valid_ratings_to_median = df.sort_values(by='rating', ascending=False) #Ordena los rating de mayor a menor\n",
    "a = df_valid_ratings_to_median.iloc[:-31,:] #Quita los ultimos 31, son los de rating \"null\" que hicimos 0.\n",
    "most_access = a[(a['rating'] >= 3.0) & (a['rating'] <= 4.0)].copy(deep = True) #Deja solo los que tengan rating dentro del intervalo indicado\n",
    "#print(most_access)\n",
    "fig = px.bar(most_access, \n",
    "            x='name', \n",
    "            y='rating', \n",
    "            title='Establecimientos con Rating entre 3.0 y 4.0',\n",
    "            labels={'name': 'Nombres de los establecimientos', 'rating': 'Rating'},\n",
    "            color='rating',\n",
    "            color_continuous_scale=px.colors.sequential.Plasma)\n",
    "fig.update_layout(xaxis_tickangle=-70) \n",
    "fig.show()"
   ]
  },
  {
   "cell_type": "markdown",
   "metadata": {},
   "source": [
    "Un lugar que brinde servicio las 24 horas es definitivamente un fiel compi cuando son las 3am y ya sea por trabajo, una emergencia o cosas de la vida, no estás en casa para atacar tu refrigerador a tu disposición. Claro que nuestros héroes adolescentes también pensaron en ello y decidieron ver con qué lugares podían contar para situaciones de ese tipo."
   ]
  },
  {
   "cell_type": "code",
   "execution_count": 161,
   "metadata": {},
   "outputs": [
    {
     "name": "stdout",
     "output_type": "stream",
     "text": [
      "Restaurantes abiertos las 24 horas:\n",
      "Bocattas\n",
      "Pechatniky\n",
      "Qbanas 60\n",
      "Qué chévere\n",
      "Ranchon de 41\n",
      "Sport Bar\n"
     ]
    }
   ],
   "source": [
    "opened_24h = []\n",
    "for index, row in df.iterrows():  # Itera sobre cada fila del df\n",
    "    nombre_restaurante = row['name']\n",
    "    horario = row['schedule'] \n",
    "    \n",
    "    if not isinstance(horario, dict):  # Verifica que sea un diccionario\n",
    "        continue \n",
    "    \n",
    "    abierto_24 = True \n",
    "    for dia in horario:\n",
    "        if isinstance(horario[dia], dict): \n",
    "            if 'open' in horario[dia] and 'close' in horario[dia]:\n",
    "                if horario[dia]['open'] != '0000' or horario[dia]['close'] != '2400':\n",
    "                    abierto_24 = False \n",
    "                    break\n",
    "            else:\n",
    "                abierto_24 = False\n",
    "                break\n",
    "        else:\n",
    "            abierto_24 = False\n",
    "            break\n",
    "        \n",
    "    if abierto_24:\n",
    "        opened_24h.append(nombre_restaurante)\n",
    "        \n",
    "if opened_24h:\n",
    "    print(\"Restaurantes abiertos las 24 horas:\")\n",
    "    for restaurante in opened_24h:\n",
    "        print(restaurante)"
   ]
  },
  {
   "cell_type": "code",
   "execution_count": 52,
   "metadata": {},
   "outputs": [
    {
     "data": {
      "text/plain": [
       "type_of_establishment                                          restaurante\n",
       "name                                                               D'kmino\n",
       "district                                                             Playa\n",
       "coordinates              {'latitude': 23.11433698105626, 'longitude': -...\n",
       "contact                  {'phone_number': '72090437', 'e-mail': False, ...\n",
       "schedule                 {'monday': {'open': '1100', 'close': '2300'}, ...\n",
       "rating                                                                 4.0\n",
       "intake_capacity                                                       alta\n",
       "cuisine                                         [caribeña, latina, cubana]\n",
       "services                 {'plant': True, 'child_care': True, 'disable_s...\n",
       "pay_meth                                  {'cash': True, 'transfer': True}\n",
       "menu                     {'breakfasts': False, 'appetizers': {'items': ...\n",
       "cumple_name_price                                                     True\n",
       "cumple_service                                                        True\n",
       "Name: 52, dtype: object"
      ]
     },
     "execution_count": 52,
     "metadata": {},
     "output_type": "execute_result"
    }
   ],
   "source": [
    "def check_name_price(aux, plato, price): #funcion que chequea el precio y nombre\n",
    "    for i in aux:\n",
    "        if i != \"drinks\" and i != \"special_offers\":\n",
    "            if aux[i]:\n",
    "                for j in aux[i][\"items\"]:\n",
    "                    if (\n",
    "                        j[\"name\"].lower().strip().find(plato.lower().strip()) != -1\n",
    "                        and j[\"price\"] <= price\n",
    "                    ):\n",
    "                        return True\n",
    "        elif i == \"special_offers\":\n",
    "            if aux[i]:\n",
    "                for j in aux[i]:\n",
    "                    if (\n",
    "                        j[\"name\"].lower().strip().find(plato.lower().strip()) != -1\n",
    "                        and j[\"price\"] <= price\n",
    "                    ):\n",
    "                        return True\n",
    "        else:\n",
    "            if aux[i]:\n",
    "                for j in aux[i]:\n",
    "                    if aux[i][j]:\n",
    "                        for k in aux[i][j]:\n",
    "                            if (\n",
    "                                k[\"name\"].lower().strip().find(plato.lower().strip()) != -1\n",
    "                            and k[\"price\"] <= price\n",
    "                            ):\n",
    "                                return True\n",
    "    return False\n",
    "\n",
    "def check_service(aux, servicio): #funcion que chequea si el restaurante tiene el servicio pedido\n",
    "    return aux[servicio]\n",
    "\n",
    "def filter(_df, plato, price, servicios, municipio):\n",
    "    aux = _df[_df['district'] == municipio] #revisa si coincide con el municipio pedido\n",
    "    if len(aux) == 0:\n",
    "        return \"No hay resultado\"\n",
    "    aux[\"cumple_name_price\"] = aux[\"menu\"].apply(\n",
    "        check_name_price, plato = plato, price = price # verifica algun restaurante del \"menu\" cumple con  nombre y precio, si cumple se guarda en 'cumple_name_price'.\n",
    "    ) \n",
    "    aux[\"cumple_service\"] = aux['services'].apply(check_service, servicio = servicios) #hace lo mismo con \"services\"\n",
    "    result = aux[(aux[\"cumple_name_price\"] ==  True) & (aux[\"cumple_service\"] == True)] #se quedan solo los que cumplen ambas condiciones\n",
    "    if len(result) != 0:\n",
    "        r = result.sort_values(by = \"rating\") #los resultados se ordenan por rating\n",
    "        return r.iloc[0] #se queda el de mejor rating\n",
    "    return \"No hay resultado\"\n",
    "\n",
    "#EJEMPLO\n",
    "filter(most_access, \"huevo\", 1000, \"parking\", \"Playa\")"
   ]
  }
 ],
 "metadata": {
  "kernelspec": {
   "display_name": "base",
   "language": "python",
   "name": "python3"
  },
  "language_info": {
   "codemirror_mode": {
    "name": "ipython",
    "version": 3
   },
   "file_extension": ".py",
   "mimetype": "text/x-python",
   "name": "python",
   "nbconvert_exporter": "python",
   "pygments_lexer": "ipython3",
   "version": "3.12.7"
  }
 },
 "nbformat": 4,
 "nbformat_minor": 2
}
