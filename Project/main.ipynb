{
 "cells": [
  {
   "cell_type": "markdown",
   "metadata": {},
   "source": [
    "# \"Chill Havana\" Project\n",
    "### Análisis de Bares y Restaurantes en La Habana"
   ]
  },
  {
   "cell_type": "markdown",
   "metadata": {},
   "source": [
    "Un día como cualquiera salía un grupo de jóvenes de su escuela con ganas de pasar un rato chill con los colegas, algo para picar y una musiquita de fondo. Ya todos habían dado el sí cuando alguien soltó la misma pregunta de siempre: Loco, ¿pero a dónde vamos? Nada, que esa era la pregunta que casi siempre cortaba todo el rollo. Buscar el sitio ideal para las vibes del momento era bastante complicado, en ningún sitio ponían toda la info necesaria. "
   ]
  },
  {
   "cell_type": "markdown",
   "metadata": {},
   "source": [
    "-\"Tú busca en MenúCuba, ella en Instagram y yo la dirección en Maps, y ojalá salga todo!\""
   ]
  },
  {
   "cell_type": "markdown",
   "metadata": {},
   "source": [
    "¿Nunca has sentido tremendo agobio de escoger a qué lugar salir? Pues ellos sí y decidieron que era la última vez. ¿Qué es lo más importante para ti a la hora de elegir? ¿La variedad del menú? ¿Un plato específico? ¿La ubicación? ¿La valoración de otras personas? \n",
    "Nada, que tú puedes elegir lo que quieras porque para eso aquella tarde nació el proyecto \"Chill Havana\"."
   ]
  },
  {
   "cell_type": "markdown",
   "metadata": {},
   "source": [
    "Al final, después de tanto debate, ese día no salieron, se quedaron pensando y organizando sus ideas. Sí, sí, ellos se tomaron el problema como algo personal, pero tranqui, tenían su arma secreta: el amiguito del grupo que le sabía a la tecnología. Estaba clarísimo, querían hacer una página web que tuviera datos sobre más de 200 bares y restaurantes de La Habana para que cualquiera que quisiera elegir un lugar pudiera encontrar allí todo lo necesario para decidirse por el más adecuado para la ocasión.\n",
    "Oye, que el proyecto era tremenda idea eh. ¿Cómo crees que cambiaría las cosas tener un sitio web tan guay?"
   ]
  },
  {
   "cell_type": "code",
   "execution_count": 128,
   "metadata": {},
   "outputs": [],
   "source": [
    "#Crear el dataframe con los json para el trabajo con las bibliotecas de Python\n",
    "import glob\n",
    "import json\n",
    "import pandas as pd\n",
    "import matplotlib.pyplot as plt\n",
    "import folium\n",
    "import plotly.express as px\n",
    "import numpy as np\n",
    "import warnings\n",
    "warnings.filterwarnings(\"ignore\")\n",
    "\n",
    "def crear_data_frame():\n",
    "    ruta = \"C:/Users/andre/Desktop/Chill_Havana_Project/Jsons\"\n",
    "    data = []\n",
    "    for archivo in glob.glob(ruta + \"/*.json\"):\n",
    "        with open(archivo, 'r', encoding='utf-8') as f:\n",
    "            contenido = json.load(f)\n",
    "            data.append(contenido)\n",
    "            \n",
    "    df = pd.DataFrame(data)\n",
    "    return df\n",
    "\n",
    "df = crear_data_frame()\n",
    "#print(df['name'])"
   ]
  },
  {
   "cell_type": "markdown",
   "metadata": {},
   "source": [
    "El grupo seleccionó tres municipios cabecera por ser los más frecuentados por ellos y por muchos habaneros: Plaza de la Revolución, Playa y Centro Habana, de estos tres analizaron 30 establecimientos y del resto solo 10, pero antes de lanzarse a la creación de su página web, se dieron cuenta de que había una pregunta crucial que necesitaban responder: ¿Qué tipo de establecimiento predominaba más en La Habana: bar, restaurante o bar-restaurante? \n",
    "Un día, mientras revisaban las respuestas, uno de los chicos del grupo se dio cuenta de algo. -\"¡Espera! Entre los sitios de los cuales tenemos información hay más restaurantes que los otros dos tipos, podríamos enfocar nuestro proyecto en destacar los mejores lugares para comer.\"\n",
    "Fue entonces cuando se dieron cuenta de que no solo querían crear una página web; querían entender el sistema gastronómico de La Habana."
   ]
  },
  {
   "cell_type": "code",
   "execution_count": 129,
   "metadata": {},
   "outputs": [
    {
     "data": {
      "application/vnd.plotly.v1+json": {
       "config": {
        "plotlyServerURL": "https://plot.ly"
       },
       "data": [
        {
         "domain": {
          "x": [
           0,
           1
          ],
          "y": [
           0,
           1
          ]
         },
         "hole": 0.1,
         "hovertemplate": "Tipo de Establecimiento=%{label}<br>Cantidad=%{value}<extra></extra>",
         "labels": [
          "restaurante",
          "bar - restaurante",
          "bar"
         ],
         "legendgroup": "",
         "name": "",
         "showlegend": true,
         "type": "pie",
         "values": [
          125,
          74,
          2
         ]
        }
       ],
       "layout": {
        "legend": {
         "tracegroupgap": 0
        },
        "template": {
         "data": {
          "bar": [
           {
            "error_x": {
             "color": "#2a3f5f"
            },
            "error_y": {
             "color": "#2a3f5f"
            },
            "marker": {
             "line": {
              "color": "#E5ECF6",
              "width": 0.5
             },
             "pattern": {
              "fillmode": "overlay",
              "size": 10,
              "solidity": 0.2
             }
            },
            "type": "bar"
           }
          ],
          "barpolar": [
           {
            "marker": {
             "line": {
              "color": "#E5ECF6",
              "width": 0.5
             },
             "pattern": {
              "fillmode": "overlay",
              "size": 10,
              "solidity": 0.2
             }
            },
            "type": "barpolar"
           }
          ],
          "carpet": [
           {
            "aaxis": {
             "endlinecolor": "#2a3f5f",
             "gridcolor": "white",
             "linecolor": "white",
             "minorgridcolor": "white",
             "startlinecolor": "#2a3f5f"
            },
            "baxis": {
             "endlinecolor": "#2a3f5f",
             "gridcolor": "white",
             "linecolor": "white",
             "minorgridcolor": "white",
             "startlinecolor": "#2a3f5f"
            },
            "type": "carpet"
           }
          ],
          "choropleth": [
           {
            "colorbar": {
             "outlinewidth": 0,
             "ticks": ""
            },
            "type": "choropleth"
           }
          ],
          "contour": [
           {
            "colorbar": {
             "outlinewidth": 0,
             "ticks": ""
            },
            "colorscale": [
             [
              0,
              "#0d0887"
             ],
             [
              0.1111111111111111,
              "#46039f"
             ],
             [
              0.2222222222222222,
              "#7201a8"
             ],
             [
              0.3333333333333333,
              "#9c179e"
             ],
             [
              0.4444444444444444,
              "#bd3786"
             ],
             [
              0.5555555555555556,
              "#d8576b"
             ],
             [
              0.6666666666666666,
              "#ed7953"
             ],
             [
              0.7777777777777778,
              "#fb9f3a"
             ],
             [
              0.8888888888888888,
              "#fdca26"
             ],
             [
              1,
              "#f0f921"
             ]
            ],
            "type": "contour"
           }
          ],
          "contourcarpet": [
           {
            "colorbar": {
             "outlinewidth": 0,
             "ticks": ""
            },
            "type": "contourcarpet"
           }
          ],
          "heatmap": [
           {
            "colorbar": {
             "outlinewidth": 0,
             "ticks": ""
            },
            "colorscale": [
             [
              0,
              "#0d0887"
             ],
             [
              0.1111111111111111,
              "#46039f"
             ],
             [
              0.2222222222222222,
              "#7201a8"
             ],
             [
              0.3333333333333333,
              "#9c179e"
             ],
             [
              0.4444444444444444,
              "#bd3786"
             ],
             [
              0.5555555555555556,
              "#d8576b"
             ],
             [
              0.6666666666666666,
              "#ed7953"
             ],
             [
              0.7777777777777778,
              "#fb9f3a"
             ],
             [
              0.8888888888888888,
              "#fdca26"
             ],
             [
              1,
              "#f0f921"
             ]
            ],
            "type": "heatmap"
           }
          ],
          "heatmapgl": [
           {
            "colorbar": {
             "outlinewidth": 0,
             "ticks": ""
            },
            "colorscale": [
             [
              0,
              "#0d0887"
             ],
             [
              0.1111111111111111,
              "#46039f"
             ],
             [
              0.2222222222222222,
              "#7201a8"
             ],
             [
              0.3333333333333333,
              "#9c179e"
             ],
             [
              0.4444444444444444,
              "#bd3786"
             ],
             [
              0.5555555555555556,
              "#d8576b"
             ],
             [
              0.6666666666666666,
              "#ed7953"
             ],
             [
              0.7777777777777778,
              "#fb9f3a"
             ],
             [
              0.8888888888888888,
              "#fdca26"
             ],
             [
              1,
              "#f0f921"
             ]
            ],
            "type": "heatmapgl"
           }
          ],
          "histogram": [
           {
            "marker": {
             "pattern": {
              "fillmode": "overlay",
              "size": 10,
              "solidity": 0.2
             }
            },
            "type": "histogram"
           }
          ],
          "histogram2d": [
           {
            "colorbar": {
             "outlinewidth": 0,
             "ticks": ""
            },
            "colorscale": [
             [
              0,
              "#0d0887"
             ],
             [
              0.1111111111111111,
              "#46039f"
             ],
             [
              0.2222222222222222,
              "#7201a8"
             ],
             [
              0.3333333333333333,
              "#9c179e"
             ],
             [
              0.4444444444444444,
              "#bd3786"
             ],
             [
              0.5555555555555556,
              "#d8576b"
             ],
             [
              0.6666666666666666,
              "#ed7953"
             ],
             [
              0.7777777777777778,
              "#fb9f3a"
             ],
             [
              0.8888888888888888,
              "#fdca26"
             ],
             [
              1,
              "#f0f921"
             ]
            ],
            "type": "histogram2d"
           }
          ],
          "histogram2dcontour": [
           {
            "colorbar": {
             "outlinewidth": 0,
             "ticks": ""
            },
            "colorscale": [
             [
              0,
              "#0d0887"
             ],
             [
              0.1111111111111111,
              "#46039f"
             ],
             [
              0.2222222222222222,
              "#7201a8"
             ],
             [
              0.3333333333333333,
              "#9c179e"
             ],
             [
              0.4444444444444444,
              "#bd3786"
             ],
             [
              0.5555555555555556,
              "#d8576b"
             ],
             [
              0.6666666666666666,
              "#ed7953"
             ],
             [
              0.7777777777777778,
              "#fb9f3a"
             ],
             [
              0.8888888888888888,
              "#fdca26"
             ],
             [
              1,
              "#f0f921"
             ]
            ],
            "type": "histogram2dcontour"
           }
          ],
          "mesh3d": [
           {
            "colorbar": {
             "outlinewidth": 0,
             "ticks": ""
            },
            "type": "mesh3d"
           }
          ],
          "parcoords": [
           {
            "line": {
             "colorbar": {
              "outlinewidth": 0,
              "ticks": ""
             }
            },
            "type": "parcoords"
           }
          ],
          "pie": [
           {
            "automargin": true,
            "type": "pie"
           }
          ],
          "scatter": [
           {
            "fillpattern": {
             "fillmode": "overlay",
             "size": 10,
             "solidity": 0.2
            },
            "type": "scatter"
           }
          ],
          "scatter3d": [
           {
            "line": {
             "colorbar": {
              "outlinewidth": 0,
              "ticks": ""
             }
            },
            "marker": {
             "colorbar": {
              "outlinewidth": 0,
              "ticks": ""
             }
            },
            "type": "scatter3d"
           }
          ],
          "scattercarpet": [
           {
            "marker": {
             "colorbar": {
              "outlinewidth": 0,
              "ticks": ""
             }
            },
            "type": "scattercarpet"
           }
          ],
          "scattergeo": [
           {
            "marker": {
             "colorbar": {
              "outlinewidth": 0,
              "ticks": ""
             }
            },
            "type": "scattergeo"
           }
          ],
          "scattergl": [
           {
            "marker": {
             "colorbar": {
              "outlinewidth": 0,
              "ticks": ""
             }
            },
            "type": "scattergl"
           }
          ],
          "scattermapbox": [
           {
            "marker": {
             "colorbar": {
              "outlinewidth": 0,
              "ticks": ""
             }
            },
            "type": "scattermapbox"
           }
          ],
          "scatterpolar": [
           {
            "marker": {
             "colorbar": {
              "outlinewidth": 0,
              "ticks": ""
             }
            },
            "type": "scatterpolar"
           }
          ],
          "scatterpolargl": [
           {
            "marker": {
             "colorbar": {
              "outlinewidth": 0,
              "ticks": ""
             }
            },
            "type": "scatterpolargl"
           }
          ],
          "scatterternary": [
           {
            "marker": {
             "colorbar": {
              "outlinewidth": 0,
              "ticks": ""
             }
            },
            "type": "scatterternary"
           }
          ],
          "surface": [
           {
            "colorbar": {
             "outlinewidth": 0,
             "ticks": ""
            },
            "colorscale": [
             [
              0,
              "#0d0887"
             ],
             [
              0.1111111111111111,
              "#46039f"
             ],
             [
              0.2222222222222222,
              "#7201a8"
             ],
             [
              0.3333333333333333,
              "#9c179e"
             ],
             [
              0.4444444444444444,
              "#bd3786"
             ],
             [
              0.5555555555555556,
              "#d8576b"
             ],
             [
              0.6666666666666666,
              "#ed7953"
             ],
             [
              0.7777777777777778,
              "#fb9f3a"
             ],
             [
              0.8888888888888888,
              "#fdca26"
             ],
             [
              1,
              "#f0f921"
             ]
            ],
            "type": "surface"
           }
          ],
          "table": [
           {
            "cells": {
             "fill": {
              "color": "#EBF0F8"
             },
             "line": {
              "color": "white"
             }
            },
            "header": {
             "fill": {
              "color": "#C8D4E3"
             },
             "line": {
              "color": "white"
             }
            },
            "type": "table"
           }
          ]
         },
         "layout": {
          "annotationdefaults": {
           "arrowcolor": "#2a3f5f",
           "arrowhead": 0,
           "arrowwidth": 1
          },
          "autotypenumbers": "strict",
          "coloraxis": {
           "colorbar": {
            "outlinewidth": 0,
            "ticks": ""
           }
          },
          "colorscale": {
           "diverging": [
            [
             0,
             "#8e0152"
            ],
            [
             0.1,
             "#c51b7d"
            ],
            [
             0.2,
             "#de77ae"
            ],
            [
             0.3,
             "#f1b6da"
            ],
            [
             0.4,
             "#fde0ef"
            ],
            [
             0.5,
             "#f7f7f7"
            ],
            [
             0.6,
             "#e6f5d0"
            ],
            [
             0.7,
             "#b8e186"
            ],
            [
             0.8,
             "#7fbc41"
            ],
            [
             0.9,
             "#4d9221"
            ],
            [
             1,
             "#276419"
            ]
           ],
           "sequential": [
            [
             0,
             "#0d0887"
            ],
            [
             0.1111111111111111,
             "#46039f"
            ],
            [
             0.2222222222222222,
             "#7201a8"
            ],
            [
             0.3333333333333333,
             "#9c179e"
            ],
            [
             0.4444444444444444,
             "#bd3786"
            ],
            [
             0.5555555555555556,
             "#d8576b"
            ],
            [
             0.6666666666666666,
             "#ed7953"
            ],
            [
             0.7777777777777778,
             "#fb9f3a"
            ],
            [
             0.8888888888888888,
             "#fdca26"
            ],
            [
             1,
             "#f0f921"
            ]
           ],
           "sequentialminus": [
            [
             0,
             "#0d0887"
            ],
            [
             0.1111111111111111,
             "#46039f"
            ],
            [
             0.2222222222222222,
             "#7201a8"
            ],
            [
             0.3333333333333333,
             "#9c179e"
            ],
            [
             0.4444444444444444,
             "#bd3786"
            ],
            [
             0.5555555555555556,
             "#d8576b"
            ],
            [
             0.6666666666666666,
             "#ed7953"
            ],
            [
             0.7777777777777778,
             "#fb9f3a"
            ],
            [
             0.8888888888888888,
             "#fdca26"
            ],
            [
             1,
             "#f0f921"
            ]
           ]
          },
          "colorway": [
           "#636efa",
           "#EF553B",
           "#00cc96",
           "#ab63fa",
           "#FFA15A",
           "#19d3f3",
           "#FF6692",
           "#B6E880",
           "#FF97FF",
           "#FECB52"
          ],
          "font": {
           "color": "#2a3f5f"
          },
          "geo": {
           "bgcolor": "white",
           "lakecolor": "white",
           "landcolor": "#E5ECF6",
           "showlakes": true,
           "showland": true,
           "subunitcolor": "white"
          },
          "hoverlabel": {
           "align": "left"
          },
          "hovermode": "closest",
          "mapbox": {
           "style": "light"
          },
          "paper_bgcolor": "white",
          "plot_bgcolor": "#E5ECF6",
          "polar": {
           "angularaxis": {
            "gridcolor": "white",
            "linecolor": "white",
            "ticks": ""
           },
           "bgcolor": "#E5ECF6",
           "radialaxis": {
            "gridcolor": "white",
            "linecolor": "white",
            "ticks": ""
           }
          },
          "scene": {
           "xaxis": {
            "backgroundcolor": "#E5ECF6",
            "gridcolor": "white",
            "gridwidth": 2,
            "linecolor": "white",
            "showbackground": true,
            "ticks": "",
            "zerolinecolor": "white"
           },
           "yaxis": {
            "backgroundcolor": "#E5ECF6",
            "gridcolor": "white",
            "gridwidth": 2,
            "linecolor": "white",
            "showbackground": true,
            "ticks": "",
            "zerolinecolor": "white"
           },
           "zaxis": {
            "backgroundcolor": "#E5ECF6",
            "gridcolor": "white",
            "gridwidth": 2,
            "linecolor": "white",
            "showbackground": true,
            "ticks": "",
            "zerolinecolor": "white"
           }
          },
          "shapedefaults": {
           "line": {
            "color": "#2a3f5f"
           }
          },
          "ternary": {
           "aaxis": {
            "gridcolor": "white",
            "linecolor": "white",
            "ticks": ""
           },
           "baxis": {
            "gridcolor": "white",
            "linecolor": "white",
            "ticks": ""
           },
           "bgcolor": "#E5ECF6",
           "caxis": {
            "gridcolor": "white",
            "linecolor": "white",
            "ticks": ""
           }
          },
          "title": {
           "x": 0.05
          },
          "xaxis": {
           "automargin": true,
           "gridcolor": "white",
           "linecolor": "white",
           "ticks": "",
           "title": {
            "standoff": 15
           },
           "zerolinecolor": "white",
           "zerolinewidth": 2
          },
          "yaxis": {
           "automargin": true,
           "gridcolor": "white",
           "linecolor": "white",
           "ticks": "",
           "title": {
            "standoff": 15
           },
           "zerolinecolor": "white",
           "zerolinewidth": 2
          }
         }
        },
        "title": {
         "text": "Porcentaje de Tipos de Establecimientos en La Habana"
        }
       }
      }
     },
     "metadata": {},
     "output_type": "display_data"
    }
   ],
   "source": [
    "# Contar los tipos de establecimientos\n",
    "tipo_establecimientos = df['type_of_establishment'].value_counts().reset_index()\n",
    "tipo_establecimientos.columns = ['Tipo de Establecimiento', 'Cantidad']\n",
    "\n",
    "fig = px.pie(tipo_establecimientos, \n",
    "            values='Cantidad', \n",
    "            names='Tipo de Establecimiento', \n",
    "            title='Porcentaje de Tipos de Establecimientos en La Habana',\n",
    "            hole=0.1)\n",
    "fig.show()"
   ]
  },
  {
   "cell_type": "markdown",
   "metadata": {},
   "source": [
    "Mientras trabajaban en ello, Ana, la más tranquila, tuvo una idea. -\"¿Y si en lugar de poner las direcciones de los lugares, incluimos un mapa interactivo con las ubicaciones exactas?\".\n",
    "Todos hemos tenido experiencias frustrantes tratando de encontrar lugares solo con direcciones, puesto que muchas veces no son calles de nuestro conocimiento, por lo que tener una web con los establecimientos perfectamente localizados hace más fácil ubicarse y visualizar sus puntos de referencia cercanos al destino deseado. ¿Quién sabe? Quizás después se te antoja un heladito o sentarte en el malecón.\""
   ]
  },
  {
   "cell_type": "code",
   "execution_count": 130,
   "metadata": {},
   "outputs": [
    {
     "data": {
      "text/html": [
       "<div style=\"width:100%;\"><div style=\"position:relative;width:100%;height:0;padding-bottom:60%;\"><span style=\"color:#565656\">Make this Notebook Trusted to load map: File -> Trust Notebook</span><iframe srcdoc=\"&lt;!DOCTYPE html&gt;\n",
       "&lt;html&gt;\n",
       "&lt;head&gt;\n",
       "    \n",
       "    &lt;meta http-equiv=&quot;content-type&quot; content=&quot;text/html; charset=UTF-8&quot; /&gt;\n",
       "    \n",
       "        &lt;script&gt;\n",
       "            L_NO_TOUCH = false;\n",
       "            L_DISABLE_3D = false;\n",
       "        &lt;/script&gt;\n",
       "    \n",
       "    &lt;style&gt;html, body {width: 100%;height: 100%;margin: 0;padding: 0;}&lt;/style&gt;\n",
       "    &lt;style&gt;#map {position:absolute;top:0;bottom:0;right:0;left:0;}&lt;/style&gt;\n",
       "    &lt;script src=&quot;https://cdn.jsdelivr.net/npm/leaflet@1.9.3/dist/leaflet.js&quot;&gt;&lt;/script&gt;\n",
       "    &lt;script src=&quot;https://code.jquery.com/jquery-3.7.1.min.js&quot;&gt;&lt;/script&gt;\n",
       "    &lt;script src=&quot;https://cdn.jsdelivr.net/npm/bootstrap@5.2.2/dist/js/bootstrap.bundle.min.js&quot;&gt;&lt;/script&gt;\n",
       "    &lt;script src=&quot;https://cdnjs.cloudflare.com/ajax/libs/Leaflet.awesome-markers/2.0.2/leaflet.awesome-markers.js&quot;&gt;&lt;/script&gt;\n",
       "    &lt;link rel=&quot;stylesheet&quot; href=&quot;https://cdn.jsdelivr.net/npm/leaflet@1.9.3/dist/leaflet.css&quot;/&gt;\n",
       "    &lt;link rel=&quot;stylesheet&quot; href=&quot;https://cdn.jsdelivr.net/npm/bootstrap@5.2.2/dist/css/bootstrap.min.css&quot;/&gt;\n",
       "    &lt;link rel=&quot;stylesheet&quot; href=&quot;https://netdna.bootstrapcdn.com/bootstrap/3.0.0/css/bootstrap-glyphicons.css&quot;/&gt;\n",
       "    &lt;link rel=&quot;stylesheet&quot; href=&quot;https://cdn.jsdelivr.net/npm/@fortawesome/fontawesome-free@6.2.0/css/all.min.css&quot;/&gt;\n",
       "    &lt;link rel=&quot;stylesheet&quot; href=&quot;https://cdnjs.cloudflare.com/ajax/libs/Leaflet.awesome-markers/2.0.2/leaflet.awesome-markers.css&quot;/&gt;\n",
       "    &lt;link rel=&quot;stylesheet&quot; href=&quot;https://cdn.jsdelivr.net/gh/python-visualization/folium/folium/templates/leaflet.awesome.rotate.min.css&quot;/&gt;\n",
       "    \n",
       "            &lt;meta name=&quot;viewport&quot; content=&quot;width=device-width,\n",
       "                initial-scale=1.0, maximum-scale=1.0, user-scalable=no&quot; /&gt;\n",
       "            &lt;style&gt;\n",
       "                #map_2d5c9f5ad0757b3f2f4dc97ed79838a9 {\n",
       "                    position: relative;\n",
       "                    width: 100.0%;\n",
       "                    height: 100.0%;\n",
       "                    left: 0.0%;\n",
       "                    top: 0.0%;\n",
       "                }\n",
       "                .leaflet-container { font-size: 1rem; }\n",
       "            &lt;/style&gt;\n",
       "        \n",
       "&lt;/head&gt;\n",
       "&lt;body&gt;\n",
       "    \n",
       "    \n",
       "            &lt;div class=&quot;folium-map&quot; id=&quot;map_2d5c9f5ad0757b3f2f4dc97ed79838a9&quot; &gt;&lt;/div&gt;\n",
       "        \n",
       "&lt;/body&gt;\n",
       "&lt;script&gt;\n",
       "    \n",
       "    \n",
       "            var map_2d5c9f5ad0757b3f2f4dc97ed79838a9 = L.map(\n",
       "                &quot;map_2d5c9f5ad0757b3f2f4dc97ed79838a9&quot;,\n",
       "                {\n",
       "                    center: [23.1136, -82.3666],\n",
       "                    crs: L.CRS.EPSG3857,\n",
       "                    ...{\n",
       "  &quot;zoom&quot;: 12,\n",
       "  &quot;zoomControl&quot;: true,\n",
       "  &quot;preferCanvas&quot;: false,\n",
       "}\n",
       "\n",
       "                }\n",
       "            );\n",
       "\n",
       "            \n",
       "\n",
       "        \n",
       "    \n",
       "            var tile_layer_d0055d93a7fe7d325faa10fa5c660aee = L.tileLayer(\n",
       "                &quot;https://tile.openstreetmap.org/{z}/{x}/{y}.png&quot;,\n",
       "                {\n",
       "  &quot;minZoom&quot;: 0,\n",
       "  &quot;maxZoom&quot;: 19,\n",
       "  &quot;maxNativeZoom&quot;: 19,\n",
       "  &quot;noWrap&quot;: false,\n",
       "  &quot;attribution&quot;: &quot;\\u0026copy; \\u003ca href=\\&quot;https://www.openstreetmap.org/copyright\\&quot;\\u003eOpenStreetMap\\u003c/a\\u003e contributors&quot;,\n",
       "  &quot;subdomains&quot;: &quot;abc&quot;,\n",
       "  &quot;detectRetina&quot;: false,\n",
       "  &quot;tms&quot;: false,\n",
       "  &quot;opacity&quot;: 1,\n",
       "}\n",
       "\n",
       "            );\n",
       "        \n",
       "    \n",
       "            tile_layer_d0055d93a7fe7d325faa10fa5c660aee.addTo(map_2d5c9f5ad0757b3f2f4dc97ed79838a9);\n",
       "        \n",
       "    \n",
       "            var marker_dfa779257e650f38c59f6cd0cf6f50ae = L.marker(\n",
       "                [23.12361712886297, -82.4271050650417],\n",
       "                {\n",
       "}\n",
       "            ).addTo(map_2d5c9f5ad0757b3f2f4dc97ed79838a9);\n",
       "        \n",
       "    \n",
       "            var icon_6fd2e3a8291610f49bf9930d73ddb21c = L.AwesomeMarkers.icon(\n",
       "                {\n",
       "  &quot;markerColor&quot;: &quot;darkblue&quot;,\n",
       "  &quot;iconColor&quot;: &quot;white&quot;,\n",
       "  &quot;icon&quot;: &quot;info-sign&quot;,\n",
       "  &quot;prefix&quot;: &quot;glyphicon&quot;,\n",
       "  &quot;extraClasses&quot;: &quot;fa-rotate-0&quot;,\n",
       "}\n",
       "            );\n",
       "            marker_dfa779257e650f38c59f6cd0cf6f50ae.setIcon(icon_6fd2e3a8291610f49bf9930d73ddb21c);\n",
       "        \n",
       "    \n",
       "        var popup_055adecc87e1b8922c77a0bc41145840 = L.popup({\n",
       "  &quot;maxWidth&quot;: &quot;100%&quot;,\n",
       "});\n",
       "\n",
       "        \n",
       "            \n",
       "                var html_6c74c3aa3dfc95fc311f2d363b7f26ff = $(`&lt;div id=&quot;html_6c74c3aa3dfc95fc311f2d363b7f26ff&quot; style=&quot;width: 100.0%; height: 100.0%;&quot;&gt;28 y Mar&lt;/div&gt;`)[0];\n",
       "                popup_055adecc87e1b8922c77a0bc41145840.setContent(html_6c74c3aa3dfc95fc311f2d363b7f26ff);\n",
       "            \n",
       "        \n",
       "\n",
       "        marker_dfa779257e650f38c59f6cd0cf6f50ae.bindPopup(popup_055adecc87e1b8922c77a0bc41145840)\n",
       "        ;\n",
       "\n",
       "        \n",
       "    \n",
       "    \n",
       "            var marker_0aa3912c591ad44739ac9d1eafd25c59 = L.marker(\n",
       "                [23.12805874474967, -82.33435589367647],\n",
       "                {\n",
       "}\n",
       "            ).addTo(map_2d5c9f5ad0757b3f2f4dc97ed79838a9);\n",
       "        \n",
       "    \n",
       "            var icon_8530458b189d7abc92abc4492121d988 = L.AwesomeMarkers.icon(\n",
       "                {\n",
       "  &quot;markerColor&quot;: &quot;darkblue&quot;,\n",
       "  &quot;iconColor&quot;: &quot;white&quot;,\n",
       "  &quot;icon&quot;: &quot;info-sign&quot;,\n",
       "  &quot;prefix&quot;: &quot;glyphicon&quot;,\n",
       "  &quot;extraClasses&quot;: &quot;fa-rotate-0&quot;,\n",
       "}\n",
       "            );\n",
       "            marker_0aa3912c591ad44739ac9d1eafd25c59.setIcon(icon_8530458b189d7abc92abc4492121d988);\n",
       "        \n",
       "    \n",
       "        var popup_cce064dff70a8d1b7b0c994d5c5b10fd = L.popup({\n",
       "  &quot;maxWidth&quot;: &quot;100%&quot;,\n",
       "});\n",
       "\n",
       "        \n",
       "            \n",
       "                var html_aba449c938514e6873f4b3c076a4ec4e = $(`&lt;div id=&quot;html_aba449c938514e6873f4b3c076a4ec4e&quot; style=&quot;width: 100.0%; height: 100.0%;&quot;&gt;2KFÉ&lt;/div&gt;`)[0];\n",
       "                popup_cce064dff70a8d1b7b0c994d5c5b10fd.setContent(html_aba449c938514e6873f4b3c076a4ec4e);\n",
       "            \n",
       "        \n",
       "\n",
       "        marker_0aa3912c591ad44739ac9d1eafd25c59.bindPopup(popup_cce064dff70a8d1b7b0c994d5c5b10fd)\n",
       "        ;\n",
       "\n",
       "        \n",
       "    \n",
       "    \n",
       "            var marker_416fe5090f95af6ff524c9989d20d05a = L.marker(\n",
       "                [23.12374503719618, -82.32320046326254],\n",
       "                {\n",
       "}\n",
       "            ).addTo(map_2d5c9f5ad0757b3f2f4dc97ed79838a9);\n",
       "        \n",
       "    \n",
       "            var icon_aa640fd3c5f9973a444e422f0e7efd9c = L.AwesomeMarkers.icon(\n",
       "                {\n",
       "  &quot;markerColor&quot;: &quot;darkblue&quot;,\n",
       "  &quot;iconColor&quot;: &quot;white&quot;,\n",
       "  &quot;icon&quot;: &quot;info-sign&quot;,\n",
       "  &quot;prefix&quot;: &quot;glyphicon&quot;,\n",
       "  &quot;extraClasses&quot;: &quot;fa-rotate-0&quot;,\n",
       "}\n",
       "            );\n",
       "            marker_416fe5090f95af6ff524c9989d20d05a.setIcon(icon_aa640fd3c5f9973a444e422f0e7efd9c);\n",
       "        \n",
       "    \n",
       "        var popup_3689e319d9a6ee4d33c7cfe9445831af = L.popup({\n",
       "  &quot;maxWidth&quot;: &quot;100%&quot;,\n",
       "});\n",
       "\n",
       "        \n",
       "            \n",
       "                var html_4b89256df1e38a1a618b267e0e723aaf = $(`&lt;div id=&quot;html_4b89256df1e38a1a618b267e0e723aaf&quot; style=&quot;width: 100.0%; height: 100.0%;&quot;&gt;5ta Billar&lt;/div&gt;`)[0];\n",
       "                popup_3689e319d9a6ee4d33c7cfe9445831af.setContent(html_4b89256df1e38a1a618b267e0e723aaf);\n",
       "            \n",
       "        \n",
       "\n",
       "        marker_416fe5090f95af6ff524c9989d20d05a.bindPopup(popup_3689e319d9a6ee4d33c7cfe9445831af)\n",
       "        ;\n",
       "\n",
       "        \n",
       "    \n",
       "    \n",
       "            var marker_0ebfac4b020f4133a42618ef3647fcfa = L.marker(\n",
       "                [23.07275737968528, -82.43208755151812],\n",
       "                {\n",
       "}\n",
       "            ).addTo(map_2d5c9f5ad0757b3f2f4dc97ed79838a9);\n",
       "        \n",
       "    \n",
       "            var icon_644e6950625ec99f9d3765f66568b586 = L.AwesomeMarkers.icon(\n",
       "                {\n",
       "  &quot;markerColor&quot;: &quot;darkblue&quot;,\n",
       "  &quot;iconColor&quot;: &quot;white&quot;,\n",
       "  &quot;icon&quot;: &quot;info-sign&quot;,\n",
       "  &quot;prefix&quot;: &quot;glyphicon&quot;,\n",
       "  &quot;extraClasses&quot;: &quot;fa-rotate-0&quot;,\n",
       "}\n",
       "            );\n",
       "            marker_0ebfac4b020f4133a42618ef3647fcfa.setIcon(icon_644e6950625ec99f9d3765f66568b586);\n",
       "        \n",
       "    \n",
       "        var popup_321112ea464e89af289f50d05010c1c9 = L.popup({\n",
       "  &quot;maxWidth&quot;: &quot;100%&quot;,\n",
       "});\n",
       "\n",
       "        \n",
       "            \n",
       "                var html_8e08622f751cd9e74defe723611e797b = $(`&lt;div id=&quot;html_8e08622f751cd9e74defe723611e797b&quot; style=&quot;width: 100.0%; height: 100.0%;&quot;&gt;A&amp;J Fast Food&lt;/div&gt;`)[0];\n",
       "                popup_321112ea464e89af289f50d05010c1c9.setContent(html_8e08622f751cd9e74defe723611e797b);\n",
       "            \n",
       "        \n",
       "\n",
       "        marker_0ebfac4b020f4133a42618ef3647fcfa.bindPopup(popup_321112ea464e89af289f50d05010c1c9)\n",
       "        ;\n",
       "\n",
       "        \n",
       "    \n",
       "    \n",
       "            var marker_db0e49f4b47b074b40c7b52e223e0acb = L.marker(\n",
       "                [23.057838724569645, -82.38286186315446],\n",
       "                {\n",
       "}\n",
       "            ).addTo(map_2d5c9f5ad0757b3f2f4dc97ed79838a9);\n",
       "        \n",
       "    \n",
       "            var icon_9038e5bd1d83f9d5b2045851b85660cb = L.AwesomeMarkers.icon(\n",
       "                {\n",
       "  &quot;markerColor&quot;: &quot;darkblue&quot;,\n",
       "  &quot;iconColor&quot;: &quot;white&quot;,\n",
       "  &quot;icon&quot;: &quot;info-sign&quot;,\n",
       "  &quot;prefix&quot;: &quot;glyphicon&quot;,\n",
       "  &quot;extraClasses&quot;: &quot;fa-rotate-0&quot;,\n",
       "}\n",
       "            );\n",
       "            marker_db0e49f4b47b074b40c7b52e223e0acb.setIcon(icon_9038e5bd1d83f9d5b2045851b85660cb);\n",
       "        \n",
       "    \n",
       "        var popup_036ae57d87d5d5f6dfa237b94b47bca4 = L.popup({\n",
       "  &quot;maxWidth&quot;: &quot;100%&quot;,\n",
       "});\n",
       "\n",
       "        \n",
       "            \n",
       "                var html_53a8f713f15d2ed038ae5ce97d840d4a = $(`&lt;div id=&quot;html_53a8f713f15d2ed038ae5ce97d840d4a&quot; style=&quot;width: 100.0%; height: 100.0%;&quot;&gt;Abuelo D&#x27;Oro&lt;/div&gt;`)[0];\n",
       "                popup_036ae57d87d5d5f6dfa237b94b47bca4.setContent(html_53a8f713f15d2ed038ae5ce97d840d4a);\n",
       "            \n",
       "        \n",
       "\n",
       "        marker_db0e49f4b47b074b40c7b52e223e0acb.bindPopup(popup_036ae57d87d5d5f6dfa237b94b47bca4)\n",
       "        ;\n",
       "\n",
       "        \n",
       "    \n",
       "    \n",
       "            var marker_ed8418a13760a2857e953e3ae3867485 = L.marker(\n",
       "                [23.16213337258811, -82.29442813615995],\n",
       "                {\n",
       "}\n",
       "            ).addTo(map_2d5c9f5ad0757b3f2f4dc97ed79838a9);\n",
       "        \n",
       "    \n",
       "            var icon_84ee259662f66d7349c71254545cf848 = L.AwesomeMarkers.icon(\n",
       "                {\n",
       "  &quot;markerColor&quot;: &quot;darkblue&quot;,\n",
       "  &quot;iconColor&quot;: &quot;white&quot;,\n",
       "  &quot;icon&quot;: &quot;info-sign&quot;,\n",
       "  &quot;prefix&quot;: &quot;glyphicon&quot;,\n",
       "  &quot;extraClasses&quot;: &quot;fa-rotate-0&quot;,\n",
       "}\n",
       "            );\n",
       "            marker_ed8418a13760a2857e953e3ae3867485.setIcon(icon_84ee259662f66d7349c71254545cf848);\n",
       "        \n",
       "    \n",
       "        var popup_ee0e960c2cd87a6104ef8f61e7d803f5 = L.popup({\n",
       "  &quot;maxWidth&quot;: &quot;100%&quot;,\n",
       "});\n",
       "\n",
       "        \n",
       "            \n",
       "                var html_b56dd79853a9034ffaa595b467f31134 = $(`&lt;div id=&quot;html_b56dd79853a9034ffaa595b467f31134&quot; style=&quot;width: 100.0%; height: 100.0%;&quot;&gt;Aires de Cojimar&lt;/div&gt;`)[0];\n",
       "                popup_ee0e960c2cd87a6104ef8f61e7d803f5.setContent(html_b56dd79853a9034ffaa595b467f31134);\n",
       "            \n",
       "        \n",
       "\n",
       "        marker_ed8418a13760a2857e953e3ae3867485.bindPopup(popup_ee0e960c2cd87a6104ef8f61e7d803f5)\n",
       "        ;\n",
       "\n",
       "        \n",
       "    \n",
       "    \n",
       "            var marker_469f24241c8b656e388783e65e916d9e = L.marker(\n",
       "                [23.155282399334702, -82.27081842086241],\n",
       "                {\n",
       "}\n",
       "            ).addTo(map_2d5c9f5ad0757b3f2f4dc97ed79838a9);\n",
       "        \n",
       "    \n",
       "            var icon_70e9f12f4783bbc62e128b5a5b6978bb = L.AwesomeMarkers.icon(\n",
       "                {\n",
       "  &quot;markerColor&quot;: &quot;darkblue&quot;,\n",
       "  &quot;iconColor&quot;: &quot;white&quot;,\n",
       "  &quot;icon&quot;: &quot;info-sign&quot;,\n",
       "  &quot;prefix&quot;: &quot;glyphicon&quot;,\n",
       "  &quot;extraClasses&quot;: &quot;fa-rotate-0&quot;,\n",
       "}\n",
       "            );\n",
       "            marker_469f24241c8b656e388783e65e916d9e.setIcon(icon_70e9f12f4783bbc62e128b5a5b6978bb);\n",
       "        \n",
       "    \n",
       "        var popup_dc6119c3f1de2ac605d17f491f0b07f3 = L.popup({\n",
       "  &quot;maxWidth&quot;: &quot;100%&quot;,\n",
       "});\n",
       "\n",
       "        \n",
       "            \n",
       "                var html_bd160c677457ac4ed39bb1c4130ea4c0 = $(`&lt;div id=&quot;html_bd160c677457ac4ed39bb1c4130ea4c0&quot; style=&quot;width: 100.0%; height: 100.0%;&quot;&gt;Al Campestre&lt;/div&gt;`)[0];\n",
       "                popup_dc6119c3f1de2ac605d17f491f0b07f3.setContent(html_bd160c677457ac4ed39bb1c4130ea4c0);\n",
       "            \n",
       "        \n",
       "\n",
       "        marker_469f24241c8b656e388783e65e916d9e.bindPopup(popup_dc6119c3f1de2ac605d17f491f0b07f3)\n",
       "        ;\n",
       "\n",
       "        \n",
       "    \n",
       "    \n",
       "            var marker_c99c22504fa42297bc65642d273b14fe = L.marker(\n",
       "                [23.118857756567763, -82.42952136001638],\n",
       "                {\n",
       "}\n",
       "            ).addTo(map_2d5c9f5ad0757b3f2f4dc97ed79838a9);\n",
       "        \n",
       "    \n",
       "            var icon_abae91044f34649be288a4d047a82678 = L.AwesomeMarkers.icon(\n",
       "                {\n",
       "  &quot;markerColor&quot;: &quot;darkblue&quot;,\n",
       "  &quot;iconColor&quot;: &quot;white&quot;,\n",
       "  &quot;icon&quot;: &quot;info-sign&quot;,\n",
       "  &quot;prefix&quot;: &quot;glyphicon&quot;,\n",
       "  &quot;extraClasses&quot;: &quot;fa-rotate-0&quot;,\n",
       "}\n",
       "            );\n",
       "            marker_c99c22504fa42297bc65642d273b14fe.setIcon(icon_abae91044f34649be288a4d047a82678);\n",
       "        \n",
       "    \n",
       "        var popup_375ac050deb742ff528c5cb0c5ec9f3e = L.popup({\n",
       "  &quot;maxWidth&quot;: &quot;100%&quot;,\n",
       "});\n",
       "\n",
       "        \n",
       "            \n",
       "                var html_c65925c6af5e9f43dee39757f53e60d6 = $(`&lt;div id=&quot;html_c65925c6af5e9f43dee39757f53e60d6&quot; style=&quot;width: 100.0%; height: 100.0%;&quot;&gt;Amalfi&lt;/div&gt;`)[0];\n",
       "                popup_375ac050deb742ff528c5cb0c5ec9f3e.setContent(html_c65925c6af5e9f43dee39757f53e60d6);\n",
       "            \n",
       "        \n",
       "\n",
       "        marker_c99c22504fa42297bc65642d273b14fe.bindPopup(popup_375ac050deb742ff528c5cb0c5ec9f3e)\n",
       "        ;\n",
       "\n",
       "        \n",
       "    \n",
       "    \n",
       "            var marker_f535444126c00edf8c3f8d70824f4893 = L.marker(\n",
       "                [23.098281020180526, -82.26561429377226],\n",
       "                {\n",
       "}\n",
       "            ).addTo(map_2d5c9f5ad0757b3f2f4dc97ed79838a9);\n",
       "        \n",
       "    \n",
       "            var icon_894ab1797deb914c63f065c56ed14c5f = L.AwesomeMarkers.icon(\n",
       "                {\n",
       "  &quot;markerColor&quot;: &quot;darkblue&quot;,\n",
       "  &quot;iconColor&quot;: &quot;white&quot;,\n",
       "  &quot;icon&quot;: &quot;info-sign&quot;,\n",
       "  &quot;prefix&quot;: &quot;glyphicon&quot;,\n",
       "  &quot;extraClasses&quot;: &quot;fa-rotate-0&quot;,\n",
       "}\n",
       "            );\n",
       "            marker_f535444126c00edf8c3f8d70824f4893.setIcon(icon_894ab1797deb914c63f065c56ed14c5f);\n",
       "        \n",
       "    \n",
       "        var popup_038ac2655c6fef66e371955a096b9113 = L.popup({\n",
       "  &quot;maxWidth&quot;: &quot;100%&quot;,\n",
       "});\n",
       "\n",
       "        \n",
       "            \n",
       "                var html_515019506dc77fa42ca23eb5024b933f = $(`&lt;div id=&quot;html_515019506dc77fa42ca23eb5024b933f&quot; style=&quot;width: 100.0%; height: 100.0%;&quot;&gt;Anillo Habanero&lt;/div&gt;`)[0];\n",
       "                popup_038ac2655c6fef66e371955a096b9113.setContent(html_515019506dc77fa42ca23eb5024b933f);\n",
       "            \n",
       "        \n",
       "\n",
       "        marker_f535444126c00edf8c3f8d70824f4893.bindPopup(popup_038ac2655c6fef66e371955a096b9113)\n",
       "        ;\n",
       "\n",
       "        \n",
       "    \n",
       "    \n",
       "            var marker_6f1659e3d500cd95023b7f012482bfdd = L.marker(\n",
       "                [23.141810755681387, -82.355151334157],\n",
       "                {\n",
       "}\n",
       "            ).addTo(map_2d5c9f5ad0757b3f2f4dc97ed79838a9);\n",
       "        \n",
       "    \n",
       "            var icon_0834d5cbccb9e3553b679918b505ab41 = L.AwesomeMarkers.icon(\n",
       "                {\n",
       "  &quot;markerColor&quot;: &quot;darkblue&quot;,\n",
       "  &quot;iconColor&quot;: &quot;white&quot;,\n",
       "  &quot;icon&quot;: &quot;info-sign&quot;,\n",
       "  &quot;prefix&quot;: &quot;glyphicon&quot;,\n",
       "  &quot;extraClasses&quot;: &quot;fa-rotate-0&quot;,\n",
       "}\n",
       "            );\n",
       "            marker_6f1659e3d500cd95023b7f012482bfdd.setIcon(icon_0834d5cbccb9e3553b679918b505ab41);\n",
       "        \n",
       "    \n",
       "        var popup_b887c9fed8624b6e2a465ef7be182c36 = L.popup({\n",
       "  &quot;maxWidth&quot;: &quot;100%&quot;,\n",
       "});\n",
       "\n",
       "        \n",
       "            \n",
       "                var html_fa3771bb6d6d51d4c9590557e2f9e78c = $(`&lt;div id=&quot;html_fa3771bb6d6d51d4c9590557e2f9e78c&quot; style=&quot;width: 100.0%; height: 100.0%;&quot;&gt;Antojos&lt;/div&gt;`)[0];\n",
       "                popup_b887c9fed8624b6e2a465ef7be182c36.setContent(html_fa3771bb6d6d51d4c9590557e2f9e78c);\n",
       "            \n",
       "        \n",
       "\n",
       "        marker_6f1659e3d500cd95023b7f012482bfdd.bindPopup(popup_b887c9fed8624b6e2a465ef7be182c36)\n",
       "        ;\n",
       "\n",
       "        \n",
       "    \n",
       "    \n",
       "            var marker_9c1630da3acfbf262a40c9cafab03485 = L.marker(\n",
       "                [23.052367619389422, -82.46068306676176],\n",
       "                {\n",
       "}\n",
       "            ).addTo(map_2d5c9f5ad0757b3f2f4dc97ed79838a9);\n",
       "        \n",
       "    \n",
       "            var icon_eda6bca5e34b178374b24b6f7e020432 = L.AwesomeMarkers.icon(\n",
       "                {\n",
       "  &quot;markerColor&quot;: &quot;darkblue&quot;,\n",
       "  &quot;iconColor&quot;: &quot;white&quot;,\n",
       "  &quot;icon&quot;: &quot;info-sign&quot;,\n",
       "  &quot;prefix&quot;: &quot;glyphicon&quot;,\n",
       "  &quot;extraClasses&quot;: &quot;fa-rotate-0&quot;,\n",
       "}\n",
       "            );\n",
       "            marker_9c1630da3acfbf262a40c9cafab03485.setIcon(icon_eda6bca5e34b178374b24b6f7e020432);\n",
       "        \n",
       "    \n",
       "        var popup_dd1043e51fa4e49b3cf3b769aa644f41 = L.popup({\n",
       "  &quot;maxWidth&quot;: &quot;100%&quot;,\n",
       "});\n",
       "\n",
       "        \n",
       "            \n",
       "                var html_c8b5b62db9e30245e10ae29cf19f21f9 = $(`&lt;div id=&quot;html_c8b5b62db9e30245e10ae29cf19f21f9&quot; style=&quot;width: 100.0%; height: 100.0%;&quot;&gt;Aroma de Café&lt;/div&gt;`)[0];\n",
       "                popup_dd1043e51fa4e49b3cf3b769aa644f41.setContent(html_c8b5b62db9e30245e10ae29cf19f21f9);\n",
       "            \n",
       "        \n",
       "\n",
       "        marker_9c1630da3acfbf262a40c9cafab03485.bindPopup(popup_dd1043e51fa4e49b3cf3b769aa644f41)\n",
       "        ;\n",
       "\n",
       "        \n",
       "    \n",
       "    \n",
       "            var marker_4a3b16697da25adb6db5ba1ee798c039 = L.marker(\n",
       "                [23.128994860348442, -82.39670541533232],\n",
       "                {\n",
       "}\n",
       "            ).addTo(map_2d5c9f5ad0757b3f2f4dc97ed79838a9);\n",
       "        \n",
       "    \n",
       "            var icon_63d4fdd9c372088d04ea65e83159e6e0 = L.AwesomeMarkers.icon(\n",
       "                {\n",
       "  &quot;markerColor&quot;: &quot;darkblue&quot;,\n",
       "  &quot;iconColor&quot;: &quot;white&quot;,\n",
       "  &quot;icon&quot;: &quot;info-sign&quot;,\n",
       "  &quot;prefix&quot;: &quot;glyphicon&quot;,\n",
       "  &quot;extraClasses&quot;: &quot;fa-rotate-0&quot;,\n",
       "}\n",
       "            );\n",
       "            marker_4a3b16697da25adb6db5ba1ee798c039.setIcon(icon_63d4fdd9c372088d04ea65e83159e6e0);\n",
       "        \n",
       "    \n",
       "        var popup_4b7e1bc779631b44429a02e92e3075c4 = L.popup({\n",
       "  &quot;maxWidth&quot;: &quot;100%&quot;,\n",
       "});\n",
       "\n",
       "        \n",
       "            \n",
       "                var html_30550cd65f83168b59eb3b290aba23a6 = $(`&lt;div id=&quot;html_30550cd65f83168b59eb3b290aba23a6&quot; style=&quot;width: 100.0%; height: 100.0%;&quot;&gt;Asia de Cuba&lt;/div&gt;`)[0];\n",
       "                popup_4b7e1bc779631b44429a02e92e3075c4.setContent(html_30550cd65f83168b59eb3b290aba23a6);\n",
       "            \n",
       "        \n",
       "\n",
       "        marker_4a3b16697da25adb6db5ba1ee798c039.bindPopup(popup_4b7e1bc779631b44429a02e92e3075c4)\n",
       "        ;\n",
       "\n",
       "        \n",
       "    \n",
       "    \n",
       "            var marker_55e5e15611fb6371d3dbe2876ee5d1e0 = L.marker(\n",
       "                [23.07540405820975, -82.35821067834236],\n",
       "                {\n",
       "}\n",
       "            ).addTo(map_2d5c9f5ad0757b3f2f4dc97ed79838a9);\n",
       "        \n",
       "    \n",
       "            var icon_4df9045869a9919f9bcfb34dc14212ae = L.AwesomeMarkers.icon(\n",
       "                {\n",
       "  &quot;markerColor&quot;: &quot;darkblue&quot;,\n",
       "  &quot;iconColor&quot;: &quot;white&quot;,\n",
       "  &quot;icon&quot;: &quot;info-sign&quot;,\n",
       "  &quot;prefix&quot;: &quot;glyphicon&quot;,\n",
       "  &quot;extraClasses&quot;: &quot;fa-rotate-0&quot;,\n",
       "}\n",
       "            );\n",
       "            marker_55e5e15611fb6371d3dbe2876ee5d1e0.setIcon(icon_4df9045869a9919f9bcfb34dc14212ae);\n",
       "        \n",
       "    \n",
       "        var popup_c8e393bb8d62a756fd5402a0c85f9f70 = L.popup({\n",
       "  &quot;maxWidth&quot;: &quot;100%&quot;,\n",
       "});\n",
       "\n",
       "        \n",
       "            \n",
       "                var html_83a89af7f111b6ab2a15ae2b426fdd7f = $(`&lt;div id=&quot;html_83a89af7f111b6ab2a15ae2b426fdd7f&quot; style=&quot;width: 100.0%; height: 100.0%;&quot;&gt;Atlanta&lt;/div&gt;`)[0];\n",
       "                popup_c8e393bb8d62a756fd5402a0c85f9f70.setContent(html_83a89af7f111b6ab2a15ae2b426fdd7f);\n",
       "            \n",
       "        \n",
       "\n",
       "        marker_55e5e15611fb6371d3dbe2876ee5d1e0.bindPopup(popup_c8e393bb8d62a756fd5402a0c85f9f70)\n",
       "        ;\n",
       "\n",
       "        \n",
       "    \n",
       "    \n",
       "            var marker_124617ed2d930717f2064784b5abc7a1 = L.marker(\n",
       "                [23.140032524116656, -82.37801794949878],\n",
       "                {\n",
       "}\n",
       "            ).addTo(map_2d5c9f5ad0757b3f2f4dc97ed79838a9);\n",
       "        \n",
       "    \n",
       "            var icon_576527708ed3281d7bc62bc20c69916a = L.AwesomeMarkers.icon(\n",
       "                {\n",
       "  &quot;markerColor&quot;: &quot;darkblue&quot;,\n",
       "  &quot;iconColor&quot;: &quot;white&quot;,\n",
       "  &quot;icon&quot;: &quot;info-sign&quot;,\n",
       "  &quot;prefix&quot;: &quot;glyphicon&quot;,\n",
       "  &quot;extraClasses&quot;: &quot;fa-rotate-0&quot;,\n",
       "}\n",
       "            );\n",
       "            marker_124617ed2d930717f2064784b5abc7a1.setIcon(icon_576527708ed3281d7bc62bc20c69916a);\n",
       "        \n",
       "    \n",
       "        var popup_ed3b91911f68a2bdf3b179ec5411047b = L.popup({\n",
       "  &quot;maxWidth&quot;: &quot;100%&quot;,\n",
       "});\n",
       "\n",
       "        \n",
       "            \n",
       "                var html_c68f2271f55ea07946df3dd96cabf08f = $(`&lt;div id=&quot;html_c68f2271f55ea07946df3dd96cabf08f&quot; style=&quot;width: 100.0%; height: 100.0%;&quot;&gt;Macarena&lt;/div&gt;`)[0];\n",
       "                popup_ed3b91911f68a2bdf3b179ec5411047b.setContent(html_c68f2271f55ea07946df3dd96cabf08f);\n",
       "            \n",
       "        \n",
       "\n",
       "        marker_124617ed2d930717f2064784b5abc7a1.bindPopup(popup_ed3b91911f68a2bdf3b179ec5411047b)\n",
       "        ;\n",
       "\n",
       "        \n",
       "    \n",
       "    \n",
       "            var marker_6e364bc7bd821fb9bbd788ee879ea927 = L.marker(\n",
       "                [23.09481372818826, -82.41919746499825],\n",
       "                {\n",
       "}\n",
       "            ).addTo(map_2d5c9f5ad0757b3f2f4dc97ed79838a9);\n",
       "        \n",
       "    \n",
       "            var icon_59f9338191071807ff94251e60bb375b = L.AwesomeMarkers.icon(\n",
       "                {\n",
       "  &quot;markerColor&quot;: &quot;darkblue&quot;,\n",
       "  &quot;iconColor&quot;: &quot;white&quot;,\n",
       "  &quot;icon&quot;: &quot;info-sign&quot;,\n",
       "  &quot;prefix&quot;: &quot;glyphicon&quot;,\n",
       "  &quot;extraClasses&quot;: &quot;fa-rotate-0&quot;,\n",
       "}\n",
       "            );\n",
       "            marker_6e364bc7bd821fb9bbd788ee879ea927.setIcon(icon_59f9338191071807ff94251e60bb375b);\n",
       "        \n",
       "    \n",
       "        var popup_8be0f7b4eaa91d82bcb7ab9b798e6949 = L.popup({\n",
       "  &quot;maxWidth&quot;: &quot;100%&quot;,\n",
       "});\n",
       "\n",
       "        \n",
       "            \n",
       "                var html_bc4c1e0a768843ae5c49d7d1d9f8d208 = $(`&lt;div id=&quot;html_bc4c1e0a768843ae5c49d7d1d9f8d208&quot; style=&quot;width: 100.0%; height: 100.0%;&quot;&gt;Bar Tropicana&lt;/div&gt;`)[0];\n",
       "                popup_8be0f7b4eaa91d82bcb7ab9b798e6949.setContent(html_bc4c1e0a768843ae5c49d7d1d9f8d208);\n",
       "            \n",
       "        \n",
       "\n",
       "        marker_6e364bc7bd821fb9bbd788ee879ea927.bindPopup(popup_8be0f7b4eaa91d82bcb7ab9b798e6949)\n",
       "        ;\n",
       "\n",
       "        \n",
       "    \n",
       "    \n",
       "            var marker_eabc8baaad44cf2675ffb447992206e9 = L.marker(\n",
       "                [23.165680191088374, -82.28273010731503],\n",
       "                {\n",
       "}\n",
       "            ).addTo(map_2d5c9f5ad0757b3f2f4dc97ed79838a9);\n",
       "        \n",
       "    \n",
       "            var icon_59de940983b0a138595d6f985b0a5810 = L.AwesomeMarkers.icon(\n",
       "                {\n",
       "  &quot;markerColor&quot;: &quot;darkblue&quot;,\n",
       "  &quot;iconColor&quot;: &quot;white&quot;,\n",
       "  &quot;icon&quot;: &quot;info-sign&quot;,\n",
       "  &quot;prefix&quot;: &quot;glyphicon&quot;,\n",
       "  &quot;extraClasses&quot;: &quot;fa-rotate-0&quot;,\n",
       "}\n",
       "            );\n",
       "            marker_eabc8baaad44cf2675ffb447992206e9.setIcon(icon_59de940983b0a138595d6f985b0a5810);\n",
       "        \n",
       "    \n",
       "        var popup_949aa7e68503ca245b6e6fb34fa3cdd5 = L.popup({\n",
       "  &quot;maxWidth&quot;: &quot;100%&quot;,\n",
       "});\n",
       "\n",
       "        \n",
       "            \n",
       "                var html_a75082d5b7d2c0e41e5b6a3159286db6 = $(`&lt;div id=&quot;html_a75082d5b7d2c0e41e5b6a3159286db6&quot; style=&quot;width: 100.0%; height: 100.0%;&quot;&gt;Beer para creer&lt;/div&gt;`)[0];\n",
       "                popup_949aa7e68503ca245b6e6fb34fa3cdd5.setContent(html_a75082d5b7d2c0e41e5b6a3159286db6);\n",
       "            \n",
       "        \n",
       "\n",
       "        marker_eabc8baaad44cf2675ffb447992206e9.bindPopup(popup_949aa7e68503ca245b6e6fb34fa3cdd5)\n",
       "        ;\n",
       "\n",
       "        \n",
       "    \n",
       "    \n",
       "            var marker_7bf3ece02bea8982fc26d8a320ecbe63 = L.marker(\n",
       "                [23.14155904081577, -82.40118050679031],\n",
       "                {\n",
       "}\n",
       "            ).addTo(map_2d5c9f5ad0757b3f2f4dc97ed79838a9);\n",
       "        \n",
       "    \n",
       "            var icon_2668f781ae7c216164caf77d39b70263 = L.AwesomeMarkers.icon(\n",
       "                {\n",
       "  &quot;markerColor&quot;: &quot;darkblue&quot;,\n",
       "  &quot;iconColor&quot;: &quot;white&quot;,\n",
       "  &quot;icon&quot;: &quot;info-sign&quot;,\n",
       "  &quot;prefix&quot;: &quot;glyphicon&quot;,\n",
       "  &quot;extraClasses&quot;: &quot;fa-rotate-0&quot;,\n",
       "}\n",
       "            );\n",
       "            marker_7bf3ece02bea8982fc26d8a320ecbe63.setIcon(icon_2668f781ae7c216164caf77d39b70263);\n",
       "        \n",
       "    \n",
       "        var popup_69c73531b8f63d8453d8436af08a30c3 = L.popup({\n",
       "  &quot;maxWidth&quot;: &quot;100%&quot;,\n",
       "});\n",
       "\n",
       "        \n",
       "            \n",
       "                var html_4488bd180f00e90b9533e5f9f6658c3a = $(`&lt;div id=&quot;html_4488bd180f00e90b9533e5f9f6658c3a&quot; style=&quot;width: 100.0%; height: 100.0%;&quot;&gt;Beirut&lt;/div&gt;`)[0];\n",
       "                popup_69c73531b8f63d8453d8436af08a30c3.setContent(html_4488bd180f00e90b9533e5f9f6658c3a);\n",
       "            \n",
       "        \n",
       "\n",
       "        marker_7bf3ece02bea8982fc26d8a320ecbe63.bindPopup(popup_69c73531b8f63d8453d8436af08a30c3)\n",
       "        ;\n",
       "\n",
       "        \n",
       "    \n",
       "    \n",
       "            var marker_1784a6db50950432bec5d3d4651a6541 = L.marker(\n",
       "                [23.12046138313826, -82.41683832082161],\n",
       "                {\n",
       "}\n",
       "            ).addTo(map_2d5c9f5ad0757b3f2f4dc97ed79838a9);\n",
       "        \n",
       "    \n",
       "            var icon_c8252d59271ecb8df7619efd754c7aa8 = L.AwesomeMarkers.icon(\n",
       "                {\n",
       "  &quot;markerColor&quot;: &quot;darkblue&quot;,\n",
       "  &quot;iconColor&quot;: &quot;white&quot;,\n",
       "  &quot;icon&quot;: &quot;info-sign&quot;,\n",
       "  &quot;prefix&quot;: &quot;glyphicon&quot;,\n",
       "  &quot;extraClasses&quot;: &quot;fa-rotate-0&quot;,\n",
       "}\n",
       "            );\n",
       "            marker_1784a6db50950432bec5d3d4651a6541.setIcon(icon_c8252d59271ecb8df7619efd754c7aa8);\n",
       "        \n",
       "    \n",
       "        var popup_d2c13db930216784a19e69a06ef3bebf = L.popup({\n",
       "  &quot;maxWidth&quot;: &quot;100%&quot;,\n",
       "});\n",
       "\n",
       "        \n",
       "            \n",
       "                var html_d5110d1ceb18f834dd42fd34dfebd7c7 = $(`&lt;div id=&quot;html_d5110d1ceb18f834dd42fd34dfebd7c7&quot; style=&quot;width: 100.0%; height: 100.0%;&quot;&gt;Bocattas&lt;/div&gt;`)[0];\n",
       "                popup_d2c13db930216784a19e69a06ef3bebf.setContent(html_d5110d1ceb18f834dd42fd34dfebd7c7);\n",
       "            \n",
       "        \n",
       "\n",
       "        marker_1784a6db50950432bec5d3d4651a6541.bindPopup(popup_d2c13db930216784a19e69a06ef3bebf)\n",
       "        ;\n",
       "\n",
       "        \n",
       "    \n",
       "    \n",
       "            var marker_ba244212aabeb7730b2ec25ae95bbaf6 = L.marker(\n",
       "                [23.14067652925281, -82.37851087833417],\n",
       "                {\n",
       "}\n",
       "            ).addTo(map_2d5c9f5ad0757b3f2f4dc97ed79838a9);\n",
       "        \n",
       "    \n",
       "            var icon_98ffcb6c693fe308d688ef18dff60c5b = L.AwesomeMarkers.icon(\n",
       "                {\n",
       "  &quot;markerColor&quot;: &quot;darkblue&quot;,\n",
       "  &quot;iconColor&quot;: &quot;white&quot;,\n",
       "  &quot;icon&quot;: &quot;info-sign&quot;,\n",
       "  &quot;prefix&quot;: &quot;glyphicon&quot;,\n",
       "  &quot;extraClasses&quot;: &quot;fa-rotate-0&quot;,\n",
       "}\n",
       "            );\n",
       "            marker_ba244212aabeb7730b2ec25ae95bbaf6.setIcon(icon_98ffcb6c693fe308d688ef18dff60c5b);\n",
       "        \n",
       "    \n",
       "        var popup_5b5fb556c3951d957ba6b8b9b1c4aa53 = L.popup({\n",
       "  &quot;maxWidth&quot;: &quot;100%&quot;,\n",
       "});\n",
       "\n",
       "        \n",
       "            \n",
       "                var html_6f7c3f179fad2e6859c1185e512b8add = $(`&lt;div id=&quot;html_6f7c3f179fad2e6859c1185e512b8add&quot; style=&quot;width: 100.0%; height: 100.0%;&quot;&gt;Bok2&lt;/div&gt;`)[0];\n",
       "                popup_5b5fb556c3951d957ba6b8b9b1c4aa53.setContent(html_6f7c3f179fad2e6859c1185e512b8add);\n",
       "            \n",
       "        \n",
       "\n",
       "        marker_ba244212aabeb7730b2ec25ae95bbaf6.bindPopup(popup_5b5fb556c3951d957ba6b8b9b1c4aa53)\n",
       "        ;\n",
       "\n",
       "        \n",
       "    \n",
       "    \n",
       "            var marker_b1f67bbec1499568219352459155b700 = L.marker(\n",
       "                [23.113345376993024, -82.43984071467096],\n",
       "                {\n",
       "}\n",
       "            ).addTo(map_2d5c9f5ad0757b3f2f4dc97ed79838a9);\n",
       "        \n",
       "    \n",
       "            var icon_be03c959dd35614738a00178bb216b48 = L.AwesomeMarkers.icon(\n",
       "                {\n",
       "  &quot;markerColor&quot;: &quot;darkblue&quot;,\n",
       "  &quot;iconColor&quot;: &quot;white&quot;,\n",
       "  &quot;icon&quot;: &quot;info-sign&quot;,\n",
       "  &quot;prefix&quot;: &quot;glyphicon&quot;,\n",
       "  &quot;extraClasses&quot;: &quot;fa-rotate-0&quot;,\n",
       "}\n",
       "            );\n",
       "            marker_b1f67bbec1499568219352459155b700.setIcon(icon_be03c959dd35614738a00178bb216b48);\n",
       "        \n",
       "    \n",
       "        var popup_f2186ea0e3285145f926dcbeca569852 = L.popup({\n",
       "  &quot;maxWidth&quot;: &quot;100%&quot;,\n",
       "});\n",
       "\n",
       "        \n",
       "            \n",
       "                var html_ea4bfc3d2047ab35878438f3cd090c13 = $(`&lt;div id=&quot;html_ea4bfc3d2047ab35878438f3cd090c13&quot; style=&quot;width: 100.0%; height: 100.0%;&quot;&gt;Bom Apetite&lt;/div&gt;`)[0];\n",
       "                popup_f2186ea0e3285145f926dcbeca569852.setContent(html_ea4bfc3d2047ab35878438f3cd090c13);\n",
       "            \n",
       "        \n",
       "\n",
       "        marker_b1f67bbec1499568219352459155b700.bindPopup(popup_f2186ea0e3285145f926dcbeca569852)\n",
       "        ;\n",
       "\n",
       "        \n",
       "    \n",
       "    \n",
       "            var marker_d4e3f5155010ce72c05c56a5818526c6 = L.marker(\n",
       "                [23.137430101331596, -82.35973216484062],\n",
       "                {\n",
       "}\n",
       "            ).addTo(map_2d5c9f5ad0757b3f2f4dc97ed79838a9);\n",
       "        \n",
       "    \n",
       "            var icon_c86fa539789729267930a030d034ebcd = L.AwesomeMarkers.icon(\n",
       "                {\n",
       "  &quot;markerColor&quot;: &quot;darkblue&quot;,\n",
       "  &quot;iconColor&quot;: &quot;white&quot;,\n",
       "  &quot;icon&quot;: &quot;info-sign&quot;,\n",
       "  &quot;prefix&quot;: &quot;glyphicon&quot;,\n",
       "  &quot;extraClasses&quot;: &quot;fa-rotate-0&quot;,\n",
       "}\n",
       "            );\n",
       "            marker_d4e3f5155010ce72c05c56a5818526c6.setIcon(icon_c86fa539789729267930a030d034ebcd);\n",
       "        \n",
       "    \n",
       "        var popup_4f068c3b8d105775c63c3aabbda165aa = L.popup({\n",
       "  &quot;maxWidth&quot;: &quot;100%&quot;,\n",
       "});\n",
       "\n",
       "        \n",
       "            \n",
       "                var html_dd34e4ebe27b5c570fbef4442a3259eb = $(`&lt;div id=&quot;html_dd34e4ebe27b5c570fbef4442a3259eb&quot; style=&quot;width: 100.0%; height: 100.0%;&quot;&gt;Bone&#x27;Ma 62&lt;/div&gt;`)[0];\n",
       "                popup_4f068c3b8d105775c63c3aabbda165aa.setContent(html_dd34e4ebe27b5c570fbef4442a3259eb);\n",
       "            \n",
       "        \n",
       "\n",
       "        marker_d4e3f5155010ce72c05c56a5818526c6.bindPopup(popup_4f068c3b8d105775c63c3aabbda165aa)\n",
       "        ;\n",
       "\n",
       "        \n",
       "    \n",
       "    \n",
       "            var marker_7cfb198f30018b9f2213292eb5eefa37 = L.marker(\n",
       "                [23.12076655269561, -82.37262902250966],\n",
       "                {\n",
       "}\n",
       "            ).addTo(map_2d5c9f5ad0757b3f2f4dc97ed79838a9);\n",
       "        \n",
       "    \n",
       "            var icon_1dbe1376777cd435d55a8c64d80ff863 = L.AwesomeMarkers.icon(\n",
       "                {\n",
       "  &quot;markerColor&quot;: &quot;darkblue&quot;,\n",
       "  &quot;iconColor&quot;: &quot;white&quot;,\n",
       "  &quot;icon&quot;: &quot;info-sign&quot;,\n",
       "  &quot;prefix&quot;: &quot;glyphicon&quot;,\n",
       "  &quot;extraClasses&quot;: &quot;fa-rotate-0&quot;,\n",
       "}\n",
       "            );\n",
       "            marker_7cfb198f30018b9f2213292eb5eefa37.setIcon(icon_1dbe1376777cd435d55a8c64d80ff863);\n",
       "        \n",
       "    \n",
       "        var popup_20ea8392422e77bfd53b365151c981d0 = L.popup({\n",
       "  &quot;maxWidth&quot;: &quot;100%&quot;,\n",
       "});\n",
       "\n",
       "        \n",
       "            \n",
       "                var html_0d684061137f917b1b7fdb15d6eab7a0 = $(`&lt;div id=&quot;html_0d684061137f917b1b7fdb15d6eab7a0&quot; style=&quot;width: 100.0%; height: 100.0%;&quot;&gt;Brutal Habana&lt;/div&gt;`)[0];\n",
       "                popup_20ea8392422e77bfd53b365151c981d0.setContent(html_0d684061137f917b1b7fdb15d6eab7a0);\n",
       "            \n",
       "        \n",
       "\n",
       "        marker_7cfb198f30018b9f2213292eb5eefa37.bindPopup(popup_20ea8392422e77bfd53b365151c981d0)\n",
       "        ;\n",
       "\n",
       "        \n",
       "    \n",
       "    \n",
       "            var marker_ae16953e9cf540b63da8b2865222a7cc = L.marker(\n",
       "                [23.09939463317276, -82.3324060073085],\n",
       "                {\n",
       "}\n",
       "            ).addTo(map_2d5c9f5ad0757b3f2f4dc97ed79838a9);\n",
       "        \n",
       "    \n",
       "            var icon_54fd21bb29e6208aa5ff0efbc2b3feeb = L.AwesomeMarkers.icon(\n",
       "                {\n",
       "  &quot;markerColor&quot;: &quot;darkblue&quot;,\n",
       "  &quot;iconColor&quot;: &quot;white&quot;,\n",
       "  &quot;icon&quot;: &quot;info-sign&quot;,\n",
       "  &quot;prefix&quot;: &quot;glyphicon&quot;,\n",
       "  &quot;extraClasses&quot;: &quot;fa-rotate-0&quot;,\n",
       "}\n",
       "            );\n",
       "            marker_ae16953e9cf540b63da8b2865222a7cc.setIcon(icon_54fd21bb29e6208aa5ff0efbc2b3feeb);\n",
       "        \n",
       "    \n",
       "        var popup_0f2de60cca851026904e99deefa2b6e5 = L.popup({\n",
       "  &quot;maxWidth&quot;: &quot;100%&quot;,\n",
       "});\n",
       "\n",
       "        \n",
       "            \n",
       "                var html_2530394a80a8d402d749ceb02f91dcdf = $(`&lt;div id=&quot;html_2530394a80a8d402d749ceb02f91dcdf&quot; style=&quot;width: 100.0%; height: 100.0%;&quot;&gt;Buena Vibra&lt;/div&gt;`)[0];\n",
       "                popup_0f2de60cca851026904e99deefa2b6e5.setContent(html_2530394a80a8d402d749ceb02f91dcdf);\n",
       "            \n",
       "        \n",
       "\n",
       "        marker_ae16953e9cf540b63da8b2865222a7cc.bindPopup(popup_0f2de60cca851026904e99deefa2b6e5)\n",
       "        ;\n",
       "\n",
       "        \n",
       "    \n",
       "    \n",
       "            var marker_2f60b5286adb1dd2a7db7c7efdb1f211 = L.marker(\n",
       "                [23.143218246225477, -82.37817617833404],\n",
       "                {\n",
       "}\n",
       "            ).addTo(map_2d5c9f5ad0757b3f2f4dc97ed79838a9);\n",
       "        \n",
       "    \n",
       "            var icon_1deb1a92052455892f6a43505a97fea9 = L.AwesomeMarkers.icon(\n",
       "                {\n",
       "  &quot;markerColor&quot;: &quot;darkblue&quot;,\n",
       "  &quot;iconColor&quot;: &quot;white&quot;,\n",
       "  &quot;icon&quot;: &quot;info-sign&quot;,\n",
       "  &quot;prefix&quot;: &quot;glyphicon&quot;,\n",
       "  &quot;extraClasses&quot;: &quot;fa-rotate-0&quot;,\n",
       "}\n",
       "            );\n",
       "            marker_2f60b5286adb1dd2a7db7c7efdb1f211.setIcon(icon_1deb1a92052455892f6a43505a97fea9);\n",
       "        \n",
       "    \n",
       "        var popup_c88dbe6bda5b9d936e4ce81cee0b70bf = L.popup({\n",
       "  &quot;maxWidth&quot;: &quot;100%&quot;,\n",
       "});\n",
       "\n",
       "        \n",
       "            \n",
       "                var html_4ee6836e667d1e4c7d614349f864ab50 = $(`&lt;div id=&quot;html_4ee6836e667d1e4c7d614349f864ab50&quot; style=&quot;width: 100.0%; height: 100.0%;&quot;&gt;Bueníssimo heladería&lt;/div&gt;`)[0];\n",
       "                popup_c88dbe6bda5b9d936e4ce81cee0b70bf.setContent(html_4ee6836e667d1e4c7d614349f864ab50);\n",
       "            \n",
       "        \n",
       "\n",
       "        marker_2f60b5286adb1dd2a7db7c7efdb1f211.bindPopup(popup_c88dbe6bda5b9d936e4ce81cee0b70bf)\n",
       "        ;\n",
       "\n",
       "        \n",
       "    \n",
       "    \n",
       "            var marker_8ed7b0e6a7b937ab7c125a7b64df3a6c = L.marker(\n",
       "                [23.136606572526283, -82.36299826271366],\n",
       "                {\n",
       "}\n",
       "            ).addTo(map_2d5c9f5ad0757b3f2f4dc97ed79838a9);\n",
       "        \n",
       "    \n",
       "            var icon_a1742c75559fa5a00a44e213da532a2e = L.AwesomeMarkers.icon(\n",
       "                {\n",
       "  &quot;markerColor&quot;: &quot;darkblue&quot;,\n",
       "  &quot;iconColor&quot;: &quot;white&quot;,\n",
       "  &quot;icon&quot;: &quot;info-sign&quot;,\n",
       "  &quot;prefix&quot;: &quot;glyphicon&quot;,\n",
       "  &quot;extraClasses&quot;: &quot;fa-rotate-0&quot;,\n",
       "}\n",
       "            );\n",
       "            marker_8ed7b0e6a7b937ab7c125a7b64df3a6c.setIcon(icon_a1742c75559fa5a00a44e213da532a2e);\n",
       "        \n",
       "    \n",
       "        var popup_1464f7fa2fa8e71dddf1a8bdd849ca50 = L.popup({\n",
       "  &quot;maxWidth&quot;: &quot;100%&quot;,\n",
       "});\n",
       "\n",
       "        \n",
       "            \n",
       "                var html_3dfae59e30e561c47496f01400bfd9c5 = $(`&lt;div id=&quot;html_3dfae59e30e561c47496f01400bfd9c5&quot; style=&quot;width: 100.0%; height: 100.0%;&quot;&gt;Café Bulevar&lt;/div&gt;`)[0];\n",
       "                popup_1464f7fa2fa8e71dddf1a8bdd849ca50.setContent(html_3dfae59e30e561c47496f01400bfd9c5);\n",
       "            \n",
       "        \n",
       "\n",
       "        marker_8ed7b0e6a7b937ab7c125a7b64df3a6c.bindPopup(popup_1464f7fa2fa8e71dddf1a8bdd849ca50)\n",
       "        ;\n",
       "\n",
       "        \n",
       "    \n",
       "    \n",
       "            var marker_a1a9333dcf8482d4b553c2db25cca8cb = L.marker(\n",
       "                [23.118089959620736, -82.4323885782618],\n",
       "                {\n",
       "}\n",
       "            ).addTo(map_2d5c9f5ad0757b3f2f4dc97ed79838a9);\n",
       "        \n",
       "    \n",
       "            var icon_42b83a889a802d95bf468bfed94cb851 = L.AwesomeMarkers.icon(\n",
       "                {\n",
       "  &quot;markerColor&quot;: &quot;darkblue&quot;,\n",
       "  &quot;iconColor&quot;: &quot;white&quot;,\n",
       "  &quot;icon&quot;: &quot;info-sign&quot;,\n",
       "  &quot;prefix&quot;: &quot;glyphicon&quot;,\n",
       "  &quot;extraClasses&quot;: &quot;fa-rotate-0&quot;,\n",
       "}\n",
       "            );\n",
       "            marker_a1a9333dcf8482d4b553c2db25cca8cb.setIcon(icon_42b83a889a802d95bf468bfed94cb851);\n",
       "        \n",
       "    \n",
       "        var popup_a165930b3ece3a9887dc5d2d47283315 = L.popup({\n",
       "  &quot;maxWidth&quot;: &quot;100%&quot;,\n",
       "});\n",
       "\n",
       "        \n",
       "            \n",
       "                var html_83fdbea1eebf8ee3937f9b5fd268977b = $(`&lt;div id=&quot;html_83fdbea1eebf8ee3937f9b5fd268977b&quot; style=&quot;width: 100.0%; height: 100.0%;&quot;&gt;Café literario La Copa&lt;/div&gt;`)[0];\n",
       "                popup_a165930b3ece3a9887dc5d2d47283315.setContent(html_83fdbea1eebf8ee3937f9b5fd268977b);\n",
       "            \n",
       "        \n",
       "\n",
       "        marker_a1a9333dcf8482d4b553c2db25cca8cb.bindPopup(popup_a165930b3ece3a9887dc5d2d47283315)\n",
       "        ;\n",
       "\n",
       "        \n",
       "    \n",
       "    \n",
       "            var marker_a7cfa990743bc342a081f7934de4f00c = L.marker(\n",
       "                [23.062585294878723, -82.36389982686543],\n",
       "                {\n",
       "}\n",
       "            ).addTo(map_2d5c9f5ad0757b3f2f4dc97ed79838a9);\n",
       "        \n",
       "    \n",
       "            var icon_008d04c186595e1c3457dbd665905f73 = L.AwesomeMarkers.icon(\n",
       "                {\n",
       "  &quot;markerColor&quot;: &quot;darkblue&quot;,\n",
       "  &quot;iconColor&quot;: &quot;white&quot;,\n",
       "  &quot;icon&quot;: &quot;info-sign&quot;,\n",
       "  &quot;prefix&quot;: &quot;glyphicon&quot;,\n",
       "  &quot;extraClasses&quot;: &quot;fa-rotate-0&quot;,\n",
       "}\n",
       "            );\n",
       "            marker_a7cfa990743bc342a081f7934de4f00c.setIcon(icon_008d04c186595e1c3457dbd665905f73);\n",
       "        \n",
       "    \n",
       "        var popup_b93882f373aac210a3d914e455718845 = L.popup({\n",
       "  &quot;maxWidth&quot;: &quot;100%&quot;,\n",
       "});\n",
       "\n",
       "        \n",
       "            \n",
       "                var html_e58edb49a84f7bfc615a31ea0bbdc2c2 = $(`&lt;div id=&quot;html_e58edb49a84f7bfc615a31ea0bbdc2c2&quot; style=&quot;width: 100.0%; height: 100.0%;&quot;&gt;Pizzería Los Atrevidos&lt;/div&gt;`)[0];\n",
       "                popup_b93882f373aac210a3d914e455718845.setContent(html_e58edb49a84f7bfc615a31ea0bbdc2c2);\n",
       "            \n",
       "        \n",
       "\n",
       "        marker_a7cfa990743bc342a081f7934de4f00c.bindPopup(popup_b93882f373aac210a3d914e455718845)\n",
       "        ;\n",
       "\n",
       "        \n",
       "    \n",
       "    \n",
       "            var marker_0baab6d17848275d01c919789044586a = L.marker(\n",
       "                [23.084914482920695, -82.42430664968636],\n",
       "                {\n",
       "}\n",
       "            ).addTo(map_2d5c9f5ad0757b3f2f4dc97ed79838a9);\n",
       "        \n",
       "    \n",
       "            var icon_7e9d14946d31e12577bb4508c99a575a = L.AwesomeMarkers.icon(\n",
       "                {\n",
       "  &quot;markerColor&quot;: &quot;darkblue&quot;,\n",
       "  &quot;iconColor&quot;: &quot;white&quot;,\n",
       "  &quot;icon&quot;: &quot;info-sign&quot;,\n",
       "  &quot;prefix&quot;: &quot;glyphicon&quot;,\n",
       "  &quot;extraClasses&quot;: &quot;fa-rotate-0&quot;,\n",
       "}\n",
       "            );\n",
       "            marker_0baab6d17848275d01c919789044586a.setIcon(icon_7e9d14946d31e12577bb4508c99a575a);\n",
       "        \n",
       "    \n",
       "        var popup_3a25aa9909702a66da2b45bf6637ef36 = L.popup({\n",
       "  &quot;maxWidth&quot;: &quot;100%&quot;,\n",
       "});\n",
       "\n",
       "        \n",
       "            \n",
       "                var html_de98060392c030fe7ff42d135ebcd02d = $(`&lt;div id=&quot;html_de98060392c030fe7ff42d135ebcd02d&quot; style=&quot;width: 100.0%; height: 100.0%;&quot;&gt;Cafeteria Obelisco&lt;/div&gt;`)[0];\n",
       "                popup_3a25aa9909702a66da2b45bf6637ef36.setContent(html_de98060392c030fe7ff42d135ebcd02d);\n",
       "            \n",
       "        \n",
       "\n",
       "        marker_0baab6d17848275d01c919789044586a.bindPopup(popup_3a25aa9909702a66da2b45bf6637ef36)\n",
       "        ;\n",
       "\n",
       "        \n",
       "    \n",
       "    \n",
       "            var marker_81253b36cdbc0361aff75da4d20fa8e6 = L.marker(\n",
       "                [23.142051017464148, -82.35552776299248],\n",
       "                {\n",
       "}\n",
       "            ).addTo(map_2d5c9f5ad0757b3f2f4dc97ed79838a9);\n",
       "        \n",
       "    \n",
       "            var icon_01b9f528e49e79ac6b1fd7ad726ecfe7 = L.AwesomeMarkers.icon(\n",
       "                {\n",
       "  &quot;markerColor&quot;: &quot;darkblue&quot;,\n",
       "  &quot;iconColor&quot;: &quot;white&quot;,\n",
       "  &quot;icon&quot;: &quot;info-sign&quot;,\n",
       "  &quot;prefix&quot;: &quot;glyphicon&quot;,\n",
       "  &quot;extraClasses&quot;: &quot;fa-rotate-0&quot;,\n",
       "}\n",
       "            );\n",
       "            marker_81253b36cdbc0361aff75da4d20fa8e6.setIcon(icon_01b9f528e49e79ac6b1fd7ad726ecfe7);\n",
       "        \n",
       "    \n",
       "        var popup_62d9216b741513e17e5dfda8762c5d0e = L.popup({\n",
       "  &quot;maxWidth&quot;: &quot;100%&quot;,\n",
       "});\n",
       "\n",
       "        \n",
       "            \n",
       "                var html_d6f47d621f8842261fdb235eff60d915 = $(`&lt;div id=&quot;html_d6f47d621f8842261fdb235eff60d915&quot; style=&quot;width: 100.0%; height: 100.0%;&quot;&gt;Café Del Ángel&lt;/div&gt;`)[0];\n",
       "                popup_62d9216b741513e17e5dfda8762c5d0e.setContent(html_d6f47d621f8842261fdb235eff60d915);\n",
       "            \n",
       "        \n",
       "\n",
       "        marker_81253b36cdbc0361aff75da4d20fa8e6.bindPopup(popup_62d9216b741513e17e5dfda8762c5d0e)\n",
       "        ;\n",
       "\n",
       "        \n",
       "    \n",
       "    \n",
       "            var marker_dd02c5c3907e5a12e993a9bfedcf9955 = L.marker(\n",
       "                [23.13914835979573, -82.40088382065566],\n",
       "                {\n",
       "}\n",
       "            ).addTo(map_2d5c9f5ad0757b3f2f4dc97ed79838a9);\n",
       "        \n",
       "    \n",
       "            var icon_3cd1930700eb3d9d103b2f05e8593b12 = L.AwesomeMarkers.icon(\n",
       "                {\n",
       "  &quot;markerColor&quot;: &quot;darkblue&quot;,\n",
       "  &quot;iconColor&quot;: &quot;white&quot;,\n",
       "  &quot;icon&quot;: &quot;info-sign&quot;,\n",
       "  &quot;prefix&quot;: &quot;glyphicon&quot;,\n",
       "  &quot;extraClasses&quot;: &quot;fa-rotate-0&quot;,\n",
       "}\n",
       "            );\n",
       "            marker_dd02c5c3907e5a12e993a9bfedcf9955.setIcon(icon_3cd1930700eb3d9d103b2f05e8593b12);\n",
       "        \n",
       "    \n",
       "        var popup_99ad6aa5942fd0299c3bf62ffe10bf2b = L.popup({\n",
       "  &quot;maxWidth&quot;: &quot;100%&quot;,\n",
       "});\n",
       "\n",
       "        \n",
       "            \n",
       "                var html_00654d5f623d1a2c77f761b76c28052f = $(`&lt;div id=&quot;html_00654d5f623d1a2c77f761b76c28052f&quot; style=&quot;width: 100.0%; height: 100.0%;&quot;&gt;Café D La Esquina&lt;/div&gt;`)[0];\n",
       "                popup_99ad6aa5942fd0299c3bf62ffe10bf2b.setContent(html_00654d5f623d1a2c77f761b76c28052f);\n",
       "            \n",
       "        \n",
       "\n",
       "        marker_dd02c5c3907e5a12e993a9bfedcf9955.bindPopup(popup_99ad6aa5942fd0299c3bf62ffe10bf2b)\n",
       "        ;\n",
       "\n",
       "        \n",
       "    \n",
       "    \n",
       "            var marker_d5f6a6f0c86adfe54b1bc5ca38ea9328 = L.marker(\n",
       "                [23.142946607469362, -82.3545654068682],\n",
       "                {\n",
       "}\n",
       "            ).addTo(map_2d5c9f5ad0757b3f2f4dc97ed79838a9);\n",
       "        \n",
       "    \n",
       "            var icon_b2dbf401281bef5bf81e45ae2f998f38 = L.AwesomeMarkers.icon(\n",
       "                {\n",
       "  &quot;markerColor&quot;: &quot;darkblue&quot;,\n",
       "  &quot;iconColor&quot;: &quot;white&quot;,\n",
       "  &quot;icon&quot;: &quot;info-sign&quot;,\n",
       "  &quot;prefix&quot;: &quot;glyphicon&quot;,\n",
       "  &quot;extraClasses&quot;: &quot;fa-rotate-0&quot;,\n",
       "}\n",
       "            );\n",
       "            marker_d5f6a6f0c86adfe54b1bc5ca38ea9328.setIcon(icon_b2dbf401281bef5bf81e45ae2f998f38);\n",
       "        \n",
       "    \n",
       "        var popup_3ab702118e37bba6be644f5c831c495a = L.popup({\n",
       "  &quot;maxWidth&quot;: &quot;100%&quot;,\n",
       "});\n",
       "\n",
       "        \n",
       "            \n",
       "                var html_630be4c34207af08e6a379b7e3542a87 = $(`&lt;div id=&quot;html_630be4c34207af08e6a379b7e3542a87&quot; style=&quot;width: 100.0%; height: 100.0%;&quot;&gt;Café Fortuna Joe&lt;/div&gt;`)[0];\n",
       "                popup_3ab702118e37bba6be644f5c831c495a.setContent(html_630be4c34207af08e6a379b7e3542a87);\n",
       "            \n",
       "        \n",
       "\n",
       "        marker_d5f6a6f0c86adfe54b1bc5ca38ea9328.bindPopup(popup_3ab702118e37bba6be644f5c831c495a)\n",
       "        ;\n",
       "\n",
       "        \n",
       "    \n",
       "    \n",
       "            var marker_01a72e69a3628db9b0f2a11762c1c76f = L.marker(\n",
       "                [23.02223192051713, -82.39913129234107],\n",
       "                {\n",
       "}\n",
       "            ).addTo(map_2d5c9f5ad0757b3f2f4dc97ed79838a9);\n",
       "        \n",
       "    \n",
       "            var icon_637c4719822d3f049f855c89fcbd5c83 = L.AwesomeMarkers.icon(\n",
       "                {\n",
       "  &quot;markerColor&quot;: &quot;darkblue&quot;,\n",
       "  &quot;iconColor&quot;: &quot;white&quot;,\n",
       "  &quot;icon&quot;: &quot;info-sign&quot;,\n",
       "  &quot;prefix&quot;: &quot;glyphicon&quot;,\n",
       "  &quot;extraClasses&quot;: &quot;fa-rotate-0&quot;,\n",
       "}\n",
       "            );\n",
       "            marker_01a72e69a3628db9b0f2a11762c1c76f.setIcon(icon_637c4719822d3f049f855c89fcbd5c83);\n",
       "        \n",
       "    \n",
       "        var popup_a46fe947989a7269a49224052547c7b1 = L.popup({\n",
       "  &quot;maxWidth&quot;: &quot;100%&quot;,\n",
       "});\n",
       "\n",
       "        \n",
       "            \n",
       "                var html_b3302150980aa710e248d76aa2395f73 = $(`&lt;div id=&quot;html_b3302150980aa710e248d76aa2395f73&quot; style=&quot;width: 100.0%; height: 100.0%;&quot;&gt;Café Tilin&lt;/div&gt;`)[0];\n",
       "                popup_a46fe947989a7269a49224052547c7b1.setContent(html_b3302150980aa710e248d76aa2395f73);\n",
       "            \n",
       "        \n",
       "\n",
       "        marker_01a72e69a3628db9b0f2a11762c1c76f.bindPopup(popup_a46fe947989a7269a49224052547c7b1)\n",
       "        ;\n",
       "\n",
       "        \n",
       "    \n",
       "    \n",
       "            var marker_ce4ab094c3fc57823c4263938b48ef6c = L.marker(\n",
       "                [23.079664361938153, -82.31965649386221],\n",
       "                {\n",
       "}\n",
       "            ).addTo(map_2d5c9f5ad0757b3f2f4dc97ed79838a9);\n",
       "        \n",
       "    \n",
       "            var icon_c35737064a8d32d8b8f73333f389eecb = L.AwesomeMarkers.icon(\n",
       "                {\n",
       "  &quot;markerColor&quot;: &quot;darkblue&quot;,\n",
       "  &quot;iconColor&quot;: &quot;white&quot;,\n",
       "  &quot;icon&quot;: &quot;info-sign&quot;,\n",
       "  &quot;prefix&quot;: &quot;glyphicon&quot;,\n",
       "  &quot;extraClasses&quot;: &quot;fa-rotate-0&quot;,\n",
       "}\n",
       "            );\n",
       "            marker_ce4ab094c3fc57823c4263938b48ef6c.setIcon(icon_c35737064a8d32d8b8f73333f389eecb);\n",
       "        \n",
       "    \n",
       "        var popup_e3062cebececbc4fb4637f594686c6c6 = L.popup({\n",
       "  &quot;maxWidth&quot;: &quot;100%&quot;,\n",
       "});\n",
       "\n",
       "        \n",
       "            \n",
       "                var html_0d5d2f4d31d8e66f33514774b722c9e1 = $(`&lt;div id=&quot;html_0d5d2f4d31d8e66f33514774b722c9e1&quot; style=&quot;width: 100.0%; height: 100.0%;&quot;&gt;Café Toscano&lt;/div&gt;`)[0];\n",
       "                popup_e3062cebececbc4fb4637f594686c6c6.setContent(html_0d5d2f4d31d8e66f33514774b722c9e1);\n",
       "            \n",
       "        \n",
       "\n",
       "        marker_ce4ab094c3fc57823c4263938b48ef6c.bindPopup(popup_e3062cebececbc4fb4637f594686c6c6)\n",
       "        ;\n",
       "\n",
       "        \n",
       "    \n",
       "    \n",
       "            var marker_fdd72cf405a14593d3f0cfd716add68f = L.marker(\n",
       "                [23.115259266660882, -82.43418842082183],\n",
       "                {\n",
       "}\n",
       "            ).addTo(map_2d5c9f5ad0757b3f2f4dc97ed79838a9);\n",
       "        \n",
       "    \n",
       "            var icon_223abe2382d8cfc745b4572d4aa02505 = L.AwesomeMarkers.icon(\n",
       "                {\n",
       "  &quot;markerColor&quot;: &quot;darkblue&quot;,\n",
       "  &quot;iconColor&quot;: &quot;white&quot;,\n",
       "  &quot;icon&quot;: &quot;info-sign&quot;,\n",
       "  &quot;prefix&quot;: &quot;glyphicon&quot;,\n",
       "  &quot;extraClasses&quot;: &quot;fa-rotate-0&quot;,\n",
       "}\n",
       "            );\n",
       "            marker_fdd72cf405a14593d3f0cfd716add68f.setIcon(icon_223abe2382d8cfc745b4572d4aa02505);\n",
       "        \n",
       "    \n",
       "        var popup_6ec1c1d8440c9b5189105fa7ebc60d3c = L.popup({\n",
       "  &quot;maxWidth&quot;: &quot;100%&quot;,\n",
       "});\n",
       "\n",
       "        \n",
       "            \n",
       "                var html_ba0257cad0bfdb2ec44f85f92b76251c = $(`&lt;div id=&quot;html_ba0257cad0bfdb2ec44f85f92b76251c&quot; style=&quot;width: 100.0%; height: 100.0%;&quot;&gt;Café Clington&lt;/div&gt;`)[0];\n",
       "                popup_6ec1c1d8440c9b5189105fa7ebc60d3c.setContent(html_ba0257cad0bfdb2ec44f85f92b76251c);\n",
       "            \n",
       "        \n",
       "\n",
       "        marker_fdd72cf405a14593d3f0cfd716add68f.bindPopup(popup_6ec1c1d8440c9b5189105fa7ebc60d3c)\n",
       "        ;\n",
       "\n",
       "        \n",
       "    \n",
       "    \n",
       "            var marker_d1331de01a7c4746b028995d94bfe1ad = L.marker(\n",
       "                [23.143094606584455, -82.39921161808243],\n",
       "                {\n",
       "}\n",
       "            ).addTo(map_2d5c9f5ad0757b3f2f4dc97ed79838a9);\n",
       "        \n",
       "    \n",
       "            var icon_2316da0e875d99a58e1452ddcd7e9cf1 = L.AwesomeMarkers.icon(\n",
       "                {\n",
       "  &quot;markerColor&quot;: &quot;darkblue&quot;,\n",
       "  &quot;iconColor&quot;: &quot;white&quot;,\n",
       "  &quot;icon&quot;: &quot;info-sign&quot;,\n",
       "  &quot;prefix&quot;: &quot;glyphicon&quot;,\n",
       "  &quot;extraClasses&quot;: &quot;fa-rotate-0&quot;,\n",
       "}\n",
       "            );\n",
       "            marker_d1331de01a7c4746b028995d94bfe1ad.setIcon(icon_2316da0e875d99a58e1452ddcd7e9cf1);\n",
       "        \n",
       "    \n",
       "        var popup_f1247a893acad203158da6f41efa0882 = L.popup({\n",
       "  &quot;maxWidth&quot;: &quot;100%&quot;,\n",
       "});\n",
       "\n",
       "        \n",
       "            \n",
       "                var html_e72537bfdad7e556b8f81d9ce19c7330 = $(`&lt;div id=&quot;html_e72537bfdad7e556b8f81d9ce19c7330&quot; style=&quot;width: 100.0%; height: 100.0%;&quot;&gt;Casa Mía Paladar&lt;/div&gt;`)[0];\n",
       "                popup_f1247a893acad203158da6f41efa0882.setContent(html_e72537bfdad7e556b8f81d9ce19c7330);\n",
       "            \n",
       "        \n",
       "\n",
       "        marker_d1331de01a7c4746b028995d94bfe1ad.bindPopup(popup_f1247a893acad203158da6f41efa0882)\n",
       "        ;\n",
       "\n",
       "        \n",
       "    \n",
       "    \n",
       "            var marker_a161dc14f2f7771009ecd42e3ee9babb = L.marker(\n",
       "                [23.131291003595813, -82.40481170717004],\n",
       "                {\n",
       "}\n",
       "            ).addTo(map_2d5c9f5ad0757b3f2f4dc97ed79838a9);\n",
       "        \n",
       "    \n",
       "            var icon_847b0d7a5b3303237a00319a91569447 = L.AwesomeMarkers.icon(\n",
       "                {\n",
       "  &quot;markerColor&quot;: &quot;darkblue&quot;,\n",
       "  &quot;iconColor&quot;: &quot;white&quot;,\n",
       "  &quot;icon&quot;: &quot;info-sign&quot;,\n",
       "  &quot;prefix&quot;: &quot;glyphicon&quot;,\n",
       "  &quot;extraClasses&quot;: &quot;fa-rotate-0&quot;,\n",
       "}\n",
       "            );\n",
       "            marker_a161dc14f2f7771009ecd42e3ee9babb.setIcon(icon_847b0d7a5b3303237a00319a91569447);\n",
       "        \n",
       "    \n",
       "        var popup_855801eb77caf940bcc96e01c82c3233 = L.popup({\n",
       "  &quot;maxWidth&quot;: &quot;100%&quot;,\n",
       "});\n",
       "\n",
       "        \n",
       "            \n",
       "                var html_667951be22e3b7c71fa0f27964077513 = $(`&lt;div id=&quot;html_667951be22e3b7c71fa0f27964077513&quot; style=&quot;width: 100.0%; height: 100.0%;&quot;&gt;Coco Blue y la Zorra Pelua&lt;/div&gt;`)[0];\n",
       "                popup_855801eb77caf940bcc96e01c82c3233.setContent(html_667951be22e3b7c71fa0f27964077513);\n",
       "            \n",
       "        \n",
       "\n",
       "        marker_a161dc14f2f7771009ecd42e3ee9babb.bindPopup(popup_855801eb77caf940bcc96e01c82c3233)\n",
       "        ;\n",
       "\n",
       "        \n",
       "    \n",
       "    \n",
       "            var marker_e6350f7df36e5515480e60b1b707e119 = L.marker(\n",
       "                [23.071157091647542, -82.43553263563338],\n",
       "                {\n",
       "}\n",
       "            ).addTo(map_2d5c9f5ad0757b3f2f4dc97ed79838a9);\n",
       "        \n",
       "    \n",
       "            var icon_c1cc720685940e30dd439c126d1a1105 = L.AwesomeMarkers.icon(\n",
       "                {\n",
       "  &quot;markerColor&quot;: &quot;darkblue&quot;,\n",
       "  &quot;iconColor&quot;: &quot;white&quot;,\n",
       "  &quot;icon&quot;: &quot;info-sign&quot;,\n",
       "  &quot;prefix&quot;: &quot;glyphicon&quot;,\n",
       "  &quot;extraClasses&quot;: &quot;fa-rotate-0&quot;,\n",
       "}\n",
       "            );\n",
       "            marker_e6350f7df36e5515480e60b1b707e119.setIcon(icon_c1cc720685940e30dd439c126d1a1105);\n",
       "        \n",
       "    \n",
       "        var popup_b3f9369c01d25a9154907d4ee527fac2 = L.popup({\n",
       "  &quot;maxWidth&quot;: &quot;100%&quot;,\n",
       "});\n",
       "\n",
       "        \n",
       "            \n",
       "                var html_2da1807bed749e361c0098126ec70749 = $(`&lt;div id=&quot;html_2da1807bed749e361c0098126ec70749&quot; style=&quot;width: 100.0%; height: 100.0%;&quot;&gt;Colesterol 5.1&lt;/div&gt;`)[0];\n",
       "                popup_b3f9369c01d25a9154907d4ee527fac2.setContent(html_2da1807bed749e361c0098126ec70749);\n",
       "            \n",
       "        \n",
       "\n",
       "        marker_e6350f7df36e5515480e60b1b707e119.bindPopup(popup_b3f9369c01d25a9154907d4ee527fac2)\n",
       "        ;\n",
       "\n",
       "        \n",
       "    \n",
       "    \n",
       "            var marker_91a970a19ff46090cf9efa8e34e135db = L.marker(\n",
       "                [23.136810792066857, -82.36139565096036],\n",
       "                {\n",
       "}\n",
       "            ).addTo(map_2d5c9f5ad0757b3f2f4dc97ed79838a9);\n",
       "        \n",
       "    \n",
       "            var icon_b3a7fea73b4a2cba6f19693a2a8361a6 = L.AwesomeMarkers.icon(\n",
       "                {\n",
       "  &quot;markerColor&quot;: &quot;darkblue&quot;,\n",
       "  &quot;iconColor&quot;: &quot;white&quot;,\n",
       "  &quot;icon&quot;: &quot;info-sign&quot;,\n",
       "  &quot;prefix&quot;: &quot;glyphicon&quot;,\n",
       "  &quot;extraClasses&quot;: &quot;fa-rotate-0&quot;,\n",
       "}\n",
       "            );\n",
       "            marker_91a970a19ff46090cf9efa8e34e135db.setIcon(icon_b3a7fea73b4a2cba6f19693a2a8361a6);\n",
       "        \n",
       "    \n",
       "        var popup_525dd479db470b0d09744ad528af4e5e = L.popup({\n",
       "  &quot;maxWidth&quot;: &quot;100%&quot;,\n",
       "});\n",
       "\n",
       "        \n",
       "            \n",
       "                var html_438fe62c348ac1c9084fe2ff097c0fa1 = $(`&lt;div id=&quot;html_438fe62c348ac1c9084fe2ff097c0fa1&quot; style=&quot;width: 100.0%; height: 100.0%;&quot;&gt;Cohmar Café&lt;/div&gt;`)[0];\n",
       "                popup_525dd479db470b0d09744ad528af4e5e.setContent(html_438fe62c348ac1c9084fe2ff097c0fa1);\n",
       "            \n",
       "        \n",
       "\n",
       "        marker_91a970a19ff46090cf9efa8e34e135db.bindPopup(popup_525dd479db470b0d09744ad528af4e5e)\n",
       "        ;\n",
       "\n",
       "        \n",
       "    \n",
       "    \n",
       "            var marker_bc8339671337acecbfdeacab43fdccc3 = L.marker(\n",
       "                [23.089713179451753, -82.37605099342609],\n",
       "                {\n",
       "}\n",
       "            ).addTo(map_2d5c9f5ad0757b3f2f4dc97ed79838a9);\n",
       "        \n",
       "    \n",
       "            var icon_a242303dce87ac72a8a749c7996d0183 = L.AwesomeMarkers.icon(\n",
       "                {\n",
       "  &quot;markerColor&quot;: &quot;darkblue&quot;,\n",
       "  &quot;iconColor&quot;: &quot;white&quot;,\n",
       "  &quot;icon&quot;: &quot;info-sign&quot;,\n",
       "  &quot;prefix&quot;: &quot;glyphicon&quot;,\n",
       "  &quot;extraClasses&quot;: &quot;fa-rotate-0&quot;,\n",
       "}\n",
       "            );\n",
       "            marker_bc8339671337acecbfdeacab43fdccc3.setIcon(icon_a242303dce87ac72a8a749c7996d0183);\n",
       "        \n",
       "    \n",
       "        var popup_271b039b67f6f5be877bda733812346d = L.popup({\n",
       "  &quot;maxWidth&quot;: &quot;100%&quot;,\n",
       "});\n",
       "\n",
       "        \n",
       "            \n",
       "                var html_edffe4760c88ddd4a626a2e0137ec72b = $(`&lt;div id=&quot;html_edffe4760c88ddd4a626a2e0137ec72b&quot; style=&quot;width: 100.0%; height: 100.0%;&quot;&gt;Crispy Chicken&lt;/div&gt;`)[0];\n",
       "                popup_271b039b67f6f5be877bda733812346d.setContent(html_edffe4760c88ddd4a626a2e0137ec72b);\n",
       "            \n",
       "        \n",
       "\n",
       "        marker_bc8339671337acecbfdeacab43fdccc3.bindPopup(popup_271b039b67f6f5be877bda733812346d)\n",
       "        ;\n",
       "\n",
       "        \n",
       "    \n",
       "    \n",
       "            var marker_ca0653c8ff429d020375a47324fffd05 = L.marker(\n",
       "                [23.045720488391616, -82.27010112894351],\n",
       "                {\n",
       "}\n",
       "            ).addTo(map_2d5c9f5ad0757b3f2f4dc97ed79838a9);\n",
       "        \n",
       "    \n",
       "            var icon_c35964aa160129f5a8c973b551982483 = L.AwesomeMarkers.icon(\n",
       "                {\n",
       "  &quot;markerColor&quot;: &quot;darkblue&quot;,\n",
       "  &quot;iconColor&quot;: &quot;white&quot;,\n",
       "  &quot;icon&quot;: &quot;info-sign&quot;,\n",
       "  &quot;prefix&quot;: &quot;glyphicon&quot;,\n",
       "  &quot;extraClasses&quot;: &quot;fa-rotate-0&quot;,\n",
       "}\n",
       "            );\n",
       "            marker_ca0653c8ff429d020375a47324fffd05.setIcon(icon_c35964aa160129f5a8c973b551982483);\n",
       "        \n",
       "    \n",
       "        var popup_fe84d46cd6f63972838937b65bedc394 = L.popup({\n",
       "  &quot;maxWidth&quot;: &quot;100%&quot;,\n",
       "});\n",
       "\n",
       "        \n",
       "            \n",
       "                var html_07ba8c9709bf9f5918266f36da3e7bcd = $(`&lt;div id=&quot;html_07ba8c9709bf9f5918266f36da3e7bcd&quot; style=&quot;width: 100.0%; height: 100.0%;&quot;&gt;Crystal&lt;/div&gt;`)[0];\n",
       "                popup_fe84d46cd6f63972838937b65bedc394.setContent(html_07ba8c9709bf9f5918266f36da3e7bcd);\n",
       "            \n",
       "        \n",
       "\n",
       "        marker_ca0653c8ff429d020375a47324fffd05.bindPopup(popup_fe84d46cd6f63972838937b65bedc394)\n",
       "        ;\n",
       "\n",
       "        \n",
       "    \n",
       "    \n",
       "            var marker_87b84003eb71579480a354b21d804de4 = L.marker(\n",
       "                [23.13687569067757, -82.39995132251141],\n",
       "                {\n",
       "}\n",
       "            ).addTo(map_2d5c9f5ad0757b3f2f4dc97ed79838a9);\n",
       "        \n",
       "    \n",
       "            var icon_56e5eb6d5001d05fc4a914615671c493 = L.AwesomeMarkers.icon(\n",
       "                {\n",
       "  &quot;markerColor&quot;: &quot;darkblue&quot;,\n",
       "  &quot;iconColor&quot;: &quot;white&quot;,\n",
       "  &quot;icon&quot;: &quot;info-sign&quot;,\n",
       "  &quot;prefix&quot;: &quot;glyphicon&quot;,\n",
       "  &quot;extraClasses&quot;: &quot;fa-rotate-0&quot;,\n",
       "}\n",
       "            );\n",
       "            marker_87b84003eb71579480a354b21d804de4.setIcon(icon_56e5eb6d5001d05fc4a914615671c493);\n",
       "        \n",
       "    \n",
       "        var popup_d4d7801a03eae4c8db04b1abd05f9553 = L.popup({\n",
       "  &quot;maxWidth&quot;: &quot;100%&quot;,\n",
       "});\n",
       "\n",
       "        \n",
       "            \n",
       "                var html_aa74f71de751e342f1a01446dac9e4ef = $(`&lt;div id=&quot;html_aa74f71de751e342f1a01446dac9e4ef&quot; style=&quot;width: 100.0%; height: 100.0%;&quot;&gt;Decamerón&lt;/div&gt;`)[0];\n",
       "                popup_d4d7801a03eae4c8db04b1abd05f9553.setContent(html_aa74f71de751e342f1a01446dac9e4ef);\n",
       "            \n",
       "        \n",
       "\n",
       "        marker_87b84003eb71579480a354b21d804de4.bindPopup(popup_d4d7801a03eae4c8db04b1abd05f9553)\n",
       "        ;\n",
       "\n",
       "        \n",
       "    \n",
       "    \n",
       "            var marker_52838d1f2046fe2ebe996fed06ac2b7a = L.marker(\n",
       "                [23.140047889777367, -82.38107827833426],\n",
       "                {\n",
       "}\n",
       "            ).addTo(map_2d5c9f5ad0757b3f2f4dc97ed79838a9);\n",
       "        \n",
       "    \n",
       "            var icon_af4cb39957d2fda7de1397d19742641e = L.AwesomeMarkers.icon(\n",
       "                {\n",
       "  &quot;markerColor&quot;: &quot;darkblue&quot;,\n",
       "  &quot;iconColor&quot;: &quot;white&quot;,\n",
       "  &quot;icon&quot;: &quot;info-sign&quot;,\n",
       "  &quot;prefix&quot;: &quot;glyphicon&quot;,\n",
       "  &quot;extraClasses&quot;: &quot;fa-rotate-0&quot;,\n",
       "}\n",
       "            );\n",
       "            marker_52838d1f2046fe2ebe996fed06ac2b7a.setIcon(icon_af4cb39957d2fda7de1397d19742641e);\n",
       "        \n",
       "    \n",
       "        var popup_0d56251aa02d626112139012644ad8a6 = L.popup({\n",
       "  &quot;maxWidth&quot;: &quot;100%&quot;,\n",
       "});\n",
       "\n",
       "        \n",
       "            \n",
       "                var html_7f49d118244e62af528fab2160d3977c = $(`&lt;div id=&quot;html_7f49d118244e62af528fab2160d3977c&quot; style=&quot;width: 100.0%; height: 100.0%;&quot;&gt;Distrito 25&lt;/div&gt;`)[0];\n",
       "                popup_0d56251aa02d626112139012644ad8a6.setContent(html_7f49d118244e62af528fab2160d3977c);\n",
       "            \n",
       "        \n",
       "\n",
       "        marker_52838d1f2046fe2ebe996fed06ac2b7a.bindPopup(popup_0d56251aa02d626112139012644ad8a6)\n",
       "        ;\n",
       "\n",
       "        \n",
       "    \n",
       "    \n",
       "            var marker_482a491d78f8bc4c6f90a8d705480083 = L.marker(\n",
       "                [23.060193567010185, -82.3364931353467],\n",
       "                {\n",
       "}\n",
       "            ).addTo(map_2d5c9f5ad0757b3f2f4dc97ed79838a9);\n",
       "        \n",
       "    \n",
       "            var icon_530a5ffed7c23bfbb4ba8fa2e18a7d8e = L.AwesomeMarkers.icon(\n",
       "                {\n",
       "  &quot;markerColor&quot;: &quot;darkblue&quot;,\n",
       "  &quot;iconColor&quot;: &quot;white&quot;,\n",
       "  &quot;icon&quot;: &quot;info-sign&quot;,\n",
       "  &quot;prefix&quot;: &quot;glyphicon&quot;,\n",
       "  &quot;extraClasses&quot;: &quot;fa-rotate-0&quot;,\n",
       "}\n",
       "            );\n",
       "            marker_482a491d78f8bc4c6f90a8d705480083.setIcon(icon_530a5ffed7c23bfbb4ba8fa2e18a7d8e);\n",
       "        \n",
       "    \n",
       "        var popup_b00cebcda7aa4b5e17563f2a5fe75435 = L.popup({\n",
       "  &quot;maxWidth&quot;: &quot;100%&quot;,\n",
       "});\n",
       "\n",
       "        \n",
       "            \n",
       "                var html_b5c8fa98b0e6e4ebc59003b66e2b273e = $(`&lt;div id=&quot;html_b5c8fa98b0e6e4ebc59003b66e2b273e&quot; style=&quot;width: 100.0%; height: 100.0%;&quot;&gt;DiVino Restaurante&lt;/div&gt;`)[0];\n",
       "                popup_b00cebcda7aa4b5e17563f2a5fe75435.setContent(html_b5c8fa98b0e6e4ebc59003b66e2b273e);\n",
       "            \n",
       "        \n",
       "\n",
       "        marker_482a491d78f8bc4c6f90a8d705480083.bindPopup(popup_b00cebcda7aa4b5e17563f2a5fe75435)\n",
       "        ;\n",
       "\n",
       "        \n",
       "    \n",
       "    \n",
       "            var marker_5ff2bb447ce646f3380e158a650c432a = L.marker(\n",
       "                [23.08648320188595, -82.36489814950129],\n",
       "                {\n",
       "}\n",
       "            ).addTo(map_2d5c9f5ad0757b3f2f4dc97ed79838a9);\n",
       "        \n",
       "    \n",
       "            var icon_a88dc3f310eefd8cecb725be04a5c7b5 = L.AwesomeMarkers.icon(\n",
       "                {\n",
       "  &quot;markerColor&quot;: &quot;darkblue&quot;,\n",
       "  &quot;iconColor&quot;: &quot;white&quot;,\n",
       "  &quot;icon&quot;: &quot;info-sign&quot;,\n",
       "  &quot;prefix&quot;: &quot;glyphicon&quot;,\n",
       "  &quot;extraClasses&quot;: &quot;fa-rotate-0&quot;,\n",
       "}\n",
       "            );\n",
       "            marker_5ff2bb447ce646f3380e158a650c432a.setIcon(icon_a88dc3f310eefd8cecb725be04a5c7b5);\n",
       "        \n",
       "    \n",
       "        var popup_bd338c472db9065aa674aa95bc05a734 = L.popup({\n",
       "  &quot;maxWidth&quot;: &quot;100%&quot;,\n",
       "});\n",
       "\n",
       "        \n",
       "            \n",
       "                var html_919fcb389f5be43aab495b5a6f1abf12 = $(`&lt;div id=&quot;html_919fcb389f5be43aab495b5a6f1abf12&quot; style=&quot;width: 100.0%; height: 100.0%;&quot;&gt;D&#x27;Mitu&lt;/div&gt;`)[0];\n",
       "                popup_bd338c472db9065aa674aa95bc05a734.setContent(html_919fcb389f5be43aab495b5a6f1abf12);\n",
       "            \n",
       "        \n",
       "\n",
       "        marker_5ff2bb447ce646f3380e158a650c432a.bindPopup(popup_bd338c472db9065aa674aa95bc05a734)\n",
       "        ;\n",
       "\n",
       "        \n",
       "    \n",
       "    \n",
       "            var marker_8b317241705311e07c34d5646a060ffa = L.marker(\n",
       "                [23.132130469362888, -82.35198190548067],\n",
       "                {\n",
       "}\n",
       "            ).addTo(map_2d5c9f5ad0757b3f2f4dc97ed79838a9);\n",
       "        \n",
       "    \n",
       "            var icon_d93db98a66e4a520625e3cfcb0b006ef = L.AwesomeMarkers.icon(\n",
       "                {\n",
       "  &quot;markerColor&quot;: &quot;darkblue&quot;,\n",
       "  &quot;iconColor&quot;: &quot;white&quot;,\n",
       "  &quot;icon&quot;: &quot;info-sign&quot;,\n",
       "  &quot;prefix&quot;: &quot;glyphicon&quot;,\n",
       "  &quot;extraClasses&quot;: &quot;fa-rotate-0&quot;,\n",
       "}\n",
       "            );\n",
       "            marker_8b317241705311e07c34d5646a060ffa.setIcon(icon_d93db98a66e4a520625e3cfcb0b006ef);\n",
       "        \n",
       "    \n",
       "        var popup_9619b040886cea85ca77b25f87a4b7f0 = L.popup({\n",
       "  &quot;maxWidth&quot;: &quot;100%&quot;,\n",
       "});\n",
       "\n",
       "        \n",
       "            \n",
       "                var html_160f7ff3bd0a3c12323a16d3dc0cb8ab = $(`&lt;div id=&quot;html_160f7ff3bd0a3c12323a16d3dc0cb8ab&quot; style=&quot;width: 100.0%; height: 100.0%;&quot;&gt;Doña Alicia&lt;/div&gt;`)[0];\n",
       "                popup_9619b040886cea85ca77b25f87a4b7f0.setContent(html_160f7ff3bd0a3c12323a16d3dc0cb8ab);\n",
       "            \n",
       "        \n",
       "\n",
       "        marker_8b317241705311e07c34d5646a060ffa.bindPopup(popup_9619b040886cea85ca77b25f87a4b7f0)\n",
       "        ;\n",
       "\n",
       "        \n",
       "    \n",
       "    \n",
       "            var marker_44828f8d1d3f61f4d0fd108c1c47b9fd = L.marker(\n",
       "                [23.065174820392418, -82.3755823766412],\n",
       "                {\n",
       "}\n",
       "            ).addTo(map_2d5c9f5ad0757b3f2f4dc97ed79838a9);\n",
       "        \n",
       "    \n",
       "            var icon_1af051d71a26aa578e4757395b9699e5 = L.AwesomeMarkers.icon(\n",
       "                {\n",
       "  &quot;markerColor&quot;: &quot;darkblue&quot;,\n",
       "  &quot;iconColor&quot;: &quot;white&quot;,\n",
       "  &quot;icon&quot;: &quot;info-sign&quot;,\n",
       "  &quot;prefix&quot;: &quot;glyphicon&quot;,\n",
       "  &quot;extraClasses&quot;: &quot;fa-rotate-0&quot;,\n",
       "}\n",
       "            );\n",
       "            marker_44828f8d1d3f61f4d0fd108c1c47b9fd.setIcon(icon_1af051d71a26aa578e4757395b9699e5);\n",
       "        \n",
       "    \n",
       "        var popup_390f399f3425b0be3e15449ec4772f99 = L.popup({\n",
       "  &quot;maxWidth&quot;: &quot;100%&quot;,\n",
       "});\n",
       "\n",
       "        \n",
       "            \n",
       "                var html_98f05c885018abda86b53346ae257906 = $(`&lt;div id=&quot;html_98f05c885018abda86b53346ae257906&quot; style=&quot;width: 100.0%; height: 100.0%;&quot;&gt;Doña Almira&lt;/div&gt;`)[0];\n",
       "                popup_390f399f3425b0be3e15449ec4772f99.setContent(html_98f05c885018abda86b53346ae257906);\n",
       "            \n",
       "        \n",
       "\n",
       "        marker_44828f8d1d3f61f4d0fd108c1c47b9fd.bindPopup(popup_390f399f3425b0be3e15449ec4772f99)\n",
       "        ;\n",
       "\n",
       "        \n",
       "    \n",
       "    \n",
       "            var marker_477c243ccd9899f60bbcba64d52f2036 = L.marker(\n",
       "                [23.138392393516753, -82.37023852767982],\n",
       "                {\n",
       "}\n",
       "            ).addTo(map_2d5c9f5ad0757b3f2f4dc97ed79838a9);\n",
       "        \n",
       "    \n",
       "            var icon_3adf360b241ebfabeffc8356f9178aff = L.AwesomeMarkers.icon(\n",
       "                {\n",
       "  &quot;markerColor&quot;: &quot;darkblue&quot;,\n",
       "  &quot;iconColor&quot;: &quot;white&quot;,\n",
       "  &quot;icon&quot;: &quot;info-sign&quot;,\n",
       "  &quot;prefix&quot;: &quot;glyphicon&quot;,\n",
       "  &quot;extraClasses&quot;: &quot;fa-rotate-0&quot;,\n",
       "}\n",
       "            );\n",
       "            marker_477c243ccd9899f60bbcba64d52f2036.setIcon(icon_3adf360b241ebfabeffc8356f9178aff);\n",
       "        \n",
       "    \n",
       "        var popup_eaa5e8a7c0f36d03396180a75438bdc6 = L.popup({\n",
       "  &quot;maxWidth&quot;: &quot;100%&quot;,\n",
       "});\n",
       "\n",
       "        \n",
       "            \n",
       "                var html_5063ba78c66567952ba591fd3d9d1323 = $(`&lt;div id=&quot;html_5063ba78c66567952ba591fd3d9d1323&quot; style=&quot;width: 100.0%; height: 100.0%;&quot;&gt;Doña Lis Pizza&lt;/div&gt;`)[0];\n",
       "                popup_eaa5e8a7c0f36d03396180a75438bdc6.setContent(html_5063ba78c66567952ba591fd3d9d1323);\n",
       "            \n",
       "        \n",
       "\n",
       "        marker_477c243ccd9899f60bbcba64d52f2036.bindPopup(popup_eaa5e8a7c0f36d03396180a75438bdc6)\n",
       "        ;\n",
       "\n",
       "        \n",
       "    \n",
       "    \n",
       "            var marker_4db1d6a25e57bf57f6bba23c412d8573 = L.marker(\n",
       "                [23.07552643657392, -82.35874254913283],\n",
       "                {\n",
       "}\n",
       "            ).addTo(map_2d5c9f5ad0757b3f2f4dc97ed79838a9);\n",
       "        \n",
       "    \n",
       "            var icon_6e7901d560319dfef172edf65b85da6f = L.AwesomeMarkers.icon(\n",
       "                {\n",
       "  &quot;markerColor&quot;: &quot;darkblue&quot;,\n",
       "  &quot;iconColor&quot;: &quot;white&quot;,\n",
       "  &quot;icon&quot;: &quot;info-sign&quot;,\n",
       "  &quot;prefix&quot;: &quot;glyphicon&quot;,\n",
       "  &quot;extraClasses&quot;: &quot;fa-rotate-0&quot;,\n",
       "}\n",
       "            );\n",
       "            marker_4db1d6a25e57bf57f6bba23c412d8573.setIcon(icon_6e7901d560319dfef172edf65b85da6f);\n",
       "        \n",
       "    \n",
       "        var popup_0b0e94c92a008de70d3b6c34a16070ef = L.popup({\n",
       "  &quot;maxWidth&quot;: &quot;100%&quot;,\n",
       "});\n",
       "\n",
       "        \n",
       "            \n",
       "                var html_2f0967a34c27aea6c1944d4b577aaf1d = $(`&lt;div id=&quot;html_2f0967a34c27aea6c1944d4b577aaf1d&quot; style=&quot;width: 100.0%; height: 100.0%;&quot;&gt;Don Burguer&lt;/div&gt;`)[0];\n",
       "                popup_0b0e94c92a008de70d3b6c34a16070ef.setContent(html_2f0967a34c27aea6c1944d4b577aaf1d);\n",
       "            \n",
       "        \n",
       "\n",
       "        marker_4db1d6a25e57bf57f6bba23c412d8573.bindPopup(popup_0b0e94c92a008de70d3b6c34a16070ef)\n",
       "        ;\n",
       "\n",
       "        \n",
       "    \n",
       "    \n",
       "            var marker_ac24b1c62fa9439bd3347df98f2b4370 = L.marker(\n",
       "                [23.096667207456722, -82.32652150730858],\n",
       "                {\n",
       "}\n",
       "            ).addTo(map_2d5c9f5ad0757b3f2f4dc97ed79838a9);\n",
       "        \n",
       "    \n",
       "            var icon_4b3882198b9fd540cba4e68a34f3146c = L.AwesomeMarkers.icon(\n",
       "                {\n",
       "  &quot;markerColor&quot;: &quot;darkblue&quot;,\n",
       "  &quot;iconColor&quot;: &quot;white&quot;,\n",
       "  &quot;icon&quot;: &quot;info-sign&quot;,\n",
       "  &quot;prefix&quot;: &quot;glyphicon&quot;,\n",
       "  &quot;extraClasses&quot;: &quot;fa-rotate-0&quot;,\n",
       "}\n",
       "            );\n",
       "            marker_ac24b1c62fa9439bd3347df98f2b4370.setIcon(icon_4b3882198b9fd540cba4e68a34f3146c);\n",
       "        \n",
       "    \n",
       "        var popup_500ad8d57a435e436d9f10b7a33c3915 = L.popup({\n",
       "  &quot;maxWidth&quot;: &quot;100%&quot;,\n",
       "});\n",
       "\n",
       "        \n",
       "            \n",
       "                var html_631bac8faddce567e6207374a694ebf3 = $(`&lt;div id=&quot;html_631bac8faddce567e6207374a694ebf3&quot; style=&quot;width: 100.0%; height: 100.0%;&quot;&gt;Don Balbino&#x27;s&lt;/div&gt;`)[0];\n",
       "                popup_500ad8d57a435e436d9f10b7a33c3915.setContent(html_631bac8faddce567e6207374a694ebf3);\n",
       "            \n",
       "        \n",
       "\n",
       "        marker_ac24b1c62fa9439bd3347df98f2b4370.bindPopup(popup_500ad8d57a435e436d9f10b7a33c3915)\n",
       "        ;\n",
       "\n",
       "        \n",
       "    \n",
       "    \n",
       "            var marker_48f5fba77f567732ca49becb46206ce9 = L.marker(\n",
       "                [23.049910435608876, -82.26518902893379],\n",
       "                {\n",
       "}\n",
       "            ).addTo(map_2d5c9f5ad0757b3f2f4dc97ed79838a9);\n",
       "        \n",
       "    \n",
       "            var icon_a2de78bb28810f14bef47e8adf0caf5c = L.AwesomeMarkers.icon(\n",
       "                {\n",
       "  &quot;markerColor&quot;: &quot;darkblue&quot;,\n",
       "  &quot;iconColor&quot;: &quot;white&quot;,\n",
       "  &quot;icon&quot;: &quot;info-sign&quot;,\n",
       "  &quot;prefix&quot;: &quot;glyphicon&quot;,\n",
       "  &quot;extraClasses&quot;: &quot;fa-rotate-0&quot;,\n",
       "}\n",
       "            );\n",
       "            marker_48f5fba77f567732ca49becb46206ce9.setIcon(icon_a2de78bb28810f14bef47e8adf0caf5c);\n",
       "        \n",
       "    \n",
       "        var popup_a71d50efdec1aa49d6f7145c8b1a8797 = L.popup({\n",
       "  &quot;maxWidth&quot;: &quot;100%&quot;,\n",
       "});\n",
       "\n",
       "        \n",
       "            \n",
       "                var html_0dff6e120a0a6456b15255ebdf8af7a7 = $(`&lt;div id=&quot;html_0dff6e120a0a6456b15255ebdf8af7a7&quot; style=&quot;width: 100.0%; height: 100.0%;&quot;&gt;Don Omar&lt;/div&gt;`)[0];\n",
       "                popup_a71d50efdec1aa49d6f7145c8b1a8797.setContent(html_0dff6e120a0a6456b15255ebdf8af7a7);\n",
       "            \n",
       "        \n",
       "\n",
       "        marker_48f5fba77f567732ca49becb46206ce9.bindPopup(popup_a71d50efdec1aa49d6f7145c8b1a8797)\n",
       "        ;\n",
       "\n",
       "        \n",
       "    \n",
       "    \n",
       "            var marker_df98388ce3b5457a36c485c3141e3b13 = L.marker(\n",
       "                [23.078091931411176, -82.31932677141849],\n",
       "                {\n",
       "}\n",
       "            ).addTo(map_2d5c9f5ad0757b3f2f4dc97ed79838a9);\n",
       "        \n",
       "    \n",
       "            var icon_5dca738a4c9fa0ffdaa868e238d727bd = L.AwesomeMarkers.icon(\n",
       "                {\n",
       "  &quot;markerColor&quot;: &quot;darkblue&quot;,\n",
       "  &quot;iconColor&quot;: &quot;white&quot;,\n",
       "  &quot;icon&quot;: &quot;info-sign&quot;,\n",
       "  &quot;prefix&quot;: &quot;glyphicon&quot;,\n",
       "  &quot;extraClasses&quot;: &quot;fa-rotate-0&quot;,\n",
       "}\n",
       "            );\n",
       "            marker_df98388ce3b5457a36c485c3141e3b13.setIcon(icon_5dca738a4c9fa0ffdaa868e238d727bd);\n",
       "        \n",
       "    \n",
       "        var popup_21ee414f78a3222587bb485d4a928562 = L.popup({\n",
       "  &quot;maxWidth&quot;: &quot;100%&quot;,\n",
       "});\n",
       "\n",
       "        \n",
       "            \n",
       "                var html_439fb9c2ef701232f4584701e041fb7a = $(`&lt;div id=&quot;html_439fb9c2ef701232f4584701e041fb7a&quot; style=&quot;width: 100.0%; height: 100.0%;&quot;&gt;Don Timbon&lt;/div&gt;`)[0];\n",
       "                popup_21ee414f78a3222587bb485d4a928562.setContent(html_439fb9c2ef701232f4584701e041fb7a);\n",
       "            \n",
       "        \n",
       "\n",
       "        marker_df98388ce3b5457a36c485c3141e3b13.bindPopup(popup_21ee414f78a3222587bb485d4a928562)\n",
       "        ;\n",
       "\n",
       "        \n",
       "    \n",
       "    \n",
       "            var marker_d0528b9476b9d37541fc782c5b6cbcab = L.marker(\n",
       "                [23.13389533564469, -82.37685653415737],\n",
       "                {\n",
       "}\n",
       "            ).addTo(map_2d5c9f5ad0757b3f2f4dc97ed79838a9);\n",
       "        \n",
       "    \n",
       "            var icon_8b53ac44e22e1913118f7a38c0ab4b69 = L.AwesomeMarkers.icon(\n",
       "                {\n",
       "  &quot;markerColor&quot;: &quot;darkblue&quot;,\n",
       "  &quot;iconColor&quot;: &quot;white&quot;,\n",
       "  &quot;icon&quot;: &quot;info-sign&quot;,\n",
       "  &quot;prefix&quot;: &quot;glyphicon&quot;,\n",
       "  &quot;extraClasses&quot;: &quot;fa-rotate-0&quot;,\n",
       "}\n",
       "            );\n",
       "            marker_d0528b9476b9d37541fc782c5b6cbcab.setIcon(icon_8b53ac44e22e1913118f7a38c0ab4b69);\n",
       "        \n",
       "    \n",
       "        var popup_c8e806d98d340d8d02c475a1f066d647 = L.popup({\n",
       "  &quot;maxWidth&quot;: &quot;100%&quot;,\n",
       "});\n",
       "\n",
       "        \n",
       "            \n",
       "                var html_3860d4742f5948d7f9f3285c15796905 = $(`&lt;div id=&quot;html_3860d4742f5948d7f9f3285c15796905&quot; style=&quot;width: 100.0%; height: 100.0%;&quot;&gt;Doping pizza&lt;/div&gt;`)[0];\n",
       "                popup_c8e806d98d340d8d02c475a1f066d647.setContent(html_3860d4742f5948d7f9f3285c15796905);\n",
       "            \n",
       "        \n",
       "\n",
       "        marker_d0528b9476b9d37541fc782c5b6cbcab.bindPopup(popup_c8e806d98d340d8d02c475a1f066d647)\n",
       "        ;\n",
       "\n",
       "        \n",
       "    \n",
       "    \n",
       "            var marker_802369faffd47ea288d983767e2d3768 = L.marker(\n",
       "                [23.11433698105626, -82.41322840010747],\n",
       "                {\n",
       "}\n",
       "            ).addTo(map_2d5c9f5ad0757b3f2f4dc97ed79838a9);\n",
       "        \n",
       "    \n",
       "            var icon_93ec901e70b15074102b12090be8d484 = L.AwesomeMarkers.icon(\n",
       "                {\n",
       "  &quot;markerColor&quot;: &quot;darkblue&quot;,\n",
       "  &quot;iconColor&quot;: &quot;white&quot;,\n",
       "  &quot;icon&quot;: &quot;info-sign&quot;,\n",
       "  &quot;prefix&quot;: &quot;glyphicon&quot;,\n",
       "  &quot;extraClasses&quot;: &quot;fa-rotate-0&quot;,\n",
       "}\n",
       "            );\n",
       "            marker_802369faffd47ea288d983767e2d3768.setIcon(icon_93ec901e70b15074102b12090be8d484);\n",
       "        \n",
       "    \n",
       "        var popup_6589e2fcd4c8dcfc6213ded4323ce39d = L.popup({\n",
       "  &quot;maxWidth&quot;: &quot;100%&quot;,\n",
       "});\n",
       "\n",
       "        \n",
       "            \n",
       "                var html_1c50a61a4390624671672bb813458111 = $(`&lt;div id=&quot;html_1c50a61a4390624671672bb813458111&quot; style=&quot;width: 100.0%; height: 100.0%;&quot;&gt;D&#x27;kmino&lt;/div&gt;`)[0];\n",
       "                popup_6589e2fcd4c8dcfc6213ded4323ce39d.setContent(html_1c50a61a4390624671672bb813458111);\n",
       "            \n",
       "        \n",
       "\n",
       "        marker_802369faffd47ea288d983767e2d3768.bindPopup(popup_6589e2fcd4c8dcfc6213ded4323ce39d)\n",
       "        ;\n",
       "\n",
       "        \n",
       "    \n",
       "    \n",
       "            var marker_20463b696772df3a2048025b06ae8d18 = L.marker(\n",
       "                [23.131548646310556, -82.39857068812692],\n",
       "                {\n",
       "}\n",
       "            ).addTo(map_2d5c9f5ad0757b3f2f4dc97ed79838a9);\n",
       "        \n",
       "    \n",
       "            var icon_1ccc0e38ab3357b2a1388872442c6414 = L.AwesomeMarkers.icon(\n",
       "                {\n",
       "  &quot;markerColor&quot;: &quot;darkblue&quot;,\n",
       "  &quot;iconColor&quot;: &quot;white&quot;,\n",
       "  &quot;icon&quot;: &quot;info-sign&quot;,\n",
       "  &quot;prefix&quot;: &quot;glyphicon&quot;,\n",
       "  &quot;extraClasses&quot;: &quot;fa-rotate-0&quot;,\n",
       "}\n",
       "            );\n",
       "            marker_20463b696772df3a2048025b06ae8d18.setIcon(icon_1ccc0e38ab3357b2a1388872442c6414);\n",
       "        \n",
       "    \n",
       "        var popup_7127346dbd19a11b5a2b0e8d0e262c69 = L.popup({\n",
       "  &quot;maxWidth&quot;: &quot;100%&quot;,\n",
       "});\n",
       "\n",
       "        \n",
       "            \n",
       "                var html_f7e12a83244224cec6c2029c2a93e67f = $(`&lt;div id=&quot;html_f7e12a83244224cec6c2029c2a93e67f&quot; style=&quot;width: 100.0%; height: 100.0%;&quot;&gt;El Vampirito&lt;/div&gt;`)[0];\n",
       "                popup_7127346dbd19a11b5a2b0e8d0e262c69.setContent(html_f7e12a83244224cec6c2029c2a93e67f);\n",
       "            \n",
       "        \n",
       "\n",
       "        marker_20463b696772df3a2048025b06ae8d18.bindPopup(popup_7127346dbd19a11b5a2b0e8d0e262c69)\n",
       "        ;\n",
       "\n",
       "        \n",
       "    \n",
       "    \n",
       "            var marker_33bcb075e5411aa6f632a8c13a343b58 = L.marker(\n",
       "                [23.10580877950669, -82.38890539182955],\n",
       "                {\n",
       "}\n",
       "            ).addTo(map_2d5c9f5ad0757b3f2f4dc97ed79838a9);\n",
       "        \n",
       "    \n",
       "            var icon_d1120d2fa14541f5dc62371704f952f4 = L.AwesomeMarkers.icon(\n",
       "                {\n",
       "  &quot;markerColor&quot;: &quot;darkblue&quot;,\n",
       "  &quot;iconColor&quot;: &quot;white&quot;,\n",
       "  &quot;icon&quot;: &quot;info-sign&quot;,\n",
       "  &quot;prefix&quot;: &quot;glyphicon&quot;,\n",
       "  &quot;extraClasses&quot;: &quot;fa-rotate-0&quot;,\n",
       "}\n",
       "            );\n",
       "            marker_33bcb075e5411aa6f632a8c13a343b58.setIcon(icon_d1120d2fa14541f5dc62371704f952f4);\n",
       "        \n",
       "    \n",
       "        var popup_8c9052f9688dd6bf654da1e4e644c083 = L.popup({\n",
       "  &quot;maxWidth&quot;: &quot;100%&quot;,\n",
       "});\n",
       "\n",
       "        \n",
       "            \n",
       "                var html_a4f1a8805e04e722fe2a5f008b715140 = $(`&lt;div id=&quot;html_a4f1a8805e04e722fe2a5f008b715140&quot; style=&quot;width: 100.0%; height: 100.0%;&quot;&gt;El Batazo&lt;/div&gt;`)[0];\n",
       "                popup_8c9052f9688dd6bf654da1e4e644c083.setContent(html_a4f1a8805e04e722fe2a5f008b715140);\n",
       "            \n",
       "        \n",
       "\n",
       "        marker_33bcb075e5411aa6f632a8c13a343b58.bindPopup(popup_8c9052f9688dd6bf654da1e4e644c083)\n",
       "        ;\n",
       "\n",
       "        \n",
       "    \n",
       "    \n",
       "            var marker_a573782978037226db0fffd7cf0e097a = L.marker(\n",
       "                [23.131150637521987, -82.40805233415749],\n",
       "                {\n",
       "}\n",
       "            ).addTo(map_2d5c9f5ad0757b3f2f4dc97ed79838a9);\n",
       "        \n",
       "    \n",
       "            var icon_8bf23bdc641ed7a7b18626c655dc8f9c = L.AwesomeMarkers.icon(\n",
       "                {\n",
       "  &quot;markerColor&quot;: &quot;darkblue&quot;,\n",
       "  &quot;iconColor&quot;: &quot;white&quot;,\n",
       "  &quot;icon&quot;: &quot;info-sign&quot;,\n",
       "  &quot;prefix&quot;: &quot;glyphicon&quot;,\n",
       "  &quot;extraClasses&quot;: &quot;fa-rotate-0&quot;,\n",
       "}\n",
       "            );\n",
       "            marker_a573782978037226db0fffd7cf0e097a.setIcon(icon_8bf23bdc641ed7a7b18626c655dc8f9c);\n",
       "        \n",
       "    \n",
       "        var popup_4a1bc39327de7a6f84e1b9ddd7e416b1 = L.popup({\n",
       "  &quot;maxWidth&quot;: &quot;100%&quot;,\n",
       "});\n",
       "\n",
       "        \n",
       "            \n",
       "                var html_f11f0627e77d9fba41ed54601550fdd4 = $(`&lt;div id=&quot;html_f11f0627e77d9fba41ed54601550fdd4&quot; style=&quot;width: 100.0%; height: 100.0%;&quot;&gt;El Bejuco&lt;/div&gt;`)[0];\n",
       "                popup_4a1bc39327de7a6f84e1b9ddd7e416b1.setContent(html_f11f0627e77d9fba41ed54601550fdd4);\n",
       "            \n",
       "        \n",
       "\n",
       "        marker_a573782978037226db0fffd7cf0e097a.bindPopup(popup_4a1bc39327de7a6f84e1b9ddd7e416b1)\n",
       "        ;\n",
       "\n",
       "        \n",
       "    \n",
       "    \n",
       "            var marker_77ca86d71521a87c6b802460d639e9f5 = L.marker(\n",
       "                [23.124494370316903, -82.30417726451671],\n",
       "                {\n",
       "}\n",
       "            ).addTo(map_2d5c9f5ad0757b3f2f4dc97ed79838a9);\n",
       "        \n",
       "    \n",
       "            var icon_3da72dbe3d92b7c69f832f1ece3b8bb5 = L.AwesomeMarkers.icon(\n",
       "                {\n",
       "  &quot;markerColor&quot;: &quot;darkblue&quot;,\n",
       "  &quot;iconColor&quot;: &quot;white&quot;,\n",
       "  &quot;icon&quot;: &quot;info-sign&quot;,\n",
       "  &quot;prefix&quot;: &quot;glyphicon&quot;,\n",
       "  &quot;extraClasses&quot;: &quot;fa-rotate-0&quot;,\n",
       "}\n",
       "            );\n",
       "            marker_77ca86d71521a87c6b802460d639e9f5.setIcon(icon_3da72dbe3d92b7c69f832f1ece3b8bb5);\n",
       "        \n",
       "    \n",
       "        var popup_fa8811164aa966f52a10f4b0a1f3ae31 = L.popup({\n",
       "  &quot;maxWidth&quot;: &quot;100%&quot;,\n",
       "});\n",
       "\n",
       "        \n",
       "            \n",
       "                var html_281893b10cbe567fbae7970deefafc3e = $(`&lt;div id=&quot;html_281893b10cbe567fbae7970deefafc3e&quot; style=&quot;width: 100.0%; height: 100.0%;&quot;&gt;El Faro&lt;/div&gt;`)[0];\n",
       "                popup_fa8811164aa966f52a10f4b0a1f3ae31.setContent(html_281893b10cbe567fbae7970deefafc3e);\n",
       "            \n",
       "        \n",
       "\n",
       "        marker_77ca86d71521a87c6b802460d639e9f5.bindPopup(popup_fa8811164aa966f52a10f4b0a1f3ae31)\n",
       "        ;\n",
       "\n",
       "        \n",
       "    \n",
       "    \n",
       "            var marker_39122649060184ba4b90da7f7e5b7eb3 = L.marker(\n",
       "                [23.140043632958008, -82.39049077833423],\n",
       "                {\n",
       "}\n",
       "            ).addTo(map_2d5c9f5ad0757b3f2f4dc97ed79838a9);\n",
       "        \n",
       "    \n",
       "            var icon_e7730759069b491adcbc7051afc4c589 = L.AwesomeMarkers.icon(\n",
       "                {\n",
       "  &quot;markerColor&quot;: &quot;darkblue&quot;,\n",
       "  &quot;iconColor&quot;: &quot;white&quot;,\n",
       "  &quot;icon&quot;: &quot;info-sign&quot;,\n",
       "  &quot;prefix&quot;: &quot;glyphicon&quot;,\n",
       "  &quot;extraClasses&quot;: &quot;fa-rotate-0&quot;,\n",
       "}\n",
       "            );\n",
       "            marker_39122649060184ba4b90da7f7e5b7eb3.setIcon(icon_e7730759069b491adcbc7051afc4c589);\n",
       "        \n",
       "    \n",
       "        var popup_fbb3f725d7acad986788ec2150b62308 = L.popup({\n",
       "  &quot;maxWidth&quot;: &quot;100%&quot;,\n",
       "});\n",
       "\n",
       "        \n",
       "            \n",
       "                var html_956608137855d30c46b22d96aa124edc = $(`&lt;div id=&quot;html_956608137855d30c46b22d96aa124edc&quot; style=&quot;width: 100.0%; height: 100.0%;&quot;&gt;El Idilio&lt;/div&gt;`)[0];\n",
       "                popup_fbb3f725d7acad986788ec2150b62308.setContent(html_956608137855d30c46b22d96aa124edc);\n",
       "            \n",
       "        \n",
       "\n",
       "        marker_39122649060184ba4b90da7f7e5b7eb3.bindPopup(popup_fbb3f725d7acad986788ec2150b62308)\n",
       "        ;\n",
       "\n",
       "        \n",
       "    \n",
       "    \n",
       "            var marker_2392cdc42f6105074a903fc17e40c5b5 = L.marker(\n",
       "                [23.124478883457773, -82.31947367832976],\n",
       "                {\n",
       "}\n",
       "            ).addTo(map_2d5c9f5ad0757b3f2f4dc97ed79838a9);\n",
       "        \n",
       "    \n",
       "            var icon_470021383e49c8839be8b6ad8a1d380e = L.AwesomeMarkers.icon(\n",
       "                {\n",
       "  &quot;markerColor&quot;: &quot;darkblue&quot;,\n",
       "  &quot;iconColor&quot;: &quot;white&quot;,\n",
       "  &quot;icon&quot;: &quot;info-sign&quot;,\n",
       "  &quot;prefix&quot;: &quot;glyphicon&quot;,\n",
       "  &quot;extraClasses&quot;: &quot;fa-rotate-0&quot;,\n",
       "}\n",
       "            );\n",
       "            marker_2392cdc42f6105074a903fc17e40c5b5.setIcon(icon_470021383e49c8839be8b6ad8a1d380e);\n",
       "        \n",
       "    \n",
       "        var popup_7f1cee9457effb4c7d689513d3496914 = L.popup({\n",
       "  &quot;maxWidth&quot;: &quot;100%&quot;,\n",
       "});\n",
       "\n",
       "        \n",
       "            \n",
       "                var html_79c204096f2342f4629a65d8db8ef862 = $(`&lt;div id=&quot;html_79c204096f2342f4629a65d8db8ef862&quot; style=&quot;width: 100.0%; height: 100.0%;&quot;&gt;El Pavo&lt;/div&gt;`)[0];\n",
       "                popup_7f1cee9457effb4c7d689513d3496914.setContent(html_79c204096f2342f4629a65d8db8ef862);\n",
       "            \n",
       "        \n",
       "\n",
       "        marker_2392cdc42f6105074a903fc17e40c5b5.bindPopup(popup_7f1cee9457effb4c7d689513d3496914)\n",
       "        ;\n",
       "\n",
       "        \n",
       "    \n",
       "    \n",
       "            var marker_6c99b08b949d2aac97a427d01e50c182 = L.marker(\n",
       "                [23.11052702904802, -82.39914526484186],\n",
       "                {\n",
       "}\n",
       "            ).addTo(map_2d5c9f5ad0757b3f2f4dc97ed79838a9);\n",
       "        \n",
       "    \n",
       "            var icon_859345dd0d4f2b4c181ed39f94f1c73b = L.AwesomeMarkers.icon(\n",
       "                {\n",
       "  &quot;markerColor&quot;: &quot;darkblue&quot;,\n",
       "  &quot;iconColor&quot;: &quot;white&quot;,\n",
       "  &quot;icon&quot;: &quot;info-sign&quot;,\n",
       "  &quot;prefix&quot;: &quot;glyphicon&quot;,\n",
       "  &quot;extraClasses&quot;: &quot;fa-rotate-0&quot;,\n",
       "}\n",
       "            );\n",
       "            marker_6c99b08b949d2aac97a427d01e50c182.setIcon(icon_859345dd0d4f2b4c181ed39f94f1c73b);\n",
       "        \n",
       "    \n",
       "        var popup_499356f944b3558226f69251720a55b2 = L.popup({\n",
       "  &quot;maxWidth&quot;: &quot;100%&quot;,\n",
       "});\n",
       "\n",
       "        \n",
       "            \n",
       "                var html_08fc70544cb0f8c3b0594f28b3f6c31c = $(`&lt;div id=&quot;html_08fc70544cb0f8c3b0594f28b3f6c31c&quot; style=&quot;width: 100.0%; height: 100.0%;&quot;&gt;El Pelícano&lt;/div&gt;`)[0];\n",
       "                popup_499356f944b3558226f69251720a55b2.setContent(html_08fc70544cb0f8c3b0594f28b3f6c31c);\n",
       "            \n",
       "        \n",
       "\n",
       "        marker_6c99b08b949d2aac97a427d01e50c182.bindPopup(popup_499356f944b3558226f69251720a55b2)\n",
       "        ;\n",
       "\n",
       "        \n",
       "    \n",
       "    \n",
       "            var marker_34745144bb932126f5f9c9041dafcc14 = L.marker(\n",
       "                [23.139923880574944, -82.38105453418326],\n",
       "                {\n",
       "}\n",
       "            ).addTo(map_2d5c9f5ad0757b3f2f4dc97ed79838a9);\n",
       "        \n",
       "    \n",
       "            var icon_fc58dda3b19665b8e2c0ede9a38caeec = L.AwesomeMarkers.icon(\n",
       "                {\n",
       "  &quot;markerColor&quot;: &quot;darkblue&quot;,\n",
       "  &quot;iconColor&quot;: &quot;white&quot;,\n",
       "  &quot;icon&quot;: &quot;info-sign&quot;,\n",
       "  &quot;prefix&quot;: &quot;glyphicon&quot;,\n",
       "  &quot;extraClasses&quot;: &quot;fa-rotate-0&quot;,\n",
       "}\n",
       "            );\n",
       "            marker_34745144bb932126f5f9c9041dafcc14.setIcon(icon_fc58dda3b19665b8e2c0ede9a38caeec);\n",
       "        \n",
       "    \n",
       "        var popup_33874201350192936d8a3dd7562001ac = L.popup({\n",
       "  &quot;maxWidth&quot;: &quot;100%&quot;,\n",
       "});\n",
       "\n",
       "        \n",
       "            \n",
       "                var html_f220a3557d7638a5fb2caf95e20b037f = $(`&lt;div id=&quot;html_f220a3557d7638a5fb2caf95e20b037f&quot; style=&quot;width: 100.0%; height: 100.0%;&quot;&gt;El Pilón&lt;/div&gt;`)[0];\n",
       "                popup_33874201350192936d8a3dd7562001ac.setContent(html_f220a3557d7638a5fb2caf95e20b037f);\n",
       "            \n",
       "        \n",
       "\n",
       "        marker_34745144bb932126f5f9c9041dafcc14.bindPopup(popup_33874201350192936d8a3dd7562001ac)\n",
       "        ;\n",
       "\n",
       "        \n",
       "    \n",
       "    \n",
       "            var marker_d541e75185941b1a6a2aff84c204bc3a = L.marker(\n",
       "                [23.13385424944992, -82.36160649338726],\n",
       "                {\n",
       "}\n",
       "            ).addTo(map_2d5c9f5ad0757b3f2f4dc97ed79838a9);\n",
       "        \n",
       "    \n",
       "            var icon_606b162f56751c46830d51be3057372d = L.AwesomeMarkers.icon(\n",
       "                {\n",
       "  &quot;markerColor&quot;: &quot;darkblue&quot;,\n",
       "  &quot;iconColor&quot;: &quot;white&quot;,\n",
       "  &quot;icon&quot;: &quot;info-sign&quot;,\n",
       "  &quot;prefix&quot;: &quot;glyphicon&quot;,\n",
       "  &quot;extraClasses&quot;: &quot;fa-rotate-0&quot;,\n",
       "}\n",
       "            );\n",
       "            marker_d541e75185941b1a6a2aff84c204bc3a.setIcon(icon_606b162f56751c46830d51be3057372d);\n",
       "        \n",
       "    \n",
       "        var popup_ea28158ce10d55f4b75e951b6070489b = L.popup({\n",
       "  &quot;maxWidth&quot;: &quot;100%&quot;,\n",
       "});\n",
       "\n",
       "        \n",
       "            \n",
       "                var html_32e7e7fc3da5991a663644544aeebe43 = $(`&lt;div id=&quot;html_32e7e7fc3da5991a663644544aeebe43&quot; style=&quot;width: 100.0%; height: 100.0%;&quot;&gt;El pórtico&lt;/div&gt;`)[0];\n",
       "                popup_ea28158ce10d55f4b75e951b6070489b.setContent(html_32e7e7fc3da5991a663644544aeebe43);\n",
       "            \n",
       "        \n",
       "\n",
       "        marker_d541e75185941b1a6a2aff84c204bc3a.bindPopup(popup_ea28158ce10d55f4b75e951b6070489b)\n",
       "        ;\n",
       "\n",
       "        \n",
       "    \n",
       "    \n",
       "            var marker_4fd32e2b31da0422199437a0755f5fd1 = L.marker(\n",
       "                [23.11835682709935, -82.3775341306507],\n",
       "                {\n",
       "}\n",
       "            ).addTo(map_2d5c9f5ad0757b3f2f4dc97ed79838a9);\n",
       "        \n",
       "    \n",
       "            var icon_d12c24ccd939bb0faaec05b36755c139 = L.AwesomeMarkers.icon(\n",
       "                {\n",
       "  &quot;markerColor&quot;: &quot;darkblue&quot;,\n",
       "  &quot;iconColor&quot;: &quot;white&quot;,\n",
       "  &quot;icon&quot;: &quot;info-sign&quot;,\n",
       "  &quot;prefix&quot;: &quot;glyphicon&quot;,\n",
       "  &quot;extraClasses&quot;: &quot;fa-rotate-0&quot;,\n",
       "}\n",
       "            );\n",
       "            marker_4fd32e2b31da0422199437a0755f5fd1.setIcon(icon_d12c24ccd939bb0faaec05b36755c139);\n",
       "        \n",
       "    \n",
       "        var popup_330b6e836a5a2815db1a9294827d94c9 = L.popup({\n",
       "  &quot;maxWidth&quot;: &quot;100%&quot;,\n",
       "});\n",
       "\n",
       "        \n",
       "            \n",
       "                var html_5661504909c80205dda193ffcc15b17d = $(`&lt;div id=&quot;html_5661504909c80205dda193ffcc15b17d&quot; style=&quot;width: 100.0%; height: 100.0%;&quot;&gt;El Rápido&lt;/div&gt;`)[0];\n",
       "                popup_330b6e836a5a2815db1a9294827d94c9.setContent(html_5661504909c80205dda193ffcc15b17d);\n",
       "            \n",
       "        \n",
       "\n",
       "        marker_4fd32e2b31da0422199437a0755f5fd1.bindPopup(popup_330b6e836a5a2815db1a9294827d94c9)\n",
       "        ;\n",
       "\n",
       "        \n",
       "    \n",
       "    \n",
       "            var marker_ca802a388bb73a9e3551b3e32e4a98c7 = L.marker(\n",
       "                [23.142914181352282, -82.3993675071695],\n",
       "                {\n",
       "}\n",
       "            ).addTo(map_2d5c9f5ad0757b3f2f4dc97ed79838a9);\n",
       "        \n",
       "    \n",
       "            var icon_6dfa98a189c3a386c9ac154984e7434f = L.AwesomeMarkers.icon(\n",
       "                {\n",
       "  &quot;markerColor&quot;: &quot;darkblue&quot;,\n",
       "  &quot;iconColor&quot;: &quot;white&quot;,\n",
       "  &quot;icon&quot;: &quot;info-sign&quot;,\n",
       "  &quot;prefix&quot;: &quot;glyphicon&quot;,\n",
       "  &quot;extraClasses&quot;: &quot;fa-rotate-0&quot;,\n",
       "}\n",
       "            );\n",
       "            marker_ca802a388bb73a9e3551b3e32e4a98c7.setIcon(icon_6dfa98a189c3a386c9ac154984e7434f);\n",
       "        \n",
       "    \n",
       "        var popup_79c77583c7b6916fb9ab6137ae595f2e = L.popup({\n",
       "  &quot;maxWidth&quot;: &quot;100%&quot;,\n",
       "});\n",
       "\n",
       "        \n",
       "            \n",
       "                var html_d255b83fcd20559985446826e8b8ed86 = $(`&lt;div id=&quot;html_d255b83fcd20559985446826e8b8ed86&quot; style=&quot;width: 100.0%; height: 100.0%;&quot;&gt;El Tablazo&lt;/div&gt;`)[0];\n",
       "                popup_79c77583c7b6916fb9ab6137ae595f2e.setContent(html_d255b83fcd20559985446826e8b8ed86);\n",
       "            \n",
       "        \n",
       "\n",
       "        marker_ca802a388bb73a9e3551b3e32e4a98c7.bindPopup(popup_79c77583c7b6916fb9ab6137ae595f2e)\n",
       "        ;\n",
       "\n",
       "        \n",
       "    \n",
       "    \n",
       "            var marker_b4c7a5ef6eee64b63cd443b8ece1e595 = L.marker(\n",
       "                [23.004387110083822, -82.32730012513493],\n",
       "                {\n",
       "}\n",
       "            ).addTo(map_2d5c9f5ad0757b3f2f4dc97ed79838a9);\n",
       "        \n",
       "    \n",
       "            var icon_43d5bf348daec580f9404a89667b185b = L.AwesomeMarkers.icon(\n",
       "                {\n",
       "  &quot;markerColor&quot;: &quot;darkblue&quot;,\n",
       "  &quot;iconColor&quot;: &quot;white&quot;,\n",
       "  &quot;icon&quot;: &quot;info-sign&quot;,\n",
       "  &quot;prefix&quot;: &quot;glyphicon&quot;,\n",
       "  &quot;extraClasses&quot;: &quot;fa-rotate-0&quot;,\n",
       "}\n",
       "            );\n",
       "            marker_b4c7a5ef6eee64b63cd443b8ece1e595.setIcon(icon_43d5bf348daec580f9404a89667b185b);\n",
       "        \n",
       "    \n",
       "        var popup_ced3012abf61ae9e3e41c05334e36a85 = L.popup({\n",
       "  &quot;maxWidth&quot;: &quot;100%&quot;,\n",
       "});\n",
       "\n",
       "        \n",
       "            \n",
       "                var html_91a020a17802b31848975fc630cb098b = $(`&lt;div id=&quot;html_91a020a17802b31848975fc630cb098b&quot; style=&quot;width: 100.0%; height: 100.0%;&quot;&gt;El Vaquerito&lt;/div&gt;`)[0];\n",
       "                popup_ced3012abf61ae9e3e41c05334e36a85.setContent(html_91a020a17802b31848975fc630cb098b);\n",
       "            \n",
       "        \n",
       "\n",
       "        marker_b4c7a5ef6eee64b63cd443b8ece1e595.bindPopup(popup_ced3012abf61ae9e3e41c05334e36a85)\n",
       "        ;\n",
       "\n",
       "        \n",
       "    \n",
       "    \n",
       "            var marker_39af9ac0dbc957807ae88dc57f39f4e6 = L.marker(\n",
       "                [23.16201335878783, -82.29718375783479],\n",
       "                {\n",
       "}\n",
       "            ).addTo(map_2d5c9f5ad0757b3f2f4dc97ed79838a9);\n",
       "        \n",
       "    \n",
       "            var icon_d50951dab9239f57e8b7b52597e0411f = L.AwesomeMarkers.icon(\n",
       "                {\n",
       "  &quot;markerColor&quot;: &quot;darkblue&quot;,\n",
       "  &quot;iconColor&quot;: &quot;white&quot;,\n",
       "  &quot;icon&quot;: &quot;info-sign&quot;,\n",
       "  &quot;prefix&quot;: &quot;glyphicon&quot;,\n",
       "  &quot;extraClasses&quot;: &quot;fa-rotate-0&quot;,\n",
       "}\n",
       "            );\n",
       "            marker_39af9ac0dbc957807ae88dc57f39f4e6.setIcon(icon_d50951dab9239f57e8b7b52597e0411f);\n",
       "        \n",
       "    \n",
       "        var popup_39c7b09243703c8492e366ac9176694b = L.popup({\n",
       "  &quot;maxWidth&quot;: &quot;100%&quot;,\n",
       "});\n",
       "\n",
       "        \n",
       "            \n",
       "                var html_449fd3168cc0c1a167df2727c4bcd8e6 = $(`&lt;div id=&quot;html_449fd3168cc0c1a167df2727c4bcd8e6&quot; style=&quot;width: 100.0%; height: 100.0%;&quot;&gt;El Ajiaco&lt;/div&gt;`)[0];\n",
       "                popup_39c7b09243703c8492e366ac9176694b.setContent(html_449fd3168cc0c1a167df2727c4bcd8e6);\n",
       "            \n",
       "        \n",
       "\n",
       "        marker_39af9ac0dbc957807ae88dc57f39f4e6.bindPopup(popup_39c7b09243703c8492e366ac9176694b)\n",
       "        ;\n",
       "\n",
       "        \n",
       "    \n",
       "    \n",
       "            var marker_1e331f0211a8eb3469ab84ec6f799e4b = L.marker(\n",
       "                [23.04303644487019, -82.26306815148284],\n",
       "                {\n",
       "}\n",
       "            ).addTo(map_2d5c9f5ad0757b3f2f4dc97ed79838a9);\n",
       "        \n",
       "    \n",
       "            var icon_850b6c42213a1a9f14c39d58b2960765 = L.AwesomeMarkers.icon(\n",
       "                {\n",
       "  &quot;markerColor&quot;: &quot;darkblue&quot;,\n",
       "  &quot;iconColor&quot;: &quot;white&quot;,\n",
       "  &quot;icon&quot;: &quot;info-sign&quot;,\n",
       "  &quot;prefix&quot;: &quot;glyphicon&quot;,\n",
       "  &quot;extraClasses&quot;: &quot;fa-rotate-0&quot;,\n",
       "}\n",
       "            );\n",
       "            marker_1e331f0211a8eb3469ab84ec6f799e4b.setIcon(icon_850b6c42213a1a9f14c39d58b2960765);\n",
       "        \n",
       "    \n",
       "        var popup_7a927b578ca199cc9f61e0be527c7f52 = L.popup({\n",
       "  &quot;maxWidth&quot;: &quot;100%&quot;,\n",
       "});\n",
       "\n",
       "        \n",
       "            \n",
       "                var html_e05ae7152f8216f3228bc380a9cfa898 = $(`&lt;div id=&quot;html_e05ae7152f8216f3228bc380a9cfa898&quot; style=&quot;width: 100.0%; height: 100.0%;&quot;&gt;El Bache&lt;/div&gt;`)[0];\n",
       "                popup_7a927b578ca199cc9f61e0be527c7f52.setContent(html_e05ae7152f8216f3228bc380a9cfa898);\n",
       "            \n",
       "        \n",
       "\n",
       "        marker_1e331f0211a8eb3469ab84ec6f799e4b.bindPopup(popup_7a927b578ca199cc9f61e0be527c7f52)\n",
       "        ;\n",
       "\n",
       "        \n",
       "    \n",
       "    \n",
       "            var marker_9bfc9452172cfeebe588efd262f04ecd = L.marker(\n",
       "                [23.138245258561607, -82.37855093616108],\n",
       "                {\n",
       "}\n",
       "            ).addTo(map_2d5c9f5ad0757b3f2f4dc97ed79838a9);\n",
       "        \n",
       "    \n",
       "            var icon_1656ed5ba71aee24afca7a0bb27d7528 = L.AwesomeMarkers.icon(\n",
       "                {\n",
       "  &quot;markerColor&quot;: &quot;darkblue&quot;,\n",
       "  &quot;iconColor&quot;: &quot;white&quot;,\n",
       "  &quot;icon&quot;: &quot;info-sign&quot;,\n",
       "  &quot;prefix&quot;: &quot;glyphicon&quot;,\n",
       "  &quot;extraClasses&quot;: &quot;fa-rotate-0&quot;,\n",
       "}\n",
       "            );\n",
       "            marker_9bfc9452172cfeebe588efd262f04ecd.setIcon(icon_1656ed5ba71aee24afca7a0bb27d7528);\n",
       "        \n",
       "    \n",
       "        var popup_e80d0e65719ec91ceb4a3885189bb0f0 = L.popup({\n",
       "  &quot;maxWidth&quot;: &quot;100%&quot;,\n",
       "});\n",
       "\n",
       "        \n",
       "            \n",
       "                var html_6f41573701c030bb5ad6caeff1378c2c = $(`&lt;div id=&quot;html_6f41573701c030bb5ad6caeff1378c2c&quot; style=&quot;width: 100.0%; height: 100.0%;&quot;&gt;El Biky&lt;/div&gt;`)[0];\n",
       "                popup_e80d0e65719ec91ceb4a3885189bb0f0.setContent(html_6f41573701c030bb5ad6caeff1378c2c);\n",
       "            \n",
       "        \n",
       "\n",
       "        marker_9bfc9452172cfeebe588efd262f04ecd.bindPopup(popup_e80d0e65719ec91ceb4a3885189bb0f0)\n",
       "        ;\n",
       "\n",
       "        \n",
       "    \n",
       "    \n",
       "            var marker_845daf16ef81f222cb7a3b94b0c75085 = L.marker(\n",
       "                [23.141509790555908, -82.374230422513],\n",
       "                {\n",
       "}\n",
       "            ).addTo(map_2d5c9f5ad0757b3f2f4dc97ed79838a9);\n",
       "        \n",
       "    \n",
       "            var icon_d9a59c5287c0c0b15353fd19e75d445a = L.AwesomeMarkers.icon(\n",
       "                {\n",
       "  &quot;markerColor&quot;: &quot;darkblue&quot;,\n",
       "  &quot;iconColor&quot;: &quot;white&quot;,\n",
       "  &quot;icon&quot;: &quot;info-sign&quot;,\n",
       "  &quot;prefix&quot;: &quot;glyphicon&quot;,\n",
       "  &quot;extraClasses&quot;: &quot;fa-rotate-0&quot;,\n",
       "}\n",
       "            );\n",
       "            marker_845daf16ef81f222cb7a3b94b0c75085.setIcon(icon_d9a59c5287c0c0b15353fd19e75d445a);\n",
       "        \n",
       "    \n",
       "        var popup_40e554437d8e437234f62f163dd4a129 = L.popup({\n",
       "  &quot;maxWidth&quot;: &quot;100%&quot;,\n",
       "});\n",
       "\n",
       "        \n",
       "            \n",
       "                var html_eb3f10e276e95a3d0b1bca6367206dd4 = $(`&lt;div id=&quot;html_eb3f10e276e95a3d0b1bca6367206dd4&quot; style=&quot;width: 100.0%; height: 100.0%;&quot;&gt;El Bleko&lt;/div&gt;`)[0];\n",
       "                popup_40e554437d8e437234f62f163dd4a129.setContent(html_eb3f10e276e95a3d0b1bca6367206dd4);\n",
       "            \n",
       "        \n",
       "\n",
       "        marker_845daf16ef81f222cb7a3b94b0c75085.bindPopup(popup_40e554437d8e437234f62f163dd4a129)\n",
       "        ;\n",
       "\n",
       "        \n",
       "    \n",
       "    \n",
       "            var marker_d4b437bfa6c0c0b33cbcfbb0ccb9f05d = L.marker(\n",
       "                [23.15801520544494, -82.27622310019264],\n",
       "                {\n",
       "}\n",
       "            ).addTo(map_2d5c9f5ad0757b3f2f4dc97ed79838a9);\n",
       "        \n",
       "    \n",
       "            var icon_4d124398f816753b9b6994a3db18ea47 = L.AwesomeMarkers.icon(\n",
       "                {\n",
       "  &quot;markerColor&quot;: &quot;darkblue&quot;,\n",
       "  &quot;iconColor&quot;: &quot;white&quot;,\n",
       "  &quot;icon&quot;: &quot;info-sign&quot;,\n",
       "  &quot;prefix&quot;: &quot;glyphicon&quot;,\n",
       "  &quot;extraClasses&quot;: &quot;fa-rotate-0&quot;,\n",
       "}\n",
       "            );\n",
       "            marker_d4b437bfa6c0c0b33cbcfbb0ccb9f05d.setIcon(icon_4d124398f816753b9b6994a3db18ea47);\n",
       "        \n",
       "    \n",
       "        var popup_4abc2036df36edab9d1ce3bd241e7178 = L.popup({\n",
       "  &quot;maxWidth&quot;: &quot;100%&quot;,\n",
       "});\n",
       "\n",
       "        \n",
       "            \n",
       "                var html_e4cf2204f4d5b9042900e9d4d8310485 = $(`&lt;div id=&quot;html_e4cf2204f4d5b9042900e9d4d8310485&quot; style=&quot;width: 100.0%; height: 100.0%;&quot;&gt;El Chanchullero de Alamar&lt;/div&gt;`)[0];\n",
       "                popup_4abc2036df36edab9d1ce3bd241e7178.setContent(html_e4cf2204f4d5b9042900e9d4d8310485);\n",
       "            \n",
       "        \n",
       "\n",
       "        marker_d4b437bfa6c0c0b33cbcfbb0ccb9f05d.bindPopup(popup_4abc2036df36edab9d1ce3bd241e7178)\n",
       "        ;\n",
       "\n",
       "        \n",
       "    \n",
       "    \n",
       "            var marker_7b584292eeceb411f0fa72f5e96303b1 = L.marker(\n",
       "                [23.047603170195543, -82.25536750725202],\n",
       "                {\n",
       "}\n",
       "            ).addTo(map_2d5c9f5ad0757b3f2f4dc97ed79838a9);\n",
       "        \n",
       "    \n",
       "            var icon_50ab7db414d7f2cac9fe045b77212853 = L.AwesomeMarkers.icon(\n",
       "                {\n",
       "  &quot;markerColor&quot;: &quot;darkblue&quot;,\n",
       "  &quot;iconColor&quot;: &quot;white&quot;,\n",
       "  &quot;icon&quot;: &quot;info-sign&quot;,\n",
       "  &quot;prefix&quot;: &quot;glyphicon&quot;,\n",
       "  &quot;extraClasses&quot;: &quot;fa-rotate-0&quot;,\n",
       "}\n",
       "            );\n",
       "            marker_7b584292eeceb411f0fa72f5e96303b1.setIcon(icon_50ab7db414d7f2cac9fe045b77212853);\n",
       "        \n",
       "    \n",
       "        var popup_02bde1b2b5f365a7a372e0046226ace2 = L.popup({\n",
       "  &quot;maxWidth&quot;: &quot;100%&quot;,\n",
       "});\n",
       "\n",
       "        \n",
       "            \n",
       "                var html_10e664259a2c61ca74fdfd04a2da497e = $(`&lt;div id=&quot;html_10e664259a2c61ca74fdfd04a2da497e&quot; style=&quot;width: 100.0%; height: 100.0%;&quot;&gt;El Cocal&lt;/div&gt;`)[0];\n",
       "                popup_02bde1b2b5f365a7a372e0046226ace2.setContent(html_10e664259a2c61ca74fdfd04a2da497e);\n",
       "            \n",
       "        \n",
       "\n",
       "        marker_7b584292eeceb411f0fa72f5e96303b1.bindPopup(popup_02bde1b2b5f365a7a372e0046226ace2)\n",
       "        ;\n",
       "\n",
       "        \n",
       "    \n",
       "    \n",
       "            var marker_257a99f7a72342201f00968b0a7f8e74 = L.marker(\n",
       "                [23.13868395778652, -82.37729863616106],\n",
       "                {\n",
       "}\n",
       "            ).addTo(map_2d5c9f5ad0757b3f2f4dc97ed79838a9);\n",
       "        \n",
       "    \n",
       "            var icon_1b214ee3c4b937dda7bcd08b6cbc2b69 = L.AwesomeMarkers.icon(\n",
       "                {\n",
       "  &quot;markerColor&quot;: &quot;darkblue&quot;,\n",
       "  &quot;iconColor&quot;: &quot;white&quot;,\n",
       "  &quot;icon&quot;: &quot;info-sign&quot;,\n",
       "  &quot;prefix&quot;: &quot;glyphicon&quot;,\n",
       "  &quot;extraClasses&quot;: &quot;fa-rotate-0&quot;,\n",
       "}\n",
       "            );\n",
       "            marker_257a99f7a72342201f00968b0a7f8e74.setIcon(icon_1b214ee3c4b937dda7bcd08b6cbc2b69);\n",
       "        \n",
       "    \n",
       "        var popup_e6f6c5ab389462d69229fc0e13a716fc = L.popup({\n",
       "  &quot;maxWidth&quot;: &quot;100%&quot;,\n",
       "});\n",
       "\n",
       "        \n",
       "            \n",
       "                var html_84312aaea64ddb42ab71daa8fa9f6bdc = $(`&lt;div id=&quot;html_84312aaea64ddb42ab71daa8fa9f6bdc&quot; style=&quot;width: 100.0%; height: 100.0%;&quot;&gt;El cuarto de Tula&lt;/div&gt;`)[0];\n",
       "                popup_e6f6c5ab389462d69229fc0e13a716fc.setContent(html_84312aaea64ddb42ab71daa8fa9f6bdc);\n",
       "            \n",
       "        \n",
       "\n",
       "        marker_257a99f7a72342201f00968b0a7f8e74.bindPopup(popup_e6f6c5ab389462d69229fc0e13a716fc)\n",
       "        ;\n",
       "\n",
       "        \n",
       "    \n",
       "    \n",
       "            var marker_961068dcee1972a534e624975394242c = L.marker(\n",
       "                [23.044555828697288, -82.24838136423335],\n",
       "                {\n",
       "}\n",
       "            ).addTo(map_2d5c9f5ad0757b3f2f4dc97ed79838a9);\n",
       "        \n",
       "    \n",
       "            var icon_61b96649affa259fdbf41056a0b4710a = L.AwesomeMarkers.icon(\n",
       "                {\n",
       "  &quot;markerColor&quot;: &quot;darkblue&quot;,\n",
       "  &quot;iconColor&quot;: &quot;white&quot;,\n",
       "  &quot;icon&quot;: &quot;info-sign&quot;,\n",
       "  &quot;prefix&quot;: &quot;glyphicon&quot;,\n",
       "  &quot;extraClasses&quot;: &quot;fa-rotate-0&quot;,\n",
       "}\n",
       "            );\n",
       "            marker_961068dcee1972a534e624975394242c.setIcon(icon_61b96649affa259fdbf41056a0b4710a);\n",
       "        \n",
       "    \n",
       "        var popup_e6532a5b3f9030674d1cb5c62ed356ea = L.popup({\n",
       "  &quot;maxWidth&quot;: &quot;100%&quot;,\n",
       "});\n",
       "\n",
       "        \n",
       "            \n",
       "                var html_cc34fb5d33e546f626b3e47ffcc84cc1 = $(`&lt;div id=&quot;html_cc34fb5d33e546f626b3e47ffcc84cc1&quot; style=&quot;width: 100.0%; height: 100.0%;&quot;&gt;El Desafío&lt;/div&gt;`)[0];\n",
       "                popup_e6532a5b3f9030674d1cb5c62ed356ea.setContent(html_cc34fb5d33e546f626b3e47ffcc84cc1);\n",
       "            \n",
       "        \n",
       "\n",
       "        marker_961068dcee1972a534e624975394242c.bindPopup(popup_e6532a5b3f9030674d1cb5c62ed356ea)\n",
       "        ;\n",
       "\n",
       "        \n",
       "    \n",
       "    \n",
       "            var marker_0850a28de56eafc1825f492dc8a73175 = L.marker(\n",
       "                [23.12434231472738, -82.4041494469193],\n",
       "                {\n",
       "}\n",
       "            ).addTo(map_2d5c9f5ad0757b3f2f4dc97ed79838a9);\n",
       "        \n",
       "    \n",
       "            var icon_8568684ceb828553d1d45d7a9361a73e = L.AwesomeMarkers.icon(\n",
       "                {\n",
       "  &quot;markerColor&quot;: &quot;darkblue&quot;,\n",
       "  &quot;iconColor&quot;: &quot;white&quot;,\n",
       "  &quot;icon&quot;: &quot;info-sign&quot;,\n",
       "  &quot;prefix&quot;: &quot;glyphicon&quot;,\n",
       "  &quot;extraClasses&quot;: &quot;fa-rotate-0&quot;,\n",
       "}\n",
       "            );\n",
       "            marker_0850a28de56eafc1825f492dc8a73175.setIcon(icon_8568684ceb828553d1d45d7a9361a73e);\n",
       "        \n",
       "    \n",
       "        var popup_4223e751edcef89f5375016da79e4b51 = L.popup({\n",
       "  &quot;maxWidth&quot;: &quot;100%&quot;,\n",
       "});\n",
       "\n",
       "        \n",
       "            \n",
       "                var html_a1dcfb328c396b306ee39c622c36d4d7 = $(`&lt;div id=&quot;html_a1dcfb328c396b306ee39c622c36d4d7&quot; style=&quot;width: 100.0%; height: 100.0%;&quot;&gt;El Farallón&lt;/div&gt;`)[0];\n",
       "                popup_4223e751edcef89f5375016da79e4b51.setContent(html_a1dcfb328c396b306ee39c622c36d4d7);\n",
       "            \n",
       "        \n",
       "\n",
       "        marker_0850a28de56eafc1825f492dc8a73175.bindPopup(popup_4223e751edcef89f5375016da79e4b51)\n",
       "        ;\n",
       "\n",
       "        \n",
       "    \n",
       "    \n",
       "            var marker_8f35d68c54b9b471a5dcbe11ad6f2da1 = L.marker(\n",
       "                [23.11556412986255, -82.43678182320103],\n",
       "                {\n",
       "}\n",
       "            ).addTo(map_2d5c9f5ad0757b3f2f4dc97ed79838a9);\n",
       "        \n",
       "    \n",
       "            var icon_6142cdd03fc4559398971d0a71d4d97d = L.AwesomeMarkers.icon(\n",
       "                {\n",
       "  &quot;markerColor&quot;: &quot;darkblue&quot;,\n",
       "  &quot;iconColor&quot;: &quot;white&quot;,\n",
       "  &quot;icon&quot;: &quot;info-sign&quot;,\n",
       "  &quot;prefix&quot;: &quot;glyphicon&quot;,\n",
       "  &quot;extraClasses&quot;: &quot;fa-rotate-0&quot;,\n",
       "}\n",
       "            );\n",
       "            marker_8f35d68c54b9b471a5dcbe11ad6f2da1.setIcon(icon_6142cdd03fc4559398971d0a71d4d97d);\n",
       "        \n",
       "    \n",
       "        var popup_39fea4771c314125d9d407f3c0ac6f5e = L.popup({\n",
       "  &quot;maxWidth&quot;: &quot;100%&quot;,\n",
       "});\n",
       "\n",
       "        \n",
       "            \n",
       "                var html_b5ed84a389534aafbc57eb063de97c6d = $(`&lt;div id=&quot;html_b5ed84a389534aafbc57eb063de97c6d&quot; style=&quot;width: 100.0%; height: 100.0%;&quot;&gt;El Gabán&lt;/div&gt;`)[0];\n",
       "                popup_39fea4771c314125d9d407f3c0ac6f5e.setContent(html_b5ed84a389534aafbc57eb063de97c6d);\n",
       "            \n",
       "        \n",
       "\n",
       "        marker_8f35d68c54b9b471a5dcbe11ad6f2da1.bindPopup(popup_39fea4771c314125d9d407f3c0ac6f5e)\n",
       "        ;\n",
       "\n",
       "        \n",
       "    \n",
       "    \n",
       "            var marker_fa8b688ed0faf48893e04f7647e3c4d5 = L.marker(\n",
       "                [23.12937954129776, -82.30898529375422],\n",
       "                {\n",
       "}\n",
       "            ).addTo(map_2d5c9f5ad0757b3f2f4dc97ed79838a9);\n",
       "        \n",
       "    \n",
       "            var icon_6ef86ca148d2ecb3a1bdd2c5c88d1180 = L.AwesomeMarkers.icon(\n",
       "                {\n",
       "  &quot;markerColor&quot;: &quot;darkblue&quot;,\n",
       "  &quot;iconColor&quot;: &quot;white&quot;,\n",
       "  &quot;icon&quot;: &quot;info-sign&quot;,\n",
       "  &quot;prefix&quot;: &quot;glyphicon&quot;,\n",
       "  &quot;extraClasses&quot;: &quot;fa-rotate-0&quot;,\n",
       "}\n",
       "            );\n",
       "            marker_fa8b688ed0faf48893e04f7647e3c4d5.setIcon(icon_6ef86ca148d2ecb3a1bdd2c5c88d1180);\n",
       "        \n",
       "    \n",
       "        var popup_ae7a01e5af074d889e0bf8b419348b25 = L.popup({\n",
       "  &quot;maxWidth&quot;: &quot;100%&quot;,\n",
       "});\n",
       "\n",
       "        \n",
       "            \n",
       "                var html_28043c892c1e3993464d58f4936903ae = $(`&lt;div id=&quot;html_28043c892c1e3993464d58f4936903ae&quot; style=&quot;width: 100.0%; height: 100.0%;&quot;&gt;El Mexicano&lt;/div&gt;`)[0];\n",
       "                popup_ae7a01e5af074d889e0bf8b419348b25.setContent(html_28043c892c1e3993464d58f4936903ae);\n",
       "            \n",
       "        \n",
       "\n",
       "        marker_fa8b688ed0faf48893e04f7647e3c4d5.bindPopup(popup_ae7a01e5af074d889e0bf8b419348b25)\n",
       "        ;\n",
       "\n",
       "        \n",
       "    \n",
       "    \n",
       "            var marker_b192457518ae64e513e72012dc8e5613 = L.marker(\n",
       "                [23.08636901084588, -82.4625362784828],\n",
       "                {\n",
       "}\n",
       "            ).addTo(map_2d5c9f5ad0757b3f2f4dc97ed79838a9);\n",
       "        \n",
       "    \n",
       "            var icon_4df6e8663021efe7b8c31eca5f8e3245 = L.AwesomeMarkers.icon(\n",
       "                {\n",
       "  &quot;markerColor&quot;: &quot;darkblue&quot;,\n",
       "  &quot;iconColor&quot;: &quot;white&quot;,\n",
       "  &quot;icon&quot;: &quot;info-sign&quot;,\n",
       "  &quot;prefix&quot;: &quot;glyphicon&quot;,\n",
       "  &quot;extraClasses&quot;: &quot;fa-rotate-0&quot;,\n",
       "}\n",
       "            );\n",
       "            marker_b192457518ae64e513e72012dc8e5613.setIcon(icon_4df6e8663021efe7b8c31eca5f8e3245);\n",
       "        \n",
       "    \n",
       "        var popup_3cf6266436f37b3f34b2a64fa66f5b84 = L.popup({\n",
       "  &quot;maxWidth&quot;: &quot;100%&quot;,\n",
       "});\n",
       "\n",
       "        \n",
       "            \n",
       "                var html_eacb1c9ed67b10d4054b1df2dbc5d4bd = $(`&lt;div id=&quot;html_eacb1c9ed67b10d4054b1df2dbc5d4bd&quot; style=&quot;width: 100.0%; height: 100.0%;&quot;&gt;El Palenque&lt;/div&gt;`)[0];\n",
       "                popup_3cf6266436f37b3f34b2a64fa66f5b84.setContent(html_eacb1c9ed67b10d4054b1df2dbc5d4bd);\n",
       "            \n",
       "        \n",
       "\n",
       "        marker_b192457518ae64e513e72012dc8e5613.bindPopup(popup_3cf6266436f37b3f34b2a64fa66f5b84)\n",
       "        ;\n",
       "\n",
       "        \n",
       "    \n",
       "    \n",
       "            var marker_da77c0ccff7a9b2dd1f8c93cbb8b6981 = L.marker(\n",
       "                [23.10204562544961, -82.34136591354408],\n",
       "                {\n",
       "}\n",
       "            ).addTo(map_2d5c9f5ad0757b3f2f4dc97ed79838a9);\n",
       "        \n",
       "    \n",
       "            var icon_5464620fc3be1d3bd0b811881ef4cdc3 = L.AwesomeMarkers.icon(\n",
       "                {\n",
       "  &quot;markerColor&quot;: &quot;darkblue&quot;,\n",
       "  &quot;iconColor&quot;: &quot;white&quot;,\n",
       "  &quot;icon&quot;: &quot;info-sign&quot;,\n",
       "  &quot;prefix&quot;: &quot;glyphicon&quot;,\n",
       "  &quot;extraClasses&quot;: &quot;fa-rotate-0&quot;,\n",
       "}\n",
       "            );\n",
       "            marker_da77c0ccff7a9b2dd1f8c93cbb8b6981.setIcon(icon_5464620fc3be1d3bd0b811881ef4cdc3);\n",
       "        \n",
       "    \n",
       "        var popup_dea12d1cc3afab05483c1667f9819ea7 = L.popup({\n",
       "  &quot;maxWidth&quot;: &quot;100%&quot;,\n",
       "});\n",
       "\n",
       "        \n",
       "            \n",
       "                var html_a0697a9ab03247b2e4e689265d0bbc30 = $(`&lt;div id=&quot;html_a0697a9ab03247b2e4e689265d0bbc30&quot; style=&quot;width: 100.0%; height: 100.0%;&quot;&gt;El Pecado&lt;/div&gt;`)[0];\n",
       "                popup_dea12d1cc3afab05483c1667f9819ea7.setContent(html_a0697a9ab03247b2e4e689265d0bbc30);\n",
       "            \n",
       "        \n",
       "\n",
       "        marker_da77c0ccff7a9b2dd1f8c93cbb8b6981.bindPopup(popup_dea12d1cc3afab05483c1667f9819ea7)\n",
       "        ;\n",
       "\n",
       "        \n",
       "    \n",
       "    \n",
       "            var marker_d646dde5a4aca3d99e07288ef07261ca = L.marker(\n",
       "                [23.072260531147528, -82.22660851736715],\n",
       "                {\n",
       "}\n",
       "            ).addTo(map_2d5c9f5ad0757b3f2f4dc97ed79838a9);\n",
       "        \n",
       "    \n",
       "            var icon_3fe82415a36a02df0b0b953002480c25 = L.AwesomeMarkers.icon(\n",
       "                {\n",
       "  &quot;markerColor&quot;: &quot;darkblue&quot;,\n",
       "  &quot;iconColor&quot;: &quot;white&quot;,\n",
       "  &quot;icon&quot;: &quot;info-sign&quot;,\n",
       "  &quot;prefix&quot;: &quot;glyphicon&quot;,\n",
       "  &quot;extraClasses&quot;: &quot;fa-rotate-0&quot;,\n",
       "}\n",
       "            );\n",
       "            marker_d646dde5a4aca3d99e07288ef07261ca.setIcon(icon_3fe82415a36a02df0b0b953002480c25);\n",
       "        \n",
       "    \n",
       "        var popup_62074adb27259757b3323bfc1b278b6e = L.popup({\n",
       "  &quot;maxWidth&quot;: &quot;100%&quot;,\n",
       "});\n",
       "\n",
       "        \n",
       "            \n",
       "                var html_c14e25249cf24a85cd97fff80e43b6dc = $(`&lt;div id=&quot;html_c14e25249cf24a85cd97fff80e43b6dc&quot; style=&quot;width: 100.0%; height: 100.0%;&quot;&gt;El Pellizco&lt;/div&gt;`)[0];\n",
       "                popup_62074adb27259757b3323bfc1b278b6e.setContent(html_c14e25249cf24a85cd97fff80e43b6dc);\n",
       "            \n",
       "        \n",
       "\n",
       "        marker_d646dde5a4aca3d99e07288ef07261ca.bindPopup(popup_62074adb27259757b3323bfc1b278b6e)\n",
       "        ;\n",
       "\n",
       "        \n",
       "    \n",
       "    \n",
       "            var marker_d6a94ba965344566ce57de162b83e976 = L.marker(\n",
       "                [23.124905240397386, -82.42134057564077],\n",
       "                {\n",
       "}\n",
       "            ).addTo(map_2d5c9f5ad0757b3f2f4dc97ed79838a9);\n",
       "        \n",
       "    \n",
       "            var icon_4b0fcf03a781c68a4afd7f53e52ea778 = L.AwesomeMarkers.icon(\n",
       "                {\n",
       "  &quot;markerColor&quot;: &quot;darkblue&quot;,\n",
       "  &quot;iconColor&quot;: &quot;white&quot;,\n",
       "  &quot;icon&quot;: &quot;info-sign&quot;,\n",
       "  &quot;prefix&quot;: &quot;glyphicon&quot;,\n",
       "  &quot;extraClasses&quot;: &quot;fa-rotate-0&quot;,\n",
       "}\n",
       "            );\n",
       "            marker_d6a94ba965344566ce57de162b83e976.setIcon(icon_4b0fcf03a781c68a4afd7f53e52ea778);\n",
       "        \n",
       "    \n",
       "        var popup_70638ad8ce86cd31de7cbdf38b180834 = L.popup({\n",
       "  &quot;maxWidth&quot;: &quot;100%&quot;,\n",
       "});\n",
       "\n",
       "        \n",
       "            \n",
       "                var html_e74bbbe4946d9f6f6b20264cc9e911ca = $(`&lt;div id=&quot;html_e74bbbe4946d9f6f6b20264cc9e911ca&quot; style=&quot;width: 100.0%; height: 100.0%;&quot;&gt;El Tocororo&lt;/div&gt;`)[0];\n",
       "                popup_70638ad8ce86cd31de7cbdf38b180834.setContent(html_e74bbbe4946d9f6f6b20264cc9e911ca);\n",
       "            \n",
       "        \n",
       "\n",
       "        marker_d6a94ba965344566ce57de162b83e976.bindPopup(popup_70638ad8ce86cd31de7cbdf38b180834)\n",
       "        ;\n",
       "\n",
       "        \n",
       "    \n",
       "    \n",
       "            var marker_fbaf2599be572f6e8632b61c02623c4a = L.marker(\n",
       "                [23.08023772075543, -82.32083560917445],\n",
       "                {\n",
       "}\n",
       "            ).addTo(map_2d5c9f5ad0757b3f2f4dc97ed79838a9);\n",
       "        \n",
       "    \n",
       "            var icon_13a5b4be56c5f61457b81f50027c792f = L.AwesomeMarkers.icon(\n",
       "                {\n",
       "  &quot;markerColor&quot;: &quot;darkblue&quot;,\n",
       "  &quot;iconColor&quot;: &quot;white&quot;,\n",
       "  &quot;icon&quot;: &quot;info-sign&quot;,\n",
       "  &quot;prefix&quot;: &quot;glyphicon&quot;,\n",
       "  &quot;extraClasses&quot;: &quot;fa-rotate-0&quot;,\n",
       "}\n",
       "            );\n",
       "            marker_fbaf2599be572f6e8632b61c02623c4a.setIcon(icon_13a5b4be56c5f61457b81f50027c792f);\n",
       "        \n",
       "    \n",
       "        var popup_ab0b590b76696555d5b3d808de26280d = L.popup({\n",
       "  &quot;maxWidth&quot;: &quot;100%&quot;,\n",
       "});\n",
       "\n",
       "        \n",
       "            \n",
       "                var html_7963b1f704ed6d549f3b0c703e4f4b12 = $(`&lt;div id=&quot;html_7963b1f704ed6d549f3b0c703e4f4b12&quot; style=&quot;width: 100.0%; height: 100.0%;&quot;&gt;El Tráfico&lt;/div&gt;`)[0];\n",
       "                popup_ab0b590b76696555d5b3d808de26280d.setContent(html_7963b1f704ed6d549f3b0c703e4f4b12);\n",
       "            \n",
       "        \n",
       "\n",
       "        marker_fbaf2599be572f6e8632b61c02623c4a.bindPopup(popup_ab0b590b76696555d5b3d808de26280d)\n",
       "        ;\n",
       "\n",
       "        \n",
       "    \n",
       "    \n",
       "            var marker_5b55771d406ddb97b4c319cda10e4013 = L.marker(\n",
       "                [23.171538273047627, -82.2534967783034],\n",
       "                {\n",
       "}\n",
       "            ).addTo(map_2d5c9f5ad0757b3f2f4dc97ed79838a9);\n",
       "        \n",
       "    \n",
       "            var icon_4805ff835c14c691d866e02de8756467 = L.AwesomeMarkers.icon(\n",
       "                {\n",
       "  &quot;markerColor&quot;: &quot;darkblue&quot;,\n",
       "  &quot;iconColor&quot;: &quot;white&quot;,\n",
       "  &quot;icon&quot;: &quot;info-sign&quot;,\n",
       "  &quot;prefix&quot;: &quot;glyphicon&quot;,\n",
       "  &quot;extraClasses&quot;: &quot;fa-rotate-0&quot;,\n",
       "}\n",
       "            );\n",
       "            marker_5b55771d406ddb97b4c319cda10e4013.setIcon(icon_4805ff835c14c691d866e02de8756467);\n",
       "        \n",
       "    \n",
       "        var popup_0ad1d2fb3861c1a605b7f6355139b48e = L.popup({\n",
       "  &quot;maxWidth&quot;: &quot;100%&quot;,\n",
       "});\n",
       "\n",
       "        \n",
       "            \n",
       "                var html_9e44b1f4e62cb92d95b8fe4dee2d5e0e = $(`&lt;div id=&quot;html_9e44b1f4e62cb92d95b8fe4dee2d5e0e&quot; style=&quot;width: 100.0%; height: 100.0%;&quot;&gt;El Triangulo&lt;/div&gt;`)[0];\n",
       "                popup_0ad1d2fb3861c1a605b7f6355139b48e.setContent(html_9e44b1f4e62cb92d95b8fe4dee2d5e0e);\n",
       "            \n",
       "        \n",
       "\n",
       "        marker_5b55771d406ddb97b4c319cda10e4013.bindPopup(popup_0ad1d2fb3861c1a605b7f6355139b48e)\n",
       "        ;\n",
       "\n",
       "        \n",
       "    \n",
       "    \n",
       "            var marker_c10810d78608f5eb3d07ad70658e632f = L.marker(\n",
       "                [23.00580536023271, -82.39597846641877],\n",
       "                {\n",
       "}\n",
       "            ).addTo(map_2d5c9f5ad0757b3f2f4dc97ed79838a9);\n",
       "        \n",
       "    \n",
       "            var icon_a0bd2d1bd8a1336d8209ab76229658a1 = L.AwesomeMarkers.icon(\n",
       "                {\n",
       "  &quot;markerColor&quot;: &quot;darkblue&quot;,\n",
       "  &quot;iconColor&quot;: &quot;white&quot;,\n",
       "  &quot;icon&quot;: &quot;info-sign&quot;,\n",
       "  &quot;prefix&quot;: &quot;glyphicon&quot;,\n",
       "  &quot;extraClasses&quot;: &quot;fa-rotate-0&quot;,\n",
       "}\n",
       "            );\n",
       "            marker_c10810d78608f5eb3d07ad70658e632f.setIcon(icon_a0bd2d1bd8a1336d8209ab76229658a1);\n",
       "        \n",
       "    \n",
       "        var popup_55f012bc38e5ed1222d6b5707d2eb755 = L.popup({\n",
       "  &quot;maxWidth&quot;: &quot;100%&quot;,\n",
       "});\n",
       "\n",
       "        \n",
       "            \n",
       "                var html_8c9bdf09fff2320706476dfa113570d9 = $(`&lt;div id=&quot;html_8c9bdf09fff2320706476dfa113570d9&quot; style=&quot;width: 100.0%; height: 100.0%;&quot;&gt;Entabla2&lt;/div&gt;`)[0];\n",
       "                popup_55f012bc38e5ed1222d6b5707d2eb755.setContent(html_8c9bdf09fff2320706476dfa113570d9);\n",
       "            \n",
       "        \n",
       "\n",
       "        marker_c10810d78608f5eb3d07ad70658e632f.bindPopup(popup_55f012bc38e5ed1222d6b5707d2eb755)\n",
       "        ;\n",
       "\n",
       "        \n",
       "    \n",
       "    \n",
       "            var marker_c0842cd99abc068324b79566766fecf3 = L.marker(\n",
       "                [23.142552151033268, -82.39853187833533],\n",
       "                {\n",
       "}\n",
       "            ).addTo(map_2d5c9f5ad0757b3f2f4dc97ed79838a9);\n",
       "        \n",
       "    \n",
       "            var icon_fcedb363cc1bc11c68269add46f7f45e = L.AwesomeMarkers.icon(\n",
       "                {\n",
       "  &quot;markerColor&quot;: &quot;darkblue&quot;,\n",
       "  &quot;iconColor&quot;: &quot;white&quot;,\n",
       "  &quot;icon&quot;: &quot;info-sign&quot;,\n",
       "  &quot;prefix&quot;: &quot;glyphicon&quot;,\n",
       "  &quot;extraClasses&quot;: &quot;fa-rotate-0&quot;,\n",
       "}\n",
       "            );\n",
       "            marker_c0842cd99abc068324b79566766fecf3.setIcon(icon_fcedb363cc1bc11c68269add46f7f45e);\n",
       "        \n",
       "    \n",
       "        var popup_3b119bfcd40e29afc002311a64c0c2ee = L.popup({\n",
       "  &quot;maxWidth&quot;: &quot;100%&quot;,\n",
       "});\n",
       "\n",
       "        \n",
       "            \n",
       "                var html_afec0291ede7a3e6e130788d5a575281 = $(`&lt;div id=&quot;html_afec0291ede7a3e6e130788d5a575281&quot; style=&quot;width: 100.0%; height: 100.0%;&quot;&gt;Esquina D&#x27; Fraile&lt;/div&gt;`)[0];\n",
       "                popup_3b119bfcd40e29afc002311a64c0c2ee.setContent(html_afec0291ede7a3e6e130788d5a575281);\n",
       "            \n",
       "        \n",
       "\n",
       "        marker_c0842cd99abc068324b79566766fecf3.bindPopup(popup_3b119bfcd40e29afc002311a64c0c2ee)\n",
       "        ;\n",
       "\n",
       "        \n",
       "    \n",
       "    \n",
       "            var marker_bb5b0831c37fb0230942018922487a1e = L.marker(\n",
       "                [23.120002043016232, -82.41824799824474],\n",
       "                {\n",
       "}\n",
       "            ).addTo(map_2d5c9f5ad0757b3f2f4dc97ed79838a9);\n",
       "        \n",
       "    \n",
       "            var icon_be9a9c38196c5915057ac9644ed8c796 = L.AwesomeMarkers.icon(\n",
       "                {\n",
       "  &quot;markerColor&quot;: &quot;darkblue&quot;,\n",
       "  &quot;iconColor&quot;: &quot;white&quot;,\n",
       "  &quot;icon&quot;: &quot;info-sign&quot;,\n",
       "  &quot;prefix&quot;: &quot;glyphicon&quot;,\n",
       "  &quot;extraClasses&quot;: &quot;fa-rotate-0&quot;,\n",
       "}\n",
       "            );\n",
       "            marker_bb5b0831c37fb0230942018922487a1e.setIcon(icon_be9a9c38196c5915057ac9644ed8c796);\n",
       "        \n",
       "    \n",
       "        var popup_7b7aab7011f7eae45a4bd8da1d773632 = L.popup({\n",
       "  &quot;maxWidth&quot;: &quot;100%&quot;,\n",
       "});\n",
       "\n",
       "        \n",
       "            \n",
       "                var html_a5cfa10ca0fc6b55e8a7359fed9f2e11 = $(`&lt;div id=&quot;html_a5cfa10ca0fc6b55e8a7359fed9f2e11&quot; style=&quot;width: 100.0%; height: 100.0%;&quot;&gt;Fellini&lt;/div&gt;`)[0];\n",
       "                popup_7b7aab7011f7eae45a4bd8da1d773632.setContent(html_a5cfa10ca0fc6b55e8a7359fed9f2e11);\n",
       "            \n",
       "        \n",
       "\n",
       "        marker_bb5b0831c37fb0230942018922487a1e.bindPopup(popup_7b7aab7011f7eae45a4bd8da1d773632)\n",
       "        ;\n",
       "\n",
       "        \n",
       "    \n",
       "    \n",
       "            var marker_ee8df11f593108bfaf8fd0d6780fcfcf = L.marker(\n",
       "                [23.134776558921473, -82.36387247467647],\n",
       "                {\n",
       "}\n",
       "            ).addTo(map_2d5c9f5ad0757b3f2f4dc97ed79838a9);\n",
       "        \n",
       "    \n",
       "            var icon_b23066b90ed584bf44980481690445b2 = L.AwesomeMarkers.icon(\n",
       "                {\n",
       "  &quot;markerColor&quot;: &quot;darkblue&quot;,\n",
       "  &quot;iconColor&quot;: &quot;white&quot;,\n",
       "  &quot;icon&quot;: &quot;info-sign&quot;,\n",
       "  &quot;prefix&quot;: &quot;glyphicon&quot;,\n",
       "  &quot;extraClasses&quot;: &quot;fa-rotate-0&quot;,\n",
       "}\n",
       "            );\n",
       "            marker_ee8df11f593108bfaf8fd0d6780fcfcf.setIcon(icon_b23066b90ed584bf44980481690445b2);\n",
       "        \n",
       "    \n",
       "        var popup_7fbeeb68639d3ef766fea8d5dbe05e38 = L.popup({\n",
       "  &quot;maxWidth&quot;: &quot;100%&quot;,\n",
       "});\n",
       "\n",
       "        \n",
       "            \n",
       "                var html_fa2b88e089ddd9834638a0fc0539f99a = $(`&lt;div id=&quot;html_fa2b88e089ddd9834638a0fc0539f99a&quot; style=&quot;width: 100.0%; height: 100.0%;&quot;&gt;Fénix Dorado&lt;/div&gt;`)[0];\n",
       "                popup_7fbeeb68639d3ef766fea8d5dbe05e38.setContent(html_fa2b88e089ddd9834638a0fc0539f99a);\n",
       "            \n",
       "        \n",
       "\n",
       "        marker_ee8df11f593108bfaf8fd0d6780fcfcf.bindPopup(popup_7fbeeb68639d3ef766fea8d5dbe05e38)\n",
       "        ;\n",
       "\n",
       "        \n",
       "    \n",
       "    \n",
       "            var marker_44fd2e5357a69c71d5ad5dcbd7f58925 = L.marker(\n",
       "                [23.017771727070862, -82.48798172513514],\n",
       "                {\n",
       "}\n",
       "            ).addTo(map_2d5c9f5ad0757b3f2f4dc97ed79838a9);\n",
       "        \n",
       "    \n",
       "            var icon_95c33120260e42e3f21e4b7d79db85fe = L.AwesomeMarkers.icon(\n",
       "                {\n",
       "  &quot;markerColor&quot;: &quot;darkblue&quot;,\n",
       "  &quot;iconColor&quot;: &quot;white&quot;,\n",
       "  &quot;icon&quot;: &quot;info-sign&quot;,\n",
       "  &quot;prefix&quot;: &quot;glyphicon&quot;,\n",
       "  &quot;extraClasses&quot;: &quot;fa-rotate-0&quot;,\n",
       "}\n",
       "            );\n",
       "            marker_44fd2e5357a69c71d5ad5dcbd7f58925.setIcon(icon_95c33120260e42e3f21e4b7d79db85fe);\n",
       "        \n",
       "    \n",
       "        var popup_1bd4a5a3fa863b608534dbbe68a5769a = L.popup({\n",
       "  &quot;maxWidth&quot;: &quot;100%&quot;,\n",
       "});\n",
       "\n",
       "        \n",
       "            \n",
       "                var html_d989fe207908d09367b4d79c5377f70e = $(`&lt;div id=&quot;html_d989fe207908d09367b4d79c5377f70e&quot; style=&quot;width: 100.0%; height: 100.0%;&quot;&gt;Finca La Pinta&lt;/div&gt;`)[0];\n",
       "                popup_1bd4a5a3fa863b608534dbbe68a5769a.setContent(html_d989fe207908d09367b4d79c5377f70e);\n",
       "            \n",
       "        \n",
       "\n",
       "        marker_44fd2e5357a69c71d5ad5dcbd7f58925.bindPopup(popup_1bd4a5a3fa863b608534dbbe68a5769a)\n",
       "        ;\n",
       "\n",
       "        \n",
       "    \n",
       "    \n",
       "            var marker_e747a10f82808736423ef931081220aa = L.marker(\n",
       "                [23.136227081972006, -82.36206873376179],\n",
       "                {\n",
       "}\n",
       "            ).addTo(map_2d5c9f5ad0757b3f2f4dc97ed79838a9);\n",
       "        \n",
       "    \n",
       "            var icon_a93ff69afb44743fb3f84679c72f0989 = L.AwesomeMarkers.icon(\n",
       "                {\n",
       "  &quot;markerColor&quot;: &quot;darkblue&quot;,\n",
       "  &quot;iconColor&quot;: &quot;white&quot;,\n",
       "  &quot;icon&quot;: &quot;info-sign&quot;,\n",
       "  &quot;prefix&quot;: &quot;glyphicon&quot;,\n",
       "  &quot;extraClasses&quot;: &quot;fa-rotate-0&quot;,\n",
       "}\n",
       "            );\n",
       "            marker_e747a10f82808736423ef931081220aa.setIcon(icon_a93ff69afb44743fb3f84679c72f0989);\n",
       "        \n",
       "    \n",
       "        var popup_05062d554819ce2c9fee8fa2ea2e3c70 = L.popup({\n",
       "  &quot;maxWidth&quot;: &quot;100%&quot;,\n",
       "});\n",
       "\n",
       "        \n",
       "            \n",
       "                var html_1c6ad115940b000775a08d13d73a3c54 = $(`&lt;div id=&quot;html_1c6ad115940b000775a08d13d73a3c54&quot; style=&quot;width: 100.0%; height: 100.0%;&quot;&gt;Fin de Siglo&lt;/div&gt;`)[0];\n",
       "                popup_05062d554819ce2c9fee8fa2ea2e3c70.setContent(html_1c6ad115940b000775a08d13d73a3c54);\n",
       "            \n",
       "        \n",
       "\n",
       "        marker_e747a10f82808736423ef931081220aa.bindPopup(popup_05062d554819ce2c9fee8fa2ea2e3c70)\n",
       "        ;\n",
       "\n",
       "        \n",
       "    \n",
       "    \n",
       "            var marker_070c14d0eda298474bd9f95ff6dd551c = L.marker(\n",
       "                [23.139257303539583, -82.38130662264366],\n",
       "                {\n",
       "}\n",
       "            ).addTo(map_2d5c9f5ad0757b3f2f4dc97ed79838a9);\n",
       "        \n",
       "    \n",
       "            var icon_7830fa1e3676cb0f449531190661b697 = L.AwesomeMarkers.icon(\n",
       "                {\n",
       "  &quot;markerColor&quot;: &quot;darkblue&quot;,\n",
       "  &quot;iconColor&quot;: &quot;white&quot;,\n",
       "  &quot;icon&quot;: &quot;info-sign&quot;,\n",
       "  &quot;prefix&quot;: &quot;glyphicon&quot;,\n",
       "  &quot;extraClasses&quot;: &quot;fa-rotate-0&quot;,\n",
       "}\n",
       "            );\n",
       "            marker_070c14d0eda298474bd9f95ff6dd551c.setIcon(icon_7830fa1e3676cb0f449531190661b697);\n",
       "        \n",
       "    \n",
       "        var popup_bdec47b76e71e34295c2ef8723700882 = L.popup({\n",
       "  &quot;maxWidth&quot;: &quot;100%&quot;,\n",
       "});\n",
       "\n",
       "        \n",
       "            \n",
       "                var html_2ef588d3f2897e424ce1b679ea454a40 = $(`&lt;div id=&quot;html_2ef588d3f2897e424ce1b679ea454a40&quot; style=&quot;width: 100.0%; height: 100.0%;&quot;&gt;Fonda La Paila&lt;/div&gt;`)[0];\n",
       "                popup_bdec47b76e71e34295c2ef8723700882.setContent(html_2ef588d3f2897e424ce1b679ea454a40);\n",
       "            \n",
       "        \n",
       "\n",
       "        marker_070c14d0eda298474bd9f95ff6dd551c.bindPopup(popup_bdec47b76e71e34295c2ef8723700882)\n",
       "        ;\n",
       "\n",
       "        \n",
       "    \n",
       "    \n",
       "            var marker_043a02c390d1822b184566f2d8597bde = L.marker(\n",
       "                [23.10836341952027, -82.43424715134823],\n",
       "                {\n",
       "}\n",
       "            ).addTo(map_2d5c9f5ad0757b3f2f4dc97ed79838a9);\n",
       "        \n",
       "    \n",
       "            var icon_3ac64460b0edcf215bfd1296b9057ee3 = L.AwesomeMarkers.icon(\n",
       "                {\n",
       "  &quot;markerColor&quot;: &quot;darkblue&quot;,\n",
       "  &quot;iconColor&quot;: &quot;white&quot;,\n",
       "  &quot;icon&quot;: &quot;info-sign&quot;,\n",
       "  &quot;prefix&quot;: &quot;glyphicon&quot;,\n",
       "  &quot;extraClasses&quot;: &quot;fa-rotate-0&quot;,\n",
       "}\n",
       "            );\n",
       "            marker_043a02c390d1822b184566f2d8597bde.setIcon(icon_3ac64460b0edcf215bfd1296b9057ee3);\n",
       "        \n",
       "    \n",
       "        var popup_8ab75972f541cecd9af0f454d724a1a5 = L.popup({\n",
       "  &quot;maxWidth&quot;: &quot;100%&quot;,\n",
       "});\n",
       "\n",
       "        \n",
       "            \n",
       "                var html_b617b3cc94a1360f463ee13837646727 = $(`&lt;div id=&quot;html_b617b3cc94a1360f463ee13837646727&quot; style=&quot;width: 100.0%; height: 100.0%;&quot;&gt;Food Master&lt;/div&gt;`)[0];\n",
       "                popup_8ab75972f541cecd9af0f454d724a1a5.setContent(html_b617b3cc94a1360f463ee13837646727);\n",
       "            \n",
       "        \n",
       "\n",
       "        marker_043a02c390d1822b184566f2d8597bde.bindPopup(popup_8ab75972f541cecd9af0f454d724a1a5)\n",
       "        ;\n",
       "\n",
       "        \n",
       "    \n",
       "    \n",
       "            var marker_e900c1505e0545296c54aaec793e9e66 = L.marker(\n",
       "                [23.111808672085502, -82.44090092922819],\n",
       "                {\n",
       "}\n",
       "            ).addTo(map_2d5c9f5ad0757b3f2f4dc97ed79838a9);\n",
       "        \n",
       "    \n",
       "            var icon_1b2ac1cc733c43dabf2756ca59505e4f = L.AwesomeMarkers.icon(\n",
       "                {\n",
       "  &quot;markerColor&quot;: &quot;darkblue&quot;,\n",
       "  &quot;iconColor&quot;: &quot;white&quot;,\n",
       "  &quot;icon&quot;: &quot;info-sign&quot;,\n",
       "  &quot;prefix&quot;: &quot;glyphicon&quot;,\n",
       "  &quot;extraClasses&quot;: &quot;fa-rotate-0&quot;,\n",
       "}\n",
       "            );\n",
       "            marker_e900c1505e0545296c54aaec793e9e66.setIcon(icon_1b2ac1cc733c43dabf2756ca59505e4f);\n",
       "        \n",
       "    \n",
       "        var popup_18ff10b73a4b45361d175c0453ba8aee = L.popup({\n",
       "  &quot;maxWidth&quot;: &quot;100%&quot;,\n",
       "});\n",
       "\n",
       "        \n",
       "            \n",
       "                var html_c81adb3e927d6f77702a2eef26131b4a = $(`&lt;div id=&quot;html_c81adb3e927d6f77702a2eef26131b4a&quot; style=&quot;width: 100.0%; height: 100.0%;&quot;&gt;FoodTruck Pelegrin&lt;/div&gt;`)[0];\n",
       "                popup_18ff10b73a4b45361d175c0453ba8aee.setContent(html_c81adb3e927d6f77702a2eef26131b4a);\n",
       "            \n",
       "        \n",
       "\n",
       "        marker_e900c1505e0545296c54aaec793e9e66.bindPopup(popup_18ff10b73a4b45361d175c0453ba8aee)\n",
       "        ;\n",
       "\n",
       "        \n",
       "    \n",
       "    \n",
       "            var marker_30c3d7fc8c15758f4f8258fb5c1f067b = L.marker(\n",
       "                [23.12226101881169, -82.40508001808305],\n",
       "                {\n",
       "}\n",
       "            ).addTo(map_2d5c9f5ad0757b3f2f4dc97ed79838a9);\n",
       "        \n",
       "    \n",
       "            var icon_4c18ae2493883e8edf6783fb0eb4eec2 = L.AwesomeMarkers.icon(\n",
       "                {\n",
       "  &quot;markerColor&quot;: &quot;darkblue&quot;,\n",
       "  &quot;iconColor&quot;: &quot;white&quot;,\n",
       "  &quot;icon&quot;: &quot;info-sign&quot;,\n",
       "  &quot;prefix&quot;: &quot;glyphicon&quot;,\n",
       "  &quot;extraClasses&quot;: &quot;fa-rotate-0&quot;,\n",
       "}\n",
       "            );\n",
       "            marker_30c3d7fc8c15758f4f8258fb5c1f067b.setIcon(icon_4c18ae2493883e8edf6783fb0eb4eec2);\n",
       "        \n",
       "    \n",
       "        var popup_cc0895fdb354517f7125ca535073fbb9 = L.popup({\n",
       "  &quot;maxWidth&quot;: &quot;100%&quot;,\n",
       "});\n",
       "\n",
       "        \n",
       "            \n",
       "                var html_c28cec8c90cd430ccdbf315b1ccd5bd1 = $(`&lt;div id=&quot;html_c28cec8c90cd430ccdbf315b1ccd5bd1&quot; style=&quot;width: 100.0%; height: 100.0%;&quot;&gt;Fuumiyaki&lt;/div&gt;`)[0];\n",
       "                popup_cc0895fdb354517f7125ca535073fbb9.setContent(html_c28cec8c90cd430ccdbf315b1ccd5bd1);\n",
       "            \n",
       "        \n",
       "\n",
       "        marker_30c3d7fc8c15758f4f8258fb5c1f067b.bindPopup(popup_cc0895fdb354517f7125ca535073fbb9)\n",
       "        ;\n",
       "\n",
       "        \n",
       "    \n",
       "    \n",
       "            var marker_d1facc5a6a002b3d3ab760a3f167c9db = L.marker(\n",
       "                [23.13605979859447, -82.36264764949895],\n",
       "                {\n",
       "}\n",
       "            ).addTo(map_2d5c9f5ad0757b3f2f4dc97ed79838a9);\n",
       "        \n",
       "    \n",
       "            var icon_8e63a563a96ba00df5e8ecad225fe85f = L.AwesomeMarkers.icon(\n",
       "                {\n",
       "  &quot;markerColor&quot;: &quot;darkblue&quot;,\n",
       "  &quot;iconColor&quot;: &quot;white&quot;,\n",
       "  &quot;icon&quot;: &quot;info-sign&quot;,\n",
       "  &quot;prefix&quot;: &quot;glyphicon&quot;,\n",
       "  &quot;extraClasses&quot;: &quot;fa-rotate-0&quot;,\n",
       "}\n",
       "            );\n",
       "            marker_d1facc5a6a002b3d3ab760a3f167c9db.setIcon(icon_8e63a563a96ba00df5e8ecad225fe85f);\n",
       "        \n",
       "    \n",
       "        var popup_fc2e799c827f649738bce6cd91b4a758 = L.popup({\n",
       "  &quot;maxWidth&quot;: &quot;100%&quot;,\n",
       "});\n",
       "\n",
       "        \n",
       "            \n",
       "                var html_02674d667d5dd3759305814b455a5f7c = $(`&lt;div id=&quot;html_02674d667d5dd3759305814b455a5f7c&quot; style=&quot;width: 100.0%; height: 100.0%;&quot;&gt;Galy Café&lt;/div&gt;`)[0];\n",
       "                popup_fc2e799c827f649738bce6cd91b4a758.setContent(html_02674d667d5dd3759305814b455a5f7c);\n",
       "            \n",
       "        \n",
       "\n",
       "        marker_d1facc5a6a002b3d3ab760a3f167c9db.bindPopup(popup_fc2e799c827f649738bce6cd91b4a758)\n",
       "        ;\n",
       "\n",
       "        \n",
       "    \n",
       "    \n",
       "            var marker_6c3701d71a5e10341ef74ba2b346ef34 = L.marker(\n",
       "                [23.137384204567816, -82.30805504947449],\n",
       "                {\n",
       "}\n",
       "            ).addTo(map_2d5c9f5ad0757b3f2f4dc97ed79838a9);\n",
       "        \n",
       "    \n",
       "            var icon_14ca4e89283bc32ad100fc3584e8392a = L.AwesomeMarkers.icon(\n",
       "                {\n",
       "  &quot;markerColor&quot;: &quot;darkblue&quot;,\n",
       "  &quot;iconColor&quot;: &quot;white&quot;,\n",
       "  &quot;icon&quot;: &quot;info-sign&quot;,\n",
       "  &quot;prefix&quot;: &quot;glyphicon&quot;,\n",
       "  &quot;extraClasses&quot;: &quot;fa-rotate-0&quot;,\n",
       "}\n",
       "            );\n",
       "            marker_6c3701d71a5e10341ef74ba2b346ef34.setIcon(icon_14ca4e89283bc32ad100fc3584e8392a);\n",
       "        \n",
       "    \n",
       "        var popup_534403d3ecda25c4579fbba418d2fb58 = L.popup({\n",
       "  &quot;maxWidth&quot;: &quot;100%&quot;,\n",
       "});\n",
       "\n",
       "        \n",
       "            \n",
       "                var html_60051e60870f6b40b8723a54f1df6c79 = $(`&lt;div id=&quot;html_60051e60870f6b40b8723a54f1df6c79&quot; style=&quot;width: 100.0%; height: 100.0%;&quot;&gt;GaraG&lt;/div&gt;`)[0];\n",
       "                popup_534403d3ecda25c4579fbba418d2fb58.setContent(html_60051e60870f6b40b8723a54f1df6c79);\n",
       "            \n",
       "        \n",
       "\n",
       "        marker_6c3701d71a5e10341ef74ba2b346ef34.bindPopup(popup_534403d3ecda25c4579fbba418d2fb58)\n",
       "        ;\n",
       "\n",
       "        \n",
       "    \n",
       "    \n",
       "            var marker_cfd838e29e40be88acfe6aa5f62204e5 = L.marker(\n",
       "                [23.134985027583145, -82.36378331935656],\n",
       "                {\n",
       "}\n",
       "            ).addTo(map_2d5c9f5ad0757b3f2f4dc97ed79838a9);\n",
       "        \n",
       "    \n",
       "            var icon_51f3dc0615b9d20dadbb1562bb5e1f60 = L.AwesomeMarkers.icon(\n",
       "                {\n",
       "  &quot;markerColor&quot;: &quot;darkblue&quot;,\n",
       "  &quot;iconColor&quot;: &quot;white&quot;,\n",
       "  &quot;icon&quot;: &quot;info-sign&quot;,\n",
       "  &quot;prefix&quot;: &quot;glyphicon&quot;,\n",
       "  &quot;extraClasses&quot;: &quot;fa-rotate-0&quot;,\n",
       "}\n",
       "            );\n",
       "            marker_cfd838e29e40be88acfe6aa5f62204e5.setIcon(icon_51f3dc0615b9d20dadbb1562bb5e1f60);\n",
       "        \n",
       "    \n",
       "        var popup_f7ca5fd0c347c899561f4bb37397db85 = L.popup({\n",
       "  &quot;maxWidth&quot;: &quot;100%&quot;,\n",
       "});\n",
       "\n",
       "        \n",
       "            \n",
       "                var html_a31f01041c8b96ed0cd4e5f8726ec0ce = $(`&lt;div id=&quot;html_a31f01041c8b96ed0cd4e5f8726ec0ce&quot; style=&quot;width: 100.0%; height: 100.0%;&quot;&gt;Guang Zhou&lt;/div&gt;`)[0];\n",
       "                popup_f7ca5fd0c347c899561f4bb37397db85.setContent(html_a31f01041c8b96ed0cd4e5f8726ec0ce);\n",
       "            \n",
       "        \n",
       "\n",
       "        marker_cfd838e29e40be88acfe6aa5f62204e5.bindPopup(popup_f7ca5fd0c347c899561f4bb37397db85)\n",
       "        ;\n",
       "\n",
       "        \n",
       "    \n",
       "    \n",
       "            var marker_dc9e41dc0ca9f556c44d6915696113d4 = L.marker(\n",
       "                [23.139273167960297, -82.38864216668844],\n",
       "                {\n",
       "}\n",
       "            ).addTo(map_2d5c9f5ad0757b3f2f4dc97ed79838a9);\n",
       "        \n",
       "    \n",
       "            var icon_6b4063ff6cfc82021297cc1474761bbd = L.AwesomeMarkers.icon(\n",
       "                {\n",
       "  &quot;markerColor&quot;: &quot;darkblue&quot;,\n",
       "  &quot;iconColor&quot;: &quot;white&quot;,\n",
       "  &quot;icon&quot;: &quot;info-sign&quot;,\n",
       "  &quot;prefix&quot;: &quot;glyphicon&quot;,\n",
       "  &quot;extraClasses&quot;: &quot;fa-rotate-0&quot;,\n",
       "}\n",
       "            );\n",
       "            marker_dc9e41dc0ca9f556c44d6915696113d4.setIcon(icon_6b4063ff6cfc82021297cc1474761bbd);\n",
       "        \n",
       "    \n",
       "        var popup_274a8f1b60c8236a9c9360eb38cf96b7 = L.popup({\n",
       "  &quot;maxWidth&quot;: &quot;100%&quot;,\n",
       "});\n",
       "\n",
       "        \n",
       "            \n",
       "                var html_0e3a40295deba055ffa43a7bd88ba408 = $(`&lt;div id=&quot;html_0e3a40295deba055ffa43a7bd88ba408&quot; style=&quot;width: 100.0%; height: 100.0%;&quot;&gt;Habana Blues&lt;/div&gt;`)[0];\n",
       "                popup_274a8f1b60c8236a9c9360eb38cf96b7.setContent(html_0e3a40295deba055ffa43a7bd88ba408);\n",
       "            \n",
       "        \n",
       "\n",
       "        marker_dc9e41dc0ca9f556c44d6915696113d4.bindPopup(popup_274a8f1b60c8236a9c9360eb38cf96b7)\n",
       "        ;\n",
       "\n",
       "        \n",
       "    \n",
       "    \n",
       "            var marker_dd38c5e64b40dfc040484cd34eeda279 = L.marker(\n",
       "                [23.137485628241393, -82.35639192066344],\n",
       "                {\n",
       "}\n",
       "            ).addTo(map_2d5c9f5ad0757b3f2f4dc97ed79838a9);\n",
       "        \n",
       "    \n",
       "            var icon_3e4a1c60dd122c1e2fd2ede49d9defef = L.AwesomeMarkers.icon(\n",
       "                {\n",
       "  &quot;markerColor&quot;: &quot;darkblue&quot;,\n",
       "  &quot;iconColor&quot;: &quot;white&quot;,\n",
       "  &quot;icon&quot;: &quot;info-sign&quot;,\n",
       "  &quot;prefix&quot;: &quot;glyphicon&quot;,\n",
       "  &quot;extraClasses&quot;: &quot;fa-rotate-0&quot;,\n",
       "}\n",
       "            );\n",
       "            marker_dd38c5e64b40dfc040484cd34eeda279.setIcon(icon_3e4a1c60dd122c1e2fd2ede49d9defef);\n",
       "        \n",
       "    \n",
       "        var popup_9e98885e5d605c3a819b4e0b523eaaba = L.popup({\n",
       "  &quot;maxWidth&quot;: &quot;100%&quot;,\n",
       "});\n",
       "\n",
       "        \n",
       "            \n",
       "                var html_2882604fc47d0393400db6cfd3146742 = $(`&lt;div id=&quot;html_2882604fc47d0393400db6cfd3146742&quot; style=&quot;width: 100.0%; height: 100.0%;&quot;&gt;Habana Tokio&lt;/div&gt;`)[0];\n",
       "                popup_9e98885e5d605c3a819b4e0b523eaaba.setContent(html_2882604fc47d0393400db6cfd3146742);\n",
       "            \n",
       "        \n",
       "\n",
       "        marker_dd38c5e64b40dfc040484cd34eeda279.bindPopup(popup_9e98885e5d605c3a819b4e0b523eaaba)\n",
       "        ;\n",
       "\n",
       "        \n",
       "    \n",
       "    \n",
       "            var marker_4c4e62952477d9840ae59ebbfc741b54 = L.marker(\n",
       "                [23.142049436581914, -82.39508647982898],\n",
       "                {\n",
       "}\n",
       "            ).addTo(map_2d5c9f5ad0757b3f2f4dc97ed79838a9);\n",
       "        \n",
       "    \n",
       "            var icon_d115bb541b2defffc2d32989288d930d = L.AwesomeMarkers.icon(\n",
       "                {\n",
       "  &quot;markerColor&quot;: &quot;darkblue&quot;,\n",
       "  &quot;iconColor&quot;: &quot;white&quot;,\n",
       "  &quot;icon&quot;: &quot;info-sign&quot;,\n",
       "  &quot;prefix&quot;: &quot;glyphicon&quot;,\n",
       "  &quot;extraClasses&quot;: &quot;fa-rotate-0&quot;,\n",
       "}\n",
       "            );\n",
       "            marker_4c4e62952477d9840ae59ebbfc741b54.setIcon(icon_d115bb541b2defffc2d32989288d930d);\n",
       "        \n",
       "    \n",
       "        var popup_1e704d8df87e2c6d1396e535bbc17564 = L.popup({\n",
       "  &quot;maxWidth&quot;: &quot;100%&quot;,\n",
       "});\n",
       "\n",
       "        \n",
       "            \n",
       "                var html_8db1572f3e07812058863a348479a62e = $(`&lt;div id=&quot;html_8db1572f3e07812058863a348479a62e&quot; style=&quot;width: 100.0%; height: 100.0%;&quot;&gt;Hábitat&lt;/div&gt;`)[0];\n",
       "                popup_1e704d8df87e2c6d1396e535bbc17564.setContent(html_8db1572f3e07812058863a348479a62e);\n",
       "            \n",
       "        \n",
       "\n",
       "        marker_4c4e62952477d9840ae59ebbfc741b54.bindPopup(popup_1e704d8df87e2c6d1396e535bbc17564)\n",
       "        ;\n",
       "\n",
       "        \n",
       "    \n",
       "    \n",
       "            var marker_d36024c060b50a03cc81b7a0c8f83178 = L.marker(\n",
       "                [23.131235737365408, -82.37630082066377],\n",
       "                {\n",
       "}\n",
       "            ).addTo(map_2d5c9f5ad0757b3f2f4dc97ed79838a9);\n",
       "        \n",
       "    \n",
       "            var icon_f9910d675c38dc802fecc3fce9d94120 = L.AwesomeMarkers.icon(\n",
       "                {\n",
       "  &quot;markerColor&quot;: &quot;darkblue&quot;,\n",
       "  &quot;iconColor&quot;: &quot;white&quot;,\n",
       "  &quot;icon&quot;: &quot;info-sign&quot;,\n",
       "  &quot;prefix&quot;: &quot;glyphicon&quot;,\n",
       "  &quot;extraClasses&quot;: &quot;fa-rotate-0&quot;,\n",
       "}\n",
       "            );\n",
       "            marker_d36024c060b50a03cc81b7a0c8f83178.setIcon(icon_f9910d675c38dc802fecc3fce9d94120);\n",
       "        \n",
       "    \n",
       "        var popup_320b6794a3f1e0423ae54bfef817d0ff = L.popup({\n",
       "  &quot;maxWidth&quot;: &quot;100%&quot;,\n",
       "});\n",
       "\n",
       "        \n",
       "            \n",
       "                var html_81216340ad84b225b35200708ccb7b6a = $(`&lt;div id=&quot;html_81216340ad84b225b35200708ccb7b6a&quot; style=&quot;width: 100.0%; height: 100.0%;&quot;&gt;Hamburgo&lt;/div&gt;`)[0];\n",
       "                popup_320b6794a3f1e0423ae54bfef817d0ff.setContent(html_81216340ad84b225b35200708ccb7b6a);\n",
       "            \n",
       "        \n",
       "\n",
       "        marker_d36024c060b50a03cc81b7a0c8f83178.bindPopup(popup_320b6794a3f1e0423ae54bfef817d0ff)\n",
       "        ;\n",
       "\n",
       "        \n",
       "    \n",
       "    \n",
       "            var marker_ae5fc71456211614e7853cbb36912f66 = L.marker(\n",
       "                [23.157394129476703, -82.28044181790841],\n",
       "                {\n",
       "}\n",
       "            ).addTo(map_2d5c9f5ad0757b3f2f4dc97ed79838a9);\n",
       "        \n",
       "    \n",
       "            var icon_b0fbd5853c4f914e76d9f4c7e45ad165 = L.AwesomeMarkers.icon(\n",
       "                {\n",
       "  &quot;markerColor&quot;: &quot;darkblue&quot;,\n",
       "  &quot;iconColor&quot;: &quot;white&quot;,\n",
       "  &quot;icon&quot;: &quot;info-sign&quot;,\n",
       "  &quot;prefix&quot;: &quot;glyphicon&quot;,\n",
       "  &quot;extraClasses&quot;: &quot;fa-rotate-0&quot;,\n",
       "}\n",
       "            );\n",
       "            marker_ae5fc71456211614e7853cbb36912f66.setIcon(icon_b0fbd5853c4f914e76d9f4c7e45ad165);\n",
       "        \n",
       "    \n",
       "        var popup_bcd897d613226600ac5ba8100c363895 = L.popup({\n",
       "  &quot;maxWidth&quot;: &quot;100%&quot;,\n",
       "});\n",
       "\n",
       "        \n",
       "            \n",
       "                var html_db12b3550af02ad6566033133f19ee27 = $(`&lt;div id=&quot;html_db12b3550af02ad6566033133f19ee27&quot; style=&quot;width: 100.0%; height: 100.0%;&quot;&gt;Ranchon Hanoi&lt;/div&gt;`)[0];\n",
       "                popup_bcd897d613226600ac5ba8100c363895.setContent(html_db12b3550af02ad6566033133f19ee27);\n",
       "            \n",
       "        \n",
       "\n",
       "        marker_ae5fc71456211614e7853cbb36912f66.bindPopup(popup_bcd897d613226600ac5ba8100c363895)\n",
       "        ;\n",
       "\n",
       "        \n",
       "    \n",
       "    \n",
       "            var marker_b15ea6d5ac5142130a66e34b7d172e2d = L.marker(\n",
       "                [23.102013500945667, -82.43068481917766],\n",
       "                {\n",
       "}\n",
       "            ).addTo(map_2d5c9f5ad0757b3f2f4dc97ed79838a9);\n",
       "        \n",
       "    \n",
       "            var icon_d2b86887b714ddd136e3ec47d551a862 = L.AwesomeMarkers.icon(\n",
       "                {\n",
       "  &quot;markerColor&quot;: &quot;darkblue&quot;,\n",
       "  &quot;iconColor&quot;: &quot;white&quot;,\n",
       "  &quot;icon&quot;: &quot;info-sign&quot;,\n",
       "  &quot;prefix&quot;: &quot;glyphicon&quot;,\n",
       "  &quot;extraClasses&quot;: &quot;fa-rotate-0&quot;,\n",
       "}\n",
       "            );\n",
       "            marker_b15ea6d5ac5142130a66e34b7d172e2d.setIcon(icon_d2b86887b714ddd136e3ec47d551a862);\n",
       "        \n",
       "    \n",
       "        var popup_6d703a84c5567c38dc7e10950de2c88c = L.popup({\n",
       "  &quot;maxWidth&quot;: &quot;100%&quot;,\n",
       "});\n",
       "\n",
       "        \n",
       "            \n",
       "                var html_b217d553920700eafc6d9d0efb988052 = $(`&lt;div id=&quot;html_b217d553920700eafc6d9d0efb988052&quot; style=&quot;width: 100.0%; height: 100.0%;&quot;&gt;Home Deli&lt;/div&gt;`)[0];\n",
       "                popup_6d703a84c5567c38dc7e10950de2c88c.setContent(html_b217d553920700eafc6d9d0efb988052);\n",
       "            \n",
       "        \n",
       "\n",
       "        marker_b15ea6d5ac5142130a66e34b7d172e2d.bindPopup(popup_6d703a84c5567c38dc7e10950de2c88c)\n",
       "        ;\n",
       "\n",
       "        \n",
       "    \n",
       "    \n",
       "            var marker_5813fcfb9af9d879bfde01240de337cf = L.marker(\n",
       "                [23.135420733511385, -82.37831753600521],\n",
       "                {\n",
       "}\n",
       "            ).addTo(map_2d5c9f5ad0757b3f2f4dc97ed79838a9);\n",
       "        \n",
       "    \n",
       "            var icon_f7218dc66b89d58fb3ebb8980bc7f6e5 = L.AwesomeMarkers.icon(\n",
       "                {\n",
       "  &quot;markerColor&quot;: &quot;darkblue&quot;,\n",
       "  &quot;iconColor&quot;: &quot;white&quot;,\n",
       "  &quot;icon&quot;: &quot;info-sign&quot;,\n",
       "  &quot;prefix&quot;: &quot;glyphicon&quot;,\n",
       "  &quot;extraClasses&quot;: &quot;fa-rotate-0&quot;,\n",
       "}\n",
       "            );\n",
       "            marker_5813fcfb9af9d879bfde01240de337cf.setIcon(icon_f7218dc66b89d58fb3ebb8980bc7f6e5);\n",
       "        \n",
       "    \n",
       "        var popup_6116a6371e9d5dcc35c90371fbf13ea1 = L.popup({\n",
       "  &quot;maxWidth&quot;: &quot;100%&quot;,\n",
       "});\n",
       "\n",
       "        \n",
       "            \n",
       "                var html_b60b8e8acde489d0df2f1b0b4743205d = $(`&lt;div id=&quot;html_b60b8e8acde489d0df2f1b0b4743205d&quot; style=&quot;width: 100.0%; height: 100.0%;&quot;&gt;Infanta 560&lt;/div&gt;`)[0];\n",
       "                popup_6116a6371e9d5dcc35c90371fbf13ea1.setContent(html_b60b8e8acde489d0df2f1b0b4743205d);\n",
       "            \n",
       "        \n",
       "\n",
       "        marker_5813fcfb9af9d879bfde01240de337cf.bindPopup(popup_6116a6371e9d5dcc35c90371fbf13ea1)\n",
       "        ;\n",
       "\n",
       "        \n",
       "    \n",
       "    \n",
       "            var marker_c5fa1f84b51b9f690f2f7846442818d6 = L.marker(\n",
       "                [23.138905560172887, -82.37656169182799],\n",
       "                {\n",
       "}\n",
       "            ).addTo(map_2d5c9f5ad0757b3f2f4dc97ed79838a9);\n",
       "        \n",
       "    \n",
       "            var icon_188263262b9237266361eb21276947db = L.AwesomeMarkers.icon(\n",
       "                {\n",
       "  &quot;markerColor&quot;: &quot;darkblue&quot;,\n",
       "  &quot;iconColor&quot;: &quot;white&quot;,\n",
       "  &quot;icon&quot;: &quot;info-sign&quot;,\n",
       "  &quot;prefix&quot;: &quot;glyphicon&quot;,\n",
       "  &quot;extraClasses&quot;: &quot;fa-rotate-0&quot;,\n",
       "}\n",
       "            );\n",
       "            marker_c5fa1f84b51b9f690f2f7846442818d6.setIcon(icon_188263262b9237266361eb21276947db);\n",
       "        \n",
       "    \n",
       "        var popup_a9af539f22ebf5baf8181e63dadaae1b = L.popup({\n",
       "  &quot;maxWidth&quot;: &quot;100%&quot;,\n",
       "});\n",
       "\n",
       "        \n",
       "            \n",
       "                var html_76ea0951306dd7503c9c142c04631228 = $(`&lt;div id=&quot;html_76ea0951306dd7503c9c142c04631228&quot; style=&quot;width: 100.0%; height: 100.0%;&quot;&gt;Ivonne Café&lt;/div&gt;`)[0];\n",
       "                popup_a9af539f22ebf5baf8181e63dadaae1b.setContent(html_76ea0951306dd7503c9c142c04631228);\n",
       "            \n",
       "        \n",
       "\n",
       "        marker_c5fa1f84b51b9f690f2f7846442818d6.bindPopup(popup_a9af539f22ebf5baf8181e63dadaae1b)\n",
       "        ;\n",
       "\n",
       "        \n",
       "    \n",
       "    \n",
       "            var marker_b56522c8aed065efbc1b3b04247fe127 = L.marker(\n",
       "                [23.166692944550768, -82.27760819382989],\n",
       "                {\n",
       "}\n",
       "            ).addTo(map_2d5c9f5ad0757b3f2f4dc97ed79838a9);\n",
       "        \n",
       "    \n",
       "            var icon_9522798a2510be417e06faf851abff85 = L.AwesomeMarkers.icon(\n",
       "                {\n",
       "  &quot;markerColor&quot;: &quot;darkblue&quot;,\n",
       "  &quot;iconColor&quot;: &quot;white&quot;,\n",
       "  &quot;icon&quot;: &quot;info-sign&quot;,\n",
       "  &quot;prefix&quot;: &quot;glyphicon&quot;,\n",
       "  &quot;extraClasses&quot;: &quot;fa-rotate-0&quot;,\n",
       "}\n",
       "            );\n",
       "            marker_b56522c8aed065efbc1b3b04247fe127.setIcon(icon_9522798a2510be417e06faf851abff85);\n",
       "        \n",
       "    \n",
       "        var popup_9899973675553dc27079b7783a09fe52 = L.popup({\n",
       "  &quot;maxWidth&quot;: &quot;100%&quot;,\n",
       "});\n",
       "\n",
       "        \n",
       "            \n",
       "                var html_602086e06754a3eac6d1f5bab4d4be1b = $(`&lt;div id=&quot;html_602086e06754a3eac6d1f5bab4d4be1b&quot; style=&quot;width: 100.0%; height: 100.0%;&quot;&gt;JacKafé&lt;/div&gt;`)[0];\n",
       "                popup_9899973675553dc27079b7783a09fe52.setContent(html_602086e06754a3eac6d1f5bab4d4be1b);\n",
       "            \n",
       "        \n",
       "\n",
       "        marker_b56522c8aed065efbc1b3b04247fe127.bindPopup(popup_9899973675553dc27079b7783a09fe52)\n",
       "        ;\n",
       "\n",
       "        \n",
       "    \n",
       "    \n",
       "            var marker_b66066cb8ab09f3193338e915ca0ef7c = L.marker(\n",
       "                [23.08829101929028, -82.3777419915061],\n",
       "                {\n",
       "}\n",
       "            ).addTo(map_2d5c9f5ad0757b3f2f4dc97ed79838a9);\n",
       "        \n",
       "    \n",
       "            var icon_56e6da3dc528e456d62e3ddcd18eb6fa = L.AwesomeMarkers.icon(\n",
       "                {\n",
       "  &quot;markerColor&quot;: &quot;darkblue&quot;,\n",
       "  &quot;iconColor&quot;: &quot;white&quot;,\n",
       "  &quot;icon&quot;: &quot;info-sign&quot;,\n",
       "  &quot;prefix&quot;: &quot;glyphicon&quot;,\n",
       "  &quot;extraClasses&quot;: &quot;fa-rotate-0&quot;,\n",
       "}\n",
       "            );\n",
       "            marker_b66066cb8ab09f3193338e915ca0ef7c.setIcon(icon_56e6da3dc528e456d62e3ddcd18eb6fa);\n",
       "        \n",
       "    \n",
       "        var popup_88cd99ba5e0167b65a518835b72802bc = L.popup({\n",
       "  &quot;maxWidth&quot;: &quot;100%&quot;,\n",
       "});\n",
       "\n",
       "        \n",
       "            \n",
       "                var html_b030d6407ea4b6a1809a13eeb8b9ea25 = $(`&lt;div id=&quot;html_b030d6407ea4b6a1809a13eeb8b9ea25&quot; style=&quot;width: 100.0%; height: 100.0%;&quot;&gt;Joe&#x27;s Burguer&lt;/div&gt;`)[0];\n",
       "                popup_88cd99ba5e0167b65a518835b72802bc.setContent(html_b030d6407ea4b6a1809a13eeb8b9ea25);\n",
       "            \n",
       "        \n",
       "\n",
       "        marker_b66066cb8ab09f3193338e915ca0ef7c.bindPopup(popup_88cd99ba5e0167b65a518835b72802bc)\n",
       "        ;\n",
       "\n",
       "        \n",
       "    \n",
       "    \n",
       "            var marker_ed75657774e632e1a9b88cd783d72b11 = L.marker(\n",
       "                [23.120895150022783, -82.37362585134757],\n",
       "                {\n",
       "}\n",
       "            ).addTo(map_2d5c9f5ad0757b3f2f4dc97ed79838a9);\n",
       "        \n",
       "    \n",
       "            var icon_1787a9fa14552a008af88dd7107e674b = L.AwesomeMarkers.icon(\n",
       "                {\n",
       "  &quot;markerColor&quot;: &quot;darkblue&quot;,\n",
       "  &quot;iconColor&quot;: &quot;white&quot;,\n",
       "  &quot;icon&quot;: &quot;info-sign&quot;,\n",
       "  &quot;prefix&quot;: &quot;glyphicon&quot;,\n",
       "  &quot;extraClasses&quot;: &quot;fa-rotate-0&quot;,\n",
       "}\n",
       "            );\n",
       "            marker_ed75657774e632e1a9b88cd783d72b11.setIcon(icon_1787a9fa14552a008af88dd7107e674b);\n",
       "        \n",
       "    \n",
       "        var popup_d1e10aa979855855bccc1c8a7cf15175 = L.popup({\n",
       "  &quot;maxWidth&quot;: &quot;100%&quot;,\n",
       "});\n",
       "\n",
       "        \n",
       "            \n",
       "                var html_fa1d8d0e9fb4d217a49d0c43f155c5c8 = $(`&lt;div id=&quot;html_fa1d8d0e9fb4d217a49d0c43f155c5c8&quot; style=&quot;width: 100.0%; height: 100.0%;&quot;&gt;Jorgito&#x27;s Pizza&lt;/div&gt;`)[0];\n",
       "                popup_d1e10aa979855855bccc1c8a7cf15175.setContent(html_fa1d8d0e9fb4d217a49d0c43f155c5c8);\n",
       "            \n",
       "        \n",
       "\n",
       "        marker_ed75657774e632e1a9b88cd783d72b11.bindPopup(popup_d1e10aa979855855bccc1c8a7cf15175)\n",
       "        ;\n",
       "\n",
       "        \n",
       "    \n",
       "    \n",
       "            var marker_280638256e90a1d4855d8a6cbd0a200e = L.marker(\n",
       "                [23.130053196144022, -82.41351684242505],\n",
       "                {\n",
       "}\n",
       "            ).addTo(map_2d5c9f5ad0757b3f2f4dc97ed79838a9);\n",
       "        \n",
       "    \n",
       "            var icon_060be5be58b6e63ceb476c25067661b6 = L.AwesomeMarkers.icon(\n",
       "                {\n",
       "  &quot;markerColor&quot;: &quot;darkblue&quot;,\n",
       "  &quot;iconColor&quot;: &quot;white&quot;,\n",
       "  &quot;icon&quot;: &quot;info-sign&quot;,\n",
       "  &quot;prefix&quot;: &quot;glyphicon&quot;,\n",
       "  &quot;extraClasses&quot;: &quot;fa-rotate-0&quot;,\n",
       "}\n",
       "            );\n",
       "            marker_280638256e90a1d4855d8a6cbd0a200e.setIcon(icon_060be5be58b6e63ceb476c25067661b6);\n",
       "        \n",
       "    \n",
       "        var popup_38223363dcbf7d84ba50cb912b44c5a8 = L.popup({\n",
       "  &quot;maxWidth&quot;: &quot;100%&quot;,\n",
       "});\n",
       "\n",
       "        \n",
       "            \n",
       "                var html_d80cb8bcfc5c063a8150ab6d1eaef146 = $(`&lt;div id=&quot;html_d80cb8bcfc5c063a8150ab6d1eaef146&quot; style=&quot;width: 100.0%; height: 100.0%;&quot;&gt;Jota_Jota&lt;/div&gt;`)[0];\n",
       "                popup_38223363dcbf7d84ba50cb912b44c5a8.setContent(html_d80cb8bcfc5c063a8150ab6d1eaef146);\n",
       "            \n",
       "        \n",
       "\n",
       "        marker_280638256e90a1d4855d8a6cbd0a200e.bindPopup(popup_38223363dcbf7d84ba50cb912b44c5a8)\n",
       "        ;\n",
       "\n",
       "        \n",
       "    \n",
       "    \n",
       "            var marker_65a694334bbbe111b6b6fa1f8aeece3d = L.marker(\n",
       "                [23.072350868212965, -82.46030204960273],\n",
       "                {\n",
       "}\n",
       "            ).addTo(map_2d5c9f5ad0757b3f2f4dc97ed79838a9);\n",
       "        \n",
       "    \n",
       "            var icon_e0d291827174bd8bb11e9f0e26a09861 = L.AwesomeMarkers.icon(\n",
       "                {\n",
       "  &quot;markerColor&quot;: &quot;darkblue&quot;,\n",
       "  &quot;iconColor&quot;: &quot;white&quot;,\n",
       "  &quot;icon&quot;: &quot;info-sign&quot;,\n",
       "  &quot;prefix&quot;: &quot;glyphicon&quot;,\n",
       "  &quot;extraClasses&quot;: &quot;fa-rotate-0&quot;,\n",
       "}\n",
       "            );\n",
       "            marker_65a694334bbbe111b6b6fa1f8aeece3d.setIcon(icon_e0d291827174bd8bb11e9f0e26a09861);\n",
       "        \n",
       "    \n",
       "        var popup_a3ca39497ca6905803e6de8a05732221 = L.popup({\n",
       "  &quot;maxWidth&quot;: &quot;100%&quot;,\n",
       "});\n",
       "\n",
       "        \n",
       "            \n",
       "                var html_88c3f9fb39f0fd820a6b703eec1a972b = $(`&lt;div id=&quot;html_88c3f9fb39f0fd820a6b703eec1a972b&quot; style=&quot;width: 100.0%; height: 100.0%;&quot;&gt;Juanky&#x27;s Pan&lt;/div&gt;`)[0];\n",
       "                popup_a3ca39497ca6905803e6de8a05732221.setContent(html_88c3f9fb39f0fd820a6b703eec1a972b);\n",
       "            \n",
       "        \n",
       "\n",
       "        marker_65a694334bbbe111b6b6fa1f8aeece3d.bindPopup(popup_a3ca39497ca6905803e6de8a05732221)\n",
       "        ;\n",
       "\n",
       "        \n",
       "    \n",
       "    \n",
       "            var marker_10ac43f644a876c010312f2ef880a0da = L.marker(\n",
       "                [23.139644726614794, -82.3755633828391],\n",
       "                {\n",
       "}\n",
       "            ).addTo(map_2d5c9f5ad0757b3f2f4dc97ed79838a9);\n",
       "        \n",
       "    \n",
       "            var icon_12a82bf493ac13b6689a64e568df5c41 = L.AwesomeMarkers.icon(\n",
       "                {\n",
       "  &quot;markerColor&quot;: &quot;darkblue&quot;,\n",
       "  &quot;iconColor&quot;: &quot;white&quot;,\n",
       "  &quot;icon&quot;: &quot;info-sign&quot;,\n",
       "  &quot;prefix&quot;: &quot;glyphicon&quot;,\n",
       "  &quot;extraClasses&quot;: &quot;fa-rotate-0&quot;,\n",
       "}\n",
       "            );\n",
       "            marker_10ac43f644a876c010312f2ef880a0da.setIcon(icon_12a82bf493ac13b6689a64e568df5c41);\n",
       "        \n",
       "    \n",
       "        var popup_cb1442872c5ef21927fa58a41751cad1 = L.popup({\n",
       "  &quot;maxWidth&quot;: &quot;100%&quot;,\n",
       "});\n",
       "\n",
       "        \n",
       "            \n",
       "                var html_cdca444654665eabe596ff9f9a1a0526 = $(`&lt;div id=&quot;html_cdca444654665eabe596ff9f9a1a0526&quot; style=&quot;width: 100.0%; height: 100.0%;&quot;&gt;Kasa Takos&lt;/div&gt;`)[0];\n",
       "                popup_cb1442872c5ef21927fa58a41751cad1.setContent(html_cdca444654665eabe596ff9f9a1a0526);\n",
       "            \n",
       "        \n",
       "\n",
       "        marker_10ac43f644a876c010312f2ef880a0da.bindPopup(popup_cb1442872c5ef21927fa58a41751cad1)\n",
       "        ;\n",
       "\n",
       "        \n",
       "    \n",
       "    \n",
       "            var marker_46fac1a8643801da7727fc73786c0403 = L.marker(\n",
       "                [23.006576332931576, -82.39373693105946],\n",
       "                {\n",
       "}\n",
       "            ).addTo(map_2d5c9f5ad0757b3f2f4dc97ed79838a9);\n",
       "        \n",
       "    \n",
       "            var icon_d2e6e3764b2a8e4de93328407cd3b116 = L.AwesomeMarkers.icon(\n",
       "                {\n",
       "  &quot;markerColor&quot;: &quot;darkblue&quot;,\n",
       "  &quot;iconColor&quot;: &quot;white&quot;,\n",
       "  &quot;icon&quot;: &quot;info-sign&quot;,\n",
       "  &quot;prefix&quot;: &quot;glyphicon&quot;,\n",
       "  &quot;extraClasses&quot;: &quot;fa-rotate-0&quot;,\n",
       "}\n",
       "            );\n",
       "            marker_46fac1a8643801da7727fc73786c0403.setIcon(icon_d2e6e3764b2a8e4de93328407cd3b116);\n",
       "        \n",
       "    \n",
       "        var popup_c696d9ce02ab2a2551c072b00270b281 = L.popup({\n",
       "  &quot;maxWidth&quot;: &quot;100%&quot;,\n",
       "});\n",
       "\n",
       "        \n",
       "            \n",
       "                var html_1a3a7204fcb52a37ac851c04e7925520 = $(`&lt;div id=&quot;html_1a3a7204fcb52a37ac851c04e7925520&quot; style=&quot;width: 100.0%; height: 100.0%;&quot;&gt;Kmpary&lt;/div&gt;`)[0];\n",
       "                popup_c696d9ce02ab2a2551c072b00270b281.setContent(html_1a3a7204fcb52a37ac851c04e7925520);\n",
       "            \n",
       "        \n",
       "\n",
       "        marker_46fac1a8643801da7727fc73786c0403.bindPopup(popup_c696d9ce02ab2a2551c072b00270b281)\n",
       "        ;\n",
       "\n",
       "        \n",
       "    \n",
       "    \n",
       "            var marker_d9a31dc89519b40cc28f27e81f17d102 = L.marker(\n",
       "                [23.16957153159522, -82.13720147859289],\n",
       "                {\n",
       "}\n",
       "            ).addTo(map_2d5c9f5ad0757b3f2f4dc97ed79838a9);\n",
       "        \n",
       "    \n",
       "            var icon_5a4be43d363906a2e53946e78fb5830f = L.AwesomeMarkers.icon(\n",
       "                {\n",
       "  &quot;markerColor&quot;: &quot;darkblue&quot;,\n",
       "  &quot;iconColor&quot;: &quot;white&quot;,\n",
       "  &quot;icon&quot;: &quot;info-sign&quot;,\n",
       "  &quot;prefix&quot;: &quot;glyphicon&quot;,\n",
       "  &quot;extraClasses&quot;: &quot;fa-rotate-0&quot;,\n",
       "}\n",
       "            );\n",
       "            marker_d9a31dc89519b40cc28f27e81f17d102.setIcon(icon_5a4be43d363906a2e53946e78fb5830f);\n",
       "        \n",
       "    \n",
       "        var popup_df3bb04e931e9be8a094f8cb123580cb = L.popup({\n",
       "  &quot;maxWidth&quot;: &quot;100%&quot;,\n",
       "});\n",
       "\n",
       "        \n",
       "            \n",
       "                var html_fc693adf2239cdaf73f070f53d6ebb51 = $(`&lt;div id=&quot;html_fc693adf2239cdaf73f070f53d6ebb51&quot; style=&quot;width: 100.0%; height: 100.0%;&quot;&gt;Kopas&lt;/div&gt;`)[0];\n",
       "                popup_df3bb04e931e9be8a094f8cb123580cb.setContent(html_fc693adf2239cdaf73f070f53d6ebb51);\n",
       "            \n",
       "        \n",
       "\n",
       "        marker_d9a31dc89519b40cc28f27e81f17d102.bindPopup(popup_df3bb04e931e9be8a094f8cb123580cb)\n",
       "        ;\n",
       "\n",
       "        \n",
       "    \n",
       "    \n",
       "            var marker_111ed9c751480765f028a0c88038f672 = L.marker(\n",
       "                [23.07978553070381, -82.3203789919885],\n",
       "                {\n",
       "}\n",
       "            ).addTo(map_2d5c9f5ad0757b3f2f4dc97ed79838a9);\n",
       "        \n",
       "    \n",
       "            var icon_a448993b6ae96f41c438fa5028462ea0 = L.AwesomeMarkers.icon(\n",
       "                {\n",
       "  &quot;markerColor&quot;: &quot;darkblue&quot;,\n",
       "  &quot;iconColor&quot;: &quot;white&quot;,\n",
       "  &quot;icon&quot;: &quot;info-sign&quot;,\n",
       "  &quot;prefix&quot;: &quot;glyphicon&quot;,\n",
       "  &quot;extraClasses&quot;: &quot;fa-rotate-0&quot;,\n",
       "}\n",
       "            );\n",
       "            marker_111ed9c751480765f028a0c88038f672.setIcon(icon_a448993b6ae96f41c438fa5028462ea0);\n",
       "        \n",
       "    \n",
       "        var popup_e26a61bda2aa59ea899b804e0861e6c5 = L.popup({\n",
       "  &quot;maxWidth&quot;: &quot;100%&quot;,\n",
       "});\n",
       "\n",
       "        \n",
       "            \n",
       "                var html_f06f9295b963c89927a59a81d88d1895 = $(`&lt;div id=&quot;html_f06f9295b963c89927a59a81d88d1895&quot; style=&quot;width: 100.0%; height: 100.0%;&quot;&gt;KY-13&lt;/div&gt;`)[0];\n",
       "                popup_e26a61bda2aa59ea899b804e0861e6c5.setContent(html_f06f9295b963c89927a59a81d88d1895);\n",
       "            \n",
       "        \n",
       "\n",
       "        marker_111ed9c751480765f028a0c88038f672.bindPopup(popup_e26a61bda2aa59ea899b804e0861e6c5)\n",
       "        ;\n",
       "\n",
       "        \n",
       "    \n",
       "    \n",
       "            var marker_a1dfb45d0a82d11418037efddaeb69a1 = L.marker(\n",
       "                [23.121985720348754, -82.3738952629934],\n",
       "                {\n",
       "}\n",
       "            ).addTo(map_2d5c9f5ad0757b3f2f4dc97ed79838a9);\n",
       "        \n",
       "    \n",
       "            var icon_1fda3ef92265030039988154bec990ed = L.AwesomeMarkers.icon(\n",
       "                {\n",
       "  &quot;markerColor&quot;: &quot;darkblue&quot;,\n",
       "  &quot;iconColor&quot;: &quot;white&quot;,\n",
       "  &quot;icon&quot;: &quot;info-sign&quot;,\n",
       "  &quot;prefix&quot;: &quot;glyphicon&quot;,\n",
       "  &quot;extraClasses&quot;: &quot;fa-rotate-0&quot;,\n",
       "}\n",
       "            );\n",
       "            marker_a1dfb45d0a82d11418037efddaeb69a1.setIcon(icon_1fda3ef92265030039988154bec990ed);\n",
       "        \n",
       "    \n",
       "        var popup_40b59998f04d4f883a7933d8a404511b = L.popup({\n",
       "  &quot;maxWidth&quot;: &quot;100%&quot;,\n",
       "});\n",
       "\n",
       "        \n",
       "            \n",
       "                var html_0c1cf22511ae8912330a77cec7c66dd2 = $(`&lt;div id=&quot;html_0c1cf22511ae8912330a77cec7c66dd2&quot; style=&quot;width: 100.0%; height: 100.0%;&quot;&gt;La Barrita Onbazar&lt;/div&gt;`)[0];\n",
       "                popup_40b59998f04d4f883a7933d8a404511b.setContent(html_0c1cf22511ae8912330a77cec7c66dd2);\n",
       "            \n",
       "        \n",
       "\n",
       "        marker_a1dfb45d0a82d11418037efddaeb69a1.bindPopup(popup_40b59998f04d4f883a7933d8a404511b)\n",
       "        ;\n",
       "\n",
       "        \n",
       "    \n",
       "    \n",
       "            var marker_718d9e3bec7c72096c13eaa369e1cacd = L.marker(\n",
       "                [23.13993175557732, -82.38537118924619],\n",
       "                {\n",
       "}\n",
       "            ).addTo(map_2d5c9f5ad0757b3f2f4dc97ed79838a9);\n",
       "        \n",
       "    \n",
       "            var icon_768a429740bf01b4788fa660d2f22a7e = L.AwesomeMarkers.icon(\n",
       "                {\n",
       "  &quot;markerColor&quot;: &quot;darkblue&quot;,\n",
       "  &quot;iconColor&quot;: &quot;white&quot;,\n",
       "  &quot;icon&quot;: &quot;info-sign&quot;,\n",
       "  &quot;prefix&quot;: &quot;glyphicon&quot;,\n",
       "  &quot;extraClasses&quot;: &quot;fa-rotate-0&quot;,\n",
       "}\n",
       "            );\n",
       "            marker_718d9e3bec7c72096c13eaa369e1cacd.setIcon(icon_768a429740bf01b4788fa660d2f22a7e);\n",
       "        \n",
       "    \n",
       "        var popup_a9bfc376af90855bcd52204ce43f4b47 = L.popup({\n",
       "  &quot;maxWidth&quot;: &quot;100%&quot;,\n",
       "});\n",
       "\n",
       "        \n",
       "            \n",
       "                var html_05c3b2ff036cb2ca4a773042f30d3c19 = $(`&lt;div id=&quot;html_05c3b2ff036cb2ca4a773042f30d3c19&quot; style=&quot;width: 100.0%; height: 100.0%;&quot;&gt;La Carreta&lt;/div&gt;`)[0];\n",
       "                popup_a9bfc376af90855bcd52204ce43f4b47.setContent(html_05c3b2ff036cb2ca4a773042f30d3c19);\n",
       "            \n",
       "        \n",
       "\n",
       "        marker_718d9e3bec7c72096c13eaa369e1cacd.bindPopup(popup_a9bfc376af90855bcd52204ce43f4b47)\n",
       "        ;\n",
       "\n",
       "        \n",
       "    \n",
       "    \n",
       "            var marker_5940653346a6a7bb8bf161095d4fde79 = L.marker(\n",
       "                [23.135892638151837, -82.40453312083959],\n",
       "                {\n",
       "}\n",
       "            ).addTo(map_2d5c9f5ad0757b3f2f4dc97ed79838a9);\n",
       "        \n",
       "    \n",
       "            var icon_c3f3196563cc7f488327ec0466892a26 = L.AwesomeMarkers.icon(\n",
       "                {\n",
       "  &quot;markerColor&quot;: &quot;darkblue&quot;,\n",
       "  &quot;iconColor&quot;: &quot;white&quot;,\n",
       "  &quot;icon&quot;: &quot;info-sign&quot;,\n",
       "  &quot;prefix&quot;: &quot;glyphicon&quot;,\n",
       "  &quot;extraClasses&quot;: &quot;fa-rotate-0&quot;,\n",
       "}\n",
       "            );\n",
       "            marker_5940653346a6a7bb8bf161095d4fde79.setIcon(icon_c3f3196563cc7f488327ec0466892a26);\n",
       "        \n",
       "    \n",
       "        var popup_d04feef7259fd86f608e349fea3764d6 = L.popup({\n",
       "  &quot;maxWidth&quot;: &quot;100%&quot;,\n",
       "});\n",
       "\n",
       "        \n",
       "            \n",
       "                var html_8ea1385e343464d6c4b9e420ce3317d6 = $(`&lt;div id=&quot;html_8ea1385e343464d6c4b9e420ce3317d6&quot; style=&quot;width: 100.0%; height: 100.0%;&quot;&gt;La Catedral&lt;/div&gt;`)[0];\n",
       "                popup_d04feef7259fd86f608e349fea3764d6.setContent(html_8ea1385e343464d6c4b9e420ce3317d6);\n",
       "            \n",
       "        \n",
       "\n",
       "        marker_5940653346a6a7bb8bf161095d4fde79.bindPopup(popup_d04feef7259fd86f608e349fea3764d6)\n",
       "        ;\n",
       "\n",
       "        \n",
       "    \n",
       "    \n",
       "            var marker_a42f69248ebd1837741d0777c7cd8c12 = L.marker(\n",
       "                [23.10190135728949, -82.37499586631485],\n",
       "                {\n",
       "}\n",
       "            ).addTo(map_2d5c9f5ad0757b3f2f4dc97ed79838a9);\n",
       "        \n",
       "    \n",
       "            var icon_9061fb34a85129f4d298071b1a1f4f0f = L.AwesomeMarkers.icon(\n",
       "                {\n",
       "  &quot;markerColor&quot;: &quot;darkblue&quot;,\n",
       "  &quot;iconColor&quot;: &quot;white&quot;,\n",
       "  &quot;icon&quot;: &quot;info-sign&quot;,\n",
       "  &quot;prefix&quot;: &quot;glyphicon&quot;,\n",
       "  &quot;extraClasses&quot;: &quot;fa-rotate-0&quot;,\n",
       "}\n",
       "            );\n",
       "            marker_a42f69248ebd1837741d0777c7cd8c12.setIcon(icon_9061fb34a85129f4d298071b1a1f4f0f);\n",
       "        \n",
       "    \n",
       "        var popup_621a01f7083f7b89bc922f2694d8fa40 = L.popup({\n",
       "  &quot;maxWidth&quot;: &quot;100%&quot;,\n",
       "});\n",
       "\n",
       "        \n",
       "            \n",
       "                var html_73757ffb1967cdcd745d0d3adc0891f5 = $(`&lt;div id=&quot;html_73757ffb1967cdcd745d0d3adc0891f5&quot; style=&quot;width: 100.0%; height: 100.0%;&quot;&gt;Lacret 559&lt;/div&gt;`)[0];\n",
       "                popup_621a01f7083f7b89bc922f2694d8fa40.setContent(html_73757ffb1967cdcd745d0d3adc0891f5);\n",
       "            \n",
       "        \n",
       "\n",
       "        marker_a42f69248ebd1837741d0777c7cd8c12.bindPopup(popup_621a01f7083f7b89bc922f2694d8fa40)\n",
       "        ;\n",
       "\n",
       "        \n",
       "    \n",
       "    \n",
       "            var marker_d798386c9ac173162ac441ae35e7c947 = L.marker(\n",
       "                [23.124529609158262, -82.3276779397017],\n",
       "                {\n",
       "}\n",
       "            ).addTo(map_2d5c9f5ad0757b3f2f4dc97ed79838a9);\n",
       "        \n",
       "    \n",
       "            var icon_79e3431e0a2cfa7929e45c338eb27fb7 = L.AwesomeMarkers.icon(\n",
       "                {\n",
       "  &quot;markerColor&quot;: &quot;darkblue&quot;,\n",
       "  &quot;iconColor&quot;: &quot;white&quot;,\n",
       "  &quot;icon&quot;: &quot;info-sign&quot;,\n",
       "  &quot;prefix&quot;: &quot;glyphicon&quot;,\n",
       "  &quot;extraClasses&quot;: &quot;fa-rotate-0&quot;,\n",
       "}\n",
       "            );\n",
       "            marker_d798386c9ac173162ac441ae35e7c947.setIcon(icon_79e3431e0a2cfa7929e45c338eb27fb7);\n",
       "        \n",
       "    \n",
       "        var popup_95709fd65c19356ab2ef22f946621db7 = L.popup({\n",
       "  &quot;maxWidth&quot;: &quot;100%&quot;,\n",
       "});\n",
       "\n",
       "        \n",
       "            \n",
       "                var html_150e3c34e047eced2e0729ce61d1ce2c = $(`&lt;div id=&quot;html_150e3c34e047eced2e0729ce61d1ce2c&quot; style=&quot;width: 100.0%; height: 100.0%;&quot;&gt;La Guitarreta&lt;/div&gt;`)[0];\n",
       "                popup_95709fd65c19356ab2ef22f946621db7.setContent(html_150e3c34e047eced2e0729ce61d1ce2c);\n",
       "            \n",
       "        \n",
       "\n",
       "        marker_d798386c9ac173162ac441ae35e7c947.bindPopup(popup_95709fd65c19356ab2ef22f946621db7)\n",
       "        ;\n",
       "\n",
       "        \n",
       "    \n",
       "    \n",
       "            var marker_b1ea22f62a9b0db93e4cfd9937de820e = L.marker(\n",
       "                [23.135543401312233, -82.3644565648407],\n",
       "                {\n",
       "}\n",
       "            ).addTo(map_2d5c9f5ad0757b3f2f4dc97ed79838a9);\n",
       "        \n",
       "    \n",
       "            var icon_ea2ed8abe3970627047b068871e38a54 = L.AwesomeMarkers.icon(\n",
       "                {\n",
       "  &quot;markerColor&quot;: &quot;darkblue&quot;,\n",
       "  &quot;iconColor&quot;: &quot;white&quot;,\n",
       "  &quot;icon&quot;: &quot;info-sign&quot;,\n",
       "  &quot;prefix&quot;: &quot;glyphicon&quot;,\n",
       "  &quot;extraClasses&quot;: &quot;fa-rotate-0&quot;,\n",
       "}\n",
       "            );\n",
       "            marker_b1ea22f62a9b0db93e4cfd9937de820e.setIcon(icon_ea2ed8abe3970627047b068871e38a54);\n",
       "        \n",
       "    \n",
       "        var popup_d332a7a604a466a45403db867cda3924 = L.popup({\n",
       "  &quot;maxWidth&quot;: &quot;100%&quot;,\n",
       "});\n",
       "\n",
       "        \n",
       "            \n",
       "                var html_c6bd93978d6ed8d95999caa9cf04aa4e = $(`&lt;div id=&quot;html_c6bd93978d6ed8d95999caa9cf04aa4e&quot; style=&quot;width: 100.0%; height: 100.0%;&quot;&gt;La Juliana&lt;/div&gt;`)[0];\n",
       "                popup_d332a7a604a466a45403db867cda3924.setContent(html_c6bd93978d6ed8d95999caa9cf04aa4e);\n",
       "            \n",
       "        \n",
       "\n",
       "        marker_b1ea22f62a9b0db93e4cfd9937de820e.bindPopup(popup_d332a7a604a466a45403db867cda3924)\n",
       "        ;\n",
       "\n",
       "        \n",
       "    \n",
       "    \n",
       "            var marker_c009b8c0af7e4c22f13433f67bab8be3 = L.marker(\n",
       "                [23.11990973944172, -82.38314468033592],\n",
       "                {\n",
       "}\n",
       "            ).addTo(map_2d5c9f5ad0757b3f2f4dc97ed79838a9);\n",
       "        \n",
       "    \n",
       "            var icon_a9af3603144374bdab9166699dd73948 = L.AwesomeMarkers.icon(\n",
       "                {\n",
       "  &quot;markerColor&quot;: &quot;darkblue&quot;,\n",
       "  &quot;iconColor&quot;: &quot;white&quot;,\n",
       "  &quot;icon&quot;: &quot;info-sign&quot;,\n",
       "  &quot;prefix&quot;: &quot;glyphicon&quot;,\n",
       "  &quot;extraClasses&quot;: &quot;fa-rotate-0&quot;,\n",
       "}\n",
       "            );\n",
       "            marker_c009b8c0af7e4c22f13433f67bab8be3.setIcon(icon_a9af3603144374bdab9166699dd73948);\n",
       "        \n",
       "    \n",
       "        var popup_13ff47391eb4518576984f81b6ae2aa2 = L.popup({\n",
       "  &quot;maxWidth&quot;: &quot;100%&quot;,\n",
       "});\n",
       "\n",
       "        \n",
       "            \n",
       "                var html_110a3c14959db2454238efe9a4fba0d3 = $(`&lt;div id=&quot;html_110a3c14959db2454238efe9a4fba0d3&quot; style=&quot;width: 100.0%; height: 100.0%;&quot;&gt;La Lola&lt;/div&gt;`)[0];\n",
       "                popup_13ff47391eb4518576984f81b6ae2aa2.setContent(html_110a3c14959db2454238efe9a4fba0d3);\n",
       "            \n",
       "        \n",
       "\n",
       "        marker_c009b8c0af7e4c22f13433f67bab8be3.bindPopup(popup_13ff47391eb4518576984f81b6ae2aa2)\n",
       "        ;\n",
       "\n",
       "        \n",
       "    \n",
       "    \n",
       "            var marker_77a4eea2cbcf9c8a59a6a3ee087916e9 = L.marker(\n",
       "                [23.134370150762123, -82.3682591198702],\n",
       "                {\n",
       "}\n",
       "            ).addTo(map_2d5c9f5ad0757b3f2f4dc97ed79838a9);\n",
       "        \n",
       "    \n",
       "            var icon_a948263ed89e5cc59aaed9399f3e863a = L.AwesomeMarkers.icon(\n",
       "                {\n",
       "  &quot;markerColor&quot;: &quot;darkblue&quot;,\n",
       "  &quot;iconColor&quot;: &quot;white&quot;,\n",
       "  &quot;icon&quot;: &quot;info-sign&quot;,\n",
       "  &quot;prefix&quot;: &quot;glyphicon&quot;,\n",
       "  &quot;extraClasses&quot;: &quot;fa-rotate-0&quot;,\n",
       "}\n",
       "            );\n",
       "            marker_77a4eea2cbcf9c8a59a6a3ee087916e9.setIcon(icon_a948263ed89e5cc59aaed9399f3e863a);\n",
       "        \n",
       "    \n",
       "        var popup_2c5aa0a14318ea00c6d2ce3b29b32319 = L.popup({\n",
       "  &quot;maxWidth&quot;: &quot;100%&quot;,\n",
       "});\n",
       "\n",
       "        \n",
       "            \n",
       "                var html_67d4e72ed85abe014b481bf1c5544b52 = $(`&lt;div id=&quot;html_67d4e72ed85abe014b481bf1c5544b52&quot; style=&quot;width: 100.0%; height: 100.0%;&quot;&gt;Mimosa&lt;/div&gt;`)[0];\n",
       "                popup_2c5aa0a14318ea00c6d2ce3b29b32319.setContent(html_67d4e72ed85abe014b481bf1c5544b52);\n",
       "            \n",
       "        \n",
       "\n",
       "        marker_77a4eea2cbcf9c8a59a6a3ee087916e9.bindPopup(popup_2c5aa0a14318ea00c6d2ce3b29b32319)\n",
       "        ;\n",
       "\n",
       "        \n",
       "    \n",
       "    \n",
       "            var marker_b16c788e28d54c9e8c10bc0f67947003 = L.marker(\n",
       "                [23.127810894630507, -82.39959798623943],\n",
       "                {\n",
       "}\n",
       "            ).addTo(map_2d5c9f5ad0757b3f2f4dc97ed79838a9);\n",
       "        \n",
       "    \n",
       "            var icon_0c40d1139bb52c610216312e7f8d5663 = L.AwesomeMarkers.icon(\n",
       "                {\n",
       "  &quot;markerColor&quot;: &quot;darkblue&quot;,\n",
       "  &quot;iconColor&quot;: &quot;white&quot;,\n",
       "  &quot;icon&quot;: &quot;info-sign&quot;,\n",
       "  &quot;prefix&quot;: &quot;glyphicon&quot;,\n",
       "  &quot;extraClasses&quot;: &quot;fa-rotate-0&quot;,\n",
       "}\n",
       "            );\n",
       "            marker_b16c788e28d54c9e8c10bc0f67947003.setIcon(icon_0c40d1139bb52c610216312e7f8d5663);\n",
       "        \n",
       "    \n",
       "        var popup_e89387b002988eb6250f28c9b5ff5d78 = L.popup({\n",
       "  &quot;maxWidth&quot;: &quot;100%&quot;,\n",
       "});\n",
       "\n",
       "        \n",
       "            \n",
       "                var html_4973694563eff09b4a29ef52f6ffe1df = $(`&lt;div id=&quot;html_4973694563eff09b4a29ef52f6ffe1df&quot; style=&quot;width: 100.0%; height: 100.0%;&quot;&gt;La Pelota&lt;/div&gt;`)[0];\n",
       "                popup_e89387b002988eb6250f28c9b5ff5d78.setContent(html_4973694563eff09b4a29ef52f6ffe1df);\n",
       "            \n",
       "        \n",
       "\n",
       "        marker_b16c788e28d54c9e8c10bc0f67947003.bindPopup(popup_e89387b002988eb6250f28c9b5ff5d78)\n",
       "        ;\n",
       "\n",
       "        \n",
       "    \n",
       "    \n",
       "            var marker_a1c4b76661cb0775ad45670700eb5807 = L.marker(\n",
       "                [23.1055829712021, -82.35832236452364],\n",
       "                {\n",
       "}\n",
       "            ).addTo(map_2d5c9f5ad0757b3f2f4dc97ed79838a9);\n",
       "        \n",
       "    \n",
       "            var icon_1e0966f62a64d71765a037d28c2aadba = L.AwesomeMarkers.icon(\n",
       "                {\n",
       "  &quot;markerColor&quot;: &quot;darkblue&quot;,\n",
       "  &quot;iconColor&quot;: &quot;white&quot;,\n",
       "  &quot;icon&quot;: &quot;info-sign&quot;,\n",
       "  &quot;prefix&quot;: &quot;glyphicon&quot;,\n",
       "  &quot;extraClasses&quot;: &quot;fa-rotate-0&quot;,\n",
       "}\n",
       "            );\n",
       "            marker_a1c4b76661cb0775ad45670700eb5807.setIcon(icon_1e0966f62a64d71765a037d28c2aadba);\n",
       "        \n",
       "    \n",
       "        var popup_ac98733e8d3d0f24e06539fd87c278f6 = L.popup({\n",
       "  &quot;maxWidth&quot;: &quot;100%&quot;,\n",
       "});\n",
       "\n",
       "        \n",
       "            \n",
       "                var html_7cd88aa369d4949ce997dd946e308a45 = $(`&lt;div id=&quot;html_7cd88aa369d4949ce997dd946e308a45&quot; style=&quot;width: 100.0%; height: 100.0%;&quot;&gt;La Ronda&lt;/div&gt;`)[0];\n",
       "                popup_ac98733e8d3d0f24e06539fd87c278f6.setContent(html_7cd88aa369d4949ce997dd946e308a45);\n",
       "            \n",
       "        \n",
       "\n",
       "        marker_a1c4b76661cb0775ad45670700eb5807.bindPopup(popup_ac98733e8d3d0f24e06539fd87c278f6)\n",
       "        ;\n",
       "\n",
       "        \n",
       "    \n",
       "    \n",
       "            var marker_f7cf64c5b1b5aba5f9346b6c57ae142b = L.marker(\n",
       "                [23.11469533090789, -82.38140701647916],\n",
       "                {\n",
       "}\n",
       "            ).addTo(map_2d5c9f5ad0757b3f2f4dc97ed79838a9);\n",
       "        \n",
       "    \n",
       "            var icon_7fe8fb8901bd0a17f40ef30baa3da585 = L.AwesomeMarkers.icon(\n",
       "                {\n",
       "  &quot;markerColor&quot;: &quot;darkblue&quot;,\n",
       "  &quot;iconColor&quot;: &quot;white&quot;,\n",
       "  &quot;icon&quot;: &quot;info-sign&quot;,\n",
       "  &quot;prefix&quot;: &quot;glyphicon&quot;,\n",
       "  &quot;extraClasses&quot;: &quot;fa-rotate-0&quot;,\n",
       "}\n",
       "            );\n",
       "            marker_f7cf64c5b1b5aba5f9346b6c57ae142b.setIcon(icon_7fe8fb8901bd0a17f40ef30baa3da585);\n",
       "        \n",
       "    \n",
       "        var popup_aeec406be37df213994a232af5714485 = L.popup({\n",
       "  &quot;maxWidth&quot;: &quot;100%&quot;,\n",
       "});\n",
       "\n",
       "        \n",
       "            \n",
       "                var html_e6320633b2c43c909266cbeadadaf650 = $(`&lt;div id=&quot;html_e6320633b2c43c909266cbeadadaf650&quot; style=&quot;width: 100.0%; height: 100.0%;&quot;&gt;La Casona del Cerro&lt;/div&gt;`)[0];\n",
       "                popup_aeec406be37df213994a232af5714485.setContent(html_e6320633b2c43c909266cbeadadaf650);\n",
       "            \n",
       "        \n",
       "\n",
       "        marker_f7cf64c5b1b5aba5f9346b6c57ae142b.bindPopup(popup_aeec406be37df213994a232af5714485)\n",
       "        ;\n",
       "\n",
       "        \n",
       "    \n",
       "    \n",
       "            var marker_36cce3fbacfbbd1d46147edb9debf918 = L.marker(\n",
       "                [23.105644168847277, -82.44212999530603],\n",
       "                {\n",
       "}\n",
       "            ).addTo(map_2d5c9f5ad0757b3f2f4dc97ed79838a9);\n",
       "        \n",
       "    \n",
       "            var icon_aa5f0a6884d16d933feea39e3893a951 = L.AwesomeMarkers.icon(\n",
       "                {\n",
       "  &quot;markerColor&quot;: &quot;darkblue&quot;,\n",
       "  &quot;iconColor&quot;: &quot;white&quot;,\n",
       "  &quot;icon&quot;: &quot;info-sign&quot;,\n",
       "  &quot;prefix&quot;: &quot;glyphicon&quot;,\n",
       "  &quot;extraClasses&quot;: &quot;fa-rotate-0&quot;,\n",
       "}\n",
       "            );\n",
       "            marker_36cce3fbacfbbd1d46147edb9debf918.setIcon(icon_aa5f0a6884d16d933feea39e3893a951);\n",
       "        \n",
       "    \n",
       "        var popup_107eaaa3d330d4087b36e8bf16630807 = L.popup({\n",
       "  &quot;maxWidth&quot;: &quot;100%&quot;,\n",
       "});\n",
       "\n",
       "        \n",
       "            \n",
       "                var html_064e05ad44f6f59da7ad8faf0d2ce55c = $(`&lt;div id=&quot;html_064e05ad44f6f59da7ad8faf0d2ce55c&quot; style=&quot;width: 100.0%; height: 100.0%;&quot;&gt;La Catrina&lt;/div&gt;`)[0];\n",
       "                popup_107eaaa3d330d4087b36e8bf16630807.setContent(html_064e05ad44f6f59da7ad8faf0d2ce55c);\n",
       "            \n",
       "        \n",
       "\n",
       "        marker_36cce3fbacfbbd1d46147edb9debf918.bindPopup(popup_107eaaa3d330d4087b36e8bf16630807)\n",
       "        ;\n",
       "\n",
       "        \n",
       "    \n",
       "    \n",
       "            var marker_f776f147a3a29aa67f8527bdbdc4b459 = L.marker(\n",
       "                [23.113948715307984, -82.42577878487478],\n",
       "                {\n",
       "}\n",
       "            ).addTo(map_2d5c9f5ad0757b3f2f4dc97ed79838a9);\n",
       "        \n",
       "    \n",
       "            var icon_1ec212235ad1ff53b06c23ed5b45ddfd = L.AwesomeMarkers.icon(\n",
       "                {\n",
       "  &quot;markerColor&quot;: &quot;darkblue&quot;,\n",
       "  &quot;iconColor&quot;: &quot;white&quot;,\n",
       "  &quot;icon&quot;: &quot;info-sign&quot;,\n",
       "  &quot;prefix&quot;: &quot;glyphicon&quot;,\n",
       "  &quot;extraClasses&quot;: &quot;fa-rotate-0&quot;,\n",
       "}\n",
       "            );\n",
       "            marker_f776f147a3a29aa67f8527bdbdc4b459.setIcon(icon_1ec212235ad1ff53b06c23ed5b45ddfd);\n",
       "        \n",
       "    \n",
       "        var popup_e8ea0f1adbbb99db8b6fa92ac82d7ef9 = L.popup({\n",
       "  &quot;maxWidth&quot;: &quot;100%&quot;,\n",
       "});\n",
       "\n",
       "        \n",
       "            \n",
       "                var html_afcd39971d705b3afb65e8fd96b4dfe2 = $(`&lt;div id=&quot;html_afcd39971d705b3afb65e8fd96b4dfe2&quot; style=&quot;width: 100.0%; height: 100.0%;&quot;&gt;La Chucheria&lt;/div&gt;`)[0];\n",
       "                popup_e8ea0f1adbbb99db8b6fa92ac82d7ef9.setContent(html_afcd39971d705b3afb65e8fd96b4dfe2);\n",
       "            \n",
       "        \n",
       "\n",
       "        marker_f776f147a3a29aa67f8527bdbdc4b459.bindPopup(popup_e8ea0f1adbbb99db8b6fa92ac82d7ef9)\n",
       "        ;\n",
       "\n",
       "        \n",
       "    \n",
       "    \n",
       "            var marker_178efdbd3da878d99f7032cab415180d = L.marker(\n",
       "                [23.099966714430586, -82.37927216484684],\n",
       "                {\n",
       "}\n",
       "            ).addTo(map_2d5c9f5ad0757b3f2f4dc97ed79838a9);\n",
       "        \n",
       "    \n",
       "            var icon_fff30e84581b815ee1412af7aa2d0c64 = L.AwesomeMarkers.icon(\n",
       "                {\n",
       "  &quot;markerColor&quot;: &quot;darkblue&quot;,\n",
       "  &quot;iconColor&quot;: &quot;white&quot;,\n",
       "  &quot;icon&quot;: &quot;info-sign&quot;,\n",
       "  &quot;prefix&quot;: &quot;glyphicon&quot;,\n",
       "  &quot;extraClasses&quot;: &quot;fa-rotate-0&quot;,\n",
       "}\n",
       "            );\n",
       "            marker_178efdbd3da878d99f7032cab415180d.setIcon(icon_fff30e84581b815ee1412af7aa2d0c64);\n",
       "        \n",
       "    \n",
       "        var popup_0c7d01c373bf854bbeec2ac221e9434a = L.popup({\n",
       "  &quot;maxWidth&quot;: &quot;100%&quot;,\n",
       "});\n",
       "\n",
       "        \n",
       "            \n",
       "                var html_3b5f2cb415f10a87307b1dca2a98de12 = $(`&lt;div id=&quot;html_3b5f2cb415f10a87307b1dca2a98de12&quot; style=&quot;width: 100.0%; height: 100.0%;&quot;&gt;La Esquinita&lt;/div&gt;`)[0];\n",
       "                popup_0c7d01c373bf854bbeec2ac221e9434a.setContent(html_3b5f2cb415f10a87307b1dca2a98de12);\n",
       "            \n",
       "        \n",
       "\n",
       "        marker_178efdbd3da878d99f7032cab415180d.bindPopup(popup_0c7d01c373bf854bbeec2ac221e9434a)\n",
       "        ;\n",
       "\n",
       "        \n",
       "    \n",
       "    \n",
       "            var marker_f226dd40afc8b53b8ee8019ee9a3839f = L.marker(\n",
       "                [23.13770661497965, -82.35930123279326],\n",
       "                {\n",
       "}\n",
       "            ).addTo(map_2d5c9f5ad0757b3f2f4dc97ed79838a9);\n",
       "        \n",
       "    \n",
       "            var icon_27bc0421cf6e2f7f09a960fcc54e8407 = L.AwesomeMarkers.icon(\n",
       "                {\n",
       "  &quot;markerColor&quot;: &quot;darkblue&quot;,\n",
       "  &quot;iconColor&quot;: &quot;white&quot;,\n",
       "  &quot;icon&quot;: &quot;info-sign&quot;,\n",
       "  &quot;prefix&quot;: &quot;glyphicon&quot;,\n",
       "  &quot;extraClasses&quot;: &quot;fa-rotate-0&quot;,\n",
       "}\n",
       "            );\n",
       "            marker_f226dd40afc8b53b8ee8019ee9a3839f.setIcon(icon_27bc0421cf6e2f7f09a960fcc54e8407);\n",
       "        \n",
       "    \n",
       "        var popup_6021eb0b352e57aec46fab7e0dfa176b = L.popup({\n",
       "  &quot;maxWidth&quot;: &quot;100%&quot;,\n",
       "});\n",
       "\n",
       "        \n",
       "            \n",
       "                var html_b71da92506fcb21399f3e11d7367d847 = $(`&lt;div id=&quot;html_b71da92506fcb21399f3e11d7367d847&quot; style=&quot;width: 100.0%; height: 100.0%;&quot;&gt;La Francesa&lt;/div&gt;`)[0];\n",
       "                popup_6021eb0b352e57aec46fab7e0dfa176b.setContent(html_b71da92506fcb21399f3e11d7367d847);\n",
       "            \n",
       "        \n",
       "\n",
       "        marker_f226dd40afc8b53b8ee8019ee9a3839f.bindPopup(popup_6021eb0b352e57aec46fab7e0dfa176b)\n",
       "        ;\n",
       "\n",
       "        \n",
       "    \n",
       "    \n",
       "            var marker_0017d2def753df04a6f3c474ce7efa03 = L.marker(\n",
       "                [22.967133915154772, -82.38463772280829],\n",
       "                {\n",
       "}\n",
       "            ).addTo(map_2d5c9f5ad0757b3f2f4dc97ed79838a9);\n",
       "        \n",
       "    \n",
       "            var icon_0be01b1de510a0fe4c7ea0244ce0f1e8 = L.AwesomeMarkers.icon(\n",
       "                {\n",
       "  &quot;markerColor&quot;: &quot;darkblue&quot;,\n",
       "  &quot;iconColor&quot;: &quot;white&quot;,\n",
       "  &quot;icon&quot;: &quot;info-sign&quot;,\n",
       "  &quot;prefix&quot;: &quot;glyphicon&quot;,\n",
       "  &quot;extraClasses&quot;: &quot;fa-rotate-0&quot;,\n",
       "}\n",
       "            );\n",
       "            marker_0017d2def753df04a6f3c474ce7efa03.setIcon(icon_0be01b1de510a0fe4c7ea0244ce0f1e8);\n",
       "        \n",
       "    \n",
       "        var popup_4e4099c671f4b1d789bf04d77d11e7c9 = L.popup({\n",
       "  &quot;maxWidth&quot;: &quot;100%&quot;,\n",
       "});\n",
       "\n",
       "        \n",
       "            \n",
       "                var html_e0b99d6f5fe281faad9ff75bcdddccd8 = $(`&lt;div id=&quot;html_e0b99d6f5fe281faad9ff75bcdddccd8&quot; style=&quot;width: 100.0%; height: 100.0%;&quot;&gt;La Gordy&lt;/div&gt;`)[0];\n",
       "                popup_4e4099c671f4b1d789bf04d77d11e7c9.setContent(html_e0b99d6f5fe281faad9ff75bcdddccd8);\n",
       "            \n",
       "        \n",
       "\n",
       "        marker_0017d2def753df04a6f3c474ce7efa03.bindPopup(popup_4e4099c671f4b1d789bf04d77d11e7c9)\n",
       "        ;\n",
       "\n",
       "        \n",
       "    \n",
       "    \n",
       "            var marker_2fe6395f8eecfb5d34c28c366f999ac8 = L.marker(\n",
       "                [23.114066413722455, -82.43957767341712],\n",
       "                {\n",
       "}\n",
       "            ).addTo(map_2d5c9f5ad0757b3f2f4dc97ed79838a9);\n",
       "        \n",
       "    \n",
       "            var icon_2ab824079f1320c74b77ac49f1093558 = L.AwesomeMarkers.icon(\n",
       "                {\n",
       "  &quot;markerColor&quot;: &quot;darkblue&quot;,\n",
       "  &quot;iconColor&quot;: &quot;white&quot;,\n",
       "  &quot;icon&quot;: &quot;info-sign&quot;,\n",
       "  &quot;prefix&quot;: &quot;glyphicon&quot;,\n",
       "  &quot;extraClasses&quot;: &quot;fa-rotate-0&quot;,\n",
       "}\n",
       "            );\n",
       "            marker_2fe6395f8eecfb5d34c28c366f999ac8.setIcon(icon_2ab824079f1320c74b77ac49f1093558);\n",
       "        \n",
       "    \n",
       "        var popup_68d04f52af249c51bcc31f1b8ecbf163 = L.popup({\n",
       "  &quot;maxWidth&quot;: &quot;100%&quot;,\n",
       "});\n",
       "\n",
       "        \n",
       "            \n",
       "                var html_7ef8be44f23bd52502e9385c2d03720d = $(`&lt;div id=&quot;html_7ef8be44f23bd52502e9385c2d03720d&quot; style=&quot;width: 100.0%; height: 100.0%;&quot;&gt;La Marina&lt;/div&gt;`)[0];\n",
       "                popup_68d04f52af249c51bcc31f1b8ecbf163.setContent(html_7ef8be44f23bd52502e9385c2d03720d);\n",
       "            \n",
       "        \n",
       "\n",
       "        marker_2fe6395f8eecfb5d34c28c366f999ac8.bindPopup(popup_68d04f52af249c51bcc31f1b8ecbf163)\n",
       "        ;\n",
       "\n",
       "        \n",
       "    \n",
       "    \n",
       "            var marker_088d7938dfff0e3cb2f18c8f67a502a2 = L.marker(\n",
       "                [23.07138320836101, -82.4600607155514],\n",
       "                {\n",
       "}\n",
       "            ).addTo(map_2d5c9f5ad0757b3f2f4dc97ed79838a9);\n",
       "        \n",
       "    \n",
       "            var icon_271c5f78b34a5001fcacf65a8f76a878 = L.AwesomeMarkers.icon(\n",
       "                {\n",
       "  &quot;markerColor&quot;: &quot;darkblue&quot;,\n",
       "  &quot;iconColor&quot;: &quot;white&quot;,\n",
       "  &quot;icon&quot;: &quot;info-sign&quot;,\n",
       "  &quot;prefix&quot;: &quot;glyphicon&quot;,\n",
       "  &quot;extraClasses&quot;: &quot;fa-rotate-0&quot;,\n",
       "}\n",
       "            );\n",
       "            marker_088d7938dfff0e3cb2f18c8f67a502a2.setIcon(icon_271c5f78b34a5001fcacf65a8f76a878);\n",
       "        \n",
       "    \n",
       "        var popup_065e279cacace1b208a67c0574a4e959 = L.popup({\n",
       "  &quot;maxWidth&quot;: &quot;100%&quot;,\n",
       "});\n",
       "\n",
       "        \n",
       "            \n",
       "                var html_c5eb053b78e6e49cffb4c747cf6e71a5 = $(`&lt;div id=&quot;html_c5eb053b78e6e49cffb4c747cf6e71a5&quot; style=&quot;width: 100.0%; height: 100.0%;&quot;&gt;La Mia Pizza&lt;/div&gt;`)[0];\n",
       "                popup_065e279cacace1b208a67c0574a4e959.setContent(html_c5eb053b78e6e49cffb4c747cf6e71a5);\n",
       "            \n",
       "        \n",
       "\n",
       "        marker_088d7938dfff0e3cb2f18c8f67a502a2.bindPopup(popup_065e279cacace1b208a67c0574a4e959)\n",
       "        ;\n",
       "\n",
       "        \n",
       "    \n",
       "    \n",
       "            var marker_42e87d95de3303956630bcbda5120b04 = L.marker(\n",
       "                [23.025201021634437, -82.46433927310295],\n",
       "                {\n",
       "}\n",
       "            ).addTo(map_2d5c9f5ad0757b3f2f4dc97ed79838a9);\n",
       "        \n",
       "    \n",
       "            var icon_a9bafc5fcde582616bf2070de6a0a222 = L.AwesomeMarkers.icon(\n",
       "                {\n",
       "  &quot;markerColor&quot;: &quot;darkblue&quot;,\n",
       "  &quot;iconColor&quot;: &quot;white&quot;,\n",
       "  &quot;icon&quot;: &quot;info-sign&quot;,\n",
       "  &quot;prefix&quot;: &quot;glyphicon&quot;,\n",
       "  &quot;extraClasses&quot;: &quot;fa-rotate-0&quot;,\n",
       "}\n",
       "            );\n",
       "            marker_42e87d95de3303956630bcbda5120b04.setIcon(icon_a9bafc5fcde582616bf2070de6a0a222);\n",
       "        \n",
       "    \n",
       "        var popup_3c0f50eab6977c7e8621f2d8a3a4ce06 = L.popup({\n",
       "  &quot;maxWidth&quot;: &quot;100%&quot;,\n",
       "});\n",
       "\n",
       "        \n",
       "            \n",
       "                var html_a8857681fa7eadebd2948e2a1aca146d = $(`&lt;div id=&quot;html_a8857681fa7eadebd2948e2a1aca146d&quot; style=&quot;width: 100.0%; height: 100.0%;&quot;&gt;La Novia&lt;/div&gt;`)[0];\n",
       "                popup_3c0f50eab6977c7e8621f2d8a3a4ce06.setContent(html_a8857681fa7eadebd2948e2a1aca146d);\n",
       "            \n",
       "        \n",
       "\n",
       "        marker_42e87d95de3303956630bcbda5120b04.bindPopup(popup_3c0f50eab6977c7e8621f2d8a3a4ce06)\n",
       "        ;\n",
       "\n",
       "        \n",
       "    \n",
       "    \n",
       "            var marker_2980a713a03f512c4facd6f8556a26ac = L.marker(\n",
       "                [23.0906213981348, -82.37667411357992],\n",
       "                {\n",
       "}\n",
       "            ).addTo(map_2d5c9f5ad0757b3f2f4dc97ed79838a9);\n",
       "        \n",
       "    \n",
       "            var icon_a985405e6cf09ec44fe820eff9ce6c34 = L.AwesomeMarkers.icon(\n",
       "                {\n",
       "  &quot;markerColor&quot;: &quot;darkblue&quot;,\n",
       "  &quot;iconColor&quot;: &quot;white&quot;,\n",
       "  &quot;icon&quot;: &quot;info-sign&quot;,\n",
       "  &quot;prefix&quot;: &quot;glyphicon&quot;,\n",
       "  &quot;extraClasses&quot;: &quot;fa-rotate-0&quot;,\n",
       "}\n",
       "            );\n",
       "            marker_2980a713a03f512c4facd6f8556a26ac.setIcon(icon_a985405e6cf09ec44fe820eff9ce6c34);\n",
       "        \n",
       "    \n",
       "        var popup_5b9a3070f46fff344e55add4bc6dd31e = L.popup({\n",
       "  &quot;maxWidth&quot;: &quot;100%&quot;,\n",
       "});\n",
       "\n",
       "        \n",
       "            \n",
       "                var html_0d881083eebd273994cb788bc7823c34 = $(`&lt;div id=&quot;html_0d881083eebd273994cb788bc7823c34&quot; style=&quot;width: 100.0%; height: 100.0%;&quot;&gt;La Patrona&lt;/div&gt;`)[0];\n",
       "                popup_5b9a3070f46fff344e55add4bc6dd31e.setContent(html_0d881083eebd273994cb788bc7823c34);\n",
       "            \n",
       "        \n",
       "\n",
       "        marker_2980a713a03f512c4facd6f8556a26ac.bindPopup(popup_5b9a3070f46fff344e55add4bc6dd31e)\n",
       "        ;\n",
       "\n",
       "        \n",
       "    \n",
       "    \n",
       "            var marker_daec00478bcc622d2ce2d861e9966269 = L.marker(\n",
       "                [23.14216967937676, -82.35348719182778],\n",
       "                {\n",
       "}\n",
       "            ).addTo(map_2d5c9f5ad0757b3f2f4dc97ed79838a9);\n",
       "        \n",
       "    \n",
       "            var icon_4d27c4f2e1051e3462a2221c260a79c8 = L.AwesomeMarkers.icon(\n",
       "                {\n",
       "  &quot;markerColor&quot;: &quot;darkblue&quot;,\n",
       "  &quot;iconColor&quot;: &quot;white&quot;,\n",
       "  &quot;icon&quot;: &quot;info-sign&quot;,\n",
       "  &quot;prefix&quot;: &quot;glyphicon&quot;,\n",
       "  &quot;extraClasses&quot;: &quot;fa-rotate-0&quot;,\n",
       "}\n",
       "            );\n",
       "            marker_daec00478bcc622d2ce2d861e9966269.setIcon(icon_4d27c4f2e1051e3462a2221c260a79c8);\n",
       "        \n",
       "    \n",
       "        var popup_f875a2aa65bb3ba4378b86518381ad41 = L.popup({\n",
       "  &quot;maxWidth&quot;: &quot;100%&quot;,\n",
       "});\n",
       "\n",
       "        \n",
       "            \n",
       "                var html_4f731e16b0bb414b4b431f11ce84993f = $(`&lt;div id=&quot;html_4f731e16b0bb414b4b431f11ce84993f&quot; style=&quot;width: 100.0%; height: 100.0%;&quot;&gt;La República&lt;/div&gt;`)[0];\n",
       "                popup_f875a2aa65bb3ba4378b86518381ad41.setContent(html_4f731e16b0bb414b4b431f11ce84993f);\n",
       "            \n",
       "        \n",
       "\n",
       "        marker_daec00478bcc622d2ce2d861e9966269.bindPopup(popup_f875a2aa65bb3ba4378b86518381ad41)\n",
       "        ;\n",
       "\n",
       "        \n",
       "    \n",
       "    \n",
       "            var marker_d5639e4b2ab3980a1a2a13ec4b625245 = L.marker(\n",
       "                [23.09090965711562, -82.37153742065038],\n",
       "                {\n",
       "}\n",
       "            ).addTo(map_2d5c9f5ad0757b3f2f4dc97ed79838a9);\n",
       "        \n",
       "    \n",
       "            var icon_3ccfa2599789e81624d3cb1855a4d9e8 = L.AwesomeMarkers.icon(\n",
       "                {\n",
       "  &quot;markerColor&quot;: &quot;darkblue&quot;,\n",
       "  &quot;iconColor&quot;: &quot;white&quot;,\n",
       "  &quot;icon&quot;: &quot;info-sign&quot;,\n",
       "  &quot;prefix&quot;: &quot;glyphicon&quot;,\n",
       "  &quot;extraClasses&quot;: &quot;fa-rotate-0&quot;,\n",
       "}\n",
       "            );\n",
       "            marker_d5639e4b2ab3980a1a2a13ec4b625245.setIcon(icon_3ccfa2599789e81624d3cb1855a4d9e8);\n",
       "        \n",
       "    \n",
       "        var popup_0b0c5ef37b777e3412f4059fcdda7afb = L.popup({\n",
       "  &quot;maxWidth&quot;: &quot;100%&quot;,\n",
       "});\n",
       "\n",
       "        \n",
       "            \n",
       "                var html_56f5d7affc396d6b04224bf9ca943fe8 = $(`&lt;div id=&quot;html_56f5d7affc396d6b04224bf9ca943fe8&quot; style=&quot;width: 100.0%; height: 100.0%;&quot;&gt;La Rosa De Ortega&lt;/div&gt;`)[0];\n",
       "                popup_0b0c5ef37b777e3412f4059fcdda7afb.setContent(html_56f5d7affc396d6b04224bf9ca943fe8);\n",
       "            \n",
       "        \n",
       "\n",
       "        marker_d5639e4b2ab3980a1a2a13ec4b625245.bindPopup(popup_0b0c5ef37b777e3412f4059fcdda7afb)\n",
       "        ;\n",
       "\n",
       "        \n",
       "    \n",
       "    \n",
       "            var marker_7c230bdc1d35061be7b9717065398612 = L.marker(\n",
       "                [23.167411943757887, -82.29565904965052],\n",
       "                {\n",
       "}\n",
       "            ).addTo(map_2d5c9f5ad0757b3f2f4dc97ed79838a9);\n",
       "        \n",
       "    \n",
       "            var icon_dbc87b3aa4429ac178914bf3fb0827c1 = L.AwesomeMarkers.icon(\n",
       "                {\n",
       "  &quot;markerColor&quot;: &quot;darkblue&quot;,\n",
       "  &quot;iconColor&quot;: &quot;white&quot;,\n",
       "  &quot;icon&quot;: &quot;info-sign&quot;,\n",
       "  &quot;prefix&quot;: &quot;glyphicon&quot;,\n",
       "  &quot;extraClasses&quot;: &quot;fa-rotate-0&quot;,\n",
       "}\n",
       "            );\n",
       "            marker_7c230bdc1d35061be7b9717065398612.setIcon(icon_dbc87b3aa4429ac178914bf3fb0827c1);\n",
       "        \n",
       "    \n",
       "        var popup_1e63a488a9fbc4b745eb1eb75c3cc952 = L.popup({\n",
       "  &quot;maxWidth&quot;: &quot;100%&quot;,\n",
       "});\n",
       "\n",
       "        \n",
       "            \n",
       "                var html_9c5dcd1bd546549182cbd2f4edb37683 = $(`&lt;div id=&quot;html_9c5dcd1bd546549182cbd2f4edb37683&quot; style=&quot;width: 100.0%; height: 100.0%;&quot;&gt;La ruta de Hemingway&lt;/div&gt;`)[0];\n",
       "                popup_1e63a488a9fbc4b745eb1eb75c3cc952.setContent(html_9c5dcd1bd546549182cbd2f4edb37683);\n",
       "            \n",
       "        \n",
       "\n",
       "        marker_7c230bdc1d35061be7b9717065398612.bindPopup(popup_1e63a488a9fbc4b745eb1eb75c3cc952)\n",
       "        ;\n",
       "\n",
       "        \n",
       "    \n",
       "    \n",
       "            var marker_0339c3846588ca0d4c5f7663659aab17 = L.marker(\n",
       "                [23.139161565291754, -82.35008076299259],\n",
       "                {\n",
       "}\n",
       "            ).addTo(map_2d5c9f5ad0757b3f2f4dc97ed79838a9);\n",
       "        \n",
       "    \n",
       "            var icon_172932d2b83da53daa4b032d42d4ed81 = L.AwesomeMarkers.icon(\n",
       "                {\n",
       "  &quot;markerColor&quot;: &quot;darkblue&quot;,\n",
       "  &quot;iconColor&quot;: &quot;white&quot;,\n",
       "  &quot;icon&quot;: &quot;info-sign&quot;,\n",
       "  &quot;prefix&quot;: &quot;glyphicon&quot;,\n",
       "  &quot;extraClasses&quot;: &quot;fa-rotate-0&quot;,\n",
       "}\n",
       "            );\n",
       "            marker_0339c3846588ca0d4c5f7663659aab17.setIcon(icon_172932d2b83da53daa4b032d42d4ed81);\n",
       "        \n",
       "    \n",
       "        var popup_4bf0a317ac78ce57fa90202057fe6fc5 = L.popup({\n",
       "  &quot;maxWidth&quot;: &quot;100%&quot;,\n",
       "});\n",
       "\n",
       "        \n",
       "            \n",
       "                var html_ac8aaf0bbb0eec57b2a6ae0462af6f76 = $(`&lt;div id=&quot;html_ac8aaf0bbb0eec57b2a6ae0462af6f76&quot; style=&quot;width: 100.0%; height: 100.0%;&quot;&gt;La Torre De Marfil&lt;/div&gt;`)[0];\n",
       "                popup_4bf0a317ac78ce57fa90202057fe6fc5.setContent(html_ac8aaf0bbb0eec57b2a6ae0462af6f76);\n",
       "            \n",
       "        \n",
       "\n",
       "        marker_0339c3846588ca0d4c5f7663659aab17.bindPopup(popup_4bf0a317ac78ce57fa90202057fe6fc5)\n",
       "        ;\n",
       "\n",
       "        \n",
       "    \n",
       "    \n",
       "            var marker_edbdbd03f2856fc135c299f810285174 = L.marker(\n",
       "                [23.081534878689336, -82.42156649198839],\n",
       "                {\n",
       "}\n",
       "            ).addTo(map_2d5c9f5ad0757b3f2f4dc97ed79838a9);\n",
       "        \n",
       "    \n",
       "            var icon_2d090b56d37494bc0e392518e927da8d = L.AwesomeMarkers.icon(\n",
       "                {\n",
       "  &quot;markerColor&quot;: &quot;darkblue&quot;,\n",
       "  &quot;iconColor&quot;: &quot;white&quot;,\n",
       "  &quot;icon&quot;: &quot;info-sign&quot;,\n",
       "  &quot;prefix&quot;: &quot;glyphicon&quot;,\n",
       "  &quot;extraClasses&quot;: &quot;fa-rotate-0&quot;,\n",
       "}\n",
       "            );\n",
       "            marker_edbdbd03f2856fc135c299f810285174.setIcon(icon_2d090b56d37494bc0e392518e927da8d);\n",
       "        \n",
       "    \n",
       "        var popup_af3d8049a4a2503bd30157c591859a9f = L.popup({\n",
       "  &quot;maxWidth&quot;: &quot;100%&quot;,\n",
       "});\n",
       "\n",
       "        \n",
       "            \n",
       "                var html_92f8c84be4c61834654b3d45ed918998 = $(`&lt;div id=&quot;html_92f8c84be4c61834654b3d45ed918998&quot; style=&quot;width: 100.0%; height: 100.0%;&quot;&gt;La Yaya&lt;/div&gt;`)[0];\n",
       "                popup_af3d8049a4a2503bd30157c591859a9f.setContent(html_92f8c84be4c61834654b3d45ed918998);\n",
       "            \n",
       "        \n",
       "\n",
       "        marker_edbdbd03f2856fc135c299f810285174.bindPopup(popup_af3d8049a4a2503bd30157c591859a9f)\n",
       "        ;\n",
       "\n",
       "        \n",
       "    \n",
       "    \n",
       "            var marker_e455bebd8b83c9e60f4bc5f3246eab97 = L.marker(\n",
       "                [23.119358590376347, -82.37193704950933],\n",
       "                {\n",
       "}\n",
       "            ).addTo(map_2d5c9f5ad0757b3f2f4dc97ed79838a9);\n",
       "        \n",
       "    \n",
       "            var icon_f548f71af58412f2435c187d65fd98dd = L.AwesomeMarkers.icon(\n",
       "                {\n",
       "  &quot;markerColor&quot;: &quot;darkblue&quot;,\n",
       "  &quot;iconColor&quot;: &quot;white&quot;,\n",
       "  &quot;icon&quot;: &quot;info-sign&quot;,\n",
       "  &quot;prefix&quot;: &quot;glyphicon&quot;,\n",
       "  &quot;extraClasses&quot;: &quot;fa-rotate-0&quot;,\n",
       "}\n",
       "            );\n",
       "            marker_e455bebd8b83c9e60f4bc5f3246eab97.setIcon(icon_f548f71af58412f2435c187d65fd98dd);\n",
       "        \n",
       "    \n",
       "        var popup_93a71904ef018afb5aac0bc6eca4c3ad = L.popup({\n",
       "  &quot;maxWidth&quot;: &quot;100%&quot;,\n",
       "});\n",
       "\n",
       "        \n",
       "            \n",
       "                var html_7602f6eed4d3e9757e6fd7ed72ef0966 = $(`&lt;div id=&quot;html_7602f6eed4d3e9757e6fd7ed72ef0966&quot; style=&quot;width: 100.0%; height: 100.0%;&quot;&gt;Leyendhabana&lt;/div&gt;`)[0];\n",
       "                popup_93a71904ef018afb5aac0bc6eca4c3ad.setContent(html_7602f6eed4d3e9757e6fd7ed72ef0966);\n",
       "            \n",
       "        \n",
       "\n",
       "        marker_e455bebd8b83c9e60f4bc5f3246eab97.bindPopup(popup_93a71904ef018afb5aac0bc6eca4c3ad)\n",
       "        ;\n",
       "\n",
       "        \n",
       "    \n",
       "    \n",
       "            var marker_bed6e0e57dc220a6f5ef8ee51c9ef5b7 = L.marker(\n",
       "                [23.141360421965942, -82.35554676484041],\n",
       "                {\n",
       "}\n",
       "            ).addTo(map_2d5c9f5ad0757b3f2f4dc97ed79838a9);\n",
       "        \n",
       "    \n",
       "            var icon_fd7ac84888737f4074213c387dd1a953 = L.AwesomeMarkers.icon(\n",
       "                {\n",
       "  &quot;markerColor&quot;: &quot;darkblue&quot;,\n",
       "  &quot;iconColor&quot;: &quot;white&quot;,\n",
       "  &quot;icon&quot;: &quot;info-sign&quot;,\n",
       "  &quot;prefix&quot;: &quot;glyphicon&quot;,\n",
       "  &quot;extraClasses&quot;: &quot;fa-rotate-0&quot;,\n",
       "}\n",
       "            );\n",
       "            marker_bed6e0e57dc220a6f5ef8ee51c9ef5b7.setIcon(icon_fd7ac84888737f4074213c387dd1a953);\n",
       "        \n",
       "    \n",
       "        var popup_61521d8280763a4e777630f77d68d579 = L.popup({\n",
       "  &quot;maxWidth&quot;: &quot;100%&quot;,\n",
       "});\n",
       "\n",
       "        \n",
       "            \n",
       "                var html_9c5142df4d1be7dd4232f8a85f3ffdfe = $(`&lt;div id=&quot;html_9c5142df4d1be7dd4232f8a85f3ffdfe&quot; style=&quot;width: 100.0%; height: 100.0%;&quot;&gt;Lo de Monik&lt;/div&gt;`)[0];\n",
       "                popup_61521d8280763a4e777630f77d68d579.setContent(html_9c5142df4d1be7dd4232f8a85f3ffdfe);\n",
       "            \n",
       "        \n",
       "\n",
       "        marker_bed6e0e57dc220a6f5ef8ee51c9ef5b7.bindPopup(popup_61521d8280763a4e777630f77d68d579)\n",
       "        ;\n",
       "\n",
       "        \n",
       "    \n",
       "    \n",
       "            var marker_b789c3ba2c6cd0974cb2aa37af8d4a2a = L.marker(\n",
       "                [23.047931165777534, -82.33276437842358],\n",
       "                {\n",
       "}\n",
       "            ).addTo(map_2d5c9f5ad0757b3f2f4dc97ed79838a9);\n",
       "        \n",
       "    \n",
       "            var icon_fffb0f610f9d35455ce4dc55909c8b34 = L.AwesomeMarkers.icon(\n",
       "                {\n",
       "  &quot;markerColor&quot;: &quot;darkblue&quot;,\n",
       "  &quot;iconColor&quot;: &quot;white&quot;,\n",
       "  &quot;icon&quot;: &quot;info-sign&quot;,\n",
       "  &quot;prefix&quot;: &quot;glyphicon&quot;,\n",
       "  &quot;extraClasses&quot;: &quot;fa-rotate-0&quot;,\n",
       "}\n",
       "            );\n",
       "            marker_b789c3ba2c6cd0974cb2aa37af8d4a2a.setIcon(icon_fffb0f610f9d35455ce4dc55909c8b34);\n",
       "        \n",
       "    \n",
       "        var popup_cc0364d9ea39fb8cae7538aba1b13f77 = L.popup({\n",
       "  &quot;maxWidth&quot;: &quot;100%&quot;,\n",
       "});\n",
       "\n",
       "        \n",
       "            \n",
       "                var html_25c9e9226fa510caa474d09068fc4f65 = $(`&lt;div id=&quot;html_25c9e9226fa510caa474d09068fc4f65&quot; style=&quot;width: 100.0%; height: 100.0%;&quot;&gt;Los caneyes&lt;/div&gt;`)[0];\n",
       "                popup_cc0364d9ea39fb8cae7538aba1b13f77.setContent(html_25c9e9226fa510caa474d09068fc4f65);\n",
       "            \n",
       "        \n",
       "\n",
       "        marker_b789c3ba2c6cd0974cb2aa37af8d4a2a.bindPopup(popup_cc0364d9ea39fb8cae7538aba1b13f77)\n",
       "        ;\n",
       "\n",
       "        \n",
       "    \n",
       "    \n",
       "            var marker_a03ac1ae717fb4e9d670cee3cb9fba25 = L.marker(\n",
       "                [23.149876102274252, -82.3559954456767],\n",
       "                {\n",
       "}\n",
       "            ).addTo(map_2d5c9f5ad0757b3f2f4dc97ed79838a9);\n",
       "        \n",
       "    \n",
       "            var icon_01e3d473e11aa065e06192d7a89fe4c8 = L.AwesomeMarkers.icon(\n",
       "                {\n",
       "  &quot;markerColor&quot;: &quot;darkblue&quot;,\n",
       "  &quot;iconColor&quot;: &quot;white&quot;,\n",
       "  &quot;icon&quot;: &quot;info-sign&quot;,\n",
       "  &quot;prefix&quot;: &quot;glyphicon&quot;,\n",
       "  &quot;extraClasses&quot;: &quot;fa-rotate-0&quot;,\n",
       "}\n",
       "            );\n",
       "            marker_a03ac1ae717fb4e9d670cee3cb9fba25.setIcon(icon_01e3d473e11aa065e06192d7a89fe4c8);\n",
       "        \n",
       "    \n",
       "        var popup_191ac2605747b97dedb4ca1b16193da5 = L.popup({\n",
       "  &quot;maxWidth&quot;: &quot;100%&quot;,\n",
       "});\n",
       "\n",
       "        \n",
       "            \n",
       "                var html_80c47714c2179274b003e2166ca40c02 = $(`&lt;div id=&quot;html_80c47714c2179274b003e2166ca40c02&quot; style=&quot;width: 100.0%; height: 100.0%;&quot;&gt;Los Doce Apóstoles&lt;/div&gt;`)[0];\n",
       "                popup_191ac2605747b97dedb4ca1b16193da5.setContent(html_80c47714c2179274b003e2166ca40c02);\n",
       "            \n",
       "        \n",
       "\n",
       "        marker_a03ac1ae717fb4e9d670cee3cb9fba25.bindPopup(popup_191ac2605747b97dedb4ca1b16193da5)\n",
       "        ;\n",
       "\n",
       "        \n",
       "    \n",
       "    \n",
       "            var marker_4cf41a8a26b9fc5bb39757de285b5f47 = L.marker(\n",
       "                [23.08427961422461, -82.43597367849351],\n",
       "                {\n",
       "}\n",
       "            ).addTo(map_2d5c9f5ad0757b3f2f4dc97ed79838a9);\n",
       "        \n",
       "    \n",
       "            var icon_0d86b4a5bfdebbf1ff0a21ef7ea73125 = L.AwesomeMarkers.icon(\n",
       "                {\n",
       "  &quot;markerColor&quot;: &quot;darkblue&quot;,\n",
       "  &quot;iconColor&quot;: &quot;white&quot;,\n",
       "  &quot;icon&quot;: &quot;info-sign&quot;,\n",
       "  &quot;prefix&quot;: &quot;glyphicon&quot;,\n",
       "  &quot;extraClasses&quot;: &quot;fa-rotate-0&quot;,\n",
       "}\n",
       "            );\n",
       "            marker_4cf41a8a26b9fc5bb39757de285b5f47.setIcon(icon_0d86b4a5bfdebbf1ff0a21ef7ea73125);\n",
       "        \n",
       "    \n",
       "        var popup_ee7cbd31db151439fab50f2907591cb3 = L.popup({\n",
       "  &quot;maxWidth&quot;: &quot;100%&quot;,\n",
       "});\n",
       "\n",
       "        \n",
       "            \n",
       "                var html_b1c461e1f980ac44a9552e66d20e4513 = $(`&lt;div id=&quot;html_b1c461e1f980ac44a9552e66d20e4513&quot; style=&quot;width: 100.0%; height: 100.0%;&quot;&gt;Los Taticos&lt;/div&gt;`)[0];\n",
       "                popup_ee7cbd31db151439fab50f2907591cb3.setContent(html_b1c461e1f980ac44a9552e66d20e4513);\n",
       "            \n",
       "        \n",
       "\n",
       "        marker_4cf41a8a26b9fc5bb39757de285b5f47.bindPopup(popup_ee7cbd31db151439fab50f2907591cb3)\n",
       "        ;\n",
       "\n",
       "        \n",
       "    \n",
       "    \n",
       "            var marker_0b2680cc722a91f9866e294a8ac9cc2c = L.marker(\n",
       "                [23.121788587624902, -82.4257877361619],\n",
       "                {\n",
       "}\n",
       "            ).addTo(map_2d5c9f5ad0757b3f2f4dc97ed79838a9);\n",
       "        \n",
       "    \n",
       "            var icon_a41b1d4ee62c9e4dcfae52742fc97298 = L.AwesomeMarkers.icon(\n",
       "                {\n",
       "  &quot;markerColor&quot;: &quot;darkblue&quot;,\n",
       "  &quot;iconColor&quot;: &quot;white&quot;,\n",
       "  &quot;icon&quot;: &quot;info-sign&quot;,\n",
       "  &quot;prefix&quot;: &quot;glyphicon&quot;,\n",
       "  &quot;extraClasses&quot;: &quot;fa-rotate-0&quot;,\n",
       "}\n",
       "            );\n",
       "            marker_0b2680cc722a91f9866e294a8ac9cc2c.setIcon(icon_a41b1d4ee62c9e4dcfae52742fc97298);\n",
       "        \n",
       "    \n",
       "        var popup_f29c794830ce0eff2e5834aed60a0ef2 = L.popup({\n",
       "  &quot;maxWidth&quot;: &quot;100%&quot;,\n",
       "});\n",
       "\n",
       "        \n",
       "            \n",
       "                var html_b86528cd104ba769229e383515dfea0b = $(`&lt;div id=&quot;html_b86528cd104ba769229e383515dfea0b&quot; style=&quot;width: 100.0%; height: 100.0%;&quot;&gt;Luly Bar Café&lt;/div&gt;`)[0];\n",
       "                popup_f29c794830ce0eff2e5834aed60a0ef2.setContent(html_b86528cd104ba769229e383515dfea0b);\n",
       "            \n",
       "        \n",
       "\n",
       "        marker_0b2680cc722a91f9866e294a8ac9cc2c.bindPopup(popup_f29c794830ce0eff2e5834aed60a0ef2)\n",
       "        ;\n",
       "\n",
       "        \n",
       "    \n",
       "    \n",
       "            var marker_5328d1d2d589d8c3d7c5b19869d1bb29 = L.marker(\n",
       "                [23.093509305513987, -82.36480264180305],\n",
       "                {\n",
       "}\n",
       "            ).addTo(map_2d5c9f5ad0757b3f2f4dc97ed79838a9);\n",
       "        \n",
       "    \n",
       "            var icon_0ed449b60e8bd2d20a37f63c997be9b1 = L.AwesomeMarkers.icon(\n",
       "                {\n",
       "  &quot;markerColor&quot;: &quot;darkblue&quot;,\n",
       "  &quot;iconColor&quot;: &quot;white&quot;,\n",
       "  &quot;icon&quot;: &quot;info-sign&quot;,\n",
       "  &quot;prefix&quot;: &quot;glyphicon&quot;,\n",
       "  &quot;extraClasses&quot;: &quot;fa-rotate-0&quot;,\n",
       "}\n",
       "            );\n",
       "            marker_5328d1d2d589d8c3d7c5b19869d1bb29.setIcon(icon_0ed449b60e8bd2d20a37f63c997be9b1);\n",
       "        \n",
       "    \n",
       "        var popup_323c8478df649098706f2e86c16ace1c = L.popup({\n",
       "  &quot;maxWidth&quot;: &quot;100%&quot;,\n",
       "});\n",
       "\n",
       "        \n",
       "            \n",
       "                var html_c95118bbadf7e5291bf2596b66dacb5b = $(`&lt;div id=&quot;html_c95118bbadf7e5291bf2596b66dacb5b&quot; style=&quot;width: 100.0%; height: 100.0%;&quot;&gt;Luly Hamburguesas&lt;/div&gt;`)[0];\n",
       "                popup_323c8478df649098706f2e86c16ace1c.setContent(html_c95118bbadf7e5291bf2596b66dacb5b);\n",
       "            \n",
       "        \n",
       "\n",
       "        marker_5328d1d2d589d8c3d7c5b19869d1bb29.bindPopup(popup_323c8478df649098706f2e86c16ace1c)\n",
       "        ;\n",
       "\n",
       "        \n",
       "    \n",
       "    \n",
       "            var marker_36ec2b8d6881090ff91a27d4b145871e = L.marker(\n",
       "                [23.079473928614, -82.36211812904808],\n",
       "                {\n",
       "}\n",
       "            ).addTo(map_2d5c9f5ad0757b3f2f4dc97ed79838a9);\n",
       "        \n",
       "    \n",
       "            var icon_ca24be013772dd349389638264f07996 = L.AwesomeMarkers.icon(\n",
       "                {\n",
       "  &quot;markerColor&quot;: &quot;darkblue&quot;,\n",
       "  &quot;iconColor&quot;: &quot;white&quot;,\n",
       "  &quot;icon&quot;: &quot;info-sign&quot;,\n",
       "  &quot;prefix&quot;: &quot;glyphicon&quot;,\n",
       "  &quot;extraClasses&quot;: &quot;fa-rotate-0&quot;,\n",
       "}\n",
       "            );\n",
       "            marker_36ec2b8d6881090ff91a27d4b145871e.setIcon(icon_ca24be013772dd349389638264f07996);\n",
       "        \n",
       "    \n",
       "        var popup_05aab2ad2362723d1719cf2742933f2b = L.popup({\n",
       "  &quot;maxWidth&quot;: &quot;100%&quot;,\n",
       "});\n",
       "\n",
       "        \n",
       "            \n",
       "                var html_a62c31ef1b1bf80bfe9211ce461f621f = $(`&lt;div id=&quot;html_a62c31ef1b1bf80bfe9211ce461f621f&quot; style=&quot;width: 100.0%; height: 100.0%;&quot;&gt;Magic&#x27;s Cream &amp; Burguer&lt;/div&gt;`)[0];\n",
       "                popup_05aab2ad2362723d1719cf2742933f2b.setContent(html_a62c31ef1b1bf80bfe9211ce461f621f);\n",
       "            \n",
       "        \n",
       "\n",
       "        marker_36ec2b8d6881090ff91a27d4b145871e.bindPopup(popup_05aab2ad2362723d1719cf2742933f2b)\n",
       "        ;\n",
       "\n",
       "        \n",
       "    \n",
       "    \n",
       "            var marker_3447588c7a1dbdc08336cd02771cd367 = L.marker(\n",
       "                [23.047306531006058, -82.2683502866321],\n",
       "                {\n",
       "}\n",
       "            ).addTo(map_2d5c9f5ad0757b3f2f4dc97ed79838a9);\n",
       "        \n",
       "    \n",
       "            var icon_9691aab12e2ea0da9f2630c27b4d9e27 = L.AwesomeMarkers.icon(\n",
       "                {\n",
       "  &quot;markerColor&quot;: &quot;darkblue&quot;,\n",
       "  &quot;iconColor&quot;: &quot;white&quot;,\n",
       "  &quot;icon&quot;: &quot;info-sign&quot;,\n",
       "  &quot;prefix&quot;: &quot;glyphicon&quot;,\n",
       "  &quot;extraClasses&quot;: &quot;fa-rotate-0&quot;,\n",
       "}\n",
       "            );\n",
       "            marker_3447588c7a1dbdc08336cd02771cd367.setIcon(icon_9691aab12e2ea0da9f2630c27b4d9e27);\n",
       "        \n",
       "    \n",
       "        var popup_e51762e8bc01af742643361812debb14 = L.popup({\n",
       "  &quot;maxWidth&quot;: &quot;100%&quot;,\n",
       "});\n",
       "\n",
       "        \n",
       "            \n",
       "                var html_4a744c44b83c2f8584cb8b5503f38a20 = $(`&lt;div id=&quot;html_4a744c44b83c2f8584cb8b5503f38a20&quot; style=&quot;width: 100.0%; height: 100.0%;&quot;&gt;Martínez Club&lt;/div&gt;`)[0];\n",
       "                popup_e51762e8bc01af742643361812debb14.setContent(html_4a744c44b83c2f8584cb8b5503f38a20);\n",
       "            \n",
       "        \n",
       "\n",
       "        marker_3447588c7a1dbdc08336cd02771cd367.bindPopup(popup_e51762e8bc01af742643361812debb14)\n",
       "        ;\n",
       "\n",
       "        \n",
       "    \n",
       "    \n",
       "            var marker_b6c706485795dfa0608ab089d00c12d0 = L.marker(\n",
       "                [23.142433620136078, -82.39923307575508],\n",
       "                {\n",
       "}\n",
       "            ).addTo(map_2d5c9f5ad0757b3f2f4dc97ed79838a9);\n",
       "        \n",
       "    \n",
       "            var icon_9cb42d8524e748135c229c555bdc4f0e = L.AwesomeMarkers.icon(\n",
       "                {\n",
       "  &quot;markerColor&quot;: &quot;darkblue&quot;,\n",
       "  &quot;iconColor&quot;: &quot;white&quot;,\n",
       "  &quot;icon&quot;: &quot;info-sign&quot;,\n",
       "  &quot;prefix&quot;: &quot;glyphicon&quot;,\n",
       "  &quot;extraClasses&quot;: &quot;fa-rotate-0&quot;,\n",
       "}\n",
       "            );\n",
       "            marker_b6c706485795dfa0608ab089d00c12d0.setIcon(icon_9cb42d8524e748135c229c555bdc4f0e);\n",
       "        \n",
       "    \n",
       "        var popup_2a0779fab00f3445ba2d8a42ec45c392 = L.popup({\n",
       "  &quot;maxWidth&quot;: &quot;100%&quot;,\n",
       "});\n",
       "\n",
       "        \n",
       "            \n",
       "                var html_241eba198d902d5129089688cc438dd4 = $(`&lt;div id=&quot;html_241eba198d902d5129089688cc438dd4&quot; style=&quot;width: 100.0%; height: 100.0%;&quot;&gt;Mar Adentro&lt;/div&gt;`)[0];\n",
       "                popup_2a0779fab00f3445ba2d8a42ec45c392.setContent(html_241eba198d902d5129089688cc438dd4);\n",
       "            \n",
       "        \n",
       "\n",
       "        marker_b6c706485795dfa0608ab089d00c12d0.bindPopup(popup_2a0779fab00f3445ba2d8a42ec45c392)\n",
       "        ;\n",
       "\n",
       "        \n",
       "    \n",
       "    \n",
       "            var marker_08ac2e4bbbe04fb1f9300d0b6908e541 = L.marker(\n",
       "                [23.052069154835742, -82.27571196298325],\n",
       "                {\n",
       "}\n",
       "            ).addTo(map_2d5c9f5ad0757b3f2f4dc97ed79838a9);\n",
       "        \n",
       "    \n",
       "            var icon_52b75faacc4a61748447cac59c68841b = L.AwesomeMarkers.icon(\n",
       "                {\n",
       "  &quot;markerColor&quot;: &quot;darkblue&quot;,\n",
       "  &quot;iconColor&quot;: &quot;white&quot;,\n",
       "  &quot;icon&quot;: &quot;info-sign&quot;,\n",
       "  &quot;prefix&quot;: &quot;glyphicon&quot;,\n",
       "  &quot;extraClasses&quot;: &quot;fa-rotate-0&quot;,\n",
       "}\n",
       "            );\n",
       "            marker_08ac2e4bbbe04fb1f9300d0b6908e541.setIcon(icon_52b75faacc4a61748447cac59c68841b);\n",
       "        \n",
       "    \n",
       "        var popup_d53e0f9d9562794889decdaa0aa032a9 = L.popup({\n",
       "  &quot;maxWidth&quot;: &quot;100%&quot;,\n",
       "});\n",
       "\n",
       "        \n",
       "            \n",
       "                var html_6748270ab46e659b57d3d37a474de40d = $(`&lt;div id=&quot;html_6748270ab46e659b57d3d37a474de40d&quot; style=&quot;width: 100.0%; height: 100.0%;&quot;&gt;McCesar&#x27;s&lt;/div&gt;`)[0];\n",
       "                popup_d53e0f9d9562794889decdaa0aa032a9.setContent(html_6748270ab46e659b57d3d37a474de40d);\n",
       "            \n",
       "        \n",
       "\n",
       "        marker_08ac2e4bbbe04fb1f9300d0b6908e541.bindPopup(popup_d53e0f9d9562794889decdaa0aa032a9)\n",
       "        ;\n",
       "\n",
       "        \n",
       "    \n",
       "    \n",
       "            var marker_5be4942827926a2983db7ffd74d6ae49 = L.marker(\n",
       "                [23.117726284857962, -82.4422860238811],\n",
       "                {\n",
       "}\n",
       "            ).addTo(map_2d5c9f5ad0757b3f2f4dc97ed79838a9);\n",
       "        \n",
       "    \n",
       "            var icon_52816f27ec0f372ee95d1726c563e8cb = L.AwesomeMarkers.icon(\n",
       "                {\n",
       "  &quot;markerColor&quot;: &quot;darkblue&quot;,\n",
       "  &quot;iconColor&quot;: &quot;white&quot;,\n",
       "  &quot;icon&quot;: &quot;info-sign&quot;,\n",
       "  &quot;prefix&quot;: &quot;glyphicon&quot;,\n",
       "  &quot;extraClasses&quot;: &quot;fa-rotate-0&quot;,\n",
       "}\n",
       "            );\n",
       "            marker_5be4942827926a2983db7ffd74d6ae49.setIcon(icon_52816f27ec0f372ee95d1726c563e8cb);\n",
       "        \n",
       "    \n",
       "        var popup_d55c6ab831dc95b02341b48ce30ee831 = L.popup({\n",
       "  &quot;maxWidth&quot;: &quot;100%&quot;,\n",
       "});\n",
       "\n",
       "        \n",
       "            \n",
       "                var html_575732bd5cf233c2d53dd52dba81086a = $(`&lt;div id=&quot;html_575732bd5cf233c2d53dd52dba81086a&quot; style=&quot;width: 100.0%; height: 100.0%;&quot;&gt;Mercy bar&lt;/div&gt;`)[0];\n",
       "                popup_d55c6ab831dc95b02341b48ce30ee831.setContent(html_575732bd5cf233c2d53dd52dba81086a);\n",
       "            \n",
       "        \n",
       "\n",
       "        marker_5be4942827926a2983db7ffd74d6ae49.bindPopup(popup_d55c6ab831dc95b02341b48ce30ee831)\n",
       "        ;\n",
       "\n",
       "        \n",
       "    \n",
       "    \n",
       "            var marker_b59bc540f4e5cb6d88c7e3fd484cc682 = L.marker(\n",
       "                [23.089222353439702, -82.36048697833665],\n",
       "                {\n",
       "}\n",
       "            ).addTo(map_2d5c9f5ad0757b3f2f4dc97ed79838a9);\n",
       "        \n",
       "    \n",
       "            var icon_5a5b8150a58ce997e0f2692d36fd9cf4 = L.AwesomeMarkers.icon(\n",
       "                {\n",
       "  &quot;markerColor&quot;: &quot;darkblue&quot;,\n",
       "  &quot;iconColor&quot;: &quot;white&quot;,\n",
       "  &quot;icon&quot;: &quot;info-sign&quot;,\n",
       "  &quot;prefix&quot;: &quot;glyphicon&quot;,\n",
       "  &quot;extraClasses&quot;: &quot;fa-rotate-0&quot;,\n",
       "}\n",
       "            );\n",
       "            marker_b59bc540f4e5cb6d88c7e3fd484cc682.setIcon(icon_5a5b8150a58ce997e0f2692d36fd9cf4);\n",
       "        \n",
       "    \n",
       "        var popup_8c551ca0d6c00a3e926faa278f36332c = L.popup({\n",
       "  &quot;maxWidth&quot;: &quot;100%&quot;,\n",
       "});\n",
       "\n",
       "        \n",
       "            \n",
       "                var html_37efcb1e22d7f811adf2a6138ba7599b = $(`&lt;div id=&quot;html_37efcb1e22d7f811adf2a6138ba7599b&quot; style=&quot;width: 100.0%; height: 100.0%;&quot;&gt;Mirador de Acosta&lt;/div&gt;`)[0];\n",
       "                popup_8c551ca0d6c00a3e926faa278f36332c.setContent(html_37efcb1e22d7f811adf2a6138ba7599b);\n",
       "            \n",
       "        \n",
       "\n",
       "        marker_b59bc540f4e5cb6d88c7e3fd484cc682.bindPopup(popup_8c551ca0d6c00a3e926faa278f36332c)\n",
       "        ;\n",
       "\n",
       "        \n",
       "    \n",
       "    \n",
       "            var marker_8c666ee925307f01f2c07ef40acf2e78 = L.marker(\n",
       "                [23.044400677473934, -82.26562109644043],\n",
       "                {\n",
       "}\n",
       "            ).addTo(map_2d5c9f5ad0757b3f2f4dc97ed79838a9);\n",
       "        \n",
       "    \n",
       "            var icon_d31a1291adfc85fbc156844115046d2a = L.AwesomeMarkers.icon(\n",
       "                {\n",
       "  &quot;markerColor&quot;: &quot;darkblue&quot;,\n",
       "  &quot;iconColor&quot;: &quot;white&quot;,\n",
       "  &quot;icon&quot;: &quot;info-sign&quot;,\n",
       "  &quot;prefix&quot;: &quot;glyphicon&quot;,\n",
       "  &quot;extraClasses&quot;: &quot;fa-rotate-0&quot;,\n",
       "}\n",
       "            );\n",
       "            marker_8c666ee925307f01f2c07ef40acf2e78.setIcon(icon_d31a1291adfc85fbc156844115046d2a);\n",
       "        \n",
       "    \n",
       "        var popup_fba112590b7f2cc6aeea5bb9bec96176 = L.popup({\n",
       "  &quot;maxWidth&quot;: &quot;100%&quot;,\n",
       "});\n",
       "\n",
       "        \n",
       "            \n",
       "                var html_c35799e631d7c129a33d80f93de2429f = $(`&lt;div id=&quot;html_c35799e631d7c129a33d80f93de2429f&quot; style=&quot;width: 100.0%; height: 100.0%;&quot;&gt;Mi terraza&lt;/div&gt;`)[0];\n",
       "                popup_fba112590b7f2cc6aeea5bb9bec96176.setContent(html_c35799e631d7c129a33d80f93de2429f);\n",
       "            \n",
       "        \n",
       "\n",
       "        marker_8c666ee925307f01f2c07ef40acf2e78.bindPopup(popup_fba112590b7f2cc6aeea5bb9bec96176)\n",
       "        ;\n",
       "\n",
       "        \n",
       "    \n",
       "    \n",
       "            var marker_b9d64826491f2d7f8ff9763b13bd82d2 = L.marker(\n",
       "                [23.120752030449403, -82.43046798998091],\n",
       "                {\n",
       "}\n",
       "            ).addTo(map_2d5c9f5ad0757b3f2f4dc97ed79838a9);\n",
       "        \n",
       "    \n",
       "            var icon_98ba6aa6c4d49b385f773920ee941ad4 = L.AwesomeMarkers.icon(\n",
       "                {\n",
       "  &quot;markerColor&quot;: &quot;darkblue&quot;,\n",
       "  &quot;iconColor&quot;: &quot;white&quot;,\n",
       "  &quot;icon&quot;: &quot;info-sign&quot;,\n",
       "  &quot;prefix&quot;: &quot;glyphicon&quot;,\n",
       "  &quot;extraClasses&quot;: &quot;fa-rotate-0&quot;,\n",
       "}\n",
       "            );\n",
       "            marker_b9d64826491f2d7f8ff9763b13bd82d2.setIcon(icon_98ba6aa6c4d49b385f773920ee941ad4);\n",
       "        \n",
       "    \n",
       "        var popup_eed2df50beda77713c0afee6817dee83 = L.popup({\n",
       "  &quot;maxWidth&quot;: &quot;100%&quot;,\n",
       "});\n",
       "\n",
       "        \n",
       "            \n",
       "                var html_a1e5034b887a40f3b9efffd8a4bd9fcd = $(`&lt;div id=&quot;html_a1e5034b887a40f3b9efffd8a4bd9fcd&quot; style=&quot;width: 100.0%; height: 100.0%;&quot;&gt;MM&lt;/div&gt;`)[0];\n",
       "                popup_eed2df50beda77713c0afee6817dee83.setContent(html_a1e5034b887a40f3b9efffd8a4bd9fcd);\n",
       "            \n",
       "        \n",
       "\n",
       "        marker_b9d64826491f2d7f8ff9763b13bd82d2.bindPopup(popup_eed2df50beda77713c0afee6817dee83)\n",
       "        ;\n",
       "\n",
       "        \n",
       "    \n",
       "    \n",
       "            var marker_d7a2c63d2df4fc11d07f46a033528959 = L.marker(\n",
       "                [23.089493726076963, -82.42170004354693],\n",
       "                {\n",
       "}\n",
       "            ).addTo(map_2d5c9f5ad0757b3f2f4dc97ed79838a9);\n",
       "        \n",
       "    \n",
       "            var icon_cb43fbc9c0362e78a8da675ff8a7694a = L.AwesomeMarkers.icon(\n",
       "                {\n",
       "  &quot;markerColor&quot;: &quot;darkblue&quot;,\n",
       "  &quot;iconColor&quot;: &quot;white&quot;,\n",
       "  &quot;icon&quot;: &quot;info-sign&quot;,\n",
       "  &quot;prefix&quot;: &quot;glyphicon&quot;,\n",
       "  &quot;extraClasses&quot;: &quot;fa-rotate-0&quot;,\n",
       "}\n",
       "            );\n",
       "            marker_d7a2c63d2df4fc11d07f46a033528959.setIcon(icon_cb43fbc9c0362e78a8da675ff8a7694a);\n",
       "        \n",
       "    \n",
       "        var popup_f30c222d0751b488ad5ff900b59bcd6e = L.popup({\n",
       "  &quot;maxWidth&quot;: &quot;100%&quot;,\n",
       "});\n",
       "\n",
       "        \n",
       "            \n",
       "                var html_f6a1b699007c5b73a14d109d61345b4a = $(`&lt;div id=&quot;html_f6a1b699007c5b73a14d109d61345b4a&quot; style=&quot;width: 100.0%; height: 100.0%;&quot;&gt;MM Cafeteria&lt;/div&gt;`)[0];\n",
       "                popup_f30c222d0751b488ad5ff900b59bcd6e.setContent(html_f6a1b699007c5b73a14d109d61345b4a);\n",
       "            \n",
       "        \n",
       "\n",
       "        marker_d7a2c63d2df4fc11d07f46a033528959.bindPopup(popup_f30c222d0751b488ad5ff900b59bcd6e)\n",
       "        ;\n",
       "\n",
       "        \n",
       "    \n",
       "    \n",
       "            var marker_fd3d10e85165a1ac59307b4d35efb3a7 = L.marker(\n",
       "                [23.11213749973173, -82.41048087665507],\n",
       "                {\n",
       "}\n",
       "            ).addTo(map_2d5c9f5ad0757b3f2f4dc97ed79838a9);\n",
       "        \n",
       "    \n",
       "            var icon_e13da23ca597802d84f9dcf282368f6d = L.AwesomeMarkers.icon(\n",
       "                {\n",
       "  &quot;markerColor&quot;: &quot;darkblue&quot;,\n",
       "  &quot;iconColor&quot;: &quot;white&quot;,\n",
       "  &quot;icon&quot;: &quot;info-sign&quot;,\n",
       "  &quot;prefix&quot;: &quot;glyphicon&quot;,\n",
       "  &quot;extraClasses&quot;: &quot;fa-rotate-0&quot;,\n",
       "}\n",
       "            );\n",
       "            marker_fd3d10e85165a1ac59307b4d35efb3a7.setIcon(icon_e13da23ca597802d84f9dcf282368f6d);\n",
       "        \n",
       "    \n",
       "        var popup_1bbfd7c7b378204f89a6e076ef5a87bf = L.popup({\n",
       "  &quot;maxWidth&quot;: &quot;100%&quot;,\n",
       "});\n",
       "\n",
       "        \n",
       "            \n",
       "                var html_42de7958002a89dba734dc34ff85f0f7 = $(`&lt;div id=&quot;html_42de7958002a89dba734dc34ff85f0f7&quot; style=&quot;width: 100.0%; height: 100.0%;&quot;&gt;Mokalex&lt;/div&gt;`)[0];\n",
       "                popup_1bbfd7c7b378204f89a6e076ef5a87bf.setContent(html_42de7958002a89dba734dc34ff85f0f7);\n",
       "            \n",
       "        \n",
       "\n",
       "        marker_fd3d10e85165a1ac59307b4d35efb3a7.bindPopup(popup_1bbfd7c7b378204f89a6e076ef5a87bf)\n",
       "        ;\n",
       "\n",
       "        \n",
       "    \n",
       "    \n",
       "            var marker_5f1af009b346ed906e177cc056861647 = L.marker(\n",
       "                [23.13771148492377, -82.36400171839173],\n",
       "                {\n",
       "}\n",
       "            ).addTo(map_2d5c9f5ad0757b3f2f4dc97ed79838a9);\n",
       "        \n",
       "    \n",
       "            var icon_e21a91e888e943f32728f12662eccd3f = L.AwesomeMarkers.icon(\n",
       "                {\n",
       "  &quot;markerColor&quot;: &quot;darkblue&quot;,\n",
       "  &quot;iconColor&quot;: &quot;white&quot;,\n",
       "  &quot;icon&quot;: &quot;info-sign&quot;,\n",
       "  &quot;prefix&quot;: &quot;glyphicon&quot;,\n",
       "  &quot;extraClasses&quot;: &quot;fa-rotate-0&quot;,\n",
       "}\n",
       "            );\n",
       "            marker_5f1af009b346ed906e177cc056861647.setIcon(icon_e21a91e888e943f32728f12662eccd3f);\n",
       "        \n",
       "    \n",
       "        var popup_7dee7a6a89ce18e70d9923ab838bcda0 = L.popup({\n",
       "  &quot;maxWidth&quot;: &quot;100%&quot;,\n",
       "});\n",
       "\n",
       "        \n",
       "            \n",
       "                var html_eeaef5efe01d1d4df96ccd617c29bb04 = $(`&lt;div id=&quot;html_eeaef5efe01d1d4df96ccd617c29bb04&quot; style=&quot;width: 100.0%; height: 100.0%;&quot;&gt;Mundo Pizza&lt;/div&gt;`)[0];\n",
       "                popup_7dee7a6a89ce18e70d9923ab838bcda0.setContent(html_eeaef5efe01d1d4df96ccd617c29bb04);\n",
       "            \n",
       "        \n",
       "\n",
       "        marker_5f1af009b346ed906e177cc056861647.bindPopup(popup_7dee7a6a89ce18e70d9923ab838bcda0)\n",
       "        ;\n",
       "\n",
       "        \n",
       "    \n",
       "    \n",
       "            var marker_a69871c9858876e8f94497ac7e438d54 = L.marker(\n",
       "                [23.140326626649397, -82.35251446299252],\n",
       "                {\n",
       "}\n",
       "            ).addTo(map_2d5c9f5ad0757b3f2f4dc97ed79838a9);\n",
       "        \n",
       "    \n",
       "            var icon_0493cb079ce58a0ab765149a4410f987 = L.AwesomeMarkers.icon(\n",
       "                {\n",
       "  &quot;markerColor&quot;: &quot;darkblue&quot;,\n",
       "  &quot;iconColor&quot;: &quot;white&quot;,\n",
       "  &quot;icon&quot;: &quot;info-sign&quot;,\n",
       "  &quot;prefix&quot;: &quot;glyphicon&quot;,\n",
       "  &quot;extraClasses&quot;: &quot;fa-rotate-0&quot;,\n",
       "}\n",
       "            );\n",
       "            marker_a69871c9858876e8f94497ac7e438d54.setIcon(icon_0493cb079ce58a0ab765149a4410f987);\n",
       "        \n",
       "    \n",
       "        var popup_89d5f0bfbbca5778715fe7967fa97dac = L.popup({\n",
       "  &quot;maxWidth&quot;: &quot;100%&quot;,\n",
       "});\n",
       "\n",
       "        \n",
       "            \n",
       "                var html_f8fdfafe270328bbe32c74055f447673 = $(`&lt;div id=&quot;html_f8fdfafe270328bbe32c74055f447673&quot; style=&quot;width: 100.0%; height: 100.0%;&quot;&gt;Mythos&lt;/div&gt;`)[0];\n",
       "                popup_89d5f0bfbbca5778715fe7967fa97dac.setContent(html_f8fdfafe270328bbe32c74055f447673);\n",
       "            \n",
       "        \n",
       "\n",
       "        marker_a69871c9858876e8f94497ac7e438d54.bindPopup(popup_89d5f0bfbbca5778715fe7967fa97dac)\n",
       "        ;\n",
       "\n",
       "        \n",
       "    \n",
       "    \n",
       "            var marker_f646653e1557a202fa2a44c17855b990 = L.marker(\n",
       "                [23.089346944948087, -82.36006598018456],\n",
       "                {\n",
       "}\n",
       "            ).addTo(map_2d5c9f5ad0757b3f2f4dc97ed79838a9);\n",
       "        \n",
       "    \n",
       "            var icon_e5c9e17f52815fcb8bfb62ac0550c794 = L.AwesomeMarkers.icon(\n",
       "                {\n",
       "  &quot;markerColor&quot;: &quot;darkblue&quot;,\n",
       "  &quot;iconColor&quot;: &quot;white&quot;,\n",
       "  &quot;icon&quot;: &quot;info-sign&quot;,\n",
       "  &quot;prefix&quot;: &quot;glyphicon&quot;,\n",
       "  &quot;extraClasses&quot;: &quot;fa-rotate-0&quot;,\n",
       "}\n",
       "            );\n",
       "            marker_f646653e1557a202fa2a44c17855b990.setIcon(icon_e5c9e17f52815fcb8bfb62ac0550c794);\n",
       "        \n",
       "    \n",
       "        var popup_4afac4391d8a5f726894f035f8d7e847 = L.popup({\n",
       "  &quot;maxWidth&quot;: &quot;100%&quot;,\n",
       "});\n",
       "\n",
       "        \n",
       "            \n",
       "                var html_005d74008f39453e57fca78bfc9d67c2 = $(`&lt;div id=&quot;html_005d74008f39453e57fca78bfc9d67c2&quot; style=&quot;width: 100.0%; height: 100.0%;&quot;&gt;Nel Paradiso&lt;/div&gt;`)[0];\n",
       "                popup_4afac4391d8a5f726894f035f8d7e847.setContent(html_005d74008f39453e57fca78bfc9d67c2);\n",
       "            \n",
       "        \n",
       "\n",
       "        marker_f646653e1557a202fa2a44c17855b990.bindPopup(popup_4afac4391d8a5f726894f035f8d7e847)\n",
       "        ;\n",
       "\n",
       "        \n",
       "    \n",
       "    \n",
       "            var marker_55194ec31e4a50c0bf3206d1684182b3 = L.marker(\n",
       "                [23.05199571820644, -82.33216728909895],\n",
       "                {\n",
       "}\n",
       "            ).addTo(map_2d5c9f5ad0757b3f2f4dc97ed79838a9);\n",
       "        \n",
       "    \n",
       "            var icon_b191c14b7bf6c562a7ed107a51953044 = L.AwesomeMarkers.icon(\n",
       "                {\n",
       "  &quot;markerColor&quot;: &quot;darkblue&quot;,\n",
       "  &quot;iconColor&quot;: &quot;white&quot;,\n",
       "  &quot;icon&quot;: &quot;info-sign&quot;,\n",
       "  &quot;prefix&quot;: &quot;glyphicon&quot;,\n",
       "  &quot;extraClasses&quot;: &quot;fa-rotate-0&quot;,\n",
       "}\n",
       "            );\n",
       "            marker_55194ec31e4a50c0bf3206d1684182b3.setIcon(icon_b191c14b7bf6c562a7ed107a51953044);\n",
       "        \n",
       "    \n",
       "        var popup_0413baed305c829fc1286063b1e96c57 = L.popup({\n",
       "  &quot;maxWidth&quot;: &quot;100%&quot;,\n",
       "});\n",
       "\n",
       "        \n",
       "            \n",
       "                var html_006c7959698cd212b4df6979b9cf9322 = $(`&lt;div id=&quot;html_006c7959698cd212b4df6979b9cf9322&quot; style=&quot;width: 100.0%; height: 100.0%;&quot;&gt;Comida Criolla Ocho Vías&lt;/div&gt;`)[0];\n",
       "                popup_0413baed305c829fc1286063b1e96c57.setContent(html_006c7959698cd212b4df6979b9cf9322);\n",
       "            \n",
       "        \n",
       "\n",
       "        marker_55194ec31e4a50c0bf3206d1684182b3.bindPopup(popup_0413baed305c829fc1286063b1e96c57)\n",
       "        ;\n",
       "\n",
       "        \n",
       "    \n",
       "    \n",
       "            var marker_ba3c1c958d1f82e568737d42e797c371 = L.marker(\n",
       "                [23.043767256568298, -82.25328207851484],\n",
       "                {\n",
       "}\n",
       "            ).addTo(map_2d5c9f5ad0757b3f2f4dc97ed79838a9);\n",
       "        \n",
       "    \n",
       "            var icon_e35d06432a74cea0d989a564f19d8e4a = L.AwesomeMarkers.icon(\n",
       "                {\n",
       "  &quot;markerColor&quot;: &quot;darkblue&quot;,\n",
       "  &quot;iconColor&quot;: &quot;white&quot;,\n",
       "  &quot;icon&quot;: &quot;info-sign&quot;,\n",
       "  &quot;prefix&quot;: &quot;glyphicon&quot;,\n",
       "  &quot;extraClasses&quot;: &quot;fa-rotate-0&quot;,\n",
       "}\n",
       "            );\n",
       "            marker_ba3c1c958d1f82e568737d42e797c371.setIcon(icon_e35d06432a74cea0d989a564f19d8e4a);\n",
       "        \n",
       "    \n",
       "        var popup_1ca249f759fac7010f852161bf5363d3 = L.popup({\n",
       "  &quot;maxWidth&quot;: &quot;100%&quot;,\n",
       "});\n",
       "\n",
       "        \n",
       "            \n",
       "                var html_307a64a951ac84984b377269d2b3bd0d = $(`&lt;div id=&quot;html_307a64a951ac84984b377269d2b3bd0d&quot; style=&quot;width: 100.0%; height: 100.0%;&quot;&gt;Ole Ole&lt;/div&gt;`)[0];\n",
       "                popup_1ca249f759fac7010f852161bf5363d3.setContent(html_307a64a951ac84984b377269d2b3bd0d);\n",
       "            \n",
       "        \n",
       "\n",
       "        marker_ba3c1c958d1f82e568737d42e797c371.bindPopup(popup_1ca249f759fac7010f852161bf5363d3)\n",
       "        ;\n",
       "\n",
       "        \n",
       "    \n",
       "    \n",
       "            var marker_8eaf7c51821799bf4392ece59e214cca = L.marker(\n",
       "                [23.11917180897718, -82.41453997132663],\n",
       "                {\n",
       "}\n",
       "            ).addTo(map_2d5c9f5ad0757b3f2f4dc97ed79838a9);\n",
       "        \n",
       "    \n",
       "            var icon_f6fdb35d9cb5917773d89fea8cbf98ca = L.AwesomeMarkers.icon(\n",
       "                {\n",
       "  &quot;markerColor&quot;: &quot;darkblue&quot;,\n",
       "  &quot;iconColor&quot;: &quot;white&quot;,\n",
       "  &quot;icon&quot;: &quot;info-sign&quot;,\n",
       "  &quot;prefix&quot;: &quot;glyphicon&quot;,\n",
       "  &quot;extraClasses&quot;: &quot;fa-rotate-0&quot;,\n",
       "}\n",
       "            );\n",
       "            marker_8eaf7c51821799bf4392ece59e214cca.setIcon(icon_f6fdb35d9cb5917773d89fea8cbf98ca);\n",
       "        \n",
       "    \n",
       "        var popup_cd3ada4802fe59c88450d3c174664b32 = L.popup({\n",
       "  &quot;maxWidth&quot;: &quot;100%&quot;,\n",
       "});\n",
       "\n",
       "        \n",
       "            \n",
       "                var html_e442351865e75f6a018c8d7a602063cb = $(`&lt;div id=&quot;html_e442351865e75f6a018c8d7a602063cb&quot; style=&quot;width: 100.0%; height: 100.0%;&quot;&gt;Otra manera&lt;/div&gt;`)[0];\n",
       "                popup_cd3ada4802fe59c88450d3c174664b32.setContent(html_e442351865e75f6a018c8d7a602063cb);\n",
       "            \n",
       "        \n",
       "\n",
       "        marker_8eaf7c51821799bf4392ece59e214cca.bindPopup(popup_cd3ada4802fe59c88450d3c174664b32)\n",
       "        ;\n",
       "\n",
       "        \n",
       "    \n",
       "    \n",
       "            var marker_ae07aee44e783413b4f9c0f33f611139 = L.marker(\n",
       "                [23.03093446114541, -82.26395872798486],\n",
       "                {\n",
       "}\n",
       "            ).addTo(map_2d5c9f5ad0757b3f2f4dc97ed79838a9);\n",
       "        \n",
       "    \n",
       "            var icon_6dc6676cc94a2150afd8cbef63d205ec = L.AwesomeMarkers.icon(\n",
       "                {\n",
       "  &quot;markerColor&quot;: &quot;darkblue&quot;,\n",
       "  &quot;iconColor&quot;: &quot;white&quot;,\n",
       "  &quot;icon&quot;: &quot;info-sign&quot;,\n",
       "  &quot;prefix&quot;: &quot;glyphicon&quot;,\n",
       "  &quot;extraClasses&quot;: &quot;fa-rotate-0&quot;,\n",
       "}\n",
       "            );\n",
       "            marker_ae07aee44e783413b4f9c0f33f611139.setIcon(icon_6dc6676cc94a2150afd8cbef63d205ec);\n",
       "        \n",
       "    \n",
       "        var popup_68e9220a5e96f78935050b8abc764061 = L.popup({\n",
       "  &quot;maxWidth&quot;: &quot;100%&quot;,\n",
       "});\n",
       "\n",
       "        \n",
       "            \n",
       "                var html_d15e626844c4ca5d5e8084a58102000e = $(`&lt;div id=&quot;html_d15e626844c4ca5d5e8084a58102000e&quot; style=&quot;width: 100.0%; height: 100.0%;&quot;&gt;Pal&#x27;Karajo&lt;/div&gt;`)[0];\n",
       "                popup_68e9220a5e96f78935050b8abc764061.setContent(html_d15e626844c4ca5d5e8084a58102000e);\n",
       "            \n",
       "        \n",
       "\n",
       "        marker_ae07aee44e783413b4f9c0f33f611139.bindPopup(popup_68e9220a5e96f78935050b8abc764061)\n",
       "        ;\n",
       "\n",
       "        \n",
       "    \n",
       "    \n",
       "            var marker_303a008edd48abd4e57747324e19f1ac = L.marker(\n",
       "                [23.117985952744846, -82.41582832900848],\n",
       "                {\n",
       "}\n",
       "            ).addTo(map_2d5c9f5ad0757b3f2f4dc97ed79838a9);\n",
       "        \n",
       "    \n",
       "            var icon_1bc52d7bd94aeb39956e75948a3d388e = L.AwesomeMarkers.icon(\n",
       "                {\n",
       "  &quot;markerColor&quot;: &quot;darkblue&quot;,\n",
       "  &quot;iconColor&quot;: &quot;white&quot;,\n",
       "  &quot;icon&quot;: &quot;info-sign&quot;,\n",
       "  &quot;prefix&quot;: &quot;glyphicon&quot;,\n",
       "  &quot;extraClasses&quot;: &quot;fa-rotate-0&quot;,\n",
       "}\n",
       "            );\n",
       "            marker_303a008edd48abd4e57747324e19f1ac.setIcon(icon_1bc52d7bd94aeb39956e75948a3d388e);\n",
       "        \n",
       "    \n",
       "        var popup_f286630ee2a26759e6bffa5d10f8b990 = L.popup({\n",
       "  &quot;maxWidth&quot;: &quot;100%&quot;,\n",
       "});\n",
       "\n",
       "        \n",
       "            \n",
       "                var html_e7da7cecb9362efd23cf40b6007c7ca7 = $(`&lt;div id=&quot;html_e7da7cecb9362efd23cf40b6007c7ca7&quot; style=&quot;width: 100.0%; height: 100.0%;&quot;&gt;Pechatniky&lt;/div&gt;`)[0];\n",
       "                popup_f286630ee2a26759e6bffa5d10f8b990.setContent(html_e7da7cecb9362efd23cf40b6007c7ca7);\n",
       "            \n",
       "        \n",
       "\n",
       "        marker_303a008edd48abd4e57747324e19f1ac.bindPopup(popup_f286630ee2a26759e6bffa5d10f8b990)\n",
       "        ;\n",
       "\n",
       "        \n",
       "    \n",
       "    \n",
       "            var marker_5cbb31899396013f1d1e7c0339e27d68 = L.marker(\n",
       "                [23.136930631399565, -82.36181409182808],\n",
       "                {\n",
       "}\n",
       "            ).addTo(map_2d5c9f5ad0757b3f2f4dc97ed79838a9);\n",
       "        \n",
       "    \n",
       "            var icon_7431eec1930360c2080f173534a0a6c7 = L.AwesomeMarkers.icon(\n",
       "                {\n",
       "  &quot;markerColor&quot;: &quot;darkblue&quot;,\n",
       "  &quot;iconColor&quot;: &quot;white&quot;,\n",
       "  &quot;icon&quot;: &quot;info-sign&quot;,\n",
       "  &quot;prefix&quot;: &quot;glyphicon&quot;,\n",
       "  &quot;extraClasses&quot;: &quot;fa-rotate-0&quot;,\n",
       "}\n",
       "            );\n",
       "            marker_5cbb31899396013f1d1e7c0339e27d68.setIcon(icon_7431eec1930360c2080f173534a0a6c7);\n",
       "        \n",
       "    \n",
       "        var popup_a620faf16bdccd82ace1a83659e72f0a = L.popup({\n",
       "  &quot;maxWidth&quot;: &quot;100%&quot;,\n",
       "});\n",
       "\n",
       "        \n",
       "            \n",
       "                var html_4bfeaeaa41210a1573db66c33ae7ff46 = $(`&lt;div id=&quot;html_4bfeaeaa41210a1573db66c33ae7ff46&quot; style=&quot;width: 100.0%; height: 100.0%;&quot;&gt;Pedro&#x27;s Bar&lt;/div&gt;`)[0];\n",
       "                popup_a620faf16bdccd82ace1a83659e72f0a.setContent(html_4bfeaeaa41210a1573db66c33ae7ff46);\n",
       "            \n",
       "        \n",
       "\n",
       "        marker_5cbb31899396013f1d1e7c0339e27d68.bindPopup(popup_a620faf16bdccd82ace1a83659e72f0a)\n",
       "        ;\n",
       "\n",
       "        \n",
       "    \n",
       "    \n",
       "            var marker_30e79565d9a1ebb1c3cbfadb888e1a30 = L.marker(\n",
       "                [23.119504136300304, -82.30350509953864],\n",
       "                {\n",
       "}\n",
       "            ).addTo(map_2d5c9f5ad0757b3f2f4dc97ed79838a9);\n",
       "        \n",
       "    \n",
       "            var icon_b6c09f79191c5b10d1de91db12a37b60 = L.AwesomeMarkers.icon(\n",
       "                {\n",
       "  &quot;markerColor&quot;: &quot;darkblue&quot;,\n",
       "  &quot;iconColor&quot;: &quot;white&quot;,\n",
       "  &quot;icon&quot;: &quot;info-sign&quot;,\n",
       "  &quot;prefix&quot;: &quot;glyphicon&quot;,\n",
       "  &quot;extraClasses&quot;: &quot;fa-rotate-0&quot;,\n",
       "}\n",
       "            );\n",
       "            marker_30e79565d9a1ebb1c3cbfadb888e1a30.setIcon(icon_b6c09f79191c5b10d1de91db12a37b60);\n",
       "        \n",
       "    \n",
       "        var popup_49fda4da20719a841021d93e0b2807a3 = L.popup({\n",
       "  &quot;maxWidth&quot;: &quot;100%&quot;,\n",
       "});\n",
       "\n",
       "        \n",
       "            \n",
       "                var html_24b02811521632bf34f3dc8928ac736c = $(`&lt;div id=&quot;html_24b02811521632bf34f3dc8928ac736c&quot; style=&quot;width: 100.0%; height: 100.0%;&quot;&gt;Pizzas Vip&lt;/div&gt;`)[0];\n",
       "                popup_49fda4da20719a841021d93e0b2807a3.setContent(html_24b02811521632bf34f3dc8928ac736c);\n",
       "            \n",
       "        \n",
       "\n",
       "        marker_30e79565d9a1ebb1c3cbfadb888e1a30.bindPopup(popup_49fda4da20719a841021d93e0b2807a3)\n",
       "        ;\n",
       "\n",
       "        \n",
       "    \n",
       "    \n",
       "            var marker_06fab74d800128824ad2bc4bb2a71b73 = L.marker(\n",
       "                [23.139568075702893, -82.35939313561359],\n",
       "                {\n",
       "}\n",
       "            ).addTo(map_2d5c9f5ad0757b3f2f4dc97ed79838a9);\n",
       "        \n",
       "    \n",
       "            var icon_5c0faa89d3258a01898670d0f967a1b0 = L.AwesomeMarkers.icon(\n",
       "                {\n",
       "  &quot;markerColor&quot;: &quot;darkblue&quot;,\n",
       "  &quot;iconColor&quot;: &quot;white&quot;,\n",
       "  &quot;icon&quot;: &quot;info-sign&quot;,\n",
       "  &quot;prefix&quot;: &quot;glyphicon&quot;,\n",
       "  &quot;extraClasses&quot;: &quot;fa-rotate-0&quot;,\n",
       "}\n",
       "            );\n",
       "            marker_06fab74d800128824ad2bc4bb2a71b73.setIcon(icon_5c0faa89d3258a01898670d0f967a1b0);\n",
       "        \n",
       "    \n",
       "        var popup_1bb38a8d85cd5546b1c741bd9d5314c6 = L.popup({\n",
       "  &quot;maxWidth&quot;: &quot;100%&quot;,\n",
       "});\n",
       "\n",
       "        \n",
       "            \n",
       "                var html_4126d4b9f9b6539b95669935da939fec = $(`&lt;div id=&quot;html_4126d4b9f9b6539b95669935da939fec&quot; style=&quot;width: 100.0%; height: 100.0%;&quot;&gt;Planh Enoteca &amp; Restaurante Mithai&lt;/div&gt;`)[0];\n",
       "                popup_1bb38a8d85cd5546b1c741bd9d5314c6.setContent(html_4126d4b9f9b6539b95669935da939fec);\n",
       "            \n",
       "        \n",
       "\n",
       "        marker_06fab74d800128824ad2bc4bb2a71b73.bindPopup(popup_1bb38a8d85cd5546b1c741bd9d5314c6)\n",
       "        ;\n",
       "\n",
       "        \n",
       "    \n",
       "    \n",
       "            var marker_25ff365f0064c2d79d8f06465934591a = L.marker(\n",
       "                [23.12218548403461, -82.30787987833503],\n",
       "                {\n",
       "}\n",
       "            ).addTo(map_2d5c9f5ad0757b3f2f4dc97ed79838a9);\n",
       "        \n",
       "    \n",
       "            var icon_42ed0773c4d9778405c396e69af29dae = L.AwesomeMarkers.icon(\n",
       "                {\n",
       "  &quot;markerColor&quot;: &quot;darkblue&quot;,\n",
       "  &quot;iconColor&quot;: &quot;white&quot;,\n",
       "  &quot;icon&quot;: &quot;info-sign&quot;,\n",
       "  &quot;prefix&quot;: &quot;glyphicon&quot;,\n",
       "  &quot;extraClasses&quot;: &quot;fa-rotate-0&quot;,\n",
       "}\n",
       "            );\n",
       "            marker_25ff365f0064c2d79d8f06465934591a.setIcon(icon_42ed0773c4d9778405c396e69af29dae);\n",
       "        \n",
       "    \n",
       "        var popup_7f7d6f1aa69180e68aac92823ddd16d0 = L.popup({\n",
       "  &quot;maxWidth&quot;: &quot;100%&quot;,\n",
       "});\n",
       "\n",
       "        \n",
       "            \n",
       "                var html_3ad2e98fe69ef6897153b67b5ff0955a = $(`&lt;div id=&quot;html_3ad2e98fe69ef6897153b67b5ff0955a&quot; style=&quot;width: 100.0%; height: 100.0%;&quot;&gt;Polo&lt;/div&gt;`)[0];\n",
       "                popup_7f7d6f1aa69180e68aac92823ddd16d0.setContent(html_3ad2e98fe69ef6897153b67b5ff0955a);\n",
       "            \n",
       "        \n",
       "\n",
       "        marker_25ff365f0064c2d79d8f06465934591a.bindPopup(popup_7f7d6f1aa69180e68aac92823ddd16d0)\n",
       "        ;\n",
       "\n",
       "        \n",
       "    \n",
       "    \n",
       "            var marker_5b7392a5dd08845616590902d66a958f = L.marker(\n",
       "                [23.077784762125038, -82.46936259237634],\n",
       "                {\n",
       "}\n",
       "            ).addTo(map_2d5c9f5ad0757b3f2f4dc97ed79838a9);\n",
       "        \n",
       "    \n",
       "            var icon_769a2aaf18cc8dd45f7441a40bfbc05c = L.AwesomeMarkers.icon(\n",
       "                {\n",
       "  &quot;markerColor&quot;: &quot;darkblue&quot;,\n",
       "  &quot;iconColor&quot;: &quot;white&quot;,\n",
       "  &quot;icon&quot;: &quot;info-sign&quot;,\n",
       "  &quot;prefix&quot;: &quot;glyphicon&quot;,\n",
       "  &quot;extraClasses&quot;: &quot;fa-rotate-0&quot;,\n",
       "}\n",
       "            );\n",
       "            marker_5b7392a5dd08845616590902d66a958f.setIcon(icon_769a2aaf18cc8dd45f7441a40bfbc05c);\n",
       "        \n",
       "    \n",
       "        var popup_78131311b13d43fffb1cd09dc4d0a1e4 = L.popup({\n",
       "  &quot;maxWidth&quot;: &quot;100%&quot;,\n",
       "});\n",
       "\n",
       "        \n",
       "            \n",
       "                var html_c68ddb8f8caa4703224b056b5e2dd2cf = $(`&lt;div id=&quot;html_c68ddb8f8caa4703224b056b5e2dd2cf&quot; style=&quot;width: 100.0%; height: 100.0%;&quot;&gt;Qbanas 60&lt;/div&gt;`)[0];\n",
       "                popup_78131311b13d43fffb1cd09dc4d0a1e4.setContent(html_c68ddb8f8caa4703224b056b5e2dd2cf);\n",
       "            \n",
       "        \n",
       "\n",
       "        marker_5b7392a5dd08845616590902d66a958f.bindPopup(popup_78131311b13d43fffb1cd09dc4d0a1e4)\n",
       "        ;\n",
       "\n",
       "        \n",
       "    \n",
       "    \n",
       "            var marker_80662edf88cb246f551bd90d795e3f29 = L.marker(\n",
       "                [23.04726944912177, -82.3630574258128],\n",
       "                {\n",
       "}\n",
       "            ).addTo(map_2d5c9f5ad0757b3f2f4dc97ed79838a9);\n",
       "        \n",
       "    \n",
       "            var icon_31f869905c76a67dc4108690a682f2b1 = L.AwesomeMarkers.icon(\n",
       "                {\n",
       "  &quot;markerColor&quot;: &quot;darkblue&quot;,\n",
       "  &quot;iconColor&quot;: &quot;white&quot;,\n",
       "  &quot;icon&quot;: &quot;info-sign&quot;,\n",
       "  &quot;prefix&quot;: &quot;glyphicon&quot;,\n",
       "  &quot;extraClasses&quot;: &quot;fa-rotate-0&quot;,\n",
       "}\n",
       "            );\n",
       "            marker_80662edf88cb246f551bd90d795e3f29.setIcon(icon_31f869905c76a67dc4108690a682f2b1);\n",
       "        \n",
       "    \n",
       "        var popup_e5fad4b257205667123a0bb861717215 = L.popup({\n",
       "  &quot;maxWidth&quot;: &quot;100%&quot;,\n",
       "});\n",
       "\n",
       "        \n",
       "            \n",
       "                var html_ae342bfcc2ba7b82558f948cbbbc67bd = $(`&lt;div id=&quot;html_ae342bfcc2ba7b82558f948cbbbc67bd&quot; style=&quot;width: 100.0%; height: 100.0%;&quot;&gt;Qué chévere&lt;/div&gt;`)[0];\n",
       "                popup_e5fad4b257205667123a0bb861717215.setContent(html_ae342bfcc2ba7b82558f948cbbbc67bd);\n",
       "            \n",
       "        \n",
       "\n",
       "        marker_80662edf88cb246f551bd90d795e3f29.bindPopup(popup_e5fad4b257205667123a0bb861717215)\n",
       "        ;\n",
       "\n",
       "        \n",
       "    \n",
       "    \n",
       "            var marker_0e8915882e24d6161574078a78c789ab = L.marker(\n",
       "                [23.089740127860885, -82.421562507278],\n",
       "                {\n",
       "}\n",
       "            ).addTo(map_2d5c9f5ad0757b3f2f4dc97ed79838a9);\n",
       "        \n",
       "    \n",
       "            var icon_2544eca8ba38df488e67cf1f8fc16b12 = L.AwesomeMarkers.icon(\n",
       "                {\n",
       "  &quot;markerColor&quot;: &quot;darkblue&quot;,\n",
       "  &quot;iconColor&quot;: &quot;white&quot;,\n",
       "  &quot;icon&quot;: &quot;info-sign&quot;,\n",
       "  &quot;prefix&quot;: &quot;glyphicon&quot;,\n",
       "  &quot;extraClasses&quot;: &quot;fa-rotate-0&quot;,\n",
       "}\n",
       "            );\n",
       "            marker_0e8915882e24d6161574078a78c789ab.setIcon(icon_2544eca8ba38df488e67cf1f8fc16b12);\n",
       "        \n",
       "    \n",
       "        var popup_80471c5d37c8a5de260da7f507c4fea4 = L.popup({\n",
       "  &quot;maxWidth&quot;: &quot;100%&quot;,\n",
       "});\n",
       "\n",
       "        \n",
       "            \n",
       "                var html_658314f096d1c0e935e1b089b70b58ed = $(`&lt;div id=&quot;html_658314f096d1c0e935e1b089b70b58ed&quot; style=&quot;width: 100.0%; height: 100.0%;&quot;&gt;Ranchon de 41&lt;/div&gt;`)[0];\n",
       "                popup_80471c5d37c8a5de260da7f507c4fea4.setContent(html_658314f096d1c0e935e1b089b70b58ed);\n",
       "            \n",
       "        \n",
       "\n",
       "        marker_0e8915882e24d6161574078a78c789ab.bindPopup(popup_80471c5d37c8a5de260da7f507c4fea4)\n",
       "        ;\n",
       "\n",
       "        \n",
       "    \n",
       "    \n",
       "            var marker_2aac3d09eadd3bbff4a73d68c999990b = L.marker(\n",
       "                [23.03192045701879, -82.47284867841391],\n",
       "                {\n",
       "}\n",
       "            ).addTo(map_2d5c9f5ad0757b3f2f4dc97ed79838a9);\n",
       "        \n",
       "    \n",
       "            var icon_7e0f16653ca6ef6c0caec697a74a97a5 = L.AwesomeMarkers.icon(\n",
       "                {\n",
       "  &quot;markerColor&quot;: &quot;darkblue&quot;,\n",
       "  &quot;iconColor&quot;: &quot;white&quot;,\n",
       "  &quot;icon&quot;: &quot;info-sign&quot;,\n",
       "  &quot;prefix&quot;: &quot;glyphicon&quot;,\n",
       "  &quot;extraClasses&quot;: &quot;fa-rotate-0&quot;,\n",
       "}\n",
       "            );\n",
       "            marker_2aac3d09eadd3bbff4a73d68c999990b.setIcon(icon_7e0f16653ca6ef6c0caec697a74a97a5);\n",
       "        \n",
       "    \n",
       "        var popup_19abb426bc61a706365ebabc373b3025 = L.popup({\n",
       "  &quot;maxWidth&quot;: &quot;100%&quot;,\n",
       "});\n",
       "\n",
       "        \n",
       "            \n",
       "                var html_e5bf5128a9045c43fb2566af7315c004 = $(`&lt;div id=&quot;html_e5bf5128a9045c43fb2566af7315c004&quot; style=&quot;width: 100.0%; height: 100.0%;&quot;&gt;Ranchon Don Martin&lt;/div&gt;`)[0];\n",
       "                popup_19abb426bc61a706365ebabc373b3025.setContent(html_e5bf5128a9045c43fb2566af7315c004);\n",
       "            \n",
       "        \n",
       "\n",
       "        marker_2aac3d09eadd3bbff4a73d68c999990b.bindPopup(popup_19abb426bc61a706365ebabc373b3025)\n",
       "        ;\n",
       "\n",
       "        \n",
       "    \n",
       "    \n",
       "            var marker_33b59894883b4c641f5c8156f1350f45 = L.marker(\n",
       "                [22.97502374928816, -82.39251235971446],\n",
       "                {\n",
       "}\n",
       "            ).addTo(map_2d5c9f5ad0757b3f2f4dc97ed79838a9);\n",
       "        \n",
       "    \n",
       "            var icon_ccc3fff00a00dea1545be099abb573db = L.AwesomeMarkers.icon(\n",
       "                {\n",
       "  &quot;markerColor&quot;: &quot;darkblue&quot;,\n",
       "  &quot;iconColor&quot;: &quot;white&quot;,\n",
       "  &quot;icon&quot;: &quot;info-sign&quot;,\n",
       "  &quot;prefix&quot;: &quot;glyphicon&quot;,\n",
       "  &quot;extraClasses&quot;: &quot;fa-rotate-0&quot;,\n",
       "}\n",
       "            );\n",
       "            marker_33b59894883b4c641f5c8156f1350f45.setIcon(icon_ccc3fff00a00dea1545be099abb573db);\n",
       "        \n",
       "    \n",
       "        var popup_b8d1433d81fbf0897a2c3cf898b1e517 = L.popup({\n",
       "  &quot;maxWidth&quot;: &quot;100%&quot;,\n",
       "});\n",
       "\n",
       "        \n",
       "            \n",
       "                var html_fdd653a1433ee2d6598ad4ba7acde994 = $(`&lt;div id=&quot;html_fdd653a1433ee2d6598ad4ba7acde994&quot; style=&quot;width: 100.0%; height: 100.0%;&quot;&gt;Ranchon El Pinareño&lt;/div&gt;`)[0];\n",
       "                popup_b8d1433d81fbf0897a2c3cf898b1e517.setContent(html_fdd653a1433ee2d6598ad4ba7acde994);\n",
       "            \n",
       "        \n",
       "\n",
       "        marker_33b59894883b4c641f5c8156f1350f45.bindPopup(popup_b8d1433d81fbf0897a2c3cf898b1e517)\n",
       "        ;\n",
       "\n",
       "        \n",
       "    \n",
       "    \n",
       "            var marker_29356ce9d2623503472ee26714e1cccf = L.marker(\n",
       "                [22.967607839818697, -82.38841192208918],\n",
       "                {\n",
       "}\n",
       "            ).addTo(map_2d5c9f5ad0757b3f2f4dc97ed79838a9);\n",
       "        \n",
       "    \n",
       "            var icon_271ca89769bd7a31797eb4c4b70ea8f0 = L.AwesomeMarkers.icon(\n",
       "                {\n",
       "  &quot;markerColor&quot;: &quot;darkblue&quot;,\n",
       "  &quot;iconColor&quot;: &quot;white&quot;,\n",
       "  &quot;icon&quot;: &quot;info-sign&quot;,\n",
       "  &quot;prefix&quot;: &quot;glyphicon&quot;,\n",
       "  &quot;extraClasses&quot;: &quot;fa-rotate-0&quot;,\n",
       "}\n",
       "            );\n",
       "            marker_29356ce9d2623503472ee26714e1cccf.setIcon(icon_271ca89769bd7a31797eb4c4b70ea8f0);\n",
       "        \n",
       "    \n",
       "        var popup_dc5597b92e621c79eb2d29ee878f8a32 = L.popup({\n",
       "  &quot;maxWidth&quot;: &quot;100%&quot;,\n",
       "});\n",
       "\n",
       "        \n",
       "            \n",
       "                var html_912c8e43067d3ad6abbd7ba550ba27b2 = $(`&lt;div id=&quot;html_912c8e43067d3ad6abbd7ba550ba27b2&quot; style=&quot;width: 100.0%; height: 100.0%;&quot;&gt;Rancho Blanco&lt;/div&gt;`)[0];\n",
       "                popup_dc5597b92e621c79eb2d29ee878f8a32.setContent(html_912c8e43067d3ad6abbd7ba550ba27b2);\n",
       "            \n",
       "        \n",
       "\n",
       "        marker_29356ce9d2623503472ee26714e1cccf.bindPopup(popup_dc5597b92e621c79eb2d29ee878f8a32)\n",
       "        ;\n",
       "\n",
       "        \n",
       "    \n",
       "    \n",
       "            var marker_f4b823c15f8d4b909873f329df5ce573 = L.marker(\n",
       "                [23.14334346067267, -82.39569989367574],\n",
       "                {\n",
       "}\n",
       "            ).addTo(map_2d5c9f5ad0757b3f2f4dc97ed79838a9);\n",
       "        \n",
       "    \n",
       "            var icon_89ed2914061be2b9ce5437e39ea5e50f = L.AwesomeMarkers.icon(\n",
       "                {\n",
       "  &quot;markerColor&quot;: &quot;darkblue&quot;,\n",
       "  &quot;iconColor&quot;: &quot;white&quot;,\n",
       "  &quot;icon&quot;: &quot;info-sign&quot;,\n",
       "  &quot;prefix&quot;: &quot;glyphicon&quot;,\n",
       "  &quot;extraClasses&quot;: &quot;fa-rotate-0&quot;,\n",
       "}\n",
       "            );\n",
       "            marker_f4b823c15f8d4b909873f329df5ce573.setIcon(icon_89ed2914061be2b9ce5437e39ea5e50f);\n",
       "        \n",
       "    \n",
       "        var popup_1a40c23fa89ae6525ebca8c0e9af4475 = L.popup({\n",
       "  &quot;maxWidth&quot;: &quot;100%&quot;,\n",
       "});\n",
       "\n",
       "        \n",
       "            \n",
       "                var html_2db1d6751abbc1b96d8b98fa93767b5c = $(`&lt;div id=&quot;html_2db1d6751abbc1b96d8b98fa93767b5c&quot; style=&quot;width: 100.0%; height: 100.0%;&quot;&gt;Razones y motivos&lt;/div&gt;`)[0];\n",
       "                popup_1a40c23fa89ae6525ebca8c0e9af4475.setContent(html_2db1d6751abbc1b96d8b98fa93767b5c);\n",
       "            \n",
       "        \n",
       "\n",
       "        marker_f4b823c15f8d4b909873f329df5ce573.bindPopup(popup_1a40c23fa89ae6525ebca8c0e9af4475)\n",
       "        ;\n",
       "\n",
       "        \n",
       "    \n",
       "    \n",
       "            var marker_c74499edc2f2237cd373ce6fab39c8fa = L.marker(\n",
       "                [23.12540621324244, -82.33255714289457],\n",
       "                {\n",
       "}\n",
       "            ).addTo(map_2d5c9f5ad0757b3f2f4dc97ed79838a9);\n",
       "        \n",
       "    \n",
       "            var icon_d929a2b672287e2b27e42d247f29b3a0 = L.AwesomeMarkers.icon(\n",
       "                {\n",
       "  &quot;markerColor&quot;: &quot;darkblue&quot;,\n",
       "  &quot;iconColor&quot;: &quot;white&quot;,\n",
       "  &quot;icon&quot;: &quot;info-sign&quot;,\n",
       "  &quot;prefix&quot;: &quot;glyphicon&quot;,\n",
       "  &quot;extraClasses&quot;: &quot;fa-rotate-0&quot;,\n",
       "}\n",
       "            );\n",
       "            marker_c74499edc2f2237cd373ce6fab39c8fa.setIcon(icon_d929a2b672287e2b27e42d247f29b3a0);\n",
       "        \n",
       "    \n",
       "        var popup_4621a425a6fa7d199491d64089431673 = L.popup({\n",
       "  &quot;maxWidth&quot;: &quot;100%&quot;,\n",
       "});\n",
       "\n",
       "        \n",
       "            \n",
       "                var html_654050ddac6b2e445a0d36a3ada61467 = $(`&lt;div id=&quot;html_654050ddac6b2e445a0d36a3ada61467&quot; style=&quot;width: 100.0%; height: 100.0%;&quot;&gt;Restaurante Lan&lt;/div&gt;`)[0];\n",
       "                popup_4621a425a6fa7d199491d64089431673.setContent(html_654050ddac6b2e445a0d36a3ada61467);\n",
       "            \n",
       "        \n",
       "\n",
       "        marker_c74499edc2f2237cd373ce6fab39c8fa.bindPopup(popup_4621a425a6fa7d199491d64089431673)\n",
       "        ;\n",
       "\n",
       "        \n",
       "    \n",
       "    \n",
       "            var marker_4b8e68ee89311f376ecb90500001a740 = L.marker(\n",
       "                [23.137414091589683, -82.36092696447452],\n",
       "                {\n",
       "}\n",
       "            ).addTo(map_2d5c9f5ad0757b3f2f4dc97ed79838a9);\n",
       "        \n",
       "    \n",
       "            var icon_fc7373ce9bdfa34483caccad24f9a303 = L.AwesomeMarkers.icon(\n",
       "                {\n",
       "  &quot;markerColor&quot;: &quot;darkblue&quot;,\n",
       "  &quot;iconColor&quot;: &quot;white&quot;,\n",
       "  &quot;icon&quot;: &quot;info-sign&quot;,\n",
       "  &quot;prefix&quot;: &quot;glyphicon&quot;,\n",
       "  &quot;extraClasses&quot;: &quot;fa-rotate-0&quot;,\n",
       "}\n",
       "            );\n",
       "            marker_4b8e68ee89311f376ecb90500001a740.setIcon(icon_fc7373ce9bdfa34483caccad24f9a303);\n",
       "        \n",
       "    \n",
       "        var popup_9e93d70ecfe24dfcd0f3e222db58326a = L.popup({\n",
       "  &quot;maxWidth&quot;: &quot;100%&quot;,\n",
       "});\n",
       "\n",
       "        \n",
       "            \n",
       "                var html_3df6db7663d03f1156fce18d3665dc56 = $(`&lt;div id=&quot;html_3df6db7663d03f1156fce18d3665dc56&quot; style=&quot;width: 100.0%; height: 100.0%;&quot;&gt;RicarDon&lt;/div&gt;`)[0];\n",
       "                popup_9e93d70ecfe24dfcd0f3e222db58326a.setContent(html_3df6db7663d03f1156fce18d3665dc56);\n",
       "            \n",
       "        \n",
       "\n",
       "        marker_4b8e68ee89311f376ecb90500001a740.bindPopup(popup_9e93d70ecfe24dfcd0f3e222db58326a)\n",
       "        ;\n",
       "\n",
       "        \n",
       "    \n",
       "    \n",
       "            var marker_ee07a8ac3a03a33eb279301ae9885672 = L.marker(\n",
       "                [23.12627363995597, -82.38090833528463],\n",
       "                {\n",
       "}\n",
       "            ).addTo(map_2d5c9f5ad0757b3f2f4dc97ed79838a9);\n",
       "        \n",
       "    \n",
       "            var icon_c2470a68b7d21d1003a4f18e4b5fc240 = L.AwesomeMarkers.icon(\n",
       "                {\n",
       "  &quot;markerColor&quot;: &quot;darkblue&quot;,\n",
       "  &quot;iconColor&quot;: &quot;white&quot;,\n",
       "  &quot;icon&quot;: &quot;info-sign&quot;,\n",
       "  &quot;prefix&quot;: &quot;glyphicon&quot;,\n",
       "  &quot;extraClasses&quot;: &quot;fa-rotate-0&quot;,\n",
       "}\n",
       "            );\n",
       "            marker_ee07a8ac3a03a33eb279301ae9885672.setIcon(icon_c2470a68b7d21d1003a4f18e4b5fc240);\n",
       "        \n",
       "    \n",
       "        var popup_dddfdf601742bd4ac0454cfbe247e64b = L.popup({\n",
       "  &quot;maxWidth&quot;: &quot;100%&quot;,\n",
       "});\n",
       "\n",
       "        \n",
       "            \n",
       "                var html_2374518c5ca6b597b5da937d892e5cc3 = $(`&lt;div id=&quot;html_2374518c5ca6b597b5da937d892e5cc3&quot; style=&quot;width: 100.0%; height: 100.0%;&quot;&gt;Rico Rico&lt;/div&gt;`)[0];\n",
       "                popup_dddfdf601742bd4ac0454cfbe247e64b.setContent(html_2374518c5ca6b597b5da937d892e5cc3);\n",
       "            \n",
       "        \n",
       "\n",
       "        marker_ee07a8ac3a03a33eb279301ae9885672.bindPopup(popup_dddfdf601742bd4ac0454cfbe247e64b)\n",
       "        ;\n",
       "\n",
       "        \n",
       "    \n",
       "    \n",
       "            var marker_30c307e304fb8d68a5342e78086e9c7e = L.marker(\n",
       "                [23.094809204242612, -82.41865532082285],\n",
       "                {\n",
       "}\n",
       "            ).addTo(map_2d5c9f5ad0757b3f2f4dc97ed79838a9);\n",
       "        \n",
       "    \n",
       "            var icon_f46eab1326b3d858854318cbd5f9bf25 = L.AwesomeMarkers.icon(\n",
       "                {\n",
       "  &quot;markerColor&quot;: &quot;darkblue&quot;,\n",
       "  &quot;iconColor&quot;: &quot;white&quot;,\n",
       "  &quot;icon&quot;: &quot;info-sign&quot;,\n",
       "  &quot;prefix&quot;: &quot;glyphicon&quot;,\n",
       "  &quot;extraClasses&quot;: &quot;fa-rotate-0&quot;,\n",
       "}\n",
       "            );\n",
       "            marker_30c307e304fb8d68a5342e78086e9c7e.setIcon(icon_f46eab1326b3d858854318cbd5f9bf25);\n",
       "        \n",
       "    \n",
       "        var popup_34f0684b60800c3b23a33e14fde1e40f = L.popup({\n",
       "  &quot;maxWidth&quot;: &quot;100%&quot;,\n",
       "});\n",
       "\n",
       "        \n",
       "            \n",
       "                var html_7297f0092b904b7fadf9e7b3e87a4c62 = $(`&lt;div id=&quot;html_7297f0092b904b7fadf9e7b3e87a4c62&quot; style=&quot;width: 100.0%; height: 100.0%;&quot;&gt;Rodney&lt;/div&gt;`)[0];\n",
       "                popup_34f0684b60800c3b23a33e14fde1e40f.setContent(html_7297f0092b904b7fadf9e7b3e87a4c62);\n",
       "            \n",
       "        \n",
       "\n",
       "        marker_30c307e304fb8d68a5342e78086e9c7e.bindPopup(popup_34f0684b60800c3b23a33e14fde1e40f)\n",
       "        ;\n",
       "\n",
       "        \n",
       "    \n",
       "    \n",
       "            var marker_81c8fb63a6bf3543b3d2f9777a070e8d = L.marker(\n",
       "                [23.14008936976356, -82.3043403907062],\n",
       "                {\n",
       "}\n",
       "            ).addTo(map_2d5c9f5ad0757b3f2f4dc97ed79838a9);\n",
       "        \n",
       "    \n",
       "            var icon_987e22c19139185700051629962c87d8 = L.AwesomeMarkers.icon(\n",
       "                {\n",
       "  &quot;markerColor&quot;: &quot;darkblue&quot;,\n",
       "  &quot;iconColor&quot;: &quot;white&quot;,\n",
       "  &quot;icon&quot;: &quot;info-sign&quot;,\n",
       "  &quot;prefix&quot;: &quot;glyphicon&quot;,\n",
       "  &quot;extraClasses&quot;: &quot;fa-rotate-0&quot;,\n",
       "}\n",
       "            );\n",
       "            marker_81c8fb63a6bf3543b3d2f9777a070e8d.setIcon(icon_987e22c19139185700051629962c87d8);\n",
       "        \n",
       "    \n",
       "        var popup_08928f780c0efbfd5e44f175d837ec02 = L.popup({\n",
       "  &quot;maxWidth&quot;: &quot;100%&quot;,\n",
       "});\n",
       "\n",
       "        \n",
       "            \n",
       "                var html_7d276226b049bd6b4eacfa4891032ad4 = $(`&lt;div id=&quot;html_7d276226b049bd6b4eacfa4891032ad4&quot; style=&quot;width: 100.0%; height: 100.0%;&quot;&gt;Ruta 66&lt;/div&gt;`)[0];\n",
       "                popup_08928f780c0efbfd5e44f175d837ec02.setContent(html_7d276226b049bd6b4eacfa4891032ad4);\n",
       "            \n",
       "        \n",
       "\n",
       "        marker_81c8fb63a6bf3543b3d2f9777a070e8d.bindPopup(popup_08928f780c0efbfd5e44f175d837ec02)\n",
       "        ;\n",
       "\n",
       "        \n",
       "    \n",
       "    \n",
       "            var marker_42b7205c6b4f32c29841f2a6ed38cc73 = L.marker(\n",
       "                [23.13412923367649, -82.37826298998031],\n",
       "                {\n",
       "}\n",
       "            ).addTo(map_2d5c9f5ad0757b3f2f4dc97ed79838a9);\n",
       "        \n",
       "    \n",
       "            var icon_6a9aee230bca81b5ad2ec5510ea6dd60 = L.AwesomeMarkers.icon(\n",
       "                {\n",
       "  &quot;markerColor&quot;: &quot;darkblue&quot;,\n",
       "  &quot;iconColor&quot;: &quot;white&quot;,\n",
       "  &quot;icon&quot;: &quot;info-sign&quot;,\n",
       "  &quot;prefix&quot;: &quot;glyphicon&quot;,\n",
       "  &quot;extraClasses&quot;: &quot;fa-rotate-0&quot;,\n",
       "}\n",
       "            );\n",
       "            marker_42b7205c6b4f32c29841f2a6ed38cc73.setIcon(icon_6a9aee230bca81b5ad2ec5510ea6dd60);\n",
       "        \n",
       "    \n",
       "        var popup_86b64f4e828d67c84442c6186aa90e5f = L.popup({\n",
       "  &quot;maxWidth&quot;: &quot;100%&quot;,\n",
       "});\n",
       "\n",
       "        \n",
       "            \n",
       "                var html_49f6f2f48b6e46fa693d067baf3e1a8f = $(`&lt;div id=&quot;html_49f6f2f48b6e46fa693d067baf3e1a8f&quot; style=&quot;width: 100.0%; height: 100.0%;&quot;&gt;Salchipizza&lt;/div&gt;`)[0];\n",
       "                popup_86b64f4e828d67c84442c6186aa90e5f.setContent(html_49f6f2f48b6e46fa693d067baf3e1a8f);\n",
       "            \n",
       "        \n",
       "\n",
       "        marker_42b7205c6b4f32c29841f2a6ed38cc73.bindPopup(popup_86b64f4e828d67c84442c6186aa90e5f)\n",
       "        ;\n",
       "\n",
       "        \n",
       "    \n",
       "    \n",
       "            var marker_4e9edf20fbdd5dbcc9d2d7fe2f1d5e17 = L.marker(\n",
       "                [23.11402909851061, -82.43950857535798],\n",
       "                {\n",
       "}\n",
       "            ).addTo(map_2d5c9f5ad0757b3f2f4dc97ed79838a9);\n",
       "        \n",
       "    \n",
       "            var icon_215783022fd4650b18dc82fca7191924 = L.AwesomeMarkers.icon(\n",
       "                {\n",
       "  &quot;markerColor&quot;: &quot;darkblue&quot;,\n",
       "  &quot;iconColor&quot;: &quot;white&quot;,\n",
       "  &quot;icon&quot;: &quot;info-sign&quot;,\n",
       "  &quot;prefix&quot;: &quot;glyphicon&quot;,\n",
       "  &quot;extraClasses&quot;: &quot;fa-rotate-0&quot;,\n",
       "}\n",
       "            );\n",
       "            marker_4e9edf20fbdd5dbcc9d2d7fe2f1d5e17.setIcon(icon_215783022fd4650b18dc82fca7191924);\n",
       "        \n",
       "    \n",
       "        var popup_93bb8f9dcd9b8e8697c3d1bb784e3d57 = L.popup({\n",
       "  &quot;maxWidth&quot;: &quot;100%&quot;,\n",
       "});\n",
       "\n",
       "        \n",
       "            \n",
       "                var html_bc4b29baa99e69b6edf9ec53a49fb48b = $(`&lt;div id=&quot;html_bc4b29baa99e69b6edf9ec53a49fb48b&quot; style=&quot;width: 100.0%; height: 100.0%;&quot;&gt;Salsa Mora&lt;/div&gt;`)[0];\n",
       "                popup_93bb8f9dcd9b8e8697c3d1bb784e3d57.setContent(html_bc4b29baa99e69b6edf9ec53a49fb48b);\n",
       "            \n",
       "        \n",
       "\n",
       "        marker_4e9edf20fbdd5dbcc9d2d7fe2f1d5e17.bindPopup(popup_93bb8f9dcd9b8e8697c3d1bb784e3d57)\n",
       "        ;\n",
       "\n",
       "        \n",
       "    \n",
       "    \n",
       "            var marker_9bda76ab49a8556b09307405d6629d8e = L.marker(\n",
       "                [23.11380465355718, -82.36663315102301],\n",
       "                {\n",
       "}\n",
       "            ).addTo(map_2d5c9f5ad0757b3f2f4dc97ed79838a9);\n",
       "        \n",
       "    \n",
       "            var icon_e4c42f43ea1b8ebd768ce804a40e7fa6 = L.AwesomeMarkers.icon(\n",
       "                {\n",
       "  &quot;markerColor&quot;: &quot;darkblue&quot;,\n",
       "  &quot;iconColor&quot;: &quot;white&quot;,\n",
       "  &quot;icon&quot;: &quot;info-sign&quot;,\n",
       "  &quot;prefix&quot;: &quot;glyphicon&quot;,\n",
       "  &quot;extraClasses&quot;: &quot;fa-rotate-0&quot;,\n",
       "}\n",
       "            );\n",
       "            marker_9bda76ab49a8556b09307405d6629d8e.setIcon(icon_e4c42f43ea1b8ebd768ce804a40e7fa6);\n",
       "        \n",
       "    \n",
       "        var popup_3a05754f70446777a55e18e06f08bfbe = L.popup({\n",
       "  &quot;maxWidth&quot;: &quot;100%&quot;,\n",
       "});\n",
       "\n",
       "        \n",
       "            \n",
       "                var html_b9932308f8de09e894bb546fc0582300 = $(`&lt;div id=&quot;html_b9932308f8de09e894bb546fc0582300&quot; style=&quot;width: 100.0%; height: 100.0%;&quot;&gt;San Rafael 1051&lt;/div&gt;`)[0];\n",
       "                popup_3a05754f70446777a55e18e06f08bfbe.setContent(html_b9932308f8de09e894bb546fc0582300);\n",
       "            \n",
       "        \n",
       "\n",
       "        marker_9bda76ab49a8556b09307405d6629d8e.bindPopup(popup_3a05754f70446777a55e18e06f08bfbe)\n",
       "        ;\n",
       "\n",
       "        \n",
       "    \n",
       "    \n",
       "            var marker_3861c70c83929774c56ac4e30e3c450d = L.marker(\n",
       "                [23.08929844519211, -82.48873679830157],\n",
       "                {\n",
       "}\n",
       "            ).addTo(map_2d5c9f5ad0757b3f2f4dc97ed79838a9);\n",
       "        \n",
       "    \n",
       "            var icon_ff8ea514f0bae6b0ab9eccc0d5dfea23 = L.AwesomeMarkers.icon(\n",
       "                {\n",
       "  &quot;markerColor&quot;: &quot;darkblue&quot;,\n",
       "  &quot;iconColor&quot;: &quot;white&quot;,\n",
       "  &quot;icon&quot;: &quot;info-sign&quot;,\n",
       "  &quot;prefix&quot;: &quot;glyphicon&quot;,\n",
       "  &quot;extraClasses&quot;: &quot;fa-rotate-0&quot;,\n",
       "}\n",
       "            );\n",
       "            marker_3861c70c83929774c56ac4e30e3c450d.setIcon(icon_ff8ea514f0bae6b0ab9eccc0d5dfea23);\n",
       "        \n",
       "    \n",
       "        var popup_52c2011be3ffd1c0c8df187f73a1c8e2 = L.popup({\n",
       "  &quot;maxWidth&quot;: &quot;100%&quot;,\n",
       "});\n",
       "\n",
       "        \n",
       "            \n",
       "                var html_58e0876e7afd6dfb351ac59a0f6964d6 = $(`&lt;div id=&quot;html_58e0876e7afd6dfb351ac59a0f6964d6&quot; style=&quot;width: 100.0%; height: 100.0%;&quot;&gt;Santy Pescador&lt;/div&gt;`)[0];\n",
       "                popup_52c2011be3ffd1c0c8df187f73a1c8e2.setContent(html_58e0876e7afd6dfb351ac59a0f6964d6);\n",
       "            \n",
       "        \n",
       "\n",
       "        marker_3861c70c83929774c56ac4e30e3c450d.bindPopup(popup_52c2011be3ffd1c0c8df187f73a1c8e2)\n",
       "        ;\n",
       "\n",
       "        \n",
       "    \n",
       "    \n",
       "            var marker_001dfbc9034adc61ff599cf49d85eaa9 = L.marker(\n",
       "                [23.125680181720934, -82.41363706139158],\n",
       "                {\n",
       "}\n",
       "            ).addTo(map_2d5c9f5ad0757b3f2f4dc97ed79838a9);\n",
       "        \n",
       "    \n",
       "            var icon_eb78501c5b16f4c1fb90d37b06f72b1d = L.AwesomeMarkers.icon(\n",
       "                {\n",
       "  &quot;markerColor&quot;: &quot;darkblue&quot;,\n",
       "  &quot;iconColor&quot;: &quot;white&quot;,\n",
       "  &quot;icon&quot;: &quot;info-sign&quot;,\n",
       "  &quot;prefix&quot;: &quot;glyphicon&quot;,\n",
       "  &quot;extraClasses&quot;: &quot;fa-rotate-0&quot;,\n",
       "}\n",
       "            );\n",
       "            marker_001dfbc9034adc61ff599cf49d85eaa9.setIcon(icon_eb78501c5b16f4c1fb90d37b06f72b1d);\n",
       "        \n",
       "    \n",
       "        var popup_59af7c98f026ca0f9648f73b5da282b6 = L.popup({\n",
       "  &quot;maxWidth&quot;: &quot;100%&quot;,\n",
       "});\n",
       "\n",
       "        \n",
       "            \n",
       "                var html_7db6eeadf04b96a2bcc02cbdbdd47479 = $(`&lt;div id=&quot;html_7db6eeadf04b96a2bcc02cbdbdd47479&quot; style=&quot;width: 100.0%; height: 100.0%;&quot;&gt;Sapori&lt;/div&gt;`)[0];\n",
       "                popup_59af7c98f026ca0f9648f73b5da282b6.setContent(html_7db6eeadf04b96a2bcc02cbdbdd47479);\n",
       "            \n",
       "        \n",
       "\n",
       "        marker_001dfbc9034adc61ff599cf49d85eaa9.bindPopup(popup_59af7c98f026ca0f9648f73b5da282b6)\n",
       "        ;\n",
       "\n",
       "        \n",
       "    \n",
       "    \n",
       "            var marker_d9675930e00708612539eff1f829dc16 = L.marker(\n",
       "                [23.117562853692327, -82.38451702024058],\n",
       "                {\n",
       "}\n",
       "            ).addTo(map_2d5c9f5ad0757b3f2f4dc97ed79838a9);\n",
       "        \n",
       "    \n",
       "            var icon_0aba9e5c2c53a3253872a694ba6c1682 = L.AwesomeMarkers.icon(\n",
       "                {\n",
       "  &quot;markerColor&quot;: &quot;darkblue&quot;,\n",
       "  &quot;iconColor&quot;: &quot;white&quot;,\n",
       "  &quot;icon&quot;: &quot;info-sign&quot;,\n",
       "  &quot;prefix&quot;: &quot;glyphicon&quot;,\n",
       "  &quot;extraClasses&quot;: &quot;fa-rotate-0&quot;,\n",
       "}\n",
       "            );\n",
       "            marker_d9675930e00708612539eff1f829dc16.setIcon(icon_0aba9e5c2c53a3253872a694ba6c1682);\n",
       "        \n",
       "    \n",
       "        var popup_5b86ca7543a02cea004db11bb87f13df = L.popup({\n",
       "  &quot;maxWidth&quot;: &quot;100%&quot;,\n",
       "});\n",
       "\n",
       "        \n",
       "            \n",
       "                var html_68c1fc0aa12bc13693fe5966c4c3ea3c = $(`&lt;div id=&quot;html_68c1fc0aa12bc13693fe5966c4c3ea3c&quot; style=&quot;width: 100.0%; height: 100.0%;&quot;&gt;Shapuseros&lt;/div&gt;`)[0];\n",
       "                popup_5b86ca7543a02cea004db11bb87f13df.setContent(html_68c1fc0aa12bc13693fe5966c4c3ea3c);\n",
       "            \n",
       "        \n",
       "\n",
       "        marker_d9675930e00708612539eff1f829dc16.bindPopup(popup_5b86ca7543a02cea004db11bb87f13df)\n",
       "        ;\n",
       "\n",
       "        \n",
       "    \n",
       "    \n",
       "            var marker_7f4258ddfe4755f7d88e186f0a486d54 = L.marker(\n",
       "                [23.133914730855928, -82.39150447833448],\n",
       "                {\n",
       "}\n",
       "            ).addTo(map_2d5c9f5ad0757b3f2f4dc97ed79838a9);\n",
       "        \n",
       "    \n",
       "            var icon_f74bed63a4f91a60c7116401bcbd4bdc = L.AwesomeMarkers.icon(\n",
       "                {\n",
       "  &quot;markerColor&quot;: &quot;darkblue&quot;,\n",
       "  &quot;iconColor&quot;: &quot;white&quot;,\n",
       "  &quot;icon&quot;: &quot;info-sign&quot;,\n",
       "  &quot;prefix&quot;: &quot;glyphicon&quot;,\n",
       "  &quot;extraClasses&quot;: &quot;fa-rotate-0&quot;,\n",
       "}\n",
       "            );\n",
       "            marker_7f4258ddfe4755f7d88e186f0a486d54.setIcon(icon_f74bed63a4f91a60c7116401bcbd4bdc);\n",
       "        \n",
       "    \n",
       "        var popup_fcb56b80776483f1639137c53cc8042b = L.popup({\n",
       "  &quot;maxWidth&quot;: &quot;100%&quot;,\n",
       "});\n",
       "\n",
       "        \n",
       "            \n",
       "                var html_8e7ca17a0c363f79b15a7aa7704711a5 = $(`&lt;div id=&quot;html_8e7ca17a0c363f79b15a7aa7704711a5&quot; style=&quot;width: 100.0%; height: 100.0%;&quot;&gt;Soñar contigo&lt;/div&gt;`)[0];\n",
       "                popup_fcb56b80776483f1639137c53cc8042b.setContent(html_8e7ca17a0c363f79b15a7aa7704711a5);\n",
       "            \n",
       "        \n",
       "\n",
       "        marker_7f4258ddfe4755f7d88e186f0a486d54.bindPopup(popup_fcb56b80776483f1639137c53cc8042b)\n",
       "        ;\n",
       "\n",
       "        \n",
       "    \n",
       "    \n",
       "            var marker_491bf2cfc276b19ec5244938259eb365 = L.marker(\n",
       "                [23.12739793607911, -82.3996550067848],\n",
       "                {\n",
       "}\n",
       "            ).addTo(map_2d5c9f5ad0757b3f2f4dc97ed79838a9);\n",
       "        \n",
       "    \n",
       "            var icon_9717f8e37045f788a1f1b1f625f990e3 = L.AwesomeMarkers.icon(\n",
       "                {\n",
       "  &quot;markerColor&quot;: &quot;darkblue&quot;,\n",
       "  &quot;iconColor&quot;: &quot;white&quot;,\n",
       "  &quot;icon&quot;: &quot;info-sign&quot;,\n",
       "  &quot;prefix&quot;: &quot;glyphicon&quot;,\n",
       "  &quot;extraClasses&quot;: &quot;fa-rotate-0&quot;,\n",
       "}\n",
       "            );\n",
       "            marker_491bf2cfc276b19ec5244938259eb365.setIcon(icon_9717f8e37045f788a1f1b1f625f990e3);\n",
       "        \n",
       "    \n",
       "        var popup_a1e9cd04f3fdbb23c94d75e6f67863ec = L.popup({\n",
       "  &quot;maxWidth&quot;: &quot;100%&quot;,\n",
       "});\n",
       "\n",
       "        \n",
       "            \n",
       "                var html_1f608a24d4ee998ad2814c887ef43daf = $(`&lt;div id=&quot;html_1f608a24d4ee998ad2814c887ef43daf&quot; style=&quot;width: 100.0%; height: 100.0%;&quot;&gt;Sport Bar&lt;/div&gt;`)[0];\n",
       "                popup_a1e9cd04f3fdbb23c94d75e6f67863ec.setContent(html_1f608a24d4ee998ad2814c887ef43daf);\n",
       "            \n",
       "        \n",
       "\n",
       "        marker_491bf2cfc276b19ec5244938259eb365.bindPopup(popup_a1e9cd04f3fdbb23c94d75e6f67863ec)\n",
       "        ;\n",
       "\n",
       "        \n",
       "    \n",
       "    \n",
       "            var marker_95d3cf464c3fd3e382781dc9b30c7373 = L.marker(\n",
       "                [23.134994228631488, -82.363759151347],\n",
       "                {\n",
       "}\n",
       "            ).addTo(map_2d5c9f5ad0757b3f2f4dc97ed79838a9);\n",
       "        \n",
       "    \n",
       "            var icon_6f6276e12d00606d43bf6fe80154a431 = L.AwesomeMarkers.icon(\n",
       "                {\n",
       "  &quot;markerColor&quot;: &quot;darkblue&quot;,\n",
       "  &quot;iconColor&quot;: &quot;white&quot;,\n",
       "  &quot;icon&quot;: &quot;info-sign&quot;,\n",
       "  &quot;prefix&quot;: &quot;glyphicon&quot;,\n",
       "  &quot;extraClasses&quot;: &quot;fa-rotate-0&quot;,\n",
       "}\n",
       "            );\n",
       "            marker_95d3cf464c3fd3e382781dc9b30c7373.setIcon(icon_6f6276e12d00606d43bf6fe80154a431);\n",
       "        \n",
       "    \n",
       "        var popup_c54517d2e4f6189dfb8d8829cd629198 = L.popup({\n",
       "  &quot;maxWidth&quot;: &quot;100%&quot;,\n",
       "});\n",
       "\n",
       "        \n",
       "            \n",
       "                var html_899812141a91f17bb64a650d0ea39a73 = $(`&lt;div id=&quot;html_899812141a91f17bb64a650d0ea39a73&quot; style=&quot;width: 100.0%; height: 100.0%;&quot;&gt;Tong Do Laug&lt;/div&gt;`)[0];\n",
       "                popup_c54517d2e4f6189dfb8d8829cd629198.setContent(html_899812141a91f17bb64a650d0ea39a73);\n",
       "            \n",
       "        \n",
       "\n",
       "        marker_95d3cf464c3fd3e382781dc9b30c7373.bindPopup(popup_c54517d2e4f6189dfb8d8829cd629198)\n",
       "        ;\n",
       "\n",
       "        \n",
       "    \n",
       "    \n",
       "            var marker_c1eaf4b3450cbf4e65f4a7de5cfa0ffb = L.marker(\n",
       "                [22.971547817928165, -82.38488832082872],\n",
       "                {\n",
       "}\n",
       "            ).addTo(map_2d5c9f5ad0757b3f2f4dc97ed79838a9);\n",
       "        \n",
       "    \n",
       "            var icon_5768693c8887a21fa34432cae2ad3f2f = L.AwesomeMarkers.icon(\n",
       "                {\n",
       "  &quot;markerColor&quot;: &quot;darkblue&quot;,\n",
       "  &quot;iconColor&quot;: &quot;white&quot;,\n",
       "  &quot;icon&quot;: &quot;info-sign&quot;,\n",
       "  &quot;prefix&quot;: &quot;glyphicon&quot;,\n",
       "  &quot;extraClasses&quot;: &quot;fa-rotate-0&quot;,\n",
       "}\n",
       "            );\n",
       "            marker_c1eaf4b3450cbf4e65f4a7de5cfa0ffb.setIcon(icon_5768693c8887a21fa34432cae2ad3f2f);\n",
       "        \n",
       "    \n",
       "        var popup_e7a6b664bf7447fd74c50763acae044e = L.popup({\n",
       "  &quot;maxWidth&quot;: &quot;100%&quot;,\n",
       "});\n",
       "\n",
       "        \n",
       "            \n",
       "                var html_441f0df233d3f10c49996dd788c44d04 = $(`&lt;div id=&quot;html_441f0df233d3f10c49996dd788c44d04&quot; style=&quot;width: 100.0%; height: 100.0%;&quot;&gt;Tanokura&lt;/div&gt;`)[0];\n",
       "                popup_e7a6b664bf7447fd74c50763acae044e.setContent(html_441f0df233d3f10c49996dd788c44d04);\n",
       "            \n",
       "        \n",
       "\n",
       "        marker_c1eaf4b3450cbf4e65f4a7de5cfa0ffb.bindPopup(popup_e7a6b664bf7447fd74c50763acae044e)\n",
       "        ;\n",
       "\n",
       "        \n",
       "    \n",
       "    \n",
       "            var marker_2a68092e9a9cac095d5cffc5dbea4fe4 = L.marker(\n",
       "                [23.136167028292387, -82.35497380716978],\n",
       "                {\n",
       "}\n",
       "            ).addTo(map_2d5c9f5ad0757b3f2f4dc97ed79838a9);\n",
       "        \n",
       "    \n",
       "            var icon_49f5db31835c3dce9525b74af2945bba = L.AwesomeMarkers.icon(\n",
       "                {\n",
       "  &quot;markerColor&quot;: &quot;darkblue&quot;,\n",
       "  &quot;iconColor&quot;: &quot;white&quot;,\n",
       "  &quot;icon&quot;: &quot;info-sign&quot;,\n",
       "  &quot;prefix&quot;: &quot;glyphicon&quot;,\n",
       "  &quot;extraClasses&quot;: &quot;fa-rotate-0&quot;,\n",
       "}\n",
       "            );\n",
       "            marker_2a68092e9a9cac095d5cffc5dbea4fe4.setIcon(icon_49f5db31835c3dce9525b74af2945bba);\n",
       "        \n",
       "    \n",
       "        var popup_85d81c1d86de08ca7ebf72c2d5cd1e29 = L.popup({\n",
       "  &quot;maxWidth&quot;: &quot;100%&quot;,\n",
       "});\n",
       "\n",
       "        \n",
       "            \n",
       "                var html_dfd7b0c1a2db6da3dd647e62672e3261 = $(`&lt;div id=&quot;html_dfd7b0c1a2db6da3dd647e62672e3261&quot; style=&quot;width: 100.0%; height: 100.0%;&quot;&gt;Teniente Rey 360&lt;/div&gt;`)[0];\n",
       "                popup_85d81c1d86de08ca7ebf72c2d5cd1e29.setContent(html_dfd7b0c1a2db6da3dd647e62672e3261);\n",
       "            \n",
       "        \n",
       "\n",
       "        marker_2a68092e9a9cac095d5cffc5dbea4fe4.bindPopup(popup_85d81c1d86de08ca7ebf72c2d5cd1e29)\n",
       "        ;\n",
       "\n",
       "        \n",
       "    \n",
       "    \n",
       "            var marker_f00b8e248fd791aab002d444d67eae50 = L.marker(\n",
       "                [23.05191156648548, -82.38229337842735],\n",
       "                {\n",
       "}\n",
       "            ).addTo(map_2d5c9f5ad0757b3f2f4dc97ed79838a9);\n",
       "        \n",
       "    \n",
       "            var icon_35ac70381786962bc0e24641bd94a3c2 = L.AwesomeMarkers.icon(\n",
       "                {\n",
       "  &quot;markerColor&quot;: &quot;darkblue&quot;,\n",
       "  &quot;iconColor&quot;: &quot;white&quot;,\n",
       "  &quot;icon&quot;: &quot;info-sign&quot;,\n",
       "  &quot;prefix&quot;: &quot;glyphicon&quot;,\n",
       "  &quot;extraClasses&quot;: &quot;fa-rotate-0&quot;,\n",
       "}\n",
       "            );\n",
       "            marker_f00b8e248fd791aab002d444d67eae50.setIcon(icon_35ac70381786962bc0e24641bd94a3c2);\n",
       "        \n",
       "    \n",
       "        var popup_2a4eea87d53be2a489965a809272fad3 = L.popup({\n",
       "  &quot;maxWidth&quot;: &quot;100%&quot;,\n",
       "});\n",
       "\n",
       "        \n",
       "            \n",
       "                var html_8f2fcf1c711a636136908cec484641de = $(`&lt;div id=&quot;html_8f2fcf1c711a636136908cec484641de&quot; style=&quot;width: 100.0%; height: 100.0%;&quot;&gt;The Place&lt;/div&gt;`)[0];\n",
       "                popup_2a4eea87d53be2a489965a809272fad3.setContent(html_8f2fcf1c711a636136908cec484641de);\n",
       "            \n",
       "        \n",
       "\n",
       "        marker_f00b8e248fd791aab002d444d67eae50.bindPopup(popup_2a4eea87d53be2a489965a809272fad3)\n",
       "        ;\n",
       "\n",
       "        \n",
       "    \n",
       "    \n",
       "            var marker_7c3b1045397eca1d47ca5e3ab32793ba = L.marker(\n",
       "                [23.13799192742151, -82.36028647833432],\n",
       "                {\n",
       "}\n",
       "            ).addTo(map_2d5c9f5ad0757b3f2f4dc97ed79838a9);\n",
       "        \n",
       "    \n",
       "            var icon_1791199f8e5e129a5f9665d1d4b63cf3 = L.AwesomeMarkers.icon(\n",
       "                {\n",
       "  &quot;markerColor&quot;: &quot;darkblue&quot;,\n",
       "  &quot;iconColor&quot;: &quot;white&quot;,\n",
       "  &quot;icon&quot;: &quot;info-sign&quot;,\n",
       "  &quot;prefix&quot;: &quot;glyphicon&quot;,\n",
       "  &quot;extraClasses&quot;: &quot;fa-rotate-0&quot;,\n",
       "}\n",
       "            );\n",
       "            marker_7c3b1045397eca1d47ca5e3ab32793ba.setIcon(icon_1791199f8e5e129a5f9665d1d4b63cf3);\n",
       "        \n",
       "    \n",
       "        var popup_816286abbccaeb522542eca61270434c = L.popup({\n",
       "  &quot;maxWidth&quot;: &quot;100%&quot;,\n",
       "});\n",
       "\n",
       "        \n",
       "            \n",
       "                var html_371d106d29c818903f33f7c9ee8bef2d = $(`&lt;div id=&quot;html_371d106d29c818903f33f7c9ee8bef2d&quot; style=&quot;width: 100.0%; height: 100.0%;&quot;&gt;Tonyzz Bar&lt;/div&gt;`)[0];\n",
       "                popup_816286abbccaeb522542eca61270434c.setContent(html_371d106d29c818903f33f7c9ee8bef2d);\n",
       "            \n",
       "        \n",
       "\n",
       "        marker_7c3b1045397eca1d47ca5e3ab32793ba.bindPopup(popup_816286abbccaeb522542eca61270434c)\n",
       "        ;\n",
       "\n",
       "        \n",
       "    \n",
       "    \n",
       "            var marker_fa44aa1c171595dd3a55cba5add9e4db = L.marker(\n",
       "                [23.128870429493183, -82.41660271357874],\n",
       "                {\n",
       "}\n",
       "            ).addTo(map_2d5c9f5ad0757b3f2f4dc97ed79838a9);\n",
       "        \n",
       "    \n",
       "            var icon_65935fd1116270fdd9f0a5b890a24ac7 = L.AwesomeMarkers.icon(\n",
       "                {\n",
       "  &quot;markerColor&quot;: &quot;darkblue&quot;,\n",
       "  &quot;iconColor&quot;: &quot;white&quot;,\n",
       "  &quot;icon&quot;: &quot;info-sign&quot;,\n",
       "  &quot;prefix&quot;: &quot;glyphicon&quot;,\n",
       "  &quot;extraClasses&quot;: &quot;fa-rotate-0&quot;,\n",
       "}\n",
       "            );\n",
       "            marker_fa44aa1c171595dd3a55cba5add9e4db.setIcon(icon_65935fd1116270fdd9f0a5b890a24ac7);\n",
       "        \n",
       "    \n",
       "        var popup_a4ce9dd760259bfe90b6124275ac3c22 = L.popup({\n",
       "  &quot;maxWidth&quot;: &quot;100%&quot;,\n",
       "});\n",
       "\n",
       "        \n",
       "            \n",
       "                var html_32c10c70626c842cf6885192f23cca26 = $(`&lt;div id=&quot;html_32c10c70626c842cf6885192f23cca26&quot; style=&quot;width: 100.0%; height: 100.0%;&quot;&gt;Toros y Tapas&lt;/div&gt;`)[0];\n",
       "                popup_a4ce9dd760259bfe90b6124275ac3c22.setContent(html_32c10c70626c842cf6885192f23cca26);\n",
       "            \n",
       "        \n",
       "\n",
       "        marker_fa44aa1c171595dd3a55cba5add9e4db.bindPopup(popup_a4ce9dd760259bfe90b6124275ac3c22)\n",
       "        ;\n",
       "\n",
       "        \n",
       "    \n",
       "    \n",
       "            var marker_2772dd54290f49bdffbffa7c9ade802a = L.marker(\n",
       "                [23.09846432898506, -82.42637763877254],\n",
       "                {\n",
       "}\n",
       "            ).addTo(map_2d5c9f5ad0757b3f2f4dc97ed79838a9);\n",
       "        \n",
       "    \n",
       "            var icon_e5b2d21ed1cd4044c36a43b90a153fbe = L.AwesomeMarkers.icon(\n",
       "                {\n",
       "  &quot;markerColor&quot;: &quot;darkblue&quot;,\n",
       "  &quot;iconColor&quot;: &quot;white&quot;,\n",
       "  &quot;icon&quot;: &quot;info-sign&quot;,\n",
       "  &quot;prefix&quot;: &quot;glyphicon&quot;,\n",
       "  &quot;extraClasses&quot;: &quot;fa-rotate-0&quot;,\n",
       "}\n",
       "            );\n",
       "            marker_2772dd54290f49bdffbffa7c9ade802a.setIcon(icon_e5b2d21ed1cd4044c36a43b90a153fbe);\n",
       "        \n",
       "    \n",
       "        var popup_9aa06aac009dfe078ecf89639fe23f06 = L.popup({\n",
       "  &quot;maxWidth&quot;: &quot;100%&quot;,\n",
       "});\n",
       "\n",
       "        \n",
       "            \n",
       "                var html_4e6f9eb46e5e36281fb0553b709b7625 = $(`&lt;div id=&quot;html_4e6f9eb46e5e36281fb0553b709b7625&quot; style=&quot;width: 100.0%; height: 100.0%;&quot;&gt;Tropikana&lt;/div&gt;`)[0];\n",
       "                popup_9aa06aac009dfe078ecf89639fe23f06.setContent(html_4e6f9eb46e5e36281fb0553b709b7625);\n",
       "            \n",
       "        \n",
       "\n",
       "        marker_2772dd54290f49bdffbffa7c9ade802a.bindPopup(popup_9aa06aac009dfe078ecf89639fe23f06)\n",
       "        ;\n",
       "\n",
       "        \n",
       "    \n",
       "    \n",
       "            var marker_feb83f4d4114978427e3859ec88c03f8 = L.marker(\n",
       "                [23.1401557660662, -82.37586279184762],\n",
       "                {\n",
       "}\n",
       "            ).addTo(map_2d5c9f5ad0757b3f2f4dc97ed79838a9);\n",
       "        \n",
       "    \n",
       "            var icon_74ebdbf0448f1acf089810bbe748a1bf = L.AwesomeMarkers.icon(\n",
       "                {\n",
       "  &quot;markerColor&quot;: &quot;darkblue&quot;,\n",
       "  &quot;iconColor&quot;: &quot;white&quot;,\n",
       "  &quot;icon&quot;: &quot;info-sign&quot;,\n",
       "  &quot;prefix&quot;: &quot;glyphicon&quot;,\n",
       "  &quot;extraClasses&quot;: &quot;fa-rotate-0&quot;,\n",
       "}\n",
       "            );\n",
       "            marker_feb83f4d4114978427e3859ec88c03f8.setIcon(icon_74ebdbf0448f1acf089810bbe748a1bf);\n",
       "        \n",
       "    \n",
       "        var popup_db0b99151264697acdc6721d707f7743 = L.popup({\n",
       "  &quot;maxWidth&quot;: &quot;100%&quot;,\n",
       "});\n",
       "\n",
       "        \n",
       "            \n",
       "                var html_88a8cc4895e5317ed759f8f94cd735e0 = $(`&lt;div id=&quot;html_88a8cc4895e5317ed759f8f94cd735e0&quot; style=&quot;width: 100.0%; height: 100.0%;&quot;&gt;Tu Tiempo&lt;/div&gt;`)[0];\n",
       "                popup_db0b99151264697acdc6721d707f7743.setContent(html_88a8cc4895e5317ed759f8f94cd735e0);\n",
       "            \n",
       "        \n",
       "\n",
       "        marker_feb83f4d4114978427e3859ec88c03f8.bindPopup(popup_db0b99151264697acdc6721d707f7743)\n",
       "        ;\n",
       "\n",
       "        \n",
       "    \n",
       "    \n",
       "            var marker_3294093817d145f3a192cdd5e8cc1d3e = L.marker(\n",
       "                [23.13880856299898, -82.37737514949882],\n",
       "                {\n",
       "}\n",
       "            ).addTo(map_2d5c9f5ad0757b3f2f4dc97ed79838a9);\n",
       "        \n",
       "    \n",
       "            var icon_e20dd32255b9ecbef2047803878e9661 = L.AwesomeMarkers.icon(\n",
       "                {\n",
       "  &quot;markerColor&quot;: &quot;darkblue&quot;,\n",
       "  &quot;iconColor&quot;: &quot;white&quot;,\n",
       "  &quot;icon&quot;: &quot;info-sign&quot;,\n",
       "  &quot;prefix&quot;: &quot;glyphicon&quot;,\n",
       "  &quot;extraClasses&quot;: &quot;fa-rotate-0&quot;,\n",
       "}\n",
       "            );\n",
       "            marker_3294093817d145f3a192cdd5e8cc1d3e.setIcon(icon_e20dd32255b9ecbef2047803878e9661);\n",
       "        \n",
       "    \n",
       "        var popup_56744f302796c9fe8144b1579df33477 = L.popup({\n",
       "  &quot;maxWidth&quot;: &quot;100%&quot;,\n",
       "});\n",
       "\n",
       "        \n",
       "            \n",
       "                var html_aef7b090c5fe987471ffff5a7856e93c = $(`&lt;div id=&quot;html_aef7b090c5fe987471ffff5a7856e93c&quot; style=&quot;width: 100.0%; height: 100.0%;&quot;&gt;Tutti Frutti&lt;/div&gt;`)[0];\n",
       "                popup_56744f302796c9fe8144b1579df33477.setContent(html_aef7b090c5fe987471ffff5a7856e93c);\n",
       "            \n",
       "        \n",
       "\n",
       "        marker_3294093817d145f3a192cdd5e8cc1d3e.bindPopup(popup_56744f302796c9fe8144b1579df33477)\n",
       "        ;\n",
       "\n",
       "        \n",
       "    \n",
       "    \n",
       "            var marker_f013e2649c3b0e96bb97677cd8f43865 = L.marker(\n",
       "                [23.122304238305055, -82.2959622459654],\n",
       "                {\n",
       "}\n",
       "            ).addTo(map_2d5c9f5ad0757b3f2f4dc97ed79838a9);\n",
       "        \n",
       "    \n",
       "            var icon_c373cafdabc2e6d5a0189375a7fdcf42 = L.AwesomeMarkers.icon(\n",
       "                {\n",
       "  &quot;markerColor&quot;: &quot;darkblue&quot;,\n",
       "  &quot;iconColor&quot;: &quot;white&quot;,\n",
       "  &quot;icon&quot;: &quot;info-sign&quot;,\n",
       "  &quot;prefix&quot;: &quot;glyphicon&quot;,\n",
       "  &quot;extraClasses&quot;: &quot;fa-rotate-0&quot;,\n",
       "}\n",
       "            );\n",
       "            marker_f013e2649c3b0e96bb97677cd8f43865.setIcon(icon_c373cafdabc2e6d5a0189375a7fdcf42);\n",
       "        \n",
       "    \n",
       "        var popup_5cd04b54c769cb3fe916edb67715b1d9 = L.popup({\n",
       "  &quot;maxWidth&quot;: &quot;100%&quot;,\n",
       "});\n",
       "\n",
       "        \n",
       "            \n",
       "                var html_a31f2da2321421c79f288af7c9e3e8f3 = $(`&lt;div id=&quot;html_a31f2da2321421c79f288af7c9e3e8f3&quot; style=&quot;width: 100.0%; height: 100.0%;&quot;&gt;Vale &amp; Vane&lt;/div&gt;`)[0];\n",
       "                popup_5cd04b54c769cb3fe916edb67715b1d9.setContent(html_a31f2da2321421c79f288af7c9e3e8f3);\n",
       "            \n",
       "        \n",
       "\n",
       "        marker_f013e2649c3b0e96bb97677cd8f43865.bindPopup(popup_5cd04b54c769cb3fe916edb67715b1d9)\n",
       "        ;\n",
       "\n",
       "        \n",
       "    \n",
       "    \n",
       "            var marker_00bc7e762a095f8d7fd77dba43cd8d85 = L.marker(\n",
       "                [23.125381234140697, -82.30590767987889],\n",
       "                {\n",
       "}\n",
       "            ).addTo(map_2d5c9f5ad0757b3f2f4dc97ed79838a9);\n",
       "        \n",
       "    \n",
       "            var icon_a8205a6a8e270abeb22b94d308d85807 = L.AwesomeMarkers.icon(\n",
       "                {\n",
       "  &quot;markerColor&quot;: &quot;darkblue&quot;,\n",
       "  &quot;iconColor&quot;: &quot;white&quot;,\n",
       "  &quot;icon&quot;: &quot;info-sign&quot;,\n",
       "  &quot;prefix&quot;: &quot;glyphicon&quot;,\n",
       "  &quot;extraClasses&quot;: &quot;fa-rotate-0&quot;,\n",
       "}\n",
       "            );\n",
       "            marker_00bc7e762a095f8d7fd77dba43cd8d85.setIcon(icon_a8205a6a8e270abeb22b94d308d85807);\n",
       "        \n",
       "    \n",
       "        var popup_5251e7a3fe51dfa82b5e1959eba741ed = L.popup({\n",
       "  &quot;maxWidth&quot;: &quot;100%&quot;,\n",
       "});\n",
       "\n",
       "        \n",
       "            \n",
       "                var html_b80e24f60a0d85045142c6310ac75f62 = $(`&lt;div id=&quot;html_b80e24f60a0d85045142c6310ac75f62&quot; style=&quot;width: 100.0%; height: 100.0%;&quot;&gt;Cafe Versalles&lt;/div&gt;`)[0];\n",
       "                popup_5251e7a3fe51dfa82b5e1959eba741ed.setContent(html_b80e24f60a0d85045142c6310ac75f62);\n",
       "            \n",
       "        \n",
       "\n",
       "        marker_00bc7e762a095f8d7fd77dba43cd8d85.bindPopup(popup_5251e7a3fe51dfa82b5e1959eba741ed)\n",
       "        ;\n",
       "\n",
       "        \n",
       "    \n",
       "    \n",
       "            var marker_5f2538468fcd6331ed9fbef836093999 = L.marker(\n",
       "                [23.10341935595807, -82.41834601431532],\n",
       "                {\n",
       "}\n",
       "            ).addTo(map_2d5c9f5ad0757b3f2f4dc97ed79838a9);\n",
       "        \n",
       "    \n",
       "            var icon_847e6875d60d3b5fe8c4e341da83eeae = L.AwesomeMarkers.icon(\n",
       "                {\n",
       "  &quot;markerColor&quot;: &quot;darkblue&quot;,\n",
       "  &quot;iconColor&quot;: &quot;white&quot;,\n",
       "  &quot;icon&quot;: &quot;info-sign&quot;,\n",
       "  &quot;prefix&quot;: &quot;glyphicon&quot;,\n",
       "  &quot;extraClasses&quot;: &quot;fa-rotate-0&quot;,\n",
       "}\n",
       "            );\n",
       "            marker_5f2538468fcd6331ed9fbef836093999.setIcon(icon_847e6875d60d3b5fe8c4e341da83eeae);\n",
       "        \n",
       "    \n",
       "        var popup_83134a0d89fd94ec72992d5ab515804e = L.popup({\n",
       "  &quot;maxWidth&quot;: &quot;100%&quot;,\n",
       "});\n",
       "\n",
       "        \n",
       "            \n",
       "                var html_4fa8909363c64da8d21a59dfc8949b7c = $(`&lt;div id=&quot;html_4fa8909363c64da8d21a59dfc8949b7c&quot; style=&quot;width: 100.0%; height: 100.0%;&quot;&gt;Villarino&lt;/div&gt;`)[0];\n",
       "                popup_83134a0d89fd94ec72992d5ab515804e.setContent(html_4fa8909363c64da8d21a59dfc8949b7c);\n",
       "            \n",
       "        \n",
       "\n",
       "        marker_5f2538468fcd6331ed9fbef836093999.bindPopup(popup_83134a0d89fd94ec72992d5ab515804e)\n",
       "        ;\n",
       "\n",
       "        \n",
       "    \n",
       "    \n",
       "            var marker_dc851bf9021866b2f6edc0014461eecc = L.marker(\n",
       "                [23.140886322733916, -82.38453443415708],\n",
       "                {\n",
       "}\n",
       "            ).addTo(map_2d5c9f5ad0757b3f2f4dc97ed79838a9);\n",
       "        \n",
       "    \n",
       "            var icon_f115b275e539a1fd971c39241f1a22a8 = L.AwesomeMarkers.icon(\n",
       "                {\n",
       "  &quot;markerColor&quot;: &quot;darkblue&quot;,\n",
       "  &quot;iconColor&quot;: &quot;white&quot;,\n",
       "  &quot;icon&quot;: &quot;info-sign&quot;,\n",
       "  &quot;prefix&quot;: &quot;glyphicon&quot;,\n",
       "  &quot;extraClasses&quot;: &quot;fa-rotate-0&quot;,\n",
       "}\n",
       "            );\n",
       "            marker_dc851bf9021866b2f6edc0014461eecc.setIcon(icon_f115b275e539a1fd971c39241f1a22a8);\n",
       "        \n",
       "    \n",
       "        var popup_cbdb1fd1c1396d6c0b85601ca9461f58 = L.popup({\n",
       "  &quot;maxWidth&quot;: &quot;100%&quot;,\n",
       "});\n",
       "\n",
       "        \n",
       "            \n",
       "                var html_af55675d05807130ea4b8556d187fbf5 = $(`&lt;div id=&quot;html_af55675d05807130ea4b8556d187fbf5&quot; style=&quot;width: 100.0%; height: 100.0%;&quot;&gt;Vita Nuova&lt;/div&gt;`)[0];\n",
       "                popup_cbdb1fd1c1396d6c0b85601ca9461f58.setContent(html_af55675d05807130ea4b8556d187fbf5);\n",
       "            \n",
       "        \n",
       "\n",
       "        marker_dc851bf9021866b2f6edc0014461eecc.bindPopup(popup_cbdb1fd1c1396d6c0b85601ca9461f58)\n",
       "        ;\n",
       "\n",
       "        \n",
       "    \n",
       "    \n",
       "            var marker_000c4f6e3d63ace0bd57a4552881639b = L.marker(\n",
       "                [23.133054069126786, -82.39869353392423],\n",
       "                {\n",
       "}\n",
       "            ).addTo(map_2d5c9f5ad0757b3f2f4dc97ed79838a9);\n",
       "        \n",
       "    \n",
       "            var icon_0367273af9272232d48a77d801838db9 = L.AwesomeMarkers.icon(\n",
       "                {\n",
       "  &quot;markerColor&quot;: &quot;darkblue&quot;,\n",
       "  &quot;iconColor&quot;: &quot;white&quot;,\n",
       "  &quot;icon&quot;: &quot;info-sign&quot;,\n",
       "  &quot;prefix&quot;: &quot;glyphicon&quot;,\n",
       "  &quot;extraClasses&quot;: &quot;fa-rotate-0&quot;,\n",
       "}\n",
       "            );\n",
       "            marker_000c4f6e3d63ace0bd57a4552881639b.setIcon(icon_0367273af9272232d48a77d801838db9);\n",
       "        \n",
       "    \n",
       "        var popup_9ce52a366cb8ca01b30f19107d069647 = L.popup({\n",
       "  &quot;maxWidth&quot;: &quot;100%&quot;,\n",
       "});\n",
       "\n",
       "        \n",
       "            \n",
       "                var html_ab2a7d847160629d7fae3494c59345c7 = $(`&lt;div id=&quot;html_ab2a7d847160629d7fae3494c59345c7&quot; style=&quot;width: 100.0%; height: 100.0%;&quot;&gt;Wapa&lt;/div&gt;`)[0];\n",
       "                popup_9ce52a366cb8ca01b30f19107d069647.setContent(html_ab2a7d847160629d7fae3494c59345c7);\n",
       "            \n",
       "        \n",
       "\n",
       "        marker_000c4f6e3d63ace0bd57a4552881639b.bindPopup(popup_9ce52a366cb8ca01b30f19107d069647)\n",
       "        ;\n",
       "\n",
       "        \n",
       "    \n",
       "    \n",
       "            var marker_fd25cc128c48d427600feda9e952e9a3 = L.marker(\n",
       "                [23.099170645364698, -82.33964892703689],\n",
       "                {\n",
       "}\n",
       "            ).addTo(map_2d5c9f5ad0757b3f2f4dc97ed79838a9);\n",
       "        \n",
       "    \n",
       "            var icon_ec6450bc7b775970fcfeb24b4ccdda43 = L.AwesomeMarkers.icon(\n",
       "                {\n",
       "  &quot;markerColor&quot;: &quot;darkblue&quot;,\n",
       "  &quot;iconColor&quot;: &quot;white&quot;,\n",
       "  &quot;icon&quot;: &quot;info-sign&quot;,\n",
       "  &quot;prefix&quot;: &quot;glyphicon&quot;,\n",
       "  &quot;extraClasses&quot;: &quot;fa-rotate-0&quot;,\n",
       "}\n",
       "            );\n",
       "            marker_fd25cc128c48d427600feda9e952e9a3.setIcon(icon_ec6450bc7b775970fcfeb24b4ccdda43);\n",
       "        \n",
       "    \n",
       "        var popup_9b4996beee65ecad8ed578a130fc3c74 = L.popup({\n",
       "  &quot;maxWidth&quot;: &quot;100%&quot;,\n",
       "});\n",
       "\n",
       "        \n",
       "            \n",
       "                var html_c43b0e114e2876efe56fef3cdb4b3512 = $(`&lt;div id=&quot;html_c43b0e114e2876efe56fef3cdb4b3512&quot; style=&quot;width: 100.0%; height: 100.0%;&quot;&gt;Yesterday Havana&lt;/div&gt;`)[0];\n",
       "                popup_9b4996beee65ecad8ed578a130fc3c74.setContent(html_c43b0e114e2876efe56fef3cdb4b3512);\n",
       "            \n",
       "        \n",
       "\n",
       "        marker_fd25cc128c48d427600feda9e952e9a3.bindPopup(popup_9b4996beee65ecad8ed578a130fc3c74)\n",
       "        ;\n",
       "\n",
       "        \n",
       "    \n",
       "&lt;/script&gt;\n",
       "&lt;/html&gt;\" style=\"position:absolute;width:100%;height:100%;left:0;top:0;border:none !important;\" allowfullscreen webkitallowfullscreen mozallowfullscreen></iframe></div></div>"
      ],
      "text/plain": [
       "<folium.folium.Map at 0x25a7b03e720>"
      ]
     },
     "execution_count": 130,
     "metadata": {},
     "output_type": "execute_result"
    }
   ],
   "source": [
    "mapa = folium.Map(location=[23.1136, -82.3666], zoom_start=12)  # Coordenadas de La Habana\n",
    "\n",
    "for index, row in df.iterrows():\n",
    "    latitude = row['coordinates']['latitude']\n",
    "    longitude = row['coordinates']['longitude']\n",
    "    name = row['name']\n",
    "    \n",
    "    folium.Marker(\n",
    "        location=[latitude, longitude],\n",
    "        popup=name,\n",
    "        icon=folium.Icon(color='darkblue')\n",
    "    ).add_to(mapa)\n",
    "\n",
    "mapa"
   ]
  },
  {
   "cell_type": "markdown",
   "metadata": {},
   "source": [
    "\n",
    "Otro aspecto que también consideraron relevante fue el análisis de la cantidad de establecimientos que poseían capacidad \"baja\", \"media\" o \"alta\". "
   ]
  },
  {
   "cell_type": "markdown",
   "metadata": {},
   "source": [
    "-\"Esto podría influir mucho en cómo la gente elige salir. Si un lugar tiene mucha capacidad, puede ser ideal para grupos grandes, mientras que uno con capacidad baja puede ser más acogedor y tranquilo para determinados encuentros.\" -habló Paolo con total seguridad."
   ]
  },
  {
   "cell_type": "markdown",
   "metadata": {},
   "source": [
    "¿Cuál será la capacidad más frecuente de los bares y restaurantes en La Habana? ¿Y si además se toman en cuenta dichas clasificaciones por cada municipio?"
   ]
  },
  {
   "cell_type": "code",
   "execution_count": 131,
   "metadata": {},
   "outputs": [
    {
     "data": {
      "application/vnd.plotly.v1+json": {
       "config": {
        "plotlyServerURL": "https://plot.ly"
       },
       "data": [
        {
         "customdata": [
          [
           "media"
          ],
          [
           "baja"
          ],
          [
           "alta"
          ]
         ],
         "domain": {
          "x": [
           0,
           1
          ],
          "y": [
           0,
           1
          ]
         },
         "hovertemplate": "Capacidad de Recepción=%{customdata[0]}<br>Cantidad=%{value}<extra></extra>",
         "labels": [
          "media",
          "baja",
          "alta"
         ],
         "legendgroup": "",
         "marker": {
          "colors": [
           "#0d0887",
           "#46039f",
           "#7201a8"
          ]
         },
         "name": "",
         "showlegend": true,
         "type": "pie",
         "values": [
          98,
          54,
          49
         ]
        }
       ],
       "layout": {
        "legend": {
         "tracegroupgap": 0
        },
        "piecolorway": [
         "#0d0887",
         "#46039f",
         "#7201a8",
         "#9c179e",
         "#bd3786",
         "#d8576b",
         "#ed7953",
         "#fb9f3a",
         "#fdca26",
         "#f0f921"
        ],
        "template": {
         "data": {
          "bar": [
           {
            "error_x": {
             "color": "#2a3f5f"
            },
            "error_y": {
             "color": "#2a3f5f"
            },
            "marker": {
             "line": {
              "color": "#E5ECF6",
              "width": 0.5
             },
             "pattern": {
              "fillmode": "overlay",
              "size": 10,
              "solidity": 0.2
             }
            },
            "type": "bar"
           }
          ],
          "barpolar": [
           {
            "marker": {
             "line": {
              "color": "#E5ECF6",
              "width": 0.5
             },
             "pattern": {
              "fillmode": "overlay",
              "size": 10,
              "solidity": 0.2
             }
            },
            "type": "barpolar"
           }
          ],
          "carpet": [
           {
            "aaxis": {
             "endlinecolor": "#2a3f5f",
             "gridcolor": "white",
             "linecolor": "white",
             "minorgridcolor": "white",
             "startlinecolor": "#2a3f5f"
            },
            "baxis": {
             "endlinecolor": "#2a3f5f",
             "gridcolor": "white",
             "linecolor": "white",
             "minorgridcolor": "white",
             "startlinecolor": "#2a3f5f"
            },
            "type": "carpet"
           }
          ],
          "choropleth": [
           {
            "colorbar": {
             "outlinewidth": 0,
             "ticks": ""
            },
            "type": "choropleth"
           }
          ],
          "contour": [
           {
            "colorbar": {
             "outlinewidth": 0,
             "ticks": ""
            },
            "colorscale": [
             [
              0,
              "#0d0887"
             ],
             [
              0.1111111111111111,
              "#46039f"
             ],
             [
              0.2222222222222222,
              "#7201a8"
             ],
             [
              0.3333333333333333,
              "#9c179e"
             ],
             [
              0.4444444444444444,
              "#bd3786"
             ],
             [
              0.5555555555555556,
              "#d8576b"
             ],
             [
              0.6666666666666666,
              "#ed7953"
             ],
             [
              0.7777777777777778,
              "#fb9f3a"
             ],
             [
              0.8888888888888888,
              "#fdca26"
             ],
             [
              1,
              "#f0f921"
             ]
            ],
            "type": "contour"
           }
          ],
          "contourcarpet": [
           {
            "colorbar": {
             "outlinewidth": 0,
             "ticks": ""
            },
            "type": "contourcarpet"
           }
          ],
          "heatmap": [
           {
            "colorbar": {
             "outlinewidth": 0,
             "ticks": ""
            },
            "colorscale": [
             [
              0,
              "#0d0887"
             ],
             [
              0.1111111111111111,
              "#46039f"
             ],
             [
              0.2222222222222222,
              "#7201a8"
             ],
             [
              0.3333333333333333,
              "#9c179e"
             ],
             [
              0.4444444444444444,
              "#bd3786"
             ],
             [
              0.5555555555555556,
              "#d8576b"
             ],
             [
              0.6666666666666666,
              "#ed7953"
             ],
             [
              0.7777777777777778,
              "#fb9f3a"
             ],
             [
              0.8888888888888888,
              "#fdca26"
             ],
             [
              1,
              "#f0f921"
             ]
            ],
            "type": "heatmap"
           }
          ],
          "heatmapgl": [
           {
            "colorbar": {
             "outlinewidth": 0,
             "ticks": ""
            },
            "colorscale": [
             [
              0,
              "#0d0887"
             ],
             [
              0.1111111111111111,
              "#46039f"
             ],
             [
              0.2222222222222222,
              "#7201a8"
             ],
             [
              0.3333333333333333,
              "#9c179e"
             ],
             [
              0.4444444444444444,
              "#bd3786"
             ],
             [
              0.5555555555555556,
              "#d8576b"
             ],
             [
              0.6666666666666666,
              "#ed7953"
             ],
             [
              0.7777777777777778,
              "#fb9f3a"
             ],
             [
              0.8888888888888888,
              "#fdca26"
             ],
             [
              1,
              "#f0f921"
             ]
            ],
            "type": "heatmapgl"
           }
          ],
          "histogram": [
           {
            "marker": {
             "pattern": {
              "fillmode": "overlay",
              "size": 10,
              "solidity": 0.2
             }
            },
            "type": "histogram"
           }
          ],
          "histogram2d": [
           {
            "colorbar": {
             "outlinewidth": 0,
             "ticks": ""
            },
            "colorscale": [
             [
              0,
              "#0d0887"
             ],
             [
              0.1111111111111111,
              "#46039f"
             ],
             [
              0.2222222222222222,
              "#7201a8"
             ],
             [
              0.3333333333333333,
              "#9c179e"
             ],
             [
              0.4444444444444444,
              "#bd3786"
             ],
             [
              0.5555555555555556,
              "#d8576b"
             ],
             [
              0.6666666666666666,
              "#ed7953"
             ],
             [
              0.7777777777777778,
              "#fb9f3a"
             ],
             [
              0.8888888888888888,
              "#fdca26"
             ],
             [
              1,
              "#f0f921"
             ]
            ],
            "type": "histogram2d"
           }
          ],
          "histogram2dcontour": [
           {
            "colorbar": {
             "outlinewidth": 0,
             "ticks": ""
            },
            "colorscale": [
             [
              0,
              "#0d0887"
             ],
             [
              0.1111111111111111,
              "#46039f"
             ],
             [
              0.2222222222222222,
              "#7201a8"
             ],
             [
              0.3333333333333333,
              "#9c179e"
             ],
             [
              0.4444444444444444,
              "#bd3786"
             ],
             [
              0.5555555555555556,
              "#d8576b"
             ],
             [
              0.6666666666666666,
              "#ed7953"
             ],
             [
              0.7777777777777778,
              "#fb9f3a"
             ],
             [
              0.8888888888888888,
              "#fdca26"
             ],
             [
              1,
              "#f0f921"
             ]
            ],
            "type": "histogram2dcontour"
           }
          ],
          "mesh3d": [
           {
            "colorbar": {
             "outlinewidth": 0,
             "ticks": ""
            },
            "type": "mesh3d"
           }
          ],
          "parcoords": [
           {
            "line": {
             "colorbar": {
              "outlinewidth": 0,
              "ticks": ""
             }
            },
            "type": "parcoords"
           }
          ],
          "pie": [
           {
            "automargin": true,
            "type": "pie"
           }
          ],
          "scatter": [
           {
            "fillpattern": {
             "fillmode": "overlay",
             "size": 10,
             "solidity": 0.2
            },
            "type": "scatter"
           }
          ],
          "scatter3d": [
           {
            "line": {
             "colorbar": {
              "outlinewidth": 0,
              "ticks": ""
             }
            },
            "marker": {
             "colorbar": {
              "outlinewidth": 0,
              "ticks": ""
             }
            },
            "type": "scatter3d"
           }
          ],
          "scattercarpet": [
           {
            "marker": {
             "colorbar": {
              "outlinewidth": 0,
              "ticks": ""
             }
            },
            "type": "scattercarpet"
           }
          ],
          "scattergeo": [
           {
            "marker": {
             "colorbar": {
              "outlinewidth": 0,
              "ticks": ""
             }
            },
            "type": "scattergeo"
           }
          ],
          "scattergl": [
           {
            "marker": {
             "colorbar": {
              "outlinewidth": 0,
              "ticks": ""
             }
            },
            "type": "scattergl"
           }
          ],
          "scattermapbox": [
           {
            "marker": {
             "colorbar": {
              "outlinewidth": 0,
              "ticks": ""
             }
            },
            "type": "scattermapbox"
           }
          ],
          "scatterpolar": [
           {
            "marker": {
             "colorbar": {
              "outlinewidth": 0,
              "ticks": ""
             }
            },
            "type": "scatterpolar"
           }
          ],
          "scatterpolargl": [
           {
            "marker": {
             "colorbar": {
              "outlinewidth": 0,
              "ticks": ""
             }
            },
            "type": "scatterpolargl"
           }
          ],
          "scatterternary": [
           {
            "marker": {
             "colorbar": {
              "outlinewidth": 0,
              "ticks": ""
             }
            },
            "type": "scatterternary"
           }
          ],
          "surface": [
           {
            "colorbar": {
             "outlinewidth": 0,
             "ticks": ""
            },
            "colorscale": [
             [
              0,
              "#0d0887"
             ],
             [
              0.1111111111111111,
              "#46039f"
             ],
             [
              0.2222222222222222,
              "#7201a8"
             ],
             [
              0.3333333333333333,
              "#9c179e"
             ],
             [
              0.4444444444444444,
              "#bd3786"
             ],
             [
              0.5555555555555556,
              "#d8576b"
             ],
             [
              0.6666666666666666,
              "#ed7953"
             ],
             [
              0.7777777777777778,
              "#fb9f3a"
             ],
             [
              0.8888888888888888,
              "#fdca26"
             ],
             [
              1,
              "#f0f921"
             ]
            ],
            "type": "surface"
           }
          ],
          "table": [
           {
            "cells": {
             "fill": {
              "color": "#EBF0F8"
             },
             "line": {
              "color": "white"
             }
            },
            "header": {
             "fill": {
              "color": "#C8D4E3"
             },
             "line": {
              "color": "white"
             }
            },
            "type": "table"
           }
          ]
         },
         "layout": {
          "annotationdefaults": {
           "arrowcolor": "#2a3f5f",
           "arrowhead": 0,
           "arrowwidth": 1
          },
          "autotypenumbers": "strict",
          "coloraxis": {
           "colorbar": {
            "outlinewidth": 0,
            "ticks": ""
           }
          },
          "colorscale": {
           "diverging": [
            [
             0,
             "#8e0152"
            ],
            [
             0.1,
             "#c51b7d"
            ],
            [
             0.2,
             "#de77ae"
            ],
            [
             0.3,
             "#f1b6da"
            ],
            [
             0.4,
             "#fde0ef"
            ],
            [
             0.5,
             "#f7f7f7"
            ],
            [
             0.6,
             "#e6f5d0"
            ],
            [
             0.7,
             "#b8e186"
            ],
            [
             0.8,
             "#7fbc41"
            ],
            [
             0.9,
             "#4d9221"
            ],
            [
             1,
             "#276419"
            ]
           ],
           "sequential": [
            [
             0,
             "#0d0887"
            ],
            [
             0.1111111111111111,
             "#46039f"
            ],
            [
             0.2222222222222222,
             "#7201a8"
            ],
            [
             0.3333333333333333,
             "#9c179e"
            ],
            [
             0.4444444444444444,
             "#bd3786"
            ],
            [
             0.5555555555555556,
             "#d8576b"
            ],
            [
             0.6666666666666666,
             "#ed7953"
            ],
            [
             0.7777777777777778,
             "#fb9f3a"
            ],
            [
             0.8888888888888888,
             "#fdca26"
            ],
            [
             1,
             "#f0f921"
            ]
           ],
           "sequentialminus": [
            [
             0,
             "#0d0887"
            ],
            [
             0.1111111111111111,
             "#46039f"
            ],
            [
             0.2222222222222222,
             "#7201a8"
            ],
            [
             0.3333333333333333,
             "#9c179e"
            ],
            [
             0.4444444444444444,
             "#bd3786"
            ],
            [
             0.5555555555555556,
             "#d8576b"
            ],
            [
             0.6666666666666666,
             "#ed7953"
            ],
            [
             0.7777777777777778,
             "#fb9f3a"
            ],
            [
             0.8888888888888888,
             "#fdca26"
            ],
            [
             1,
             "#f0f921"
            ]
           ]
          },
          "colorway": [
           "#636efa",
           "#EF553B",
           "#00cc96",
           "#ab63fa",
           "#FFA15A",
           "#19d3f3",
           "#FF6692",
           "#B6E880",
           "#FF97FF",
           "#FECB52"
          ],
          "font": {
           "color": "#2a3f5f"
          },
          "geo": {
           "bgcolor": "white",
           "lakecolor": "white",
           "landcolor": "#E5ECF6",
           "showlakes": true,
           "showland": true,
           "subunitcolor": "white"
          },
          "hoverlabel": {
           "align": "left"
          },
          "hovermode": "closest",
          "mapbox": {
           "style": "light"
          },
          "paper_bgcolor": "white",
          "plot_bgcolor": "#E5ECF6",
          "polar": {
           "angularaxis": {
            "gridcolor": "white",
            "linecolor": "white",
            "ticks": ""
           },
           "bgcolor": "#E5ECF6",
           "radialaxis": {
            "gridcolor": "white",
            "linecolor": "white",
            "ticks": ""
           }
          },
          "scene": {
           "xaxis": {
            "backgroundcolor": "#E5ECF6",
            "gridcolor": "white",
            "gridwidth": 2,
            "linecolor": "white",
            "showbackground": true,
            "ticks": "",
            "zerolinecolor": "white"
           },
           "yaxis": {
            "backgroundcolor": "#E5ECF6",
            "gridcolor": "white",
            "gridwidth": 2,
            "linecolor": "white",
            "showbackground": true,
            "ticks": "",
            "zerolinecolor": "white"
           },
           "zaxis": {
            "backgroundcolor": "#E5ECF6",
            "gridcolor": "white",
            "gridwidth": 2,
            "linecolor": "white",
            "showbackground": true,
            "ticks": "",
            "zerolinecolor": "white"
           }
          },
          "shapedefaults": {
           "line": {
            "color": "#2a3f5f"
           }
          },
          "ternary": {
           "aaxis": {
            "gridcolor": "white",
            "linecolor": "white",
            "ticks": ""
           },
           "baxis": {
            "gridcolor": "white",
            "linecolor": "white",
            "ticks": ""
           },
           "bgcolor": "#E5ECF6",
           "caxis": {
            "gridcolor": "white",
            "linecolor": "white",
            "ticks": ""
           }
          },
          "title": {
           "x": 0.05
          },
          "xaxis": {
           "automargin": true,
           "gridcolor": "white",
           "linecolor": "white",
           "ticks": "",
           "title": {
            "standoff": 15
           },
           "zerolinecolor": "white",
           "zerolinewidth": 2
          },
          "yaxis": {
           "automargin": true,
           "gridcolor": "white",
           "linecolor": "white",
           "ticks": "",
           "title": {
            "standoff": 15
           },
           "zerolinecolor": "white",
           "zerolinewidth": 2
          }
         }
        },
        "title": {
         "text": "Distribución de Establecimientos por Capacidad de Recepción"
        }
       }
      }
     },
     "metadata": {},
     "output_type": "display_data"
    }
   ],
   "source": [
    "capacidades = [\"alta\", \"media\", \"baja\"]\n",
    "df1 = df[df['intake_capacity'].isin(capacidades)]\n",
    "conteo_intake_capacity = df1['intake_capacity'].value_counts().reset_index()\n",
    "conteo_intake_capacity.columns = ['Capacidad de Recepción', 'Cantidad']\n",
    "\n",
    "fig = px.pie(conteo_intake_capacity, \n",
    "            names='Capacidad de Recepción', \n",
    "            values='Cantidad', \n",
    "            title='Distribución de Establecimientos por Capacidad de Recepción',\n",
    "            color='Capacidad de Recepción',\n",
    "            color_discrete_sequence=px.colors.sequential.Plasma)\n",
    "fig.show()"
   ]
  },
  {
   "cell_type": "code",
   "execution_count": 132,
   "metadata": {},
   "outputs": [
    {
     "data": {
      "application/vnd.plotly.v1+json": {
       "config": {
        "plotlyServerURL": "https://plot.ly"
       },
       "data": [
        {
         "alignmentgroup": "True",
         "hovertemplate": "intake_capacity=alta<br>Municipio=%{x}<br>Número de Establecimientos=%{text}<extra></extra>",
         "legendgroup": "alta",
         "marker": {
          "color": "#636efa",
          "pattern": {
           "shape": ""
          }
         },
         "name": "alta",
         "offsetgroup": "alta",
         "orientation": "v",
         "showlegend": true,
         "text": [
          3,
          4,
          5,
          4,
          2,
          1,
          1,
          2,
          3,
          2,
          12,
          9,
          1
         ],
         "textposition": "auto",
         "type": "bar",
         "x": [
          "Arroyo Naranjo",
          "Boyeros",
          "Centro Habana",
          "Cotorro",
          "Diez de Octubre",
          "Guanabacoa",
          "Habana Del Este",
          "Habana del Este",
          "La Habana Vieja",
          "Marianao",
          "Playa",
          "Plaza de la Revolución",
          "San Miguel del Padrón"
         ],
         "xaxis": "x",
         "y": [
          3,
          4,
          5,
          4,
          2,
          1,
          1,
          2,
          3,
          2,
          12,
          9,
          1
         ],
         "yaxis": "y"
        },
        {
         "alignmentgroup": "True",
         "hovertemplate": "intake_capacity=baja<br>Municipio=%{x}<br>Número de Establecimientos=%{text}<extra></extra>",
         "legendgroup": "baja",
         "marker": {
          "color": "#EF553B",
          "pattern": {
           "shape": ""
          }
         },
         "name": "baja",
         "offsetgroup": "baja",
         "orientation": "v",
         "showlegend": true,
         "text": [
          3,
          5,
          7,
          2,
          6,
          4,
          2,
          1,
          2,
          4,
          3,
          9,
          2,
          4
         ],
         "textposition": "auto",
         "type": "bar",
         "x": [
          "Arroyo Naranjo",
          "Centro Habana",
          "Cerro",
          "Cotorro",
          "Diez de Octubre",
          "Guanabacoa",
          "Habana del Este",
          "La Habana Vieja",
          "La Lisa",
          "Marianao",
          "Playa",
          "Plaza de la Revolución",
          "Regla",
          "San Miguel del Padrón"
         ],
         "xaxis": "x",
         "y": [
          3,
          5,
          7,
          2,
          6,
          4,
          2,
          1,
          2,
          4,
          3,
          9,
          2,
          4
         ],
         "yaxis": "y"
        },
        {
         "alignmentgroup": "True",
         "hovertemplate": "intake_capacity=media<br>Municipio=%{x}<br>Número de Establecimientos=%{text}<extra></extra>",
         "legendgroup": "media",
         "marker": {
          "color": "#00cc96",
          "pattern": {
           "shape": ""
          }
         },
         "name": "media",
         "offsetgroup": "media",
         "orientation": "v",
         "showlegend": true,
         "text": [
          4,
          6,
          21,
          3,
          4,
          2,
          4,
          5,
          6,
          4,
          4,
          15,
          12,
          3,
          5
         ],
         "textposition": "auto",
         "type": "bar",
         "x": [
          "Arroyo Naranjo",
          "Boyeros",
          "Centro Habana",
          "Cerro",
          "Cotorro",
          "Diez de Octubre",
          "Guanabacoa",
          "Habana del Este",
          "La Habana Vieja",
          "La Lisa",
          "Marianao",
          "Playa",
          "Plaza de la Revolución",
          "Regla",
          "San Miguel del Padrón"
         ],
         "xaxis": "x",
         "y": [
          4,
          6,
          21,
          3,
          4,
          2,
          4,
          5,
          6,
          4,
          4,
          15,
          12,
          3,
          5
         ],
         "yaxis": "y"
        }
       ],
       "layout": {
        "barmode": "group",
        "legend": {
         "title": {
          "text": "intake_capacity"
         },
         "tracegroupgap": 0
        },
        "template": {
         "data": {
          "bar": [
           {
            "error_x": {
             "color": "#2a3f5f"
            },
            "error_y": {
             "color": "#2a3f5f"
            },
            "marker": {
             "line": {
              "color": "#E5ECF6",
              "width": 0.5
             },
             "pattern": {
              "fillmode": "overlay",
              "size": 10,
              "solidity": 0.2
             }
            },
            "type": "bar"
           }
          ],
          "barpolar": [
           {
            "marker": {
             "line": {
              "color": "#E5ECF6",
              "width": 0.5
             },
             "pattern": {
              "fillmode": "overlay",
              "size": 10,
              "solidity": 0.2
             }
            },
            "type": "barpolar"
           }
          ],
          "carpet": [
           {
            "aaxis": {
             "endlinecolor": "#2a3f5f",
             "gridcolor": "white",
             "linecolor": "white",
             "minorgridcolor": "white",
             "startlinecolor": "#2a3f5f"
            },
            "baxis": {
             "endlinecolor": "#2a3f5f",
             "gridcolor": "white",
             "linecolor": "white",
             "minorgridcolor": "white",
             "startlinecolor": "#2a3f5f"
            },
            "type": "carpet"
           }
          ],
          "choropleth": [
           {
            "colorbar": {
             "outlinewidth": 0,
             "ticks": ""
            },
            "type": "choropleth"
           }
          ],
          "contour": [
           {
            "colorbar": {
             "outlinewidth": 0,
             "ticks": ""
            },
            "colorscale": [
             [
              0,
              "#0d0887"
             ],
             [
              0.1111111111111111,
              "#46039f"
             ],
             [
              0.2222222222222222,
              "#7201a8"
             ],
             [
              0.3333333333333333,
              "#9c179e"
             ],
             [
              0.4444444444444444,
              "#bd3786"
             ],
             [
              0.5555555555555556,
              "#d8576b"
             ],
             [
              0.6666666666666666,
              "#ed7953"
             ],
             [
              0.7777777777777778,
              "#fb9f3a"
             ],
             [
              0.8888888888888888,
              "#fdca26"
             ],
             [
              1,
              "#f0f921"
             ]
            ],
            "type": "contour"
           }
          ],
          "contourcarpet": [
           {
            "colorbar": {
             "outlinewidth": 0,
             "ticks": ""
            },
            "type": "contourcarpet"
           }
          ],
          "heatmap": [
           {
            "colorbar": {
             "outlinewidth": 0,
             "ticks": ""
            },
            "colorscale": [
             [
              0,
              "#0d0887"
             ],
             [
              0.1111111111111111,
              "#46039f"
             ],
             [
              0.2222222222222222,
              "#7201a8"
             ],
             [
              0.3333333333333333,
              "#9c179e"
             ],
             [
              0.4444444444444444,
              "#bd3786"
             ],
             [
              0.5555555555555556,
              "#d8576b"
             ],
             [
              0.6666666666666666,
              "#ed7953"
             ],
             [
              0.7777777777777778,
              "#fb9f3a"
             ],
             [
              0.8888888888888888,
              "#fdca26"
             ],
             [
              1,
              "#f0f921"
             ]
            ],
            "type": "heatmap"
           }
          ],
          "heatmapgl": [
           {
            "colorbar": {
             "outlinewidth": 0,
             "ticks": ""
            },
            "colorscale": [
             [
              0,
              "#0d0887"
             ],
             [
              0.1111111111111111,
              "#46039f"
             ],
             [
              0.2222222222222222,
              "#7201a8"
             ],
             [
              0.3333333333333333,
              "#9c179e"
             ],
             [
              0.4444444444444444,
              "#bd3786"
             ],
             [
              0.5555555555555556,
              "#d8576b"
             ],
             [
              0.6666666666666666,
              "#ed7953"
             ],
             [
              0.7777777777777778,
              "#fb9f3a"
             ],
             [
              0.8888888888888888,
              "#fdca26"
             ],
             [
              1,
              "#f0f921"
             ]
            ],
            "type": "heatmapgl"
           }
          ],
          "histogram": [
           {
            "marker": {
             "pattern": {
              "fillmode": "overlay",
              "size": 10,
              "solidity": 0.2
             }
            },
            "type": "histogram"
           }
          ],
          "histogram2d": [
           {
            "colorbar": {
             "outlinewidth": 0,
             "ticks": ""
            },
            "colorscale": [
             [
              0,
              "#0d0887"
             ],
             [
              0.1111111111111111,
              "#46039f"
             ],
             [
              0.2222222222222222,
              "#7201a8"
             ],
             [
              0.3333333333333333,
              "#9c179e"
             ],
             [
              0.4444444444444444,
              "#bd3786"
             ],
             [
              0.5555555555555556,
              "#d8576b"
             ],
             [
              0.6666666666666666,
              "#ed7953"
             ],
             [
              0.7777777777777778,
              "#fb9f3a"
             ],
             [
              0.8888888888888888,
              "#fdca26"
             ],
             [
              1,
              "#f0f921"
             ]
            ],
            "type": "histogram2d"
           }
          ],
          "histogram2dcontour": [
           {
            "colorbar": {
             "outlinewidth": 0,
             "ticks": ""
            },
            "colorscale": [
             [
              0,
              "#0d0887"
             ],
             [
              0.1111111111111111,
              "#46039f"
             ],
             [
              0.2222222222222222,
              "#7201a8"
             ],
             [
              0.3333333333333333,
              "#9c179e"
             ],
             [
              0.4444444444444444,
              "#bd3786"
             ],
             [
              0.5555555555555556,
              "#d8576b"
             ],
             [
              0.6666666666666666,
              "#ed7953"
             ],
             [
              0.7777777777777778,
              "#fb9f3a"
             ],
             [
              0.8888888888888888,
              "#fdca26"
             ],
             [
              1,
              "#f0f921"
             ]
            ],
            "type": "histogram2dcontour"
           }
          ],
          "mesh3d": [
           {
            "colorbar": {
             "outlinewidth": 0,
             "ticks": ""
            },
            "type": "mesh3d"
           }
          ],
          "parcoords": [
           {
            "line": {
             "colorbar": {
              "outlinewidth": 0,
              "ticks": ""
             }
            },
            "type": "parcoords"
           }
          ],
          "pie": [
           {
            "automargin": true,
            "type": "pie"
           }
          ],
          "scatter": [
           {
            "fillpattern": {
             "fillmode": "overlay",
             "size": 10,
             "solidity": 0.2
            },
            "type": "scatter"
           }
          ],
          "scatter3d": [
           {
            "line": {
             "colorbar": {
              "outlinewidth": 0,
              "ticks": ""
             }
            },
            "marker": {
             "colorbar": {
              "outlinewidth": 0,
              "ticks": ""
             }
            },
            "type": "scatter3d"
           }
          ],
          "scattercarpet": [
           {
            "marker": {
             "colorbar": {
              "outlinewidth": 0,
              "ticks": ""
             }
            },
            "type": "scattercarpet"
           }
          ],
          "scattergeo": [
           {
            "marker": {
             "colorbar": {
              "outlinewidth": 0,
              "ticks": ""
             }
            },
            "type": "scattergeo"
           }
          ],
          "scattergl": [
           {
            "marker": {
             "colorbar": {
              "outlinewidth": 0,
              "ticks": ""
             }
            },
            "type": "scattergl"
           }
          ],
          "scattermapbox": [
           {
            "marker": {
             "colorbar": {
              "outlinewidth": 0,
              "ticks": ""
             }
            },
            "type": "scattermapbox"
           }
          ],
          "scatterpolar": [
           {
            "marker": {
             "colorbar": {
              "outlinewidth": 0,
              "ticks": ""
             }
            },
            "type": "scatterpolar"
           }
          ],
          "scatterpolargl": [
           {
            "marker": {
             "colorbar": {
              "outlinewidth": 0,
              "ticks": ""
             }
            },
            "type": "scatterpolargl"
           }
          ],
          "scatterternary": [
           {
            "marker": {
             "colorbar": {
              "outlinewidth": 0,
              "ticks": ""
             }
            },
            "type": "scatterternary"
           }
          ],
          "surface": [
           {
            "colorbar": {
             "outlinewidth": 0,
             "ticks": ""
            },
            "colorscale": [
             [
              0,
              "#0d0887"
             ],
             [
              0.1111111111111111,
              "#46039f"
             ],
             [
              0.2222222222222222,
              "#7201a8"
             ],
             [
              0.3333333333333333,
              "#9c179e"
             ],
             [
              0.4444444444444444,
              "#bd3786"
             ],
             [
              0.5555555555555556,
              "#d8576b"
             ],
             [
              0.6666666666666666,
              "#ed7953"
             ],
             [
              0.7777777777777778,
              "#fb9f3a"
             ],
             [
              0.8888888888888888,
              "#fdca26"
             ],
             [
              1,
              "#f0f921"
             ]
            ],
            "type": "surface"
           }
          ],
          "table": [
           {
            "cells": {
             "fill": {
              "color": "#EBF0F8"
             },
             "line": {
              "color": "white"
             }
            },
            "header": {
             "fill": {
              "color": "#C8D4E3"
             },
             "line": {
              "color": "white"
             }
            },
            "type": "table"
           }
          ]
         },
         "layout": {
          "annotationdefaults": {
           "arrowcolor": "#2a3f5f",
           "arrowhead": 0,
           "arrowwidth": 1
          },
          "autotypenumbers": "strict",
          "coloraxis": {
           "colorbar": {
            "outlinewidth": 0,
            "ticks": ""
           }
          },
          "colorscale": {
           "diverging": [
            [
             0,
             "#8e0152"
            ],
            [
             0.1,
             "#c51b7d"
            ],
            [
             0.2,
             "#de77ae"
            ],
            [
             0.3,
             "#f1b6da"
            ],
            [
             0.4,
             "#fde0ef"
            ],
            [
             0.5,
             "#f7f7f7"
            ],
            [
             0.6,
             "#e6f5d0"
            ],
            [
             0.7,
             "#b8e186"
            ],
            [
             0.8,
             "#7fbc41"
            ],
            [
             0.9,
             "#4d9221"
            ],
            [
             1,
             "#276419"
            ]
           ],
           "sequential": [
            [
             0,
             "#0d0887"
            ],
            [
             0.1111111111111111,
             "#46039f"
            ],
            [
             0.2222222222222222,
             "#7201a8"
            ],
            [
             0.3333333333333333,
             "#9c179e"
            ],
            [
             0.4444444444444444,
             "#bd3786"
            ],
            [
             0.5555555555555556,
             "#d8576b"
            ],
            [
             0.6666666666666666,
             "#ed7953"
            ],
            [
             0.7777777777777778,
             "#fb9f3a"
            ],
            [
             0.8888888888888888,
             "#fdca26"
            ],
            [
             1,
             "#f0f921"
            ]
           ],
           "sequentialminus": [
            [
             0,
             "#0d0887"
            ],
            [
             0.1111111111111111,
             "#46039f"
            ],
            [
             0.2222222222222222,
             "#7201a8"
            ],
            [
             0.3333333333333333,
             "#9c179e"
            ],
            [
             0.4444444444444444,
             "#bd3786"
            ],
            [
             0.5555555555555556,
             "#d8576b"
            ],
            [
             0.6666666666666666,
             "#ed7953"
            ],
            [
             0.7777777777777778,
             "#fb9f3a"
            ],
            [
             0.8888888888888888,
             "#fdca26"
            ],
            [
             1,
             "#f0f921"
            ]
           ]
          },
          "colorway": [
           "#636efa",
           "#EF553B",
           "#00cc96",
           "#ab63fa",
           "#FFA15A",
           "#19d3f3",
           "#FF6692",
           "#B6E880",
           "#FF97FF",
           "#FECB52"
          ],
          "font": {
           "color": "#2a3f5f"
          },
          "geo": {
           "bgcolor": "white",
           "lakecolor": "white",
           "landcolor": "#E5ECF6",
           "showlakes": true,
           "showland": true,
           "subunitcolor": "white"
          },
          "hoverlabel": {
           "align": "left"
          },
          "hovermode": "closest",
          "mapbox": {
           "style": "light"
          },
          "paper_bgcolor": "white",
          "plot_bgcolor": "#E5ECF6",
          "polar": {
           "angularaxis": {
            "gridcolor": "white",
            "linecolor": "white",
            "ticks": ""
           },
           "bgcolor": "#E5ECF6",
           "radialaxis": {
            "gridcolor": "white",
            "linecolor": "white",
            "ticks": ""
           }
          },
          "scene": {
           "xaxis": {
            "backgroundcolor": "#E5ECF6",
            "gridcolor": "white",
            "gridwidth": 2,
            "linecolor": "white",
            "showbackground": true,
            "ticks": "",
            "zerolinecolor": "white"
           },
           "yaxis": {
            "backgroundcolor": "#E5ECF6",
            "gridcolor": "white",
            "gridwidth": 2,
            "linecolor": "white",
            "showbackground": true,
            "ticks": "",
            "zerolinecolor": "white"
           },
           "zaxis": {
            "backgroundcolor": "#E5ECF6",
            "gridcolor": "white",
            "gridwidth": 2,
            "linecolor": "white",
            "showbackground": true,
            "ticks": "",
            "zerolinecolor": "white"
           }
          },
          "shapedefaults": {
           "line": {
            "color": "#2a3f5f"
           }
          },
          "ternary": {
           "aaxis": {
            "gridcolor": "white",
            "linecolor": "white",
            "ticks": ""
           },
           "baxis": {
            "gridcolor": "white",
            "linecolor": "white",
            "ticks": ""
           },
           "bgcolor": "#E5ECF6",
           "caxis": {
            "gridcolor": "white",
            "linecolor": "white",
            "ticks": ""
           }
          },
          "title": {
           "x": 0.05
          },
          "xaxis": {
           "automargin": true,
           "gridcolor": "white",
           "linecolor": "white",
           "ticks": "",
           "title": {
            "standoff": 15
           },
           "zerolinecolor": "white",
           "zerolinewidth": 2
          },
          "yaxis": {
           "automargin": true,
           "gridcolor": "white",
           "linecolor": "white",
           "ticks": "",
           "title": {
            "standoff": 15
           },
           "zerolinecolor": "white",
           "zerolinewidth": 2
          }
         }
        },
        "title": {
         "text": "Cantidad de Establecimientos por Municipio y Capacidad"
        },
        "xaxis": {
         "anchor": "y",
         "domain": [
          0,
          1
         ],
         "title": {
          "text": "Municipio"
         }
        },
        "yaxis": {
         "anchor": "x",
         "domain": [
          0,
          1
         ],
         "title": {
          "text": "Número de Establecimientos"
         }
        }
       }
      }
     },
     "metadata": {},
     "output_type": "display_data"
    }
   ],
   "source": [
    "conteo_por_municipio = df.groupby(['district', 'intake_capacity']).size().reset_index(name='count') #Agrupa por tipo de capacidad y el municipio y cuenta. El (name='count') le da nombre a la nueva columa con los conteos.\n",
    "\n",
    "fig = px.bar(conteo_por_municipio, \n",
    "            x='district', \n",
    "            y='count', \n",
    "            color='intake_capacity', \n",
    "            barmode='group',\n",
    "            title='Cantidad de Establecimientos por Municipio y Capacidad',\n",
    "            labels={'district': 'Municipio', 'count': 'Número de Establecimientos'},\n",
    "            text='count')\n",
    "fig.show()"
   ]
  },
  {
   "cell_type": "markdown",
   "metadata": {},
   "source": [
    "-\"Oye, cuando ustedes tienen en mente ir a algún sitio ¿no les da automáticamente el impulso de buscarlo en redes sociales como Instagram y Facebook? Ahí suben fotos del local, de los platos y más o menos vas teniendo una idea. Para mí, que tenga actividad en las plataformas digitales, es muy buena señal. Hay que modernizarse.\" -intervino nuevamente Ana."
   ]
  },
  {
   "cell_type": "markdown",
   "metadata": {},
   "source": [
    "-\"Totalmente de acuerdo, hoy en día todos comparten foto de su comida o del lugar en el que están, incluso muchos de los nuevos lugares se dan a conocer por su actividad en plataformas digitales. Si un lugar tiene una buena presencia en redes probablemente atraerá más clientes.\" -comentó Luis."
   ]
  },
  {
   "cell_type": "markdown",
   "metadata": {},
   "source": [
    "Con esta nueva idea, decidieron investigar qué municipios tenían la mayor cantidad de establecimientos activos en redes sociales, descubriendo así que en los municipios Playa y Plaza 21 de los 30 sitios analizados en cada uno de ellos respectivamente, tenían perfiles en las plataformas, con muchas más posibilidades de llegar al cliente.\n"
   ]
  },
  {
   "cell_type": "code",
   "execution_count": 5,
   "metadata": {},
   "outputs": [
    {
     "data": {
      "application/vnd.plotly.v1+json": {
       "config": {
        "plotlyServerURL": "https://plot.ly"
       },
       "data": [
        {
         "alignmentgroup": "True",
         "hovertemplate": "Municipio=%{x}<br>Cantidad de Restaurantes=%{marker.color}<extra></extra>",
         "legendgroup": "",
         "marker": {
          "color": [
           21,
           21,
           14,
           6,
           5,
           5,
           5,
           4,
           3,
           3,
           3,
           2,
           2,
           1,
           1
          ],
          "coloraxis": "coloraxis",
          "pattern": {
           "shape": ""
          }
         },
         "name": "",
         "offsetgroup": "",
         "orientation": "v",
         "showlegend": false,
         "textposition": "auto",
         "type": "bar",
         "x": [
          "Playa",
          "Plaza de la Revolución",
          "Centro Habana",
          "Diez de Octubre",
          "Boyeros",
          "Habana del Este",
          "La Habana Vieja",
          "Arroyo Naranjo",
          "Guanabacoa",
          "Cotorro",
          "La Lisa",
          "Regla",
          "Cerro",
          "Marianao",
          "San Miguel del Padrón"
         ],
         "xaxis": "x",
         "y": [
          21,
          21,
          14,
          6,
          5,
          5,
          5,
          4,
          3,
          3,
          3,
          2,
          2,
          1,
          1
         ],
         "yaxis": "y"
        }
       ],
       "layout": {
        "barmode": "relative",
        "coloraxis": {
         "colorbar": {
          "title": {
           "text": "Cantidad de Restaurantes"
          }
         },
         "colorscale": [
          [
           0,
           "#0d0887"
          ],
          [
           0.1111111111111111,
           "#46039f"
          ],
          [
           0.2222222222222222,
           "#7201a8"
          ],
          [
           0.3333333333333333,
           "#9c179e"
          ],
          [
           0.4444444444444444,
           "#bd3786"
          ],
          [
           0.5555555555555556,
           "#d8576b"
          ],
          [
           0.6666666666666666,
           "#ed7953"
          ],
          [
           0.7777777777777778,
           "#fb9f3a"
          ],
          [
           0.8888888888888888,
           "#fdca26"
          ],
          [
           1,
           "#f0f921"
          ]
         ]
        },
        "legend": {
         "tracegroupgap": 0
        },
        "template": {
         "data": {
          "bar": [
           {
            "error_x": {
             "color": "#2a3f5f"
            },
            "error_y": {
             "color": "#2a3f5f"
            },
            "marker": {
             "line": {
              "color": "#E5ECF6",
              "width": 0.5
             },
             "pattern": {
              "fillmode": "overlay",
              "size": 10,
              "solidity": 0.2
             }
            },
            "type": "bar"
           }
          ],
          "barpolar": [
           {
            "marker": {
             "line": {
              "color": "#E5ECF6",
              "width": 0.5
             },
             "pattern": {
              "fillmode": "overlay",
              "size": 10,
              "solidity": 0.2
             }
            },
            "type": "barpolar"
           }
          ],
          "carpet": [
           {
            "aaxis": {
             "endlinecolor": "#2a3f5f",
             "gridcolor": "white",
             "linecolor": "white",
             "minorgridcolor": "white",
             "startlinecolor": "#2a3f5f"
            },
            "baxis": {
             "endlinecolor": "#2a3f5f",
             "gridcolor": "white",
             "linecolor": "white",
             "minorgridcolor": "white",
             "startlinecolor": "#2a3f5f"
            },
            "type": "carpet"
           }
          ],
          "choropleth": [
           {
            "colorbar": {
             "outlinewidth": 0,
             "ticks": ""
            },
            "type": "choropleth"
           }
          ],
          "contour": [
           {
            "colorbar": {
             "outlinewidth": 0,
             "ticks": ""
            },
            "colorscale": [
             [
              0,
              "#0d0887"
             ],
             [
              0.1111111111111111,
              "#46039f"
             ],
             [
              0.2222222222222222,
              "#7201a8"
             ],
             [
              0.3333333333333333,
              "#9c179e"
             ],
             [
              0.4444444444444444,
              "#bd3786"
             ],
             [
              0.5555555555555556,
              "#d8576b"
             ],
             [
              0.6666666666666666,
              "#ed7953"
             ],
             [
              0.7777777777777778,
              "#fb9f3a"
             ],
             [
              0.8888888888888888,
              "#fdca26"
             ],
             [
              1,
              "#f0f921"
             ]
            ],
            "type": "contour"
           }
          ],
          "contourcarpet": [
           {
            "colorbar": {
             "outlinewidth": 0,
             "ticks": ""
            },
            "type": "contourcarpet"
           }
          ],
          "heatmap": [
           {
            "colorbar": {
             "outlinewidth": 0,
             "ticks": ""
            },
            "colorscale": [
             [
              0,
              "#0d0887"
             ],
             [
              0.1111111111111111,
              "#46039f"
             ],
             [
              0.2222222222222222,
              "#7201a8"
             ],
             [
              0.3333333333333333,
              "#9c179e"
             ],
             [
              0.4444444444444444,
              "#bd3786"
             ],
             [
              0.5555555555555556,
              "#d8576b"
             ],
             [
              0.6666666666666666,
              "#ed7953"
             ],
             [
              0.7777777777777778,
              "#fb9f3a"
             ],
             [
              0.8888888888888888,
              "#fdca26"
             ],
             [
              1,
              "#f0f921"
             ]
            ],
            "type": "heatmap"
           }
          ],
          "heatmapgl": [
           {
            "colorbar": {
             "outlinewidth": 0,
             "ticks": ""
            },
            "colorscale": [
             [
              0,
              "#0d0887"
             ],
             [
              0.1111111111111111,
              "#46039f"
             ],
             [
              0.2222222222222222,
              "#7201a8"
             ],
             [
              0.3333333333333333,
              "#9c179e"
             ],
             [
              0.4444444444444444,
              "#bd3786"
             ],
             [
              0.5555555555555556,
              "#d8576b"
             ],
             [
              0.6666666666666666,
              "#ed7953"
             ],
             [
              0.7777777777777778,
              "#fb9f3a"
             ],
             [
              0.8888888888888888,
              "#fdca26"
             ],
             [
              1,
              "#f0f921"
             ]
            ],
            "type": "heatmapgl"
           }
          ],
          "histogram": [
           {
            "marker": {
             "pattern": {
              "fillmode": "overlay",
              "size": 10,
              "solidity": 0.2
             }
            },
            "type": "histogram"
           }
          ],
          "histogram2d": [
           {
            "colorbar": {
             "outlinewidth": 0,
             "ticks": ""
            },
            "colorscale": [
             [
              0,
              "#0d0887"
             ],
             [
              0.1111111111111111,
              "#46039f"
             ],
             [
              0.2222222222222222,
              "#7201a8"
             ],
             [
              0.3333333333333333,
              "#9c179e"
             ],
             [
              0.4444444444444444,
              "#bd3786"
             ],
             [
              0.5555555555555556,
              "#d8576b"
             ],
             [
              0.6666666666666666,
              "#ed7953"
             ],
             [
              0.7777777777777778,
              "#fb9f3a"
             ],
             [
              0.8888888888888888,
              "#fdca26"
             ],
             [
              1,
              "#f0f921"
             ]
            ],
            "type": "histogram2d"
           }
          ],
          "histogram2dcontour": [
           {
            "colorbar": {
             "outlinewidth": 0,
             "ticks": ""
            },
            "colorscale": [
             [
              0,
              "#0d0887"
             ],
             [
              0.1111111111111111,
              "#46039f"
             ],
             [
              0.2222222222222222,
              "#7201a8"
             ],
             [
              0.3333333333333333,
              "#9c179e"
             ],
             [
              0.4444444444444444,
              "#bd3786"
             ],
             [
              0.5555555555555556,
              "#d8576b"
             ],
             [
              0.6666666666666666,
              "#ed7953"
             ],
             [
              0.7777777777777778,
              "#fb9f3a"
             ],
             [
              0.8888888888888888,
              "#fdca26"
             ],
             [
              1,
              "#f0f921"
             ]
            ],
            "type": "histogram2dcontour"
           }
          ],
          "mesh3d": [
           {
            "colorbar": {
             "outlinewidth": 0,
             "ticks": ""
            },
            "type": "mesh3d"
           }
          ],
          "parcoords": [
           {
            "line": {
             "colorbar": {
              "outlinewidth": 0,
              "ticks": ""
             }
            },
            "type": "parcoords"
           }
          ],
          "pie": [
           {
            "automargin": true,
            "type": "pie"
           }
          ],
          "scatter": [
           {
            "fillpattern": {
             "fillmode": "overlay",
             "size": 10,
             "solidity": 0.2
            },
            "type": "scatter"
           }
          ],
          "scatter3d": [
           {
            "line": {
             "colorbar": {
              "outlinewidth": 0,
              "ticks": ""
             }
            },
            "marker": {
             "colorbar": {
              "outlinewidth": 0,
              "ticks": ""
             }
            },
            "type": "scatter3d"
           }
          ],
          "scattercarpet": [
           {
            "marker": {
             "colorbar": {
              "outlinewidth": 0,
              "ticks": ""
             }
            },
            "type": "scattercarpet"
           }
          ],
          "scattergeo": [
           {
            "marker": {
             "colorbar": {
              "outlinewidth": 0,
              "ticks": ""
             }
            },
            "type": "scattergeo"
           }
          ],
          "scattergl": [
           {
            "marker": {
             "colorbar": {
              "outlinewidth": 0,
              "ticks": ""
             }
            },
            "type": "scattergl"
           }
          ],
          "scattermapbox": [
           {
            "marker": {
             "colorbar": {
              "outlinewidth": 0,
              "ticks": ""
             }
            },
            "type": "scattermapbox"
           }
          ],
          "scatterpolar": [
           {
            "marker": {
             "colorbar": {
              "outlinewidth": 0,
              "ticks": ""
             }
            },
            "type": "scatterpolar"
           }
          ],
          "scatterpolargl": [
           {
            "marker": {
             "colorbar": {
              "outlinewidth": 0,
              "ticks": ""
             }
            },
            "type": "scatterpolargl"
           }
          ],
          "scatterternary": [
           {
            "marker": {
             "colorbar": {
              "outlinewidth": 0,
              "ticks": ""
             }
            },
            "type": "scatterternary"
           }
          ],
          "surface": [
           {
            "colorbar": {
             "outlinewidth": 0,
             "ticks": ""
            },
            "colorscale": [
             [
              0,
              "#0d0887"
             ],
             [
              0.1111111111111111,
              "#46039f"
             ],
             [
              0.2222222222222222,
              "#7201a8"
             ],
             [
              0.3333333333333333,
              "#9c179e"
             ],
             [
              0.4444444444444444,
              "#bd3786"
             ],
             [
              0.5555555555555556,
              "#d8576b"
             ],
             [
              0.6666666666666666,
              "#ed7953"
             ],
             [
              0.7777777777777778,
              "#fb9f3a"
             ],
             [
              0.8888888888888888,
              "#fdca26"
             ],
             [
              1,
              "#f0f921"
             ]
            ],
            "type": "surface"
           }
          ],
          "table": [
           {
            "cells": {
             "fill": {
              "color": "#EBF0F8"
             },
             "line": {
              "color": "white"
             }
            },
            "header": {
             "fill": {
              "color": "#C8D4E3"
             },
             "line": {
              "color": "white"
             }
            },
            "type": "table"
           }
          ]
         },
         "layout": {
          "annotationdefaults": {
           "arrowcolor": "#2a3f5f",
           "arrowhead": 0,
           "arrowwidth": 1
          },
          "autotypenumbers": "strict",
          "coloraxis": {
           "colorbar": {
            "outlinewidth": 0,
            "ticks": ""
           }
          },
          "colorscale": {
           "diverging": [
            [
             0,
             "#8e0152"
            ],
            [
             0.1,
             "#c51b7d"
            ],
            [
             0.2,
             "#de77ae"
            ],
            [
             0.3,
             "#f1b6da"
            ],
            [
             0.4,
             "#fde0ef"
            ],
            [
             0.5,
             "#f7f7f7"
            ],
            [
             0.6,
             "#e6f5d0"
            ],
            [
             0.7,
             "#b8e186"
            ],
            [
             0.8,
             "#7fbc41"
            ],
            [
             0.9,
             "#4d9221"
            ],
            [
             1,
             "#276419"
            ]
           ],
           "sequential": [
            [
             0,
             "#0d0887"
            ],
            [
             0.1111111111111111,
             "#46039f"
            ],
            [
             0.2222222222222222,
             "#7201a8"
            ],
            [
             0.3333333333333333,
             "#9c179e"
            ],
            [
             0.4444444444444444,
             "#bd3786"
            ],
            [
             0.5555555555555556,
             "#d8576b"
            ],
            [
             0.6666666666666666,
             "#ed7953"
            ],
            [
             0.7777777777777778,
             "#fb9f3a"
            ],
            [
             0.8888888888888888,
             "#fdca26"
            ],
            [
             1,
             "#f0f921"
            ]
           ],
           "sequentialminus": [
            [
             0,
             "#0d0887"
            ],
            [
             0.1111111111111111,
             "#46039f"
            ],
            [
             0.2222222222222222,
             "#7201a8"
            ],
            [
             0.3333333333333333,
             "#9c179e"
            ],
            [
             0.4444444444444444,
             "#bd3786"
            ],
            [
             0.5555555555555556,
             "#d8576b"
            ],
            [
             0.6666666666666666,
             "#ed7953"
            ],
            [
             0.7777777777777778,
             "#fb9f3a"
            ],
            [
             0.8888888888888888,
             "#fdca26"
            ],
            [
             1,
             "#f0f921"
            ]
           ]
          },
          "colorway": [
           "#636efa",
           "#EF553B",
           "#00cc96",
           "#ab63fa",
           "#FFA15A",
           "#19d3f3",
           "#FF6692",
           "#B6E880",
           "#FF97FF",
           "#FECB52"
          ],
          "font": {
           "color": "#2a3f5f"
          },
          "geo": {
           "bgcolor": "white",
           "lakecolor": "white",
           "landcolor": "#E5ECF6",
           "showlakes": true,
           "showland": true,
           "subunitcolor": "white"
          },
          "hoverlabel": {
           "align": "left"
          },
          "hovermode": "closest",
          "mapbox": {
           "style": "light"
          },
          "paper_bgcolor": "white",
          "plot_bgcolor": "#E5ECF6",
          "polar": {
           "angularaxis": {
            "gridcolor": "white",
            "linecolor": "white",
            "ticks": ""
           },
           "bgcolor": "#E5ECF6",
           "radialaxis": {
            "gridcolor": "white",
            "linecolor": "white",
            "ticks": ""
           }
          },
          "scene": {
           "xaxis": {
            "backgroundcolor": "#E5ECF6",
            "gridcolor": "white",
            "gridwidth": 2,
            "linecolor": "white",
            "showbackground": true,
            "ticks": "",
            "zerolinecolor": "white"
           },
           "yaxis": {
            "backgroundcolor": "#E5ECF6",
            "gridcolor": "white",
            "gridwidth": 2,
            "linecolor": "white",
            "showbackground": true,
            "ticks": "",
            "zerolinecolor": "white"
           },
           "zaxis": {
            "backgroundcolor": "#E5ECF6",
            "gridcolor": "white",
            "gridwidth": 2,
            "linecolor": "white",
            "showbackground": true,
            "ticks": "",
            "zerolinecolor": "white"
           }
          },
          "shapedefaults": {
           "line": {
            "color": "#2a3f5f"
           }
          },
          "ternary": {
           "aaxis": {
            "gridcolor": "white",
            "linecolor": "white",
            "ticks": ""
           },
           "baxis": {
            "gridcolor": "white",
            "linecolor": "white",
            "ticks": ""
           },
           "bgcolor": "#E5ECF6",
           "caxis": {
            "gridcolor": "white",
            "linecolor": "white",
            "ticks": ""
           }
          },
          "title": {
           "x": 0.05
          },
          "xaxis": {
           "automargin": true,
           "gridcolor": "white",
           "linecolor": "white",
           "ticks": "",
           "title": {
            "standoff": 15
           },
           "zerolinecolor": "white",
           "zerolinewidth": 2
          },
          "yaxis": {
           "automargin": true,
           "gridcolor": "white",
           "linecolor": "white",
           "ticks": "",
           "title": {
            "standoff": 15
           },
           "zerolinecolor": "white",
           "zerolinewidth": 2
          }
         }
        },
        "title": {
         "text": "Cantidad de Restaurantes con Redes Sociales por Municipio"
        },
        "xaxis": {
         "anchor": "y",
         "domain": [
          0,
          1
         ],
         "tickangle": -45,
         "title": {
          "text": "Municipio"
         }
        },
        "yaxis": {
         "anchor": "x",
         "domain": [
          0,
          1
         ],
         "title": {
          "text": "Cantidad de Restaurantes"
         }
        }
       }
      }
     },
     "metadata": {},
     "output_type": "display_data"
    }
   ],
   "source": [
    "#Ver la cantidad de establecimientos por municipio que tiene Instagram y Facebook.\n",
    "def social_networks(contact):\n",
    "    return bool(contact.get('instagram')) and bool(contact.get('facebook'))\n",
    "\n",
    "df['has_social_net'] = df['contact'].apply(social_networks)\n",
    "\n",
    "df_social_net = df[df['has_social_net']]\n",
    "\n",
    "mun_count = df_social_net['district'].value_counts().reset_index()\n",
    "mun_count.columns = ['Municipio', 'Cantidad']\n",
    "\n",
    "fig = px.bar(mun_count, \n",
    "            x='Municipio', \n",
    "            y='Cantidad', \n",
    "            title='Cantidad de Restaurantes con Redes Sociales por Municipio',\n",
    "            labels={'Cantidad': 'Cantidad de Restaurantes', 'Municipio': 'Municipio'},\n",
    "            color='Cantidad',\n",
    "            color_continuous_scale=px.colors.sequential.Plasma)  # Cambiado a 'Greens'\n",
    "\n",
    "fig.update_layout(xaxis_tickangle=-45)  # Rotar las etiquetas del eje x\n",
    "fig.show()"
   ]
  },
  {
   "cell_type": "markdown",
   "metadata": {},
   "source": [
    "Mientras reflexionaban sobre la importancia de las redes sociales para los establecimientos notaron que estas no solo servían como plataformas para promocionar sus negocios, sino que también permitían a los clientes interactuar directamente dejando comentarios y reseñas de ayuda para otros."
   ]
  },
  {
   "cell_type": "markdown",
   "metadata": {},
   "source": [
    "EL hecho de que algo le guste a muchas personas no implica necesariamente que te vaya a gustar a tí, pero tener referencias nunca está de más, por eso otro aspecto influyente que consideraron es la valoración del público. Se decidió analizar el rating de TripAdvisor para determinar cuáles eran los 20 mejores valorados y los 20 peores."
   ]
  },
  {
   "cell_type": "code",
   "execution_count": 6,
   "metadata": {},
   "outputs": [
    {
     "data": {
      "image/png": "[encoded data removed]",
      "text/plain": [
       "<Figure size 1500x800 with 1 Axes>"
      ]
     },
     "metadata": {},
     "output_type": "display_data"
    }
   ],
   "source": [
    "df_copy = df.copy() # Crea una copia del df\n",
    "df_copy['rating'].fillna(0, inplace=True)  # Alternativa más segura\n",
    "#df[df[\"rating\"].isna()]=0 #Hace cero los que tiene un rating \"null\"\n",
    "df_valid_ratings = df_copy.sort_values(by='rating', ascending=False).head(20) #Ordena de mayor a menor y solo deja los 20 mejores\n",
    "\n",
    "plt.figure(figsize=(15, 8))\n",
    "plt.barh(df_valid_ratings['name'], df_valid_ratings['rating'], color='purple')\n",
    "plt.title('Top 20 Establecimientos con mejor rating en La Habana', fontsize=16)\n",
    "plt.xlabel('Rating', fontsize=15)\n",
    "plt.ylabel('Restaurantes', fontsize=15)\n",
    "plt.xticks(fontsize=12)\n",
    "plt.yticks(fontsize=18)\n",
    "plt.tight_layout()\n",
    "plt.show()"
   ]
  },
  {
   "cell_type": "code",
   "execution_count": 7,
   "metadata": {},
   "outputs": [
    {
     "data": {
      "image/png": "[encoded data removed]",
      "text/plain": [
       "<Figure size 1500x800 with 1 Axes>"
      ]
     },
     "metadata": {},
     "output_type": "display_data"
    }
   ],
   "source": [
    "df_sorted_values = df.sort_values(by='rating', ascending=False).tail(51) #Ordena de mayor a menor y escoge las ultimas 51 lineas.\n",
    "veinte_peores = df_sorted_values.iloc[:20,:] #Se queda con las 20 primeras, las otras 31 son 0.\n",
    "\n",
    "plt.figure(figsize=(15, 8)) \n",
    "plt.barh(veinte_peores['name'], veinte_peores['rating'], color='red')\n",
    "plt.title('Top 20 Establecimientos con peor rating en La Habana', fontsize=16)\n",
    "plt.xlabel('Rating', fontsize=14)\n",
    "plt.ylabel('Restaurantes', fontsize=14)\n",
    "plt.xticks(fontsize=12)\n",
    "plt.yticks(fontsize=18)\n",
    "plt.tight_layout() \n",
    "plt.show()"
   ]
  },
  {
   "cell_type": "markdown",
   "metadata": {},
   "source": [
    "-\"Saber los mejores y peores está bien, así lo puedes tener en cuenta para cada ocasión, pero ¿no crees que siempre es necesario conocer el punto medio? Muchas veces, un sitio con un rating medio puede tener reseñas mixtas. Algunos clientes pueden haber tenido una experiencia positiva, mientras que otros pueden haber encontrado fallos.-expresó Laura, animándose a opinar\". \n",
    "-\"Además, podríamos crear una sección en nuestra web donde destacamos estos lugares. Esto no solo beneficiaría a los restaurantes, sino que también proporcionaría a nuestros usuarios opciones más variadas.\"\n",
    "\n",
    "¿Cuáles serán de esos lugares aquellos que tienen una calificación aceptable?\n",
    "Para ello el grupo comenzó a analizar datos sobre restaurantes con ratings entre 3.0 y 4.0.\n"
   ]
  },
  {
   "cell_type": "code",
   "execution_count": 124,
   "metadata": {},
   "outputs": [
    {
     "data": {
      "application/vnd.plotly.v1+json": {
       "config": {
        "plotlyServerURL": "https://plot.ly"
       },
       "data": [
        {
         "alignmentgroup": "True",
         "hovertemplate": "Nombres de los establecimientos=%{x}<br>Rating=%{marker.color}<extra></extra>",
         "legendgroup": "",
         "marker": {
          "color": [
           4,
           4,
           4,
           4,
           4,
           4,
           4,
           4,
           4,
           4,
           4,
           4,
           4,
           4,
           4,
           4,
           4,
           4,
           4,
           4,
           3.9,
           3.9,
           3.8,
           3.8,
           3.8,
           3.7,
           3.7,
           3.7,
           3.7,
           3.7,
           3.6,
           3.5,
           3.5,
           3.5,
           3.5,
           3.5,
           3.5,
           3.5,
           3.5,
           3.5,
           3.5,
           3.5,
           3.5,
           3.5,
           3.5,
           3.4,
           3.3,
           3.1,
           3.1,
           3,
           3,
           3
          ],
          "coloraxis": "coloraxis",
          "pattern": {
           "shape": ""
          }
         },
         "name": "",
         "offsetgroup": "",
         "orientation": "v",
         "showlegend": false,
         "textposition": "auto",
         "type": "bar",
         "x": [
          "Juanky's Pan",
          "Sport Bar",
          "D'kmino",
          "Café Fortuna Joe",
          "Café D La Esquina",
          "El Vaquerito",
          "El Farallón",
          "El Pecado",
          "El Tocororo",
          "Brutal Habana",
          "Finca La Pinta",
          "Atlanta",
          "Bocattas",
          "Fonda La Paila",
          "Food Master",
          "Rodney",
          "La Catedral",
          "Ivonne Café",
          "Jorgito's Pizza",
          "Fuumiyaki",
          "Soñar contigo",
          "GaraG",
          "28 y Mar",
          "Don Timbon",
          "La Marina",
          "Home Deli",
          "Kmpary",
          "El Faro",
          "Don Omar",
          "Nel Paradiso",
          "El Pellizco",
          "Los Doce Apóstoles",
          "Mirador de Acosta",
          "El Palenque",
          "La ruta de Hemingway",
          "El Bleko",
          "Joe's Burguer",
          "Distrito 25",
          "Fénix Dorado",
          "El Pilón",
          "Mercy bar",
          "KY-13",
          "Wapa",
          "Bom Apetite",
          "Al Campestre",
          "Café Bulevar",
          "Mokalex",
          "Doping pizza",
          "Guang Zhou",
          "Shapuseros",
          "La Novia",
          "Salsa Mora"
         ],
         "xaxis": "x",
         "y": [
          4,
          4,
          4,
          4,
          4,
          4,
          4,
          4,
          4,
          4,
          4,
          4,
          4,
          4,
          4,
          4,
          4,
          4,
          4,
          4,
          3.9,
          3.9,
          3.8,
          3.8,
          3.8,
          3.7,
          3.7,
          3.7,
          3.7,
          3.7,
          3.6,
          3.5,
          3.5,
          3.5,
          3.5,
          3.5,
          3.5,
          3.5,
          3.5,
          3.5,
          3.5,
          3.5,
          3.5,
          3.5,
          3.5,
          3.4,
          3.3,
          3.1,
          3.1,
          3,
          3,
          3
         ],
         "yaxis": "y"
        }
       ],
       "layout": {
        "barmode": "relative",
        "coloraxis": {
         "colorbar": {
          "title": {
           "text": "Rating"
          }
         },
         "colorscale": [
          [
           0,
           "#0d0887"
          ],
          [
           0.1111111111111111,
           "#46039f"
          ],
          [
           0.2222222222222222,
           "#7201a8"
          ],
          [
           0.3333333333333333,
           "#9c179e"
          ],
          [
           0.4444444444444444,
           "#bd3786"
          ],
          [
           0.5555555555555556,
           "#d8576b"
          ],
          [
           0.6666666666666666,
           "#ed7953"
          ],
          [
           0.7777777777777778,
           "#fb9f3a"
          ],
          [
           0.8888888888888888,
           "#fdca26"
          ],
          [
           1,
           "#f0f921"
          ]
         ]
        },
        "legend": {
         "tracegroupgap": 0
        },
        "template": {
         "data": {
          "bar": [
           {
            "error_x": {
             "color": "#2a3f5f"
            },
            "error_y": {
             "color": "#2a3f5f"
            },
            "marker": {
             "line": {
              "color": "#E5ECF6",
              "width": 0.5
             },
             "pattern": {
              "fillmode": "overlay",
              "size": 10,
              "solidity": 0.2
             }
            },
            "type": "bar"
           }
          ],
          "barpolar": [
           {
            "marker": {
             "line": {
              "color": "#E5ECF6",
              "width": 0.5
             },
             "pattern": {
              "fillmode": "overlay",
              "size": 10,
              "solidity": 0.2
             }
            },
            "type": "barpolar"
           }
          ],
          "carpet": [
           {
            "aaxis": {
             "endlinecolor": "#2a3f5f",
             "gridcolor": "white",
             "linecolor": "white",
             "minorgridcolor": "white",
             "startlinecolor": "#2a3f5f"
            },
            "baxis": {
             "endlinecolor": "#2a3f5f",
             "gridcolor": "white",
             "linecolor": "white",
             "minorgridcolor": "white",
             "startlinecolor": "#2a3f5f"
            },
            "type": "carpet"
           }
          ],
          "choropleth": [
           {
            "colorbar": {
             "outlinewidth": 0,
             "ticks": ""
            },
            "type": "choropleth"
           }
          ],
          "contour": [
           {
            "colorbar": {
             "outlinewidth": 0,
             "ticks": ""
            },
            "colorscale": [
             [
              0,
              "#0d0887"
             ],
             [
              0.1111111111111111,
              "#46039f"
             ],
             [
              0.2222222222222222,
              "#7201a8"
             ],
             [
              0.3333333333333333,
              "#9c179e"
             ],
             [
              0.4444444444444444,
              "#bd3786"
             ],
             [
              0.5555555555555556,
              "#d8576b"
             ],
             [
              0.6666666666666666,
              "#ed7953"
             ],
             [
              0.7777777777777778,
              "#fb9f3a"
             ],
             [
              0.8888888888888888,
              "#fdca26"
             ],
             [
              1,
              "#f0f921"
             ]
            ],
            "type": "contour"
           }
          ],
          "contourcarpet": [
           {
            "colorbar": {
             "outlinewidth": 0,
             "ticks": ""
            },
            "type": "contourcarpet"
           }
          ],
          "heatmap": [
           {
            "colorbar": {
             "outlinewidth": 0,
             "ticks": ""
            },
            "colorscale": [
             [
              0,
              "#0d0887"
             ],
             [
              0.1111111111111111,
              "#46039f"
             ],
             [
              0.2222222222222222,
              "#7201a8"
             ],
             [
              0.3333333333333333,
              "#9c179e"
             ],
             [
              0.4444444444444444,
              "#bd3786"
             ],
             [
              0.5555555555555556,
              "#d8576b"
             ],
             [
              0.6666666666666666,
              "#ed7953"
             ],
             [
              0.7777777777777778,
              "#fb9f3a"
             ],
             [
              0.8888888888888888,
              "#fdca26"
             ],
             [
              1,
              "#f0f921"
             ]
            ],
            "type": "heatmap"
           }
          ],
          "heatmapgl": [
           {
            "colorbar": {
             "outlinewidth": 0,
             "ticks": ""
            },
            "colorscale": [
             [
              0,
              "#0d0887"
             ],
             [
              0.1111111111111111,
              "#46039f"
             ],
             [
              0.2222222222222222,
              "#7201a8"
             ],
             [
              0.3333333333333333,
              "#9c179e"
             ],
             [
              0.4444444444444444,
              "#bd3786"
             ],
             [
              0.5555555555555556,
              "#d8576b"
             ],
             [
              0.6666666666666666,
              "#ed7953"
             ],
             [
              0.7777777777777778,
              "#fb9f3a"
             ],
             [
              0.8888888888888888,
              "#fdca26"
             ],
             [
              1,
              "#f0f921"
             ]
            ],
            "type": "heatmapgl"
           }
          ],
          "histogram": [
           {
            "marker": {
             "pattern": {
              "fillmode": "overlay",
              "size": 10,
              "solidity": 0.2
             }
            },
            "type": "histogram"
           }
          ],
          "histogram2d": [
           {
            "colorbar": {
             "outlinewidth": 0,
             "ticks": ""
            },
            "colorscale": [
             [
              0,
              "#0d0887"
             ],
             [
              0.1111111111111111,
              "#46039f"
             ],
             [
              0.2222222222222222,
              "#7201a8"
             ],
             [
              0.3333333333333333,
              "#9c179e"
             ],
             [
              0.4444444444444444,
              "#bd3786"
             ],
             [
              0.5555555555555556,
              "#d8576b"
             ],
             [
              0.6666666666666666,
              "#ed7953"
             ],
             [
              0.7777777777777778,
              "#fb9f3a"
             ],
             [
              0.8888888888888888,
              "#fdca26"
             ],
             [
              1,
              "#f0f921"
             ]
            ],
            "type": "histogram2d"
           }
          ],
          "histogram2dcontour": [
           {
            "colorbar": {
             "outlinewidth": 0,
             "ticks": ""
            },
            "colorscale": [
             [
              0,
              "#0d0887"
             ],
             [
              0.1111111111111111,
              "#46039f"
             ],
             [
              0.2222222222222222,
              "#7201a8"
             ],
             [
              0.3333333333333333,
              "#9c179e"
             ],
             [
              0.4444444444444444,
              "#bd3786"
             ],
             [
              0.5555555555555556,
              "#d8576b"
             ],
             [
              0.6666666666666666,
              "#ed7953"
             ],
             [
              0.7777777777777778,
              "#fb9f3a"
             ],
             [
              0.8888888888888888,
              "#fdca26"
             ],
             [
              1,
              "#f0f921"
             ]
            ],
            "type": "histogram2dcontour"
           }
          ],
          "mesh3d": [
           {
            "colorbar": {
             "outlinewidth": 0,
             "ticks": ""
            },
            "type": "mesh3d"
           }
          ],
          "parcoords": [
           {
            "line": {
             "colorbar": {
              "outlinewidth": 0,
              "ticks": ""
             }
            },
            "type": "parcoords"
           }
          ],
          "pie": [
           {
            "automargin": true,
            "type": "pie"
           }
          ],
          "scatter": [
           {
            "fillpattern": {
             "fillmode": "overlay",
             "size": 10,
             "solidity": 0.2
            },
            "type": "scatter"
           }
          ],
          "scatter3d": [
           {
            "line": {
             "colorbar": {
              "outlinewidth": 0,
              "ticks": ""
             }
            },
            "marker": {
             "colorbar": {
              "outlinewidth": 0,
              "ticks": ""
             }
            },
            "type": "scatter3d"
           }
          ],
          "scattercarpet": [
           {
            "marker": {
             "colorbar": {
              "outlinewidth": 0,
              "ticks": ""
             }
            },
            "type": "scattercarpet"
           }
          ],
          "scattergeo": [
           {
            "marker": {
             "colorbar": {
              "outlinewidth": 0,
              "ticks": ""
             }
            },
            "type": "scattergeo"
           }
          ],
          "scattergl": [
           {
            "marker": {
             "colorbar": {
              "outlinewidth": 0,
              "ticks": ""
             }
            },
            "type": "scattergl"
           }
          ],
          "scattermapbox": [
           {
            "marker": {
             "colorbar": {
              "outlinewidth": 0,
              "ticks": ""
             }
            },
            "type": "scattermapbox"
           }
          ],
          "scatterpolar": [
           {
            "marker": {
             "colorbar": {
              "outlinewidth": 0,
              "ticks": ""
             }
            },
            "type": "scatterpolar"
           }
          ],
          "scatterpolargl": [
           {
            "marker": {
             "colorbar": {
              "outlinewidth": 0,
              "ticks": ""
             }
            },
            "type": "scatterpolargl"
           }
          ],
          "scatterternary": [
           {
            "marker": {
             "colorbar": {
              "outlinewidth": 0,
              "ticks": ""
             }
            },
            "type": "scatterternary"
           }
          ],
          "surface": [
           {
            "colorbar": {
             "outlinewidth": 0,
             "ticks": ""
            },
            "colorscale": [
             [
              0,
              "#0d0887"
             ],
             [
              0.1111111111111111,
              "#46039f"
             ],
             [
              0.2222222222222222,
              "#7201a8"
             ],
             [
              0.3333333333333333,
              "#9c179e"
             ],
             [
              0.4444444444444444,
              "#bd3786"
             ],
             [
              0.5555555555555556,
              "#d8576b"
             ],
             [
              0.6666666666666666,
              "#ed7953"
             ],
             [
              0.7777777777777778,
              "#fb9f3a"
             ],
             [
              0.8888888888888888,
              "#fdca26"
             ],
             [
              1,
              "#f0f921"
             ]
            ],
            "type": "surface"
           }
          ],
          "table": [
           {
            "cells": {
             "fill": {
              "color": "#EBF0F8"
             },
             "line": {
              "color": "white"
             }
            },
            "header": {
             "fill": {
              "color": "#C8D4E3"
             },
             "line": {
              "color": "white"
             }
            },
            "type": "table"
           }
          ]
         },
         "layout": {
          "annotationdefaults": {
           "arrowcolor": "#2a3f5f",
           "arrowhead": 0,
           "arrowwidth": 1
          },
          "autotypenumbers": "strict",
          "coloraxis": {
           "colorbar": {
            "outlinewidth": 0,
            "ticks": ""
           }
          },
          "colorscale": {
           "diverging": [
            [
             0,
             "#8e0152"
            ],
            [
             0.1,
             "#c51b7d"
            ],
            [
             0.2,
             "#de77ae"
            ],
            [
             0.3,
             "#f1b6da"
            ],
            [
             0.4,
             "#fde0ef"
            ],
            [
             0.5,
             "#f7f7f7"
            ],
            [
             0.6,
             "#e6f5d0"
            ],
            [
             0.7,
             "#b8e186"
            ],
            [
             0.8,
             "#7fbc41"
            ],
            [
             0.9,
             "#4d9221"
            ],
            [
             1,
             "#276419"
            ]
           ],
           "sequential": [
            [
             0,
             "#0d0887"
            ],
            [
             0.1111111111111111,
             "#46039f"
            ],
            [
             0.2222222222222222,
             "#7201a8"
            ],
            [
             0.3333333333333333,
             "#9c179e"
            ],
            [
             0.4444444444444444,
             "#bd3786"
            ],
            [
             0.5555555555555556,
             "#d8576b"
            ],
            [
             0.6666666666666666,
             "#ed7953"
            ],
            [
             0.7777777777777778,
             "#fb9f3a"
            ],
            [
             0.8888888888888888,
             "#fdca26"
            ],
            [
             1,
             "#f0f921"
            ]
           ],
           "sequentialminus": [
            [
             0,
             "#0d0887"
            ],
            [
             0.1111111111111111,
             "#46039f"
            ],
            [
             0.2222222222222222,
             "#7201a8"
            ],
            [
             0.3333333333333333,
             "#9c179e"
            ],
            [
             0.4444444444444444,
             "#bd3786"
            ],
            [
             0.5555555555555556,
             "#d8576b"
            ],
            [
             0.6666666666666666,
             "#ed7953"
            ],
            [
             0.7777777777777778,
             "#fb9f3a"
            ],
            [
             0.8888888888888888,
             "#fdca26"
            ],
            [
             1,
             "#f0f921"
            ]
           ]
          },
          "colorway": [
           "#636efa",
           "#EF553B",
           "#00cc96",
           "#ab63fa",
           "#FFA15A",
           "#19d3f3",
           "#FF6692",
           "#B6E880",
           "#FF97FF",
           "#FECB52"
          ],
          "font": {
           "color": "#2a3f5f"
          },
          "geo": {
           "bgcolor": "white",
           "lakecolor": "white",
           "landcolor": "#E5ECF6",
           "showlakes": true,
           "showland": true,
           "subunitcolor": "white"
          },
          "hoverlabel": {
           "align": "left"
          },
          "hovermode": "closest",
          "mapbox": {
           "style": "light"
          },
          "paper_bgcolor": "white",
          "plot_bgcolor": "#E5ECF6",
          "polar": {
           "angularaxis": {
            "gridcolor": "white",
            "linecolor": "white",
            "ticks": ""
           },
           "bgcolor": "#E5ECF6",
           "radialaxis": {
            "gridcolor": "white",
            "linecolor": "white",
            "ticks": ""
           }
          },
          "scene": {
           "xaxis": {
            "backgroundcolor": "#E5ECF6",
            "gridcolor": "white",
            "gridwidth": 2,
            "linecolor": "white",
            "showbackground": true,
            "ticks": "",
            "zerolinecolor": "white"
           },
           "yaxis": {
            "backgroundcolor": "#E5ECF6",
            "gridcolor": "white",
            "gridwidth": 2,
            "linecolor": "white",
            "showbackground": true,
            "ticks": "",
            "zerolinecolor": "white"
           },
           "zaxis": {
            "backgroundcolor": "#E5ECF6",
            "gridcolor": "white",
            "gridwidth": 2,
            "linecolor": "white",
            "showbackground": true,
            "ticks": "",
            "zerolinecolor": "white"
           }
          },
          "shapedefaults": {
           "line": {
            "color": "#2a3f5f"
           }
          },
          "ternary": {
           "aaxis": {
            "gridcolor": "white",
            "linecolor": "white",
            "ticks": ""
           },
           "baxis": {
            "gridcolor": "white",
            "linecolor": "white",
            "ticks": ""
           },
           "bgcolor": "#E5ECF6",
           "caxis": {
            "gridcolor": "white",
            "linecolor": "white",
            "ticks": ""
           }
          },
          "title": {
           "x": 0.05
          },
          "xaxis": {
           "automargin": true,
           "gridcolor": "white",
           "linecolor": "white",
           "ticks": "",
           "title": {
            "standoff": 15
           },
           "zerolinecolor": "white",
           "zerolinewidth": 2
          },
          "yaxis": {
           "automargin": true,
           "gridcolor": "white",
           "linecolor": "white",
           "ticks": "",
           "title": {
            "standoff": 15
           },
           "zerolinecolor": "white",
           "zerolinewidth": 2
          }
         }
        },
        "title": {
         "text": "Establecimientos con Rating entre 3.0 y 4.0"
        },
        "xaxis": {
         "anchor": "y",
         "domain": [
          0,
          1
         ],
         "tickangle": -70,
         "title": {
          "text": "Nombres de los establecimientos"
         }
        },
        "yaxis": {
         "anchor": "x",
         "domain": [
          0,
          1
         ],
         "title": {
          "text": "Rating"
         }
        }
       }
      }
     },
     "metadata": {},
     "output_type": "display_data"
    }
   ],
   "source": [
    "df[df[\"rating\"].isna()]=0 #Hace cero los que tiene un rating \"null\"\n",
    "df_valid_ratings_to_median = df.sort_values(by='rating', ascending=False) #Ordena los rating de mayor a menor\n",
    "a = df_valid_ratings_to_median.iloc[:-31,:] #Quita los ultimos 31, son los de rating \"null\" que hicimos 0.\n",
    "most_access = a[(a['rating'] >= 3.0) & (a['rating'] <= 4.0)].copy(deep = True) #Deja solo los que tengan rating dentro del intervalo indicado\n",
    "#print(most_access)\n",
    "fig = px.bar(most_access, \n",
    "            x='name', \n",
    "            y='rating', \n",
    "            title='Establecimientos con Rating entre 3.0 y 4.0',\n",
    "            labels={'name': 'Nombres de los establecimientos', 'rating': 'Rating'},\n",
    "            color='rating',\n",
    "            color_continuous_scale=px.colors.sequential.Plasma)\n",
    "fig.update_layout(xaxis_tickangle=-70) \n",
    "fig.show()"
   ]
  },
  {
   "cell_type": "markdown",
   "metadata": {},
   "source": [
    "#### Historia revisada solo hasta aquí\n",
    "###### (empezar debajo las preguntas relacionadas con menu y servicios)"
   ]
  },
  {
   "cell_type": "markdown",
   "metadata": {},
   "source": [
    "¿Eres más de comida tradicional o te gusta probar cosas nuevas todo el rato? Se sabe que la mayoría de los establecimientos ofrece comida criolla, cubana, pero después de esa ¿cuál es el tipo de comida que se oferta en mayor cantidad sitios?"
   ]
  },
  {
   "cell_type": "code",
   "execution_count": 8,
   "metadata": {},
   "outputs": [
    {
     "data": {
      "application/vnd.plotly.v1+json": {
       "config": {
        "plotlyServerURL": "https://plot.ly"
       },
       "data": [
        {
         "alignmentgroup": "True",
         "hovertemplate": "Tipo de Cocina=%{x}<br>Cantidad de Establecimientos=%{marker.color}<extra></extra>",
         "legendgroup": "",
         "marker": {
          "color": [
           118,
           62,
           56,
           45,
           40,
           26,
           24,
           11,
           9,
           8,
           5,
           4,
           4,
           4,
           2,
           1,
           1,
           1,
           1,
           1,
           1,
           1,
           1,
           1,
           1
          ],
          "coloraxis": "coloraxis",
          "pattern": {
           "shape": ""
          }
         },
         "name": "",
         "offsetgroup": "",
         "orientation": "v",
         "showlegend": false,
         "textposition": "auto",
         "type": "bar",
         "x": [
          "cubana",
          "italiana",
          "criolla",
          "caribeña",
          "internacional",
          "americana",
          "latina",
          "mexicana",
          "mediterranea",
          "española",
          "china",
          "fusion",
          "japonesa",
          "asiática",
          "centroamericana",
          "arabe",
          "libanesa",
          "europea",
          "turca",
          "cajún",
          "griega",
          "tailandesa",
          "sudamericana",
          "india",
          "ceilanesa"
         ],
         "xaxis": "x",
         "y": [
          118,
          62,
          56,
          45,
          40,
          26,
          24,
          11,
          9,
          8,
          5,
          4,
          4,
          4,
          2,
          1,
          1,
          1,
          1,
          1,
          1,
          1,
          1,
          1,
          1
         ],
         "yaxis": "y"
        }
       ],
       "layout": {
        "barmode": "relative",
        "coloraxis": {
         "colorbar": {
          "title": {
           "text": "Cantidad de Establecimientos"
          }
         },
         "colorscale": [
          [
           0,
           "#0d0887"
          ],
          [
           0.1111111111111111,
           "#46039f"
          ],
          [
           0.2222222222222222,
           "#7201a8"
          ],
          [
           0.3333333333333333,
           "#9c179e"
          ],
          [
           0.4444444444444444,
           "#bd3786"
          ],
          [
           0.5555555555555556,
           "#d8576b"
          ],
          [
           0.6666666666666666,
           "#ed7953"
          ],
          [
           0.7777777777777778,
           "#fb9f3a"
          ],
          [
           0.8888888888888888,
           "#fdca26"
          ],
          [
           1,
           "#f0f921"
          ]
         ]
        },
        "legend": {
         "tracegroupgap": 0
        },
        "template": {
         "data": {
          "bar": [
           {
            "error_x": {
             "color": "#2a3f5f"
            },
            "error_y": {
             "color": "#2a3f5f"
            },
            "marker": {
             "line": {
              "color": "#E5ECF6",
              "width": 0.5
             },
             "pattern": {
              "fillmode": "overlay",
              "size": 10,
              "solidity": 0.2
             }
            },
            "type": "bar"
           }
          ],
          "barpolar": [
           {
            "marker": {
             "line": {
              "color": "#E5ECF6",
              "width": 0.5
             },
             "pattern": {
              "fillmode": "overlay",
              "size": 10,
              "solidity": 0.2
             }
            },
            "type": "barpolar"
           }
          ],
          "carpet": [
           {
            "aaxis": {
             "endlinecolor": "#2a3f5f",
             "gridcolor": "white",
             "linecolor": "white",
             "minorgridcolor": "white",
             "startlinecolor": "#2a3f5f"
            },
            "baxis": {
             "endlinecolor": "#2a3f5f",
             "gridcolor": "white",
             "linecolor": "white",
             "minorgridcolor": "white",
             "startlinecolor": "#2a3f5f"
            },
            "type": "carpet"
           }
          ],
          "choropleth": [
           {
            "colorbar": {
             "outlinewidth": 0,
             "ticks": ""
            },
            "type": "choropleth"
           }
          ],
          "contour": [
           {
            "colorbar": {
             "outlinewidth": 0,
             "ticks": ""
            },
            "colorscale": [
             [
              0,
              "#0d0887"
             ],
             [
              0.1111111111111111,
              "#46039f"
             ],
             [
              0.2222222222222222,
              "#7201a8"
             ],
             [
              0.3333333333333333,
              "#9c179e"
             ],
             [
              0.4444444444444444,
              "#bd3786"
             ],
             [
              0.5555555555555556,
              "#d8576b"
             ],
             [
              0.6666666666666666,
              "#ed7953"
             ],
             [
              0.7777777777777778,
              "#fb9f3a"
             ],
             [
              0.8888888888888888,
              "#fdca26"
             ],
             [
              1,
              "#f0f921"
             ]
            ],
            "type": "contour"
           }
          ],
          "contourcarpet": [
           {
            "colorbar": {
             "outlinewidth": 0,
             "ticks": ""
            },
            "type": "contourcarpet"
           }
          ],
          "heatmap": [
           {
            "colorbar": {
             "outlinewidth": 0,
             "ticks": ""
            },
            "colorscale": [
             [
              0,
              "#0d0887"
             ],
             [
              0.1111111111111111,
              "#46039f"
             ],
             [
              0.2222222222222222,
              "#7201a8"
             ],
             [
              0.3333333333333333,
              "#9c179e"
             ],
             [
              0.4444444444444444,
              "#bd3786"
             ],
             [
              0.5555555555555556,
              "#d8576b"
             ],
             [
              0.6666666666666666,
              "#ed7953"
             ],
             [
              0.7777777777777778,
              "#fb9f3a"
             ],
             [
              0.8888888888888888,
              "#fdca26"
             ],
             [
              1,
              "#f0f921"
             ]
            ],
            "type": "heatmap"
           }
          ],
          "heatmapgl": [
           {
            "colorbar": {
             "outlinewidth": 0,
             "ticks": ""
            },
            "colorscale": [
             [
              0,
              "#0d0887"
             ],
             [
              0.1111111111111111,
              "#46039f"
             ],
             [
              0.2222222222222222,
              "#7201a8"
             ],
             [
              0.3333333333333333,
              "#9c179e"
             ],
             [
              0.4444444444444444,
              "#bd3786"
             ],
             [
              0.5555555555555556,
              "#d8576b"
             ],
             [
              0.6666666666666666,
              "#ed7953"
             ],
             [
              0.7777777777777778,
              "#fb9f3a"
             ],
             [
              0.8888888888888888,
              "#fdca26"
             ],
             [
              1,
              "#f0f921"
             ]
            ],
            "type": "heatmapgl"
           }
          ],
          "histogram": [
           {
            "marker": {
             "pattern": {
              "fillmode": "overlay",
              "size": 10,
              "solidity": 0.2
             }
            },
            "type": "histogram"
           }
          ],
          "histogram2d": [
           {
            "colorbar": {
             "outlinewidth": 0,
             "ticks": ""
            },
            "colorscale": [
             [
              0,
              "#0d0887"
             ],
             [
              0.1111111111111111,
              "#46039f"
             ],
             [
              0.2222222222222222,
              "#7201a8"
             ],
             [
              0.3333333333333333,
              "#9c179e"
             ],
             [
              0.4444444444444444,
              "#bd3786"
             ],
             [
              0.5555555555555556,
              "#d8576b"
             ],
             [
              0.6666666666666666,
              "#ed7953"
             ],
             [
              0.7777777777777778,
              "#fb9f3a"
             ],
             [
              0.8888888888888888,
              "#fdca26"
             ],
             [
              1,
              "#f0f921"
             ]
            ],
            "type": "histogram2d"
           }
          ],
          "histogram2dcontour": [
           {
            "colorbar": {
             "outlinewidth": 0,
             "ticks": ""
            },
            "colorscale": [
             [
              0,
              "#0d0887"
             ],
             [
              0.1111111111111111,
              "#46039f"
             ],
             [
              0.2222222222222222,
              "#7201a8"
             ],
             [
              0.3333333333333333,
              "#9c179e"
             ],
             [
              0.4444444444444444,
              "#bd3786"
             ],
             [
              0.5555555555555556,
              "#d8576b"
             ],
             [
              0.6666666666666666,
              "#ed7953"
             ],
             [
              0.7777777777777778,
              "#fb9f3a"
             ],
             [
              0.8888888888888888,
              "#fdca26"
             ],
             [
              1,
              "#f0f921"
             ]
            ],
            "type": "histogram2dcontour"
           }
          ],
          "mesh3d": [
           {
            "colorbar": {
             "outlinewidth": 0,
             "ticks": ""
            },
            "type": "mesh3d"
           }
          ],
          "parcoords": [
           {
            "line": {
             "colorbar": {
              "outlinewidth": 0,
              "ticks": ""
             }
            },
            "type": "parcoords"
           }
          ],
          "pie": [
           {
            "automargin": true,
            "type": "pie"
           }
          ],
          "scatter": [
           {
            "fillpattern": {
             "fillmode": "overlay",
             "size": 10,
             "solidity": 0.2
            },
            "type": "scatter"
           }
          ],
          "scatter3d": [
           {
            "line": {
             "colorbar": {
              "outlinewidth": 0,
              "ticks": ""
             }
            },
            "marker": {
             "colorbar": {
              "outlinewidth": 0,
              "ticks": ""
             }
            },
            "type": "scatter3d"
           }
          ],
          "scattercarpet": [
           {
            "marker": {
             "colorbar": {
              "outlinewidth": 0,
              "ticks": ""
             }
            },
            "type": "scattercarpet"
           }
          ],
          "scattergeo": [
           {
            "marker": {
             "colorbar": {
              "outlinewidth": 0,
              "ticks": ""
             }
            },
            "type": "scattergeo"
           }
          ],
          "scattergl": [
           {
            "marker": {
             "colorbar": {
              "outlinewidth": 0,
              "ticks": ""
             }
            },
            "type": "scattergl"
           }
          ],
          "scattermapbox": [
           {
            "marker": {
             "colorbar": {
              "outlinewidth": 0,
              "ticks": ""
             }
            },
            "type": "scattermapbox"
           }
          ],
          "scatterpolar": [
           {
            "marker": {
             "colorbar": {
              "outlinewidth": 0,
              "ticks": ""
             }
            },
            "type": "scatterpolar"
           }
          ],
          "scatterpolargl": [
           {
            "marker": {
             "colorbar": {
              "outlinewidth": 0,
              "ticks": ""
             }
            },
            "type": "scatterpolargl"
           }
          ],
          "scatterternary": [
           {
            "marker": {
             "colorbar": {
              "outlinewidth": 0,
              "ticks": ""
             }
            },
            "type": "scatterternary"
           }
          ],
          "surface": [
           {
            "colorbar": {
             "outlinewidth": 0,
             "ticks": ""
            },
            "colorscale": [
             [
              0,
              "#0d0887"
             ],
             [
              0.1111111111111111,
              "#46039f"
             ],
             [
              0.2222222222222222,
              "#7201a8"
             ],
             [
              0.3333333333333333,
              "#9c179e"
             ],
             [
              0.4444444444444444,
              "#bd3786"
             ],
             [
              0.5555555555555556,
              "#d8576b"
             ],
             [
              0.6666666666666666,
              "#ed7953"
             ],
             [
              0.7777777777777778,
              "#fb9f3a"
             ],
             [
              0.8888888888888888,
              "#fdca26"
             ],
             [
              1,
              "#f0f921"
             ]
            ],
            "type": "surface"
           }
          ],
          "table": [
           {
            "cells": {
             "fill": {
              "color": "#EBF0F8"
             },
             "line": {
              "color": "white"
             }
            },
            "header": {
             "fill": {
              "color": "#C8D4E3"
             },
             "line": {
              "color": "white"
             }
            },
            "type": "table"
           }
          ]
         },
         "layout": {
          "annotationdefaults": {
           "arrowcolor": "#2a3f5f",
           "arrowhead": 0,
           "arrowwidth": 1
          },
          "autotypenumbers": "strict",
          "coloraxis": {
           "colorbar": {
            "outlinewidth": 0,
            "ticks": ""
           }
          },
          "colorscale": {
           "diverging": [
            [
             0,
             "#8e0152"
            ],
            [
             0.1,
             "#c51b7d"
            ],
            [
             0.2,
             "#de77ae"
            ],
            [
             0.3,
             "#f1b6da"
            ],
            [
             0.4,
             "#fde0ef"
            ],
            [
             0.5,
             "#f7f7f7"
            ],
            [
             0.6,
             "#e6f5d0"
            ],
            [
             0.7,
             "#b8e186"
            ],
            [
             0.8,
             "#7fbc41"
            ],
            [
             0.9,
             "#4d9221"
            ],
            [
             1,
             "#276419"
            ]
           ],
           "sequential": [
            [
             0,
             "#0d0887"
            ],
            [
             0.1111111111111111,
             "#46039f"
            ],
            [
             0.2222222222222222,
             "#7201a8"
            ],
            [
             0.3333333333333333,
             "#9c179e"
            ],
            [
             0.4444444444444444,
             "#bd3786"
            ],
            [
             0.5555555555555556,
             "#d8576b"
            ],
            [
             0.6666666666666666,
             "#ed7953"
            ],
            [
             0.7777777777777778,
             "#fb9f3a"
            ],
            [
             0.8888888888888888,
             "#fdca26"
            ],
            [
             1,
             "#f0f921"
            ]
           ],
           "sequentialminus": [
            [
             0,
             "#0d0887"
            ],
            [
             0.1111111111111111,
             "#46039f"
            ],
            [
             0.2222222222222222,
             "#7201a8"
            ],
            [
             0.3333333333333333,
             "#9c179e"
            ],
            [
             0.4444444444444444,
             "#bd3786"
            ],
            [
             0.5555555555555556,
             "#d8576b"
            ],
            [
             0.6666666666666666,
             "#ed7953"
            ],
            [
             0.7777777777777778,
             "#fb9f3a"
            ],
            [
             0.8888888888888888,
             "#fdca26"
            ],
            [
             1,
             "#f0f921"
            ]
           ]
          },
          "colorway": [
           "#636efa",
           "#EF553B",
           "#00cc96",
           "#ab63fa",
           "#FFA15A",
           "#19d3f3",
           "#FF6692",
           "#B6E880",
           "#FF97FF",
           "#FECB52"
          ],
          "font": {
           "color": "#2a3f5f"
          },
          "geo": {
           "bgcolor": "white",
           "lakecolor": "white",
           "landcolor": "#E5ECF6",
           "showlakes": true,
           "showland": true,
           "subunitcolor": "white"
          },
          "hoverlabel": {
           "align": "left"
          },
          "hovermode": "closest",
          "mapbox": {
           "style": "light"
          },
          "paper_bgcolor": "white",
          "plot_bgcolor": "#E5ECF6",
          "polar": {
           "angularaxis": {
            "gridcolor": "white",
            "linecolor": "white",
            "ticks": ""
           },
           "bgcolor": "#E5ECF6",
           "radialaxis": {
            "gridcolor": "white",
            "linecolor": "white",
            "ticks": ""
           }
          },
          "scene": {
           "xaxis": {
            "backgroundcolor": "#E5ECF6",
            "gridcolor": "white",
            "gridwidth": 2,
            "linecolor": "white",
            "showbackground": true,
            "ticks": "",
            "zerolinecolor": "white"
           },
           "yaxis": {
            "backgroundcolor": "#E5ECF6",
            "gridcolor": "white",
            "gridwidth": 2,
            "linecolor": "white",
            "showbackground": true,
            "ticks": "",
            "zerolinecolor": "white"
           },
           "zaxis": {
            "backgroundcolor": "#E5ECF6",
            "gridcolor": "white",
            "gridwidth": 2,
            "linecolor": "white",
            "showbackground": true,
            "ticks": "",
            "zerolinecolor": "white"
           }
          },
          "shapedefaults": {
           "line": {
            "color": "#2a3f5f"
           }
          },
          "ternary": {
           "aaxis": {
            "gridcolor": "white",
            "linecolor": "white",
            "ticks": ""
           },
           "baxis": {
            "gridcolor": "white",
            "linecolor": "white",
            "ticks": ""
           },
           "bgcolor": "#E5ECF6",
           "caxis": {
            "gridcolor": "white",
            "linecolor": "white",
            "ticks": ""
           }
          },
          "title": {
           "x": 0.05
          },
          "xaxis": {
           "automargin": true,
           "gridcolor": "white",
           "linecolor": "white",
           "ticks": "",
           "title": {
            "standoff": 15
           },
           "zerolinecolor": "white",
           "zerolinewidth": 2
          },
          "yaxis": {
           "automargin": true,
           "gridcolor": "white",
           "linecolor": "white",
           "ticks": "",
           "title": {
            "standoff": 15
           },
           "zerolinecolor": "white",
           "zerolinewidth": 2
          }
         }
        },
        "title": {
         "text": "Cantidad de Establecimientos por Tipo de Cocina"
        },
        "xaxis": {
         "anchor": "y",
         "domain": [
          0,
          1
         ],
         "tickangle": -45,
         "title": {
          "text": "Tipo de Cocina"
         }
        },
        "yaxis": {
         "anchor": "x",
         "domain": [
          0,
          1
         ],
         "title": {
          "text": "Cantidad de Establecimientos"
         }
        }
       }
      }
     },
     "metadata": {},
     "output_type": "display_data"
    }
   ],
   "source": [
    "cocina = df['cuisine'].explode()  # Separa cada elemento de las listas\n",
    "\n",
    "conteo_cocina = cocina.value_counts().reset_index()\n",
    "conteo_cocina.columns = ['Tipo de Cocina', 'Cantidad']\n",
    "\n",
    "fig = px.bar(conteo_cocina, \n",
    "            x='Tipo de Cocina', \n",
    "            y='Cantidad', \n",
    "            title='Cantidad de Establecimientos por Tipo de Cocina',\n",
    "            labels={'Cantidad': 'Cantidad de Establecimientos', 'Tipo de Cocina': 'Tipo de Cocina'},\n",
    "            color='Cantidad',\n",
    "            color_continuous_scale=px.colors.sequential.Plasma)\n",
    "\n",
    "fig.update_layout(xaxis_tickangle=-45) # Rotar las etiquetas de x\n",
    "\n",
    "fig.show()"
   ]
  },
  {
   "cell_type": "markdown",
   "metadata": {},
   "source": [
    "-Yo sabía que Italia iba a salir por algún lado, si al cubano todo lo que tenga queso y puré le gusta, pero yo soy más de cambiar, ¡qué aburrido comer lo mismo siempre! ¿Habrá lugares que ofrezcan comidas únicas, algo fuera de lo común? ¿Tú crees que a la gente le guste bastante ese estilo un poco más exótico?"
   ]
  },
  {
   "cell_type": "code",
   "execution_count": 9,
   "metadata": {},
   "outputs": [
    {
     "data": {
      "application/vnd.plotly.v1+json": {
       "config": {
        "plotlyServerURL": "https://plot.ly"
       },
       "data": [
        {
         "alignmentgroup": "True",
         "customdata": [
          [
           "europea"
          ],
          [
           "arabe"
          ],
          [
           "turca"
          ],
          [
           "cajún"
          ],
          [
           "griega"
          ],
          [
           "tailandesa"
          ],
          [
           "sudamericana"
          ],
          [
           "india"
          ]
         ],
         "hovertemplate": "Nombre del Restaurante=%{x}<br>Rating=%{marker.color}<br>Tipo de Cocina Único=%{customdata[0]}<extra></extra>",
         "legendgroup": "",
         "marker": {
          "color": [
           5,
           4.5,
           4.5,
           3.5,
           5,
           5,
           4.5,
           5
          ],
          "coloraxis": "coloraxis",
          "pattern": {
           "shape": ""
          }
         },
         "name": "",
         "offsetgroup": "",
         "orientation": "v",
         "showlegend": false,
         "textposition": "auto",
         "type": "bar",
         "x": [
          "Amalfi",
          "Beirut",
          "Bone'Ma 62",
          "Fénix Dorado",
          "Mythos",
          "Planh Enoteca & Restaurante Mithai",
          "Teniente Rey 360",
          "Tonyzz Bar"
         ],
         "xaxis": "x",
         "y": [
          5,
          4.5,
          4.5,
          3.5,
          5,
          5,
          4.5,
          5
         ],
         "yaxis": "y"
        }
       ],
       "layout": {
        "barmode": "relative",
        "coloraxis": {
         "colorbar": {
          "title": {
           "text": "Rating"
          }
         },
         "colorscale": [
          [
           0,
           "#0d0887"
          ],
          [
           0.1111111111111111,
           "#46039f"
          ],
          [
           0.2222222222222222,
           "#7201a8"
          ],
          [
           0.3333333333333333,
           "#9c179e"
          ],
          [
           0.4444444444444444,
           "#bd3786"
          ],
          [
           0.5555555555555556,
           "#d8576b"
          ],
          [
           0.6666666666666666,
           "#ed7953"
          ],
          [
           0.7777777777777778,
           "#fb9f3a"
          ],
          [
           0.8888888888888888,
           "#fdca26"
          ],
          [
           1,
           "#f0f921"
          ]
         ]
        },
        "legend": {
         "tracegroupgap": 0
        },
        "template": {
         "data": {
          "bar": [
           {
            "error_x": {
             "color": "#2a3f5f"
            },
            "error_y": {
             "color": "#2a3f5f"
            },
            "marker": {
             "line": {
              "color": "#E5ECF6",
              "width": 0.5
             },
             "pattern": {
              "fillmode": "overlay",
              "size": 10,
              "solidity": 0.2
             }
            },
            "type": "bar"
           }
          ],
          "barpolar": [
           {
            "marker": {
             "line": {
              "color": "#E5ECF6",
              "width": 0.5
             },
             "pattern": {
              "fillmode": "overlay",
              "size": 10,
              "solidity": 0.2
             }
            },
            "type": "barpolar"
           }
          ],
          "carpet": [
           {
            "aaxis": {
             "endlinecolor": "#2a3f5f",
             "gridcolor": "white",
             "linecolor": "white",
             "minorgridcolor": "white",
             "startlinecolor": "#2a3f5f"
            },
            "baxis": {
             "endlinecolor": "#2a3f5f",
             "gridcolor": "white",
             "linecolor": "white",
             "minorgridcolor": "white",
             "startlinecolor": "#2a3f5f"
            },
            "type": "carpet"
           }
          ],
          "choropleth": [
           {
            "colorbar": {
             "outlinewidth": 0,
             "ticks": ""
            },
            "type": "choropleth"
           }
          ],
          "contour": [
           {
            "colorbar": {
             "outlinewidth": 0,
             "ticks": ""
            },
            "colorscale": [
             [
              0,
              "#0d0887"
             ],
             [
              0.1111111111111111,
              "#46039f"
             ],
             [
              0.2222222222222222,
              "#7201a8"
             ],
             [
              0.3333333333333333,
              "#9c179e"
             ],
             [
              0.4444444444444444,
              "#bd3786"
             ],
             [
              0.5555555555555556,
              "#d8576b"
             ],
             [
              0.6666666666666666,
              "#ed7953"
             ],
             [
              0.7777777777777778,
              "#fb9f3a"
             ],
             [
              0.8888888888888888,
              "#fdca26"
             ],
             [
              1,
              "#f0f921"
             ]
            ],
            "type": "contour"
           }
          ],
          "contourcarpet": [
           {
            "colorbar": {
             "outlinewidth": 0,
             "ticks": ""
            },
            "type": "contourcarpet"
           }
          ],
          "heatmap": [
           {
            "colorbar": {
             "outlinewidth": 0,
             "ticks": ""
            },
            "colorscale": [
             [
              0,
              "#0d0887"
             ],
             [
              0.1111111111111111,
              "#46039f"
             ],
             [
              0.2222222222222222,
              "#7201a8"
             ],
             [
              0.3333333333333333,
              "#9c179e"
             ],
             [
              0.4444444444444444,
              "#bd3786"
             ],
             [
              0.5555555555555556,
              "#d8576b"
             ],
             [
              0.6666666666666666,
              "#ed7953"
             ],
             [
              0.7777777777777778,
              "#fb9f3a"
             ],
             [
              0.8888888888888888,
              "#fdca26"
             ],
             [
              1,
              "#f0f921"
             ]
            ],
            "type": "heatmap"
           }
          ],
          "heatmapgl": [
           {
            "colorbar": {
             "outlinewidth": 0,
             "ticks": ""
            },
            "colorscale": [
             [
              0,
              "#0d0887"
             ],
             [
              0.1111111111111111,
              "#46039f"
             ],
             [
              0.2222222222222222,
              "#7201a8"
             ],
             [
              0.3333333333333333,
              "#9c179e"
             ],
             [
              0.4444444444444444,
              "#bd3786"
             ],
             [
              0.5555555555555556,
              "#d8576b"
             ],
             [
              0.6666666666666666,
              "#ed7953"
             ],
             [
              0.7777777777777778,
              "#fb9f3a"
             ],
             [
              0.8888888888888888,
              "#fdca26"
             ],
             [
              1,
              "#f0f921"
             ]
            ],
            "type": "heatmapgl"
           }
          ],
          "histogram": [
           {
            "marker": {
             "pattern": {
              "fillmode": "overlay",
              "size": 10,
              "solidity": 0.2
             }
            },
            "type": "histogram"
           }
          ],
          "histogram2d": [
           {
            "colorbar": {
             "outlinewidth": 0,
             "ticks": ""
            },
            "colorscale": [
             [
              0,
              "#0d0887"
             ],
             [
              0.1111111111111111,
              "#46039f"
             ],
             [
              0.2222222222222222,
              "#7201a8"
             ],
             [
              0.3333333333333333,
              "#9c179e"
             ],
             [
              0.4444444444444444,
              "#bd3786"
             ],
             [
              0.5555555555555556,
              "#d8576b"
             ],
             [
              0.6666666666666666,
              "#ed7953"
             ],
             [
              0.7777777777777778,
              "#fb9f3a"
             ],
             [
              0.8888888888888888,
              "#fdca26"
             ],
             [
              1,
              "#f0f921"
             ]
            ],
            "type": "histogram2d"
           }
          ],
          "histogram2dcontour": [
           {
            "colorbar": {
             "outlinewidth": 0,
             "ticks": ""
            },
            "colorscale": [
             [
              0,
              "#0d0887"
             ],
             [
              0.1111111111111111,
              "#46039f"
             ],
             [
              0.2222222222222222,
              "#7201a8"
             ],
             [
              0.3333333333333333,
              "#9c179e"
             ],
             [
              0.4444444444444444,
              "#bd3786"
             ],
             [
              0.5555555555555556,
              "#d8576b"
             ],
             [
              0.6666666666666666,
              "#ed7953"
             ],
             [
              0.7777777777777778,
              "#fb9f3a"
             ],
             [
              0.8888888888888888,
              "#fdca26"
             ],
             [
              1,
              "#f0f921"
             ]
            ],
            "type": "histogram2dcontour"
           }
          ],
          "mesh3d": [
           {
            "colorbar": {
             "outlinewidth": 0,
             "ticks": ""
            },
            "type": "mesh3d"
           }
          ],
          "parcoords": [
           {
            "line": {
             "colorbar": {
              "outlinewidth": 0,
              "ticks": ""
             }
            },
            "type": "parcoords"
           }
          ],
          "pie": [
           {
            "automargin": true,
            "type": "pie"
           }
          ],
          "scatter": [
           {
            "fillpattern": {
             "fillmode": "overlay",
             "size": 10,
             "solidity": 0.2
            },
            "type": "scatter"
           }
          ],
          "scatter3d": [
           {
            "line": {
             "colorbar": {
              "outlinewidth": 0,
              "ticks": ""
             }
            },
            "marker": {
             "colorbar": {
              "outlinewidth": 0,
              "ticks": ""
             }
            },
            "type": "scatter3d"
           }
          ],
          "scattercarpet": [
           {
            "marker": {
             "colorbar": {
              "outlinewidth": 0,
              "ticks": ""
             }
            },
            "type": "scattercarpet"
           }
          ],
          "scattergeo": [
           {
            "marker": {
             "colorbar": {
              "outlinewidth": 0,
              "ticks": ""
             }
            },
            "type": "scattergeo"
           }
          ],
          "scattergl": [
           {
            "marker": {
             "colorbar": {
              "outlinewidth": 0,
              "ticks": ""
             }
            },
            "type": "scattergl"
           }
          ],
          "scattermapbox": [
           {
            "marker": {
             "colorbar": {
              "outlinewidth": 0,
              "ticks": ""
             }
            },
            "type": "scattermapbox"
           }
          ],
          "scatterpolar": [
           {
            "marker": {
             "colorbar": {
              "outlinewidth": 0,
              "ticks": ""
             }
            },
            "type": "scatterpolar"
           }
          ],
          "scatterpolargl": [
           {
            "marker": {
             "colorbar": {
              "outlinewidth": 0,
              "ticks": ""
             }
            },
            "type": "scatterpolargl"
           }
          ],
          "scatterternary": [
           {
            "marker": {
             "colorbar": {
              "outlinewidth": 0,
              "ticks": ""
             }
            },
            "type": "scatterternary"
           }
          ],
          "surface": [
           {
            "colorbar": {
             "outlinewidth": 0,
             "ticks": ""
            },
            "colorscale": [
             [
              0,
              "#0d0887"
             ],
             [
              0.1111111111111111,
              "#46039f"
             ],
             [
              0.2222222222222222,
              "#7201a8"
             ],
             [
              0.3333333333333333,
              "#9c179e"
             ],
             [
              0.4444444444444444,
              "#bd3786"
             ],
             [
              0.5555555555555556,
              "#d8576b"
             ],
             [
              0.6666666666666666,
              "#ed7953"
             ],
             [
              0.7777777777777778,
              "#fb9f3a"
             ],
             [
              0.8888888888888888,
              "#fdca26"
             ],
             [
              1,
              "#f0f921"
             ]
            ],
            "type": "surface"
           }
          ],
          "table": [
           {
            "cells": {
             "fill": {
              "color": "#EBF0F8"
             },
             "line": {
              "color": "white"
             }
            },
            "header": {
             "fill": {
              "color": "#C8D4E3"
             },
             "line": {
              "color": "white"
             }
            },
            "type": "table"
           }
          ]
         },
         "layout": {
          "annotationdefaults": {
           "arrowcolor": "#2a3f5f",
           "arrowhead": 0,
           "arrowwidth": 1
          },
          "autotypenumbers": "strict",
          "coloraxis": {
           "colorbar": {
            "outlinewidth": 0,
            "ticks": ""
           }
          },
          "colorscale": {
           "diverging": [
            [
             0,
             "#8e0152"
            ],
            [
             0.1,
             "#c51b7d"
            ],
            [
             0.2,
             "#de77ae"
            ],
            [
             0.3,
             "#f1b6da"
            ],
            [
             0.4,
             "#fde0ef"
            ],
            [
             0.5,
             "#f7f7f7"
            ],
            [
             0.6,
             "#e6f5d0"
            ],
            [
             0.7,
             "#b8e186"
            ],
            [
             0.8,
             "#7fbc41"
            ],
            [
             0.9,
             "#4d9221"
            ],
            [
             1,
             "#276419"
            ]
           ],
           "sequential": [
            [
             0,
             "#0d0887"
            ],
            [
             0.1111111111111111,
             "#46039f"
            ],
            [
             0.2222222222222222,
             "#7201a8"
            ],
            [
             0.3333333333333333,
             "#9c179e"
            ],
            [
             0.4444444444444444,
             "#bd3786"
            ],
            [
             0.5555555555555556,
             "#d8576b"
            ],
            [
             0.6666666666666666,
             "#ed7953"
            ],
            [
             0.7777777777777778,
             "#fb9f3a"
            ],
            [
             0.8888888888888888,
             "#fdca26"
            ],
            [
             1,
             "#f0f921"
            ]
           ],
           "sequentialminus": [
            [
             0,
             "#0d0887"
            ],
            [
             0.1111111111111111,
             "#46039f"
            ],
            [
             0.2222222222222222,
             "#7201a8"
            ],
            [
             0.3333333333333333,
             "#9c179e"
            ],
            [
             0.4444444444444444,
             "#bd3786"
            ],
            [
             0.5555555555555556,
             "#d8576b"
            ],
            [
             0.6666666666666666,
             "#ed7953"
            ],
            [
             0.7777777777777778,
             "#fb9f3a"
            ],
            [
             0.8888888888888888,
             "#fdca26"
            ],
            [
             1,
             "#f0f921"
            ]
           ]
          },
          "colorway": [
           "#636efa",
           "#EF553B",
           "#00cc96",
           "#ab63fa",
           "#FFA15A",
           "#19d3f3",
           "#FF6692",
           "#B6E880",
           "#FF97FF",
           "#FECB52"
          ],
          "font": {
           "color": "#2a3f5f"
          },
          "geo": {
           "bgcolor": "white",
           "lakecolor": "white",
           "landcolor": "#E5ECF6",
           "showlakes": true,
           "showland": true,
           "subunitcolor": "white"
          },
          "hoverlabel": {
           "align": "left"
          },
          "hovermode": "closest",
          "mapbox": {
           "style": "light"
          },
          "paper_bgcolor": "white",
          "plot_bgcolor": "#E5ECF6",
          "polar": {
           "angularaxis": {
            "gridcolor": "white",
            "linecolor": "white",
            "ticks": ""
           },
           "bgcolor": "#E5ECF6",
           "radialaxis": {
            "gridcolor": "white",
            "linecolor": "white",
            "ticks": ""
           }
          },
          "scene": {
           "xaxis": {
            "backgroundcolor": "#E5ECF6",
            "gridcolor": "white",
            "gridwidth": 2,
            "linecolor": "white",
            "showbackground": true,
            "ticks": "",
            "zerolinecolor": "white"
           },
           "yaxis": {
            "backgroundcolor": "#E5ECF6",
            "gridcolor": "white",
            "gridwidth": 2,
            "linecolor": "white",
            "showbackground": true,
            "ticks": "",
            "zerolinecolor": "white"
           },
           "zaxis": {
            "backgroundcolor": "#E5ECF6",
            "gridcolor": "white",
            "gridwidth": 2,
            "linecolor": "white",
            "showbackground": true,
            "ticks": "",
            "zerolinecolor": "white"
           }
          },
          "shapedefaults": {
           "line": {
            "color": "#2a3f5f"
           }
          },
          "ternary": {
           "aaxis": {
            "gridcolor": "white",
            "linecolor": "white",
            "ticks": ""
           },
           "baxis": {
            "gridcolor": "white",
            "linecolor": "white",
            "ticks": ""
           },
           "bgcolor": "#E5ECF6",
           "caxis": {
            "gridcolor": "white",
            "linecolor": "white",
            "ticks": ""
           }
          },
          "title": {
           "x": 0.05
          },
          "xaxis": {
           "automargin": true,
           "gridcolor": "white",
           "linecolor": "white",
           "ticks": "",
           "title": {
            "standoff": 15
           },
           "zerolinecolor": "white",
           "zerolinewidth": 2
          },
          "yaxis": {
           "automargin": true,
           "gridcolor": "white",
           "linecolor": "white",
           "ticks": "",
           "title": {
            "standoff": 15
           },
           "zerolinecolor": "white",
           "zerolinewidth": 2
          }
         }
        },
        "title": {
         "text": "Ratings de Restaurantes con Tipos de Cocina Únicos"
        },
        "xaxis": {
         "anchor": "y",
         "domain": [
          0,
          1
         ],
         "tickangle": -45,
         "title": {
          "text": "Nombre del Restaurante"
         }
        },
        "yaxis": {
         "anchor": "x",
         "domain": [
          0,
          1
         ],
         "title": {
          "text": "Rating"
         }
        }
       }
      }
     },
     "metadata": {},
     "output_type": "display_data"
    }
   ],
   "source": [
    "cocina = df['cuisine'].explode()\n",
    "\n",
    "count_cocina = cocina.value_counts().reset_index() # Cuenta cuantas veces aparece cada tipo de cocina\n",
    "count_cocina.columns = ['Tipo de Cocina', 'Cantidad']\n",
    "\n",
    "tipos_unicos = count_cocina[count_cocina['Cantidad'] == 1]['Tipo de Cocina'] # Se queda con los q solo salen una vez\n",
    "\n",
    "def tiene_tipo_unico(cuisine_list): # Función para ver si un lugar tiene tipos únicos\n",
    "    if isinstance(cuisine_list, list):  # Ver si es una lista\n",
    "        return any(tipo in tipos_unicos.values for tipo in cuisine_list) # Devuelve True si hay algun tipo de cocina unico\n",
    "    return False  # Si no es una lista\n",
    "\n",
    "restaurantes_unicos = df[df['cuisine'].apply(tiene_tipo_unico)] # Del df original se queda con los lugares con tipos únicos\n",
    "restaurantes_info = restaurantes_unicos[['name', 'rating', 'cuisine']]\n",
    "\n",
    "def obtener_tipo_unico(cuisine_list): # Crear una columna con el tipo de cocina único\n",
    "    for tipo in cuisine_list:\n",
    "        if tipo in tipos_unicos.values:\n",
    "            return tipo\n",
    "    return None\n",
    "\n",
    "restaurantes_info['Tipo de Cocina Único'] = restaurantes_info['cuisine'].apply(obtener_tipo_unico)\n",
    "\n",
    "fig = px.bar(restaurantes_info, \n",
    "            x='name', \n",
    "            y='rating', \n",
    "            title='Ratings de Restaurantes con Tipos de Cocina Únicos',\n",
    "            labels={'rating': 'Rating', 'name': 'Nombre del Restaurante'},\n",
    "            color='rating',\n",
    "            color_continuous_scale=px.colors.sequential.Plasma,\n",
    "            hover_data={'Tipo de Cocina Único': True})\n",
    "\n",
    "fig.update_layout(xaxis_tickangle=-45)\n",
    "fig.show()"
   ]
  },
  {
   "cell_type": "markdown",
   "metadata": {},
   "source": [
    "Un lugar que brinde servicio las 24 horas es definitivamente un fiel compi cuando son las 3am y ya sea por trabajo, una emergencia o cosas de la vida, no estás en casa para atacar tu refrigerador a tu disposición. Claro que nuestros héroes adolescentes también pensaron en ello y decidieron ver con qué lugares podían contar para situaciones de ese tipo."
   ]
  },
  {
   "cell_type": "code",
   "execution_count": 16,
   "metadata": {},
   "outputs": [
    {
     "name": "stdout",
     "output_type": "stream",
     "text": [
      "Restaurantes abiertos las 24 horas:\n",
      "Bocattas\n",
      "Pechatniky\n",
      "Ranchon de 41\n",
      "Sport Bar\n"
     ]
    }
   ],
   "source": [
    "opened_24h = []\n",
    "for index, row in df.iterrows():  # Itera sobre cada fila del df\n",
    "    nombre_restaurante = row['name']\n",
    "    horario = row['schedule'] \n",
    "    \n",
    "    if not isinstance(horario, dict):  # Verifica que sea un diccionario\n",
    "        continue \n",
    "    \n",
    "    abierto_24 = True \n",
    "    for dia in horario:\n",
    "        if isinstance(horario[dia], dict): \n",
    "            if 'open' in horario[dia] and 'close' in horario[dia]:\n",
    "                if horario[dia]['open'] != '0000' or horario[dia]['close'] != '2400':\n",
    "                    abierto_24 = False \n",
    "                    break\n",
    "            else:\n",
    "                abierto_24 = False\n",
    "                break\n",
    "        else:\n",
    "            abierto_24 = False\n",
    "            break\n",
    "        \n",
    "    if abierto_24:\n",
    "        opened_24h.append(nombre_restaurante)\n",
    "        \n",
    "if opened_24h:\n",
    "    print(\"Restaurantes abiertos las 24 horas:\")\n",
    "    for restaurante in opened_24h:\n",
    "        print(restaurante)"
   ]
  },
  {
   "cell_type": "code",
   "execution_count": 19,
   "metadata": {},
   "outputs": [
    {
     "data": {
      "text/plain": [
       "type_of_establishment                                    bar - restaurante\n",
       "name                                                            Salsa Mora\n",
       "district                                                             Playa\n",
       "coordinates              {'latitude': 23.11402909851061, 'longitude': -...\n",
       "contact                  {'phone_number': False, 'e-mail': False, 'web_...\n",
       "schedule                 {'monday': {'open': '1100', 'close': '0400'}, ...\n",
       "rating                                                                 3.0\n",
       "intake_capacity                                                       alta\n",
       "cuisine                                                    [internacional]\n",
       "services                 {'plant': True, 'child_care': False, 'disable_...\n",
       "pay_meth                                  {'cash': True, 'transfer': True}\n",
       "menu                     {'breakfasts': False, 'appetizers': {'items': ...\n",
       "has_social_net                                                        True\n",
       "cumple_name_price                                                     True\n",
       "cumple_service                                                        True\n",
       "Name: 179, dtype: object"
      ]
     },
     "execution_count": 19,
     "metadata": {},
     "output_type": "execute_result"
    }
   ],
   "source": [
    "def check_name_price(aux, plato, price): \n",
    "    for i in aux:\n",
    "        if i != \"drinks\" and i != \"special_offers\":\n",
    "            if aux[i]:\n",
    "                for j in aux[i][\"items\"]:\n",
    "                    if (\n",
    "                        j[\"name\"].lower().strip().find(plato.lower().strip()) != -1\n",
    "                        and j[\"price\"] <= price\n",
    "                    ):\n",
    "                        return True\n",
    "        elif i == \"special_offers\":\n",
    "            if aux[i]:\n",
    "                for j in aux[i]:\n",
    "                    if (\n",
    "                        j[\"name\"].lower().strip().find(plato.lower().strip()) != -1\n",
    "                        and j[\"price\"] <= price\n",
    "                    ):\n",
    "                        return True\n",
    "        else:\n",
    "            if aux[i]:\n",
    "                for j in aux[i]:\n",
    "                    if aux[i][j]:\n",
    "                        for k in aux[i][j]:\n",
    "                            if (\n",
    "                                k[\"name\"].lower().strip().find(plato.lower().strip()) != -1\n",
    "                            and k[\"price\"] <= price\n",
    "                            ):\n",
    "                                return True\n",
    "    return False\n",
    "\n",
    "def check_service(aux, servicio): #funcion que chequea si el restaurante tiene el servicio pedido\n",
    "    return aux[servicio]\n",
    "\n",
    "def filter(_df, plato, price, servicios, municipio):\n",
    "    aux = _df[_df['district'] == municipio] #revisa si coincide con el municipio pedido\n",
    "    if len(aux) == 0:\n",
    "        return \"No hay resultado\"\n",
    "    aux[\"cumple_name_price\"] = aux[\"menu\"].apply(\n",
    "        check_name_price, plato = plato, price = price # verifica algun restaurante del \"menu\" cumple con  nombre y precio, si cumple se guarda en 'cumple_name_price'.\n",
    "    ) \n",
    "    aux[\"cumple_service\"] = aux['services'].apply(check_service, servicio = servicios) #hace lo mismo con \"services\"\n",
    "    result = aux[(aux[\"cumple_name_price\"] ==  True) & (aux[\"cumple_service\"] == True)] #se quedan solo los que cumplen ambas condiciones\n",
    "    if len(result) != 0:\n",
    "        r = result.sort_values(by = \"rating\") #los resultados se ordenan por rating\n",
    "        return r.iloc[0] #se queda el de mejor rating\n",
    "    return \"No hay resultado\"\n",
    "\n",
    "#EJEMPLO\n",
    "filter(most_access, \"agua\", 300, \"parking\", \"Playa\")"
   ]
  },
  {
   "cell_type": "code",
   "execution_count": null,
   "metadata": {},
   "outputs": [
    {
     "data": {
      "application/vnd.plotly.v1+json": {
       "config": {
        "plotlyServerURL": "https://plot.ly"
       },
       "data": [
        {
         "alignmentgroup": "True",
         "hovertemplate": "Municipio=%{x}<br>Número de Establecimientos=%{marker.color}<extra></extra>",
         "legendgroup": "",
         "marker": {
          "color": [
           1,
           4,
           2,
           1,
           1,
           3,
           1,
           5,
           6
          ],
          "coloraxis": "coloraxis",
          "pattern": {
           "shape": ""
          }
         },
         "name": "",
         "offsetgroup": "",
         "orientation": "v",
         "showlegend": false,
         "text": [
          1,
          4,
          2,
          1,
          1,
          3,
          1,
          5,
          6
         ],
         "textposition": "auto",
         "type": "bar",
         "x": [
          "Boyeros",
          "Centro Habana",
          "Cerro",
          "Cotorro",
          "Diez de Octubre",
          "La Habana Vieja",
          "Marianao",
          "Playa",
          "Plaza de la Revolución"
         ],
         "xaxis": "x",
         "y": [
          1,
          4,
          2,
          1,
          1,
          3,
          1,
          5,
          6
         ],
         "yaxis": "y"
        }
       ],
       "layout": {
        "barmode": "group",
        "coloraxis": {
         "colorbar": {
          "title": {
           "text": "Número de Establecimientos"
          }
         },
         "colorscale": [
          [
           0,
           "#0d0887"
          ],
          [
           0.1111111111111111,
           "#46039f"
          ],
          [
           0.2222222222222222,
           "#7201a8"
          ],
          [
           0.3333333333333333,
           "#9c179e"
          ],
          [
           0.4444444444444444,
           "#bd3786"
          ],
          [
           0.5555555555555556,
           "#d8576b"
          ],
          [
           0.6666666666666666,
           "#ed7953"
          ],
          [
           0.7777777777777778,
           "#fb9f3a"
          ],
          [
           0.8888888888888888,
           "#fdca26"
          ],
          [
           1,
           "#f0f921"
          ]
         ]
        },
        "legend": {
         "tracegroupgap": 0
        },
        "template": {
         "data": {
          "bar": [
           {
            "error_x": {
             "color": "#2a3f5f"
            },
            "error_y": {
             "color": "#2a3f5f"
            },
            "marker": {
             "line": {
              "color": "#E5ECF6",
              "width": 0.5
             },
             "pattern": {
              "fillmode": "overlay",
              "size": 10,
              "solidity": 0.2
             }
            },
            "type": "bar"
           }
          ],
          "barpolar": [
           {
            "marker": {
             "line": {
              "color": "#E5ECF6",
              "width": 0.5
             },
             "pattern": {
              "fillmode": "overlay",
              "size": 10,
              "solidity": 0.2
             }
            },
            "type": "barpolar"
           }
          ],
          "carpet": [
           {
            "aaxis": {
             "endlinecolor": "#2a3f5f",
             "gridcolor": "white",
             "linecolor": "white",
             "minorgridcolor": "white",
             "startlinecolor": "#2a3f5f"
            },
            "baxis": {
             "endlinecolor": "#2a3f5f",
             "gridcolor": "white",
             "linecolor": "white",
             "minorgridcolor": "white",
             "startlinecolor": "#2a3f5f"
            },
            "type": "carpet"
           }
          ],
          "choropleth": [
           {
            "colorbar": {
             "outlinewidth": 0,
             "ticks": ""
            },
            "type": "choropleth"
           }
          ],
          "contour": [
           {
            "colorbar": {
             "outlinewidth": 0,
             "ticks": ""
            },
            "colorscale": [
             [
              0,
              "#0d0887"
             ],
             [
              0.1111111111111111,
              "#46039f"
             ],
             [
              0.2222222222222222,
              "#7201a8"
             ],
             [
              0.3333333333333333,
              "#9c179e"
             ],
             [
              0.4444444444444444,
              "#bd3786"
             ],
             [
              0.5555555555555556,
              "#d8576b"
             ],
             [
              0.6666666666666666,
              "#ed7953"
             ],
             [
              0.7777777777777778,
              "#fb9f3a"
             ],
             [
              0.8888888888888888,
              "#fdca26"
             ],
             [
              1,
              "#f0f921"
             ]
            ],
            "type": "contour"
           }
          ],
          "contourcarpet": [
           {
            "colorbar": {
             "outlinewidth": 0,
             "ticks": ""
            },
            "type": "contourcarpet"
           }
          ],
          "heatmap": [
           {
            "colorbar": {
             "outlinewidth": 0,
             "ticks": ""
            },
            "colorscale": [
             [
              0,
              "#0d0887"
             ],
             [
              0.1111111111111111,
              "#46039f"
             ],
             [
              0.2222222222222222,
              "#7201a8"
             ],
             [
              0.3333333333333333,
              "#9c179e"
             ],
             [
              0.4444444444444444,
              "#bd3786"
             ],
             [
              0.5555555555555556,
              "#d8576b"
             ],
             [
              0.6666666666666666,
              "#ed7953"
             ],
             [
              0.7777777777777778,
              "#fb9f3a"
             ],
             [
              0.8888888888888888,
              "#fdca26"
             ],
             [
              1,
              "#f0f921"
             ]
            ],
            "type": "heatmap"
           }
          ],
          "heatmapgl": [
           {
            "colorbar": {
             "outlinewidth": 0,
             "ticks": ""
            },
            "colorscale": [
             [
              0,
              "#0d0887"
             ],
             [
              0.1111111111111111,
              "#46039f"
             ],
             [
              0.2222222222222222,
              "#7201a8"
             ],
             [
              0.3333333333333333,
              "#9c179e"
             ],
             [
              0.4444444444444444,
              "#bd3786"
             ],
             [
              0.5555555555555556,
              "#d8576b"
             ],
             [
              0.6666666666666666,
              "#ed7953"
             ],
             [
              0.7777777777777778,
              "#fb9f3a"
             ],
             [
              0.8888888888888888,
              "#fdca26"
             ],
             [
              1,
              "#f0f921"
             ]
            ],
            "type": "heatmapgl"
           }
          ],
          "histogram": [
           {
            "marker": {
             "pattern": {
              "fillmode": "overlay",
              "size": 10,
              "solidity": 0.2
             }
            },
            "type": "histogram"
           }
          ],
          "histogram2d": [
           {
            "colorbar": {
             "outlinewidth": 0,
             "ticks": ""
            },
            "colorscale": [
             [
              0,
              "#0d0887"
             ],
             [
              0.1111111111111111,
              "#46039f"
             ],
             [
              0.2222222222222222,
              "#7201a8"
             ],
             [
              0.3333333333333333,
              "#9c179e"
             ],
             [
              0.4444444444444444,
              "#bd3786"
             ],
             [
              0.5555555555555556,
              "#d8576b"
             ],
             [
              0.6666666666666666,
              "#ed7953"
             ],
             [
              0.7777777777777778,
              "#fb9f3a"
             ],
             [
              0.8888888888888888,
              "#fdca26"
             ],
             [
              1,
              "#f0f921"
             ]
            ],
            "type": "histogram2d"
           }
          ],
          "histogram2dcontour": [
           {
            "colorbar": {
             "outlinewidth": 0,
             "ticks": ""
            },
            "colorscale": [
             [
              0,
              "#0d0887"
             ],
             [
              0.1111111111111111,
              "#46039f"
             ],
             [
              0.2222222222222222,
              "#7201a8"
             ],
             [
              0.3333333333333333,
              "#9c179e"
             ],
             [
              0.4444444444444444,
              "#bd3786"
             ],
             [
              0.5555555555555556,
              "#d8576b"
             ],
             [
              0.6666666666666666,
              "#ed7953"
             ],
             [
              0.7777777777777778,
              "#fb9f3a"
             ],
             [
              0.8888888888888888,
              "#fdca26"
             ],
             [
              1,
              "#f0f921"
             ]
            ],
            "type": "histogram2dcontour"
           }
          ],
          "mesh3d": [
           {
            "colorbar": {
             "outlinewidth": 0,
             "ticks": ""
            },
            "type": "mesh3d"
           }
          ],
          "parcoords": [
           {
            "line": {
             "colorbar": {
              "outlinewidth": 0,
              "ticks": ""
             }
            },
            "type": "parcoords"
           }
          ],
          "pie": [
           {
            "automargin": true,
            "type": "pie"
           }
          ],
          "scatter": [
           {
            "fillpattern": {
             "fillmode": "overlay",
             "size": 10,
             "solidity": 0.2
            },
            "type": "scatter"
           }
          ],
          "scatter3d": [
           {
            "line": {
             "colorbar": {
              "outlinewidth": 0,
              "ticks": ""
             }
            },
            "marker": {
             "colorbar": {
              "outlinewidth": 0,
              "ticks": ""
             }
            },
            "type": "scatter3d"
           }
          ],
          "scattercarpet": [
           {
            "marker": {
             "colorbar": {
              "outlinewidth": 0,
              "ticks": ""
             }
            },
            "type": "scattercarpet"
           }
          ],
          "scattergeo": [
           {
            "marker": {
             "colorbar": {
              "outlinewidth": 0,
              "ticks": ""
             }
            },
            "type": "scattergeo"
           }
          ],
          "scattergl": [
           {
            "marker": {
             "colorbar": {
              "outlinewidth": 0,
              "ticks": ""
             }
            },
            "type": "scattergl"
           }
          ],
          "scattermapbox": [
           {
            "marker": {
             "colorbar": {
              "outlinewidth": 0,
              "ticks": ""
             }
            },
            "type": "scattermapbox"
           }
          ],
          "scatterpolar": [
           {
            "marker": {
             "colorbar": {
              "outlinewidth": 0,
              "ticks": ""
             }
            },
            "type": "scatterpolar"
           }
          ],
          "scatterpolargl": [
           {
            "marker": {
             "colorbar": {
              "outlinewidth": 0,
              "ticks": ""
             }
            },
            "type": "scatterpolargl"
           }
          ],
          "scatterternary": [
           {
            "marker": {
             "colorbar": {
              "outlinewidth": 0,
              "ticks": ""
             }
            },
            "type": "scatterternary"
           }
          ],
          "surface": [
           {
            "colorbar": {
             "outlinewidth": 0,
             "ticks": ""
            },
            "colorscale": [
             [
              0,
              "#0d0887"
             ],
             [
              0.1111111111111111,
              "#46039f"
             ],
             [
              0.2222222222222222,
              "#7201a8"
             ],
             [
              0.3333333333333333,
              "#9c179e"
             ],
             [
              0.4444444444444444,
              "#bd3786"
             ],
             [
              0.5555555555555556,
              "#d8576b"
             ],
             [
              0.6666666666666666,
              "#ed7953"
             ],
             [
              0.7777777777777778,
              "#fb9f3a"
             ],
             [
              0.8888888888888888,
              "#fdca26"
             ],
             [
              1,
              "#f0f921"
             ]
            ],
            "type": "surface"
           }
          ],
          "table": [
           {
            "cells": {
             "fill": {
              "color": "#EBF0F8"
             },
             "line": {
              "color": "white"
             }
            },
            "header": {
             "fill": {
              "color": "#C8D4E3"
             },
             "line": {
              "color": "white"
             }
            },
            "type": "table"
           }
          ]
         },
         "layout": {
          "annotationdefaults": {
           "arrowcolor": "#2a3f5f",
           "arrowhead": 0,
           "arrowwidth": 1
          },
          "autotypenumbers": "strict",
          "coloraxis": {
           "colorbar": {
            "outlinewidth": 0,
            "ticks": ""
           }
          },
          "colorscale": {
           "diverging": [
            [
             0,
             "#8e0152"
            ],
            [
             0.1,
             "#c51b7d"
            ],
            [
             0.2,
             "#de77ae"
            ],
            [
             0.3,
             "#f1b6da"
            ],
            [
             0.4,
             "#fde0ef"
            ],
            [
             0.5,
             "#f7f7f7"
            ],
            [
             0.6,
             "#e6f5d0"
            ],
            [
             0.7,
             "#b8e186"
            ],
            [
             0.8,
             "#7fbc41"
            ],
            [
             0.9,
             "#4d9221"
            ],
            [
             1,
             "#276419"
            ]
           ],
           "sequential": [
            [
             0,
             "#0d0887"
            ],
            [
             0.1111111111111111,
             "#46039f"
            ],
            [
             0.2222222222222222,
             "#7201a8"
            ],
            [
             0.3333333333333333,
             "#9c179e"
            ],
            [
             0.4444444444444444,
             "#bd3786"
            ],
            [
             0.5555555555555556,
             "#d8576b"
            ],
            [
             0.6666666666666666,
             "#ed7953"
            ],
            [
             0.7777777777777778,
             "#fb9f3a"
            ],
            [
             0.8888888888888888,
             "#fdca26"
            ],
            [
             1,
             "#f0f921"
            ]
           ],
           "sequentialminus": [
            [
             0,
             "#0d0887"
            ],
            [
             0.1111111111111111,
             "#46039f"
            ],
            [
             0.2222222222222222,
             "#7201a8"
            ],
            [
             0.3333333333333333,
             "#9c179e"
            ],
            [
             0.4444444444444444,
             "#bd3786"
            ],
            [
             0.5555555555555556,
             "#d8576b"
            ],
            [
             0.6666666666666666,
             "#ed7953"
            ],
            [
             0.7777777777777778,
             "#fb9f3a"
            ],
            [
             0.8888888888888888,
             "#fdca26"
            ],
            [
             1,
             "#f0f921"
            ]
           ]
          },
          "colorway": [
           "#636efa",
           "#EF553B",
           "#00cc96",
           "#ab63fa",
           "#FFA15A",
           "#19d3f3",
           "#FF6692",
           "#B6E880",
           "#FF97FF",
           "#FECB52"
          ],
          "font": {
           "color": "#2a3f5f"
          },
          "geo": {
           "bgcolor": "white",
           "lakecolor": "white",
           "landcolor": "#E5ECF6",
           "showlakes": true,
           "showland": true,
           "subunitcolor": "white"
          },
          "hoverlabel": {
           "align": "left"
          },
          "hovermode": "closest",
          "mapbox": {
           "style": "light"
          },
          "paper_bgcolor": "white",
          "plot_bgcolor": "#E5ECF6",
          "polar": {
           "angularaxis": {
            "gridcolor": "white",
            "linecolor": "white",
            "ticks": ""
           },
           "bgcolor": "#E5ECF6",
           "radialaxis": {
            "gridcolor": "white",
            "linecolor": "white",
            "ticks": ""
           }
          },
          "scene": {
           "xaxis": {
            "backgroundcolor": "#E5ECF6",
            "gridcolor": "white",
            "gridwidth": 2,
            "linecolor": "white",
            "showbackground": true,
            "ticks": "",
            "zerolinecolor": "white"
           },
           "yaxis": {
            "backgroundcolor": "#E5ECF6",
            "gridcolor": "white",
            "gridwidth": 2,
            "linecolor": "white",
            "showbackground": true,
            "ticks": "",
            "zerolinecolor": "white"
           },
           "zaxis": {
            "backgroundcolor": "#E5ECF6",
            "gridcolor": "white",
            "gridwidth": 2,
            "linecolor": "white",
            "showbackground": true,
            "ticks": "",
            "zerolinecolor": "white"
           }
          },
          "shapedefaults": {
           "line": {
            "color": "#2a3f5f"
           }
          },
          "ternary": {
           "aaxis": {
            "gridcolor": "white",
            "linecolor": "white",
            "ticks": ""
           },
           "baxis": {
            "gridcolor": "white",
            "linecolor": "white",
            "ticks": ""
           },
           "bgcolor": "#E5ECF6",
           "caxis": {
            "gridcolor": "white",
            "linecolor": "white",
            "ticks": ""
           }
          },
          "title": {
           "x": 0.05
          },
          "xaxis": {
           "automargin": true,
           "gridcolor": "white",
           "linecolor": "white",
           "ticks": "",
           "title": {
            "standoff": 15
           },
           "zerolinecolor": "white",
           "zerolinewidth": 2
          },
          "yaxis": {
           "automargin": true,
           "gridcolor": "white",
           "linecolor": "white",
           "ticks": "",
           "title": {
            "standoff": 15
           },
           "zerolinecolor": "white",
           "zerolinewidth": 2
          }
         }
        },
        "title": {
         "text": "Cantidad de Establecimientos con Ofertas Especiales por Municipio"
        },
        "xaxis": {
         "anchor": "y",
         "domain": [
          0,
          1
         ],
         "title": {
          "text": "Municipio"
         }
        },
        "yaxis": {
         "anchor": "x",
         "domain": [
          0,
          1
         ],
         "title": {
          "text": "Número de Establecimientos"
         }
        }
       }
      }
     },
     "metadata": {},
     "output_type": "display_data"
    }
   ],
   "source": [
    "def tiene_ofertas_especiales(menu):\n",
    "    \n",
    "    if isinstance(menu.get('special_offers'), list) and menu['special_offers']: # Ver si no es False y no está vacío\n",
    "        return True\n",
    "    return False\n",
    "\n",
    "df['with_special_offers'] = df['menu'].apply(tiene_ofertas_especiales) # Crea una nueva columna \n",
    "\n",
    "resultados = df[df['with_special_offers']].groupby('district').size().reset_index(name='count') # Agrupa por municipio y cuenta los lugares con ofertas\n",
    "\n",
    "fig = px.bar(resultados, \n",
    "            x='district', \n",
    "            y='count', \n",
    "            color='count', \n",
    "            barmode='group',\n",
    "            title='Cantidad de Establecimientos con Ofertas Especiales por Municipio',\n",
    "            labels={'district': 'Municipio', 'count': 'Número de Establecimientos'},\n",
    "            text='count')\n",
    "fig.show()\n"
   ]
  },
  {
   "cell_type": "code",
   "execution_count": 68,
   "metadata": {},
   "outputs": [
    {
     "data": {
      "application/vnd.plotly.v1+json": {
       "config": {
        "plotlyServerURL": "https://plot.ly"
       },
       "data": [
        {
         "alignmentgroup": "True",
         "hovertemplate": "Municipio=%{x}<br>Número de Establecimientos=%{marker.color}<extra></extra>",
         "legendgroup": "",
         "marker": {
          "color": [
           2,
           5,
           3,
           2,
           9,
           6
          ],
          "coloraxis": "coloraxis",
          "pattern": {
           "shape": ""
          }
         },
         "name": "",
         "offsetgroup": "",
         "orientation": "v",
         "showlegend": false,
         "text": [
          2,
          5,
          3,
          2,
          9,
          6
         ],
         "textposition": "auto",
         "type": "bar",
         "x": [
          "Boyeros",
          "Centro Habana",
          "La Habana Vieja",
          "Marianao",
          "Playa",
          "Plaza de la Revolución"
         ],
         "xaxis": "x",
         "y": [
          2,
          5,
          3,
          2,
          9,
          6
         ],
         "yaxis": "y"
        }
       ],
       "layout": {
        "barmode": "group",
        "coloraxis": {
         "colorbar": {
          "title": {
           "text": "Número de Establecimientos"
          }
         },
         "colorscale": [
          [
           0,
           "#0d0887"
          ],
          [
           0.1111111111111111,
           "#46039f"
          ],
          [
           0.2222222222222222,
           "#7201a8"
          ],
          [
           0.3333333333333333,
           "#9c179e"
          ],
          [
           0.4444444444444444,
           "#bd3786"
          ],
          [
           0.5555555555555556,
           "#d8576b"
          ],
          [
           0.6666666666666666,
           "#ed7953"
          ],
          [
           0.7777777777777778,
           "#fb9f3a"
          ],
          [
           0.8888888888888888,
           "#fdca26"
          ],
          [
           1,
           "#f0f921"
          ]
         ]
        },
        "legend": {
         "tracegroupgap": 0
        },
        "template": {
         "data": {
          "bar": [
           {
            "error_x": {
             "color": "#2a3f5f"
            },
            "error_y": {
             "color": "#2a3f5f"
            },
            "marker": {
             "line": {
              "color": "#E5ECF6",
              "width": 0.5
             },
             "pattern": {
              "fillmode": "overlay",
              "size": 10,
              "solidity": 0.2
             }
            },
            "type": "bar"
           }
          ],
          "barpolar": [
           {
            "marker": {
             "line": {
              "color": "#E5ECF6",
              "width": 0.5
             },
             "pattern": {
              "fillmode": "overlay",
              "size": 10,
              "solidity": 0.2
             }
            },
            "type": "barpolar"
           }
          ],
          "carpet": [
           {
            "aaxis": {
             "endlinecolor": "#2a3f5f",
             "gridcolor": "white",
             "linecolor": "white",
             "minorgridcolor": "white",
             "startlinecolor": "#2a3f5f"
            },
            "baxis": {
             "endlinecolor": "#2a3f5f",
             "gridcolor": "white",
             "linecolor": "white",
             "minorgridcolor": "white",
             "startlinecolor": "#2a3f5f"
            },
            "type": "carpet"
           }
          ],
          "choropleth": [
           {
            "colorbar": {
             "outlinewidth": 0,
             "ticks": ""
            },
            "type": "choropleth"
           }
          ],
          "contour": [
           {
            "colorbar": {
             "outlinewidth": 0,
             "ticks": ""
            },
            "colorscale": [
             [
              0,
              "#0d0887"
             ],
             [
              0.1111111111111111,
              "#46039f"
             ],
             [
              0.2222222222222222,
              "#7201a8"
             ],
             [
              0.3333333333333333,
              "#9c179e"
             ],
             [
              0.4444444444444444,
              "#bd3786"
             ],
             [
              0.5555555555555556,
              "#d8576b"
             ],
             [
              0.6666666666666666,
              "#ed7953"
             ],
             [
              0.7777777777777778,
              "#fb9f3a"
             ],
             [
              0.8888888888888888,
              "#fdca26"
             ],
             [
              1,
              "#f0f921"
             ]
            ],
            "type": "contour"
           }
          ],
          "contourcarpet": [
           {
            "colorbar": {
             "outlinewidth": 0,
             "ticks": ""
            },
            "type": "contourcarpet"
           }
          ],
          "heatmap": [
           {
            "colorbar": {
             "outlinewidth": 0,
             "ticks": ""
            },
            "colorscale": [
             [
              0,
              "#0d0887"
             ],
             [
              0.1111111111111111,
              "#46039f"
             ],
             [
              0.2222222222222222,
              "#7201a8"
             ],
             [
              0.3333333333333333,
              "#9c179e"
             ],
             [
              0.4444444444444444,
              "#bd3786"
             ],
             [
              0.5555555555555556,
              "#d8576b"
             ],
             [
              0.6666666666666666,
              "#ed7953"
             ],
             [
              0.7777777777777778,
              "#fb9f3a"
             ],
             [
              0.8888888888888888,
              "#fdca26"
             ],
             [
              1,
              "#f0f921"
             ]
            ],
            "type": "heatmap"
           }
          ],
          "heatmapgl": [
           {
            "colorbar": {
             "outlinewidth": 0,
             "ticks": ""
            },
            "colorscale": [
             [
              0,
              "#0d0887"
             ],
             [
              0.1111111111111111,
              "#46039f"
             ],
             [
              0.2222222222222222,
              "#7201a8"
             ],
             [
              0.3333333333333333,
              "#9c179e"
             ],
             [
              0.4444444444444444,
              "#bd3786"
             ],
             [
              0.5555555555555556,
              "#d8576b"
             ],
             [
              0.6666666666666666,
              "#ed7953"
             ],
             [
              0.7777777777777778,
              "#fb9f3a"
             ],
             [
              0.8888888888888888,
              "#fdca26"
             ],
             [
              1,
              "#f0f921"
             ]
            ],
            "type": "heatmapgl"
           }
          ],
          "histogram": [
           {
            "marker": {
             "pattern": {
              "fillmode": "overlay",
              "size": 10,
              "solidity": 0.2
             }
            },
            "type": "histogram"
           }
          ],
          "histogram2d": [
           {
            "colorbar": {
             "outlinewidth": 0,
             "ticks": ""
            },
            "colorscale": [
             [
              0,
              "#0d0887"
             ],
             [
              0.1111111111111111,
              "#46039f"
             ],
             [
              0.2222222222222222,
              "#7201a8"
             ],
             [
              0.3333333333333333,
              "#9c179e"
             ],
             [
              0.4444444444444444,
              "#bd3786"
             ],
             [
              0.5555555555555556,
              "#d8576b"
             ],
             [
              0.6666666666666666,
              "#ed7953"
             ],
             [
              0.7777777777777778,
              "#fb9f3a"
             ],
             [
              0.8888888888888888,
              "#fdca26"
             ],
             [
              1,
              "#f0f921"
             ]
            ],
            "type": "histogram2d"
           }
          ],
          "histogram2dcontour": [
           {
            "colorbar": {
             "outlinewidth": 0,
             "ticks": ""
            },
            "colorscale": [
             [
              0,
              "#0d0887"
             ],
             [
              0.1111111111111111,
              "#46039f"
             ],
             [
              0.2222222222222222,
              "#7201a8"
             ],
             [
              0.3333333333333333,
              "#9c179e"
             ],
             [
              0.4444444444444444,
              "#bd3786"
             ],
             [
              0.5555555555555556,
              "#d8576b"
             ],
             [
              0.6666666666666666,
              "#ed7953"
             ],
             [
              0.7777777777777778,
              "#fb9f3a"
             ],
             [
              0.8888888888888888,
              "#fdca26"
             ],
             [
              1,
              "#f0f921"
             ]
            ],
            "type": "histogram2dcontour"
           }
          ],
          "mesh3d": [
           {
            "colorbar": {
             "outlinewidth": 0,
             "ticks": ""
            },
            "type": "mesh3d"
           }
          ],
          "parcoords": [
           {
            "line": {
             "colorbar": {
              "outlinewidth": 0,
              "ticks": ""
             }
            },
            "type": "parcoords"
           }
          ],
          "pie": [
           {
            "automargin": true,
            "type": "pie"
           }
          ],
          "scatter": [
           {
            "fillpattern": {
             "fillmode": "overlay",
             "size": 10,
             "solidity": 0.2
            },
            "type": "scatter"
           }
          ],
          "scatter3d": [
           {
            "line": {
             "colorbar": {
              "outlinewidth": 0,
              "ticks": ""
             }
            },
            "marker": {
             "colorbar": {
              "outlinewidth": 0,
              "ticks": ""
             }
            },
            "type": "scatter3d"
           }
          ],
          "scattercarpet": [
           {
            "marker": {
             "colorbar": {
              "outlinewidth": 0,
              "ticks": ""
             }
            },
            "type": "scattercarpet"
           }
          ],
          "scattergeo": [
           {
            "marker": {
             "colorbar": {
              "outlinewidth": 0,
              "ticks": ""
             }
            },
            "type": "scattergeo"
           }
          ],
          "scattergl": [
           {
            "marker": {
             "colorbar": {
              "outlinewidth": 0,
              "ticks": ""
             }
            },
            "type": "scattergl"
           }
          ],
          "scattermapbox": [
           {
            "marker": {
             "colorbar": {
              "outlinewidth": 0,
              "ticks": ""
             }
            },
            "type": "scattermapbox"
           }
          ],
          "scatterpolar": [
           {
            "marker": {
             "colorbar": {
              "outlinewidth": 0,
              "ticks": ""
             }
            },
            "type": "scatterpolar"
           }
          ],
          "scatterpolargl": [
           {
            "marker": {
             "colorbar": {
              "outlinewidth": 0,
              "ticks": ""
             }
            },
            "type": "scatterpolargl"
           }
          ],
          "scatterternary": [
           {
            "marker": {
             "colorbar": {
              "outlinewidth": 0,
              "ticks": ""
             }
            },
            "type": "scatterternary"
           }
          ],
          "surface": [
           {
            "colorbar": {
             "outlinewidth": 0,
             "ticks": ""
            },
            "colorscale": [
             [
              0,
              "#0d0887"
             ],
             [
              0.1111111111111111,
              "#46039f"
             ],
             [
              0.2222222222222222,
              "#7201a8"
             ],
             [
              0.3333333333333333,
              "#9c179e"
             ],
             [
              0.4444444444444444,
              "#bd3786"
             ],
             [
              0.5555555555555556,
              "#d8576b"
             ],
             [
              0.6666666666666666,
              "#ed7953"
             ],
             [
              0.7777777777777778,
              "#fb9f3a"
             ],
             [
              0.8888888888888888,
              "#fdca26"
             ],
             [
              1,
              "#f0f921"
             ]
            ],
            "type": "surface"
           }
          ],
          "table": [
           {
            "cells": {
             "fill": {
              "color": "#EBF0F8"
             },
             "line": {
              "color": "white"
             }
            },
            "header": {
             "fill": {
              "color": "#C8D4E3"
             },
             "line": {
              "color": "white"
             }
            },
            "type": "table"
           }
          ]
         },
         "layout": {
          "annotationdefaults": {
           "arrowcolor": "#2a3f5f",
           "arrowhead": 0,
           "arrowwidth": 1
          },
          "autotypenumbers": "strict",
          "coloraxis": {
           "colorbar": {
            "outlinewidth": 0,
            "ticks": ""
           }
          },
          "colorscale": {
           "diverging": [
            [
             0,
             "#8e0152"
            ],
            [
             0.1,
             "#c51b7d"
            ],
            [
             0.2,
             "#de77ae"
            ],
            [
             0.3,
             "#f1b6da"
            ],
            [
             0.4,
             "#fde0ef"
            ],
            [
             0.5,
             "#f7f7f7"
            ],
            [
             0.6,
             "#e6f5d0"
            ],
            [
             0.7,
             "#b8e186"
            ],
            [
             0.8,
             "#7fbc41"
            ],
            [
             0.9,
             "#4d9221"
            ],
            [
             1,
             "#276419"
            ]
           ],
           "sequential": [
            [
             0,
             "#0d0887"
            ],
            [
             0.1111111111111111,
             "#46039f"
            ],
            [
             0.2222222222222222,
             "#7201a8"
            ],
            [
             0.3333333333333333,
             "#9c179e"
            ],
            [
             0.4444444444444444,
             "#bd3786"
            ],
            [
             0.5555555555555556,
             "#d8576b"
            ],
            [
             0.6666666666666666,
             "#ed7953"
            ],
            [
             0.7777777777777778,
             "#fb9f3a"
            ],
            [
             0.8888888888888888,
             "#fdca26"
            ],
            [
             1,
             "#f0f921"
            ]
           ],
           "sequentialminus": [
            [
             0,
             "#0d0887"
            ],
            [
             0.1111111111111111,
             "#46039f"
            ],
            [
             0.2222222222222222,
             "#7201a8"
            ],
            [
             0.3333333333333333,
             "#9c179e"
            ],
            [
             0.4444444444444444,
             "#bd3786"
            ],
            [
             0.5555555555555556,
             "#d8576b"
            ],
            [
             0.6666666666666666,
             "#ed7953"
            ],
            [
             0.7777777777777778,
             "#fb9f3a"
            ],
            [
             0.8888888888888888,
             "#fdca26"
            ],
            [
             1,
             "#f0f921"
            ]
           ]
          },
          "colorway": [
           "#636efa",
           "#EF553B",
           "#00cc96",
           "#ab63fa",
           "#FFA15A",
           "#19d3f3",
           "#FF6692",
           "#B6E880",
           "#FF97FF",
           "#FECB52"
          ],
          "font": {
           "color": "#2a3f5f"
          },
          "geo": {
           "bgcolor": "white",
           "lakecolor": "white",
           "landcolor": "#E5ECF6",
           "showlakes": true,
           "showland": true,
           "subunitcolor": "white"
          },
          "hoverlabel": {
           "align": "left"
          },
          "hovermode": "closest",
          "mapbox": {
           "style": "light"
          },
          "paper_bgcolor": "white",
          "plot_bgcolor": "#E5ECF6",
          "polar": {
           "angularaxis": {
            "gridcolor": "white",
            "linecolor": "white",
            "ticks": ""
           },
           "bgcolor": "#E5ECF6",
           "radialaxis": {
            "gridcolor": "white",
            "linecolor": "white",
            "ticks": ""
           }
          },
          "scene": {
           "xaxis": {
            "backgroundcolor": "#E5ECF6",
            "gridcolor": "white",
            "gridwidth": 2,
            "linecolor": "white",
            "showbackground": true,
            "ticks": "",
            "zerolinecolor": "white"
           },
           "yaxis": {
            "backgroundcolor": "#E5ECF6",
            "gridcolor": "white",
            "gridwidth": 2,
            "linecolor": "white",
            "showbackground": true,
            "ticks": "",
            "zerolinecolor": "white"
           },
           "zaxis": {
            "backgroundcolor": "#E5ECF6",
            "gridcolor": "white",
            "gridwidth": 2,
            "linecolor": "white",
            "showbackground": true,
            "ticks": "",
            "zerolinecolor": "white"
           }
          },
          "shapedefaults": {
           "line": {
            "color": "#2a3f5f"
           }
          },
          "ternary": {
           "aaxis": {
            "gridcolor": "white",
            "linecolor": "white",
            "ticks": ""
           },
           "baxis": {
            "gridcolor": "white",
            "linecolor": "white",
            "ticks": ""
           },
           "bgcolor": "#E5ECF6",
           "caxis": {
            "gridcolor": "white",
            "linecolor": "white",
            "ticks": ""
           }
          },
          "title": {
           "x": 0.05
          },
          "xaxis": {
           "automargin": true,
           "gridcolor": "white",
           "linecolor": "white",
           "ticks": "",
           "title": {
            "standoff": 15
           },
           "zerolinecolor": "white",
           "zerolinewidth": 2
          },
          "yaxis": {
           "automargin": true,
           "gridcolor": "white",
           "linecolor": "white",
           "ticks": "",
           "title": {
            "standoff": 15
           },
           "zerolinecolor": "white",
           "zerolinewidth": 2
          }
         }
        },
        "title": {
         "text": "Cantidad de Establecimientos que ofertan Desayuno por Municipio"
        },
        "xaxis": {
         "anchor": "y",
         "domain": [
          0,
          1
         ],
         "title": {
          "text": "Municipio"
         }
        },
        "yaxis": {
         "anchor": "x",
         "domain": [
          0,
          1
         ],
         "title": {
          "text": "Número de Establecimientos"
         }
        }
       }
      }
     },
     "metadata": {},
     "output_type": "display_data"
    }
   ],
   "source": [
    "def tiene_desayuno(menu):\n",
    "    if isinstance(menu.get('breakfasts'), dict) and 'items' in menu['breakfasts']: # Ver si 'breakfasts' es un dict y si contiene una lista no vacía\n",
    "        return len(menu['breakfasts']['items']) > 0\n",
    "    return False\n",
    "\n",
    "df['with_breakfasts'] = df['menu'].apply(tiene_desayuno) # Crear una nueva columna que indica si hay desayuno\n",
    "\n",
    "resultados = df[df['with_breakfasts']].groupby('district').size().reset_index(name='count')\n",
    "\n",
    "fig = px.bar(resultados, \n",
    "            x='district', \n",
    "            y='count', \n",
    "            color='count', \n",
    "            barmode='group',\n",
    "            title='Cantidad de Establecimientos que ofertan Desayuno por Municipio',\n",
    "            labels={'district': 'Municipio', 'count': 'Número de Establecimientos'},\n",
    "            text='count')\n",
    "fig.show()"
   ]
  },
  {
   "cell_type": "code",
   "execution_count": 71,
   "metadata": {},
   "outputs": [
    {
     "data": {
      "application/vnd.plotly.v1+json": {
       "config": {
        "plotlyServerURL": "https://plot.ly"
       },
       "data": [
        {
         "alignmentgroup": "True",
         "hovertemplate": "Municipio=%{x}<br>Número de Restaurantes=%{marker.color}<extra></extra>",
         "legendgroup": "",
         "marker": {
          "color": [
           6,
           4,
           14,
           4,
           4,
           8,
           3,
           3,
           5,
           10,
           11,
           1,
           1
          ],
          "coloraxis": "coloraxis",
          "pattern": {
           "shape": ""
          }
         },
         "name": "",
         "offsetgroup": "",
         "orientation": "v",
         "showlegend": false,
         "text": [
          6,
          4,
          14,
          4,
          4,
          8,
          3,
          3,
          5,
          10,
          11,
          1,
          1
         ],
         "textposition": "auto",
         "type": "bar",
         "x": [
          "Arroyo Naranjo",
          "Boyeros",
          "Centro Habana",
          "Cotorro",
          "Diez de Octubre",
          "Guanabacoa",
          "Habana del Este",
          "La Lisa",
          "Marianao",
          "Playa",
          "Plaza de la Revolución",
          "Regla",
          "San Miguel del Padrón"
         ],
         "xaxis": "x",
         "y": [
          6,
          4,
          14,
          4,
          4,
          8,
          3,
          3,
          5,
          10,
          11,
          1,
          1
         ],
         "yaxis": "y"
        }
       ],
       "layout": {
        "barmode": "group",
        "coloraxis": {
         "colorbar": {
          "title": {
           "text": "Número de Restaurantes"
          }
         },
         "colorscale": [
          [
           0,
           "#0d0887"
          ],
          [
           0.1111111111111111,
           "#46039f"
          ],
          [
           0.2222222222222222,
           "#7201a8"
          ],
          [
           0.3333333333333333,
           "#9c179e"
          ],
          [
           0.4444444444444444,
           "#bd3786"
          ],
          [
           0.5555555555555556,
           "#d8576b"
          ],
          [
           0.6666666666666666,
           "#ed7953"
          ],
          [
           0.7777777777777778,
           "#fb9f3a"
          ],
          [
           0.8888888888888888,
           "#fdca26"
          ],
          [
           1,
           "#f0f921"
          ]
         ]
        },
        "legend": {
         "tracegroupgap": 0
        },
        "template": {
         "data": {
          "bar": [
           {
            "error_x": {
             "color": "#2a3f5f"
            },
            "error_y": {
             "color": "#2a3f5f"
            },
            "marker": {
             "line": {
              "color": "#E5ECF6",
              "width": 0.5
             },
             "pattern": {
              "fillmode": "overlay",
              "size": 10,
              "solidity": 0.2
             }
            },
            "type": "bar"
           }
          ],
          "barpolar": [
           {
            "marker": {
             "line": {
              "color": "#E5ECF6",
              "width": 0.5
             },
             "pattern": {
              "fillmode": "overlay",
              "size": 10,
              "solidity": 0.2
             }
            },
            "type": "barpolar"
           }
          ],
          "carpet": [
           {
            "aaxis": {
             "endlinecolor": "#2a3f5f",
             "gridcolor": "white",
             "linecolor": "white",
             "minorgridcolor": "white",
             "startlinecolor": "#2a3f5f"
            },
            "baxis": {
             "endlinecolor": "#2a3f5f",
             "gridcolor": "white",
             "linecolor": "white",
             "minorgridcolor": "white",
             "startlinecolor": "#2a3f5f"
            },
            "type": "carpet"
           }
          ],
          "choropleth": [
           {
            "colorbar": {
             "outlinewidth": 0,
             "ticks": ""
            },
            "type": "choropleth"
           }
          ],
          "contour": [
           {
            "colorbar": {
             "outlinewidth": 0,
             "ticks": ""
            },
            "colorscale": [
             [
              0,
              "#0d0887"
             ],
             [
              0.1111111111111111,
              "#46039f"
             ],
             [
              0.2222222222222222,
              "#7201a8"
             ],
             [
              0.3333333333333333,
              "#9c179e"
             ],
             [
              0.4444444444444444,
              "#bd3786"
             ],
             [
              0.5555555555555556,
              "#d8576b"
             ],
             [
              0.6666666666666666,
              "#ed7953"
             ],
             [
              0.7777777777777778,
              "#fb9f3a"
             ],
             [
              0.8888888888888888,
              "#fdca26"
             ],
             [
              1,
              "#f0f921"
             ]
            ],
            "type": "contour"
           }
          ],
          "contourcarpet": [
           {
            "colorbar": {
             "outlinewidth": 0,
             "ticks": ""
            },
            "type": "contourcarpet"
           }
          ],
          "heatmap": [
           {
            "colorbar": {
             "outlinewidth": 0,
             "ticks": ""
            },
            "colorscale": [
             [
              0,
              "#0d0887"
             ],
             [
              0.1111111111111111,
              "#46039f"
             ],
             [
              0.2222222222222222,
              "#7201a8"
             ],
             [
              0.3333333333333333,
              "#9c179e"
             ],
             [
              0.4444444444444444,
              "#bd3786"
             ],
             [
              0.5555555555555556,
              "#d8576b"
             ],
             [
              0.6666666666666666,
              "#ed7953"
             ],
             [
              0.7777777777777778,
              "#fb9f3a"
             ],
             [
              0.8888888888888888,
              "#fdca26"
             ],
             [
              1,
              "#f0f921"
             ]
            ],
            "type": "heatmap"
           }
          ],
          "heatmapgl": [
           {
            "colorbar": {
             "outlinewidth": 0,
             "ticks": ""
            },
            "colorscale": [
             [
              0,
              "#0d0887"
             ],
             [
              0.1111111111111111,
              "#46039f"
             ],
             [
              0.2222222222222222,
              "#7201a8"
             ],
             [
              0.3333333333333333,
              "#9c179e"
             ],
             [
              0.4444444444444444,
              "#bd3786"
             ],
             [
              0.5555555555555556,
              "#d8576b"
             ],
             [
              0.6666666666666666,
              "#ed7953"
             ],
             [
              0.7777777777777778,
              "#fb9f3a"
             ],
             [
              0.8888888888888888,
              "#fdca26"
             ],
             [
              1,
              "#f0f921"
             ]
            ],
            "type": "heatmapgl"
           }
          ],
          "histogram": [
           {
            "marker": {
             "pattern": {
              "fillmode": "overlay",
              "size": 10,
              "solidity": 0.2
             }
            },
            "type": "histogram"
           }
          ],
          "histogram2d": [
           {
            "colorbar": {
             "outlinewidth": 0,
             "ticks": ""
            },
            "colorscale": [
             [
              0,
              "#0d0887"
             ],
             [
              0.1111111111111111,
              "#46039f"
             ],
             [
              0.2222222222222222,
              "#7201a8"
             ],
             [
              0.3333333333333333,
              "#9c179e"
             ],
             [
              0.4444444444444444,
              "#bd3786"
             ],
             [
              0.5555555555555556,
              "#d8576b"
             ],
             [
              0.6666666666666666,
              "#ed7953"
             ],
             [
              0.7777777777777778,
              "#fb9f3a"
             ],
             [
              0.8888888888888888,
              "#fdca26"
             ],
             [
              1,
              "#f0f921"
             ]
            ],
            "type": "histogram2d"
           }
          ],
          "histogram2dcontour": [
           {
            "colorbar": {
             "outlinewidth": 0,
             "ticks": ""
            },
            "colorscale": [
             [
              0,
              "#0d0887"
             ],
             [
              0.1111111111111111,
              "#46039f"
             ],
             [
              0.2222222222222222,
              "#7201a8"
             ],
             [
              0.3333333333333333,
              "#9c179e"
             ],
             [
              0.4444444444444444,
              "#bd3786"
             ],
             [
              0.5555555555555556,
              "#d8576b"
             ],
             [
              0.6666666666666666,
              "#ed7953"
             ],
             [
              0.7777777777777778,
              "#fb9f3a"
             ],
             [
              0.8888888888888888,
              "#fdca26"
             ],
             [
              1,
              "#f0f921"
             ]
            ],
            "type": "histogram2dcontour"
           }
          ],
          "mesh3d": [
           {
            "colorbar": {
             "outlinewidth": 0,
             "ticks": ""
            },
            "type": "mesh3d"
           }
          ],
          "parcoords": [
           {
            "line": {
             "colorbar": {
              "outlinewidth": 0,
              "ticks": ""
             }
            },
            "type": "parcoords"
           }
          ],
          "pie": [
           {
            "automargin": true,
            "type": "pie"
           }
          ],
          "scatter": [
           {
            "fillpattern": {
             "fillmode": "overlay",
             "size": 10,
             "solidity": 0.2
            },
            "type": "scatter"
           }
          ],
          "scatter3d": [
           {
            "line": {
             "colorbar": {
              "outlinewidth": 0,
              "ticks": ""
             }
            },
            "marker": {
             "colorbar": {
              "outlinewidth": 0,
              "ticks": ""
             }
            },
            "type": "scatter3d"
           }
          ],
          "scattercarpet": [
           {
            "marker": {
             "colorbar": {
              "outlinewidth": 0,
              "ticks": ""
             }
            },
            "type": "scattercarpet"
           }
          ],
          "scattergeo": [
           {
            "marker": {
             "colorbar": {
              "outlinewidth": 0,
              "ticks": ""
             }
            },
            "type": "scattergeo"
           }
          ],
          "scattergl": [
           {
            "marker": {
             "colorbar": {
              "outlinewidth": 0,
              "ticks": ""
             }
            },
            "type": "scattergl"
           }
          ],
          "scattermapbox": [
           {
            "marker": {
             "colorbar": {
              "outlinewidth": 0,
              "ticks": ""
             }
            },
            "type": "scattermapbox"
           }
          ],
          "scatterpolar": [
           {
            "marker": {
             "colorbar": {
              "outlinewidth": 0,
              "ticks": ""
             }
            },
            "type": "scatterpolar"
           }
          ],
          "scatterpolargl": [
           {
            "marker": {
             "colorbar": {
              "outlinewidth": 0,
              "ticks": ""
             }
            },
            "type": "scatterpolargl"
           }
          ],
          "scatterternary": [
           {
            "marker": {
             "colorbar": {
              "outlinewidth": 0,
              "ticks": ""
             }
            },
            "type": "scatterternary"
           }
          ],
          "surface": [
           {
            "colorbar": {
             "outlinewidth": 0,
             "ticks": ""
            },
            "colorscale": [
             [
              0,
              "#0d0887"
             ],
             [
              0.1111111111111111,
              "#46039f"
             ],
             [
              0.2222222222222222,
              "#7201a8"
             ],
             [
              0.3333333333333333,
              "#9c179e"
             ],
             [
              0.4444444444444444,
              "#bd3786"
             ],
             [
              0.5555555555555556,
              "#d8576b"
             ],
             [
              0.6666666666666666,
              "#ed7953"
             ],
             [
              0.7777777777777778,
              "#fb9f3a"
             ],
             [
              0.8888888888888888,
              "#fdca26"
             ],
             [
              1,
              "#f0f921"
             ]
            ],
            "type": "surface"
           }
          ],
          "table": [
           {
            "cells": {
             "fill": {
              "color": "#EBF0F8"
             },
             "line": {
              "color": "white"
             }
            },
            "header": {
             "fill": {
              "color": "#C8D4E3"
             },
             "line": {
              "color": "white"
             }
            },
            "type": "table"
           }
          ]
         },
         "layout": {
          "annotationdefaults": {
           "arrowcolor": "#2a3f5f",
           "arrowhead": 0,
           "arrowwidth": 1
          },
          "autotypenumbers": "strict",
          "coloraxis": {
           "colorbar": {
            "outlinewidth": 0,
            "ticks": ""
           }
          },
          "colorscale": {
           "diverging": [
            [
             0,
             "#8e0152"
            ],
            [
             0.1,
             "#c51b7d"
            ],
            [
             0.2,
             "#de77ae"
            ],
            [
             0.3,
             "#f1b6da"
            ],
            [
             0.4,
             "#fde0ef"
            ],
            [
             0.5,
             "#f7f7f7"
            ],
            [
             0.6,
             "#e6f5d0"
            ],
            [
             0.7,
             "#b8e186"
            ],
            [
             0.8,
             "#7fbc41"
            ],
            [
             0.9,
             "#4d9221"
            ],
            [
             1,
             "#276419"
            ]
           ],
           "sequential": [
            [
             0,
             "#0d0887"
            ],
            [
             0.1111111111111111,
             "#46039f"
            ],
            [
             0.2222222222222222,
             "#7201a8"
            ],
            [
             0.3333333333333333,
             "#9c179e"
            ],
            [
             0.4444444444444444,
             "#bd3786"
            ],
            [
             0.5555555555555556,
             "#d8576b"
            ],
            [
             0.6666666666666666,
             "#ed7953"
            ],
            [
             0.7777777777777778,
             "#fb9f3a"
            ],
            [
             0.8888888888888888,
             "#fdca26"
            ],
            [
             1,
             "#f0f921"
            ]
           ],
           "sequentialminus": [
            [
             0,
             "#0d0887"
            ],
            [
             0.1111111111111111,
             "#46039f"
            ],
            [
             0.2222222222222222,
             "#7201a8"
            ],
            [
             0.3333333333333333,
             "#9c179e"
            ],
            [
             0.4444444444444444,
             "#bd3786"
            ],
            [
             0.5555555555555556,
             "#d8576b"
            ],
            [
             0.6666666666666666,
             "#ed7953"
            ],
            [
             0.7777777777777778,
             "#fb9f3a"
            ],
            [
             0.8888888888888888,
             "#fdca26"
            ],
            [
             1,
             "#f0f921"
            ]
           ]
          },
          "colorway": [
           "#636efa",
           "#EF553B",
           "#00cc96",
           "#ab63fa",
           "#FFA15A",
           "#19d3f3",
           "#FF6692",
           "#B6E880",
           "#FF97FF",
           "#FECB52"
          ],
          "font": {
           "color": "#2a3f5f"
          },
          "geo": {
           "bgcolor": "white",
           "lakecolor": "white",
           "landcolor": "#E5ECF6",
           "showlakes": true,
           "showland": true,
           "subunitcolor": "white"
          },
          "hoverlabel": {
           "align": "left"
          },
          "hovermode": "closest",
          "mapbox": {
           "style": "light"
          },
          "paper_bgcolor": "white",
          "plot_bgcolor": "#E5ECF6",
          "polar": {
           "angularaxis": {
            "gridcolor": "white",
            "linecolor": "white",
            "ticks": ""
           },
           "bgcolor": "#E5ECF6",
           "radialaxis": {
            "gridcolor": "white",
            "linecolor": "white",
            "ticks": ""
           }
          },
          "scene": {
           "xaxis": {
            "backgroundcolor": "#E5ECF6",
            "gridcolor": "white",
            "gridwidth": 2,
            "linecolor": "white",
            "showbackground": true,
            "ticks": "",
            "zerolinecolor": "white"
           },
           "yaxis": {
            "backgroundcolor": "#E5ECF6",
            "gridcolor": "white",
            "gridwidth": 2,
            "linecolor": "white",
            "showbackground": true,
            "ticks": "",
            "zerolinecolor": "white"
           },
           "zaxis": {
            "backgroundcolor": "#E5ECF6",
            "gridcolor": "white",
            "gridwidth": 2,
            "linecolor": "white",
            "showbackground": true,
            "ticks": "",
            "zerolinecolor": "white"
           }
          },
          "shapedefaults": {
           "line": {
            "color": "#2a3f5f"
           }
          },
          "ternary": {
           "aaxis": {
            "gridcolor": "white",
            "linecolor": "white",
            "ticks": ""
           },
           "baxis": {
            "gridcolor": "white",
            "linecolor": "white",
            "ticks": ""
           },
           "bgcolor": "#E5ECF6",
           "caxis": {
            "gridcolor": "white",
            "linecolor": "white",
            "ticks": ""
           }
          },
          "title": {
           "x": 0.05
          },
          "xaxis": {
           "automargin": true,
           "gridcolor": "white",
           "linecolor": "white",
           "ticks": "",
           "title": {
            "standoff": 15
           },
           "zerolinecolor": "white",
           "zerolinewidth": 2
          },
          "yaxis": {
           "automargin": true,
           "gridcolor": "white",
           "linecolor": "white",
           "ticks": "",
           "title": {
            "standoff": 15
           },
           "zerolinecolor": "white",
           "zerolinewidth": 2
          }
         }
        },
        "title": {
         "text": "Cantidad de Restaurantes que Ofrecen Alcohol por Municipio"
        },
        "xaxis": {
         "anchor": "y",
         "domain": [
          0,
          1
         ],
         "title": {
          "text": "Municipio"
         }
        },
        "yaxis": {
         "anchor": "x",
         "domain": [
          0,
          1
         ],
         "title": {
          "text": "Número de Restaurantes"
         }
        }
       }
      }
     },
     "metadata": {},
     "output_type": "display_data"
    }
   ],
   "source": [
    "df_restaurantes = df[df['type_of_establishment'] == 'restaurante']\n",
    "def tiene_alcohol(menu):\n",
    "    if isinstance(menu.get('drinks'), dict): #Ver si 'drinks' es un dict y contiene 'alcoholic' \n",
    "        alcoholic = menu['drinks'].get('alcoholic') #Ver si 'alcoholic' es una lista y tiene elementos\n",
    "        if isinstance(alcoholic, list):\n",
    "            return len(alcoholic) > 0  # Retorna True si hay elementos en la lista\n",
    "        elif isinstance(alcoholic, bool):\n",
    "            return alcoholic\n",
    "    return False\n",
    "\n",
    "df_restaurantes['with_alcohol'] = df_restaurantes['menu'].apply(tiene_alcohol)\n",
    "resultados_alcohol = df_restaurantes[df_restaurantes['with_alcohol']].groupby('district').size().reset_index(name='count')\n",
    "\n",
    "fig_alcohol = px.bar(resultados_alcohol, \n",
    "                    x='district', \n",
    "                    y='count', \n",
    "                    color='count', \n",
    "                    barmode='group',\n",
    "                    title='Cantidad de Restaurantes que Ofrecen Alcohol por Municipio',\n",
    "                    labels={'district': 'Municipio', 'count': 'Número de Restaurantes'},\n",
    "                    text='count')\n",
    "fig_alcohol.show()"
   ]
  },
  {
   "cell_type": "code",
   "execution_count": null,
   "metadata": {},
   "outputs": [
    {
     "data": {
      "application/vnd.plotly.v1+json": {
       "config": {
        "plotlyServerURL": "https://plot.ly"
       },
       "data": [
        {
         "alignmentgroup": "True",
         "hovertemplate": "Letra Inicial=%{x}<br>Número de Restaurantes=%{marker.color}<extra></extra>",
         "legendgroup": "",
         "marker": {
          "color": [
           31,
           31,
           17,
           14,
           13,
           11,
           10,
           10,
           9,
           8,
           8,
           7,
           5,
           5,
           4,
           3,
           3,
           2,
           2,
           2,
           2,
           1,
           1,
           1,
           1
          ],
          "coloraxis": "coloraxis",
          "pattern": {
           "shape": ""
          }
         },
         "name": "",
         "offsetgroup": "",
         "orientation": "v",
         "showlegend": false,
         "text": [
          31,
          31,
          17,
          14,
          13,
          11,
          10,
          10,
          9,
          8,
          8,
          7,
          5,
          5,
          4,
          3,
          3,
          2,
          2,
          2,
          2,
          1,
          1,
          1,
          1
         ],
         "textposition": "auto",
         "type": "bar",
         "x": [
          "L",
          "E",
          "C",
          "M",
          "D",
          "R",
          "A",
          "B",
          "T",
          "F",
          "S",
          "P",
          "H",
          "J",
          "K",
          "G",
          "V",
          "Q",
          "2",
          "O",
          "I",
          "N",
          "5",
          "W",
          "Y"
         ],
         "xaxis": "x",
         "y": [
          31,
          31,
          17,
          14,
          13,
          11,
          10,
          10,
          9,
          8,
          8,
          7,
          5,
          5,
          4,
          3,
          3,
          2,
          2,
          2,
          2,
          1,
          1,
          1,
          1
         ],
         "yaxis": "y"
        }
       ],
       "layout": {
        "barmode": "group",
        "coloraxis": {
         "colorbar": {
          "title": {
           "text": "Número de Restaurantes"
          }
         },
         "colorscale": [
          [
           0,
           "#0d0887"
          ],
          [
           0.1111111111111111,
           "#46039f"
          ],
          [
           0.2222222222222222,
           "#7201a8"
          ],
          [
           0.3333333333333333,
           "#9c179e"
          ],
          [
           0.4444444444444444,
           "#bd3786"
          ],
          [
           0.5555555555555556,
           "#d8576b"
          ],
          [
           0.6666666666666666,
           "#ed7953"
          ],
          [
           0.7777777777777778,
           "#fb9f3a"
          ],
          [
           0.8888888888888888,
           "#fdca26"
          ],
          [
           1,
           "#f0f921"
          ]
         ]
        },
        "legend": {
         "tracegroupgap": 0
        },
        "template": {
         "data": {
          "bar": [
           {
            "error_x": {
             "color": "#2a3f5f"
            },
            "error_y": {
             "color": "#2a3f5f"
            },
            "marker": {
             "line": {
              "color": "#E5ECF6",
              "width": 0.5
             },
             "pattern": {
              "fillmode": "overlay",
              "size": 10,
              "solidity": 0.2
             }
            },
            "type": "bar"
           }
          ],
          "barpolar": [
           {
            "marker": {
             "line": {
              "color": "#E5ECF6",
              "width": 0.5
             },
             "pattern": {
              "fillmode": "overlay",
              "size": 10,
              "solidity": 0.2
             }
            },
            "type": "barpolar"
           }
          ],
          "carpet": [
           {
            "aaxis": {
             "endlinecolor": "#2a3f5f",
             "gridcolor": "white",
             "linecolor": "white",
             "minorgridcolor": "white",
             "startlinecolor": "#2a3f5f"
            },
            "baxis": {
             "endlinecolor": "#2a3f5f",
             "gridcolor": "white",
             "linecolor": "white",
             "minorgridcolor": "white",
             "startlinecolor": "#2a3f5f"
            },
            "type": "carpet"
           }
          ],
          "choropleth": [
           {
            "colorbar": {
             "outlinewidth": 0,
             "ticks": ""
            },
            "type": "choropleth"
           }
          ],
          "contour": [
           {
            "colorbar": {
             "outlinewidth": 0,
             "ticks": ""
            },
            "colorscale": [
             [
              0,
              "#0d0887"
             ],
             [
              0.1111111111111111,
              "#46039f"
             ],
             [
              0.2222222222222222,
              "#7201a8"
             ],
             [
              0.3333333333333333,
              "#9c179e"
             ],
             [
              0.4444444444444444,
              "#bd3786"
             ],
             [
              0.5555555555555556,
              "#d8576b"
             ],
             [
              0.6666666666666666,
              "#ed7953"
             ],
             [
              0.7777777777777778,
              "#fb9f3a"
             ],
             [
              0.8888888888888888,
              "#fdca26"
             ],
             [
              1,
              "#f0f921"
             ]
            ],
            "type": "contour"
           }
          ],
          "contourcarpet": [
           {
            "colorbar": {
             "outlinewidth": 0,
             "ticks": ""
            },
            "type": "contourcarpet"
           }
          ],
          "heatmap": [
           {
            "colorbar": {
             "outlinewidth": 0,
             "ticks": ""
            },
            "colorscale": [
             [
              0,
              "#0d0887"
             ],
             [
              0.1111111111111111,
              "#46039f"
             ],
             [
              0.2222222222222222,
              "#7201a8"
             ],
             [
              0.3333333333333333,
              "#9c179e"
             ],
             [
              0.4444444444444444,
              "#bd3786"
             ],
             [
              0.5555555555555556,
              "#d8576b"
             ],
             [
              0.6666666666666666,
              "#ed7953"
             ],
             [
              0.7777777777777778,
              "#fb9f3a"
             ],
             [
              0.8888888888888888,
              "#fdca26"
             ],
             [
              1,
              "#f0f921"
             ]
            ],
            "type": "heatmap"
           }
          ],
          "heatmapgl": [
           {
            "colorbar": {
             "outlinewidth": 0,
             "ticks": ""
            },
            "colorscale": [
             [
              0,
              "#0d0887"
             ],
             [
              0.1111111111111111,
              "#46039f"
             ],
             [
              0.2222222222222222,
              "#7201a8"
             ],
             [
              0.3333333333333333,
              "#9c179e"
             ],
             [
              0.4444444444444444,
              "#bd3786"
             ],
             [
              0.5555555555555556,
              "#d8576b"
             ],
             [
              0.6666666666666666,
              "#ed7953"
             ],
             [
              0.7777777777777778,
              "#fb9f3a"
             ],
             [
              0.8888888888888888,
              "#fdca26"
             ],
             [
              1,
              "#f0f921"
             ]
            ],
            "type": "heatmapgl"
           }
          ],
          "histogram": [
           {
            "marker": {
             "pattern": {
              "fillmode": "overlay",
              "size": 10,
              "solidity": 0.2
             }
            },
            "type": "histogram"
           }
          ],
          "histogram2d": [
           {
            "colorbar": {
             "outlinewidth": 0,
             "ticks": ""
            },
            "colorscale": [
             [
              0,
              "#0d0887"
             ],
             [
              0.1111111111111111,
              "#46039f"
             ],
             [
              0.2222222222222222,
              "#7201a8"
             ],
             [
              0.3333333333333333,
              "#9c179e"
             ],
             [
              0.4444444444444444,
              "#bd3786"
             ],
             [
              0.5555555555555556,
              "#d8576b"
             ],
             [
              0.6666666666666666,
              "#ed7953"
             ],
             [
              0.7777777777777778,
              "#fb9f3a"
             ],
             [
              0.8888888888888888,
              "#fdca26"
             ],
             [
              1,
              "#f0f921"
             ]
            ],
            "type": "histogram2d"
           }
          ],
          "histogram2dcontour": [
           {
            "colorbar": {
             "outlinewidth": 0,
             "ticks": ""
            },
            "colorscale": [
             [
              0,
              "#0d0887"
             ],
             [
              0.1111111111111111,
              "#46039f"
             ],
             [
              0.2222222222222222,
              "#7201a8"
             ],
             [
              0.3333333333333333,
              "#9c179e"
             ],
             [
              0.4444444444444444,
              "#bd3786"
             ],
             [
              0.5555555555555556,
              "#d8576b"
             ],
             [
              0.6666666666666666,
              "#ed7953"
             ],
             [
              0.7777777777777778,
              "#fb9f3a"
             ],
             [
              0.8888888888888888,
              "#fdca26"
             ],
             [
              1,
              "#f0f921"
             ]
            ],
            "type": "histogram2dcontour"
           }
          ],
          "mesh3d": [
           {
            "colorbar": {
             "outlinewidth": 0,
             "ticks": ""
            },
            "type": "mesh3d"
           }
          ],
          "parcoords": [
           {
            "line": {
             "colorbar": {
              "outlinewidth": 0,
              "ticks": ""
             }
            },
            "type": "parcoords"
           }
          ],
          "pie": [
           {
            "automargin": true,
            "type": "pie"
           }
          ],
          "scatter": [
           {
            "fillpattern": {
             "fillmode": "overlay",
             "size": 10,
             "solidity": 0.2
            },
            "type": "scatter"
           }
          ],
          "scatter3d": [
           {
            "line": {
             "colorbar": {
              "outlinewidth": 0,
              "ticks": ""
             }
            },
            "marker": {
             "colorbar": {
              "outlinewidth": 0,
              "ticks": ""
             }
            },
            "type": "scatter3d"
           }
          ],
          "scattercarpet": [
           {
            "marker": {
             "colorbar": {
              "outlinewidth": 0,
              "ticks": ""
             }
            },
            "type": "scattercarpet"
           }
          ],
          "scattergeo": [
           {
            "marker": {
             "colorbar": {
              "outlinewidth": 0,
              "ticks": ""
             }
            },
            "type": "scattergeo"
           }
          ],
          "scattergl": [
           {
            "marker": {
             "colorbar": {
              "outlinewidth": 0,
              "ticks": ""
             }
            },
            "type": "scattergl"
           }
          ],
          "scattermapbox": [
           {
            "marker": {
             "colorbar": {
              "outlinewidth": 0,
              "ticks": ""
             }
            },
            "type": "scattermapbox"
           }
          ],
          "scatterpolar": [
           {
            "marker": {
             "colorbar": {
              "outlinewidth": 0,
              "ticks": ""
             }
            },
            "type": "scatterpolar"
           }
          ],
          "scatterpolargl": [
           {
            "marker": {
             "colorbar": {
              "outlinewidth": 0,
              "ticks": ""
             }
            },
            "type": "scatterpolargl"
           }
          ],
          "scatterternary": [
           {
            "marker": {
             "colorbar": {
              "outlinewidth": 0,
              "ticks": ""
             }
            },
            "type": "scatterternary"
           }
          ],
          "surface": [
           {
            "colorbar": {
             "outlinewidth": 0,
             "ticks": ""
            },
            "colorscale": [
             [
              0,
              "#0d0887"
             ],
             [
              0.1111111111111111,
              "#46039f"
             ],
             [
              0.2222222222222222,
              "#7201a8"
             ],
             [
              0.3333333333333333,
              "#9c179e"
             ],
             [
              0.4444444444444444,
              "#bd3786"
             ],
             [
              0.5555555555555556,
              "#d8576b"
             ],
             [
              0.6666666666666666,
              "#ed7953"
             ],
             [
              0.7777777777777778,
              "#fb9f3a"
             ],
             [
              0.8888888888888888,
              "#fdca26"
             ],
             [
              1,
              "#f0f921"
             ]
            ],
            "type": "surface"
           }
          ],
          "table": [
           {
            "cells": {
             "fill": {
              "color": "#EBF0F8"
             },
             "line": {
              "color": "white"
             }
            },
            "header": {
             "fill": {
              "color": "#C8D4E3"
             },
             "line": {
              "color": "white"
             }
            },
            "type": "table"
           }
          ]
         },
         "layout": {
          "annotationdefaults": {
           "arrowcolor": "#2a3f5f",
           "arrowhead": 0,
           "arrowwidth": 1
          },
          "autotypenumbers": "strict",
          "coloraxis": {
           "colorbar": {
            "outlinewidth": 0,
            "ticks": ""
           }
          },
          "colorscale": {
           "diverging": [
            [
             0,
             "#8e0152"
            ],
            [
             0.1,
             "#c51b7d"
            ],
            [
             0.2,
             "#de77ae"
            ],
            [
             0.3,
             "#f1b6da"
            ],
            [
             0.4,
             "#fde0ef"
            ],
            [
             0.5,
             "#f7f7f7"
            ],
            [
             0.6,
             "#e6f5d0"
            ],
            [
             0.7,
             "#b8e186"
            ],
            [
             0.8,
             "#7fbc41"
            ],
            [
             0.9,
             "#4d9221"
            ],
            [
             1,
             "#276419"
            ]
           ],
           "sequential": [
            [
             0,
             "#0d0887"
            ],
            [
             0.1111111111111111,
             "#46039f"
            ],
            [
             0.2222222222222222,
             "#7201a8"
            ],
            [
             0.3333333333333333,
             "#9c179e"
            ],
            [
             0.4444444444444444,
             "#bd3786"
            ],
            [
             0.5555555555555556,
             "#d8576b"
            ],
            [
             0.6666666666666666,
             "#ed7953"
            ],
            [
             0.7777777777777778,
             "#fb9f3a"
            ],
            [
             0.8888888888888888,
             "#fdca26"
            ],
            [
             1,
             "#f0f921"
            ]
           ],
           "sequentialminus": [
            [
             0,
             "#0d0887"
            ],
            [
             0.1111111111111111,
             "#46039f"
            ],
            [
             0.2222222222222222,
             "#7201a8"
            ],
            [
             0.3333333333333333,
             "#9c179e"
            ],
            [
             0.4444444444444444,
             "#bd3786"
            ],
            [
             0.5555555555555556,
             "#d8576b"
            ],
            [
             0.6666666666666666,
             "#ed7953"
            ],
            [
             0.7777777777777778,
             "#fb9f3a"
            ],
            [
             0.8888888888888888,
             "#fdca26"
            ],
            [
             1,
             "#f0f921"
            ]
           ]
          },
          "colorway": [
           "#636efa",
           "#EF553B",
           "#00cc96",
           "#ab63fa",
           "#FFA15A",
           "#19d3f3",
           "#FF6692",
           "#B6E880",
           "#FF97FF",
           "#FECB52"
          ],
          "font": {
           "color": "#2a3f5f"
          },
          "geo": {
           "bgcolor": "white",
           "lakecolor": "white",
           "landcolor": "#E5ECF6",
           "showlakes": true,
           "showland": true,
           "subunitcolor": "white"
          },
          "hoverlabel": {
           "align": "left"
          },
          "hovermode": "closest",
          "mapbox": {
           "style": "light"
          },
          "paper_bgcolor": "white",
          "plot_bgcolor": "#E5ECF6",
          "polar": {
           "angularaxis": {
            "gridcolor": "white",
            "linecolor": "white",
            "ticks": ""
           },
           "bgcolor": "#E5ECF6",
           "radialaxis": {
            "gridcolor": "white",
            "linecolor": "white",
            "ticks": ""
           }
          },
          "scene": {
           "xaxis": {
            "backgroundcolor": "#E5ECF6",
            "gridcolor": "white",
            "gridwidth": 2,
            "linecolor": "white",
            "showbackground": true,
            "ticks": "",
            "zerolinecolor": "white"
           },
           "yaxis": {
            "backgroundcolor": "#E5ECF6",
            "gridcolor": "white",
            "gridwidth": 2,
            "linecolor": "white",
            "showbackground": true,
            "ticks": "",
            "zerolinecolor": "white"
           },
           "zaxis": {
            "backgroundcolor": "#E5ECF6",
            "gridcolor": "white",
            "gridwidth": 2,
            "linecolor": "white",
            "showbackground": true,
            "ticks": "",
            "zerolinecolor": "white"
           }
          },
          "shapedefaults": {
           "line": {
            "color": "#2a3f5f"
           }
          },
          "ternary": {
           "aaxis": {
            "gridcolor": "white",
            "linecolor": "white",
            "ticks": ""
           },
           "baxis": {
            "gridcolor": "white",
            "linecolor": "white",
            "ticks": ""
           },
           "bgcolor": "#E5ECF6",
           "caxis": {
            "gridcolor": "white",
            "linecolor": "white",
            "ticks": ""
           }
          },
          "title": {
           "x": 0.05
          },
          "xaxis": {
           "automargin": true,
           "gridcolor": "white",
           "linecolor": "white",
           "ticks": "",
           "title": {
            "standoff": 15
           },
           "zerolinecolor": "white",
           "zerolinewidth": 2
          },
          "yaxis": {
           "automargin": true,
           "gridcolor": "white",
           "linecolor": "white",
           "ticks": "",
           "title": {
            "standoff": 15
           },
           "zerolinecolor": "white",
           "zerolinewidth": 2
          }
         }
        },
        "title": {
         "text": "Cantidad de Restaurantes por Letra Inicial del Nombre"
        },
        "xaxis": {
         "anchor": "y",
         "domain": [
          0,
          1
         ],
         "title": {
          "text": "Letra Inicial"
         }
        },
        "yaxis": {
         "anchor": "x",
         "domain": [
          0,
          1
         ],
         "title": {
          "text": "Número de Restaurantes"
         }
        }
       }
      }
     },
     "metadata": {},
     "output_type": "display_data"
    }
   ],
   "source": [
    "df['first_letter'] = df['name'].str[0].str.upper()\n",
    "\n",
    "letra_counts = df['first_letter'].value_counts().reset_index()\n",
    "letra_counts.columns = ['first_letter', 'count']\n",
    "\n",
    "fig = px.bar(letra_counts, \n",
    "            x='first_letter', \n",
    "            y='count', \n",
    "            color='count', \n",
    "            barmode='group',\n",
    "            title='Cantidad de Restaurantes por Letra Inicial del Nombre',\n",
    "            labels={'first_letter': 'Letra Inicial', 'count': 'Número de Restaurantes'},\n",
    "            text='count')\n",
    "fig.show()"
   ]
  },
  {
   "cell_type": "code",
   "execution_count": 99,
   "metadata": {},
   "outputs": [
    {
     "data": {
      "application/vnd.plotly.v1+json": {
       "config": {
        "plotlyServerURL": "https://plot.ly"
       },
       "data": [
        {
         "alignmentgroup": "True",
         "hovertemplate": "Calificación=%{marker.color}<br>Nombre del Restaurante=%{y}<extra></extra>",
         "legendgroup": "",
         "marker": {
          "color": [
           4,
           4.5,
           4,
           5,
           3.1,
           5,
           4,
           4.5,
           5,
           3.7,
           3.5,
           5,
           5,
           4,
           4,
           5,
           4.5,
           4.5
          ],
          "coloraxis": "coloraxis",
          "pattern": {
           "shape": ""
          }
         },
         "name": "",
         "offsetgroup": "",
         "orientation": "h",
         "showlegend": false,
         "textposition": "auto",
         "type": "bar",
         "x": [
          4,
          4.5,
          4,
          5,
          3.1,
          5,
          4,
          4.5,
          5,
          3.7,
          3.5,
          5,
          5,
          4,
          4,
          5,
          4.5,
          4.5
         ],
         "xaxis": "x",
         "y": [
          "Atlanta",
          "Beirut",
          "Brutal Habana",
          "Crystal",
          "Doping pizza",
          "Fellini",
          "Food Master",
          "Habana Blues",
          "Habana Tokio",
          "Home Deli",
          "Mercy bar",
          "Mythos",
          "Polo",
          "Rodney",
          "Sport Bar",
          "The Place",
          "Toros y Tapas",
          "Yesterday Havana"
         ],
         "yaxis": "y"
        }
       ],
       "layout": {
        "barmode": "relative",
        "coloraxis": {
         "colorbar": {
          "title": {
           "text": "Calificación"
          }
         },
         "colorscale": [
          [
           0,
           "#440154"
          ],
          [
           0.1111111111111111,
           "#482878"
          ],
          [
           0.2222222222222222,
           "#3e4989"
          ],
          [
           0.3333333333333333,
           "#31688e"
          ],
          [
           0.4444444444444444,
           "#26828e"
          ],
          [
           0.5555555555555556,
           "#1f9e89"
          ],
          [
           0.6666666666666666,
           "#35b779"
          ],
          [
           0.7777777777777778,
           "#6ece58"
          ],
          [
           0.8888888888888888,
           "#b5de2b"
          ],
          [
           1,
           "#fde725"
          ]
         ]
        },
        "legend": {
         "tracegroupgap": 0
        },
        "template": {
         "data": {
          "bar": [
           {
            "error_x": {
             "color": "#2a3f5f"
            },
            "error_y": {
             "color": "#2a3f5f"
            },
            "marker": {
             "line": {
              "color": "#E5ECF6",
              "width": 0.5
             },
             "pattern": {
              "fillmode": "overlay",
              "size": 10,
              "solidity": 0.2
             }
            },
            "type": "bar"
           }
          ],
          "barpolar": [
           {
            "marker": {
             "line": {
              "color": "#E5ECF6",
              "width": 0.5
             },
             "pattern": {
              "fillmode": "overlay",
              "size": 10,
              "solidity": 0.2
             }
            },
            "type": "barpolar"
           }
          ],
          "carpet": [
           {
            "aaxis": {
             "endlinecolor": "#2a3f5f",
             "gridcolor": "white",
             "linecolor": "white",
             "minorgridcolor": "white",
             "startlinecolor": "#2a3f5f"
            },
            "baxis": {
             "endlinecolor": "#2a3f5f",
             "gridcolor": "white",
             "linecolor": "white",
             "minorgridcolor": "white",
             "startlinecolor": "#2a3f5f"
            },
            "type": "carpet"
           }
          ],
          "choropleth": [
           {
            "colorbar": {
             "outlinewidth": 0,
             "ticks": ""
            },
            "type": "choropleth"
           }
          ],
          "contour": [
           {
            "colorbar": {
             "outlinewidth": 0,
             "ticks": ""
            },
            "colorscale": [
             [
              0,
              "#0d0887"
             ],
             [
              0.1111111111111111,
              "#46039f"
             ],
             [
              0.2222222222222222,
              "#7201a8"
             ],
             [
              0.3333333333333333,
              "#9c179e"
             ],
             [
              0.4444444444444444,
              "#bd3786"
             ],
             [
              0.5555555555555556,
              "#d8576b"
             ],
             [
              0.6666666666666666,
              "#ed7953"
             ],
             [
              0.7777777777777778,
              "#fb9f3a"
             ],
             [
              0.8888888888888888,
              "#fdca26"
             ],
             [
              1,
              "#f0f921"
             ]
            ],
            "type": "contour"
           }
          ],
          "contourcarpet": [
           {
            "colorbar": {
             "outlinewidth": 0,
             "ticks": ""
            },
            "type": "contourcarpet"
           }
          ],
          "heatmap": [
           {
            "colorbar": {
             "outlinewidth": 0,
             "ticks": ""
            },
            "colorscale": [
             [
              0,
              "#0d0887"
             ],
             [
              0.1111111111111111,
              "#46039f"
             ],
             [
              0.2222222222222222,
              "#7201a8"
             ],
             [
              0.3333333333333333,
              "#9c179e"
             ],
             [
              0.4444444444444444,
              "#bd3786"
             ],
             [
              0.5555555555555556,
              "#d8576b"
             ],
             [
              0.6666666666666666,
              "#ed7953"
             ],
             [
              0.7777777777777778,
              "#fb9f3a"
             ],
             [
              0.8888888888888888,
              "#fdca26"
             ],
             [
              1,
              "#f0f921"
             ]
            ],
            "type": "heatmap"
           }
          ],
          "heatmapgl": [
           {
            "colorbar": {
             "outlinewidth": 0,
             "ticks": ""
            },
            "colorscale": [
             [
              0,
              "#0d0887"
             ],
             [
              0.1111111111111111,
              "#46039f"
             ],
             [
              0.2222222222222222,
              "#7201a8"
             ],
             [
              0.3333333333333333,
              "#9c179e"
             ],
             [
              0.4444444444444444,
              "#bd3786"
             ],
             [
              0.5555555555555556,
              "#d8576b"
             ],
             [
              0.6666666666666666,
              "#ed7953"
             ],
             [
              0.7777777777777778,
              "#fb9f3a"
             ],
             [
              0.8888888888888888,
              "#fdca26"
             ],
             [
              1,
              "#f0f921"
             ]
            ],
            "type": "heatmapgl"
           }
          ],
          "histogram": [
           {
            "marker": {
             "pattern": {
              "fillmode": "overlay",
              "size": 10,
              "solidity": 0.2
             }
            },
            "type": "histogram"
           }
          ],
          "histogram2d": [
           {
            "colorbar": {
             "outlinewidth": 0,
             "ticks": ""
            },
            "colorscale": [
             [
              0,
              "#0d0887"
             ],
             [
              0.1111111111111111,
              "#46039f"
             ],
             [
              0.2222222222222222,
              "#7201a8"
             ],
             [
              0.3333333333333333,
              "#9c179e"
             ],
             [
              0.4444444444444444,
              "#bd3786"
             ],
             [
              0.5555555555555556,
              "#d8576b"
             ],
             [
              0.6666666666666666,
              "#ed7953"
             ],
             [
              0.7777777777777778,
              "#fb9f3a"
             ],
             [
              0.8888888888888888,
              "#fdca26"
             ],
             [
              1,
              "#f0f921"
             ]
            ],
            "type": "histogram2d"
           }
          ],
          "histogram2dcontour": [
           {
            "colorbar": {
             "outlinewidth": 0,
             "ticks": ""
            },
            "colorscale": [
             [
              0,
              "#0d0887"
             ],
             [
              0.1111111111111111,
              "#46039f"
             ],
             [
              0.2222222222222222,
              "#7201a8"
             ],
             [
              0.3333333333333333,
              "#9c179e"
             ],
             [
              0.4444444444444444,
              "#bd3786"
             ],
             [
              0.5555555555555556,
              "#d8576b"
             ],
             [
              0.6666666666666666,
              "#ed7953"
             ],
             [
              0.7777777777777778,
              "#fb9f3a"
             ],
             [
              0.8888888888888888,
              "#fdca26"
             ],
             [
              1,
              "#f0f921"
             ]
            ],
            "type": "histogram2dcontour"
           }
          ],
          "mesh3d": [
           {
            "colorbar": {
             "outlinewidth": 0,
             "ticks": ""
            },
            "type": "mesh3d"
           }
          ],
          "parcoords": [
           {
            "line": {
             "colorbar": {
              "outlinewidth": 0,
              "ticks": ""
             }
            },
            "type": "parcoords"
           }
          ],
          "pie": [
           {
            "automargin": true,
            "type": "pie"
           }
          ],
          "scatter": [
           {
            "fillpattern": {
             "fillmode": "overlay",
             "size": 10,
             "solidity": 0.2
            },
            "type": "scatter"
           }
          ],
          "scatter3d": [
           {
            "line": {
             "colorbar": {
              "outlinewidth": 0,
              "ticks": ""
             }
            },
            "marker": {
             "colorbar": {
              "outlinewidth": 0,
              "ticks": ""
             }
            },
            "type": "scatter3d"
           }
          ],
          "scattercarpet": [
           {
            "marker": {
             "colorbar": {
              "outlinewidth": 0,
              "ticks": ""
             }
            },
            "type": "scattercarpet"
           }
          ],
          "scattergeo": [
           {
            "marker": {
             "colorbar": {
              "outlinewidth": 0,
              "ticks": ""
             }
            },
            "type": "scattergeo"
           }
          ],
          "scattergl": [
           {
            "marker": {
             "colorbar": {
              "outlinewidth": 0,
              "ticks": ""
             }
            },
            "type": "scattergl"
           }
          ],
          "scattermapbox": [
           {
            "marker": {
             "colorbar": {
              "outlinewidth": 0,
              "ticks": ""
             }
            },
            "type": "scattermapbox"
           }
          ],
          "scatterpolar": [
           {
            "marker": {
             "colorbar": {
              "outlinewidth": 0,
              "ticks": ""
             }
            },
            "type": "scatterpolar"
           }
          ],
          "scatterpolargl": [
           {
            "marker": {
             "colorbar": {
              "outlinewidth": 0,
              "ticks": ""
             }
            },
            "type": "scatterpolargl"
           }
          ],
          "scatterternary": [
           {
            "marker": {
             "colorbar": {
              "outlinewidth": 0,
              "ticks": ""
             }
            },
            "type": "scatterternary"
           }
          ],
          "surface": [
           {
            "colorbar": {
             "outlinewidth": 0,
             "ticks": ""
            },
            "colorscale": [
             [
              0,
              "#0d0887"
             ],
             [
              0.1111111111111111,
              "#46039f"
             ],
             [
              0.2222222222222222,
              "#7201a8"
             ],
             [
              0.3333333333333333,
              "#9c179e"
             ],
             [
              0.4444444444444444,
              "#bd3786"
             ],
             [
              0.5555555555555556,
              "#d8576b"
             ],
             [
              0.6666666666666666,
              "#ed7953"
             ],
             [
              0.7777777777777778,
              "#fb9f3a"
             ],
             [
              0.8888888888888888,
              "#fdca26"
             ],
             [
              1,
              "#f0f921"
             ]
            ],
            "type": "surface"
           }
          ],
          "table": [
           {
            "cells": {
             "fill": {
              "color": "#EBF0F8"
             },
             "line": {
              "color": "white"
             }
            },
            "header": {
             "fill": {
              "color": "#C8D4E3"
             },
             "line": {
              "color": "white"
             }
            },
            "type": "table"
           }
          ]
         },
         "layout": {
          "annotationdefaults": {
           "arrowcolor": "#2a3f5f",
           "arrowhead": 0,
           "arrowwidth": 1
          },
          "autotypenumbers": "strict",
          "coloraxis": {
           "colorbar": {
            "outlinewidth": 0,
            "ticks": ""
           }
          },
          "colorscale": {
           "diverging": [
            [
             0,
             "#8e0152"
            ],
            [
             0.1,
             "#c51b7d"
            ],
            [
             0.2,
             "#de77ae"
            ],
            [
             0.3,
             "#f1b6da"
            ],
            [
             0.4,
             "#fde0ef"
            ],
            [
             0.5,
             "#f7f7f7"
            ],
            [
             0.6,
             "#e6f5d0"
            ],
            [
             0.7,
             "#b8e186"
            ],
            [
             0.8,
             "#7fbc41"
            ],
            [
             0.9,
             "#4d9221"
            ],
            [
             1,
             "#276419"
            ]
           ],
           "sequential": [
            [
             0,
             "#0d0887"
            ],
            [
             0.1111111111111111,
             "#46039f"
            ],
            [
             0.2222222222222222,
             "#7201a8"
            ],
            [
             0.3333333333333333,
             "#9c179e"
            ],
            [
             0.4444444444444444,
             "#bd3786"
            ],
            [
             0.5555555555555556,
             "#d8576b"
            ],
            [
             0.6666666666666666,
             "#ed7953"
            ],
            [
             0.7777777777777778,
             "#fb9f3a"
            ],
            [
             0.8888888888888888,
             "#fdca26"
            ],
            [
             1,
             "#f0f921"
            ]
           ],
           "sequentialminus": [
            [
             0,
             "#0d0887"
            ],
            [
             0.1111111111111111,
             "#46039f"
            ],
            [
             0.2222222222222222,
             "#7201a8"
            ],
            [
             0.3333333333333333,
             "#9c179e"
            ],
            [
             0.4444444444444444,
             "#bd3786"
            ],
            [
             0.5555555555555556,
             "#d8576b"
            ],
            [
             0.6666666666666666,
             "#ed7953"
            ],
            [
             0.7777777777777778,
             "#fb9f3a"
            ],
            [
             0.8888888888888888,
             "#fdca26"
            ],
            [
             1,
             "#f0f921"
            ]
           ]
          },
          "colorway": [
           "#636efa",
           "#EF553B",
           "#00cc96",
           "#ab63fa",
           "#FFA15A",
           "#19d3f3",
           "#FF6692",
           "#B6E880",
           "#FF97FF",
           "#FECB52"
          ],
          "font": {
           "color": "#2a3f5f"
          },
          "geo": {
           "bgcolor": "white",
           "lakecolor": "white",
           "landcolor": "#E5ECF6",
           "showlakes": true,
           "showland": true,
           "subunitcolor": "white"
          },
          "hoverlabel": {
           "align": "left"
          },
          "hovermode": "closest",
          "mapbox": {
           "style": "light"
          },
          "paper_bgcolor": "white",
          "plot_bgcolor": "#E5ECF6",
          "polar": {
           "angularaxis": {
            "gridcolor": "white",
            "linecolor": "white",
            "ticks": ""
           },
           "bgcolor": "#E5ECF6",
           "radialaxis": {
            "gridcolor": "white",
            "linecolor": "white",
            "ticks": ""
           }
          },
          "scene": {
           "xaxis": {
            "backgroundcolor": "#E5ECF6",
            "gridcolor": "white",
            "gridwidth": 2,
            "linecolor": "white",
            "showbackground": true,
            "ticks": "",
            "zerolinecolor": "white"
           },
           "yaxis": {
            "backgroundcolor": "#E5ECF6",
            "gridcolor": "white",
            "gridwidth": 2,
            "linecolor": "white",
            "showbackground": true,
            "ticks": "",
            "zerolinecolor": "white"
           },
           "zaxis": {
            "backgroundcolor": "#E5ECF6",
            "gridcolor": "white",
            "gridwidth": 2,
            "linecolor": "white",
            "showbackground": true,
            "ticks": "",
            "zerolinecolor": "white"
           }
          },
          "shapedefaults": {
           "line": {
            "color": "#2a3f5f"
           }
          },
          "ternary": {
           "aaxis": {
            "gridcolor": "white",
            "linecolor": "white",
            "ticks": ""
           },
           "baxis": {
            "gridcolor": "white",
            "linecolor": "white",
            "ticks": ""
           },
           "bgcolor": "#E5ECF6",
           "caxis": {
            "gridcolor": "white",
            "linecolor": "white",
            "ticks": ""
           }
          },
          "title": {
           "x": 0.05
          },
          "xaxis": {
           "automargin": true,
           "gridcolor": "white",
           "linecolor": "white",
           "ticks": "",
           "title": {
            "standoff": 15
           },
           "zerolinecolor": "white",
           "zerolinewidth": 2
          },
          "yaxis": {
           "automargin": true,
           "gridcolor": "white",
           "linecolor": "white",
           "ticks": "",
           "title": {
            "standoff": 15
           },
           "zerolinecolor": "white",
           "zerolinewidth": 2
          }
         }
        },
        "title": {
         "text": "Calificaciones de Restaurantes con Nombres en Inglés"
        },
        "xaxis": {
         "anchor": "y",
         "domain": [
          0,
          1
         ],
         "title": {
          "text": "Calificación"
         }
        },
        "yaxis": {
         "anchor": "x",
         "domain": [
          0,
          1
         ],
         "title": {
          "text": "Nombre del Restaurante"
         }
        }
       }
      }
     },
     "metadata": {},
     "output_type": "display_data"
    }
   ],
   "source": [
    "def load_dict(ruta_dict):\n",
    "    with open(ruta_dict, 'r', encoding='utf-8') as f:\n",
    "        return set(word.strip().lower() for word in f.readlines())\n",
    "\n",
    "ruta_dict = 'C:/Users/andre/Desktop/Chill_Havana_Project/ext_files/words.txt' \n",
    "\n",
    "def es_nombre_en_ingles(nombre):\n",
    "    palabras = nombre.lower().split() # Divide el nombre y ve si cada palabra está en el diccionario\n",
    "    resultados = [palabra for palabra in palabras if palabra not in diccionario_ingles] \n",
    "    #se guarda en resultados aquellas palabras que no estan en el dict\n",
    "    if resultados:\n",
    "        return False\n",
    "    return len(resultados) == 0 #True si resultados esta vacio (todas las palabras estan en el dict)\n",
    "\n",
    "df['english_name'] = df['name'].apply(es_nombre_en_ingles)\n",
    "resultados_ingles = df[df['english_name']]\n",
    "resultados_ingles_rating = resultados_ingles[resultados_ingles['rating'].notna()]\n",
    "\n",
    "fig = px.bar(resultados_ingles_rating, \n",
    "            x='rating', \n",
    "            y='name', \n",
    "            orientation='h', \n",
    "            title='Calificaciones de Restaurantes con Nombres en Inglés',\n",
    "            labels={'name': 'Nombre del Restaurante', 'rating': 'Calificación'},\n",
    "            color='rating',\n",
    "            color_continuous_scale=px.colors.sequential.Viridis)\n",
    "fig.show()"
   ]
  },
  {
   "cell_type": "code",
   "execution_count": 61,
   "metadata": {},
   "outputs": [
    {
     "name": "stdout",
     "output_type": "stream",
     "text": [
      "La palabra que más repetida en los nombres es 'café', con un total de 13 veces.\n"
     ]
    }
   ],
   "source": [
    "todas_las_palabras = []\n",
    "for nombre in df['name']:\n",
    "    palabras = nombre.lower().split()\n",
    "    todas_las_palabras.extend(palabras)\n",
    "\n",
    "descartadas = [\"la\", \"el\", \"de\"]\n",
    "\n",
    "frecuencia_palabras = {}\n",
    "for palabra in todas_las_palabras:\n",
    "    if palabra in frecuencia_palabras and palabra not in descartadas:\n",
    "        frecuencia_palabras[palabra] += 1\n",
    "    else:\n",
    "        frecuencia_palabras[palabra] = 1\n",
    "\n",
    "palabra_mas_comun = None\n",
    "conteo_maximo = 0\n",
    "\n",
    "for palabra, conteo in frecuencia_palabras.items():\n",
    "    if conteo > conteo_maximo:\n",
    "        conteo_maximo = conteo\n",
    "        palabra_mas_comun = palabra\n",
    "\n",
    "print(f\"La palabra que más repetida en los nombres es '{palabra_mas_comun}', con un total de {conteo_maximo} veces.\")"
   ]
  },
  {
   "cell_type": "code",
   "execution_count": null,
   "metadata": {},
   "outputs": [
    {
     "name": "stdout",
     "output_type": "stream",
     "text": [
      "                municipio   plato  precio_minimo  precio_maximo\n",
      "0                 La Lisa  helado            550            600\n",
      "1  Plaza de la Revolución  helado            260            600\n",
      "2                   Playa  helado            150           2000\n",
      "3         La Habana Vieja  helado            500            500\n",
      "4           Centro Habana  helado            150            150\n",
      "5                 Boyeros  helado            280            930\n",
      "6                 Cotorro  helado            320            320\n",
      "7         Diez de Octubre  helado            200           2000\n"
     ]
    }
   ],
   "source": [
    "def check_price_range(aux, plato): \n",
    "    precios = []\n",
    "    for i in aux:\n",
    "        if i != \"drinks\" and i != \"special_offers\":\n",
    "            if aux[i]:\n",
    "                for j in aux[i][\"items\"]:\n",
    "                    if (\n",
    "                        j[\"name\"].lower().strip().find(plato.lower().strip()) != -1\n",
    "                    ):\n",
    "                        precios.append(j[\"price\"])\n",
    "    return precios\n",
    "\n",
    "def filter_price_range(_df, plato):\n",
    "    municipios = _df['district'].unique()  # Obtener todos los municipios\n",
    "    resultados = []\n",
    "\n",
    "    for municipio in municipios:\n",
    "        aux = _df[_df['district'] == municipio]  # Filtrar por municipio\n",
    "        if len(aux) == 0:\n",
    "            continue\n",
    "        \n",
    "        precios = [] #Obtener precios\n",
    "        for index, row in aux.iterrows():\n",
    "            precios += check_price_range(row['menu'], plato)\n",
    "            \n",
    "        if precios:  # Si hay precios encontrados\n",
    "            min_price = min(precios)\n",
    "            max_price = max(precios)\n",
    "            resultados.append({\n",
    "                'municipio': municipio,\n",
    "                'plato': plato,\n",
    "                'precio_minimo': min_price,\n",
    "                'precio_maximo': max_price\n",
    "            })\n",
    "\n",
    "    return pd.DataFrame(resultados) if resultados else \"No hay resultados\"\n",
    "\n",
    "#Ejemplo\n",
    "resultados = filter_price_range(most_access, \"helado\") \n",
    "print(resultados)"
   ]
  }
 ],
 "metadata": {
  "kernelspec": {
   "display_name": "base",
   "language": "python",
   "name": "python3"
  },
  "language_info": {
   "codemirror_mode": {
    "name": "ipython",
    "version": 3
   },
   "file_extension": ".py",
   "mimetype": "text/x-python",
   "name": "python",
   "nbconvert_exporter": "python",
   "pygments_lexer": "ipython3",
   "version": "3.12.7"
  }
 },
 "nbformat": 4,
 "nbformat_minor": 2
}
